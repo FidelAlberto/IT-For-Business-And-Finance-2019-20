{
 "cells": [
  {
   "cell_type": "markdown",
   "metadata": {},
   "source": [
    "# Derivatives Analytics - Objects Composition"
   ]
  },
  {
   "cell_type": "markdown",
   "metadata": {},
   "source": [
    "**Author**: [Gabriele Pompa](https://www.linkedin.com/in/gabrielepompa/): gabriele.pompa@unisi.com"
   ]
  },
  {
   "cell_type": "markdown",
   "metadata": {},
   "source": [
    "# Table of contents\n",
    "\n",
    "[Executive Summary](#executive-summary)\n",
    "\n",
    "**TODO**"
   ]
  },
  {
   "cell_type": "markdown",
   "metadata": {},
   "source": [
    "### **Resources**: \n",
    "\n",
    "- [_Python for Finance (2nd ed.)_](http://shop.oreilly.com/product/0636920117728.do): Chapter 6 Object-Oriented Programming.\n",
    "\n",
    "\n",
    "- [Object-Oriented Programming in Python](https://python-textbok.readthedocs.io/en/1.0/index.html): Section [Object-oriented programming](https://python-textbok.readthedocs.io/en/1.0/Object_Oriented_Programming.html)\n",
    "\n"
   ]
  },
  {
   "cell_type": "markdown",
   "metadata": {},
   "source": [
    "# Executive Summary <a name=\"executive-summary\"></a>"
   ]
  },
  {
   "cell_type": "markdown",
   "metadata": {},
   "source": [
    "**Make intro**"
   ]
  },
  {
   "cell_type": "markdown",
   "metadata": {},
   "source": [
    "The following sections are organized as follows:\n",
    "\n",
    "- **TODO**"
   ]
  },
  {
   "cell_type": "markdown",
   "metadata": {},
   "source": [
    "These are the basic imports"
   ]
  },
  {
   "cell_type": "code",
   "execution_count": null,
   "metadata": {},
   "outputs": [],
   "source": [
    "# for NumPy arrays\n",
    "import numpy as np\n",
    "\n",
    "# for Pandas Series and DataFrame\n",
    "import pandas as pd\n",
    "\n",
    "# for statistical functions\n",
    "from scipy import stats\n",
    "\n",
    "# for Matplotlib plotting\n",
    "import matplotlib.pyplot as plt\n",
    "\n",
    "# to do inline plots in the Notebook\n",
    "%matplotlib inline\n",
    "\n",
    "# for Operating System operations\n",
    "import os\n",
    "\n",
    "# for some mathematical functions\n",
    "import math\n",
    "\n",
    "# for date management\n",
    "import datetime as dt"
   ]
  },
  {
   "cell_type": "markdown",
   "metadata": {},
   "source": [
    "If you want to toggle line numbers of a single code cell, [press `CTRL`-`M` followed by `L`](https://stackoverflow.com/a/10986483/2533366). If you want to toggle line numbers of all code cells of a notebook select View > Toggle Line Numbers from the options panel above (as shown in picture).\n",
    "\n",
    "<img src=\"../images/toggle_line_numbers.png\" width=\"300\">"
   ]
  },
  {
   "cell_type": "markdown",
   "metadata": {},
   "source": [
    "# 1. Optional parameters: `*args` and `**kwargs` <a name=\"args_kwargs\"></a>"
   ]
  },
  {
   "cell_type": "markdown",
   "metadata": {},
   "source": [
    "Python implements a simple way to specify _optional_ parameters in a function:\n",
    "\n",
    "- With `*` operator before parameter name - like `*args` - you can indicate a variable-length Tuple of positional parameters. Possibly no one.\n",
    "\n",
    "- With `**` operator before parameter name - like `**kwargs` - you can indicate a variable-length Dict of keyword parameters. Possibly no one.\n",
    "\n",
    "Example:"
   ]
  },
  {
   "cell_type": "code",
   "execution_count": null,
   "metadata": {},
   "outputs": [],
   "source": [
    "a_0, b_0, c_0 = (1, 2, 3) # standard way to un-pack a Tuple"
   ]
  },
  {
   "cell_type": "code",
   "execution_count": null,
   "metadata": {},
   "outputs": [],
   "source": [
    "def print_args(*args):\n",
    "    for arg in args:\n",
    "        print(arg)"
   ]
  },
  {
   "cell_type": "code",
   "execution_count": null,
   "metadata": {},
   "outputs": [],
   "source": [
    "print_args(a_0, b_0, c_0)"
   ]
  },
  {
   "cell_type": "code",
   "execution_count": null,
   "metadata": {},
   "outputs": [],
   "source": [
    "print_args(a_0, b_0)"
   ]
  },
  {
   "cell_type": "code",
   "execution_count": null,
   "metadata": {},
   "outputs": [],
   "source": [
    "print_args(a_0)"
   ]
  },
  {
   "cell_type": "code",
   "execution_count": null,
   "metadata": {},
   "outputs": [],
   "source": [
    "print_args() # does nothing"
   ]
  },
  {
   "cell_type": "code",
   "execution_count": null,
   "metadata": {},
   "outputs": [],
   "source": [
    "def print_kwargs(**kwargs):\n",
    "    for k, v in kwargs.items():\n",
    "        print(\"%s: %s\" % (k, v))"
   ]
  },
  {
   "cell_type": "code",
   "execution_count": null,
   "metadata": {},
   "outputs": [],
   "source": [
    "print_kwargs(a=a_0, b=b_0, c=c_0)"
   ]
  },
  {
   "cell_type": "code",
   "execution_count": null,
   "metadata": {},
   "outputs": [],
   "source": [
    "print_kwargs(a=a_0, b=b_0)"
   ]
  },
  {
   "cell_type": "code",
   "execution_count": null,
   "metadata": {},
   "outputs": [],
   "source": [
    "print_kwargs(a=a_0)"
   ]
  },
  {
   "cell_type": "code",
   "execution_count": null,
   "metadata": {},
   "outputs": [],
   "source": [
    "print_kwargs() # does nothing"
   ]
  },
  {
   "cell_type": "markdown",
   "metadata": {},
   "source": [
    "The naming `*args` and `**kwargs` in function definition is a convention: `*pippo` and `**pluto` is valid but discouraged. "
   ]
  },
  {
   "cell_type": "markdown",
   "metadata": {},
   "source": [
    "You can build a completely generic function that accepts optional parameters as positional and keyword parameters as well"
   ]
  },
  {
   "cell_type": "code",
   "execution_count": null,
   "metadata": {},
   "outputs": [],
   "source": [
    "def print_all(*args, **kwargs):\n",
    "    for arg in args:\n",
    "        print(arg)\n",
    "\n",
    "    for k, v in kwargs.items():\n",
    "        print(\"%s: %s\" % (k, v))"
   ]
  },
  {
   "cell_type": "code",
   "execution_count": null,
   "metadata": {},
   "outputs": [],
   "source": [
    "print_all(a_0, b_0, c_0, a=a_0, b=b_0, c=c_0)"
   ]
  },
  {
   "cell_type": "code",
   "execution_count": null,
   "metadata": {},
   "outputs": [],
   "source": [
    "print_all(c_0, a=a_0, b=b_0)"
   ]
  },
  {
   "cell_type": "code",
   "execution_count": null,
   "metadata": {},
   "outputs": [],
   "source": [
    "print_all() # does nothing"
   ]
  },
  {
   "cell_type": "markdown",
   "metadata": {},
   "source": [
    "In the following sections we review some common use cases."
   ]
  },
  {
   "cell_type": "markdown",
   "metadata": {},
   "source": [
    "## 1.1. Input flexibility <a name=\"input_flexibility\"></a>"
   ]
  },
  {
   "cell_type": "markdown",
   "metadata": {},
   "source": [
    "Optional parameter `*args` and `**kwargs` allow input flexibility. Input parameters can be either \n",
    "- a list of individual positional parameters, \n",
    "- or a list of individual keyword parameters, \n",
    "- or complete/incomplete mixtures of the two kinds"
   ]
  },
  {
   "cell_type": "code",
   "execution_count": null,
   "metadata": {},
   "outputs": [],
   "source": [
    "def f(*args, **kwargs):\n",
    "    # parsing of input parameters\n",
    "    a = args[0] if len(args) > 0 else kwargs['a'] if 'a' in kwargs else \"a_default\"\n",
    "    b = args[1] if len(args) > 1 else kwargs['b'] if 'b' in kwargs else \"b_default\"\n",
    "    c = args[2] if len(args) > 2 else kwargs['c'] if 'c' in kwargs else \"c_default\"\n",
    "    print(\"a={}, b={}, c={}\".format(a, b, c))"
   ]
  },
  {
   "cell_type": "code",
   "execution_count": null,
   "metadata": {},
   "outputs": [],
   "source": [
    "a_0, b_0, c_0 = (1, 2, 3) # standard way to un-pack a Tuple"
   ]
  },
  {
   "cell_type": "code",
   "execution_count": null,
   "metadata": {},
   "outputs": [],
   "source": [
    "f(a_0, b_0, c_0) # order does matter: a <-- a_0, ..., c <--- c_0"
   ]
  },
  {
   "cell_type": "code",
   "execution_count": null,
   "metadata": {},
   "outputs": [],
   "source": [
    "f(c=c_0, a=a_0, b=b_0) # order doesn't matter"
   ]
  },
  {
   "cell_type": "code",
   "execution_count": null,
   "metadata": {},
   "outputs": [],
   "source": [
    "f(a_0, b_0) # c not specified"
   ]
  },
  {
   "cell_type": "code",
   "execution_count": null,
   "metadata": {},
   "outputs": [],
   "source": [
    "f(a_0) # b and c not specified"
   ]
  },
  {
   "cell_type": "code",
   "execution_count": null,
   "metadata": {},
   "outputs": [],
   "source": [
    "f() # no parameters at all"
   ]
  },
  {
   "cell_type": "code",
   "execution_count": null,
   "metadata": {},
   "outputs": [],
   "source": [
    "f(a_0, b_0, c=c_0) # mixture of list and keyword parameters"
   ]
  },
  {
   "cell_type": "code",
   "execution_count": null,
   "metadata": {},
   "outputs": [],
   "source": [
    "f(a_0, b=b_0) # incomplete mixture of individual and keyword parameters"
   ]
  },
  {
   "cell_type": "markdown",
   "metadata": {},
   "source": [
    "## 1.2. Mixing required and optional parameters <a name=\"mix_param\"></a>"
   ]
  },
  {
   "cell_type": "markdown",
   "metadata": {},
   "source": [
    "Mixing ordinary (required positional and default) and optional parameters is possible. \n",
    " \n",
    "In function definition, you should follow the (conventional) order:\n",
    " 1. ordinary required positional parameters\n",
    " 2. ordinary default parameters\n",
    " 3. optional `*args`\n",
    " 4. optional `**kwargs`\n",
    " \n",
    "And, when calling the function, the rule is that all positional arguments (both ordinary positional and optional positional `*args` arguments, if any) must come before all keyword arguments (both ordinary default arguments and optional `**kwargs` arguments, if any)."
   ]
  },
  {
   "cell_type": "code",
   "execution_count": null,
   "metadata": {},
   "outputs": [],
   "source": [
    "def f(a, b=\"b_default\", *args, **kwargs):\n",
    "    \"\"\"\n",
    "    Parameters:\n",
    "        a: ordinary positional\n",
    "        b: ordinary default\n",
    "        *args: optional positional\n",
    "        **kwargs: optional keyword\n",
    "    \"\"\"\n",
    "    \n",
    "    print(\"a={}, b={}\".format(a, b))\n",
    "    \n",
    "    for arg in args:\n",
    "        print(arg)\n",
    "\n",
    "    for k, v in kwargs.items():\n",
    "        print(\"{}: {}\".format(k, v))"
   ]
  },
  {
   "cell_type": "markdown",
   "metadata": {},
   "source": [
    "In this case, parameter `b` is explicitly set as the second positional argument or a keybord argument"
   ]
  },
  {
   "cell_type": "code",
   "execution_count": null,
   "metadata": {},
   "outputs": [],
   "source": [
    "a_0, b_0, c_0 = (1, 2, 3) # standard way to un-pack a Tuple"
   ]
  },
  {
   "cell_type": "code",
   "execution_count": null,
   "metadata": {},
   "outputs": [],
   "source": [
    "f(a_0, b_0) # no additional *args or **kwargs parameter"
   ]
  },
  {
   "cell_type": "code",
   "execution_count": null,
   "metadata": {},
   "outputs": [],
   "source": [
    "f(a_0) # b is default"
   ]
  },
  {
   "cell_type": "code",
   "execution_count": null,
   "metadata": {},
   "outputs": [],
   "source": [
    "f(a_0, b_0, c_0) # with optional positional argument"
   ]
  },
  {
   "cell_type": "code",
   "execution_count": null,
   "metadata": {},
   "outputs": [],
   "source": [
    "f(a_0, b_0, c=c_0) # with optional keyword argument "
   ]
  },
  {
   "cell_type": "markdown",
   "metadata": {},
   "source": [
    "but `a` and `b` at least are required"
   ]
  },
  {
   "cell_type": "code",
   "execution_count": null,
   "metadata": {},
   "outputs": [],
   "source": [
    "# Raises: TypeError: f() missing 1 required positional argument: 'a'\n",
    "#\n",
    "# f() # no parameters at all"
   ]
  },
  {
   "cell_type": "markdown",
   "metadata": {},
   "source": [
    "and positional arguments (neither required, nor optional) must come before keyword arguments"
   ]
  },
  {
   "cell_type": "code",
   "execution_count": null,
   "metadata": {},
   "outputs": [],
   "source": [
    "# Raises: SyntaxError: positional argument follows keyword argument\n",
    "# \n",
    "# f(a=a_0, b_0) # 'b' as positional argument after 'a' as keyword argument "
   ]
  },
  {
   "cell_type": "code",
   "execution_count": null,
   "metadata": {},
   "outputs": [],
   "source": [
    "# Raises: SyntaxError: positional argument follows keyword argument\n",
    "#\n",
    "# f(a_0, b=b_0, c_0) # optional positional argument after 'b' as keyword argument "
   ]
  },
  {
   "cell_type": "markdown",
   "metadata": {},
   "source": [
    "## 1.3. _Agnostic_ arguments flow <a name=\"agnostic_flow\"></a>"
   ]
  },
  {
   "cell_type": "markdown",
   "metadata": {},
   "source": [
    "_Agnostic_ arguments flow is possible when calling a `nested_func` from an `interface_func`: the outer function does need to access its specific parameters but doesn't need to know the details about the nested function parameters"
   ]
  },
  {
   "cell_type": "code",
   "execution_count": null,
   "metadata": {},
   "outputs": [],
   "source": [
    "def nested_func(a, b, c):\n",
    "    print(\"In nested_func: a={}, b={}, c={}\".format(a, b, c))\n",
    "        \n",
    "def interface_func(d, e, f, *args, **kwargs):\n",
    "    # calling nested_func\n",
    "    nested_func(*args, **kwargs)\n",
    "    print(\"In interface_func: d={}, e={}, f={}\".format(d, e, f))"
   ]
  },
  {
   "cell_type": "code",
   "execution_count": null,
   "metadata": {},
   "outputs": [],
   "source": [
    "a_0, b_0, c_0, d_0, e_0, f_0 = (1, 2, 3, 4, 5, 6)"
   ]
  },
  {
   "cell_type": "code",
   "execution_count": null,
   "metadata": {},
   "outputs": [],
   "source": [
    "interface_func(d_0, e_0, f_0, a_0, b_0, c_0) # order does matter: d <-- d_0, ..., c <--- c_0"
   ]
  },
  {
   "cell_type": "code",
   "execution_count": null,
   "metadata": {},
   "outputs": [],
   "source": [
    "interface_func(d=d_0, b=b_0, a=a_0, e=e_0, f=f_0, c=c_0) # order doesn't matter"
   ]
  },
  {
   "cell_type": "markdown",
   "metadata": {},
   "source": [
    "_Agnostic_ arguments flow smoothly generalizes to classes. When calling a `BaseClass` initializer instantiating a `DerivedClass` object, the sub-class does need to access its specific parameters but doesn't need to know the details about the parent's class parameters"
   ]
  },
  {
   "cell_type": "code",
   "execution_count": null,
   "metadata": {},
   "outputs": [],
   "source": [
    "class BaseClass:\n",
    "    def __init__(self, a, b, c):\n",
    "        print(\"In BaseClass: a={}, b={}, c={}\".format(a, b, c))\n",
    "        \n",
    "class DerivedClass(BaseClass):\n",
    "    def __init__(self, d, e, f, *args, **kwargs):    \n",
    "        # calling the BaseClass initializer\n",
    "        super(DerivedClass, self).__init__(*args, **kwargs)\n",
    "        print(\"In DerivedClass: d={}, e={}, f={}\".format(d, e, f))"
   ]
  },
  {
   "cell_type": "code",
   "execution_count": null,
   "metadata": {},
   "outputs": [],
   "source": [
    "a_0, b_0, c_0, d_0, e_0, f_0 = (1, 2, 3, 4, 5, 6)"
   ]
  },
  {
   "cell_type": "code",
   "execution_count": null,
   "metadata": {},
   "outputs": [],
   "source": [
    "obj = DerivedClass(d_0, e_0, f_0, a_0, b_0, c_0) # order does matter: d <-- d_0, ..., c <--- c_0"
   ]
  },
  {
   "cell_type": "code",
   "execution_count": null,
   "metadata": {},
   "outputs": [],
   "source": [
    "obj = DerivedClass(d=d_0, b=b_0, a=a_0, e=e_0, f=f_0, c=c_0) # order doesn't matter"
   ]
  },
  {
   "cell_type": "markdown",
   "metadata": {},
   "source": [
    "### 1.3.1 _Agnostic_ arguments flow with default arguments <a name=\"agnostic_flow_default_args\"></a>"
   ]
  },
  {
   "cell_type": "markdown",
   "metadata": {},
   "source": [
    "The convention to put `*args` and `**kwargs` at the end of function definition has an exception. Consider the following example that we state directly using classes (but is valid in the case of functions too). \n",
    "\n",
    "Suppose that the `DerivedClass` has an ordinary default parameter `f=\"f_default\"` and its `BaseClass`, that is instantiated by the `DerivedClass` initializer, has a ordinary positional arguments.\n",
    "\n",
    "As before, you would be tempted to define this situation as follows:"
   ]
  },
  {
   "cell_type": "code",
   "execution_count": null,
   "metadata": {},
   "outputs": [],
   "source": [
    "class BaseClass:\n",
    "    def __init__(self, a, b, c):\n",
    "        print(\"In BaseClass: a={}, b={}, c={}\".format(a, b, c))\n",
    "        \n",
    "class DerivedClass(BaseClass):\n",
    "    def __init__(self, d, e, f=\"f_default\", *args, **kwargs):    \n",
    "        # calling the BaseClass initializer\n",
    "        super(DerivedClass, self).__init__(*args, **kwargs)\n",
    "        print(\"In DerivedClass: d={}, e={}, f={}\".format(d, e, f))"
   ]
  },
  {
   "cell_type": "code",
   "execution_count": null,
   "metadata": {},
   "outputs": [],
   "source": [
    "a_0, b_0, c_0, d_0, e_0, f_0 = (1, 2, 3, 4, 5, 6)"
   ]
  },
  {
   "cell_type": "markdown",
   "metadata": {},
   "source": [
    "As long as you want to set `f` to a specific value, it works"
   ]
  },
  {
   "cell_type": "code",
   "execution_count": null,
   "metadata": {},
   "outputs": [],
   "source": [
    "obj = DerivedClass(d_0, e_0, f_0, a_0, b_0, c_0) # 'f' is the third positional argument, followed by other positional arguments"
   ]
  },
  {
   "cell_type": "code",
   "execution_count": null,
   "metadata": {},
   "outputs": [],
   "source": [
    "obj = DerivedClass(d_0, e_0, f=f_0, a=a_0, b=b_0, c=c_0) # 'f' is a keyword argument, followed by other keyword arguments"
   ]
  },
  {
   "cell_type": "markdown",
   "metadata": {},
   "source": [
    "But how can you leave `f` set to its default value `\"f_default\"`? You would be tempted to omit `f` from function call. But if you do this:\n",
    "\n",
    "```python\n",
    "obj = DerivedClass(d_0, e_0, a_0, b_0, c_0) # 'f' is omitted, followed by other positional arguments\n",
    "```\n",
    "\n",
    "This would raise:\n",
    "\n",
    "```python\n",
    "TypeError: __init__() missing 1 required positional argument: 'c'\n",
    "```\n",
    "\n",
    "Why? \n",
    "\n",
    "So, `d_0` and `e_0` values are assigned to `DerivedClass`'s parameters `d` and `e`, respectively. That's what we expected.\n",
    "\n",
    "Nevertheless, `a_0` value is not assigned - as we intended - to parameter `BaseClass`' parameter `a`, but in fact it gets assigned to `DerivedClass`' parameter `f` itself (which is then not left to its default value `\"f_default\"`)\n",
    "\n",
    "Indeed, we instantiate `DerivedClass` with `a_0` value as third positional argument. But the third positional argument of `DerivedClass` initializer is a place-holder for the value to be assigned to parameter `f`. \n",
    "\n",
    "Consequently, `b_0` is assigned to `a` (in `BaseClass`) and `c_0` is assigned to `b` (in `BaseClass`). \n",
    "\n",
    "Therefore, the Python interpreter thinks we forgot to input a value for the required `BaseClass`'s parameter `c` and raises the error."
   ]
  },
  {
   "cell_type": "markdown",
   "metadata": {},
   "source": [
    "What you could do is to specify the `BaseClass`' parameters as keyword parameters (using `**kwargs`)"
   ]
  },
  {
   "cell_type": "code",
   "execution_count": null,
   "metadata": {},
   "outputs": [],
   "source": [
    "obj = DerivedClass(d_0, e_0, a=a_0, b=b_0, c=c_0) # 'f' is omitted, followed by other keyword arguments"
   ]
  },
  {
   "cell_type": "markdown",
   "metadata": {},
   "source": [
    "but there is no way to leave `f` to default and passing `a_0, b_0, c_0` arguments as positional parameters to be assigned (using `*args`) to `BaseClass`' `a, b, c` parameters. This might seem a bit ugly. And it is."
   ]
  },
  {
   "cell_type": "markdown",
   "metadata": {},
   "source": [
    "The solution is inverting the position of `f` in `DerivedClass`' initializer definition with the positional parameters `*args` to be passed `BaseClass`. As follows:"
   ]
  },
  {
   "cell_type": "code",
   "execution_count": null,
   "metadata": {},
   "outputs": [],
   "source": [
    "class BaseClass:\n",
    "    def __init__(self, a, b, c):\n",
    "        print(\"In BaseClass: a={}, b={}, c={}\".format(a, b, c))\n",
    "        \n",
    "class DerivedClass(BaseClass):\n",
    "    def __init__(self, d, e, *args, f=\"f_default\", **kwargs):    \n",
    "        # calling the BaseClass initializer\n",
    "        super(DerivedClass, self).__init__(*args, **kwargs)\n",
    "        print(\"In DerivedClass: d={}, e={}, f={}\".format(d, e, f))"
   ]
  },
  {
   "cell_type": "markdown",
   "metadata": {},
   "source": [
    "There we go:"
   ]
  },
  {
   "cell_type": "code",
   "execution_count": null,
   "metadata": {},
   "outputs": [],
   "source": [
    "obj = DerivedClass(d_0, e_0, a_0, b_0, c_0) # 'f' is omitted, followed by other positional arguments"
   ]
  },
  {
   "cell_type": "code",
   "execution_count": null,
   "metadata": {},
   "outputs": [],
   "source": [
    "obj = DerivedClass(d_0, e_0, a=a_0, b=b_0, c=c_0) # 'f' is omitted, followed by other keyword arguments"
   ]
  },
  {
   "cell_type": "markdown",
   "metadata": {},
   "source": [
    "We'll see an example of this amendement to the convention of having `*args` and `**kwargs` to the end of a function definition when deriving the `DigitalOption` class - having a default `cash_amount=1` parameter - as a sub-class of the `EuropeanOption` base class. "
   ]
  },
  {
   "cell_type": "markdown",
   "metadata": {},
   "source": [
    "# Polymorphism application: a `Plotter()` class"
   ]
  },
  {
   "cell_type": "markdown",
   "metadata": {},
   "source": [
    "# SOME generic UTILITY FUNCTIONS"
   ]
  },
  {
   "cell_type": "code",
   "execution_count": null,
   "metadata": {},
   "outputs": [],
   "source": [
    "def datetime_obj_to_date_string(date):\n",
    "    \"\"\"\n",
    "    Utility function to convert: from dt.datetime object --> to 'dd-mm-YYYY' String\n",
    "    \"\"\"\n",
    "    return date.strftime(\"%d-%m-%Y\") if isinstance(date, dt.datetime) else date"
   ]
  },
  {
   "cell_type": "code",
   "execution_count": null,
   "metadata": {},
   "outputs": [],
   "source": [
    "def date_string_to_datetime_obj(date_string):\n",
    "    \"\"\"\n",
    "    Utility function to convert: from 'dd-mm-YYYY' String object --> to dt.datetime\n",
    "    \"\"\"\n",
    "    return dt.datetime.strptime(date_string, \"%d-%m-%Y\") if isinstance(date_string, str) else date_string"
   ]
  },
  {
   "cell_type": "code",
   "execution_count": null,
   "metadata": {},
   "outputs": [],
   "source": [
    "date_string_to_datetime_obj(\"15-05-2020\")"
   ]
  },
  {
   "cell_type": "code",
   "execution_count": null,
   "metadata": {},
   "outputs": [],
   "source": [
    "# date_string_to_datetime_obj(\"a\") # uncontrolled error - can be difficult to spot it when this utility function gets called under the hood"
   ]
  },
  {
   "cell_type": "code",
   "execution_count": null,
   "metadata": {},
   "outputs": [],
   "source": [
    "def test_valid_format(date_string, date_format=\"%d-%m-%Y\"):\n",
    "    \"\"\"\n",
    "    Utility function to test whether a date_string String in input is conform to date_format (default: 'dd-mm-YYYY') date format.\n",
    "    If not raises an error.\n",
    "    \"\"\"\n",
    "    try:\n",
    "        dt.datetime.strptime(date_string, date_format)\n",
    "    except ValueError:\n",
    "        print(\"String '{}' in input is not conform to 'dd-mm-YYYY' date format\".format(date_string))\n",
    "        raise\n",
    "    else:\n",
    "        return True"
   ]
  },
  {
   "cell_type": "code",
   "execution_count": null,
   "metadata": {},
   "outputs": [],
   "source": [
    "def date_string_to_datetime_obj(date_string):\n",
    "    \"\"\"\n",
    "    Utility function to convert: from 'dd-mm-YYYY' String object --> to dt.datetime.\n",
    "    ValueError, due to wrong date format of the input String, is controlled.\n",
    "    \"\"\"\n",
    "    \n",
    "    return dt.datetime.strptime(date_string, \"%d-%m-%Y\") if (isinstance(date_string, str) and test_valid_format(date_string)) \\\n",
    "                                                         else date_string"
   ]
  },
  {
   "cell_type": "code",
   "execution_count": null,
   "metadata": {},
   "outputs": [],
   "source": [
    "# date_string_to_datetime_obj(\"a\") # controlled error"
   ]
  },
  {
   "cell_type": "code",
   "execution_count": null,
   "metadata": {},
   "outputs": [],
   "source": [
    "from collections.abc import Iterable"
   ]
  },
  {
   "cell_type": "code",
   "execution_count": null,
   "metadata": {},
   "outputs": [],
   "source": [
    "def is_iterable(x):\n",
    "    \"\"\"\n",
    "    Utility function to check if input can be iterated over (that is, if input is a List, np.array, pd.date_range, etc.).\n",
    "    \"\"\"    \n",
    "    return isinstance(x, Iterable)"
   ]
  },
  {
   "cell_type": "code",
   "execution_count": null,
   "metadata": {},
   "outputs": [],
   "source": [
    "def is_iterable_not_string(x):\n",
    "    \"\"\"\n",
    "    Utility function to check if input can be iterated over (that is, if input is a List, np.array, pd.date_range, etc.)\n",
    "    but it is not a String\n",
    "    \"\"\"\n",
    "    return is_iterable(x) and not isinstance(x, str)"
   ]
  },
  {
   "cell_type": "code",
   "execution_count": null,
   "metadata": {},
   "outputs": [],
   "source": [
    "def is_numeric(x):\n",
    "    \"\"\"\n",
    "    Utility function to check if input is/contains numeric data.\n",
    "    \"\"\"\n",
    "    \n",
    "    if is_iterable_not_string(x):\n",
    "        return isinstance(x[0], float) or isinstance(x[0], int)\n",
    "    else:\n",
    "        return isinstance(x, float) or isinstance(x, int)"
   ]
  },
  {
   "cell_type": "code",
   "execution_count": null,
   "metadata": {},
   "outputs": [],
   "source": [
    "def is_date(x):\n",
    "    \"\"\"\n",
    "    Utility function to check if input is/contains date-like data.\n",
    "    The error due to invalid (non 'dd-mm-YYYY') date Strings is controlled thanks to test_valid_format() function.\n",
    "    \"\"\"\n",
    "    \n",
    "    if is_iterable_not_string(x):\n",
    "        return isinstance(x[0], dt.datetime) or (isinstance(x[0], str) and test_valid_format(x[0]))\n",
    "    else:\n",
    "        return isinstance(x, dt.datetime) or (isinstance(x, str) and test_valid_format(x))"
   ]
  },
  {
   "cell_type": "markdown",
   "metadata": {},
   "source": [
    "# 2. Objects Composition <a name=\"obj_composition\"></a>"
   ]
  },
  {
   "cell_type": "markdown",
   "metadata": {},
   "source": [
    "As we have seen in the previous lesson, classes allow to organize the code into logical groups, combining data (attributes) with the functions (methods) which use that data. "
   ]
  },
  {
   "cell_type": "markdown",
   "metadata": {},
   "source": [
    "When dealing with multiple related objects, we can model their relationship too. In Python, there are two main types of relationships between objects: _composition_ and _inheritance._\n",
    "\n",
    "We have already introduced _inheritance_ as a way to organize related objects in a hierarchical way, implementing an _\"is a\"_ relationship between the sub-class(es) and the base class. Nevertheless, hierarchical relationship is not the only possible kind of relationship between objects."
   ]
  },
  {
   "cell_type": "markdown",
   "metadata": {},
   "source": [
    "Another possible relationship between objects is _composition,_ which models an _\"has a\"_ relationship between objects. This is achieved making one object and attribute of the other. For example something like this:"
   ]
  },
  {
   "cell_type": "code",
   "execution_count": null,
   "metadata": {},
   "outputs": [],
   "source": [
    "class Professor:\n",
    "    pass\n",
    "\n",
    "class Department:\n",
    "    def __init__(self, department_name, prof_obj):\n",
    "        self.name = department_name\n",
    "        self.prof = prof_obj\n",
    "\n",
    "# instantiating 'a_prof' as a Professor object\n",
    "a_prof = Professor()\n",
    "\n",
    "# instantiating a Department object, having 'a_prof' as .prof attribute\n",
    "dept = Department(department_name=\"Physics\", prof_obj=a_prof)"
   ]
  },
  {
   "cell_type": "markdown",
   "metadata": {},
   "source": [
    "Here we make a `Professor` object `a_prof` the `.prof` attribute of class `Department`. Such that the `Department` object `dept` _has a_ `Professor`. _En passant,_ notice the [`pass` statement](https://docs.python.org/3.7/tutorial/controlflow.html#pass-statements): it does nothing but it can be used when some statement is required syntactically, but the program doesn't need to do anything."
   ]
  },
  {
   "cell_type": "markdown",
   "metadata": {},
   "source": [
    "For semplicity, we model the Professor-Department relationship as a 1-to-1 _composition,_ but we could easily thought of many Professors belonging to a single Department, a 1-to-many composition relationship. In general, a composition relationship can be a 1-to-1, 1-to-many or even a many-to-many relationship."
   ]
  },
  {
   "cell_type": "markdown",
   "metadata": {},
   "source": [
    "The implementation of a composition is rather broad too. For example, instead of making the whole `Professor` object an attribute of `Department`, you might have decided to parse (all or some of) `Professor`'s attributes and use them as data in `Department`"
   ]
  },
  {
   "cell_type": "code",
   "execution_count": null,
   "metadata": {},
   "outputs": [],
   "source": [
    "class Professor:\n",
    "    def __init__(self, name, surname):\n",
    "        self.name = name\n",
    "        self.surname = surname\n",
    "\n",
    "class Department:\n",
    "    def __init__(self, department_name, prof_obj):\n",
    "        self.name = department_name\n",
    "        self.prof_name = \"{} {}\".format(prof_obj.name, prof_obj.surname)\n",
    "\n",
    "# make 'a_prof' a Professor object\n",
    "a_prof = Professor(name=\"Richard\", surname=\"Feynman\")\n",
    "\n",
    "# instantiating a Department object, having 'a_prof' as .prof attribute\n",
    "dept = Department(department_name=\"Physics\", prof_obj=a_prof)\n",
    "\n",
    "dept.prof_name"
   ]
  },
  {
   "cell_type": "markdown",
   "metadata": {},
   "source": [
    "Strictly speaking, to qualify for composition, the objects involved should be tightly related and one object should _belong_ exclusively to the other. The own existance of the _belonging_ object is managed by the hosting object: when the hosting object ceases to exist, the belonging object should cease to exist too."
   ]
  },
  {
   "cell_type": "markdown",
   "metadata": {},
   "source": [
    "When the relationship between the two objects is still a _\"has a\"_ relationship, but their link is somehow weaker, we call this relationship an _aggregation._"
   ]
  },
  {
   "cell_type": "markdown",
   "metadata": {},
   "source": [
    "In this notebook we shall see a couple of _composition_ / _aggregation_ - like relationships:\n",
    "\n",
    "- between a `MarketEnvironment` class and a `EuropeanOption` class, modeling an option which is emitted under certain market circumstances (date, short-rate and underlying level);\n",
    "\n",
    "- between options (either a `PlainVanillaOption` class or a `DigitalOption` class) and a `Portfolio` class, modeling the aggregation of securities in a portfolio."
   ]
  },
  {
   "cell_type": "markdown",
   "metadata": {},
   "source": [
    "## 2.1. A common market environment: the `MarketEnvironment` class <a name=\"MarketEnvironment\"></a>"
   ]
  },
  {
   "cell_type": "markdown",
   "metadata": {},
   "source": [
    "Let's define a common `MarketEnvironment` class which shall contain the information on the market circumstances under which we are going to model our derivatives. \n",
    "\n",
    "These market conditions are the valuation date $t$, the short-rate level $r$ (we recall that here and in all this notebook we shall assume constant deterministic short-rate), the underlying level at emission $S_t$ and its annual volatility $\\sigma$. "
   ]
  },
  {
   "cell_type": "code",
   "execution_count": null,
   "metadata": {},
   "outputs": [],
   "source": [
    "class MarketEnvironment:\n",
    "    \"\"\"\n",
    "    MarketEnvironment class: setting the market environment: date, underlying level, volatility level and short-rate.\n",
    "    \n",
    "    Attributes:\n",
    "    -----------\n",
    "        t (str; dt.datetime):     valuation date. Can be either a \"dd-mm-YYYY\" String or a pd.datetime() object\n",
    "        r (float):                continuously compounded short-rate;\n",
    "        S_t (float):              spot price of the underlying asset at the valuation date 't';\n",
    "        sigma (float):            volatility of underlying asset;\n",
    "    \n",
    "    Public Methods:\n",
    "    --------   \n",
    "    \n",
    "        getters and setters for all attributes\n",
    "        \n",
    "    Usage: \n",
    "    --------   \n",
    "        - default: MarketEnvironment() is equivalent to \n",
    "                   MarketEnvironment(t=\"19-04-2020\", r=0.05, S_t=90.0, sigma=0.2)\n",
    "\n",
    "        - general: MarketEnvironment(t=\"DD-MM-YYYY\" String, r=Float, S_t=Float, sigma=Float)\n",
    "    \"\"\"\n",
    "    \n",
    "    def __init__(self, t=\"19-04-2020\", r=0.05, S_t=90.0, sigma=0.2):\n",
    "        \n",
    "        print(\"Initializing the MarketEnvironment!\")\n",
    "        \n",
    "        self.__t     = date_string_to_datetime_obj(t)\n",
    "        self.__r     = r\n",
    "        self.__S     = S_t\n",
    "        self.__sigma = sigma\n",
    "        \n",
    "    def __repr__(self):\n",
    "        return r\"MarketEnvironment(t={}, r={:.1f}%, S_t={:.1f}, sigma={:.1f}%)\".\\\n",
    "               format(self.get_t().strftime(\"%d-%m-%Y\"), self.get_r()*100, self.get_S(), self.get_sigma()*100)\n",
    "\n",
    "    # getters\n",
    "    def get_t(self):\n",
    "        return self.__t\n",
    "\n",
    "    def get_r(self):\n",
    "        return self.__r\n",
    "\n",
    "    def get_S(self):\n",
    "        return self.__S\n",
    "    \n",
    "    def get_sigma(self):\n",
    "        return self.__sigma\n",
    "    \n",
    "    # setters \n",
    "    def set_t(self, t):\n",
    "        self.__t = date_string_to_datetime_obj(t)\n",
    "\n",
    "    def set_r(self, r):\n",
    "        self.__r = r\n",
    "\n",
    "    def set_S(self, S):\n",
    "        self.__S = S\n",
    "        \n",
    "    def set_sigma(self, sigma):\n",
    "        self.__sigma = sigma"
   ]
  },
  {
   "cell_type": "markdown",
   "metadata": {},
   "source": [
    "Here is a `MarketEnvironment` object"
   ]
  },
  {
   "cell_type": "code",
   "execution_count": null,
   "metadata": {},
   "outputs": [],
   "source": [
    "market_env = MarketEnvironment(t=\"01-06-2020\", r=-0.002, S_t=10.0, sigma=0.4)\n",
    "market_env"
   ]
  },
  {
   "cell_type": "markdown",
   "metadata": {},
   "source": [
    "or using default values for its attributes"
   ]
  },
  {
   "cell_type": "code",
   "execution_count": null,
   "metadata": {},
   "outputs": [],
   "source": [
    "market_env = MarketEnvironment()\n",
    "market_env"
   ]
  },
  {
   "cell_type": "markdown",
   "metadata": {},
   "source": [
    "## 2.2. Aggregation of `EuropeanOption` with `MarketEnvironment`  <a name=\"EuropeanOption_compose_MarketEnvironment\"></a>"
   ]
  },
  {
   "cell_type": "markdown",
   "metadata": {},
   "source": [
    "Here is our `EuropeanOption` class, composed with the `MarketEnvironment`."
   ]
  },
  {
   "cell_type": "code",
   "execution_count": null,
   "metadata": {},
   "outputs": [],
   "source": [
    "class EuropeanOption:\n",
    "    \"\"\"\n",
    "    EuropeanOption abstract class: an interface setting the template for any option with european-style exercise.\n",
    "    It uses a MarketEnvironment object to define the current market conditions under which the option is modeled. \n",
    "    This class is not meant to be instantiated.\n",
    "    \n",
    "    Attributes:\n",
    "    -----------\n",
    "        mkt_env (MarketEnvironment): Instance of MarketEnvironment class\n",
    "        type (str):                  Optional. Type of the option. Can be either 'call' or 'put';\n",
    "        S_t (float):                 'S' attribute of mkt_env.\n",
    "        K (float):                   Optional. Strike price;\n",
    "        t (str; dt.datetime):        't' attribute of mkt_env.\n",
    "        T (str; dt.datetime):        Optional. Expiration date. Can be either a \"dd-mm-YYYY\" String or a pd.datetime() object\n",
    "        tau (float):                 time to maturity in years, computed as tau=T-t by time_to_maturity() method\n",
    "        r (float):                   'r' attribute of mkt_env.\n",
    "        sigma (float):               'sigma' attribute of mkt_env.\n",
    "    \n",
    "    Template Methods:\n",
    "    --------   \n",
    "    \n",
    "        getters for all common attributes\n",
    "        \n",
    "        setters for common attributes, not belonging to mkt_env\n",
    "        \n",
    "        payoff: float\n",
    "            Template method for payoff. Raises NotImplementedError if called.\n",
    "\n",
    "        price_upper_limit: float \n",
    "            Template method for upper limit. Raises NotImplementedError if called.\n",
    "\n",
    "        price_lower_limit: float \n",
    "            Template method for lower limit. Raises NotImplementedError if called.\n",
    "            \n",
    "        price: float\n",
    "            Template method for price. Raises NotImplementedError if called.\n",
    "\n",
    "    \"\"\"\n",
    "\n",
    "    def __init__(self, mkt_env, option_type='call', K=100.0, T=\"31-12-2020\"):\n",
    "        \n",
    "        print(\"Initializing the EuropeanOption!\")\n",
    "\n",
    "        # option type check\n",
    "        if option_type not in ['call', 'put']:\n",
    "            raise NotImplementedError(\"Option Type: '{}' does not exist!\".format(option_type))\n",
    "        \n",
    "        self.__type  = option_type\n",
    "        self.__S     = mkt_env.get_S()\n",
    "        self.__K     = K\n",
    "        self.__t     = mkt_env.get_t()\n",
    "        self.__T     = date_string_to_datetime_obj(T)\n",
    "        self.__tau   = self.time_to_maturity()\n",
    "        self.__r     = mkt_env.get_r()\n",
    "        self.__sigma = mkt_env.get_sigma()\n",
    "               \n",
    "        # empty informations dictionary\n",
    "        self.__docstring_dict = {}        \n",
    "        \n",
    "    # string representation method template\n",
    "    def __repr__(self):\n",
    "        raise NotImplementedError()\n",
    "    \n",
    "    # getters\n",
    "    def get_type(self):\n",
    "        return self.__type\n",
    "\n",
    "    def get_S(self):\n",
    "        return self.__S\n",
    "    \n",
    "    def get_sigma(self):\n",
    "        return self.__sigma\n",
    "    \n",
    "    def get_K(self):\n",
    "        return self.__K\n",
    "    \n",
    "    def get_t(self):\n",
    "        return self.__t\n",
    "\n",
    "    def get_T(self):\n",
    "        return self.__T\n",
    "\n",
    "    def get_tau(self):\n",
    "        return self.__tau\n",
    "\n",
    "    def get_r(self):\n",
    "        return self.__r\n",
    "    \n",
    "    def get_sigma(self):\n",
    "        return self.__sigma\n",
    "    \n",
    "    # doctring getter template\n",
    "    def get_docstring(self, label):\n",
    "        raise NotImplementedError()\n",
    "\n",
    "    # setters\n",
    "    def set_type(self, option_type):\n",
    "        self.__type = option_type\n",
    "        \n",
    "        # option type check\n",
    "        if option_type not in ['call', 'put']:\n",
    "            raise NotImplementedError(\"Option Type: '{}' does not exist!\".format(option_type))\n",
    "            \n",
    "    def set_K(self, K):\n",
    "        self.__K = K\n",
    "    \n",
    "    def set_T(self, T):\n",
    "        self.__T = date_string_to_datetime_obj(T)\n",
    "        # update time to maturity, given changed T, to keep internal consistency\n",
    "        self.__update_tau() \n",
    "    \n",
    "    def set_tau(self, tau):\n",
    "        self.__tau = tau\n",
    "        # update expiration date, given changed tau, to keep internal consistency\n",
    "        self.__update_T()\n",
    "        \n",
    "    # update methods (private)\n",
    "    def __update_tau(self):\n",
    "        self.__tau = self.time_to_maturity()\n",
    "\n",
    "    def __update_T(self):\n",
    "        self.__T = self.__t + dt.timedelta(days=math.ceil(self.__tau*365))\n",
    "    \n",
    "    # utility methods\n",
    "    def time_to_maturity(self, *args, **kwargs):\n",
    "        \"\"\"\n",
    "        Utility method to compute time-to-maturity\n",
    "        \"\"\"\n",
    "        \n",
    "        # parsing optional parameters\n",
    "        t = args[0] if len(args) > 0 else kwargs['t'] if 't' in kwargs else self.get_t()\n",
    "        T = args[1] if len(args) > 1 else kwargs['T'] if 'T' in kwargs else self.get_T()\n",
    "        \n",
    "        # convert to dt.datetime objects, if needed\n",
    "        t = date_string_to_datetime_obj(t)\n",
    "        T = date_string_to_datetime_obj(T)\n",
    "        \n",
    "        # compute and return time to maturity (in years)\n",
    "        return (T-t).days / 365.0\n",
    "    \n",
    "    def parse_S_tau_parameters(self, *args, **kwargs):\n",
    "        \"\"\"\n",
    "        Utility method to parse underlying and time-parameters\n",
    "        \"\"\"\n",
    "\n",
    "        # underlying value \n",
    "        S = args[0] if len(args) > 0 else kwargs['S'] if 'S' in kwargs else self.get_S()\n",
    "\n",
    "        # time parameter:\n",
    "        time_param = args[1] if len(args) > 1 \\\n",
    "                     else kwargs['tau'] if 'tau' in kwargs \\\n",
    "                        else (kwargs['t'] if 't' in kwargs else None)\n",
    "        \n",
    "        # check that no multiple time parameters in input\n",
    "        if is_iterable_not_string(time_param):\n",
    "            raise NotImplementedError(\"No multiple time parameters allowed: {} given in input.\".format(time_param))\n",
    "\n",
    "        # time parameter interpretation according to its type        \n",
    "        # case 1: no time-parameter in input\n",
    "        if time_param is None:\n",
    "            tau = self.get_tau()\n",
    "        # case 2: valid time-to-maturity in input\n",
    "        elif is_numeric(time_param):\n",
    "            tau = time_param\n",
    "        # case 3: valuation date in input, to be converted into time-to-maturity\n",
    "        elif is_date(time_param):\n",
    "            valuation_date = date_string_to_datetime_obj(time_param)\n",
    "            tau = self.time_to_maturity(t=valuation_date)\n",
    "        # error case: the time parameter in input has a data-type that is not recognized\n",
    "        else: \n",
    "            raise TypeError(\"Type {} of input time parameter not recognized\".format(type(time_param)))\n",
    "\n",
    "        return S, tau\n",
    "    \n",
    "    # payoff template\n",
    "    def payoff(self):\n",
    "        raise NotImplementedError()     \n",
    "        \n",
    "    # upper price limit template\n",
    "    def price_upper_limit(self):\n",
    "        raise NotImplementedError()     \n",
    "\n",
    "    # lower price limit template\n",
    "    def price_lower_limit(self):\n",
    "        raise NotImplementedError()     \n",
    "        \n",
    "    # price template\n",
    "    def price(self):\n",
    "        raise NotImplementedError()"
   ]
  },
  {
   "cell_type": "markdown",
   "metadata": {},
   "source": [
    "Line 39: in the initializer we parse the `mkt_env` (a `MarketEnvironment` object) and use its attributes to define those of the european option. Alternatively, we could have defined a market environment attribute with the `MarketEnvironment` object itself. Other parameters (option type, strike and expiration date) are optional.\n",
    "\n",
    "\n",
    "Line 124: function `time_to_maturity()` is made more general allowing for `*args` and `**kwargs` optional arguments.\n",
    "\n",
    "\n",
    "Line 140: a new function `parse_S_tau_parameters()` is defined to parse the optional parameters (underlying and time parameter) accepted in input by the public methods (`.price()` and others) of the sub-classes, since `PlainVanillaOption` and `DigitalOption` inherit the function as a public method. \n",
    "\n",
    "\n",
    "Line 157: the time parameter in input can be both a time-to-maturity $\\tau$ or a valuation date $t$. Notice the selection logic implemented by utility functions `is_numeric` and `is_date`, which are defined outside the class but visible inside it."
   ]
  },
  {
   "cell_type": "markdown",
   "metadata": {},
   "source": [
    "Here are our sub-classes `PlainVanillaOption` and `DigitalOption`:"
   ]
  },
  {
   "cell_type": "code",
   "execution_count": null,
   "metadata": {},
   "outputs": [],
   "source": [
    "class PlainVanillaOption(EuropeanOption):\n",
    "    \"\"\"\n",
    "    PlainVanillaOption class implementing payoff and pricing of plain-vanilla call and put options.\n",
    "    Put price is calculated using put-call parity\n",
    "    \n",
    "    Attributes:\n",
    "    -----------\n",
    "        mkt_env (MarketEnvironment): Instance of MarketEnvironment class\n",
    "        type (str):                  From 'type' attribute of EuropeanOption base class.\n",
    "        S_t (float):                 'S' attribute of mkt_env.\n",
    "        K (float):                   From 'K' attribute of EuropeanOption base class.\n",
    "        t (str; dt.datetime):        't' attribute of mkt_env.\n",
    "        T (str; dt.datetime):        From 'T' attribute of EuropeanOption base class.\n",
    "        tau (float):                 time to maturity in years, computed as tau=T-t by time_to_maturity() method\n",
    "        r (float):                   'r' attribute of mkt_env.\n",
    "        sigma (float):               'sigma' attribute of mkt_env.\n",
    "    \n",
    "    Public Methods:\n",
    "    --------   \n",
    "    \n",
    "        payoff: float\n",
    "            Computes the payoff of the option and returns it\n",
    "\n",
    "        price_upper_limit: float \n",
    "            Returns the upper limit for a vanilla option price.\n",
    "\n",
    "        price_lower_limit: float \n",
    "            Returns the lower limit for a vanilla option price.\n",
    "            \n",
    "        price: float\n",
    "            Computes the exact price of the option and returns it, using call_price() or put_price()\n",
    "\n",
    "    Usage: \n",
    "    --------   \n",
    "        - default: PlainVanillaOption(mkt_env) is equivalent to \n",
    "                   PlainVanillaOption(mkt_env, option_type='call', K=100.0, T=\"31-12-2020\")\n",
    "\n",
    "        - general: PlainVanillaOption(mkt_env, option_type='call' or 'put' String, K=Float, T=\"DD-MM-YYYY\" String)\n",
    "\n",
    "    where: mkt_env is a MarketEnvironment instance.\n",
    "    \"\"\"\n",
    "    \n",
    "    # initializer with optional *args and **kwargs parameters\n",
    "    def __init__(self, *args, **kwargs):  \n",
    "        \n",
    "        # calling the EuropeanOption initializer\n",
    "        super(PlainVanillaOption, self).__init__(*args, **kwargs)\n",
    "        \n",
    "        # info strings\n",
    "        self.__info = r\"Plain Vanilla {} [K={:.1f}, T={} (tau={:.2f}y)]\".format(self.get_type(), self.get_K(), datetime_obj_to_date_string(self.get_T()), self.get_tau())\n",
    "        self.__mkt_info = r\"[S_t={:.1f}, r={:.1f}%, sigma={:.1f}%, t={}]\".format(self.get_S(), self.get_r()*100, self.get_sigma()*100, datetime_obj_to_date_string(self.get_t()))\n",
    "        \n",
    "        # informations dictionary\n",
    "        self.__docstring_dict = {\n",
    "            'call':{\n",
    "                'price_upper_limit': r\"Upper limit: $S_t$\",\n",
    "                'payoff':            r\"Payoff: $max(S-K, 0)$\",\n",
    "                'price_lower_limit': r\"Lower limit: $max(S_t - K e^{-r \\tau}, 0)$\"\n",
    "            },\n",
    "            'put': {\n",
    "                'price_upper_limit': r\"Upper limit: $K e^{-r \\tau}$\",\n",
    "                'payoff':            r\"Payoff: $max(K-S, 0)$\",\n",
    "                'price_lower_limit': r\"Lower limit: $max(K e^{-r \\tau} - S_t, 0)$\"}\n",
    "        }\n",
    "                \n",
    "    def __repr__(self):\n",
    "        return r\"PlainVanillaOption('{}', S_t={:.1f}, K={:.1f}, t={}, T={}, tau={:.2f}y, r={:.1f}%, sigma={:.1f}%)\".\\\n",
    "                format(self.get_type(), self.get_S(), self.get_K(), self.get_t().strftime(\"%d-%m-%Y\"), \n",
    "                       self.get_T().strftime(\"%d-%m-%Y\"), self.get_tau(), self.get_r()*100, self.get_sigma()*100)\n",
    "    \n",
    "    # getters\n",
    "    def get_info(self):\n",
    "        return self.__info\n",
    "    \n",
    "    def get_mkt_info(self):\n",
    "        return self.__mkt_info\n",
    "\n",
    "    def get_docstring(self, label):\n",
    "        return self.__docstring_dict[self.get_type()][label] \n",
    "    \n",
    "    # payoff calculation - with optional *args and **kwargs parameters\n",
    "    def payoff(self, *args, **kwargs):\n",
    "        \"\"\"\n",
    "        Can be called as:\n",
    "            - payoff(): uses .get_S() \n",
    "            - payoff(100.0): S == 100.0\n",
    "            - payoff(S=100.0)\n",
    "            - payoff([100.0, ..., 120.0]): S == [100.0, ..., 120.0] \n",
    "            - payoff(S=[100.0, ..., 120.0])\n",
    "        \"\"\"\n",
    "        \n",
    "        # underlying value \n",
    "        S, _ = self.parse_S_tau_parameters(*args, **kwargs)\n",
    "                \n",
    "        # call case\n",
    "        if self.get_type() == 'call':\n",
    "            return self.__call_payoff(S)\n",
    "        # put case\n",
    "        else:\n",
    "            return self.__put_payoff(S)\n",
    "    \n",
    "    def __call_payoff(self, S):\n",
    "        if is_iterable(S):\n",
    "            return np.array([max(0.0, s - self.get_K()) for s in S])\n",
    "        else:\n",
    "            return max(0.0, S - self.get_K())\n",
    "\n",
    "    def __put_payoff(self, S):\n",
    "        if is_iterable(S):\n",
    "            return np.array([max(0.0, self.get_K() - s) for s in S])\n",
    "        else:\n",
    "            return max(0.0, self.get_K() - S)\n",
    "        \n",
    "    # upper price limit - with optional *args and **kwargs parameters\n",
    "    def price_upper_limit(self, *args, **kwargs):\n",
    "        \"\"\"\n",
    "        Can be called as:\n",
    "            - price_upper_limit(): uses .get_S() and .get_tau()\n",
    "            - price_upper_limit(100.0): S == 100.0\n",
    "            - price_upper_limit(100.0, 0.1): S == 100.0 and tau == 0.1\n",
    "            - price_upper_limit(S=100.0, tau=0.1)\n",
    "            - price_upper_limit([100.0, ..., 120.0], 0.1): S == [100.0, ..., 120.0] and tau == 0.1\n",
    "            - price_upper_limit(S=[100.0, ..., 120.0], tau=0.1)\n",
    "        \"\"\"\n",
    "\n",
    "        # underlying value and time-to-maturity\n",
    "        S, tau = self.parse_S_tau_parameters(*args, **kwargs)\n",
    "\n",
    "        # call case\n",
    "        if self.get_type() == 'call':\n",
    "            return S\n",
    "        # put case\n",
    "        else:\n",
    "            return self.__put_price_upper_limit(S, tau)\n",
    "    \n",
    "    def __put_price_upper_limit(self, S, tau):\n",
    "        if is_iterable(S):\n",
    "            return np.repeat(self.get_K()*np.exp(-self.get_r() * tau), repeats=len(S)) \n",
    "        else:\n",
    "            return self.get_K()*np.exp(-self.get_r() * tau)\n",
    "\n",
    "    # lower price limit - with optional *args and **kwargs parameters\n",
    "    def price_lower_limit(self, *args, **kwargs):\n",
    "        \"\"\"\n",
    "        Can be called as:\n",
    "            - price_lower_limit(): uses .get_S() and .get_tau()\n",
    "            - price_lower_limit(100.0): S == 100.0\n",
    "            - price_lower_limit(100.0, 0.1): S == 100.0 and tau == 0.1\n",
    "            - price_lower_limit(S=100.0, tau=0.1)\n",
    "            - price_lower_limit([100.0, ..., 120.0], 0.1): S == [100.0, ..., 120.0] and tau == 0.1\n",
    "            - price_lower_limit(S=[100.0, ..., 120.0], tau=0.1)\n",
    "        \"\"\"\n",
    "\n",
    "        # underlying value and time-to-maturity\n",
    "        S, tau = self.parse_S_tau_parameters(*args, **kwargs)\n",
    "                                       \n",
    "        # call case\n",
    "        if self.get_type() == 'call':\n",
    "            return self.__call_price_lower_limit(S, tau)\n",
    "        # put case\n",
    "        else:\n",
    "            return self.__put_price_lower_limit(S, tau)\n",
    "\n",
    "    def __call_price_lower_limit(self, S, tau):\n",
    "        if is_iterable(S):\n",
    "            return np.array([max(s - self.get_K()*np.exp(-self.get_r() * tau), 0.0) for s in S])\n",
    "        else:\n",
    "            return max(S - self.get_K()*np.exp(-self.get_r() * tau), 0.0)\n",
    "                                       \n",
    "    def __put_price_lower_limit(self, S, tau):\n",
    "        if is_iterable(S):\n",
    "            return np.array([max(self.get_K()*np.exp(-self.get_r() * tau) - s, 0.0) for s in S])\n",
    "        else:\n",
    "            return max(self.get_K()*np.exp(-self.get_r() * tau) - S, 0.0)\n",
    "                                       \n",
    "    # price calculation - with optional *args and **kwargs parameters\n",
    "    def price(self, *args, **kwargs):\n",
    "        \"\"\"\n",
    "        Can be called as:\n",
    "            - price(): uses .get_S() and .get_tau()\n",
    "            - price(100.0): S == 100.0\n",
    "            - price(100.0, 0.1): S == 100.0 and tau == 0.1\n",
    "            - price(S=100.0, tau=0.1)\n",
    "            - price([100.0, ..., 120.0], 0.1): S == [100.0, ..., 120.0] and tau == 0.1\n",
    "            - price(S=[100.0, ..., 120.0], tau=0.1)\n",
    "        \"\"\"\n",
    "                       \n",
    "        # underlying value and time-to-maturity\n",
    "        S, tau = self.parse_S_tau_parameters(*args, **kwargs)\n",
    "               \n",
    "        # call case\n",
    "        if self.get_type() == 'call':\n",
    "            return np.array([self.__call_price(s, tau) for s in S]) if is_iterable(S) else self.__call_price(S, tau)\n",
    "        # put case\n",
    "        else:\n",
    "            return np.array([self.__put_price(s, tau) for s in S]) if is_iterable(S) else self.__put_price(S, tau)\n",
    "          \n",
    "    def __call_price(self, S, tau):\n",
    "        \n",
    "        if S == 0: # this is to avoid log(0) issues\n",
    "            return 0.0\n",
    "        elif tau == 0.0: # this is to avoid 0/0 issues\n",
    "            return self.__call_payoff(S)\n",
    "        else:\n",
    "            K     = self.get_K()\n",
    "            r     = self.get_r()\n",
    "            sigma = self.get_sigma()\n",
    "\n",
    "            d1 = (np.log(S/K) + (r + 0.5 * sigma ** 2) * tau) / (sigma * np.sqrt(tau))\n",
    "            d2 = d1 - sigma * np.sqrt(tau)\n",
    "\n",
    "            price = S * stats.norm.cdf(d1, 0.0, 1.0) - K * np.exp(-r * tau) * stats.norm.cdf(d2, 0.0, 1.0)\n",
    "\n",
    "            return price\n",
    "    \n",
    "    def __put_price(self, S, tau):\n",
    "        \"\"\" Put price from Put-Call parity relation: Call + Ke^{-r*tau} = Put + S\"\"\"\n",
    "        return self.__call_price(S, tau) + self.get_K() * np.exp(- self.get_r() * tau) - S     "
   ]
  },
  {
   "cell_type": "markdown",
   "metadata": {},
   "source": [
    "Line 44: in the initializer we make use of _agnostic_ argument passing to call the `EuropeanOption`'s initializer.\n",
    "\n"
   ]
  },
  {
   "cell_type": "code",
   "execution_count": null,
   "metadata": {},
   "outputs": [],
   "source": [
    "Vanilla_Call = PlainVanillaOption(market_env, option_type='call', K=110.0, T=\"31-12-2022\")\n",
    "Vanilla_Call"
   ]
  },
  {
   "cell_type": "code",
   "execution_count": null,
   "metadata": {},
   "outputs": [],
   "source": [
    "Vanilla_Call = PlainVanillaOption(market_env)\n",
    "Vanilla_Call"
   ]
  },
  {
   "cell_type": "code",
   "execution_count": null,
   "metadata": {
    "scrolled": false
   },
   "outputs": [],
   "source": [
    "Vanilla_Call.payoff() # using .get_S() "
   ]
  },
  {
   "cell_type": "code",
   "execution_count": null,
   "metadata": {},
   "outputs": [],
   "source": [
    "Vanilla_Call.payoff(90) # using args[0] for S"
   ]
  },
  {
   "cell_type": "code",
   "execution_count": null,
   "metadata": {},
   "outputs": [],
   "source": [
    "Vanilla_Call.payoff(S=90) # using kwargs['S'] for S"
   ]
  },
  {
   "cell_type": "code",
   "execution_count": null,
   "metadata": {},
   "outputs": [],
   "source": [
    "Vanilla_Call.payoff([90, 100.0]) # using args[0] for S (and list in input)"
   ]
  },
  {
   "cell_type": "code",
   "execution_count": null,
   "metadata": {},
   "outputs": [],
   "source": [
    "Vanilla_Call.payoff(S=[90, 100.0]) # using kwargs['S'] for S (and list in input) "
   ]
  },
  {
   "cell_type": "code",
   "execution_count": null,
   "metadata": {
    "scrolled": true
   },
   "outputs": [],
   "source": [
    "Vanilla_Call.price() # using .get_S() and .get_tau()"
   ]
  },
  {
   "cell_type": "code",
   "execution_count": null,
   "metadata": {},
   "outputs": [],
   "source": [
    "Vanilla_Call.price(90) # using args[0] for S"
   ]
  },
  {
   "cell_type": "code",
   "execution_count": null,
   "metadata": {},
   "outputs": [],
   "source": [
    "Vanilla_Call.price(90, 0.1) # using args[0] for S and args[1] for tau"
   ]
  },
  {
   "cell_type": "code",
   "execution_count": null,
   "metadata": {},
   "outputs": [],
   "source": [
    "isinstance(Vanilla_Call.get_T(), dt.datetime)"
   ]
  },
  {
   "cell_type": "code",
   "execution_count": null,
   "metadata": {},
   "outputs": [],
   "source": [
    "Vanilla_Call.price(S=90, tau=0.1) # using kwargs['S'] for S and kwargs['tau'] for tau"
   ]
  },
  {
   "cell_type": "code",
   "execution_count": null,
   "metadata": {},
   "outputs": [],
   "source": [
    "Vanilla_Call.price([90, 100.0], tau=0.1) # using args[0] for S (and list in input) and args[1] for tau"
   ]
  },
  {
   "cell_type": "code",
   "execution_count": null,
   "metadata": {},
   "outputs": [],
   "source": [
    "Vanilla_Call.price(S=[90, 100.0], tau=0.1) # using kwargs['S'] for S (and list in input) and kwargs['tau'] for tau"
   ]
  },
  {
   "cell_type": "code",
   "execution_count": null,
   "metadata": {},
   "outputs": [],
   "source": [
    "Vanilla_Call.price([90, 100.0], 0.1) # using kwargs['S'] for S (and list in input) and kwargs['tau'] for tau"
   ]
  },
  {
   "cell_type": "code",
   "execution_count": null,
   "metadata": {
    "scrolled": true
   },
   "outputs": [],
   "source": [
    "Vanilla_Call.price_upper_limit() # using .get_S() and .get_tau()"
   ]
  },
  {
   "cell_type": "code",
   "execution_count": null,
   "metadata": {},
   "outputs": [],
   "source": [
    "Vanilla_Call.price_upper_limit(90) # using args[0] for S"
   ]
  },
  {
   "cell_type": "code",
   "execution_count": null,
   "metadata": {},
   "outputs": [],
   "source": [
    "Vanilla_Call.price_upper_limit(90, 0.1) # using args[0] for S and args[1] for tau"
   ]
  },
  {
   "cell_type": "code",
   "execution_count": null,
   "metadata": {},
   "outputs": [],
   "source": [
    "Vanilla_Call.price_upper_limit(S=90, tau=0.1) # using kwargs['S'] for S and kwargs['tau'] for tau"
   ]
  },
  {
   "cell_type": "code",
   "execution_count": null,
   "metadata": {},
   "outputs": [],
   "source": [
    "Vanilla_Call.price_upper_limit([90, 100.0], tau=0.1) # using args[0] for S (and list in input) and args[1] for tau"
   ]
  },
  {
   "cell_type": "code",
   "execution_count": null,
   "metadata": {},
   "outputs": [],
   "source": [
    "Vanilla_Call.price_upper_limit(S=[90, 100.0], tau=0.1) # using kwargs['S'] for S (and list in input) and kwargs['tau'] for tau"
   ]
  },
  {
   "cell_type": "code",
   "execution_count": null,
   "metadata": {
    "scrolled": true
   },
   "outputs": [],
   "source": [
    "Vanilla_Call.price_lower_limit() # using .get_S() and .get_tau()"
   ]
  },
  {
   "cell_type": "code",
   "execution_count": null,
   "metadata": {},
   "outputs": [],
   "source": [
    "Vanilla_Call.price_lower_limit(90) # using args[0] for S"
   ]
  },
  {
   "cell_type": "code",
   "execution_count": null,
   "metadata": {},
   "outputs": [],
   "source": [
    "Vanilla_Call.price_lower_limit(90, 0.1) # using args[0] for S and args[1] for tau"
   ]
  },
  {
   "cell_type": "code",
   "execution_count": null,
   "metadata": {},
   "outputs": [],
   "source": [
    "Vanilla_Call.price_lower_limit(S=90, tau=0.1) # using kwargs['S'] for S and kwargs['tau'] for tau"
   ]
  },
  {
   "cell_type": "code",
   "execution_count": null,
   "metadata": {},
   "outputs": [],
   "source": [
    "Vanilla_Call.price_lower_limit([90, 100.0], tau=0.1) # using args[0] for S (and list in input) and args[1] for tau"
   ]
  },
  {
   "cell_type": "code",
   "execution_count": null,
   "metadata": {},
   "outputs": [],
   "source": [
    "Vanilla_Call.price_lower_limit(S=[90, 100.0], tau=0.1) # using kwargs['S'] for S (and list in input) and kwargs['tau'] for tau"
   ]
  },
  {
   "cell_type": "markdown",
   "metadata": {},
   "source": [
    "**USAGE WITH 't' PARAMETER**"
   ]
  },
  {
   "cell_type": "code",
   "execution_count": null,
   "metadata": {},
   "outputs": [],
   "source": [
    "Vanilla_Call.get_tau()"
   ]
  },
  {
   "cell_type": "code",
   "execution_count": null,
   "metadata": {},
   "outputs": [],
   "source": [
    "Vanilla_Call.get_t()"
   ]
  },
  {
   "cell_type": "code",
   "execution_count": null,
   "metadata": {
    "scrolled": true
   },
   "outputs": [],
   "source": [
    "Vanilla_Call.time_to_maturity(t=\"19-05-2020\")"
   ]
  },
  {
   "cell_type": "code",
   "execution_count": null,
   "metadata": {},
   "outputs": [],
   "source": [
    "Vanilla_Call.price(t=\"19-05-2020\")"
   ]
  },
  {
   "cell_type": "code",
   "execution_count": null,
   "metadata": {},
   "outputs": [],
   "source": [
    "Vanilla_Call.price(tau=Vanilla_Call.time_to_maturity(t=\"19-05-2020\"))"
   ]
  },
  {
   "cell_type": "markdown",
   "metadata": {},
   "source": [
    "the same can be done in the put case"
   ]
  },
  {
   "cell_type": "code",
   "execution_count": null,
   "metadata": {},
   "outputs": [],
   "source": [
    "Vanilla_Put = PlainVanillaOption(market_env, option_type='put')\n",
    "Vanilla_Put"
   ]
  },
  {
   "cell_type": "code",
   "execution_count": null,
   "metadata": {
    "scrolled": true
   },
   "outputs": [],
   "source": [
    "Vanilla_Put.payoff() # using .get_S() "
   ]
  },
  {
   "cell_type": "markdown",
   "metadata": {},
   "source": [
    "etc"
   ]
  },
  {
   "cell_type": "code",
   "execution_count": null,
   "metadata": {},
   "outputs": [],
   "source": [
    "class DigitalOption(EuropeanOption):\n",
    "    \"\"\"\n",
    "    DigitalOption class implementing payoff and pricing of digital call and put options.\n",
    "    Put price is calculated using put-call parity\n",
    "    \n",
    "    Attributes:\n",
    "    -----------\n",
    "        mkt_env (MarketEnvironment): Instance of MarketEnvironment class\n",
    "        Q (float):                   cash amount\n",
    "        type (str):                  From 'type' attribute of EuropeanOption base class.\n",
    "        S_t (float):                 'S' attribute of mkt_env.\n",
    "        K (float):                   From 'K' attribute of EuropeanOption base class.\n",
    "        t (str; dt.datetime):        't' attribute of mkt_env.\n",
    "        T (str; dt.datetime):        From 'T' attribute of EuropeanOption base class.\n",
    "        tau (float):                 time to maturity in years, computed as tau=T-t by time_to_maturity() method\n",
    "        r (float):                   'r' attribute of mkt_env.\n",
    "        sigma (float):               'sigma' attribute of mkt_env.\n",
    "    \n",
    "    Public Methods:\n",
    "    --------   \n",
    "    \n",
    "        payoff: float\n",
    "            Computes the payoff of the option and returns it\n",
    "\n",
    "        price_upper_limit: float \n",
    "            Returns the upper limit for a vanilla option price.\n",
    "\n",
    "        price_lower_limit: float \n",
    "            Returns the lower limit for a vanilla option price.\n",
    "            \n",
    "        price: float\n",
    "            Computes the exact price of the option and returns it, using call_price() or put_price()\n",
    "\n",
    "    Usage: \n",
    "    --------   \n",
    "        - default: DigitalOption(mkt_env) is equivalent to \n",
    "                   DigitalOption(mkt_env, cash_amount=1.0, option_type='call', K=100.0, T=\"31-12-2020\")\n",
    "\n",
    "        - general: DigitalOption(mkt_env, cash_amount=Float, option_type='call' or 'put' String, K=Float, T=\"DD-MM-YYYY\" String)\n",
    "\n",
    "    where: mkt_env is a MarketEnvironment instance.\n",
    "    \"\"\"\n",
    "\n",
    "    # initializer with optional *args and **kwargs parameters and default cash_amount\n",
    "    # default keyword arguments (like cash_amount here) must go after args list argument in function def\n",
    "    def __init__(self, *args, cash_amount=1.0, **kwargs):  \n",
    "        \n",
    "        # calling the EuropeanOption initializer\n",
    "        super(DigitalOption, self).__init__(*args, **kwargs)\n",
    "        \n",
    "        # amount of cash in case of payment\n",
    "        self.__Q = cash_amount    \n",
    "        \n",
    "        # info strings\n",
    "        self.__info = r\"CON {} [K={:.1f}, T={} (tau={:.2f}y), Q={:.1f}]\".format(self.get_type(), self.get_K(), datetime_obj_to_date_string(self.get_T()), self.get_tau(), self.get_Q())\n",
    "        self.__mkt_info = r\"[S_t={:.1f}, r={:.1f}%, sigma={:.1f}%, t={}]\".format(self.get_S(), self.get_r()*100, self.get_sigma()*100, datetime_obj_to_date_string(self.get_t()))\n",
    "\n",
    "        # informations dictionary\n",
    "        self.__docstring_dict = {\n",
    "            'call':{\n",
    "                'price_upper_limit': r\"Upper limit: $Q e^{-r \\tau}$\",\n",
    "                'payoff':            r\"Payoff: $Q$ $I(S > K)$\",\n",
    "                'price_lower_limit': r\"Lower limit: $0$\"\n",
    "            },\n",
    "            'put': {\n",
    "                'price_upper_limit': r\"Upper limit: $Q e^{-r \\tau}$\",\n",
    "                'payoff':            r\"Payoff: $Q$ $I(S \\leq K)$\",\n",
    "                'price_lower_limit': r\"Lower limit: $0$\"}\n",
    "        }        \n",
    "                \n",
    "    def __repr__(self):\n",
    "        return r\"DigitalOption('{}', cash={:.1f}, S_t={:.1f}, K={:.1f}, t={}, T={}, tau={:.2f}y, r={:.1f}%, sigma={:.1f}%)\".\\\n",
    "                format(self.get_type(), self.get_Q(), self.get_S(), self.get_K(), self.get_t().strftime(\"%d-%m-%Y\"), \n",
    "                       self.get_T().strftime(\"%d-%m-%Y\"), self.get_tau(), self.get_r()*100, self.get_sigma()*100)\n",
    "    \n",
    "    # getters\n",
    "    def get_info(self):\n",
    "        return self.__info\n",
    "    \n",
    "    def get_mkt_info(self):\n",
    "        return self.__mkt_info\n",
    "    \n",
    "    def get_Q(self):\n",
    "        return self.__Q\n",
    "    \n",
    "    # docstring getter\n",
    "    def get_docstring(self, label):\n",
    "        return self.__docstring_dict[self.get_type()][label] \n",
    "    \n",
    "    # setters\n",
    "    def set_Q(self, cash_amount):\n",
    "        self.__Q = cash_amount\n",
    "    \n",
    "    # payoff calculation - with optional *args and **kwargs parameters\n",
    "    def payoff(self, *args, **kwargs):\n",
    "        \"\"\"\n",
    "        Can be called as:\n",
    "            - payoff(): uses .get_S() \n",
    "            - payoff(100.0): S == 100.0\n",
    "            - payoff(S=100.0)\n",
    "            - payoff([100.0, ..., 120.0]): S == [100.0, ..., 120.0] \n",
    "            - payoff(S=[100.0, ..., 120.0])\n",
    "        \"\"\"\n",
    "        \n",
    "        # underlying value\n",
    "        S, _ = self.parse_S_tau_parameters(*args, **kwargs)\n",
    "        \n",
    "        # call case\n",
    "        if self.get_type() == 'call':\n",
    "            return self.__call_payoff(S)\n",
    "        # put case\n",
    "        else:\n",
    "            return self.__put_payoff(S)\n",
    "\n",
    "    def __call_payoff(self, S):\n",
    "        if is_iterable(S):\n",
    "            return np.array([self.get_Q() * int(s > self.get_K()) for s in S])\n",
    "        else:\n",
    "            return self.get_Q() * int(S > self.get_K())\n",
    "\n",
    "    def __put_payoff(self, S):\n",
    "        if is_iterable(S):\n",
    "            return np.array([self.get_Q() * int(s <= self.get_K()) for s in S])\n",
    "        else:\n",
    "            return self.get_Q() * int(S <= self.get_K())\n",
    "        \n",
    "    # upper price limit - with optional *args and **kwargs parameters\n",
    "    def price_upper_limit(self, *args, **kwargs):\n",
    "        \"\"\"\n",
    "        Can be called as:\n",
    "            - price_upper_limit(): uses .get_S() and .get_tau()\n",
    "            - price_upper_limit(100.0): S == 100.0\n",
    "            - price_upper_limit(100.0, 0.1): S == 100.0 and tau == 0.1\n",
    "            - price_upper_limit(S=100.0, tau=0.1)\n",
    "            - price_upper_limit([100.0, ..., 120.0], 0.1): S == [100.0, ..., 120.0] and tau == 0.1\n",
    "            - price_upper_limit(S=[100.0, ..., 120.0], tau=0.1)\n",
    "        \"\"\"\n",
    "\n",
    "        # underlying value and time-to-maturity\n",
    "        S, tau = self.parse_S_tau_parameters(*args, **kwargs)\n",
    "            \n",
    "        # the same for call and put\n",
    "        return self.__price_upper_limit(S, tau)\n",
    " \n",
    "    def __price_upper_limit(self, S, tau):\n",
    "        if is_iterable(S):\n",
    "            return np.repeat(self.get_Q()*np.exp(-self.get_r() * tau), repeats=len(S))\n",
    "        else:\n",
    "            return self.get_Q()*np.exp(-self.get_r() * tau)\n",
    "                                       \n",
    "    # lower price limit - with optional *args and **kwargs parameters\n",
    "    def price_lower_limit(self, *args, **kwargs):\n",
    "        \"\"\"\n",
    "        Can be called as:\n",
    "            - price_lower_limit(): uses .get_S() \n",
    "            - price_lower_limit(100.0): S == 100.0\n",
    "            - price_lower_limit(S=100.0)\n",
    "            - price_lower_limit([100.0, ..., 120.0]): S == [100.0, ..., 120.0] \n",
    "            - price_lower_limit(S=[100.0, ..., 120.0])\n",
    "        \"\"\"\n",
    "\n",
    "        # underlying value\n",
    "        S, _ = self.parse_S_tau_parameters(*args, **kwargs)\n",
    "            \n",
    "        # call case\n",
    "        if self.get_type() == 'call':\n",
    "            return np.repeat(0.0, repeats=len(S)) if is_iterable(S) else 0.0\n",
    "        # put case\n",
    "        else:\n",
    "            return np.repeat(0.0, repeats=len(S)) if is_iterable(S) else 0.0\n",
    "        \n",
    "    # price calculation - with optional *args and **kwargs parameters\n",
    "    def price(self, *args, **kwargs):\n",
    "        \"\"\"\n",
    "        Can be called as:\n",
    "            - price(): uses .get_S() and .get_tau()\n",
    "            - price(100.0): S == 100.0\n",
    "            - price(100.0, 0.1): S == 100.0 and tau == 0.1\n",
    "            - price(S=100.0, tau=0.1)\n",
    "            - price([100.0, ..., 120.0], 0.1): S == [100.0, ..., 120.0] and tau == 0.1\n",
    "            - price(S=[100.0, ..., 120.0], tau=0.1)\n",
    "        \"\"\"\n",
    "                       \n",
    "        # underlying value and time-to-maturity\n",
    "        S, tau = self.parse_S_tau_parameters(*args, **kwargs)\n",
    "            \n",
    "        # call case\n",
    "        if self.get_type() == 'call':\n",
    "            return np.array([self.__call_price(s, tau) for s in S]) if is_iterable(S) else self.__call_price(S, tau)\n",
    "        # put case\n",
    "        else:\n",
    "            return np.array([self.__put_price(s, tau) for s in S]) if is_iterable(S) else self.__put_price(S, tau)\n",
    "          \n",
    "    def __call_price(self, S, tau):\n",
    "                \n",
    "        if S == 0: # this is to avoid log(0) issues\n",
    "            return 0.0\n",
    "        elif tau == 0.0: # this is to avoid 0/0 issues\n",
    "            return self.__call_payoff(S)\n",
    "        else:\n",
    "            Q     = self.get_Q()\n",
    "            K     = self.get_K()\n",
    "            r     = self.get_r()\n",
    "            sigma = self.get_sigma()\n",
    "\n",
    "            d1 = (np.log(S/K) + (r + 0.5 * sigma ** 2) * tau) / (sigma * np.sqrt(tau))\n",
    "            d2 = d1 - sigma * np.sqrt(tau)\n",
    "\n",
    "            price = Q * np.exp(-r * tau) * stats.norm.cdf(d2, 0.0, 1.0)\n",
    "\n",
    "            return price\n",
    "    \n",
    "    def __put_price(self, S, tau):\n",
    "        \"\"\" Put price from Put-Call parity relation: CON_Call + CON_Put = Qe^{-r*tau}\"\"\"\n",
    "        return self.get_Q() * np.exp(- self.get_r() * tau) - self.__call_price(S, tau)        "
   ]
  },
  {
   "cell_type": "code",
   "execution_count": null,
   "metadata": {},
   "outputs": [],
   "source": [
    "CON_Call = DigitalOption(market_env)\n",
    "CON_Call"
   ]
  },
  {
   "cell_type": "code",
   "execution_count": null,
   "metadata": {},
   "outputs": [],
   "source": [
    "CON_Call = DigitalOption(market_env, cash_amount=1000.0)\n",
    "CON_Call"
   ]
  },
  {
   "cell_type": "code",
   "execution_count": null,
   "metadata": {},
   "outputs": [],
   "source": [
    "CON_Call = DigitalOption(market_env, option_type='call', K=110.0, T=\"31-12-2022\")\n",
    "CON_Call"
   ]
  },
  {
   "cell_type": "code",
   "execution_count": null,
   "metadata": {},
   "outputs": [],
   "source": [
    "CON_Call = DigitalOption(market_env, cash_amount=1000.0, option_type='call', K=110.0, T=\"31-12-2022\")\n",
    "CON_Call"
   ]
  },
  {
   "cell_type": "code",
   "execution_count": null,
   "metadata": {
    "scrolled": true
   },
   "outputs": [],
   "source": [
    "CON_Call = DigitalOption(market_env)\n",
    "CON_Call"
   ]
  },
  {
   "cell_type": "code",
   "execution_count": null,
   "metadata": {
    "scrolled": true
   },
   "outputs": [],
   "source": [
    "CON_Call.payoff() # using .get_S() "
   ]
  },
  {
   "cell_type": "code",
   "execution_count": null,
   "metadata": {},
   "outputs": [],
   "source": [
    "CON_Call.payoff(90) # using args[0] for S"
   ]
  },
  {
   "cell_type": "code",
   "execution_count": null,
   "metadata": {},
   "outputs": [],
   "source": [
    "CON_Call.payoff(S=90) # using kwargs['S'] for S"
   ]
  },
  {
   "cell_type": "code",
   "execution_count": null,
   "metadata": {},
   "outputs": [],
   "source": [
    "CON_Call.payoff([90, 100.0]) # using args[0] for S (and list in input)"
   ]
  },
  {
   "cell_type": "code",
   "execution_count": null,
   "metadata": {},
   "outputs": [],
   "source": [
    "CON_Call.payoff(S=[90, 100.0]) # using kwargs['S'] for S (and list in input) "
   ]
  },
  {
   "cell_type": "code",
   "execution_count": null,
   "metadata": {
    "scrolled": true
   },
   "outputs": [],
   "source": [
    "CON_Call.price() # using .get_S() and .get_tau()"
   ]
  },
  {
   "cell_type": "code",
   "execution_count": null,
   "metadata": {},
   "outputs": [],
   "source": [
    "CON_Call.price(90) # using args[0] for S"
   ]
  },
  {
   "cell_type": "code",
   "execution_count": null,
   "metadata": {},
   "outputs": [],
   "source": [
    "CON_Call.price(90, 0.1) # using args[0] for S and args[1] for tau"
   ]
  },
  {
   "cell_type": "code",
   "execution_count": null,
   "metadata": {},
   "outputs": [],
   "source": [
    "CON_Call.price(S=90, tau=0.1) # using kwargs['S'] for S and kwargs['tau'] for tau"
   ]
  },
  {
   "cell_type": "code",
   "execution_count": null,
   "metadata": {},
   "outputs": [],
   "source": [
    "CON_Call.price([90, 100.0], tau=0.1) # using args[0] for S (and list in input) and args[1] for tau"
   ]
  },
  {
   "cell_type": "code",
   "execution_count": null,
   "metadata": {},
   "outputs": [],
   "source": [
    "CON_Call.price(S=[90, 100.0], tau=0.1) # using kwargs['S'] for S (and list in input) and kwargs['tau'] for tau"
   ]
  },
  {
   "cell_type": "code",
   "execution_count": null,
   "metadata": {
    "scrolled": true
   },
   "outputs": [],
   "source": [
    "CON_Call.price_upper_limit() # using .get_S() and .get_tau()"
   ]
  },
  {
   "cell_type": "code",
   "execution_count": null,
   "metadata": {},
   "outputs": [],
   "source": [
    "CON_Call.price_upper_limit(90) # using args[0] for S"
   ]
  },
  {
   "cell_type": "code",
   "execution_count": null,
   "metadata": {},
   "outputs": [],
   "source": [
    "CON_Call.price_upper_limit(90, 0.1) # using args[0] for S and args[1] for tau"
   ]
  },
  {
   "cell_type": "code",
   "execution_count": null,
   "metadata": {},
   "outputs": [],
   "source": [
    "CON_Call.price_upper_limit(S=90, tau=0.1) # using kwargs['S'] for S and kwargs['tau'] for tau"
   ]
  },
  {
   "cell_type": "code",
   "execution_count": null,
   "metadata": {},
   "outputs": [],
   "source": [
    "CON_Call.price_upper_limit([90, 100.0], tau=0.1) # using args[0] for S (and list in input) and args[1] for tau"
   ]
  },
  {
   "cell_type": "code",
   "execution_count": null,
   "metadata": {},
   "outputs": [],
   "source": [
    "CON_Call.price_upper_limit(S=[90, 100.0], tau=0.1) # using kwargs['S'] for S (and list in input) and kwargs['tau'] for tau"
   ]
  },
  {
   "cell_type": "code",
   "execution_count": null,
   "metadata": {
    "scrolled": true
   },
   "outputs": [],
   "source": [
    "CON_Call.price_lower_limit() # using .get_S() and .get_tau()"
   ]
  },
  {
   "cell_type": "code",
   "execution_count": null,
   "metadata": {},
   "outputs": [],
   "source": [
    "CON_Call.price_lower_limit(90) # using args[0] for S"
   ]
  },
  {
   "cell_type": "code",
   "execution_count": null,
   "metadata": {},
   "outputs": [],
   "source": [
    "CON_Call.price_lower_limit(90, 0.1) # using args[0] for S and args[1] for tau"
   ]
  },
  {
   "cell_type": "code",
   "execution_count": null,
   "metadata": {},
   "outputs": [],
   "source": [
    "CON_Call.price_lower_limit(S=90, tau=0.1) # using kwargs['S'] for S and kwargs['tau'] for tau"
   ]
  },
  {
   "cell_type": "code",
   "execution_count": null,
   "metadata": {},
   "outputs": [],
   "source": [
    "CON_Call.price_lower_limit([90, 100.0], tau=0.1) # using args[0] for S (and list in input) and args[1] for tau"
   ]
  },
  {
   "cell_type": "code",
   "execution_count": null,
   "metadata": {},
   "outputs": [],
   "source": [
    "CON_Call.price_lower_limit(S=[90, 100.0], tau=0.1) # using kwargs['S'] for S (and list in input) and kwargs['tau'] for tau"
   ]
  },
  {
   "cell_type": "markdown",
   "metadata": {},
   "source": [
    "the same can be done in the put case"
   ]
  },
  {
   "cell_type": "code",
   "execution_count": null,
   "metadata": {
    "scrolled": true
   },
   "outputs": [],
   "source": [
    "CON_Put = DigitalOption(market_env, option_type='put')\n",
    "CON_Put"
   ]
  },
  {
   "cell_type": "code",
   "execution_count": null,
   "metadata": {
    "scrolled": true
   },
   "outputs": [],
   "source": [
    "CON_Put.payoff() # using .get_S() "
   ]
  },
  {
   "cell_type": "markdown",
   "metadata": {},
   "source": [
    "etc"
   ]
  },
  {
   "cell_type": "markdown",
   "metadata": {},
   "source": [
    "Let's now define a plotter class to plot option"
   ]
  },
  {
   "cell_type": "code",
   "execution_count": null,
   "metadata": {},
   "outputs": [],
   "source": [
    "class OptionPlotter:\n",
    "    \n",
    "    def __init__(self, FinancialInstrument):\n",
    "\n",
    "        # parse informations from FinancialInstrument\n",
    "        self.fin_inst = FinancialInstrument\n",
    "        self.__title_label = self.fin_inst.get_info() + \"\\n\" + \"Market at emission: \" + self.fin_inst.get_mkt_info()\n",
    "\n",
    "        # set default x-axis \n",
    "        self.__x_axis = self.x_axis(self.fin_inst.get_K())\n",
    "\n",
    "        # set default time parameter\n",
    "        self.__time_parameter, _ = self.time_parameter(self.fin_inst.get_tau())\n",
    "        \n",
    "    # getters\n",
    "    def get_x_axis(self):\n",
    "        return self.__x_axis\n",
    "\n",
    "    def get_time_parameter(self):\n",
    "        return self.__time_parameter\n",
    "\n",
    "    def get_title(self):\n",
    "        return self.__title_label\n",
    "    \n",
    "    # utility methods\n",
    "    def x_axis(self, *args, **kwargs):\n",
    "        \"\"\"\n",
    "        Utility method to define the x-axis of the plot, optionally parsing x-axis in input.\n",
    "        \"\"\"\n",
    "        \n",
    "        # parsing optional parameter\n",
    "        x = args[0] if len(args) > 0 else kwargs['S'] if 'S' in kwargs else self.get_x_axis()\n",
    "        \n",
    "        # define the x-axis\n",
    "        \n",
    "        # case 1: a list of x-points in input. The x-axis is a wide range, including x-points\n",
    "        if is_iterable(x):\n",
    "            x_min = max(min(x)-20, 0.0)\n",
    "            x_max = max(x)+20\n",
    "        # case 2: a single x-point in input. The x-point is the middle point of the x-axis\n",
    "        else:\n",
    "            x_min = max(x-20, 0.0)\n",
    "            x_max = x+20\n",
    "\n",
    "        return np.linspace(x_min, x_max, 100)\n",
    "    \n",
    "    def time_parameter(self, *args, **kwargs):\n",
    "        \"\"\"\n",
    "        Utility method to define the time parameter of the plot, optionally parsing time parameter in input.\n",
    "        It returns appropriate time parameter labels too.\n",
    "        \"\"\"\n",
    "        \n",
    "        # parsing optional parameter: notice the backslash operator '\\' \n",
    "        # to split code into multiple lines for readability\n",
    "        time = args[0] if len(args) == 1 \\\n",
    "               else args[1] if len(args) > 1 \\\n",
    "                   else (kwargs['tau'] if 'tau' in kwargs \\\n",
    "                       else (kwargs['t'] if 't' in kwargs else self.get_time_parameter()))\n",
    "        \n",
    "        # case 1: time-to-maturity in input (if Iterable, sort from longest to shortest)\n",
    "        if is_numeric(time):\n",
    "            time_parameter = np.sort(time)[::-1] if is_iterable_not_string(time) else time\n",
    "            time_parameter_label = np.array([r\"$\\tau={:.2f}y$\".format(tau) for tau in time_parameter]) \\\n",
    "                                    if is_iterable_not_string(time) else r\"$\\tau={:.2f}y$\".format(time_parameter)\n",
    "\n",
    "        # case 2: valuation date in input (if Iterable, sort from first to last, i.e. chronological order)\n",
    "        elif is_date(time):\n",
    "            time_parameter = np.array(sorted(time, key=date_string_to_datetime_obj)) if is_iterable_not_string(time) else time\n",
    "            time_parameter_label = np.array([datetime_obj_to_date_string(t) for t in time_parameter]) \\\n",
    "                                    if is_iterable_not_string(time) else datetime_obj_to_date_string(time_parameter)\n",
    "\n",
    "        else:\n",
    "            raise TypeError(\"Time parameter {} in input has not recognized data-type \\\n",
    "                             (only 'dd-mm-YYYY' Strings or dt.datetime objects allowed)\".format(type(time_parameter)))\n",
    "            \n",
    "        # case of one-element Iterable: reduced to scalar variables\n",
    "        if is_iterable(time_parameter) and len(time_parameter) == 1:\n",
    "            time_parameter = time_parameter[0]\n",
    "            time_parameter_label = time_parameter_label[0]\n",
    "                \n",
    "        return time_parameter, time_parameter_label\n",
    "        \n",
    "    def parse_plot_details(self, *args, **kwargs):\n",
    "        \"\"\"\n",
    "        Utility method to decide whether to plot details or not.\n",
    "        \"\"\"\n",
    "        plot_details = args[2] if len(args) > 2 else kwargs['plot_details'] if 'plot_details' in kwargs else True\n",
    "        return plot_details\n",
    "                    \n",
    "    def plot(self, *args, **kwargs):\n",
    "        \n",
    "        # argument parsing and plot setup\n",
    "        x_axis = self.x_axis(*args, **kwargs)\n",
    "        time_parameter, time_label_parameter = self.time_parameter(*args, **kwargs)\n",
    "\n",
    "        if is_iterable_not_string(time_parameter):\n",
    "            self.__plot_multi_time(x_axis, time_parameter, time_label_parameter)\n",
    "        else:\n",
    "            plot_limits = self.parse_plot_details(*args, **kwargs)\n",
    "            self.__plot_single_time(x_axis, time_parameter, time_label_parameter, plot_limits)\n",
    "                    \n",
    "    def __plot_multi_time(self, S, multiple_times, time_labels):\n",
    "        \"\"\"\n",
    "        Plot FinancialInstrument values against underlying value(s), possibly at multiple dates.\n",
    "        Dates can be specified either as date Strings or time-to-maturity values.\n",
    "        \"\"\"\n",
    "        \n",
    "        plt.rcParams[\"axes.prop_cycle\"] = plt.cycler(\"color\", plt.cm.Blues(np.linspace(0,1,len(multiple_times))))\n",
    "\n",
    "        # define the figure\n",
    "        fig, ax = plt.subplots(figsize=(10,6))\n",
    "\n",
    "        # plot the price for different underlying values, one line for each different date\n",
    "        for time, time_label in zip(multiple_times, time_labels):\n",
    "            ax.plot(S, self.fin_inst.price(S, time), '-', lw=1.5, label=r\"price at \" + time_label)\n",
    "\n",
    "        # blue dot at original underlying level for reference\n",
    "        for time, time_label in zip(multiple_times, time_labels):\n",
    "            S_t = self.fin_inst.get_S()\n",
    "            ax.plot(S_t, self.fin_inst.price(S_t, time), '.', ms=10, label=r\"Emission level $S={:.1f}$\".format(S_t))\n",
    "            \n",
    "        # plot the red payoff line for different underlying values\n",
    "        ax.plot(S, self.fin_inst.payoff(S), 'r-',  lw=1.5, label=self.fin_inst.get_docstring('payoff'))\n",
    "\n",
    "        # plot a dot to highlight the strike position and a reference zero line\n",
    "        ax.plot(self.fin_inst.get_K(), 0, 'k.', ms=15, label=\"Strike $K$\")\n",
    "        ax.plot(S, np.zeros_like(S), 'k--', lw=1.5)\n",
    "        \n",
    "        # set axis labels \n",
    "        ax.set_xlabel(r\"Underlying Value at different dates\", fontsize=12)\n",
    "        ax.set_ylabel('Black-Scholes price', fontsize=12) \n",
    "\n",
    "        # set title\n",
    "        ax.set_title(self.get_title(), fontsize=12) \n",
    "\n",
    "        # add the legend ('best' loc parameters places the legend in the best position automatically)\n",
    "        ax.legend(loc='best', ncol=2)\n",
    "\n",
    "        # add a gride to ease visualization\n",
    "        plt.grid(True)\n",
    "\n",
    "        # show the plot\n",
    "        fig.tight_layout()\n",
    "        plt.show()\n",
    " \n",
    "    def __plot_single_time(self, S, time, time_label, plot_limits):\n",
    "        \"\"\"\n",
    "        Plot FinancialInstrument values against underlying value(s) at fixed date. \n",
    "        Date can be specified either as date String or time-to-maturity value.\n",
    "        Optionally, it plots theoretical upper and lower bounds of the price.\n",
    "        \"\"\"\n",
    "        \n",
    "        # define the figure\n",
    "        fig, ax = plt.subplots(figsize=(10,6))\n",
    "        \n",
    "        # plot the price for different underlying values\n",
    "        ax.plot(S, self.fin_inst.price(S, time), 'b-', lw=1.5, label=r\"price at \" + time_label)\n",
    "        \n",
    "        # blue dot at original underlying level for reference\n",
    "        S_t = self.fin_inst.get_S()\n",
    "        ax.plot(S_t, self.fin_inst.price(S_t, time), 'b.', ms=15, label=r\"Emission level $S={:.1f}$\".format(S_t))\n",
    "        \n",
    "        if plot_limits==True:\n",
    "            # plot the upper limit, the price and the lower limit for different underlying values\n",
    "            ax.plot(S, self.fin_inst.price_upper_limit(S, time), 'k-.', lw=1.5, label=self.fin_inst.get_docstring('price_upper_limit'))\n",
    "            ax.plot(S, self.fin_inst.price_lower_limit(S, time), 'k--', lw=1.5, label=self.fin_inst.get_docstring('price_lower_limit'))\n",
    "\n",
    "        # plot the red payoff line for different underlying values\n",
    "        ax.plot(S, self.fin_inst.payoff(S), 'r-',  lw=1.5, label=self.fin_inst.get_docstring('payoff'))\n",
    "\n",
    "        # plot a dot to highlight the strike position and a reference zero line\n",
    "        ax.plot(self.fin_inst.get_K(), 0, 'k.', ms=15, label=\"Strike $K$\")\n",
    "        ax.plot(S, np.zeros_like(S), 'k--', lw=1.5)\n",
    "\n",
    "        # set axis labels \n",
    "        ax.set_xlabel(r\"Underlying Value at \" + time_label, fontsize=12) \n",
    "        ax.set_ylabel('Black-Scholes price', fontsize=12) \n",
    "\n",
    "        # set title\n",
    "        ax.set_title(self.get_title(), fontsize=12) \n",
    "\n",
    "        # add the legend ('best' loc parameters places the legend in the best position automatically)\n",
    "        ax.legend(loc='best', ncol=1)\n",
    "\n",
    "        # add a gride to ease visualization\n",
    "        plt.grid(True)\n",
    "\n",
    "        # show the plot\n",
    "        fig.tight_layout()\n",
    "        plt.show()"
   ]
  },
  {
   "cell_type": "code",
   "execution_count": null,
   "metadata": {
    "scrolled": true
   },
   "outputs": [],
   "source": [
    "market_env"
   ]
  },
  {
   "cell_type": "code",
   "execution_count": null,
   "metadata": {},
   "outputs": [],
   "source": [
    "Vanilla_Call"
   ]
  },
  {
   "cell_type": "code",
   "execution_count": null,
   "metadata": {},
   "outputs": [],
   "source": [
    "option_plotter = OptionPlotter(Vanilla_Call)"
   ]
  },
  {
   "cell_type": "code",
   "execution_count": null,
   "metadata": {},
   "outputs": [],
   "source": [
    "option_plotter.plot()"
   ]
  },
  {
   "cell_type": "code",
   "execution_count": null,
   "metadata": {},
   "outputs": [],
   "source": [
    "option_plotter.plot(plot_limits=True)"
   ]
  },
  {
   "cell_type": "code",
   "execution_count": null,
   "metadata": {
    "scrolled": false
   },
   "outputs": [],
   "source": [
    "option_plotter.plot(tau=[0.05, 0.1, 0.25, 0.5, 0.75, 1.0])"
   ]
  },
  {
   "cell_type": "code",
   "execution_count": null,
   "metadata": {
    "scrolled": true
   },
   "outputs": [],
   "source": [
    "CON_Put = DigitalOption(market_env, option_type='put')\n",
    "CON_Put"
   ]
  },
  {
   "cell_type": "code",
   "execution_count": null,
   "metadata": {},
   "outputs": [],
   "source": [
    "option_plotter = OptionPlotter(CON_Put)"
   ]
  },
  {
   "cell_type": "code",
   "execution_count": null,
   "metadata": {},
   "outputs": [],
   "source": [
    "option_plotter.plot()"
   ]
  },
  {
   "cell_type": "code",
   "execution_count": null,
   "metadata": {},
   "outputs": [],
   "source": [
    "option_plotter.plot(plot_limits=True)"
   ]
  },
  {
   "cell_type": "code",
   "execution_count": null,
   "metadata": {
    "scrolled": false
   },
   "outputs": [],
   "source": [
    "option_plotter.plot(tau=[0.05, 0.1, 0.25, 0.5, 0.75, 1.0])"
   ]
  },
  {
   "cell_type": "markdown",
   "metadata": {},
   "source": [
    "## _focus on:_ PnL"
   ]
  },
  {
   "cell_type": "code",
   "execution_count": null,
   "metadata": {},
   "outputs": [],
   "source": [
    "class EuropeanOption:\n",
    "    \"\"\"\n",
    "    EuropeanOption abstract class: an interface setting the template for any option with european-style exercise.\n",
    "    It uses a MarketEnvironment object to define the current market conditions under which the option is modeled. \n",
    "    This class is not meant to be instantiated.\n",
    "    \n",
    "    Attributes:\n",
    "    -----------\n",
    "        mkt_env (MarketEnvironment): Instance of MarketEnvironment class\n",
    "        type (str):                  Optional. Type of the option. Can be either 'call' or 'put';\n",
    "        S_t (float):                 'S' attribute of mkt_env.\n",
    "        K (float):                   Optional. Strike price;\n",
    "        t (str; dt.datetime):        't' attribute of mkt_env.\n",
    "        T (str; dt.datetime):        Optional. Expiration date. Can be either a \"dd-mm-YYYY\" String or a pd.datetime() object\n",
    "        tau (float):                 time to maturity in years, computed as tau=T-t by time_to_maturity() method\n",
    "        r (float):                   'r' attribute of mkt_env.\n",
    "        sigma (float):               'sigma' attribute of mkt_env.\n",
    "    \n",
    "    Template Methods:\n",
    "    --------   \n",
    "    \n",
    "        getters for all common attributes\n",
    "        \n",
    "        setters for common attributes, not belonging to mkt_env\n",
    "        \n",
    "        payoff: float\n",
    "            Template method for payoff. Raises NotImplementedError if called.\n",
    "\n",
    "        price_upper_limit: float \n",
    "            Template method for upper limit. Raises NotImplementedError if called.\n",
    "\n",
    "        price_lower_limit: float \n",
    "            Template method for lower limit. Raises NotImplementedError if called.\n",
    "            \n",
    "        price: float\n",
    "            Template method for price. Raises NotImplementedError if called.\n",
    "            \n",
    "        PnL: float\n",
    "            Template method for profit and loss. Raises NotImplementedError if called.\n",
    "\n",
    "    \"\"\"\n",
    "\n",
    "    def __init__(self, mkt_env, option_type='call', K=100.0, T=\"31-12-2020\"):\n",
    "        \n",
    "        print(\"Initializing the EuropeanOption!\")\n",
    "\n",
    "        # option type check\n",
    "        if option_type not in ['call', 'put']:\n",
    "            raise NotImplementedError(\"Option Type: '{}' does not exist!\".format(option_type))\n",
    "        \n",
    "        self.__type  = option_type\n",
    "        self.__S     = mkt_env.get_S()\n",
    "        self.__K     = K\n",
    "        self.__t     = mkt_env.get_t()\n",
    "        self.__T     = date_string_to_datetime_obj(T)\n",
    "        self.__tau   = self.time_to_maturity()\n",
    "        self.__r     = mkt_env.get_r()\n",
    "        self.__sigma = mkt_env.get_sigma()\n",
    "        \n",
    "        # empty initial price of the option\n",
    "        self.__initial_price = None\n",
    "               \n",
    "        # empty informations dictionary\n",
    "        self.__docstring_dict = {}        \n",
    "        \n",
    "    # string representation method template\n",
    "    def __repr__(self):\n",
    "        raise NotImplementedError()\n",
    "    \n",
    "    # getters\n",
    "    def get_type(self):\n",
    "        return self.__type\n",
    "\n",
    "    def get_S(self):\n",
    "        return self.__S\n",
    "    \n",
    "    def get_sigma(self):\n",
    "        return self.__sigma\n",
    "    \n",
    "    def get_K(self):\n",
    "        return self.__K\n",
    "    \n",
    "    def get_t(self):\n",
    "        return self.__t\n",
    "\n",
    "    def get_T(self):\n",
    "        return self.__T\n",
    "\n",
    "    def get_tau(self):\n",
    "        return self.__tau\n",
    "\n",
    "    def get_r(self):\n",
    "        return self.__r\n",
    "    \n",
    "    def get_sigma(self):\n",
    "        return self.__sigma\n",
    "    \n",
    "    def get_initial_price(self):\n",
    "        return NotImplementedError()\n",
    "    \n",
    "    # doctring getter template\n",
    "    def get_docstring(self, label):\n",
    "        raise NotImplementedError()\n",
    "\n",
    "    # setters\n",
    "    def set_type(self, option_type):\n",
    "        self.__type = option_type\n",
    "        \n",
    "        # option type check\n",
    "        if option_type not in ['call', 'put']:\n",
    "            raise NotImplementedError(\"Option Type: '{}' does not exist!\".format(option_type))\n",
    "            \n",
    "    def set_K(self, K):\n",
    "        self.__K = K\n",
    "    \n",
    "    def set_T(self, T):\n",
    "        self.__T = date_string_to_datetime_obj(T)\n",
    "        # update time to maturity, given changed T, to keep internal consistency\n",
    "        self.__update_tau() \n",
    "    \n",
    "    def set_tau(self, tau):\n",
    "        self.__tau = tau\n",
    "        # update expiration date, given changed tau, to keep internal consistency\n",
    "        self.__update_T()\n",
    "        \n",
    "    # update methods (private)\n",
    "    def __update_tau(self):\n",
    "        self.__tau = self.time_to_maturity()\n",
    "\n",
    "    def __update_T(self):\n",
    "        self.__T = self.__t + dt.timedelta(days=math.ceil(self.__tau*365))\n",
    "\n",
    "    # utility methods\n",
    "    def time_to_maturity(self, *args, **kwargs):\n",
    "        \"\"\"\n",
    "        Utility method to compute time-to-maturity\n",
    "        \"\"\"\n",
    "        \n",
    "        # parsing optional parameters\n",
    "        t = args[0] if len(args) > 0 else kwargs['t'] if 't' in kwargs else self.get_t()\n",
    "        T = args[1] if len(args) > 1 else kwargs['T'] if 'T' in kwargs else self.get_T()\n",
    "        \n",
    "        # convert to dt.datetime objects, if needed\n",
    "        t = date_string_to_datetime_obj(t)\n",
    "        T = date_string_to_datetime_obj(T)\n",
    "        \n",
    "        # compute and return time to maturity (in years)\n",
    "        return (T-t).days / 365.0\n",
    "    \n",
    "    def parse_S_tau_parameters(self, *args, **kwargs):\n",
    "        \"\"\"\n",
    "        Utility method to parse underlying and time-parameters\n",
    "        \"\"\"\n",
    "\n",
    "        # underlying value \n",
    "        S = args[0] if len(args) > 0 else kwargs['S'] if 'S' in kwargs else self.get_S()\n",
    "\n",
    "        # time parameter:\n",
    "        time_param = args[1] if len(args) > 1 \\\n",
    "                     else kwargs['tau'] if 'tau' in kwargs \\\n",
    "                        else (kwargs['t'] if 't' in kwargs else None)\n",
    "        \n",
    "        # check that no multiple time parameters in input\n",
    "        if is_iterable_not_string(time_param):\n",
    "            raise NotImplementedError(\"No multiple time parameters allowed: {} given in input.\".format(time_param))\n",
    "\n",
    "        # time parameter interpretation according to its type        \n",
    "        # case 1: no time-parameter in input\n",
    "        if time_param is None:\n",
    "            tau = self.get_tau()\n",
    "        # case 2: valid time-to-maturity in input\n",
    "        elif is_numeric(time_param):\n",
    "            tau = time_param\n",
    "        # case 3: valuation date in input, to be converted into time-to-maturity\n",
    "        elif is_date(time_param):\n",
    "            valuation_date = date_string_to_datetime_obj(time_param)\n",
    "            tau = self.time_to_maturity(t=valuation_date)\n",
    "        # error case: the time parameter in input has a data-type that is not recognized\n",
    "        else: \n",
    "            raise TypeError(\"Type {} of input time parameter not recognized\".format(type(time_param)))\n",
    "\n",
    "        return S, tau\n",
    "    \n",
    "    # payoff template\n",
    "    def payoff(self):\n",
    "        raise NotImplementedError()     \n",
    "        \n",
    "    # upper price limit template\n",
    "    def price_upper_limit(self):\n",
    "        raise NotImplementedError()     \n",
    "\n",
    "    # lower price limit template\n",
    "    def price_lower_limit(self):\n",
    "        raise NotImplementedError()     \n",
    "        \n",
    "    # price template\n",
    "    def price(self):\n",
    "        raise NotImplementedError()\n",
    "        \n",
    "    # profit and loss calculation calculation - with optional *args and **kwargs parameters\n",
    "    def PnL(self, *args, **kwargs):\n",
    "        \"\"\"\n",
    "        Can be called as:\n",
    "            - PnL(): uses .get_S() and .get_tau()\n",
    "            - PnL(100.0): S == 100.0\n",
    "            - PnL(100.0, 0.1): S == 100.0 and tau == 0.1\n",
    "            - PnL(S=100.0, tau=0.1)\n",
    "            - PnL([100.0, ..., 120.0], 0.1): S == [100.0, ..., 120.0] and tau == 0.1\n",
    "            - PnL(S=[100.0, ..., 120.0], tau=0.1)\n",
    "        \"\"\"\n",
    "        \n",
    "        # underlying value and time-to-maturity\n",
    "        S, tau = self.parse_S_tau_parameters(*args, **kwargs)\n",
    "        \n",
    "        # if tau==0, this is the P&L at option's expiration, that is the PnL if the option is kept until maturity\n",
    "        if tau == 0.0:\n",
    "            # P&L = payoff - initial price\n",
    "            return self.payoff(S) - self.get_initial_price()\n",
    "        \n",
    "        # if tau > 0, this is the P&L as if the option position is closed before maturity, when the time-to-maturity is tau\n",
    "        else:\n",
    "            # P&L = current price - initial price\n",
    "            return self.price(S, tau) - self.get_initial_price()"
   ]
  },
  {
   "cell_type": "code",
   "execution_count": null,
   "metadata": {},
   "outputs": [],
   "source": [
    "class PlainVanillaOption(EuropeanOption):\n",
    "    \"\"\"\n",
    "    PlainVanillaOption class implementing payoff and pricing of plain-vanilla call and put options.\n",
    "    Put price is calculated using put-call parity\n",
    "    \n",
    "    Attributes:\n",
    "    -----------\n",
    "        mkt_env (MarketEnvironment): Instance of MarketEnvironment class\n",
    "        type (str):                  From 'type' attribute of EuropeanOption base class.\n",
    "        S_t (float):                 'S' attribute of mkt_env.\n",
    "        K (float):                   From 'K' attribute of EuropeanOption base class.\n",
    "        t (str; dt.datetime):        't' attribute of mkt_env.\n",
    "        T (str; dt.datetime):        From 'T' attribute of EuropeanOption base class.\n",
    "        tau (float):                 time to maturity in years, computed as tau=T-t by time_to_maturity() method\n",
    "        r (float):                   'r' attribute of mkt_env.\n",
    "        sigma (float):               'sigma' attribute of mkt_env.\n",
    "    \n",
    "    Public Methods:\n",
    "    --------   \n",
    "    \n",
    "        payoff: float\n",
    "            Computes the payoff of the option and returns it\n",
    "\n",
    "        price_upper_limit: float \n",
    "            Returns the upper limit for a vanilla option price.\n",
    "\n",
    "        price_lower_limit: float \n",
    "            Returns the lower limit for a vanilla option price.\n",
    "            \n",
    "        price: float\n",
    "            Computes the exact price of the option and returns it\n",
    "            \n",
    "    Usage: \n",
    "    --------   \n",
    "        - default: PlainVanillaOption(mkt_env) is equivalent to \n",
    "                   PlainVanillaOption(mkt_env, option_type='call', K=100.0, T=\"31-12-2020\")\n",
    "\n",
    "        - general: PlainVanillaOption(mkt_env, option_type='call' or 'put' String, K=Float, T=\"DD-MM-YYYY\" String)\n",
    "\n",
    "    where: mkt_env is a MarketEnvironment instance.\n",
    "    \"\"\"\n",
    "    \n",
    "    # initializer with optional *args and **kwargs parameters\n",
    "    def __init__(self, *args, **kwargs):  \n",
    "        \n",
    "        # calling the EuropeanOption initializer\n",
    "        super(PlainVanillaOption, self).__init__(*args, **kwargs)\n",
    "        \n",
    "        # info strings\n",
    "        self.__info = r\"Plain Vanilla {} [K={:.1f}, T={} (tau={:.2f}y)]\".format(self.get_type(), self.get_K(), datetime_obj_to_date_string(self.get_T()), self.get_tau())\n",
    "        self.__mkt_info = r\"[S_t={:.1f}, r={:.1f}%, sigma={:.1f}%, t={}]\".format(self.get_S(), self.get_r()*100, self.get_sigma()*100, datetime_obj_to_date_string(self.get_t()))\n",
    "        \n",
    "        # initial price of the option\n",
    "        self.__initial_price = self.price()\n",
    "        \n",
    "        # informations dictionary\n",
    "        self.__docstring_dict = {\n",
    "            'call':{\n",
    "                'price_upper_limit': r\"Upper limit: $S_t$\",\n",
    "                'payoff':            r\"Payoff: $max(S-K, 0)$\",\n",
    "                'price_lower_limit': r\"Lower limit: $max(S_t - K e^{-r \\tau}, 0)$\"\n",
    "            },\n",
    "            'put': {\n",
    "                'price_upper_limit': r\"Upper limit: $K e^{-r \\tau}$\",\n",
    "                'payoff':            r\"Payoff: $max(K-S, 0)$\",\n",
    "                'price_lower_limit': r\"Lower limit: $max(K e^{-r \\tau} - S_t, 0)$\"}\n",
    "        }\n",
    "                \n",
    "    def __repr__(self):\n",
    "        return r\"PlainVanillaOption('{}', S_t={:.1f}, K={:.1f}, t={}, T={}, tau={:.2f}y, r={:.1f}%, sigma={:.1f}%)\".\\\n",
    "                format(self.get_type(), self.get_S(), self.get_K(), self.get_t().strftime(\"%d-%m-%Y\"), \n",
    "                       self.get_T().strftime(\"%d-%m-%Y\"), self.get_tau(), self.get_r()*100, self.get_sigma()*100)\n",
    "    \n",
    "    # getters\n",
    "    def get_info(self):\n",
    "        return self.__info\n",
    "    \n",
    "    def get_mkt_info(self):\n",
    "        return self.__mkt_info\n",
    "    \n",
    "    def get_initial_price(self):\n",
    "        return self.__initial_price\n",
    "\n",
    "    def get_docstring(self, label):\n",
    "        return self.__docstring_dict[self.get_type()][label] \n",
    "    \n",
    "    # payoff calculation - with optional *args and **kwargs parameters\n",
    "    def payoff(self, *args, **kwargs):\n",
    "        \"\"\"\n",
    "        Can be called as:\n",
    "            - payoff(): uses .get_S() \n",
    "            - payoff(100.0): S == 100.0\n",
    "            - payoff(S=100.0)\n",
    "            - payoff([100.0, ..., 120.0]): S == [100.0, ..., 120.0] \n",
    "            - payoff(S=[100.0, ..., 120.0])\n",
    "        \"\"\"\n",
    "        \n",
    "        # underlying value\n",
    "        S, _ = self.parse_S_tau_parameters(*args, **kwargs)\n",
    "                \n",
    "        # call case\n",
    "        if self.get_type() == 'call':\n",
    "            return self.__call_payoff(S)\n",
    "        # put case\n",
    "        else:\n",
    "            return self.__put_payoff(S)\n",
    "    \n",
    "    def __call_payoff(self, S):\n",
    "        if is_iterable(S):\n",
    "            return np.array([max(0.0, s - self.get_K()) for s in S])\n",
    "        else:\n",
    "            return max(0.0, S - self.get_K())\n",
    "\n",
    "    def __put_payoff(self, S):\n",
    "        if is_iterable(S):\n",
    "            return np.array([max(0.0, self.get_K() - s) for s in S])\n",
    "        else:\n",
    "            return max(0.0, self.get_K() - S)\n",
    "        \n",
    "    # upper price limit - with optional *args and **kwargs parameters\n",
    "    def price_upper_limit(self, *args, **kwargs):\n",
    "        \"\"\"\n",
    "        Can be called as:\n",
    "            - price_upper_limit(): uses .get_S() and .get_tau()\n",
    "            - price_upper_limit(100.0): S == 100.0\n",
    "            - price_upper_limit(100.0, 0.1): S == 100.0 and tau == 0.1\n",
    "            - price_upper_limit(S=100.0, tau=0.1)\n",
    "            - price_upper_limit([100.0, ..., 120.0], 0.1): S == [100.0, ..., 120.0] and tau == 0.1\n",
    "            - price_upper_limit(S=[100.0, ..., 120.0], tau=0.1)\n",
    "        \"\"\"\n",
    "\n",
    "        # underlying value and time-to-maturity\n",
    "        S, tau = self.parse_S_tau_parameters(*args, **kwargs)\n",
    "                        \n",
    "        # call case\n",
    "        if self.get_type() == 'call':\n",
    "            return S\n",
    "        # put case\n",
    "        else:\n",
    "            return self.__put_price_upper_limit(S, tau)\n",
    "    \n",
    "    def __put_price_upper_limit(self, S, tau):\n",
    "        if is_iterable(S):\n",
    "            return np.repeat(self.get_K()*np.exp(-self.get_r() * tau), repeats=len(S)) \n",
    "        else:\n",
    "            return self.get_K()*np.exp(-self.get_r() * tau)\n",
    "\n",
    "    # lower price limit - with optional *args and **kwargs parameters\n",
    "    def price_lower_limit(self, *args, **kwargs):\n",
    "        \"\"\"\n",
    "        Can be called as:\n",
    "            - price_lower_limit(): uses .get_S() and .get_tau()\n",
    "            - price_lower_limit(100.0): S == 100.0\n",
    "            - price_lower_limit(100.0, 0.1): S == 100.0 and tau == 0.1\n",
    "            - price_lower_limit(S=100.0, tau=0.1)\n",
    "            - price_lower_limit([100.0, ..., 120.0], 0.1): S == [100.0, ..., 120.0] and tau == 0.1\n",
    "            - price_lower_limit(S=[100.0, ..., 120.0], tau=0.1)\n",
    "        \"\"\"\n",
    "\n",
    "        # underlying value and time-to-maturity\n",
    "        S, tau = self.parse_S_tau_parameters(*args, **kwargs)\n",
    "                                       \n",
    "        # call case\n",
    "        if self.get_type() == 'call':\n",
    "            return self.__call_price_lower_limit(S, tau)\n",
    "        # put case\n",
    "        else:\n",
    "            return self.__put_price_lower_limit(S, tau)\n",
    "\n",
    "    def __call_price_lower_limit(self, S, tau):\n",
    "        if is_iterable(S):\n",
    "            return np.array([max(s - self.get_K()*np.exp(-self.get_r() * tau), 0.0) for s in S])\n",
    "        else:\n",
    "            return max(S - self.get_K()*np.exp(-self.get_r() * tau), 0.0)\n",
    "                                       \n",
    "    def __put_price_lower_limit(self, S, tau):\n",
    "        if is_iterable(S):\n",
    "            return np.array([max(self.get_K()*np.exp(-self.get_r() * tau) - s, 0.0) for s in S])\n",
    "        else:\n",
    "            return max(self.get_K()*np.exp(-self.get_r() * tau) - S, 0.0)\n",
    "                                       \n",
    "    # price calculation - with optional *args and **kwargs parameters\n",
    "    def price(self, *args, **kwargs):\n",
    "        \"\"\"\n",
    "        Can be called as:\n",
    "            - price(): uses .get_S() and .get_tau()\n",
    "            - price(100.0): S == 100.0\n",
    "            - price(100.0, 0.1): S == 100.0 and tau == 0.1\n",
    "            - price(S=100.0, tau=0.1)\n",
    "            - price([100.0, ..., 120.0], 0.1): S == [100.0, ..., 120.0] and tau == 0.1\n",
    "            - price(S=[100.0, ..., 120.0], tau=0.1)\n",
    "        \"\"\"\n",
    "                       \n",
    "        # underlying value and time-to-maturity\n",
    "        S, tau = self.parse_S_tau_parameters(*args, **kwargs)\n",
    "               \n",
    "        # call case\n",
    "        if self.get_type() == 'call':\n",
    "            return np.array([self.__call_price(s, tau) for s in S]) if is_iterable(S) else self.__call_price(S, tau)\n",
    "        # put case\n",
    "        else:\n",
    "            return np.array([self.__put_price(s, tau) for s in S]) if is_iterable(S) else self.__put_price(S, tau)\n",
    "          \n",
    "    def __call_price(self, S, tau):\n",
    "        \n",
    "        if S == 0: # this is to avoid log(0) issues\n",
    "            return 0.0\n",
    "        elif tau == 0.0: # this is to avoid 0/0 issues\n",
    "            return self.__call_payoff(S)\n",
    "        else:\n",
    "            K     = self.get_K()\n",
    "            r     = self.get_r()\n",
    "            sigma = self.get_sigma()\n",
    "\n",
    "            d1 = (np.log(S/K) + (r + 0.5 * sigma ** 2) * tau) / (sigma * np.sqrt(tau))\n",
    "            d2 = d1 - sigma * np.sqrt(tau)\n",
    "\n",
    "            price = S * stats.norm.cdf(d1, 0.0, 1.0) - K * np.exp(-r * tau) * stats.norm.cdf(d2, 0.0, 1.0)\n",
    "\n",
    "            return price\n",
    "    \n",
    "    def __put_price(self, S, tau):\n",
    "        \"\"\" Put price from Put-Call parity relation: Call + Ke^{-r*tau} = Put + S\"\"\"\n",
    "        return self.__call_price(S, tau) + self.get_K() * np.exp(- self.get_r() * tau) - S     "
   ]
  },
  {
   "cell_type": "code",
   "execution_count": null,
   "metadata": {},
   "outputs": [],
   "source": [
    "class DigitalOption(EuropeanOption):\n",
    "    \"\"\"\n",
    "    DigitalOption class implementing payoff and pricing of digital call and put options.\n",
    "    Put price is calculated using put-call parity\n",
    "    \n",
    "    Attributes:\n",
    "    -----------\n",
    "        mkt_env (MarketEnvironment): Instance of MarketEnvironment class\n",
    "        Q (float):                   cash amount\n",
    "        type (str):                  From 'type' attribute of EuropeanOption base class.\n",
    "        S_t (float):                 'S' attribute of mkt_env.\n",
    "        K (float):                   From 'K' attribute of EuropeanOption base class.\n",
    "        t (str; dt.datetime):        't' attribute of mkt_env.\n",
    "        T (str; dt.datetime):        From 'T' attribute of EuropeanOption base class.\n",
    "        tau (float):                 time to maturity in years, computed as tau=T-t by time_to_maturity() method\n",
    "        r (float):                   'r' attribute of mkt_env.\n",
    "        sigma (float):               'sigma' attribute of mkt_env.\n",
    "    \n",
    "    Public Methods:\n",
    "    --------   \n",
    "    \n",
    "        payoff: float\n",
    "            Computes the payoff of the option and returns it\n",
    "\n",
    "        price_upper_limit: float \n",
    "            Returns the upper limit for a vanilla option price.\n",
    "\n",
    "        price_lower_limit: float \n",
    "            Returns the lower limit for a vanilla option price.\n",
    "            \n",
    "        price: float\n",
    "            Computes the exact price of the option and returns it, using call_price() or put_price()\n",
    "\n",
    "    Usage: \n",
    "    --------   \n",
    "        - default: DigitalOption(mkt_env) is equivalent to \n",
    "                   DigitalOption(mkt_env, cash_amount=1.0, option_type='call', K=100.0, T=\"31-12-2020\")\n",
    "\n",
    "        - general: DigitalOption(mkt_env, cash_amount=Float, option_type='call' or 'put' String, K=Float, T=\"DD-MM-YYYY\" String)\n",
    "\n",
    "    where: mkt_env is a MarketEnvironment instance.\n",
    "    \"\"\"\n",
    "\n",
    "    # initializer with optional *args and **kwargs parameters and default cash_amount\n",
    "    # default keyword arguments (like cash_amount here) must go after args list argument in function def\n",
    "    def __init__(self, *args, cash_amount=1.0, **kwargs):  \n",
    "        \n",
    "        # calling the EuropeanOption initializer\n",
    "        super(DigitalOption, self).__init__(*args, **kwargs)\n",
    "        \n",
    "        # amount of cash in case of payment\n",
    "        self.__Q = cash_amount    \n",
    "        \n",
    "        # info strings\n",
    "        self.__info = r\"CON {} [K={:.1f}, T={} (tau={:.2f}y), Q={:.1f}]\".format(self.get_type(), self.get_K(), datetime_obj_to_date_string(self.get_T()), self.get_tau(), self.get_Q())\n",
    "        self.__mkt_info = r\"[S_t={:.1f}, r={:.1f}%, sigma={:.1f}%, t={}]\".format(self.get_S(), self.get_r()*100, self.get_sigma()*100, datetime_obj_to_date_string(self.get_t()))\n",
    "        \n",
    "        # initial price of the option\n",
    "        self.__initial_price = self.price()\n",
    "\n",
    "        # informations dictionary\n",
    "        self.__docstring_dict = {\n",
    "            'call':{\n",
    "                'price_upper_limit': r\"Upper limit: $Q e^{-r \\tau}$\",\n",
    "                'payoff':            r\"Payoff: $Q$ $I(S > K)$\",\n",
    "                'price_lower_limit': r\"Lower limit: $0$\"\n",
    "            },\n",
    "            'put': {\n",
    "                'price_upper_limit': r\"Upper limit: $Q e^{-r \\tau}$\",\n",
    "                'payoff':            r\"Payoff: $Q$ $I(S \\leq K)$\",\n",
    "                'price_lower_limit': r\"Lower limit: $0$\"}\n",
    "        }        \n",
    "                \n",
    "    def __repr__(self):\n",
    "        return r\"DigitalOption('{}', cash={:.1f}, S_t={:.1f}, K={:.1f}, t={}, T={}, tau={:.2f}y, r={:.1f}%, sigma={:.1f}%)\".\\\n",
    "                format(self.get_type(), self.get_Q(), self.get_S(), self.get_K(), self.get_t().strftime(\"%d-%m-%Y\"), \n",
    "                       self.get_T().strftime(\"%d-%m-%Y\"), self.get_tau(), self.get_r()*100, self.get_sigma()*100)\n",
    "    \n",
    "    # getters\n",
    "    def get_info(self):\n",
    "        return self.__info\n",
    "    \n",
    "    def get_mkt_info(self):\n",
    "        return self.__mkt_info\n",
    "    \n",
    "    def get_Q(self):\n",
    "        return self.__Q\n",
    "    \n",
    "    def get_initial_price(self):\n",
    "        return self.__initial_price\n",
    "    \n",
    "    # docstring getter\n",
    "    def get_docstring(self, label):\n",
    "        return self.__docstring_dict[self.get_type()][label] \n",
    "    \n",
    "    # setters\n",
    "    def set_Q(self, cash_amount):\n",
    "        self.__Q = cash_amount\n",
    "    \n",
    "    # payoff calculation - with optional *args and **kwargs parameters\n",
    "    def payoff(self, *args, **kwargs):\n",
    "        \"\"\"\n",
    "        Can be called as:\n",
    "            - payoff(): uses .get_S() \n",
    "            - payoff(100.0): S == 100.0\n",
    "            - payoff(S=100.0)\n",
    "            - payoff([100.0, ..., 120.0]): S == [100.0, ..., 120.0] \n",
    "            - payoff(S=[100.0, ..., 120.0])\n",
    "        \"\"\"\n",
    "        \n",
    "        # underlying value\n",
    "        S, _ = self.parse_S_tau_parameters(*args, **kwargs)\n",
    "        \n",
    "        # call case\n",
    "        if self.get_type() == 'call':\n",
    "            return self.__call_payoff(S)\n",
    "        # put case\n",
    "        else:\n",
    "            return self.__put_payoff(S)\n",
    "\n",
    "    def __call_payoff(self, S):\n",
    "        if is_iterable(S):\n",
    "            return np.array([self.get_Q() * int(s > self.get_K()) for s in S])\n",
    "        else:\n",
    "            return self.get_Q() * int(S > self.get_K())\n",
    "\n",
    "    def __put_payoff(self, S):\n",
    "        if is_iterable(S):\n",
    "            return np.array([self.get_Q() * int(s <= self.get_K()) for s in S])\n",
    "        else:\n",
    "            return self.get_Q() * int(S <= self.get_K())\n",
    "        \n",
    "    # upper price limit - with optional *args and **kwargs parameters\n",
    "    def price_upper_limit(self, *args, **kwargs):\n",
    "        \"\"\"\n",
    "        Can be called as:\n",
    "            - price_upper_limit(): uses .get_S() and .get_tau()\n",
    "            - price_upper_limit(100.0): S == 100.0\n",
    "            - price_upper_limit(100.0, 0.1): S == 100.0 and tau == 0.1\n",
    "            - price_upper_limit(S=100.0, tau=0.1)\n",
    "            - price_upper_limit([100.0, ..., 120.0], 0.1): S == [100.0, ..., 120.0] and tau == 0.1\n",
    "            - price_upper_limit(S=[100.0, ..., 120.0], tau=0.1)\n",
    "        \"\"\"\n",
    "\n",
    "        # underlying value and time-to-maturity\n",
    "        S, tau = self.parse_S_tau_parameters(*args, **kwargs)\n",
    "            \n",
    "        # the same for call and put\n",
    "        return self.__price_upper_limit(S, tau)\n",
    " \n",
    "    def __price_upper_limit(self, S, tau):\n",
    "        if is_iterable(S):\n",
    "            return np.repeat(self.get_Q()*np.exp(-self.get_r() * tau), repeats=len(S))\n",
    "        else:\n",
    "            return self.get_Q()*np.exp(-self.get_r() * tau)\n",
    "                                       \n",
    "    # lower price limit - with optional *args and **kwargs parameters\n",
    "    def price_lower_limit(self, *args, **kwargs):\n",
    "        \"\"\"\n",
    "        Can be called as:\n",
    "            - price_lower_limit(): uses .get_S() \n",
    "            - price_lower_limit(100.0): S == 100.0\n",
    "            - price_lower_limit(S=100.0)\n",
    "            - price_lower_limit([100.0, ..., 120.0]): S == [100.0, ..., 120.0] \n",
    "            - price_lower_limit(S=[100.0, ..., 120.0])\n",
    "        \"\"\"\n",
    "\n",
    "        # underlying value\n",
    "        S, _ = self.parse_S_tau_parameters(*args, **kwargs)\n",
    "            \n",
    "        # call case\n",
    "        if self.get_type() == 'call':\n",
    "            return np.repeat(0.0, repeats=len(S)) if is_iterable(S) else 0.0\n",
    "        # put case\n",
    "        else:\n",
    "            return np.repeat(0.0, repeats=len(S)) if is_iterable(S) else 0.0\n",
    "        \n",
    "    # price calculation - with optional *args and **kwargs parameters\n",
    "    def price(self, *args, **kwargs):\n",
    "        \"\"\"\n",
    "        Can be called as:\n",
    "            - price(): uses .get_S() and .get_tau()\n",
    "            - price(100.0): S == 100.0\n",
    "            - price(100.0, 0.1): S == 100.0 and tau == 0.1\n",
    "            - price(S=100.0, tau=0.1)\n",
    "            - price([100.0, ..., 120.0], 0.1): S == [100.0, ..., 120.0] and tau == 0.1\n",
    "            - price(S=[100.0, ..., 120.0], tau=0.1)\n",
    "        \"\"\"\n",
    "                       \n",
    "        # underlying value and time-to-maturity\n",
    "        S, tau = self.parse_S_tau_parameters(*args, **kwargs)\n",
    "            \n",
    "        # call case\n",
    "        if self.get_type() == 'call':\n",
    "            return np.array([self.__call_price(s, tau) for s in S]) if is_iterable(S) else self.__call_price(S, tau)\n",
    "        # put case\n",
    "        else:\n",
    "            return np.array([self.__put_price(s, tau) for s in S]) if is_iterable(S) else self.__put_price(S, tau)\n",
    "          \n",
    "    def __call_price(self, S, tau):\n",
    "                \n",
    "        if S == 0: # this is to avoid log(0) issues\n",
    "            return 0.0\n",
    "        elif tau == 0.0: # this is to avoid 0/0 issues\n",
    "            return self.__call_payoff(S)\n",
    "        else:\n",
    "            Q     = self.get_Q()\n",
    "            K     = self.get_K()\n",
    "            r     = self.get_r()\n",
    "            sigma = self.get_sigma()\n",
    "\n",
    "            d1 = (np.log(S/K) + (r + 0.5 * sigma ** 2) * tau) / (sigma * np.sqrt(tau))\n",
    "            d2 = d1 - sigma * np.sqrt(tau)\n",
    "\n",
    "            price = Q * np.exp(-r * tau) * stats.norm.cdf(d2, 0.0, 1.0)\n",
    "\n",
    "            return price\n",
    "    \n",
    "    def __put_price(self, S, tau):\n",
    "        \"\"\" Put price from Put-Call parity relation: CON_Call + CON_Put = Qe^{-r*tau}\"\"\"\n",
    "        return self.get_Q() * np.exp(- self.get_r() * tau) - self.__call_price(S, tau)        "
   ]
  },
  {
   "cell_type": "code",
   "execution_count": null,
   "metadata": {},
   "outputs": [],
   "source": [
    "Vanilla_Call = PlainVanillaOption(market_env)\n",
    "Vanilla_Call"
   ]
  },
  {
   "cell_type": "code",
   "execution_count": null,
   "metadata": {},
   "outputs": [],
   "source": [
    "Vanilla_Call.price()"
   ]
  },
  {
   "cell_type": "code",
   "execution_count": null,
   "metadata": {},
   "outputs": [],
   "source": [
    "Vanilla_Call.payoff()"
   ]
  },
  {
   "cell_type": "code",
   "execution_count": null,
   "metadata": {},
   "outputs": [],
   "source": [
    "Vanilla_Call.PnL()"
   ]
  },
  {
   "cell_type": "code",
   "execution_count": null,
   "metadata": {},
   "outputs": [],
   "source": [
    "Vanilla_Call.PnL(tau=0)"
   ]
  },
  {
   "cell_type": "code",
   "execution_count": null,
   "metadata": {},
   "outputs": [],
   "source": [
    "Vanilla_Call.get_K()"
   ]
  },
  {
   "cell_type": "code",
   "execution_count": null,
   "metadata": {},
   "outputs": [],
   "source": [
    "Vanilla_Call.PnL(S=110, tau=0)"
   ]
  },
  {
   "cell_type": "markdown",
   "metadata": {},
   "source": [
    "`getattr` "
   ]
  },
  {
   "cell_type": "code",
   "execution_count": null,
   "metadata": {},
   "outputs": [],
   "source": [
    "getattr(Vanilla_Call, 'price')()"
   ]
  },
  {
   "cell_type": "code",
   "execution_count": null,
   "metadata": {},
   "outputs": [],
   "source": [
    "str(getattr(Vanilla_Call, 'PnL'))"
   ]
  },
  {
   "cell_type": "code",
   "execution_count": null,
   "metadata": {},
   "outputs": [],
   "source": [
    "getattr(Vanilla_Call, 'PnL')()"
   ]
  },
  {
   "cell_type": "code",
   "execution_count": null,
   "metadata": {},
   "outputs": [],
   "source": [
    "class OptionPlotter:\n",
    "    \n",
    "    def __init__(self, FinancialInstrument):\n",
    "\n",
    "        # parse informations from FinancialInstrument\n",
    "        self.fin_inst = FinancialInstrument\n",
    "        self.__title_label = self.fin_inst.get_info() + \"\\n\" + \"Market at emission: \" + self.fin_inst.get_mkt_info()\n",
    "\n",
    "        # set default x-axis \n",
    "        self.__x_axis = self.x_axis(self.fin_inst.get_K())\n",
    "\n",
    "        # set default time parameter\n",
    "        self.__time_parameter, _ = self.time_parameter(self.fin_inst.get_tau())\n",
    "        \n",
    "    # getters\n",
    "    def get_x_axis(self):\n",
    "        return self.__x_axis\n",
    "\n",
    "    def get_time_parameter(self):\n",
    "        return self.__time_parameter\n",
    "\n",
    "    def get_title(self):\n",
    "        return self.__title_label\n",
    "    \n",
    "    # utility methods\n",
    "    def x_axis(self, *args, **kwargs):\n",
    "        \"\"\"\n",
    "        Utility method to define the x-axis of the plot, optionally parsing x-axis in input.\n",
    "        \"\"\"\n",
    "        \n",
    "        # parsing optional parameter\n",
    "        x = args[0] if len(args) > 0 else kwargs['S'] if 'S' in kwargs else self.get_x_axis()\n",
    "        \n",
    "        # define the x-axis\n",
    "        \n",
    "        # case 1: a list of x-points in input. The x-axis is a wide range, including x-points\n",
    "        if is_iterable(x):\n",
    "            x_min = max(min(x)-20, 0.0)\n",
    "            x_max = max(x)+20\n",
    "        # case 2: a single x-point in input. The x-point is the middle point of the x-axis\n",
    "        else:\n",
    "            x_min = max(x-20, 0.0)\n",
    "            x_max = x+20\n",
    "\n",
    "        return np.linspace(x_min, x_max, 100)\n",
    "    \n",
    "    def time_parameter(self, *args, **kwargs):\n",
    "        \"\"\"\n",
    "        Utility method to define the time parameter of the plot, optionally parsing time parameter in input.\n",
    "        It returns appropriate time parameter labels too.\n",
    "        \"\"\"\n",
    "        \n",
    "        # parsing optional parameter: notice the backslash operator '\\' \n",
    "        # to split code into multiple lines for readability\n",
    "        time = args[0] if len(args) == 1 \\\n",
    "               else args[1] if len(args) > 1 \\\n",
    "                   else (kwargs['tau'] if 'tau' in kwargs \\\n",
    "                       else (kwargs['t'] if 't' in kwargs else self.get_time_parameter()))\n",
    "        \n",
    "        # case 1: time-to-maturity in input (if Iterable, sort from longest to shortest)\n",
    "        if is_numeric(time):\n",
    "            time_parameter = np.sort(time)[::-1] if is_iterable_not_string(time) else time\n",
    "            time_parameter_label = np.array([r\"$\\tau={:.2f}y$\".format(tau) for tau in time_parameter]) \\\n",
    "                                    if is_iterable_not_string(time) else r\"$\\tau={:.2f}y$\".format(time_parameter)\n",
    "\n",
    "        # case 2: valuation date in input (if Iterable, sort from first to last, i.e. chronological order)\n",
    "        elif is_date(time):\n",
    "            time_parameter = np.array(sorted(time, key=date_string_to_datetime_obj)) if is_iterable_not_string(time) else time\n",
    "            time_parameter_label = np.array([datetime_obj_to_date_string(t) for t in time_parameter]) \\\n",
    "                                    if is_iterable_not_string(time) else datetime_obj_to_date_string(time_parameter)\n",
    "\n",
    "        else:\n",
    "            raise TypeError(\"Time parameter {} in input has not recognized data-type \\\n",
    "                             (only 'dd-mm-YYYY' Strings or dt.datetime objects allowed)\".format(type(time_parameter)))\n",
    "            \n",
    "        # case of one-element Iterable: reduced to scalar variables\n",
    "        if is_iterable(time_parameter) and len(time_parameter) == 1:\n",
    "            time_parameter = time_parameter[0]\n",
    "            time_parameter_label = time_parameter_label[0]\n",
    "                \n",
    "        return time_parameter, time_parameter_label\n",
    "    \n",
    "    def parse_plot_metrics(self, *args, **kwargs):\n",
    "        \"\"\"\n",
    "        Utility method to parse the metrics of the plot: either 'price' or 'PnL'.\n",
    "        \"\"\"\n",
    "        plot_metrics = args[2] if len(args) > 2 else kwargs['plot_metrics'] if 'plot_metrics' in kwargs else 'price'\n",
    "        return plot_metrics\n",
    "    \n",
    "    def parse_plot_details(self, *args, **kwargs):\n",
    "        \"\"\"\n",
    "        Utility method to decide whether to plot details or not.\n",
    "        \"\"\"\n",
    "        plot_details = args[3] if len(args) > 3 else kwargs['plot_details'] if 'plot_details' in kwargs else True\n",
    "        return plot_details\n",
    "                    \n",
    "    def plot(self, *args, **kwargs):\n",
    "        \n",
    "        # argument parsing and plot setup\n",
    "        x_axis = self.x_axis(*args, **kwargs)\n",
    "        time_parameter, time_label_parameter = self.time_parameter(*args, **kwargs)\n",
    "        plot_metrics = self.parse_plot_metrics(*args, **kwargs)\n",
    "\n",
    "        if is_iterable_not_string(time_parameter):\n",
    "            self.__plot_multi_time(x_axis, time_parameter, time_label_parameter, plot_metrics)\n",
    "        else:\n",
    "            plot_limits = self.parse_plot_details(*args, **kwargs)\n",
    "            self.__plot_single_time(x_axis, time_parameter, time_label_parameter, plot_metrics, plot_limits)\n",
    "                    \n",
    "    def __plot_multi_time(self, S, multiple_times, time_labels, plot_metrics):\n",
    "        \"\"\"\n",
    "        Plot FinancialInstrument values against underlying value(s), possibly at multiple dates.\n",
    "        Dates can be specified either as date Strings or time-to-maturity values.\n",
    "        \"\"\"\n",
    "        \n",
    "        plt.rcParams[\"axes.prop_cycle\"] = plt.cycler(\"color\", plt.cm.Blues(np.linspace(0,1,len(multiple_times))))\n",
    "\n",
    "        # define the figure\n",
    "        fig, ax = plt.subplots(figsize=(10,6))\n",
    "\n",
    "        # plot the price for different underlying values, one line for each different date\n",
    "        for time, time_label in zip(multiple_times, time_labels):\n",
    "            ax.plot(S, getattr(self.fin_inst, plot_metrics)(S, time), '-', lw=1.5, \n",
    "                    label=plot_metrics + r\" at \" + time_label)\n",
    "\n",
    "        # blue dot at original underlying level for reference\n",
    "        for time, time_label in zip(multiple_times, time_labels):\n",
    "            S_t = self.fin_inst.get_S()\n",
    "            ax.plot(S_t, getattr(self.fin_inst, plot_metrics)(S_t, time), '.', ms=10, \n",
    "                    label=r\"Emission level $S={:.1f}$\".format(S_t))\n",
    "            \n",
    "        # plot the red payoff line for different underlying values\n",
    "        if plot_metrics == 'PnL':\n",
    "            ax.plot(S, self.fin_inst.PnL(S, tau=0.0), 'r-',  lw=1.5, label=self.fin_inst.get_docstring('payoff') + r\" (net of initial price)\")\n",
    "        else:\n",
    "            ax.plot(S, self.fin_inst.payoff(S), 'r-',  lw=1.5, label=self.fin_inst.get_docstring('payoff'))\n",
    "\n",
    "        # plot a dot to highlight the strike position and a reference zero line\n",
    "        ax.plot(self.fin_inst.get_K(), 0, 'k.', ms=15, label=\"Strike $K$\")\n",
    "        ax.plot(S, np.zeros_like(S), 'k--', lw=1.5)\n",
    "        \n",
    "        # set axis labels \n",
    "        ax.set_xlabel(r\"Underlying Value at different dates\", fontsize=12)\n",
    "        ax.set_ylabel('Black-Scholes {}'.format(plot_metrics), fontsize=12) \n",
    "\n",
    "        # set title\n",
    "        ax.set_title(self.get_title(), fontsize=12) \n",
    "\n",
    "        # add the legend ('best' loc parameters places the legend in the best position automatically)\n",
    "        ax.legend(loc='best', ncol=2)\n",
    "\n",
    "        # add a gride to ease visualization\n",
    "        plt.grid(True)\n",
    "\n",
    "        # show the plot\n",
    "        fig.tight_layout()\n",
    "        plt.show()\n",
    " \n",
    "    def __plot_single_time(self, S, time, time_label, plot_metrics, plot_limits):\n",
    "        \"\"\"\n",
    "        Plot FinancialInstrument values against underlying value(s) at fixed date. \n",
    "        Date can be specified either as date String or time-to-maturity value.\n",
    "        Optionally, it plots theoretical upper and lower bounds of the price.\n",
    "        \"\"\"\n",
    "        \n",
    "        # define the figure\n",
    "        fig, ax = plt.subplots(figsize=(10,6))\n",
    "        \n",
    "        # plot the price for different underlying values\n",
    "        ax.plot(S, getattr(self.fin_inst, plot_metrics)(S, time), 'b-', lw=1.5, \n",
    "                label=plot_metrics + r\" at \" + time_label)\n",
    "        \n",
    "        # blue dot at original underlying level for reference\n",
    "        S_t = self.fin_inst.get_S()\n",
    "        ax.plot(S_t, getattr(self.fin_inst, plot_metrics)(S_t, time), 'b.', ms=15, \n",
    "                label=r\"Emission level $S={:.1f}$\".format(S_t))\n",
    "        \n",
    "        if plot_limits==True:\n",
    "            # plot the upper limit, the price and the lower limit for different underlying values\n",
    "            ax.plot(S, self.fin_inst.price_upper_limit(S, time), 'k-.', lw=1.5, label=self.fin_inst.get_docstring('price_upper_limit'))\n",
    "            ax.plot(S, self.fin_inst.price_lower_limit(S, time), 'k--', lw=1.5, label=self.fin_inst.get_docstring('price_lower_limit'))\n",
    "\n",
    "        # plot the red payoff line for different underlying values\n",
    "        if plot_metrics == 'PnL':\n",
    "            ax.plot(S, self.fin_inst.PnL(S, tau=0.0), 'r-',  lw=1.5, label=self.fin_inst.get_docstring('payoff') + r\" (net of initial price)\")\n",
    "        else:\n",
    "            ax.plot(S, self.fin_inst.payoff(S), 'r-',  lw=1.5, label=self.fin_inst.get_docstring('payoff'))\n",
    "\n",
    "        # plot a dot to highlight the strike position and a reference zero line\n",
    "        ax.plot(self.fin_inst.get_K(), 0, 'k.', ms=15, label=\"Strike $K$\")\n",
    "        ax.plot(S, np.zeros_like(S), 'k--', lw=1.5)\n",
    "\n",
    "        # set axis labels \n",
    "        ax.set_xlabel(r\"Underlying Value at \" + time_label, fontsize=12) \n",
    "        ax.set_ylabel('Black-Scholes {}'.format(plot_metrics), fontsize=12) \n",
    "\n",
    "        # set title\n",
    "        ax.set_title(self.get_title(), fontsize=12) \n",
    "\n",
    "        # add the legend ('best' loc parameters places the legend in the best position automatically)\n",
    "        ax.legend(loc='best', ncol=1)\n",
    "\n",
    "        # add a gride to ease visualization\n",
    "        plt.grid(True)\n",
    "\n",
    "        # show the plot\n",
    "        fig.tight_layout()\n",
    "        plt.show()"
   ]
  },
  {
   "cell_type": "code",
   "execution_count": null,
   "metadata": {},
   "outputs": [],
   "source": [
    "market_env"
   ]
  },
  {
   "cell_type": "code",
   "execution_count": null,
   "metadata": {},
   "outputs": [],
   "source": [
    "Vanilla_Call"
   ]
  },
  {
   "cell_type": "code",
   "execution_count": null,
   "metadata": {},
   "outputs": [],
   "source": [
    "option_plotter = OptionPlotter(Vanilla_Call)"
   ]
  },
  {
   "cell_type": "code",
   "execution_count": null,
   "metadata": {},
   "outputs": [],
   "source": [
    "option_plotter.plot()"
   ]
  },
  {
   "cell_type": "code",
   "execution_count": null,
   "metadata": {},
   "outputs": [],
   "source": [
    "option_plotter.plot(plot_metrics='PnL')"
   ]
  },
  {
   "cell_type": "code",
   "execution_count": null,
   "metadata": {
    "scrolled": false
   },
   "outputs": [],
   "source": [
    "option_plotter.plot(tau=[0.05, 0.1, 0.25, 0.5, 0.75, 1.0])"
   ]
  },
  {
   "cell_type": "code",
   "execution_count": null,
   "metadata": {
    "scrolled": false
   },
   "outputs": [],
   "source": [
    "option_plotter.plot(tau=[0.05, 0.1, 0.25, 0.5, 0.75, 1.0], plot_metrics='PnL')"
   ]
  },
  {
   "cell_type": "code",
   "execution_count": null,
   "metadata": {},
   "outputs": [],
   "source": [
    "option_plotter.plot(tau=0.0)"
   ]
  },
  {
   "cell_type": "code",
   "execution_count": null,
   "metadata": {
    "scrolled": false
   },
   "outputs": [],
   "source": [
    "option_plotter.plot(tau=0.0, plot_metrics='PnL')"
   ]
  },
  {
   "cell_type": "code",
   "execution_count": null,
   "metadata": {},
   "outputs": [],
   "source": [
    "CON_Call = DigitalOption(market_env)\n",
    "CON_Call"
   ]
  },
  {
   "cell_type": "code",
   "execution_count": null,
   "metadata": {},
   "outputs": [],
   "source": [
    "option_plotter = OptionPlotter(CON_Call)"
   ]
  },
  {
   "cell_type": "code",
   "execution_count": null,
   "metadata": {},
   "outputs": [],
   "source": [
    "option_plotter.plot()"
   ]
  },
  {
   "cell_type": "code",
   "execution_count": null,
   "metadata": {},
   "outputs": [],
   "source": [
    "option_plotter.plot(plot_metrics='PnL')"
   ]
  },
  {
   "cell_type": "code",
   "execution_count": null,
   "metadata": {
    "scrolled": false
   },
   "outputs": [],
   "source": [
    "option_plotter.plot(tau=[0.05, 0.1, 0.25, 0.5, 0.75, 1.0])"
   ]
  },
  {
   "cell_type": "code",
   "execution_count": null,
   "metadata": {},
   "outputs": [],
   "source": [
    "option_plotter.plot(tau=[0.05, 0.1, 0.25, 0.5, 0.7, 1.0], plot_metrics='PnL')"
   ]
  },
  {
   "cell_type": "code",
   "execution_count": null,
   "metadata": {
    "scrolled": false
   },
   "outputs": [],
   "source": [
    "option_plotter.plot(tau=0.0)"
   ]
  },
  {
   "cell_type": "code",
   "execution_count": null,
   "metadata": {
    "scrolled": false
   },
   "outputs": [],
   "source": [
    "option_plotter.plot(tau=0.0, plot_metrics='PnL')"
   ]
  },
  {
   "cell_type": "markdown",
   "metadata": {},
   "source": [
    "# Composition application: a `Portfolio()` class"
   ]
  },
  {
   "cell_type": "markdown",
   "metadata": {},
   "source": [
    "- OptionStrategy() single tau (sfruttare *args **kwargs)\n",
    "\n",
    "- riesci a fare plot multi-tau?"
   ]
  },
  {
   "cell_type": "markdown",
   "metadata": {},
   "source": [
    "Notice the use of `*args` `**kwargs` optional arguments in portfolio's analytics methods. We are letting the input parameters smoothly flow trough the portfolio interface and delegating to the payoff and price methods of the single instruments, the parsing operations or the parameters. This is analogous to what we have done in sub-class initialization"
   ]
  },
  {
   "cell_type": "code",
   "execution_count": null,
   "metadata": {},
   "outputs": [],
   "source": [
    "class Portfolio:\n",
    "    \n",
    "    def __init__(self, name=\"Dummy\"):\n",
    "        \n",
    "        # initialize an empty portfolio\n",
    "        self.__composition = []\n",
    "        \n",
    "        # initialize empty info strings\n",
    "        self.__info = \"{} Portfolio: \\n\".format(name)\n",
    "        self.__mkt_info = None\n",
    "        \n",
    "        # initialize underlying value, strikes and times-to-maturity attributes\n",
    "        self.__S = None\n",
    "        self.__K = np.array([])\n",
    "        self.__tau = np.array([])\n",
    "        self.is_multi_horizon = False\n",
    "        \n",
    "    def __repr__(self):\n",
    "        return self.get_info()\n",
    "    \n",
    "    # getters\n",
    "    def get_info(self):\n",
    "        return self.__info\n",
    "    \n",
    "    def get_mkt_info(self):\n",
    "        return self.__mkt_info\n",
    "    \n",
    "    def get_K(self):\n",
    "        return self.__K\n",
    "    \n",
    "    def get_S(self):\n",
    "        return self.__S\n",
    "\n",
    "    def get_tau(self):\n",
    "        return self.__tau\n",
    "    \n",
    "    def get_composition(self):\n",
    "        return self.__composition\n",
    "    \n",
    "    # setters\n",
    "    def set_S(self, S):\n",
    "        self.__S = S\n",
    "        \n",
    "    # composition method\n",
    "    def add_instrument(self, FinancialInstrument, position):\n",
    "        \n",
    "        long_short = 'Long' if position > 0 else 'Short'\n",
    "        instrument_info = long_short + \" {} \".format(abs(position)) + FinancialInstrument.get_info()\n",
    "        \n",
    "        self.__composition.append({\"instrument\": FinancialInstrument,\n",
    "                                   \"position\":   position,\n",
    "                                   \"info\":       instrument_info})\n",
    "        \n",
    "        # update portfolio info strings\n",
    "        self.__update_info(FinancialInstrument, position)\n",
    "        \n",
    "        # update portfolio attributes\n",
    "        self.__update_S(FinancialInstrument)\n",
    "        self.__update_K(FinancialInstrument)\n",
    "        self.__update_tau(FinancialInstrument)\n",
    "    \n",
    "    # private method to update the info\n",
    "    def __update_info(self, fin_inst, pos):\n",
    "        self.__info += self.__composition[-1][\"info\"] + \"\\n\"\n",
    "        if self.__mkt_info is None:\n",
    "            self.__mkt_info = fin_inst.get_mkt_info()\n",
    "            \n",
    "    def __update_S(self, fin_inst):\n",
    "        if self.get_S() is None:\n",
    "            self.set_S(fin_inst.get_S())\n",
    "\n",
    "            \n",
    "    def __update_K(self, fin_inst):\n",
    "        # append new instrument strike\n",
    "        strikes = np.append(self.get_K(), fin_inst.get_K())\n",
    "        # filter only distinct strikes\n",
    "        self.__K = np.unique(strikes)\n",
    "\n",
    "    def __update_tau(self, fin_inst):\n",
    "        # append new instrument tau\n",
    "        times_to_maturity = np.append(self.get_tau(), fin_inst.get_tau())\n",
    "        # filter only distinct times-to-maturity\n",
    "        self.__tau = np.unique(times_to_maturity)\n",
    "        # check if the portfolio is a multi-horizon portfolio\n",
    "        if len(self.__tau) > 1:\n",
    "            self.is_multi_horizon = True\n",
    "                    \n",
    "    def __check_time_parameter(self, *args, **kwargs):\n",
    "        \n",
    "        # time parameter:\n",
    "        time_param = args[1] if len(args) > 1 \\\n",
    "                        else kwargs['tau'] if 'tau' in kwargs \\\n",
    "                            else (kwargs['t'] if 't' in kwargs else None)\n",
    "        \n",
    "        # check that no multiple time parameters in input\n",
    "        if isinstance(time_param, Iterable) and not isinstance(time_param, str):\n",
    "            raise NotImplementedError(\"No multiple time parameters allowed: {} given in input.\".format(time_param))\n",
    "            \n",
    "        # check that time parameter is not a time-to-maturity if the portfolio is multi-horizon:\n",
    "        if self.is_multi_horizon and (isinstance(time_param, int) or isinstance(time_param, float)):\n",
    "            raise NotImplementedError(\"No time-to-maturity time parameter allowed for multi-horizon \\n{} \\ntau={} given in input\"\\\n",
    "                                      .format(self, time_param))  \n",
    "            \n",
    "    # portfolio \"payoff\", that is expiration value\n",
    "    def payoff(self, *args, **kwargs):\n",
    "        \"\"\"\n",
    "        Returns the portfolio payoff as the scalar product (i.e. sum of elementwise products) \n",
    "        between single instrument payoffs and positions.\n",
    "        \n",
    "        As single instruments .payoff(), can be called with single/multiple 'S' and single 'tau'. \n",
    "        \"\"\"\n",
    "           \n",
    "        # check time parameter\n",
    "        self.__check_time_parameter(*args, **kwargs)\n",
    "              \n",
    "        if self.get_composition(): \n",
    "\n",
    "            # single instrument payoffs and positions\n",
    "            payoffs = np.array([inst[\"instrument\"].payoff(*args, **kwargs) for inst in self.get_composition()])\n",
    "            positions = np.array([inst[\"position\"] for inst in self.get_composition()])\n",
    "            \n",
    "            return positions.dot(payoffs)\n",
    "            \n",
    "        else: # if portfolio is empty returns 0\n",
    "            \n",
    "            return 0.0  \n",
    "        \n",
    "    # portfolio value (called 'price' as for single options, to implement polymorphism)\n",
    "    def price(self, *args, **kwargs):\n",
    "        \"\"\"\n",
    "        Returns the portfolio value as the scalar product (i.e. sum of elementwise products) \n",
    "        between single instrument prices and positions.\n",
    "        \n",
    "        As single instruments .price(), can be called with single/multiple 'S' and single 'tau'. \n",
    "        \"\"\"\n",
    "        \n",
    "        # check time parameter\n",
    "        self.__check_time_parameter(*args, **kwargs)\n",
    "                                      \n",
    "        if self.get_composition(): \n",
    "\n",
    "            # single instrument prices and positions\n",
    "            prices = np.array([inst[\"instrument\"].price(*args, **kwargs) for inst in self.get_composition()])\n",
    "            positions = np.array([inst[\"position\"] for inst in self.get_composition()])\n",
    "            \n",
    "            return positions.dot(prices)\n",
    "            \n",
    "        else: # if portfolio is empty returns 0\n",
    "            \n",
    "            return 0.0  \n",
    "        \n",
    "    # portfolio P&L\n",
    "    def PnL(self, *args, **kwargs):\n",
    "        \"\"\"\n",
    "        Returns the portfolio Profit & Loss as the scalar product (i.e. sum of elementwise products) \n",
    "        between single instrument P&Ls and positions.\n",
    "        \n",
    "        As single instruments .PnL(), can be called with single/multiple 'S' and single 'tau'. \n",
    "        \"\"\"\n",
    "                \n",
    "        # check time parameter\n",
    "        self.__check_time_parameter(*args, **kwargs)\n",
    "                                      \n",
    "        if self.get_composition(): \n",
    "\n",
    "            # single instrument P&Ls and positions\n",
    "            pnls = np.array([inst[\"instrument\"].PnL(*args, **kwargs) for inst in self.get_composition()])\n",
    "            positions = np.array([inst[\"position\"] for inst in self.get_composition()])\n",
    "            \n",
    "            return positions.dot(pnls)\n",
    "            \n",
    "        else: # if portfolio is empty returns 0\n",
    "            \n",
    "            return 0.0  "
   ]
  },
  {
   "cell_type": "code",
   "execution_count": null,
   "metadata": {},
   "outputs": [],
   "source": [
    "Vanilla_Call = PlainVanillaOption(market_env)\n",
    "Vanilla_Call"
   ]
  },
  {
   "cell_type": "code",
   "execution_count": null,
   "metadata": {},
   "outputs": [],
   "source": [
    "dummy_ptf = Portfolio()\n",
    "dummy_ptf"
   ]
  },
  {
   "cell_type": "code",
   "execution_count": null,
   "metadata": {},
   "outputs": [],
   "source": [
    "dummy_ptf.add_instrument(Vanilla_Call, 1)"
   ]
  },
  {
   "cell_type": "code",
   "execution_count": null,
   "metadata": {},
   "outputs": [],
   "source": [
    "dummy_ptf"
   ]
  },
  {
   "cell_type": "code",
   "execution_count": null,
   "metadata": {},
   "outputs": [],
   "source": [
    "Vanilla_Call.get_S()"
   ]
  },
  {
   "cell_type": "code",
   "execution_count": null,
   "metadata": {},
   "outputs": [],
   "source": [
    "dummy_ptf.get_S()"
   ]
  },
  {
   "cell_type": "code",
   "execution_count": null,
   "metadata": {},
   "outputs": [],
   "source": [
    "Vanilla_Call.get_K()"
   ]
  },
  {
   "cell_type": "code",
   "execution_count": null,
   "metadata": {},
   "outputs": [],
   "source": [
    "dummy_ptf.get_K()"
   ]
  },
  {
   "cell_type": "code",
   "execution_count": null,
   "metadata": {},
   "outputs": [],
   "source": [
    "Vanilla_Call.get_tau()"
   ]
  },
  {
   "cell_type": "code",
   "execution_count": null,
   "metadata": {},
   "outputs": [],
   "source": [
    "dummy_ptf.get_tau()"
   ]
  },
  {
   "cell_type": "code",
   "execution_count": null,
   "metadata": {},
   "outputs": [],
   "source": [
    "Vanilla_Call.price()"
   ]
  },
  {
   "cell_type": "code",
   "execution_count": null,
   "metadata": {},
   "outputs": [],
   "source": [
    "dummy_ptf.price()"
   ]
  },
  {
   "cell_type": "markdown",
   "metadata": {},
   "source": [
    "Let's now add a short position on 5 plain-vanilla put option contracts to our portfolio"
   ]
  },
  {
   "cell_type": "code",
   "execution_count": null,
   "metadata": {},
   "outputs": [],
   "source": [
    "put_strike = Vanilla_Call.get_K() + 20"
   ]
  },
  {
   "cell_type": "code",
   "execution_count": null,
   "metadata": {},
   "outputs": [],
   "source": [
    "Vanilla_Put = PlainVanillaOption(market_env, option_type='put', K=put_strike)\n",
    "Vanilla_Put"
   ]
  },
  {
   "cell_type": "code",
   "execution_count": null,
   "metadata": {},
   "outputs": [],
   "source": [
    "dummy_ptf.add_instrument(Vanilla_Put, -5)"
   ]
  },
  {
   "cell_type": "code",
   "execution_count": null,
   "metadata": {},
   "outputs": [],
   "source": [
    "dummy_ptf"
   ]
  },
  {
   "cell_type": "code",
   "execution_count": null,
   "metadata": {},
   "outputs": [],
   "source": [
    "Vanilla_Put.get_S()"
   ]
  },
  {
   "cell_type": "code",
   "execution_count": null,
   "metadata": {},
   "outputs": [],
   "source": [
    "dummy_ptf.get_S()"
   ]
  },
  {
   "cell_type": "code",
   "execution_count": null,
   "metadata": {},
   "outputs": [],
   "source": [
    "Vanilla_Put.get_K()"
   ]
  },
  {
   "cell_type": "code",
   "execution_count": null,
   "metadata": {},
   "outputs": [],
   "source": [
    "dummy_ptf.get_K()"
   ]
  },
  {
   "cell_type": "code",
   "execution_count": null,
   "metadata": {},
   "outputs": [],
   "source": [
    "Vanilla_Put.get_tau()"
   ]
  },
  {
   "cell_type": "code",
   "execution_count": null,
   "metadata": {},
   "outputs": [],
   "source": [
    "dummy_ptf.get_tau()"
   ]
  },
  {
   "cell_type": "code",
   "execution_count": null,
   "metadata": {},
   "outputs": [],
   "source": [
    "dummy_ptf.payoff()"
   ]
  },
  {
   "cell_type": "code",
   "execution_count": null,
   "metadata": {},
   "outputs": [],
   "source": [
    "1 * Vanilla_Call.payoff() - 5 * Vanilla_Put.payoff() "
   ]
  },
  {
   "cell_type": "code",
   "execution_count": null,
   "metadata": {},
   "outputs": [],
   "source": [
    "dummy_ptf.price()"
   ]
  },
  {
   "cell_type": "code",
   "execution_count": null,
   "metadata": {},
   "outputs": [],
   "source": [
    "1 * Vanilla_Call.price() - 5 * Vanilla_Put.price() "
   ]
  },
  {
   "cell_type": "code",
   "execution_count": null,
   "metadata": {},
   "outputs": [],
   "source": [
    "dummy_ptf.PnL()"
   ]
  },
  {
   "cell_type": "code",
   "execution_count": null,
   "metadata": {},
   "outputs": [],
   "source": [
    "1 * Vanilla_Call.PnL() - 5 * Vanilla_Put.PnL() "
   ]
  },
  {
   "cell_type": "markdown",
   "metadata": {},
   "source": [
    "You can call with input parameters"
   ]
  },
  {
   "cell_type": "code",
   "execution_count": null,
   "metadata": {},
   "outputs": [],
   "source": [
    "S = Vanilla_Call.get_S()\n",
    "S_12 = [0.8*S, 1.2*S]\n",
    "S_12"
   ]
  },
  {
   "cell_type": "code",
   "execution_count": null,
   "metadata": {},
   "outputs": [],
   "source": [
    "tau_short = 0.01\n",
    "tau_short"
   ]
  },
  {
   "cell_type": "code",
   "execution_count": null,
   "metadata": {},
   "outputs": [],
   "source": [
    "dummy_ptf.PnL(S=S_12, tau=tau_short)"
   ]
  },
  {
   "cell_type": "code",
   "execution_count": null,
   "metadata": {},
   "outputs": [],
   "source": [
    "1 * Vanilla_Call.PnL(S=S_12, tau=tau_short) - 5 * Vanilla_Put.PnL(S=S_12, tau=tau_short) "
   ]
  },
  {
   "cell_type": "code",
   "execution_count": null,
   "metadata": {},
   "outputs": [],
   "source": [
    "# raises: NotImplementedError: No multiple time parameters allowed: [0.1, 0.5] given in input.\n",
    "#\n",
    "# dummy_ptf.price(tau=[0.1, 0.5])"
   ]
  },
  {
   "cell_type": "markdown",
   "metadata": {},
   "source": [
    "## 0. Association: a `Plotter()` class"
   ]
  },
  {
   "cell_type": "code",
   "execution_count": null,
   "metadata": {},
   "outputs": [],
   "source": [
    "class Plotter:\n",
    "    \"\"\"\n",
    "    Interface Plotter class\n",
    "    \"\"\"\n",
    "    \n",
    "    def __init__(self, FinancialObject):\n",
    "        \n",
    "        print(\"Calling the Plotter initializer!\")\n",
    "        \n",
    "        # parse informations from FinancialInstrument\n",
    "        self.fin_inst = FinancialObject\n",
    "        self.__title_label = self.fin_inst.get_info() + \"\\n\" + \"Market at emission: \" + self.fin_inst.get_mkt_info()\n",
    "\n",
    "        # set default x-axis \n",
    "        self.__x_axis = self.x_axis(self.fin_inst.get_K())\n",
    "\n",
    "        # set default time parameter\n",
    "        self.__time_parameter, _ = self.time_parameter(self.fin_inst.get_tau())\n",
    "               \n",
    "    # getters\n",
    "    def get_x_axis(self):\n",
    "        return self.__x_axis\n",
    "\n",
    "    def get_time_parameter(self):\n",
    "        return self.__time_parameter\n",
    "\n",
    "    def get_title(self):\n",
    "        return self.__title_label\n",
    "    \n",
    "    # utility methods\n",
    "    def x_axis(self, *args, **kwargs):\n",
    "        \"\"\"\n",
    "        Utility method to define the x-axis of the plot, optionally parsing x-axis in input.\n",
    "        \"\"\"\n",
    "        \n",
    "        # parsing optional parameter\n",
    "        x = args[0] if len(args) > 0 else kwargs['S'] if 'S' in kwargs else self.get_x_axis()\n",
    "        \n",
    "        # define the x-axis\n",
    "        \n",
    "        # case 1: a list of x-points in input. The x-axis is a wide range, including x-points\n",
    "        if is_iterable(x):\n",
    "            x_min = max(min(x)-20, 0.0)\n",
    "            x_max = max(x)+20\n",
    "        # case 2: a single x-point in input. The x-point is the middle point of the x-axis\n",
    "        else:\n",
    "            x_min = max(x-20, 0.0)\n",
    "            x_max = x+20\n",
    "\n",
    "        return np.linspace(x_min, x_max, 100)\n",
    "        \n",
    "    def time_parameter(self, *args, **kwargs):\n",
    "        \"\"\"\n",
    "        Utility method to define the time parameter of the plot, optionally parsing time parameter in input.\n",
    "        It returns appropriate time parameter labels too.\n",
    "        \"\"\"\n",
    "        \n",
    "        # parsing optional parameter: notice the backslash operator '\\' \n",
    "        # to split code into multiple lines for readability\n",
    "        time = args[0] if len(args) == 1 \\\n",
    "               else args[1] if len(args) > 1 \\\n",
    "                   else (kwargs['tau'] if 'tau' in kwargs \\\n",
    "                       else (kwargs['t'] if 't' in kwargs else self.get_time_parameter()))\n",
    "        \n",
    "        # case 1: time-to-maturity in input (if Iterable, sort from longest to shortest)\n",
    "        if is_numeric(time):\n",
    "            time_parameter = np.sort(time)[::-1] if is_iterable_not_string(time) else time\n",
    "            time_parameter_label = np.array([r\"$\\tau={:.2f}y$\".format(tau) for tau in time_parameter]) \\\n",
    "                                    if is_iterable_not_string(time) else r\"$\\tau={:.2f}y$\".format(time_parameter)\n",
    "\n",
    "        # case 2: valuation date in input (if Iterable, sort from first to last, i.e. chronological order)\n",
    "        elif is_date(time):\n",
    "            time_parameter = np.array(sorted(time, key=date_string_to_datetime_obj)) if is_iterable_not_string(time) else time\n",
    "            time_parameter_label = np.array([datetime_obj_to_date_string(t) for t in time_parameter]) \\\n",
    "                                    if is_iterable_not_string(time) else datetime_obj_to_date_string(time_parameter)\n",
    "\n",
    "        else:\n",
    "            raise TypeError(\"Time parameter {} in input has not recognized data-type \\\n",
    "                             (only 'dd-mm-YYYY' Strings or dt.datetime objects allowed)\".format(type(time_parameter)))\n",
    "            \n",
    "        # case of one-element Iterable: reduced to scalar variables\n",
    "        if is_iterable(time_parameter) and len(time_parameter) == 1:\n",
    "            time_parameter = time_parameter[0]\n",
    "            time_parameter_label = time_parameter_label[0]\n",
    "                \n",
    "        return time_parameter, time_parameter_label\n",
    "    \n",
    "    def parse_plot_metrics(self, *args, **kwargs):\n",
    "        \"\"\"\n",
    "        Utility method to parse the metrics of the plot: either 'price' or 'PnL'.\n",
    "        \"\"\"\n",
    "        plot_metrics = args[2] if len(args) > 2 else kwargs['plot_metrics'] if 'plot_metrics' in kwargs else 'price'\n",
    "        return plot_metrics\n",
    "    \n",
    "    def parse_plot_details(self, *args, **kwargs):\n",
    "        \"\"\"\n",
    "        Utility method to decide whether to plot details or not.\n",
    "        \"\"\"\n",
    "        plot_details = args[3] if len(args) > 3 else kwargs['plot_details'] if 'plot_details' in kwargs else True\n",
    "        return plot_details\n",
    "     \n",
    "    # template plot method\n",
    "    def plot(self):\n",
    "        raise NotImplementedError()"
   ]
  },
  {
   "cell_type": "code",
   "execution_count": null,
   "metadata": {},
   "outputs": [],
   "source": [
    "class OptionPlotter(Plotter):\n",
    "    \"\"\"\n",
    "    Plotter class for single options\n",
    "    \"\"\"\n",
    "    \n",
    "    def __init__(self, *args, **kwargs):\n",
    "        # calling the Plotter initializer\n",
    "        super(OptionPlotter, self).__init__(*args, **kwargs)\n",
    "                                    \n",
    "    def plot(self, *args, **kwargs):\n",
    "        \n",
    "        # argument parsing and plot setup\n",
    "        x_axis = self.x_axis(*args, **kwargs)\n",
    "        time_parameter, time_label_parameter = self.time_parameter(*args, **kwargs)\n",
    "        plot_metrics = self.parse_plot_metrics(*args, **kwargs)\n",
    "\n",
    "        if is_iterable_not_string(time_parameter):\n",
    "            self.__plot_multi_time(x_axis, time_parameter, time_label_parameter, plot_metrics)\n",
    "        else:\n",
    "            plot_limits = self.parse_plot_details(*args, **kwargs)\n",
    "            self.__plot_single_time(x_axis, time_parameter, time_label_parameter, plot_metrics, plot_limits)\n",
    "                    \n",
    "    def __plot_multi_time(self, S, multiple_times, time_labels, plot_metrics):\n",
    "        \"\"\"\n",
    "        Plot FinancialInstrument values against underlying value(s), possibly at multiple dates.\n",
    "        Dates can be specified either as date Strings or time-to-maturity values.\n",
    "        \"\"\"\n",
    "        \n",
    "        plt.rcParams[\"axes.prop_cycle\"] = plt.cycler(\"color\", plt.cm.Blues(np.linspace(0,1,len(multiple_times))))\n",
    "\n",
    "        # define the figure\n",
    "        fig, ax = plt.subplots(figsize=(10,6))\n",
    "\n",
    "        # plot the price for different underlying values, one line for each different date\n",
    "        for time, time_label in zip(multiple_times, time_labels):\n",
    "            ax.plot(S, getattr(self.fin_inst, plot_metrics)(S, time), '-', lw=1.5, \n",
    "                    label=plot_metrics + r\" at \" + time_label)\n",
    "\n",
    "        # blue dot at original underlying level for reference\n",
    "        for time, time_label in zip(multiple_times, time_labels):\n",
    "            S_t = self.fin_inst.get_S()\n",
    "            ax.plot(S_t, getattr(self.fin_inst, plot_metrics)(S_t, time), '.', ms=10, \n",
    "                    label=r\"Emission level $S={:.1f}$\".format(S_t))\n",
    "            \n",
    "        # plot the red payoff line for different underlying values\n",
    "        if plot_metrics == 'PnL':\n",
    "            ax.plot(S, self.fin_inst.PnL(S, tau=0.0), 'r-',  lw=1.5, label=self.fin_inst.get_docstring('payoff') + r\" (net of initial price)\")\n",
    "        else:\n",
    "            ax.plot(S, self.fin_inst.payoff(S), 'r-',  lw=1.5, label=self.fin_inst.get_docstring('payoff'))\n",
    "\n",
    "        # plot a dot to highlight the strike position and a reference zero line\n",
    "        ax.plot(self.fin_inst.get_K(), 0, 'k.', ms=15, label=\"Strike $K$\")\n",
    "        ax.plot(S, np.zeros_like(S), 'k--', lw=1.5)\n",
    "        \n",
    "        # set axis labels \n",
    "        ax.set_xlabel(r\"Underlying Value at different dates\", fontsize=12)\n",
    "        ax.set_ylabel('Black-Scholes {}'.format(plot_metrics), fontsize=12) \n",
    "\n",
    "        # set title\n",
    "        ax.set_title(self.get_title(), fontsize=12) \n",
    "\n",
    "        # add the legend ('best' loc parameters places the legend in the best position automatically)\n",
    "        ax.legend(loc='best', ncol=2)\n",
    "\n",
    "        # add a gride to ease visualization\n",
    "        plt.grid(True)\n",
    "\n",
    "        # show the plot\n",
    "        fig.tight_layout()\n",
    "        plt.show()\n",
    " \n",
    "    def __plot_single_time(self, S, time, time_label, plot_metrics, plot_limits):\n",
    "        \"\"\"\n",
    "        Plot FinancialInstrument values against underlying value(s) at fixed date. \n",
    "        Date can be specified either as date String or time-to-maturity value.\n",
    "        Optionally, it plots theoretical upper and lower bounds of the price.\n",
    "        \"\"\"\n",
    "        \n",
    "        # define the figure\n",
    "        fig, ax = plt.subplots(figsize=(10,6))\n",
    "        \n",
    "        # plot the price for different underlying values\n",
    "        ax.plot(S, getattr(self.fin_inst, plot_metrics)(S, time), 'b-', lw=1.5, \n",
    "                label=plot_metrics + r\" at \" + time_label)\n",
    "        \n",
    "        # blue dot at original underlying level for reference\n",
    "        S_t = self.fin_inst.get_S()\n",
    "        ax.plot(S_t, getattr(self.fin_inst, plot_metrics)(S_t, time), 'b.', ms=15, \n",
    "                label=r\"Emission level $S={:.1f}$\".format(S_t))\n",
    "        \n",
    "        if plot_limits==True:\n",
    "            # plot the upper limit, the price and the lower limit for different underlying values\n",
    "            ax.plot(S, self.fin_inst.price_upper_limit(S, time), 'k-.', lw=1.5, label=self.fin_inst.get_docstring('price_upper_limit'))\n",
    "            ax.plot(S, self.fin_inst.price_lower_limit(S, time), 'k--', lw=1.5, label=self.fin_inst.get_docstring('price_lower_limit'))\n",
    "\n",
    "        # plot the red payoff line for different underlying values\n",
    "        if plot_metrics == 'PnL':\n",
    "            ax.plot(S, self.fin_inst.PnL(S, tau=0.0), 'r-',  lw=1.5, label=self.fin_inst.get_docstring('payoff') + r\" (net of initial price)\")\n",
    "        else:\n",
    "            ax.plot(S, self.fin_inst.payoff(S), 'r-',  lw=1.5, label=self.fin_inst.get_docstring('payoff'))\n",
    "\n",
    "        # plot a dot to highlight the strike position and a reference zero line\n",
    "        ax.plot(self.fin_inst.get_K(), 0, 'k.', ms=15, label=\"Strike $K$\")\n",
    "        ax.plot(S, np.zeros_like(S), 'k--', lw=1.5)\n",
    "\n",
    "        # set axis labels \n",
    "        ax.set_xlabel(r\"Underlying Value at \" + time_label, fontsize=12) \n",
    "        ax.set_ylabel('Black-Scholes {}'.format(plot_metrics), fontsize=12) \n",
    "\n",
    "        # set title\n",
    "        ax.set_title(self.get_title(), fontsize=12) \n",
    "\n",
    "        # add the legend ('best' loc parameters places the legend in the best position automatically)\n",
    "        ax.legend(loc='best', ncol=1)\n",
    "\n",
    "        # add a gride to ease visualization\n",
    "        plt.grid(True)\n",
    "\n",
    "        # show the plot\n",
    "        fig.tight_layout()\n",
    "        plt.show()"
   ]
  },
  {
   "cell_type": "code",
   "execution_count": null,
   "metadata": {},
   "outputs": [],
   "source": [
    "Vanilla_Call_plotter = OptionPlotter(Vanilla_Call)"
   ]
  },
  {
   "cell_type": "code",
   "execution_count": null,
   "metadata": {},
   "outputs": [],
   "source": [
    "Vanilla_Call_plotter.plot(plot_metrics='PnL')"
   ]
  },
  {
   "cell_type": "code",
   "execution_count": null,
   "metadata": {
    "scrolled": false
   },
   "outputs": [],
   "source": [
    "Vanilla_Call_plotter.plot(tau=[0.05, 0.1, 0.25, 0.5, 0.7, 1.0], plot_metrics='PnL')"
   ]
  },
  {
   "cell_type": "code",
   "execution_count": null,
   "metadata": {},
   "outputs": [],
   "source": [
    "class PortfolioPlotter(Plotter):\n",
    "    \"\"\"\n",
    "    Plotter class for portfolio of options\n",
    "    \"\"\"\n",
    "    \n",
    "    def __init__(self, *args, **kwargs):\n",
    "        # calling the Plotter initializer\n",
    "        super(PortfolioPlotter, self).__init__(*args, **kwargs)\n",
    "\n",
    "    def plot(self, *args, **kwargs):\n",
    "        \n",
    "        # argument parsing and plot setup\n",
    "        x_axis = self.x_axis(*args, **kwargs)\n",
    "        time_parameter, time_label_parameter = self.time_parameter(*args, **kwargs)\n",
    "        plot_metrics = self.parse_plot_metrics(*args, **kwargs)\n",
    "\n",
    "        if is_iterable_not_string(time_parameter):\n",
    "            self.__plot_multi_time(x_axis, time_parameter, time_label_parameter, plot_metrics)\n",
    "        else:\n",
    "            plot_instrument_payoffs = self.parse_plot_details(*args, **kwargs)\n",
    "            self.__plot_single_time(x_axis, time_parameter, time_label_parameter, plot_metrics, plot_instrument_payoffs)\n",
    "                    \n",
    "    def __plot_multi_time(self, S, multiple_times, time_labels, plot_metrics):\n",
    "        \"\"\"\n",
    "        Plot Portfolio values against underlying value(s), possibly at multiple dates.\n",
    "        Dates can be specified either as date Strings or time-to-maturity values.\n",
    "        \"\"\"\n",
    "        \n",
    "        plt.rcParams[\"axes.prop_cycle\"] = plt.cycler(\"color\", plt.cm.Blues(np.linspace(0,1,len(multiple_times))))\n",
    "\n",
    "        # define the figure\n",
    "        fig, ax = plt.subplots(figsize=(10,6))\n",
    "\n",
    "        # plot the price for different underlying values, one line for each different date\n",
    "        for time, time_label in zip(multiple_times, time_labels):\n",
    "            ax.plot(S, getattr(self.fin_inst, plot_metrics)(S, time), '-', lw=1.5, \n",
    "                    label=plot_metrics + r\" at \" + time_label)\n",
    "\n",
    "        # blue dot at original underlying level for reference\n",
    "        for time, time_label in zip(multiple_times, time_labels):\n",
    "            S_t = self.fin_inst.get_S()\n",
    "            ax.plot(S_t, getattr(self.fin_inst, plot_metrics)(S_t, time), '.', ms=10, \n",
    "                    label=r\"Emission level $S={:.1f}$\".format(S_t))\n",
    "\n",
    "        # plot the red payoff line for different underlying values\n",
    "        if not self.fin_inst.is_multi_horizon:\n",
    "            if plot_metrics == 'PnL':\n",
    "                ax.plot(S, self.fin_inst.PnL(S, tau=0.0), 'r-',  lw=1.5, label=r\"PnL at maturity\")\n",
    "            else:\n",
    "                ax.plot(S, self.fin_inst.payoff(S), 'r-',  lw=1.5, label=r\"Payoff at maturity\")\n",
    "            \n",
    "        # plot a dot to highlight the strike position and a reference zero line\n",
    "        strikes = self.fin_inst.get_K()\n",
    "        ax.plot(strikes, np.zeros_like(strikes), 'k.', ms=15, label=\"Strikes $K$\")\n",
    "        ax.plot(S, np.zeros_like(S), 'k--', lw=1.5)\n",
    "        \n",
    "        # set axis labels \n",
    "        ax.set_xlabel(r\"Underlying Value at different times-to-maturity $\\tau$\", fontsize=12)\n",
    "        ax.set_ylabel('Black-Scholes {}'.format(plot_metrics), fontsize=12) \n",
    "\n",
    "        # set title\n",
    "        ax.set_title(self.get_title(), fontsize=12) \n",
    "\n",
    "        # add the legend ('best' loc parameters places the legend in the best position automatically)\n",
    "        ax.legend(loc='best', ncol=2)\n",
    "\n",
    "        # add a gride to ease visualization\n",
    "        plt.grid(True)\n",
    "\n",
    "        # show the plot\n",
    "        fig.tight_layout()\n",
    "        plt.show()\n",
    "    \n",
    "    def __plot_single_time(self, S, time, time_label, plot_metrics, plot_instrument_payoffs):\n",
    "        \"\"\"\n",
    "        Plot Portfolio values against underlying value(s) at fixed date. \n",
    "        Date can be specified either as date String or time-to-maturity value.\n",
    "        Optionally, it plots theoretical upper and lower bounds of the price.\n",
    "        \"\"\"\n",
    "        \n",
    "        # define the figure\n",
    "        fig, ax = plt.subplots(figsize=(10,6))\n",
    "        \n",
    "        # plot the price for different underlying values\n",
    "        ax.plot(S, getattr(self.fin_inst, plot_metrics)(S, time), 'b-', lw=1.5, \n",
    "                label=plot_metrics + r\" at \" + time_label)\n",
    "        \n",
    "        # blue dot at original underlying level for reference\n",
    "        S_t = self.fin_inst.get_S()\n",
    "        ax.plot(S_t, getattr(self.fin_inst, plot_metrics)(S_t, time), 'b.', ms=15, \n",
    "                label=r\"Emission level $S={:.1f}$\".format(S_t))\n",
    "        \n",
    "        # plot the red payoff line for different underlying values\n",
    "        if not self.fin_inst.is_multi_horizon:\n",
    "            if plot_metrics == 'PnL':\n",
    "                ax.plot(S, self.fin_inst.PnL(S, tau=0.0), 'r-',  lw=1.5, label=r\"PnL at maturity\")\n",
    "            else:\n",
    "                ax.plot(S, self.fin_inst.payoff(S), 'r-',  lw=1.5, label=r\"Payoff at maturity\")\n",
    "\n",
    "        # optionally, plot the instruments payoffs\n",
    "        if plot_instrument_payoffs:\n",
    "            \n",
    "            # set a color cycle according to the number of instruments in portfolio\n",
    "            number_of_instruments = len(self.fin_inst.get_composition())\n",
    "            plt.rcParams[\"axes.prop_cycle\"] = plt.cycler(\"color\", plt.cm.RdYlGn(np.linspace(0,1,number_of_instruments)))\n",
    "            \n",
    "            for inst in self.fin_inst.get_composition():\n",
    "                position = inst[\"position\"]\n",
    "\n",
    "                if plot_metrics == 'PnL':\n",
    "                    ax.plot(S, position * inst[\"instrument\"].PnL(S, tau=0.0), '--',  lw=1.5, \n",
    "                            label=inst[\"info\"] + r\" PnL at maturity\")\n",
    "                else:\n",
    "                    ax.plot(S, position * inst[\"instrument\"].payoff(S), '--',  lw=1.5, \n",
    "                            label=inst[\"info\"] + r\" payoff at maturity\")\n",
    "                \n",
    "        # plot a dot to highlight the strike position and a reference zero line\n",
    "        strikes = self.fin_inst.get_K()\n",
    "        ax.plot(strikes, np.zeros_like(strikes), 'k.', ms=15, label=\"Strikes $K$\")\n",
    "        ax.plot(S, np.zeros_like(S), 'k--', lw=1.5)\n",
    "\n",
    "        # set axis labels \n",
    "        ax.set_xlabel(r\"Underlying Value at \" + time_label, fontsize=12)\n",
    "        ax.set_ylabel('Black-Scholes {}'.format(plot_metrics), fontsize=12) \n",
    "\n",
    "        # set title\n",
    "        ax.set_title(self.get_title(), fontsize=12) \n",
    "\n",
    "        # add the legend ('best' loc parameters places the legend in the best position automatically)\n",
    "        ax.legend(loc='best', ncol=1)\n",
    "\n",
    "        # add a gride to ease visualization\n",
    "        plt.grid(True)\n",
    "\n",
    "        # show the plot\n",
    "        fig.tight_layout()\n",
    "        plt.show()"
   ]
  },
  {
   "cell_type": "markdown",
   "metadata": {},
   "source": [
    "we check the `PortfolioPlotter` in some specific situations"
   ]
  },
  {
   "cell_type": "markdown",
   "metadata": {},
   "source": [
    "## A. Short positions on options"
   ]
  },
  {
   "cell_type": "markdown",
   "metadata": {},
   "source": [
    "Let's start making a simple option strategy: a short Put position."
   ]
  },
  {
   "cell_type": "code",
   "execution_count": null,
   "metadata": {},
   "outputs": [],
   "source": [
    "Vanilla_Put = PlainVanillaOption(market_env, option_type='put')\n",
    "Vanilla_Put"
   ]
  },
  {
   "cell_type": "code",
   "execution_count": null,
   "metadata": {},
   "outputs": [],
   "source": [
    "short_put_ptf = Portfolio()\n",
    "short_put_ptf.add_instrument(Vanilla_Put, -1)\n",
    "short_put_ptf"
   ]
  },
  {
   "cell_type": "code",
   "execution_count": null,
   "metadata": {
    "scrolled": true
   },
   "outputs": [],
   "source": [
    "ptf_plotter = PortfolioPlotter(short_put_ptf)"
   ]
  },
  {
   "cell_type": "markdown",
   "metadata": {},
   "source": [
    "Here is the value of the short position:\n",
    "\n",
    "- the red line represents the payoff of the position: negative if the option is exercised at maturity, otherwise null;\n",
    "- the blue line represents is the nominally negative value of the position. You can think of it as the amount of money needed to close the position when the residual time-to-maturity of the option is $\\tau$, that is to buy (aka _going long_ ) another put with same strike and expiration date of the one we sold.\n",
    "\n",
    "In our example we sold a put option of strike $K=\\$100$ and time-to-maturity $\\tau=0.7$ years (when the market value of the underlying was $S_t = \\$90 $) and evaluate the position for different values of the underlying when the residual time-to-maturity of the option is $\\tau=0.3$ years. "
   ]
  },
  {
   "cell_type": "code",
   "execution_count": null,
   "metadata": {},
   "outputs": [],
   "source": [
    "ptf_plotter.plot(tau=0.3)"
   ]
  },
  {
   "cell_type": "markdown",
   "metadata": {},
   "source": [
    "As we see, the put gets exercised at maturity if $S_T < K$, and, at maturity, it generates a profit if the initial payment $p(S_t=\\$90; \\tau=0.7y)$ received when the put is sold is not offset by the payoff $K-S_T$ to be granted to owner of the option if he/she exercises the option at expiration $T$. \n",
    "\n",
    "Notice that comparing the payoff paid at maturity with the initial price of the option, as we are doing, intentionally neglects the time value of money."
   ]
  },
  {
   "cell_type": "code",
   "execution_count": null,
   "metadata": {},
   "outputs": [],
   "source": [
    "ptf_plotter.plot(plot_metrics='PnL', tau=0.3)"
   ]
  },
  {
   "cell_type": "markdown",
   "metadata": {},
   "source": [
    "Notice a detail: given an initial price $p(S=\\$90; \\tau=0.7y)$ of"
   ]
  },
  {
   "cell_type": "code",
   "execution_count": null,
   "metadata": {},
   "outputs": [],
   "source": [
    "Vanilla_Put.price()"
   ]
  },
  {
   "cell_type": "markdown",
   "metadata": {},
   "source": [
    "and a current price at same underlying value $p(S=\\$90; \\tau=0.3y)$ of "
   ]
  },
  {
   "cell_type": "code",
   "execution_count": null,
   "metadata": {},
   "outputs": [],
   "source": [
    "Vanilla_Put.price(tau=0.3) # it uses .get_S() == $90"
   ]
  },
  {
   "cell_type": "markdown",
   "metadata": {},
   "source": [
    "Due to the elapsed time (as time pass, options tend to get cheaper), the value of the put at $S_t=\\$90$ decreased from $p(S=\\$90; \\tau=0.7y) \\approx \\$10.04 $ to $p(S=\\$90; \\tau=0.3y) \\approx \\$9.70$. That is - all else being equal (in particular $S=\\$90$) - if we were to close our position (i.e. buy another option of same strike and maturity date) when $\\tau=0.3$, we would have to pay less money $p(S=\\$90; \\tau=0.3y)$ than those we have received $p(S=\\$90; \\tau=0.7y)$ when we sold it. This slight decrease makes the \n",
    "\n",
    "$$\n",
    "P\\&L(S=\\$90; \\tau=0.3y) = p(S=\\$90; \\tau=0.3y) - p(S=\\$90; \\tau=0.7y) > 0\n",
    "$$\n",
    "\n",
    "slightly positive. "
   ]
  },
  {
   "cell_type": "code",
   "execution_count": null,
   "metadata": {},
   "outputs": [],
   "source": [
    "short_put_ptf.PnL(tau=0.3)"
   ]
  },
  {
   "cell_type": "code",
   "execution_count": null,
   "metadata": {},
   "outputs": [],
   "source": [
    "Vanilla_Put.price() - Vanilla_Put.price(tau=0.3)"
   ]
  },
  {
   "cell_type": "markdown",
   "metadata": {},
   "source": [
    "## B. spreads e straddles (same $\\tau$ strategy)"
   ]
  },
  {
   "cell_type": "markdown",
   "metadata": {},
   "source": [
    "### Bull spread"
   ]
  },
  {
   "cell_type": "code",
   "execution_count": null,
   "metadata": {},
   "outputs": [],
   "source": [
    "K_long = 80\n",
    "K_short = 110"
   ]
  },
  {
   "cell_type": "code",
   "execution_count": null,
   "metadata": {},
   "outputs": [],
   "source": [
    "Vanilla_Call_long = PlainVanillaOption(market_env, K=K_long)\n",
    "Vanilla_Call_long"
   ]
  },
  {
   "cell_type": "code",
   "execution_count": null,
   "metadata": {},
   "outputs": [],
   "source": [
    "Vanilla_Call_short = PlainVanillaOption(market_env, K=K_short)\n",
    "Vanilla_Call_short"
   ]
  },
  {
   "cell_type": "code",
   "execution_count": null,
   "metadata": {},
   "outputs": [],
   "source": [
    "bull_spread_ptf = Portfolio(name=\"Bull Spread Strategy\")\n",
    "bull_spread_ptf.add_instrument(Vanilla_Call_long, 1)\n",
    "bull_spread_ptf.add_instrument(Vanilla_Call_short, -1)\n",
    "bull_spread_ptf"
   ]
  },
  {
   "cell_type": "code",
   "execution_count": null,
   "metadata": {
    "scrolled": true
   },
   "outputs": [],
   "source": [
    "bull_spread_ptf_plotter = PortfolioPlotter(bull_spread_ptf)"
   ]
  },
  {
   "cell_type": "code",
   "execution_count": null,
   "metadata": {},
   "outputs": [],
   "source": [
    "bull_spread_ptf_plotter.plot(plot_metrics=\"PnL\", plot_instrument_payoffs=True)"
   ]
  },
  {
   "cell_type": "markdown",
   "metadata": {},
   "source": [
    "### Straddle"
   ]
  },
  {
   "cell_type": "code",
   "execution_count": null,
   "metadata": {},
   "outputs": [],
   "source": [
    "Vanilla_Call = PlainVanillaOption(market_env)\n",
    "Vanilla_Call"
   ]
  },
  {
   "cell_type": "code",
   "execution_count": null,
   "metadata": {},
   "outputs": [],
   "source": [
    "Vanilla_Put = PlainVanillaOption(market_env, option_type='put')\n",
    "Vanilla_Put"
   ]
  },
  {
   "cell_type": "code",
   "execution_count": null,
   "metadata": {},
   "outputs": [],
   "source": [
    "straddle_ptf = Portfolio(name=\"Straddle Strategy\")\n",
    "straddle_ptf.add_instrument(Vanilla_Call, 1)\n",
    "straddle_ptf.add_instrument(Vanilla_Put, 1)\n",
    "straddle_ptf"
   ]
  },
  {
   "cell_type": "code",
   "execution_count": null,
   "metadata": {
    "scrolled": true
   },
   "outputs": [],
   "source": [
    "straddle_ptf_plotter = PortfolioPlotter(straddle_ptf)"
   ]
  },
  {
   "cell_type": "code",
   "execution_count": null,
   "metadata": {},
   "outputs": [],
   "source": [
    "straddle_ptf_plotter.plot(plot_metrics=\"PnL\", plot_instrument_payoffs=True)"
   ]
  },
  {
   "cell_type": "markdown",
   "metadata": {},
   "source": [
    "## C. calendar spreads (multi $\\tau$ strategy)"
   ]
  },
  {
   "cell_type": "code",
   "execution_count": null,
   "metadata": {},
   "outputs": [],
   "source": [
    "market_env.get_t()"
   ]
  },
  {
   "cell_type": "code",
   "execution_count": null,
   "metadata": {},
   "outputs": [],
   "source": [
    "T_short_term = \"31-05-2020\"\n",
    "T_long_term = \"30-08-2020\""
   ]
  },
  {
   "cell_type": "code",
   "execution_count": null,
   "metadata": {},
   "outputs": [],
   "source": [
    "Vanilla_Call_short_term = PlainVanillaOption(market_env, T=T_short_term, K = market_env.get_S()-10)\n",
    "Vanilla_Call_short_term"
   ]
  },
  {
   "cell_type": "code",
   "execution_count": null,
   "metadata": {},
   "outputs": [],
   "source": [
    "Vanilla_Call_long_term = PlainVanillaOption(market_env, T=T_long_term, K = market_env.get_S()-10)\n",
    "Vanilla_Call_long_term"
   ]
  },
  {
   "cell_type": "code",
   "execution_count": null,
   "metadata": {},
   "outputs": [],
   "source": [
    "calendar_spread_ptf = Portfolio(name=\"Calendar Spread Strategy\")\n",
    "calendar_spread_ptf.add_instrument(Vanilla_Call_short_term, -1)\n",
    "calendar_spread_ptf.add_instrument(Vanilla_Call_long_term, 1)\n",
    "calendar_spread_ptf"
   ]
  },
  {
   "cell_type": "code",
   "execution_count": null,
   "metadata": {
    "scrolled": true
   },
   "outputs": [],
   "source": [
    "calendar_spread_ptf_plotter = PortfolioPlotter(calendar_spread_ptf)"
   ]
  },
  {
   "cell_type": "code",
   "execution_count": null,
   "metadata": {},
   "outputs": [],
   "source": [
    "T_short_term"
   ]
  },
  {
   "cell_type": "code",
   "execution_count": null,
   "metadata": {},
   "outputs": [],
   "source": [
    "calendar_spread_ptf_plotter.plot(t=T_short_term, plot_metrics=\"PnL\", plot_single_instruments=True)"
   ]
  },
  {
   "cell_type": "code",
   "execution_count": null,
   "metadata": {},
   "outputs": [],
   "source": []
  },
  {
   "cell_type": "code",
   "execution_count": null,
   "metadata": {},
   "outputs": [],
   "source": []
  },
  {
   "cell_type": "code",
   "execution_count": null,
   "metadata": {},
   "outputs": [],
   "source": []
  },
  {
   "cell_type": "code",
   "execution_count": null,
   "metadata": {},
   "outputs": [],
   "source": []
  },
  {
   "cell_type": "code",
   "execution_count": null,
   "metadata": {},
   "outputs": [],
   "source": []
  },
  {
   "cell_type": "code",
   "execution_count": null,
   "metadata": {},
   "outputs": [],
   "source": []
  },
  {
   "cell_type": "code",
   "execution_count": null,
   "metadata": {},
   "outputs": [],
   "source": []
  },
  {
   "cell_type": "code",
   "execution_count": null,
   "metadata": {},
   "outputs": [],
   "source": []
  },
  {
   "cell_type": "code",
   "execution_count": null,
   "metadata": {},
   "outputs": [],
   "source": []
  },
  {
   "cell_type": "code",
   "execution_count": null,
   "metadata": {},
   "outputs": [],
   "source": []
  },
  {
   "cell_type": "code",
   "execution_count": null,
   "metadata": {},
   "outputs": [],
   "source": []
  },
  {
   "cell_type": "code",
   "execution_count": null,
   "metadata": {},
   "outputs": [],
   "source": []
  },
  {
   "cell_type": "code",
   "execution_count": null,
   "metadata": {},
   "outputs": [],
   "source": []
  },
  {
   "cell_type": "code",
   "execution_count": null,
   "metadata": {},
   "outputs": [],
   "source": []
  },
  {
   "cell_type": "code",
   "execution_count": null,
   "metadata": {},
   "outputs": [],
   "source": []
  },
  {
   "cell_type": "code",
   "execution_count": null,
   "metadata": {},
   "outputs": [],
   "source": []
  },
  {
   "cell_type": "code",
   "execution_count": null,
   "metadata": {
    "scrolled": true
   },
   "outputs": [],
   "source": [
    "market_env"
   ]
  },
  {
   "cell_type": "code",
   "execution_count": null,
   "metadata": {},
   "outputs": [],
   "source": [
    "market_env.get_t()"
   ]
  },
  {
   "cell_type": "code",
   "execution_count": null,
   "metadata": {},
   "outputs": [],
   "source": [
    "Vanilla_Call"
   ]
  },
  {
   "cell_type": "code",
   "execution_count": null,
   "metadata": {},
   "outputs": [],
   "source": [
    "option_plotter = OptionPlotter(Vanilla_Call)"
   ]
  },
  {
   "cell_type": "code",
   "execution_count": null,
   "metadata": {},
   "outputs": [],
   "source": [
    "option_plotter.plot()"
   ]
  },
  {
   "cell_type": "code",
   "execution_count": null,
   "metadata": {},
   "outputs": [],
   "source": [
    "option_plotter.plot(t=\"18-05-2020\")"
   ]
  },
  {
   "cell_type": "code",
   "execution_count": null,
   "metadata": {
    "scrolled": false
   },
   "outputs": [],
   "source": [
    "option_plotter.plot(tau=[0.05, 0.1, 0.25, 0.5, 0.75, 1.0])"
   ]
  },
  {
   "cell_type": "code",
   "execution_count": null,
   "metadata": {},
   "outputs": [],
   "source": [
    "option_plotter.plot(t=[datetime_obj_to_date_string(market_env.get_t()), \"01-06-2020\", \"01-07-2020\", \"01-08-2020\", \"01-10-2020\", \"01-12-2020\"])"
   ]
  },
  {
   "cell_type": "code",
   "execution_count": null,
   "metadata": {},
   "outputs": [],
   "source": [
    "option_plotter.plot(tau=[0.05, 0.1, 0.25, 0.5, 0.75, 1.0], plot_metrics='PnL')"
   ]
  },
  {
   "cell_type": "code",
   "execution_count": null,
   "metadata": {},
   "outputs": [],
   "source": [
    "option_plotter.plot(t=[datetime_obj_to_date_string(market_env.get_t()), \"01-06-2020\", \"01-07-2020\", \"01-08-2020\", \"01-10-2020\", \"01-12-2020\"])"
   ]
  },
  {
   "cell_type": "code",
   "execution_count": null,
   "metadata": {},
   "outputs": [],
   "source": [
    "Vanilla_Call.get_T()"
   ]
  },
  {
   "cell_type": "code",
   "execution_count": null,
   "metadata": {},
   "outputs": [],
   "source": [
    "market_env.get_t()"
   ]
  },
  {
   "cell_type": "code",
   "execution_count": null,
   "metadata": {},
   "outputs": [],
   "source": [
    "x = pd.date_range(start=market_env.get_t(), end=Vanilla_Call.get_T(), periods=3)"
   ]
  },
  {
   "cell_type": "code",
   "execution_count": null,
   "metadata": {},
   "outputs": [],
   "source": [
    "type(x)"
   ]
  },
  {
   "cell_type": "code",
   "execution_count": null,
   "metadata": {},
   "outputs": [],
   "source": [
    "isinstance(x, Iterable)"
   ]
  },
  {
   "cell_type": "code",
   "execution_count": null,
   "metadata": {},
   "outputs": [],
   "source": [
    "option_plotter.plot(tau=x)"
   ]
  },
  {
   "cell_type": "code",
   "execution_count": null,
   "metadata": {},
   "outputs": [],
   "source": []
  },
  {
   "cell_type": "code",
   "execution_count": null,
   "metadata": {},
   "outputs": [],
   "source": []
  },
  {
   "cell_type": "code",
   "execution_count": null,
   "metadata": {},
   "outputs": [],
   "source": []
  },
  {
   "cell_type": "code",
   "execution_count": null,
   "metadata": {},
   "outputs": [],
   "source": []
  },
  {
   "cell_type": "code",
   "execution_count": null,
   "metadata": {},
   "outputs": [],
   "source": []
  },
  {
   "cell_type": "code",
   "execution_count": null,
   "metadata": {
    "scrolled": true
   },
   "outputs": [],
   "source": [
    "market_env"
   ]
  },
  {
   "cell_type": "code",
   "execution_count": null,
   "metadata": {},
   "outputs": [],
   "source": [
    "market_env.get_t()"
   ]
  },
  {
   "cell_type": "code",
   "execution_count": null,
   "metadata": {},
   "outputs": [],
   "source": [
    "Vanilla_Call"
   ]
  },
  {
   "cell_type": "code",
   "execution_count": null,
   "metadata": {},
   "outputs": [],
   "source": [
    "option_plotter = OptionPlotter(Vanilla_Call)"
   ]
  },
  {
   "cell_type": "code",
   "execution_count": null,
   "metadata": {},
   "outputs": [],
   "source": [
    "option_plotter.plot()"
   ]
  },
  {
   "cell_type": "code",
   "execution_count": null,
   "metadata": {},
   "outputs": [],
   "source": [
    "option_plotter.plot(t=\"18-05-2020\")"
   ]
  },
  {
   "cell_type": "code",
   "execution_count": null,
   "metadata": {
    "scrolled": false
   },
   "outputs": [],
   "source": [
    "option_plotter.plot(tau=[0.05, 0.1, 0.25, 0.5, 0.75, 1.0])"
   ]
  },
  {
   "cell_type": "code",
   "execution_count": null,
   "metadata": {},
   "outputs": [],
   "source": [
    "option_plotter.plot(t=[datetime_obj_to_date_string(market_env.get_t()), \"01-06-2020\", \"01-07-2020\", \"01-08-2020\", \"01-10-2020\", \"01-12-2020\"])"
   ]
  },
  {
   "cell_type": "code",
   "execution_count": null,
   "metadata": {},
   "outputs": [],
   "source": [
    "option_plotter.plot(tau=[0.05, 0.1, 0.25, 0.5, 0.75, 1.0], plot_metrics='PnL')"
   ]
  },
  {
   "cell_type": "code",
   "execution_count": null,
   "metadata": {},
   "outputs": [],
   "source": [
    "option_plotter.plot(t=[datetime_obj_to_date_string(market_env.get_t()), \"01-06-2020\", \"01-07-2020\", \"01-08-2020\", \"01-10-2020\", \"01-12-2020\"])"
   ]
  },
  {
   "cell_type": "code",
   "execution_count": null,
   "metadata": {},
   "outputs": [],
   "source": [
    "Vanilla_Call.get_T()"
   ]
  },
  {
   "cell_type": "code",
   "execution_count": null,
   "metadata": {},
   "outputs": [],
   "source": [
    "market_env.get_t()"
   ]
  },
  {
   "cell_type": "code",
   "execution_count": null,
   "metadata": {},
   "outputs": [],
   "source": [
    "x = pd.date_range(start=market_env.get_t(), end=Vanilla_Call.get_T(), periods=3)\n",
    "x"
   ]
  },
  {
   "cell_type": "code",
   "execution_count": null,
   "metadata": {},
   "outputs": [],
   "source": [
    "type(x)"
   ]
  },
  {
   "cell_type": "code",
   "execution_count": null,
   "metadata": {},
   "outputs": [],
   "source": [
    "isinstance(x, Iterable)"
   ]
  },
  {
   "cell_type": "code",
   "execution_count": null,
   "metadata": {},
   "outputs": [],
   "source": [
    "option_plotter.plot(tau=x)"
   ]
  },
  {
   "cell_type": "code",
   "execution_count": null,
   "metadata": {},
   "outputs": [],
   "source": [
    "option_plotter.plot(tau=0.6)"
   ]
  },
  {
   "cell_type": "code",
   "execution_count": null,
   "metadata": {},
   "outputs": [],
   "source": [
    "# option_plotter.plot(t=\"a\")"
   ]
  },
  {
   "cell_type": "code",
   "execution_count": null,
   "metadata": {},
   "outputs": [],
   "source": [
    "time = [3]"
   ]
  },
  {
   "cell_type": "code",
   "execution_count": null,
   "metadata": {},
   "outputs": [],
   "source": [
    "time"
   ]
  },
  {
   "cell_type": "code",
   "execution_count": null,
   "metadata": {},
   "outputs": [],
   "source": [
    "time_parameter = np.array(sorted([\"01-07-2020\", \"03-06-2020\"], key=date_string_to_datetime_obj))"
   ]
  },
  {
   "cell_type": "code",
   "execution_count": null,
   "metadata": {},
   "outputs": [],
   "source": [
    "time_parameter"
   ]
  },
  {
   "cell_type": "code",
   "execution_count": null,
   "metadata": {},
   "outputs": [],
   "source": [
    "def f(x):\n",
    "    return x, x+1"
   ]
  },
  {
   "cell_type": "code",
   "execution_count": null,
   "metadata": {},
   "outputs": [],
   "source": [
    "y, _ = f(5)"
   ]
  },
  {
   "cell_type": "code",
   "execution_count": null,
   "metadata": {},
   "outputs": [],
   "source": [
    "y"
   ]
  },
  {
   "cell_type": "code",
   "execution_count": null,
   "metadata": {},
   "outputs": [],
   "source": []
  },
  {
   "cell_type": "code",
   "execution_count": null,
   "metadata": {},
   "outputs": [],
   "source": []
  }
 ],
 "metadata": {
  "kernelspec": {
   "display_name": "Python 3",
   "language": "python",
   "name": "python3"
  },
  "language_info": {
   "codemirror_mode": {
    "name": "ipython",
    "version": 3
   },
   "file_extension": ".py",
   "mimetype": "text/x-python",
   "name": "python",
   "nbconvert_exporter": "python",
   "pygments_lexer": "ipython3",
   "version": "3.7.4"
  }
 },
 "nbformat": 4,
 "nbformat_minor": 2
}
