{
 "cells": [
  {
   "cell_type": "markdown",
   "metadata": {},
   "source": [
    "# Derivatives Analytics - Objects Composition"
   ]
  },
  {
   "cell_type": "markdown",
   "metadata": {},
   "source": [
    "**Author**: [Gabriele Pompa](https://www.linkedin.com/in/gabrielepompa/): gabriele.pompa@unisi.com"
   ]
  },
  {
   "cell_type": "markdown",
   "metadata": {},
   "source": [
    "# Table of contents\n",
    "\n",
    "[Executive Summary](#executive-summary)\n",
    "\n",
    "**TODO**"
   ]
  },
  {
   "cell_type": "markdown",
   "metadata": {},
   "source": [
    "### **Resources**: \n",
    "\n",
    "- [_Python for Finance (2nd ed.)_](http://shop.oreilly.com/product/0636920117728.do): Chapter 6 Object-Oriented Programming.\n",
    "\n",
    "\n",
    "- [Object-Oriented Programming in Python](https://python-textbok.readthedocs.io/en/1.0/index.html): Section [Object-oriented programming](https://python-textbok.readthedocs.io/en/1.0/Object_Oriented_Programming.html)\n",
    "\n"
   ]
  },
  {
   "cell_type": "markdown",
   "metadata": {},
   "source": [
    "# Executive Summary <a name=\"executive-summary\"></a>"
   ]
  },
  {
   "cell_type": "markdown",
   "metadata": {},
   "source": [
    "**Make intro**"
   ]
  },
  {
   "cell_type": "markdown",
   "metadata": {},
   "source": [
    "The following sections are organized as follows:\n",
    "\n",
    "- **TODO**"
   ]
  },
  {
   "cell_type": "markdown",
   "metadata": {},
   "source": [
    "These are the basic imports"
   ]
  },
  {
   "cell_type": "code",
   "execution_count": 1,
   "metadata": {},
   "outputs": [],
   "source": [
    "# for NumPy arrays\n",
    "import numpy as np\n",
    "\n",
    "# for Pandas Series and DataFrame\n",
    "import pandas as pd\n",
    "\n",
    "# for statistical functions\n",
    "from scipy import stats\n",
    "\n",
    "# for Matplotlib plotting\n",
    "import matplotlib.pyplot as plt\n",
    "\n",
    "# to do inline plots in the Notebook\n",
    "%matplotlib inline\n",
    "\n",
    "# for Operating System operations\n",
    "import os\n",
    "\n",
    "# for some mathematical functions\n",
    "import math\n",
    "\n",
    "# for date management\n",
    "import datetime as dt"
   ]
  },
  {
   "cell_type": "markdown",
   "metadata": {},
   "source": [
    "# 1. Optional parameters: `*args` and `**kwargs` <a name=\"args_kwargs\"></a>"
   ]
  },
  {
   "cell_type": "markdown",
   "metadata": {},
   "source": [
    "Python implements a simple way to specify _optional_ parameters in a function:\n",
    "\n",
    "- With `*` operator before parameter name - like `*args` - you can indicate a variable-length Tuple of positional parameters. Possibly no one.\n",
    "\n",
    "- With `**` operator before parameter name - like `**kwargs` - you can indicate a variable-length Dict of keyword parameters. Possibly no one.\n",
    "\n",
    "Example:"
   ]
  },
  {
   "cell_type": "code",
   "execution_count": 2,
   "metadata": {},
   "outputs": [],
   "source": [
    "a_0, b_0, c_0 = (1, 2, 3) # standard way to un-pack a Tuple"
   ]
  },
  {
   "cell_type": "code",
   "execution_count": 3,
   "metadata": {},
   "outputs": [],
   "source": [
    "def print_args(*args):\n",
    "    for arg in args:\n",
    "        print(arg)"
   ]
  },
  {
   "cell_type": "code",
   "execution_count": 4,
   "metadata": {},
   "outputs": [
    {
     "name": "stdout",
     "output_type": "stream",
     "text": [
      "1\n",
      "2\n",
      "3\n"
     ]
    }
   ],
   "source": [
    "print_args(a_0, b_0, c_0)"
   ]
  },
  {
   "cell_type": "code",
   "execution_count": 5,
   "metadata": {},
   "outputs": [
    {
     "name": "stdout",
     "output_type": "stream",
     "text": [
      "1\n",
      "2\n"
     ]
    }
   ],
   "source": [
    "print_args(a_0, b_0)"
   ]
  },
  {
   "cell_type": "code",
   "execution_count": 6,
   "metadata": {},
   "outputs": [
    {
     "name": "stdout",
     "output_type": "stream",
     "text": [
      "1\n"
     ]
    }
   ],
   "source": [
    "print_args(a_0)"
   ]
  },
  {
   "cell_type": "code",
   "execution_count": 7,
   "metadata": {},
   "outputs": [],
   "source": [
    "print_args() # does nothing"
   ]
  },
  {
   "cell_type": "code",
   "execution_count": 8,
   "metadata": {},
   "outputs": [],
   "source": [
    "def print_kwargs(**kwargs):\n",
    "    for k, v in kwargs.items():\n",
    "        print(\"%s: %s\" % (k, v))"
   ]
  },
  {
   "cell_type": "code",
   "execution_count": 9,
   "metadata": {},
   "outputs": [
    {
     "name": "stdout",
     "output_type": "stream",
     "text": [
      "a: 1\n",
      "b: 2\n",
      "c: 3\n"
     ]
    }
   ],
   "source": [
    "print_kwargs(a=a_0, b=b_0, c=c_0)"
   ]
  },
  {
   "cell_type": "code",
   "execution_count": 10,
   "metadata": {},
   "outputs": [
    {
     "name": "stdout",
     "output_type": "stream",
     "text": [
      "a: 1\n",
      "b: 2\n"
     ]
    }
   ],
   "source": [
    "print_kwargs(a=a_0, b=b_0)"
   ]
  },
  {
   "cell_type": "code",
   "execution_count": 11,
   "metadata": {},
   "outputs": [
    {
     "name": "stdout",
     "output_type": "stream",
     "text": [
      "a: 1\n"
     ]
    }
   ],
   "source": [
    "print_kwargs(a=a_0)"
   ]
  },
  {
   "cell_type": "code",
   "execution_count": 12,
   "metadata": {},
   "outputs": [],
   "source": [
    "print_kwargs() # does nothing"
   ]
  },
  {
   "cell_type": "markdown",
   "metadata": {},
   "source": [
    "The naming `*args` and `**kwargs` in function definition is a convention: `*pippo` and `**pluto` is valid but discouraged. "
   ]
  },
  {
   "cell_type": "markdown",
   "metadata": {},
   "source": [
    "You can build a completely generic function that accepts optional parameters as positional and keyword parameters as well"
   ]
  },
  {
   "cell_type": "code",
   "execution_count": 13,
   "metadata": {},
   "outputs": [],
   "source": [
    "def print_all(*args, **kwargs):\n",
    "    for arg in args:\n",
    "        print(arg)\n",
    "\n",
    "    for k, v in kwargs.items():\n",
    "        print(\"%s: %s\" % (k, v))"
   ]
  },
  {
   "cell_type": "code",
   "execution_count": 14,
   "metadata": {},
   "outputs": [
    {
     "name": "stdout",
     "output_type": "stream",
     "text": [
      "1\n",
      "2\n",
      "3\n",
      "a: 1\n",
      "b: 2\n",
      "c: 3\n"
     ]
    }
   ],
   "source": [
    "print_all(a_0, b_0, c_0, a=a_0, b=b_0, c=c_0)"
   ]
  },
  {
   "cell_type": "code",
   "execution_count": 15,
   "metadata": {},
   "outputs": [
    {
     "name": "stdout",
     "output_type": "stream",
     "text": [
      "3\n",
      "a: 1\n",
      "b: 2\n"
     ]
    }
   ],
   "source": [
    "print_all(c_0, a=a_0, b=b_0)"
   ]
  },
  {
   "cell_type": "code",
   "execution_count": 16,
   "metadata": {},
   "outputs": [],
   "source": [
    "print_all() # does nothing"
   ]
  },
  {
   "cell_type": "markdown",
   "metadata": {},
   "source": [
    "In the following sections we review some common use cases."
   ]
  },
  {
   "cell_type": "markdown",
   "metadata": {},
   "source": [
    "## 1.1. Input flexibility <a name=\"input_flexibility\"></a>"
   ]
  },
  {
   "cell_type": "markdown",
   "metadata": {},
   "source": [
    "Optional parameter `*args` and `**kwargs` allow input flexibility. Input parameters can be either \n",
    "- a list of individual positional parameters, \n",
    "- or a list of individual keyword parameters, \n",
    "- or complete/incomplete mixtures of the two kinds"
   ]
  },
  {
   "cell_type": "code",
   "execution_count": 17,
   "metadata": {},
   "outputs": [],
   "source": [
    "def f(*args, **kwargs):\n",
    "    # parsing of input parameters\n",
    "    a = args[0] if len(args) > 0 else kwargs['a'] if 'a' in kwargs else \"a_default\"\n",
    "    b = args[1] if len(args) > 1 else kwargs['b'] if 'b' in kwargs else \"b_default\"\n",
    "    c = args[2] if len(args) > 2 else kwargs['c'] if 'c' in kwargs else \"c_default\"\n",
    "    print(\"a={}, b={}, c={}\".format(a, b, c))"
   ]
  },
  {
   "cell_type": "code",
   "execution_count": 18,
   "metadata": {},
   "outputs": [],
   "source": [
    "a_0, b_0, c_0 = (1, 2, 3) # standard way to un-pack a Tuple"
   ]
  },
  {
   "cell_type": "code",
   "execution_count": 19,
   "metadata": {},
   "outputs": [
    {
     "name": "stdout",
     "output_type": "stream",
     "text": [
      "a=1, b=2, c=3\n"
     ]
    }
   ],
   "source": [
    "f(a_0, b_0, c_0) # order does matter: a <-- a_0, ..., c <--- c_0"
   ]
  },
  {
   "cell_type": "code",
   "execution_count": 20,
   "metadata": {},
   "outputs": [
    {
     "name": "stdout",
     "output_type": "stream",
     "text": [
      "a=1, b=2, c=3\n"
     ]
    }
   ],
   "source": [
    "f(c=c_0, a=a_0, b=b_0) # order doesn't matter"
   ]
  },
  {
   "cell_type": "code",
   "execution_count": 21,
   "metadata": {},
   "outputs": [
    {
     "name": "stdout",
     "output_type": "stream",
     "text": [
      "a=1, b=2, c=c_default\n"
     ]
    }
   ],
   "source": [
    "f(a_0, b_0) # c not specified"
   ]
  },
  {
   "cell_type": "code",
   "execution_count": 22,
   "metadata": {},
   "outputs": [
    {
     "name": "stdout",
     "output_type": "stream",
     "text": [
      "a=1, b=b_default, c=c_default\n"
     ]
    }
   ],
   "source": [
    "f(a_0) # b and c not specified"
   ]
  },
  {
   "cell_type": "code",
   "execution_count": 23,
   "metadata": {},
   "outputs": [
    {
     "name": "stdout",
     "output_type": "stream",
     "text": [
      "a=a_default, b=b_default, c=c_default\n"
     ]
    }
   ],
   "source": [
    "f() # no parameters at all"
   ]
  },
  {
   "cell_type": "code",
   "execution_count": 24,
   "metadata": {},
   "outputs": [
    {
     "name": "stdout",
     "output_type": "stream",
     "text": [
      "a=1, b=2, c=3\n"
     ]
    }
   ],
   "source": [
    "f(a_0, b_0, c=c_0) # mixture of list and keyword parameters"
   ]
  },
  {
   "cell_type": "code",
   "execution_count": 25,
   "metadata": {},
   "outputs": [
    {
     "name": "stdout",
     "output_type": "stream",
     "text": [
      "a=1, b=2, c=c_default\n"
     ]
    }
   ],
   "source": [
    "f(a_0, b=b_0) # incomplete mixture of individual and keyword parameters"
   ]
  },
  {
   "cell_type": "markdown",
   "metadata": {},
   "source": [
    "## 1.2. Required-Optional parameters mixing <a name=\"mix_param\"></a>"
   ]
  },
  {
   "cell_type": "markdown",
   "metadata": {},
   "source": [
    "Mixing ordinary (required positional and default) and optional parameters is possible. \n",
    " \n",
    "In function definition, you should follow the (conventional) order:\n",
    " 1. ordinary required positional parameters\n",
    " 2. ordinary default parameters\n",
    " 3. optional `*args`\n",
    " 4. optional `**kwargs`\n",
    " \n",
    "And, when calling the function, the rule is that all positional arguments (both ordinary positional and optional positional `*args` arguments, if any) must come before all keyword arguments (both ordinary default arguments and optional `**kwargs` arguments, if any)."
   ]
  },
  {
   "cell_type": "code",
   "execution_count": 26,
   "metadata": {},
   "outputs": [],
   "source": [
    "def f(a, b=\"b_default\", *args, **kwargs):\n",
    "    \"\"\"\n",
    "    Parameters:\n",
    "        a: ordinary positional\n",
    "        b: ordinary default\n",
    "        *args: optional positional\n",
    "        **kwargs: optional keyword\n",
    "    \"\"\"\n",
    "    \n",
    "    print(\"a={}, b={}\".format(a, b))\n",
    "    \n",
    "    for arg in args:\n",
    "        print(arg)\n",
    "\n",
    "    for k, v in kwargs.items():\n",
    "        print(\"{}: {}\".format(k, v))"
   ]
  },
  {
   "cell_type": "markdown",
   "metadata": {},
   "source": [
    "In this case, parameter `b` is explicitly set as the second positional argument or a keybord argument"
   ]
  },
  {
   "cell_type": "code",
   "execution_count": 27,
   "metadata": {},
   "outputs": [],
   "source": [
    "a_0, b_0, c_0 = (1, 2, 3) # standard way to un-pack a Tuple"
   ]
  },
  {
   "cell_type": "code",
   "execution_count": 28,
   "metadata": {},
   "outputs": [
    {
     "name": "stdout",
     "output_type": "stream",
     "text": [
      "a=1, b=2\n"
     ]
    }
   ],
   "source": [
    "f(a_0, b_0) # no additional *args or **kwargs parameter"
   ]
  },
  {
   "cell_type": "code",
   "execution_count": 29,
   "metadata": {},
   "outputs": [
    {
     "name": "stdout",
     "output_type": "stream",
     "text": [
      "a=1, b=b_default\n"
     ]
    }
   ],
   "source": [
    "f(a_0) # b is default"
   ]
  },
  {
   "cell_type": "code",
   "execution_count": 30,
   "metadata": {},
   "outputs": [
    {
     "name": "stdout",
     "output_type": "stream",
     "text": [
      "a=1, b=2\n",
      "3\n"
     ]
    }
   ],
   "source": [
    "f(a_0, b_0, c_0) # with optional positional argument"
   ]
  },
  {
   "cell_type": "code",
   "execution_count": 31,
   "metadata": {},
   "outputs": [
    {
     "name": "stdout",
     "output_type": "stream",
     "text": [
      "a=1, b=2\n",
      "c: 3\n"
     ]
    }
   ],
   "source": [
    "f(a_0, b_0, c=c_0) # with optional keyword argument "
   ]
  },
  {
   "cell_type": "markdown",
   "metadata": {},
   "source": [
    "but `a` and `b` at least are required"
   ]
  },
  {
   "cell_type": "code",
   "execution_count": 32,
   "metadata": {},
   "outputs": [],
   "source": [
    "# Raises: TypeError: f() missing 1 required positional argument: 'a'\n",
    "#\n",
    "# f() # no parameters at all"
   ]
  },
  {
   "cell_type": "markdown",
   "metadata": {},
   "source": [
    "and positional arguments (neither required, nor optional) must come before keyword arguments"
   ]
  },
  {
   "cell_type": "code",
   "execution_count": 33,
   "metadata": {},
   "outputs": [],
   "source": [
    "# Raises: SyntaxError: positional argument follows keyword argument\n",
    "# \n",
    "# f(a=a_0, b_0) # 'b' as positional argument after 'a' as keyword argument "
   ]
  },
  {
   "cell_type": "code",
   "execution_count": 34,
   "metadata": {},
   "outputs": [],
   "source": [
    "# Raises: SyntaxError: positional argument follows keyword argument\n",
    "#\n",
    "# f(a_0, b=b_0, c_0) # optional positional argument after 'b' as keyword argument "
   ]
  },
  {
   "cell_type": "markdown",
   "metadata": {},
   "source": [
    "## 1.3. _Agnostic_ arguments flow <a name=\"agnostic_flow\"></a>"
   ]
  },
  {
   "cell_type": "markdown",
   "metadata": {},
   "source": [
    "_Agnostic_ arguments flow is possible when calling a `nested_func` from an `interface_func`: the outer function does need to access its specific parameters but doesn't need to know the details about the nested function parameters"
   ]
  },
  {
   "cell_type": "code",
   "execution_count": 35,
   "metadata": {},
   "outputs": [],
   "source": [
    "def nested_func(a, b, c):\n",
    "    print(\"In nested_func: a={}, b={}, c={}\".format(a, b, c))\n",
    "        \n",
    "def interface_func(d, e, f, *args, **kwargs):\n",
    "    # calling nested_func\n",
    "    nested_func(*args, **kwargs)\n",
    "    print(\"In interface_func: d={}, e={}, f={}\".format(d, e, f))"
   ]
  },
  {
   "cell_type": "code",
   "execution_count": 36,
   "metadata": {},
   "outputs": [],
   "source": [
    "a_0, b_0, c_0, d_0, e_0, f_0 = (1, 2, 3, 4, 5, 6)"
   ]
  },
  {
   "cell_type": "code",
   "execution_count": 37,
   "metadata": {},
   "outputs": [
    {
     "name": "stdout",
     "output_type": "stream",
     "text": [
      "In nested_func: a=1, b=2, c=3\n",
      "In interface_func: d=4, e=5, f=6\n"
     ]
    }
   ],
   "source": [
    "interface_func(d_0, e_0, f_0, a_0, b_0, c_0) # order does matter: d <-- d_0, ..., c <--- c_0"
   ]
  },
  {
   "cell_type": "code",
   "execution_count": 38,
   "metadata": {},
   "outputs": [
    {
     "name": "stdout",
     "output_type": "stream",
     "text": [
      "In nested_func: a=1, b=2, c=3\n",
      "In interface_func: d=4, e=5, f=6\n"
     ]
    }
   ],
   "source": [
    "interface_func(d=d_0, b=b_0, a=a_0, e=e_0, f=f_0, c=c_0) # order doesn't matter"
   ]
  },
  {
   "cell_type": "markdown",
   "metadata": {},
   "source": [
    "_Agnostic_ arguments flow smoothly generalizes to classes. When calling a `BaseClass` initializer instantiating a `DerivedClass` object, the sub-class does need to access its specific parameters but doesn't need to know the details about the parent's class parameters"
   ]
  },
  {
   "cell_type": "code",
   "execution_count": 39,
   "metadata": {},
   "outputs": [],
   "source": [
    "class BaseClass:\n",
    "    def __init__(self, a, b, c):\n",
    "        print(\"In BaseClass: a={}, b={}, c={}\".format(a, b, c))\n",
    "        \n",
    "class DerivedClass(BaseClass):\n",
    "    def __init__(self, d, e, f, *args, **kwargs):    \n",
    "        # calling the BaseClass initializer\n",
    "        super(DerivedClass, self).__init__(*args, **kwargs)\n",
    "        print(\"In DerivedClass: d={}, e={}, f={}\".format(d, e, f))"
   ]
  },
  {
   "cell_type": "code",
   "execution_count": 40,
   "metadata": {},
   "outputs": [],
   "source": [
    "a_0, b_0, c_0, d_0, e_0, f_0 = (1, 2, 3, 4, 5, 6)"
   ]
  },
  {
   "cell_type": "code",
   "execution_count": 41,
   "metadata": {},
   "outputs": [
    {
     "name": "stdout",
     "output_type": "stream",
     "text": [
      "In BaseClass: a=1, b=2, c=3\n",
      "In DerivedClass: d=4, e=5, f=6\n"
     ]
    }
   ],
   "source": [
    "obj = DerivedClass(d_0, e_0, f_0, a_0, b_0, c_0) # order does matter: d <-- d_0, ..., c <--- c_0"
   ]
  },
  {
   "cell_type": "code",
   "execution_count": 42,
   "metadata": {},
   "outputs": [
    {
     "name": "stdout",
     "output_type": "stream",
     "text": [
      "In BaseClass: a=1, b=2, c=3\n",
      "In DerivedClass: d=4, e=5, f=6\n"
     ]
    }
   ],
   "source": [
    "obj = DerivedClass(d=d_0, b=b_0, a=a_0, e=e_0, f=f_0, c=c_0) # order doesn't matter"
   ]
  },
  {
   "cell_type": "markdown",
   "metadata": {},
   "source": [
    "**A word of warning:** the convention to put `*args` and `**kwargs` at the end of function definition has an exception. Consider the following example that we state directly using classes (but is valid in the case of functions too). \n",
    "\n",
    "Suppose that the `DerivedClass` has an ordinary default parameter `f=\"f_default\"` and its `BaseClass`, that is instantiated by the `DerivedClass` initializer, has a ordinary positional arguments.\n",
    "\n",
    "As before, you would be tempted to define this situation as follows:"
   ]
  },
  {
   "cell_type": "code",
   "execution_count": 43,
   "metadata": {},
   "outputs": [],
   "source": [
    "class BaseClass:\n",
    "    def __init__(self, a, b, c):\n",
    "        print(\"In BaseClass: a={}, b={}, c={}\".format(a, b, c))\n",
    "        \n",
    "class DerivedClass(BaseClass):\n",
    "    def __init__(self, d, e, f=\"f_default\", *args, **kwargs):    \n",
    "        # calling the BaseClass initializer\n",
    "        super(DerivedClass, self).__init__(*args, **kwargs)\n",
    "        print(\"In DerivedClass: d={}, e={}, f={}\".format(d, e, f))"
   ]
  },
  {
   "cell_type": "code",
   "execution_count": 44,
   "metadata": {},
   "outputs": [],
   "source": [
    "a_0, b_0, c_0, d_0, e_0, f_0 = (1, 2, 3, 4, 5, 6)"
   ]
  },
  {
   "cell_type": "markdown",
   "metadata": {},
   "source": [
    "As long as you want to set `f` to a specific value, it works"
   ]
  },
  {
   "cell_type": "code",
   "execution_count": 45,
   "metadata": {},
   "outputs": [
    {
     "name": "stdout",
     "output_type": "stream",
     "text": [
      "In BaseClass: a=1, b=2, c=3\n",
      "In DerivedClass: d=4, e=5, f=6\n"
     ]
    }
   ],
   "source": [
    "obj = DerivedClass(d_0, e_0, f_0, a_0, b_0, c_0) # 'f' is the third positional argument, followed by other positional arguments"
   ]
  },
  {
   "cell_type": "code",
   "execution_count": 46,
   "metadata": {},
   "outputs": [
    {
     "name": "stdout",
     "output_type": "stream",
     "text": [
      "In BaseClass: a=1, b=2, c=3\n",
      "In DerivedClass: d=4, e=5, f=6\n"
     ]
    }
   ],
   "source": [
    "obj = DerivedClass(d_0, e_0, f=f_0, a=a_0, b=b_0, c=c_0) # 'f' is a keyword argument, followed by other keyword arguments"
   ]
  },
  {
   "cell_type": "markdown",
   "metadata": {},
   "source": [
    "But how can you leave `f` set to its default value `\"f_default\"`? You would be tempted to omit `f` from function call. But if you do this:\n",
    "\n",
    "```python\n",
    "obj = DerivedClass(d_0, e_0, a_0, b_0, c_0) # 'f' is omitted, followed by other positional arguments\n",
    "```\n",
    "\n",
    "This would raise:\n",
    "\n",
    "```python\n",
    "TypeError: __init__() missing 1 required positional argument: 'c'\n",
    "```\n",
    "\n",
    "Why? \n",
    "\n",
    "So, `d_0` and `e_0` values are assigned to `DerivedClass`'s parameters `d` and `e`, respectively. That's what we expected.\n",
    "\n",
    "Nevertheless, `a_0` value is not assigned - as we intended - to parameter `BaseClass`' parameter `a`, but in fact it gets assigned to `DerivedClass`' parameter `f` itself (which is then not left to its default value `\"f_default\"`)\n",
    "\n",
    "Indeed, we instantiate `DerivedClass` with `a_0` value as third positional argument. But the third positional argument of `DerivedClass` initializer is a place-holder for the value to be assigned to parameter `f`. \n",
    "\n",
    "Consequently, `b_0` is assigned to `a` (in `BaseClass`) and `c_0` is assigned to `b` (in `BaseClass`). \n",
    "\n",
    "Therefore, the Python interpreter thinks we forgot to input a value for the required `BaseClass`'s parameter `c` and raises the error."
   ]
  },
  {
   "cell_type": "markdown",
   "metadata": {},
   "source": [
    "What you could do is to specify the `BaseClass`' parameters as keyword parameters (using `**kwargs`)"
   ]
  },
  {
   "cell_type": "code",
   "execution_count": 47,
   "metadata": {},
   "outputs": [
    {
     "name": "stdout",
     "output_type": "stream",
     "text": [
      "In BaseClass: a=1, b=2, c=3\n",
      "In DerivedClass: d=4, e=5, f=f_default\n"
     ]
    }
   ],
   "source": [
    "obj = DerivedClass(d_0, e_0, a=a_0, b=b_0, c=c_0) # 'f' is omitted, followed by other keyword arguments"
   ]
  },
  {
   "cell_type": "markdown",
   "metadata": {},
   "source": [
    "but there is no way to leave `f` to default and passing `a_0, b_0, c_0` arguments as positional parameters to be assigned (using `*args`) to `BaseClass`' `a, b, c` parameters. This might seem a bit ugly. And it is."
   ]
  },
  {
   "cell_type": "markdown",
   "metadata": {},
   "source": [
    "The solution is inverting the position of `f` in `DerivedClass`' initializer definition with the positional parameters `*args` to be passed `BaseClass`. As follows:"
   ]
  },
  {
   "cell_type": "code",
   "execution_count": 48,
   "metadata": {},
   "outputs": [],
   "source": [
    "class BaseClass:\n",
    "    def __init__(self, a, b, c):\n",
    "        print(\"In BaseClass: a={}, b={}, c={}\".format(a, b, c))\n",
    "        \n",
    "class DerivedClass(BaseClass):\n",
    "    def __init__(self, d, e, *args, f=\"f_default\", **kwargs):    \n",
    "        # calling the BaseClass initializer\n",
    "        super(DerivedClass, self).__init__(*args, **kwargs)\n",
    "        print(\"In DerivedClass: d={}, e={}, f={}\".format(d, e, f))"
   ]
  },
  {
   "cell_type": "markdown",
   "metadata": {},
   "source": [
    "There we go:"
   ]
  },
  {
   "cell_type": "code",
   "execution_count": 49,
   "metadata": {},
   "outputs": [
    {
     "name": "stdout",
     "output_type": "stream",
     "text": [
      "In BaseClass: a=1, b=2, c=3\n",
      "In DerivedClass: d=4, e=5, f=f_default\n"
     ]
    }
   ],
   "source": [
    "obj = DerivedClass(d_0, e_0, a_0, b_0, c_0) # 'f' is omitted, followed by other positional arguments"
   ]
  },
  {
   "cell_type": "code",
   "execution_count": 50,
   "metadata": {},
   "outputs": [
    {
     "name": "stdout",
     "output_type": "stream",
     "text": [
      "In BaseClass: a=1, b=2, c=3\n",
      "In DerivedClass: d=4, e=5, f=f_default\n"
     ]
    }
   ],
   "source": [
    "obj = DerivedClass(d_0, e_0, a=a_0, b=b_0, c=c_0) # 'f' is omitted, followed by other keyword arguments"
   ]
  },
  {
   "cell_type": "markdown",
   "metadata": {},
   "source": [
    "We'll see an example of this amendement to the convention of having `*args` and `**kwargs` to the end of a function definition when deriving the `DigitalOption` class - having a default `cash_amount=1` parameter - as a sub-class of the `EuropeanOption` base class. "
   ]
  },
  {
   "cell_type": "markdown",
   "metadata": {},
   "source": [
    "# Polymorphism application: a `Plotter()` class"
   ]
  },
  {
   "cell_type": "markdown",
   "metadata": {},
   "source": [
    "First let's define a common MarketEnvironment class which shall contain the information on market environment and underlying level. This class will be used to instantiate the EuropeanOption class"
   ]
  },
  {
   "cell_type": "code",
   "execution_count": 51,
   "metadata": {},
   "outputs": [],
   "source": [
    "def date_string_to_datetime_obj(date_string):\n",
    "    return dt.datetime.strptime(date_string, \"%d-%m-%Y\") if isinstance(date_string, str) else date_string"
   ]
  },
  {
   "cell_type": "code",
   "execution_count": 52,
   "metadata": {},
   "outputs": [],
   "source": [
    "def datetime_obj_to_date_string(date):\n",
    "    return date.strftime(\"%d-%m-%Y\") if isinstance(date, dt.datetime) else date"
   ]
  },
  {
   "cell_type": "code",
   "execution_count": 53,
   "metadata": {},
   "outputs": [],
   "source": [
    "class MarketEnvironment:\n",
    "    \"\"\"\n",
    "    MarketEnvironment class: setting the market environment: date, underlying level, volatility level and short-rate.\n",
    "    \n",
    "    Attributes:\n",
    "    -----------\n",
    "        t (str; dt.datetime):     valuation date. Can be either a \"dd-mm-YYYY\" String or a pd.datetime() object\n",
    "        r (float):                continuously compounded short-rate;\n",
    "        S_t (float):              spot price of the underlying asset at the valuation date 't';\n",
    "        sigma (float):            volatility of underlying asset;\n",
    "    \n",
    "    Public Methods:\n",
    "    --------   \n",
    "    \n",
    "        getters and setters for all attributes\n",
    "        \n",
    "    Usage: \n",
    "    --------   \n",
    "        - default: MarketEnvironment() is equivalent to \n",
    "                   MarketEnvironment(t=\"19-04-2020\", r=0.05, S_t=90.0, sigma=0.2)\n",
    "\n",
    "        - general: MarketEnvironment(t=\"DD-MM-YYYY\" String, r=Float, S_t=Float, sigma=Float)\n",
    "    \"\"\"\n",
    "    \n",
    "    def __init__(self, t=\"19-04-2020\", r=0.05, S_t=90.0, sigma=0.2):\n",
    "        \n",
    "        print(\"Initializing the MarketEnvironment!\")\n",
    "        \n",
    "        self.__t     = date_string_to_datetime_obj(t)\n",
    "        self.__r     = r\n",
    "        self.__S     = S_t\n",
    "        self.__sigma = sigma\n",
    "        \n",
    "    def __repr__(self):\n",
    "        return r\"MarketEnvironment(t={}, r={:.1f}%, S_t={:.1f}, sigma={:.1f}%)\".\\\n",
    "               format(self.get_t().strftime(\"%d-%m-%Y\"), self.get_r()*100, self.get_S(), self.get_sigma()*100)\n",
    "\n",
    "    # getters\n",
    "    def get_t(self):\n",
    "        return self.__t\n",
    "\n",
    "    def get_r(self):\n",
    "        return self.__r\n",
    "\n",
    "    def get_S(self):\n",
    "        return self.__S\n",
    "    \n",
    "    def get_sigma(self):\n",
    "        return self.__sigma\n",
    "    \n",
    "    # setters \n",
    "    def set_t(self, t):\n",
    "        self.__t = date_string_to_datetime_obj(t)\n",
    "\n",
    "    def set_r(self, r):\n",
    "        self.__r = r\n",
    "\n",
    "    def set_S(self, S):\n",
    "        self.__S = S\n",
    "        \n",
    "    def set_sigma(self, sigma):\n",
    "        self.__sigma = sigma"
   ]
  },
  {
   "cell_type": "code",
   "execution_count": 54,
   "metadata": {},
   "outputs": [
    {
     "name": "stdout",
     "output_type": "stream",
     "text": [
      "Initializing the MarketEnvironment!\n"
     ]
    },
    {
     "data": {
      "text/plain": [
       "MarketEnvironment(t=01-06-2020, r=-0.2%, S_t=10.0, sigma=40.0%)"
      ]
     },
     "execution_count": 54,
     "metadata": {},
     "output_type": "execute_result"
    }
   ],
   "source": [
    "market_env = MarketEnvironment(t=\"01-06-2020\", r=-0.002, S_t=10.0, sigma=0.4)\n",
    "market_env"
   ]
  },
  {
   "cell_type": "code",
   "execution_count": 55,
   "metadata": {},
   "outputs": [
    {
     "name": "stdout",
     "output_type": "stream",
     "text": [
      "Initializing the MarketEnvironment!\n"
     ]
    },
    {
     "data": {
      "text/plain": [
       "MarketEnvironment(t=19-04-2020, r=5.0%, S_t=90.0, sigma=20.0%)"
      ]
     },
     "execution_count": 55,
     "metadata": {},
     "output_type": "execute_result"
    }
   ],
   "source": [
    "market_env = MarketEnvironment()\n",
    "market_env"
   ]
  },
  {
   "cell_type": "code",
   "execution_count": 56,
   "metadata": {},
   "outputs": [],
   "source": [
    "class EuropeanOption:\n",
    "    \"\"\"\n",
    "    EuropeanOption abstract class: an interface setting the template for any option with european-style exercise.\n",
    "    This class is not meant to be instantiated.\n",
    "    \n",
    "    Attributes:\n",
    "    -----------\n",
    "        type (str):               type of the option. Can be either 'call' or 'put';\n",
    "        S_t (float):              'S' attribute of mkt_env.\n",
    "        K (float):                strike price;\n",
    "        t (str; dt.datetime):     't' attribute of mkt_env.\n",
    "        T (str; dt.datetime):     expiration date. Can be either a \"dd-mm-YYYY\" String or a pd.datetime() object\n",
    "        tau (float):              time to maturity in years, computed as tau=T-t by time_to_maturity() method\n",
    "        r (float):                'r' attribute of mkt_env.\n",
    "        sigma (float):            'sigma' attribute of mkt_env.\n",
    "    \n",
    "    Template Methods:\n",
    "    --------   \n",
    "    \n",
    "        getters for all common attributes\n",
    "        \n",
    "        setters for common attributes, not belonging to mkt_env\n",
    "        \n",
    "        payoff: float\n",
    "            Template method for payoff. Raises NotImplementedError if called.\n",
    "\n",
    "        price_upper_limit: float \n",
    "            Template method for upper limit. Raises NotImplementedError if called.\n",
    "\n",
    "        price_lower_limit: float \n",
    "            Template method for lower limit. Raises NotImplementedError if called.\n",
    "            \n",
    "        price: float\n",
    "            Template method for price. Raises NotImplementedError if called.\n",
    "\n",
    "    \"\"\"\n",
    "\n",
    "    def __init__(self, mkt_env, option_type='call', K=100.0, T=\"31-12-2020\"):\n",
    "        \n",
    "        print(\"Initializing the EuropeanOption!\")\n",
    "\n",
    "        # option type check\n",
    "        if option_type not in ['call', 'put']:\n",
    "            raise NotImplementedError(\"Option Type: '{}' does not exist!\".format(option_type))\n",
    "        \n",
    "        self.__type  = option_type\n",
    "        self.__S     = mkt_env.get_S()\n",
    "        self.__K     = K\n",
    "        self.__t     = mkt_env.get_t()\n",
    "        self.__T     = date_string_to_datetime_obj(T)\n",
    "        self.__tau   = self.time_to_maturity()\n",
    "        self.__r     = mkt_env.get_r()\n",
    "        self.__sigma = mkt_env.get_sigma()\n",
    "               \n",
    "        # empty informations dictionary\n",
    "        self.__docstring_dict = {}        \n",
    "        \n",
    "    # string representation method template\n",
    "    def __repr__(self):\n",
    "        raise NotImplementedError()\n",
    "    \n",
    "    # getters\n",
    "    def get_type(self):\n",
    "        return self.__type\n",
    "\n",
    "    def get_S(self):\n",
    "        return self.__S\n",
    "    \n",
    "    def get_sigma(self):\n",
    "        return self.__sigma\n",
    "    \n",
    "    def get_K(self):\n",
    "        return self.__K\n",
    "    \n",
    "    def get_t(self):\n",
    "        return self.__t\n",
    "\n",
    "    def get_T(self):\n",
    "        return self.__T\n",
    "\n",
    "    def get_tau(self):\n",
    "        return self.__tau\n",
    "\n",
    "    def get_r(self):\n",
    "        return self.__r\n",
    "    \n",
    "    def get_sigma(self):\n",
    "        return self.__sigma\n",
    "    \n",
    "    # doctring getter template\n",
    "    def get_docstring(self, label):\n",
    "        raise NotImplementedError()\n",
    "\n",
    "    # setters\n",
    "    def set_type(self, option_type):\n",
    "        self.__type = option_type\n",
    "        \n",
    "        # option type check\n",
    "        if option_type not in ['call', 'put']:\n",
    "            raise NotImplementedError(\"Option Type: '{}' does not exist!\".format(option_type))\n",
    "            \n",
    "    def set_K(self, K):\n",
    "        self.__K = K\n",
    "    \n",
    "    def set_T(self, T):\n",
    "        self.__T = date_string_to_datetime_obj(T)\n",
    "        # update time to maturity, given changed T, to keep internal consistency\n",
    "        self.__update_tau() \n",
    "    \n",
    "    def set_tau(self, tau):\n",
    "        self.__tau = tau\n",
    "        # update expiration date, given changed tau, to keep internal consistency\n",
    "        self.__update_T()\n",
    "        \n",
    "    # update methods (private)\n",
    "    def __update_tau(self):\n",
    "        self.__tau = self.time_to_maturity()\n",
    "\n",
    "    def __update_T(self):\n",
    "        self.__T = self.__t + dt.timedelta(days=math.ceil(self.__tau*365))\n",
    "    \n",
    "    # utility methods\n",
    "    def time_to_maturity(self, *args, **kwargs):\n",
    "        \"\"\"\n",
    "        Utility method to compute time-to-maturity\n",
    "        \"\"\"\n",
    "        \n",
    "        # parsing optional parameters\n",
    "        t = args[0] if len(args) > 0 else kwargs['t'] if 't' in kwargs else self.get_t()\n",
    "        T = args[1] if len(args) > 1 else kwargs['T'] if 'T' in kwargs else self.get_T()\n",
    "        \n",
    "        # convert to dt.datetime objects, if needed\n",
    "        t = date_string_to_datetime_obj(t)\n",
    "        T = date_string_to_datetime_obj(T)\n",
    "        \n",
    "        # compute and return time to maturity (in years)\n",
    "        return (T-t).days / 365.0\n",
    "    \n",
    "    def parse_S_tau_parameters(self, *args, **kwargs):\n",
    "        \"\"\"\n",
    "        Utility method to parse underlying and time-parameters\n",
    "        \"\"\"\n",
    "\n",
    "        # underlying value \n",
    "        S = args[0] if len(args) > 0 else kwargs['S'] if 'S' in kwargs else self.get_S()\n",
    "\n",
    "        # time parameter:\n",
    "        time_param = args[1] if len(args) > 1 else kwargs['tau'] if 'tau' in kwargs else (kwargs['t'] if 't' in kwargs else None)\n",
    "\n",
    "        # time parameter interpretation according to its type        \n",
    "        # case 1: no time-parameter in input\n",
    "        if time_param is None:\n",
    "            tau = self.get_tau()\n",
    "        # case 2: valid time-to-maturity in input\n",
    "        elif isinstance(time_param, int) or isinstance(time_param, float):\n",
    "            tau = time_param\n",
    "        # case 3: valuation date in input, to be converted into time-to-maturity\n",
    "        elif isinstance(time_param, str) or isinstance(time_param, dt.datetime):\n",
    "            valuation_date = date_string_to_datetime_obj(time_param)\n",
    "            tau = self.time_to_maturity(t=valuation_date)\n",
    "        # error case: the time parameter in input has a data-type that is not recognized\n",
    "        else: \n",
    "            raise TypeError(\"Type {} of input time parameter not recognized\".format(type(time_param)))\n",
    "\n",
    "        return S, tau\n",
    "    \n",
    "    # payoff template\n",
    "    def payoff(self):\n",
    "        raise NotImplementedError()     \n",
    "        \n",
    "    # upper price limit template\n",
    "    def price_upper_limit(self):\n",
    "        raise NotImplementedError()     \n",
    "\n",
    "    # lower price limit template\n",
    "    def price_lower_limit(self):\n",
    "        raise NotImplementedError()     \n",
    "        \n",
    "    # price template\n",
    "    def price(self):\n",
    "        raise NotImplementedError()"
   ]
  },
  {
   "cell_type": "code",
   "execution_count": 57,
   "metadata": {},
   "outputs": [],
   "source": [
    "from collections.abc import Iterable"
   ]
  },
  {
   "cell_type": "code",
   "execution_count": 58,
   "metadata": {},
   "outputs": [],
   "source": [
    "class PlainVanillaOption(EuropeanOption):\n",
    "    \"\"\"\n",
    "    PlainVanillaOption class implementing payoff and pricing of plain-vanilla call and put options.\n",
    "    Put price is calculated using put-call parity\n",
    "    \n",
    "    Attributes:\n",
    "    -----------\n",
    "        mkt_env (MarketEnvironment): Instance of MarketEnvironment class\n",
    "        type (str):                  From 'type' attribute of EuropeanOption base class.\n",
    "        S_t (float):                 'S' attribute of mkt_env.\n",
    "        K (float):                   From 'K' attribute of EuropeanOption base class.\n",
    "        t (str; dt.datetime):        't' attribute of mkt_env.\n",
    "        T (str; dt.datetime):        From 'T' attribute of EuropeanOption base class.\n",
    "        tau (float):                 time to maturity in years, computed as tau=T-t by time_to_maturity() method\n",
    "        r (float):                   'r' attribute of mkt_env.\n",
    "        sigma (float):               'sigma' attribute of mkt_env.\n",
    "    \n",
    "    Public Methods:\n",
    "    --------   \n",
    "    \n",
    "        payoff: float\n",
    "            Computes the payoff of the option and returns it\n",
    "\n",
    "        price_upper_limit: float \n",
    "            Returns the upper limit for a vanilla option price.\n",
    "\n",
    "        price_lower_limit: float \n",
    "            Returns the lower limit for a vanilla option price.\n",
    "            \n",
    "        price: float\n",
    "            Computes the exact price of the option and returns it, using call_price() or put_price()\n",
    "\n",
    "    Usage: \n",
    "    --------   \n",
    "        - default: PlainVanillaOption(mkt_env) is equivalent to \n",
    "                   PlainVanillaOption(mkt_env, option_type='call', K=100.0, T=\"31-12-2020\")\n",
    "\n",
    "        - general: PlainVanillaOption(mkt_env, option_type='call' or 'put' String, K=Float, T=\"DD-MM-YYYY\" String)\n",
    "\n",
    "    where: mkt_env is a MarketEnvironment instance.\n",
    "    \"\"\"\n",
    "    \n",
    "    # initializer with optional *args and **kwargs parameters\n",
    "    def __init__(self, *args, **kwargs):  \n",
    "        \n",
    "        # calling the EuropeanOption initializer\n",
    "        super(PlainVanillaOption, self).__init__(*args, **kwargs)\n",
    "        \n",
    "        # info strings\n",
    "        self.__info = r\"Plain Vanilla {} (K={:.1f}, tau={:.2f}y)\".format(self.get_type(), self.get_K(), self.get_tau())\n",
    "        self.__mkt_info = r\"[S_t={:.1f}, r={:.1f}%, sigma={:.1f}%]\".format(self.get_S(), self.get_r()*100, self.get_sigma()*100)\n",
    "        \n",
    "        # informations dictionary\n",
    "        self.__docstring_dict = {\n",
    "            'call':{\n",
    "                'price_upper_limit': r\"Upper limit: $S_t$\",\n",
    "                'payoff':            r\"Payoff: $max(S-K, 0)$\",\n",
    "                'price_lower_limit': r\"Lower limit: $max(S_t - K e^{-r \\tau}, 0)$\"\n",
    "            },\n",
    "            'put': {\n",
    "                'price_upper_limit': r\"Upper limit: $K e^{-r \\tau}$\",\n",
    "                'payoff':            r\"Payoff: $max(K-S, 0)$\",\n",
    "                'price_lower_limit': r\"Lower limit: $max(K e^{-r \\tau} - S_t, 0)$\"}\n",
    "        }\n",
    "                \n",
    "    def __repr__(self):\n",
    "        return r\"PlainVanillaOption('{}', S_t={:.1f}, K={:.1f}, t={}, T={}, tau={:.2f}y, r={:.1f}%, sigma={:.1f}%)\".\\\n",
    "                format(self.get_type(), self.get_S(), self.get_K(), self.get_t().strftime(\"%d-%m-%Y\"), \n",
    "                       self.get_T().strftime(\"%d-%m-%Y\"), self.get_tau(), self.get_r()*100, self.get_sigma()*100)\n",
    "    \n",
    "    # getters\n",
    "    def get_info(self):\n",
    "        return self.__info\n",
    "    \n",
    "    def get_mkt_info(self):\n",
    "        return self.__mkt_info\n",
    "\n",
    "    def get_docstring(self, label):\n",
    "        return self.__docstring_dict[self.get_type()][label] \n",
    "    \n",
    "    # payoff calculation - with optional *args and **kwargs parameters\n",
    "    def payoff(self, *args, **kwargs):\n",
    "        \"\"\"\n",
    "        Can be called as:\n",
    "            - payoff(): uses .get_S() \n",
    "            - payoff(100.0): S == 100.0\n",
    "            - payoff(S=100.0)\n",
    "            - payoff([100.0, ..., 120.0]): S == [100.0, ..., 120.0] \n",
    "            - payoff(S=[100.0, ..., 120.0])\n",
    "        \"\"\"\n",
    "        \n",
    "        # underlying value \n",
    "        S, _ = self.parse_S_tau_parameters(*args, **kwargs)\n",
    "                \n",
    "        # call case\n",
    "        if self.get_type() == 'call':\n",
    "            return self.__call_payoff(S)\n",
    "        # put case\n",
    "        else:\n",
    "            return self.__put_payoff(S)\n",
    "    \n",
    "    def __call_payoff(self, S):\n",
    "        if isinstance(S, Iterable):\n",
    "            return np.array([max(0.0, s - self.get_K()) for s in S])\n",
    "        else:\n",
    "            return max(0.0, S - self.get_K())\n",
    "\n",
    "    def __put_payoff(self, S):\n",
    "        if isinstance(S, Iterable):\n",
    "            return np.array([max(0.0, self.get_K() - s) for s in S])\n",
    "        else:\n",
    "            return max(0.0, self.get_K() - S)\n",
    "        \n",
    "    # upper price limit - with optional *args and **kwargs parameters\n",
    "    def price_upper_limit(self, *args, **kwargs):\n",
    "        \"\"\"\n",
    "        Can be called as:\n",
    "            - price_upper_limit(): uses .get_S() and .get_tau()\n",
    "            - price_upper_limit(100.0): S == 100.0\n",
    "            - price_upper_limit(100.0, 0.1): S == 100.0 and tau == 0.1\n",
    "            - price_upper_limit(S=100.0, tau=0.1)\n",
    "            - price_upper_limit([100.0, ..., 120.0], 0.1): S == [100.0, ..., 120.0] and tau == 0.1\n",
    "            - price_upper_limit(S=[100.0, ..., 120.0], tau=0.1)\n",
    "        \"\"\"\n",
    "\n",
    "        # underlying value and time-to-maturity\n",
    "        S, tau = self.parse_S_tau_parameters(*args, **kwargs)\n",
    "\n",
    "        # call case\n",
    "        if self.get_type() == 'call':\n",
    "            return S\n",
    "        # put case\n",
    "        else:\n",
    "            return self.__put_price_upper_limit(S, tau)\n",
    "    \n",
    "    def __put_price_upper_limit(self, S, tau):\n",
    "        if isinstance(S, Iterable):\n",
    "            return np.repeat(self.get_K()*np.exp(-self.get_r() * tau), repeats=len(S)) \n",
    "        else:\n",
    "            return self.get_K()*np.exp(-self.get_r() * tau)\n",
    "\n",
    "    # lower price limit - with optional *args and **kwargs parameters\n",
    "    def price_lower_limit(self, *args, **kwargs):\n",
    "        \"\"\"\n",
    "        Can be called as:\n",
    "            - price_lower_limit(): uses .get_S() and .get_tau()\n",
    "            - price_lower_limit(100.0): S == 100.0\n",
    "            - price_lower_limit(100.0, 0.1): S == 100.0 and tau == 0.1\n",
    "            - price_lower_limit(S=100.0, tau=0.1)\n",
    "            - price_lower_limit([100.0, ..., 120.0], 0.1): S == [100.0, ..., 120.0] and tau == 0.1\n",
    "            - price_lower_limit(S=[100.0, ..., 120.0], tau=0.1)\n",
    "        \"\"\"\n",
    "\n",
    "        # underlying value and time-to-maturity\n",
    "        S, tau = self.parse_S_tau_parameters(*args, **kwargs)\n",
    "                                       \n",
    "        # call case\n",
    "        if self.get_type() == 'call':\n",
    "            return self.__call_price_lower_limit(S, tau)\n",
    "        # put case\n",
    "        else:\n",
    "            return self.__put_price_lower_limit(S, tau)\n",
    "\n",
    "    def __call_price_lower_limit(self, S, tau):\n",
    "        if isinstance(S, Iterable):\n",
    "            return np.array([max(s - self.get_K()*np.exp(-self.get_r() * tau), 0.0) for s in S])\n",
    "        else:\n",
    "            return max(S - self.get_K()*np.exp(-self.get_r() * tau), 0.0)\n",
    "                                       \n",
    "    def __put_price_lower_limit(self, S, tau):\n",
    "        if isinstance(S, Iterable):\n",
    "            return np.array([max(self.get_K()*np.exp(-self.get_r() * tau) - s, 0.0) for s in S])\n",
    "        else:\n",
    "            return max(self.get_K()*np.exp(-self.get_r() * tau) - S, 0.0)\n",
    "                                       \n",
    "    # price calculation - with optional *args and **kwargs parameters\n",
    "    def price(self, *args, **kwargs):\n",
    "        \"\"\"\n",
    "        Can be called as:\n",
    "            - price(): uses .get_S() and .get_tau()\n",
    "            - price(100.0): S == 100.0\n",
    "            - price(100.0, 0.1): S == 100.0 and tau == 0.1\n",
    "            - price(S=100.0, tau=0.1)\n",
    "            - price([100.0, ..., 120.0], 0.1): S == [100.0, ..., 120.0] and tau == 0.1\n",
    "            - price(S=[100.0, ..., 120.0], tau=0.1)\n",
    "        \"\"\"\n",
    "                       \n",
    "        # underlying value and time-to-maturity\n",
    "        S, tau = self.parse_S_tau_parameters(*args, **kwargs)\n",
    "               \n",
    "        # call case\n",
    "        if self.get_type() == 'call':\n",
    "            return np.array([self.__call_price(s, tau) for s in S]) if isinstance(S, Iterable) else self.__call_price(S, tau)\n",
    "        # put case\n",
    "        else:\n",
    "            return np.array([self.__put_price(s, tau) for s in S]) if isinstance(S, Iterable) else self.__put_price(S, tau)\n",
    "          \n",
    "    def __call_price(self, S, tau):\n",
    "        \n",
    "        if S == 0: # this is to avoid log(0) issues\n",
    "            return 0.0\n",
    "        elif tau == 0.0: # this is to avoid 0/0 issues\n",
    "            return self.__call_payoff(S)\n",
    "        else:\n",
    "            K     = self.get_K()\n",
    "            r     = self.get_r()\n",
    "            sigma = self.get_sigma()\n",
    "\n",
    "            d1 = (np.log(S/K) + (r + 0.5 * sigma ** 2) * tau) / (sigma * np.sqrt(tau))\n",
    "            d2 = d1 - sigma * np.sqrt(tau)\n",
    "\n",
    "            price = S * stats.norm.cdf(d1, 0.0, 1.0) - K * np.exp(-r * tau) * stats.norm.cdf(d2, 0.0, 1.0)\n",
    "\n",
    "            return price\n",
    "    \n",
    "    def __put_price(self, S, tau):\n",
    "        \"\"\" Put price from Put-Call parity relation: Call + Ke^{-r*tau} = Put + S\"\"\"\n",
    "        return self.__call_price(S, tau) + self.get_K() * np.exp(- self.get_r() * tau) - S     "
   ]
  },
  {
   "cell_type": "code",
   "execution_count": 154,
   "metadata": {},
   "outputs": [
    {
     "name": "stdout",
     "output_type": "stream",
     "text": [
      "Initializing the EuropeanOption!\n"
     ]
    },
    {
     "data": {
      "text/plain": [
       "PlainVanillaOption('call', S_t=90.0, K=110.0, t=19-04-2020, T=31-12-2022, tau=2.70y, r=5.0%, sigma=20.0%)"
      ]
     },
     "execution_count": 154,
     "metadata": {},
     "output_type": "execute_result"
    }
   ],
   "source": [
    "Vanilla_Call = PlainVanillaOption(market_env, option_type='call', K=110.0, T=\"31-12-2022\")\n",
    "Vanilla_Call"
   ]
  },
  {
   "cell_type": "code",
   "execution_count": 155,
   "metadata": {},
   "outputs": [
    {
     "name": "stdout",
     "output_type": "stream",
     "text": [
      "Initializing the EuropeanOption!\n"
     ]
    },
    {
     "data": {
      "text/plain": [
       "PlainVanillaOption('call', S_t=90.0, K=100.0, t=19-04-2020, T=31-12-2020, tau=0.70y, r=5.0%, sigma=20.0%)"
      ]
     },
     "execution_count": 155,
     "metadata": {},
     "output_type": "execute_result"
    }
   ],
   "source": [
    "Vanilla_Call = PlainVanillaOption(market_env)\n",
    "Vanilla_Call"
   ]
  },
  {
   "cell_type": "code",
   "execution_count": 61,
   "metadata": {
    "scrolled": false
   },
   "outputs": [
    {
     "data": {
      "text/plain": [
       "0.0"
      ]
     },
     "execution_count": 61,
     "metadata": {},
     "output_type": "execute_result"
    }
   ],
   "source": [
    "Vanilla_Call.payoff() # using .get_S() "
   ]
  },
  {
   "cell_type": "code",
   "execution_count": 62,
   "metadata": {},
   "outputs": [
    {
     "data": {
      "text/plain": [
       "0.0"
      ]
     },
     "execution_count": 62,
     "metadata": {},
     "output_type": "execute_result"
    }
   ],
   "source": [
    "Vanilla_Call.payoff(90) # using args[0] for S"
   ]
  },
  {
   "cell_type": "code",
   "execution_count": 63,
   "metadata": {},
   "outputs": [
    {
     "data": {
      "text/plain": [
       "0.0"
      ]
     },
     "execution_count": 63,
     "metadata": {},
     "output_type": "execute_result"
    }
   ],
   "source": [
    "Vanilla_Call.payoff(S=90) # using kwargs['S'] for S"
   ]
  },
  {
   "cell_type": "code",
   "execution_count": 64,
   "metadata": {},
   "outputs": [
    {
     "data": {
      "text/plain": [
       "array([0., 0.])"
      ]
     },
     "execution_count": 64,
     "metadata": {},
     "output_type": "execute_result"
    }
   ],
   "source": [
    "Vanilla_Call.payoff([90, 100.0]) # using args[0] for S (and list in input)"
   ]
  },
  {
   "cell_type": "code",
   "execution_count": 65,
   "metadata": {},
   "outputs": [
    {
     "data": {
      "text/plain": [
       "array([0., 0.])"
      ]
     },
     "execution_count": 65,
     "metadata": {},
     "output_type": "execute_result"
    }
   ],
   "source": [
    "Vanilla_Call.payoff(S=[90, 100.0]) # using kwargs['S'] for S (and list in input) "
   ]
  },
  {
   "cell_type": "code",
   "execution_count": 66,
   "metadata": {
    "scrolled": true
   },
   "outputs": [
    {
     "data": {
      "text/plain": [
       "3.487402470943657"
      ]
     },
     "execution_count": 66,
     "metadata": {},
     "output_type": "execute_result"
    }
   ],
   "source": [
    "Vanilla_Call.price() # using .get_S() and .get_tau()"
   ]
  },
  {
   "cell_type": "code",
   "execution_count": 67,
   "metadata": {},
   "outputs": [
    {
     "data": {
      "text/plain": [
       "3.487402470943657"
      ]
     },
     "execution_count": 67,
     "metadata": {},
     "output_type": "execute_result"
    }
   ],
   "source": [
    "Vanilla_Call.price(90) # using args[0] for S"
   ]
  },
  {
   "cell_type": "code",
   "execution_count": 68,
   "metadata": {},
   "outputs": [
    {
     "data": {
      "text/plain": [
       "0.1434251971537872"
      ]
     },
     "execution_count": 68,
     "metadata": {},
     "output_type": "execute_result"
    }
   ],
   "source": [
    "Vanilla_Call.price(90, 0.1) # using args[0] for S and args[1] for tau"
   ]
  },
  {
   "cell_type": "code",
   "execution_count": 69,
   "metadata": {},
   "outputs": [
    {
     "data": {
      "text/plain": [
       "True"
      ]
     },
     "execution_count": 69,
     "metadata": {},
     "output_type": "execute_result"
    }
   ],
   "source": [
    "isinstance(Vanilla_Call.get_T(), dt.datetime)"
   ]
  },
  {
   "cell_type": "code",
   "execution_count": 70,
   "metadata": {},
   "outputs": [
    {
     "data": {
      "text/plain": [
       "0.1434251971537872"
      ]
     },
     "execution_count": 70,
     "metadata": {},
     "output_type": "execute_result"
    }
   ],
   "source": [
    "Vanilla_Call.price(S=90, tau=0.1) # using kwargs['S'] for S and kwargs['tau'] for tau"
   ]
  },
  {
   "cell_type": "code",
   "execution_count": 71,
   "metadata": {},
   "outputs": [
    {
     "data": {
      "text/plain": [
       "array([0.1434252 , 2.77365415])"
      ]
     },
     "execution_count": 71,
     "metadata": {},
     "output_type": "execute_result"
    }
   ],
   "source": [
    "Vanilla_Call.price([90, 100.0], tau=0.1) # using args[0] for S (and list in input) and args[1] for tau"
   ]
  },
  {
   "cell_type": "code",
   "execution_count": 156,
   "metadata": {},
   "outputs": [
    {
     "data": {
      "text/plain": [
       "array([0.1434252 , 2.77365415])"
      ]
     },
     "execution_count": 156,
     "metadata": {},
     "output_type": "execute_result"
    }
   ],
   "source": [
    "Vanilla_Call.price(S=[90, 100.0], tau=0.1) # using kwargs['S'] for S (and list in input) and kwargs['tau'] for tau"
   ]
  },
  {
   "cell_type": "code",
   "execution_count": 157,
   "metadata": {},
   "outputs": [
    {
     "data": {
      "text/plain": [
       "array([0.1434252 , 2.77365415])"
      ]
     },
     "execution_count": 157,
     "metadata": {},
     "output_type": "execute_result"
    }
   ],
   "source": [
    "Vanilla_Call.price([90, 100.0], 0.1) # using kwargs['S'] for S (and list in input) and kwargs['tau'] for tau"
   ]
  },
  {
   "cell_type": "code",
   "execution_count": 73,
   "metadata": {
    "scrolled": true
   },
   "outputs": [
    {
     "data": {
      "text/plain": [
       "90.0"
      ]
     },
     "execution_count": 73,
     "metadata": {},
     "output_type": "execute_result"
    }
   ],
   "source": [
    "Vanilla_Call.price_upper_limit() # using .get_S() and .get_tau()"
   ]
  },
  {
   "cell_type": "code",
   "execution_count": 74,
   "metadata": {},
   "outputs": [
    {
     "data": {
      "text/plain": [
       "90"
      ]
     },
     "execution_count": 74,
     "metadata": {},
     "output_type": "execute_result"
    }
   ],
   "source": [
    "Vanilla_Call.price_upper_limit(90) # using args[0] for S"
   ]
  },
  {
   "cell_type": "code",
   "execution_count": 75,
   "metadata": {},
   "outputs": [
    {
     "data": {
      "text/plain": [
       "90"
      ]
     },
     "execution_count": 75,
     "metadata": {},
     "output_type": "execute_result"
    }
   ],
   "source": [
    "Vanilla_Call.price_upper_limit(90, 0.1) # using args[0] for S and args[1] for tau"
   ]
  },
  {
   "cell_type": "code",
   "execution_count": 76,
   "metadata": {},
   "outputs": [
    {
     "data": {
      "text/plain": [
       "90"
      ]
     },
     "execution_count": 76,
     "metadata": {},
     "output_type": "execute_result"
    }
   ],
   "source": [
    "Vanilla_Call.price_upper_limit(S=90, tau=0.1) # using kwargs['S'] for S and kwargs['tau'] for tau"
   ]
  },
  {
   "cell_type": "code",
   "execution_count": 77,
   "metadata": {},
   "outputs": [
    {
     "data": {
      "text/plain": [
       "[90, 100.0]"
      ]
     },
     "execution_count": 77,
     "metadata": {},
     "output_type": "execute_result"
    }
   ],
   "source": [
    "Vanilla_Call.price_upper_limit([90, 100.0], tau=0.1) # using args[0] for S (and list in input) and args[1] for tau"
   ]
  },
  {
   "cell_type": "code",
   "execution_count": 78,
   "metadata": {},
   "outputs": [
    {
     "data": {
      "text/plain": [
       "[90, 100.0]"
      ]
     },
     "execution_count": 78,
     "metadata": {},
     "output_type": "execute_result"
    }
   ],
   "source": [
    "Vanilla_Call.price_upper_limit(S=[90, 100.0], tau=0.1) # using kwargs['S'] for S (and list in input) and kwargs['tau'] for tau"
   ]
  },
  {
   "cell_type": "code",
   "execution_count": 79,
   "metadata": {
    "scrolled": true
   },
   "outputs": [
    {
     "data": {
      "text/plain": [
       "0.0"
      ]
     },
     "execution_count": 79,
     "metadata": {},
     "output_type": "execute_result"
    }
   ],
   "source": [
    "Vanilla_Call.price_lower_limit() # using .get_S() and .get_tau()"
   ]
  },
  {
   "cell_type": "code",
   "execution_count": 80,
   "metadata": {},
   "outputs": [
    {
     "data": {
      "text/plain": [
       "0.0"
      ]
     },
     "execution_count": 80,
     "metadata": {},
     "output_type": "execute_result"
    }
   ],
   "source": [
    "Vanilla_Call.price_lower_limit(90) # using args[0] for S"
   ]
  },
  {
   "cell_type": "code",
   "execution_count": 81,
   "metadata": {},
   "outputs": [
    {
     "data": {
      "text/plain": [
       "0.0"
      ]
     },
     "execution_count": 81,
     "metadata": {},
     "output_type": "execute_result"
    }
   ],
   "source": [
    "Vanilla_Call.price_lower_limit(90, 0.1) # using args[0] for S and args[1] for tau"
   ]
  },
  {
   "cell_type": "code",
   "execution_count": 82,
   "metadata": {},
   "outputs": [
    {
     "data": {
      "text/plain": [
       "0.0"
      ]
     },
     "execution_count": 82,
     "metadata": {},
     "output_type": "execute_result"
    }
   ],
   "source": [
    "Vanilla_Call.price_lower_limit(S=90, tau=0.1) # using kwargs['S'] for S and kwargs['tau'] for tau"
   ]
  },
  {
   "cell_type": "code",
   "execution_count": 83,
   "metadata": {},
   "outputs": [
    {
     "data": {
      "text/plain": [
       "array([0.        , 0.49875208])"
      ]
     },
     "execution_count": 83,
     "metadata": {},
     "output_type": "execute_result"
    }
   ],
   "source": [
    "Vanilla_Call.price_lower_limit([90, 100.0], tau=0.1) # using args[0] for S (and list in input) and args[1] for tau"
   ]
  },
  {
   "cell_type": "code",
   "execution_count": 84,
   "metadata": {},
   "outputs": [
    {
     "data": {
      "text/plain": [
       "array([0.        , 0.49875208])"
      ]
     },
     "execution_count": 84,
     "metadata": {},
     "output_type": "execute_result"
    }
   ],
   "source": [
    "Vanilla_Call.price_lower_limit(S=[90, 100.0], tau=0.1) # using kwargs['S'] for S (and list in input) and kwargs['tau'] for tau"
   ]
  },
  {
   "cell_type": "markdown",
   "metadata": {},
   "source": [
    "**USAGE WITH 't' PARAMETER**"
   ]
  },
  {
   "cell_type": "code",
   "execution_count": 85,
   "metadata": {},
   "outputs": [
    {
     "data": {
      "text/plain": [
       "0.7013698630136986"
      ]
     },
     "execution_count": 85,
     "metadata": {},
     "output_type": "execute_result"
    }
   ],
   "source": [
    "Vanilla_Call.get_tau()"
   ]
  },
  {
   "cell_type": "code",
   "execution_count": 86,
   "metadata": {},
   "outputs": [
    {
     "data": {
      "text/plain": [
       "datetime.datetime(2020, 4, 19, 0, 0)"
      ]
     },
     "execution_count": 86,
     "metadata": {},
     "output_type": "execute_result"
    }
   ],
   "source": [
    "Vanilla_Call.get_t()"
   ]
  },
  {
   "cell_type": "code",
   "execution_count": 87,
   "metadata": {
    "scrolled": true
   },
   "outputs": [
    {
     "data": {
      "text/plain": [
       "0.6191780821917808"
      ]
     },
     "execution_count": 87,
     "metadata": {},
     "output_type": "execute_result"
    }
   ],
   "source": [
    "Vanilla_Call.time_to_maturity(t=\"19-05-2020\")"
   ]
  },
  {
   "cell_type": "code",
   "execution_count": 88,
   "metadata": {},
   "outputs": [
    {
     "data": {
      "text/plain": [
       "3.0284908618071924"
      ]
     },
     "execution_count": 88,
     "metadata": {},
     "output_type": "execute_result"
    }
   ],
   "source": [
    "Vanilla_Call.price(t=\"19-05-2020\")"
   ]
  },
  {
   "cell_type": "code",
   "execution_count": 89,
   "metadata": {},
   "outputs": [
    {
     "data": {
      "text/plain": [
       "3.0284908618071924"
      ]
     },
     "execution_count": 89,
     "metadata": {},
     "output_type": "execute_result"
    }
   ],
   "source": [
    "Vanilla_Call.price(tau=Vanilla_Call.time_to_maturity(t=\"19-05-2020\"))"
   ]
  },
  {
   "cell_type": "markdown",
   "metadata": {},
   "source": [
    "the same can be done in the put case"
   ]
  },
  {
   "cell_type": "code",
   "execution_count": 90,
   "metadata": {},
   "outputs": [
    {
     "name": "stdout",
     "output_type": "stream",
     "text": [
      "Initializing the EuropeanOption!\n"
     ]
    },
    {
     "data": {
      "text/plain": [
       "PlainVanillaOption('put', S_t=90.0, K=100.0, t=19-04-2020, T=31-12-2020, tau=0.70y, r=5.0%, sigma=20.0%)"
      ]
     },
     "execution_count": 90,
     "metadata": {},
     "output_type": "execute_result"
    }
   ],
   "source": [
    "Vanilla_Put = PlainVanillaOption(market_env, option_type='put')\n",
    "Vanilla_Put"
   ]
  },
  {
   "cell_type": "code",
   "execution_count": 91,
   "metadata": {
    "scrolled": true
   },
   "outputs": [
    {
     "data": {
      "text/plain": [
       "10.0"
      ]
     },
     "execution_count": 91,
     "metadata": {},
     "output_type": "execute_result"
    }
   ],
   "source": [
    "Vanilla_Put.payoff() # using .get_S() "
   ]
  },
  {
   "cell_type": "markdown",
   "metadata": {},
   "source": [
    "etc"
   ]
  },
  {
   "cell_type": "code",
   "execution_count": 92,
   "metadata": {},
   "outputs": [],
   "source": [
    "class DigitalOption(EuropeanOption):\n",
    "    \"\"\"\n",
    "    DigitalOption class implementing payoff and pricing of digital call and put options.\n",
    "    Put price is calculated using put-call parity\n",
    "    \n",
    "    Attributes:\n",
    "    -----------\n",
    "        mkt_env (MarketEnvironment): Instance of MarketEnvironment class\n",
    "        Q (float):                   cash amount\n",
    "        type (str):                  From 'type' attribute of EuropeanOption base class.\n",
    "        S_t (float):                 'S' attribute of mkt_env.\n",
    "        K (float):                   From 'K' attribute of EuropeanOption base class.\n",
    "        t (str; dt.datetime):        't' attribute of mkt_env.\n",
    "        T (str; dt.datetime):        From 'T' attribute of EuropeanOption base class.\n",
    "        tau (float):                 time to maturity in years, computed as tau=T-t by time_to_maturity() method\n",
    "        r (float):                   'r' attribute of mkt_env.\n",
    "        sigma (float):               'sigma' attribute of mkt_env.\n",
    "    \n",
    "    Public Methods:\n",
    "    --------   \n",
    "    \n",
    "        payoff: float\n",
    "            Computes the payoff of the option and returns it\n",
    "\n",
    "        price_upper_limit: float \n",
    "            Returns the upper limit for a vanilla option price.\n",
    "\n",
    "        price_lower_limit: float \n",
    "            Returns the lower limit for a vanilla option price.\n",
    "            \n",
    "        price: float\n",
    "            Computes the exact price of the option and returns it, using call_price() or put_price()\n",
    "\n",
    "    Usage: \n",
    "    --------   \n",
    "        - default: DigitalOption(mkt_env) is equivalent to \n",
    "                   DigitalOption(mkt_env, cash_amount=1.0, option_type='call', K=100.0, T=\"31-12-2020\")\n",
    "\n",
    "        - general: DigitalOption(mkt_env, cash_amount=Float, option_type='call' or 'put' String, K=Float, T=\"DD-MM-YYYY\" String)\n",
    "\n",
    "    where: mkt_env is a MarketEnvironment instance.\n",
    "    \"\"\"\n",
    "\n",
    "    # initializer with optional *args and **kwargs parameters and default cash_amount\n",
    "    # default keyword arguments (like cash_amount here) must go after args list argument in function def\n",
    "    def __init__(self, *args, cash_amount=1.0, **kwargs):  \n",
    "        \n",
    "        # calling the EuropeanOption initializer\n",
    "        super(DigitalOption, self).__init__(*args, **kwargs)\n",
    "        \n",
    "        # amount of cash in case of payment\n",
    "        self.__Q = cash_amount    \n",
    "        \n",
    "        # info strings\n",
    "        self.__info = r\"CON {} (K={:.1f}, tau={:.2f}y, Q={:.1f})\".format(self.get_type(), self.get_K(), self.get_tau(), self.get_Q())\n",
    "        self.__mkt_info = r\"[S_t={:.1f}, r={:.1f}%, sigma={:.1f}%]\".format(self.get_S(), self.get_r()*100, self.get_sigma()*100)\n",
    "\n",
    "        # informations dictionary\n",
    "        self.__docstring_dict = {\n",
    "            'call':{\n",
    "                'price_upper_limit': r\"Upper limit: $Q e^{-r \\tau}$\",\n",
    "                'payoff':            r\"Payoff: $Q$ $I(S > K)$\",\n",
    "                'price_lower_limit': r\"Lower limit: $0$\"\n",
    "            },\n",
    "            'put': {\n",
    "                'price_upper_limit': r\"Upper limit: $Q e^{-r \\tau}$\",\n",
    "                'payoff':            r\"Payoff: $Q$ $I(S \\leq K)$\",\n",
    "                'price_lower_limit': r\"Lower limit: $0$\"}\n",
    "        }        \n",
    "                \n",
    "    def __repr__(self):\n",
    "        return r\"DigitalOption('{}', cash={:.1f}, S_t={:.1f}, K={:.1f}, t={}, T={}, tau={:.2f}y, r={:.1f}%, sigma={:.1f}%)\".\\\n",
    "                format(self.get_type(), self.get_Q(), self.get_S(), self.get_K(), self.get_t().strftime(\"%d-%m-%Y\"), \n",
    "                       self.get_T().strftime(\"%d-%m-%Y\"), self.get_tau(), self.get_r()*100, self.get_sigma()*100)\n",
    "    \n",
    "    # getters\n",
    "    def get_info(self):\n",
    "        return self.__info\n",
    "    \n",
    "    def get_mkt_info(self):\n",
    "        return self.__mkt_info\n",
    "    \n",
    "    def get_Q(self):\n",
    "        return self.__Q\n",
    "    \n",
    "    # docstring getter\n",
    "    def get_docstring(self, label):\n",
    "        return self.__docstring_dict[self.get_type()][label] \n",
    "    \n",
    "    # setters\n",
    "    def set_Q(self, cash_amount):\n",
    "        self.__Q = cash_amount\n",
    "    \n",
    "    # payoff calculation - with optional *args and **kwargs parameters\n",
    "    def payoff(self, *args, **kwargs):\n",
    "        \"\"\"\n",
    "        Can be called as:\n",
    "            - payoff(): uses .get_S() \n",
    "            - payoff(100.0): S == 100.0\n",
    "            - payoff(S=100.0)\n",
    "            - payoff([100.0, ..., 120.0]): S == [100.0, ..., 120.0] \n",
    "            - payoff(S=[100.0, ..., 120.0])\n",
    "        \"\"\"\n",
    "        \n",
    "        # underlying value\n",
    "        S, _ = self.parse_S_tau_parameters(*args, **kwargs)\n",
    "        \n",
    "        # call case\n",
    "        if self.get_type() == 'call':\n",
    "            return self.__call_payoff(S)\n",
    "        # put case\n",
    "        else:\n",
    "            return self.__put_payoff(S)\n",
    "\n",
    "    def __call_payoff(self, S):\n",
    "        if isinstance(S, Iterable):\n",
    "            return np.array([self.get_Q() * int(s > self.get_K()) for s in S])\n",
    "        else:\n",
    "            return self.get_Q() * int(S > self.get_K())\n",
    "\n",
    "    def __put_payoff(self, S):\n",
    "        if isinstance(S, Iterable):\n",
    "            return np.array([self.get_Q() * int(s <= self.get_K()) for s in S])\n",
    "        else:\n",
    "            return self.get_Q() * int(S <= self.get_K())\n",
    "        \n",
    "    # upper price limit - with optional *args and **kwargs parameters\n",
    "    def price_upper_limit(self, *args, **kwargs):\n",
    "        \"\"\"\n",
    "        Can be called as:\n",
    "            - price_upper_limit(): uses .get_S() and .get_tau()\n",
    "            - price_upper_limit(100.0): S == 100.0\n",
    "            - price_upper_limit(100.0, 0.1): S == 100.0 and tau == 0.1\n",
    "            - price_upper_limit(S=100.0, tau=0.1)\n",
    "            - price_upper_limit([100.0, ..., 120.0], 0.1): S == [100.0, ..., 120.0] and tau == 0.1\n",
    "            - price_upper_limit(S=[100.0, ..., 120.0], tau=0.1)\n",
    "        \"\"\"\n",
    "\n",
    "        # underlying value and time-to-maturity\n",
    "        S, tau = self.parse_S_tau_parameters(*args, **kwargs)\n",
    "            \n",
    "        # the same for call and put\n",
    "        return self.__price_upper_limit(S, tau)\n",
    " \n",
    "    def __price_upper_limit(self, S, tau):\n",
    "        if isinstance(S, Iterable):\n",
    "            return np.repeat(self.get_Q()*np.exp(-self.get_r() * tau), repeats=len(S))\n",
    "        else:\n",
    "            return self.get_Q()*np.exp(-self.get_r() * tau)\n",
    "                                       \n",
    "    # lower price limit - with optional *args and **kwargs parameters\n",
    "    def price_lower_limit(self, *args, **kwargs):\n",
    "        \"\"\"\n",
    "        Can be called as:\n",
    "            - price_lower_limit(): uses .get_S() \n",
    "            - price_lower_limit(100.0): S == 100.0\n",
    "            - price_lower_limit(S=100.0)\n",
    "            - price_lower_limit([100.0, ..., 120.0]): S == [100.0, ..., 120.0] \n",
    "            - price_lower_limit(S=[100.0, ..., 120.0])\n",
    "        \"\"\"\n",
    "\n",
    "        # underlying value\n",
    "        S, _ = self.parse_S_tau_parameters(*args, **kwargs)\n",
    "            \n",
    "        # call case\n",
    "        if self.get_type() == 'call':\n",
    "            return np.repeat(0.0, repeats=len(S)) if isinstance(S, Iterable) else 0.0\n",
    "        # put case\n",
    "        else:\n",
    "            return np.repeat(0.0, repeats=len(S)) if isinstance(S, Iterable) else 0.0\n",
    "        \n",
    "    # price calculation - with optional *args and **kwargs parameters\n",
    "    def price(self, *args, **kwargs):\n",
    "        \"\"\"\n",
    "        Can be called as:\n",
    "            - price(): uses .get_S() and .get_tau()\n",
    "            - price(100.0): S == 100.0\n",
    "            - price(100.0, 0.1): S == 100.0 and tau == 0.1\n",
    "            - price(S=100.0, tau=0.1)\n",
    "            - price([100.0, ..., 120.0], 0.1): S == [100.0, ..., 120.0] and tau == 0.1\n",
    "            - price(S=[100.0, ..., 120.0], tau=0.1)\n",
    "        \"\"\"\n",
    "                       \n",
    "        # underlying value and time-to-maturity\n",
    "        S, tau = self.parse_S_tau_parameters(*args, **kwargs)\n",
    "            \n",
    "        # call case\n",
    "        if self.get_type() == 'call':\n",
    "            return np.array([self.__call_price(s, tau) for s in S]) if isinstance(S, Iterable) else self.__call_price(S, tau)\n",
    "        # put case\n",
    "        else:\n",
    "            return np.array([self.__put_price(s, tau) for s in S]) if isinstance(S, Iterable) else self.__put_price(S, tau)\n",
    "          \n",
    "    def __call_price(self, S, tau):\n",
    "                \n",
    "        if S == 0: # this is to avoid log(0) issues\n",
    "            return 0.0\n",
    "        elif tau == 0.0: # this is to avoid 0/0 issues\n",
    "            return self.__call_payoff(S)\n",
    "        else:\n",
    "            Q     = self.get_Q()\n",
    "            K     = self.get_K()\n",
    "            r     = self.get_r()\n",
    "            sigma = self.get_sigma()\n",
    "\n",
    "            d1 = (np.log(S/K) + (r + 0.5 * sigma ** 2) * tau) / (sigma * np.sqrt(tau))\n",
    "            d2 = d1 - sigma * np.sqrt(tau)\n",
    "\n",
    "            price = Q * np.exp(-r * tau) * stats.norm.cdf(d2, 0.0, 1.0)\n",
    "\n",
    "            return price\n",
    "    \n",
    "    def __put_price(self, S, tau):\n",
    "        \"\"\" Put price from Put-Call parity relation: CON_Call + CON_Put = Qe^{-r*tau}\"\"\"\n",
    "        return self.get_Q() * np.exp(- self.get_r() * tau) - self.__call_price(S, tau)        "
   ]
  },
  {
   "cell_type": "code",
   "execution_count": 93,
   "metadata": {},
   "outputs": [
    {
     "name": "stdout",
     "output_type": "stream",
     "text": [
      "Initializing the EuropeanOption!\n"
     ]
    },
    {
     "data": {
      "text/plain": [
       "DigitalOption('call', cash=1.0, S_t=90.0, K=100.0, t=19-04-2020, T=31-12-2020, tau=0.70y, r=5.0%, sigma=20.0%)"
      ]
     },
     "execution_count": 93,
     "metadata": {},
     "output_type": "execute_result"
    }
   ],
   "source": [
    "CON_Call = DigitalOption(market_env)\n",
    "CON_Call"
   ]
  },
  {
   "cell_type": "code",
   "execution_count": 94,
   "metadata": {},
   "outputs": [
    {
     "name": "stdout",
     "output_type": "stream",
     "text": [
      "Initializing the EuropeanOption!\n"
     ]
    },
    {
     "data": {
      "text/plain": [
       "DigitalOption('call', cash=1000.0, S_t=90.0, K=100.0, t=19-04-2020, T=31-12-2020, tau=0.70y, r=5.0%, sigma=20.0%)"
      ]
     },
     "execution_count": 94,
     "metadata": {},
     "output_type": "execute_result"
    }
   ],
   "source": [
    "CON_Call = DigitalOption(market_env, cash_amount=1000.0)\n",
    "CON_Call"
   ]
  },
  {
   "cell_type": "code",
   "execution_count": 95,
   "metadata": {},
   "outputs": [
    {
     "name": "stdout",
     "output_type": "stream",
     "text": [
      "Initializing the EuropeanOption!\n"
     ]
    },
    {
     "data": {
      "text/plain": [
       "DigitalOption('call', cash=1.0, S_t=90.0, K=110.0, t=19-04-2020, T=31-12-2022, tau=2.70y, r=5.0%, sigma=20.0%)"
      ]
     },
     "execution_count": 95,
     "metadata": {},
     "output_type": "execute_result"
    }
   ],
   "source": [
    "CON_Call = DigitalOption(market_env, option_type='call', K=110.0, T=\"31-12-2022\")\n",
    "CON_Call"
   ]
  },
  {
   "cell_type": "code",
   "execution_count": 96,
   "metadata": {},
   "outputs": [
    {
     "name": "stdout",
     "output_type": "stream",
     "text": [
      "Initializing the EuropeanOption!\n"
     ]
    },
    {
     "data": {
      "text/plain": [
       "DigitalOption('call', cash=1000.0, S_t=90.0, K=110.0, t=19-04-2020, T=31-12-2022, tau=2.70y, r=5.0%, sigma=20.0%)"
      ]
     },
     "execution_count": 96,
     "metadata": {},
     "output_type": "execute_result"
    }
   ],
   "source": [
    "CON_Call = DigitalOption(market_env, cash_amount=1000.0, option_type='call', K=110.0, T=\"31-12-2022\")\n",
    "CON_Call"
   ]
  },
  {
   "cell_type": "code",
   "execution_count": 97,
   "metadata": {
    "scrolled": true
   },
   "outputs": [
    {
     "name": "stdout",
     "output_type": "stream",
     "text": [
      "Initializing the EuropeanOption!\n"
     ]
    },
    {
     "data": {
      "text/plain": [
       "DigitalOption('call', cash=1.0, S_t=90.0, K=100.0, t=19-04-2020, T=31-12-2020, tau=0.70y, r=5.0%, sigma=20.0%)"
      ]
     },
     "execution_count": 97,
     "metadata": {},
     "output_type": "execute_result"
    }
   ],
   "source": [
    "CON_Call = DigitalOption(market_env)\n",
    "CON_Call"
   ]
  },
  {
   "cell_type": "code",
   "execution_count": 98,
   "metadata": {
    "scrolled": true
   },
   "outputs": [
    {
     "data": {
      "text/plain": [
       "0.0"
      ]
     },
     "execution_count": 98,
     "metadata": {},
     "output_type": "execute_result"
    }
   ],
   "source": [
    "CON_Call.payoff() # using .get_S() "
   ]
  },
  {
   "cell_type": "code",
   "execution_count": 99,
   "metadata": {},
   "outputs": [
    {
     "data": {
      "text/plain": [
       "0.0"
      ]
     },
     "execution_count": 99,
     "metadata": {},
     "output_type": "execute_result"
    }
   ],
   "source": [
    "CON_Call.payoff(90) # using args[0] for S"
   ]
  },
  {
   "cell_type": "code",
   "execution_count": 100,
   "metadata": {},
   "outputs": [
    {
     "data": {
      "text/plain": [
       "0.0"
      ]
     },
     "execution_count": 100,
     "metadata": {},
     "output_type": "execute_result"
    }
   ],
   "source": [
    "CON_Call.payoff(S=90) # using kwargs['S'] for S"
   ]
  },
  {
   "cell_type": "code",
   "execution_count": 101,
   "metadata": {},
   "outputs": [
    {
     "data": {
      "text/plain": [
       "array([0., 0.])"
      ]
     },
     "execution_count": 101,
     "metadata": {},
     "output_type": "execute_result"
    }
   ],
   "source": [
    "CON_Call.payoff([90, 100.0]) # using args[0] for S (and list in input)"
   ]
  },
  {
   "cell_type": "code",
   "execution_count": 102,
   "metadata": {},
   "outputs": [
    {
     "data": {
      "text/plain": [
       "array([0., 0.])"
      ]
     },
     "execution_count": 102,
     "metadata": {},
     "output_type": "execute_result"
    }
   ],
   "source": [
    "CON_Call.payoff(S=[90, 100.0]) # using kwargs['S'] for S (and list in input) "
   ]
  },
  {
   "cell_type": "code",
   "execution_count": 103,
   "metadata": {
    "scrolled": true
   },
   "outputs": [
    {
     "data": {
      "text/plain": [
       "0.29674605684957245"
      ]
     },
     "execution_count": 103,
     "metadata": {},
     "output_type": "execute_result"
    }
   ],
   "source": [
    "CON_Call.price() # using .get_S() and .get_tau()"
   ]
  },
  {
   "cell_type": "code",
   "execution_count": 104,
   "metadata": {},
   "outputs": [
    {
     "data": {
      "text/plain": [
       "0.29674605684957245"
      ]
     },
     "execution_count": 104,
     "metadata": {},
     "output_type": "execute_result"
    }
   ],
   "source": [
    "CON_Call.price(90) # using args[0] for S"
   ]
  },
  {
   "cell_type": "code",
   "execution_count": 105,
   "metadata": {},
   "outputs": [
    {
     "data": {
      "text/plain": [
       "0.05251830091808269"
      ]
     },
     "execution_count": 105,
     "metadata": {},
     "output_type": "execute_result"
    }
   ],
   "source": [
    "CON_Call.price(90, 0.1) # using args[0] for S and args[1] for tau"
   ]
  },
  {
   "cell_type": "code",
   "execution_count": 106,
   "metadata": {},
   "outputs": [
    {
     "data": {
      "text/plain": [
       "0.05251830091808269"
      ]
     },
     "execution_count": 106,
     "metadata": {},
     "output_type": "execute_result"
    }
   ],
   "source": [
    "CON_Call.price(S=90, tau=0.1) # using kwargs['S'] for S and kwargs['tau'] for tau"
   ]
  },
  {
   "cell_type": "code",
   "execution_count": 107,
   "metadata": {},
   "outputs": [
    {
     "data": {
      "text/plain": [
       "array([0.0525183 , 0.51632829])"
      ]
     },
     "execution_count": 107,
     "metadata": {},
     "output_type": "execute_result"
    }
   ],
   "source": [
    "CON_Call.price([90, 100.0], tau=0.1) # using args[0] for S (and list in input) and args[1] for tau"
   ]
  },
  {
   "cell_type": "code",
   "execution_count": 108,
   "metadata": {},
   "outputs": [
    {
     "data": {
      "text/plain": [
       "array([0.0525183 , 0.51632829])"
      ]
     },
     "execution_count": 108,
     "metadata": {},
     "output_type": "execute_result"
    }
   ],
   "source": [
    "CON_Call.price(S=[90, 100.0], tau=0.1) # using kwargs['S'] for S (and list in input) and kwargs['tau'] for tau"
   ]
  },
  {
   "cell_type": "code",
   "execution_count": 109,
   "metadata": {
    "scrolled": true
   },
   "outputs": [
    {
     "data": {
      "text/plain": [
       "0.9655392811652148"
      ]
     },
     "execution_count": 109,
     "metadata": {},
     "output_type": "execute_result"
    }
   ],
   "source": [
    "CON_Call.price_upper_limit() # using .get_S() and .get_tau()"
   ]
  },
  {
   "cell_type": "code",
   "execution_count": 110,
   "metadata": {},
   "outputs": [
    {
     "data": {
      "text/plain": [
       "0.9655392811652148"
      ]
     },
     "execution_count": 110,
     "metadata": {},
     "output_type": "execute_result"
    }
   ],
   "source": [
    "CON_Call.price_upper_limit(90) # using args[0] for S"
   ]
  },
  {
   "cell_type": "code",
   "execution_count": 111,
   "metadata": {},
   "outputs": [
    {
     "data": {
      "text/plain": [
       "0.9950124791926823"
      ]
     },
     "execution_count": 111,
     "metadata": {},
     "output_type": "execute_result"
    }
   ],
   "source": [
    "CON_Call.price_upper_limit(90, 0.1) # using args[0] for S and args[1] for tau"
   ]
  },
  {
   "cell_type": "code",
   "execution_count": 112,
   "metadata": {},
   "outputs": [
    {
     "data": {
      "text/plain": [
       "0.9950124791926823"
      ]
     },
     "execution_count": 112,
     "metadata": {},
     "output_type": "execute_result"
    }
   ],
   "source": [
    "CON_Call.price_upper_limit(S=90, tau=0.1) # using kwargs['S'] for S and kwargs['tau'] for tau"
   ]
  },
  {
   "cell_type": "code",
   "execution_count": 113,
   "metadata": {},
   "outputs": [
    {
     "data": {
      "text/plain": [
       "array([0.99501248, 0.99501248])"
      ]
     },
     "execution_count": 113,
     "metadata": {},
     "output_type": "execute_result"
    }
   ],
   "source": [
    "CON_Call.price_upper_limit([90, 100.0], tau=0.1) # using args[0] for S (and list in input) and args[1] for tau"
   ]
  },
  {
   "cell_type": "code",
   "execution_count": 114,
   "metadata": {},
   "outputs": [
    {
     "data": {
      "text/plain": [
       "array([0.99501248, 0.99501248])"
      ]
     },
     "execution_count": 114,
     "metadata": {},
     "output_type": "execute_result"
    }
   ],
   "source": [
    "CON_Call.price_upper_limit(S=[90, 100.0], tau=0.1) # using kwargs['S'] for S (and list in input) and kwargs['tau'] for tau"
   ]
  },
  {
   "cell_type": "code",
   "execution_count": 115,
   "metadata": {
    "scrolled": true
   },
   "outputs": [
    {
     "data": {
      "text/plain": [
       "0.0"
      ]
     },
     "execution_count": 115,
     "metadata": {},
     "output_type": "execute_result"
    }
   ],
   "source": [
    "CON_Call.price_lower_limit() # using .get_S() and .get_tau()"
   ]
  },
  {
   "cell_type": "code",
   "execution_count": 116,
   "metadata": {},
   "outputs": [
    {
     "data": {
      "text/plain": [
       "0.0"
      ]
     },
     "execution_count": 116,
     "metadata": {},
     "output_type": "execute_result"
    }
   ],
   "source": [
    "CON_Call.price_lower_limit(90) # using args[0] for S"
   ]
  },
  {
   "cell_type": "code",
   "execution_count": 117,
   "metadata": {},
   "outputs": [
    {
     "data": {
      "text/plain": [
       "0.0"
      ]
     },
     "execution_count": 117,
     "metadata": {},
     "output_type": "execute_result"
    }
   ],
   "source": [
    "CON_Call.price_lower_limit(90, 0.1) # using args[0] for S and args[1] for tau"
   ]
  },
  {
   "cell_type": "code",
   "execution_count": 118,
   "metadata": {},
   "outputs": [
    {
     "data": {
      "text/plain": [
       "0.0"
      ]
     },
     "execution_count": 118,
     "metadata": {},
     "output_type": "execute_result"
    }
   ],
   "source": [
    "CON_Call.price_lower_limit(S=90, tau=0.1) # using kwargs['S'] for S and kwargs['tau'] for tau"
   ]
  },
  {
   "cell_type": "code",
   "execution_count": 119,
   "metadata": {},
   "outputs": [
    {
     "data": {
      "text/plain": [
       "array([0., 0.])"
      ]
     },
     "execution_count": 119,
     "metadata": {},
     "output_type": "execute_result"
    }
   ],
   "source": [
    "CON_Call.price_lower_limit([90, 100.0], tau=0.1) # using args[0] for S (and list in input) and args[1] for tau"
   ]
  },
  {
   "cell_type": "code",
   "execution_count": 120,
   "metadata": {},
   "outputs": [
    {
     "data": {
      "text/plain": [
       "array([0., 0.])"
      ]
     },
     "execution_count": 120,
     "metadata": {},
     "output_type": "execute_result"
    }
   ],
   "source": [
    "CON_Call.price_lower_limit(S=[90, 100.0], tau=0.1) # using kwargs['S'] for S (and list in input) and kwargs['tau'] for tau"
   ]
  },
  {
   "cell_type": "markdown",
   "metadata": {},
   "source": [
    "the same can be done in the put case"
   ]
  },
  {
   "cell_type": "code",
   "execution_count": 121,
   "metadata": {
    "scrolled": true
   },
   "outputs": [
    {
     "name": "stdout",
     "output_type": "stream",
     "text": [
      "Initializing the EuropeanOption!\n"
     ]
    },
    {
     "data": {
      "text/plain": [
       "DigitalOption('put', cash=1.0, S_t=90.0, K=100.0, t=19-04-2020, T=31-12-2020, tau=0.70y, r=5.0%, sigma=20.0%)"
      ]
     },
     "execution_count": 121,
     "metadata": {},
     "output_type": "execute_result"
    }
   ],
   "source": [
    "CON_Put = DigitalOption(market_env, option_type='put')\n",
    "CON_Put"
   ]
  },
  {
   "cell_type": "code",
   "execution_count": 122,
   "metadata": {
    "scrolled": true
   },
   "outputs": [
    {
     "data": {
      "text/plain": [
       "1.0"
      ]
     },
     "execution_count": 122,
     "metadata": {},
     "output_type": "execute_result"
    }
   ],
   "source": [
    "CON_Put.payoff() # using .get_S() "
   ]
  },
  {
   "cell_type": "markdown",
   "metadata": {},
   "source": [
    "etc"
   ]
  },
  {
   "cell_type": "markdown",
   "metadata": {},
   "source": [
    "Let's now define a plotter class to plot option"
   ]
  },
  {
   "cell_type": "code",
   "execution_count": 123,
   "metadata": {},
   "outputs": [],
   "source": [
    "class OptionPlotter:\n",
    "    \n",
    "    def __init__(self, FinancialInstrument):\n",
    "\n",
    "        # parse informations from FinancialInstrument\n",
    "        self.fin_inst = FinancialInstrument\n",
    "        self.__title_label = self.fin_inst.get_info() + \"\\n\" + \"Market: \" + self.fin_inst.get_mkt_info()\n",
    "\n",
    "        # define x-axis \n",
    "        self.set_x_axis(self.fin_inst.get_K())\n",
    "\n",
    "        # define time(s)-to-maturity\n",
    "        self.set_tau(self.fin_inst.get_tau())\n",
    "        \n",
    "    # getters\n",
    "    def get_x_axis(self):\n",
    "        return self.__x_axis\n",
    "\n",
    "    def get_tau(self):\n",
    "        return self.__tau\n",
    "\n",
    "    def get_title(self):\n",
    "        return self.__title_label\n",
    "    \n",
    "    # setters\n",
    "    def set_x_axis(self, x):\n",
    "        \n",
    "        if isinstance(x, Iterable):\n",
    "            self.__x_axis = x\n",
    "        else:\n",
    "            x_min = max(x-20, 0.0)\n",
    "            x_max = x+20\n",
    "            \n",
    "            self.__x_axis = np.linspace(x_min, x_max, 100)\n",
    "    \n",
    "    def set_tau(self, tau):\n",
    "        if isinstance(tau, Iterable) and len(tau) > 1:\n",
    "            # sort and take the reversed array\n",
    "            self.__tau = np.sort(tau)[::-1]\n",
    "        elif isinstance(tau, Iterable) and len(tau) == 1:\n",
    "            self.__tau = tau[0]\n",
    "        else:\n",
    "            self.__tau = tau\n",
    "                    \n",
    "    def plot(self, *args, **kwargs):\n",
    "        \n",
    "        # parse optional parameters\n",
    "        if len(args) > 0:\n",
    "            self.set_x_axis(args[0])\n",
    "        elif 'S' in kwargs:\n",
    "            self.set_x_axis(kwargs['S'])\n",
    "            \n",
    "        if len(args) > 1:\n",
    "            self.set_tau(args[1])\n",
    "        elif 'tau' in kwargs:\n",
    "            self.set_tau(kwargs['tau'])\n",
    "            \n",
    "        # get x-axis and, possibly, multi-tau\n",
    "        x_axis = self.get_x_axis()\n",
    "        tau = self.get_tau()\n",
    "        \n",
    "        if isinstance(tau, Iterable):\n",
    "            self.__plot_multi_tau(x_axis, tau)\n",
    "        else:\n",
    "            plot_limits = args[2] if len(args) > 2 else kwargs['plot_limits'] if 'plot_limits' in kwargs else False\n",
    "            self.__plot_single_tau(x_axis, tau, plot_limits)\n",
    "            \n",
    "    def __plot_multi_tau(self, S, multi_tau):\n",
    "        \"\"\"\n",
    "        Plot FinancialInstrument values against underlying value(s), possibly at multiple times-to-maturity.\n",
    "        \"\"\"\n",
    "        \n",
    "        plt.rcParams[\"axes.prop_cycle\"] = plt.cycler(\"color\", plt.cm.Blues(np.linspace(0,1,len(multi_tau)+1)))\n",
    "\n",
    "        # define the figure\n",
    "        fig, ax = plt.subplots(figsize=(10,6))\n",
    "\n",
    "        # plot the price for different underlying values, one line for each different time to maturity tau\n",
    "        for tau in multi_tau:\n",
    "            ax.plot(S, self.fin_inst.price(S, tau), '-', lw=1.5, label=r\"$\\tau={:.2f}y$\".format(tau))\n",
    "\n",
    "        # plot the red payoff line for different underlying values\n",
    "        ax.plot(S, self.fin_inst.payoff(S), 'r-',  lw=1.5, label=self.fin_inst.get_docstring('payoff'))\n",
    "\n",
    "        # plot a dot to highlight the strike position\n",
    "        ax.plot(self.fin_inst.get_K(), 0, 'k.', ms=15, label=\"Strike $K$\")\n",
    "\n",
    "        # set axis labels \n",
    "        ax.set_xlabel('Underlying $S_t$', fontsize=12) \n",
    "        ax.set_ylabel('Black-Scholes Price', fontsize=12) \n",
    "\n",
    "        # set title\n",
    "        ax.set_title(self.get_title(), fontsize=12) \n",
    "\n",
    "        # add the legend ('best' loc parameters places the legend in the best position automatically)\n",
    "        ax.legend(loc='best', ncol=1)\n",
    "\n",
    "        # add a gride to ease visualization\n",
    "        plt.grid(True)\n",
    "\n",
    "        # show the plot\n",
    "        fig.tight_layout()\n",
    "        plt.show()\n",
    "    \n",
    "    def __plot_single_tau(self, S, tau, plot_limits):\n",
    "        \"\"\"\n",
    "        Plot FinancialInstrument values against underlying value(s) at fixed time-to-maturity. Optionally, it plots theoretical\n",
    "        upper and lower bounds of the price.\n",
    "        \"\"\"\n",
    "\n",
    "        # define the figure\n",
    "        fig, ax = plt.subplots(figsize=(10,6))\n",
    "        \n",
    "        # plot the price for different underlying values\n",
    "        ax.plot(S, self.fin_inst.price(S, tau), 'b-', lw=1.5, label=r\"Price\")\n",
    "        \n",
    "        if plot_limits==True:\n",
    "            # plot the upper limit, the price and the lower limit for different underlying values\n",
    "            ax.plot(S, self.fin_inst.price_upper_limit(S, tau), 'k-.', lw=1.5, label=self.fin_inst.get_docstring('price_upper_limit'))\n",
    "            ax.plot(S, self.fin_inst.price_lower_limit(S, tau), 'k--', lw=1.5, label=self.fin_inst.get_docstring('price_lower_limit'))\n",
    "\n",
    "        # plot the red payoff line for different underlying values\n",
    "        ax.plot(S, self.fin_inst.payoff(S), 'r-',  lw=1.5, label=self.fin_inst.get_docstring('payoff'))\n",
    "\n",
    "        # plot a dot to highlight the strike position\n",
    "        ax.plot(self.fin_inst.get_K(), 0, 'k.', ms=15, label=\"Strike $K$\")\n",
    "\n",
    "        # set axis labels \n",
    "        ax.set_xlabel('Underlying $S_t$', fontsize=12) \n",
    "        ax.set_ylabel('Black-Scholes Price', fontsize=12) \n",
    "\n",
    "        # set title\n",
    "        ax.set_title(self.get_title(), fontsize=12) \n",
    "\n",
    "        # add the legend ('best' loc parameters places the legend in the best position automatically)\n",
    "        ax.legend(loc='best', ncol=1)\n",
    "\n",
    "        # add a gride to ease visualization\n",
    "        plt.grid(True)\n",
    "\n",
    "        # show the plot\n",
    "        fig.tight_layout()\n",
    "        plt.show()"
   ]
  },
  {
   "cell_type": "code",
   "execution_count": 124,
   "metadata": {
    "scrolled": true
   },
   "outputs": [
    {
     "data": {
      "text/plain": [
       "MarketEnvironment(t=19-04-2020, r=5.0%, S_t=90.0, sigma=20.0%)"
      ]
     },
     "execution_count": 124,
     "metadata": {},
     "output_type": "execute_result"
    }
   ],
   "source": [
    "market_env"
   ]
  },
  {
   "cell_type": "code",
   "execution_count": 125,
   "metadata": {},
   "outputs": [
    {
     "data": {
      "text/plain": [
       "PlainVanillaOption('call', S_t=90.0, K=100.0, t=19-04-2020, T=31-12-2020, tau=0.70y, r=5.0%, sigma=20.0%)"
      ]
     },
     "execution_count": 125,
     "metadata": {},
     "output_type": "execute_result"
    }
   ],
   "source": [
    "Vanilla_Call"
   ]
  },
  {
   "cell_type": "code",
   "execution_count": 126,
   "metadata": {},
   "outputs": [],
   "source": [
    "option_plotter = OptionPlotter(Vanilla_Call)"
   ]
  },
  {
   "cell_type": "code",
   "execution_count": 127,
   "metadata": {},
   "outputs": [
    {
     "data": {
      "image/png": "[encoded data removed]",
      "text/plain": [
       "<Figure size 720x432 with 1 Axes>"
      ]
     },
     "metadata": {
      "needs_background": "light"
     },
     "output_type": "display_data"
    }
   ],
   "source": [
    "option_plotter.plot()"
   ]
  },
  {
   "cell_type": "code",
   "execution_count": 128,
   "metadata": {},
   "outputs": [
    {
     "data": {
      "image/png": "[encoded data removed]",
      "text/plain": [
       "<Figure size 720x432 with 1 Axes>"
      ]
     },
     "metadata": {
      "needs_background": "light"
     },
     "output_type": "display_data"
    }
   ],
   "source": [
    "option_plotter.plot(plot_limits=True)"
   ]
  },
  {
   "cell_type": "code",
   "execution_count": 129,
   "metadata": {
    "scrolled": false
   },
   "outputs": [
    {
     "data": {
      "image/png": "[encoded data removed]",
      "text/plain": [
       "<Figure size 720x432 with 1 Axes>"
      ]
     },
     "metadata": {
      "needs_background": "light"
     },
     "output_type": "display_data"
    }
   ],
   "source": [
    "option_plotter.plot(tau=[0.05, 0.1, 0.25, 0.5, 0.75, 1.0])"
   ]
  },
  {
   "cell_type": "code",
   "execution_count": 130,
   "metadata": {
    "scrolled": true
   },
   "outputs": [
    {
     "name": "stdout",
     "output_type": "stream",
     "text": [
      "Initializing the EuropeanOption!\n"
     ]
    },
    {
     "data": {
      "text/plain": [
       "DigitalOption('put', cash=1.0, S_t=90.0, K=100.0, t=19-04-2020, T=31-12-2020, tau=0.70y, r=5.0%, sigma=20.0%)"
      ]
     },
     "execution_count": 130,
     "metadata": {},
     "output_type": "execute_result"
    }
   ],
   "source": [
    "CON_Put = DigitalOption(market_env, option_type='put')\n",
    "CON_Put"
   ]
  },
  {
   "cell_type": "code",
   "execution_count": 131,
   "metadata": {},
   "outputs": [],
   "source": [
    "option_plotter = OptionPlotter(CON_Put)"
   ]
  },
  {
   "cell_type": "code",
   "execution_count": 132,
   "metadata": {},
   "outputs": [
    {
     "data": {
      "image/png": "[encoded data removed]",
      "text/plain": [
       "<Figure size 720x432 with 1 Axes>"
      ]
     },
     "metadata": {
      "needs_background": "light"
     },
     "output_type": "display_data"
    }
   ],
   "source": [
    "option_plotter.plot()"
   ]
  },
  {
   "cell_type": "code",
   "execution_count": 133,
   "metadata": {},
   "outputs": [
    {
     "data": {
      "image/png": "[encoded data removed]",
      "text/plain": [
       "<Figure size 720x432 with 1 Axes>"
      ]
     },
     "metadata": {
      "needs_background": "light"
     },
     "output_type": "display_data"
    }
   ],
   "source": [
    "option_plotter.plot(plot_limits=True)"
   ]
  },
  {
   "cell_type": "code",
   "execution_count": 134,
   "metadata": {
    "scrolled": false
   },
   "outputs": [
    {
     "data": {
      "image/png": "[encoded data removed]",
      "text/plain": [
       "<Figure size 720x432 with 1 Axes>"
      ]
     },
     "metadata": {
      "needs_background": "light"
     },
     "output_type": "display_data"
    }
   ],
   "source": [
    "option_plotter.plot(tau=[0.05, 0.1, 0.25, 0.5, 0.75, 1.0])"
   ]
  },
  {
   "cell_type": "markdown",
   "metadata": {},
   "source": [
    "## _focus on:_ PnL"
   ]
  },
  {
   "cell_type": "code",
   "execution_count": 135,
   "metadata": {},
   "outputs": [],
   "source": [
    "class EuropeanOption:\n",
    "    \"\"\"\n",
    "    EuropeanOption abstract class: an interface setting the template for any option with european-style exercise.\n",
    "    This class is not meant to be instantiated.\n",
    "    \n",
    "    Attributes:\n",
    "    -----------\n",
    "        type (str):               type of the option. Can be either 'call' or 'put';\n",
    "        S_t (float):              'S' attribute of mkt_env.\n",
    "        K (float):                strike price;\n",
    "        t (str; dt.datetime):     't' attribute of mkt_env.\n",
    "        T (str; dt.datetime):     expiration date. Can be either a \"dd-mm-YYYY\" String or a pd.datetime() object\n",
    "        tau (float):              time to maturity in years, computed as tau=T-t by time_to_maturity() method\n",
    "        r (float):                'r' attribute of mkt_env.\n",
    "        sigma (float):            'sigma' attribute of mkt_env.\n",
    "    \n",
    "    Template Methods:\n",
    "    --------   \n",
    "    \n",
    "        getters for all common attributes\n",
    "        \n",
    "        setters for common attributes, not belonging to mkt_env\n",
    "        \n",
    "        payoff: float\n",
    "            Template method for payoff. Raises NotImplementedError if called.\n",
    "\n",
    "        price_upper_limit: float \n",
    "            Template method for upper limit. Raises NotImplementedError if called.\n",
    "\n",
    "        price_lower_limit: float \n",
    "            Template method for lower limit. Raises NotImplementedError if called.\n",
    "            \n",
    "        price: float\n",
    "            Template method for price. Raises NotImplementedError if called.\n",
    "            \n",
    "        PnL: float\n",
    "            Template method for profit and loss. Raises NotImplementedError if called.\n",
    "\n",
    "    \"\"\"\n",
    "\n",
    "    def __init__(self, mkt_env, option_type='call', K=100.0, T=\"31-12-2020\"):\n",
    "        \n",
    "        print(\"Initializing the EuropeanOption!\")\n",
    "\n",
    "        # option type check\n",
    "        if option_type not in ['call', 'put']:\n",
    "            raise NotImplementedError(\"Option Type: '{}' does not exist!\".format(option_type))\n",
    "        \n",
    "        self.__type  = option_type\n",
    "        self.__S     = mkt_env.get_S()\n",
    "        self.__K     = K\n",
    "        self.__t     = mkt_env.get_t()\n",
    "        self.__T     = date_string_to_datetime_obj(T)\n",
    "        self.__tau   = self.time_to_maturity()\n",
    "        self.__r     = mkt_env.get_r()\n",
    "        self.__sigma = mkt_env.get_sigma()\n",
    "        \n",
    "        # empty initial price of the option\n",
    "        self.__initial_price = None\n",
    "               \n",
    "        # empty informations dictionary\n",
    "        self.__docstring_dict = {}        \n",
    "        \n",
    "    # string representation method template\n",
    "    def __repr__(self):\n",
    "        raise NotImplementedError()\n",
    "    \n",
    "    # getters\n",
    "    def get_type(self):\n",
    "        return self.__type\n",
    "\n",
    "    def get_S(self):\n",
    "        return self.__S\n",
    "    \n",
    "    def get_sigma(self):\n",
    "        return self.__sigma\n",
    "    \n",
    "    def get_K(self):\n",
    "        return self.__K\n",
    "    \n",
    "    def get_t(self):\n",
    "        return self.__t\n",
    "\n",
    "    def get_T(self):\n",
    "        return self.__T\n",
    "\n",
    "    def get_tau(self):\n",
    "        return self.__tau\n",
    "\n",
    "    def get_r(self):\n",
    "        return self.__r\n",
    "    \n",
    "    def get_sigma(self):\n",
    "        return self.__sigma\n",
    "    \n",
    "    def get_initial_price(self):\n",
    "        return NotImplementedError()\n",
    "    \n",
    "    # doctring getter template\n",
    "    def get_docstring(self, label):\n",
    "        raise NotImplementedError()\n",
    "\n",
    "    # setters\n",
    "    def set_type(self, option_type):\n",
    "        self.__type = option_type\n",
    "        \n",
    "        # option type check\n",
    "        if option_type not in ['call', 'put']:\n",
    "            raise NotImplementedError(\"Option Type: '{}' does not exist!\".format(option_type))\n",
    "            \n",
    "    def set_K(self, K):\n",
    "        self.__K = K\n",
    "    \n",
    "    def set_T(self, T):\n",
    "        self.__T = date_string_to_datetime_obj(T)\n",
    "        # update time to maturity, given changed T, to keep internal consistency\n",
    "        self.__update_tau() \n",
    "    \n",
    "    def set_tau(self, tau):\n",
    "        self.__tau = tau\n",
    "        # update expiration date, given changed tau, to keep internal consistency\n",
    "        self.__update_T()\n",
    "        \n",
    "    # update methods (private)\n",
    "    def __update_tau(self):\n",
    "        self.__tau = self.time_to_maturity()\n",
    "\n",
    "    def __update_T(self):\n",
    "        self.__T = self.__t + dt.timedelta(days=math.ceil(self.__tau*365))\n",
    "\n",
    "    # utility methods\n",
    "    def time_to_maturity(self, *args, **kwargs):\n",
    "        \"\"\"\n",
    "        Utility method to compute time-to-maturity\n",
    "        \"\"\"\n",
    "        \n",
    "        # parsing optional parameters\n",
    "        t = args[0] if len(args) > 0 else kwargs['t'] if 't' in kwargs else self.get_t()\n",
    "        T = args[1] if len(args) > 1 else kwargs['T'] if 'T' in kwargs else self.get_T()\n",
    "        \n",
    "        # convert to dt.datetime objects, if needed\n",
    "        t = date_string_to_datetime_obj(t)\n",
    "        T = date_string_to_datetime_obj(T)\n",
    "        \n",
    "        # compute and return time to maturity (in years)\n",
    "        return (T-t).days / 365.0\n",
    "    \n",
    "    def parse_S_tau_parameters(self, *args, **kwargs):\n",
    "        \"\"\"\n",
    "        Utility method to parse underlying and time-parameters\n",
    "        \"\"\"\n",
    "\n",
    "        # underlying value \n",
    "        S = args[0] if len(args) > 0 else kwargs['S'] if 'S' in kwargs else self.get_S()\n",
    "\n",
    "        # time parameter:\n",
    "        time_param = args[1] if len(args) > 1 else kwargs['tau'] if 'tau' in kwargs else (kwargs['t'] if 't' in kwargs else None)\n",
    "\n",
    "        # time parameter interpretation according to its type        \n",
    "        # case 1: no time-parameter in input\n",
    "        if time_param is None:\n",
    "            tau = self.get_tau()\n",
    "        # case 2: valid time-to-maturity in input\n",
    "        elif isinstance(time_param, int) or isinstance(time_param, float):\n",
    "            tau = time_param\n",
    "        # case 3: valuation date in input, to be converted into time-to-maturity\n",
    "        elif isinstance(time_param, str) or isinstance(time_param, dt.datetime):\n",
    "            valuation_date = date_string_to_datetime_obj(time_param)\n",
    "            tau = self.time_to_maturity(t=valuation_date)\n",
    "        # error case: the time parameter in input has a data-type that is not recognized\n",
    "        else: \n",
    "            raise TypeError(\"Type {} of input time parameter not recognized\".format(type(time_param)))\n",
    "\n",
    "        return S, tau\n",
    "    \n",
    "    # payoff template\n",
    "    def payoff(self):\n",
    "        raise NotImplementedError()     \n",
    "        \n",
    "    # upper price limit template\n",
    "    def price_upper_limit(self):\n",
    "        raise NotImplementedError()     \n",
    "\n",
    "    # lower price limit template\n",
    "    def price_lower_limit(self):\n",
    "        raise NotImplementedError()     \n",
    "        \n",
    "    # price template\n",
    "    def price(self):\n",
    "        raise NotImplementedError()\n",
    "        \n",
    "    # profit and loss calculation calculation - with optional *args and **kwargs parameters\n",
    "    def PnL(self, *args, **kwargs):\n",
    "        \"\"\"\n",
    "        Can be called as:\n",
    "            - PnL(): uses .get_S() and .get_tau()\n",
    "            - PnL(100.0): S == 100.0\n",
    "            - PnL(100.0, 0.1): S == 100.0 and tau == 0.1\n",
    "            - PnL(S=100.0, tau=0.1)\n",
    "            - PnL([100.0, ..., 120.0], 0.1): S == [100.0, ..., 120.0] and tau == 0.1\n",
    "            - PnL(S=[100.0, ..., 120.0], tau=0.1)\n",
    "        \"\"\"\n",
    "        \n",
    "        # underlying value and time-to-maturity\n",
    "        S, tau = self.parse_S_tau_parameters(*args, **kwargs)\n",
    "        \n",
    "        # if tau==0, this is the P&L at option's expiration, that is the PnL if the option is kept until maturity\n",
    "        if tau == 0.0:\n",
    "            # P&L = payoff - initial price\n",
    "            return self.payoff(S) - self.get_initial_price()\n",
    "        \n",
    "        # if tau > 0, this is the P&L as if the option position is closed before maturity, when the time-to-maturity is tau\n",
    "        else:\n",
    "            # P&L = current price - initial price\n",
    "            return self.price(S, tau) - self.get_initial_price()"
   ]
  },
  {
   "cell_type": "code",
   "execution_count": 136,
   "metadata": {},
   "outputs": [],
   "source": [
    "class PlainVanillaOption(EuropeanOption):\n",
    "    \"\"\"\n",
    "    PlainVanillaOption class implementing payoff and pricing of plain-vanilla call and put options.\n",
    "    Put price is calculated using put-call parity\n",
    "    \n",
    "    Attributes:\n",
    "    -----------\n",
    "        mkt_env (MarketEnvironment): Instance of MarketEnvironment class\n",
    "        type (str):                  From 'type' attribute of EuropeanOption base class.\n",
    "        S_t (float):                 'S' attribute of mkt_env.\n",
    "        K (float):                   From 'K' attribute of EuropeanOption base class.\n",
    "        t (str; dt.datetime):        't' attribute of mkt_env.\n",
    "        T (str; dt.datetime):        From 'T' attribute of EuropeanOption base class.\n",
    "        tau (float):                 time to maturity in years, computed as tau=T-t by time_to_maturity() method\n",
    "        r (float):                   'r' attribute of mkt_env.\n",
    "        sigma (float):               'sigma' attribute of mkt_env.\n",
    "    \n",
    "    Public Methods:\n",
    "    --------   \n",
    "    \n",
    "        payoff: float\n",
    "            Computes the payoff of the option and returns it\n",
    "\n",
    "        price_upper_limit: float \n",
    "            Returns the upper limit for a vanilla option price.\n",
    "\n",
    "        price_lower_limit: float \n",
    "            Returns the lower limit for a vanilla option price.\n",
    "            \n",
    "        price: float\n",
    "            Computes the exact price of the option and returns it\n",
    "            \n",
    "    Usage: \n",
    "    --------   \n",
    "        - default: PlainVanillaOption(mkt_env) is equivalent to \n",
    "                   PlainVanillaOption(mkt_env, option_type='call', K=100.0, T=\"31-12-2020\")\n",
    "\n",
    "        - general: PlainVanillaOption(mkt_env, option_type='call' or 'put' String, K=Float, T=\"DD-MM-YYYY\" String)\n",
    "\n",
    "    where: mkt_env is a MarketEnvironment instance.\n",
    "    \"\"\"\n",
    "    \n",
    "    # initializer with optional *args and **kwargs parameters\n",
    "    def __init__(self, *args, **kwargs):  \n",
    "        \n",
    "        # calling the EuropeanOption initializer\n",
    "        super(PlainVanillaOption, self).__init__(*args, **kwargs)\n",
    "        \n",
    "        # info strings\n",
    "        self.__info = r\"Plain Vanilla {} (K={:.1f}, tau={:.2f}y)\".format(self.get_type(), self.get_K(), self.get_tau())\n",
    "        self.__mkt_info = r\"[S_t={:.1f}, r={:.1f}%, sigma={:.1f}%]\".format(self.get_S(), self.get_r()*100, self.get_sigma()*100)\n",
    "        \n",
    "        # initial price of the option\n",
    "        self.__initial_price = self.price()\n",
    "        \n",
    "        # informations dictionary\n",
    "        self.__docstring_dict = {\n",
    "            'call':{\n",
    "                'price_upper_limit': r\"Upper limit: $S_t$\",\n",
    "                'payoff':            r\"Payoff: $max(S-K, 0)$\",\n",
    "                'price_lower_limit': r\"Lower limit: $max(S_t - K e^{-r \\tau}, 0)$\"\n",
    "            },\n",
    "            'put': {\n",
    "                'price_upper_limit': r\"Upper limit: $K e^{-r \\tau}$\",\n",
    "                'payoff':            r\"Payoff: $max(K-S, 0)$\",\n",
    "                'price_lower_limit': r\"Lower limit: $max(K e^{-r \\tau} - S_t, 0)$\"}\n",
    "        }\n",
    "                \n",
    "    def __repr__(self):\n",
    "        return r\"PlainVanillaOption('{}', S_t={:.1f}, K={:.1f}, t={}, T={}, tau={:.2f}y, r={:.1f}%, sigma={:.1f}%)\".\\\n",
    "                format(self.get_type(), self.get_S(), self.get_K(), self.get_t().strftime(\"%d-%m-%Y\"), \n",
    "                       self.get_T().strftime(\"%d-%m-%Y\"), self.get_tau(), self.get_r()*100, self.get_sigma()*100)\n",
    "    \n",
    "    # getters\n",
    "    def get_info(self):\n",
    "        return self.__info\n",
    "    \n",
    "    def get_mkt_info(self):\n",
    "        return self.__mkt_info\n",
    "    \n",
    "    def get_initial_price(self):\n",
    "        return self.__initial_price\n",
    "\n",
    "    def get_docstring(self, label):\n",
    "        return self.__docstring_dict[self.get_type()][label] \n",
    "    \n",
    "    # payoff calculation - with optional *args and **kwargs parameters\n",
    "    def payoff(self, *args, **kwargs):\n",
    "        \"\"\"\n",
    "        Can be called as:\n",
    "            - payoff(): uses .get_S() \n",
    "            - payoff(100.0): S == 100.0\n",
    "            - payoff(S=100.0)\n",
    "            - payoff([100.0, ..., 120.0]): S == [100.0, ..., 120.0] \n",
    "            - payoff(S=[100.0, ..., 120.0])\n",
    "        \"\"\"\n",
    "        \n",
    "        # underlying value\n",
    "        S, _ = self.parse_S_tau_parameters(*args, **kwargs)\n",
    "                \n",
    "        # call case\n",
    "        if self.get_type() == 'call':\n",
    "            return self.__call_payoff(S)\n",
    "        # put case\n",
    "        else:\n",
    "            return self.__put_payoff(S)\n",
    "    \n",
    "    def __call_payoff(self, S):\n",
    "        if isinstance(S, Iterable):\n",
    "            return np.array([max(0.0, s - self.get_K()) for s in S])\n",
    "        else:\n",
    "            return max(0.0, S - self.get_K())\n",
    "\n",
    "    def __put_payoff(self, S):\n",
    "        if isinstance(S, Iterable):\n",
    "            return np.array([max(0.0, self.get_K() - s) for s in S])\n",
    "        else:\n",
    "            return max(0.0, self.get_K() - S)\n",
    "        \n",
    "    # upper price limit - with optional *args and **kwargs parameters\n",
    "    def price_upper_limit(self, *args, **kwargs):\n",
    "        \"\"\"\n",
    "        Can be called as:\n",
    "            - price_upper_limit(): uses .get_S() and .get_tau()\n",
    "            - price_upper_limit(100.0): S == 100.0\n",
    "            - price_upper_limit(100.0, 0.1): S == 100.0 and tau == 0.1\n",
    "            - price_upper_limit(S=100.0, tau=0.1)\n",
    "            - price_upper_limit([100.0, ..., 120.0], 0.1): S == [100.0, ..., 120.0] and tau == 0.1\n",
    "            - price_upper_limit(S=[100.0, ..., 120.0], tau=0.1)\n",
    "        \"\"\"\n",
    "\n",
    "        # underlying value and time-to-maturity\n",
    "        S, tau = self.parse_S_tau_parameters(*args, **kwargs)\n",
    "                        \n",
    "        # call case\n",
    "        if self.get_type() == 'call':\n",
    "            return S\n",
    "        # put case\n",
    "        else:\n",
    "            return self.__put_price_upper_limit(S, tau)\n",
    "    \n",
    "    def __put_price_upper_limit(self, S, tau):\n",
    "        if isinstance(S, Iterable):\n",
    "            return np.repeat(self.get_K()*np.exp(-self.get_r() * tau), repeats=len(S)) \n",
    "        else:\n",
    "            return self.get_K()*np.exp(-self.get_r() * tau)\n",
    "\n",
    "    # lower price limit - with optional *args and **kwargs parameters\n",
    "    def price_lower_limit(self, *args, **kwargs):\n",
    "        \"\"\"\n",
    "        Can be called as:\n",
    "            - price_lower_limit(): uses .get_S() and .get_tau()\n",
    "            - price_lower_limit(100.0): S == 100.0\n",
    "            - price_lower_limit(100.0, 0.1): S == 100.0 and tau == 0.1\n",
    "            - price_lower_limit(S=100.0, tau=0.1)\n",
    "            - price_lower_limit([100.0, ..., 120.0], 0.1): S == [100.0, ..., 120.0] and tau == 0.1\n",
    "            - price_lower_limit(S=[100.0, ..., 120.0], tau=0.1)\n",
    "        \"\"\"\n",
    "\n",
    "        # underlying value and time-to-maturity\n",
    "        S, tau = self.parse_S_tau_parameters(*args, **kwargs)\n",
    "                                       \n",
    "        # call case\n",
    "        if self.get_type() == 'call':\n",
    "            return self.__call_price_lower_limit(S, tau)\n",
    "        # put case\n",
    "        else:\n",
    "            return self.__put_price_lower_limit(S, tau)\n",
    "\n",
    "    def __call_price_lower_limit(self, S, tau):\n",
    "        if isinstance(S, Iterable):\n",
    "            return np.array([max(s - self.get_K()*np.exp(-self.get_r() * tau), 0.0) for s in S])\n",
    "        else:\n",
    "            return max(S - self.get_K()*np.exp(-self.get_r() * tau), 0.0)\n",
    "                                       \n",
    "    def __put_price_lower_limit(self, S, tau):\n",
    "        if isinstance(S, Iterable):\n",
    "            return np.array([max(self.get_K()*np.exp(-self.get_r() * tau) - s, 0.0) for s in S])\n",
    "        else:\n",
    "            return max(self.get_K()*np.exp(-self.get_r() * tau) - S, 0.0)\n",
    "                                       \n",
    "    # price calculation - with optional *args and **kwargs parameters\n",
    "    def price(self, *args, **kwargs):\n",
    "        \"\"\"\n",
    "        Can be called as:\n",
    "            - price(): uses .get_S() and .get_tau()\n",
    "            - price(100.0): S == 100.0\n",
    "            - price(100.0, 0.1): S == 100.0 and tau == 0.1\n",
    "            - price(S=100.0, tau=0.1)\n",
    "            - price([100.0, ..., 120.0], 0.1): S == [100.0, ..., 120.0] and tau == 0.1\n",
    "            - price(S=[100.0, ..., 120.0], tau=0.1)\n",
    "        \"\"\"\n",
    "                       \n",
    "        # underlying value and time-to-maturity\n",
    "        S, tau = self.parse_S_tau_parameters(*args, **kwargs)\n",
    "               \n",
    "        # call case\n",
    "        if self.get_type() == 'call':\n",
    "            return np.array([self.__call_price(s, tau) for s in S]) if isinstance(S, Iterable) else self.__call_price(S, tau)\n",
    "        # put case\n",
    "        else:\n",
    "            return np.array([self.__put_price(s, tau) for s in S]) if isinstance(S, Iterable) else self.__put_price(S, tau)\n",
    "          \n",
    "    def __call_price(self, S, tau):\n",
    "        \n",
    "        if S == 0: # this is to avoid log(0) issues\n",
    "            return 0.0\n",
    "        elif tau == 0.0: # this is to avoid 0/0 issues\n",
    "            return self.__call_payoff(S)\n",
    "        else:\n",
    "            K     = self.get_K()\n",
    "            r     = self.get_r()\n",
    "            sigma = self.get_sigma()\n",
    "\n",
    "            d1 = (np.log(S/K) + (r + 0.5 * sigma ** 2) * tau) / (sigma * np.sqrt(tau))\n",
    "            d2 = d1 - sigma * np.sqrt(tau)\n",
    "\n",
    "            price = S * stats.norm.cdf(d1, 0.0, 1.0) - K * np.exp(-r * tau) * stats.norm.cdf(d2, 0.0, 1.0)\n",
    "\n",
    "            return price\n",
    "    \n",
    "    def __put_price(self, S, tau):\n",
    "        \"\"\" Put price from Put-Call parity relation: Call + Ke^{-r*tau} = Put + S\"\"\"\n",
    "        return self.__call_price(S, tau) + self.get_K() * np.exp(- self.get_r() * tau) - S     "
   ]
  },
  {
   "cell_type": "code",
   "execution_count": 137,
   "metadata": {},
   "outputs": [],
   "source": [
    "class DigitalOption(EuropeanOption):\n",
    "    \"\"\"\n",
    "    DigitalOption class implementing payoff and pricing of digital call and put options.\n",
    "    Put price is calculated using put-call parity\n",
    "    \n",
    "    Attributes:\n",
    "    -----------\n",
    "        mkt_env (MarketEnvironment): Instance of MarketEnvironment class\n",
    "        Q (float):                   cash amount\n",
    "        type (str):                  From 'type' attribute of EuropeanOption base class.\n",
    "        S_t (float):                 'S' attribute of mkt_env.\n",
    "        K (float):                   From 'K' attribute of EuropeanOption base class.\n",
    "        t (str; dt.datetime):        't' attribute of mkt_env.\n",
    "        T (str; dt.datetime):        From 'T' attribute of EuropeanOption base class.\n",
    "        tau (float):                 time to maturity in years, computed as tau=T-t by time_to_maturity() method\n",
    "        r (float):                   'r' attribute of mkt_env.\n",
    "        sigma (float):               'sigma' attribute of mkt_env.\n",
    "    \n",
    "    Public Methods:\n",
    "    --------   \n",
    "    \n",
    "        payoff: float\n",
    "            Computes the payoff of the option and returns it\n",
    "\n",
    "        price_upper_limit: float \n",
    "            Returns the upper limit for a vanilla option price.\n",
    "\n",
    "        price_lower_limit: float \n",
    "            Returns the lower limit for a vanilla option price.\n",
    "            \n",
    "        price: float\n",
    "            Computes the exact price of the option and returns it, using call_price() or put_price()\n",
    "\n",
    "    Usage: \n",
    "    --------   \n",
    "        - default: DigitalOption(mkt_env) is equivalent to \n",
    "                   DigitalOption(mkt_env, cash_amount=1.0, option_type='call', K=100.0, T=\"31-12-2020\")\n",
    "\n",
    "        - general: DigitalOption(mkt_env, cash_amount=Float, option_type='call' or 'put' String, K=Float, T=\"DD-MM-YYYY\" String)\n",
    "\n",
    "    where: mkt_env is a MarketEnvironment instance.\n",
    "    \"\"\"\n",
    "\n",
    "    # initializer with optional *args and **kwargs parameters and default cash_amount\n",
    "    # default keyword arguments (like cash_amount here) must go after args list argument in function def\n",
    "    def __init__(self, *args, cash_amount=1.0, **kwargs):  \n",
    "        \n",
    "        # calling the EuropeanOption initializer\n",
    "        super(DigitalOption, self).__init__(*args, **kwargs)\n",
    "        \n",
    "        # amount of cash in case of payment\n",
    "        self.__Q = cash_amount    \n",
    "        \n",
    "        # info strings\n",
    "        self.__info = r\"CON {} (K={:.1f}, tau={:.2f}y, Q={:.1f})\".format(self.get_type(), self.get_K(), self.get_tau(), self.get_Q())\n",
    "        self.__mkt_info = r\"[S_t={:.1f}, r={:.1f}%, sigma={:.1f}%]\".format(self.get_S(), self.get_r()*100, self.get_sigma()*100)\n",
    "        \n",
    "        # initial price of the option\n",
    "        self.__initial_price = self.price()\n",
    "\n",
    "        # informations dictionary\n",
    "        self.__docstring_dict = {\n",
    "            'call':{\n",
    "                'price_upper_limit': r\"Upper limit: $Q e^{-r \\tau}$\",\n",
    "                'payoff':            r\"Payoff: $Q$ $I(S > K)$\",\n",
    "                'price_lower_limit': r\"Lower limit: $0$\"\n",
    "            },\n",
    "            'put': {\n",
    "                'price_upper_limit': r\"Upper limit: $Q e^{-r \\tau}$\",\n",
    "                'payoff':            r\"Payoff: $Q$ $I(S \\leq K)$\",\n",
    "                'price_lower_limit': r\"Lower limit: $0$\"}\n",
    "        }        \n",
    "                \n",
    "    def __repr__(self):\n",
    "        return r\"DigitalOption('{}', cash={:.1f}, S_t={:.1f}, K={:.1f}, t={}, T={}, tau={:.2f}y, r={:.1f}%, sigma={:.1f}%)\".\\\n",
    "                format(self.get_type(), self.get_Q(), self.get_S(), self.get_K(), self.get_t().strftime(\"%d-%m-%Y\"), \n",
    "                       self.get_T().strftime(\"%d-%m-%Y\"), self.get_tau(), self.get_r()*100, self.get_sigma()*100)\n",
    "    \n",
    "    # getters\n",
    "    def get_info(self):\n",
    "        return self.__info\n",
    "    \n",
    "    def get_mkt_info(self):\n",
    "        return self.__mkt_info\n",
    "    \n",
    "    def get_Q(self):\n",
    "        return self.__Q\n",
    "    \n",
    "    def get_initial_price(self):\n",
    "        return self.__initial_price\n",
    "    \n",
    "    # docstring getter\n",
    "    def get_docstring(self, label):\n",
    "        return self.__docstring_dict[self.get_type()][label] \n",
    "    \n",
    "    # setters\n",
    "    def set_Q(self, cash_amount):\n",
    "        self.__Q = cash_amount\n",
    "    \n",
    "    # payoff calculation - with optional *args and **kwargs parameters\n",
    "    def payoff(self, *args, **kwargs):\n",
    "        \"\"\"\n",
    "        Can be called as:\n",
    "            - payoff(): uses .get_S() \n",
    "            - payoff(100.0): S == 100.0\n",
    "            - payoff(S=100.0)\n",
    "            - payoff([100.0, ..., 120.0]): S == [100.0, ..., 120.0] \n",
    "            - payoff(S=[100.0, ..., 120.0])\n",
    "        \"\"\"\n",
    "        \n",
    "        # underlying value\n",
    "        S, _ = self.parse_S_tau_parameters(*args, **kwargs)\n",
    "        \n",
    "        # call case\n",
    "        if self.get_type() == 'call':\n",
    "            return self.__call_payoff(S)\n",
    "        # put case\n",
    "        else:\n",
    "            return self.__put_payoff(S)\n",
    "\n",
    "    def __call_payoff(self, S):\n",
    "        if isinstance(S, Iterable):\n",
    "            return np.array([self.get_Q() * int(s > self.get_K()) for s in S])\n",
    "        else:\n",
    "            return self.get_Q() * int(S > self.get_K())\n",
    "\n",
    "    def __put_payoff(self, S):\n",
    "        if isinstance(S, Iterable):\n",
    "            return np.array([self.get_Q() * int(s <= self.get_K()) for s in S])\n",
    "        else:\n",
    "            return self.get_Q() * int(S <= self.get_K())\n",
    "        \n",
    "    # upper price limit - with optional *args and **kwargs parameters\n",
    "    def price_upper_limit(self, *args, **kwargs):\n",
    "        \"\"\"\n",
    "        Can be called as:\n",
    "            - price_upper_limit(): uses .get_S() and .get_tau()\n",
    "            - price_upper_limit(100.0): S == 100.0\n",
    "            - price_upper_limit(100.0, 0.1): S == 100.0 and tau == 0.1\n",
    "            - price_upper_limit(S=100.0, tau=0.1)\n",
    "            - price_upper_limit([100.0, ..., 120.0], 0.1): S == [100.0, ..., 120.0] and tau == 0.1\n",
    "            - price_upper_limit(S=[100.0, ..., 120.0], tau=0.1)\n",
    "        \"\"\"\n",
    "\n",
    "        # underlying value and time-to-maturity\n",
    "        S, tau = self.parse_S_tau_parameters(*args, **kwargs)\n",
    "            \n",
    "        # the same for call and put\n",
    "        return self.__price_upper_limit(S, tau)\n",
    " \n",
    "    def __price_upper_limit(self, S, tau):\n",
    "        if isinstance(S, Iterable):\n",
    "            return np.repeat(self.get_Q()*np.exp(-self.get_r() * tau), repeats=len(S))\n",
    "        else:\n",
    "            return self.get_Q()*np.exp(-self.get_r() * tau)\n",
    "                                       \n",
    "    # lower price limit - with optional *args and **kwargs parameters\n",
    "    def price_lower_limit(self, *args, **kwargs):\n",
    "        \"\"\"\n",
    "        Can be called as:\n",
    "            - price_lower_limit(): uses .get_S() \n",
    "            - price_lower_limit(100.0): S == 100.0\n",
    "            - price_lower_limit(S=100.0)\n",
    "            - price_lower_limit([100.0, ..., 120.0]): S == [100.0, ..., 120.0] \n",
    "            - price_lower_limit(S=[100.0, ..., 120.0])\n",
    "        \"\"\"\n",
    "\n",
    "        # underlying value\n",
    "        S, _ = self.parse_S_tau_parameters(*args, **kwargs)\n",
    "            \n",
    "        # call case\n",
    "        if self.get_type() == 'call':\n",
    "            return np.repeat(0.0, repeats=len(S)) if isinstance(S, Iterable) else 0.0\n",
    "        # put case\n",
    "        else:\n",
    "            return np.repeat(0.0, repeats=len(S)) if isinstance(S, Iterable) else 0.0\n",
    "        \n",
    "    # price calculation - with optional *args and **kwargs parameters\n",
    "    def price(self, *args, **kwargs):\n",
    "        \"\"\"\n",
    "        Can be called as:\n",
    "            - price(): uses .get_S() and .get_tau()\n",
    "            - price(100.0): S == 100.0\n",
    "            - price(100.0, 0.1): S == 100.0 and tau == 0.1\n",
    "            - price(S=100.0, tau=0.1)\n",
    "            - price([100.0, ..., 120.0], 0.1): S == [100.0, ..., 120.0] and tau == 0.1\n",
    "            - price(S=[100.0, ..., 120.0], tau=0.1)\n",
    "        \"\"\"\n",
    "                       \n",
    "        # underlying value and time-to-maturity\n",
    "        S, tau = self.parse_S_tau_parameters(*args, **kwargs)\n",
    "            \n",
    "        # call case\n",
    "        if self.get_type() == 'call':\n",
    "            return np.array([self.__call_price(s, tau) for s in S]) if isinstance(S, Iterable) else self.__call_price(S, tau)\n",
    "        # put case\n",
    "        else:\n",
    "            return np.array([self.__put_price(s, tau) for s in S]) if isinstance(S, Iterable) else self.__put_price(S, tau)\n",
    "          \n",
    "    def __call_price(self, S, tau):\n",
    "                \n",
    "        if S == 0: # this is to avoid log(0) issues\n",
    "            return 0.0\n",
    "        elif tau == 0.0: # this is to avoid 0/0 issues\n",
    "            return self.__call_payoff(S)\n",
    "        else:\n",
    "            Q     = self.get_Q()\n",
    "            K     = self.get_K()\n",
    "            r     = self.get_r()\n",
    "            sigma = self.get_sigma()\n",
    "\n",
    "            d1 = (np.log(S/K) + (r + 0.5 * sigma ** 2) * tau) / (sigma * np.sqrt(tau))\n",
    "            d2 = d1 - sigma * np.sqrt(tau)\n",
    "\n",
    "            price = Q * np.exp(-r * tau) * stats.norm.cdf(d2, 0.0, 1.0)\n",
    "\n",
    "            return price\n",
    "    \n",
    "    def __put_price(self, S, tau):\n",
    "        \"\"\" Put price from Put-Call parity relation: CON_Call + CON_Put = Qe^{-r*tau}\"\"\"\n",
    "        return self.get_Q() * np.exp(- self.get_r() * tau) - self.__call_price(S, tau)        "
   ]
  },
  {
   "cell_type": "code",
   "execution_count": 138,
   "metadata": {},
   "outputs": [
    {
     "name": "stdout",
     "output_type": "stream",
     "text": [
      "Initializing the EuropeanOption!\n"
     ]
    },
    {
     "data": {
      "text/plain": [
       "PlainVanillaOption('call', S_t=90.0, K=100.0, t=19-04-2020, T=31-12-2020, tau=0.70y, r=5.0%, sigma=20.0%)"
      ]
     },
     "execution_count": 138,
     "metadata": {},
     "output_type": "execute_result"
    }
   ],
   "source": [
    "Vanilla_Call = PlainVanillaOption(market_env)\n",
    "Vanilla_Call"
   ]
  },
  {
   "cell_type": "code",
   "execution_count": 139,
   "metadata": {},
   "outputs": [
    {
     "data": {
      "text/plain": [
       "3.487402470943657"
      ]
     },
     "execution_count": 139,
     "metadata": {},
     "output_type": "execute_result"
    }
   ],
   "source": [
    "Vanilla_Call.price()"
   ]
  },
  {
   "cell_type": "code",
   "execution_count": 140,
   "metadata": {},
   "outputs": [
    {
     "data": {
      "text/plain": [
       "0.0"
      ]
     },
     "execution_count": 140,
     "metadata": {},
     "output_type": "execute_result"
    }
   ],
   "source": [
    "Vanilla_Call.payoff()"
   ]
  },
  {
   "cell_type": "code",
   "execution_count": 141,
   "metadata": {},
   "outputs": [
    {
     "data": {
      "text/plain": [
       "0.0"
      ]
     },
     "execution_count": 141,
     "metadata": {},
     "output_type": "execute_result"
    }
   ],
   "source": [
    "Vanilla_Call.PnL()"
   ]
  },
  {
   "cell_type": "code",
   "execution_count": 142,
   "metadata": {},
   "outputs": [
    {
     "data": {
      "text/plain": [
       "-3.487402470943657"
      ]
     },
     "execution_count": 142,
     "metadata": {},
     "output_type": "execute_result"
    }
   ],
   "source": [
    "Vanilla_Call.PnL(tau=0)"
   ]
  },
  {
   "cell_type": "code",
   "execution_count": 143,
   "metadata": {},
   "outputs": [
    {
     "data": {
      "text/plain": [
       "100.0"
      ]
     },
     "execution_count": 143,
     "metadata": {},
     "output_type": "execute_result"
    }
   ],
   "source": [
    "Vanilla_Call.get_K()"
   ]
  },
  {
   "cell_type": "code",
   "execution_count": 144,
   "metadata": {},
   "outputs": [
    {
     "data": {
      "text/plain": [
       "6.512597529056343"
      ]
     },
     "execution_count": 144,
     "metadata": {},
     "output_type": "execute_result"
    }
   ],
   "source": [
    "Vanilla_Call.PnL(S=110, tau=0)"
   ]
  },
  {
   "cell_type": "markdown",
   "metadata": {},
   "source": [
    "`getattr` "
   ]
  },
  {
   "cell_type": "code",
   "execution_count": 145,
   "metadata": {},
   "outputs": [
    {
     "data": {
      "text/plain": [
       "3.487402470943657"
      ]
     },
     "execution_count": 145,
     "metadata": {},
     "output_type": "execute_result"
    }
   ],
   "source": [
    "getattr(Vanilla_Call, 'price')()"
   ]
  },
  {
   "cell_type": "code",
   "execution_count": 146,
   "metadata": {},
   "outputs": [
    {
     "data": {
      "text/plain": [
       "\"<bound method EuropeanOption.PnL of PlainVanillaOption('call', S_t=90.0, K=100.0, t=19-04-2020, T=31-12-2020, tau=0.70y, r=5.0%, sigma=20.0%)>\""
      ]
     },
     "execution_count": 146,
     "metadata": {},
     "output_type": "execute_result"
    }
   ],
   "source": [
    "str(getattr(Vanilla_Call, 'PnL'))"
   ]
  },
  {
   "cell_type": "code",
   "execution_count": 147,
   "metadata": {},
   "outputs": [
    {
     "data": {
      "text/plain": [
       "0.0"
      ]
     },
     "execution_count": 147,
     "metadata": {},
     "output_type": "execute_result"
    }
   ],
   "source": [
    "getattr(Vanilla_Call, 'PnL')()"
   ]
  },
  {
   "cell_type": "code",
   "execution_count": 148,
   "metadata": {},
   "outputs": [],
   "source": [
    "class OptionPlotter:\n",
    "    \n",
    "    def __init__(self, FinancialInstrument):\n",
    "\n",
    "        # parse informations from FinancialInstrument\n",
    "        self.fin_inst = FinancialInstrument\n",
    "        self.__title_label = self.fin_inst.get_info() + \"\\n\" + \"Market: \" + self.fin_inst.get_mkt_info()\n",
    "\n",
    "        # define x-axis \n",
    "        self.set_x_axis(self.fin_inst.get_K())\n",
    "\n",
    "        # define time(s)-to-maturity\n",
    "        self.set_tau(self.fin_inst.get_tau())\n",
    "        \n",
    "    # getters\n",
    "    def get_x_axis(self):\n",
    "        return self.__x_axis\n",
    "\n",
    "    def get_tau(self):\n",
    "        return self.__tau\n",
    "\n",
    "    def get_title(self):\n",
    "        return self.__title_label\n",
    "    \n",
    "    # setters\n",
    "    def set_x_axis(self, x):\n",
    "        \n",
    "        if isinstance(x, Iterable):\n",
    "            self.__x_axis = x\n",
    "        else:\n",
    "            x_min = max(x-20, 0.0)\n",
    "            x_max = x+20\n",
    "            \n",
    "            self.__x_axis = np.linspace(x_min, x_max, 100)\n",
    "    \n",
    "    def set_tau(self, tau):\n",
    "        if isinstance(tau, Iterable) and len(tau) > 1:\n",
    "            # sort and take the reversed array\n",
    "            self.__tau = np.sort(tau)[::-1]\n",
    "        elif isinstance(tau, Iterable) and len(tau) == 1:\n",
    "            self.__tau = tau[0]\n",
    "        else:\n",
    "            self.__tau = tau\n",
    "                    \n",
    "    def plot(self, metrics='price', *args, **kwargs):\n",
    "        \n",
    "        # parse optional parameters\n",
    "        if len(args) > 0:\n",
    "            self.set_x_axis(args[0])\n",
    "        elif 'S' in kwargs:\n",
    "            self.set_x_axis(kwargs['S'])\n",
    "            \n",
    "        if len(args) > 1:\n",
    "            self.set_tau(args[1])\n",
    "        elif 'tau' in kwargs:\n",
    "            self.set_tau(kwargs['tau'])\n",
    "            \n",
    "        # get x-axis and, possibly, multi-tau\n",
    "        x_axis = self.get_x_axis()\n",
    "        tau = self.get_tau()\n",
    "        \n",
    "        if isinstance(tau, Iterable):\n",
    "            self.__plot_multi_tau(x_axis, tau, plot_metrics)\n",
    "        else:\n",
    "            plot_limits = args[2] if len(args) > 2 else kwargs['plot_limits'] if 'plot_limits' in kwargs else False\n",
    "            self.__plot_single_tau(x_axis, tau, plot_limits, plot_metrics)\n",
    "            \n",
    "    def __plot_multi_tau(self, S, multi_tau, plot_metrics):\n",
    "        \"\"\"\n",
    "        Plot FinancialInstrument values against underlying value(s), possibly at multiple times-to-maturity.\n",
    "        \"\"\"\n",
    "        \n",
    "        plt.rcParams[\"axes.prop_cycle\"] = plt.cycler(\"color\", plt.cm.Blues(np.linspace(0,1,len(multi_tau))))\n",
    "\n",
    "        # define the figure\n",
    "        fig, ax = plt.subplots(figsize=(10,6))\n",
    "\n",
    "        # plot the price for different underlying values, one line for each different time to maturity tau\n",
    "        for tau in multi_tau:\n",
    "\n",
    "            ax.plot(S, getattr(self.fin_inst, plot_metrics)(S, tau), '-', lw=1.5, label=r\"$\\tau={:.2f}y$\".format(tau))\n",
    "\n",
    "        # blue dot at original underlying level for reference, one dot for each different time to maturity tau\n",
    "        for tau in multi_tau:\n",
    "            S_t = self.fin_inst.get_S()\n",
    "            ax.plot(S_t, getattr(self.fin_inst, plot_metrics)(S_t, tau), '.', ms=10, \n",
    "                    label=r\"$\\tau={:.2f}y$ at $S={:.1f}$\".format(tau, S_t))\n",
    "            \n",
    "        # plot the red payoff line for different underlying values\n",
    "        if plot_metrics == 'PnL':\n",
    "            ax.plot(S, self.fin_inst.PnL(S, tau=0.0), 'r-',  lw=1.5, label=self.fin_inst.get_docstring('payoff') + r\" (net of initial price)\")\n",
    "        else:\n",
    "            ax.plot(S, self.fin_inst.payoff(S), 'r-',  lw=1.5, label=self.fin_inst.get_docstring('payoff'))\n",
    "\n",
    "        # plot a dot to highlight the strike position and a reference zero line\n",
    "        ax.plot(self.fin_inst.get_K(), 0, 'k.', ms=15, label=\"Strike $K$\")\n",
    "        ax.plot(S, np.zeros_like(S), 'k--', lw=1.5)\n",
    "        \n",
    "        # set axis labels \n",
    "        ax.set_xlabel(r\"Underlying Value at different times-to-maturity $\\tau$\", fontsize=12)\n",
    "        ax.set_ylabel('Black-Scholes {}'.format(plot_metrics), fontsize=12) \n",
    "\n",
    "        # set title\n",
    "        ax.set_title(self.get_title(), fontsize=12) \n",
    "\n",
    "        # add the legend ('best' loc parameters places the legend in the best position automatically)\n",
    "        ax.legend(loc='best', ncol=2)\n",
    "\n",
    "        # add a gride to ease visualization\n",
    "        plt.grid(True)\n",
    "\n",
    "        # show the plot\n",
    "        fig.tight_layout()\n",
    "        plt.show()\n",
    "    \n",
    "    def __plot_single_tau(self, S, tau, plot_limits, plot_metrics):\n",
    "        \"\"\"\n",
    "        Plot FinancialInstrument values against underlying value(s) at fixed time-to-maturity. Optionally, it plots theoretical\n",
    "        upper and lower bounds of the price.\n",
    "        \"\"\"\n",
    "\n",
    "        # define the figure\n",
    "        fig, ax = plt.subplots(figsize=(10,6))\n",
    "        \n",
    "        # plot the price for different underlying values\n",
    "        if tau > 0:\n",
    "            ax.plot(S, getattr(self.fin_inst, plot_metrics)(S, tau), 'b-', lw=1.5, label=plot_metrics)\n",
    "        \n",
    "        # blue dot at original underlying level for reference\n",
    "        S_t = self.fin_inst.get_S()\n",
    "        ax.plot(S_t, getattr(self.fin_inst, plot_metrics)(S_t, tau), 'b.', ms=15, \n",
    "                label=plot_metrics + r\" at $S={:.1f}$\".format(S_t))\n",
    "        \n",
    "        if plot_limits==True:\n",
    "            # plot the upper limit, the price and the lower limit for different underlying values\n",
    "            ax.plot(S, self.fin_inst.price_upper_limit(S, tau), 'k-.', lw=1.5, label=self.fin_inst.get_docstring('price_upper_limit'))\n",
    "            ax.plot(S, self.fin_inst.price_lower_limit(S, tau), 'k--', lw=1.5, label=self.fin_inst.get_docstring('price_lower_limit'))\n",
    "\n",
    "        # plot the red payoff line for different underlying values\n",
    "        if plot_metrics == 'PnL':\n",
    "            ax.plot(S, self.fin_inst.PnL(S, tau=0.0), 'r-',  lw=1.5, label=self.fin_inst.get_docstring('payoff') + r\" (net of initial price)\")\n",
    "        else:\n",
    "            ax.plot(S, self.fin_inst.payoff(S), 'r-',  lw=1.5, label=self.fin_inst.get_docstring('payoff'))\n",
    "\n",
    "        # plot a dot to highlight the strike position and a reference zero line\n",
    "        ax.plot(self.fin_inst.get_K(), 0, 'k.', ms=15, label=\"Strike $K$\")\n",
    "        ax.plot(S, np.zeros_like(S), 'k--', lw=1.5)\n",
    "\n",
    "        # set axis labels \n",
    "        ax.set_xlabel(r\"Underlying Value at time-to-maturity $\\tau={:.2f}y$\".format(tau), fontsize=12) \n",
    "        ax.set_ylabel('Black-Scholes {}'.format(plot_metrics), fontsize=12) \n",
    "\n",
    "        # set title\n",
    "        ax.set_title(self.get_title(), fontsize=12) \n",
    "\n",
    "        # add the legend ('best' loc parameters places the legend in the best position automatically)\n",
    "        ax.legend(loc='best', ncol=1)\n",
    "\n",
    "        # add a gride to ease visualization\n",
    "        plt.grid(True)\n",
    "\n",
    "        # show the plot\n",
    "        fig.tight_layout()\n",
    "        plt.show()"
   ]
  },
  {
   "cell_type": "code",
   "execution_count": 149,
   "metadata": {},
   "outputs": [
    {
     "data": {
      "text/plain": [
       "MarketEnvironment(t=19-04-2020, r=5.0%, S_t=90.0, sigma=20.0%)"
      ]
     },
     "execution_count": 149,
     "metadata": {},
     "output_type": "execute_result"
    }
   ],
   "source": [
    "market_env"
   ]
  },
  {
   "cell_type": "code",
   "execution_count": 150,
   "metadata": {},
   "outputs": [
    {
     "data": {
      "text/plain": [
       "PlainVanillaOption('call', S_t=90.0, K=100.0, t=19-04-2020, T=31-12-2020, tau=0.70y, r=5.0%, sigma=20.0%)"
      ]
     },
     "execution_count": 150,
     "metadata": {},
     "output_type": "execute_result"
    }
   ],
   "source": [
    "Vanilla_Call"
   ]
  },
  {
   "cell_type": "code",
   "execution_count": 151,
   "metadata": {},
   "outputs": [],
   "source": [
    "option_plotter = OptionPlotter(Vanilla_Call)"
   ]
  },
  {
   "cell_type": "code",
   "execution_count": 152,
   "metadata": {},
   "outputs": [
    {
     "ename": "NameError",
     "evalue": "name 'plot_metrics' is not defined",
     "output_type": "error",
     "traceback": [
      "\u001b[1;31m---------------------------------------------------------------------------\u001b[0m",
      "\u001b[1;31mNameError\u001b[0m                                 Traceback (most recent call last)",
      "\u001b[1;32m<ipython-input-152-24592ff05b3e>\u001b[0m in \u001b[0;36m<module>\u001b[1;34m\u001b[0m\n\u001b[1;32m----> 1\u001b[1;33m \u001b[0moption_plotter\u001b[0m\u001b[1;33m.\u001b[0m\u001b[0mplot\u001b[0m\u001b[1;33m(\u001b[0m\u001b[1;33m)\u001b[0m\u001b[1;33m\u001b[0m\u001b[1;33m\u001b[0m\u001b[0m\n\u001b[0m",
      "\u001b[1;32m<ipython-input-148-d54f237d401d>\u001b[0m in \u001b[0;36mplot\u001b[1;34m(self, metrics, *args, **kwargs)\u001b[0m\n\u001b[0;32m     64\u001b[0m         \u001b[1;32melse\u001b[0m\u001b[1;33m:\u001b[0m\u001b[1;33m\u001b[0m\u001b[1;33m\u001b[0m\u001b[0m\n\u001b[0;32m     65\u001b[0m             \u001b[0mplot_limits\u001b[0m \u001b[1;33m=\u001b[0m \u001b[0margs\u001b[0m\u001b[1;33m[\u001b[0m\u001b[1;36m2\u001b[0m\u001b[1;33m]\u001b[0m \u001b[1;32mif\u001b[0m \u001b[0mlen\u001b[0m\u001b[1;33m(\u001b[0m\u001b[0margs\u001b[0m\u001b[1;33m)\u001b[0m \u001b[1;33m>\u001b[0m \u001b[1;36m2\u001b[0m \u001b[1;32melse\u001b[0m \u001b[0mkwargs\u001b[0m\u001b[1;33m[\u001b[0m\u001b[1;34m'plot_limits'\u001b[0m\u001b[1;33m]\u001b[0m \u001b[1;32mif\u001b[0m \u001b[1;34m'plot_limits'\u001b[0m \u001b[1;32min\u001b[0m \u001b[0mkwargs\u001b[0m \u001b[1;32melse\u001b[0m \u001b[1;32mFalse\u001b[0m\u001b[1;33m\u001b[0m\u001b[1;33m\u001b[0m\u001b[0m\n\u001b[1;32m---> 66\u001b[1;33m             \u001b[0mself\u001b[0m\u001b[1;33m.\u001b[0m\u001b[0m__plot_single_tau\u001b[0m\u001b[1;33m(\u001b[0m\u001b[0mx_axis\u001b[0m\u001b[1;33m,\u001b[0m \u001b[0mtau\u001b[0m\u001b[1;33m,\u001b[0m \u001b[0mplot_limits\u001b[0m\u001b[1;33m,\u001b[0m \u001b[0mplot_metrics\u001b[0m\u001b[1;33m)\u001b[0m\u001b[1;33m\u001b[0m\u001b[1;33m\u001b[0m\u001b[0m\n\u001b[0m\u001b[0;32m     67\u001b[0m \u001b[1;33m\u001b[0m\u001b[0m\n\u001b[0;32m     68\u001b[0m     \u001b[1;32mdef\u001b[0m \u001b[0m__plot_multi_tau\u001b[0m\u001b[1;33m(\u001b[0m\u001b[0mself\u001b[0m\u001b[1;33m,\u001b[0m \u001b[0mS\u001b[0m\u001b[1;33m,\u001b[0m \u001b[0mmulti_tau\u001b[0m\u001b[1;33m,\u001b[0m \u001b[0mplot_metrics\u001b[0m\u001b[1;33m)\u001b[0m\u001b[1;33m:\u001b[0m\u001b[1;33m\u001b[0m\u001b[1;33m\u001b[0m\u001b[0m\n",
      "\u001b[1;31mNameError\u001b[0m: name 'plot_metrics' is not defined"
     ]
    }
   ],
   "source": [
    "option_plotter.plot()"
   ]
  },
  {
   "cell_type": "code",
   "execution_count": null,
   "metadata": {},
   "outputs": [],
   "source": [
    "option_plotter.plot(plot_metrics='PnL')"
   ]
  },
  {
   "cell_type": "code",
   "execution_count": null,
   "metadata": {
    "scrolled": false
   },
   "outputs": [],
   "source": [
    "option_plotter.plot(tau=[0.05, 0.1, 0.25, 0.5, 0.75, 1.0])"
   ]
  },
  {
   "cell_type": "code",
   "execution_count": null,
   "metadata": {
    "scrolled": false
   },
   "outputs": [],
   "source": [
    "option_plotter.plot(tau=[0.05, 0.1, 0.25, 0.5, 0.75, 1.0], plot_metrics='PnL')"
   ]
  },
  {
   "cell_type": "code",
   "execution_count": null,
   "metadata": {},
   "outputs": [],
   "source": [
    "option_plotter.plot(tau=0.0)"
   ]
  },
  {
   "cell_type": "code",
   "execution_count": null,
   "metadata": {
    "scrolled": false
   },
   "outputs": [],
   "source": [
    "option_plotter.plot(tau=0.0, plot_metrics='PnL')"
   ]
  },
  {
   "cell_type": "code",
   "execution_count": null,
   "metadata": {},
   "outputs": [],
   "source": [
    "CON_Call = DigitalOption(market_env)\n",
    "CON_Call"
   ]
  },
  {
   "cell_type": "code",
   "execution_count": null,
   "metadata": {},
   "outputs": [],
   "source": [
    "option_plotter = OptionPlotter(CON_Call)"
   ]
  },
  {
   "cell_type": "code",
   "execution_count": null,
   "metadata": {},
   "outputs": [],
   "source": [
    "option_plotter.plot()"
   ]
  },
  {
   "cell_type": "code",
   "execution_count": null,
   "metadata": {},
   "outputs": [],
   "source": [
    "option_plotter.plot(plot_metrics='PnL')"
   ]
  },
  {
   "cell_type": "code",
   "execution_count": null,
   "metadata": {
    "scrolled": false
   },
   "outputs": [],
   "source": [
    "option_plotter.plot(tau=[0.05, 0.1, 0.25, 0.5, 0.75, 1.0])"
   ]
  },
  {
   "cell_type": "code",
   "execution_count": null,
   "metadata": {},
   "outputs": [],
   "source": [
    "option_plotter.plot(tau=[0.05, 0.1, 0.25, 0.5, 0.7, 1.0], plot_metrics='PnL')"
   ]
  },
  {
   "cell_type": "code",
   "execution_count": null,
   "metadata": {
    "scrolled": false
   },
   "outputs": [],
   "source": [
    "option_plotter.plot(tau=0.0)"
   ]
  },
  {
   "cell_type": "code",
   "execution_count": null,
   "metadata": {
    "scrolled": false
   },
   "outputs": [],
   "source": [
    "option_plotter.plot(tau=0.0, plot_metrics='PnL')"
   ]
  },
  {
   "cell_type": "markdown",
   "metadata": {},
   "source": [
    "# Composition application: a `Portfolio()` class"
   ]
  },
  {
   "cell_type": "markdown",
   "metadata": {},
   "source": [
    "- OptionStrategy() single tau (sfruttare *args **kwargs)\n",
    "\n",
    "- riesci a fare plot multi-tau?"
   ]
  },
  {
   "cell_type": "markdown",
   "metadata": {},
   "source": [
    "Notice the use of `*args` `**kwargs` optional arguments in portfolio's analytics methods. We are letting the input parameters smoothly flow trough the portfolio interface and delegating to the payoff and price methods of the single instruments, the parsing operations or the parameters. This is analogous to what we have done in sub-class initialization"
   ]
  },
  {
   "cell_type": "code",
   "execution_count": null,
   "metadata": {},
   "outputs": [],
   "source": [
    "class Portfolio:\n",
    "    \n",
    "    def __init__(self, name=\"Dummy\"):\n",
    "        \n",
    "        # initialize an empty portfolio\n",
    "        self.__composition = []\n",
    "        \n",
    "        # initialize empty info strings\n",
    "        self.__info = \"{} Portfolio: \\n\".format(name)\n",
    "        self.__mkt_info = None\n",
    "        \n",
    "        # initialize underlying value, strikes and times-to-maturity attributes\n",
    "        self.__S = None\n",
    "        self.__K = np.array([])\n",
    "        self.__tau = np.array([])\n",
    "        \n",
    "    def __repr__(self):\n",
    "        return self.get_info()\n",
    "    \n",
    "    # getters\n",
    "    def get_info(self):\n",
    "        return self.__info\n",
    "    \n",
    "    def get_mkt_info(self):\n",
    "        return self.__mkt_info\n",
    "    \n",
    "    def get_K(self):\n",
    "        return self.__K\n",
    "    \n",
    "    def get_S(self):\n",
    "        return self.__S\n",
    "\n",
    "    def get_tau(self):\n",
    "        return self.__tau\n",
    "    \n",
    "    def get_composition(self):\n",
    "        return self.__composition\n",
    "    \n",
    "    # setters\n",
    "    def set_S(self, S):\n",
    "        self.__S = S\n",
    "    \n",
    "    # composition method\n",
    "    def add_instrument(self, FinancialInstrument, position):\n",
    "        \n",
    "        long_short = 'Long' if position > 0 else 'Short'\n",
    "        instrument_info = long_short + \" {} \".format(abs(position)) + FinancialInstrument.get_info()\n",
    "        \n",
    "        self.__composition.append({\"instrument\": FinancialInstrument,\n",
    "                                   \"position\":   position,\n",
    "                                   \"info\":       instrument_info})\n",
    "        \n",
    "        # update portfolio info strings\n",
    "        self.__update_info(FinancialInstrument, position)\n",
    "        \n",
    "        # update portfolio attributes\n",
    "        self.__update_S(FinancialInstrument)\n",
    "        self.__update_K(FinancialInstrument)\n",
    "        self.__update_tau(FinancialInstrument)\n",
    "    \n",
    "    # private method to update the info\n",
    "    def __update_info(self, fin_inst, pos):\n",
    "        self.__info += self.__composition[-1][\"info\"] + \"\\n\"\n",
    "        if self.__mkt_info is None:\n",
    "            self.__mkt_info = fin_inst.get_mkt_info()\n",
    "            \n",
    "    def __update_S(self, fin_inst):\n",
    "        if self.get_S() is None:\n",
    "            self.set_S(fin_inst.get_S())\n",
    "\n",
    "            \n",
    "    def __update_K(self, fin_inst):\n",
    "        # append new instrument strike\n",
    "        strikes = np.append(self.get_K(), fin_inst.get_K())\n",
    "        # filter only distinct strikes\n",
    "        self.__K = np.unique(strikes)\n",
    "\n",
    "    def __update_tau(self, fin_inst):\n",
    "        # append new instrument tau\n",
    "        times_to_maturity = np.append(self.get_tau(), fin_inst.get_tau())\n",
    "        # filter only distinct times-to-maturity\n",
    "        self.__tau = np.unique(times_to_maturity)\n",
    "                \n",
    "    # portfolio \"payoff\", that is expiration value\n",
    "    def payoff(self, *args, **kwargs):\n",
    "        \"\"\"\n",
    "        Returns the portfolio payoff as the scalar product (i.e. sum of elementwise products) \n",
    "        between single instrument payoffs and positions.\n",
    "        \n",
    "        As single instruments .payoff(), can be called with single/multiple 'S' and single 'tau'. \n",
    "        \"\"\"\n",
    "              \n",
    "        if self.get_composition(): \n",
    "\n",
    "            # single instrument payoffs and positions\n",
    "            payoffs = np.array([inst[\"instrument\"].payoff(*args, **kwargs) for inst in self.get_composition()])\n",
    "            positions = np.array([inst[\"position\"] for inst in self.get_composition()])\n",
    "            \n",
    "            return positions.dot(payoffs)\n",
    "            \n",
    "        else: # if portfolio is empty returns 0\n",
    "            \n",
    "            return 0.0  \n",
    "        \n",
    "    # portfolio value (called 'price' as for single options, to implement polymorphism)\n",
    "    def price(self, *args, **kwargs):\n",
    "        \"\"\"\n",
    "        Returns the portfolio value as the scalar product (i.e. sum of elementwise products) \n",
    "        between single instrument prices and positions.\n",
    "        \n",
    "        As single instruments .price(), can be called with single/multiple 'S' and single 'tau'. \n",
    "        \"\"\"\n",
    "        \n",
    "        if self.get_composition(): \n",
    "\n",
    "            # single instrument prices and positions\n",
    "            prices = np.array([inst[\"instrument\"].price(*args, **kwargs) for inst in self.get_composition()])\n",
    "            positions = np.array([inst[\"position\"] for inst in self.get_composition()])\n",
    "            \n",
    "            return positions.dot(prices)\n",
    "            \n",
    "        else: # if portfolio is empty returns 0\n",
    "            \n",
    "            return 0.0  \n",
    "        \n",
    "    # portfolio P&L\n",
    "    def PnL(self, *args, **kwargs):\n",
    "        \"\"\"\n",
    "        Returns the portfolio Profit & Loss as the scalar product (i.e. sum of elementwise products) \n",
    "        between single instrument P&Ls and positions.\n",
    "        \n",
    "        As single instruments .PnL(), can be called with single/multiple 'S' and single 'tau'. \n",
    "        \"\"\"\n",
    "                \n",
    "        if self.get_composition(): \n",
    "\n",
    "            # single instrument P&Ls and positions\n",
    "            pnls = np.array([inst[\"instrument\"].PnL(*args, **kwargs) for inst in self.get_composition()])\n",
    "            positions = np.array([inst[\"position\"] for inst in self.get_composition()])\n",
    "            \n",
    "            return positions.dot(pnls)\n",
    "            \n",
    "        else: # if portfolio is empty returns 0\n",
    "            \n",
    "            return 0.0  \n"
   ]
  },
  {
   "cell_type": "code",
   "execution_count": null,
   "metadata": {},
   "outputs": [],
   "source": [
    "Vanilla_Call = PlainVanillaOption(market_env)\n",
    "Vanilla_Call"
   ]
  },
  {
   "cell_type": "code",
   "execution_count": null,
   "metadata": {},
   "outputs": [],
   "source": [
    "dummy_ptf = Portfolio()\n",
    "dummy_ptf"
   ]
  },
  {
   "cell_type": "code",
   "execution_count": null,
   "metadata": {},
   "outputs": [],
   "source": [
    "dummy_ptf.add_instrument(Vanilla_Call, 1)"
   ]
  },
  {
   "cell_type": "code",
   "execution_count": null,
   "metadata": {},
   "outputs": [],
   "source": [
    "dummy_ptf"
   ]
  },
  {
   "cell_type": "code",
   "execution_count": null,
   "metadata": {},
   "outputs": [],
   "source": [
    "Vanilla_Call.get_S()"
   ]
  },
  {
   "cell_type": "code",
   "execution_count": null,
   "metadata": {},
   "outputs": [],
   "source": [
    "dummy_ptf.get_S()"
   ]
  },
  {
   "cell_type": "code",
   "execution_count": null,
   "metadata": {},
   "outputs": [],
   "source": [
    "Vanilla_Call.get_K()"
   ]
  },
  {
   "cell_type": "code",
   "execution_count": null,
   "metadata": {},
   "outputs": [],
   "source": [
    "dummy_ptf.get_K()"
   ]
  },
  {
   "cell_type": "code",
   "execution_count": null,
   "metadata": {},
   "outputs": [],
   "source": [
    "Vanilla_Call.get_tau()"
   ]
  },
  {
   "cell_type": "code",
   "execution_count": null,
   "metadata": {},
   "outputs": [],
   "source": [
    "dummy_ptf.get_tau()"
   ]
  },
  {
   "cell_type": "code",
   "execution_count": null,
   "metadata": {},
   "outputs": [],
   "source": [
    "Vanilla_Call.price()"
   ]
  },
  {
   "cell_type": "code",
   "execution_count": null,
   "metadata": {},
   "outputs": [],
   "source": [
    "dummy_ptf.price()"
   ]
  },
  {
   "cell_type": "markdown",
   "metadata": {},
   "source": [
    "Let's now add a short position on 5 plain-vanilla put option contracts to our portfolio"
   ]
  },
  {
   "cell_type": "code",
   "execution_count": null,
   "metadata": {},
   "outputs": [],
   "source": [
    "put_strike = Vanilla_Call.get_K() + 20"
   ]
  },
  {
   "cell_type": "code",
   "execution_count": null,
   "metadata": {},
   "outputs": [],
   "source": [
    "Vanilla_Put = PlainVanillaOption(market_env, option_type='put', K=put_strike)\n",
    "Vanilla_Put"
   ]
  },
  {
   "cell_type": "code",
   "execution_count": null,
   "metadata": {},
   "outputs": [],
   "source": [
    "dummy_ptf.add_instrument(Vanilla_Put, -5)"
   ]
  },
  {
   "cell_type": "code",
   "execution_count": null,
   "metadata": {},
   "outputs": [],
   "source": [
    "dummy_ptf"
   ]
  },
  {
   "cell_type": "code",
   "execution_count": null,
   "metadata": {},
   "outputs": [],
   "source": [
    "Vanilla_Put.get_S()"
   ]
  },
  {
   "cell_type": "code",
   "execution_count": null,
   "metadata": {},
   "outputs": [],
   "source": [
    "dummy_ptf.get_S()"
   ]
  },
  {
   "cell_type": "code",
   "execution_count": null,
   "metadata": {},
   "outputs": [],
   "source": [
    "Vanilla_Put.get_K()"
   ]
  },
  {
   "cell_type": "code",
   "execution_count": null,
   "metadata": {},
   "outputs": [],
   "source": [
    "dummy_ptf.get_K()"
   ]
  },
  {
   "cell_type": "code",
   "execution_count": null,
   "metadata": {},
   "outputs": [],
   "source": [
    "Vanilla_Put.get_tau()"
   ]
  },
  {
   "cell_type": "code",
   "execution_count": null,
   "metadata": {},
   "outputs": [],
   "source": [
    "dummy_ptf.get_tau()"
   ]
  },
  {
   "cell_type": "code",
   "execution_count": null,
   "metadata": {},
   "outputs": [],
   "source": [
    "dummy_ptf.payoff()"
   ]
  },
  {
   "cell_type": "code",
   "execution_count": null,
   "metadata": {},
   "outputs": [],
   "source": [
    "1 * Vanilla_Call.payoff() - 5 * Vanilla_Put.payoff() "
   ]
  },
  {
   "cell_type": "code",
   "execution_count": null,
   "metadata": {},
   "outputs": [],
   "source": [
    "dummy_ptf.price()"
   ]
  },
  {
   "cell_type": "code",
   "execution_count": null,
   "metadata": {},
   "outputs": [],
   "source": [
    "1 * Vanilla_Call.price() - 5 * Vanilla_Put.price() "
   ]
  },
  {
   "cell_type": "code",
   "execution_count": null,
   "metadata": {},
   "outputs": [],
   "source": [
    "dummy_ptf.PnL()"
   ]
  },
  {
   "cell_type": "code",
   "execution_count": null,
   "metadata": {},
   "outputs": [],
   "source": [
    "1 * Vanilla_Call.PnL() - 5 * Vanilla_Put.PnL() "
   ]
  },
  {
   "cell_type": "markdown",
   "metadata": {},
   "source": [
    "You can call with input parameters"
   ]
  },
  {
   "cell_type": "code",
   "execution_count": null,
   "metadata": {},
   "outputs": [],
   "source": [
    "S = Vanilla_Call.get_S()\n",
    "S_12 = [0.8*S, 1.2*S]\n",
    "S_12"
   ]
  },
  {
   "cell_type": "code",
   "execution_count": null,
   "metadata": {},
   "outputs": [],
   "source": [
    "tau_short = 0.01\n",
    "tau_short"
   ]
  },
  {
   "cell_type": "code",
   "execution_count": null,
   "metadata": {},
   "outputs": [],
   "source": [
    "dummy_ptf.PnL(S=S_12, tau=tau_short)"
   ]
  },
  {
   "cell_type": "code",
   "execution_count": null,
   "metadata": {},
   "outputs": [],
   "source": [
    "1 * Vanilla_Call.PnL(S=S_12, tau=tau_short) - 5 * Vanilla_Put.PnL(S=S_12, tau=tau_short) "
   ]
  },
  {
   "cell_type": "markdown",
   "metadata": {},
   "source": [
    "## 0. Association: a `Plotter()` class"
   ]
  },
  {
   "cell_type": "code",
   "execution_count": null,
   "metadata": {},
   "outputs": [],
   "source": [
    "class Plotter:\n",
    "    \"\"\"\n",
    "    Interface Plotter class\n",
    "    \"\"\"\n",
    "    \n",
    "    def __init__(self, FinancialObject):\n",
    "        \n",
    "        print(\"Calling the Plotter initializer!\")\n",
    "        \n",
    "        # parse informations from FinancialObject\n",
    "        self.fin_inst = FinancialObject\n",
    "        self.__title_label = self.fin_inst.get_info() + \"\\n\" + \"Market: \" + self.fin_inst.get_mkt_info()\n",
    "        \n",
    "        # define x-axis \n",
    "        self.set_x_axis(self.fin_inst.get_K())\n",
    "\n",
    "        # parse time(s)-to-maturity\n",
    "        self.set_tau(self.fin_inst.get_tau())\n",
    "        \n",
    "    # getters\n",
    "    def get_x_axis(self):\n",
    "        return self.__x_axis\n",
    "        \n",
    "    def get_tau(self):\n",
    "        return self.__tau\n",
    "\n",
    "    def get_title(self):\n",
    "        return self.__title_label\n",
    "            \n",
    "    # setter template for the x-axis \n",
    "    def set_x_axis(self, x):\n",
    "        \n",
    "        if isinstance(x, Iterable):\n",
    "            x_min = max(min(x)-20, 0.0)\n",
    "            x_max = max(x)+20\n",
    "        else:\n",
    "            x_min = max(x-20, 0.0)\n",
    "            x_max = x+20\n",
    "            \n",
    "        self.__x_axis = np.linspace(x_min, x_max, 100)\n",
    "        \n",
    "    def set_tau(self, tau):\n",
    "        if isinstance(tau, Iterable) and len(tau) > 1:\n",
    "            # sort and take the reversed array\n",
    "            self.__tau = np.sort(tau)[::-1]\n",
    "        elif isinstance(tau, Iterable) and len(tau) == 1:\n",
    "            self.__tau = tau[0]\n",
    "        else:\n",
    "            self.__tau = tau\n",
    "     \n",
    "    # template plot method\n",
    "    def plot(self):\n",
    "        raise NotImplementedError()"
   ]
  },
  {
   "cell_type": "code",
   "execution_count": null,
   "metadata": {},
   "outputs": [],
   "source": [
    "class OptionPlotter(Plotter):\n",
    "    \"\"\"\n",
    "    Plotter class for single options\n",
    "    \"\"\"\n",
    "    \n",
    "    def __init__(self, *args, **kwargs):\n",
    "        # calling the Plotter initializer\n",
    "        super(OptionPlotter, self).__init__(*args, **kwargs)\n",
    "                            \n",
    "    def plot(self, metrics='price', *args, **kwargs):\n",
    "        \n",
    "        # parse optional parameters\n",
    "        if len(args) > 0:\n",
    "            self.set_x_axis(args[0])\n",
    "        elif 'S' in kwargs:\n",
    "            self.set_x_axis(kwargs['S'])\n",
    "            \n",
    "        if len(args) > 1:\n",
    "            self.set_tau(args[1])\n",
    "        elif 'tau' in kwargs:\n",
    "            self.set_tau(kwargs['tau'])\n",
    "            \n",
    "        # get x-axis and, possibly, multi-tau\n",
    "        x_axis = self.get_x_axis()\n",
    "        tau = self.get_tau()\n",
    "        \n",
    "        if isinstance(tau, Iterable):\n",
    "            self.__plot_multi_tau(x_axis, tau, plot_metrics)\n",
    "        else:\n",
    "            plot_limits = args[2] if len(args) > 2 else kwargs['plot_limits'] if 'plot_limits' in kwargs else False\n",
    "            self.__plot_single_tau(x_axis, tau, plot_limits, plot_metrics)\n",
    "            \n",
    "    def __plot_multi_tau(self, S, multi_tau, plot_metrics):\n",
    "        \"\"\"\n",
    "        Plot FinancialInstrument values against underlying value(s), possibly at multiple times-to-maturity.\n",
    "        \"\"\"\n",
    "        \n",
    "        plt.rcParams[\"axes.prop_cycle\"] = plt.cycler(\"color\", plt.cm.Blues(np.linspace(0,1,len(multi_tau))))\n",
    "\n",
    "        # define the figure\n",
    "        fig, ax = plt.subplots(figsize=(10,6))\n",
    "\n",
    "        # plot the price for different underlying values, one line for each different time to maturity tau\n",
    "        for tau in multi_tau:\n",
    "            ax.plot(S, getattr(self.fin_inst, plot_metrics)(S, tau), '-', lw=1.5, label=r\"$\\tau={:.2f}y$\".format(tau))\n",
    "\n",
    "        # blue dot at original underlying level for reference, one dot for each different time to maturity tau\n",
    "        for tau in multi_tau:\n",
    "            S_t = self.fin_inst.get_S()\n",
    "            ax.plot(S_t, getattr(self.fin_inst, plot_metrics)(S_t, tau), '.', ms=10, \n",
    "                    label=r\"$\\tau={:.2f}y$ at $S={:.1f}$\".format(tau, S_t))\n",
    "            \n",
    "        # plot the red payoff line for different underlying values\n",
    "        if plot_metrics == 'PnL':\n",
    "            ax.plot(S, self.fin_inst.PnL(S, tau=0.0), 'r-',  lw=1.5, label=self.fin_inst.get_docstring('payoff') + r\" (net of initial price)\")\n",
    "        else:\n",
    "            ax.plot(S, self.fin_inst.payoff(S), 'r-',  lw=1.5, label=self.fin_inst.get_docstring('payoff'))\n",
    "\n",
    "        # plot a dot to highlight the strike position and a reference zero line\n",
    "        ax.plot(self.fin_inst.get_K(), 0, 'k.', ms=15, label=\"Strike $K$\")\n",
    "        ax.plot(S, np.zeros_like(S), 'k--', lw=1.5)\n",
    "        \n",
    "        # set axis labels \n",
    "        ax.set_xlabel(r\"Underlying Value at different times-to-maturity $\\tau$\", fontsize=12)\n",
    "        ax.set_ylabel('Black-Scholes {}'.format(plot_metrics), fontsize=12) \n",
    "\n",
    "        # set title\n",
    "        ax.set_title(self.get_title(), fontsize=12) \n",
    "\n",
    "        # add the legend ('best' loc parameters places the legend in the best position automatically)\n",
    "        ax.legend(loc='best', ncol=2)\n",
    "\n",
    "        # add a gride to ease visualization\n",
    "        plt.grid(True)\n",
    "\n",
    "        # show the plot\n",
    "        fig.tight_layout()\n",
    "        plt.show()\n",
    "    \n",
    "    def __plot_single_tau(self, S, tau, plot_limits, plot_metrics):\n",
    "        \"\"\"\n",
    "        Plot FinancialInstrument values against underlying value(s) at fixed time-to-maturity. Optionally, it plots theoretical\n",
    "        upper and lower bounds of the price.\n",
    "        \"\"\"\n",
    "\n",
    "        # define the figure\n",
    "        fig, ax = plt.subplots(figsize=(10,6))\n",
    "        \n",
    "        # plot the price for different underlying values\n",
    "        if tau > 0:\n",
    "            ax.plot(S, getattr(self.fin_inst, plot_metrics)(S, tau), 'b-', lw=1.5, label=plot_metrics)\n",
    "        \n",
    "        # blue dot at original underlying level for reference\n",
    "        S_t = self.fin_inst.get_S()\n",
    "        ax.plot(S_t, getattr(self.fin_inst, plot_metrics)(S_t, tau), 'b.', ms=15, \n",
    "                label=plot_metrics + r\" at $S={:.1f}$\".format(S_t))\n",
    "        \n",
    "        if plot_limits:\n",
    "            # plot the upper limit, the price and the lower limit for different underlying values\n",
    "            ax.plot(S, self.fin_inst.price_upper_limit(S, tau), 'k-.', lw=1.5, label=self.fin_inst.get_docstring('price_upper_limit'))\n",
    "            ax.plot(S, self.fin_inst.price_lower_limit(S, tau), 'k--', lw=1.5, label=self.fin_inst.get_docstring('price_lower_limit'))\n",
    "\n",
    "        # plot the red payoff line for different underlying values\n",
    "        if plot_metrics == 'PnL':\n",
    "            ax.plot(S, self.fin_inst.PnL(S, tau=0.0), 'r-',  lw=1.5, label=self.fin_inst.get_docstring('payoff') + r\" (net of initial price)\")\n",
    "        else:\n",
    "            ax.plot(S, self.fin_inst.payoff(S), 'r-',  lw=1.5, label=self.fin_inst.get_docstring('payoff'))\n",
    "\n",
    "        # plot a dot to highlight the strike position and a reference zero line\n",
    "        ax.plot(self.fin_inst.get_K(), 0, 'k.', ms=15, label=\"Strike $K$\")\n",
    "        ax.plot(S, np.zeros_like(S), 'k--', lw=1.5)\n",
    "\n",
    "        # set axis labels \n",
    "        ax.set_xlabel(r\"Underlying Value at time-to-maturity $\\tau={:.2f}y$\".format(tau), fontsize=12) \n",
    "        ax.set_ylabel('Black-Scholes {}'.format(plot_metrics), fontsize=12) \n",
    "\n",
    "        # set title\n",
    "        ax.set_title(self.get_title(), fontsize=12) \n",
    "\n",
    "        # add the legend ('best' loc parameters places the legend in the best position automatically)\n",
    "        ax.legend(loc='best', ncol=1)\n",
    "\n",
    "        # add a gride to ease visualization\n",
    "        plt.grid(True)\n",
    "\n",
    "        # show the plot\n",
    "        fig.tight_layout()\n",
    "        plt.show()"
   ]
  },
  {
   "cell_type": "code",
   "execution_count": null,
   "metadata": {},
   "outputs": [],
   "source": [
    "Vanilla_Call_plotter = OptionPlotter(Vanilla_Call)"
   ]
  },
  {
   "cell_type": "code",
   "execution_count": null,
   "metadata": {},
   "outputs": [],
   "source": [
    "Vanilla_Call_plotter.plot(plot_metrics='PnL')"
   ]
  },
  {
   "cell_type": "code",
   "execution_count": null,
   "metadata": {
    "scrolled": false
   },
   "outputs": [],
   "source": [
    "Vanilla_Call_plotter.plot(tau=[0.05, 0.1, 0.25, 0.5, 0.7, 1.0], plot_metrics='PnL')"
   ]
  },
  {
   "cell_type": "code",
   "execution_count": null,
   "metadata": {},
   "outputs": [],
   "source": [
    "class PortfolioPlotter(Plotter):\n",
    "    \"\"\"\n",
    "    Plotter class for portfolio of options\n",
    "    \"\"\"\n",
    "    \n",
    "    def __init__(self, *args, **kwargs):\n",
    "        # calling the Plotter initializer\n",
    "        super(PortfolioPlotter, self).__init__(*args, **kwargs)\n",
    "    \n",
    "    def plot(self, metrics='price', *args, **kwargs):\n",
    "        \n",
    "        # parse optional parameters\n",
    "        if len(args) > 0:\n",
    "            self.set_x_axis(args[0])\n",
    "        elif 'S' in kwargs:\n",
    "            self.set_x_axis(kwargs['S'])\n",
    "            \n",
    "        if len(args) > 1:\n",
    "            self.set_tau(args[1])\n",
    "        elif 'tau' in kwargs:\n",
    "            self.set_tau(kwargs['tau'])\n",
    "            \n",
    "        # get x-axis and, possibly, multi-tau\n",
    "        x_axis = self.get_x_axis()\n",
    "        tau = self.get_tau()\n",
    "        \n",
    "        if isinstance(tau, Iterable):\n",
    "            self.__plot_multi_tau(x_axis, tau, plot_metrics)\n",
    "        else:\n",
    "            plot_instrument_payoffs = args[2] if len(args) > 2 else kwargs['plot_instrument_payoffs'] if 'plot_instrument_payoffs' in kwargs else False\n",
    "            self.__plot_single_tau(x_axis, tau, plot_instrument_payoffs, plot_metrics)\n",
    "            \n",
    "    def __plot_multi_tau(self, S, multi_tau, plot_metrics):\n",
    "        \"\"\"\n",
    "        Plot Portfolio values against underlying value(s), possibly at multiple times-to-maturity.\n",
    "        \"\"\"\n",
    "        \n",
    "        plt.rcParams[\"axes.prop_cycle\"] = plt.cycler(\"color\", plt.cm.Blues(np.linspace(0,1,len(multi_tau))))\n",
    "\n",
    "        # define the figure\n",
    "        fig, ax = plt.subplots(figsize=(10,6))\n",
    "\n",
    "        # plot the price for different underlying values, one line for each different time to maturity tau\n",
    "        for tau in multi_tau:\n",
    "            ax.plot(S, getattr(self.fin_inst, plot_metrics)(S, tau), '-', lw=1.5, label=r\"$\\tau={:.2f}y$\".format(tau))\n",
    "\n",
    "        # blue dot at original underlying level for reference, one dot for each different time to maturity tau\n",
    "        for tau in multi_tau:\n",
    "            S_t = self.fin_inst.get_S()\n",
    "            ax.plot(S_t, getattr(self.fin_inst, plot_metrics)(S_t, tau), '.', ms=10, \n",
    "                    label=r\"$\\tau={:.2f}y$ at $S={:.1f}$\".format(tau, S_t))\n",
    "            \n",
    "        # plot the red payoff line for different underlying values\n",
    "        if plot_metrics == 'PnL':\n",
    "            ax.plot(S, self.fin_inst.PnL(S, tau=0.0), 'r-',  lw=1.5, label=r\"PnL at maturity\")\n",
    "        else:\n",
    "            ax.plot(S, self.fin_inst.payoff(S), 'r-',  lw=1.5, label=r\"Payoff at maturity\")\n",
    "\n",
    "        # plot a dot to highlight the strike position and a reference zero line\n",
    "        strikes = self.fin_inst.get_K()\n",
    "        ax.plot(strikes, np.zeros_like(strikes), 'k.', ms=15, label=\"Strikes $K$\")\n",
    "        ax.plot(S, np.zeros_like(S), 'k--', lw=1.5)\n",
    "        \n",
    "        # set axis labels \n",
    "        ax.set_xlabel(r\"Underlying Value at different times-to-maturity $\\tau$\", fontsize=12)\n",
    "        ax.set_ylabel('Black-Scholes {}'.format(plot_metrics), fontsize=12) \n",
    "\n",
    "        # set title\n",
    "        ax.set_title(self.get_title(), fontsize=12) \n",
    "\n",
    "        # add the legend ('best' loc parameters places the legend in the best position automatically)\n",
    "        ax.legend(loc='best', ncol=2)\n",
    "\n",
    "        # add a gride to ease visualization\n",
    "        plt.grid(True)\n",
    "\n",
    "        # show the plot\n",
    "        fig.tight_layout()\n",
    "        plt.show()\n",
    "    \n",
    "    def __plot_single_tau(self, S, tau, plot_instrument_payoffs, plot_metrics):\n",
    "        \"\"\"\n",
    "        Plot Portfolio values against underlying value(s) at fixed time-to-maturity. Optionally, it plots component\n",
    "        instruments payoffs.\n",
    "        \"\"\"\n",
    "        \n",
    "        # define the figure\n",
    "        fig, ax = plt.subplots(figsize=(10,6))\n",
    "        \n",
    "        # plot the price for different underlying values\n",
    "        if tau > 0:\n",
    "            ax.plot(S, getattr(self.fin_inst, plot_metrics)(S, tau), 'b-', lw=1.5, \n",
    "                    label=plot_metrics + r\" at $\\tau={:.2f}y$\".format(tau))\n",
    "        \n",
    "        # blue dot at original underlying level for reference\n",
    "        S_t = self.fin_inst.get_S()\n",
    "        ax.plot(S_t, getattr(self.fin_inst, plot_metrics)(S_t, tau), 'b.', ms=15, \n",
    "                label=plot_metrics + r\" at $S={:.1f}$\".format(S_t))\n",
    "        \n",
    "        # plot the red payoff line for different underlying values\n",
    "        if plot_metrics == 'PnL':\n",
    "            ax.plot(S, self.fin_inst.PnL(S, tau=0.0), 'r-',  lw=1.5, label=r\"PnL at maturity\")\n",
    "        else:\n",
    "            ax.plot(S, self.fin_inst.payoff(S), 'r-',  lw=1.5, label=r\"Payoff at maturity\")\n",
    "\n",
    "        # optionally, plot the instruments payoffs\n",
    "        if plot_instrument_payoffs:\n",
    "            \n",
    "            # set a color cycle according to the number of instruments in portfolio\n",
    "            number_of_instruments = len(self.fin_inst.get_composition())\n",
    "            plt.rcParams[\"axes.prop_cycle\"] = plt.cycler(\"color\", plt.cm.RdYlGn(np.linspace(0,1,number_of_instruments)))\n",
    "            \n",
    "            for inst in self.fin_inst.get_composition():\n",
    "                position = inst[\"position\"]\n",
    "\n",
    "                if plot_metrics == 'PnL':\n",
    "                    ax.plot(S, position * inst[\"instrument\"].PnL(S, tau=0.0), '--',  lw=1.5, \n",
    "                            label=inst[\"info\"] + r\" PnL at maturity\")\n",
    "                else:\n",
    "                    ax.plot(S, position * inst[\"instrument\"].payoff(S), '--',  lw=1.5, \n",
    "                            label=inst[\"info\"] + r\" payoff at maturity\")\n",
    "                \n",
    "        # plot a dot to highlight the strike position and a reference zero line\n",
    "        strikes = self.fin_inst.get_K()\n",
    "        ax.plot(strikes, np.zeros_like(strikes), 'k.', ms=15, label=\"Strikes $K$\")\n",
    "        ax.plot(S, np.zeros_like(S), 'k--', lw=1.5)\n",
    "\n",
    "        # set axis labels \n",
    "        ax.set_xlabel(r\"Underlying Value\", fontsize=12) \n",
    "        ax.set_ylabel('Black-Scholes {}'.format(plot_metrics), fontsize=12) \n",
    "\n",
    "        # set title\n",
    "        ax.set_title(self.get_title(), fontsize=12) \n",
    "\n",
    "        # add the legend ('best' loc parameters places the legend in the best position automatically)\n",
    "        ax.legend(loc='best', ncol=1)\n",
    "\n",
    "        # add a gride to ease visualization\n",
    "        plt.grid(True)\n",
    "\n",
    "        # show the plot\n",
    "        fig.tight_layout()\n",
    "        plt.show()\n",
    "\n",
    "    # method to plot portfolio at a given date\n",
    "    def plot_t(self, valuation_date, metrics='price', plot_single_instruments=True):\n",
    "        \"\"\"\n",
    "        Plot Portfolio values against underlying value(s) in a given valuation date. Optionally, it plots component\n",
    "        instruments positions.\n",
    "        \"\"\"\n",
    "                    \n",
    "        # get x-axis\n",
    "        S = self.get_x_axis()\n",
    "     \n",
    "        # define the figure\n",
    "        fig, ax = plt.subplots(figsize=(10,6))\n",
    "        \n",
    "        # plot the price for different underlying values\n",
    "        ax.plot(S, getattr(self.fin_inst, plot_metrics)(S, t=valuation_date), 'b-', lw=1.5, \n",
    "                label=plot_metrics + r\" at t={}\".format(valuation_date))\n",
    "        \n",
    "        # blue dot at original underlying level for reference\n",
    "        S_t = self.fin_inst.get_S()\n",
    "        ax.plot(S_t, getattr(self.fin_inst, plot_metrics)(S_t, t=valuation_date), 'b.', ms=15, \n",
    "                label=plot_metrics + r\" at $S={:.1f}$\".format(S_t))\n",
    "        \n",
    "        # optionally, plot the instruments positions at valuation_date\n",
    "        if plot_single_instruments:\n",
    "            \n",
    "            # set a color cycle according to the number of instruments in portfolio\n",
    "            number_of_instruments = len(self.fin_inst.get_composition())\n",
    "            plt.rcParams[\"axes.prop_cycle\"] = plt.cycler(\"color\", plt.cm.RdYlGn(np.linspace(0,1,number_of_instruments)))\n",
    "            \n",
    "            for inst in self.fin_inst.get_composition():\n",
    "                position = inst[\"position\"]\n",
    "\n",
    "                if plot_metrics == 'PnL':\n",
    "                    ax.plot(S, position * inst[\"instrument\"].PnL(S, t=valuation_date), '--',  lw=1.5, \n",
    "                            label=inst[\"info\"] + r\" PnL at t={}\".format(valuation_date))\n",
    "                else:\n",
    "                    ax.plot(S, position * inst[\"instrument\"].price(S, t=valuation_date), '--',  lw=1.5, \n",
    "                            label=inst[\"info\"] + r\" price at t={}\".format(valuation_date))\n",
    "                \n",
    "        # plot a dot to highlight the strike position and a reference zero line\n",
    "        strikes = self.fin_inst.get_K()\n",
    "        ax.plot(strikes, np.zeros_like(strikes), 'k.', ms=15, label=\"Strikes $K$\")\n",
    "        ax.plot(S, np.zeros_like(S), 'k--', lw=1.5)\n",
    "\n",
    "        # set axis labels \n",
    "        ax.set_xlabel(r\"Underlying Value\", fontsize=12) \n",
    "        ax.set_ylabel('Black-Scholes {}'.format(plot_metrics), fontsize=12) \n",
    "\n",
    "        # set title\n",
    "        ax.set_title(self.get_title(), fontsize=12) \n",
    "\n",
    "        # add the legend ('best' loc parameters places the legend in the best position automatically)\n",
    "        ax.legend(loc='best', ncol=1)\n",
    "\n",
    "        # add a gride to ease visualization\n",
    "        plt.grid(True)\n",
    "\n",
    "        # show the plot\n",
    "        fig.tight_layout()\n",
    "        plt.show()\n",
    "        \n"
   ]
  },
  {
   "cell_type": "markdown",
   "metadata": {},
   "source": [
    "we check the `PortfolioPlotter` in some specific situations"
   ]
  },
  {
   "cell_type": "markdown",
   "metadata": {},
   "source": [
    "## A. Short positions on options"
   ]
  },
  {
   "cell_type": "markdown",
   "metadata": {},
   "source": [
    "Let's start making a simple option strategy: a short Put position."
   ]
  },
  {
   "cell_type": "code",
   "execution_count": null,
   "metadata": {},
   "outputs": [],
   "source": [
    "Vanilla_Put = PlainVanillaOption(market_env, option_type='put')\n",
    "Vanilla_Put"
   ]
  },
  {
   "cell_type": "code",
   "execution_count": null,
   "metadata": {},
   "outputs": [],
   "source": [
    "short_put_ptf = Portfolio()\n",
    "short_put_ptf.add_instrument(Vanilla_Put, -1)\n",
    "short_put_ptf"
   ]
  },
  {
   "cell_type": "code",
   "execution_count": null,
   "metadata": {
    "scrolled": true
   },
   "outputs": [],
   "source": [
    "ptf_plotter = PortfolioPlotter(short_put_ptf)"
   ]
  },
  {
   "cell_type": "markdown",
   "metadata": {},
   "source": [
    "Here is the value of the short position:\n",
    "\n",
    "- the red line represents the payoff of the position: negative if the option is exercised at maturity, otherwise null;\n",
    "- the blue line represents is the nominally negative value of the position. You can think of it as the amount of money needed to close the position when the residual time-to-maturity of the option is $\\tau$, that is to buy (aka _going long_ ) another put with same strike and expiration date of the one we sold.\n",
    "\n",
    "In our example we sold a put option of strike $K=\\$100$ and time-to-maturity $\\tau=0.7$ years (when the market value of the underlying was $S_t = \\$90 $) and evaluate the position for different values of the underlying when the residual time-to-maturity of the option is $\\tau=0.3$ years. "
   ]
  },
  {
   "cell_type": "code",
   "execution_count": null,
   "metadata": {},
   "outputs": [],
   "source": [
    "ptf_plotter.plot(tau=0.3)"
   ]
  },
  {
   "cell_type": "markdown",
   "metadata": {},
   "source": [
    "As we see, the put gets exercised at maturity if $S_T < K$, and, at maturity, it generates a profit if the initial payment $p(S_t=\\$90; \\tau=0.7y)$ received when the put is sold is not offset by the payoff $K-S_T$ to be granted to owner of the option if he/she exercises the option at expiration $T$. \n",
    "\n",
    "Notice that comparing the payoff paid at maturity with the initial price of the option, as we are doing, intentionally neglects the time value of money."
   ]
  },
  {
   "cell_type": "code",
   "execution_count": null,
   "metadata": {},
   "outputs": [],
   "source": [
    "ptf_plotter.plot(plot_metrics='PnL', tau=0.3)"
   ]
  },
  {
   "cell_type": "markdown",
   "metadata": {},
   "source": [
    "Notice a detail: given an initial price $p(S=\\$90; \\tau=0.7y)$ of"
   ]
  },
  {
   "cell_type": "code",
   "execution_count": null,
   "metadata": {},
   "outputs": [],
   "source": [
    "Vanilla_Put.price()"
   ]
  },
  {
   "cell_type": "markdown",
   "metadata": {},
   "source": [
    "and a current price at same underlying value $p(S=\\$90; \\tau=0.3y)$ of "
   ]
  },
  {
   "cell_type": "code",
   "execution_count": null,
   "metadata": {},
   "outputs": [],
   "source": [
    "Vanilla_Put.price(tau=0.3) # it uses .get_S() == $90"
   ]
  },
  {
   "cell_type": "markdown",
   "metadata": {},
   "source": [
    "Due to the elapsed time (as time pass, options tend to get cheaper), the value of the put at $S_t=\\$90$ decreased from $p(S=\\$90; \\tau=0.7y) \\approx \\$10.04 $ to $p(S=\\$90; \\tau=0.3y) \\approx \\$9.70$. That is - all else being equal (in particular $S=\\$90$) - if we were to close our position (i.e. buy another option of same strike and maturity date) when $\\tau=0.3$, we would have to pay less money $p(S=\\$90; \\tau=0.3y)$ than those we have received $p(S=\\$90; \\tau=0.7y)$ when we sold it. This slight decrease makes the \n",
    "\n",
    "$$\n",
    "P\\&L(S=\\$90; \\tau=0.3y) = p(S=\\$90; \\tau=0.3y) - p(S=\\$90; \\tau=0.7y) > 0\n",
    "$$\n",
    "\n",
    "slightly positive. "
   ]
  },
  {
   "cell_type": "code",
   "execution_count": null,
   "metadata": {},
   "outputs": [],
   "source": [
    "short_put_ptf.PnL(tau=0.3)"
   ]
  },
  {
   "cell_type": "code",
   "execution_count": null,
   "metadata": {},
   "outputs": [],
   "source": [
    "Vanilla_Put.price() - Vanilla_Put.price(tau=0.3)"
   ]
  },
  {
   "cell_type": "markdown",
   "metadata": {},
   "source": [
    "## B. spreads e straddles (same $\\tau$ strategy)"
   ]
  },
  {
   "cell_type": "markdown",
   "metadata": {},
   "source": [
    "### Bull spread"
   ]
  },
  {
   "cell_type": "code",
   "execution_count": null,
   "metadata": {},
   "outputs": [],
   "source": [
    "K_long = 80\n",
    "K_short = 110"
   ]
  },
  {
   "cell_type": "code",
   "execution_count": null,
   "metadata": {},
   "outputs": [],
   "source": [
    "Vanilla_Call_long = PlainVanillaOption(market_env, K=K_long)\n",
    "Vanilla_Call_long"
   ]
  },
  {
   "cell_type": "code",
   "execution_count": null,
   "metadata": {},
   "outputs": [],
   "source": [
    "Vanilla_Call_short = PlainVanillaOption(market_env, K=K_short)\n",
    "Vanilla_Call_short"
   ]
  },
  {
   "cell_type": "code",
   "execution_count": null,
   "metadata": {},
   "outputs": [],
   "source": [
    "bull_spread_ptf = Portfolio(name=\"Bull Spread Strategy\")\n",
    "bull_spread_ptf.add_instrument(Vanilla_Call_long, 1)\n",
    "bull_spread_ptf.add_instrument(Vanilla_Call_short, -1)\n",
    "bull_spread_ptf"
   ]
  },
  {
   "cell_type": "code",
   "execution_count": null,
   "metadata": {
    "scrolled": true
   },
   "outputs": [],
   "source": [
    "bull_spread_ptf_plotter = PortfolioPlotter(bull_spread_ptf)"
   ]
  },
  {
   "cell_type": "code",
   "execution_count": null,
   "metadata": {},
   "outputs": [],
   "source": [
    "bull_spread_ptf_plotter.plot(plot_metrics=\"PnL\", plot_instrument_payoffs=True)"
   ]
  },
  {
   "cell_type": "markdown",
   "metadata": {},
   "source": [
    "### Straddle"
   ]
  },
  {
   "cell_type": "code",
   "execution_count": null,
   "metadata": {},
   "outputs": [],
   "source": [
    "Vanilla_Call = PlainVanillaOption(market_env)\n",
    "Vanilla_Call"
   ]
  },
  {
   "cell_type": "code",
   "execution_count": null,
   "metadata": {},
   "outputs": [],
   "source": [
    "Vanilla_Put = PlainVanillaOption(market_env, option_type='put')\n",
    "Vanilla_Put"
   ]
  },
  {
   "cell_type": "code",
   "execution_count": null,
   "metadata": {},
   "outputs": [],
   "source": [
    "straddle_ptf = Portfolio(name=\"Straddle Strategy\")\n",
    "straddle_ptf.add_instrument(Vanilla_Call, 1)\n",
    "straddle_ptf.add_instrument(Vanilla_Put, 1)\n",
    "straddle_ptf"
   ]
  },
  {
   "cell_type": "code",
   "execution_count": null,
   "metadata": {
    "scrolled": true
   },
   "outputs": [],
   "source": [
    "straddle_ptf_plotter = PortfolioPlotter(straddle_ptf)"
   ]
  },
  {
   "cell_type": "code",
   "execution_count": null,
   "metadata": {},
   "outputs": [],
   "source": [
    "straddle_ptf_plotter.plot(plot_metrics=\"PnL\", plot_instrument_payoffs=True)"
   ]
  },
  {
   "cell_type": "markdown",
   "metadata": {},
   "source": [
    "## C. calendar spreads (multi $\\tau$ strategy)"
   ]
  },
  {
   "cell_type": "code",
   "execution_count": null,
   "metadata": {},
   "outputs": [],
   "source": [
    "market_env.get_t()"
   ]
  },
  {
   "cell_type": "code",
   "execution_count": null,
   "metadata": {},
   "outputs": [],
   "source": [
    "T_short_term = \"31-05-2020\"\n",
    "T_long_term = \"30-08-2020\""
   ]
  },
  {
   "cell_type": "code",
   "execution_count": null,
   "metadata": {},
   "outputs": [],
   "source": [
    "Vanilla_Call_short_term = PlainVanillaOption(market_env, T=T_short_term, K = market_env.get_S()-10)\n",
    "Vanilla_Call_short_term"
   ]
  },
  {
   "cell_type": "code",
   "execution_count": null,
   "metadata": {},
   "outputs": [],
   "source": [
    "Vanilla_Call_long_term = PlainVanillaOption(market_env, T=T_long_term, K = market_env.get_S()-10)\n",
    "Vanilla_Call_long_term"
   ]
  },
  {
   "cell_type": "code",
   "execution_count": null,
   "metadata": {},
   "outputs": [],
   "source": [
    "calendar_spread_ptf = Portfolio(name=\"Calendar Spread Strategy\")\n",
    "calendar_spread_ptf.add_instrument(Vanilla_Call_short_term, -1)\n",
    "calendar_spread_ptf.add_instrument(Vanilla_Call_long_term, 1)\n",
    "calendar_spread_ptf"
   ]
  },
  {
   "cell_type": "code",
   "execution_count": null,
   "metadata": {
    "scrolled": true
   },
   "outputs": [],
   "source": [
    "calendar_spread_ptf_plotter = PortfolioPlotter(calendar_spread_ptf)"
   ]
  },
  {
   "cell_type": "code",
   "execution_count": null,
   "metadata": {},
   "outputs": [],
   "source": [
    "calendar_spread_ptf_plotter.plot_t(valuation_date=T_short_term, plot_metrics=\"PnL\", plot_single_instruments=True)"
   ]
  },
  {
   "cell_type": "code",
   "execution_count": null,
   "metadata": {},
   "outputs": [],
   "source": []
  },
  {
   "cell_type": "code",
   "execution_count": null,
   "metadata": {},
   "outputs": [],
   "source": []
  },
  {
   "cell_type": "code",
   "execution_count": null,
   "metadata": {},
   "outputs": [],
   "source": []
  },
  {
   "cell_type": "code",
   "execution_count": null,
   "metadata": {},
   "outputs": [],
   "source": []
  },
  {
   "cell_type": "code",
   "execution_count": null,
   "metadata": {},
   "outputs": [],
   "source": []
  },
  {
   "cell_type": "code",
   "execution_count": null,
   "metadata": {},
   "outputs": [],
   "source": []
  },
  {
   "cell_type": "code",
   "execution_count": null,
   "metadata": {},
   "outputs": [],
   "source": []
  },
  {
   "cell_type": "code",
   "execution_count": null,
   "metadata": {},
   "outputs": [],
   "source": []
  },
  {
   "cell_type": "code",
   "execution_count": null,
   "metadata": {},
   "outputs": [],
   "source": []
  },
  {
   "cell_type": "code",
   "execution_count": null,
   "metadata": {},
   "outputs": [],
   "source": []
  },
  {
   "cell_type": "code",
   "execution_count": null,
   "metadata": {},
   "outputs": [],
   "source": []
  },
  {
   "cell_type": "code",
   "execution_count": null,
   "metadata": {},
   "outputs": [],
   "source": []
  },
  {
   "cell_type": "code",
   "execution_count": null,
   "metadata": {},
   "outputs": [],
   "source": []
  },
  {
   "cell_type": "code",
   "execution_count": null,
   "metadata": {},
   "outputs": [],
   "source": []
  },
  {
   "cell_type": "code",
   "execution_count": 174,
   "metadata": {},
   "outputs": [],
   "source": [
    "import types"
   ]
  },
  {
   "cell_type": "code",
   "execution_count": 164,
   "metadata": {},
   "outputs": [],
   "source": [
    "class OptionPlotter:\n",
    "    \n",
    "    def __init__(self, FinancialInstrument):\n",
    "\n",
    "        # parse informations from FinancialInstrument\n",
    "        self.fin_inst = FinancialInstrument\n",
    "        self.__title_label = self.fin_inst.get_info() + \"\\n\" + \"Market: \" + self.fin_inst.get_mkt_info()\n",
    "\n",
    "        # define x-axis \n",
    "        self.set_x_axis(self.fin_inst.get_K())\n",
    "\n",
    "        # define time(s)\n",
    "        self.set_time_parameter(self.fin_inst.get_tau())\n",
    "        \n",
    "    # getters\n",
    "    def get_x_axis(self):\n",
    "        return self.__x_axis\n",
    "\n",
    "    def get_time_parameter(self):\n",
    "        return self.__time_parameter\n",
    "\n",
    "    def get_title(self):\n",
    "        return self.__title_label\n",
    "    \n",
    "    # setters\n",
    "    def set_x_axis(self, x):\n",
    "        \n",
    "        if isinstance(x, Iterable):\n",
    "            self.__x_axis = x\n",
    "        else:\n",
    "            x_min = max(x-20, 0.0)\n",
    "            x_max = x+20\n",
    "            \n",
    "            self.__x_axis = np.linspace(x_min, x_max, 100)\n",
    "            \n",
    "    def set_time_parameter(self, time_parameter):\n",
    "\n",
    "        # Iterable time in input (excluding Strings, as they are formally Iterables but we want to treat \n",
    "        # them as atomic objects to be interpreted as date strings)\n",
    "        if isinstance(time_parameter, Iterable) and not isinstance(time_parameter, types.StringTypes):\n",
    "                            \n",
    "            # multi-time in input\n",
    "            if len(time_parameter) > 1:\n",
    "                self.__time_parameter = np.sort(time_parameter)[::-1]\n",
    "            \n",
    "            # single time in input\n",
    "            else:\n",
    "                self.__time_parameter = time_parameter[0]\n",
    "        \n",
    "        # one time in input\n",
    "        else:\n",
    "            self.__time_parameter = time_parameter\n",
    "   \n",
    "    # parsers\n",
    "    def parse_x_axis(self, *args, **kwargs):\n",
    "        \n",
    "        x = args[0] if len(args) > 0 else kwargs['S'] if 'S' in kwargs else None\n",
    "        \n",
    "        if x is not None:\n",
    "            self.set_x_axis(x)\n",
    "            \n",
    "        return self.get_x_axis()\n",
    "\n",
    "    def parse_time_parameter(self, *args, **kwargs):\n",
    " \n",
    "        # time parameter\n",
    "        time_param = args[1] if len(args) > 1 else kwargs['tau'] if 'tau' in kwargs else (kwargs['t'] if 't' in kwargs else None)\n",
    "\n",
    "        if time_param is not None:\n",
    "            self.set_time_parameter(time_param)\n",
    "            \n",
    "        time_param = self.get_time_parameter()\n",
    "        \n",
    "        # time parameter label\n",
    "        time_label_param = self.make_time_parameter_label(time_param)\n",
    "        \n",
    "        return time_param, time_label_param\n",
    "    \n",
    "    def parse_plot_metrics(self, *args, **kwargs):\n",
    "        plot_metrics = args[2] if len(args) > 2 else kwargs['plot_metrics'] if 'plot_metrics' in kwargs else 'price'\n",
    "        return plot_metrics\n",
    "    \n",
    "    def parse_plot_details(self, *args, **kwargs):\n",
    "        plot_details = args[3] if len(args) > 3 else kwargs['plot_details'] if 'plot_details' in kwargs else True\n",
    "        return plot_details\n",
    "    \n",
    "    # utilities        \n",
    "    def make_time_parameter_label(self, time_parameter):\n",
    "        \n",
    "        # Iterable time in input (excluding Strings, as they are formally Iterables but we want to treat \n",
    "        # them as atomic objects to be interpreted as date strings)\n",
    "        if isinstance(time_parameter, Iterable) and not isinstance(time_parameter, types.StringTypes):\n",
    "            \n",
    "            # time-to-maturity in input\n",
    "            if isinstance(time_parameter[0], int) or isinstance(time_parameter[0], float):\n",
    "                time_parameter_label = np.array([r\"$\\tau={:.2f}y$\".format(tau) for tau in time_parameter])\n",
    "                \n",
    "            # valuation date in input\n",
    "            elif isinstance(time_parameter[0], str) or isinstance(time_parameter[0], dt.datetime):\n",
    "                time_parameter_label = np.array([datetime_obj_to_date_string(t) for t in time_parameter])\n",
    "                \n",
    "             # error case: the time parameter in input has a data-type that is not recognized\n",
    "            else: \n",
    "                raise TypeError(\"Type {} of input time parameter not recognized\".format(type(time_parameter[0])))        \n",
    "        \n",
    "        else:\n",
    "\n",
    "            # time-to-maturity in input\n",
    "            if isinstance(time_parameter, int) or isinstance(time_parameter, float):\n",
    "                time_parameter_label = r\"$\\tau={:.2f}y$\".format(time_parameter)\n",
    "                \n",
    "            # valuation date in input\n",
    "            elif isinstance(time_parameter, str) or isinstance(time_parameter, dt.datetime):\n",
    "                time_parameter_label = datetime_obj_to_date_string(time_parameter) \n",
    "            \n",
    "             # error case: the time parameter in input has a data-type that is not recognized\n",
    "            else: \n",
    "                raise TypeError(\"Type {} of input time parameter not recognized\".format(type(time_parameter)))  \n",
    "                \n",
    "        return time_parameter_label\n",
    "                \n",
    "    def plot(self, *args, **kwargs):\n",
    "        \n",
    "        x_axis = self.parse_x_axis(*args, **kwargs)\n",
    "        time_parameter, time_label_parameter = self.parse_time_parameter(*args, **kwargs)\n",
    "        plot_metrics = self.parse_plot_metrics(*args, **kwargs)\n",
    "        \n",
    "        if isinstance(time_parameter, Iterable):\n",
    "            self.__plot_multi_time(x_axis, time_parameter, time_label_parameter, plot_metrics)\n",
    "        else:\n",
    "            plot_limits = self.parse_plot_details(*args, **kwargs)\n",
    "            self.__plot_single_time(x_axis, time_parameter, time_label_parameter, plot_metrics, plot_limits)\n",
    "                    \n",
    "    def __plot_multi_time(self, S, multiple_times, time_labels, plot_metrics):\n",
    "        \"\"\"\n",
    "        Plot FinancialInstrument values against underlying value(s), possibly at multiple dates.\n",
    "        Dates can be specified either as date Strings or time-to-maturity values.\n",
    "        \"\"\"\n",
    "        \n",
    "        plt.rcParams[\"axes.prop_cycle\"] = plt.cycler(\"color\", plt.cm.Blues(np.linspace(0,1,len(multiple_t))))\n",
    "\n",
    "        # define the figure\n",
    "        fig, ax = plt.subplots(figsize=(10,6))\n",
    "\n",
    "        # plot the price for different underlying values, one line for each different date\n",
    "        for time, time_label in zip(multiple_times, time_labels):\n",
    "            ax.plot(S, getattr(self.fin_inst, plot_metrics)(S, time), '-', lw=1.5, \n",
    "                    label=plot_metrics + r\" at \" + time_label)\n",
    "\n",
    "            # blue dot at original underlying level for reference\n",
    "            S_t = self.fin_inst.get_S()\n",
    "            ax.plot(S_t, getattr(self.fin_inst, plot_metrics)(S_t, time), '.', ms=10, \n",
    "                    label=time_label + r\" at $S={:.1f}$\".format(S_t))\n",
    "            \n",
    "        # plot the red payoff line for different underlying values\n",
    "        if plot_metrics == 'PnL':\n",
    "            ax.plot(S, self.fin_inst.PnL(S, tau=0.0), 'r-',  lw=1.5, label=self.fin_inst.get_docstring('payoff') + r\" (net of initial price)\")\n",
    "        else:\n",
    "            ax.plot(S, self.fin_inst.payoff(S), 'r-',  lw=1.5, label=self.fin_inst.get_docstring('payoff'))\n",
    "\n",
    "        # plot a dot to highlight the strike position and a reference zero line\n",
    "        ax.plot(self.fin_inst.get_K(), 0, 'k.', ms=15, label=\"Strike $K$\")\n",
    "        ax.plot(S, np.zeros_like(S), 'k--', lw=1.5)\n",
    "        \n",
    "        # set axis labels \n",
    "        ax.set_xlabel(r\"Underlying Value at different dates\", fontsize=12)\n",
    "        ax.set_ylabel('Black-Scholes {}'.format(plot_metrics), fontsize=12) \n",
    "\n",
    "        # set title\n",
    "        ax.set_title(self.get_title(), fontsize=12) \n",
    "\n",
    "        # add the legend ('best' loc parameters places the legend in the best position automatically)\n",
    "        ax.legend(loc='best', ncol=2)\n",
    "\n",
    "        # add a gride to ease visualization\n",
    "        plt.grid(True)\n",
    "\n",
    "        # show the plot\n",
    "        fig.tight_layout()\n",
    "        plt.show()\n",
    " \n",
    "    def __plot_single_time(self, S, time, time_label, plot_metrics, plot_limits):\n",
    "        \"\"\"\n",
    "        Plot FinancialInstrument values against underlying value(s) at fixed date. \n",
    "        Date can be specified either as date String or time-to-maturity value.\n",
    "        Optionally, it plots theoretical upper and lower bounds of the price.\n",
    "        \"\"\"\n",
    "\n",
    "        # define the figure\n",
    "        fig, ax = plt.subplots(figsize=(10,6))\n",
    "        \n",
    "        # plot the price for different underlying values\n",
    "        ax.plot(S, getattr(self.fin_inst, plot_metrics)(S, time), 'b-', lw=1.5, \n",
    "                label=plot_metrics + r\" at \" + time_label)\n",
    "        \n",
    "        # blue dot at original underlying level for reference\n",
    "        S_t = self.fin_inst.get_S()\n",
    "        ax.plot(S_t, getattr(self.fin_inst, plot_metrics)(S_t, time), 'b.', ms=15, \n",
    "                label=time_label + r\" at $S={:.1f}$\".format(S_t))        \n",
    "        \n",
    "        if plot_limits==True:\n",
    "            # plot the upper limit, the price and the lower limit for different underlying values\n",
    "            ax.plot(S, self.fin_inst.price_upper_limit(S, time), 'k-.', lw=1.5, label=self.fin_inst.get_docstring('price_upper_limit'))\n",
    "            ax.plot(S, self.fin_inst.price_lower_limit(S, time), 'k--', lw=1.5, label=self.fin_inst.get_docstring('price_lower_limit'))\n",
    "\n",
    "        # plot the red payoff line for different underlying values\n",
    "        if plot_metrics == 'PnL':\n",
    "            ax.plot(S, self.fin_inst.PnL(S, tau=0.0), 'r-',  lw=1.5, label=self.fin_inst.get_docstring('payoff') + r\" (net of initial price)\")\n",
    "        else:\n",
    "            ax.plot(S, self.fin_inst.payoff(S), 'r-',  lw=1.5, label=self.fin_inst.get_docstring('payoff'))\n",
    "\n",
    "        # plot a dot to highlight the strike position and a reference zero line\n",
    "        ax.plot(self.fin_inst.get_K(), 0, 'k.', ms=15, label=\"Strike $K$\")\n",
    "        ax.plot(S, np.zeros_like(S), 'k--', lw=1.5)\n",
    "\n",
    "        # set axis labels \n",
    "        ax.set_xlabel(r\"Underlying Value at \" + time_label, fontsize=12) \n",
    "        ax.set_ylabel('Black-Scholes {}'.format(plot_metrics), fontsize=12) \n",
    "\n",
    "        # set title\n",
    "        ax.set_title(self.get_title(), fontsize=12) \n",
    "\n",
    "        # add the legend ('best' loc parameters places the legend in the best position automatically)\n",
    "        ax.legend(loc='best', ncol=1)\n",
    "\n",
    "        # add a gride to ease visualization\n",
    "        plt.grid(True)\n",
    "\n",
    "        # show the plot\n",
    "        fig.tight_layout()\n",
    "        plt.show()"
   ]
  },
  {
   "cell_type": "code",
   "execution_count": 165,
   "metadata": {
    "scrolled": true
   },
   "outputs": [
    {
     "data": {
      "text/plain": [
       "MarketEnvironment(t=19-04-2020, r=5.0%, S_t=90.0, sigma=20.0%)"
      ]
     },
     "execution_count": 165,
     "metadata": {},
     "output_type": "execute_result"
    }
   ],
   "source": [
    "market_env"
   ]
  },
  {
   "cell_type": "code",
   "execution_count": 176,
   "metadata": {},
   "outputs": [
    {
     "data": {
      "text/plain": [
       "datetime.datetime(2020, 4, 19, 0, 0)"
      ]
     },
     "execution_count": 176,
     "metadata": {},
     "output_type": "execute_result"
    }
   ],
   "source": [
    "market_env.get_t()"
   ]
  },
  {
   "cell_type": "code",
   "execution_count": 169,
   "metadata": {},
   "outputs": [
    {
     "data": {
      "text/plain": [
       "PlainVanillaOption('call', S_t=90.0, K=100.0, t=19-04-2020, T=31-12-2020, tau=0.70y, r=5.0%, sigma=20.0%)"
      ]
     },
     "execution_count": 169,
     "metadata": {},
     "output_type": "execute_result"
    }
   ],
   "source": [
    "Vanilla_Call"
   ]
  },
  {
   "cell_type": "code",
   "execution_count": 170,
   "metadata": {},
   "outputs": [],
   "source": [
    "option_plotter = OptionPlotter(Vanilla_Call)"
   ]
  },
  {
   "cell_type": "code",
   "execution_count": 171,
   "metadata": {},
   "outputs": [
    {
     "data": {
      "image/png": "[encoded data removed]",
      "text/plain": [
       "<Figure size 720x432 with 1 Axes>"
      ]
     },
     "metadata": {
      "needs_background": "light"
     },
     "output_type": "display_data"
    }
   ],
   "source": [
    "option_plotter.plot()"
   ]
  },
  {
   "cell_type": "code",
   "execution_count": 177,
   "metadata": {},
   "outputs": [
    {
     "data": {
      "image/png": "[encoded data removed]",
      "text/plain": [
       "<Figure size 720x432 with 1 Axes>"
      ]
     },
     "metadata": {
      "needs_background": "light"
     },
     "output_type": "display_data"
    }
   ],
   "source": [
    "option_plotter.plot(t=market_env.get_t())"
   ]
  },
  {
   "cell_type": "code",
   "execution_count": 172,
   "metadata": {},
   "outputs": [
    {
     "data": {
      "image/png": "[encoded data removed]",
      "text/plain": [
       "<Figure size 720x432 with 1 Axes>"
      ]
     },
     "metadata": {
      "needs_background": "light"
     },
     "output_type": "display_data"
    }
   ],
   "source": [
    "option_plotter.plot(plot_limits=True)"
   ]
  },
  {
   "cell_type": "code",
   "execution_count": 175,
   "metadata": {
    "scrolled": false
   },
   "outputs": [
    {
     "ename": "AttributeError",
     "evalue": "module 'types' has no attribute 'StringTypes'",
     "output_type": "error",
     "traceback": [
      "\u001b[1;31m---------------------------------------------------------------------------\u001b[0m",
      "\u001b[1;31mAttributeError\u001b[0m                            Traceback (most recent call last)",
      "\u001b[1;32m<ipython-input-175-e82b2f0bf291>\u001b[0m in \u001b[0;36m<module>\u001b[1;34m\u001b[0m\n\u001b[1;32m----> 1\u001b[1;33m \u001b[0moption_plotter\u001b[0m\u001b[1;33m.\u001b[0m\u001b[0mplot\u001b[0m\u001b[1;33m(\u001b[0m\u001b[0mtau\u001b[0m\u001b[1;33m=\u001b[0m\u001b[1;33m[\u001b[0m\u001b[1;36m0.05\u001b[0m\u001b[1;33m,\u001b[0m \u001b[1;36m0.1\u001b[0m\u001b[1;33m,\u001b[0m \u001b[1;36m0.25\u001b[0m\u001b[1;33m,\u001b[0m \u001b[1;36m0.5\u001b[0m\u001b[1;33m,\u001b[0m \u001b[1;36m0.75\u001b[0m\u001b[1;33m,\u001b[0m \u001b[1;36m1.0\u001b[0m\u001b[1;33m]\u001b[0m\u001b[1;33m)\u001b[0m\u001b[1;33m\u001b[0m\u001b[1;33m\u001b[0m\u001b[0m\n\u001b[0m",
      "\u001b[1;32m<ipython-input-164-2de2e355e5b4>\u001b[0m in \u001b[0;36mplot\u001b[1;34m(self, *args, **kwargs)\u001b[0m\n\u001b[0;32m    123\u001b[0m \u001b[1;33m\u001b[0m\u001b[0m\n\u001b[0;32m    124\u001b[0m         \u001b[0mx_axis\u001b[0m \u001b[1;33m=\u001b[0m \u001b[0mself\u001b[0m\u001b[1;33m.\u001b[0m\u001b[0mparse_x_axis\u001b[0m\u001b[1;33m(\u001b[0m\u001b[1;33m*\u001b[0m\u001b[0margs\u001b[0m\u001b[1;33m,\u001b[0m \u001b[1;33m**\u001b[0m\u001b[0mkwargs\u001b[0m\u001b[1;33m)\u001b[0m\u001b[1;33m\u001b[0m\u001b[1;33m\u001b[0m\u001b[0m\n\u001b[1;32m--> 125\u001b[1;33m         \u001b[0mtime_parameter\u001b[0m\u001b[1;33m,\u001b[0m \u001b[0mtime_label_parameter\u001b[0m \u001b[1;33m=\u001b[0m \u001b[0mself\u001b[0m\u001b[1;33m.\u001b[0m\u001b[0mparse_time_parameter\u001b[0m\u001b[1;33m(\u001b[0m\u001b[1;33m*\u001b[0m\u001b[0margs\u001b[0m\u001b[1;33m,\u001b[0m \u001b[1;33m**\u001b[0m\u001b[0mkwargs\u001b[0m\u001b[1;33m)\u001b[0m\u001b[1;33m\u001b[0m\u001b[1;33m\u001b[0m\u001b[0m\n\u001b[0m\u001b[0;32m    126\u001b[0m         \u001b[0mplot_metrics\u001b[0m \u001b[1;33m=\u001b[0m \u001b[0mself\u001b[0m\u001b[1;33m.\u001b[0m\u001b[0mparse_plot_metrics\u001b[0m\u001b[1;33m(\u001b[0m\u001b[1;33m*\u001b[0m\u001b[0margs\u001b[0m\u001b[1;33m,\u001b[0m \u001b[1;33m**\u001b[0m\u001b[0mkwargs\u001b[0m\u001b[1;33m)\u001b[0m\u001b[1;33m\u001b[0m\u001b[1;33m\u001b[0m\u001b[0m\n\u001b[0;32m    127\u001b[0m \u001b[1;33m\u001b[0m\u001b[0m\n",
      "\u001b[1;32m<ipython-input-164-2de2e355e5b4>\u001b[0m in \u001b[0;36mparse_time_parameter\u001b[1;34m(self, *args, **kwargs)\u001b[0m\n\u001b[0;32m     68\u001b[0m \u001b[1;33m\u001b[0m\u001b[0m\n\u001b[0;32m     69\u001b[0m         \u001b[1;32mif\u001b[0m \u001b[0mtime_param\u001b[0m \u001b[1;32mis\u001b[0m \u001b[1;32mnot\u001b[0m \u001b[1;32mNone\u001b[0m\u001b[1;33m:\u001b[0m\u001b[1;33m\u001b[0m\u001b[1;33m\u001b[0m\u001b[0m\n\u001b[1;32m---> 70\u001b[1;33m             \u001b[0mself\u001b[0m\u001b[1;33m.\u001b[0m\u001b[0mset_time_parameter\u001b[0m\u001b[1;33m(\u001b[0m\u001b[0mtime_param\u001b[0m\u001b[1;33m)\u001b[0m\u001b[1;33m\u001b[0m\u001b[1;33m\u001b[0m\u001b[0m\n\u001b[0m\u001b[0;32m     71\u001b[0m \u001b[1;33m\u001b[0m\u001b[0m\n\u001b[0;32m     72\u001b[0m         \u001b[0mtime_param\u001b[0m \u001b[1;33m=\u001b[0m \u001b[0mself\u001b[0m\u001b[1;33m.\u001b[0m\u001b[0mget_time_parameter\u001b[0m\u001b[1;33m(\u001b[0m\u001b[1;33m)\u001b[0m\u001b[1;33m\u001b[0m\u001b[1;33m\u001b[0m\u001b[0m\n",
      "\u001b[1;32m<ipython-input-164-2de2e355e5b4>\u001b[0m in \u001b[0;36mset_time_parameter\u001b[1;34m(self, time_parameter)\u001b[0m\n\u001b[0;32m     38\u001b[0m         \u001b[1;31m# Iterable time in input (excluding Strings, as they are formally Iterables but we want to treat\u001b[0m\u001b[1;33m\u001b[0m\u001b[1;33m\u001b[0m\u001b[1;33m\u001b[0m\u001b[0m\n\u001b[0;32m     39\u001b[0m         \u001b[1;31m# them as atomic objects to be interpreted as date strings)\u001b[0m\u001b[1;33m\u001b[0m\u001b[1;33m\u001b[0m\u001b[1;33m\u001b[0m\u001b[0m\n\u001b[1;32m---> 40\u001b[1;33m         \u001b[1;32mif\u001b[0m \u001b[0misinstance\u001b[0m\u001b[1;33m(\u001b[0m\u001b[0mtime_parameter\u001b[0m\u001b[1;33m,\u001b[0m \u001b[0mIterable\u001b[0m\u001b[1;33m)\u001b[0m \u001b[1;32mand\u001b[0m \u001b[1;32mnot\u001b[0m \u001b[0misinstance\u001b[0m\u001b[1;33m(\u001b[0m\u001b[0mtime_parameter\u001b[0m\u001b[1;33m,\u001b[0m \u001b[0mtypes\u001b[0m\u001b[1;33m.\u001b[0m\u001b[0mStringTypes\u001b[0m\u001b[1;33m)\u001b[0m\u001b[1;33m:\u001b[0m\u001b[1;33m\u001b[0m\u001b[1;33m\u001b[0m\u001b[0m\n\u001b[0m\u001b[0;32m     41\u001b[0m \u001b[1;33m\u001b[0m\u001b[0m\n\u001b[0;32m     42\u001b[0m             \u001b[1;31m# multi-time in input\u001b[0m\u001b[1;33m\u001b[0m\u001b[1;33m\u001b[0m\u001b[1;33m\u001b[0m\u001b[0m\n",
      "\u001b[1;31mAttributeError\u001b[0m: module 'types' has no attribute 'StringTypes'"
     ]
    }
   ],
   "source": [
    "option_plotter.plot(tau=[0.05, 0.1, 0.25, 0.5, 0.75, 1.0])"
   ]
  },
  {
   "cell_type": "code",
   "execution_count": null,
   "metadata": {},
   "outputs": [],
   "source": []
  }
 ],
 "metadata": {
  "kernelspec": {
   "display_name": "Python 3",
   "language": "python",
   "name": "python3"
  },
  "language_info": {
   "codemirror_mode": {
    "name": "ipython",
    "version": 3
   },
   "file_extension": ".py",
   "mimetype": "text/x-python",
   "name": "python",
   "nbconvert_exporter": "python",
   "pygments_lexer": "ipython3",
   "version": "3.7.4"
  }
 },
 "nbformat": 4,
 "nbformat_minor": 2
}
