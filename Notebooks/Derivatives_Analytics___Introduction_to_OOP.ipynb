{
 "cells": [
  {
   "cell_type": "markdown",
   "metadata": {},
   "source": [
    "# Derivatives Analytics - Introduction to Object Oriented Programming"
   ]
  },
  {
   "cell_type": "markdown",
   "metadata": {},
   "source": [
    "**Author**: [Gabriele Pompa](https://www.linkedin.com/in/gabrielepompa/): gabriele.pompa@unisi.com"
   ]
  },
  {
   "cell_type": "markdown",
   "metadata": {},
   "source": [
    "# Table of contents\n",
    "\n",
    "[Executive Summary](#executive-summary)\n",
    "\n",
    "**TODO**"
   ]
  },
  {
   "cell_type": "markdown",
   "metadata": {},
   "source": [
    "### **Resources**: \n",
    "\n",
    "**TODO**"
   ]
  },
  {
   "cell_type": "markdown",
   "metadata": {},
   "source": [
    "# Executive Summary <a name=\"executive-summary\"></a>"
   ]
  },
  {
   "cell_type": "markdown",
   "metadata": {},
   "source": [
    "**Make intro**"
   ]
  },
  {
   "cell_type": "markdown",
   "metadata": {},
   "source": [
    "The following sections are organized as follows:\n",
    "\n",
    "- **TODO**"
   ]
  },
  {
   "cell_type": "markdown",
   "metadata": {},
   "source": [
    "These are the basic imports that we need to work with NumPy, Pandas and to plot data using Matplotlib functionalities"
   ]
  },
  {
   "cell_type": "code",
   "execution_count": null,
   "metadata": {},
   "outputs": [],
   "source": [
    "# for NumPy arrays\n",
    "import numpy as np\n",
    "\n",
    "# for Pandas Series and DataFrame\n",
    "import pandas as pd\n",
    "\n",
    "# for statistical functions\n",
    "from scipy import stats\n",
    "\n",
    "# for Matplotlib plotting\n",
    "import matplotlib.pyplot as plt\n",
    "\n",
    "# to do inline plots in the Notebook\n",
    "%matplotlib inline\n",
    "\n",
    "# for Operating System operations\n",
    "import os\n",
    "\n",
    "# for some mathematical functions\n",
    "import math"
   ]
  },
  {
   "cell_type": "markdown",
   "metadata": {},
   "source": [
    "# Introduction to dates management: `datetime` module <a name=\"introduction-to-dates\"></a>"
   ]
  },
  {
   "cell_type": "code",
   "execution_count": null,
   "metadata": {},
   "outputs": [],
   "source": [
    "# for date management\n",
    "import datetime as dt"
   ]
  },
  {
   "cell_type": "code",
   "execution_count": null,
   "metadata": {},
   "outputs": [],
   "source": [
    "today = dt.datetime.today()\n",
    "today"
   ]
  },
  {
   "cell_type": "code",
   "execution_count": null,
   "metadata": {},
   "outputs": [],
   "source": [
    "type(today)"
   ]
  },
  {
   "cell_type": "code",
   "execution_count": null,
   "metadata": {},
   "outputs": [],
   "source": [
    "my_birthday = dt.datetime(year=1988,month=6,day=1)\n",
    "my_birthday"
   ]
  },
  {
   "cell_type": "code",
   "execution_count": null,
   "metadata": {},
   "outputs": [],
   "source": [
    "type(my_birthday)"
   ]
  },
  {
   "cell_type": "code",
   "execution_count": null,
   "metadata": {},
   "outputs": [],
   "source": [
    "time_to_date = today - my_birthday\n",
    "time_to_date"
   ]
  },
  {
   "cell_type": "code",
   "execution_count": null,
   "metadata": {},
   "outputs": [],
   "source": [
    "type(time_to_date)"
   ]
  },
  {
   "cell_type": "code",
   "execution_count": null,
   "metadata": {},
   "outputs": [],
   "source": [
    "time_to_date.days"
   ]
  },
  {
   "cell_type": "code",
   "execution_count": null,
   "metadata": {},
   "outputs": [],
   "source": [
    "time_to_date.days/365"
   ]
  },
  {
   "cell_type": "code",
   "execution_count": null,
   "metadata": {},
   "outputs": [],
   "source": [
    "date_string = \"18-04-2020\"\n",
    "date_string"
   ]
  },
  {
   "cell_type": "code",
   "execution_count": null,
   "metadata": {},
   "outputs": [],
   "source": [
    "type(date_string)"
   ]
  },
  {
   "cell_type": "code",
   "execution_count": null,
   "metadata": {},
   "outputs": [],
   "source": [
    "isinstance(date_string, str)"
   ]
  },
  {
   "cell_type": "code",
   "execution_count": null,
   "metadata": {},
   "outputs": [],
   "source": [
    "date = dt.datetime.strptime(date_string, \"%d-%m-%Y\")\n",
    "date"
   ]
  },
  {
   "cell_type": "code",
   "execution_count": null,
   "metadata": {},
   "outputs": [],
   "source": [
    "type(date)"
   ]
  },
  {
   "cell_type": "code",
   "execution_count": null,
   "metadata": {},
   "outputs": [],
   "source": [
    "isinstance(date, dt.datetime)"
   ]
  },
  {
   "cell_type": "code",
   "execution_count": null,
   "metadata": {},
   "outputs": [],
   "source": [
    "date_string_from_dt = date.strftime(\"%d-%m-%Y\")\n",
    "date_string_from_dt"
   ]
  },
  {
   "cell_type": "code",
   "execution_count": null,
   "metadata": {},
   "outputs": [],
   "source": [
    "type(date_string_from_dt)"
   ]
  },
  {
   "cell_type": "code",
   "execution_count": null,
   "metadata": {},
   "outputs": [],
   "source": [
    "isinstance(date_string_from_dt, str)"
   ]
  },
  {
   "cell_type": "code",
   "execution_count": null,
   "metadata": {},
   "outputs": [],
   "source": [
    "date + dt.timedelta(days=25)"
   ]
  },
  {
   "cell_type": "markdown",
   "metadata": {},
   "source": [
    "## Non-financial Introduction to OOP <a name=\"non-financial-introduction-to-oop\"></a>"
   ]
  },
  {
   "cell_type": "markdown",
   "metadata": {},
   "source": [
    "### Without OOP: a person <a name=\"nonoopperson\"></a> "
   ]
  },
  {
   "cell_type": "code",
   "execution_count": null,
   "metadata": {},
   "outputs": [],
   "source": [
    "def say_your_name(name, surname):\n",
    "    print(\"My name is {} {}\".format(name, surname))"
   ]
  },
  {
   "cell_type": "code",
   "execution_count": null,
   "metadata": {},
   "outputs": [],
   "source": [
    "my_name = \"Gabriele\"\n",
    "my_surname = \"Pompa\""
   ]
  },
  {
   "cell_type": "code",
   "execution_count": null,
   "metadata": {},
   "outputs": [],
   "source": [
    "say_your_name(name=my_name, surname=my_surname)"
   ]
  },
  {
   "cell_type": "code",
   "execution_count": null,
   "metadata": {},
   "outputs": [],
   "source": [
    "def say_country_of_birth(country):\n",
    "    print(\"My country of birth is {}\".format(country))"
   ]
  },
  {
   "cell_type": "code",
   "execution_count": null,
   "metadata": {},
   "outputs": [],
   "source": [
    "my_country = \"Italy\""
   ]
  },
  {
   "cell_type": "code",
   "execution_count": null,
   "metadata": {},
   "outputs": [],
   "source": [
    "say_country_of_birth(my_country)"
   ]
  },
  {
   "cell_type": "code",
   "execution_count": null,
   "metadata": {},
   "outputs": [],
   "source": [
    "def compute_age(birthdate):\n",
    "    \n",
    "    today = dt.datetime.today()  \n",
    "    birthdate = dt.datetime.strptime(birthdate, \"%d-%m-%Y\") if isinstance(birthdate, str) else birthdate\n",
    "    \n",
    "    next_birthday = dt.datetime(year=today.year, month=birthdate.month, day=birthdate.day)\n",
    "    \n",
    "    if today >= next_birthday:\n",
    "        age = today.year - birthdate.year\n",
    "    else:\n",
    "        age = today.year - birthdate.year - 1\n",
    "        \n",
    "    return age"
   ]
  },
  {
   "cell_type": "code",
   "execution_count": null,
   "metadata": {},
   "outputs": [],
   "source": [
    "my_birthdate = \"01-06-1988\"\n",
    "my_birthdate"
   ]
  },
  {
   "cell_type": "code",
   "execution_count": null,
   "metadata": {},
   "outputs": [],
   "source": [
    "my_age = compute_age(birthdate=my_birthdate)\n",
    "my_age"
   ]
  },
  {
   "cell_type": "code",
   "execution_count": null,
   "metadata": {},
   "outputs": [],
   "source": [
    "def time_to_birthday(birthdate):\n",
    "    \n",
    "    today = dt.datetime.today()\n",
    "    birthdate = dt.datetime.strptime(birthdate, \"%d-%m-%Y\") if isinstance(birthdate, str) else birthdate\n",
    "    \n",
    "    next_birthday = dt.datetime(year=today.year, month=birthdate.month, day=birthdate.day)\n",
    "    \n",
    "    return (next_birthday - today).days"
   ]
  },
  {
   "cell_type": "code",
   "execution_count": null,
   "metadata": {},
   "outputs": [],
   "source": [
    "days_to_birthday = time_to_birthday(my_birthdate)\n",
    "days_to_birthday"
   ]
  },
  {
   "cell_type": "markdown",
   "metadata": {},
   "source": [
    "### With OOP: the `Person` class <a name=\"oopperson\"></a> "
   ]
  },
  {
   "cell_type": "code",
   "execution_count": null,
   "metadata": {},
   "outputs": [],
   "source": [
    "class Person(object):\n",
    "    \"\"\"\n",
    "    Person class implementing some typical features of a person.\n",
    "    \n",
    "    Attributes:\n",
    "    -----------\n",
    "        name (str):                   name string;\n",
    "        surname (str):                surname string;\n",
    "        country (str):                country of birth;\n",
    "        birthdate (str; dt.datetime): date of birth. Can be either a \"dd-mm-YYYY\" String or a pd.datetime() object\n",
    "        age (int):                    age, as computed by compute_age() method.\n",
    "    \n",
    "    Methods:\n",
    "    --------\n",
    "        say_your_name: (returns) None\n",
    "            Prints name and surname.\n",
    "            \n",
    "        say_country_of_birth: None\n",
    "            Prints country of birth.\n",
    "            \n",
    "        compute_age: int\n",
    "            Computes the age, sets self.age attribute and returns it.\n",
    "            \n",
    "        time_to_birthday: int\n",
    "            Computes the number of days left untill next birthdat and return the number.\n",
    "    \n",
    "    \"\"\"\n",
    "    \n",
    "    def __init__(self, p_name, p_surname, p_country, p_birthdate):\n",
    "        self.name      = p_name\n",
    "        self.surname   = p_surname\n",
    "        self.country   = p_country\n",
    "        self.birthdate = dt.datetime.strptime(p_birthdate, \"%d-%m-%Y\") if isinstance(p_birthdate, str) else p_birthdate\n",
    "        self.age       = None\n",
    "    \n",
    "    def say_your_name(self):\n",
    "        print(\"My name is {} {}\".format(self.name, self.surname))\n",
    "        \n",
    "    def say_country_of_birth(self):\n",
    "        print(\"My country of birth is {}\".format(self.country))\n",
    "        \n",
    "    def compute_age(self):\n",
    "    \n",
    "        today = dt.datetime.today()  \n",
    "\n",
    "        next_birthday = dt.datetime(year=today.year, month=self.birthdate.month, day=self.birthdate.day)\n",
    "\n",
    "        if today >= next_birthday:\n",
    "            self.age = today.year - self.birthdate.year\n",
    "        else:\n",
    "            self.age = today.year - self.birthdate.year - 1\n",
    "\n",
    "        return self.age \n",
    "    \n",
    "    def time_to_birthday(self):\n",
    "\n",
    "        today = dt.datetime.today()\n",
    "\n",
    "        next_birthday = dt.datetime(year=today.year, month=self.birthdate.month, day=self.birthdate.day)\n",
    "\n",
    "        return (next_birthday - today).days"
   ]
  },
  {
   "cell_type": "code",
   "execution_count": null,
   "metadata": {},
   "outputs": [],
   "source": [
    "gab = Person(p_name = \"Gabriele\", \n",
    "             p_surname = \"Pompa\", \n",
    "             p_country = \"Italy\", \n",
    "             p_birthdate = \"01-06-1988\")"
   ]
  },
  {
   "cell_type": "code",
   "execution_count": null,
   "metadata": {},
   "outputs": [],
   "source": [
    "type(gab)"
   ]
  },
  {
   "cell_type": "code",
   "execution_count": null,
   "metadata": {},
   "outputs": [],
   "source": [
    "gab.name"
   ]
  },
  {
   "cell_type": "code",
   "execution_count": null,
   "metadata": {},
   "outputs": [],
   "source": [
    "gab.surname"
   ]
  },
  {
   "cell_type": "code",
   "execution_count": null,
   "metadata": {},
   "outputs": [],
   "source": [
    "gab.say_your_name()"
   ]
  },
  {
   "cell_type": "code",
   "execution_count": null,
   "metadata": {},
   "outputs": [],
   "source": [
    "gab.country"
   ]
  },
  {
   "cell_type": "code",
   "execution_count": null,
   "metadata": {},
   "outputs": [],
   "source": [
    "gab.say_country_of_birth()"
   ]
  },
  {
   "cell_type": "code",
   "execution_count": null,
   "metadata": {},
   "outputs": [],
   "source": [
    "gab.birthdate"
   ]
  },
  {
   "cell_type": "code",
   "execution_count": null,
   "metadata": {},
   "outputs": [],
   "source": [
    "gab.birthdate.strftime(\"%d-%m-%Y\")"
   ]
  },
  {
   "cell_type": "code",
   "execution_count": null,
   "metadata": {},
   "outputs": [],
   "source": [
    "gab.age is None"
   ]
  },
  {
   "cell_type": "code",
   "execution_count": null,
   "metadata": {},
   "outputs": [],
   "source": [
    "gab.compute_age()"
   ]
  },
  {
   "cell_type": "code",
   "execution_count": null,
   "metadata": {},
   "outputs": [],
   "source": [
    "gab.age"
   ]
  },
  {
   "cell_type": "code",
   "execution_count": null,
   "metadata": {},
   "outputs": [],
   "source": [
    "gab.time_to_birthday()"
   ]
  },
  {
   "cell_type": "code",
   "execution_count": null,
   "metadata": {},
   "outputs": [],
   "source": [
    "bill = Person(p_name = \"Bill\", \n",
    "              p_surname = \"Gates\", \n",
    "              p_country = \"USA\", \n",
    "              p_birthdate = \"28-10-1955\")"
   ]
  },
  {
   "cell_type": "code",
   "execution_count": null,
   "metadata": {},
   "outputs": [],
   "source": [
    "type(bill)"
   ]
  },
  {
   "cell_type": "code",
   "execution_count": null,
   "metadata": {},
   "outputs": [],
   "source": [
    "bill.say_your_name()"
   ]
  },
  {
   "cell_type": "markdown",
   "metadata": {},
   "source": [
    "## Introduction to OOP: Black-Scholes option pricer <a name=\"BS-option-pricer\"></a>"
   ]
  },
  {
   "cell_type": "markdown",
   "metadata": {},
   "source": [
    "### Without OOP: a call priced using Black-Scholes model <a name=\"nonoopperson\"></a> "
   ]
  },
  {
   "cell_type": "code",
   "execution_count": null,
   "metadata": {},
   "outputs": [],
   "source": [
    "def call_option_payoff(S,K):\n",
    "    \"\"\"\n",
    "    call_option_payoff(S,K) computes returns the payoff of a call option given the spot price of the underlying asset \n",
    "    and strike price 'K'.\n",
    "    \n",
    "    Parameters:\n",
    "        S (float): spot price of the underlying asset;\n",
    "        K (float): strike price;\n",
    "    \n",
    "    Returns:\n",
    "        payoff (float): call option payoff;\n",
    "    \"\"\"\n",
    "    return max(0.0, S - K)\n"
   ]
  },
  {
   "cell_type": "code",
   "execution_count": null,
   "metadata": {},
   "outputs": [],
   "source": [
    "def call_option_price(S, K, tau, r, sigma):\n",
    "    \"\"\"\n",
    "    call_option_price(S, K, tau, r, sigma) computes and returns the exact price of a call option \n",
    "    of time to maturity 'tau' and strike price 'K' given the spot price of the underlying asset 'S', \n",
    "    the continuosly compounded short-rate 'r' and volatility of the \n",
    "    underlying asset 'sigma'.\n",
    "\n",
    "    Parameters:\n",
    "        S (float):     spot price of the underlying asset;\n",
    "        K (float):     strike price;\n",
    "        tau (float):   time to maturity (in years);\n",
    "        r (float):     continuously compounded short-rate;\n",
    "        sigma (float): volatility of underlying asset;\n",
    "        \n",
    "    Returns:\n",
    "        price (float): call price;\n",
    "\n",
    "    \"\"\"\n",
    "    \n",
    "    if S == 0: # this is to avoid log(0) issues\n",
    "        return 0.0\n",
    "    else:\n",
    "        d1 = (np.log(S / K) + (r + 0.5 * sigma ** 2) * tau) / (sigma * np.sqrt(tau))\n",
    "        d2 = (np.log(S / K) + (r - 0.5 * sigma ** 2) * tau) / (sigma * np.sqrt(tau))\n",
    "\n",
    "        price = S * stats.norm.cdf(d1, 0.0, 1.0) - K * np.exp(-r * tau) * stats.norm.cdf(d2, 0.0, 1.0)\n",
    "\n",
    "        return price"
   ]
  },
  {
   "cell_type": "code",
   "execution_count": null,
   "metadata": {},
   "outputs": [],
   "source": [
    "def call_upper_limit(S):\n",
    "    \"\"\"\n",
    "    call_upper_limit(S) returns the upper limit for a vanilla call option price, \n",
    "    which coincides with the spot price of the underlying asset.\n",
    "\n",
    "    Parameters:\n",
    "        S (float):     spot price of the underlying asset;\n",
    "        \n",
    "    Returns:\n",
    "        S (float):     spot price of the underlying asset;\n",
    "\n",
    "    \"\"\"\n",
    "    \n",
    "    return S"
   ]
  },
  {
   "cell_type": "code",
   "execution_count": null,
   "metadata": {},
   "outputs": [],
   "source": [
    "def call_lower_limit(S, K, tau, r):\n",
    "    \"\"\"\n",
    "    call_lower_limit(S, K, tau, r) returns the lower limit for a vanilla call option price.\n",
    "\n",
    "    Parameters:\n",
    "        S (float):     spot price of the underlying asset;\n",
    "        K (float):     strike price;\n",
    "        tau (float):   time to maturity (in years);\n",
    "        r (float):     continuously compounded short-rate;\n",
    "        \n",
    "    Returns:\n",
    "        price_lower_limit (float): call lower limit price;\n",
    "\n",
    "    \"\"\"\n",
    "    \n",
    "    price_lower_limit = max(S - K*np.exp(-short_rate * tau), 0)\n",
    "    \n",
    "    return price_lower_limit"
   ]
  },
  {
   "cell_type": "code",
   "execution_count": null,
   "metadata": {},
   "outputs": [],
   "source": [
    "K              = 100.0\n",
    "short_rate     = 0.05 # 5% per year\n",
    "volatility     = 0.2  # 20% per year"
   ]
  },
  {
   "cell_type": "code",
   "execution_count": null,
   "metadata": {
    "scrolled": false
   },
   "outputs": [],
   "source": [
    "S_strip = np.linspace(80, 120, 100)\n",
    "S_strip = np.append(S_strip, K)\n",
    "S_strip = np.sort(S_strip)\n",
    "S_strip"
   ]
  },
  {
   "cell_type": "code",
   "execution_count": null,
   "metadata": {},
   "outputs": [],
   "source": [
    "tau_strip = np.array([0.05, 0.1, 0.25, 0.5, 0.75, 1.0])\n",
    "tau_strip"
   ]
  },
  {
   "cell_type": "code",
   "execution_count": null,
   "metadata": {
    "scrolled": false
   },
   "outputs": [],
   "source": [
    "def plot_price_strip(S_list, K, tau_list, r, sigma):\n",
    "    \"\"\"\n",
    "    plot_price_strip(S_list, tau_list) plot call option prices for underlying and maturities in 'S_list' and 'tau_list',\n",
    "    respectively.\n",
    "\n",
    "    Parameters:\n",
    "        S_list (np.ndarray):   list of underlying values;\n",
    "        K (float):             strike price\n",
    "        tau_list (np.ndarray): list of times to maturity (in years);\n",
    "        r (float):             continuously compounded short-rate;\n",
    "        sigma (float):         volatility of underlying asset;\n",
    "        \n",
    "    Returns:\n",
    "        None;\n",
    "\n",
    "    \"\"\"\n",
    "\n",
    "    # color cycle setup: basically a cycle of different shades of blue as many time to maturity there are\n",
    "    plt.rcParams[\"axes.prop_cycle\"] = plt.cycler(\"color\", plt.cm.Blues(np.linspace(0,1,len(tau_list)+1)))\n",
    "\n",
    "    # define the figure\n",
    "    fig, ax = plt.subplots(figsize=(10,6))\n",
    "\n",
    "    # plot a dot to highlight the strike position\n",
    "    ax.plot(K, 0, 'k.', ms=15, label=\"Strike $K$\")\n",
    "\n",
    "    # plot the price for different underlying values, one line for each different time to maturity \n",
    "    for tau in np.flip(tau_list):\n",
    "        ax.plot(S_list, [call_option_price(S, K, tau, r, sigma) for S in S_list], \n",
    "                '-', lw=1.5, label=r\"$\\tau={}$\".format(tau))\n",
    "\n",
    "    # plot the red payoff line for different underlying values\n",
    "    ax.plot(S_list, [call_option_payoff(S, K) for S in S_list], \n",
    "            'r-', lw=1.5, label=\"$max(S_T - K, 0)$\")\n",
    "\n",
    "    # set axis labels \n",
    "    ax.set_xlabel('Underlying $S_t$', fontsize=12) \n",
    "    ax.set_ylabel('Black-Scholes Price', fontsize=12) \n",
    "\n",
    "    # set title\n",
    "    ax.set_title(r\"Price of a Call Option $(S_t, K={}, \\tau=T-t, r={}\\%, \\sigma={}\\%)$ Vs $S$ (at different $\\tau$)\".\n",
    "                 format(K, r*100, sigma*100), fontsize=12) \n",
    "\n",
    "    # add the legend\n",
    "    ax.legend(loc='upper left', ncol=1)\n",
    "\n",
    "    # add a gride to ease visualization\n",
    "    plt.grid(True)\n",
    "\n",
    "    # show the plot\n",
    "    fig.tight_layout()\n",
    "    plt.show()"
   ]
  },
  {
   "cell_type": "code",
   "execution_count": null,
   "metadata": {},
   "outputs": [],
   "source": [
    "plot_price_strip(S_strip, K, tau_strip, short_rate, volatility)"
   ]
  },
  {
   "cell_type": "code",
   "execution_count": null,
   "metadata": {},
   "outputs": [],
   "source": [
    "tau = 2.0\n",
    "\n",
    "K_focus = 5\n",
    "\n",
    "S_strip_focus = np.linspace(0, 10, 100)\n",
    "S_strip_focus = np.append(S_strip_focus, K_focus)\n",
    "S_strip_focus = np.sort(S_strip_focus)\n",
    "S_strip_focus"
   ]
  },
  {
   "cell_type": "code",
   "execution_count": null,
   "metadata": {},
   "outputs": [],
   "source": [
    "def plot_price(S_list, K, tau, r, sigma):\n",
    "    \"\"\"\n",
    "    plot_price(S_list, tau_strip) plot call option prices for underlying in 'S_list' at time to maturity 'tau'.\n",
    "\n",
    "    Parameters:\n",
    "        S_list (List): list of underlying values;\n",
    "        K (float):     strike price\n",
    "        tau (float):   time to maturity (in years);\n",
    "        r (float):     continuously compounded short-rate;\n",
    "        sigma (float): volatility of underlying asset;\n",
    "        \n",
    "    Returns:\n",
    "        None;\n",
    "\n",
    "    \"\"\"\n",
    "\n",
    "    # define the figure\n",
    "    fig, ax = plt.subplots(figsize=(10,6))\n",
    "\n",
    "    # plot a dot to highlight the strike position\n",
    "    ax.plot(K, 0, 'k.', ms=15, label=\"Strike $K$\")\n",
    "\n",
    "    # plot the upper limit, price, lower limit for different underlying values\n",
    "    ax.plot(S_list, [call_upper_limit(S) for S in S_list],                    \n",
    "            'k-.', lw=1.5, label=r\"Upper limit: $S_t$\")\n",
    "    ax.plot(S_list, [call_option_price(S, K, tau, r, sigma) for S in S_list], \n",
    "            'b-',  lw=1.5, label=r\"Price\")\n",
    "    ax.plot(S_list, [call_lower_limit(S, K, tau, short_rate) for S in S_list], \n",
    "            'k--', lw=1.5, label=r\"Lower limit: $max(S_t - K e^{-r \\tau}, 0)$\")\n",
    "\n",
    "    # plot the red payoff line for different underlying values\n",
    "    ax.plot(S_list, [call_option_payoff(S, K) for S in S_list], \n",
    "            'r-', lw=1.5, label=\"$max(S_T - K, 0)$\")\n",
    "\n",
    "    # set axis labels \n",
    "    ax.set_xlabel('Underlying $S_t$', fontsize=12) \n",
    "    ax.set_ylabel('Black-Scholes Price', fontsize=12) \n",
    "\n",
    "    # set title\n",
    "    ax.set_title(r\"Price of a Call Option $(S_t, K={}, \\tau=T-t={}y, r={}\\%, \\sigma={}\\%)$ Vs $S$ (with price limits)\".\n",
    "                 format(K, tau, r*100, sigma*100), fontsize=12) \n",
    "\n",
    "    # add the legend\n",
    "    ax.legend(loc='upper left', ncol=1)\n",
    "\n",
    "    # add a gride to ease visualization\n",
    "    plt.grid(True)\n",
    "\n",
    "    # show the plot\n",
    "    fig.tight_layout()\n",
    "    plt.show()"
   ]
  },
  {
   "cell_type": "code",
   "execution_count": null,
   "metadata": {},
   "outputs": [],
   "source": [
    "plot_price(S_strip_focus, K_focus, tau, short_rate, volatility)"
   ]
  },
  {
   "cell_type": "markdown",
   "metadata": {},
   "source": [
    "### With OOP: the `BSCall` class <a name=\"bscall\"></a> "
   ]
  },
  {
   "cell_type": "code",
   "execution_count": null,
   "metadata": {},
   "outputs": [],
   "source": [
    "class CallOption(object):\n",
    "    \"\"\"\n",
    "    CallOption class implementing payoff and pricing of a european call option.\n",
    "    \n",
    "    Attributes:\n",
    "    -----------\n",
    "        S_t (float):              spot price of the underlying asset at the valuation date 't';\n",
    "        K (float):                strike price;\n",
    "        t (str; dt.datetime):     valuation date. Can be either a \"dd-mm-YYYY\" String or a pd.datetime() object\n",
    "        T (str; dt.datetime):     expiration date. Can be either a \"dd-mm-YYYY\" String or a pd.datetime() object\n",
    "        tau (float):              time to maturity in years, computed as tau=T-t by time_to_maturity() method\n",
    "        r (float):                continuously compounded short-rate;\n",
    "        sigma (float):            volatility of underlying asset;\n",
    "    \n",
    "    Public Methods:\n",
    "    --------                        \n",
    "        payoff: float\n",
    "            Computes the payoff of the option and returns it\n",
    "            \n",
    "        price_upper_limit: float \n",
    "            Returns the upper limit for a vanilla call option price.\n",
    "\n",
    "        price_lower_limit: float \n",
    "            Returns the lower limit for a vanilla call option price.\n",
    "\n",
    "        price: float\n",
    "            Computes the exact price of the option and returns it\n",
    "\n",
    "    \"\"\"\n",
    "    \n",
    "    # constructor\n",
    "    def __init__(self, S_t, K, t, T, r, sigma):\n",
    "        self.S     = S_t\n",
    "        self.K     = K\n",
    "        self.t     = dt.datetime.strptime(t, \"%d-%m-%Y\") if isinstance(t, str) else t\n",
    "        self.T     = dt.datetime.strptime(T, \"%d-%m-%Y\") if isinstance(T, str) else T\n",
    "        self.tau   = self.__time_to_maturity()\n",
    "        self.r     = r\n",
    "        self.sigma = sigma\n",
    "        \n",
    "    # string representation\n",
    "    def __repr__(self):\n",
    "        return r\"CallOption(S_t={:.1f}, K={:.1f}, t={}, T={}, tau={:.2f}y, r={:.1f}%, sigma={:.1f}%)\".\\\n",
    "                format(self.S, self.K, self.t.strftime(\"%d-%m-%Y\"), self.T.strftime(\"%d-%m-%Y\"), self.tau, \n",
    "                       self.r*100, self.sigma*100)\n",
    "      \n",
    "    # time to maturity method (private)\n",
    "    def __time_to_maturity(self):\n",
    "        return (self.T - self.t).days / 365.0\n",
    "    \n",
    "    # payoff calculation\n",
    "    def payoff(self):\n",
    "        return max(0.0, self.S - self.K)\n",
    "    \n",
    "    # upper price limit\n",
    "    def price_upper_limit(self):\n",
    "        return self.S\n",
    "\n",
    "    # lower price limit\n",
    "    def price_lower_limit(self):\n",
    "        return max(self.S - self.K*np.exp(-self.r * self.tau), 0)\n",
    "\n",
    "    # price calculation\n",
    "    def price(self):\n",
    "        \n",
    "        if self.S == 0: # this is to avoid log(0) issues\n",
    "            return 0.0\n",
    "        else:\n",
    "\n",
    "            d1 = (np.log(self.S / self.K) + (self.r + 0.5 * self.sigma ** 2) * self.tau) / (self.sigma * np.sqrt(self.tau))\n",
    "            d2 = d1 - self.sigma * np.sqrt(self.tau)\n",
    "\n",
    "            price = self.S * stats.norm.cdf(d1, 0.0, 1.0) - self.K * np.exp(-self.r * self.tau) * stats.norm.cdf(d2, 0.0, 1.0)\n",
    "\n",
    "            return price    "
   ]
  },
  {
   "cell_type": "code",
   "execution_count": null,
   "metadata": {
    "scrolled": true
   },
   "outputs": [],
   "source": [
    "call = CallOption(S_t=90.0, K=100.0, t=\"19-04-2020\", T=\"31-12-2020\", r=0.05, sigma=0.2)"
   ]
  },
  {
   "cell_type": "code",
   "execution_count": null,
   "metadata": {},
   "outputs": [],
   "source": [
    "call"
   ]
  },
  {
   "cell_type": "code",
   "execution_count": null,
   "metadata": {},
   "outputs": [],
   "source": [
    "type(call)"
   ]
  },
  {
   "cell_type": "code",
   "execution_count": null,
   "metadata": {},
   "outputs": [],
   "source": [
    "call.S"
   ]
  },
  {
   "cell_type": "code",
   "execution_count": null,
   "metadata": {},
   "outputs": [],
   "source": [
    "call.K"
   ]
  },
  {
   "cell_type": "code",
   "execution_count": null,
   "metadata": {},
   "outputs": [],
   "source": [
    "call.T"
   ]
  },
  {
   "cell_type": "code",
   "execution_count": null,
   "metadata": {},
   "outputs": [],
   "source": [
    "call.tau"
   ]
  },
  {
   "cell_type": "code",
   "execution_count": null,
   "metadata": {},
   "outputs": [],
   "source": [
    "call.payoff()"
   ]
  },
  {
   "cell_type": "code",
   "execution_count": null,
   "metadata": {},
   "outputs": [],
   "source": [
    "call.price()"
   ]
  },
  {
   "cell_type": "code",
   "execution_count": null,
   "metadata": {},
   "outputs": [],
   "source": [
    "call.price_upper_limit()"
   ]
  },
  {
   "cell_type": "code",
   "execution_count": null,
   "metadata": {},
   "outputs": [],
   "source": [
    "call.price_lower_limit()"
   ]
  },
  {
   "cell_type": "code",
   "execution_count": null,
   "metadata": {},
   "outputs": [],
   "source": [
    "max(call.S - call.K*np.exp(-call.r * call.tau), 0)"
   ]
  },
  {
   "cell_type": "code",
   "execution_count": null,
   "metadata": {},
   "outputs": [],
   "source": [
    "def plot_price_strip(option, S_list, tau_list):\n",
    "    \"\"\"\n",
    "    plot_price_strip(option, S_list, tau_list) plot option prices for underlying and maturities in 'S_list' and 'tau_list',\n",
    "    respectively.\n",
    "\n",
    "    Parameters:\n",
    "        option (CallOption): instance of CallOption class;\n",
    "        S_list (List):       list of underlying values;\n",
    "        tau_list (List):     list of times to maturity (in years);\n",
    "        \n",
    "    Returns:\n",
    "        None;\n",
    "\n",
    "    \"\"\"\n",
    "\n",
    "    # color cycle setup: basically a cycle of different shades of blue as many time to maturity there are\n",
    "    plt.rcParams[\"axes.prop_cycle\"] = plt.cycler(\"color\", plt.cm.Blues(np.linspace(0,1,len(tau_list)+1)))\n",
    "\n",
    "    # define the figure\n",
    "    fig, ax = plt.subplots(figsize=(10,6))\n",
    "\n",
    "    # auxiliary variables\n",
    "    numS = len(S_list)\n",
    "    numTau = len(tau_list)\n",
    "\n",
    "    # plot a dot to highlight the strike position\n",
    "    ax.plot(option.K, 0, 'k.', ms=15, label=\"Strike $K$\")\n",
    "\n",
    "    # plot the price for different underlying values, one line for each different time to maturity tau\n",
    "    for i in np.arange(numTau)[::-1]: # loop over reversed range\n",
    "        \n",
    "        option.tau = tau_list[i] # reset of time-to-maturity\n",
    "        price = np.zeros(numS)\n",
    "        \n",
    "        for j in np.arange(numS):\n",
    "            option.S = S_list[j] # reset of underlying value\n",
    "            price[j] = option.price()\n",
    "        \n",
    "        ax.plot(S_list, price, '-', lw=1.5, label=r\"$\\tau={}$\".format(option.tau))\n",
    "    \n",
    "    # plot the red payoff line for different underlying values\n",
    "    payoff = np.zeros(numS)\n",
    "    for i in np.arange(numS):\n",
    "        option.S = S_list[i] # reset of underlying value\n",
    "        payoff[i] = option.payoff()\n",
    "\n",
    "    ax.plot(S_list, payoff, 'r-', lw=1.5, label=\"$max(S-K, 0)$\")\n",
    "\n",
    "    # set axis labels \n",
    "    ax.set_xlabel('Underlying $S_t$', fontsize=12) \n",
    "    ax.set_ylabel('Black-Scholes Price', fontsize=12) \n",
    "\n",
    "    # set title\n",
    "    ax.set_title(r\"Price of a Call Option $(S_t, K={}, \\tau=T-t, r={}\\%, \\sigma={}\\%)$ Vs $S$ (at different $\\tau$)\".\n",
    "                 format(option.K, option.r, option.sigma), fontsize=12) \n",
    "\n",
    "    # add the legend\n",
    "    ax.legend(loc='upper left', ncol=1)\n",
    "\n",
    "    # add a gride to ease visualization\n",
    "    plt.grid(True)\n",
    "\n",
    "    # show the plot\n",
    "    fig.tight_layout()\n",
    "    plt.show()"
   ]
  },
  {
   "cell_type": "code",
   "execution_count": null,
   "metadata": {
    "scrolled": false
   },
   "outputs": [],
   "source": [
    "plot_price_strip(call, S_strip, tau_strip)"
   ]
  },
  {
   "cell_type": "code",
   "execution_count": null,
   "metadata": {},
   "outputs": [],
   "source": [
    "def plot_price(option, S_list, tau):\n",
    "    \"\"\"\n",
    "    plot_price(option, S_list, tau) plot option prices for underlying in 'S_list' and time to maturity 'tau'.\n",
    "\n",
    "    Parameters:\n",
    "        option (CallOption): instance of CallOption class;\n",
    "        S_list (List):       list of underlying values;\n",
    "        tau (float):         time to maturity (in years);\n",
    "        \n",
    "    Returns:\n",
    "        None;\n",
    "\n",
    "    \"\"\"\n",
    "\n",
    "    # define the figure\n",
    "    fig, ax = plt.subplots(figsize=(10,6))\n",
    "\n",
    "    # setting legend labels\n",
    "    upper_limit_label = r\"Upper limit: $S_t$\"\n",
    "    payoff_label      =r\"$max(S-K, 0)$\"\n",
    "    lower_limit_label = r\"Lower limit: $max(S_t - K e^{-r \\tau}, 0)$\"\n",
    "        \n",
    "    # auxiliary variable\n",
    "    numS = len(S_list)\n",
    "\n",
    "    # plot a dot to highlight the strike position\n",
    "    ax.plot(option.K, 0, 'k.', ms=15, label=\"Strike $K$\")\n",
    "\n",
    "    # plot the upper limit, the price and the lower limit for different underlying values\n",
    "    upper_limit = np.zeros(numS)\n",
    "    price       = np.zeros(numS)\n",
    "    lower_limit = np.zeros(numS)\n",
    "    payoff      = np.zeros(numS)\n",
    "\n",
    "    for i in np.arange(numS):\n",
    "        option.S = S_list[i] # reset of underlying value\n",
    "        \n",
    "        upper_limit[i] = option.price_upper_limit()\n",
    "        price[i]       = option.price()\n",
    "        lower_limit[i] = option.price_lower_limit()\n",
    "        payoff[i]      = option.payoff()\n",
    "\n",
    "    ax.plot(S_list, upper_limit, 'k-.', lw=1.5, label=upper_limit_label)\n",
    "    ax.plot(S_list, price,       'b-',  lw=1.5, label=r\"Price\")\n",
    "    ax.plot(S_list, lower_limit, 'k--', lw=1.5, label=lower_limit_label)\n",
    "    ax.plot(S_list, payoff,      'r-',  lw=1.5, label=payoff_label)\n",
    "\n",
    "    # set axis labels \n",
    "    ax.set_xlabel('Underlying $S_t$', fontsize=12) \n",
    "    ax.set_ylabel('Black-Scholes Price', fontsize=12) \n",
    "\n",
    "    # set title\n",
    "    ax.set_title(r\"Price of a Call Option $(S_t, K={}, \\tau=T-t={:.1f}y, r={}\\%, \\sigma={}\\%)$ Vs $S$ (with price limits)\".\n",
    "                 format(option.K, option.tau, option.r*100, option.sigma*100), fontsize=12) \n",
    "\n",
    "    # add the legend\n",
    "    ax.legend(loc='upper left', ncol=1)\n",
    "\n",
    "    # add a gride to ease visualization\n",
    "    plt.grid(True)\n",
    "\n",
    "    # show the plot\n",
    "    fig.tight_layout()\n",
    "    plt.show()"
   ]
  },
  {
   "cell_type": "code",
   "execution_count": null,
   "metadata": {},
   "outputs": [],
   "source": [
    "call_focus = CallOption(S_t=3.0, K=5.0, t=\"19-04-2020\", T=\"19-04-2022\", r=0.05, sigma=0.2)"
   ]
  },
  {
   "cell_type": "code",
   "execution_count": null,
   "metadata": {},
   "outputs": [],
   "source": [
    "plot_price(call_focus, S_strip_focus, call_focus.tau)"
   ]
  },
  {
   "cell_type": "markdown",
   "metadata": {},
   "source": [
    "in plotter `S` and `tau` attributes have been intentionally changed. But this might be something error prone.. name hiding"
   ]
  },
  {
   "cell_type": "code",
   "execution_count": null,
   "metadata": {},
   "outputs": [],
   "source": [
    "class CallOption(object):\n",
    "    \"\"\"\n",
    "    CallOption class implementing payoff and pricing of a european call option.\n",
    "    \n",
    "    Attributes:\n",
    "    -----------\n",
    "        S_t (float):              spot price of the underlying asset at the valuation date 't';\n",
    "        K (float):                strike price;\n",
    "        t (str; dt.datetime):     valuation date. Can be either a \"dd-mm-YYYY\" String or a pd.datetime() object\n",
    "        T (str; dt.datetime):     expiration date. Can be either a \"dd-mm-YYYY\" String or a pd.datetime() object\n",
    "        tau (float):              time to maturity in years, computed as tau=T-t by time_to_maturity() method\n",
    "        r (float):                continuously compounded short-rate;\n",
    "        sigma (float):            volatility of underlying asset;\n",
    "    \n",
    "    Public Methods:\n",
    "    --------            \n",
    "        payoff: float\n",
    "            Computes the payoff of the option and returns it\n",
    "\n",
    "        price_upper_limit: float \n",
    "            Returns the upper limit for a vanilla call option price.\n",
    "\n",
    "        price_lower_limit: float \n",
    "            Returns the lower limit for a vanilla call option price.\n",
    "            \n",
    "        price: float\n",
    "            Computes the exact price of the option and returns it\n",
    "\n",
    "    \"\"\"\n",
    "    \n",
    "    def __init__(self, S_t, K, t, T, r, sigma):\n",
    "        self.__S     = S_t\n",
    "        self.__K     = K\n",
    "        self.__t     = dt.datetime.strptime(t, \"%d-%m-%Y\") if isinstance(t, str) else t\n",
    "        self.__T     = dt.datetime.strptime(T, \"%d-%m-%Y\") if isinstance(T, str) else T\n",
    "        self.__tau   = self.__time_to_maturity()\n",
    "        self.__r     = r\n",
    "        self.__sigma = sigma\n",
    "        \n",
    "    def __repr__(self):\n",
    "        return r\"CallOption(S_t={:.1f}, K={:.1f}, t={}, T={}, tau={:.2f}y, r={:.1f}%, sigma={:.1f}%)\".\\\n",
    "                format(self.get_S(), self.get_K(), self.get_t().strftime(\"%d-%m-%Y\"), \n",
    "                       self.get_T().strftime(\"%d-%m-%Y\"), self.get_tau(), self.get_r()*100, self.get_sigma()*100)\n",
    "    \n",
    "    # getters\n",
    "    def get_S(self):\n",
    "        return self.__S\n",
    "    \n",
    "    def get_K(self):\n",
    "        return self.__K\n",
    "    \n",
    "    def get_t(self):\n",
    "        return self.__t\n",
    "\n",
    "    def get_T(self):\n",
    "        return self.__T\n",
    "\n",
    "    def get_tau(self):\n",
    "        return self.__tau\n",
    "    \n",
    "    def get_r(self):\n",
    "        return self.__r\n",
    "\n",
    "    def get_sigma(self):\n",
    "        return self.__sigma\n",
    "    \n",
    "    # setters\n",
    "    def set_S(self, S):\n",
    "        self.__S = S\n",
    "        \n",
    "    def set_K(self, K):\n",
    "        self.__K = K\n",
    "    \n",
    "    def set_t(self, t):\n",
    "        self.__t = dt.datetime.strptime(t, \"%d-%m-%Y\") if isinstance(t, str) else t\n",
    "        # update time to maturity, given changed t, to keep internal consistency\n",
    "        self.__update_tau() \n",
    "\n",
    "    def set_T(self, T):\n",
    "        self.__T = dt.datetime.strptime(T, \"%d-%m-%Y\") if isinstance(T, str) else T\n",
    "        # update time to maturity, given changed T, to keep internal consistency\n",
    "        self.__update_tau() \n",
    "    \n",
    "    def set_tau(self, tau):\n",
    "        self.__tau = tau\n",
    "        # update expiration date, given changed tau, to keep internal consistency\n",
    "        # we could have updated valuation date as well, but this is a stylistic choice\n",
    "        self.__update_T()\n",
    "\n",
    "    def set_r(self, r):\n",
    "        self.__r = r\n",
    "\n",
    "    def set_sigma(self, sigma):\n",
    "        self.__sigma = sigma\n",
    "        \n",
    "    # update methods (private)\n",
    "    def __update_tau(self):\n",
    "        self.__tau = self.__time_to_maturity()\n",
    "\n",
    "    def __update_T(self):\n",
    "        self.__T = self.__t + dt.timedelta(days=math.ceil(self.__tau*365))\n",
    "\n",
    "    # time to maturity method (private)\n",
    "    def __time_to_maturity(self):\n",
    "        return (self.__T - self.__t).days / 365.0\n",
    "    \n",
    "    # payoff calculation\n",
    "    def payoff(self):\n",
    "        return max(0.0, self.get_S() - self.get_K())\n",
    "\n",
    "    # upper price limit\n",
    "    def price_upper_limit(self):\n",
    "        return self.get_S()\n",
    "\n",
    "    # lower price limit\n",
    "    def price_lower_limit(self):\n",
    "        return max(self.get_S() - self.get_K()*np.exp(-self.get_r() * self.get_tau()), 0)\n",
    "    \n",
    "    # price calculation\n",
    "    def price(self):\n",
    "        \n",
    "        # some local variables retrieved to be used repeatedly\n",
    "        S = self.get_S()\n",
    "        \n",
    "        if S == 0: # this is to avoid log(0) issues\n",
    "            return 0.0\n",
    "        else:\n",
    "            K     = self.get_K()\n",
    "            tau   = self.get_tau()\n",
    "            r     = self.get_r()\n",
    "            sigma = self.get_sigma()\n",
    "\n",
    "            d1 = (np.log(S/K) + (r + 0.5 * sigma ** 2) * tau) / (sigma * np.sqrt(tau))\n",
    "            d2 = d1 - sigma * np.sqrt(tau)\n",
    "\n",
    "            price = S * stats.norm.cdf(d1, 0.0, 1.0) - K * np.exp(-r * tau) * stats.norm.cdf(d2, 0.0, 1.0)\n",
    "\n",
    "            return price    "
   ]
  },
  {
   "cell_type": "code",
   "execution_count": null,
   "metadata": {
    "scrolled": true
   },
   "outputs": [],
   "source": [
    "call = CallOption(S_t=90.0, K=100.0, t=\"19-04-2020\", T=\"31-12-2020\", r=0.05, sigma=0.2)"
   ]
  },
  {
   "cell_type": "code",
   "execution_count": null,
   "metadata": {},
   "outputs": [],
   "source": [
    "call"
   ]
  },
  {
   "cell_type": "code",
   "execution_count": null,
   "metadata": {},
   "outputs": [],
   "source": [
    "type(call)"
   ]
  },
  {
   "cell_type": "code",
   "execution_count": null,
   "metadata": {},
   "outputs": [],
   "source": [
    "isinstance(call, CallOption)"
   ]
  },
  {
   "cell_type": "code",
   "execution_count": null,
   "metadata": {},
   "outputs": [],
   "source": [
    "# Raises: AttributeError: 'CallOption' object has no attribute '__S'\n",
    "#\n",
    "#call.__S"
   ]
  },
  {
   "cell_type": "code",
   "execution_count": null,
   "metadata": {},
   "outputs": [],
   "source": [
    "call.get_S()"
   ]
  },
  {
   "cell_type": "code",
   "execution_count": null,
   "metadata": {},
   "outputs": [],
   "source": [
    "call.set_S(105)"
   ]
  },
  {
   "cell_type": "code",
   "execution_count": null,
   "metadata": {},
   "outputs": [],
   "source": [
    "call.get_S()"
   ]
  },
  {
   "cell_type": "code",
   "execution_count": null,
   "metadata": {},
   "outputs": [],
   "source": [
    "call.get_t()"
   ]
  },
  {
   "cell_type": "code",
   "execution_count": null,
   "metadata": {},
   "outputs": [],
   "source": [
    "call.get_T()"
   ]
  },
  {
   "cell_type": "code",
   "execution_count": null,
   "metadata": {},
   "outputs": [],
   "source": [
    "call.get_tau()"
   ]
  },
  {
   "cell_type": "code",
   "execution_count": null,
   "metadata": {},
   "outputs": [],
   "source": [
    "call.set_t(\"01-06-2020\")"
   ]
  },
  {
   "cell_type": "code",
   "execution_count": null,
   "metadata": {},
   "outputs": [],
   "source": [
    "call.get_t()"
   ]
  },
  {
   "cell_type": "code",
   "execution_count": null,
   "metadata": {},
   "outputs": [],
   "source": [
    "# Raises: AttributeError: 'CallOption' object has no attribute '__update_tau'\n",
    "#\n",
    "# call.__update_tau()"
   ]
  },
  {
   "cell_type": "code",
   "execution_count": null,
   "metadata": {},
   "outputs": [],
   "source": [
    "call.get_tau() # tau gets updated automatically"
   ]
  },
  {
   "cell_type": "code",
   "execution_count": null,
   "metadata": {},
   "outputs": [],
   "source": [
    "(call.get_T() - call.get_t()).days / 365 # consistency check"
   ]
  },
  {
   "cell_type": "code",
   "execution_count": null,
   "metadata": {},
   "outputs": [],
   "source": [
    "call.set_tau(1.0)"
   ]
  },
  {
   "cell_type": "code",
   "execution_count": null,
   "metadata": {},
   "outputs": [],
   "source": [
    "call.get_tau()"
   ]
  },
  {
   "cell_type": "code",
   "execution_count": null,
   "metadata": {},
   "outputs": [],
   "source": [
    "# Raises: AttributeError: 'CallOption' object has no attribute '__update_T'\n",
    "#\n",
    "# call.__update_T()"
   ]
  },
  {
   "cell_type": "code",
   "execution_count": null,
   "metadata": {},
   "outputs": [],
   "source": [
    "call.get_T() # expiration date gets updated automatically"
   ]
  },
  {
   "cell_type": "code",
   "execution_count": null,
   "metadata": {},
   "outputs": [],
   "source": [
    "(call.get_T() - call.get_t()).days / 365 # consistency check"
   ]
  },
  {
   "cell_type": "code",
   "execution_count": null,
   "metadata": {},
   "outputs": [],
   "source": [
    "call = CallOption(S_t=90.0, K=100.0, t=\"19-04-2020\", T=\"31-12-2020\", r=0.05, sigma=0.2)"
   ]
  },
  {
   "cell_type": "code",
   "execution_count": null,
   "metadata": {},
   "outputs": [],
   "source": [
    "call"
   ]
  },
  {
   "cell_type": "code",
   "execution_count": null,
   "metadata": {},
   "outputs": [],
   "source": [
    "def plot_price_strip(option, S_list, tau_list):\n",
    "    \"\"\"\n",
    "    plot_price_strip(option, S_list, tau_list) plot option prices for underlying and maturities in 'S_list' and 'tau_list',\n",
    "    respectively.\n",
    "\n",
    "    Parameters:\n",
    "        option (CallOption): instance of CallOption class;\n",
    "        S_list (List):       list of underlying values;\n",
    "        tau_list (List):     list of times to maturity (in years);\n",
    "        \n",
    "    Returns:\n",
    "        None;\n",
    "\n",
    "    \"\"\"\n",
    "\n",
    "    # color cycle setup: basically a cycle of different shades of blue as many time to maturity there are\n",
    "    plt.rcParams[\"axes.prop_cycle\"] = plt.cycler(\"color\", plt.cm.Blues(np.linspace(0,1,len(tau_list)+1)))\n",
    "\n",
    "    # define the figure\n",
    "    fig, ax = plt.subplots(figsize=(10,6))\n",
    "\n",
    "    # auxiliary variables\n",
    "    numS = len(S_list)\n",
    "    numTau = len(tau_list)\n",
    "\n",
    "    # plot a dot to highlight the strike position\n",
    "    ax.plot(K, 0, 'k.', ms=15, label=\"Strike $K$\")\n",
    "\n",
    "    # plot the price for different underlying values, one line for each different time to maturity tau\n",
    "    for i in np.arange(numTau)[::-1]: # loop over reversed range\n",
    "        \n",
    "        option.set_tau(tau_list[i]) # reset the time to maturity\n",
    "        price = np.zeros(numS)\n",
    "        \n",
    "        for j in np.arange(numS):\n",
    "            option.set_S(S_list[j]) # reset of underlying value\n",
    "            price[j] = option.price()\n",
    "        \n",
    "        ax.plot(S_list, price, '-', lw=1.5, label=r\"$\\tau={}$\".format(option.get_tau()))\n",
    "    \n",
    "    # plot the red payoff line for different underlying values\n",
    "    payoff = np.zeros(numS)\n",
    "    for i in np.arange(numS):\n",
    "        option.set_S(S_list[i]) # reset of underlying value\n",
    "        payoff[i] = option.payoff()\n",
    "\n",
    "    ax.plot(S_list, payoff, 'r-', lw=1.5, label=\"$max(S-K, 0)$\")\n",
    "\n",
    "    # set axis labels \n",
    "    ax.set_xlabel('Underlying $S_t$', fontsize=12) \n",
    "    ax.set_ylabel('Black-Scholes Price', fontsize=12) \n",
    "\n",
    "    # set title\n",
    "    ax.set_title(r\"Price of a Call Option $(S_t, K={}, \\tau=T-t, r={}\\%, \\sigma={}\\%)$ Vs $S$ (at different $\\tau$)\".\n",
    "                 format(option.get_K(), option.get_r()*100, option.get_sigma()*100), fontsize=12) \n",
    "\n",
    "    # add the legend\n",
    "    ax.legend(loc='upper left', ncol=1)\n",
    "\n",
    "    # add a gride to ease visualization\n",
    "    plt.grid(True)\n",
    "\n",
    "    # show the plot\n",
    "    fig.tight_layout()\n",
    "    plt.show()"
   ]
  },
  {
   "cell_type": "code",
   "execution_count": null,
   "metadata": {
    "scrolled": false
   },
   "outputs": [],
   "source": [
    "plot_price_strip(call, S_strip, tau_strip)"
   ]
  },
  {
   "cell_type": "code",
   "execution_count": null,
   "metadata": {},
   "outputs": [],
   "source": [
    "def plot_price(option, S_list, tau):\n",
    "    \"\"\"\n",
    "    plot_price(option, S_list, tau_list) plot option prices for underlying in 'S_list' and time to maturity 'tau'.\n",
    "\n",
    "    Parameters:\n",
    "        option (CallOption): instance of CallOption class;\n",
    "        S_list (List):       list of underlying values;\n",
    "        tau (float):         time to maturity (in years);\n",
    "        \n",
    "    Returns:\n",
    "        None;\n",
    "\n",
    "    \"\"\"\n",
    "\n",
    "    # define the figure\n",
    "    fig, ax = plt.subplots(figsize=(10,6))\n",
    "\n",
    "    # setting legend labels\n",
    "    upper_limit_label = r\"Upper limit: $S_t$\"\n",
    "    payoff_label      =r\"$max(S - K, 0)$\"\n",
    "    lower_limit_label = r\"Lower limit: $max(S_t - K e^{-r \\tau}, 0)$\"\n",
    "        \n",
    "    # auxiliary variable\n",
    "    numS = len(S_list)\n",
    "\n",
    "    # plot a dot to highlight the strike position\n",
    "    ax.plot(option.get_K(), 0, 'k.', ms=15, label=\"Strike $K$\")\n",
    "\n",
    "    # plot the upper limit, the price and the lower limit for different underlying values\n",
    "    upper_limit = np.zeros(numS)\n",
    "    price       = np.zeros(numS)\n",
    "    lower_limit = np.zeros(numS)\n",
    "    payoff      = np.zeros(numS)\n",
    "\n",
    "    for i in np.arange(numS):\n",
    "        option.set_S(S_list[i]) # reset of underlying value\n",
    "        \n",
    "        upper_limit[i] = option.price_upper_limit()\n",
    "        price[i]       = option.price()\n",
    "        lower_limit[i] = option.price_lower_limit()\n",
    "        payoff[i]      = option.payoff()\n",
    "\n",
    "    ax.plot(S_list, upper_limit, 'k-.', lw=1.5, label=upper_limit_label)\n",
    "    ax.plot(S_list, price,       'b-',  lw=1.5, label=r\"Price\")\n",
    "    ax.plot(S_list, lower_limit, 'k--', lw=1.5, label=lower_limit_label)\n",
    "    ax.plot(S_list, payoff,      'r-',  lw=1.5, label=payoff_label)\n",
    "\n",
    "    # set axis labels \n",
    "    ax.set_xlabel('Underlying $S_t$', fontsize=12) \n",
    "    ax.set_ylabel('Black-Scholes Price', fontsize=12) \n",
    "\n",
    "    # set title\n",
    "    ax.set_title(r\"Price of a Call Option $(S_t, K={}, \\tau=T-t={:.1f}y, r={}\\%, \\sigma={}\\%)$ Vs $S$ (with price limits)\".\n",
    "                 format(option.get_K(), option.get_tau(), option.get_r()*100, option.get_sigma()*100), fontsize=12) \n",
    "\n",
    "    # add the legend\n",
    "    ax.legend(loc='upper left', ncol=1)\n",
    "\n",
    "    # add a gride to ease visualization\n",
    "    plt.grid(True)\n",
    "\n",
    "    # show the plot\n",
    "    fig.tight_layout()\n",
    "    plt.show()"
   ]
  },
  {
   "cell_type": "code",
   "execution_count": null,
   "metadata": {},
   "outputs": [],
   "source": [
    "call_focus = CallOption(S_t=3.0, K=5.0, t=\"19-04-2020\", T=\"19-04-2022\", r=0.05, sigma=0.2)"
   ]
  },
  {
   "cell_type": "code",
   "execution_count": null,
   "metadata": {},
   "outputs": [],
   "source": [
    "plot_price(call_focus, S_strip_focus, call_focus.get_tau())"
   ]
  },
  {
   "cell_type": "markdown",
   "metadata": {},
   "source": [
    "Put options (also info labels)"
   ]
  },
  {
   "cell_type": "code",
   "execution_count": null,
   "metadata": {},
   "outputs": [],
   "source": [
    "class PlainVanillaOption(object):\n",
    "    \"\"\"\n",
    "    PlainVanillaOption class implementing payoff and pricing of plain-vanilla call and put options.\n",
    "    Put price is calculated using put-call parity\n",
    "    \n",
    "    Attributes:\n",
    "    -----------\n",
    "        type (str):               type of the options. Can be either 'call' or 'put';\n",
    "        S_t (float):              spot price of the underlying asset at the valuation date 't';\n",
    "        K (float):                strike price;\n",
    "        t (str; dt.datetime):     valuation date. Can be either a \"dd-mm-YYYY\" String or a pd.datetime() object\n",
    "        T (str; dt.datetime):     expiration date. Can be either a \"dd-mm-YYYY\" String or a pd.datetime() object\n",
    "        tau (float):              time to maturity in years, computed as tau=T-t by time_to_maturity() method\n",
    "        r (float):                continuously compounded short-rate;\n",
    "        sigma (float):            volatility of underlying asset;\n",
    "    \n",
    "    Public Methods:\n",
    "    --------   \n",
    "    \n",
    "        getters and setters for all attributes\n",
    "        \n",
    "        payoff: float\n",
    "            Computes the payoff of the option and returns it\n",
    "\n",
    "        price_upper_limit: float \n",
    "            Returns the upper limit for a vanilla option price.\n",
    "\n",
    "        price_lower_limit: float \n",
    "            Returns the lower limit for a vanilla option price.\n",
    "            \n",
    "        price: float\n",
    "            Computes the exact price of the option and returns it, using call_price() or put_price()\n",
    "\n",
    "    \"\"\"\n",
    "    \n",
    "    def __init__(self, option_type, S_t, K, t, T, r, sigma):\n",
    "\n",
    "        # option type check\n",
    "        if option_type not in ['call', 'put']:\n",
    "            raise NotImplementedError(\"Option Type: '{}' does not exist!\".format(option_type))\n",
    "        \n",
    "        self.__type  = option_type\n",
    "        self.__S     = S_t\n",
    "        self.__K     = K\n",
    "        self.__t     = dt.datetime.strptime(t, \"%d-%m-%Y\") if isinstance(t, str) else t\n",
    "        self.__T     = dt.datetime.strptime(T, \"%d-%m-%Y\") if isinstance(T, str) else T\n",
    "        self.__tau   = self.__time_to_maturity()\n",
    "        self.__r     = r\n",
    "        self.__sigma = sigma\n",
    "        \n",
    "        # informations dictionary\n",
    "        self.__docstring_dict = {\n",
    "            'call':{\n",
    "                'price_upper_limit': r\"Upper limit: $S_t$\",\n",
    "                'payoff':            r\"Payoff: $max(S-K, 0)$\",\n",
    "                'price_lower_limit': r\"Lower limit: $max(S_t - K e^{-r \\tau}, 0)$\"\n",
    "            },\n",
    "            'put': {\n",
    "                'price_upper_limit': r\"Upper limit: $K e^{-r \\tau}$\",\n",
    "                'payoff':            r\"Payoff: $max(K-S, 0)$\",\n",
    "                'price_lower_limit': r\"Lower limit: $max(K e^{-r \\tau} - S_t, 0)$\"}\n",
    "        }\n",
    "                \n",
    "    def __repr__(self):\n",
    "        return r\"PlainVanillaOption('{}', S_t={:.1f}, K={:.1f}, t={}, T={}, tau={:.2f}y, r={:.1f}%, sigma={:.1f}%)\".\\\n",
    "                format(self.get_type(), self.get_S(), self.get_K(), self.get_t().strftime(\"%d-%m-%Y\"), \n",
    "                       self.get_T().strftime(\"%d-%m-%Y\"), self.get_tau(), self.get_r()*100, self.get_sigma()*100)\n",
    "    \n",
    "    # getters\n",
    "    def get_type(self):\n",
    "        return self.__type\n",
    "    \n",
    "    def get_S(self):\n",
    "        return self.__S\n",
    "    \n",
    "    def get_K(self):\n",
    "        return self.__K\n",
    "    \n",
    "    def get_t(self):\n",
    "        return self.__t\n",
    "\n",
    "    def get_T(self):\n",
    "        return self.__T\n",
    "\n",
    "    def get_tau(self):\n",
    "        return self.__tau\n",
    "    \n",
    "    def get_r(self):\n",
    "        return self.__r\n",
    "\n",
    "    def get_sigma(self):\n",
    "        return self.__sigma\n",
    "    \n",
    "    def get_docstring(self, label):\n",
    "        return self.__docstring_dict[self.get_type()][label]    \n",
    "    \n",
    "    # setters\n",
    "    def set_type(self, option_type):\n",
    "        self.__type = option_type\n",
    "        \n",
    "        # option type check\n",
    "        if option_type not in ['call', 'put']:\n",
    "            raise NotImplementedError(\"Option Type: '{}' does not exist!\".format(option_type))\n",
    "        \n",
    "    def set_S(self, S):\n",
    "        self.__S = S\n",
    "        \n",
    "    def set_K(self, K):\n",
    "        self.__K = K\n",
    "    \n",
    "    def set_t(self, t):\n",
    "        self.__t = dt.datetime.strptime(t, \"%d-%m-%Y\") if isinstance(t, str) else t\n",
    "        # update time to maturity, given changed t, to keep internal consistency\n",
    "        self.__update_tau() \n",
    "\n",
    "    def set_T(self, T):\n",
    "        self.__T = dt.datetime.strptime(T, \"%d-%m-%Y\") if isinstance(T, str) else T\n",
    "        # update time to maturity, given changed T, to keep internal consistency\n",
    "        self.__update_tau() \n",
    "    \n",
    "    def set_tau(self, tau):\n",
    "        self.__tau = tau\n",
    "        # update expiration date, given changed tau, to keep internal consistency\n",
    "        # we could have updated valuation date as well, but this is a stylistic choice\n",
    "        self.__update_T()\n",
    "\n",
    "    def set_r(self, r):\n",
    "        self.__r = r\n",
    "\n",
    "    def set_sigma(self, sigma):\n",
    "        self.__sigma = sigma\n",
    "        \n",
    "    # update methods (private)\n",
    "    def __update_tau(self):\n",
    "        self.__tau = self.__time_to_maturity()\n",
    "\n",
    "    def __update_T(self):\n",
    "        self.__T = self.__t + dt.timedelta(days=math.ceil(self.__tau*365))\n",
    "\n",
    "    # time to maturity calculation\n",
    "    def __time_to_maturity(self):\n",
    "        return (self.__T - self.__t).days / 365.0\n",
    "    \n",
    "    # payoff calculation\n",
    "    def payoff(self):\n",
    "        # call case\n",
    "        if self.get_type() == 'call':\n",
    "            return max(0.0, self.get_S() - self.get_K())\n",
    "        # put case\n",
    "        else:\n",
    "            return max(0.0, self.get_K() - self.get_S())\n",
    "\n",
    "    # upper price limit\n",
    "    def price_upper_limit(self):\n",
    "        # call case\n",
    "        if self.get_type() == 'call':\n",
    "            return self.get_S()\n",
    "        # put case\n",
    "        else:\n",
    "            return self.get_K()*np.exp(-self.get_r() * self.get_tau())\n",
    "\n",
    "    # lower price limit\n",
    "    def price_lower_limit(self):\n",
    "        # call case\n",
    "        if self.get_type() == 'call':\n",
    "            return max(self.get_S() - self.get_K()*np.exp(-self.get_r() * self.get_tau()), 0)\n",
    "        # put case\n",
    "        else:\n",
    "            return max(self.get_K()*np.exp(-self.get_r() * self.get_tau()) - self.get_S(), 0)\n",
    "            \n",
    "    # price calculation\n",
    "    def price(self):\n",
    "        # call case\n",
    "        if self.get_type() == 'call':\n",
    "            return self.__call_price()\n",
    "        # put case\n",
    "        else:\n",
    "            return self.put_price()\n",
    "          \n",
    "    def __call_price(self):\n",
    "        \n",
    "        # some local variables retrieved to be used repeatedly\n",
    "        S = self.get_S()\n",
    "        \n",
    "        if S == 0: # this is to avoid log(0) issues\n",
    "            return 0.0\n",
    "        else:\n",
    "            K     = self.get_K()\n",
    "            tau   = self.get_tau()\n",
    "            r     = self.get_r()\n",
    "            sigma = self.get_sigma()\n",
    "\n",
    "            d1 = (np.log(S/K) + (r + 0.5 * sigma ** 2) * tau) / (sigma * np.sqrt(tau))\n",
    "            d2 = d1 - sigma * np.sqrt(tau)\n",
    "\n",
    "            price = S * stats.norm.cdf(d1, 0.0, 1.0) - K * np.exp(-r * tau) * stats.norm.cdf(d2, 0.0, 1.0)\n",
    "\n",
    "            return price\n",
    "    \n",
    "    def __put_price(self):\n",
    "        \"\"\" Put price from Put-Call parity relation: Call + Ke^{-r*tau} = Put + S\"\"\"\n",
    "        return self.__call_price() + self.get_K() * np.exp(- self.get_r() * self.get_tau()) - self.get_S()        "
   ]
  },
  {
   "cell_type": "code",
   "execution_count": null,
   "metadata": {},
   "outputs": [],
   "source": [
    "call = PlainVanillaOption(option_type='call', S_t=90.0, K=100.0, t=\"19-04-2020\", T=\"31-12-2020\", r=0.05, sigma=0.2)\n",
    "call"
   ]
  },
  {
   "cell_type": "code",
   "execution_count": null,
   "metadata": {},
   "outputs": [],
   "source": [
    "type(call)"
   ]
  },
  {
   "cell_type": "code",
   "execution_count": null,
   "metadata": {},
   "outputs": [],
   "source": [
    "isinstance(call, PlainVanillaOption)"
   ]
  },
  {
   "cell_type": "code",
   "execution_count": null,
   "metadata": {},
   "outputs": [],
   "source": [
    "call.price()"
   ]
  },
  {
   "cell_type": "code",
   "execution_count": null,
   "metadata": {},
   "outputs": [],
   "source": [
    "put = PlainVanillaOption(option_type='put', S_t=90.0, K=100.0, t=\"19-04-2020\", T=\"31-12-2020\", r=0.05, sigma=0.2)\n",
    "put"
   ]
  },
  {
   "cell_type": "code",
   "execution_count": null,
   "metadata": {},
   "outputs": [],
   "source": [
    "type(call)"
   ]
  },
  {
   "cell_type": "code",
   "execution_count": null,
   "metadata": {},
   "outputs": [],
   "source": [
    "isinstance(call, PlainVanillaOption)"
   ]
  },
  {
   "cell_type": "code",
   "execution_count": null,
   "metadata": {},
   "outputs": [],
   "source": [
    "put.price()"
   ]
  },
  {
   "cell_type": "code",
   "execution_count": null,
   "metadata": {},
   "outputs": [],
   "source": [
    "put.payoff()"
   ]
  },
  {
   "cell_type": "code",
   "execution_count": null,
   "metadata": {},
   "outputs": [],
   "source": [
    "# Raises: NotImplementedError: Option Type: 'other' does not exist!\n",
    "#\n",
    "# PlainVanillaOption(option_type='other', S_t=90.0, K=100.0, t=\"19-04-2020\", T=\"31-12-2020\", r=0.05, sigma=0.2)"
   ]
  },
  {
   "cell_type": "code",
   "execution_count": null,
   "metadata": {},
   "outputs": [],
   "source": [
    "def plot_price_strip(option, S_list, tau_list):\n",
    "    \"\"\"\n",
    "    plot_price_strip(option, S_list, tau_list) plot option prices for underlying and maturities in 'S_list' and 'tau_list',\n",
    "    respectively.\n",
    "\n",
    "    Parameters:\n",
    "        option (PlainVanillaOption): instance of PlainVanillaOption class;\n",
    "        S_list (List):               list of underlying values;\n",
    "        tau_list (List):             list of times to maturity (in years);\n",
    "        \n",
    "    Returns:\n",
    "        None;\n",
    "\n",
    "    \"\"\"\n",
    "\n",
    "    # color cycle setup: basically a cycle of different shades of blue as many time to maturity there are\n",
    "    plt.rcParams[\"axes.prop_cycle\"] = plt.cycler(\"color\", plt.cm.Blues(np.linspace(0,1,len(tau_list)+1)))\n",
    "\n",
    "    # define the figure\n",
    "    fig, ax = plt.subplots(figsize=(10,6))\n",
    "        \n",
    "    # auxiliary variables\n",
    "    numS = len(S_list)\n",
    "    numTau = len(tau_list)\n",
    "\n",
    "    # plot a dot to highlight the strike position\n",
    "    ax.plot(option.get_K(), 0, 'k.', ms=15, label=\"Strike $K$\")\n",
    "\n",
    "    # plot the price for different underlying values, one line for each different time to maturity tau\n",
    "    for i in np.arange(numTau)[::-1]: # loop over reversed range\n",
    "        \n",
    "        option.set_tau(tau_list[i]) # reset of time to maturity\n",
    "        price = np.zeros(numS)\n",
    "        \n",
    "        for j in np.arange(numS):\n",
    "            option.set_S(S_list[j]) # reset of underlying value\n",
    "            price[j] = option.price()\n",
    "        \n",
    "        ax.plot(S_list, price, '-', lw=1.5, label=r\"$\\tau={}$\".format(option.get_tau()))\n",
    "    \n",
    "    # plot the red payoff line for different underlying values\n",
    "    payoff = np.zeros(numS)\n",
    "    for i in np.arange(numS):\n",
    "        option.set_S(S_list[i]) # reset of underlying value\n",
    "        payoff[i] = option.payoff()\n",
    "\n",
    "    ax.plot(S_list, payoff, 'r-', lw=1.5, label=option.get_docstring('payoff'))\n",
    "\n",
    "    # set axis labels \n",
    "    ax.set_xlabel('Underlying $S_t$', fontsize=12) \n",
    "    ax.set_ylabel('Black-Scholes Price', fontsize=12) \n",
    "\n",
    "    # set title\n",
    "    ax.set_title(r\"Price of a {} Option $(S_t, K={}, \\tau=T-t, r={}\\%, \\sigma={}\\%)$ Vs $S$ (at different $\\tau$)\".\n",
    "                 format(option.get_type(), option.get_K(), option.get_r()*100, option.get_sigma()*100), fontsize=12) \n",
    "\n",
    "    # add the legend ('best' loc parameters places the legend in the best position automatically)\n",
    "    ax.legend(loc='best', ncol=1)\n",
    "        \n",
    "    # add a gride to ease visualization\n",
    "    plt.grid(True)\n",
    "\n",
    "    # show the plot\n",
    "    fig.tight_layout()\n",
    "    plt.show()"
   ]
  },
  {
   "cell_type": "code",
   "execution_count": null,
   "metadata": {},
   "outputs": [],
   "source": [
    "call = PlainVanillaOption(option_type='call', S_t=90.0, K=100.0, t=\"19-04-2020\", T=\"31-12-2020\", r=0.05, sigma=0.2)\n",
    "call"
   ]
  },
  {
   "cell_type": "code",
   "execution_count": null,
   "metadata": {
    "scrolled": false
   },
   "outputs": [],
   "source": [
    "plot_price_strip(call, S_strip, tau_strip)"
   ]
  },
  {
   "cell_type": "code",
   "execution_count": null,
   "metadata": {},
   "outputs": [],
   "source": [
    "put = PlainVanillaOption(option_type='put', S_t=90.0, K=100.0, t=\"19-04-2020\", T=\"31-12-2020\", r=0.05, sigma=0.2)\n",
    "put"
   ]
  },
  {
   "cell_type": "code",
   "execution_count": null,
   "metadata": {
    "scrolled": false
   },
   "outputs": [],
   "source": [
    "plot_price_strip(put, S_strip, tau_strip)"
   ]
  },
  {
   "cell_type": "code",
   "execution_count": null,
   "metadata": {},
   "outputs": [],
   "source": [
    "def plot_price(option, S_list, tau):\n",
    "    \"\"\"\n",
    "    plot_price(option, S_list, tau) plot option prices for underlying in 'S_list' and time to maturity 'tau'.\n",
    "\n",
    "    Parameters:\n",
    "        option (PlainVanillaOption): instance of PlainVanillaOption class;\n",
    "        S_list (List):               list of underlying values;\n",
    "        tau (float):                 time to maturity (in years);\n",
    "        \n",
    "    Returns:\n",
    "        None;\n",
    "\n",
    "    \"\"\"\n",
    "\n",
    "    # define the figure\n",
    "    fig, ax = plt.subplots(figsize=(10,6))\n",
    "    \n",
    "    # auxiliary variable\n",
    "    numS = len(S_list)\n",
    "\n",
    "    # plot a dot to highlight the strike position\n",
    "    ax.plot(option.get_K(), 0, 'k.', ms=15, label=\"Strike $K$\")\n",
    "\n",
    "    # plot the upper limit, the price and the lower limit for different underlying values\n",
    "    upper_limit = np.zeros(numS)\n",
    "    price       = np.zeros(numS)\n",
    "    lower_limit = np.zeros(numS)\n",
    "    payoff      = np.zeros(numS)\n",
    "\n",
    "    for i in np.arange(numS):\n",
    "        option.set_S(S_list[i]) # reset of underlying value\n",
    "        \n",
    "        upper_limit[i] = option.price_upper_limit()\n",
    "        price[i]       = option.price()\n",
    "        lower_limit[i] = option.price_lower_limit()\n",
    "        payoff[i]      = option.payoff()\n",
    "\n",
    "    ax.plot(S_list, upper_limit, 'k-.', lw=1.5, label=option.get_docstring('price_upper_limit'))\n",
    "    ax.plot(S_list, price,       'b-',  lw=1.5, label=r\"Price\")\n",
    "    ax.plot(S_list, lower_limit, 'k--', lw=1.5, label=option.get_docstring('price_lower_limit'))\n",
    "    ax.plot(S_list, payoff,      'r-',  lw=1.5, label=option.get_docstring('payoff'))\n",
    "\n",
    "    # set axis labels \n",
    "    ax.set_xlabel('Underlying $S_t$', fontsize=12) \n",
    "    ax.set_ylabel('Black-Scholes Price', fontsize=12) \n",
    "\n",
    "    # set title\n",
    "    ax.set_title(r\"Price of a {} Option $(S_t, K={}, \\tau=T-t={:.1f}y, r={}\\%, \\sigma={}\\%)$ Vs $S$ (with price limits)\".\n",
    "                 format(option.get_type(), option.get_K(), option.get_tau(), option.get_r()*100, option.get_sigma()*100), \n",
    "                 fontsize=12) \n",
    "\n",
    "    # add the legend ('best' loc parameters places the legend in the best position automatically)\n",
    "    ax.legend(loc='best', ncol=1)\n",
    "\n",
    "    # add a gride to ease visualization\n",
    "    plt.grid(True)\n",
    "\n",
    "    # show the plot\n",
    "    fig.tight_layout()\n",
    "    plt.show()"
   ]
  },
  {
   "cell_type": "code",
   "execution_count": null,
   "metadata": {},
   "outputs": [],
   "source": [
    "call_focus = PlainVanillaOption(option_type='call', S_t=3.0, K=5.0, t=\"19-04-2020\", T=\"19-04-2022\", r=0.05, sigma=0.2)"
   ]
  },
  {
   "cell_type": "code",
   "execution_count": null,
   "metadata": {
    "scrolled": false
   },
   "outputs": [],
   "source": [
    "plot_price(call_focus, S_strip_focus, call_focus.get_tau())"
   ]
  },
  {
   "cell_type": "code",
   "execution_count": null,
   "metadata": {},
   "outputs": [],
   "source": [
    "put_focus = PlainVanillaOption(option_type='put', S_t=3.0, K=5.0, t=\"19-04-2020\", T=\"19-04-2022\", r=0.05, sigma=0.2)"
   ]
  },
  {
   "cell_type": "code",
   "execution_count": null,
   "metadata": {
    "scrolled": false
   },
   "outputs": [],
   "source": [
    "plot_price(put_focus, S_strip_focus, put_focus.get_tau())"
   ]
  },
  {
   "cell_type": "markdown",
   "metadata": {},
   "source": [
    "this cross is due to interest rates. In nowadays scenarios, rates are typically extremely low (when not negative). Let's see that the crossing disappears for $r=0$"
   ]
  },
  {
   "cell_type": "code",
   "execution_count": null,
   "metadata": {},
   "outputs": [],
   "source": [
    "call_focus_zero_rates = PlainVanillaOption(option_type='call', S_t=3.0, K=5.0, t=\"19-04-2020\", T=\"19-04-2022\", r=0.0, sigma=0.2)"
   ]
  },
  {
   "cell_type": "code",
   "execution_count": null,
   "metadata": {},
   "outputs": [],
   "source": [
    "plot_price(call_focus_zero_rates, S_strip_focus, call_focus_zero_rates.get_tau())"
   ]
  },
  {
   "cell_type": "code",
   "execution_count": null,
   "metadata": {},
   "outputs": [],
   "source": [
    "put_focus_zero_rates = PlainVanillaOption(option_type='put', S_t=3.0, K=5.0, t=\"19-04-2020\", T=\"19-04-2022\", r=0.0, sigma=0.2)"
   ]
  },
  {
   "cell_type": "code",
   "execution_count": null,
   "metadata": {
    "scrolled": false
   },
   "outputs": [],
   "source": [
    "plot_price(put_focus_zero_rates, S_strip_focus, put_focus_zero_rates.get_tau())"
   ]
  },
  {
   "cell_type": "markdown",
   "metadata": {},
   "source": [
    "Nothing is preventing us to consider even negative rates, as is common nowday. Let's use a unrealistic $r = -5\\%$ just to magnify the result graphically."
   ]
  },
  {
   "cell_type": "code",
   "execution_count": null,
   "metadata": {},
   "outputs": [],
   "source": [
    "call_focus_negative_rates = PlainVanillaOption(option_type='call', S_t=3.0, K=5.0, t=\"19-04-2020\", T=\"19-04-2022\", r=-0.05, sigma=0.2)"
   ]
  },
  {
   "cell_type": "code",
   "execution_count": null,
   "metadata": {},
   "outputs": [],
   "source": [
    "plot_price(call_focus_negative_rates, S_strip_focus, call_focus_negative_rates.get_tau())"
   ]
  },
  {
   "cell_type": "code",
   "execution_count": null,
   "metadata": {},
   "outputs": [],
   "source": [
    "put_focus_negative_rates = PlainVanillaOption(option_type='put', S_t=3.0, K=5.0, t=\"19-04-2020\", T=\"19-04-2022\", r=-0.05, sigma=0.2)"
   ]
  },
  {
   "cell_type": "code",
   "execution_count": null,
   "metadata": {
    "scrolled": false
   },
   "outputs": [],
   "source": [
    "plot_price(put_focus_negative_rates, S_strip_focus, put_focus_negative_rates.get_tau())"
   ]
  },
  {
   "cell_type": "markdown",
   "metadata": {},
   "source": [
    "Let's now implement an analogous class for Cash-Or-Nothing Digital calls and puts (aka Binary)."
   ]
  },
  {
   "cell_type": "code",
   "execution_count": null,
   "metadata": {},
   "outputs": [],
   "source": [
    "class DigitalOption(object):\n",
    "    \"\"\"\n",
    "    DigitalOption class implementing payoff and pricing of digital call and put options.\n",
    "    Put price is calculated using put-call parity\n",
    "    \n",
    "    Attributes:\n",
    "    -----------\n",
    "        type (str):               type of the options. Can be either 'call' or 'put';\n",
    "        Q (float):                cash amount\n",
    "        S_t (float):              spot price of the underlying asset at the valuation date 't';\n",
    "        K (float):                strike price;\n",
    "        t (str; dt.datetime):     valuation date. Can be either a \"dd-mm-YYYY\" String or a pd.datetime() object\n",
    "        T (str; dt.datetime):     expiration date. Can be either a \"dd-mm-YYYY\" String or a pd.datetime() object\n",
    "        tau (float):              time to maturity in years, computed as tau=T-t by time_to_maturity() method\n",
    "        r (float):                continuously compounded short-rate;\n",
    "        sigma (float):            volatility of underlying asset;\n",
    "    \n",
    "    Public Methods:\n",
    "    --------   \n",
    "    \n",
    "        getters and setters for all attributes\n",
    "        \n",
    "        payoff: float\n",
    "            Computes the payoff of the option and returns it\n",
    "\n",
    "        price_upper_limit: float \n",
    "            Returns the upper limit for a CON digital option price.\n",
    "\n",
    "        price_lower_limit: float \n",
    "            Returns the lower limit for a CON digital option price\n",
    "            .\n",
    "        price: float\n",
    "            Computes the exact price of the option and returns it, using call_price() or put_price()\n",
    "\n",
    "    \"\"\"\n",
    "    \n",
    "    def __init__(self, option_type, cash_amount, S_t, K, t, T, r, sigma):\n",
    "\n",
    "        # option type check\n",
    "        if option_type not in ['call', 'put']:\n",
    "            raise NotImplementedError(\"Option Type: '{}' does not exist!\".format(option_type))\n",
    "        \n",
    "        self.__type  = option_type\n",
    "        self.__Q     = cash_amount\n",
    "        self.__S     = S_t\n",
    "        self.__K     = K\n",
    "        self.__t     = dt.datetime.strptime(t, \"%d-%m-%Y\") if isinstance(t, str) else t\n",
    "        self.__T     = dt.datetime.strptime(T, \"%d-%m-%Y\") if isinstance(T, str) else T\n",
    "        self.__tau   = self.__time_to_maturity()\n",
    "        self.__r     = r\n",
    "        self.__sigma = sigma\n",
    "        \n",
    "        # informations dictionary\n",
    "        self.__docstring_dict = {\n",
    "            'call':{\n",
    "                'price_upper_limit': r\"Upper limit: $Q e^{-r \\tau}$\",\n",
    "                'payoff':            r\"Payoff: $Q$ $I(S > K)$\",\n",
    "                'price_lower_limit': r\"Lower limit: $0$\"\n",
    "            },\n",
    "            'put': {\n",
    "                'price_upper_limit': r\"Upper limit: $Q e^{-r \\tau}$\",\n",
    "                'payoff':            r\"Payoff: $Q$ $I(S \\leq K)$\",\n",
    "                'price_lower_limit': r\"Lower limit: $0$\"}\n",
    "        }        \n",
    "                \n",
    "    def __repr__(self):\n",
    "        return r\"DigitalOption('{}', cash={:.1f}, S_t={:.1f}, K={:.1f}, t={}, T={}, tau={:.2f}y, r={:.1f}%, sigma={:.1f}%)\".\\\n",
    "                format(self.get_type(), self.get_Q(), self.get_S(), self.get_K(), self.get_t().strftime(\"%d-%m-%Y\"), \n",
    "                       self.get_T().strftime(\"%d-%m-%Y\"), self.get_tau(), self.get_r()*100, self.get_sigma()*100)\n",
    "    \n",
    "    # getters\n",
    "    def get_type(self):\n",
    "        return self.__type\n",
    "    \n",
    "    def get_Q(self):\n",
    "        return self.__Q\n",
    "    \n",
    "    def get_S(self):\n",
    "        return self.__S\n",
    "    \n",
    "    def get_K(self):\n",
    "        return self.__K\n",
    "    \n",
    "    def get_t(self):\n",
    "        return self.__t\n",
    "\n",
    "    def get_T(self):\n",
    "        return self.__T\n",
    "\n",
    "    def get_tau(self):\n",
    "        return self.__tau\n",
    "    \n",
    "    def get_r(self):\n",
    "        return self.__r\n",
    "\n",
    "    def get_sigma(self):\n",
    "        return self.__sigma\n",
    "    \n",
    "    def get_docstring(self, label):\n",
    "        return self.__docstring_dict[self.get_type()][label]    \n",
    "    \n",
    "    # setters\n",
    "    def set_type(self, option_type):\n",
    "        self.__type = option_type\n",
    "        \n",
    "        # option type check\n",
    "        if option_type not in ['call', 'put']:\n",
    "            raise NotImplementedError(\"Option Type: '{}' does not exist!\".format(option_type))\n",
    "    \n",
    "    def set_Q(self, cash_amount):\n",
    "        self.__Q = cash_amount\n",
    "        \n",
    "    def set_S(self, S):\n",
    "        self.__S = S\n",
    "        \n",
    "    def set_K(self, K):\n",
    "        self.__K = K\n",
    "    \n",
    "    def set_t(self, t):\n",
    "        self.__t = dt.datetime.strptime(t, \"%d-%m-%Y\") if isinstance(t, str) else t\n",
    "        # update time to maturity, given changed t, to keep internal consistency\n",
    "        self.__update_tau() \n",
    "\n",
    "    def set_T(self, T):\n",
    "        self.__T = dt.datetime.strptime(T, \"%d-%m-%Y\") if isinstance(T, str) else T\n",
    "        # update time to maturity, given changed T, to keep internal consistency\n",
    "        self.__update_tau() \n",
    "    \n",
    "    def set_tau(self, tau):\n",
    "        self.__tau = tau\n",
    "        # update expiration date, given changed tau, to keep internal consistency\n",
    "        # we could have updated valuation date as well, but this is a stylistic choice\n",
    "        self.__update_T()\n",
    "\n",
    "    def set_r(self, r):\n",
    "        self.__r = r\n",
    "\n",
    "    def set_sigma(self, sigma):\n",
    "        self.__sigma = sigma\n",
    "        \n",
    "    # update methods (private)\n",
    "    def __update_tau(self):\n",
    "        self.__tau = self.__time_to_maturity()\n",
    "\n",
    "    def __update_T(self):\n",
    "        self.__T = self.__t + dt.timedelta(days=math.ceil(self.__tau*365))\n",
    "\n",
    "    # time to maturity method (private)\n",
    "    def __time_to_maturity(self):\n",
    "        return (self.__T - self.__t).days / 365.0\n",
    "    \n",
    "    # payoff calculation\n",
    "    def payoff(self):\n",
    "        # call case\n",
    "        if self.get_type() == 'call':\n",
    "            return self.get_Q() * int(self.get_S() > self.get_K())\n",
    "        # put case\n",
    "        else:\n",
    "            return self.get_Q() * int(self.get_S() <= self.get_K())\n",
    "        \n",
    "    # upper price limit\n",
    "    def price_upper_limit(self):\n",
    "        # call case\n",
    "        if self.get_type() == 'call':\n",
    "            return self.get_Q()*np.exp(-self.get_r() * self.get_tau())\n",
    "        # put case\n",
    "        else:\n",
    "            return self.get_Q()*np.exp(-self.get_r() * self.get_tau())\n",
    "\n",
    "    # lower price limit\n",
    "    def price_lower_limit(self):\n",
    "        # call case\n",
    "        if self.get_type() == 'call':\n",
    "            return 0.0\n",
    "        # put case\n",
    "        else:\n",
    "            return 0.0\n",
    "        \n",
    "    # price calculation\n",
    "    def price(self):\n",
    "        # call case\n",
    "        if self.get_type() == 'call':\n",
    "            return self.__call_price()\n",
    "        # put case\n",
    "        else:\n",
    "            return self.put_price()\n",
    "          \n",
    "    def __call_price(self):\n",
    "        \n",
    "        # some local variables retrieved to be used repeatedly\n",
    "        S = self.get_S()\n",
    "        \n",
    "        if S == 0: # this is to avoid log(0) issues\n",
    "            return 0.0\n",
    "        else:\n",
    "            Q     = self.get_Q()\n",
    "            K     = self.get_K()\n",
    "            tau   = self.get_tau()\n",
    "            r     = self.get_r()\n",
    "            sigma = self.get_sigma()\n",
    "\n",
    "            d1 = (np.log(S/K) + (r + 0.5 * sigma ** 2) * tau) / (sigma * np.sqrt(tau))\n",
    "            d2 = d1 - sigma * np.sqrt(tau)\n",
    "\n",
    "            price = Q * np.exp(-r * tau) * stats.norm.cdf(d2, 0.0, 1.0)\n",
    "\n",
    "            return price\n",
    "    \n",
    "    def __put_price(self):\n",
    "        \"\"\" Put price from Put-Call parity relation: CON_Call + CON_Put = Qe^{-r*tau}\"\"\"\n",
    "        return self.get_Q() * np.exp(- self.get_r() * self.get_tau()) - self.__call_price()        "
   ]
  },
  {
   "cell_type": "code",
   "execution_count": null,
   "metadata": {},
   "outputs": [],
   "source": [
    "CON_Call = DigitalOption(option_type='call', cash_amount = 1.0, S_t=90.0, K=100.0, t=\"19-04-2020\", T=\"31-12-2020\", r=0.05, sigma=0.2)\n",
    "CON_Call"
   ]
  },
  {
   "cell_type": "code",
   "execution_count": null,
   "metadata": {},
   "outputs": [],
   "source": [
    "type(CON_Call)"
   ]
  },
  {
   "cell_type": "code",
   "execution_count": null,
   "metadata": {},
   "outputs": [],
   "source": [
    "isinstance(CON_Call, DigitalOption)"
   ]
  },
  {
   "cell_type": "code",
   "execution_count": null,
   "metadata": {},
   "outputs": [],
   "source": [
    "CON_Call.price()"
   ]
  },
  {
   "cell_type": "code",
   "execution_count": null,
   "metadata": {},
   "outputs": [],
   "source": [
    "CON_Put = DigitalOption(option_type='put', cash_amount = 1.0, S_t=90.0, K=100.0, t=\"19-04-2020\", T=\"31-12-2020\", r=0.05, sigma=0.2)\n",
    "CON_Put"
   ]
  },
  {
   "cell_type": "code",
   "execution_count": null,
   "metadata": {},
   "outputs": [],
   "source": [
    "type(CON_Put)"
   ]
  },
  {
   "cell_type": "code",
   "execution_count": null,
   "metadata": {},
   "outputs": [],
   "source": [
    "isinstance(CON_Put, DigitalOption)"
   ]
  },
  {
   "cell_type": "code",
   "execution_count": null,
   "metadata": {},
   "outputs": [],
   "source": [
    "CON_Put.price()"
   ]
  },
  {
   "cell_type": "code",
   "execution_count": null,
   "metadata": {},
   "outputs": [],
   "source": [
    "CON_Put.payoff()"
   ]
  },
  {
   "cell_type": "code",
   "execution_count": null,
   "metadata": {},
   "outputs": [],
   "source": [
    "def plot_price_strip(option, S_list, tau_list):\n",
    "    \"\"\"\n",
    "    plot_price_strip(option, S_list, tau_list) plot Plain-Vanilla or Cash-Or-Nothing option prices for underlying and \n",
    "    maturities in 'S_list' and 'tau_list', respectively.\n",
    "\n",
    "    Parameters:\n",
    "        option (PlainVanillaOption; DigitalOption): instance of PlainVanillaOption or DigitalOption class;\n",
    "        S_list (List):                              list of underlying values;\n",
    "        tau_list (List):                            list of times to maturity (in years);\n",
    "        \n",
    "    Returns:\n",
    "        None;\n",
    "\n",
    "    \"\"\"\n",
    "\n",
    "    # color cycle setup: basically a cycle of different shades of blue as many time to maturity there are\n",
    "    plt.rcParams[\"axes.prop_cycle\"] = plt.cycler(\"color\", plt.cm.Blues(np.linspace(0,1,len(tau_list)+1)))\n",
    "    \n",
    "    # setting legend labels\n",
    "    # plain vanilla case:\n",
    "    if isinstance(option, PlainVanillaOption):\n",
    "        title_label = \"Plain Vanilla\"\n",
    "    # digital case:\n",
    "    else:\n",
    "        title_label = \"Cash-Or-Nothing ($Q={}$)\".format(option.get_Q())\n",
    "\n",
    "    # define the figure\n",
    "    fig, ax = plt.subplots(figsize=(10,6))\n",
    "\n",
    "    # auxiliary variables\n",
    "    numS = len(S_list)\n",
    "    numTau = len(tau_list)\n",
    "\n",
    "    # plot a dot to highlight the strike position\n",
    "    ax.plot(K, 0, 'k.', ms=15, label=\"Strike $K$\")\n",
    "\n",
    "    # plot the price for different underlying values, one line for each different time to maturity tau\n",
    "    for i in np.arange(numTau)[::-1]: # loop over reversed range\n",
    "        \n",
    "        option.set_tau(tau_list[i])\n",
    "        price = np.zeros(numS)\n",
    "        \n",
    "        for j in np.arange(numS):\n",
    "            option.set_S(S_list[j]) # reset of underlying value\n",
    "            price[j] = option.price()\n",
    "        \n",
    "        ax.plot(S_list, price, '-', lw=1.5, label=r\"$\\tau={}$\".format(option.get_tau()))\n",
    "    \n",
    "    # plot the red payoff line for different underlying values\n",
    "    payoff = np.zeros(numS)\n",
    "    for i in np.arange(numS):\n",
    "        option.set_S(S_list[i]) # reset of underlying value\n",
    "        payoff[i] = option.payoff()\n",
    "    \n",
    "    ax.plot(S_list, payoff, 'r-',  lw=1.5, label=option.get_docstring('payoff'))\n",
    "    \n",
    "    # set axis labels \n",
    "    ax.set_xlabel('Underlying $S_t$', fontsize=12) \n",
    "    ax.set_ylabel('Black-Scholes Price', fontsize=12) \n",
    "\n",
    "    # set title\n",
    "    ax.set_title(r\"Price of a {} {} Option $(S_t, K={}, \\tau=T-t, r={}\\%, \\sigma={}\\%)$ Vs $S$ (at different $\\tau$)\".\n",
    "                 format(title_label, option.get_type(), option.get_K(), option.get_r()*100, option.get_sigma()*100), fontsize=12) \n",
    "\n",
    "    # add the legend ('best' loc parameters places the legend in the best position automatically)\n",
    "    ax.legend(loc='best', ncol=1)\n",
    "        \n",
    "    # add a gride to ease visualization\n",
    "    plt.grid(True)\n",
    "\n",
    "    # show the plot\n",
    "    fig.tight_layout()\n",
    "    plt.show()"
   ]
  },
  {
   "cell_type": "code",
   "execution_count": null,
   "metadata": {},
   "outputs": [],
   "source": [
    "CON_Call = DigitalOption(option_type='call', cash_amount = 1.0, S_t=90.0, K=100.0, t=\"19-04-2020\", T=\"31-12-2020\", r=0.05, sigma=0.2)\n",
    "CON_Call"
   ]
  },
  {
   "cell_type": "code",
   "execution_count": null,
   "metadata": {
    "scrolled": false
   },
   "outputs": [],
   "source": [
    "plot_price_strip(CON_Call, S_strip, tau_strip)"
   ]
  },
  {
   "cell_type": "code",
   "execution_count": null,
   "metadata": {},
   "outputs": [],
   "source": [
    "CON_Put = DigitalOption(option_type='put', cash_amount = 1.0, S_t=90.0, K=100.0, t=\"19-04-2020\", T=\"31-12-2020\", r=0.05, sigma=0.2)\n",
    "CON_Put"
   ]
  },
  {
   "cell_type": "code",
   "execution_count": null,
   "metadata": {
    "scrolled": false
   },
   "outputs": [],
   "source": [
    "plot_price_strip(CON_Put, S_strip, tau_strip)"
   ]
  },
  {
   "cell_type": "code",
   "execution_count": null,
   "metadata": {},
   "outputs": [],
   "source": [
    "def plot_price(option, S_list, tau):\n",
    "    \"\"\"\n",
    "    plot_price(option, S_list, tau) plot option prices for underlying in 'S_list' and time to maturity 'tau'.\n",
    "\n",
    "    Parameters:\n",
    "        option (PlainVanillaOption): instance of PlainVanillaOption class;\n",
    "        S_list (List):               list of underlying values;\n",
    "        tau (float):                 time to maturity (in years);\n",
    "        \n",
    "    Returns:\n",
    "        None;\n",
    "\n",
    "    \"\"\"\n",
    "\n",
    "    # define the figure\n",
    "    fig, ax = plt.subplots(figsize=(10,6))\n",
    "    \n",
    "    # setting legend labels\n",
    "    # plain vanilla case:\n",
    "    if isinstance(option, PlainVanillaOption):\n",
    "        title_label = \"Plain Vanilla\"\n",
    "    # digital case:\n",
    "    else:\n",
    "        title_label = \"Cash-Or-Nothing ($Q={}$)\".format(option.get_Q())\n",
    "            \n",
    "    # auxiliary variable\n",
    "    numS = len(S_list)\n",
    "\n",
    "    # plot a dot to highlight the strike position\n",
    "    ax.plot(option.get_K(), 0, 'k.', ms=15, label=\"Strike $K$\")\n",
    "\n",
    "    # plot the upper limit, the price and the lower limit for different underlying values\n",
    "    upper_limit = np.zeros(numS)\n",
    "    price       = np.zeros(numS)\n",
    "    lower_limit = np.zeros(numS)\n",
    "    payoff      = np.zeros(numS)\n",
    "\n",
    "    for i in np.arange(numS):\n",
    "        option.set_S(S_list[i]) # reset of underlying value\n",
    "        \n",
    "        upper_limit[i] = option.price_upper_limit()\n",
    "        price[i]       = option.price()\n",
    "        lower_limit[i] = option.price_lower_limit()\n",
    "        payoff[i]      = option.payoff()\n",
    "\n",
    "    ax.plot(S_list, upper_limit, 'k-.', lw=1.5, label=option.get_docstring('price_upper_limit'))\n",
    "    ax.plot(S_list, price,       'b-',  lw=1.5, label=r\"Price\")\n",
    "    ax.plot(S_list, lower_limit, 'k--', lw=1.5, label=option.get_docstring('price_lower_limit'))\n",
    "    ax.plot(S_list, payoff,      'r-',  lw=1.5, label=option.get_docstring('payoff'))\n",
    "\n",
    "    # set axis labels \n",
    "    ax.set_xlabel('Underlying $S_t$', fontsize=12) \n",
    "    ax.set_ylabel('Black-Scholes Price', fontsize=12) \n",
    "\n",
    "    # set title\n",
    "    ax.set_title(r\"Price of a {} {} Option $(S_t, K={}, \\tau=T-t={:.1f}y, r={}\\%, \\sigma={}\\%)$ Vs $S$ (with price limits)\".\n",
    "                 format(title_label, option.get_type(), option.get_K(), option.get_tau(), option.get_r()*100, \n",
    "                        option.get_sigma()*100), fontsize=12) \n",
    "\n",
    "    # add the legend ('best' loc parameters places the legend in the best position automatically)\n",
    "    ax.legend(loc='best', ncol=1)\n",
    "\n",
    "    # add a gride to ease visualization\n",
    "    plt.grid(True)\n",
    "\n",
    "    # show the plot\n",
    "    fig.tight_layout()\n",
    "    plt.show()"
   ]
  },
  {
   "cell_type": "code",
   "execution_count": null,
   "metadata": {},
   "outputs": [],
   "source": [
    "CON_Call_focus = DigitalOption(option_type='call', \n",
    "                               cash_amount=1.0, \n",
    "                               S_t=3.0, \n",
    "                               K=5.0, \n",
    "                               t=\"19-04-2020\", \n",
    "                               T=\"19-04-2022\", \n",
    "                               r=0.05, \n",
    "                               sigma=0.2)\n",
    "\n",
    "CON_Call_focus"
   ]
  },
  {
   "cell_type": "code",
   "execution_count": null,
   "metadata": {
    "scrolled": false
   },
   "outputs": [],
   "source": [
    "plot_price(CON_Call_focus, S_strip_focus, CON_Call_focus.get_tau())"
   ]
  },
  {
   "cell_type": "code",
   "execution_count": null,
   "metadata": {},
   "outputs": [],
   "source": [
    "CON_Put_focus = DigitalOption(option_type='put', \n",
    "                               cash_amount=1.0, \n",
    "                               S_t=3.0, \n",
    "                               K=5.0, \n",
    "                               t=\"19-04-2020\", \n",
    "                               T=\"19-04-2022\", \n",
    "                               r=0.05, \n",
    "                               sigma=0.2)\n",
    "\n",
    "CON_Put_focus"
   ]
  },
  {
   "cell_type": "code",
   "execution_count": null,
   "metadata": {},
   "outputs": [],
   "source": [
    "plot_price(CON_Put_focus, S_strip_focus, CON_Put_focus.get_tau())"
   ]
  },
  {
   "cell_type": "markdown",
   "metadata": {},
   "source": [
    "# Inheritance and polymorphism"
   ]
  },
  {
   "cell_type": "markdown",
   "metadata": {},
   "source": [
    "- A PlainVanillaOption _is a_ EuropeanOption\n",
    "- A DigitalOption _is a_ EuropeanOption"
   ]
  },
  {
   "cell_type": "code",
   "execution_count": null,
   "metadata": {},
   "outputs": [],
   "source": [
    "class EuropeanOption:\n",
    "    \"\"\"\n",
    "    EuropeanOption abstract class: an interface setting the template for any option with european-style exercise.\n",
    "    This class is not meant to be instantiated.\n",
    "    \n",
    "    Attributes:\n",
    "    -----------\n",
    "        type (str):               type of the options. Can be either 'call' or 'put';\n",
    "        S_t (float):              spot price of the underlying asset at the valuation date 't';\n",
    "        K (float):                strike price;\n",
    "        t (str; dt.datetime):     valuation date. Can be either a \"dd-mm-YYYY\" String or a pd.datetime() object\n",
    "        T (str; dt.datetime):     expiration date. Can be either a \"dd-mm-YYYY\" String or a pd.datetime() object\n",
    "        tau (float):              time to maturity in years, computed as tau=T-t by time_to_maturity() method\n",
    "        r (float):                continuously compounded short-rate;\n",
    "        sigma (float):            volatility of underlying asset;\n",
    "    \n",
    "    Public Methods:\n",
    "    --------   \n",
    "    \n",
    "        getters and setters for all common attributes\n",
    "        \n",
    "        payoff: float\n",
    "            Template method for payoff. Raises NotImplementedError if called.\n",
    "\n",
    "        price_upper_limit: float \n",
    "            Template method for upper limit. Raises NotImplementedError if called.\n",
    "\n",
    "        price_lower_limit: float \n",
    "            Template method for lower limit. Raises NotImplementedError if called.\n",
    "            \n",
    "        price: float\n",
    "            Template method for price. Raises NotImplementedError if called.\n",
    "\n",
    "    \"\"\"\n",
    "    \n",
    "    def __init__(self, option_type, S_t, K, t, T, r, sigma):\n",
    "        \n",
    "        print(\"Calling the EuropeanOption constructor!\")\n",
    "\n",
    "        # option type check\n",
    "        if option_type not in ['call', 'put']:\n",
    "            raise NotImplementedError(\"Option Type: '{}' does not exist!\".format(option_type))\n",
    "        \n",
    "        self.__type  = option_type\n",
    "        self.__S     = S_t\n",
    "        self.__K     = K\n",
    "        self.__t     = dt.datetime.strptime(t, \"%d-%m-%Y\") if isinstance(t, str) else t\n",
    "        self.__T     = dt.datetime.strptime(T, \"%d-%m-%Y\") if isinstance(T, str) else T\n",
    "        self.__tau   = self.__time_to_maturity()\n",
    "        self.__r     = r\n",
    "        self.__sigma = sigma\n",
    "        \n",
    "        # empty informations dictionary\n",
    "        self.__docstring_dict = {}        \n",
    "        \n",
    "    # string representation method template\n",
    "    def __repr__(self):\n",
    "        raise NotImplementedError()\n",
    "    \n",
    "    # getters\n",
    "    def get_type(self):\n",
    "        return self.__type\n",
    "        \n",
    "    def get_S(self):\n",
    "        return self.__S\n",
    "    \n",
    "    def get_K(self):\n",
    "        return self.__K\n",
    "    \n",
    "    def get_t(self):\n",
    "        return self.__t\n",
    "\n",
    "    def get_T(self):\n",
    "        return self.__T\n",
    "\n",
    "    def get_tau(self):\n",
    "        return self.__tau\n",
    "    \n",
    "    def get_r(self):\n",
    "        return self.__r\n",
    "\n",
    "    def get_sigma(self):\n",
    "        return self.__sigma\n",
    "    \n",
    "    # doctring getter template\n",
    "    def get_docstring(self, label):\n",
    "        raise NotImplementedError()\n",
    "\n",
    "    # setters\n",
    "    def set_type(self, option_type):\n",
    "        self.__type = option_type\n",
    "        \n",
    "        # option type check\n",
    "        if option_type not in ['call', 'put']:\n",
    "            raise NotImplementedError(\"Option Type: '{}' does not exist!\".format(option_type))\n",
    "            \n",
    "    def set_S(self, S):\n",
    "        self.__S = S\n",
    "        \n",
    "    def set_K(self, K):\n",
    "        self.__K = K\n",
    "    \n",
    "    def set_t(self, t):\n",
    "        self.__t = dt.datetime.strptime(t, \"%d-%m-%Y\") if isinstance(t, str) else t\n",
    "        # update time to maturity, given changed t, to keep internal consistency\n",
    "        self.__update_tau() \n",
    "\n",
    "    def set_T(self, T):\n",
    "        self.__T = dt.datetime.strptime(T, \"%d-%m-%Y\") if isinstance(T, str) else T\n",
    "        # update time to maturity, given changed T, to keep internal consistency\n",
    "        self.__update_tau() \n",
    "    \n",
    "    def set_tau(self, tau):\n",
    "        self.__tau = tau\n",
    "        # update expiration date, given changed tau, to keep internal consistency\n",
    "        # we could have updated valuation date as well, but this is a stylistic choice\n",
    "        self.__update_T()\n",
    "\n",
    "    def set_r(self, r):\n",
    "        self.__r = r\n",
    "\n",
    "    def set_sigma(self, sigma):\n",
    "        self.__sigma = sigma\n",
    "        \n",
    "    # update methods (private)\n",
    "    def __update_tau(self):\n",
    "        self.__tau = self.__time_to_maturity()\n",
    "\n",
    "    def __update_T(self):\n",
    "        self.__T = self.__t + dt.timedelta(days=math.ceil(self.__tau*365))\n",
    "\n",
    "    # time to maturity method (private)\n",
    "    def __time_to_maturity(self):\n",
    "        return (self.__T - self.__t).days / 365.0\n",
    "    \n",
    "    # payoff template\n",
    "    def payoff(self):\n",
    "        raise NotImplementedError()     \n",
    "        \n",
    "    # upper price limit template\n",
    "    def price_upper_limit(self):\n",
    "        raise NotImplementedError()     \n",
    "\n",
    "    # lower price limit template\n",
    "    def price_lower_limit(self):\n",
    "        raise NotImplementedError()     \n",
    "        \n",
    "    # price template\n",
    "    def price(self):\n",
    "        raise NotImplementedError()     "
   ]
  },
  {
   "cell_type": "code",
   "execution_count": null,
   "metadata": {},
   "outputs": [],
   "source": [
    "class PlainVanillaOption(EuropeanOption):\n",
    "    \"\"\"\n",
    "    PlainVanillaOption class implementing payoff and pricing of plain-vanilla call and put options.\n",
    "    Put price is calculated using put-call parity\n",
    "    \n",
    "    Attributes:\n",
    "    -----------\n",
    "        type (str):               type of the options. Can be either 'call' or 'put';\n",
    "        S_t (float):              spot price of the underlying asset at the valuation date 't';\n",
    "        K (float):                strike price;\n",
    "        t (str; dt.datetime):     valuation date. Can be either a \"dd-mm-YYYY\" String or a pd.datetime() object\n",
    "        T (str; dt.datetime):     expiration date. Can be either a \"dd-mm-YYYY\" String or a pd.datetime() object\n",
    "        tau (float):              time to maturity in years, computed as tau=T-t by time_to_maturity() method\n",
    "        r (float):                continuously compounded short-rate;\n",
    "        sigma (float):            volatility of underlying asset;\n",
    "    \n",
    "    Methods:\n",
    "    --------   \n",
    "    \n",
    "        payoff: float\n",
    "            Computes the payoff of the option and returns it\n",
    "\n",
    "        price_upper_limit: float \n",
    "            Returns the upper limit for a vanilla option price.\n",
    "\n",
    "        price_lower_limit: float \n",
    "            Returns the lower limit for a vanilla option price.\n",
    "            \n",
    "        price: float\n",
    "            Computes the exact price of the option and returns it, using call_price() or put_price()\n",
    "\n",
    "    \"\"\"\n",
    "    \n",
    "    # initializer with default arguments\n",
    "    def __init__(self, option_type='call', S_t=90.0, K=100.0, t=\"19-04-2020\", T=\"31-12-2020\", r=0.05, sigma=0.2):    \n",
    "        # calling the EuropeanOption constructor\n",
    "        super(PlainVanillaOption, self).__init__(option_type, S_t, K, t, T, r, sigma)\n",
    "        \n",
    "        # additional stuff - PlainVanillaOption-specific\n",
    "\n",
    "        # informations dictionary\n",
    "        self.__docstring_dict = {\n",
    "            'call':{\n",
    "                'price_upper_limit': r\"Upper limit: $S_t$\",\n",
    "                'payoff':            r\"Payoff: $max(S-K, 0)$\",\n",
    "                'price_lower_limit': r\"Lower limit: $max(S_t - K e^{-r \\tau}, 0)$\"\n",
    "            },\n",
    "            'put': {\n",
    "                'price_upper_limit': r\"Upper limit: $K e^{-r \\tau}$\",\n",
    "                'payoff':            r\"Payoff: $max(K-S, 0)$\",\n",
    "                'price_lower_limit': r\"Lower limit: $max(K e^{-r \\tau} - S_t, 0)$\"}\n",
    "        }\n",
    "                \n",
    "    def __repr__(self):\n",
    "        return r\"PlainVanillaOption('{}', S_t={:.1f}, K={:.1f}, t={}, T={}, tau={:.2f}y, r={:.1f}%, sigma={:.1f}%)\".\\\n",
    "                format(self.get_type(), self.get_S(), self.get_K(), self.get_t().strftime(\"%d-%m-%Y\"), \n",
    "                       self.get_T().strftime(\"%d-%m-%Y\"), self.get_tau(), self.get_r()*100, self.get_sigma()*100)\n",
    "    \n",
    "    # docstring getter\n",
    "    def get_docstring(self, label):\n",
    "        return self.__docstring_dict[self.get_type()][label] \n",
    "    \n",
    "    # payoff calculation\n",
    "    def payoff(self):\n",
    "        # call case\n",
    "        if self.get_type() == 'call':\n",
    "            return max(0.0, self.get_S() - self.get_K())\n",
    "        # put case\n",
    "        else:\n",
    "            return max(0.0, self.get_K() - self.get_S())\n",
    "\n",
    "    # upper price limit\n",
    "    def price_upper_limit(self):\n",
    "        # call case\n",
    "        if self.get_type() == 'call':\n",
    "            return self.get_S()\n",
    "        # put case\n",
    "        else:\n",
    "            return self.get_K()*np.exp(-self.get_r() * self.get_tau())\n",
    "\n",
    "    # lower price limit\n",
    "    def price_lower_limit(self):\n",
    "        # call case\n",
    "        if self.get_type() == 'call':\n",
    "            return max(self.get_S() - self.get_K()*np.exp(-self.get_r() * self.get_tau()), 0)\n",
    "        # put case\n",
    "        else:\n",
    "            return max(self.get_K()*np.exp(-self.get_r() * self.get_tau()) - self.get_S(), 0)\n",
    "            \n",
    "    # price calculation\n",
    "    def price(self):\n",
    "        # call case\n",
    "        if self.get_type() == 'call':\n",
    "            return self.__call_price()\n",
    "        # put case\n",
    "        else:\n",
    "            return self.put_price()\n",
    "          \n",
    "    def __call_price(self):\n",
    "        \n",
    "        # some local variables retrieved to be used repeatedly\n",
    "        S = self.get_S()\n",
    "        \n",
    "        if S == 0: # this is to avoid log(0) issues\n",
    "            return 0.0\n",
    "        else:\n",
    "            K     = self.get_K()\n",
    "            tau   = self.get_tau()\n",
    "            r     = self.get_r()\n",
    "            sigma = self.get_sigma()\n",
    "\n",
    "            d1 = (np.log(S/K) + (r + 0.5 * sigma ** 2) * tau) / (sigma * np.sqrt(tau))\n",
    "            d2 = d1 - sigma * np.sqrt(tau)\n",
    "\n",
    "            price = S * stats.norm.cdf(d1, 0.0, 1.0) - K * np.exp(-r * tau) * stats.norm.cdf(d2, 0.0, 1.0)\n",
    "\n",
    "            return price\n",
    "    \n",
    "    def __put_price(self):\n",
    "        \"\"\" Put price from Put-Call parity relation: Call + Ke^{-r*tau} = Put + S\"\"\"\n",
    "        return self.__call_price() + self.get_K() * np.exp(- self.get_r() * self.get_tau()) - self.get_S()        "
   ]
  },
  {
   "cell_type": "code",
   "execution_count": null,
   "metadata": {},
   "outputs": [],
   "source": [
    "class DigitalOption(EuropeanOption):\n",
    "    \"\"\"\n",
    "    DigitalOption class implementing payoff and pricing of digital call and put options.\n",
    "    Put price is calculated using put-call parity\n",
    "    \n",
    "    Attributes:\n",
    "    -----------\n",
    "        type (str):               type of the options. Can be either 'call' or 'put';\n",
    "        Q (float):                cash amount\n",
    "        S_t (float):              spot price of the underlying asset at the valuation date 't';\n",
    "        K (float):                strike price;\n",
    "        t (str; dt.datetime):     valuation date. Can be either a \"dd-mm-YYYY\" String or a pd.datetime() object\n",
    "        T (str; dt.datetime):     expiration date. Can be either a \"dd-mm-YYYY\" String or a pd.datetime() object\n",
    "        tau (float):              time to maturity in years, computed as tau=T-t by time_to_maturity() method\n",
    "        r (float):                continuously compounded short-rate;\n",
    "        sigma (float):            volatility of underlying asset;\n",
    "    \n",
    "    Public Methods:\n",
    "    --------   \n",
    "    \n",
    "        getter and setter for cash amount attribute\n",
    "        \n",
    "        payoff: float\n",
    "            Computes the payoff of the option and returns it\n",
    "\n",
    "        price_upper_limit: float \n",
    "            Returns the upper limit for a CON digital option price.\n",
    "\n",
    "        price_lower_limit: float \n",
    "            Returns the lower limit for a CON digital option price\n",
    "            .\n",
    "        price: float\n",
    "            Computes the exact price of the option and returns it, using call_price() or put_price()\n",
    "\n",
    "    \"\"\"\n",
    "    \n",
    "    # initializer with default arguments    \n",
    "    def __init__(self, option_type='call', cash_amount = 1.0, S_t=90.0, K=100.0, t=\"19-04-2020\", T=\"31-12-2020\", r=0.05, sigma=0.2):\n",
    "        # calling the EuropeanOption constructor\n",
    "        super(DigitalOption, self).__init__(option_type, S_t, K, t, T, r, sigma)        \n",
    "\n",
    "        # additional stuff - DigitalOption-specific\n",
    "        self.__Q = cash_amount\n",
    "        \n",
    "        # informations dictionary\n",
    "        self.__docstring_dict = {\n",
    "            'call':{\n",
    "                'price_upper_limit': r\"Upper limit: $Q e^{-r \\tau}$\",\n",
    "                'payoff':            r\"Payoff: $Q$ $I(S > K)$\",\n",
    "                'price_lower_limit': r\"Lower limit: $0$\"\n",
    "            },\n",
    "            'put': {\n",
    "                'price_upper_limit': r\"Upper limit: $Q e^{-r \\tau}$\",\n",
    "                'payoff':            r\"Payoff: $Q$ $I(S \\leq K)$\",\n",
    "                'price_lower_limit': r\"Lower limit: $0$\"}\n",
    "        }        \n",
    "                \n",
    "    def __repr__(self):\n",
    "        return r\"DigitalOption('{}', cash={:.1f}, S_t={:.1f}, K={:.1f}, t={}, T={}, tau={:.2f}y, r={:.1f}%, sigma={:.1f}%)\".\\\n",
    "                format(self.get_type(), self.get_Q(), self.get_S(), self.get_K(), self.get_t().strftime(\"%d-%m-%Y\"), \n",
    "                       self.get_T().strftime(\"%d-%m-%Y\"), self.get_tau(), self.get_r()*100, self.get_sigma()*100)\n",
    "    \n",
    "    # getters\n",
    "    def get_Q(self):\n",
    "        return self.__Q\n",
    "    \n",
    "    # docstring getter\n",
    "    def get_docstring(self, label):\n",
    "        return self.__docstring_dict[self.get_type()][label] \n",
    "    \n",
    "    # setters\n",
    "    def set_Q(self, cash_amount):\n",
    "        self.__Q = cash_amount\n",
    "    \n",
    "    # payoff calculation\n",
    "    def payoff(self):\n",
    "        # call case\n",
    "        if self.get_type() == 'call':\n",
    "            return self.get_Q() * int(self.get_S() > self.get_K())\n",
    "        # put case\n",
    "        else:\n",
    "            return self.get_Q() * int(self.get_S() <= self.get_K())\n",
    "        \n",
    "    # upper price limit\n",
    "    def price_upper_limit(self):\n",
    "        # call case\n",
    "        if self.get_type() == 'call':\n",
    "            return self.get_Q()*np.exp(-self.get_r() * self.get_tau())\n",
    "        # put case\n",
    "        else:\n",
    "            return self.get_Q()*np.exp(-self.get_r() * self.get_tau())\n",
    "\n",
    "    # lower price limit\n",
    "    def price_lower_limit(self):\n",
    "        # call case\n",
    "        if self.get_type() == 'call':\n",
    "            return 0.0\n",
    "        # put case\n",
    "        else:\n",
    "            return 0.0\n",
    "        \n",
    "    # price calculation\n",
    "    def price(self):\n",
    "        # call case\n",
    "        if self.get_type() == 'call':\n",
    "            return self.__call_price()\n",
    "        # put case\n",
    "        else:\n",
    "            return self.put_price()\n",
    "          \n",
    "    def __call_price(self):\n",
    "        \n",
    "        # some local variables retrieved to be used repeatedly\n",
    "        S = self.get_S()\n",
    "        \n",
    "        if S == 0: # this is to avoid log(0) issues\n",
    "            return 0.0\n",
    "        else:\n",
    "            Q     = self.get_Q()\n",
    "            K     = self.get_K()\n",
    "            tau   = self.get_tau()\n",
    "            r     = self.get_r()\n",
    "            sigma = self.get_sigma()\n",
    "\n",
    "            d1 = (np.log(S/K) + (r + 0.5 * sigma ** 2) * tau) / (sigma * np.sqrt(tau))\n",
    "            d2 = d1 - sigma * np.sqrt(tau)\n",
    "\n",
    "            price = Q * np.exp(-r * tau) * stats.norm.cdf(d2, 0.0, 1.0)\n",
    "\n",
    "            return price\n",
    "    \n",
    "    def __put_price(self):\n",
    "        \"\"\" Put price from Put-Call parity relation: CON_Call + CON_Put = Qe^{-r*tau}\"\"\"\n",
    "        return self.get_Q() * np.exp(- self.get_r() * self.get_tau()) - self.__call_price()        "
   ]
  },
  {
   "cell_type": "code",
   "execution_count": null,
   "metadata": {},
   "outputs": [],
   "source": [
    "Vanilla_Call = PlainVanillaOption()\n",
    "Vanilla_Call"
   ]
  },
  {
   "cell_type": "code",
   "execution_count": null,
   "metadata": {},
   "outputs": [],
   "source": [
    "type(Vanilla_Call)"
   ]
  },
  {
   "cell_type": "code",
   "execution_count": null,
   "metadata": {},
   "outputs": [],
   "source": [
    "isinstance(Vanilla_Call, PlainVanillaOption)"
   ]
  },
  {
   "cell_type": "code",
   "execution_count": null,
   "metadata": {},
   "outputs": [],
   "source": [
    "Vanilla_Call.get_K()"
   ]
  },
  {
   "cell_type": "code",
   "execution_count": null,
   "metadata": {},
   "outputs": [],
   "source": [
    "Vanilla_Call.price()"
   ]
  },
  {
   "cell_type": "code",
   "execution_count": null,
   "metadata": {
    "scrolled": false
   },
   "outputs": [],
   "source": [
    "plot_price_strip(Vanilla_Call, S_strip, tau_strip)"
   ]
  },
  {
   "cell_type": "code",
   "execution_count": null,
   "metadata": {},
   "outputs": [],
   "source": [
    "plot_price(Vanilla_Call, S_strip, Vanilla_Call.get_tau())"
   ]
  },
  {
   "cell_type": "code",
   "execution_count": null,
   "metadata": {},
   "outputs": [],
   "source": [
    "Vanilla_Put = PlainVanillaOption(option_type='put', S_t=90.0, K=100.0, t=\"19-04-2020\", T=\"31-12-2020\", r=0.05, sigma=0.2)\n",
    "Vanilla_Put"
   ]
  },
  {
   "cell_type": "markdown",
   "metadata": {},
   "source": [
    "which is equivalent to"
   ]
  },
  {
   "cell_type": "code",
   "execution_count": null,
   "metadata": {},
   "outputs": [],
   "source": [
    "Vanilla_Put = PlainVanillaOption(option_type='put')\n",
    "Vanilla_Put"
   ]
  },
  {
   "cell_type": "code",
   "execution_count": null,
   "metadata": {},
   "outputs": [],
   "source": [
    "type(Vanilla_Put)"
   ]
  },
  {
   "cell_type": "code",
   "execution_count": null,
   "metadata": {},
   "outputs": [],
   "source": [
    "isinstance(Vanilla_Put, PlainVanillaOption)"
   ]
  },
  {
   "cell_type": "code",
   "execution_count": null,
   "metadata": {},
   "outputs": [],
   "source": [
    "Vanilla_Put.get_K()"
   ]
  },
  {
   "cell_type": "code",
   "execution_count": null,
   "metadata": {},
   "outputs": [],
   "source": [
    "Vanilla_Put.price()"
   ]
  },
  {
   "cell_type": "code",
   "execution_count": null,
   "metadata": {},
   "outputs": [],
   "source": [
    "Vanilla_Put.payoff()"
   ]
  },
  {
   "cell_type": "code",
   "execution_count": null,
   "metadata": {
    "scrolled": false
   },
   "outputs": [],
   "source": [
    "plot_price_strip(Vanilla_Put, S_strip, tau_strip)"
   ]
  },
  {
   "cell_type": "code",
   "execution_count": null,
   "metadata": {},
   "outputs": [],
   "source": [
    "plot_price(Vanilla_Put, S_strip, Vanilla_Put.get_tau())"
   ]
  },
  {
   "cell_type": "markdown",
   "metadata": {},
   "source": [
    "let's now instantiate a digital option"
   ]
  },
  {
   "cell_type": "code",
   "execution_count": null,
   "metadata": {},
   "outputs": [],
   "source": [
    "CON_Call = DigitalOption()\n",
    "CON_Call"
   ]
  },
  {
   "cell_type": "code",
   "execution_count": null,
   "metadata": {},
   "outputs": [],
   "source": [
    "type(CON_Call)"
   ]
  },
  {
   "cell_type": "code",
   "execution_count": null,
   "metadata": {},
   "outputs": [],
   "source": [
    "isinstance(CON_Call, DigitalOption)"
   ]
  },
  {
   "cell_type": "code",
   "execution_count": null,
   "metadata": {},
   "outputs": [],
   "source": [
    "CON_Call.get_K()"
   ]
  },
  {
   "cell_type": "code",
   "execution_count": null,
   "metadata": {},
   "outputs": [],
   "source": [
    "CON_Call.get_Q()"
   ]
  },
  {
   "cell_type": "code",
   "execution_count": null,
   "metadata": {},
   "outputs": [],
   "source": [
    "CON_Call.price()"
   ]
  },
  {
   "cell_type": "code",
   "execution_count": null,
   "metadata": {
    "scrolled": false
   },
   "outputs": [],
   "source": [
    "plot_price_strip(CON_Call, S_strip, tau_strip)"
   ]
  },
  {
   "cell_type": "code",
   "execution_count": null,
   "metadata": {},
   "outputs": [],
   "source": [
    "plot_price(CON_Call, S_strip, CON_Call.get_tau())"
   ]
  },
  {
   "cell_type": "code",
   "execution_count": null,
   "metadata": {},
   "outputs": [],
   "source": [
    "CON_Put = DigitalOption(option_type='put', cash_amount = 1.0, S_t=90.0, K=100.0, t=\"19-04-2020\", T=\"31-12-2020\", r=0.05, sigma=0.2)\n",
    "CON_Put"
   ]
  },
  {
   "cell_type": "markdown",
   "metadata": {},
   "source": [
    "equivalent to"
   ]
  },
  {
   "cell_type": "code",
   "execution_count": null,
   "metadata": {},
   "outputs": [],
   "source": [
    "CON_Put = DigitalOption(option_type='put')\n",
    "CON_Put"
   ]
  },
  {
   "cell_type": "code",
   "execution_count": null,
   "metadata": {},
   "outputs": [],
   "source": [
    "type(CON_Put)"
   ]
  },
  {
   "cell_type": "code",
   "execution_count": null,
   "metadata": {},
   "outputs": [],
   "source": [
    "isinstance(CON_Put, DigitalOption)"
   ]
  },
  {
   "cell_type": "code",
   "execution_count": null,
   "metadata": {},
   "outputs": [],
   "source": [
    "CON_Put.get_K()"
   ]
  },
  {
   "cell_type": "code",
   "execution_count": null,
   "metadata": {},
   "outputs": [],
   "source": [
    "CON_Put.get_Q()"
   ]
  },
  {
   "cell_type": "code",
   "execution_count": null,
   "metadata": {},
   "outputs": [],
   "source": [
    "CON_Put.price()"
   ]
  },
  {
   "cell_type": "code",
   "execution_count": null,
   "metadata": {},
   "outputs": [],
   "source": [
    "CON_Put.payoff()"
   ]
  },
  {
   "cell_type": "code",
   "execution_count": null,
   "metadata": {
    "scrolled": false
   },
   "outputs": [],
   "source": [
    "plot_price_strip(CON_Put, S_strip, tau_strip)"
   ]
  },
  {
   "cell_type": "code",
   "execution_count": null,
   "metadata": {},
   "outputs": [],
   "source": [
    "plot_price(CON_Put, S_strip, CON_Put.get_tau())"
   ]
  },
  {
   "cell_type": "markdown",
   "metadata": {},
   "source": [
    "## `*args` and `**kwargs`"
   ]
  },
  {
   "cell_type": "code",
   "execution_count": null,
   "metadata": {},
   "outputs": [],
   "source": [
    "def print_args(*args):\n",
    "    for arg in args:\n",
    "        print(arg)\n",
    "\n",
    "def print_kwargs(**kwargs):\n",
    "    for k, v in kwargs.items():\n",
    "        print(\"%s: %s\" % (k, v))"
   ]
  },
  {
   "cell_type": "code",
   "execution_count": null,
   "metadata": {},
   "outputs": [],
   "source": [
    "print_args(\"one\", \"two\", \"three\")"
   ]
  },
  {
   "cell_type": "code",
   "execution_count": null,
   "metadata": {},
   "outputs": [],
   "source": [
    "print_args(\"one\", \"two\", \"three\", \"four\")"
   ]
  },
  {
   "cell_type": "code",
   "execution_count": null,
   "metadata": {},
   "outputs": [],
   "source": [
    "print_kwargs(name=\"Jane\", surname=\"Doe\")"
   ]
  },
  {
   "cell_type": "code",
   "execution_count": null,
   "metadata": {},
   "outputs": [],
   "source": [
    "print_kwargs(age=10)"
   ]
  },
  {
   "cell_type": "markdown",
   "metadata": {},
   "source": [
    "# Polymorphism application: a `Plotter()` class"
   ]
  },
  {
   "cell_type": "markdown",
   "metadata": {},
   "source": [
    "First let's define a common MarketEnvironment class which shall contain the information on market environment and underlying level. This class will be used to instantiate the EuropeanOption class"
   ]
  },
  {
   "cell_type": "code",
   "execution_count": null,
   "metadata": {},
   "outputs": [],
   "source": [
    "class MarketEnvironment:\n",
    "    \"\"\"\n",
    "    MarketEnvironment class: setting the market environment: date, underlying level, volatility level and short-rate.\n",
    "    \n",
    "    Attributes:\n",
    "    -----------\n",
    "        t (str; dt.datetime):     valuation date. Can be either a \"dd-mm-YYYY\" String or a pd.datetime() object\n",
    "        r (float):                continuously compounded short-rate;\n",
    "        S_t (float):              spot price of the underlying asset at the valuation date 't';\n",
    "        sigma (float):            volatility of underlying asset;\n",
    "    \n",
    "    Methods:\n",
    "    --------   \n",
    "    \n",
    "        getters and setters for all attributes\n",
    "    \"\"\"\n",
    "    \n",
    "    def __init__(self, t=\"19-04-2020\", r=0.05, S_t=90.0, sigma=0.2):\n",
    "        \n",
    "        print(\"Initializing the MarketEnvironment!\")\n",
    "        \n",
    "        self.__t     = dt.datetime.strptime(t, \"%d-%m-%Y\") if isinstance(t, str) else t\n",
    "        self.__r     = r\n",
    "        self.__S     = S_t\n",
    "        self.__sigma = sigma\n",
    "\n",
    "    # getters\n",
    "    def get_t(self):\n",
    "        return self.__t\n",
    "\n",
    "    def get_r(self):\n",
    "        return self.__r\n",
    "\n",
    "    def get_S(self):\n",
    "        return self.__S\n",
    "    \n",
    "    def get_sigma(self):\n",
    "        return self.__sigma\n",
    "    \n",
    "    # setters \n",
    "    def set_t(self, t):\n",
    "        # notice that there is no need to update the time-to-maturity of the options,\n",
    "        # since in this way of modeling, the MarketEnvironment is the first thing that gets instantiated.\n",
    "        # Financial instruments follow.\n",
    "        self.__t = dt.datetime.strptime(t, \"%d-%m-%Y\") if isinstance(t, str) else t\n",
    "\n",
    "    def set_r(self, r):\n",
    "        self.__r = r\n",
    "\n",
    "    def set_S(self, S):\n",
    "        self.__S = S\n",
    "        \n",
    "    def set_sigma(self, sigma):\n",
    "        self.__sigma = sigma"
   ]
  },
  {
   "cell_type": "code",
   "execution_count": null,
   "metadata": {},
   "outputs": [],
   "source": [
    "class EuropeanOption:\n",
    "    \"\"\"\n",
    "    EuropeanOption abstract class: an interface setting the template for any option with european-style exercise.\n",
    "    This class is not meant to be instantiated.\n",
    "    \n",
    "    Attributes:\n",
    "    -----------\n",
    "        type (str):               type of the options. Can be either 'call' or 'put';\n",
    "        S_t (float):              spot price of the underlying asset at the valuation date 't'. From MarketEnvironment.\n",
    "        K (float):                strike price;\n",
    "        t (str; dt.datetime):     valuation date. From MarketEnvironment.\n",
    "        T (str; dt.datetime):     expiration date. Can be either a \"dd-mm-YYYY\" String or a pd.datetime() object\n",
    "        tau (float):              time to maturity in years, computed as tau=T-t by time_to_maturity() method\n",
    "        r (float):                continuously compounded short-rate. From MarketEnvironment.\n",
    "        sigma (float):            volatility of underlying asset. From MarketEnvironment.\n",
    "    \n",
    "    Public Methods:\n",
    "    --------   \n",
    "    \n",
    "        getters and setters for all common attributes\n",
    "        \n",
    "        payoff: float\n",
    "            Template method for payoff. Raises NotImplementedError if called.\n",
    "\n",
    "        price_upper_limit: float \n",
    "            Template method for upper limit. Raises NotImplementedError if called.\n",
    "\n",
    "        price_lower_limit: float \n",
    "            Template method for lower limit. Raises NotImplementedError if called.\n",
    "            \n",
    "        price: float\n",
    "            Template method for price. Raises NotImplementedError if called.\n",
    "\n",
    "    \"\"\"\n",
    "    %%%%%%%%%%%%%%%%%%%%%%% TODO %%%%%%%%%%%%%%%%%%%%%%%\n",
    "    \n",
    "    # constructor using keyword parameters \n",
    "    def __init__(self, **kwargs):\n",
    "        \n",
    "        print(\"Initializing the EuropeanOption!\")\n",
    "                \n",
    "        self.__type  = kwargs['option_type']\n",
    "        \n",
    "        # option type check\n",
    "        if self.__type not in ['call', 'put']:\n",
    "            raise NotImplementedError(\"Option Type: '{}' does not exist!\".format(self.__type))\n",
    "            \n",
    "        self.__S     = kwargs['market_environment'].get_S()\n",
    "        self.__K     = kwargs['K']\n",
    "        self.__t     = kwargs['market_environment'].get_t()\n",
    "        self.__T     = dt.datetime.strptime(kwargs['T'], \"%d-%m-%Y\") if isinstance(kwargs['T'], str) else kwargs['T']\n",
    "        self.__tau   = self.__time_to_maturity()\n",
    "        self.__r     = kwargs['market_environment'].get_r()\n",
    "        self.__sigma = kwargs['market_environment'].get_sigma()        \n",
    "\n",
    "        # empty informations dictionary\n",
    "        self.__docstring_dict = {}        \n",
    "        \n",
    "    # string representation method template\n",
    "    def __repr__(self):\n",
    "        raise NotImplementedError()\n",
    "    \n",
    "    # getters\n",
    "    def get_type(self):\n",
    "        return self.__type\n",
    "        \n",
    "    def get_K(self):\n",
    "        return self.__K\n",
    "    \n",
    "    def get_T(self):\n",
    "        return self.__T\n",
    "\n",
    "    def get_tau(self):\n",
    "        return self.__tau\n",
    "    \n",
    "    # doctring getter template\n",
    "    def get_docstring(self, label):\n",
    "        raise NotImplementedError()\n",
    "\n",
    "    # setters\n",
    "    def set_type(self, option_type):\n",
    "        self.__type = option_type\n",
    "        \n",
    "        # option type check\n",
    "        if option_type not in ['call', 'put']:\n",
    "            raise NotImplementedError(\"Option Type: '{}' does not exist!\".format(option_type))\n",
    "            \n",
    "    def set_K(self, K):\n",
    "        self.__K = K\n",
    "    \n",
    "    def set_T(self, T):\n",
    "        self.__T = dt.datetime.strptime(T, \"%d-%m-%Y\") if isinstance(T, str) else T\n",
    "        # update time to maturity, given changed T, to keep internal consistency\n",
    "        self.__update_tau() \n",
    "    \n",
    "    def set_tau(self, tau):\n",
    "        self.__tau = tau\n",
    "        # update expiration date, given changed tau, to keep internal consistency\n",
    "        self.__update_T()\n",
    "        \n",
    "    def __update_T(self):\n",
    "        self.__T = self.__t + dt.timedelta(days=math.ceil(self.__tau*365))\n",
    "\n",
    "    # time to maturity method (private)\n",
    "    def __time_to_maturity(self):\n",
    "        return (self.__T - self.__t).days / 365.0\n",
    "    \n",
    "    # payoff template\n",
    "    def payoff(self):\n",
    "        raise NotImplementedError()     \n",
    "        \n",
    "    # upper price limit template\n",
    "    def price_upper_limit(self):\n",
    "        raise NotImplementedError()     \n",
    "\n",
    "    # lower price limit template\n",
    "    def price_lower_limit(self):\n",
    "        raise NotImplementedError()     \n",
    "        \n",
    "    # price template\n",
    "    def price(self):\n",
    "        raise NotImplementedError()     "
   ]
  },
  {
   "cell_type": "code",
   "execution_count": null,
   "metadata": {},
   "outputs": [],
   "source": [
    "class PlainVanillaOption(EuropeanOption):\n",
    "    \"\"\"\n",
    "    PlainVanillaOption class implementing payoff and pricing of plain-vanilla call and put options.\n",
    "    Put price is calculated using put-call parity\n",
    "    \n",
    "    Attributes:\n",
    "    -----------\n",
    "        type (str):               type of the options. Can be either 'call' or 'put';\n",
    "        S_t (float):              spot price of the underlying asset at the valuation date 't';\n",
    "        K (float):                strike price;\n",
    "        t (str; dt.datetime):     valuation date. Can be either a \"dd-mm-YYYY\" String or a pd.datetime() object\n",
    "        T (str; dt.datetime):     expiration date. Can be either a \"dd-mm-YYYY\" String or a pd.datetime() object\n",
    "        tau (float):              time to maturity in years, computed as tau=T-t by time_to_maturity() method\n",
    "        r (float):                continuously compounded short-rate;\n",
    "        sigma (float):            volatility of underlying asset;\n",
    "    \n",
    "    Methods:\n",
    "    --------   \n",
    "    \n",
    "        payoff: float\n",
    "            Computes the payoff of the option and returns it\n",
    "\n",
    "        price_upper_limit: float \n",
    "            Returns the upper limit for a vanilla option price.\n",
    "\n",
    "        price_lower_limit: float \n",
    "            Returns the lower limit for a vanilla option price.\n",
    "            \n",
    "        price: float\n",
    "            Computes the exact price of the option and returns it, using call_price() or put_price()\n",
    "\n",
    "    \"\"\"\n",
    "    \n",
    "    # initializer with default arguments\n",
    "    def __init__(self, option_type='call', S_t=90.0, K=100.0, t=\"19-04-2020\", T=\"31-12-2020\", r=0.05, sigma=0.2):    \n",
    "        # calling the EuropeanOption constructor\n",
    "        super(PlainVanillaOption, self).__init__(option_type, S_t, K, t, T, r, sigma)\n",
    "        \n",
    "        # additional stuff - PlainVanillaOption-specific\n",
    "\n",
    "        # informations dictionary\n",
    "        self.__docstring_dict = {\n",
    "            'info': r\"CON {} (K={:.1f}, tau={:.2f}y)\".format(self.get_type(), \n",
    "                                                                       self.get_K(), \n",
    "                                                                       self.get_tau()),\n",
    "            'call':{\n",
    "                'price_upper_limit': r\"Upper limit: $S_t$\",\n",
    "                'payoff':            r\"Payoff: $max(S-K, 0)$\",\n",
    "                'price_lower_limit': r\"Lower limit: $max(S_t - K e^{-r \\tau}, 0)$\"\n",
    "            },\n",
    "            'put': {\n",
    "                'price_upper_limit': r\"Upper limit: $K e^{-r \\tau}$\",\n",
    "                'payoff':            r\"Payoff: $max(K-S, 0)$\",\n",
    "                'price_lower_limit': r\"Lower limit: $max(K e^{-r \\tau} - S_t, 0)$\"}\n",
    "        }\n",
    "                \n",
    "    def __repr__(self):\n",
    "        return r\"PlainVanillaOption('{}', S_t={:.1f}, K={:.1f}, t={}, T={}, tau={:.2f}y, r={:.1f}%, sigma={:.1f}%)\".\\\n",
    "                format(self.get_type(), self.get_S(), self.get_K(), self.get_t().strftime(\"%d-%m-%Y\"), \n",
    "                       self.get_T().strftime(\"%d-%m-%Y\"), self.get_tau(), self.get_r()*100, self.get_sigma()*100)\n",
    "    \n",
    "    # docstring getter\n",
    "    def get_docstring(self, label):\n",
    "        return self.__docstring_dict[self.get_type()][label] \n",
    "    \n",
    "    # payoff calculation - with optional keyword parameters\n",
    "    def payoff(self, **kwargs):\n",
    "        \n",
    "        S = self.get_S() if 'S' not in kwargs else kwargs['S']\n",
    "                \n",
    "        # call case\n",
    "        if self.get_type() == 'call':\n",
    "            return self.__call_payoff(S)\n",
    "        # put case\n",
    "        else:\n",
    "            return self.__put_payoff(S)\n",
    "    \n",
    "    def __call_payoff(self, S):\n",
    "        if isinstance(S, list):\n",
    "            return [max(0.0, s - self.get_K()) for s in S]\n",
    "        else:\n",
    "            return max(0.0, S - self.get_K())\n",
    "\n",
    "    def __put_payoff(self, S):\n",
    "        if isinstance(S, list):\n",
    "            return [max(0.0, self.get_K() - s) for s in S]\n",
    "        else:\n",
    "            return max(0.0, self.get_K() - S)\n",
    "        \n",
    "    # upper price limit - with optional keyword parameters\n",
    "    def price_upper_limit(self, **kwargs):\n",
    "\n",
    "        S = self.get_S() if 'S' not in kwargs else kwargs['S']\n",
    "        tau = self.get_tau() if 'tau' not in kwargs else kwargs['tau']\n",
    "                        \n",
    "        # call case\n",
    "        if self.get_type() == 'call':\n",
    "            return S\n",
    "        # put case\n",
    "        else:\n",
    "            return self.__put_price_upper_limit(S, tau)\n",
    "    \n",
    "    def __put_price_upper_limit(self, S, tau):\n",
    "        if isinstance(S, list):\n",
    "            return [self.get_K()*np.exp(-self.get_r() * tau)] * len(S) # list repeated len(S) times\n",
    "        else:\n",
    "            return self.get_K()*np.exp(-self.get_r() * tau)\n",
    "\n",
    "    # lower price limit - with optional keyword parameters\n",
    "    def price_lower_limit(self, **kwargs):\n",
    "\n",
    "        S = self.get_S() if 'S' not in kwargs else kwargs['S']\n",
    "        tau = self.get_tau() if 'tau' not in kwargs else kwargs['tau']\n",
    "                                       \n",
    "        # call case\n",
    "        if self.get_type() == 'call':\n",
    "            return self.__call_price_lower_limit(S, tau)\n",
    "        # put case\n",
    "        else:\n",
    "            return self.__put_price_lower_limit(S, tau)\n",
    "\n",
    "    def __call_price_lower_limit(self, S, tau):\n",
    "        if isinstance(S, list):\n",
    "            return [max(S - self.get_K()*np.exp(-self.get_r() * tau), 0.0) for s in S]\n",
    "        else:\n",
    "            return max(S - self.get_K()*np.exp(-self.get_r() * tau), 0.0)\n",
    "                                       \n",
    "    def __put_price_lower_limit(self, S, tau):\n",
    "        if isinstance(S, list):\n",
    "            return [max(self.get_K()*np.exp(-self.get_r() * tau) - s, 0.0) for s in S]\n",
    "        else:\n",
    "            return max(self.get_K()*np.exp(-self.get_r() * tau) - S, 0.0)\n",
    "                                       \n",
    "    # price calculation - with optional keyword parameters\n",
    "    def price(self, **kwargs):\n",
    "                       \n",
    "        S = self.get_S() if 'S' not in kwargs else kwargs['S']\n",
    "        tau = self.get_tau() if 'tau' not in kwargs else kwargs['tau']\n",
    "                       \n",
    "        # call case\n",
    "        if self.get_type() == 'call':\n",
    "            return [self.__call_price(s, tau) for s in S] if isinstance(S, list) else self.__call_price(S, tau)\n",
    "        # put case\n",
    "        else:\n",
    "            return [self.__put_price(s, tau) for s in S] if isinstance(S, list) else self.__put_price(S, tau)\n",
    "          \n",
    "    def __call_price(self, S, tau):\n",
    "        \n",
    "        if S == 0: # this is to avoid log(0) issues\n",
    "            return 0.0\n",
    "        else:\n",
    "            K     = self.get_K()\n",
    "            r     = self.get_r()\n",
    "            sigma = self.get_sigma()\n",
    "\n",
    "            d1 = (np.log(S/K) + (r + 0.5 * sigma ** 2) * tau) / (sigma * np.sqrt(tau))\n",
    "            d2 = d1 - sigma * np.sqrt(tau)\n",
    "\n",
    "            price = S * stats.norm.cdf(d1, 0.0, 1.0) - K * np.exp(-r * tau) * stats.norm.cdf(d2, 0.0, 1.0)\n",
    "\n",
    "            return price\n",
    "    \n",
    "    def __put_price(self, S, tau):\n",
    "        \"\"\" Put price from Put-Call parity relation: Call + Ke^{-r*tau} = Put + S\"\"\"\n",
    "        return self.__call_price(S, tau) + self.get_K() * np.exp(- self.get_r() * tau) - S       "
   ]
  },
  {
   "cell_type": "code",
   "execution_count": null,
   "metadata": {},
   "outputs": [],
   "source": [
    "Vanilla_Call = PlainVanillaOption()\n",
    "Vanilla_Call"
   ]
  },
  {
   "cell_type": "code",
   "execution_count": null,
   "metadata": {},
   "outputs": [],
   "source": [
    "Vanilla_Call.price()"
   ]
  },
  {
   "cell_type": "code",
   "execution_count": null,
   "metadata": {},
   "outputs": [],
   "source": [
    "Vanilla_Call.price(S=[95, 110], tau=0.1)"
   ]
  },
  {
   "cell_type": "code",
   "execution_count": null,
   "metadata": {},
   "outputs": [],
   "source": [
    "Vanilla_Call.payoff()"
   ]
  },
  {
   "cell_type": "code",
   "execution_count": null,
   "metadata": {},
   "outputs": [],
   "source": [
    "Vanilla_Call.payoff(S=[95, 110])"
   ]
  },
  {
   "cell_type": "code",
   "execution_count": null,
   "metadata": {},
   "outputs": [],
   "source": [
    "Vanilla_Call.price_upper_limit()"
   ]
  },
  {
   "cell_type": "code",
   "execution_count": null,
   "metadata": {},
   "outputs": [],
   "source": [
    "Vanilla_Call.price_upper_limit(S=[95, 110])"
   ]
  },
  {
   "cell_type": "code",
   "execution_count": null,
   "metadata": {},
   "outputs": [],
   "source": [
    "Vanilla_Call.price_lower_limit()"
   ]
  },
  {
   "cell_type": "code",
   "execution_count": null,
   "metadata": {},
   "outputs": [],
   "source": [
    "Vanilla_Call.price_upper_limit(S=[95, 110])"
   ]
  },
  {
   "cell_type": "code",
   "execution_count": null,
   "metadata": {},
   "outputs": [],
   "source": [
    "Vanilla_Put = PlainVanillaOption(option_type='put')\n",
    "Vanilla_Put"
   ]
  },
  {
   "cell_type": "code",
   "execution_count": null,
   "metadata": {},
   "outputs": [],
   "source": [
    "Vanilla_Put.price()"
   ]
  },
  {
   "cell_type": "code",
   "execution_count": null,
   "metadata": {},
   "outputs": [],
   "source": [
    "Vanilla_Put.price(S=[95, 110], tau=0.1)"
   ]
  },
  {
   "cell_type": "code",
   "execution_count": null,
   "metadata": {},
   "outputs": [],
   "source": [
    "Vanilla_Put.payoff()"
   ]
  },
  {
   "cell_type": "code",
   "execution_count": null,
   "metadata": {},
   "outputs": [],
   "source": [
    "Vanilla_Put.payoff(S=[95, 110])"
   ]
  },
  {
   "cell_type": "code",
   "execution_count": null,
   "metadata": {},
   "outputs": [],
   "source": [
    "Vanilla_Put.price_upper_limit()"
   ]
  },
  {
   "cell_type": "code",
   "execution_count": null,
   "metadata": {},
   "outputs": [],
   "source": [
    "Vanilla_Put.price_upper_limit(S=[95, 110])"
   ]
  },
  {
   "cell_type": "code",
   "execution_count": null,
   "metadata": {},
   "outputs": [],
   "source": [
    "Vanilla_Put.price_lower_limit()"
   ]
  },
  {
   "cell_type": "code",
   "execution_count": null,
   "metadata": {},
   "outputs": [],
   "source": [
    "Vanilla_Put.price_upper_limit(S=[95, 110])"
   ]
  },
  {
   "cell_type": "code",
   "execution_count": null,
   "metadata": {},
   "outputs": [],
   "source": [
    "class DigitalOption(EuropeanOption):\n",
    "    \"\"\"\n",
    "    DigitalOption class implementing payoff and pricing of digital call and put options.\n",
    "    Put price is calculated using put-call parity\n",
    "    \n",
    "    Attributes:\n",
    "    -----------\n",
    "        type (str):               type of the options. Can be either 'call' or 'put';\n",
    "        Q (float):                cash amount\n",
    "        S_t (float):              spot price of the underlying asset at the valuation date 't';\n",
    "        K (float):                strike price;\n",
    "        t (str; dt.datetime):     valuation date. Can be either a \"dd-mm-YYYY\" String or a pd.datetime() object\n",
    "        T (str; dt.datetime):     expiration date. Can be either a \"dd-mm-YYYY\" String or a pd.datetime() object\n",
    "        tau (float):              time to maturity in years, computed as tau=T-t by time_to_maturity() method\n",
    "        r (float):                continuously compounded short-rate;\n",
    "        sigma (float):            volatility of underlying asset;\n",
    "    \n",
    "    Public Methods:\n",
    "    --------   \n",
    "    \n",
    "        getter and setter for cash amount attribute\n",
    "        \n",
    "        payoff: float\n",
    "            Computes the payoff of the option and returns it\n",
    "\n",
    "        price_upper_limit: float \n",
    "            Returns the upper limit for a CON digital option price.\n",
    "\n",
    "        price_lower_limit: float \n",
    "            Returns the lower limit for a CON digital option price\n",
    "            .\n",
    "        price: float\n",
    "            Computes the exact price of the option and returns it, using call_price() or put_price()\n",
    "\n",
    "    \"\"\"\n",
    "    \n",
    "    # initializer with default arguments    \n",
    "    def __init__(self, option_type='call', cash_amount = 1.0, S_t=90.0, K=100.0, t=\"19-04-2020\", T=\"31-12-2020\", r=0.05, sigma=0.2):\n",
    "        # calling the EuropeanOption constructor\n",
    "        super(DigitalOption, self).__init__(option_type, S_t, K, t, T, r, sigma)        \n",
    "\n",
    "        # additional stuff - DigitalOption-specific\n",
    "        self.__Q = cash_amount\n",
    "        \n",
    "        # informations dictionary\n",
    "        self.__docstring_dict = {\n",
    "            'info': r\"CON {} (K={:.1f}, tau={:.2f}y, Q={:.1f})\".format(self.get_type(), \n",
    "                                                                       self.get_K(), \n",
    "                                                                       self.get_tau(), \n",
    "                                                                       self.get_Q()),\n",
    "            'call':{\n",
    "                'price_upper_limit': r\"Upper limit: $Q e^{-r \\tau}$\",\n",
    "                'payoff':            r\"Payoff: $Q$ $I(S > K)$\",\n",
    "                'price_lower_limit': r\"Lower limit: $0$\"\n",
    "            },\n",
    "            'put': {\n",
    "                'price_upper_limit': r\"Upper limit: $Q e^{-r \\tau}$\",\n",
    "                'payoff':            r\"Payoff: $Q$ $I(S \\leq K)$\",\n",
    "                'price_lower_limit': r\"Lower limit: $0$\"}\n",
    "        }        \n",
    "                \n",
    "    def __repr__(self):\n",
    "        return r\"DigitalOption('{}', cash={:.1f}, S_t={:.1f}, K={:.1f}, t={}, T={}, tau={:.2f}y, r={:.1f}%, sigma={:.1f}%)\".\\\n",
    "                format(self.get_type(), self.get_Q(), self.get_S(), self.get_K(), self.get_t().strftime(\"%d-%m-%Y\"), \n",
    "                       self.get_T().strftime(\"%d-%m-%Y\"), self.get_tau(), self.get_r()*100, self.get_sigma()*100)\n",
    "    \n",
    "    # getters\n",
    "    def get_Q(self):\n",
    "        return self.__Q\n",
    "    \n",
    "    # docstring getter\n",
    "    def get_docstring(self, label):\n",
    "        return self.__docstring_dict[self.get_type()][label] \n",
    "    \n",
    "    # setters\n",
    "    def set_Q(self, cash_amount):\n",
    "        self.__Q = cash_amount\n",
    "    \n",
    "    # payoff calculation - with optional keyword parameters\n",
    "    def payoff(self, **kwargs):\n",
    "        \n",
    "        S = self.get_S() if 'S' not in kwargs else kwargs['S']\n",
    "            \n",
    "        # call case\n",
    "        if self.get_type() == 'call':\n",
    "            return self.__call_payoff(S)\n",
    "        # put case\n",
    "        else:\n",
    "            return self.__put_payoff(S)\n",
    "\n",
    "    def __call_payoff(self, S):\n",
    "        if isinstance(S, list):\n",
    "            return [self.get_Q() * int(s > self.get_K()) for s in S]\n",
    "        else:\n",
    "            return self.get_Q() * int(S > self.get_K())\n",
    "\n",
    "    def __put_payoff(self, S):\n",
    "        if isinstance(S, list):\n",
    "            return [self.get_Q() * int(s <= self.get_K()) for s in S]\n",
    "        else:\n",
    "            return self.get_Q() * int(S <= self.get_K())\n",
    "        \n",
    "    # upper price limit - with optional keyword parameters\n",
    "    def price_upper_limit(self, **kwargs):\n",
    "\n",
    "        S = self.get_S() if 'S' not in kwargs else kwargs['S']\n",
    "        tau = self.get_tau() if 'tau' not in kwargs else kwargs['tau']\n",
    "            \n",
    "        # the same for call and put\n",
    "        return self.__price_upper_limit(S, tau)\n",
    " \n",
    "    def __price_upper_limit(self, S, tau):\n",
    "        if isinstance(S, list):\n",
    "            return [self.get_Q()*np.exp(-self.get_r() * tau)]*len(S)\n",
    "        else:\n",
    "            return self.get_Q()*np.exp(-self.get_r() * tau)\n",
    "                                       \n",
    "    # lower price limit - with optional keyword parameters\n",
    "    def price_lower_limit(self, **kwargs):\n",
    "\n",
    "        S = self.get_S() if 'S' not in kwargs else kwargs['S']\n",
    "            \n",
    "        # call case\n",
    "        if self.get_type() == 'call':\n",
    "            return [0.0]*len(S) if isinstance(S, list) else 0.0\n",
    "        # put case\n",
    "        else:\n",
    "            return [0.0]*len(S) if isinstance(S, list) else 0.0\n",
    "        \n",
    "    # price calculation - with optional keyword parameters\n",
    "    def price(self, **kwargs):\n",
    "\n",
    "        S = self.get_S() if 'S' not in kwargs else kwargs['S']\n",
    "        tau = self.get_tau() if 'tau' not in kwargs else kwargs['tau']\n",
    "            \n",
    "        # call case\n",
    "        if self.get_type() == 'call':\n",
    "            return [self.__call_price(s, tau) for s in S] if isinstance(S, list) else self.__call_price(S, tau)\n",
    "        # put case\n",
    "        else:\n",
    "            return [self.__put_price(s, tau) for s in S] if isinstance(S, list) else self.__put_price(S, tau)\n",
    "          \n",
    "    def __call_price(self, S, tau):\n",
    "                \n",
    "        if S == 0: # this is to avoid log(0) issues\n",
    "            return 0.0\n",
    "        else:\n",
    "            Q     = self.get_Q()\n",
    "            K     = self.get_K()\n",
    "            r     = self.get_r()\n",
    "            sigma = self.get_sigma()\n",
    "\n",
    "            d1 = (np.log(S/K) + (r + 0.5 * sigma ** 2) * tau) / (sigma * np.sqrt(tau))\n",
    "            d2 = d1 - sigma * np.sqrt(tau)\n",
    "\n",
    "            price = Q * np.exp(-r * tau) * stats.norm.cdf(d2, 0.0, 1.0)\n",
    "\n",
    "            return price\n",
    "    \n",
    "    def __put_price(self, S, tau):\n",
    "        \"\"\" Put price from Put-Call parity relation: CON_Call + CON_Put = Qe^{-r*tau}\"\"\"\n",
    "        return self.get_Q() * np.exp(- self.get_r() * tau) - self.__call_price(S, tau)        "
   ]
  },
  {
   "cell_type": "code",
   "execution_count": null,
   "metadata": {},
   "outputs": [],
   "source": [
    "CON_Call = DigitalOption()\n",
    "CON_Call"
   ]
  },
  {
   "cell_type": "code",
   "execution_count": null,
   "metadata": {
    "scrolled": true
   },
   "outputs": [],
   "source": [
    "CON_Call.price()"
   ]
  },
  {
   "cell_type": "code",
   "execution_count": null,
   "metadata": {},
   "outputs": [],
   "source": [
    "CON_Call.price(S=[95, 110], tau=0.1)"
   ]
  },
  {
   "cell_type": "code",
   "execution_count": null,
   "metadata": {},
   "outputs": [],
   "source": [
    "CON_Call.payoff()"
   ]
  },
  {
   "cell_type": "code",
   "execution_count": null,
   "metadata": {},
   "outputs": [],
   "source": [
    "CON_Call.payoff(S=[95, 110])"
   ]
  },
  {
   "cell_type": "code",
   "execution_count": null,
   "metadata": {},
   "outputs": [],
   "source": [
    "CON_Call.price_upper_limit()"
   ]
  },
  {
   "cell_type": "code",
   "execution_count": null,
   "metadata": {},
   "outputs": [],
   "source": [
    "CON_Call.price_upper_limit(S=[95, 110])"
   ]
  },
  {
   "cell_type": "code",
   "execution_count": null,
   "metadata": {},
   "outputs": [],
   "source": [
    "CON_Call.price_upper_limit(tau=0.1)"
   ]
  },
  {
   "cell_type": "code",
   "execution_count": null,
   "metadata": {},
   "outputs": [],
   "source": [
    "CON_Call.price_upper_limit(S=[95, 110], tau=0.1)"
   ]
  },
  {
   "cell_type": "markdown",
   "metadata": {},
   "source": [
    "using kwargs, the order doesn't matter"
   ]
  },
  {
   "cell_type": "code",
   "execution_count": null,
   "metadata": {},
   "outputs": [],
   "source": [
    "CON_Call.price_upper_limit(tau=0.1, S=[95, 110])"
   ]
  },
  {
   "cell_type": "code",
   "execution_count": null,
   "metadata": {},
   "outputs": [],
   "source": [
    "CON_Call.price_lower_limit()"
   ]
  },
  {
   "cell_type": "code",
   "execution_count": null,
   "metadata": {},
   "outputs": [],
   "source": [
    "CON_Call.price_upper_limit(S=[95, 110])"
   ]
  },
  {
   "cell_type": "code",
   "execution_count": null,
   "metadata": {
    "scrolled": true
   },
   "outputs": [],
   "source": [
    "CON_Put = DigitalOption(option_type='put', cash_amount = 1.0, S_t=90.0, K=100.0, t=\"19-04-2020\", T=\"31-12-2020\", r=0.05, sigma=0.2)\n",
    "CON_Put"
   ]
  },
  {
   "cell_type": "code",
   "execution_count": null,
   "metadata": {
    "scrolled": true
   },
   "outputs": [],
   "source": [
    "CON_Put.price()"
   ]
  },
  {
   "cell_type": "code",
   "execution_count": null,
   "metadata": {},
   "outputs": [],
   "source": [
    "CON_Put.price(S=[95, 110], tau=0.1)"
   ]
  },
  {
   "cell_type": "code",
   "execution_count": null,
   "metadata": {},
   "outputs": [],
   "source": [
    "CON_Put.payoff()"
   ]
  },
  {
   "cell_type": "code",
   "execution_count": null,
   "metadata": {},
   "outputs": [],
   "source": [
    "CON_Put.payoff(S=[95, 110])"
   ]
  },
  {
   "cell_type": "code",
   "execution_count": null,
   "metadata": {},
   "outputs": [],
   "source": [
    "CON_Put.price_upper_limit()"
   ]
  },
  {
   "cell_type": "code",
   "execution_count": null,
   "metadata": {},
   "outputs": [],
   "source": [
    "CON_Put.price_upper_limit(S=[95, 110])"
   ]
  },
  {
   "cell_type": "code",
   "execution_count": null,
   "metadata": {},
   "outputs": [],
   "source": [
    "CON_Put.price_upper_limit(tau=0.1)"
   ]
  },
  {
   "cell_type": "code",
   "execution_count": null,
   "metadata": {},
   "outputs": [],
   "source": [
    "CON_Put.price_upper_limit(S=[95, 110], tau=0.1)"
   ]
  },
  {
   "cell_type": "markdown",
   "metadata": {},
   "source": [
    "using kwargs, the order doesn't matter"
   ]
  },
  {
   "cell_type": "code",
   "execution_count": null,
   "metadata": {},
   "outputs": [],
   "source": [
    "CON_Put.price_upper_limit(tau=0.1, S=[95, 110])"
   ]
  },
  {
   "cell_type": "code",
   "execution_count": null,
   "metadata": {},
   "outputs": [],
   "source": [
    "CON_Put.price_lower_limit()"
   ]
  },
  {
   "cell_type": "code",
   "execution_count": null,
   "metadata": {},
   "outputs": [],
   "source": [
    "CON_Put.price_upper_limit(S=[95, 110])"
   ]
  },
  {
   "cell_type": "markdown",
   "metadata": {},
   "source": [
    "Let's now define a Plotter class"
   ]
  },
  {
   "cell_type": "code",
   "execution_count": null,
   "metadata": {},
   "outputs": [],
   "source": [
    "class Plotter():\n",
    "    \n",
    "    def __init__(self, FinancialInstrument, **kwargs):\n",
    "        \n",
    "        self.fin_inst = FinancialInstrument\n",
    "        \n",
    "        self.__S = self.fin_inst.get_S() if 'S' not in kwargs else kwargs['S']\n",
    "        self.__tau = self.fin_inst.get_tau() if 'tau' not in kwargs else kwargs['tau']\n",
    "        \n",
    "        if isinstance(self.__tau, list)\n",
    "            # color cycle setup: basically a cycle of different shades of blue as many time to maturity there are\n",
    "            plt.rcParams[\"axes.prop_cycle\"] = plt.cycler(\"color\", plt.cm.Blues(np.linspace(0,1,len(self.__tau)+1)))\n",
    "            \n",
    "        self.__title_label = self.fin_\n",
    "\n",
    "def plot_price_strip(self, **kwargs):\n",
    "    \"\"\"\n",
    "    Plot FinancialInstrument values against underlying value(s), possibly at different times-to-maturity.\n",
    "    \"\"\"\n",
    "    \n",
    "    S = self.__S if 'S' not in kwargs else kwargs['S']\n",
    "    tau = self.__tau if 'tau' not in kwargs else kwargs['tau']\n",
    "    \n",
    "    \n",
    "    # setting legend labels\n",
    "    # plain vanilla case:\n",
    "    if isinstance(option, PlainVanillaOption):\n",
    "        title_label = \"Plain Vanilla\"\n",
    "    # digital case:\n",
    "    else:\n",
    "        title_label = \"Cash-Or-Nothing ($Q={}$)\".format(option.get_Q())\n",
    "\n",
    "    # define the figure\n",
    "    fig, ax = plt.subplots(figsize=(10,6))\n",
    "\n",
    "    # auxiliary variables\n",
    "    numS = len(S_list)\n",
    "    numTau = len(tau_list)\n",
    "\n",
    "    # plot a dot to highlight the strike position\n",
    "    ax.plot(K, 0, 'k.', ms=15, label=\"Strike $K$\")\n",
    "\n",
    "    # plot the price for different underlying values, one line for each different time to maturity tau\n",
    "    for i in np.arange(numTau)[::-1]: # loop over reversed range\n",
    "        \n",
    "        option.set_tau(tau_list[i])\n",
    "        price = np.zeros(numS)\n",
    "        \n",
    "        for j in np.arange(numS):\n",
    "            option.set_S(S_list[j]) # reset of underlying value\n",
    "            price[j] = option.price()\n",
    "        \n",
    "        ax.plot(S_list, price, '-', lw=1.5, label=r\"$\\tau={}$\".format(option.get_tau()))\n",
    "    \n",
    "    # plot the red payoff line for different underlying values\n",
    "    payoff = np.zeros(numS)\n",
    "    for i in np.arange(numS):\n",
    "        option.set_S(S_list[i]) # reset of underlying value\n",
    "        payoff[i] = option.payoff()\n",
    "    \n",
    "    ax.plot(S_list, payoff, 'r-',  lw=1.5, label=option.get_docstring('payoff'))\n",
    "    \n",
    "    # set axis labels \n",
    "    ax.set_xlabel('Underlying $S_t$', fontsize=12) \n",
    "    ax.set_ylabel('Black-Scholes Price', fontsize=12) \n",
    "\n",
    "    # set title\n",
    "    ax.set_title(r\"Price of a {} {} Option $(S_t, K={}, \\tau=T-t, r={}\\%, \\sigma={}\\%)$ Vs $S$ (at different $\\tau$)\".\n",
    "                 format(title_label, option.get_type(), option.get_K(), option.get_r()*100, option.get_sigma()*100), fontsize=12) \n",
    "\n",
    "    # add the legend ('best' loc parameters places the legend in the best position automatically)\n",
    "    ax.legend(loc='best', ncol=1)\n",
    "        \n",
    "    # add a gride to ease visualization\n",
    "    plt.grid(True)\n",
    "\n",
    "    # show the plot\n",
    "    fig.tight_layout()\n",
    "    plt.show()\n",
    "    \n",
    "#####################################################\n",
    "\n",
    "def plot_price(option, S_list, tau):\n",
    "    \"\"\"\n",
    "    plot_price(option, S_list, tau) plot option prices for underlying in 'S_list' and time to maturity 'tau'.\n",
    "\n",
    "    Parameters:\n",
    "        option (PlainVanillaOption): instance of PlainVanillaOption class;\n",
    "        S_list (List):               list of underlying values;\n",
    "        tau (float):                 time to maturity (in years);\n",
    "        \n",
    "    Returns:\n",
    "        None;\n",
    "\n",
    "    \"\"\"\n",
    "\n",
    "    # define the figure\n",
    "    fig, ax = plt.subplots(figsize=(10,6))\n",
    "    \n",
    "    # setting legend labels\n",
    "    # plain vanilla case:\n",
    "    if isinstance(option, PlainVanillaOption):\n",
    "        title_label = \"Plain Vanilla\"\n",
    "    # digital case:\n",
    "    else:\n",
    "        title_label = \"Cash-Or-Nothing ($Q={}$)\".format(option.get_Q())\n",
    "            \n",
    "    # auxiliary variable\n",
    "    numS = len(S_list)\n",
    "\n",
    "    # plot a dot to highlight the strike position\n",
    "    ax.plot(option.get_K(), 0, 'k.', ms=15, label=\"Strike $K$\")\n",
    "\n",
    "    # plot the upper limit, the price and the lower limit for different underlying values\n",
    "    upper_limit = np.zeros(numS)\n",
    "    price       = np.zeros(numS)\n",
    "    lower_limit = np.zeros(numS)\n",
    "    payoff      = np.zeros(numS)\n",
    "\n",
    "    for i in np.arange(numS):\n",
    "        option.set_S(S_list[i]) # reset of underlying value\n",
    "        \n",
    "        upper_limit[i] = option.price_upper_limit()\n",
    "        price[i]       = option.price()\n",
    "        lower_limit[i] = option.price_lower_limit()\n",
    "        payoff[i]      = option.payoff()\n",
    "\n",
    "    ax.plot(S_list, upper_limit, 'k-.', lw=1.5, label=option.get_docstring('price_upper_limit'))\n",
    "    ax.plot(S_list, price,       'b-',  lw=1.5, label=r\"Price\")\n",
    "    ax.plot(S_list, lower_limit, 'k--', lw=1.5, label=option.get_docstring('price_lower_limit'))\n",
    "    ax.plot(S_list, payoff,      'r-',  lw=1.5, label=option.get_docstring('payoff'))\n",
    "\n",
    "    # set axis labels \n",
    "    ax.set_xlabel('Underlying $S_t$', fontsize=12) \n",
    "    ax.set_ylabel('Black-Scholes Price', fontsize=12) \n",
    "\n",
    "    # set title\n",
    "    ax.set_title(r\"Price of a {} {} Option $(S_t, K={}, \\tau=T-t={:.1f}y, r={}\\%, \\sigma={}\\%)$ Vs $S$ (with price limits)\".\n",
    "                 format(title_label, option.get_type(), option.get_K(), option.get_tau(), option.get_r()*100, \n",
    "                        option.get_sigma()*100), fontsize=12) \n",
    "\n",
    "    # add the legend ('best' loc parameters places the legend in the best position automatically)\n",
    "    ax.legend(loc='best', ncol=1)\n",
    "\n",
    "    # add a gride to ease visualization\n",
    "    plt.grid(True)\n",
    "\n",
    "    # show the plot\n",
    "    fig.tight_layout()\n",
    "    plt.show()"
   ]
  },
  {
   "cell_type": "markdown",
   "metadata": {},
   "source": [
    "# Composition application: a `Portfolio()` class"
   ]
  },
  {
   "cell_type": "code",
   "execution_count": null,
   "metadata": {},
   "outputs": [],
   "source": []
  },
  {
   "cell_type": "code",
   "execution_count": null,
   "metadata": {},
   "outputs": [],
   "source": []
  },
  {
   "cell_type": "code",
   "execution_count": null,
   "metadata": {},
   "outputs": [],
   "source": []
  },
  {
   "cell_type": "code",
   "execution_count": null,
   "metadata": {},
   "outputs": [],
   "source": []
  },
  {
   "cell_type": "code",
   "execution_count": null,
   "metadata": {},
   "outputs": [],
   "source": []
  },
  {
   "cell_type": "code",
   "execution_count": null,
   "metadata": {},
   "outputs": [],
   "source": []
  },
  {
   "cell_type": "code",
   "execution_count": null,
   "metadata": {},
   "outputs": [],
   "source": []
  },
  {
   "cell_type": "code",
   "execution_count": null,
   "metadata": {},
   "outputs": [],
   "source": []
  },
  {
   "cell_type": "code",
   "execution_count": null,
   "metadata": {},
   "outputs": [],
   "source": []
  },
  {
   "cell_type": "code",
   "execution_count": null,
   "metadata": {},
   "outputs": [],
   "source": []
  }
 ],
 "metadata": {
  "kernelspec": {
   "display_name": "Python 3",
   "language": "python",
   "name": "python3"
  },
  "language_info": {
   "codemirror_mode": {
    "name": "ipython",
    "version": 3
   },
   "file_extension": ".py",
   "mimetype": "text/x-python",
   "name": "python",
   "nbconvert_exporter": "python",
   "pygments_lexer": "ipython3",
   "version": "3.7.4"
  }
 },
 "nbformat": 4,
 "nbformat_minor": 2
}
