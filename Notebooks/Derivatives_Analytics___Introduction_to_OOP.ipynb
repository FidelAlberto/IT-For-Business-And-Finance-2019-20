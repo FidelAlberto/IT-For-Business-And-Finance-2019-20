{
 "cells": [
  {
   "cell_type": "markdown",
   "metadata": {},
   "source": [
    "# Derivatives Analytics - Introduction to Object Oriented Programming"
   ]
  },
  {
   "cell_type": "markdown",
   "metadata": {},
   "source": [
    "**Author**: [Gabriele Pompa](https://www.linkedin.com/in/gabrielepompa/): gabriele.pompa@unisi.com"
   ]
  },
  {
   "cell_type": "markdown",
   "metadata": {},
   "source": [
    "# Table of contents\n",
    "\n",
    "[Executive Summary](#executive-summary)\n",
    "\n",
    "**TODO**"
   ]
  },
  {
   "cell_type": "markdown",
   "metadata": {},
   "source": [
    "### **Resources**: \n",
    "\n",
    "**TODO**"
   ]
  },
  {
   "cell_type": "markdown",
   "metadata": {},
   "source": [
    "# Executive Summary <a name=\"executive-summary\"></a>"
   ]
  },
  {
   "cell_type": "markdown",
   "metadata": {},
   "source": [
    "**Make intro**"
   ]
  },
  {
   "cell_type": "markdown",
   "metadata": {},
   "source": [
    "The following sections are organized as follows:\n",
    "\n",
    "- **TODO**"
   ]
  },
  {
   "cell_type": "markdown",
   "metadata": {},
   "source": [
    "These are the basic imports that we need to work with NumPy, Pandas and to plot data using Matplotlib functionalities"
   ]
  },
  {
   "cell_type": "code",
   "execution_count": 19,
   "metadata": {},
   "outputs": [],
   "source": [
    "# for NumPy arrays\n",
    "import numpy as np\n",
    "\n",
    "# for Pandas Series and DataFrame\n",
    "import pandas as pd\n",
    "\n",
    "# for statistical functions\n",
    "from scipy import stats\n",
    "\n",
    "# for Matplotlib plotting\n",
    "import matplotlib.pyplot as plt\n",
    "\n",
    "# to do inline plots in the Notebook\n",
    "%matplotlib inline\n",
    "\n",
    "# for Operating System operations\n",
    "import os\n",
    "\n",
    "# for some mathematical functions\n",
    "import math"
   ]
  },
  {
   "cell_type": "markdown",
   "metadata": {},
   "source": [
    "# Introduction to dates management: `datetime` module <a name=\"introduction-to-dates\"></a>"
   ]
  },
  {
   "cell_type": "code",
   "execution_count": 2,
   "metadata": {},
   "outputs": [],
   "source": [
    "# for date management\n",
    "import datetime as dt"
   ]
  },
  {
   "cell_type": "code",
   "execution_count": null,
   "metadata": {},
   "outputs": [],
   "source": [
    "today = dt.datetime.today()\n",
    "today"
   ]
  },
  {
   "cell_type": "code",
   "execution_count": null,
   "metadata": {},
   "outputs": [],
   "source": [
    "type(today)"
   ]
  },
  {
   "cell_type": "code",
   "execution_count": null,
   "metadata": {},
   "outputs": [],
   "source": [
    "my_birthday = dt.datetime(year=1988,month=6,day=1)\n",
    "my_birthday"
   ]
  },
  {
   "cell_type": "code",
   "execution_count": null,
   "metadata": {},
   "outputs": [],
   "source": [
    "type(my_birthday)"
   ]
  },
  {
   "cell_type": "code",
   "execution_count": null,
   "metadata": {},
   "outputs": [],
   "source": [
    "time_to_date = today - my_birthday\n",
    "time_to_date"
   ]
  },
  {
   "cell_type": "code",
   "execution_count": null,
   "metadata": {},
   "outputs": [],
   "source": [
    "type(time_to_date)"
   ]
  },
  {
   "cell_type": "code",
   "execution_count": null,
   "metadata": {},
   "outputs": [],
   "source": [
    "time_to_date.days"
   ]
  },
  {
   "cell_type": "code",
   "execution_count": null,
   "metadata": {},
   "outputs": [],
   "source": [
    "time_to_date.days/365"
   ]
  },
  {
   "cell_type": "code",
   "execution_count": null,
   "metadata": {},
   "outputs": [],
   "source": [
    "date_string = \"18-04-2020\"\n",
    "date_string"
   ]
  },
  {
   "cell_type": "code",
   "execution_count": null,
   "metadata": {},
   "outputs": [],
   "source": [
    "type(date_string)"
   ]
  },
  {
   "cell_type": "code",
   "execution_count": null,
   "metadata": {},
   "outputs": [],
   "source": [
    "isinstance(date_string, str)"
   ]
  },
  {
   "cell_type": "code",
   "execution_count": null,
   "metadata": {},
   "outputs": [],
   "source": [
    "date = dt.datetime.strptime(date_string, \"%d-%m-%Y\")\n",
    "date"
   ]
  },
  {
   "cell_type": "code",
   "execution_count": null,
   "metadata": {},
   "outputs": [],
   "source": [
    "type(date)"
   ]
  },
  {
   "cell_type": "code",
   "execution_count": null,
   "metadata": {},
   "outputs": [],
   "source": [
    "isinstance(date, dt.datetime)"
   ]
  },
  {
   "cell_type": "code",
   "execution_count": null,
   "metadata": {},
   "outputs": [],
   "source": [
    "date_string_from_dt = date.strftime(\"%d-%m-%Y\")\n",
    "date_string_from_dt"
   ]
  },
  {
   "cell_type": "code",
   "execution_count": null,
   "metadata": {},
   "outputs": [],
   "source": [
    "type(date_string_from_dt)"
   ]
  },
  {
   "cell_type": "code",
   "execution_count": null,
   "metadata": {},
   "outputs": [],
   "source": [
    "isinstance(date_string_from_dt, str)"
   ]
  },
  {
   "cell_type": "code",
   "execution_count": null,
   "metadata": {},
   "outputs": [],
   "source": [
    "date + dt.timedelta(days=25)"
   ]
  },
  {
   "cell_type": "markdown",
   "metadata": {},
   "source": [
    "## Non-financial Introduction to OOP <a name=\"non-financial-introduction-to-oop\"></a>"
   ]
  },
  {
   "cell_type": "markdown",
   "metadata": {},
   "source": [
    "### Without OOP: a person <a name=\"nonoopperson\"></a> "
   ]
  },
  {
   "cell_type": "code",
   "execution_count": null,
   "metadata": {},
   "outputs": [],
   "source": [
    "def say_your_name(name, surname):\n",
    "    print(\"My name is {} {}\".format(name, surname))"
   ]
  },
  {
   "cell_type": "code",
   "execution_count": null,
   "metadata": {},
   "outputs": [],
   "source": [
    "my_name = \"Gabriele\"\n",
    "my_surname = \"Pompa\""
   ]
  },
  {
   "cell_type": "code",
   "execution_count": null,
   "metadata": {},
   "outputs": [],
   "source": [
    "say_your_name(name=my_name, surname=my_surname)"
   ]
  },
  {
   "cell_type": "code",
   "execution_count": null,
   "metadata": {},
   "outputs": [],
   "source": [
    "def say_country_of_birth(country):\n",
    "    print(\"My country of birth is {}\".format(country))"
   ]
  },
  {
   "cell_type": "code",
   "execution_count": null,
   "metadata": {},
   "outputs": [],
   "source": [
    "my_country = \"Italy\""
   ]
  },
  {
   "cell_type": "code",
   "execution_count": null,
   "metadata": {},
   "outputs": [],
   "source": [
    "say_country_of_birth(my_country)"
   ]
  },
  {
   "cell_type": "code",
   "execution_count": null,
   "metadata": {},
   "outputs": [],
   "source": [
    "def compute_age(birthdate):\n",
    "    \n",
    "    today = dt.datetime.today()  \n",
    "    birthdate = dt.datetime.strptime(birthdate, \"%d-%m-%Y\") if isinstance(birthdate, str) else birthdate\n",
    "    \n",
    "    next_birthday = dt.datetime(year=today.year, month=birthdate.month, day=birthdate.day)\n",
    "    \n",
    "    if today >= next_birthday:\n",
    "        age = today.year - birthdate.year\n",
    "    else:\n",
    "        age = today.year - birthdate.year - 1\n",
    "        \n",
    "    return age"
   ]
  },
  {
   "cell_type": "code",
   "execution_count": null,
   "metadata": {},
   "outputs": [],
   "source": [
    "my_birthdate = \"01-06-1988\"\n",
    "my_birthdate"
   ]
  },
  {
   "cell_type": "code",
   "execution_count": null,
   "metadata": {},
   "outputs": [],
   "source": [
    "my_age = compute_age(birthdate=my_birthdate)\n",
    "my_age"
   ]
  },
  {
   "cell_type": "code",
   "execution_count": null,
   "metadata": {},
   "outputs": [],
   "source": [
    "def time_to_birthday(birthdate):\n",
    "    \n",
    "    today = dt.datetime.today()\n",
    "    birthdate = dt.datetime.strptime(birthdate, \"%d-%m-%Y\") if isinstance(birthdate, str) else birthdate\n",
    "    \n",
    "    next_birthday = dt.datetime(year=today.year, month=birthdate.month, day=birthdate.day)\n",
    "    \n",
    "    return (next_birthday - today).days"
   ]
  },
  {
   "cell_type": "code",
   "execution_count": null,
   "metadata": {},
   "outputs": [],
   "source": [
    "days_to_birthday = time_to_birthday(my_birthdate)\n",
    "days_to_birthday"
   ]
  },
  {
   "cell_type": "markdown",
   "metadata": {},
   "source": [
    "### With OOP: the `Person` class <a name=\"oopperson\"></a> "
   ]
  },
  {
   "cell_type": "code",
   "execution_count": null,
   "metadata": {},
   "outputs": [],
   "source": [
    "class Person(object):\n",
    "    \"\"\"\n",
    "    Person class implementing some typical features of a person.\n",
    "    \n",
    "    Attributes:\n",
    "    -----------\n",
    "        name (str):                   name string;\n",
    "        surname (str):                surname string;\n",
    "        country (str):                country of birth;\n",
    "        birthdate (str; dt.datetime): date of birth. Can be either a \"dd-mm-YYYY\" String or a pd.datetime() object\n",
    "        age (int):                    age, as computed by compute_age() method.\n",
    "    \n",
    "    Methods:\n",
    "    --------\n",
    "        say_your_name: (returns) None\n",
    "            Prints name and surname.\n",
    "            \n",
    "        say_country_of_birth: None\n",
    "            Prints country of birth.\n",
    "            \n",
    "        compute_age: int\n",
    "            Computes the age, sets self.age attribute and returns it.\n",
    "            \n",
    "        time_to_birthday: int\n",
    "            Computes the number of days left untill next birthdat and return the number.\n",
    "    \n",
    "    \"\"\"\n",
    "    \n",
    "    def __init__(self, p_name, p_surname, p_country, p_birthdate):\n",
    "        self.name      = p_name\n",
    "        self.surname   = p_surname\n",
    "        self.country   = p_country\n",
    "        self.birthdate = dt.datetime.strptime(p_birthdate, \"%d-%m-%Y\") if isinstance(p_birthdate, str) else p_birthdate\n",
    "        self.age       = None\n",
    "    \n",
    "    def say_your_name(self):\n",
    "        print(\"My name is {} {}\".format(self.name, self.surname))\n",
    "        \n",
    "    def say_country_of_birth(self):\n",
    "        print(\"My country of birth is {}\".format(self.country))\n",
    "        \n",
    "    def compute_age(self):\n",
    "    \n",
    "        today = dt.datetime.today()  \n",
    "\n",
    "        next_birthday = dt.datetime(year=today.year, month=self.birthdate.month, day=self.birthdate.day)\n",
    "\n",
    "        if today >= next_birthday:\n",
    "            self.age = today.year - self.birthdate.year\n",
    "        else:\n",
    "            self.age = today.year - self.birthdate.year - 1\n",
    "\n",
    "        return self.age \n",
    "    \n",
    "    def time_to_birthday(self):\n",
    "\n",
    "        today = dt.datetime.today()\n",
    "\n",
    "        next_birthday = dt.datetime(year=today.year, month=self.birthdate.month, day=self.birthdate.day)\n",
    "\n",
    "        return (next_birthday - today).days"
   ]
  },
  {
   "cell_type": "code",
   "execution_count": null,
   "metadata": {},
   "outputs": [],
   "source": [
    "gab = Person(p_name = \"Gabriele\", \n",
    "             p_surname = \"Pompa\", \n",
    "             p_country = \"Italy\", \n",
    "             p_birthdate = \"01-06-1988\")"
   ]
  },
  {
   "cell_type": "code",
   "execution_count": null,
   "metadata": {},
   "outputs": [],
   "source": [
    "type(gab)"
   ]
  },
  {
   "cell_type": "code",
   "execution_count": null,
   "metadata": {},
   "outputs": [],
   "source": [
    "gab.name"
   ]
  },
  {
   "cell_type": "code",
   "execution_count": null,
   "metadata": {},
   "outputs": [],
   "source": [
    "gab.surname"
   ]
  },
  {
   "cell_type": "code",
   "execution_count": null,
   "metadata": {},
   "outputs": [],
   "source": [
    "gab.say_your_name()"
   ]
  },
  {
   "cell_type": "code",
   "execution_count": null,
   "metadata": {},
   "outputs": [],
   "source": [
    "gab.country"
   ]
  },
  {
   "cell_type": "code",
   "execution_count": null,
   "metadata": {},
   "outputs": [],
   "source": [
    "gab.say_country_of_birth()"
   ]
  },
  {
   "cell_type": "code",
   "execution_count": null,
   "metadata": {},
   "outputs": [],
   "source": [
    "gab.birthdate"
   ]
  },
  {
   "cell_type": "code",
   "execution_count": null,
   "metadata": {},
   "outputs": [],
   "source": [
    "gab.birthdate.strftime(\"%d-%m-%Y\")"
   ]
  },
  {
   "cell_type": "code",
   "execution_count": null,
   "metadata": {},
   "outputs": [],
   "source": [
    "gab.age is None"
   ]
  },
  {
   "cell_type": "code",
   "execution_count": null,
   "metadata": {},
   "outputs": [],
   "source": [
    "gab.compute_age()"
   ]
  },
  {
   "cell_type": "code",
   "execution_count": null,
   "metadata": {},
   "outputs": [],
   "source": [
    "gab.age"
   ]
  },
  {
   "cell_type": "code",
   "execution_count": null,
   "metadata": {},
   "outputs": [],
   "source": [
    "gab.time_to_birthday()"
   ]
  },
  {
   "cell_type": "code",
   "execution_count": null,
   "metadata": {},
   "outputs": [],
   "source": [
    "bill = Person(p_name = \"Bill\", \n",
    "              p_surname = \"Gates\", \n",
    "              p_country = \"USA\", \n",
    "              p_birthdate = \"28-10-1955\")"
   ]
  },
  {
   "cell_type": "code",
   "execution_count": null,
   "metadata": {},
   "outputs": [],
   "source": [
    "type(bill)"
   ]
  },
  {
   "cell_type": "code",
   "execution_count": null,
   "metadata": {},
   "outputs": [],
   "source": [
    "bill.say_your_name()"
   ]
  },
  {
   "cell_type": "markdown",
   "metadata": {},
   "source": [
    "## Introduction to OOP: Black-Scholes option pricer <a name=\"BS-option-pricer\"></a>"
   ]
  },
  {
   "cell_type": "markdown",
   "metadata": {},
   "source": [
    "### Without OOP: a call priced using Black-Scholes model <a name=\"nonoopperson\"></a> "
   ]
  },
  {
   "cell_type": "code",
   "execution_count": null,
   "metadata": {},
   "outputs": [],
   "source": [
    "def call_option_payoff(S,K):\n",
    "    \"\"\"\n",
    "    call_option_payoff(S,K) computes returns the payoff of a call option given the spot price of the underlying asset \n",
    "    and strike price 'K'.\n",
    "    \n",
    "    Parameters:\n",
    "        S (float): spot price of the underlying asset;\n",
    "        K (float): strike price;\n",
    "    \n",
    "    Returns:\n",
    "        payoff (float): call option payoff;\n",
    "    \"\"\"\n",
    "    return max(0.0, S - K)\n"
   ]
  },
  {
   "cell_type": "code",
   "execution_count": null,
   "metadata": {},
   "outputs": [],
   "source": [
    "def call_option_price(S, K, tau, r, sigma):\n",
    "    \"\"\"\n",
    "    call_option_price(S, K, tau, r, sigma) computes and returns the exact price of a call option \n",
    "    of time to maturity 'tau' and strike price 'K' given the spot price of the underlying asset 'S', \n",
    "    the continuosly compounded short-rate 'r' and volatility of the \n",
    "    underlying asset 'sigma'.\n",
    "\n",
    "    Parameters:\n",
    "        S (float):     spot price of the underlying asset;\n",
    "        K (float):     strike price;\n",
    "        tau (float):   time to maturity (in years);\n",
    "        r (float):     continuously compounded short-rate;\n",
    "        sigma (float): volatility of underlying asset;\n",
    "        \n",
    "    Returns:\n",
    "        price (float): call price;\n",
    "\n",
    "    \"\"\"\n",
    "    \n",
    "    d1 = (np.log(S / K) + (r + 0.5 * sigma ** 2) * tau) / (sigma * np.sqrt(tau))\n",
    "    d2 = (np.log(S / K) + (r - 0.5 * sigma ** 2) * tau) / (sigma * np.sqrt(tau))\n",
    "    \n",
    "    price = S * stats.norm.cdf(d1, 0.0, 1.0) - K * np.exp(-r * tau) * stats.norm.cdf(d2, 0.0, 1.0)\n",
    "\n",
    "    return price"
   ]
  },
  {
   "cell_type": "code",
   "execution_count": 15,
   "metadata": {},
   "outputs": [],
   "source": [
    "K              = 100.0\n",
    "short_rate     = 0.05 # 5% per year\n",
    "volatility     = 0.2  # 20% per year"
   ]
  },
  {
   "cell_type": "code",
   "execution_count": 16,
   "metadata": {},
   "outputs": [
    {
     "data": {
      "text/plain": [
       "array([0.05, 0.1 , 0.25, 0.5 , 0.75, 1.  ])"
      ]
     },
     "execution_count": 16,
     "metadata": {},
     "output_type": "execute_result"
    }
   ],
   "source": [
    "tau_strip = np.array([0.05, 0.1, 0.25, 0.5, 0.75, 1.0])\n",
    "tau_strip"
   ]
  },
  {
   "cell_type": "code",
   "execution_count": 17,
   "metadata": {},
   "outputs": [
    {
     "data": {
      "text/plain": [
       "array([ 80.        ,  80.4040404 ,  80.80808081,  81.21212121,\n",
       "        81.61616162,  82.02020202,  82.42424242,  82.82828283,\n",
       "        83.23232323,  83.63636364,  84.04040404,  84.44444444,\n",
       "        84.84848485,  85.25252525,  85.65656566,  86.06060606,\n",
       "        86.46464646,  86.86868687,  87.27272727,  87.67676768,\n",
       "        88.08080808,  88.48484848,  88.88888889,  89.29292929,\n",
       "        89.6969697 ,  90.1010101 ,  90.50505051,  90.90909091,\n",
       "        91.31313131,  91.71717172,  92.12121212,  92.52525253,\n",
       "        92.92929293,  93.33333333,  93.73737374,  94.14141414,\n",
       "        94.54545455,  94.94949495,  95.35353535,  95.75757576,\n",
       "        96.16161616,  96.56565657,  96.96969697,  97.37373737,\n",
       "        97.77777778,  98.18181818,  98.58585859,  98.98989899,\n",
       "        99.39393939,  99.7979798 , 100.        , 100.2020202 ,\n",
       "       100.60606061, 101.01010101, 101.41414141, 101.81818182,\n",
       "       102.22222222, 102.62626263, 103.03030303, 103.43434343,\n",
       "       103.83838384, 104.24242424, 104.64646465, 105.05050505,\n",
       "       105.45454545, 105.85858586, 106.26262626, 106.66666667,\n",
       "       107.07070707, 107.47474747, 107.87878788, 108.28282828,\n",
       "       108.68686869, 109.09090909, 109.49494949, 109.8989899 ,\n",
       "       110.3030303 , 110.70707071, 111.11111111, 111.51515152,\n",
       "       111.91919192, 112.32323232, 112.72727273, 113.13131313,\n",
       "       113.53535354, 113.93939394, 114.34343434, 114.74747475,\n",
       "       115.15151515, 115.55555556, 115.95959596, 116.36363636,\n",
       "       116.76767677, 117.17171717, 117.57575758, 117.97979798,\n",
       "       118.38383838, 118.78787879, 119.19191919, 119.5959596 ,\n",
       "       120.        ])"
      ]
     },
     "execution_count": 17,
     "metadata": {},
     "output_type": "execute_result"
    }
   ],
   "source": [
    "S_strip = np.linspace(80, 120, 100)\n",
    "S_strip = np.append(S_strip, K)\n",
    "S_strip = np.sort(S_strip)\n",
    "S_strip"
   ]
  },
  {
   "cell_type": "code",
   "execution_count": null,
   "metadata": {},
   "outputs": [],
   "source": [
    "# color cycle setup: basically a cycle of different shades of blue as many time to maturity there are\n",
    "plt.rcParams[\"axes.prop_cycle\"] = plt.cycler(\"color\", plt.cm.Blues_r(np.linspace(0,1,len(tau_strip)+1)))\n",
    "\n",
    "# define the figure\n",
    "fig, ax = plt.subplots(figsize=(10,6))\n",
    "\n",
    "# plot a dot to highlight the strike position\n",
    "ax.plot(K, 0, 'k.', ms=15, label=\"Strike $K$\")\n",
    "\n",
    "# plot the red payoff line for different strikes\n",
    "ax.plot(S_strip, [call_option_payoff(S, K) for S in S_strip], \n",
    "        'r-', lw=1.5, label=\"$max(S-K)$\")\n",
    "\n",
    "# plot the price for different strikes, one line for each different time to maturity \n",
    "for tau in tau_strip:\n",
    "    ax.plot(S_strip, [call_option_price(S, K, tau, short_rate, volatility) for S in S_strip], \n",
    "            '-', lw=1.5, label=r\"$\\tau={}$\".format(tau))\n",
    "\n",
    "# set axis labels \n",
    "ax.set_xlabel('Underlying $S$', fontsize=12) \n",
    "ax.set_ylabel('Black-Scholes Price', fontsize=12) \n",
    "\n",
    "# set title\n",
    "ax.set_title(r\"Price of a Call Option $(S, K={}, \\tau, r={}\\%, \\sigma={}\\%)$ Vs $S$ (at different $\\tau$)\".\n",
    "             format(K, short_rate*100, volatility*100), fontsize=12) \n",
    "\n",
    "# add the legend\n",
    "ax.legend(loc='upper left', ncol=1)\n",
    "\n",
    "# add a gride to ease visualization\n",
    "plt.grid(True)\n",
    "\n",
    "# show the plot\n",
    "fig.tight_layout()\n",
    "plt.show()"
   ]
  },
  {
   "cell_type": "markdown",
   "metadata": {},
   "source": [
    "### With OOP: the `BSCall` class <a name=\"bscall\"></a> "
   ]
  },
  {
   "cell_type": "code",
   "execution_count": null,
   "metadata": {},
   "outputs": [],
   "source": [
    "class CallOption(object):\n",
    "    \"\"\"\n",
    "    CallOption class implementing payoff and pricing of a european call option.\n",
    "    \n",
    "    Attributes:\n",
    "    -----------\n",
    "        S_t (float):              spot price of the underlying asset at the valuation date 't';\n",
    "        K (float):                strike price;\n",
    "        t (str; dt.datetime):     valuation date. Can be either a \"dd-mm-YYYY\" String or a pd.datetime() object\n",
    "        T (str; dt.datetime):     expiration date. Can be either a \"dd-mm-YYYY\" String or a pd.datetime() object\n",
    "        tau (float):              time to maturity in years, computed as tau=T-t by time_to_maturity() method\n",
    "        r (float):                continuously compounded short-rate;\n",
    "        sigma (float):            volatility of underlying asset;\n",
    "    \n",
    "    Methods:\n",
    "    --------            \n",
    "        time_to_maturity: float\n",
    "            Computes the time to maturity and returns it.\n",
    "            \n",
    "        payoff: float\n",
    "            Computes the payoff of the option and returns it\n",
    "\n",
    "        price: float\n",
    "            Computes the exact price of the option and returns it\n",
    "\n",
    "    \"\"\"\n",
    "    \n",
    "    # constructor\n",
    "    def __init__(self, S_t, K, t, T, r, sigma):\n",
    "        self.S     = S_t\n",
    "        self.K     = K\n",
    "        self.t     = dt.datetime.strptime(t, \"%d-%m-%Y\") if isinstance(t, str) else t\n",
    "        self.T     = dt.datetime.strptime(T, \"%d-%m-%Y\") if isinstance(T, str) else T\n",
    "        self.tau   = self.time_to_maturity()\n",
    "        self.r     = r\n",
    "        self.sigma = sigma\n",
    "        \n",
    "    # string representation\n",
    "    def __repr__(self):\n",
    "        return r\"CallOption(S_t={:.1f}, K={:.1f}, t={}, T={}, tau={:.2f}y, r={:.1f}%, sigma={:.1f}%)\".\\\n",
    "                format(self.S, self.K, self.t.strftime(\"%d-%m-%Y\"), self.T.strftime(\"%d-%m-%Y\"), self.tau, \n",
    "                       self.r*100, self.sigma*100)\n",
    "      \n",
    "    # time to maturity calculation\n",
    "    def time_to_maturity(self):\n",
    "        return (self.T - self.t).days / 365.0\n",
    "    \n",
    "    # payoff calculation\n",
    "    def payoff(self):\n",
    "        return max(0.0, self.S - self.K)\n",
    "\n",
    "    # price calculation\n",
    "    def price(self):\n",
    "\n",
    "        d1 = (np.log(self.S / self.K) + (self.r + 0.5 * self.sigma ** 2) * self.tau) / (self.sigma * np.sqrt(self.tau))\n",
    "        d2 = d1 - self.sigma * np.sqrt(self.tau)\n",
    "\n",
    "        price = self.S * stats.norm.cdf(d1, 0.0, 1.0) - self.K * np.exp(-self.r * self.tau) * stats.norm.cdf(d2, 0.0, 1.0)\n",
    "\n",
    "        return price    "
   ]
  },
  {
   "cell_type": "code",
   "execution_count": null,
   "metadata": {
    "scrolled": true
   },
   "outputs": [],
   "source": [
    "call = CallOption(S_t=90.0, K=100.0, t=\"19-04-2020\", T=\"31-12-2020\", r=0.05, sigma=0.2)"
   ]
  },
  {
   "cell_type": "code",
   "execution_count": null,
   "metadata": {},
   "outputs": [],
   "source": [
    "call"
   ]
  },
  {
   "cell_type": "code",
   "execution_count": null,
   "metadata": {},
   "outputs": [],
   "source": [
    "type(call)"
   ]
  },
  {
   "cell_type": "code",
   "execution_count": null,
   "metadata": {},
   "outputs": [],
   "source": [
    "call.S"
   ]
  },
  {
   "cell_type": "code",
   "execution_count": null,
   "metadata": {},
   "outputs": [],
   "source": [
    "call.K"
   ]
  },
  {
   "cell_type": "code",
   "execution_count": null,
   "metadata": {},
   "outputs": [],
   "source": [
    "call.T"
   ]
  },
  {
   "cell_type": "code",
   "execution_count": null,
   "metadata": {},
   "outputs": [],
   "source": [
    "call.tau"
   ]
  },
  {
   "cell_type": "code",
   "execution_count": null,
   "metadata": {},
   "outputs": [],
   "source": [
    "call.payoff()"
   ]
  },
  {
   "cell_type": "code",
   "execution_count": null,
   "metadata": {},
   "outputs": [],
   "source": [
    "call.price()"
   ]
  },
  {
   "cell_type": "code",
   "execution_count": null,
   "metadata": {},
   "outputs": [],
   "source": [
    "def plotter(call_option, S_strip, tau_strip):\n",
    "    \"\"\"\n",
    "    plotter(call_option, S_strip, tau_strip) plot call option prices for underlying and maturities in 'S_strip' and 'tau_strip',\n",
    "    respectively.\n",
    "\n",
    "    Parameters:\n",
    "        call_option (CallOption): instance of CallOption class;\n",
    "        S_strip (List):           list of underlying values;\n",
    "        tau_strip (List):         list of times to maturity (in years);\n",
    "        \n",
    "    Returns:\n",
    "        None;\n",
    "\n",
    "    \"\"\"\n",
    "    # color cycle setup: basically a cycle of different shades of blue as many time to maturity there are\n",
    "    plt.rcParams[\"axes.prop_cycle\"] = plt.cycler(\"color\", plt.cm.Blues_r(np.linspace(0,1,len(tau_strip)+1)))\n",
    "\n",
    "    # define the figure\n",
    "    fig, ax = plt.subplots(figsize=(10,6))\n",
    "    \n",
    "    # auxiliary variables\n",
    "    numS = len(S_strip)\n",
    "    numTau = len(tau_strip)\n",
    "    \n",
    "    # plot a dot to highlight the strike position\n",
    "    ax.plot(K, 0, 'k.', ms=15, label=\"Strike $K$\")    \n",
    "\n",
    "    # plot the red payoff line for different underlying values\n",
    "    payoff = np.zeros(numS)\n",
    "    for i in np.arange(numS):\n",
    "        call_option.S = S_strip[i] # reset of underlying value\n",
    "        payoff[i] = call_option.payoff()\n",
    "\n",
    "    ax.plot(S_strip, payoff, 'r-', lw=1.5, label=\"$max(S-K)$\")\n",
    "\n",
    "    # plot the price for different underlying values, one line for each different time to maturity tau\n",
    "    for i in np.arange(numTau):\n",
    "        \n",
    "        call_option.tau = tau_strip[i]\n",
    "        price = np.zeros(numS)\n",
    "        \n",
    "        for j in np.arange(numS):\n",
    "            call_option.S = S_strip[j] # reset of underlying value\n",
    "            price[j] = call_option.price()\n",
    "        \n",
    "        ax.plot(S_strip, price, '-', lw=1.5, label=r\"$\\tau={}$\".format(call_option.tau))\n",
    "\n",
    "    # set axis labels \n",
    "    ax.set_xlabel('Underlying $S$', fontsize=12) \n",
    "    ax.set_ylabel('Black-Scholes Price', fontsize=12) \n",
    "\n",
    "    # set title\n",
    "    ax.set_title(r\"Price of a Call Option $(S, K={}, \\tau, r={}\\%, \\sigma={}\\%)$ Vs $S$ (at different $\\tau$)\".\\\n",
    "                 format(call_option.K, call_option.r, call_option.sigma), fontsize=12) \n",
    "\n",
    "    # add the legend\n",
    "    ax.legend(loc='upper left', ncol=1)\n",
    "\n",
    "    # add a gride to ease visualization\n",
    "    plt.grid(True)\n",
    "\n",
    "    # show the plot\n",
    "    fig.tight_layout()\n",
    "    plt.show()"
   ]
  },
  {
   "cell_type": "code",
   "execution_count": null,
   "metadata": {},
   "outputs": [],
   "source": [
    "plotter(call, S_strip, tau_strip)"
   ]
  },
  {
   "cell_type": "markdown",
   "metadata": {},
   "source": [
    "in plotter `S` and `tau` attributes have been intentionally changed. But this might be something error prone.. name hiding"
   ]
  },
  {
   "cell_type": "code",
   "execution_count": null,
   "metadata": {},
   "outputs": [],
   "source": [
    "class CallOption(object):\n",
    "    \"\"\"\n",
    "    CallOption class implementing payoff and pricing of a european call option.\n",
    "    \n",
    "    Attributes:\n",
    "    -----------\n",
    "        S_t (float):              spot price of the underlying asset at the valuation date 't';\n",
    "        K (float):                strike price;\n",
    "        t (str; dt.datetime):     valuation date. Can be either a \"dd-mm-YYYY\" String or a pd.datetime() object\n",
    "        T (str; dt.datetime):     expiration date. Can be either a \"dd-mm-YYYY\" String or a pd.datetime() object\n",
    "        tau (float):              time to maturity in years, computed as tau=T-t by time_to_maturity() method\n",
    "        r (float):                continuously compounded short-rate;\n",
    "        sigma (float):            volatility of underlying asset;\n",
    "    \n",
    "    Methods:\n",
    "    --------            \n",
    "        time_to_maturity: float\n",
    "            Computes the time to maturity and returns it.\n",
    "            \n",
    "        payoff: float\n",
    "            Computes the payoff of the option and returns it\n",
    "\n",
    "        price: float\n",
    "            Computes the exact price of the option and returns it\n",
    "\n",
    "    \"\"\"\n",
    "    \n",
    "    def __init__(self, S_t, K, t, T, r, sigma):\n",
    "        self.__S     = S_t\n",
    "        self.__K     = K\n",
    "        self.__t     = dt.datetime.strptime(t, \"%d-%m-%Y\") if isinstance(t, str) else t\n",
    "        self.__T     = dt.datetime.strptime(T, \"%d-%m-%Y\") if isinstance(T, str) else T\n",
    "        self.__tau   = self.time_to_maturity()\n",
    "        self.__r     = r\n",
    "        self.__sigma = sigma\n",
    "        \n",
    "    def __repr__(self):\n",
    "        return r\"CallOption(S_t={:.1f}, K={:.1f}, t={}, T={}, tau={:.2f}y, r={:.1f}%, sigma={:.1f}%)\".\\\n",
    "                format(self.__S, self.__K, self.__t.strftime(\"%d-%m-%Y\"), self.__T.strftime(\"%d-%m-%Y\"), self.__tau, \n",
    "                       self.__r*100, self.__sigma*100)\n",
    "    \n",
    "    # getters\n",
    "    def get_S(self):\n",
    "        return self.__S\n",
    "    \n",
    "    def get_K(self):\n",
    "        return self.__K\n",
    "    \n",
    "    def get_t(self):\n",
    "        return self.__t\n",
    "\n",
    "    def get_T(self):\n",
    "        return self.__T\n",
    "\n",
    "    def get_tau(self):\n",
    "        return self.__tau\n",
    "    \n",
    "    def get_r(self):\n",
    "        return self.__r\n",
    "\n",
    "    def get_sigma(self):\n",
    "        return self.__sigma\n",
    "    \n",
    "    # setters\n",
    "    def set_S(self, S):\n",
    "        self.__S = S\n",
    "        \n",
    "    def set_K(self, K):\n",
    "        self.__K = K\n",
    "    \n",
    "    def set_t(self, t):\n",
    "        self.__t = dt.datetime.strptime(t, \"%d-%m-%Y\") if isinstance(t, str) else t\n",
    "        # update time to maturity, given changed t, to keep internal consistency\n",
    "        self.__update_tau() \n",
    "\n",
    "    def set_T(self, T):\n",
    "        self.__T = dt.datetime.strptime(T, \"%d-%m-%Y\") if isinstance(T, str) else T\n",
    "        # update time to maturity, given changed T, to keep internal consistency\n",
    "        self.__update_tau() \n",
    "    \n",
    "    def set_tau(self, tau):\n",
    "        self.__tau = tau\n",
    "        # update expiration date, given changed tau, to keep internal consistency\n",
    "        # we could have updated valuation date as well, but this is a stylistic choice\n",
    "        self.__update_T()\n",
    "\n",
    "    def set_r(self, r):\n",
    "        self.__r = r\n",
    "\n",
    "    def set_sigma(self, sigma):\n",
    "        self.__sigma = sigma\n",
    "        \n",
    "    # update methods (private)\n",
    "    def __update_tau(self):\n",
    "        self.__tau = self.time_to_maturity()\n",
    "\n",
    "    def __update_T(self):\n",
    "        self.__T = self.__t + dt.timedelta(days=math.ceil(self.__tau*365))\n",
    "\n",
    "    # time to maturity calculation\n",
    "    def time_to_maturity(self):\n",
    "        return (self.__T - self.__t).days / 365.0\n",
    "    \n",
    "    # payoff calculation\n",
    "    def payoff(self):\n",
    "        return max(0.0, self.get_S() - self.get_K())\n",
    "\n",
    "    # price calculation\n",
    "    def price(self):\n",
    "        \n",
    "        # some local variables retrieved to be used repeatedly\n",
    "        S     = self.get_S()\n",
    "        K     = self.get_K()\n",
    "        tau   = self.get_tau()\n",
    "        r     = self.get_r()\n",
    "        sigma = self.get_sigma()\n",
    "\n",
    "        d1 = (np.log(S/K) + (r + 0.5 * sigma ** 2) * tau) / (sigma * np.sqrt(tau))\n",
    "        d2 = d1 - sigma * np.sqrt(tau)\n",
    "\n",
    "        price = S * stats.norm.cdf(d1, 0.0, 1.0) - K * np.exp(-r * tau) * stats.norm.cdf(d2, 0.0, 1.0)\n",
    "\n",
    "        return price    "
   ]
  },
  {
   "cell_type": "code",
   "execution_count": null,
   "metadata": {
    "scrolled": true
   },
   "outputs": [],
   "source": [
    "call = CallOption(S_t=90.0, K=100.0, t=\"19-04-2020\", T=\"31-12-2020\", r=0.05, sigma=0.2)"
   ]
  },
  {
   "cell_type": "code",
   "execution_count": null,
   "metadata": {},
   "outputs": [],
   "source": [
    "call"
   ]
  },
  {
   "cell_type": "code",
   "execution_count": null,
   "metadata": {},
   "outputs": [],
   "source": [
    "type(call)"
   ]
  },
  {
   "cell_type": "code",
   "execution_count": null,
   "metadata": {},
   "outputs": [],
   "source": [
    "call.__S"
   ]
  },
  {
   "cell_type": "code",
   "execution_count": null,
   "metadata": {},
   "outputs": [],
   "source": [
    "call.get_S()"
   ]
  },
  {
   "cell_type": "code",
   "execution_count": null,
   "metadata": {},
   "outputs": [],
   "source": [
    "call.set_S(105)"
   ]
  },
  {
   "cell_type": "code",
   "execution_count": null,
   "metadata": {},
   "outputs": [],
   "source": [
    "call.get_S()"
   ]
  },
  {
   "cell_type": "code",
   "execution_count": null,
   "metadata": {},
   "outputs": [],
   "source": [
    "call.get_t()"
   ]
  },
  {
   "cell_type": "code",
   "execution_count": null,
   "metadata": {},
   "outputs": [],
   "source": [
    "call.get_T()"
   ]
  },
  {
   "cell_type": "code",
   "execution_count": null,
   "metadata": {},
   "outputs": [],
   "source": [
    "call.get_tau()"
   ]
  },
  {
   "cell_type": "code",
   "execution_count": null,
   "metadata": {},
   "outputs": [],
   "source": [
    "call.set_t(\"01-06-2020\")"
   ]
  },
  {
   "cell_type": "code",
   "execution_count": null,
   "metadata": {},
   "outputs": [],
   "source": [
    "call.get_t()"
   ]
  },
  {
   "cell_type": "code",
   "execution_count": null,
   "metadata": {},
   "outputs": [],
   "source": [
    "call.__update_tau()"
   ]
  },
  {
   "cell_type": "code",
   "execution_count": null,
   "metadata": {},
   "outputs": [],
   "source": [
    "call.get_tau() # tau gets updated automatically"
   ]
  },
  {
   "cell_type": "code",
   "execution_count": null,
   "metadata": {},
   "outputs": [],
   "source": [
    "(call.get_T() - call.get_t()).days / 365 # consistency check"
   ]
  },
  {
   "cell_type": "code",
   "execution_count": null,
   "metadata": {},
   "outputs": [],
   "source": [
    "call.set_tau(1.0)"
   ]
  },
  {
   "cell_type": "code",
   "execution_count": null,
   "metadata": {},
   "outputs": [],
   "source": [
    "call.get_tau()"
   ]
  },
  {
   "cell_type": "code",
   "execution_count": null,
   "metadata": {},
   "outputs": [],
   "source": [
    "call.__update_T()"
   ]
  },
  {
   "cell_type": "code",
   "execution_count": null,
   "metadata": {},
   "outputs": [],
   "source": [
    "call.get_T() # expiration date gets updated automatically"
   ]
  },
  {
   "cell_type": "code",
   "execution_count": null,
   "metadata": {},
   "outputs": [],
   "source": [
    "(call.get_T() - call.get_t()).days / 365 |# consistency check"
   ]
  },
  {
   "cell_type": "code",
   "execution_count": null,
   "metadata": {},
   "outputs": [],
   "source": [
    "call = CallOption(S_t=90.0, K=100.0, t=\"19-04-2020\", T=\"31-12-2020\", r=0.05, sigma=0.2)"
   ]
  },
  {
   "cell_type": "code",
   "execution_count": null,
   "metadata": {},
   "outputs": [],
   "source": [
    "call"
   ]
  },
  {
   "cell_type": "code",
   "execution_count": 11,
   "metadata": {},
   "outputs": [],
   "source": [
    "def plotter(call_option, S_strip, tau_strip):\n",
    "    \"\"\"\n",
    "    plotter(call_option, S_strip, tau_strip) plot call option prices for underlying and maturities in 'S_strip' and 'tau_strip',\n",
    "    respectively.\n",
    "\n",
    "    Parameters:\n",
    "        call_option (CallOption): instance of CallOption class;\n",
    "        S_strip (List):           list of underlying values;\n",
    "        tau_strip (List):         list of times to maturity (in years);\n",
    "        \n",
    "    Returns:\n",
    "        None;\n",
    "\n",
    "    \"\"\"\n",
    "    # color cycle setup: basically a cycle of different shades of blue as many time to maturity there are\n",
    "    plt.rcParams[\"axes.prop_cycle\"] = plt.cycler(\"color\", plt.cm.Blues_r(np.linspace(0,1,len(tau_strip)+1)))\n",
    "\n",
    "    # define the figure\n",
    "    fig, ax = plt.subplots(figsize=(10,6))\n",
    "    \n",
    "    # auxiliary variables\n",
    "    numS = len(S_strip)\n",
    "    numTau = len(tau_strip)\n",
    "    \n",
    "    # plot a dot to highlight the strike position\n",
    "    ax.plot(K, 0, 'k.', ms=15, label=\"Strike $K$\")    \n",
    "\n",
    "    # plot the red payoff line for different underlying values\n",
    "    payoff = np.zeros(numS)\n",
    "    for i in np.arange(numS):\n",
    "        call_option.set_S(S_strip[i]) # reset of underlying value\n",
    "        payoff[i] = call_option.payoff()\n",
    "\n",
    "    ax.plot(S_strip, payoff, 'r-', lw=1.5, label=\"$max(S-K)$\")\n",
    "\n",
    "    # plot the price for different underlying values, one line for each different time to maturity tau\n",
    "    for i in np.arange(numTau):\n",
    "        \n",
    "        call_option.set_tau(tau_strip[i])\n",
    "        price = np.zeros(numS)\n",
    "        \n",
    "        for j in np.arange(numS):\n",
    "            call_option.set_S(S_strip[j]) # reset of underlying value\n",
    "            price[j] = call_option.price()\n",
    "        \n",
    "        ax.plot(S_strip, price, '-', lw=1.5, label=r\"$\\tau={}$\".format(call_option.get_tau()))\n",
    "\n",
    "    # set axis labels \n",
    "    ax.set_xlabel('Underlying $S$', fontsize=12) \n",
    "    ax.set_ylabel('Black-Scholes Price', fontsize=12) \n",
    "\n",
    "    # set title\n",
    "    ax.set_title(r\"Price of a Call Option $(S, K={}, \\tau, r={}\\%, \\sigma={}\\%)$ Vs $S$ (at different $\\tau$)\".\\\n",
    "                 format(call_option.get_K(), call_option.get_r(), call_option.get_sigma()), fontsize=12) \n",
    "\n",
    "    # add the legend\n",
    "    ax.legend(loc='upper left', ncol=1)\n",
    "\n",
    "    # add a gride to ease visualization\n",
    "    plt.grid(True)\n",
    "\n",
    "    # show the plot\n",
    "    fig.tight_layout()\n",
    "    plt.show()"
   ]
  },
  {
   "cell_type": "code",
   "execution_count": null,
   "metadata": {
    "scrolled": false
   },
   "outputs": [],
   "source": [
    "plotter(call, S_strip, tau_strip)"
   ]
  },
  {
   "cell_type": "markdown",
   "metadata": {},
   "source": [
    "Put options"
   ]
  },
  {
   "cell_type": "code",
   "execution_count": 3,
   "metadata": {},
   "outputs": [],
   "source": [
    "class PlainVanillaOption(object):\n",
    "    \"\"\"\n",
    "    PlainVanillaOption class implementing payoff and pricing of european call and put options.\n",
    "    Put price is calculated using put-call parity\n",
    "    \n",
    "    Attributes:\n",
    "    -----------\n",
    "        type (str)                type of the options. Can be either 'call' or 'put';\n",
    "        S_t (float):              spot price of the underlying asset at the valuation date 't';\n",
    "        K (float):                strike price;\n",
    "        t (str; dt.datetime):     valuation date. Can be either a \"dd-mm-YYYY\" String or a pd.datetime() object\n",
    "        T (str; dt.datetime):     expiration date. Can be either a \"dd-mm-YYYY\" String or a pd.datetime() object\n",
    "        tau (float):              time to maturity in years, computed as tau=T-t by time_to_maturity() method\n",
    "        r (float):                continuously compounded short-rate;\n",
    "        sigma (float):            volatility of underlying asset;\n",
    "    \n",
    "    Methods:\n",
    "    --------   \n",
    "    \n",
    "        getters and setters for all attributes\n",
    "        \n",
    "        time_to_maturity: float\n",
    "            Computes the time to maturity and returns it.\n",
    "            \n",
    "        payoff: float\n",
    "            Computes the payoff of the option and returns it\n",
    "\n",
    "        price: float\n",
    "            Computes the exact price of the option and returns it, using call_price() or put_price()\n",
    "\n",
    "    \"\"\"\n",
    "    \n",
    "    def __init__(self, option_type, S_t, K, t, T, r, sigma):\n",
    "\n",
    "        # option type check\n",
    "        if option_type not in ['call', 'put']:\n",
    "            raise InvalidOptionTypeError(\"Option Type: {} does not exist!\".format(option_type))\n",
    "        \n",
    "        self.__type  = option_type\n",
    "        self.__S     = S_t\n",
    "        self.__K     = K\n",
    "        self.__t     = dt.datetime.strptime(t, \"%d-%m-%Y\") if isinstance(t, str) else t\n",
    "        self.__T     = dt.datetime.strptime(T, \"%d-%m-%Y\") if isinstance(T, str) else T\n",
    "        self.__tau   = self.time_to_maturity()\n",
    "        self.__r     = r\n",
    "        self.__sigma = sigma\n",
    "                \n",
    "    def __repr__(self):\n",
    "        return r\"PlainVanillaOption('{}', S_t={:.1f}, K={:.1f}, t={}, T={}, tau={:.2f}y, r={:.1f}%, sigma={:.1f}%)\".\\\n",
    "                format(self.__type, self.__S, self.__K, self.__t.strftime(\"%d-%m-%Y\"), self.__T.strftime(\"%d-%m-%Y\"), \n",
    "                       self.__tau, self.__r*100, self.__sigma*100)\n",
    "    \n",
    "    # getters\n",
    "    def get_type(self):\n",
    "        return self.__type\n",
    "    \n",
    "    def get_S(self):\n",
    "        return self.__S\n",
    "    \n",
    "    def get_K(self):\n",
    "        return self.__K\n",
    "    \n",
    "    def get_t(self):\n",
    "        return self.__t\n",
    "\n",
    "    def get_T(self):\n",
    "        return self.__T\n",
    "\n",
    "    def get_tau(self):\n",
    "        return self.__tau\n",
    "    \n",
    "    def get_r(self):\n",
    "        return self.__r\n",
    "\n",
    "    def get_sigma(self):\n",
    "        return self.__sigma\n",
    "    \n",
    "    # setters\n",
    "    def set_type(self, option_type):\n",
    "        self.__type = option_type\n",
    "        \n",
    "        # option type check\n",
    "        if option_type not in ['call', 'put']:\n",
    "            raise InvalidOptionTypeError(\"Option Type: {} does not exist!\".format(option_type))\n",
    "        \n",
    "    def set_S(self, S):\n",
    "        self.__S = S\n",
    "        \n",
    "    def set_K(self, K):\n",
    "        self.__K = K\n",
    "    \n",
    "    def set_t(self, t):\n",
    "        self.__t = dt.datetime.strptime(t, \"%d-%m-%Y\") if isinstance(t, str) else t\n",
    "        # update time to maturity, given changed t, to keep internal consistency\n",
    "        self.__update_tau() \n",
    "\n",
    "    def set_T(self, T):\n",
    "        self.__T = dt.datetime.strptime(T, \"%d-%m-%Y\") if isinstance(T, str) else T\n",
    "        # update time to maturity, given changed T, to keep internal consistency\n",
    "        self.__update_tau() \n",
    "    \n",
    "    def set_tau(self, tau):\n",
    "        self.__tau = tau\n",
    "        # update expiration date, given changed tau, to keep internal consistency\n",
    "        # we could have updated valuation date as well, but this is a stylistic choice\n",
    "        self.__update_T()\n",
    "\n",
    "    def set_r(self, r):\n",
    "        self.__r = r\n",
    "\n",
    "    def set_sigma(self, sigma):\n",
    "        self.__sigma = sigma\n",
    "        \n",
    "    # update methods (private)\n",
    "    def __update_tau(self):\n",
    "        self.__tau = self.time_to_maturity()\n",
    "\n",
    "    def __update_T(self):\n",
    "        self.__T = self.__t + dt.timedelta(days=math.ceil(self.__tau*365))\n",
    "\n",
    "    # time to maturity calculation\n",
    "    def time_to_maturity(self):\n",
    "        return (self.__T - self.__t).days / 365.0\n",
    "    \n",
    "    # payoff calculation\n",
    "    def payoff(self):\n",
    "        # call case\n",
    "        if self.get_type() == 'call':\n",
    "            return max(0.0, self.get_S() - self.get_K())\n",
    "        # put case\n",
    "        else:\n",
    "            return max(0.0, self.get_K() - self.get_S())\n",
    "        \n",
    "    # price calculation\n",
    "    def price(self):\n",
    "        # call case\n",
    "        if self.get_type() == 'call':\n",
    "            return self.call_price()\n",
    "        # put case\n",
    "        else:\n",
    "            return self.put_price()\n",
    "          \n",
    "    def call_price(self):\n",
    "        \n",
    "        # some local variables retrieved to be used repeatedly\n",
    "        S     = self.get_S()\n",
    "        K     = self.get_K()\n",
    "        tau   = self.get_tau()\n",
    "        r     = self.get_r()\n",
    "        sigma = self.get_sigma()\n",
    "\n",
    "        d1 = (np.log(S/K) + (r + 0.5 * sigma ** 2) * tau) / (sigma * np.sqrt(tau))\n",
    "        d2 = d1 - sigma * np.sqrt(tau)\n",
    "\n",
    "        price = S * stats.norm.cdf(d1, 0.0, 1.0) - K * np.exp(-r * tau) * stats.norm.cdf(d2, 0.0, 1.0)\n",
    "\n",
    "        return price\n",
    "    \n",
    "#    def put_price(self):\n",
    "#        \"\"\" Put price from Put-Call parity relation: Call + Ke^{-r*tau} = Put + S\"\"\"\n",
    "#        return self.call_price() + self.get_K() * np.exp(- self.get_r() * self.get_tau()) - self.get_S()        \n",
    "    def put_price(self):\n",
    "        \n",
    "        # some local variables retrieved to be used repeatedly\n",
    "        S     = self.get_S()\n",
    "        K     = self.get_K()\n",
    "        tau   = self.get_tau()\n",
    "        r     = self.get_r()\n",
    "        sigma = self.get_sigma()\n",
    "\n",
    "        d1 = (np.log(S/K) + (r + 0.5 * sigma ** 2) * tau) / (sigma * np.sqrt(tau))\n",
    "        d2 = d1 - sigma * np.sqrt(tau)\n",
    "\n",
    "        price = K * np.exp(-r * tau) * stats.norm.cdf(-d2, 0.0, 1.0) - S * stats.norm.cdf(-d1, 0.0, 1.0)\n",
    "\n",
    "        return price\n"
   ]
  },
  {
   "cell_type": "code",
   "execution_count": 75,
   "metadata": {},
   "outputs": [
    {
     "data": {
      "text/plain": [
       "PlainVanillaOption('call', S_t=90.0, K=100.0, t=19-04-2020, T=31-12-2020, tau=0.70y, r=0.0%, sigma=20.0%)"
      ]
     },
     "execution_count": 75,
     "metadata": {},
     "output_type": "execute_result"
    }
   ],
   "source": [
    "call = PlainVanillaOption(option_type='call', S_t=90.0, K=100.0, t=\"19-04-2020\", T=\"31-12-2020\", r=0.0, sigma=0.2)\n",
    "call"
   ]
  },
  {
   "cell_type": "code",
   "execution_count": 76,
   "metadata": {},
   "outputs": [
    {
     "data": {
      "text/plain": [
       "2.5510134579099315"
      ]
     },
     "execution_count": 76,
     "metadata": {},
     "output_type": "execute_result"
    }
   ],
   "source": [
    "call.price()"
   ]
  },
  {
   "cell_type": "code",
   "execution_count": 61,
   "metadata": {},
   "outputs": [
    {
     "data": {
      "text/plain": [
       "PlainVanillaOption('put', S_t=90.0, K=100.0, t=19-04-2020, T=31-12-2020, tau=0.70y, r=0.0%, sigma=20.0%)"
      ]
     },
     "execution_count": 61,
     "metadata": {},
     "output_type": "execute_result"
    }
   ],
   "source": [
    "put = PlainVanillaOption(option_type='put', S_t=90.0, K=100.0, t=\"19-04-2020\", T=\"31-12-2020\", r=0.0, sigma=0.2) #r=0.05\n",
    "put"
   ]
  },
  {
   "cell_type": "code",
   "execution_count": 62,
   "metadata": {},
   "outputs": [
    {
     "data": {
      "text/plain": [
       "12.551013457909924"
      ]
     },
     "execution_count": 62,
     "metadata": {},
     "output_type": "execute_result"
    }
   ],
   "source": [
    "put.price()"
   ]
  },
  {
   "cell_type": "code",
   "execution_count": 63,
   "metadata": {},
   "outputs": [
    {
     "data": {
      "text/plain": [
       "10.0"
      ]
     },
     "execution_count": 63,
     "metadata": {},
     "output_type": "execute_result"
    }
   ],
   "source": [
    "put.payoff()"
   ]
  },
  {
   "cell_type": "code",
   "execution_count": 64,
   "metadata": {},
   "outputs": [],
   "source": [
    "#plotter(call, S_strip, tau_strip)"
   ]
  },
  {
   "cell_type": "code",
   "execution_count": 65,
   "metadata": {},
   "outputs": [
    {
     "data": {
      "image/png": "[encoded data removed]",
      "text/plain": [
       "<Figure size 720x432 with 1 Axes>"
      ]
     },
     "metadata": {
      "needs_background": "light"
     },
     "output_type": "display_data"
    }
   ],
   "source": [
    "plotter(put, S_strip, tau_strip)"
   ]
  },
  {
   "cell_type": "code",
   "execution_count": 73,
   "metadata": {},
   "outputs": [],
   "source": [
    "def plotter2(call_option, S_strip, tau_strip):\n",
    "    \"\"\"\n",
    "    plotter(call_option, S_strip, tau_strip) plot call option prices for underlying and maturities in 'S_strip' and 'tau_strip',\n",
    "    respectively.\n",
    "\n",
    "    Parameters:\n",
    "        call_option (CallOption): instance of CallOption class;\n",
    "        S_strip (List):           list of underlying values;\n",
    "        tau_strip (List):         list of times to maturity (in years);\n",
    "        \n",
    "    Returns:\n",
    "        None;\n",
    "\n",
    "    \"\"\"\n",
    "    # color cycle setup: basically a cycle of different shades of blue as many time to maturity there are\n",
    "    plt.rcParams[\"axes.prop_cycle\"] = plt.cycler(\"color\", plt.cm.Blues_r(np.linspace(0,1,len(tau_strip)+1)))\n",
    "\n",
    "    # define the figure\n",
    "    fig, ax = plt.subplots(figsize=(10,6))\n",
    "    \n",
    "    # auxiliary variables\n",
    "    numS = len(S_strip)\n",
    "    numTau = len(tau_strip)\n",
    "    \n",
    "    # plot a dot to highlight the strike position\n",
    "    ax.plot(K, 0, 'k.', ms=15, label=\"Strike $K$\")    \n",
    "\n",
    "    # plot the red payoff line for different underlying values\n",
    "    payoff = np.zeros(numS)\n",
    "    for i in np.arange(numS):\n",
    "        call_option.set_S(S_strip[i]) # reset of underlying value\n",
    "        payoff[i] = call_option.payoff()\n",
    "\n",
    "    ax.plot(S_strip, payoff, 'r-', lw=1.5, label=\"$max(S-K)$\")\n",
    "\n",
    "    # plot the price for different underlying values, one line for each different time to maturity tau\n",
    "    for i in np.arange(numTau):\n",
    "        \n",
    "        call_option.set_tau(tau_strip[i])\n",
    "        price = np.zeros(numS)\n",
    "        \n",
    "        for j in np.arange(numS):\n",
    "            call_option.set_S(S_strip[j]) # reset of underlying value\n",
    "            price[j] = call_option.price()\n",
    "        \n",
    "        ax.plot(S_strip, price, '-', lw=1.5, label=r\"$\\tau={}$\".format(call_option.get_tau()))\n",
    "\n",
    "        if call_option.get_type() == 'call':\n",
    "            # limit call\n",
    "            limit = [max(S - call_option.get_K()*np.exp(-call_option.get_r() * call_option.get_tau()), 0) for S in S_strip]\n",
    "            ax.plot(S_strip, limit, \n",
    "                    'k--', lw=1.5, label=r\"limit $\\tau={}$\".format(call_option.get_tau()))\n",
    "\n",
    "        elif call_option.get_type() == 'put':\n",
    "            # limit put\n",
    "            limit = [max(call_option.get_K()*np.exp(-call_option.get_r() * call_option.get_tau()) - S, 0) for S in S_strip]\n",
    "            ax.plot(S_strip, limit, \n",
    "                    'k--', lw=1.5, label=r\"limit $\\tau={}$\".format(call_option.get_tau()))\n",
    "\n",
    "    # set axis labels \n",
    "    ax.set_xlabel('Underlying $S$', fontsize=12) \n",
    "    ax.set_ylabel('Black-Scholes Price', fontsize=12) \n",
    "\n",
    "    # set title\n",
    "    ax.set_title(r\"Price of a {} Option $(S, K={}, \\tau, r={}\\%, \\sigma={}\\%)$ Vs $S$ (at different $\\tau$)\".\\\n",
    "                 format(call_option.get_type(), call_option.get_K(), call_option.get_r()*100, call_option.get_sigma()*100), \n",
    "                 fontsize=12) \n",
    "\n",
    "    # add the legend\n",
    "    ax.legend(loc='upper right', ncol=1)\n",
    "\n",
    "    # add a gride to ease visualization\n",
    "    plt.grid(True)\n",
    "\n",
    "    # show the plot\n",
    "    fig.tight_layout()\n",
    "    plt.show()"
   ]
  },
  {
   "cell_type": "code",
   "execution_count": 67,
   "metadata": {},
   "outputs": [
    {
     "data": {
      "image/png": "[encoded data removed]",
      "text/plain": [
       "<Figure size 720x432 with 1 Axes>"
      ]
     },
     "metadata": {
      "needs_background": "light"
     },
     "output_type": "display_data"
    }
   ],
   "source": [
    "plotter2(put, S_strip, tau_strip)"
   ]
  },
  {
   "cell_type": "code",
   "execution_count": 77,
   "metadata": {},
   "outputs": [
    {
     "data": {
      "image/png": "[encoded data removed]",
      "text/plain": [
       "<Figure size 720x432 with 1 Axes>"
      ]
     },
     "metadata": {
      "needs_background": "light"
     },
     "output_type": "display_data"
    }
   ],
   "source": [
    "plotter2(call, S_strip, tau_strip)"
   ]
  },
  {
   "cell_type": "code",
   "execution_count": null,
   "metadata": {},
   "outputs": [],
   "source": []
  }
 ],
 "metadata": {
  "kernelspec": {
   "display_name": "Python 3",
   "language": "python",
   "name": "python3"
  },
  "language_info": {
   "codemirror_mode": {
    "name": "ipython",
    "version": 3
   },
   "file_extension": ".py",
   "mimetype": "text/x-python",
   "name": "python",
   "nbconvert_exporter": "python",
   "pygments_lexer": "ipython3",
   "version": "3.7.4"
  }
 },
 "nbformat": 4,
 "nbformat_minor": 2
}
