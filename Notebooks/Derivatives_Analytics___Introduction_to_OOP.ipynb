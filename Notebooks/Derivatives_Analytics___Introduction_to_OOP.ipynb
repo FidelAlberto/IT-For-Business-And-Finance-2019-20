{
 "cells": [
  {
   "cell_type": "markdown",
   "metadata": {},
   "source": [
    "# Derivatives Analytics - Introduction to Object Oriented Programming"
   ]
  },
  {
   "cell_type": "markdown",
   "metadata": {},
   "source": [
    "**Author**: [Gabriele Pompa](https://www.linkedin.com/in/gabrielepompa/): gabriele.pompa@unisi.com"
   ]
  },
  {
   "cell_type": "markdown",
   "metadata": {},
   "source": [
    "# Table of contents\n",
    "\n",
    "[Executive Summary](#executive-summary)\n",
    "\n",
    "**TODO**"
   ]
  },
  {
   "cell_type": "markdown",
   "metadata": {},
   "source": [
    "### **Resources**: \n",
    "\n",
    "**TODO**"
   ]
  },
  {
   "cell_type": "markdown",
   "metadata": {},
   "source": [
    "# Executive Summary <a name=\"executive-summary\"></a>"
   ]
  },
  {
   "cell_type": "markdown",
   "metadata": {},
   "source": [
    "**Make intro**"
   ]
  },
  {
   "cell_type": "markdown",
   "metadata": {},
   "source": [
    "The following sections are organized as follows:\n",
    "\n",
    "- **TODO**"
   ]
  },
  {
   "cell_type": "markdown",
   "metadata": {},
   "source": [
    "These are the basic imports that we need to work with NumPy, Pandas and to plot data using Matplotlib functionalities"
   ]
  },
  {
   "cell_type": "code",
   "execution_count": 1,
   "metadata": {},
   "outputs": [],
   "source": [
    "# for NumPy arrays\n",
    "import numpy as np\n",
    "\n",
    "# for Pandas Series and DataFrame\n",
    "import pandas as pd\n",
    "\n",
    "# for statistical functions\n",
    "from scipy import stats\n",
    "\n",
    "# for Matplotlib plotting\n",
    "import matplotlib.pyplot as plt\n",
    "\n",
    "# to do inline plots in the Notebook\n",
    "%matplotlib inline\n",
    "\n",
    "# for Operating System operations\n",
    "import os"
   ]
  },
  {
   "cell_type": "markdown",
   "metadata": {},
   "source": [
    "# Introduction to dates management: `datetime` module <a name=\"introduction-to-dates\"></a>"
   ]
  },
  {
   "cell_type": "code",
   "execution_count": 2,
   "metadata": {},
   "outputs": [],
   "source": [
    "# for date management\n",
    "import datetime as dt"
   ]
  },
  {
   "cell_type": "code",
   "execution_count": 3,
   "metadata": {},
   "outputs": [
    {
     "data": {
      "text/plain": [
       "datetime.datetime(2020, 4, 19, 18, 49, 19, 297526)"
      ]
     },
     "execution_count": 3,
     "metadata": {},
     "output_type": "execute_result"
    }
   ],
   "source": [
    "today = dt.datetime.today()\n",
    "today"
   ]
  },
  {
   "cell_type": "code",
   "execution_count": 4,
   "metadata": {},
   "outputs": [
    {
     "data": {
      "text/plain": [
       "datetime.datetime"
      ]
     },
     "execution_count": 4,
     "metadata": {},
     "output_type": "execute_result"
    }
   ],
   "source": [
    "type(today)"
   ]
  },
  {
   "cell_type": "code",
   "execution_count": 5,
   "metadata": {},
   "outputs": [
    {
     "data": {
      "text/plain": [
       "datetime.datetime(1988, 6, 1, 0, 0)"
      ]
     },
     "execution_count": 5,
     "metadata": {},
     "output_type": "execute_result"
    }
   ],
   "source": [
    "my_birthday = dt.datetime(year=1988,month=6,day=1)\n",
    "my_birthday"
   ]
  },
  {
   "cell_type": "code",
   "execution_count": 6,
   "metadata": {},
   "outputs": [
    {
     "data": {
      "text/plain": [
       "datetime.datetime"
      ]
     },
     "execution_count": 6,
     "metadata": {},
     "output_type": "execute_result"
    }
   ],
   "source": [
    "type(my_birthday)"
   ]
  },
  {
   "cell_type": "code",
   "execution_count": 7,
   "metadata": {},
   "outputs": [
    {
     "data": {
      "text/plain": [
       "datetime.timedelta(days=11645, seconds=67759, microseconds=297526)"
      ]
     },
     "execution_count": 7,
     "metadata": {},
     "output_type": "execute_result"
    }
   ],
   "source": [
    "time_to_date = today - my_birthday\n",
    "time_to_date"
   ]
  },
  {
   "cell_type": "code",
   "execution_count": 8,
   "metadata": {},
   "outputs": [
    {
     "data": {
      "text/plain": [
       "datetime.timedelta"
      ]
     },
     "execution_count": 8,
     "metadata": {},
     "output_type": "execute_result"
    }
   ],
   "source": [
    "type(time_to_date)"
   ]
  },
  {
   "cell_type": "code",
   "execution_count": 9,
   "metadata": {},
   "outputs": [
    {
     "data": {
      "text/plain": [
       "11645"
      ]
     },
     "execution_count": 9,
     "metadata": {},
     "output_type": "execute_result"
    }
   ],
   "source": [
    "time_to_date.days"
   ]
  },
  {
   "cell_type": "code",
   "execution_count": 10,
   "metadata": {},
   "outputs": [
    {
     "data": {
      "text/plain": [
       "31.904109589041095"
      ]
     },
     "execution_count": 10,
     "metadata": {},
     "output_type": "execute_result"
    }
   ],
   "source": [
    "time_to_date.days/365"
   ]
  },
  {
   "cell_type": "code",
   "execution_count": 11,
   "metadata": {},
   "outputs": [
    {
     "data": {
      "text/plain": [
       "'18-04-2020'"
      ]
     },
     "execution_count": 11,
     "metadata": {},
     "output_type": "execute_result"
    }
   ],
   "source": [
    "date_string = \"18-04-2020\"\n",
    "date_string"
   ]
  },
  {
   "cell_type": "code",
   "execution_count": 12,
   "metadata": {},
   "outputs": [
    {
     "data": {
      "text/plain": [
       "str"
      ]
     },
     "execution_count": 12,
     "metadata": {},
     "output_type": "execute_result"
    }
   ],
   "source": [
    "type(date_string)"
   ]
  },
  {
   "cell_type": "code",
   "execution_count": 13,
   "metadata": {},
   "outputs": [
    {
     "data": {
      "text/plain": [
       "True"
      ]
     },
     "execution_count": 13,
     "metadata": {},
     "output_type": "execute_result"
    }
   ],
   "source": [
    "isinstance(date_string, str)"
   ]
  },
  {
   "cell_type": "code",
   "execution_count": 14,
   "metadata": {},
   "outputs": [
    {
     "data": {
      "text/plain": [
       "datetime.datetime(2020, 4, 18, 0, 0)"
      ]
     },
     "execution_count": 14,
     "metadata": {},
     "output_type": "execute_result"
    }
   ],
   "source": [
    "date = dt.datetime.strptime(date_string, \"%d-%m-%Y\")\n",
    "date"
   ]
  },
  {
   "cell_type": "code",
   "execution_count": 15,
   "metadata": {},
   "outputs": [
    {
     "data": {
      "text/plain": [
       "datetime.datetime"
      ]
     },
     "execution_count": 15,
     "metadata": {},
     "output_type": "execute_result"
    }
   ],
   "source": [
    "type(date)"
   ]
  },
  {
   "cell_type": "code",
   "execution_count": 16,
   "metadata": {},
   "outputs": [
    {
     "data": {
      "text/plain": [
       "True"
      ]
     },
     "execution_count": 16,
     "metadata": {},
     "output_type": "execute_result"
    }
   ],
   "source": [
    "isinstance(date, dt.datetime)"
   ]
  },
  {
   "cell_type": "code",
   "execution_count": 17,
   "metadata": {},
   "outputs": [
    {
     "data": {
      "text/plain": [
       "'18-04-2020'"
      ]
     },
     "execution_count": 17,
     "metadata": {},
     "output_type": "execute_result"
    }
   ],
   "source": [
    "date_string_from_dt = date.strftime(\"%d-%m-%Y\")\n",
    "date_string_from_dt"
   ]
  },
  {
   "cell_type": "code",
   "execution_count": 18,
   "metadata": {},
   "outputs": [
    {
     "data": {
      "text/plain": [
       "str"
      ]
     },
     "execution_count": 18,
     "metadata": {},
     "output_type": "execute_result"
    }
   ],
   "source": [
    "type(date_string_from_dt)"
   ]
  },
  {
   "cell_type": "code",
   "execution_count": 19,
   "metadata": {},
   "outputs": [
    {
     "data": {
      "text/plain": [
       "True"
      ]
     },
     "execution_count": 19,
     "metadata": {},
     "output_type": "execute_result"
    }
   ],
   "source": [
    "isinstance(date_string_from_dt, str)"
   ]
  },
  {
   "cell_type": "code",
   "execution_count": 20,
   "metadata": {},
   "outputs": [
    {
     "data": {
      "text/plain": [
       "datetime.datetime(2020, 5, 13, 0, 0)"
      ]
     },
     "execution_count": 20,
     "metadata": {},
     "output_type": "execute_result"
    }
   ],
   "source": [
    "date + dt.timedelta(days=25)"
   ]
  },
  {
   "cell_type": "markdown",
   "metadata": {},
   "source": [
    "## Non-financial Introduction to OOP <a name=\"non-financial-introduction-to-oop\"></a>"
   ]
  },
  {
   "cell_type": "markdown",
   "metadata": {},
   "source": [
    "### Without OOP: a person <a name=\"nonoopperson\"></a> "
   ]
  },
  {
   "cell_type": "code",
   "execution_count": 21,
   "metadata": {},
   "outputs": [],
   "source": [
    "def say_your_name(name, surname):\n",
    "    print(\"My name is {} {}\".format(name, surname))"
   ]
  },
  {
   "cell_type": "code",
   "execution_count": 22,
   "metadata": {},
   "outputs": [],
   "source": [
    "my_name = \"Gabriele\"\n",
    "my_surname = \"Pompa\""
   ]
  },
  {
   "cell_type": "code",
   "execution_count": 23,
   "metadata": {},
   "outputs": [
    {
     "name": "stdout",
     "output_type": "stream",
     "text": [
      "My name is Gabriele Pompa\n"
     ]
    }
   ],
   "source": [
    "say_your_name(name=my_name, surname=my_surname)"
   ]
  },
  {
   "cell_type": "code",
   "execution_count": 24,
   "metadata": {},
   "outputs": [],
   "source": [
    "def say_country_of_birth(country):\n",
    "    print(\"My country of birth is {}\".format(country))"
   ]
  },
  {
   "cell_type": "code",
   "execution_count": 25,
   "metadata": {},
   "outputs": [],
   "source": [
    "my_country = \"Italy\""
   ]
  },
  {
   "cell_type": "code",
   "execution_count": 26,
   "metadata": {},
   "outputs": [
    {
     "name": "stdout",
     "output_type": "stream",
     "text": [
      "My country of birth is Italy\n"
     ]
    }
   ],
   "source": [
    "say_country_of_birth(my_country)"
   ]
  },
  {
   "cell_type": "code",
   "execution_count": 27,
   "metadata": {},
   "outputs": [],
   "source": [
    "def compute_age(birthdate):\n",
    "    \n",
    "    today = dt.datetime.today()  \n",
    "    birthdate = dt.datetime.strptime(birthdate, \"%d-%m-%Y\") if isinstance(birthdate, str) else birthdate\n",
    "    \n",
    "    next_birthday = dt.datetime(year=today.year, month=birthdate.month, day=birthdate.day)\n",
    "    \n",
    "    if today >= next_birthday:\n",
    "        age = today.year - birthdate.year\n",
    "    else:\n",
    "        age = today.year - birthdate.year - 1\n",
    "        \n",
    "    return age"
   ]
  },
  {
   "cell_type": "code",
   "execution_count": 28,
   "metadata": {},
   "outputs": [
    {
     "data": {
      "text/plain": [
       "'01-06-1988'"
      ]
     },
     "execution_count": 28,
     "metadata": {},
     "output_type": "execute_result"
    }
   ],
   "source": [
    "my_birthdate = \"01-06-1988\"\n",
    "my_birthdate"
   ]
  },
  {
   "cell_type": "code",
   "execution_count": 29,
   "metadata": {},
   "outputs": [
    {
     "data": {
      "text/plain": [
       "31"
      ]
     },
     "execution_count": 29,
     "metadata": {},
     "output_type": "execute_result"
    }
   ],
   "source": [
    "my_age = compute_age(birthdate=my_birthdate)\n",
    "my_age"
   ]
  },
  {
   "cell_type": "code",
   "execution_count": 30,
   "metadata": {},
   "outputs": [],
   "source": [
    "def time_to_birthday(birthdate):\n",
    "    \n",
    "    today = dt.datetime.today()\n",
    "    birthdate = dt.datetime.strptime(birthdate, \"%d-%m-%Y\") if isinstance(birthdate, str) else birthdate\n",
    "    \n",
    "    next_birthday = dt.datetime(year=today.year, month=birthdate.month, day=birthdate.day)\n",
    "    \n",
    "    return (next_birthday - today).days"
   ]
  },
  {
   "cell_type": "code",
   "execution_count": 31,
   "metadata": {},
   "outputs": [
    {
     "data": {
      "text/plain": [
       "42"
      ]
     },
     "execution_count": 31,
     "metadata": {},
     "output_type": "execute_result"
    }
   ],
   "source": [
    "days_to_birthday = time_to_birthday(my_birthdate)\n",
    "days_to_birthday"
   ]
  },
  {
   "cell_type": "markdown",
   "metadata": {},
   "source": [
    "### With OOP: the `Person` class <a name=\"oopperson\"></a> "
   ]
  },
  {
   "cell_type": "code",
   "execution_count": 32,
   "metadata": {},
   "outputs": [],
   "source": [
    "class Person(object):\n",
    "    \"\"\"\n",
    "    Person class implementing some typical features of a person.\n",
    "    \n",
    "    Attributes:\n",
    "    -----------\n",
    "        name (str):                   name string;\n",
    "        surname (str):                surname string;\n",
    "        country (str):                country of birth;\n",
    "        birthdate (str; dt.datetime): date of birth. Can be either a \"dd-mm-YYYY\" String or a pd.datetime() object\n",
    "        age (int):                    age, as computed by compute_age() method.\n",
    "    \n",
    "    Methods:\n",
    "    --------\n",
    "        say_your_name: (returns) None\n",
    "            Prints name and surname.\n",
    "            \n",
    "        say_country_of_birth: None\n",
    "            Prints country of birth.\n",
    "            \n",
    "        compute_age: int\n",
    "            Computes the age, sets self.age attribute and returns it.\n",
    "            \n",
    "        time_to_birthday: int\n",
    "            Computes the number of days left untill next birthdat and return the number.\n",
    "    \n",
    "    \"\"\"\n",
    "    \n",
    "    def __init__(self, p_name, p_surname, p_country, p_birthdate):\n",
    "        self.name      = p_name\n",
    "        self.surname   = p_surname\n",
    "        self.country   = p_country\n",
    "        self.birthdate = dt.datetime.strptime(p_birthdate, \"%d-%m-%Y\") if isinstance(p_birthdate, str) else p_birthdate\n",
    "        self.age       = None\n",
    "    \n",
    "    def say_your_name(self):\n",
    "        print(\"My name is {} {}\".format(self.name, self.surname))\n",
    "        \n",
    "    def say_country_of_birth(self):\n",
    "        print(\"My country of birth is {}\".format(self.country))\n",
    "        \n",
    "    def compute_age(self):\n",
    "    \n",
    "        today = dt.datetime.today()  \n",
    "\n",
    "        next_birthday = dt.datetime(year=today.year, month=self.birthdate.month, day=self.birthdate.day)\n",
    "\n",
    "        if today >= next_birthday:\n",
    "            self.age = today.year - self.birthdate.year\n",
    "        else:\n",
    "            self.age = today.year - self.birthdate.year - 1\n",
    "\n",
    "        return self.age \n",
    "    \n",
    "    def time_to_birthday(self):\n",
    "\n",
    "        today = dt.datetime.today()\n",
    "\n",
    "        next_birthday = dt.datetime(year=today.year, month=self.birthdate.month, day=self.birthdate.day)\n",
    "\n",
    "        return (next_birthday - today).days"
   ]
  },
  {
   "cell_type": "code",
   "execution_count": 33,
   "metadata": {},
   "outputs": [],
   "source": [
    "gab = Person(p_name = \"Gabriele\", \n",
    "             p_surname = \"Pompa\", \n",
    "             p_country = \"Italy\", \n",
    "             p_birthdate = \"01-06-1988\")"
   ]
  },
  {
   "cell_type": "code",
   "execution_count": 34,
   "metadata": {},
   "outputs": [
    {
     "data": {
      "text/plain": [
       "__main__.Person"
      ]
     },
     "execution_count": 34,
     "metadata": {},
     "output_type": "execute_result"
    }
   ],
   "source": [
    "type(gab)"
   ]
  },
  {
   "cell_type": "code",
   "execution_count": 35,
   "metadata": {},
   "outputs": [
    {
     "data": {
      "text/plain": [
       "'Gabriele'"
      ]
     },
     "execution_count": 35,
     "metadata": {},
     "output_type": "execute_result"
    }
   ],
   "source": [
    "gab.name"
   ]
  },
  {
   "cell_type": "code",
   "execution_count": 36,
   "metadata": {},
   "outputs": [
    {
     "data": {
      "text/plain": [
       "'Pompa'"
      ]
     },
     "execution_count": 36,
     "metadata": {},
     "output_type": "execute_result"
    }
   ],
   "source": [
    "gab.surname"
   ]
  },
  {
   "cell_type": "code",
   "execution_count": 37,
   "metadata": {},
   "outputs": [
    {
     "name": "stdout",
     "output_type": "stream",
     "text": [
      "My name is Gabriele Pompa\n"
     ]
    }
   ],
   "source": [
    "gab.say_your_name()"
   ]
  },
  {
   "cell_type": "code",
   "execution_count": 38,
   "metadata": {},
   "outputs": [
    {
     "data": {
      "text/plain": [
       "'Italy'"
      ]
     },
     "execution_count": 38,
     "metadata": {},
     "output_type": "execute_result"
    }
   ],
   "source": [
    "gab.country"
   ]
  },
  {
   "cell_type": "code",
   "execution_count": 39,
   "metadata": {},
   "outputs": [
    {
     "name": "stdout",
     "output_type": "stream",
     "text": [
      "My country of birth is Italy\n"
     ]
    }
   ],
   "source": [
    "gab.say_country_of_birth()"
   ]
  },
  {
   "cell_type": "code",
   "execution_count": 40,
   "metadata": {},
   "outputs": [
    {
     "data": {
      "text/plain": [
       "datetime.datetime(1988, 6, 1, 0, 0)"
      ]
     },
     "execution_count": 40,
     "metadata": {},
     "output_type": "execute_result"
    }
   ],
   "source": [
    "gab.birthdate"
   ]
  },
  {
   "cell_type": "code",
   "execution_count": 41,
   "metadata": {},
   "outputs": [
    {
     "data": {
      "text/plain": [
       "'01-06-1988'"
      ]
     },
     "execution_count": 41,
     "metadata": {},
     "output_type": "execute_result"
    }
   ],
   "source": [
    "gab.birthdate.strftime(\"%d-%m-%Y\")"
   ]
  },
  {
   "cell_type": "code",
   "execution_count": 42,
   "metadata": {},
   "outputs": [
    {
     "data": {
      "text/plain": [
       "True"
      ]
     },
     "execution_count": 42,
     "metadata": {},
     "output_type": "execute_result"
    }
   ],
   "source": [
    "gab.age is None"
   ]
  },
  {
   "cell_type": "code",
   "execution_count": 43,
   "metadata": {},
   "outputs": [
    {
     "data": {
      "text/plain": [
       "31"
      ]
     },
     "execution_count": 43,
     "metadata": {},
     "output_type": "execute_result"
    }
   ],
   "source": [
    "gab.compute_age()"
   ]
  },
  {
   "cell_type": "code",
   "execution_count": 44,
   "metadata": {},
   "outputs": [
    {
     "data": {
      "text/plain": [
       "31"
      ]
     },
     "execution_count": 44,
     "metadata": {},
     "output_type": "execute_result"
    }
   ],
   "source": [
    "gab.age"
   ]
  },
  {
   "cell_type": "code",
   "execution_count": 45,
   "metadata": {},
   "outputs": [
    {
     "data": {
      "text/plain": [
       "42"
      ]
     },
     "execution_count": 45,
     "metadata": {},
     "output_type": "execute_result"
    }
   ],
   "source": [
    "gab.time_to_birthday()"
   ]
  },
  {
   "cell_type": "code",
   "execution_count": 46,
   "metadata": {},
   "outputs": [],
   "source": [
    "bill = Person(p_name = \"Bill\", \n",
    "              p_surname = \"Gates\", \n",
    "              p_country = \"USA\", \n",
    "              p_birthdate = \"28-10-1955\")"
   ]
  },
  {
   "cell_type": "code",
   "execution_count": 47,
   "metadata": {},
   "outputs": [
    {
     "data": {
      "text/plain": [
       "__main__.Person"
      ]
     },
     "execution_count": 47,
     "metadata": {},
     "output_type": "execute_result"
    }
   ],
   "source": [
    "type(bill)"
   ]
  },
  {
   "cell_type": "code",
   "execution_count": 48,
   "metadata": {},
   "outputs": [
    {
     "name": "stdout",
     "output_type": "stream",
     "text": [
      "My name is Bill Gates\n"
     ]
    }
   ],
   "source": [
    "bill.say_your_name()"
   ]
  },
  {
   "cell_type": "markdown",
   "metadata": {},
   "source": [
    "## Introduction to OOP: Black-Scholes option pricer <a name=\"BS-option-pricer\"></a>"
   ]
  },
  {
   "cell_type": "markdown",
   "metadata": {},
   "source": [
    "### Without OOP: a call priced using Black-Scholes model <a name=\"nonoopperson\"></a> "
   ]
  },
  {
   "cell_type": "code",
   "execution_count": 49,
   "metadata": {},
   "outputs": [],
   "source": [
    "def call_option_payoff(S,K):\n",
    "    \"\"\"\n",
    "    call_option_payoff(S,K) computes returns the payoff of a call option given the spot price of the underlying asset \n",
    "    and strike price 'K'.\n",
    "    \n",
    "    Parameters:\n",
    "        S (float): spot price of the underlying asset;\n",
    "        K (float): strike price;\n",
    "    \n",
    "    Returns:\n",
    "        payoff (float): call option payoff;\n",
    "    \"\"\"\n",
    "    return max(0.0, S - K)\n"
   ]
  },
  {
   "cell_type": "code",
   "execution_count": 50,
   "metadata": {},
   "outputs": [],
   "source": [
    "def call_option_price(S, K, T, r, q, sigma):\n",
    "    \"\"\"\n",
    "    call_option_price(S, K, T, r, q, sigma) computes and returns the exact price of a call option \n",
    "    of time to maturity 'T' and strike price 'K' given the spot price of the underlying asset 'S', \n",
    "    the continuosly compounded short-rate 'r', continuosly compounded dividend yield 'q' and volatility of the \n",
    "    underlying asset 'sigma'.\n",
    "\n",
    "    Parameters:\n",
    "        S (float):     spot price of the underlying asset;\n",
    "        K (float):     strike price;\n",
    "        T (float):     time to maturity (in years);\n",
    "        r (float):     continuously compounded short-rate;\n",
    "        q (float):     continuously compounded dividend yield;\n",
    "        sigma (float): volatility of underlying asset;\n",
    "        \n",
    "    Returns:\n",
    "        price (float): call price;\n",
    "\n",
    "    \"\"\"\n",
    "    \n",
    "    d1 = (np.log(S / K) + (r - q + 0.5 * sigma ** 2) * T) / (sigma * np.sqrt(T))\n",
    "    d2 = (np.log(S / K) + (r - q - 0.5 * sigma ** 2) * T) / (sigma * np.sqrt(T))\n",
    "    \n",
    "    price = (S * np.exp(-q * T) * stats.norm.cdf(d1, 0.0, 1.0) - K * np.exp(-r * T) * stats.norm.cdf(d2, 0.0, 1.0))\n",
    "\n",
    "    return price"
   ]
  },
  {
   "cell_type": "code",
   "execution_count": 51,
   "metadata": {},
   "outputs": [],
   "source": [
    "S_0            = 100.0\n",
    "short_rate     = 0.05 # 5% per year\n",
    "dividend_yield = 0.02 # 2% per year\n",
    "volatility     = 0.2  # 20% per year"
   ]
  },
  {
   "cell_type": "code",
   "execution_count": 52,
   "metadata": {},
   "outputs": [
    {
     "data": {
      "text/plain": [
       "array([0.05, 0.1 , 0.25, 0.5 , 0.75, 1.  ])"
      ]
     },
     "execution_count": 52,
     "metadata": {},
     "output_type": "execute_result"
    }
   ],
   "source": [
    "T_strip = np.array([0.05, 0.1, 0.25, 0.5, 0.75, 1.0])\n",
    "T_strip"
   ]
  },
  {
   "cell_type": "code",
   "execution_count": 53,
   "metadata": {},
   "outputs": [
    {
     "data": {
      "text/plain": [
       "array([ 80.        ,  80.4040404 ,  80.80808081,  81.21212121,\n",
       "        81.61616162,  82.02020202,  82.42424242,  82.82828283,\n",
       "        83.23232323,  83.63636364,  84.04040404,  84.44444444,\n",
       "        84.84848485,  85.25252525,  85.65656566,  86.06060606,\n",
       "        86.46464646,  86.86868687,  87.27272727,  87.67676768,\n",
       "        88.08080808,  88.48484848,  88.88888889,  89.29292929,\n",
       "        89.6969697 ,  90.1010101 ,  90.50505051,  90.90909091,\n",
       "        91.31313131,  91.71717172,  92.12121212,  92.52525253,\n",
       "        92.92929293,  93.33333333,  93.73737374,  94.14141414,\n",
       "        94.54545455,  94.94949495,  95.35353535,  95.75757576,\n",
       "        96.16161616,  96.56565657,  96.96969697,  97.37373737,\n",
       "        97.77777778,  98.18181818,  98.58585859,  98.98989899,\n",
       "        99.39393939,  99.7979798 , 100.        , 100.2020202 ,\n",
       "       100.60606061, 101.01010101, 101.41414141, 101.81818182,\n",
       "       102.22222222, 102.62626263, 103.03030303, 103.43434343,\n",
       "       103.83838384, 104.24242424, 104.64646465, 105.05050505,\n",
       "       105.45454545, 105.85858586, 106.26262626, 106.66666667,\n",
       "       107.07070707, 107.47474747, 107.87878788, 108.28282828,\n",
       "       108.68686869, 109.09090909, 109.49494949, 109.8989899 ,\n",
       "       110.3030303 , 110.70707071, 111.11111111, 111.51515152,\n",
       "       111.91919192, 112.32323232, 112.72727273, 113.13131313,\n",
       "       113.53535354, 113.93939394, 114.34343434, 114.74747475,\n",
       "       115.15151515, 115.55555556, 115.95959596, 116.36363636,\n",
       "       116.76767677, 117.17171717, 117.57575758, 117.97979798,\n",
       "       118.38383838, 118.78787879, 119.19191919, 119.5959596 ,\n",
       "       120.        ])"
      ]
     },
     "execution_count": 53,
     "metadata": {},
     "output_type": "execute_result"
    }
   ],
   "source": [
    "K_strip = np.linspace(80, 120, 100)\n",
    "K_strip = np.append(K_strip, S_0)\n",
    "K_strip = np.sort(K_strip)\n",
    "K_strip"
   ]
  },
  {
   "cell_type": "code",
   "execution_count": 54,
   "metadata": {},
   "outputs": [
    {
     "data": {
      "image/png": "[encoded data removed]",
      "text/plain": [
       "<Figure size 720x432 with 1 Axes>"
      ]
     },
     "metadata": {
      "needs_background": "light"
     },
     "output_type": "display_data"
    }
   ],
   "source": [
    "# color cycle setup: basically a cycle of different shades of blue as many time to maturity there are\n",
    "plt.rcParams[\"axes.prop_cycle\"] = plt.cycler(\"color\", plt.cm.Blues_r(np.linspace(0,1,len(T_strip)+1)))\n",
    "\n",
    "# define the figure\n",
    "fig, ax = plt.subplots(figsize=(10,6))\n",
    "\n",
    "# plot the red payoff line for different strikes\n",
    "ax.plot(K_strip, [call_option_payoff(S_0, K) for K in K_strip], \n",
    "        'r-', lw=1.5, label=\"$max(S_T-K)$\")\n",
    "\n",
    "# plot the price for different strikes, one line for each different time to maturity \n",
    "for T in T_strip:\n",
    "    ax.plot(K_strip, [call_option_price(S_0, K, T, short_rate, dividend_yield, volatility) for K in K_strip], \n",
    "            '-', lw=1.5, label=\"$BScall(K, T={})$\".format(T))\n",
    "\n",
    "# set axis labels \n",
    "ax.set_xlabel('Strike $K$', fontsize=12) \n",
    "ax.set_ylabel('Price', fontsize=12) \n",
    "\n",
    "# set title\n",
    "ax.set_title(\"Call Option ($S_0={}, r={}\\%, q={}\\%, \\sigma={}\\%)$\".format(S_0, short_rate*100, dividend_yield*100, volatility*100), \n",
    "             fontsize=12) \n",
    "\n",
    "# add the legend\n",
    "ax.legend(loc='upper right', ncol=1)\n",
    "\n",
    "# add a gride to ease visualization\n",
    "plt.grid(True)\n",
    "\n",
    "# show the plot\n",
    "fig.tight_layout()\n",
    "plt.show()"
   ]
  },
  {
   "cell_type": "markdown",
   "metadata": {},
   "source": [
    "### With OOP: the `BSCall` class <a name=\"bscall\"></a> "
   ]
  },
  {
   "cell_type": "code",
   "execution_count": 55,
   "metadata": {},
   "outputs": [],
   "source": [
    "class CallOption(object):\n",
    "    \"\"\"\n",
    "    CallOption class implementing payoff and pricing of a european call option.\n",
    "    \n",
    "    Attributes:\n",
    "    -----------\n",
    "        S_t (float):              spot price of the underlying asset at the valuation date 't';\n",
    "        K (float):                strike price;\n",
    "        t (str; dt.datetime):     valuation date. Can be either a \"dd-mm-YYYY\" String or a pd.datetime() object\n",
    "        T (str; dt.datetime):     expiration date. Can be either a \"dd-mm-YYYY\" String or a pd.datetime() object\n",
    "        tau (float):              time to maturity in years, computed as tau=T-t by time_to_maturity() method\n",
    "        r (float):                continuously compounded short-rate;\n",
    "        q (float):                continuously compounded dividend yield;\n",
    "        sigma (float):            volatility of underlying asset;\n",
    "    \n",
    "    Methods:\n",
    "    --------            \n",
    "        time_to_maturity: float\n",
    "            Computes the time to maturity and returns it.\n",
    "            \n",
    "        payoff: float\n",
    "            Computes the payoff of the option and returns it\n",
    "\n",
    "        price: float\n",
    "            Computes the exact price of the option and returns it\n",
    "\n",
    "    \"\"\"\n",
    "    \n",
    "    # constructor\n",
    "    def __init__(self, S_t, K, t, T, r, q, sigma):\n",
    "        self.S     = S_t\n",
    "        self.K     = K\n",
    "        self.t     = dt.datetime.strptime(t, \"%d-%m-%Y\") if isinstance(t, str) else t\n",
    "        self.T     = dt.datetime.strptime(T, \"%d-%m-%Y\") if isinstance(T, str) else T\n",
    "        self.tau   = self.time_to_maturity()\n",
    "        self.r     = r\n",
    "        self.q     = q\n",
    "        self.sigma = sigma\n",
    "        \n",
    "    # string representation\n",
    "    def __repr__(self):\n",
    "        return r\"CallOption(S_t={:.1f}, K={:.1f}, t={}, T={}, tau={:.2f}y, r={:.1f}%, q={:.1f}%, sigma={:.1f}%)\".\\\n",
    "                format(self.S, self.K, self.t.strftime(\"%d-%m-%Y\"), self.T.strftime(\"%d-%m-%Y\"), self.tau, \n",
    "                       self.r*100, self.q*100, self.sigma*100)\n",
    "      \n",
    "    # time to maturity calculation\n",
    "    def time_to_maturity(self):\n",
    "        return (self.T - self.t).days / 365.0\n",
    "    \n",
    "    # payoff calculation\n",
    "    def payoff(self):\n",
    "        return max(0.0, self.S - self.K)\n",
    "\n",
    "    # price calculation\n",
    "    def price(self):\n",
    "\n",
    "        d1 = (np.log(self.S / self.K) + (self.r - self.q + 0.5 * self.sigma ** 2) * self.tau) / (self.sigma * np.sqrt(self.tau))\n",
    "        d2 = (np.log(self.S / self.K) + (self.r - self.q - 0.5 * self.sigma ** 2) * self.tau) / (self.sigma * np.sqrt(self.tau))\n",
    "\n",
    "        price = self.S * np.exp(-self.q * self.tau) * stats.norm.cdf(d1, 0.0, 1.0) - \\\n",
    "                self.K * np.exp(-self.r * self.tau) * stats.norm.cdf(d2, 0.0, 1.0)\n",
    "\n",
    "        return price    "
   ]
  },
  {
   "cell_type": "code",
   "execution_count": 56,
   "metadata": {
    "scrolled": true
   },
   "outputs": [],
   "source": [
    "call = CallOption(S_t=100.0, K=90, t=\"19-04-2020\", T=\"31-12-2020\", r=0.05, q=0.02, sigma=0.2)"
   ]
  },
  {
   "cell_type": "code",
   "execution_count": 57,
   "metadata": {},
   "outputs": [
    {
     "data": {
      "text/plain": [
       "CallOption(S_t=100.0, K=90.0, t=19-04-2020, T=31-12-2020, tau=0.70y, r=5.0%, q=2.0%, sigma=20.0%)"
      ]
     },
     "execution_count": 57,
     "metadata": {},
     "output_type": "execute_result"
    }
   ],
   "source": [
    "call"
   ]
  },
  {
   "cell_type": "code",
   "execution_count": 58,
   "metadata": {},
   "outputs": [
    {
     "data": {
      "text/plain": [
       "__main__.CallOption"
      ]
     },
     "execution_count": 58,
     "metadata": {},
     "output_type": "execute_result"
    }
   ],
   "source": [
    "type(call)"
   ]
  },
  {
   "cell_type": "code",
   "execution_count": 59,
   "metadata": {},
   "outputs": [
    {
     "data": {
      "text/plain": [
       "100.0"
      ]
     },
     "execution_count": 59,
     "metadata": {},
     "output_type": "execute_result"
    }
   ],
   "source": [
    "call.S"
   ]
  },
  {
   "cell_type": "code",
   "execution_count": 60,
   "metadata": {},
   "outputs": [
    {
     "data": {
      "text/plain": [
       "90"
      ]
     },
     "execution_count": 60,
     "metadata": {},
     "output_type": "execute_result"
    }
   ],
   "source": [
    "call.K"
   ]
  },
  {
   "cell_type": "code",
   "execution_count": 61,
   "metadata": {},
   "outputs": [
    {
     "data": {
      "text/plain": [
       "datetime.datetime(2020, 12, 31, 0, 0)"
      ]
     },
     "execution_count": 61,
     "metadata": {},
     "output_type": "execute_result"
    }
   ],
   "source": [
    "call.T"
   ]
  },
  {
   "cell_type": "code",
   "execution_count": 62,
   "metadata": {},
   "outputs": [
    {
     "data": {
      "text/plain": [
       "0.7013698630136986"
      ]
     },
     "execution_count": 62,
     "metadata": {},
     "output_type": "execute_result"
    }
   ],
   "source": [
    "call.tau"
   ]
  },
  {
   "cell_type": "code",
   "execution_count": 63,
   "metadata": {},
   "outputs": [
    {
     "data": {
      "text/plain": [
       "10.0"
      ]
     },
     "execution_count": 63,
     "metadata": {},
     "output_type": "execute_result"
    }
   ],
   "source": [
    "call.payoff()"
   ]
  },
  {
   "cell_type": "code",
   "execution_count": 64,
   "metadata": {},
   "outputs": [
    {
     "data": {
      "text/plain": [
       "13.721822332545926"
      ]
     },
     "execution_count": 64,
     "metadata": {},
     "output_type": "execute_result"
    }
   ],
   "source": [
    "call.price()"
   ]
  },
  {
   "cell_type": "code",
   "execution_count": 65,
   "metadata": {},
   "outputs": [],
   "source": [
    "def plotter(call_option, K_strip, tau_strip):\n",
    "    \"\"\"\n",
    "    plotter(call_option, K_strip, tau_strip) plot call option prices for strikes and maturities in 'K_strip' and 'tau_strip',\n",
    "    respectively.\n",
    "\n",
    "    Parameters:\n",
    "        call_option (CallOption): instance of CallOption class;\n",
    "        K_strip (List):           list of strike prices;\n",
    "        tau_strip (List):           list of times to maturity (in years);\n",
    "        \n",
    "    Returns:\n",
    "        None;\n",
    "\n",
    "    \"\"\"\n",
    "    # color cycle setup: basically a cycle of different shades of blue as many time to maturity there are\n",
    "    plt.rcParams[\"axes.prop_cycle\"] = plt.cycler(\"color\", plt.cm.Blues_r(np.linspace(0,1,len(tau_strip)+1)))\n",
    "\n",
    "    # define the figure\n",
    "    fig, ax = plt.subplots(figsize=(10,6))\n",
    "    \n",
    "    # auxiliary variables\n",
    "    numK = len(K_strip)\n",
    "    numT = len(tau_strip)\n",
    "\n",
    "    # plot the red payoff line for different strikes\n",
    "    payoff = np.zeros(numK)\n",
    "    for i in np.arange(numK):\n",
    "        call_option.K = K_strip[i] # reset of strike price\n",
    "        payoff[i] = call_option.payoff()\n",
    "\n",
    "    ax.plot(K_strip, payoff, 'r-', lw=1.5, label=\"$max(S_T-K)$\")\n",
    "\n",
    "    # plot the price for different strikes, one line for each different time to maturity \n",
    "    for i in np.arange(numT):\n",
    "        \n",
    "        call_option.tau = tau_strip[i]\n",
    "        price = np.zeros(numK)\n",
    "        \n",
    "        for j in np.arange(numK):\n",
    "            call_option.K = K_strip[j] # reset of strike price\n",
    "            price[j] = call_option.price()\n",
    "        \n",
    "        ax.plot(K_strip, price, '-', lw=1.5, label=\"$BScall(K, tau={})$\".format(call_option.tau))\n",
    "\n",
    "    # set axis labels \n",
    "    ax.set_xlabel('Strike $K$', fontsize=12) \n",
    "    ax.set_ylabel('Price', fontsize=12) \n",
    "\n",
    "    # set title\n",
    "    ax.set_title(\"Call Option ($S_t={}, r={}\\%, q={}\\%, \\sigma={}\\%)$\".\\\n",
    "                 format(call_option.S, call_option.r, call_option.q, call_option.sigma), fontsize=12) \n",
    "\n",
    "    # add the legend\n",
    "    ax.legend(loc='upper right', ncol=1)\n",
    "\n",
    "    # add a gride to ease visualization\n",
    "    plt.grid(True)\n",
    "\n",
    "    # show the plot\n",
    "    fig.tight_layout()\n",
    "    plt.show()"
   ]
  },
  {
   "cell_type": "code",
   "execution_count": 66,
   "metadata": {},
   "outputs": [
    {
     "data": {
      "image/png": "[encoded data removed]",
      "text/plain": [
       "<Figure size 720x432 with 1 Axes>"
      ]
     },
     "metadata": {
      "needs_background": "light"
     },
     "output_type": "display_data"
    }
   ],
   "source": [
    "plotter(call, K_strip, T_strip)"
   ]
  },
  {
   "cell_type": "markdown",
   "metadata": {},
   "source": [
    "in plotter `K` and `tau` attributes have been intentionally changed. But this might be something error prone.. name hiding"
   ]
  },
  {
   "cell_type": "code",
   "execution_count": 67,
   "metadata": {},
   "outputs": [],
   "source": [
    "import math"
   ]
  },
  {
   "cell_type": "code",
   "execution_count": 68,
   "metadata": {},
   "outputs": [],
   "source": [
    "class CallOption(object):\n",
    "    \"\"\"\n",
    "    CallOption class implementing payoff and pricing of a european call option.\n",
    "    \n",
    "    Attributes:\n",
    "    -----------\n",
    "        S_t (float):              spot price of the underlying asset at the valuation date 't';\n",
    "        K (float):                strike price;\n",
    "        t (str; dt.datetime):     valuation date. Can be either a \"dd-mm-YYYY\" String or a pd.datetime() object\n",
    "        T (str; dt.datetime):     expiration date. Can be either a \"dd-mm-YYYY\" String or a pd.datetime() object\n",
    "        tau (float):              time to maturity in years, computed as tau=T-t by time_to_maturity() method\n",
    "        r (float):                continuously compounded short-rate;\n",
    "        q (float):                continuously compounded dividend yield;\n",
    "        sigma (float):            volatility of underlying asset;\n",
    "    \n",
    "    Methods:\n",
    "    --------            \n",
    "        time_to_maturity: float\n",
    "            Computes the time to maturity and returns it.\n",
    "            \n",
    "        payoff: float\n",
    "            Computes the payoff of the option and returns it\n",
    "\n",
    "        price: float\n",
    "            Computes the exact price of the option and returns it\n",
    "\n",
    "    \"\"\"\n",
    "    \n",
    "    def __init__(self, S_t, K, t, T, r, q, sigma):\n",
    "        self.__S     = S_t\n",
    "        self.__K     = K\n",
    "        self.__t     = dt.datetime.strptime(t, \"%d-%m-%Y\") if isinstance(t, str) else t\n",
    "        self.__T     = dt.datetime.strptime(T, \"%d-%m-%Y\") if isinstance(T, str) else T\n",
    "        self.__tau   = self.time_to_maturity()\n",
    "        self.__r     = r\n",
    "        self.__q     = q\n",
    "        self.__sigma = sigma\n",
    "        \n",
    "    def __repr__(self):\n",
    "        return r\"CallOption(S_t={:.1f}, K={:.1f}, t={}, T={}, tau={:.2f}y, r={:.1f}%, q={:.1f}%, sigma={:.1f}%)\".\\\n",
    "                format(self.__S, self.__K, self.__t.strftime(\"%d-%m-%Y\"), self.__T.strftime(\"%d-%m-%Y\"), self.__tau, \n",
    "                       self.__r*100, self.__q*100, self.__sigma*100)\n",
    "    \n",
    "    # getters\n",
    "    def get_S(self):\n",
    "        return self.__S\n",
    "    \n",
    "    def get_K(self):\n",
    "        return self.__K\n",
    "    \n",
    "    def get_t(self):\n",
    "        return self.__t\n",
    "\n",
    "    def get_T(self):\n",
    "        return self.__T\n",
    "\n",
    "    def get_tau(self):\n",
    "        return self.__tau\n",
    "    \n",
    "    def get_r(self):\n",
    "        return self.__r\n",
    "\n",
    "    def get_q(self):\n",
    "        return self.__q\n",
    "\n",
    "    def get_sigma(self):\n",
    "        return self.__sigma\n",
    "    \n",
    "    # setters\n",
    "    def set_S(self, S):\n",
    "        self.__S = S\n",
    "        \n",
    "    def set_K(self, K):\n",
    "        self.__K = K\n",
    "    \n",
    "    def set_t(self, t):\n",
    "        self.__t = dt.datetime.strptime(t, \"%d-%m-%Y\") if isinstance(t, str) else t\n",
    "        # update time to maturity, given changed t, to keep internal consistency\n",
    "        self.__update_tau() \n",
    "\n",
    "    def set_T(self, T):\n",
    "        self.__T = dt.datetime.strptime(T, \"%d-%m-%Y\") if isinstance(T, str) else T\n",
    "        # update time to maturity, given changed T, to keep internal consistency\n",
    "        self.__update_tau() \n",
    "    \n",
    "    def set_tau(self, tau):\n",
    "        self.__tau = tau\n",
    "        # update expiration date, given changed tau, to keep internal consistency\n",
    "        # we could have updated valuation date as well, but this is a stylistic choice\n",
    "        self.__update_T()\n",
    "\n",
    "    def set_r(self, r):\n",
    "        self.__r = r\n",
    "\n",
    "    def set_q(self, r):\n",
    "        self.__r = r\n",
    "\n",
    "    def set_sigma(self, sigma):\n",
    "        self.__sigma = sigma\n",
    "        \n",
    "    # update methods (private)\n",
    "    def __update_tau(self):\n",
    "        self.__tau = self.time_to_maturity()\n",
    "\n",
    "    def __update_T(self):\n",
    "        self.__T = self.__t + dt.timedelta(days=math.ceil(self.__tau*365))\n",
    "\n",
    "    # time to maturity calculation\n",
    "    def time_to_maturity(self):\n",
    "        return (self.__T - self.__t).days / 365.0\n",
    "    \n",
    "    # payoff calculation\n",
    "    def payoff(self):\n",
    "        return max(0.0, self.__S - self.__K)\n",
    "\n",
    "    # price calculation\n",
    "    def price(self):\n",
    "\n",
    "        d1 = (np.log(self.__S / self.__K) + (self.__r - self.__q + 0.5 * self.__sigma ** 2) * self.__tau) / (self.__sigma * np.sqrt(self.__tau))\n",
    "        d2 = (np.log(self.__S / self.__K) + (self.__r - self.__q - 0.5 * self.__sigma ** 2) * self.__tau) / (self.__sigma * np.sqrt(self.__tau))\n",
    "\n",
    "        price = self.__S * np.exp(-self.__q * self.__tau) * stats.norm.cdf(d1, 0.0, 1.0) - \\\n",
    "                self.__K * np.exp(-self.__r * self.__tau) * stats.norm.cdf(d2, 0.0, 1.0)\n",
    "\n",
    "        return price    "
   ]
  },
  {
   "cell_type": "code",
   "execution_count": 69,
   "metadata": {
    "scrolled": true
   },
   "outputs": [],
   "source": [
    "call = CallOption(S_t=100.0, K=90, t=\"19-04-2020\", T=\"31-12-2020\", r=0.05, q=0.02, sigma=0.2)"
   ]
  },
  {
   "cell_type": "code",
   "execution_count": 70,
   "metadata": {},
   "outputs": [
    {
     "data": {
      "text/plain": [
       "CallOption(S_t=100.0, K=90.0, t=19-04-2020, T=31-12-2020, tau=0.70y, r=5.0%, q=2.0%, sigma=20.0%)"
      ]
     },
     "execution_count": 70,
     "metadata": {},
     "output_type": "execute_result"
    }
   ],
   "source": [
    "call"
   ]
  },
  {
   "cell_type": "code",
   "execution_count": 71,
   "metadata": {},
   "outputs": [
    {
     "data": {
      "text/plain": [
       "__main__.CallOption"
      ]
     },
     "execution_count": 71,
     "metadata": {},
     "output_type": "execute_result"
    }
   ],
   "source": [
    "type(call)"
   ]
  },
  {
   "cell_type": "code",
   "execution_count": 72,
   "metadata": {},
   "outputs": [
    {
     "ename": "AttributeError",
     "evalue": "'CallOption' object has no attribute '__S'",
     "output_type": "error",
     "traceback": [
      "\u001b[1;31m---------------------------------------------------------------------------\u001b[0m",
      "\u001b[1;31mAttributeError\u001b[0m                            Traceback (most recent call last)",
      "\u001b[1;32m<ipython-input-72-cd59247da0ce>\u001b[0m in \u001b[0;36m<module>\u001b[1;34m\u001b[0m\n\u001b[1;32m----> 1\u001b[1;33m \u001b[0mcall\u001b[0m\u001b[1;33m.\u001b[0m\u001b[0m__S\u001b[0m\u001b[1;33m\u001b[0m\u001b[1;33m\u001b[0m\u001b[0m\n\u001b[0m",
      "\u001b[1;31mAttributeError\u001b[0m: 'CallOption' object has no attribute '__S'"
     ]
    }
   ],
   "source": [
    "call.__S"
   ]
  },
  {
   "cell_type": "code",
   "execution_count": 73,
   "metadata": {},
   "outputs": [
    {
     "data": {
      "text/plain": [
       "100.0"
      ]
     },
     "execution_count": 73,
     "metadata": {},
     "output_type": "execute_result"
    }
   ],
   "source": [
    "call.get_S()"
   ]
  },
  {
   "cell_type": "code",
   "execution_count": 74,
   "metadata": {},
   "outputs": [],
   "source": [
    "call.set_S(105)"
   ]
  },
  {
   "cell_type": "code",
   "execution_count": 75,
   "metadata": {},
   "outputs": [
    {
     "data": {
      "text/plain": [
       "105"
      ]
     },
     "execution_count": 75,
     "metadata": {},
     "output_type": "execute_result"
    }
   ],
   "source": [
    "call.get_S()"
   ]
  },
  {
   "cell_type": "code",
   "execution_count": 76,
   "metadata": {},
   "outputs": [
    {
     "data": {
      "text/plain": [
       "datetime.datetime(2020, 4, 19, 0, 0)"
      ]
     },
     "execution_count": 76,
     "metadata": {},
     "output_type": "execute_result"
    }
   ],
   "source": [
    "call.get_t()"
   ]
  },
  {
   "cell_type": "code",
   "execution_count": 77,
   "metadata": {},
   "outputs": [
    {
     "data": {
      "text/plain": [
       "datetime.datetime(2020, 12, 31, 0, 0)"
      ]
     },
     "execution_count": 77,
     "metadata": {},
     "output_type": "execute_result"
    }
   ],
   "source": [
    "call.get_T()"
   ]
  },
  {
   "cell_type": "code",
   "execution_count": 78,
   "metadata": {},
   "outputs": [
    {
     "data": {
      "text/plain": [
       "0.7013698630136986"
      ]
     },
     "execution_count": 78,
     "metadata": {},
     "output_type": "execute_result"
    }
   ],
   "source": [
    "call.get_tau()"
   ]
  },
  {
   "cell_type": "code",
   "execution_count": 79,
   "metadata": {},
   "outputs": [],
   "source": [
    "call.set_t(\"01-06-2020\")"
   ]
  },
  {
   "cell_type": "code",
   "execution_count": 80,
   "metadata": {},
   "outputs": [
    {
     "data": {
      "text/plain": [
       "datetime.datetime(2020, 6, 1, 0, 0)"
      ]
     },
     "execution_count": 80,
     "metadata": {},
     "output_type": "execute_result"
    }
   ],
   "source": [
    "call.get_t()"
   ]
  },
  {
   "cell_type": "code",
   "execution_count": 81,
   "metadata": {},
   "outputs": [
    {
     "ename": "AttributeError",
     "evalue": "'CallOption' object has no attribute '__update_tau'",
     "output_type": "error",
     "traceback": [
      "\u001b[1;31m---------------------------------------------------------------------------\u001b[0m",
      "\u001b[1;31mAttributeError\u001b[0m                            Traceback (most recent call last)",
      "\u001b[1;32m<ipython-input-81-b7e521932523>\u001b[0m in \u001b[0;36m<module>\u001b[1;34m\u001b[0m\n\u001b[1;32m----> 1\u001b[1;33m \u001b[0mcall\u001b[0m\u001b[1;33m.\u001b[0m\u001b[0m__update_tau\u001b[0m\u001b[1;33m(\u001b[0m\u001b[1;33m)\u001b[0m\u001b[1;33m\u001b[0m\u001b[1;33m\u001b[0m\u001b[0m\n\u001b[0m",
      "\u001b[1;31mAttributeError\u001b[0m: 'CallOption' object has no attribute '__update_tau'"
     ]
    }
   ],
   "source": [
    "call.__update_tau()"
   ]
  },
  {
   "cell_type": "code",
   "execution_count": 82,
   "metadata": {},
   "outputs": [
    {
     "data": {
      "text/plain": [
       "0.5835616438356165"
      ]
     },
     "execution_count": 82,
     "metadata": {},
     "output_type": "execute_result"
    }
   ],
   "source": [
    "call.get_tau() # tau gets updated automatically"
   ]
  },
  {
   "cell_type": "code",
   "execution_count": 83,
   "metadata": {},
   "outputs": [
    {
     "data": {
      "text/plain": [
       "0.5835616438356165"
      ]
     },
     "execution_count": 83,
     "metadata": {},
     "output_type": "execute_result"
    }
   ],
   "source": [
    "(call.get_T() - call.get_t()).days / 365 # consistency check"
   ]
  },
  {
   "cell_type": "code",
   "execution_count": 84,
   "metadata": {},
   "outputs": [],
   "source": [
    "call.set_tau(1.0)"
   ]
  },
  {
   "cell_type": "code",
   "execution_count": 85,
   "metadata": {},
   "outputs": [
    {
     "data": {
      "text/plain": [
       "1.0"
      ]
     },
     "execution_count": 85,
     "metadata": {},
     "output_type": "execute_result"
    }
   ],
   "source": [
    "call.get_tau()"
   ]
  },
  {
   "cell_type": "code",
   "execution_count": 86,
   "metadata": {},
   "outputs": [
    {
     "ename": "AttributeError",
     "evalue": "'CallOption' object has no attribute '__update_T'",
     "output_type": "error",
     "traceback": [
      "\u001b[1;31m---------------------------------------------------------------------------\u001b[0m",
      "\u001b[1;31mAttributeError\u001b[0m                            Traceback (most recent call last)",
      "\u001b[1;32m<ipython-input-86-bcfbac471608>\u001b[0m in \u001b[0;36m<module>\u001b[1;34m\u001b[0m\n\u001b[1;32m----> 1\u001b[1;33m \u001b[0mcall\u001b[0m\u001b[1;33m.\u001b[0m\u001b[0m__update_T\u001b[0m\u001b[1;33m(\u001b[0m\u001b[1;33m)\u001b[0m\u001b[1;33m\u001b[0m\u001b[1;33m\u001b[0m\u001b[0m\n\u001b[0m",
      "\u001b[1;31mAttributeError\u001b[0m: 'CallOption' object has no attribute '__update_T'"
     ]
    }
   ],
   "source": [
    "call.__update_T()"
   ]
  },
  {
   "cell_type": "code",
   "execution_count": 87,
   "metadata": {},
   "outputs": [
    {
     "data": {
      "text/plain": [
       "datetime.datetime(2021, 6, 1, 0, 0)"
      ]
     },
     "execution_count": 87,
     "metadata": {},
     "output_type": "execute_result"
    }
   ],
   "source": [
    "call.get_T() # expiration date gets updated automatically"
   ]
  },
  {
   "cell_type": "code",
   "execution_count": 88,
   "metadata": {},
   "outputs": [
    {
     "ename": "SyntaxError",
     "evalue": "invalid syntax (<ipython-input-88-7ae69be5b5ab>, line 1)",
     "output_type": "error",
     "traceback": [
      "\u001b[1;36m  File \u001b[1;32m\"<ipython-input-88-7ae69be5b5ab>\"\u001b[1;36m, line \u001b[1;32m1\u001b[0m\n\u001b[1;33m    (call.get_T() - call.get_t()).days / 365 |# consistency check\u001b[0m\n\u001b[1;37m                                                                 ^\u001b[0m\n\u001b[1;31mSyntaxError\u001b[0m\u001b[1;31m:\u001b[0m invalid syntax\n"
     ]
    }
   ],
   "source": [
    "(call.get_T() - call.get_t()).days / 365 |# consistency check"
   ]
  },
  {
   "cell_type": "code",
   "execution_count": 89,
   "metadata": {},
   "outputs": [],
   "source": [
    "call = CallOption(S_t=100.0, K=90, t=\"19-04-2020\", T=\"31-12-2020\", r=0.05, q=0.02, sigma=0.2)"
   ]
  },
  {
   "cell_type": "code",
   "execution_count": 90,
   "metadata": {},
   "outputs": [
    {
     "data": {
      "text/plain": [
       "CallOption(S_t=100.0, K=90.0, t=19-04-2020, T=31-12-2020, tau=0.70y, r=5.0%, q=2.0%, sigma=20.0%)"
      ]
     },
     "execution_count": 90,
     "metadata": {},
     "output_type": "execute_result"
    }
   ],
   "source": [
    "call"
   ]
  },
  {
   "cell_type": "code",
   "execution_count": 91,
   "metadata": {},
   "outputs": [],
   "source": [
    "def plotter(call_option, K_strip, tau_strip):\n",
    "    \"\"\"\n",
    "    plotter(call_option, K_strip, tau_strip) plot call option prices for strikes and maturities in 'K_strip' and 'tau_strip',\n",
    "    respectively.\n",
    "\n",
    "    Parameters:\n",
    "        call_option (CallOption): instance of CallOption class;\n",
    "        K_strip (List):           list of strike prices;\n",
    "        tau_strip (List):           list of times to maturity (in years);\n",
    "        \n",
    "    Returns:\n",
    "        None;\n",
    "\n",
    "    \"\"\"\n",
    "    # color cycle setup: basically a cycle of different shades of blue as many time to maturity there are\n",
    "    plt.rcParams[\"axes.prop_cycle\"] = plt.cycler(\"color\", plt.cm.Blues_r(np.linspace(0,1,len(tau_strip)+1)))\n",
    "\n",
    "    # define the figure\n",
    "    fig, ax = plt.subplots(figsize=(10,6))\n",
    "    \n",
    "    # auxiliary variables\n",
    "    numK = len(K_strip)\n",
    "    numT = len(tau_strip)\n",
    "\n",
    "    # plot the red payoff line for different strikes\n",
    "    payoff = np.zeros(numK)\n",
    "    for i in np.arange(numK):\n",
    "        call_option.set_K(K_strip[i]) # reset of strike price\n",
    "        payoff[i] = call_option.payoff()\n",
    "\n",
    "    ax.plot(K_strip, payoff, 'r-', lw=1.5, label=\"$max(S_T-K)$\")\n",
    "\n",
    "    # plot the price for different strikes, one line for each different time to maturity \n",
    "    for i in np.arange(numT):\n",
    "        \n",
    "        call_option.set_tau(tau_strip[i])\n",
    "        price = np.zeros(numK)\n",
    "        \n",
    "        for j in np.arange(numK):\n",
    "            call_option.set_K(K_strip[j]) # reset of strike price\n",
    "            price[j] = call_option.price()\n",
    "        \n",
    "        ax.plot(K_strip, price, '-', lw=1.5, label=\"$BScall(K, tau={})$\".format(call_option.get_tau()))\n",
    "\n",
    "    # set axis labels \n",
    "    ax.set_xlabel('Strike $K$', fontsize=12) \n",
    "    ax.set_ylabel('Price', fontsize=12) \n",
    "\n",
    "    # set title\n",
    "    ax.set_title(\"Call Option ($S_t={}, r={}\\%, q={}\\%, \\sigma={}\\%)$\".\\\n",
    "                 format(call_option.get_S(), call_option.get_r(), call_option.get_q(), call_option.get_sigma()), fontsize=12) \n",
    "\n",
    "    # add the legend\n",
    "    ax.legend(loc='upper right', ncol=1)\n",
    "\n",
    "    # add a gride to ease visualization\n",
    "    plt.grid(True)\n",
    "\n",
    "    # show the plot\n",
    "    fig.tight_layout()\n",
    "    plt.show()"
   ]
  },
  {
   "cell_type": "code",
   "execution_count": 92,
   "metadata": {},
   "outputs": [
    {
     "data": {
      "image/png": "[encoded data removed]",
      "text/plain": [
       "<Figure size 720x432 with 1 Axes>"
      ]
     },
     "metadata": {
      "needs_background": "light"
     },
     "output_type": "display_data"
    }
   ],
   "source": [
    "plotter(call, K_strip, T_strip)"
   ]
  }
 ],
 "metadata": {
  "kernelspec": {
   "display_name": "Python 3",
   "language": "python",
   "name": "python3"
  },
  "language_info": {
   "codemirror_mode": {
    "name": "ipython",
    "version": 3
   },
   "file_extension": ".py",
   "mimetype": "text/x-python",
   "name": "python",
   "nbconvert_exporter": "python",
   "pygments_lexer": "ipython3",
   "version": "3.7.4"
  }
 },
 "nbformat": 4,
 "nbformat_minor": 2
}
