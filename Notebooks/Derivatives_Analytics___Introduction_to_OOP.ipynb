{
 "cells": [
  {
   "cell_type": "markdown",
   "metadata": {},
   "source": [
    "# Derivatives Analytics - Introduction to Object Oriented Programming"
   ]
  },
  {
   "cell_type": "markdown",
   "metadata": {},
   "source": [
    "**Author**: [Gabriele Pompa](https://www.linkedin.com/in/gabrielepompa/): gabriele.pompa@unisi.com"
   ]
  },
  {
   "cell_type": "markdown",
   "metadata": {},
   "source": [
    "# Table of contents\n",
    "\n",
    "[Executive Summary](#summary)\n",
    "\n",
    "1. [Introduction to dates management: `datetime` module](#datetime)\n",
    "2. [Non-financial Introduction to OOP](#non-financial-introduction-to-oop)\\\n",
    "    2.1. [Without OOP: a person](#nonoopperson)\\\n",
    "    2.2. [With OOP: the `Person` class](#oopperson)\n",
    "3. [Introduction to OOP: Black-Scholes option pricer](#BS-option-pricer)\\\n",
    "    3.1. [Without OOP: a call priced using Black-Scholes model](#nonoopbs)\\\n",
    "    3.2. [With OOP: the `CallOption` class](#oopbs)\\\n",
    "    3.3. [Encapsulation: name hiding, getters and setters](#encapsulation)\n",
    "4. [Including put options: the `PlainVanillaOption` class](#PlainVanillaOption) \\\n",
    "    4.1 [_Focus on:_ effect of interest rates on options limits](#shortRateEffect) "
   ]
  },
  {
   "cell_type": "markdown",
   "metadata": {},
   "source": [
    "### **Resources**: \n",
    "\n",
    "- [_Python for Finance (2nd ed.)_](http://shop.oreilly.com/product/0636920117728.do): Chapter 6 Object-Oriented Programming.  From Appendix A _Dates and Times:_ Section \"Python\".\n",
    "\n",
    "\n",
    "- [Object-Oriented Programming in Python](https://python-textbok.readthedocs.io/en/1.0/index.html): Section [Classes](https://python-textbok.readthedocs.io/en/1.0/Classes.html)"
   ]
  },
  {
   "cell_type": "markdown",
   "metadata": {},
   "source": [
    "# Executive Summary <a name=\"executive-summary\"></a>"
   ]
  },
  {
   "cell_type": "markdown",
   "metadata": {},
   "source": [
    "In this notebook we gently introduce Object-Oriented Programming. We first make a non-financial example, developing the intuition behind the need of a change of programming paradigm to be able to cohordinate together different pieces of code. Once we have established the intuition, we then leverage on some basic financial knowledge to develop a Black-Scholes pricer for call options, first, and then a more general pricer for plain-vanilla put options as well. "
   ]
  },
  {
   "cell_type": "markdown",
   "metadata": {},
   "source": [
    "The following sections are organized as follows:\n",
    "\n",
    "- In Sec. [1](#datetime) we introduce the `datetime` module, which allow us to easily manage dates.\n",
    "- In Sec. [2](#non-financial-introduction-to-oop) we develop intuition using a non financial example.\n",
    "- In Sec. [3](#BS-option-pricer) we apply the OOP paradygm to price call options under the Black-Scholes model.\n",
    "- In Sec. [4](#PlainVanillaOption) we extend our pricer to price put options too, defining a more general class for plain-vanilla options."
   ]
  },
  {
   "cell_type": "markdown",
   "metadata": {},
   "source": [
    "These are the basic imports"
   ]
  },
  {
   "cell_type": "code",
   "execution_count": 1,
   "metadata": {},
   "outputs": [],
   "source": [
    "# for NumPy arrays\n",
    "import numpy as np\n",
    "\n",
    "# for Pandas Series and DataFrame\n",
    "import pandas as pd\n",
    "\n",
    "# for statistical functions\n",
    "from scipy import stats\n",
    "\n",
    "# for Matplotlib plotting\n",
    "import matplotlib.pyplot as plt\n",
    "\n",
    "# to do inline plots in the Notebook\n",
    "%matplotlib inline\n",
    "\n",
    "# for Operating System operations\n",
    "import os\n",
    "\n",
    "# for some mathematical functions\n",
    "import math"
   ]
  },
  {
   "cell_type": "markdown",
   "metadata": {},
   "source": [
    "# 1. Introduction to dates management: `datetime` module <a name=\"datetime\"></a>"
   ]
  },
  {
   "cell_type": "markdown",
   "metadata": {},
   "source": [
    "The [`datetime` module](https://docs.python.org/3/library/datetime.html?highlight=strptime#module-datetime), part of the Python standard library, allows you to manage dates in your code with ease. We start importing it and giving it the alias `dt`"
   ]
  },
  {
   "cell_type": "code",
   "execution_count": 2,
   "metadata": {},
   "outputs": [],
   "source": [
    "# for date management\n",
    "import datetime as dt"
   ]
  },
  {
   "cell_type": "markdown",
   "metadata": {},
   "source": [
    "Today's date? No problem"
   ]
  },
  {
   "cell_type": "code",
   "execution_count": 3,
   "metadata": {},
   "outputs": [
    {
     "data": {
      "text/plain": [
       "datetime.datetime(2020, 5, 1, 15, 59, 57, 715956)"
      ]
     },
     "execution_count": 3,
     "metadata": {},
     "output_type": "execute_result"
    }
   ],
   "source": [
    "today = dt.datetime.today()\n",
    "today"
   ]
  },
  {
   "cell_type": "markdown",
   "metadata": {},
   "source": [
    "Dates in `datetime` module are objects of [`datetime.datetime` data-type](https://docs.python.org/3/library/datetime.html#datetime-objects)"
   ]
  },
  {
   "cell_type": "code",
   "execution_count": 4,
   "metadata": {},
   "outputs": [
    {
     "data": {
      "text/plain": [
       "datetime.datetime"
      ]
     },
     "execution_count": 4,
     "metadata": {},
     "output_type": "execute_result"
    }
   ],
   "source": [
    "type(today)"
   ]
  },
  {
   "cell_type": "markdown",
   "metadata": {},
   "source": [
    "You can specify a date providing year, month and day for that date"
   ]
  },
  {
   "cell_type": "code",
   "execution_count": 5,
   "metadata": {},
   "outputs": [
    {
     "data": {
      "text/plain": [
       "datetime.datetime(1988, 6, 1, 0, 0)"
      ]
     },
     "execution_count": 5,
     "metadata": {},
     "output_type": "execute_result"
    }
   ],
   "source": [
    "my_birthday = dt.datetime(year=1988,month=6,day=1)\n",
    "my_birthday"
   ]
  },
  {
   "cell_type": "code",
   "execution_count": 6,
   "metadata": {},
   "outputs": [
    {
     "data": {
      "text/plain": [
       "datetime.datetime"
      ]
     },
     "execution_count": 6,
     "metadata": {},
     "output_type": "execute_result"
    }
   ],
   "source": [
    "type(my_birthday)"
   ]
  },
  {
   "cell_type": "markdown",
   "metadata": {},
   "source": [
    "Distance with dates is just the difference of the two dates"
   ]
  },
  {
   "cell_type": "code",
   "execution_count": 7,
   "metadata": {},
   "outputs": [
    {
     "data": {
      "text/plain": [
       "datetime.timedelta(days=11657, seconds=57597, microseconds=715956)"
      ]
     },
     "execution_count": 7,
     "metadata": {},
     "output_type": "execute_result"
    }
   ],
   "source": [
    "time_to_date = today - my_birthday\n",
    "time_to_date"
   ]
  },
  {
   "cell_type": "markdown",
   "metadata": {},
   "source": [
    "which returns an object of [`datetime.timedelta` data-type](https://docs.python.org/3/library/datetime.html?highlight=timedelta#datetime.timedelta)"
   ]
  },
  {
   "cell_type": "code",
   "execution_count": 8,
   "metadata": {},
   "outputs": [
    {
     "data": {
      "text/plain": [
       "datetime.timedelta"
      ]
     },
     "execution_count": 8,
     "metadata": {},
     "output_type": "execute_result"
    }
   ],
   "source": [
    "type(time_to_date)"
   ]
  },
  {
   "cell_type": "markdown",
   "metadata": {},
   "source": [
    "From `timedelta` objects you can get the number of elapsed days"
   ]
  },
  {
   "cell_type": "code",
   "execution_count": 9,
   "metadata": {},
   "outputs": [
    {
     "data": {
      "text/plain": [
       "11657"
      ]
     },
     "execution_count": 9,
     "metadata": {},
     "output_type": "execute_result"
    }
   ],
   "source": [
    "time_to_date.days"
   ]
  },
  {
   "cell_type": "markdown",
   "metadata": {},
   "source": [
    "and manipulate them to get number of years elapsed. We'll see this applied extensively to compute the time-to-maturity of an option."
   ]
  },
  {
   "cell_type": "code",
   "execution_count": 10,
   "metadata": {},
   "outputs": [
    {
     "data": {
      "text/plain": [
       "31.936986301369863"
      ]
     },
     "execution_count": 10,
     "metadata": {},
     "output_type": "execute_result"
    }
   ],
   "source": [
    "time_to_date.days/365"
   ]
  },
  {
   "cell_type": "markdown",
   "metadata": {},
   "source": [
    "Often you - either input or read from file - dates which are syntactically Python Strings"
   ]
  },
  {
   "cell_type": "code",
   "execution_count": 11,
   "metadata": {},
   "outputs": [
    {
     "data": {
      "text/plain": [
       "'18-04-2020'"
      ]
     },
     "execution_count": 11,
     "metadata": {},
     "output_type": "execute_result"
    }
   ],
   "source": [
    "date_string = \"18-04-2020\"\n",
    "date_string"
   ]
  },
  {
   "cell_type": "code",
   "execution_count": 12,
   "metadata": {},
   "outputs": [
    {
     "data": {
      "text/plain": [
       "str"
      ]
     },
     "execution_count": 12,
     "metadata": {},
     "output_type": "execute_result"
    }
   ],
   "source": [
    "type(date_string)"
   ]
  },
  {
   "cell_type": "markdown",
   "metadata": {},
   "source": [
    "A good to know built-in function is the [`isinstance` function](https://docs.python.org/3/library/functions.html#isinstance)\n",
    "\n",
    "```python\n",
    "isinstance(variable, data_type)\n",
    "```\n",
    "\n",
    "which returns `True` if `variable` is of type `data_type` and `False` otherwise"
   ]
  },
  {
   "cell_type": "code",
   "execution_count": 13,
   "metadata": {},
   "outputs": [
    {
     "data": {
      "text/plain": [
       "True"
      ]
     },
     "execution_count": 13,
     "metadata": {},
     "output_type": "execute_result"
    }
   ],
   "source": [
    "isinstance(date_string, str)"
   ]
  },
  {
   "cell_type": "markdown",
   "metadata": {},
   "source": [
    "You can convert a date String into a proper `datetime.datetime` object using the [`strptime` function](https://docs.python.org/3/library/datetime.html?highlight=strptime#strftime-and-strptime-behavior)"
   ]
  },
  {
   "cell_type": "code",
   "execution_count": 14,
   "metadata": {},
   "outputs": [
    {
     "data": {
      "text/plain": [
       "datetime.datetime(2020, 4, 18, 0, 0)"
      ]
     },
     "execution_count": 14,
     "metadata": {},
     "output_type": "execute_result"
    }
   ],
   "source": [
    "date = dt.datetime.strptime(date_string, \"%d-%m-%Y\")\n",
    "date"
   ]
  },
  {
   "cell_type": "markdown",
   "metadata": {},
   "source": [
    "where the `\"%d-%m-%Y\"` format String is used to specify how to interpret the characters in `date_string` Strings: here as day-month-Year String"
   ]
  },
  {
   "cell_type": "code",
   "execution_count": 15,
   "metadata": {},
   "outputs": [
    {
     "data": {
      "text/plain": [
       "datetime.datetime"
      ]
     },
     "execution_count": 15,
     "metadata": {},
     "output_type": "execute_result"
    }
   ],
   "source": [
    "type(date)"
   ]
  },
  {
   "cell_type": "code",
   "execution_count": 16,
   "metadata": {},
   "outputs": [
    {
     "data": {
      "text/plain": [
       "True"
      ]
     },
     "execution_count": 16,
     "metadata": {},
     "output_type": "execute_result"
    }
   ],
   "source": [
    "isinstance(date, dt.datetime)"
   ]
  },
  {
   "cell_type": "markdown",
   "metadata": {},
   "source": [
    "The other way around, you can convert a `datetime.datetime` object into its String representation calling the [`strftime` function](https://docs.python.org/3/library/datetime.html?highlight=strptime#strftime-and-strptime-behavior)"
   ]
  },
  {
   "cell_type": "code",
   "execution_count": 17,
   "metadata": {},
   "outputs": [
    {
     "data": {
      "text/plain": [
       "'18-04-2020'"
      ]
     },
     "execution_count": 17,
     "metadata": {},
     "output_type": "execute_result"
    }
   ],
   "source": [
    "date_string_from_dt = date.strftime(\"%d-%m-%Y\")\n",
    "date_string_from_dt"
   ]
  },
  {
   "cell_type": "markdown",
   "metadata": {},
   "source": [
    "where the `\"%d-%m-%Y\"` format String is used to specify how the output `date_string_from_dt` should represent the original `date` object: here as day-month-Year String."
   ]
  },
  {
   "cell_type": "code",
   "execution_count": 18,
   "metadata": {},
   "outputs": [
    {
     "data": {
      "text/plain": [
       "'2020-04-18'"
      ]
     },
     "execution_count": 18,
     "metadata": {},
     "output_type": "execute_result"
    }
   ],
   "source": [
    "date.strftime(\"%Y-%m-%d\")"
   ]
  },
  {
   "cell_type": "code",
   "execution_count": 19,
   "metadata": {},
   "outputs": [
    {
     "data": {
      "text/plain": [
       "str"
      ]
     },
     "execution_count": 19,
     "metadata": {},
     "output_type": "execute_result"
    }
   ],
   "source": [
    "type(date_string_from_dt)"
   ]
  },
  {
   "cell_type": "code",
   "execution_count": 20,
   "metadata": {},
   "outputs": [
    {
     "data": {
      "text/plain": [
       "True"
      ]
     },
     "execution_count": 20,
     "metadata": {},
     "output_type": "execute_result"
    }
   ],
   "source": [
    "isinstance(date_string_from_dt, str)"
   ]
  },
  {
   "cell_type": "markdown",
   "metadata": {},
   "source": [
    "An alternative choice could be `\"%Y-%m-%d\"` for Year-month-day output format."
   ]
  },
  {
   "cell_type": "code",
   "execution_count": 21,
   "metadata": {},
   "outputs": [
    {
     "data": {
      "text/plain": [
       "'2020-04-18'"
      ]
     },
     "execution_count": 21,
     "metadata": {},
     "output_type": "execute_result"
    }
   ],
   "source": [
    "date.strftime(\"%Y-%m-%d\")"
   ]
  },
  {
   "cell_type": "markdown",
   "metadata": {},
   "source": [
    "You can add a certain amount of days to a given date adding a `datetime.timedelta` object to a `datetime.datetime` date"
   ]
  },
  {
   "cell_type": "code",
   "execution_count": 22,
   "metadata": {},
   "outputs": [
    {
     "data": {
      "text/plain": [
       "datetime.datetime(2020, 5, 13, 0, 0)"
      ]
     },
     "execution_count": 22,
     "metadata": {},
     "output_type": "execute_result"
    }
   ],
   "source": [
    "date + dt.timedelta(days=25)"
   ]
  },
  {
   "cell_type": "markdown",
   "metadata": {},
   "source": [
    "# 2. Non-financial Introduction to OOP <a name=\"non-financial-introduction-to-oop\"></a>"
   ]
  },
  {
   "cell_type": "markdown",
   "metadata": {},
   "source": [
    "We begin with a non-financial example. We define a _person._ \n",
    "\n",
    "We start describing its properties (name, surname etc.) and the things that a person could usually do knowing and/or using his/her properties (e.g. knowing his/her he/she can say it).\n",
    "\n",
    "We start defining these features one by one in a _sequential_ way, noticing that there is no cohordination between the properties defining the person and the actions he/she can take knowing/using the properties. There is no logical consistency. \n",
    "\n",
    "Finally, we define a logic entity - synctactically a `Person` Python class - which logically describes the abstract concept of _person_ and that is able to cohordinate between the properties defining the person and the things that a person can do knowing and/or using his/her properties."
   ]
  },
  {
   "cell_type": "markdown",
   "metadata": {},
   "source": [
    "## 2.1. Without OOP: a person <a name=\"nonoopperson\"></a> "
   ]
  },
  {
   "cell_type": "markdown",
   "metadata": {},
   "source": [
    "Knowing name and surname, a person can usually say it. We implement this action as the `say_your_name()` function, whih needs in input the name and surname of our person"
   ]
  },
  {
   "cell_type": "code",
   "execution_count": 23,
   "metadata": {},
   "outputs": [],
   "source": [
    "def say_your_name(name, surname):\n",
    "    print(\"My name is {} {}\".format(name, surname))"
   ]
  },
  {
   "cell_type": "code",
   "execution_count": 24,
   "metadata": {},
   "outputs": [],
   "source": [
    "my_name = \"Gabriele\"\n",
    "my_surname = \"Pompa\""
   ]
  },
  {
   "cell_type": "code",
   "execution_count": 25,
   "metadata": {},
   "outputs": [
    {
     "name": "stdout",
     "output_type": "stream",
     "text": [
      "My name is Gabriele Pompa\n"
     ]
    }
   ],
   "source": [
    "say_your_name(name=my_name, surname=my_surname)"
   ]
  },
  {
   "cell_type": "markdown",
   "metadata": {},
   "source": [
    "We can also make this person declaring his/her country of birth"
   ]
  },
  {
   "cell_type": "code",
   "execution_count": 26,
   "metadata": {},
   "outputs": [],
   "source": [
    "def say_country_of_birth(country):\n",
    "    print(\"My country of birth is {}\".format(country))"
   ]
  },
  {
   "cell_type": "code",
   "execution_count": 27,
   "metadata": {},
   "outputs": [],
   "source": [
    "my_country = \"Italy\""
   ]
  },
  {
   "cell_type": "code",
   "execution_count": 28,
   "metadata": {},
   "outputs": [
    {
     "name": "stdout",
     "output_type": "stream",
     "text": [
      "My country of birth is Italy\n"
     ]
    }
   ],
   "source": [
    "say_country_of_birth(my_country)"
   ]
  },
  {
   "cell_type": "markdown",
   "metadata": {},
   "source": [
    "From a birthdate String, we can use the functionalities of `datetime` module to compute person's age"
   ]
  },
  {
   "cell_type": "code",
   "execution_count": 29,
   "metadata": {},
   "outputs": [],
   "source": [
    "def compute_age(birthdate):\n",
    "    \n",
    "    today = dt.datetime.today()  \n",
    "    birthdate = dt.datetime.strptime(birthdate, \"%d-%m-%Y\") if isinstance(birthdate, str) else birthdate\n",
    "    \n",
    "    next_birthday = dt.datetime(year=today.year, month=birthdate.month, day=birthdate.day)\n",
    "    \n",
    "    if today >= next_birthday:\n",
    "        age = today.year - birthdate.year\n",
    "    else:\n",
    "        age = today.year - birthdate.year - 1\n",
    "        \n",
    "    return age"
   ]
  },
  {
   "cell_type": "markdown",
   "metadata": {},
   "source": [
    "notice the use of `next_birthday` to check whether in the current year person's birthday is already occurred or not yet."
   ]
  },
  {
   "cell_type": "code",
   "execution_count": 30,
   "metadata": {},
   "outputs": [
    {
     "data": {
      "text/plain": [
       "'01-06-1988'"
      ]
     },
     "execution_count": 30,
     "metadata": {},
     "output_type": "execute_result"
    }
   ],
   "source": [
    "my_birthdate = \"01-06-1988\"\n",
    "my_birthdate"
   ]
  },
  {
   "cell_type": "code",
   "execution_count": 31,
   "metadata": {},
   "outputs": [
    {
     "data": {
      "text/plain": [
       "31"
      ]
     },
     "execution_count": 31,
     "metadata": {},
     "output_type": "execute_result"
    }
   ],
   "source": [
    "my_age = compute_age(birthdate=my_birthdate)\n",
    "my_age"
   ]
  },
  {
   "cell_type": "markdown",
   "metadata": {},
   "source": [
    "Accordingly we can compute the number of days left to his/her next birthday"
   ]
  },
  {
   "cell_type": "code",
   "execution_count": 32,
   "metadata": {},
   "outputs": [],
   "source": [
    "def time_to_birthday(birthdate):\n",
    "    \n",
    "    today = dt.datetime.today()\n",
    "    birthdate = dt.datetime.strptime(birthdate, \"%d-%m-%Y\") if isinstance(birthdate, str) else birthdate\n",
    "    \n",
    "    next_birthday = dt.datetime(year=today.year, month=birthdate.month, day=birthdate.day)\n",
    "    \n",
    "    return (next_birthday - today).days"
   ]
  },
  {
   "cell_type": "code",
   "execution_count": 33,
   "metadata": {},
   "outputs": [
    {
     "data": {
      "text/plain": [
       "30"
      ]
     },
     "execution_count": 33,
     "metadata": {},
     "output_type": "execute_result"
    }
   ],
   "source": [
    "days_to_birthday = time_to_birthday(my_birthdate)\n",
    "days_to_birthday"
   ]
  },
  {
   "cell_type": "markdown",
   "metadata": {},
   "source": [
    "One think we should notice here is that any time we want to make the person do something (e.g. say his/her name), we need to provide explicitly all the required informations in input. Each time. \n",
    "\n",
    "There is no way to guarantee that `my_name`, `my_surname`, `my_birthdate` (and thus `my_age`) actually belong to the same person. Those are just variables that we declare one-by-one. We have in mind the fact that they describe different properties of the same person, but there is no way to inform Python of this relationship. In other words, there is no way to cohordinate logically between the different data used by the functions we defined..."
   ]
  },
  {
   "cell_type": "markdown",
   "metadata": {},
   "source": [
    "## 2.2. With OOP: the `Person` class <a name=\"oopperson\"></a> "
   ]
  },
  {
   "cell_type": "markdown",
   "metadata": {},
   "source": [
    "Classes are a way of grouping together related data and functions which act upon that data. They define the logical model according to which data and functions working on those data should cohordinate."
   ]
  },
  {
   "cell_type": "markdown",
   "metadata": {},
   "source": [
    "Here we define the concept of a person as a `Person` class. In Python classes are declared using the `class` keyword,  followed by the class name and a colon."
   ]
  },
  {
   "cell_type": "markdown",
   "metadata": {},
   "source": [
    "The variables `name`, `surname`, `country` etc. are called _attributes_ of the `Person` class:\n",
    "- are the set of informations in common to all the persons;\n",
    "- are the data used by the `Person` class to do things. "
   ]
  },
  {
   "cell_type": "markdown",
   "metadata": {},
   "source": [
    "Functions defined within the class, like `say_your_name()`, `say_country_of_birth()`, `compute_age()` and `time_to_birthday()`, are called _methods_ of the `Person` class: \n",
    "- define the range of things that a class can do using its own attributes (and, possibly, other parameters coming from outside the class)."
   ]
  },
  {
   "cell_type": "code",
   "execution_count": 34,
   "metadata": {},
   "outputs": [],
   "source": [
    "class Person:\n",
    "    \"\"\"\n",
    "    Person class implementing some typical features of a person.\n",
    "    \n",
    "    Attributes:\n",
    "    -----------\n",
    "        name (str):                   name string;\n",
    "        surname (str):                surname string;\n",
    "        country (str):                country of birth;\n",
    "        birthdate (str; dt.datetime): date of birth. Can be either a \"dd-mm-YYYY\" String or a pd.datetime() object\n",
    "        age (int):                    age, as computed by compute_age() method.\n",
    "    \n",
    "    Methods:\n",
    "    --------\n",
    "        say_your_name: (returns) None\n",
    "            Prints name and surname.\n",
    "            \n",
    "        say_country_of_birth: None\n",
    "            Prints country of birth.\n",
    "            \n",
    "        compute_age: int\n",
    "            Computes the age, sets self.age attribute and returns it.\n",
    "            \n",
    "        time_to_birthday: int\n",
    "            Computes the number of days left untill next birthdat and return the number.\n",
    "    \n",
    "    \"\"\"\n",
    "    # MIND THE INDENTATION!!!\n",
    "    def __init__(self, p_name, p_surname, p_country, p_birthdate):\n",
    "        self.name      = p_name\n",
    "        self.surname   = p_surname\n",
    "        self.country   = p_country\n",
    "        self.birthdate = dt.datetime.strptime(p_birthdate, \"%d-%m-%Y\") if isinstance(p_birthdate, str) else p_birthdate\n",
    "        self.age       = None\n",
    "    \n",
    "    def say_your_name(self):\n",
    "        print(\"My name is {} {}\".format(self.name, self.surname))\n",
    "        \n",
    "    def say_country_of_birth(self):\n",
    "        print(\"My country of birth is {}\".format(self.country))\n",
    "        \n",
    "    def compute_age(self):\n",
    "    \n",
    "        today = dt.datetime.today()  \n",
    "\n",
    "        next_birthday = dt.datetime(year=today.year, month=self.birthdate.month, day=self.birthdate.day)\n",
    "\n",
    "        if today >= next_birthday:\n",
    "            self.age = today.year - self.birthdate.year\n",
    "        else:\n",
    "            self.age = today.year - self.birthdate.year - 1\n",
    "\n",
    "        return self.age \n",
    "    \n",
    "    def time_to_birthday(self):\n",
    "\n",
    "        today = dt.datetime.today()\n",
    "\n",
    "        next_birthday = dt.datetime(year=today.year, month=self.birthdate.month, day=self.birthdate.day)\n",
    "\n",
    "        return (next_birthday - today).days"
   ]
  },
  {
   "cell_type": "markdown",
   "metadata": {},
   "source": [
    "Once we have a logical model for a concept, say the concept of a _person_ defined as a `Person` class, we can start making concrete examples from this abstract model. For example, Bill Gates is a person. Mario Draghi is another person."
   ]
  },
  {
   "cell_type": "markdown",
   "metadata": {},
   "source": [
    "These concrete examples from the person concept\n",
    "- all conform to the logic model defined by the class; \n",
    "- are _instances_ of the `Person` class;\n",
    "- are called _objects_ (of the `Person` class)."
   ]
  },
  {
   "cell_type": "markdown",
   "metadata": {},
   "source": [
    "The programming style of modeling abstract concepts as _classes_ and concrete instances as _objects_ is called [_Object-Oriented Programming_](https://en.wikipedia.org/wiki/Object-oriented_programming) (OOP in short)."
   ]
  },
  {
   "cell_type": "markdown",
   "metadata": {},
   "source": [
    "Let's define myself as an instance of the `Person` class"
   ]
  },
  {
   "cell_type": "code",
   "execution_count": 35,
   "metadata": {},
   "outputs": [],
   "source": [
    "gab = Person(p_name = \"Gabriele\", \n",
    "             p_surname = \"Pompa\", \n",
    "             p_country = \"Italy\", \n",
    "             p_birthdate = \"01-06-1988\")"
   ]
  },
  {
   "cell_type": "markdown",
   "metadata": {},
   "source": [
    "We say that `gab` is an object ot class `Person`."
   ]
  },
  {
   "cell_type": "markdown",
   "metadata": {},
   "source": [
    "When you can create an instance of the `Person` class: \n",
    "\n",
    "- the special `__init__()` method is called, taking in input the parameters (if any) required to instantiate the attribute of the `Person`. Here the value of `p_name` parameter is assigned to `name` attribute, `p_surname` to `surname` etc.  \n",
    "\n",
    "\n",
    "- the `__init__()` method is usually called the class' _constructor_ (or _initializer_ )."
   ]
  },
  {
   "cell_type": "markdown",
   "metadata": {},
   "source": [
    "Notice the special keyword `self`:\n",
    "\n",
    "- `self` stands for _this object itself_ - like object `gab` itself;  \n",
    "\n",
    "\n",
    "- `self` is used as `self.attribute` and `self.method(...)` to specify that we are refferring to that particular object's attribute and method, respectively.\n",
    "\n",
    "\n",
    "- `self` is the first parameter of each method definition - like `def method(self, ...)` - and informs the interpreter that - whenever that method will be called - the object itself will be passed to that method;\n",
    "\n",
    "\n",
    "- when you call that method - like `self.method(...)` within class definition -  `self` is not an input parameter you provide explicitly; \n",
    "\n",
    "\n"
   ]
  },
  {
   "cell_type": "markdown",
   "metadata": {},
   "source": [
    "Classes provide an analogy with data-types, such that each class defines its own - user defined - data-type and, then, on each object variable of the class we can call the `type(object)` function - as we would do with Integers, Floats, Strings, etc. - which returns the kind of data-type of that object, that is, the data-type defined by the class we have created. "
   ]
  },
  {
   "cell_type": "code",
   "execution_count": 36,
   "metadata": {},
   "outputs": [
    {
     "data": {
      "text/plain": [
       "__main__.Person"
      ]
     },
     "execution_count": 36,
     "metadata": {},
     "output_type": "execute_result"
    }
   ],
   "source": [
    "type(gab)"
   ]
  },
  {
   "cell_type": "markdown",
   "metadata": {},
   "source": [
    "Which is the name of object `gab`? It's his/her `name` attribute. We can access it using the `.` access operator."
   ]
  },
  {
   "cell_type": "code",
   "execution_count": 37,
   "metadata": {},
   "outputs": [
    {
     "data": {
      "text/plain": [
       "'Gabriele'"
      ]
     },
     "execution_count": 37,
     "metadata": {},
     "output_type": "execute_result"
    }
   ],
   "source": [
    "gab.name"
   ]
  },
  {
   "cell_type": "markdown",
   "metadata": {},
   "source": [
    "Python knows that `gab.name` refers to the `name` attribute of object `gab`, thanks to the use of the `self` in the attribute definition (`self.name`), which informs that we are referring to the `.name` attribute of the calling `gab` object itself. \n",
    "\n",
    "With time this way of reasoning will come automatic. Dont't worry."
   ]
  },
  {
   "cell_type": "code",
   "execution_count": 38,
   "metadata": {},
   "outputs": [
    {
     "data": {
      "text/plain": [
       "'Pompa'"
      ]
     },
     "execution_count": 38,
     "metadata": {},
     "output_type": "execute_result"
    }
   ],
   "source": [
    "gab.surname"
   ]
  },
  {
   "cell_type": "markdown",
   "metadata": {},
   "source": [
    "We can make object `gab` saying his name"
   ]
  },
  {
   "cell_type": "code",
   "execution_count": 39,
   "metadata": {},
   "outputs": [
    {
     "name": "stdout",
     "output_type": "stream",
     "text": [
      "My name is Gabriele Pompa\n"
     ]
    }
   ],
   "source": [
    "gab.say_your_name()"
   ]
  },
  {
   "cell_type": "markdown",
   "metadata": {},
   "source": [
    "notice that `say_your_name()` doesn't need any input parameter because it is a method of `gab` object. Therefore, the `self.name` and `self.surname` it uses will be `gab.name` and `gab.surname`, respectively."
   ]
  },
  {
   "cell_type": "markdown",
   "metadata": {},
   "source": [
    "This way of reasoning applies to all the other methods and attributes"
   ]
  },
  {
   "cell_type": "code",
   "execution_count": 40,
   "metadata": {},
   "outputs": [
    {
     "data": {
      "text/plain": [
       "'Italy'"
      ]
     },
     "execution_count": 40,
     "metadata": {},
     "output_type": "execute_result"
    }
   ],
   "source": [
    "gab.country"
   ]
  },
  {
   "cell_type": "code",
   "execution_count": 41,
   "metadata": {},
   "outputs": [
    {
     "name": "stdout",
     "output_type": "stream",
     "text": [
      "My country of birth is Italy\n"
     ]
    }
   ],
   "source": [
    "gab.say_country_of_birth()"
   ]
  },
  {
   "cell_type": "code",
   "execution_count": 42,
   "metadata": {},
   "outputs": [
    {
     "data": {
      "text/plain": [
       "datetime.datetime(1988, 6, 1, 0, 0)"
      ]
     },
     "execution_count": 42,
     "metadata": {},
     "output_type": "execute_result"
    }
   ],
   "source": [
    "gab.birthdate"
   ]
  },
  {
   "cell_type": "code",
   "execution_count": 43,
   "metadata": {},
   "outputs": [
    {
     "data": {
      "text/plain": [
       "'01-06-1988'"
      ]
     },
     "execution_count": 43,
     "metadata": {},
     "output_type": "execute_result"
    }
   ],
   "source": [
    "gab.birthdate.strftime(\"%d-%m-%Y\")"
   ]
  },
  {
   "cell_type": "markdown",
   "metadata": {},
   "source": [
    "When we instantiate `gab` object, his `age` attribute is left unspecified. We conventionally set it to `None` in the `__init__`"
   ]
  },
  {
   "cell_type": "code",
   "execution_count": 44,
   "metadata": {},
   "outputs": [
    {
     "data": {
      "text/plain": [
       "True"
      ]
     },
     "execution_count": 44,
     "metadata": {},
     "output_type": "execute_result"
    }
   ],
   "source": [
    "gab.age is None"
   ]
  },
  {
   "cell_type": "markdown",
   "metadata": {},
   "source": [
    "we delegate to the `compute_age()` function the initialization of the `age` parameter"
   ]
  },
  {
   "cell_type": "code",
   "execution_count": 45,
   "metadata": {},
   "outputs": [
    {
     "data": {
      "text/plain": [
       "31"
      ]
     },
     "execution_count": 45,
     "metadata": {},
     "output_type": "execute_result"
    }
   ],
   "source": [
    "gab.compute_age()"
   ]
  },
  {
   "cell_type": "markdown",
   "metadata": {},
   "source": [
    "now `age` is specified"
   ]
  },
  {
   "cell_type": "code",
   "execution_count": 46,
   "metadata": {},
   "outputs": [
    {
     "data": {
      "text/plain": [
       "31"
      ]
     },
     "execution_count": 46,
     "metadata": {},
     "output_type": "execute_result"
    }
   ],
   "source": [
    "gab.age"
   ]
  },
  {
   "cell_type": "code",
   "execution_count": 47,
   "metadata": {},
   "outputs": [
    {
     "data": {
      "text/plain": [
       "30"
      ]
     },
     "execution_count": 47,
     "metadata": {},
     "output_type": "execute_result"
    }
   ],
   "source": [
    "gab.time_to_birthday()"
   ]
  },
  {
   "cell_type": "markdown",
   "metadata": {},
   "source": [
    "**TAKE-HOME MESSAGE**: what's crucial to understand in all of this is that:\n",
    "\n",
    "- classes provide a logical schema that cohordinates between its data (attributes) and functions (methods), allowing them to work together.\n",
    "\n",
    "- once we have isntantiated an object, We don't need to provide data explicitly to its methods to call them, because data on which the method works are its own attributes."
   ]
  },
  {
   "cell_type": "markdown",
   "metadata": {},
   "source": [
    "Here is another instance of the `Person` class. We instantiate a `bill` object."
   ]
  },
  {
   "cell_type": "code",
   "execution_count": 48,
   "metadata": {},
   "outputs": [],
   "source": [
    "bill = Person(p_name = \"Bill\", \n",
    "              p_surname = \"Gates\", \n",
    "              p_country = \"USA\", \n",
    "              p_birthdate = \"28-10-1955\")"
   ]
  },
  {
   "cell_type": "code",
   "execution_count": 49,
   "metadata": {},
   "outputs": [
    {
     "data": {
      "text/plain": [
       "__main__.Person"
      ]
     },
     "execution_count": 49,
     "metadata": {},
     "output_type": "execute_result"
    }
   ],
   "source": [
    "type(bill)"
   ]
  },
  {
   "cell_type": "code",
   "execution_count": 50,
   "metadata": {},
   "outputs": [
    {
     "name": "stdout",
     "output_type": "stream",
     "text": [
      "My name is Bill Gates\n"
     ]
    }
   ],
   "source": [
    "bill.say_your_name()"
   ]
  },
  {
   "cell_type": "markdown",
   "metadata": {},
   "source": [
    "Notice that both `gab` and `bill` share the same data-type"
   ]
  },
  {
   "cell_type": "code",
   "execution_count": 51,
   "metadata": {},
   "outputs": [
    {
     "data": {
      "text/plain": [
       "__main__.Person"
      ]
     },
     "execution_count": 51,
     "metadata": {},
     "output_type": "execute_result"
    }
   ],
   "source": [
    "type(gab)"
   ]
  },
  {
   "cell_type": "markdown",
   "metadata": {},
   "source": [
    "in the same way as two different Float variables share the data-type"
   ]
  },
  {
   "cell_type": "code",
   "execution_count": 52,
   "metadata": {},
   "outputs": [],
   "source": [
    "p = 1.5"
   ]
  },
  {
   "cell_type": "code",
   "execution_count": 53,
   "metadata": {},
   "outputs": [],
   "source": [
    "q = 0.2"
   ]
  },
  {
   "cell_type": "code",
   "execution_count": 54,
   "metadata": {},
   "outputs": [
    {
     "data": {
      "text/plain": [
       "float"
      ]
     },
     "execution_count": 54,
     "metadata": {},
     "output_type": "execute_result"
    }
   ],
   "source": [
    "type(p)"
   ]
  },
  {
   "cell_type": "code",
   "execution_count": 55,
   "metadata": {},
   "outputs": [
    {
     "data": {
      "text/plain": [
       "float"
      ]
     },
     "execution_count": 55,
     "metadata": {},
     "output_type": "execute_result"
    }
   ],
   "source": [
    "type(q)"
   ]
  },
  {
   "cell_type": "markdown",
   "metadata": {},
   "source": [
    "# 3. Introduction to OOP: Black-Scholes option pricer <a name=\"BS-option-pricer\"></a>"
   ]
  },
  {
   "cell_type": "markdown",
   "metadata": {},
   "source": [
    "We now see a concrete application of the OOP paradygm: we build a pricer for an european call option according to the Black-Scholes(-Merton) model. For theoretical background (an notation) we refer to [_Financial Modeling 1_ lecture notes](https://finmod1.wordpress.com/lecture-notes/) from Professor Pacati.\n",
    "\n",
    "As before, we start with a non-OOP implementation, notice the intrinsic lack of cohordination between parts of the code and then model the pricer as a `CallOption` class, which is able to cohordinates model and market data with outputs. "
   ]
  },
  {
   "cell_type": "markdown",
   "metadata": {},
   "source": [
    "## 3.1. Without OOP: a call priced using Black-Scholes model <a name=\"nonoopbs\"></a> "
   ]
  },
  {
   "cell_type": "markdown",
   "metadata": {},
   "source": [
    "A call option of maturity $T$ and strike $K$ on an asset $S$ is a contract giving to the owner the right to buy for $K$ the asset at the future date $T$ (when the asset will be worth $S_T$). The payoff of the call option contract at time $T$ is then\n",
    "\n",
    "$$\n",
    "\\max(S_T - K, 0)\n",
    "$$"
   ]
  },
  {
   "cell_type": "markdown",
   "metadata": {},
   "source": [
    "We corrispondigly define the `call_option_payoff()` function"
   ]
  },
  {
   "cell_type": "code",
   "execution_count": 56,
   "metadata": {},
   "outputs": [],
   "source": [
    "def call_option_payoff(S,K):\n",
    "    \"\"\"\n",
    "    call_option_payoff(S,K) computes returns the payoff of a call option given the spot price of the underlying asset \n",
    "    and strike price 'K'.\n",
    "    \n",
    "    Parameters:\n",
    "        S (float): spot price of the underlying asset;\n",
    "        K (float): strike price;\n",
    "    \n",
    "    Returns:\n",
    "        payoff (float): call option payoff;\n",
    "    \"\"\"\n",
    "    return max(0.0, S - K)\n"
   ]
  },
  {
   "cell_type": "markdown",
   "metadata": {},
   "source": [
    "We consider non-dividend paying underlying asset $S$. At any time $t \\leq T$, the price $c_t$ of the european call option under the Black-Scholes model is given by\n",
    "\n",
    "$$\n",
    "c_t = S_t N(d_1) - K e^{-r \\tau} N(d_2)\n",
    "$$\n",
    "\n",
    "where $\\tau = T-t$ is the option time-to-maturity, $r$ is the continuously compounding short-rate, $N(z)$ is the cumulative distribution function of a standard normal random variable \n",
    "\n",
    "$$\n",
    "N(z) = \\frac{1}{\\sqrt{2 \\pi}} \\int^{z}_{- \\infty} e^{-\\frac{z^2}{2}}\n",
    "$$\n",
    "\n",
    "and the to arguments of $N(z)$ are\n",
    "\n",
    "\\begin{equation}\n",
    "\\begin{aligned}\n",
    "d_1 &= \\frac{\\log{\\frac{S_t}{K}} + \\left( r + \\frac{1}{2} \\sigma^2 \\right) \\tau }{\\sigma \\sqrt{\\tau}} \\nonumber \\\\\n",
    "d_2 &= d_1 - \\sigma \\sqrt{\\tau}\n",
    "\\end{aligned}\n",
    "\\end{equation}"
   ]
  },
  {
   "cell_type": "markdown",
   "metadata": {},
   "source": [
    "We corrispondigly define the `call_option_price()` function, which uses the `stats.norm.cdf` function to implement $N(z)$"
   ]
  },
  {
   "cell_type": "code",
   "execution_count": 57,
   "metadata": {},
   "outputs": [],
   "source": [
    "def call_option_price(S, K, tau, r, sigma):\n",
    "    \"\"\"\n",
    "    call_option_price(S, K, tau, r, sigma) computes and returns the exact price of a call option \n",
    "    of time to maturity 'tau' and strike price 'K' given the spot price of the underlying asset 'S', \n",
    "    the continuosly compounded short-rate 'r' and volatility of the \n",
    "    underlying asset 'sigma'.\n",
    "\n",
    "    Parameters:\n",
    "        S (float):     spot price of the underlying asset;\n",
    "        K (float):     strike price;\n",
    "        tau (float):   time to maturity (in years);\n",
    "        r (float):     continuously compounded short-rate;\n",
    "        sigma (float): volatility of underlying asset;\n",
    "        \n",
    "    Returns:\n",
    "        price (float): call price;\n",
    "\n",
    "    \"\"\"\n",
    "    \n",
    "    if S == 0: # this is to avoid log(0) issues\n",
    "        return 0.0\n",
    "    elif tau == 0: # this is to avoid 0/0 issues\n",
    "        return call_option_payoff(S, K)\n",
    "    else:\n",
    "        d1 = (np.log(S / K) + (r + 0.5 * sigma ** 2) * tau) / (sigma * np.sqrt(tau))\n",
    "        d2 = d1 - sigma * np.sqrt(tau)\n",
    "\n",
    "        price = S * stats.norm.cdf(d1, 0.0, 1.0) - K * np.exp(-r * tau) * stats.norm.cdf(d2, 0.0, 1.0)\n",
    "\n",
    "        return price"
   ]
  },
  {
   "cell_type": "markdown",
   "metadata": {},
   "source": [
    "Independently from the valuation model used to price the option, there are non-arbitrage arguments leading to upper and lower limits for the price of the european call options. At any time $t \\leq T$, the price $c_t$ of the option satisfies:\n",
    "\n",
    "$$\n",
    "\\max(S_t - K e^{-r \\tau}, 0) \\leq c_t \\leq S_t\n",
    "$$\n",
    "\n",
    "See, for example, [John C. Hull _Options, Futures and Other Derivatives_ (10th ed)](https://www.pearson.com/us/higher-education/program/Hull-Options-Futures-and-Other-Derivatives-10th-Edition/PGM333301.html) chapter 11.3."
   ]
  },
  {
   "cell_type": "markdown",
   "metadata": {},
   "source": [
    "We corrispondigly define `call_lower_limit()` and `call_upper_limit()` functions"
   ]
  },
  {
   "cell_type": "code",
   "execution_count": 58,
   "metadata": {},
   "outputs": [],
   "source": [
    "def call_upper_limit(S):\n",
    "    \"\"\"\n",
    "    call_upper_limit(S) returns the upper limit for a vanilla call option price, \n",
    "    which coincides with the spot price of the underlying asset.\n",
    "\n",
    "    Parameters:\n",
    "        S (float):     spot price of the underlying asset;\n",
    "        \n",
    "    Returns:\n",
    "        S (float):     spot price of the underlying asset;\n",
    "\n",
    "    \"\"\"\n",
    "    \n",
    "    return S"
   ]
  },
  {
   "cell_type": "code",
   "execution_count": 59,
   "metadata": {},
   "outputs": [],
   "source": [
    "def call_lower_limit(S, K, tau, r):\n",
    "    \"\"\"\n",
    "    call_lower_limit(S, K, tau, r) returns the lower limit for a vanilla call option price.\n",
    "\n",
    "    Parameters:\n",
    "        S (float):     spot price of the underlying asset;\n",
    "        K (float):     strike price;\n",
    "        tau (float):   time to maturity (in years);\n",
    "        r (float):     continuously compounded short-rate;\n",
    "        \n",
    "    Returns:\n",
    "        price_lower_limit (float): call lower limit price;\n",
    "\n",
    "    \"\"\"\n",
    "    \n",
    "    price_lower_limit = max(S - K*np.exp(-short_rate * tau), 0)\n",
    "    \n",
    "    return price_lower_limit"
   ]
  },
  {
   "cell_type": "markdown",
   "metadata": {},
   "source": [
    "To visualize the price, we define a couple of plotting functions."
   ]
  },
  {
   "cell_type": "code",
   "execution_count": 60,
   "metadata": {},
   "outputs": [],
   "source": [
    "K              = 100.0\n",
    "short_rate     = 0.05 # 5% per year\n",
    "volatility     = 0.2  # 20% per year"
   ]
  },
  {
   "cell_type": "code",
   "execution_count": 61,
   "metadata": {
    "scrolled": false
   },
   "outputs": [
    {
     "data": {
      "text/plain": [
       "array([ 80.        ,  80.4040404 ,  80.80808081,  81.21212121,\n",
       "        81.61616162,  82.02020202,  82.42424242,  82.82828283,\n",
       "        83.23232323,  83.63636364,  84.04040404,  84.44444444,\n",
       "        84.84848485,  85.25252525,  85.65656566,  86.06060606,\n",
       "        86.46464646,  86.86868687,  87.27272727,  87.67676768,\n",
       "        88.08080808,  88.48484848,  88.88888889,  89.29292929,\n",
       "        89.6969697 ,  90.1010101 ,  90.50505051,  90.90909091,\n",
       "        91.31313131,  91.71717172,  92.12121212,  92.52525253,\n",
       "        92.92929293,  93.33333333,  93.73737374,  94.14141414,\n",
       "        94.54545455,  94.94949495,  95.35353535,  95.75757576,\n",
       "        96.16161616,  96.56565657,  96.96969697,  97.37373737,\n",
       "        97.77777778,  98.18181818,  98.58585859,  98.98989899,\n",
       "        99.39393939,  99.7979798 , 100.        , 100.2020202 ,\n",
       "       100.60606061, 101.01010101, 101.41414141, 101.81818182,\n",
       "       102.22222222, 102.62626263, 103.03030303, 103.43434343,\n",
       "       103.83838384, 104.24242424, 104.64646465, 105.05050505,\n",
       "       105.45454545, 105.85858586, 106.26262626, 106.66666667,\n",
       "       107.07070707, 107.47474747, 107.87878788, 108.28282828,\n",
       "       108.68686869, 109.09090909, 109.49494949, 109.8989899 ,\n",
       "       110.3030303 , 110.70707071, 111.11111111, 111.51515152,\n",
       "       111.91919192, 112.32323232, 112.72727273, 113.13131313,\n",
       "       113.53535354, 113.93939394, 114.34343434, 114.74747475,\n",
       "       115.15151515, 115.55555556, 115.95959596, 116.36363636,\n",
       "       116.76767677, 117.17171717, 117.57575758, 117.97979798,\n",
       "       118.38383838, 118.78787879, 119.19191919, 119.5959596 ,\n",
       "       120.        ])"
      ]
     },
     "execution_count": 61,
     "metadata": {},
     "output_type": "execute_result"
    }
   ],
   "source": [
    "S_strip = np.linspace(80, 120, 100)\n",
    "S_strip = np.append(S_strip, K)\n",
    "S_strip = np.sort(S_strip)\n",
    "S_strip"
   ]
  },
  {
   "cell_type": "code",
   "execution_count": 62,
   "metadata": {},
   "outputs": [
    {
     "data": {
      "text/plain": [
       "array([0.05, 0.1 , 0.25, 0.5 , 0.75, 1.  ])"
      ]
     },
     "execution_count": 62,
     "metadata": {},
     "output_type": "execute_result"
    }
   ],
   "source": [
    "tau_strip = np.array([0.05, 0.1, 0.25, 0.5, 0.75, 1.0])\n",
    "tau_strip"
   ]
  },
  {
   "cell_type": "code",
   "execution_count": 63,
   "metadata": {
    "scrolled": false
   },
   "outputs": [],
   "source": [
    "def plot_multi_tau(S_list, K, tau_list, r, sigma):\n",
    "    \"\"\"\n",
    "    plot_multi_tau(S_list, tau_list) plot call option prices for underlying and maturities in 'S_list' and 'tau_list',\n",
    "    respectively.\n",
    "\n",
    "    Parameters:\n",
    "        S_list (np.ndarray):   list of underlying values;\n",
    "        K (float):             strike price\n",
    "        tau_list (np.ndarray): list of times to maturity (in years);\n",
    "        r (float):             continuously compounded short-rate;\n",
    "        sigma (float):         volatility of underlying asset;\n",
    "        \n",
    "    Returns:\n",
    "        None;\n",
    "\n",
    "    \"\"\"\n",
    "\n",
    "    # color cycle setup: basically a cycle of different shades of blue as many time to maturity there are\n",
    "    plt.rcParams[\"axes.prop_cycle\"] = plt.cycler(\"color\", plt.cm.Blues(np.linspace(0,1,len(tau_list)+1)))\n",
    "\n",
    "    # define the figure\n",
    "    fig, ax = plt.subplots(figsize=(10,6))\n",
    "\n",
    "    # plot a dot to highlight the strike position\n",
    "    ax.plot(K, 0, 'k.', ms=15, label=\"Strike $K$\")\n",
    "\n",
    "    # plot the price for different underlying values, one line for each different time to maturity \n",
    "    for tau in np.flip(tau_list):\n",
    "        ax.plot(S_list, [call_option_price(S, K, tau, r, sigma) for S in S_list], \n",
    "                '-', lw=1.5, label=r\"$\\tau={}$\".format(tau))\n",
    "\n",
    "    # plot the red payoff line for different underlying values\n",
    "    ax.plot(S_list, [call_option_payoff(S, K) for S in S_list], \n",
    "            'r-', lw=1.5, label=\"$max(S-K, 0)$\")\n",
    "\n",
    "    # set axis labels \n",
    "    ax.set_xlabel('Underlying $S_t$', fontsize=12) \n",
    "    ax.set_ylabel('Black-Scholes Price', fontsize=12) \n",
    "\n",
    "    # set title\n",
    "    ax.set_title(r\"Price of a Call Option $(S_t, K={}, \\tau=T-t, r={}\\%, \\sigma={}\\%)$ Vs $S$ (at different $\\tau$)\".\n",
    "                 format(K, r*100, sigma*100), fontsize=12) \n",
    "\n",
    "    # add the legend\n",
    "    ax.legend(loc='upper left', ncol=1)\n",
    "\n",
    "    # add a gride to ease visualization\n",
    "    plt.grid(True)\n",
    "\n",
    "    # show the plot\n",
    "    fig.tight_layout()\n",
    "    plt.show()"
   ]
  },
  {
   "cell_type": "code",
   "execution_count": 64,
   "metadata": {
    "scrolled": false
   },
   "outputs": [
    {
     "data": {
      "image/png": "[encoded data removed]",
      "text/plain": [
       "<Figure size 720x432 with 1 Axes>"
      ]
     },
     "metadata": {
      "needs_background": "light"
     },
     "output_type": "display_data"
    }
   ],
   "source": [
    "plot_multi_tau(S_strip, K, tau_strip, short_rate, volatility)"
   ]
  },
  {
   "cell_type": "markdown",
   "metadata": {},
   "source": [
    "This plot shows the price $c_t$ of a $(K, \\tau=T-t)$ call option contract for different levels $S_t$ of the underlying asset value (that is, in different market environments) at several times-to-maturity $\\tau$.  The red payoff line is reported for reference. We can notice that:\n",
    "\n",
    "- the longer is the time-to-maturity $\\tau$ of the option, the more the option is expensive;\n",
    "\n",
    "- the more the option approaches expiration ($\\tau \\rightarrow 0$), the more its price approaches the payoff line. "
   ]
  },
  {
   "cell_type": "code",
   "execution_count": 65,
   "metadata": {},
   "outputs": [
    {
     "data": {
      "text/plain": [
       "array([ 0.        ,  0.1010101 ,  0.2020202 ,  0.3030303 ,  0.4040404 ,\n",
       "        0.50505051,  0.60606061,  0.70707071,  0.80808081,  0.90909091,\n",
       "        1.01010101,  1.11111111,  1.21212121,  1.31313131,  1.41414141,\n",
       "        1.51515152,  1.61616162,  1.71717172,  1.81818182,  1.91919192,\n",
       "        2.02020202,  2.12121212,  2.22222222,  2.32323232,  2.42424242,\n",
       "        2.52525253,  2.62626263,  2.72727273,  2.82828283,  2.92929293,\n",
       "        3.03030303,  3.13131313,  3.23232323,  3.33333333,  3.43434343,\n",
       "        3.53535354,  3.63636364,  3.73737374,  3.83838384,  3.93939394,\n",
       "        4.04040404,  4.14141414,  4.24242424,  4.34343434,  4.44444444,\n",
       "        4.54545455,  4.64646465,  4.74747475,  4.84848485,  4.94949495,\n",
       "        5.        ,  5.05050505,  5.15151515,  5.25252525,  5.35353535,\n",
       "        5.45454545,  5.55555556,  5.65656566,  5.75757576,  5.85858586,\n",
       "        5.95959596,  6.06060606,  6.16161616,  6.26262626,  6.36363636,\n",
       "        6.46464646,  6.56565657,  6.66666667,  6.76767677,  6.86868687,\n",
       "        6.96969697,  7.07070707,  7.17171717,  7.27272727,  7.37373737,\n",
       "        7.47474747,  7.57575758,  7.67676768,  7.77777778,  7.87878788,\n",
       "        7.97979798,  8.08080808,  8.18181818,  8.28282828,  8.38383838,\n",
       "        8.48484848,  8.58585859,  8.68686869,  8.78787879,  8.88888889,\n",
       "        8.98989899,  9.09090909,  9.19191919,  9.29292929,  9.39393939,\n",
       "        9.49494949,  9.5959596 ,  9.6969697 ,  9.7979798 ,  9.8989899 ,\n",
       "       10.        ])"
      ]
     },
     "execution_count": 65,
     "metadata": {},
     "output_type": "execute_result"
    }
   ],
   "source": [
    "tau = 2.0\n",
    "\n",
    "K_focus = 5\n",
    "\n",
    "S_strip_focus = np.linspace(0, 10, 100)\n",
    "S_strip_focus = np.append(S_strip_focus, K_focus)\n",
    "S_strip_focus = np.sort(S_strip_focus)\n",
    "S_strip_focus"
   ]
  },
  {
   "cell_type": "code",
   "execution_count": 66,
   "metadata": {},
   "outputs": [],
   "source": [
    "def plot_single_tau(S_list, K, tau, r, sigma):\n",
    "    \"\"\"\n",
    "    plot_single_tau(S_list, tau_strip) plot call option prices for underlying in 'S_list' at time to maturity 'tau'.\n",
    "\n",
    "    Parameters:\n",
    "        S_list (List): list of underlying values;\n",
    "        K (float):     strike price\n",
    "        tau (float):   time to maturity (in years);\n",
    "        r (float):     continuously compounded short-rate;\n",
    "        sigma (float): volatility of underlying asset;\n",
    "        \n",
    "    Returns:\n",
    "        None;\n",
    "\n",
    "    \"\"\"\n",
    "\n",
    "    # define the figure\n",
    "    fig, ax = plt.subplots(figsize=(10,6))\n",
    "\n",
    "    # plot a dot to highlight the strike position\n",
    "    ax.plot(K, 0, 'k.', ms=15, label=\"Strike $K$\")\n",
    "\n",
    "    # plot the upper limit, price, lower limit for different underlying values\n",
    "    ax.plot(S_list, [call_upper_limit(S) for S in S_list],                    \n",
    "            'k-.', lw=1.5, label=r\"Upper limit: $S_t$\")\n",
    "    ax.plot(S_list, [call_option_price(S, K, tau, r, sigma) for S in S_list], \n",
    "            'b-',  lw=1.5, label=r\"Price\")\n",
    "    ax.plot(S_list, [call_lower_limit(S, K, tau, short_rate) for S in S_list], \n",
    "            'k--', lw=1.5, label=r\"Lower limit: $max(S_t - K e^{-r \\tau}, 0)$\")\n",
    "\n",
    "    # plot the red payoff line for different underlying values\n",
    "    ax.plot(S_list, [call_option_payoff(S, K) for S in S_list], \n",
    "            'r-', lw=1.5, label=\"$max(S-K, 0)$\")\n",
    "\n",
    "    # set axis labels \n",
    "    ax.set_xlabel('Underlying $S_t$', fontsize=12) \n",
    "    ax.set_ylabel('Black-Scholes Price', fontsize=12) \n",
    "\n",
    "    # set title\n",
    "    ax.set_title(r\"Price of a Call Option $(S_t, K={}, \\tau=T-t={}y, r={}\\%, \\sigma={}\\%)$ Vs $S$ (with price limits)\".\n",
    "                 format(K, tau, r*100, sigma*100), fontsize=12) \n",
    "\n",
    "    # add the legend\n",
    "    ax.legend(loc='upper left', ncol=1)\n",
    "\n",
    "    # add a gride to ease visualization\n",
    "    plt.grid(True)\n",
    "\n",
    "    # show the plot\n",
    "    fig.tight_layout()\n",
    "    plt.show()"
   ]
  },
  {
   "cell_type": "code",
   "execution_count": 67,
   "metadata": {
    "scrolled": false
   },
   "outputs": [
    {
     "data": {
      "image/png": "[encoded data removed]",
      "text/plain": [
       "<Figure size 720x432 with 1 Axes>"
      ]
     },
     "metadata": {
      "needs_background": "light"
     },
     "output_type": "display_data"
    }
   ],
   "source": [
    "plot_single_tau(S_strip_focus, K_focus, tau, short_rate, volatility)"
   ]
  },
  {
   "cell_type": "markdown",
   "metadata": {},
   "source": [
    "This plot shows the price $c_t$ of a $(K, \\tau)$ call option contract for different levels $S_t$ of the underlying asset value (that is, in different market environments). For reference, we report:\n",
    "\n",
    "- the red payoff line;\n",
    "\n",
    "- the upper bound $c_t \\leq S_t$;\n",
    "\n",
    "- the lower bound $c_t \\geq \\max(S_t - K e^{-r \\tau}, 0)$;"
   ]
  },
  {
   "cell_type": "markdown",
   "metadata": {},
   "source": [
    "## 3.2. With OOP: the `CallOption` class <a name=\"oopbs\"></a> "
   ]
  },
  {
   "cell_type": "markdown",
   "metadata": {},
   "source": [
    "We now group together all the parameters needed to define a call option, together with its payoff, price and bounds in a logical consistent way: we define a `CallOption` class.\n",
    "\n",
    "The class has, as attributes:\n",
    "\n",
    "- the underlying asset value $S_t$ at time $t$;\n",
    "- the strike price $K$;\n",
    "- the option valuation date $t$;\n",
    "- the option expiration date $T$;\n",
    "- the time-to-maturity of the options $\\tau=T-t$;\n",
    "- the short rate $r$;\n",
    "- the volatility of the underlying asset $\\sigma$;\n",
    "\n",
    "and, as methods:\n",
    "\n",
    "- the payoff `payoff`;\n",
    "\n",
    "- the `price_upper_limit` and `price_lower_limit`;\n",
    "\n",
    "- the `price`\n",
    "\n",
    "Notice that each method is defined in exactly the same way as the corresponding function in the previous section. The crucial difference is that - being methods of `CallOption` class, they do not need input parameters, as they can access directly to `CallOption` attributes."
   ]
  },
  {
   "cell_type": "code",
   "execution_count": 68,
   "metadata": {},
   "outputs": [],
   "source": [
    "class CallOption:\n",
    "    \"\"\"\n",
    "    CallOption class implementing payoff and pricing of a european call option.\n",
    "    \n",
    "    Attributes:\n",
    "    -----------\n",
    "        S_t (float):              spot price of the underlying asset at the valuation date 't';\n",
    "        K (float):                strike price;\n",
    "        t (str; dt.datetime):     valuation date. Can be either a \"dd-mm-YYYY\" String or a pd.datetime() object\n",
    "        T (str; dt.datetime):     expiration date. Can be either a \"dd-mm-YYYY\" String or a pd.datetime() object\n",
    "        tau (float):              time to maturity in years, computed as tau=T-t by time_to_maturity() method\n",
    "        r (float):                continuously compounded short-rate;\n",
    "        sigma (float):            volatility of underlying asset;\n",
    "    \n",
    "    Public Methods:\n",
    "    --------                        \n",
    "        payoff: float\n",
    "            Computes the payoff of the option and returns it\n",
    "            \n",
    "        price_upper_limit: float \n",
    "            Returns the upper limit for a vanilla call option price.\n",
    "\n",
    "        price_lower_limit: float \n",
    "            Returns the lower limit for a vanilla call option price.\n",
    "\n",
    "        price: float\n",
    "            Computes the exact price of the option and returns it\n",
    "\n",
    "    \"\"\"\n",
    "    \n",
    "    # constructor\n",
    "    def __init__(self, S_t, K, t, T, r, sigma):\n",
    "        self.S     = S_t\n",
    "        self.K     = K\n",
    "        self.t     = dt.datetime.strptime(t, \"%d-%m-%Y\") if isinstance(t, str) else t\n",
    "        self.T     = dt.datetime.strptime(T, \"%d-%m-%Y\") if isinstance(T, str) else T\n",
    "        self.tau   = self.__time_to_maturity()\n",
    "        self.r     = r\n",
    "        self.sigma = sigma\n",
    "        \n",
    "    # string representation\n",
    "    def __repr__(self):\n",
    "        return r\"CallOption(S_t={:.1f}, K={:.1f}, t={}, T={}, tau={:.2f}y, r={:.1f}%, sigma={:.1f}%)\".\\\n",
    "                format(self.S, self.K, self.t.strftime(\"%d-%m-%Y\"), self.T.strftime(\"%d-%m-%Y\"), self.tau, \n",
    "                       self.r*100, self.sigma*100)\n",
    "      \n",
    "    # time to maturity method (private)\n",
    "    def __time_to_maturity(self):\n",
    "        return (self.T - self.t).days / 365.0\n",
    "    \n",
    "    # payoff calculation\n",
    "    def payoff(self):\n",
    "        return max(0.0, self.S - self.K)\n",
    "    \n",
    "    # upper price limit\n",
    "    def price_upper_limit(self):\n",
    "        return self.S\n",
    "\n",
    "    # lower price limit\n",
    "    def price_lower_limit(self):\n",
    "        return max(self.S - self.K*np.exp(-self.r * self.tau), 0)\n",
    "\n",
    "    # price calculation\n",
    "    def price(self):\n",
    "        \n",
    "        if self.S == 0: # this is to avoid log(0) issues\n",
    "            return 0.0\n",
    "        elif self.tau == 0.0: # this is to avoid 0/0 issues\n",
    "            return self.payoff()        \n",
    "        else:\n",
    "\n",
    "            d1 = (np.log(self.S / self.K) + (self.r + 0.5 * self.sigma ** 2) * self.tau) / (self.sigma * np.sqrt(self.tau))\n",
    "            d2 = d1 - self.sigma * np.sqrt(self.tau)\n",
    "\n",
    "            price = self.S * stats.norm.cdf(d1, 0.0, 1.0) - self.K * np.exp(-self.r * self.tau) * stats.norm.cdf(d2, 0.0, 1.0)\n",
    "\n",
    "            return price    "
   ]
  },
  {
   "cell_type": "markdown",
   "metadata": {},
   "source": [
    "We can instantiate a `call` object"
   ]
  },
  {
   "cell_type": "code",
   "execution_count": 69,
   "metadata": {
    "scrolled": true
   },
   "outputs": [],
   "source": [
    "call = CallOption(S_t=90.0, K=100.0, t=\"19-04-2020\", T=\"31-12-2020\", r=0.05, sigma=0.2)"
   ]
  },
  {
   "cell_type": "markdown",
   "metadata": {},
   "source": [
    "Notice that we defined the special `__repr__` method. This special method is actually provided by default by Python anytime you define a class and it provides the string representation of the class: simply how it should be printed on screen. We simply re-define it (aka _override_ ) to give a more informative representation"
   ]
  },
  {
   "cell_type": "code",
   "execution_count": 70,
   "metadata": {},
   "outputs": [
    {
     "data": {
      "text/plain": [
       "CallOption(S_t=90.0, K=100.0, t=19-04-2020, T=31-12-2020, tau=0.70y, r=5.0%, sigma=20.0%)"
      ]
     },
     "execution_count": 70,
     "metadata": {},
     "output_type": "execute_result"
    }
   ],
   "source": [
    "call"
   ]
  },
  {
   "cell_type": "code",
   "execution_count": 71,
   "metadata": {},
   "outputs": [
    {
     "data": {
      "text/plain": [
       "__main__.CallOption"
      ]
     },
     "execution_count": 71,
     "metadata": {},
     "output_type": "execute_result"
    }
   ],
   "source": [
    "type(call)"
   ]
  },
  {
   "cell_type": "markdown",
   "metadata": {},
   "source": [
    "Using the `.` access operator, we can inspect the `call` attributes"
   ]
  },
  {
   "cell_type": "code",
   "execution_count": 72,
   "metadata": {},
   "outputs": [
    {
     "data": {
      "text/plain": [
       "90.0"
      ]
     },
     "execution_count": 72,
     "metadata": {},
     "output_type": "execute_result"
    }
   ],
   "source": [
    "call.S"
   ]
  },
  {
   "cell_type": "code",
   "execution_count": 73,
   "metadata": {},
   "outputs": [
    {
     "data": {
      "text/plain": [
       "100.0"
      ]
     },
     "execution_count": 73,
     "metadata": {},
     "output_type": "execute_result"
    }
   ],
   "source": [
    "call.K"
   ]
  },
  {
   "cell_type": "code",
   "execution_count": 74,
   "metadata": {},
   "outputs": [
    {
     "data": {
      "text/plain": [
       "datetime.datetime(2020, 12, 31, 0, 0)"
      ]
     },
     "execution_count": 74,
     "metadata": {},
     "output_type": "execute_result"
    }
   ],
   "source": [
    "call.T"
   ]
  },
  {
   "cell_type": "code",
   "execution_count": 75,
   "metadata": {},
   "outputs": [
    {
     "data": {
      "text/plain": [
       "0.7013698630136986"
      ]
     },
     "execution_count": 75,
     "metadata": {},
     "output_type": "execute_result"
    }
   ],
   "source": [
    "call.tau"
   ]
  },
  {
   "cell_type": "markdown",
   "metadata": {},
   "source": [
    "and we can call its methods"
   ]
  },
  {
   "cell_type": "code",
   "execution_count": 76,
   "metadata": {},
   "outputs": [
    {
     "data": {
      "text/plain": [
       "0.0"
      ]
     },
     "execution_count": 76,
     "metadata": {},
     "output_type": "execute_result"
    }
   ],
   "source": [
    "call.payoff()"
   ]
  },
  {
   "cell_type": "code",
   "execution_count": 77,
   "metadata": {},
   "outputs": [
    {
     "data": {
      "text/plain": [
       "3.487402470943657"
      ]
     },
     "execution_count": 77,
     "metadata": {},
     "output_type": "execute_result"
    }
   ],
   "source": [
    "call.price()"
   ]
  },
  {
   "cell_type": "code",
   "execution_count": 78,
   "metadata": {},
   "outputs": [
    {
     "data": {
      "text/plain": [
       "90.0"
      ]
     },
     "execution_count": 78,
     "metadata": {},
     "output_type": "execute_result"
    }
   ],
   "source": [
    "call.price_upper_limit()"
   ]
  },
  {
   "cell_type": "code",
   "execution_count": 79,
   "metadata": {},
   "outputs": [
    {
     "data": {
      "text/plain": [
       "0"
      ]
     },
     "execution_count": 79,
     "metadata": {},
     "output_type": "execute_result"
    }
   ],
   "source": [
    "call.price_lower_limit()"
   ]
  },
  {
   "cell_type": "markdown",
   "metadata": {},
   "source": [
    "we can test the consistency of `price_lower_limit()`"
   ]
  },
  {
   "cell_type": "code",
   "execution_count": 80,
   "metadata": {},
   "outputs": [
    {
     "data": {
      "text/plain": [
       "0"
      ]
     },
     "execution_count": 80,
     "metadata": {},
     "output_type": "execute_result"
    }
   ],
   "source": [
    "max(call.S - call.K*np.exp(-call.r * call.tau), 0)"
   ]
  },
  {
   "cell_type": "markdown",
   "metadata": {},
   "source": [
    "We can visualize again our option price modifying our plotting functions: we pass in input an `option` object, so that we can use its attributes and methods in the `plot_multi_tau()` (and `plot_single_tau()`) function body."
   ]
  },
  {
   "cell_type": "code",
   "execution_count": 81,
   "metadata": {},
   "outputs": [],
   "source": [
    "def plot_multi_tau(option, S_list, tau_list):\n",
    "    \"\"\"\n",
    "    plot_multi_tau(option, S_list, tau_list) plot option prices for underlying and maturities in 'S_list' and 'tau_list',\n",
    "    respectively.\n",
    "\n",
    "    Parameters:\n",
    "        option (CallOption): instance of CallOption class;\n",
    "        S_list (List):       list of underlying values;\n",
    "        tau_list (List):     list of times to maturity (in years);\n",
    "        \n",
    "    Returns:\n",
    "        None;\n",
    "\n",
    "    \"\"\"\n",
    "\n",
    "    # color cycle setup: basically a cycle of different shades of blue as many time to maturity there are\n",
    "    plt.rcParams[\"axes.prop_cycle\"] = plt.cycler(\"color\", plt.cm.Blues(np.linspace(0,1,len(tau_list)+1)))\n",
    "\n",
    "    # define the figure\n",
    "    fig, ax = plt.subplots(figsize=(10,6))\n",
    "\n",
    "    # auxiliary variables\n",
    "    numS = len(S_list)\n",
    "    numTau = len(tau_list)\n",
    "\n",
    "    # plot a dot to highlight the strike position\n",
    "    ax.plot(option.K, 0, 'k.', ms=15, label=\"Strike $K$\")\n",
    "\n",
    "    # plot the price for different underlying values, one line for each different time to maturity tau\n",
    "    for i in np.arange(numTau)[::-1]: # loop over reversed range\n",
    "        \n",
    "        option.tau = tau_list[i] # reset of time-to-maturity\n",
    "        price = np.zeros(numS)\n",
    "        \n",
    "        for j in np.arange(numS):\n",
    "            option.S = S_list[j] # reset of underlying value\n",
    "            price[j] = option.price()\n",
    "        \n",
    "        ax.plot(S_list, price, '-', lw=1.5, label=r\"$\\tau={}$\".format(option.tau))\n",
    "    \n",
    "    # plot the red payoff line for different underlying values\n",
    "    payoff = np.zeros(numS)\n",
    "    for i in np.arange(numS):\n",
    "        option.S = S_list[i] # reset of underlying value\n",
    "        payoff[i] = option.payoff()\n",
    "\n",
    "    ax.plot(S_list, payoff, 'r-', lw=1.5, label=\"$max(S-K, 0)$\")\n",
    "\n",
    "    # set axis labels \n",
    "    ax.set_xlabel('Underlying $S_t$', fontsize=12) \n",
    "    ax.set_ylabel('Black-Scholes Price', fontsize=12) \n",
    "\n",
    "    # set title\n",
    "    ax.set_title(r\"Price of a Call Option $(S_t, K={}, \\tau=T-t, r={}\\%, \\sigma={}\\%)$ Vs $S$ (at different $\\tau$)\".\n",
    "                 format(option.K, option.r, option.sigma), fontsize=12) \n",
    "\n",
    "    # add the legend\n",
    "    ax.legend(loc='upper left', ncol=1)\n",
    "\n",
    "    # add a gride to ease visualization\n",
    "    plt.grid(True)\n",
    "\n",
    "    # show the plot\n",
    "    fig.tight_layout()\n",
    "    plt.show()"
   ]
  },
  {
   "cell_type": "code",
   "execution_count": 82,
   "metadata": {
    "scrolled": false
   },
   "outputs": [
    {
     "data": {
      "image/png": "[encoded data removed]",
      "text/plain": [
       "<Figure size 720x432 with 1 Axes>"
      ]
     },
     "metadata": {
      "needs_background": "light"
     },
     "output_type": "display_data"
    }
   ],
   "source": [
    "plot_multi_tau(call, S_strip, tau_strip)"
   ]
  },
  {
   "cell_type": "code",
   "execution_count": 83,
   "metadata": {},
   "outputs": [],
   "source": [
    "def plot_single_tau(option, S_list, tau):\n",
    "    \"\"\"\n",
    "    plot_single_tau(option, S_list, tau) plot option prices for underlying in 'S_list' and time to maturity 'tau'.\n",
    "\n",
    "    Parameters:\n",
    "        option (CallOption): instance of CallOption class;\n",
    "        S_list (List):       list of underlying values;\n",
    "        tau (float):         time to maturity (in years);\n",
    "        \n",
    "    Returns:\n",
    "        None;\n",
    "\n",
    "    \"\"\"\n",
    "\n",
    "    # define the figure\n",
    "    fig, ax = plt.subplots(figsize=(10,6))\n",
    "\n",
    "    # setting legend labels\n",
    "    upper_limit_label = r\"Upper limit: $S_t$\"\n",
    "    payoff_label      =r\"$max(S-K, 0)$\"\n",
    "    lower_limit_label = r\"Lower limit: $max(S_t - K e^{-r \\tau}, 0)$\"\n",
    "        \n",
    "    # auxiliary variable\n",
    "    numS = len(S_list)\n",
    "\n",
    "    # plot a dot to highlight the strike position\n",
    "    ax.plot(option.K, 0, 'k.', ms=15, label=\"Strike $K$\")\n",
    "\n",
    "    # plot the upper limit, the price and the lower limit for different underlying values\n",
    "    upper_limit = np.zeros(numS)\n",
    "    price       = np.zeros(numS)\n",
    "    lower_limit = np.zeros(numS)\n",
    "    payoff      = np.zeros(numS)\n",
    "\n",
    "    for i in np.arange(numS):\n",
    "        option.S = S_list[i] # reset of underlying value\n",
    "        \n",
    "        upper_limit[i] = option.price_upper_limit()\n",
    "        price[i]       = option.price()\n",
    "        lower_limit[i] = option.price_lower_limit()\n",
    "        payoff[i]      = option.payoff()\n",
    "\n",
    "    ax.plot(S_list, upper_limit, 'k-.', lw=1.5, label=upper_limit_label)\n",
    "    ax.plot(S_list, price,       'b-',  lw=1.5, label=r\"Price\")\n",
    "    ax.plot(S_list, lower_limit, 'k--', lw=1.5, label=lower_limit_label)\n",
    "    ax.plot(S_list, payoff,      'r-',  lw=1.5, label=payoff_label)\n",
    "\n",
    "    # set axis labels \n",
    "    ax.set_xlabel('Underlying $S_t$', fontsize=12) \n",
    "    ax.set_ylabel('Black-Scholes Price', fontsize=12) \n",
    "\n",
    "    # set title\n",
    "    ax.set_title(r\"Price of a Call Option $(S_t, K={}, \\tau=T-t={:.1f}y, r={}\\%, \\sigma={}\\%)$ Vs $S$ (with price limits)\".\n",
    "                 format(option.K, option.tau, option.r*100, option.sigma*100), fontsize=12) \n",
    "\n",
    "    # add the legend\n",
    "    ax.legend(loc='upper left', ncol=1)\n",
    "\n",
    "    # add a gride to ease visualization\n",
    "    plt.grid(True)\n",
    "\n",
    "    # show the plot\n",
    "    fig.tight_layout()\n",
    "    plt.show()"
   ]
  },
  {
   "cell_type": "code",
   "execution_count": 84,
   "metadata": {},
   "outputs": [],
   "source": [
    "call_focus = CallOption(S_t=3.0, K=5.0, t=\"19-04-2020\", T=\"19-04-2022\", r=0.05, sigma=0.2)"
   ]
  },
  {
   "cell_type": "code",
   "execution_count": 85,
   "metadata": {
    "scrolled": false
   },
   "outputs": [
    {
     "data": {
      "image/png": "[encoded data removed]",
      "text/plain": [
       "<Figure size 720x432 with 1 Axes>"
      ]
     },
     "metadata": {
      "needs_background": "light"
     },
     "output_type": "display_data"
    }
   ],
   "source": [
    "plot_single_tau(call_focus, S_strip_focus, call_focus.tau)"
   ]
  },
  {
   "cell_type": "markdown",
   "metadata": {},
   "source": [
    "## 3.3. Encapsulation: name hiding, getters and setters <a name=\"encapsulation\"></a> "
   ]
  },
  {
   "cell_type": "markdown",
   "metadata": {},
   "source": [
    "In plotters `S` and `tau` attributes have been intentionally changed. But this might be something which is error prone. You may unintentionally change an attribute value and then not being able to understand the behavior of your class anymore."
   ]
  },
  {
   "cell_type": "markdown",
   "metadata": {},
   "source": [
    "The solution to this issue is based on the concept of _encapsulation._ The idea is simple: \n",
    "\n",
    "- Hide the attributes to the outside of the class (that is, do not make them accessible). This is done prepending an attribute name with `__`. `__AttributeName` attribute is called _private_ attribute. For example:\n",
    "\n",
    "  - change underlying attribute from `self.S` to `self.__S`;\n",
    "  \n",
    "  - From outside of the class you cannot access `S` anymore, neither as `call.S`, nor as `call.__S`;\n",
    "  \n",
    "  - this way there is no risk to unintentionally change its vlaue.\n",
    "\n",
    "\n",
    "- Provide, if you want, _getters_ methods to retrieve the value of an attribute from outside the class. For example: \n",
    "  \n",
    "  - you make attribute `S` accessible from outise through getter method `get_S()` which returns the current value of the attribute.\n",
    "\n",
    "\n",
    "- Provide, if you want, _setters_ methods to set an attribute from outside the class. For example:\n",
    " \n",
    " - you allow to set attribute `S` to a new value, through the setter method `set_S(new_value)` which sets `S` to `new_value`.\n",
    "  \n",
    "\n",
    "The naming convention \n",
    "\n",
    "- `get_AttributeName()`\n",
    "\n",
    "- `set_AttributeName(new_value)`\n",
    "\n",
    "is standard and should be followed."
   ]
  },
  {
   "cell_type": "code",
   "execution_count": 86,
   "metadata": {},
   "outputs": [],
   "source": [
    "class CallOption:\n",
    "    \"\"\"\n",
    "    CallOption class implementing payoff and pricing of a european call option.\n",
    "    \n",
    "    Attributes:\n",
    "    -----------\n",
    "        S_t (float):              spot price of the underlying asset at the valuation date 't';\n",
    "        K (float):                strike price;\n",
    "        t (str; dt.datetime):     valuation date. Can be either a \"dd-mm-YYYY\" String or a pd.datetime() object\n",
    "        T (str; dt.datetime):     expiration date. Can be either a \"dd-mm-YYYY\" String or a pd.datetime() object\n",
    "        tau (float):              time to maturity in years, computed as tau=T-t by time_to_maturity() method\n",
    "        r (float):                continuously compounded short-rate;\n",
    "        sigma (float):            volatility of underlying asset;\n",
    "    \n",
    "    Public Methods:\n",
    "    --------            \n",
    "        payoff: float\n",
    "            Computes the payoff of the option and returns it\n",
    "\n",
    "        price_upper_limit: float \n",
    "            Returns the upper limit for a vanilla call option price.\n",
    "\n",
    "        price_lower_limit: float \n",
    "            Returns the lower limit for a vanilla call option price.\n",
    "            \n",
    "        price: float\n",
    "            Computes the exact price of the option and returns it\n",
    "\n",
    "    \"\"\"\n",
    "    \n",
    "    def __init__(self, S_t, K, t, T, r, sigma):\n",
    "        self.__S     = S_t\n",
    "        self.__K     = K\n",
    "        self.__t     = dt.datetime.strptime(t, \"%d-%m-%Y\") if isinstance(t, str) else t\n",
    "        self.__T     = dt.datetime.strptime(T, \"%d-%m-%Y\") if isinstance(T, str) else T\n",
    "        self.__tau   = self.__time_to_maturity()\n",
    "        self.__r     = r\n",
    "        self.__sigma = sigma\n",
    "        \n",
    "    def __repr__(self):\n",
    "        return r\"CallOption(S_t={:.1f}, K={:.1f}, t={}, T={}, tau={:.2f}y, r={:.1f}%, sigma={:.1f}%)\".\\\n",
    "                format(self.get_S(), self.get_K(), self.get_t().strftime(\"%d-%m-%Y\"), \n",
    "                       self.get_T().strftime(\"%d-%m-%Y\"), self.get_tau(), self.get_r()*100, self.get_sigma()*100)\n",
    "    \n",
    "    # getters\n",
    "    def get_S(self):\n",
    "        return self.__S\n",
    "    \n",
    "    def get_K(self):\n",
    "        return self.__K\n",
    "    \n",
    "    def get_t(self):\n",
    "        return self.__t\n",
    "\n",
    "    def get_T(self):\n",
    "        return self.__T\n",
    "\n",
    "    def get_tau(self):\n",
    "        return self.__tau\n",
    "    \n",
    "    def get_r(self):\n",
    "        return self.__r\n",
    "\n",
    "    def get_sigma(self):\n",
    "        return self.__sigma\n",
    "    \n",
    "    # setters\n",
    "    def set_S(self, S):\n",
    "        self.__S = S\n",
    "        \n",
    "    def set_K(self, K):\n",
    "        self.__K = K\n",
    "    \n",
    "    def set_t(self, t):\n",
    "        self.__t = dt.datetime.strptime(t, \"%d-%m-%Y\") if isinstance(t, str) else t\n",
    "        # update time to maturity, given changed t, to keep internal consistency\n",
    "        self.__update_tau() \n",
    "\n",
    "    def set_T(self, T):\n",
    "        self.__T = dt.datetime.strptime(T, \"%d-%m-%Y\") if isinstance(T, str) else T\n",
    "        # update time to maturity, given changed T, to keep internal consistency\n",
    "        self.__update_tau() \n",
    "    \n",
    "    def set_tau(self, tau):\n",
    "        self.__tau = tau\n",
    "        # update expiration date, given changed tau, to keep internal consistency\n",
    "        # we could have updated valuation date as well, but this is a stylistic choice\n",
    "        self.__update_T()\n",
    "\n",
    "    def set_r(self, r):\n",
    "        self.__r = r\n",
    "\n",
    "    def set_sigma(self, sigma):\n",
    "        self.__sigma = sigma\n",
    "        \n",
    "    # update methods (private)\n",
    "    def __update_tau(self):\n",
    "        self.__tau = self.__time_to_maturity()\n",
    "\n",
    "    def __update_T(self):\n",
    "        self.__T = self.__t + dt.timedelta(days=math.ceil(self.__tau*365))\n",
    "\n",
    "    # time to maturity method (private)\n",
    "    def __time_to_maturity(self):\n",
    "        return (self.__T - self.__t).days / 365.0\n",
    "    \n",
    "    # payoff calculation\n",
    "    def payoff(self):\n",
    "        return max(0.0, self.get_S() - self.get_K())\n",
    "\n",
    "    # upper price limit\n",
    "    def price_upper_limit(self):\n",
    "        return self.get_S()\n",
    "\n",
    "    # lower price limit\n",
    "    def price_lower_limit(self):\n",
    "        return max(self.get_S() - self.get_K()*np.exp(-self.get_r() * self.get_tau()), 0)\n",
    "    \n",
    "    # price calculation\n",
    "    def price(self):\n",
    "        \n",
    "        # some local variables retrieved to be used repeatedly\n",
    "        S = self.get_S()\n",
    "        tau = self.get_tau()\n",
    "        \n",
    "        if S == 0: # this is to avoid log(0) issues\n",
    "            return 0.0\n",
    "        elif tau == 0.0: # this is to avoid 0/0 issues\n",
    "            return self.payoff()\n",
    "        else:\n",
    "            K     = self.get_K()\n",
    "            r     = self.get_r()\n",
    "            sigma = self.get_sigma()\n",
    "\n",
    "            d1 = (np.log(S/K) + (r + 0.5 * sigma ** 2) * tau) / (sigma * np.sqrt(tau))\n",
    "            d2 = d1 - sigma * np.sqrt(tau)\n",
    "\n",
    "            price = S * stats.norm.cdf(d1, 0.0, 1.0) - K * np.exp(-r * tau) * stats.norm.cdf(d2, 0.0, 1.0)\n",
    "\n",
    "            return price    "
   ]
  },
  {
   "cell_type": "markdown",
   "metadata": {},
   "source": [
    "Notice that we can use getters also from inside the class: this is a good idea, since we are sure that if there is an error with the value of `S` attribute somewhere in the class, then we know we should be looking directly at `get_S()` method."
   ]
  },
  {
   "cell_type": "code",
   "execution_count": 87,
   "metadata": {
    "scrolled": true
   },
   "outputs": [],
   "source": [
    "call = CallOption(S_t=90.0, K=100.0, t=\"19-04-2020\", T=\"31-12-2020\", r=0.05, sigma=0.2)"
   ]
  },
  {
   "cell_type": "code",
   "execution_count": 88,
   "metadata": {},
   "outputs": [
    {
     "data": {
      "text/plain": [
       "CallOption(S_t=90.0, K=100.0, t=19-04-2020, T=31-12-2020, tau=0.70y, r=5.0%, sigma=20.0%)"
      ]
     },
     "execution_count": 88,
     "metadata": {},
     "output_type": "execute_result"
    }
   ],
   "source": [
    "call"
   ]
  },
  {
   "cell_type": "code",
   "execution_count": 89,
   "metadata": {},
   "outputs": [
    {
     "data": {
      "text/plain": [
       "__main__.CallOption"
      ]
     },
     "execution_count": 89,
     "metadata": {},
     "output_type": "execute_result"
    }
   ],
   "source": [
    "type(call)"
   ]
  },
  {
   "cell_type": "code",
   "execution_count": 90,
   "metadata": {},
   "outputs": [
    {
     "data": {
      "text/plain": [
       "True"
      ]
     },
     "execution_count": 90,
     "metadata": {},
     "output_type": "execute_result"
    }
   ],
   "source": [
    "isinstance(call, CallOption)"
   ]
  },
  {
   "cell_type": "markdown",
   "metadata": {},
   "source": [
    "Notice that having defined `self.__S` for underlying asset value attribute, hides it from exterior"
   ]
  },
  {
   "cell_type": "code",
   "execution_count": 91,
   "metadata": {},
   "outputs": [],
   "source": [
    "# Raises: AttributeError: 'CallOption' object has no attribute '__S'\n",
    "#\n",
    "#call.__S"
   ]
  },
  {
   "cell_type": "markdown",
   "metadata": {},
   "source": [
    "you can instead use the corresponding getter to retrieve the value"
   ]
  },
  {
   "cell_type": "code",
   "execution_count": 92,
   "metadata": {},
   "outputs": [
    {
     "data": {
      "text/plain": [
       "90.0"
      ]
     },
     "execution_count": 92,
     "metadata": {},
     "output_type": "execute_result"
    }
   ],
   "source": [
    "call.get_S()"
   ]
  },
  {
   "cell_type": "markdown",
   "metadata": {},
   "source": [
    "and the corresponding setter to set it"
   ]
  },
  {
   "cell_type": "code",
   "execution_count": 93,
   "metadata": {},
   "outputs": [],
   "source": [
    "call.set_S(105)"
   ]
  },
  {
   "cell_type": "markdown",
   "metadata": {},
   "source": [
    "Notice how now the value is changed"
   ]
  },
  {
   "cell_type": "code",
   "execution_count": 94,
   "metadata": {},
   "outputs": [
    {
     "data": {
      "text/plain": [
       "105"
      ]
     },
     "execution_count": 94,
     "metadata": {},
     "output_type": "execute_result"
    }
   ],
   "source": [
    "call.get_S()"
   ]
  },
  {
   "cell_type": "markdown",
   "metadata": {},
   "source": [
    "Similarly for other attributes"
   ]
  },
  {
   "cell_type": "code",
   "execution_count": 95,
   "metadata": {},
   "outputs": [
    {
     "data": {
      "text/plain": [
       "datetime.datetime(2020, 4, 19, 0, 0)"
      ]
     },
     "execution_count": 95,
     "metadata": {},
     "output_type": "execute_result"
    }
   ],
   "source": [
    "call.get_t()"
   ]
  },
  {
   "cell_type": "code",
   "execution_count": 96,
   "metadata": {},
   "outputs": [
    {
     "data": {
      "text/plain": [
       "datetime.datetime(2020, 12, 31, 0, 0)"
      ]
     },
     "execution_count": 96,
     "metadata": {},
     "output_type": "execute_result"
    }
   ],
   "source": [
    "call.get_T()"
   ]
  },
  {
   "cell_type": "code",
   "execution_count": 97,
   "metadata": {},
   "outputs": [
    {
     "data": {
      "text/plain": [
       "0.7013698630136986"
      ]
     },
     "execution_count": 97,
     "metadata": {},
     "output_type": "execute_result"
    }
   ],
   "source": [
    "call.get_tau()"
   ]
  },
  {
   "cell_type": "markdown",
   "metadata": {},
   "source": [
    "Notice that, for internal consistency:\n",
    "\n",
    "- when we change the valuation date $t$ (`set_t()`) or the expiration date $T$ (`set_T()`) of the option, then we automatically update the time-to-maturity $\\tau=T-t$ with the `__update_tau()` method;\n",
    "\n",
    "- when we update the time-to-maturity $\\tau$ of the options, then we automatically chose to extend or anticipate the expiration date $T$ with the `__update_T()`. "
   ]
  },
  {
   "cell_type": "markdown",
   "metadata": {},
   "source": [
    "In the same way we define private attributes as `__AttributeName`, we can define _private_ methods as `__MethodName()`. Private methods cannot be called from outside the class. Examples: \n",
    "- `__update_tau()`,\n",
    "\n",
    "- `__update_T()`,\n",
    "\n",
    "- `__time_to_maturity()`"
   ]
  },
  {
   "cell_type": "code",
   "execution_count": 98,
   "metadata": {},
   "outputs": [],
   "source": [
    "call.set_t(\"01-06-2020\")"
   ]
  },
  {
   "cell_type": "code",
   "execution_count": 99,
   "metadata": {},
   "outputs": [
    {
     "data": {
      "text/plain": [
       "datetime.datetime(2020, 6, 1, 0, 0)"
      ]
     },
     "execution_count": 99,
     "metadata": {},
     "output_type": "execute_result"
    }
   ],
   "source": [
    "call.get_t()"
   ]
  },
  {
   "cell_type": "code",
   "execution_count": 100,
   "metadata": {},
   "outputs": [],
   "source": [
    "# Raises: AttributeError: 'CallOption' object has no attribute '__update_tau'\n",
    "#\n",
    "# call.__update_tau()"
   ]
  },
  {
   "cell_type": "code",
   "execution_count": 101,
   "metadata": {},
   "outputs": [
    {
     "data": {
      "text/plain": [
       "0.5835616438356165"
      ]
     },
     "execution_count": 101,
     "metadata": {},
     "output_type": "execute_result"
    }
   ],
   "source": [
    "call.get_tau() # tau gets updated automatically"
   ]
  },
  {
   "cell_type": "code",
   "execution_count": 102,
   "metadata": {},
   "outputs": [
    {
     "data": {
      "text/plain": [
       "0.5835616438356165"
      ]
     },
     "execution_count": 102,
     "metadata": {},
     "output_type": "execute_result"
    }
   ],
   "source": [
    "(call.get_T() - call.get_t()).days / 365 # consistency check"
   ]
  },
  {
   "cell_type": "code",
   "execution_count": 103,
   "metadata": {},
   "outputs": [],
   "source": [
    "call.set_tau(1.0)"
   ]
  },
  {
   "cell_type": "code",
   "execution_count": 104,
   "metadata": {},
   "outputs": [
    {
     "data": {
      "text/plain": [
       "1.0"
      ]
     },
     "execution_count": 104,
     "metadata": {},
     "output_type": "execute_result"
    }
   ],
   "source": [
    "call.get_tau()"
   ]
  },
  {
   "cell_type": "code",
   "execution_count": 105,
   "metadata": {},
   "outputs": [],
   "source": [
    "# Raises: AttributeError: 'CallOption' object has no attribute '__update_T'\n",
    "#\n",
    "# call.__update_T()"
   ]
  },
  {
   "cell_type": "code",
   "execution_count": 106,
   "metadata": {},
   "outputs": [
    {
     "data": {
      "text/plain": [
       "datetime.datetime(2021, 6, 1, 0, 0)"
      ]
     },
     "execution_count": 106,
     "metadata": {},
     "output_type": "execute_result"
    }
   ],
   "source": [
    "call.get_T() # expiration date gets updated automatically"
   ]
  },
  {
   "cell_type": "code",
   "execution_count": 107,
   "metadata": {},
   "outputs": [
    {
     "data": {
      "text/plain": [
       "1.0"
      ]
     },
     "execution_count": 107,
     "metadata": {},
     "output_type": "execute_result"
    }
   ],
   "source": [
    "(call.get_T() - call.get_t()).days / 365 # consistency check"
   ]
  },
  {
   "cell_type": "code",
   "execution_count": 108,
   "metadata": {},
   "outputs": [],
   "source": [
    "call = CallOption(S_t=90.0, K=100.0, t=\"19-04-2020\", T=\"31-12-2020\", r=0.05, sigma=0.2)"
   ]
  },
  {
   "cell_type": "code",
   "execution_count": 109,
   "metadata": {},
   "outputs": [
    {
     "data": {
      "text/plain": [
       "CallOption(S_t=90.0, K=100.0, t=19-04-2020, T=31-12-2020, tau=0.70y, r=5.0%, sigma=20.0%)"
      ]
     },
     "execution_count": 109,
     "metadata": {},
     "output_type": "execute_result"
    }
   ],
   "source": [
    "call"
   ]
  },
  {
   "cell_type": "markdown",
   "metadata": {},
   "source": [
    "Here we use getters and setters in our plotting example"
   ]
  },
  {
   "cell_type": "code",
   "execution_count": 110,
   "metadata": {},
   "outputs": [],
   "source": [
    "def plot_multi_tau(option, S_list, tau_list):\n",
    "    \"\"\"\n",
    "    plot_multi_tau(option, S_list, tau_list) plot option prices for underlying and maturities in 'S_list' and 'tau_list',\n",
    "    respectively.\n",
    "\n",
    "    Parameters:\n",
    "        option (CallOption): instance of CallOption class;\n",
    "        S_list (List):       list of underlying values;\n",
    "        tau_list (List):     list of times to maturity (in years);\n",
    "        \n",
    "    Returns:\n",
    "        None;\n",
    "\n",
    "    \"\"\"\n",
    "\n",
    "    # color cycle setup: basically a cycle of different shades of blue as many time to maturity there are\n",
    "    plt.rcParams[\"axes.prop_cycle\"] = plt.cycler(\"color\", plt.cm.Blues(np.linspace(0,1,len(tau_list)+1)))\n",
    "\n",
    "    # define the figure\n",
    "    fig, ax = plt.subplots(figsize=(10,6))\n",
    "\n",
    "    # auxiliary variables\n",
    "    numS = len(S_list)\n",
    "    numTau = len(tau_list)\n",
    "\n",
    "    # plot a dot to highlight the strike position\n",
    "    ax.plot(K, 0, 'k.', ms=15, label=\"Strike $K$\")\n",
    "\n",
    "    # plot the price for different underlying values, one line for each different time to maturity tau\n",
    "    for i in np.arange(numTau)[::-1]: # loop over reversed range\n",
    "        \n",
    "        option.set_tau(tau_list[i]) # reset the time to maturity\n",
    "        price = np.zeros(numS)\n",
    "        \n",
    "        for j in np.arange(numS):\n",
    "            option.set_S(S_list[j]) # reset of underlying value\n",
    "            price[j] = option.price()\n",
    "        \n",
    "        ax.plot(S_list, price, '-', lw=1.5, label=r\"$\\tau={}$\".format(option.get_tau()))\n",
    "    \n",
    "    # plot the red payoff line for different underlying values\n",
    "    payoff = np.zeros(numS)\n",
    "    for i in np.arange(numS):\n",
    "        option.set_S(S_list[i]) # reset of underlying value\n",
    "        payoff[i] = option.payoff()\n",
    "\n",
    "    ax.plot(S_list, payoff, 'r-', lw=1.5, label=\"$max(S-K, 0)$\")\n",
    "\n",
    "    # set axis labels \n",
    "    ax.set_xlabel('Underlying $S_t$', fontsize=12) \n",
    "    ax.set_ylabel('Black-Scholes Price', fontsize=12) \n",
    "\n",
    "    # set title\n",
    "    ax.set_title(r\"Price of a Call Option $(S_t, K={}, \\tau=T-t, r={}\\%, \\sigma={}\\%)$ Vs $S$ (at different $\\tau$)\".\n",
    "                 format(option.get_K(), option.get_r()*100, option.get_sigma()*100), fontsize=12) \n",
    "\n",
    "    # add the legend\n",
    "    ax.legend(loc='upper left', ncol=1)\n",
    "\n",
    "    # add a gride to ease visualization\n",
    "    plt.grid(True)\n",
    "\n",
    "    # show the plot\n",
    "    fig.tight_layout()\n",
    "    plt.show()"
   ]
  },
  {
   "cell_type": "code",
   "execution_count": 111,
   "metadata": {
    "scrolled": false
   },
   "outputs": [
    {
     "data": {
      "image/png": "[encoded data removed]",
      "text/plain": [
       "<Figure size 720x432 with 1 Axes>"
      ]
     },
     "metadata": {
      "needs_background": "light"
     },
     "output_type": "display_data"
    }
   ],
   "source": [
    "plot_multi_tau(call, S_strip, tau_strip)"
   ]
  },
  {
   "cell_type": "code",
   "execution_count": 112,
   "metadata": {},
   "outputs": [],
   "source": [
    "def plot_single_tau(option, S_list, tau):\n",
    "    \"\"\"\n",
    "    plot_single_tau(option, S_list, tau_list) plot option prices for underlying in 'S_list' and time to maturity 'tau'.\n",
    "\n",
    "    Parameters:\n",
    "        option (CallOption): instance of CallOption class;\n",
    "        S_list (List):       list of underlying values;\n",
    "        tau (float):         time to maturity (in years);\n",
    "        \n",
    "    Returns:\n",
    "        None;\n",
    "\n",
    "    \"\"\"\n",
    "\n",
    "    # define the figure\n",
    "    fig, ax = plt.subplots(figsize=(10,6))\n",
    "\n",
    "    # setting legend labels\n",
    "    upper_limit_label = r\"Upper limit: $S_t$\"\n",
    "    payoff_label      =r\"$max(S - K, 0)$\"\n",
    "    lower_limit_label = r\"Lower limit: $max(S_t - K e^{-r \\tau}, 0)$\"\n",
    "        \n",
    "    # auxiliary variable\n",
    "    numS = len(S_list)\n",
    "\n",
    "    # plot a dot to highlight the strike position\n",
    "    ax.plot(option.get_K(), 0, 'k.', ms=15, label=\"Strike $K$\")\n",
    "\n",
    "    # plot the upper limit, the price and the lower limit for different underlying values\n",
    "    upper_limit = np.zeros(numS)\n",
    "    price       = np.zeros(numS)\n",
    "    lower_limit = np.zeros(numS)\n",
    "    payoff      = np.zeros(numS)\n",
    "\n",
    "    for i in np.arange(numS):\n",
    "        option.set_S(S_list[i]) # reset of underlying value\n",
    "        \n",
    "        upper_limit[i] = option.price_upper_limit()\n",
    "        price[i]       = option.price()\n",
    "        lower_limit[i] = option.price_lower_limit()\n",
    "        payoff[i]      = option.payoff()\n",
    "\n",
    "    ax.plot(S_list, upper_limit, 'k-.', lw=1.5, label=upper_limit_label)\n",
    "    ax.plot(S_list, price,       'b-',  lw=1.5, label=r\"Price\")\n",
    "    ax.plot(S_list, lower_limit, 'k--', lw=1.5, label=lower_limit_label)\n",
    "    ax.plot(S_list, payoff,      'r-',  lw=1.5, label=payoff_label)\n",
    "\n",
    "    # set axis labels \n",
    "    ax.set_xlabel('Underlying $S_t$', fontsize=12) \n",
    "    ax.set_ylabel('Black-Scholes Price', fontsize=12) \n",
    "\n",
    "    # set title\n",
    "    ax.set_title(r\"Price of a Call Option $(S_t, K={}, \\tau=T-t={:.1f}y, r={}\\%, \\sigma={}\\%)$ Vs $S$ (with price limits)\".\n",
    "                 format(option.get_K(), option.get_tau(), option.get_r()*100, option.get_sigma()*100), fontsize=12) \n",
    "\n",
    "    # add the legend\n",
    "    ax.legend(loc='upper left', ncol=1)\n",
    "\n",
    "    # add a gride to ease visualization\n",
    "    plt.grid(True)\n",
    "\n",
    "    # show the plot\n",
    "    fig.tight_layout()\n",
    "    plt.show()"
   ]
  },
  {
   "cell_type": "code",
   "execution_count": 113,
   "metadata": {},
   "outputs": [],
   "source": [
    "call_focus = CallOption(S_t=3.0, K=5.0, t=\"19-04-2020\", T=\"19-04-2022\", r=0.05, sigma=0.2)"
   ]
  },
  {
   "cell_type": "code",
   "execution_count": 114,
   "metadata": {
    "scrolled": false
   },
   "outputs": [
    {
     "data": {
      "image/png": "[encoded data removed]",
      "text/plain": [
       "<Figure size 720x432 with 1 Axes>"
      ]
     },
     "metadata": {
      "needs_background": "light"
     },
     "output_type": "display_data"
    }
   ],
   "source": [
    "plot_single_tau(call_focus, S_strip_focus, call_focus.get_tau())"
   ]
  },
  {
   "cell_type": "markdown",
   "metadata": {},
   "source": [
    "# 4. Including put options: the `PlainVanillaOption` class <a name=\"PlainVanillaOption\"></a> "
   ]
  },
  {
   "cell_type": "markdown",
   "metadata": {},
   "source": [
    "A put option of maturity $T$ and strike $K$ on an asset $S$ is a contract giving to the owner the right to sell for $K$ the asset at the future date $T$ (when the asset will be worth $S_T$). Their payoff at maturity is then\n",
    "\n",
    "$$\n",
    "\\max(K - S_T, 0)\n",
    "$$"
   ]
  },
  {
   "cell_type": "markdown",
   "metadata": {},
   "source": [
    "We could develop for put options an independent `PutOption` class. In fact, if we were not to use OOP, we would be obliged to develop put option payoff, pricing and price boundary functions independently. But this would be a waste of time. "
   ]
  },
  {
   "cell_type": "markdown",
   "metadata": {},
   "source": [
    "At the end, put options are just a different kind of plain vanilla options. The only difference w.r.t. to call options is the payoff they provide to the owner. Underlying, model and market data could (and should) be shared by both call and put options. \n",
    "\n",
    "Moreover, from the financial point of view, call $c_t$ and put $p_t$ prices are related by the so-called _put-call parity_\n",
    "\n",
    "$$\n",
    "c_t + Ke^{-r\\tau} = p_t + S_t\n",
    "$$\n",
    "\n",
    "which we can use to compute the put price $p_t$, once we know the call's price $c_t$ and the other contract variables."
   ]
  },
  {
   "cell_type": "markdown",
   "metadata": {},
   "source": [
    "We then can model a unique `PlainVanillaOption` class and distinguish between calls and puts through a `type` discriminant String."
   ]
  },
  {
   "cell_type": "code",
   "execution_count": 115,
   "metadata": {},
   "outputs": [],
   "source": [
    "class PlainVanillaOption:\n",
    "    \"\"\"\n",
    "    PlainVanillaOption class implementing payoff and pricing of plain-vanilla call and put options.\n",
    "    Put price is calculated using put-call parity\n",
    "    \n",
    "    Attributes:\n",
    "    -----------\n",
    "        type (str):               type of the options. Can be either 'call' or 'put';\n",
    "        S_t (float):              spot price of the underlying asset at the valuation date 't';\n",
    "        K (float):                strike price;\n",
    "        t (str; dt.datetime):     valuation date. Can be either a \"dd-mm-YYYY\" String or a pd.datetime() object\n",
    "        T (str; dt.datetime):     expiration date. Can be either a \"dd-mm-YYYY\" String or a pd.datetime() object\n",
    "        tau (float):              time to maturity in years, computed as tau=T-t by time_to_maturity() method\n",
    "        r (float):                continuously compounded short-rate;\n",
    "        sigma (float):            volatility of underlying asset;\n",
    "    \n",
    "    Public Methods:\n",
    "    --------   \n",
    "    \n",
    "        getters and setters for all attributes\n",
    "        \n",
    "        payoff: float\n",
    "            Computes the payoff of the option and returns it\n",
    "\n",
    "        price_upper_limit: float \n",
    "            Returns the upper limit for a vanilla option price.\n",
    "\n",
    "        price_lower_limit: float \n",
    "            Returns the lower limit for a vanilla option price.\n",
    "            \n",
    "        price: float\n",
    "            Computes the exact price of the option and returns it, using call_price() or put_price()\n",
    "\n",
    "    \"\"\"\n",
    "    \n",
    "    def __init__(self, option_type, S_t, K, t, T, r, sigma):\n",
    "\n",
    "        # option type check\n",
    "        if option_type not in ['call', 'put']:\n",
    "            raise NotImplementedError(\"Option Type: '{}' does not exist!\".format(option_type))\n",
    "        \n",
    "        self.__type  = option_type\n",
    "        self.__S     = S_t\n",
    "        self.__K     = K\n",
    "        self.__t     = dt.datetime.strptime(t, \"%d-%m-%Y\") if isinstance(t, str) else t\n",
    "        self.__T     = dt.datetime.strptime(T, \"%d-%m-%Y\") if isinstance(T, str) else T\n",
    "        self.__tau   = self.__time_to_maturity()\n",
    "        self.__r     = r\n",
    "        self.__sigma = sigma\n",
    "        \n",
    "        # informations dictionary\n",
    "        self.__docstring_dict = {\n",
    "            'call':{\n",
    "                'price_upper_limit': r\"Upper limit: $S_t$\",\n",
    "                'payoff':            r\"Payoff: $max(S-K, 0)$\",\n",
    "                'price_lower_limit': r\"Lower limit: $max(S_t - K e^{-r \\tau}, 0)$\"\n",
    "            },\n",
    "            'put': {\n",
    "                'price_upper_limit': r\"Upper limit: $K e^{-r \\tau}$\",\n",
    "                'payoff':            r\"Payoff: $max(K-S, 0)$\",\n",
    "                'price_lower_limit': r\"Lower limit: $max(K e^{-r \\tau} - S_t, 0)$\"}\n",
    "        }\n",
    "                \n",
    "    def __repr__(self):\n",
    "        return r\"PlainVanillaOption('{}', S_t={:.1f}, K={:.1f}, t={}, T={}, tau={:.2f}y, r={:.1f}%, sigma={:.1f}%)\".\\\n",
    "                format(self.get_type(), self.get_S(), self.get_K(), self.get_t().strftime(\"%d-%m-%Y\"), \n",
    "                       self.get_T().strftime(\"%d-%m-%Y\"), self.get_tau(), self.get_r()*100, self.get_sigma()*100)\n",
    "    \n",
    "    # getters\n",
    "    def get_type(self):\n",
    "        return self.__type\n",
    "    \n",
    "    def get_S(self):\n",
    "        return self.__S\n",
    "    \n",
    "    def get_K(self):\n",
    "        return self.__K\n",
    "    \n",
    "    def get_t(self):\n",
    "        return self.__t\n",
    "\n",
    "    def get_T(self):\n",
    "        return self.__T\n",
    "\n",
    "    def get_tau(self):\n",
    "        return self.__tau\n",
    "    \n",
    "    def get_r(self):\n",
    "        return self.__r\n",
    "\n",
    "    def get_sigma(self):\n",
    "        return self.__sigma\n",
    "    \n",
    "    def get_docstring(self, label):\n",
    "        return self.__docstring_dict[self.get_type()][label]    \n",
    "    \n",
    "    # setters\n",
    "    def set_type(self, option_type):\n",
    "        self.__type = option_type\n",
    "        \n",
    "        # option type check\n",
    "        if option_type not in ['call', 'put']:\n",
    "            raise NotImplementedError(\"Option Type: '{}' does not exist!\".format(option_type))\n",
    "        \n",
    "    def set_S(self, S):\n",
    "        self.__S = S\n",
    "        \n",
    "    def set_K(self, K):\n",
    "        self.__K = K\n",
    "    \n",
    "    def set_t(self, t):\n",
    "        self.__t = dt.datetime.strptime(t, \"%d-%m-%Y\") if isinstance(t, str) else t\n",
    "        # update time to maturity, given changed t, to keep internal consistency\n",
    "        self.__update_tau() \n",
    "\n",
    "    def set_T(self, T):\n",
    "        self.__T = dt.datetime.strptime(T, \"%d-%m-%Y\") if isinstance(T, str) else T\n",
    "        # update time to maturity, given changed T, to keep internal consistency\n",
    "        self.__update_tau() \n",
    "    \n",
    "    def set_tau(self, tau):\n",
    "        self.__tau = tau\n",
    "        # update expiration date, given changed tau, to keep internal consistency\n",
    "        # we could have updated valuation date as well, but this is a stylistic choice\n",
    "        self.__update_T()\n",
    "\n",
    "    def set_r(self, r):\n",
    "        self.__r = r\n",
    "\n",
    "    def set_sigma(self, sigma):\n",
    "        self.__sigma = sigma\n",
    "        \n",
    "    # update methods (private)\n",
    "    def __update_tau(self):\n",
    "        self.__tau = self.__time_to_maturity()\n",
    "\n",
    "    def __update_T(self):\n",
    "        self.__T = self.__t + dt.timedelta(days=math.ceil(self.__tau*365))\n",
    "\n",
    "    # time to maturity calculation\n",
    "    def __time_to_maturity(self):\n",
    "        return (self.__T - self.__t).days / 365.0\n",
    "    \n",
    "    # payoff calculation\n",
    "    def payoff(self):\n",
    "        # call case\n",
    "        if self.get_type() == 'call':\n",
    "            return max(0.0, self.get_S() - self.get_K())\n",
    "        # put case\n",
    "        else:\n",
    "            return max(0.0, self.get_K() - self.get_S())\n",
    "\n",
    "    # upper price limit\n",
    "    def price_upper_limit(self):\n",
    "        # call case\n",
    "        if self.get_type() == 'call':\n",
    "            return self.get_S()\n",
    "        # put case\n",
    "        else:\n",
    "            return self.get_K()*np.exp(-self.get_r() * self.get_tau())\n",
    "\n",
    "    # lower price limit\n",
    "    def price_lower_limit(self):\n",
    "        # call case\n",
    "        if self.get_type() == 'call':\n",
    "            return max(self.get_S() - self.get_K()*np.exp(-self.get_r() * self.get_tau()), 0)\n",
    "        # put case\n",
    "        else:\n",
    "            return max(self.get_K()*np.exp(-self.get_r() * self.get_tau()) - self.get_S(), 0)\n",
    "            \n",
    "    # price calculation\n",
    "    def price(self):\n",
    "        # call case\n",
    "        if self.get_type() == 'call':\n",
    "            return self.__call_price()\n",
    "        # put case\n",
    "        else:\n",
    "            return self.__put_price()\n",
    "          \n",
    "    def __call_price(self):\n",
    "        \n",
    "        # some local variables retrieved to be used repeatedly\n",
    "        S = self.get_S()\n",
    "        tau = self.get_tau()\n",
    "        \n",
    "        if S == 0: # this is to avoid log(0) issues\n",
    "            return 0.0\n",
    "        elif tau == 0.0: # this is to avoid 0/0 issues\n",
    "            return self.payoff()\n",
    "        else:\n",
    "            K     = self.get_K()\n",
    "            r     = self.get_r()\n",
    "            sigma = self.get_sigma()\n",
    "\n",
    "            d1 = (np.log(S/K) + (r + 0.5 * sigma ** 2) * tau) / (sigma * np.sqrt(tau))\n",
    "            d2 = d1 - sigma * np.sqrt(tau)\n",
    "\n",
    "            price = S * stats.norm.cdf(d1, 0.0, 1.0) - K * np.exp(-r * tau) * stats.norm.cdf(d2, 0.0, 1.0)\n",
    "\n",
    "            return price\n",
    "    \n",
    "    def __put_price(self):\n",
    "        \"\"\" Put price from Put-Call parity relation: Call + Ke^{-r*tau} = Put + S\"\"\"\n",
    "        return self.__call_price() + self.get_K() * np.exp(- self.get_r() * self.get_tau()) - self.get_S()        "
   ]
  },
  {
   "cell_type": "markdown",
   "metadata": {},
   "source": [
    "Notice how we define the so-called public interface of the class making use of  public methods \n",
    "\n",
    "- `payoff()`,\n",
    "\n",
    "- `price_upper_limit()`,\n",
    "\n",
    "- `price_lower_limit()`,\n",
    "\n",
    "- `price()`\n",
    "\n",
    "\n",
    "which then call private methods like `__call_price()` and `__put_price()` (which uses the put-call parity) depending on the value of `type` String (through `get_type()` getter)."
   ]
  },
  {
   "cell_type": "markdown",
   "metadata": {},
   "source": [
    "Here is a call object"
   ]
  },
  {
   "cell_type": "code",
   "execution_count": 116,
   "metadata": {},
   "outputs": [
    {
     "data": {
      "text/plain": [
       "PlainVanillaOption('call', S_t=90.0, K=100.0, t=19-04-2020, T=31-12-2020, tau=0.70y, r=5.0%, sigma=20.0%)"
      ]
     },
     "execution_count": 116,
     "metadata": {},
     "output_type": "execute_result"
    }
   ],
   "source": [
    "call = PlainVanillaOption(option_type='call', S_t=90.0, K=100.0, t=\"19-04-2020\", T=\"31-12-2020\", r=0.05, sigma=0.2)\n",
    "call"
   ]
  },
  {
   "cell_type": "code",
   "execution_count": 117,
   "metadata": {},
   "outputs": [
    {
     "data": {
      "text/plain": [
       "__main__.PlainVanillaOption"
      ]
     },
     "execution_count": 117,
     "metadata": {},
     "output_type": "execute_result"
    }
   ],
   "source": [
    "type(call)"
   ]
  },
  {
   "cell_type": "code",
   "execution_count": 118,
   "metadata": {},
   "outputs": [
    {
     "data": {
      "text/plain": [
       "True"
      ]
     },
     "execution_count": 118,
     "metadata": {},
     "output_type": "execute_result"
    }
   ],
   "source": [
    "isinstance(call, PlainVanillaOption)"
   ]
  },
  {
   "cell_type": "code",
   "execution_count": 119,
   "metadata": {},
   "outputs": [
    {
     "data": {
      "text/plain": [
       "3.487402470943657"
      ]
     },
     "execution_count": 119,
     "metadata": {},
     "output_type": "execute_result"
    }
   ],
   "source": [
    "call.price()"
   ]
  },
  {
   "cell_type": "markdown",
   "metadata": {},
   "source": [
    "and here is a put option"
   ]
  },
  {
   "cell_type": "code",
   "execution_count": 120,
   "metadata": {},
   "outputs": [
    {
     "data": {
      "text/plain": [
       "PlainVanillaOption('put', S_t=90.0, K=100.0, t=19-04-2020, T=31-12-2020, tau=0.70y, r=5.0%, sigma=20.0%)"
      ]
     },
     "execution_count": 120,
     "metadata": {},
     "output_type": "execute_result"
    }
   ],
   "source": [
    "put = PlainVanillaOption(option_type='put', S_t=90.0, K=100.0, t=\"19-04-2020\", T=\"31-12-2020\", r=0.05, sigma=0.2)\n",
    "put"
   ]
  },
  {
   "cell_type": "code",
   "execution_count": 121,
   "metadata": {},
   "outputs": [
    {
     "data": {
      "text/plain": [
       "__main__.PlainVanillaOption"
      ]
     },
     "execution_count": 121,
     "metadata": {},
     "output_type": "execute_result"
    }
   ],
   "source": [
    "type(call)"
   ]
  },
  {
   "cell_type": "code",
   "execution_count": 122,
   "metadata": {},
   "outputs": [
    {
     "data": {
      "text/plain": [
       "True"
      ]
     },
     "execution_count": 122,
     "metadata": {},
     "output_type": "execute_result"
    }
   ],
   "source": [
    "isinstance(call, PlainVanillaOption)"
   ]
  },
  {
   "cell_type": "code",
   "execution_count": 123,
   "metadata": {},
   "outputs": [
    {
     "data": {
      "text/plain": [
       "10.041330587465126"
      ]
     },
     "execution_count": 123,
     "metadata": {},
     "output_type": "execute_result"
    }
   ],
   "source": [
    "put.price()"
   ]
  },
  {
   "cell_type": "code",
   "execution_count": 124,
   "metadata": {},
   "outputs": [
    {
     "data": {
      "text/plain": [
       "10.0"
      ]
     },
     "execution_count": 124,
     "metadata": {},
     "output_type": "execute_result"
    }
   ],
   "source": [
    "put.payoff()"
   ]
  },
  {
   "cell_type": "markdown",
   "metadata": {},
   "source": [
    "Notice how we accept only `'call'` or `'put'` values for the `type` discriminant String"
   ]
  },
  {
   "cell_type": "code",
   "execution_count": 125,
   "metadata": {},
   "outputs": [],
   "source": [
    "# Raises: NotImplementedError: Option Type: 'other' does not exist!\n",
    "#\n",
    "# PlainVanillaOption(option_type='other', S_t=90.0, K=100.0, t=\"19-04-2020\", T=\"31-12-2020\", r=0.05, sigma=0.2)"
   ]
  },
  {
   "cell_type": "code",
   "execution_count": 126,
   "metadata": {},
   "outputs": [],
   "source": [
    "def plot_multi_tau(option, S_list, tau_list):\n",
    "    \"\"\"\n",
    "    plot_multi_tau(option, S_list, tau_list) plot option prices for underlying and maturities in 'S_list' and 'tau_list',\n",
    "    respectively.\n",
    "\n",
    "    Parameters:\n",
    "        option (PlainVanillaOption): instance of PlainVanillaOption class;\n",
    "        S_list (List):               list of underlying values;\n",
    "        tau_list (List):             list of times to maturity (in years);\n",
    "        \n",
    "    Returns:\n",
    "        None;\n",
    "\n",
    "    \"\"\"\n",
    "\n",
    "    # color cycle setup: basically a cycle of different shades of blue as many time to maturity there are\n",
    "    plt.rcParams[\"axes.prop_cycle\"] = plt.cycler(\"color\", plt.cm.Blues(np.linspace(0,1,len(tau_list)+1)))\n",
    "\n",
    "    # define the figure\n",
    "    fig, ax = plt.subplots(figsize=(10,6))\n",
    "        \n",
    "    # auxiliary variables\n",
    "    numS = len(S_list)\n",
    "    numTau = len(tau_list)\n",
    "\n",
    "    # plot a dot to highlight the strike position\n",
    "    ax.plot(option.get_K(), 0, 'k.', ms=15, label=\"Strike $K$\")\n",
    "\n",
    "    # plot the price for different underlying values, one line for each different time to maturity tau\n",
    "    for i in np.arange(numTau)[::-1]: # loop over reversed range\n",
    "        \n",
    "        option.set_tau(tau_list[i]) # reset of time to maturity\n",
    "        price = np.zeros(numS)\n",
    "        \n",
    "        for j in np.arange(numS):\n",
    "            option.set_S(S_list[j]) # reset of underlying value\n",
    "            price[j] = option.price()\n",
    "        \n",
    "        ax.plot(S_list, price, '-', lw=1.5, label=r\"$\\tau={}$\".format(option.get_tau()))\n",
    "    \n",
    "    # plot the red payoff line for different underlying values\n",
    "    payoff = np.zeros(numS)\n",
    "    for i in np.arange(numS):\n",
    "        option.set_S(S_list[i]) # reset of underlying value\n",
    "        payoff[i] = option.payoff()\n",
    "\n",
    "    ax.plot(S_list, payoff, 'r-', lw=1.5, label=option.get_docstring('payoff'))\n",
    "\n",
    "    # set axis labels \n",
    "    ax.set_xlabel('Underlying $S_t$', fontsize=12) \n",
    "    ax.set_ylabel('Black-Scholes Price', fontsize=12) \n",
    "\n",
    "    # set title\n",
    "    ax.set_title(r\"Price of a {} Option $(S_t, K={}, \\tau=T-t, r={}\\%, \\sigma={}\\%)$ Vs $S$ (at different $\\tau$)\".\n",
    "                 format(option.get_type(), option.get_K(), option.get_r()*100, option.get_sigma()*100), fontsize=12) \n",
    "\n",
    "    # add the legend ('best' loc parameters places the legend in the best position automatically)\n",
    "    ax.legend(loc='best', ncol=1)\n",
    "        \n",
    "    # add a gride to ease visualization\n",
    "    plt.grid(True)\n",
    "\n",
    "    # show the plot\n",
    "    fig.tight_layout()\n",
    "    plt.show()"
   ]
  },
  {
   "cell_type": "code",
   "execution_count": 127,
   "metadata": {},
   "outputs": [
    {
     "data": {
      "text/plain": [
       "PlainVanillaOption('call', S_t=90.0, K=100.0, t=19-04-2020, T=31-12-2020, tau=0.70y, r=5.0%, sigma=20.0%)"
      ]
     },
     "execution_count": 127,
     "metadata": {},
     "output_type": "execute_result"
    }
   ],
   "source": [
    "call = PlainVanillaOption(option_type='call', S_t=90.0, K=100.0, t=\"19-04-2020\", T=\"31-12-2020\", r=0.05, sigma=0.2)\n",
    "call"
   ]
  },
  {
   "cell_type": "code",
   "execution_count": 128,
   "metadata": {
    "scrolled": false
   },
   "outputs": [
    {
     "data": {
      "image/png": "[encoded data removed]",
      "text/plain": [
       "<Figure size 720x432 with 1 Axes>"
      ]
     },
     "metadata": {
      "needs_background": "light"
     },
     "output_type": "display_data"
    }
   ],
   "source": [
    "plot_multi_tau(call, S_strip, tau_strip)"
   ]
  },
  {
   "cell_type": "code",
   "execution_count": 129,
   "metadata": {},
   "outputs": [
    {
     "data": {
      "text/plain": [
       "PlainVanillaOption('put', S_t=90.0, K=100.0, t=19-04-2020, T=31-12-2020, tau=0.70y, r=5.0%, sigma=20.0%)"
      ]
     },
     "execution_count": 129,
     "metadata": {},
     "output_type": "execute_result"
    }
   ],
   "source": [
    "put = PlainVanillaOption(option_type='put', S_t=90.0, K=100.0, t=\"19-04-2020\", T=\"31-12-2020\", r=0.05, sigma=0.2)\n",
    "put"
   ]
  },
  {
   "cell_type": "code",
   "execution_count": 130,
   "metadata": {
    "scrolled": false
   },
   "outputs": [
    {
     "data": {
      "image/png": "[encoded data removed]",
      "text/plain": [
       "<Figure size 720x432 with 1 Axes>"
      ]
     },
     "metadata": {
      "needs_background": "light"
     },
     "output_type": "display_data"
    }
   ],
   "source": [
    "plot_multi_tau(put, S_strip, tau_strip)"
   ]
  },
  {
   "cell_type": "markdown",
   "metadata": {},
   "source": [
    "## 4.1 _Focus on:_ effect of interest rates on options limits <a name=\"shortRateEffect\"></a> "
   ]
  },
  {
   "cell_type": "markdown",
   "metadata": {},
   "source": [
    "As there are limits for call option prices, independently from the valuation model used to price the option, there are non-arbitrage arguments leading to upper and lower limits for the european put options as well. At any time $t \\leq T$, the price $p_t$ of the put option satisfies:\n",
    "\n",
    "$$\n",
    "\\max(K e^{-r \\tau} - S_t, 0) \\leq p_t \\leq K e^{-r \\tau}\n",
    "$$\n",
    "\n",
    "See, for example, [John C. Hull _Options, Futures and Other Derivatives_ (10th ed)](https://www.pearson.com/us/higher-education/program/Hull-Options-Futures-and-Other-Derivatives-10th-Edition/PGM333301.html) chapter 11.3."
   ]
  },
  {
   "cell_type": "code",
   "execution_count": 131,
   "metadata": {},
   "outputs": [],
   "source": [
    "def plot_single_tau(option, S_list, tau):\n",
    "    \"\"\"\n",
    "    plot_single_tau(option, S_list, tau) plot option prices for underlying in 'S_list' and time to maturity 'tau'.\n",
    "\n",
    "    Parameters:\n",
    "        option (PlainVanillaOption): instance of PlainVanillaOption class;\n",
    "        S_list (List):               list of underlying values;\n",
    "        tau (float):                 time to maturity (in years);\n",
    "        \n",
    "    Returns:\n",
    "        None;\n",
    "\n",
    "    \"\"\"\n",
    "\n",
    "    # define the figure\n",
    "    fig, ax = plt.subplots(figsize=(10,6))\n",
    "    \n",
    "    # auxiliary variable\n",
    "    numS = len(S_list)\n",
    "\n",
    "    # plot a dot to highlight the strike position\n",
    "    ax.plot(option.get_K(), 0, 'k.', ms=15, label=\"Strike $K$\")\n",
    "\n",
    "    # plot the upper limit, the price and the lower limit for different underlying values\n",
    "    upper_limit = np.zeros(numS)\n",
    "    price       = np.zeros(numS)\n",
    "    lower_limit = np.zeros(numS)\n",
    "    payoff      = np.zeros(numS)\n",
    "\n",
    "    for i in np.arange(numS):\n",
    "        option.set_S(S_list[i]) # reset of underlying value\n",
    "        \n",
    "        upper_limit[i] = option.price_upper_limit()\n",
    "        price[i]       = option.price()\n",
    "        lower_limit[i] = option.price_lower_limit()\n",
    "        payoff[i]      = option.payoff()\n",
    "\n",
    "    ax.plot(S_list, upper_limit, 'k-.', lw=1.5, label=option.get_docstring('price_upper_limit'))\n",
    "    ax.plot(S_list, price,       'b-',  lw=1.5, label=r\"Price\")\n",
    "    ax.plot(S_list, lower_limit, 'k--', lw=1.5, label=option.get_docstring('price_lower_limit'))\n",
    "    ax.plot(S_list, payoff,      'r-',  lw=1.5, label=option.get_docstring('payoff'))\n",
    "\n",
    "    # set axis labels \n",
    "    ax.set_xlabel('Underlying $S_t$', fontsize=12) \n",
    "    ax.set_ylabel('Black-Scholes Price', fontsize=12) \n",
    "\n",
    "    # set title\n",
    "    ax.set_title(r\"Price of a {} Option $(S_t, K={}, \\tau=T-t={:.1f}y, r={}\\%, \\sigma={}\\%)$ Vs $S$ (with price limits)\".\n",
    "                 format(option.get_type(), option.get_K(), option.get_tau(), option.get_r()*100, option.get_sigma()*100), \n",
    "                 fontsize=12) \n",
    "\n",
    "    # add the legend ('best' loc parameters places the legend in the best position automatically)\n",
    "    ax.legend(loc='best', ncol=1)\n",
    "\n",
    "    # add a gride to ease visualization\n",
    "    plt.grid(True)\n",
    "\n",
    "    # show the plot\n",
    "    fig.tight_layout()\n",
    "    plt.show()"
   ]
  },
  {
   "cell_type": "code",
   "execution_count": 132,
   "metadata": {},
   "outputs": [],
   "source": [
    "call_focus = PlainVanillaOption(option_type='call', S_t=3.0, K=5.0, t=\"19-04-2020\", T=\"19-04-2022\", r=0.05, sigma=0.2)"
   ]
  },
  {
   "cell_type": "code",
   "execution_count": 133,
   "metadata": {
    "scrolled": false
   },
   "outputs": [
    {
     "data": {
      "image/png": "[encoded data removed]",
      "text/plain": [
       "<Figure size 720x432 with 1 Axes>"
      ]
     },
     "metadata": {
      "needs_background": "light"
     },
     "output_type": "display_data"
    }
   ],
   "source": [
    "plot_single_tau(call_focus, S_strip_focus, call_focus.get_tau())"
   ]
  },
  {
   "cell_type": "markdown",
   "metadata": {},
   "source": [
    "Here is a focus on the price limits of put options"
   ]
  },
  {
   "cell_type": "code",
   "execution_count": 134,
   "metadata": {},
   "outputs": [],
   "source": [
    "put_focus = PlainVanillaOption(option_type='put', S_t=3.0, K=5.0, t=\"19-04-2020\", T=\"19-04-2022\", r=0.05, sigma=0.2)"
   ]
  },
  {
   "cell_type": "code",
   "execution_count": 135,
   "metadata": {
    "scrolled": false
   },
   "outputs": [
    {
     "data": {
      "image/png": "[encoded data removed]",
      "text/plain": [
       "<Figure size 720x432 with 1 Axes>"
      ]
     },
     "metadata": {
      "needs_background": "light"
     },
     "output_type": "display_data"
    }
   ],
   "source": [
    "plot_single_tau(put_focus, S_strip_focus, put_focus.get_tau())"
   ]
  },
  {
   "cell_type": "markdown",
   "metadata": {},
   "source": [
    "Notice how the price of the put can become smaller than its own payoff. This cross is due to interest rates. In nowadays scenarios, rates are typically extremely low (when not negative). Let's see that the crossing disappears for $r=0$"
   ]
  },
  {
   "cell_type": "code",
   "execution_count": 136,
   "metadata": {},
   "outputs": [],
   "source": [
    "put_focus_zero_rates = PlainVanillaOption(option_type='put', S_t=3.0, K=5.0, t=\"19-04-2020\", T=\"19-04-2022\", r=0.0, sigma=0.2)"
   ]
  },
  {
   "cell_type": "code",
   "execution_count": 137,
   "metadata": {
    "scrolled": false
   },
   "outputs": [
    {
     "data": {
      "image/png": "[encoded data removed]",
      "text/plain": [
       "<Figure size 720x432 with 1 Axes>"
      ]
     },
     "metadata": {
      "needs_background": "light"
     },
     "output_type": "display_data"
    }
   ],
   "source": [
    "plot_single_tau(put_focus_zero_rates, S_strip_focus, put_focus_zero_rates.get_tau())"
   ]
  },
  {
   "cell_type": "markdown",
   "metadata": {},
   "source": [
    "And nothing prevents us to consider even negative rates, as is common nowdays. Let's use a unrealistic $r = -5\\%$ just to magnify the result graphically."
   ]
  },
  {
   "cell_type": "code",
   "execution_count": 138,
   "metadata": {},
   "outputs": [],
   "source": [
    "put_focus_negative_rates = PlainVanillaOption(option_type='put', S_t=3.0, K=5.0, t=\"19-04-2020\", T=\"19-04-2022\", r=-0.05, sigma=0.2)"
   ]
  },
  {
   "cell_type": "code",
   "execution_count": 139,
   "metadata": {
    "scrolled": false
   },
   "outputs": [
    {
     "data": {
      "image/png": "[encoded data removed]",
      "text/plain": [
       "<Figure size 720x432 with 1 Axes>"
      ]
     },
     "metadata": {
      "needs_background": "light"
     },
     "output_type": "display_data"
    }
   ],
   "source": [
    "plot_single_tau(put_focus_negative_rates, S_strip_focus, put_focus_negative_rates.get_tau())"
   ]
  }
 ],
 "metadata": {
  "kernelspec": {
   "display_name": "Python 3",
   "language": "python",
   "name": "python3"
  },
  "language_info": {
   "codemirror_mode": {
    "name": "ipython",
    "version": 3
   },
   "file_extension": ".py",
   "mimetype": "text/x-python",
   "name": "python",
   "nbconvert_exporter": "python",
   "pygments_lexer": "ipython3",
   "version": "3.7.4"
  }
 },
 "nbformat": 4,
 "nbformat_minor": 2
}
