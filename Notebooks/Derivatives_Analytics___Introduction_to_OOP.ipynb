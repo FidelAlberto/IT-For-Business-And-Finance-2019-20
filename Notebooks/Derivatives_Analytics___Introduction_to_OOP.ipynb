{
 "cells": [
  {
   "cell_type": "markdown",
   "metadata": {},
   "source": [
    "# Derivatives Analytics - Introduction to Object Oriented Programming"
   ]
  },
  {
   "cell_type": "markdown",
   "metadata": {},
   "source": [
    "**Author**: [Gabriele Pompa](https://www.linkedin.com/in/gabrielepompa/): gabriele.pompa@unisi.com"
   ]
  },
  {
   "cell_type": "markdown",
   "metadata": {},
   "source": [
    "# Table of contents\n",
    "\n",
    "[Executive Summary](#executive-summary)\n",
    "\n",
    "**TODO**"
   ]
  },
  {
   "cell_type": "markdown",
   "metadata": {},
   "source": [
    "### **Resources**: \n",
    "\n",
    "**TODO**"
   ]
  },
  {
   "cell_type": "markdown",
   "metadata": {},
   "source": [
    "# Executive Summary <a name=\"executive-summary\"></a>"
   ]
  },
  {
   "cell_type": "markdown",
   "metadata": {},
   "source": [
    "**Make intro**"
   ]
  },
  {
   "cell_type": "markdown",
   "metadata": {},
   "source": [
    "The following sections are organized as follows:\n",
    "\n",
    "- **TODO**"
   ]
  },
  {
   "cell_type": "markdown",
   "metadata": {},
   "source": [
    "These are the basic imports that we need to work with NumPy, Pandas and to plot data using Matplotlib functionalities"
   ]
  },
  {
   "cell_type": "code",
   "execution_count": 1,
   "metadata": {},
   "outputs": [],
   "source": [
    "# for NumPy arrays\n",
    "import numpy as np\n",
    "\n",
    "# for Pandas Series and DataFrame\n",
    "import pandas as pd\n",
    "\n",
    "# for statistical functions\n",
    "from scipy import stats\n",
    "\n",
    "# for Matplotlib plotting\n",
    "import matplotlib.pyplot as plt\n",
    "\n",
    "# to do inline plots in the Notebook\n",
    "%matplotlib inline\n",
    "\n",
    "# for Operating System operations\n",
    "import os"
   ]
  },
  {
   "cell_type": "markdown",
   "metadata": {},
   "source": [
    "# Introduction to dates management: `datetime` module <a name=\"introduction-to-dates\"></a>"
   ]
  },
  {
   "cell_type": "code",
   "execution_count": 2,
   "metadata": {},
   "outputs": [],
   "source": [
    "# for date management\n",
    "import datetime as dt"
   ]
  },
  {
   "cell_type": "code",
   "execution_count": 3,
   "metadata": {},
   "outputs": [
    {
     "data": {
      "text/plain": [
       "datetime.datetime(2020, 4, 18, 19, 40, 16, 973648)"
      ]
     },
     "execution_count": 3,
     "metadata": {},
     "output_type": "execute_result"
    }
   ],
   "source": [
    "today = dt.datetime.today()\n",
    "today"
   ]
  },
  {
   "cell_type": "code",
   "execution_count": 4,
   "metadata": {},
   "outputs": [
    {
     "data": {
      "text/plain": [
       "datetime.datetime"
      ]
     },
     "execution_count": 4,
     "metadata": {},
     "output_type": "execute_result"
    }
   ],
   "source": [
    "type(today)"
   ]
  },
  {
   "cell_type": "code",
   "execution_count": 5,
   "metadata": {},
   "outputs": [
    {
     "data": {
      "text/plain": [
       "datetime.datetime(1988, 6, 1, 0, 0)"
      ]
     },
     "execution_count": 5,
     "metadata": {},
     "output_type": "execute_result"
    }
   ],
   "source": [
    "my_birthday = dt.datetime(year=1988,month=6,day=1)\n",
    "my_birthday"
   ]
  },
  {
   "cell_type": "code",
   "execution_count": 6,
   "metadata": {},
   "outputs": [
    {
     "data": {
      "text/plain": [
       "datetime.datetime"
      ]
     },
     "execution_count": 6,
     "metadata": {},
     "output_type": "execute_result"
    }
   ],
   "source": [
    "type(my_birthday)"
   ]
  },
  {
   "cell_type": "code",
   "execution_count": 7,
   "metadata": {},
   "outputs": [
    {
     "data": {
      "text/plain": [
       "datetime.timedelta(days=11644, seconds=70816, microseconds=973648)"
      ]
     },
     "execution_count": 7,
     "metadata": {},
     "output_type": "execute_result"
    }
   ],
   "source": [
    "time_to_date = today - my_birthday\n",
    "time_to_date"
   ]
  },
  {
   "cell_type": "code",
   "execution_count": 8,
   "metadata": {},
   "outputs": [
    {
     "data": {
      "text/plain": [
       "datetime.timedelta"
      ]
     },
     "execution_count": 8,
     "metadata": {},
     "output_type": "execute_result"
    }
   ],
   "source": [
    "type(time_to_date)"
   ]
  },
  {
   "cell_type": "code",
   "execution_count": 9,
   "metadata": {},
   "outputs": [
    {
     "data": {
      "text/plain": [
       "11644"
      ]
     },
     "execution_count": 9,
     "metadata": {},
     "output_type": "execute_result"
    }
   ],
   "source": [
    "time_to_date.days"
   ]
  },
  {
   "cell_type": "code",
   "execution_count": 10,
   "metadata": {},
   "outputs": [
    {
     "data": {
      "text/plain": [
       "31.9013698630137"
      ]
     },
     "execution_count": 10,
     "metadata": {},
     "output_type": "execute_result"
    }
   ],
   "source": [
    "time_to_date.days/365"
   ]
  },
  {
   "cell_type": "code",
   "execution_count": 11,
   "metadata": {},
   "outputs": [
    {
     "data": {
      "text/plain": [
       "'18-04-2020'"
      ]
     },
     "execution_count": 11,
     "metadata": {},
     "output_type": "execute_result"
    }
   ],
   "source": [
    "date_string = \"18-04-2020\"\n",
    "date_string"
   ]
  },
  {
   "cell_type": "code",
   "execution_count": 12,
   "metadata": {},
   "outputs": [
    {
     "data": {
      "text/plain": [
       "str"
      ]
     },
     "execution_count": 12,
     "metadata": {},
     "output_type": "execute_result"
    }
   ],
   "source": [
    "type(date_string)"
   ]
  },
  {
   "cell_type": "code",
   "execution_count": 13,
   "metadata": {},
   "outputs": [
    {
     "data": {
      "text/plain": [
       "True"
      ]
     },
     "execution_count": 13,
     "metadata": {},
     "output_type": "execute_result"
    }
   ],
   "source": [
    "isinstance(date_string, str)"
   ]
  },
  {
   "cell_type": "code",
   "execution_count": 14,
   "metadata": {},
   "outputs": [
    {
     "data": {
      "text/plain": [
       "datetime.datetime(2020, 4, 18, 0, 0)"
      ]
     },
     "execution_count": 14,
     "metadata": {},
     "output_type": "execute_result"
    }
   ],
   "source": [
    "date = dt.datetime.strptime(date_string, \"%d-%m-%Y\")\n",
    "date"
   ]
  },
  {
   "cell_type": "code",
   "execution_count": 15,
   "metadata": {},
   "outputs": [
    {
     "data": {
      "text/plain": [
       "datetime.datetime"
      ]
     },
     "execution_count": 15,
     "metadata": {},
     "output_type": "execute_result"
    }
   ],
   "source": [
    "type(date)"
   ]
  },
  {
   "cell_type": "code",
   "execution_count": 16,
   "metadata": {},
   "outputs": [
    {
     "data": {
      "text/plain": [
       "True"
      ]
     },
     "execution_count": 16,
     "metadata": {},
     "output_type": "execute_result"
    }
   ],
   "source": [
    "isinstance(date, dt.datetime)"
   ]
  },
  {
   "cell_type": "code",
   "execution_count": 17,
   "metadata": {},
   "outputs": [
    {
     "data": {
      "text/plain": [
       "'18-04-2020'"
      ]
     },
     "execution_count": 17,
     "metadata": {},
     "output_type": "execute_result"
    }
   ],
   "source": [
    "date_string_from_dt = date.strftime(\"%d-%m-%Y\")\n",
    "date_string_from_dt"
   ]
  },
  {
   "cell_type": "code",
   "execution_count": 18,
   "metadata": {},
   "outputs": [
    {
     "data": {
      "text/plain": [
       "str"
      ]
     },
     "execution_count": 18,
     "metadata": {},
     "output_type": "execute_result"
    }
   ],
   "source": [
    "type(date_string_from_dt)"
   ]
  },
  {
   "cell_type": "code",
   "execution_count": 19,
   "metadata": {},
   "outputs": [
    {
     "data": {
      "text/plain": [
       "True"
      ]
     },
     "execution_count": 19,
     "metadata": {},
     "output_type": "execute_result"
    }
   ],
   "source": [
    "isinstance(date_string_from_dt, str)"
   ]
  },
  {
   "cell_type": "markdown",
   "metadata": {},
   "source": [
    "## Non-financial Introduction to OOP <a name=\"non-financial-introduction-to-oop\"></a>"
   ]
  },
  {
   "cell_type": "markdown",
   "metadata": {},
   "source": [
    "### Without OOP: a person <a name=\"nonoopperson\"></a> "
   ]
  },
  {
   "cell_type": "code",
   "execution_count": 20,
   "metadata": {},
   "outputs": [],
   "source": [
    "def say_your_name(name, surname):\n",
    "    print(\"My name is {} {}\".format(name, surname))"
   ]
  },
  {
   "cell_type": "code",
   "execution_count": 21,
   "metadata": {},
   "outputs": [],
   "source": [
    "my_name = \"Gabriele\"\n",
    "my_surname = \"Pompa\""
   ]
  },
  {
   "cell_type": "code",
   "execution_count": 22,
   "metadata": {},
   "outputs": [
    {
     "name": "stdout",
     "output_type": "stream",
     "text": [
      "My name is Gabriele Pompa\n"
     ]
    }
   ],
   "source": [
    "say_your_name(name=my_name, surname=my_surname)"
   ]
  },
  {
   "cell_type": "code",
   "execution_count": 23,
   "metadata": {},
   "outputs": [],
   "source": [
    "def say_country_of_birth(country):\n",
    "    print(\"My country of birth is {}\".format(country))"
   ]
  },
  {
   "cell_type": "code",
   "execution_count": 24,
   "metadata": {},
   "outputs": [],
   "source": [
    "my_country = \"Italy\""
   ]
  },
  {
   "cell_type": "code",
   "execution_count": 25,
   "metadata": {},
   "outputs": [
    {
     "name": "stdout",
     "output_type": "stream",
     "text": [
      "My country of birth is Italy\n"
     ]
    }
   ],
   "source": [
    "say_country_of_birth(my_country)"
   ]
  },
  {
   "cell_type": "code",
   "execution_count": 26,
   "metadata": {},
   "outputs": [],
   "source": [
    "def compute_age(birthdate):\n",
    "    \n",
    "    today = dt.datetime.today()  \n",
    "    birthdate = dt.datetime.strptime(birthdate, \"%d-%m-%Y\") if isinstance(birthdate, str) else birthdate\n",
    "    \n",
    "    next_birthday = dt.datetime(year=today.year, month=birthdate.month, day=birthdate.day)\n",
    "    \n",
    "    if today >= next_birthday:\n",
    "        age = today.year - birthdate.year\n",
    "    else:\n",
    "        age = today.year - birthdate.year - 1\n",
    "        \n",
    "    return age"
   ]
  },
  {
   "cell_type": "code",
   "execution_count": 27,
   "metadata": {},
   "outputs": [
    {
     "data": {
      "text/plain": [
       "'01-06-1988'"
      ]
     },
     "execution_count": 27,
     "metadata": {},
     "output_type": "execute_result"
    }
   ],
   "source": [
    "my_birthdate = \"01-06-1988\"\n",
    "my_birthdate"
   ]
  },
  {
   "cell_type": "code",
   "execution_count": 28,
   "metadata": {},
   "outputs": [
    {
     "data": {
      "text/plain": [
       "31"
      ]
     },
     "execution_count": 28,
     "metadata": {},
     "output_type": "execute_result"
    }
   ],
   "source": [
    "my_age = compute_age(birthdate=my_birthdate)\n",
    "my_age"
   ]
  },
  {
   "cell_type": "code",
   "execution_count": 29,
   "metadata": {},
   "outputs": [],
   "source": [
    "def time_to_birthday(birthdate):\n",
    "    \n",
    "    today = dt.datetime.today()\n",
    "    birthdate = dt.datetime.strptime(birthdate, \"%d-%m-%Y\") if isinstance(birthdate, str) else birthdate\n",
    "    \n",
    "    next_birthday = dt.datetime(year=today.year, month=birthdate.month, day=birthdate.day)\n",
    "    \n",
    "    return (next_birthday - today).days"
   ]
  },
  {
   "cell_type": "code",
   "execution_count": 30,
   "metadata": {},
   "outputs": [
    {
     "data": {
      "text/plain": [
       "43"
      ]
     },
     "execution_count": 30,
     "metadata": {},
     "output_type": "execute_result"
    }
   ],
   "source": [
    "days_to_birthday = time_to_birthday(my_birthdate)\n",
    "days_to_birthday"
   ]
  },
  {
   "cell_type": "markdown",
   "metadata": {},
   "source": [
    "### With OOP: the `Person` class <a name=\"oopperson\"></a> "
   ]
  },
  {
   "cell_type": "code",
   "execution_count": 31,
   "metadata": {},
   "outputs": [],
   "source": [
    "class Person(object):\n",
    "    \"\"\"\n",
    "    Person class implementing some typical features of a person.\n",
    "    \n",
    "    Attributes:\n",
    "    -----------\n",
    "        name (str):                   name string;\n",
    "        surname (str):                surname string;\n",
    "        country (str):                country of birth;\n",
    "        birthdate (str; dt.datetime): date of birth. Can be either a \"dd-mm-YYYY\" String or a pd.datetime() object\n",
    "        age (int):                    age, as computed by compute_age() method.\n",
    "    \n",
    "    Methods:\n",
    "    --------\n",
    "        say_your_name: (returns) None\n",
    "            Prints name and surname.\n",
    "            \n",
    "        say_country_of_birth: None\n",
    "            Prints country of birth.\n",
    "            \n",
    "        compute_age: int\n",
    "            Computes the age, sets self.age attribute and returns it.\n",
    "            \n",
    "        time_to_birthday: int\n",
    "            Computes the number of days left untill next birthdat and return the number.\n",
    "    \n",
    "    \"\"\"\n",
    "    \n",
    "    def __init__(self, p_name, p_surname, p_country, p_birthdate):\n",
    "        self.name      = p_name\n",
    "        self.surname   = p_surname\n",
    "        self.country   = p_country\n",
    "        self.birthdate = dt.datetime.strptime(p_birthdate, \"%d-%m-%Y\") if isinstance(p_birthdate, str) else p_birthdate\n",
    "        self.age       = None\n",
    "    \n",
    "    def say_your_name(self):\n",
    "        print(\"My name is {} {}\".format(self.name, self.surname))\n",
    "        \n",
    "    def say_country_of_birth(self):\n",
    "        print(\"My country of birth is {}\".format(self.country))\n",
    "        \n",
    "    def compute_age(self):\n",
    "    \n",
    "        today = dt.datetime.today()  \n",
    "\n",
    "        next_birthday = dt.datetime(year=today.year, month=self.birthdate.month, day=self.birthdate.day)\n",
    "\n",
    "        if today >= next_birthday:\n",
    "            self.age = today.year - self.birthdate.year\n",
    "        else:\n",
    "            self.age = today.year - self.birthdate.year - 1\n",
    "\n",
    "        return self.age \n",
    "    \n",
    "    def time_to_birthday(self):\n",
    "\n",
    "        today = dt.datetime.today()\n",
    "\n",
    "        next_birthday = dt.datetime(year=today.year, month=self.birthdate.month, day=self.birthdate.day)\n",
    "\n",
    "        return (next_birthday - today).days"
   ]
  },
  {
   "cell_type": "code",
   "execution_count": 32,
   "metadata": {},
   "outputs": [],
   "source": [
    "gab = Person(p_name = \"Gabriele\", \n",
    "             p_surname = \"Pompa\", \n",
    "             p_country = \"Italy\", \n",
    "             p_birthdate = \"01-06-1988\")"
   ]
  },
  {
   "cell_type": "code",
   "execution_count": 33,
   "metadata": {},
   "outputs": [
    {
     "data": {
      "text/plain": [
       "__main__.Person"
      ]
     },
     "execution_count": 33,
     "metadata": {},
     "output_type": "execute_result"
    }
   ],
   "source": [
    "type(gab)"
   ]
  },
  {
   "cell_type": "code",
   "execution_count": 34,
   "metadata": {},
   "outputs": [
    {
     "data": {
      "text/plain": [
       "'Gabriele'"
      ]
     },
     "execution_count": 34,
     "metadata": {},
     "output_type": "execute_result"
    }
   ],
   "source": [
    "gab.name"
   ]
  },
  {
   "cell_type": "code",
   "execution_count": 35,
   "metadata": {},
   "outputs": [
    {
     "data": {
      "text/plain": [
       "'Pompa'"
      ]
     },
     "execution_count": 35,
     "metadata": {},
     "output_type": "execute_result"
    }
   ],
   "source": [
    "gab.surname"
   ]
  },
  {
   "cell_type": "code",
   "execution_count": 36,
   "metadata": {},
   "outputs": [
    {
     "name": "stdout",
     "output_type": "stream",
     "text": [
      "My name is Gabriele Pompa\n"
     ]
    }
   ],
   "source": [
    "gab.say_your_name()"
   ]
  },
  {
   "cell_type": "code",
   "execution_count": 37,
   "metadata": {},
   "outputs": [
    {
     "data": {
      "text/plain": [
       "'Italy'"
      ]
     },
     "execution_count": 37,
     "metadata": {},
     "output_type": "execute_result"
    }
   ],
   "source": [
    "gab.country"
   ]
  },
  {
   "cell_type": "code",
   "execution_count": 38,
   "metadata": {},
   "outputs": [
    {
     "name": "stdout",
     "output_type": "stream",
     "text": [
      "My country of birth is Italy\n"
     ]
    }
   ],
   "source": [
    "gab.say_country_of_birth()"
   ]
  },
  {
   "cell_type": "code",
   "execution_count": 39,
   "metadata": {},
   "outputs": [
    {
     "data": {
      "text/plain": [
       "datetime.datetime(1988, 6, 1, 0, 0)"
      ]
     },
     "execution_count": 39,
     "metadata": {},
     "output_type": "execute_result"
    }
   ],
   "source": [
    "gab.birthdate"
   ]
  },
  {
   "cell_type": "code",
   "execution_count": 40,
   "metadata": {},
   "outputs": [
    {
     "data": {
      "text/plain": [
       "'01-06-1988'"
      ]
     },
     "execution_count": 40,
     "metadata": {},
     "output_type": "execute_result"
    }
   ],
   "source": [
    "gab.birthdate.strftime(\"%d-%m-%Y\")"
   ]
  },
  {
   "cell_type": "code",
   "execution_count": 41,
   "metadata": {},
   "outputs": [
    {
     "data": {
      "text/plain": [
       "True"
      ]
     },
     "execution_count": 41,
     "metadata": {},
     "output_type": "execute_result"
    }
   ],
   "source": [
    "gab.age is None"
   ]
  },
  {
   "cell_type": "code",
   "execution_count": 42,
   "metadata": {},
   "outputs": [
    {
     "data": {
      "text/plain": [
       "31"
      ]
     },
     "execution_count": 42,
     "metadata": {},
     "output_type": "execute_result"
    }
   ],
   "source": [
    "gab.compute_age()"
   ]
  },
  {
   "cell_type": "code",
   "execution_count": 43,
   "metadata": {},
   "outputs": [
    {
     "data": {
      "text/plain": [
       "31"
      ]
     },
     "execution_count": 43,
     "metadata": {},
     "output_type": "execute_result"
    }
   ],
   "source": [
    "gab.age"
   ]
  },
  {
   "cell_type": "code",
   "execution_count": 44,
   "metadata": {},
   "outputs": [
    {
     "data": {
      "text/plain": [
       "43"
      ]
     },
     "execution_count": 44,
     "metadata": {},
     "output_type": "execute_result"
    }
   ],
   "source": [
    "gab.time_to_birthday()"
   ]
  },
  {
   "cell_type": "code",
   "execution_count": 45,
   "metadata": {},
   "outputs": [],
   "source": [
    "bill = Person(p_name = \"Bill\", \n",
    "              p_surname = \"Gates\", \n",
    "              p_country = \"USA\", \n",
    "              p_birthdate = \"28-10-1955\")"
   ]
  },
  {
   "cell_type": "code",
   "execution_count": 46,
   "metadata": {},
   "outputs": [
    {
     "data": {
      "text/plain": [
       "__main__.Person"
      ]
     },
     "execution_count": 46,
     "metadata": {},
     "output_type": "execute_result"
    }
   ],
   "source": [
    "type(bill)"
   ]
  },
  {
   "cell_type": "code",
   "execution_count": 47,
   "metadata": {},
   "outputs": [
    {
     "name": "stdout",
     "output_type": "stream",
     "text": [
      "My name is Bill Gates\n"
     ]
    }
   ],
   "source": [
    "bill.say_your_name()"
   ]
  },
  {
   "cell_type": "markdown",
   "metadata": {},
   "source": [
    "## Introduction to OOP: Black-Scholes option pricer <a name=\"BS-option-pricer\"></a>"
   ]
  },
  {
   "cell_type": "markdown",
   "metadata": {},
   "source": [
    "### Without OOP: a call priced using Black-Scholes model <a name=\"nonoopperson\"></a> "
   ]
  },
  {
   "cell_type": "code",
   "execution_count": 48,
   "metadata": {},
   "outputs": [],
   "source": [
    "def call_option_payoff(S,K):\n",
    "    \"\"\"\n",
    "    call_option_payoff(S,K) computes returns the payoff of a call option given the spot price of the underlying asset \n",
    "    and strike price 'K'.\n",
    "    \n",
    "    Parameters:\n",
    "        S (float): spot price of the underlying asset;\n",
    "        K (float): strike price;\n",
    "    \n",
    "    Returns:\n",
    "        payoff (float): call option payoff;\n",
    "    \"\"\"\n",
    "    return max(0.0, S - K)\n"
   ]
  },
  {
   "cell_type": "code",
   "execution_count": 49,
   "metadata": {},
   "outputs": [],
   "source": [
    "def call_option_price(S, K, T, r, q, sigma):\n",
    "    \"\"\"\n",
    "    call_option_price(S, K, T, r, q, sigma) computes and returns the exact price of a call option \n",
    "    of time to maturity 'T' and strike price 'K' given the spot price of the underlying asset 'S', \n",
    "    the continuosly compounded short-rate 'r', continuosly compounded dividend yield 'q' and volatility of the \n",
    "    underlying asset 'sigma'.\n",
    "\n",
    "    Parameters:\n",
    "        S (float):     spot price of the underlying asset;\n",
    "        K (float):     strike price;\n",
    "        T (float):     time to maturity (in years);\n",
    "        r (float):     continuously compounded short-rate;\n",
    "        q (float):     continuously compounded dividend yield;\n",
    "        sigma (float): volatility of underlying asset;\n",
    "        \n",
    "    Returns:\n",
    "        price (float): call price;\n",
    "\n",
    "    \"\"\"\n",
    "    \n",
    "    d1 = (np.log(S / K) + (r - q + 0.5 * sigma ** 2) * T) / (sigma * np.sqrt(T))\n",
    "    d2 = (np.log(S / K) + (r - q - 0.5 * sigma ** 2) * T) / (sigma * np.sqrt(T))\n",
    "    \n",
    "    price = (S * np.exp(-q * T) * stats.norm.cdf(d1, 0.0, 1.0) - K * np.exp(-r * T) * stats.norm.cdf(d2, 0.0, 1.0))\n",
    "\n",
    "    return price"
   ]
  },
  {
   "cell_type": "code",
   "execution_count": 54,
   "metadata": {},
   "outputs": [],
   "source": [
    "S_0              = 100.0\n",
    "ttm_strip        = np.array([0.05, 0.1, 0.25, 0.5, 0.75, 1.0])\n",
    "k_strip          = np.sort(np.concatenate((np.linspace(80, 120, 100), np.array([S_0]))))\n",
    "short_rate       = 0.05\n",
    "dividend_yield   = 0.02\n",
    "volatility       = 0.2"
   ]
  },
  {
   "cell_type": "code",
   "execution_count": 55,
   "metadata": {
    "scrolled": false
   },
   "outputs": [
    {
     "data": {
      "text/html": [
       "<div>\n",
       "<style scoped>\n",
       "    .dataframe tbody tr th:only-of-type {\n",
       "        vertical-align: middle;\n",
       "    }\n",
       "\n",
       "    .dataframe tbody tr th {\n",
       "        vertical-align: top;\n",
       "    }\n",
       "\n",
       "    .dataframe thead th {\n",
       "        text-align: right;\n",
       "    }\n",
       "</style>\n",
       "<table border=\"1\" class=\"dataframe\">\n",
       "  <thead>\n",
       "    <tr style=\"text-align: right;\">\n",
       "      <th></th>\n",
       "      <th>80.000000</th>\n",
       "      <th>80.404040</th>\n",
       "      <th>80.808081</th>\n",
       "      <th>81.212121</th>\n",
       "      <th>81.616162</th>\n",
       "      <th>82.020202</th>\n",
       "      <th>82.424242</th>\n",
       "      <th>82.828283</th>\n",
       "      <th>83.232323</th>\n",
       "      <th>83.636364</th>\n",
       "      <th>...</th>\n",
       "      <th>116.363636</th>\n",
       "      <th>116.767677</th>\n",
       "      <th>117.171717</th>\n",
       "      <th>117.575758</th>\n",
       "      <th>117.979798</th>\n",
       "      <th>118.383838</th>\n",
       "      <th>118.787879</th>\n",
       "      <th>119.191919</th>\n",
       "      <th>119.595960</th>\n",
       "      <th>120.000000</th>\n",
       "    </tr>\n",
       "  </thead>\n",
       "  <tbody>\n",
       "    <tr>\n",
       "      <td>0.00</td>\n",
       "      <td>20.00</td>\n",
       "      <td>19.60</td>\n",
       "      <td>19.19</td>\n",
       "      <td>18.79</td>\n",
       "      <td>18.38</td>\n",
       "      <td>17.98</td>\n",
       "      <td>17.58</td>\n",
       "      <td>17.17</td>\n",
       "      <td>16.77</td>\n",
       "      <td>16.36</td>\n",
       "      <td>...</td>\n",
       "      <td>0.00</td>\n",
       "      <td>0.00</td>\n",
       "      <td>0.00</td>\n",
       "      <td>0.00</td>\n",
       "      <td>0.00</td>\n",
       "      <td>0.00</td>\n",
       "      <td>0.00</td>\n",
       "      <td>0.00</td>\n",
       "      <td>0.00</td>\n",
       "      <td>0.00</td>\n",
       "    </tr>\n",
       "    <tr>\n",
       "      <td>0.05</td>\n",
       "      <td>20.10</td>\n",
       "      <td>19.70</td>\n",
       "      <td>19.29</td>\n",
       "      <td>18.89</td>\n",
       "      <td>18.49</td>\n",
       "      <td>18.08</td>\n",
       "      <td>17.68</td>\n",
       "      <td>17.28</td>\n",
       "      <td>16.88</td>\n",
       "      <td>16.47</td>\n",
       "      <td>...</td>\n",
       "      <td>0.00</td>\n",
       "      <td>0.00</td>\n",
       "      <td>0.00</td>\n",
       "      <td>0.00</td>\n",
       "      <td>0.00</td>\n",
       "      <td>0.00</td>\n",
       "      <td>0.00</td>\n",
       "      <td>0.00</td>\n",
       "      <td>0.00</td>\n",
       "      <td>0.00</td>\n",
       "    </tr>\n",
       "    <tr>\n",
       "      <td>0.10</td>\n",
       "      <td>20.20</td>\n",
       "      <td>19.80</td>\n",
       "      <td>19.40</td>\n",
       "      <td>18.99</td>\n",
       "      <td>18.59</td>\n",
       "      <td>18.19</td>\n",
       "      <td>17.79</td>\n",
       "      <td>17.39</td>\n",
       "      <td>16.99</td>\n",
       "      <td>16.58</td>\n",
       "      <td>...</td>\n",
       "      <td>0.02</td>\n",
       "      <td>0.02</td>\n",
       "      <td>0.02</td>\n",
       "      <td>0.01</td>\n",
       "      <td>0.01</td>\n",
       "      <td>0.01</td>\n",
       "      <td>0.01</td>\n",
       "      <td>0.01</td>\n",
       "      <td>0.01</td>\n",
       "      <td>0.00</td>\n",
       "    </tr>\n",
       "    <tr>\n",
       "      <td>0.25</td>\n",
       "      <td>20.53</td>\n",
       "      <td>20.13</td>\n",
       "      <td>19.74</td>\n",
       "      <td>19.35</td>\n",
       "      <td>18.96</td>\n",
       "      <td>18.57</td>\n",
       "      <td>18.18</td>\n",
       "      <td>17.79</td>\n",
       "      <td>17.40</td>\n",
       "      <td>17.01</td>\n",
       "      <td>...</td>\n",
       "      <td>0.36</td>\n",
       "      <td>0.33</td>\n",
       "      <td>0.31</td>\n",
       "      <td>0.28</td>\n",
       "      <td>0.26</td>\n",
       "      <td>0.24</td>\n",
       "      <td>0.22</td>\n",
       "      <td>0.21</td>\n",
       "      <td>0.19</td>\n",
       "      <td>0.18</td>\n",
       "    </tr>\n",
       "    <tr>\n",
       "      <td>0.50</td>\n",
       "      <td>21.22</td>\n",
       "      <td>20.84</td>\n",
       "      <td>20.47</td>\n",
       "      <td>20.10</td>\n",
       "      <td>19.74</td>\n",
       "      <td>19.37</td>\n",
       "      <td>19.01</td>\n",
       "      <td>18.65</td>\n",
       "      <td>18.29</td>\n",
       "      <td>17.93</td>\n",
       "      <td>...</td>\n",
       "      <td>1.33</td>\n",
       "      <td>1.27</td>\n",
       "      <td>1.22</td>\n",
       "      <td>1.16</td>\n",
       "      <td>1.11</td>\n",
       "      <td>1.06</td>\n",
       "      <td>1.01</td>\n",
       "      <td>0.97</td>\n",
       "      <td>0.92</td>\n",
       "      <td>0.88</td>\n",
       "    </tr>\n",
       "    <tr>\n",
       "      <td>0.75</td>\n",
       "      <td>21.99</td>\n",
       "      <td>21.63</td>\n",
       "      <td>21.28</td>\n",
       "      <td>20.93</td>\n",
       "      <td>20.59</td>\n",
       "      <td>20.24</td>\n",
       "      <td>19.90</td>\n",
       "      <td>19.56</td>\n",
       "      <td>19.22</td>\n",
       "      <td>18.89</td>\n",
       "      <td>...</td>\n",
       "      <td>2.40</td>\n",
       "      <td>2.32</td>\n",
       "      <td>2.25</td>\n",
       "      <td>2.18</td>\n",
       "      <td>2.10</td>\n",
       "      <td>2.03</td>\n",
       "      <td>1.97</td>\n",
       "      <td>1.90</td>\n",
       "      <td>1.84</td>\n",
       "      <td>1.78</td>\n",
       "    </tr>\n",
       "    <tr>\n",
       "      <td>1.00</td>\n",
       "      <td>22.76</td>\n",
       "      <td>22.43</td>\n",
       "      <td>22.09</td>\n",
       "      <td>21.76</td>\n",
       "      <td>21.43</td>\n",
       "      <td>21.10</td>\n",
       "      <td>20.78</td>\n",
       "      <td>20.45</td>\n",
       "      <td>20.13</td>\n",
       "      <td>19.81</td>\n",
       "      <td>...</td>\n",
       "      <td>3.46</td>\n",
       "      <td>3.37</td>\n",
       "      <td>3.28</td>\n",
       "      <td>3.19</td>\n",
       "      <td>3.11</td>\n",
       "      <td>3.03</td>\n",
       "      <td>2.94</td>\n",
       "      <td>2.86</td>\n",
       "      <td>2.79</td>\n",
       "      <td>2.71</td>\n",
       "    </tr>\n",
       "  </tbody>\n",
       "</table>\n",
       "<p>7 rows × 101 columns</p>\n",
       "</div>"
      ],
      "text/plain": [
       "      80.000000   80.404040   80.808081   81.212121   81.616162   82.020202   \\\n",
       "0.00       20.00       19.60       19.19       18.79       18.38       17.98   \n",
       "0.05       20.10       19.70       19.29       18.89       18.49       18.08   \n",
       "0.10       20.20       19.80       19.40       18.99       18.59       18.19   \n",
       "0.25       20.53       20.13       19.74       19.35       18.96       18.57   \n",
       "0.50       21.22       20.84       20.47       20.10       19.74       19.37   \n",
       "0.75       21.99       21.63       21.28       20.93       20.59       20.24   \n",
       "1.00       22.76       22.43       22.09       21.76       21.43       21.10   \n",
       "\n",
       "      82.424242   82.828283   83.232323   83.636364   ...  116.363636  \\\n",
       "0.00       17.58       17.17       16.77       16.36  ...        0.00   \n",
       "0.05       17.68       17.28       16.88       16.47  ...        0.00   \n",
       "0.10       17.79       17.39       16.99       16.58  ...        0.02   \n",
       "0.25       18.18       17.79       17.40       17.01  ...        0.36   \n",
       "0.50       19.01       18.65       18.29       17.93  ...        1.33   \n",
       "0.75       19.90       19.56       19.22       18.89  ...        2.40   \n",
       "1.00       20.78       20.45       20.13       19.81  ...        3.46   \n",
       "\n",
       "      116.767677  117.171717  117.575758  117.979798  118.383838  118.787879  \\\n",
       "0.00        0.00        0.00        0.00        0.00        0.00        0.00   \n",
       "0.05        0.00        0.00        0.00        0.00        0.00        0.00   \n",
       "0.10        0.02        0.02        0.01        0.01        0.01        0.01   \n",
       "0.25        0.33        0.31        0.28        0.26        0.24        0.22   \n",
       "0.50        1.27        1.22        1.16        1.11        1.06        1.01   \n",
       "0.75        2.32        2.25        2.18        2.10        2.03        1.97   \n",
       "1.00        3.37        3.28        3.19        3.11        3.03        2.94   \n",
       "\n",
       "      119.191919  119.595960  120.000000  \n",
       "0.00        0.00        0.00        0.00  \n",
       "0.05        0.00        0.00        0.00  \n",
       "0.10        0.01        0.01        0.00  \n",
       "0.25        0.21        0.19        0.18  \n",
       "0.50        0.97        0.92        0.88  \n",
       "0.75        1.90        1.84        1.78  \n",
       "1.00        2.86        2.79        2.71  \n",
       "\n",
       "[7 rows x 101 columns]"
      ]
     },
     "execution_count": 55,
     "metadata": {},
     "output_type": "execute_result"
    }
   ],
   "source": [
    "bs_price_surface = pd.DataFrame(data={k: [call_option_price(S_0, k, ttm, short_rate, dividend_yield, volatility) \n",
    "                                          for ttm in ttm_strip] for k in k_strip},\n",
    "                                index = ttm_strip)\n",
    "\n",
    "bs_price_surface.loc[0, :] = [call_option_payoff(S_0, float(k)) for k in k_strip]\n",
    "\n",
    "bs_price_surface.sort_index(inplace=True)\n",
    "bs_price_surface.round(2)"
   ]
  },
  {
   "cell_type": "code",
   "execution_count": 56,
   "metadata": {},
   "outputs": [],
   "source": [
    "plt.rcParams[\"axes.prop_cycle\"] = plt.cycler(\"color\", plt.cm.Blues_r(np.linspace(0,1,len(ttm_strip)+1)))"
   ]
  },
  {
   "cell_type": "code",
   "execution_count": 58,
   "metadata": {},
   "outputs": [
    {
     "data": {
      "image/png": "[encoded data removed]",
      "text/plain": [
       "<Figure size 720x432 with 1 Axes>"
      ]
     },
     "metadata": {
      "needs_background": "light"
     },
     "output_type": "display_data"
    }
   ],
   "source": [
    "fig, ax = plt.subplots(figsize=(10,6))\n",
    "\n",
    "\n",
    "ax.plot(k_strip, bs_price_surface.loc[0, :], 'r-', lw=1.5, label=\"$max(S_T-K)$\")\n",
    "\n",
    "for ttm in ttm_strip:\n",
    "    ax.plot(k_strip, bs_price_surface.loc[ttm, :], '-', lw=1.5, label=\"$BScall(K, T={})$\".format(ttm))\n",
    "\n",
    "ax.set_xlabel('Strike $K$', fontsize=12) \n",
    "ax.set_ylabel('Price', fontsize=12) \n",
    "\n",
    "ax.set_title(\"Call option price ($S_0={}, r={}, q={}, \\sigma={})$\".format(S_0, short_rate, dividend_yield, volatility), \n",
    "             fontsize=12) \n",
    "\n",
    "# Here we add the legend\n",
    "ax.legend(loc='upper right', ncol=1)\n",
    "\n",
    "plt.grid(True)\n",
    "fig.tight_layout()\n",
    "plt.show()"
   ]
  },
  {
   "cell_type": "markdown",
   "metadata": {},
   "source": [
    "### With OOP: the `BSCall` class <a name=\"bscall\"></a> "
   ]
  }
 ],
 "metadata": {
  "kernelspec": {
   "display_name": "Python 3",
   "language": "python",
   "name": "python3"
  },
  "language_info": {
   "codemirror_mode": {
    "name": "ipython",
    "version": 3
   },
   "file_extension": ".py",
   "mimetype": "text/x-python",
   "name": "python",
   "nbconvert_exporter": "python",
   "pygments_lexer": "ipython3",
   "version": "3.7.4"
  }
 },
 "nbformat": 4,
 "nbformat_minor": 2
}
