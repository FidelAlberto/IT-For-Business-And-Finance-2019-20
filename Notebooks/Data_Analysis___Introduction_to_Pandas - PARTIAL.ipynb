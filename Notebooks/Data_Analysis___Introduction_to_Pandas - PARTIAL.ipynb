{
 "cells": [
  {
   "cell_type": "markdown",
   "metadata": {},
   "source": [
    "# Data Analysis - Introduction to Pandas"
   ]
  },
  {
   "cell_type": "markdown",
   "metadata": {},
   "source": [
    "**Author**: [Gabriele Pompa](https://www.linkedin.com/in/gabrielepompa/): gabriele.pompa@unisi.com"
   ]
  },
  {
   "cell_type": "markdown",
   "metadata": {},
   "source": [
    "# Table of contents\n",
    "\n",
    "[Executive Summary](#summary)\n",
    "1. [Series](#series)\\\n",
    "    1.1. [Creation: `pd.Series()` ](#s_creation)\\\n",
    "&nbsp; &nbsp; &nbsp; &nbsp; 1.1.1. [Time indexes: `pd.date_range()`  ](#s_time_index)\\\n",
    "    1.2. [Basic plotting: `.plot()` and `.plot.bar()`  ](#s_plot)\\\n",
    "    1.3. [Indexing and Slicing ](#s_selection)\\\n",
    "&nbsp; &nbsp; &nbsp; &nbsp; [1.3.1. Conditional Selection: filtering rows with Comparison and Logical operators ](#s_conditional_selection)\\\n",
    "    1.4. [Basic Analytics ](#s_analytics)\\\n",
    "&nbsp; &nbsp; &nbsp; &nbsp; 1.4.1. [_Vectorized_ operations ](#s_basic_operations)\\\n",
    "&nbsp; &nbsp; &nbsp; &nbsp; 1.4.2. [Built-in methods ](#s_builtin_methods)\\\n",
    "&nbsp; &nbsp; &nbsp; &nbsp; 1.4.3. [Interoperability with NumPy's universal functions ](#s_ufunc)\\\n",
    "    1.5. [Data Alignment ](#s_data_alignment)\\\n",
    "    1.6. [_Excursus:_ Returns time-series  ](#s_ret)\\\n",
    "&nbsp; &nbsp; &nbsp; &nbsp; 1.6.1. [Step-by-step computation  ](#s_ret_stepbystep)\\\n",
    "&nbsp; &nbsp; &nbsp; &nbsp; 1.6.2. [Direct computation using `.shift()`  ](#s_ret_shift)\n"
   ]
  },
  {
   "cell_type": "markdown",
   "metadata": {},
   "source": [
    "### **Resources**: \n",
    "\n",
    "- [_Python for Finance (2nd ed.)_](http://shop.oreilly.com/product/0636920117728.do): Sec. 5.The DataFrame Class, 5.Basic Analytics, 5.Basic Visualization, 5.The Series Class, 5.Complex Selection, 5.Concatenation, Joining, and Merging, 5.Performance Aspects.\n",
    "\n",
    "\n",
    "- _[Pandas - Intro to data structures](https://pandas.pydata.org/docs/getting_started/dsintro.html#intro-to-data-structures)_ ([Series](https://pandas.pydata.org/docs/getting_started/dsintro.html#series); [DataFrame](https://pandas.pydata.org/docs/getting_started/dsintro.html#dataframe)). From _[Pandas - Getting started tutorials](https://pandas.pydata.org/docs/getting_started/intro_tutorials/index.html):_ \n",
    "    - [What kind of data does pandas handle?](https://pandas.pydata.org/docs/getting_started/intro_tutorials/01_table_oriented.html), \n",
    "    - _[How do I select a subset of a `DataFrame`?](https://pandas.pydata.org/docs/getting_started/intro_tutorials/03_subset_data.html),_ \n",
    "    - _[How to create plots in pandas?](https://pandas.pydata.org/docs/getting_started/intro_tutorials/04_plotting.html),_ _[How to create new columns derived from existing columns](https://pandas.pydata.org/docs/getting_started/intro_tutorials/05_add_columns.html),_ \n",
    "    - _[How to calculate summary statistics?](https://pandas.pydata.org/docs/getting_started/intro_tutorials/06_calculate_statistics.html),_ \n",
    "    - _[How to combine data from multiple tables?](https://pandas.pydata.org/docs/getting_started/intro_tutorials/08_combine_dataframes.html)_"
   ]
  },
  {
   "cell_type": "markdown",
   "metadata": {},
   "source": [
    "# Executive Summary <a name=\"summary\"></a>"
   ]
  },
  {
   "cell_type": "markdown",
   "metadata": {},
   "source": [
    "**TODO**"
   ]
  },
  {
   "cell_type": "code",
   "execution_count": 1,
   "metadata": {},
   "outputs": [],
   "source": [
    "# for NumPy arrays\n",
    "import numpy as np\n",
    "\n",
    "# for Pandas Series and DataFrame\n",
    "import pandas as pd\n",
    "\n",
    "# for Matplotlib plotting\n",
    "import matplotlib.pyplot as plt\n",
    "%matplotlib inline"
   ]
  },
  {
   "cell_type": "markdown",
   "metadata": {},
   "source": [
    "# 1. Series <a name=\"series\"></a>"
   ]
  },
  {
   "cell_type": "markdown",
   "metadata": {},
   "source": [
    "A [Pandas Series](https://pandas.pydata.org/docs/getting_started/dsintro.html#series) is a one-dimensional labeled array capable of holding any data type (integers, strings, floating point numbers, Python objects, etc.). "
   ]
  },
  {
   "cell_type": "markdown",
   "metadata": {},
   "source": [
    "We can see it as a 1-dim NumPy array with an enhanced indexing. "
   ]
  },
  {
   "cell_type": "markdown",
   "metadata": {},
   "source": [
    "## 1.1. Creation: `pd.Series()` <a name=\"s_creation\"></a>"
   ]
  },
  {
   "cell_type": "markdown",
   "metadata": {},
   "source": [
    "Series can be created using the constructor:\n",
    "\n",
    "`\n",
    "pd.Series(data[, index, name])\n",
    "`\n",
    "\n",
    "where:\n",
    "- `data`: is the data content of the series. It can be a Python dict, a NumPy 1-dim array or a scalar value (like 17).\n",
    "- `index`: is the index of the series. It can be an array-like structure (e.g. a list) of the length of `data`. If not provided, default is `[0,1,...,len(data)-1]`.\n",
    "- `name`: an optional `str` representing the name of the series."
   ]
  },
  {
   "cell_type": "markdown",
   "metadata": {},
   "source": [
    "Here we consider the creation of a Pandas series from a NumPy array. We refer to [Intro to data structures - Series](https://pandas.pydata.org/docs/getting_started/dsintro.html#series) for other creational paradigms and full details."
   ]
  },
  {
   "cell_type": "markdown",
   "metadata": {},
   "source": [
    "So, let's define a simple vector"
   ]
  },
  {
   "cell_type": "code",
   "execution_count": 2,
   "metadata": {},
   "outputs": [
    {
     "data": {
      "text/plain": [
       "array([0. , 0.1, 0.2, 0.3, 0.4, 0.5, 0.6, 0.7, 0.8, 0.9, 1. ])"
      ]
     },
     "execution_count": 2,
     "metadata": {},
     "output_type": "execute_result"
    }
   ],
   "source": [
    "arr = np.linspace(0.0, 1.0, 11)\n",
    "arr"
   ]
  },
  {
   "cell_type": "markdown",
   "metadata": {},
   "source": [
    "we pass the vector `arr` as the `data` parameter of `pd.Series()`"
   ]
  },
  {
   "cell_type": "code",
   "execution_count": 3,
   "metadata": {},
   "outputs": [
    {
     "data": {
      "text/plain": [
       "0     0.0\n",
       "1     0.1\n",
       "2     0.2\n",
       "3     0.3\n",
       "4     0.4\n",
       "5     0.5\n",
       "6     0.6\n",
       "7     0.7\n",
       "8     0.8\n",
       "9     0.9\n",
       "10    1.0\n",
       "dtype: float64"
      ]
     },
     "execution_count": 3,
     "metadata": {},
     "output_type": "execute_result"
    }
   ],
   "source": [
    "s = pd.Series(data=arr)\n",
    "s"
   ]
  },
  {
   "cell_type": "markdown",
   "metadata": {},
   "source": [
    "The function `pd.Series()` returns a Pandas series object. Each element `0.0, 0.1, ..., 1.0` is linked to its corresponding index. Notice that the `index` which is generated by default (since we didn't provide one explicitly) is `0, 1,..., 10 = len(arr)-1`."
   ]
  },
  {
   "cell_type": "code",
   "execution_count": 4,
   "metadata": {},
   "outputs": [
    {
     "data": {
      "text/plain": [
       "pandas.core.series.Series"
      ]
     },
     "execution_count": 4,
     "metadata": {},
     "output_type": "execute_result"
    }
   ],
   "source": [
    "type(s)"
   ]
  },
  {
   "cell_type": "markdown",
   "metadata": {},
   "source": [
    "Notice that the explicit assignment `data=arr` is optional and equivalent to `pd.Series(arr)`."
   ]
  },
  {
   "cell_type": "markdown",
   "metadata": {},
   "source": [
    "Similarly to NumPy arrays, Pandas series also have meta-informative attributes. Let's have a look at some of them."
   ]
  },
  {
   "cell_type": "markdown",
   "metadata": {},
   "source": [
    "Similarly to NumPy arrays, the number of elements is given by"
   ]
  },
  {
   "cell_type": "code",
   "execution_count": 5,
   "metadata": {},
   "outputs": [
    {
     "data": {
      "text/plain": [
       "11"
      ]
     },
     "execution_count": 5,
     "metadata": {},
     "output_type": "execute_result"
    }
   ],
   "source": [
    "s.size"
   ]
  },
  {
   "cell_type": "markdown",
   "metadata": {},
   "source": [
    "the data-type of the `data` stored"
   ]
  },
  {
   "cell_type": "code",
   "execution_count": 6,
   "metadata": {},
   "outputs": [
    {
     "data": {
      "text/plain": [
       "dtype('float64')"
      ]
     },
     "execution_count": 6,
     "metadata": {},
     "output_type": "execute_result"
    }
   ],
   "source": [
    "s.dtype"
   ]
  },
  {
   "cell_type": "markdown",
   "metadata": {},
   "source": [
    "and, differently from arrays, you can directly access the index sequence:"
   ]
  },
  {
   "cell_type": "code",
   "execution_count": 7,
   "metadata": {},
   "outputs": [
    {
     "data": {
      "text/plain": [
       "RangeIndex(start=0, stop=11, step=1)"
      ]
     },
     "execution_count": 7,
     "metadata": {},
     "output_type": "execute_result"
    }
   ],
   "source": [
    "s.index"
   ]
  },
  {
   "cell_type": "markdown",
   "metadata": {},
   "source": [
    "`RangeIndex` is the kind of `[0,1,...,len(data)-1]` index which Pandas creates by default when you don't input one explicitly."
   ]
  },
  {
   "cell_type": "markdown",
   "metadata": {},
   "source": [
    "You can give a name to the series, which is stored in the `.name` attribute of the series"
   ]
  },
  {
   "cell_type": "code",
   "execution_count": 8,
   "metadata": {
    "scrolled": true
   },
   "outputs": [
    {
     "data": {
      "text/plain": [
       "0     0.0\n",
       "1     0.1\n",
       "2     0.2\n",
       "3     0.3\n",
       "4     0.4\n",
       "5     0.5\n",
       "6     0.6\n",
       "7     0.7\n",
       "8     0.8\n",
       "9     0.9\n",
       "10    1.0\n",
       "Name: Dummy Series, dtype: float64"
      ]
     },
     "execution_count": 8,
     "metadata": {},
     "output_type": "execute_result"
    }
   ],
   "source": [
    "s.name = \"Dummy Series\"\n",
    "s"
   ]
  },
  {
   "cell_type": "markdown",
   "metadata": {},
   "source": [
    "If you want just the values (without the indexing) - that is, the original NumPy `arr` in our case - these can be accessed through the `.values` attribute"
   ]
  },
  {
   "cell_type": "code",
   "execution_count": 9,
   "metadata": {},
   "outputs": [
    {
     "data": {
      "text/plain": [
       "array([0. , 0.1, 0.2, 0.3, 0.4, 0.5, 0.6, 0.7, 0.8, 0.9, 1. ])"
      ]
     },
     "execution_count": 9,
     "metadata": {},
     "output_type": "execute_result"
    }
   ],
   "source": [
    "s.values"
   ]
  },
  {
   "cell_type": "markdown",
   "metadata": {},
   "source": [
    "### 1.1.1. Time indexes: `pd.date_range()`  <a name=\"s_time_index\"></a>"
   ]
  },
  {
   "cell_type": "markdown",
   "metadata": {},
   "source": [
    "Pandas series are the usual way to represent financial (and non-financial) time-series, which are sequences of values (prices, returns, spreads,...) indexed by a time index (calendar days, business days, etc.). "
   ]
  },
  {
   "cell_type": "markdown",
   "metadata": {},
   "source": [
    "Pandas has a built-in constructor for time-indexes, which is `pd.date_range()`, which can be passed as the `index` parameter to `pd.Series()`."
   ]
  },
  {
   "cell_type": "markdown",
   "metadata": {},
   "source": [
    "Here we create a range of business days (denoted by the _frequency_ `freq='B'`) starting from Jan 1st 2020. The range lasts a number of `periods` equal to the size of the number of data that we need to index (`arr.size`)"
   ]
  },
  {
   "cell_type": "code",
   "execution_count": 10,
   "metadata": {},
   "outputs": [
    {
     "data": {
      "text/plain": [
       "DatetimeIndex(['2020-01-01', '2020-01-02', '2020-01-03', '2020-01-06',\n",
       "               '2020-01-07', '2020-01-08', '2020-01-09', '2020-01-10',\n",
       "               '2020-01-13', '2020-01-14', '2020-01-15'],\n",
       "              dtype='datetime64[ns]', freq='B')"
      ]
     },
     "execution_count": 10,
     "metadata": {},
     "output_type": "execute_result"
    }
   ],
   "source": [
    "dates = pd.date_range('2020-01-01', periods=arr.size, freq='B') \n",
    "dates"
   ]
  },
  {
   "cell_type": "markdown",
   "metadata": {},
   "source": [
    "The kind of time-index that is returned is called a `DatetimeIndex`. As said, we can use the defined index in the series definition"
   ]
  },
  {
   "cell_type": "code",
   "execution_count": 11,
   "metadata": {},
   "outputs": [
    {
     "data": {
      "text/plain": [
       "2020-01-01    0.0\n",
       "2020-01-02    0.1\n",
       "2020-01-03    0.2\n",
       "2020-01-06    0.3\n",
       "2020-01-07    0.4\n",
       "2020-01-08    0.5\n",
       "2020-01-09    0.6\n",
       "2020-01-10    0.7\n",
       "2020-01-13    0.8\n",
       "2020-01-14    0.9\n",
       "2020-01-15    1.0\n",
       "Freq: B, Name: Dummy Series, dtype: float64"
      ]
     },
     "execution_count": 11,
     "metadata": {},
     "output_type": "execute_result"
    }
   ],
   "source": [
    "s = pd.Series(data=arr, index=dates, name=\"Dummy Series\")\n",
    "s"
   ]
  },
  {
   "cell_type": "markdown",
   "metadata": {},
   "source": [
    "as seen before, the index is stored as the `.index` attribute of the series"
   ]
  },
  {
   "cell_type": "code",
   "execution_count": 12,
   "metadata": {},
   "outputs": [
    {
     "data": {
      "text/plain": [
       "DatetimeIndex(['2020-01-01', '2020-01-02', '2020-01-03', '2020-01-06',\n",
       "               '2020-01-07', '2020-01-08', '2020-01-09', '2020-01-10',\n",
       "               '2020-01-13', '2020-01-14', '2020-01-15'],\n",
       "              dtype='datetime64[ns]', freq='B')"
      ]
     },
     "execution_count": 12,
     "metadata": {},
     "output_type": "execute_result"
    }
   ],
   "source": [
    "s.index"
   ]
  },
  {
   "cell_type": "markdown",
   "metadata": {},
   "source": [
    "## 1.2. Basic plotting: `.plot()` and `.plot.bar()`  <a name=\"s_plot\"></a>"
   ]
  },
  {
   "cell_type": "markdown",
   "metadata": {},
   "source": [
    "Plotting Series is as easy as it could be"
   ]
  },
  {
   "cell_type": "code",
   "execution_count": 13,
   "metadata": {},
   "outputs": [
    {
     "data": {
      "text/plain": [
       "2020-01-01    0.0\n",
       "2020-01-02    0.1\n",
       "2020-01-03    0.2\n",
       "2020-01-06    0.3\n",
       "2020-01-07    0.4\n",
       "2020-01-08    0.5\n",
       "2020-01-09    0.6\n",
       "2020-01-10    0.7\n",
       "2020-01-13    0.8\n",
       "2020-01-14    0.9\n",
       "2020-01-15    1.0\n",
       "Freq: B, Name: Dummy Series, dtype: float64"
      ]
     },
     "execution_count": 13,
     "metadata": {},
     "output_type": "execute_result"
    }
   ],
   "source": [
    "s"
   ]
  },
  {
   "cell_type": "code",
   "execution_count": 14,
   "metadata": {},
   "outputs": [
    {
     "data": {
      "text/plain": [
       "<matplotlib.axes._subplots.AxesSubplot at 0x1d6b8efca08>"
      ]
     },
     "execution_count": 14,
     "metadata": {},
     "output_type": "execute_result"
    },
    {
     "data": {
      "image/png": "[encoded data removed]",
      "text/plain": [
       "<Figure size 432x288 with 1 Axes>"
      ]
     },
     "metadata": {
      "needs_background": "light"
     },
     "output_type": "display_data"
    }
   ],
   "source": [
    "s.plot()"
   ]
  },
  {
   "cell_type": "markdown",
   "metadata": {},
   "source": [
    "Besides the standard `.plot()`, there are tons of different plotting styles which can be called directly as a suffix of `.plot`. For example, a simple bar-plot of the series `s` can be drawn as"
   ]
  },
  {
   "cell_type": "code",
   "execution_count": 15,
   "metadata": {},
   "outputs": [
    {
     "data": {
      "text/plain": [
       "<matplotlib.axes._subplots.AxesSubplot at 0x1d6b92d0988>"
      ]
     },
     "execution_count": 15,
     "metadata": {},
     "output_type": "execute_result"
    },
    {
     "data": {
      "image/png": "[encoded data removed]",
      "text/plain": [
       "<Figure size 432x288 with 1 Axes>"
      ]
     },
     "metadata": {
      "needs_background": "light"
     },
     "output_type": "display_data"
    }
   ],
   "source": [
    "s.plot.bar()"
   ]
  },
  {
   "cell_type": "markdown",
   "metadata": {},
   "source": [
    "## 1.3. Indexing and Slicing <a name=\"s_selection\"></a>"
   ]
  },
  {
   "cell_type": "markdown",
   "metadata": {},
   "source": [
    "A Series `s` can be indexed by the square brackets `s[]`. You can refer to elements or slices of the series according to two ways of indexing:\n",
    "\n",
    "&nbsp;  | Indexing | Slicing\n",
    ":--- | :---: | :---:\n",
    "like a NumPy array  | `s[i]` | `s[i:j:k]`  |\n",
    "like a Python dict  | `s[indexLabel]` | `s[indexLabelStart:indexLabelEnd:k]`  |"
   ]
  },
  {
   "cell_type": "code",
   "execution_count": 16,
   "metadata": {},
   "outputs": [
    {
     "data": {
      "text/plain": [
       "2020-01-01    0.0\n",
       "2020-01-02    0.1\n",
       "2020-01-03    0.2\n",
       "2020-01-06    0.3\n",
       "2020-01-07    0.4\n",
       "2020-01-08    0.5\n",
       "2020-01-09    0.6\n",
       "2020-01-10    0.7\n",
       "2020-01-13    0.8\n",
       "2020-01-14    0.9\n",
       "2020-01-15    1.0\n",
       "Freq: B, Name: Dummy Series, dtype: float64"
      ]
     },
     "execution_count": 16,
     "metadata": {},
     "output_type": "execute_result"
    }
   ],
   "source": [
    "s"
   ]
  },
  {
   "cell_type": "markdown",
   "metadata": {},
   "source": [
    "You can rever to the second element as "
   ]
  },
  {
   "cell_type": "code",
   "execution_count": 17,
   "metadata": {},
   "outputs": [
    {
     "data": {
      "text/plain": [
       "0.1"
      ]
     },
     "execution_count": 17,
     "metadata": {},
     "output_type": "execute_result"
    }
   ],
   "source": [
    "s[1]"
   ]
  },
  {
   "cell_type": "markdown",
   "metadata": {},
   "source": [
    "A single value is returned."
   ]
  },
  {
   "cell_type": "markdown",
   "metadata": {},
   "source": [
    "You can then slice the series as "
   ]
  },
  {
   "cell_type": "code",
   "execution_count": 18,
   "metadata": {},
   "outputs": [
    {
     "data": {
      "text/plain": [
       "2020-01-10    0.7\n",
       "2020-01-13    0.8\n",
       "2020-01-14    0.9\n",
       "2020-01-15    1.0\n",
       "Freq: B, Name: Dummy Series, dtype: float64"
      ]
     },
     "execution_count": 18,
     "metadata": {},
     "output_type": "execute_result"
    }
   ],
   "source": [
    "s[7:]"
   ]
  },
  {
   "cell_type": "markdown",
   "metadata": {},
   "source": [
    "and a `pd.Series` is returned. Notice that the index gets sliced too."
   ]
  },
  {
   "cell_type": "markdown",
   "metadata": {},
   "source": [
    "An example with the step parameter"
   ]
  },
  {
   "cell_type": "code",
   "execution_count": 19,
   "metadata": {},
   "outputs": [
    {
     "data": {
      "text/plain": [
       "2020-01-10    0.7\n",
       "2020-01-14    0.9\n",
       "Freq: 2B, Name: Dummy Series, dtype: float64"
      ]
     },
     "execution_count": 19,
     "metadata": {},
     "output_type": "execute_result"
    }
   ],
   "source": [
    "s[7::2] # from index 7 to the end, each two elements"
   ]
  },
  {
   "cell_type": "markdown",
   "metadata": {},
   "source": [
    "Notice here, how the `Freq` description gets changed from 'B' (business-day) to '2B' (each two bd)."
   ]
  },
  {
   "cell_type": "markdown",
   "metadata": {},
   "source": [
    "Alternatively, you can slice `s` using the Strings that represent the labels `indexLabel` of the indexes. That is, as if the series was a dict and the index labels the  keys"
   ]
  },
  {
   "cell_type": "code",
   "execution_count": 20,
   "metadata": {},
   "outputs": [
    {
     "data": {
      "text/plain": [
       "0.5"
      ]
     },
     "execution_count": 20,
     "metadata": {},
     "output_type": "execute_result"
    }
   ],
   "source": [
    "s['2020-01-08']"
   ]
  },
  {
   "cell_type": "markdown",
   "metadata": {},
   "source": [
    "and you can slice too using the index labels"
   ]
  },
  {
   "cell_type": "code",
   "execution_count": 21,
   "metadata": {},
   "outputs": [
    {
     "data": {
      "text/plain": [
       "2020-01-08    0.5\n",
       "2020-01-09    0.6\n",
       "2020-01-10    0.7\n",
       "2020-01-13    0.8\n",
       "Freq: B, Name: Dummy Series, dtype: float64"
      ]
     },
     "execution_count": 21,
     "metadata": {},
     "output_type": "execute_result"
    }
   ],
   "source": [
    "s['2020-01-08':'2020-01-13']"
   ]
  },
  {
   "cell_type": "markdown",
   "metadata": {},
   "source": [
    "You can use the step parameter in the label-way of indexing too (notice the '2B' frequency as before)"
   ]
  },
  {
   "cell_type": "code",
   "execution_count": 22,
   "metadata": {},
   "outputs": [
    {
     "data": {
      "text/plain": [
       "2020-01-08    0.5\n",
       "2020-01-10    0.7\n",
       "Freq: 2B, Name: Dummy Series, dtype: float64"
      ]
     },
     "execution_count": 22,
     "metadata": {},
     "output_type": "execute_result"
    }
   ],
   "source": [
    "s['2020-01-08':'2020-01-13':2]"
   ]
  },
  {
   "cell_type": "markdown",
   "metadata": {},
   "source": [
    "Similarly to Python dicts, you can check whether an index is among the series indexes simply"
   ]
  },
  {
   "cell_type": "code",
   "execution_count": 23,
   "metadata": {},
   "outputs": [
    {
     "data": {
      "text/plain": [
       "False"
      ]
     },
     "execution_count": 23,
     "metadata": {},
     "output_type": "execute_result"
    }
   ],
   "source": [
    "'2020-01-12' in s"
   ]
  },
  {
   "cell_type": "markdown",
   "metadata": {},
   "source": [
    "as one would expect a `KeyError` is raised if you try to select an element of the series using a label which is not an index"
   ]
  },
  {
   "cell_type": "code",
   "execution_count": 24,
   "metadata": {},
   "outputs": [],
   "source": [
    "# KeyError raised if you ask for a label that is not contained\n",
    "# s['2020-01-12']"
   ]
  },
  {
   "cell_type": "markdown",
   "metadata": {},
   "source": [
    "whereas if you use a label which is not an index in to slice the series - but that still is time-range of the `DatetimeIndex` index - well Pandas is smart enough to return you the relevant slice of the series anyway."
   ]
  },
  {
   "cell_type": "markdown",
   "metadata": {},
   "source": [
    "That is, this"
   ]
  },
  {
   "cell_type": "code",
   "execution_count": 25,
   "metadata": {},
   "outputs": [
    {
     "data": {
      "text/plain": [
       "2020-01-13    0.8\n",
       "2020-01-14    0.9\n",
       "2020-01-15    1.0\n",
       "Freq: B, Name: Dummy Series, dtype: float64"
      ]
     },
     "execution_count": 25,
     "metadata": {},
     "output_type": "execute_result"
    }
   ],
   "source": [
    "s['2020-01-12':]"
   ]
  },
  {
   "cell_type": "markdown",
   "metadata": {},
   "source": [
    "is equivalent to this"
   ]
  },
  {
   "cell_type": "code",
   "execution_count": 26,
   "metadata": {},
   "outputs": [
    {
     "data": {
      "text/plain": [
       "2020-01-13    0.8\n",
       "2020-01-14    0.9\n",
       "2020-01-15    1.0\n",
       "Freq: B, Name: Dummy Series, dtype: float64"
      ]
     },
     "execution_count": 26,
     "metadata": {},
     "output_type": "execute_result"
    }
   ],
   "source": [
    "s['2020-01-13':]"
   ]
  },
  {
   "cell_type": "markdown",
   "metadata": {},
   "source": [
    "### 1.3.1. Conditional Selection: filtering rows with Comparison and Logical operators <a name=\"s_conditional_selection\"></a>"
   ]
  },
  {
   "cell_type": "markdown",
   "metadata": {},
   "source": [
    "Comparison (`<`, `<=`, `>`, `>=`, `==`) and logical operators (`&` for logical _and,_ `|` for logical _or,_ `!` for logical _not_ ) work on whole series at once. For example:"
   ]
  },
  {
   "cell_type": "code",
   "execution_count": 27,
   "metadata": {},
   "outputs": [
    {
     "data": {
      "text/plain": [
       "2020-01-01    0.0\n",
       "2020-01-02    0.1\n",
       "2020-01-03    0.2\n",
       "2020-01-06    0.3\n",
       "2020-01-07    0.4\n",
       "2020-01-08    0.5\n",
       "2020-01-09    0.6\n",
       "2020-01-10    0.7\n",
       "2020-01-13    0.8\n",
       "2020-01-14    0.9\n",
       "2020-01-15    1.0\n",
       "Freq: B, Name: Dummy Series, dtype: float64"
      ]
     },
     "execution_count": 27,
     "metadata": {},
     "output_type": "execute_result"
    }
   ],
   "source": [
    "s"
   ]
  },
  {
   "cell_type": "markdown",
   "metadata": {},
   "source": [
    "we can select the elements greater than a given threshold (0.5)"
   ]
  },
  {
   "cell_type": "code",
   "execution_count": 28,
   "metadata": {},
   "outputs": [
    {
     "data": {
      "text/plain": [
       "2020-01-01    False\n",
       "2020-01-02    False\n",
       "2020-01-03    False\n",
       "2020-01-06    False\n",
       "2020-01-07    False\n",
       "2020-01-08    False\n",
       "2020-01-09     True\n",
       "2020-01-10     True\n",
       "2020-01-13     True\n",
       "2020-01-14     True\n",
       "2020-01-15     True\n",
       "Freq: B, Name: Dummy Series, dtype: bool"
      ]
     },
     "execution_count": 28,
     "metadata": {},
     "output_type": "execute_result"
    }
   ],
   "source": [
    "s > 0.5"
   ]
  },
  {
   "cell_type": "markdown",
   "metadata": {},
   "source": [
    "which returns the same series with original values substituted by boolean values, which can be used for index purposes:"
   ]
  },
  {
   "cell_type": "code",
   "execution_count": 29,
   "metadata": {},
   "outputs": [
    {
     "data": {
      "text/plain": [
       "2020-01-09    0.6\n",
       "2020-01-10    0.7\n",
       "2020-01-13    0.8\n",
       "2020-01-14    0.9\n",
       "2020-01-15    1.0\n",
       "Freq: B, Name: Dummy Series, dtype: float64"
      ]
     },
     "execution_count": 29,
     "metadata": {},
     "output_type": "execute_result"
    }
   ],
   "source": [
    "s[s > 0.5]"
   ]
  },
  {
   "cell_type": "markdown",
   "metadata": {},
   "source": [
    "Of course you can have also more complex conditional selections selections: let's ask for the slice of the series which is at most 0.2 and greater than 0.5"
   ]
  },
  {
   "cell_type": "code",
   "execution_count": 30,
   "metadata": {},
   "outputs": [
    {
     "data": {
      "text/plain": [
       "2020-01-01    0.0\n",
       "2020-01-02    0.1\n",
       "2020-01-03    0.2\n",
       "2020-01-09    0.6\n",
       "2020-01-10    0.7\n",
       "2020-01-13    0.8\n",
       "2020-01-14    0.9\n",
       "2020-01-15    1.0\n",
       "Name: Dummy Series, dtype: float64"
      ]
     },
     "execution_count": 30,
     "metadata": {},
     "output_type": "execute_result"
    }
   ],
   "source": [
    "s[(s <= 0.2) | (s > 0.5)]"
   ]
  },
  {
   "cell_type": "markdown",
   "metadata": {},
   "source": [
    "## 1.4. Basic Analytics <a name=\"s_analytics\"></a>"
   ]
  },
  {
   "cell_type": "markdown",
   "metadata": {},
   "source": [
    "When working with raw NumPy arrays, looping through value-by-value is usually not necessary. The same is true when working with Series in pandas. Series can also be passed into most NumPy methods expecting an ndarray."
   ]
  },
  {
   "cell_type": "markdown",
   "metadata": {},
   "source": [
    "### 1.4.1. _Vectorized_ operations <a name=\"s_basic_operations\"></a>"
   ]
  },
  {
   "cell_type": "markdown",
   "metadata": {},
   "source": [
    "Series-Number and Series-Series operations are vectorized:"
   ]
  },
  {
   "cell_type": "code",
   "execution_count": 31,
   "metadata": {},
   "outputs": [
    {
     "data": {
      "text/plain": [
       "2020-01-01    0.0\n",
       "2020-01-02    0.2\n",
       "2020-01-03    0.4\n",
       "2020-01-06    0.6\n",
       "2020-01-07    0.8\n",
       "2020-01-08    1.0\n",
       "2020-01-09    1.2\n",
       "2020-01-10    1.4\n",
       "2020-01-13    1.6\n",
       "2020-01-14    1.8\n",
       "2020-01-15    2.0\n",
       "Freq: B, Name: Dummy Series, dtype: float64"
      ]
     },
     "execution_count": 31,
     "metadata": {},
     "output_type": "execute_result"
    }
   ],
   "source": [
    "s * 2"
   ]
  },
  {
   "cell_type": "code",
   "execution_count": 32,
   "metadata": {},
   "outputs": [
    {
     "data": {
      "text/plain": [
       "2020-01-01     0.0\n",
       "2020-01-02     1.1\n",
       "2020-01-03     2.2\n",
       "2020-01-06     3.3\n",
       "2020-01-07     4.4\n",
       "2020-01-08     5.5\n",
       "2020-01-09     6.6\n",
       "2020-01-10     7.7\n",
       "2020-01-13     8.8\n",
       "2020-01-14     9.9\n",
       "2020-01-15    11.0\n",
       "Freq: B, Name: Dummy Series, dtype: float64"
      ]
     },
     "execution_count": 32,
     "metadata": {},
     "output_type": "execute_result"
    }
   ],
   "source": [
    "s + 10*s"
   ]
  },
  {
   "cell_type": "markdown",
   "metadata": {},
   "source": [
    "### 1.4.2. Built-in methods <a name=\"s_builtin_methods\"></a>"
   ]
  },
  {
   "cell_type": "markdown",
   "metadata": {},
   "source": [
    "There are tons of built-in methods"
   ]
  },
  {
   "cell_type": "code",
   "execution_count": 33,
   "metadata": {},
   "outputs": [
    {
     "data": {
      "text/plain": [
       "5.500000000000001"
      ]
     },
     "execution_count": 33,
     "metadata": {},
     "output_type": "execute_result"
    }
   ],
   "source": [
    "s.sum()"
   ]
  },
  {
   "cell_type": "code",
   "execution_count": 34,
   "metadata": {},
   "outputs": [
    {
     "data": {
      "text/plain": [
       "2020-01-01    0.0\n",
       "2020-01-02    0.1\n",
       "2020-01-03    0.3\n",
       "2020-01-06    0.6\n",
       "2020-01-07    1.0\n",
       "2020-01-08    1.5\n",
       "2020-01-09    2.1\n",
       "2020-01-10    2.8\n",
       "2020-01-13    3.6\n",
       "2020-01-14    4.5\n",
       "2020-01-15    5.5\n",
       "Freq: B, Name: Dummy Series, dtype: float64"
      ]
     },
     "execution_count": 34,
     "metadata": {},
     "output_type": "execute_result"
    }
   ],
   "source": [
    "s.cumsum()"
   ]
  },
  {
   "cell_type": "markdown",
   "metadata": {},
   "source": [
    "### 1.4.3. Interoperability with NumPy's universal functions <a name=\"s_ufunc\"></a>"
   ]
  },
  {
   "cell_type": "markdown",
   "metadata": {},
   "source": [
    "Most of NumPy universal functions, which expect NumPy arrays in input, work with Pandas series in input as well"
   ]
  },
  {
   "cell_type": "code",
   "execution_count": 35,
   "metadata": {},
   "outputs": [
    {
     "data": {
      "text/plain": [
       "2020-01-01    1.000000\n",
       "2020-01-02    1.105171\n",
       "2020-01-03    1.221403\n",
       "2020-01-06    1.349859\n",
       "2020-01-07    1.491825\n",
       "2020-01-08    1.648721\n",
       "2020-01-09    1.822119\n",
       "2020-01-10    2.013753\n",
       "2020-01-13    2.225541\n",
       "2020-01-14    2.459603\n",
       "2020-01-15    2.718282\n",
       "Freq: B, Name: Dummy Series, dtype: float64"
      ]
     },
     "execution_count": 35,
     "metadata": {},
     "output_type": "execute_result"
    }
   ],
   "source": [
    "np.exp(s)"
   ]
  },
  {
   "cell_type": "markdown",
   "metadata": {},
   "source": [
    "## 1.5. Data Alignment <a name=\"s_data_alignment\"></a>"
   ]
  },
  {
   "cell_type": "markdown",
   "metadata": {},
   "source": [
    "NumPy arrays are all indexed by the same `0,1,...,len(array)-1` indexing. As we have seen Pandas Series offer the possibility to the user to define his or her own indexing. This means that you can have two series which are _unaligned_. For example:"
   ]
  },
  {
   "cell_type": "code",
   "execution_count": 36,
   "metadata": {},
   "outputs": [
    {
     "data": {
      "text/plain": [
       "2020-01-01    0.0\n",
       "2020-01-02    0.1\n",
       "2020-01-03    0.2\n",
       "2020-01-06    0.3\n",
       "2020-01-07    0.4\n",
       "2020-01-08    0.5\n",
       "2020-01-09    0.6\n",
       "2020-01-10    0.7\n",
       "2020-01-13    0.8\n",
       "2020-01-14    0.9\n",
       "2020-01-15    1.0\n",
       "Freq: B, Name: Dummy Series, dtype: float64"
      ]
     },
     "execution_count": 36,
     "metadata": {},
     "output_type": "execute_result"
    }
   ],
   "source": [
    "s"
   ]
  },
  {
   "cell_type": "code",
   "execution_count": 37,
   "metadata": {},
   "outputs": [
    {
     "data": {
      "text/plain": [
       "2020-01-01    0.0\n",
       "2020-01-02    0.1\n",
       "2020-01-03    0.2\n",
       "2020-01-06    0.3\n",
       "2020-01-07    0.4\n",
       "2020-01-08    0.5\n",
       "Freq: B, Name: Dummy Series, dtype: float64"
      ]
     },
     "execution_count": 37,
     "metadata": {},
     "output_type": "execute_result"
    }
   ],
   "source": [
    "s1 = s[s <= 0.6]\n",
    "s1"
   ]
  },
  {
   "cell_type": "code",
   "execution_count": 38,
   "metadata": {},
   "outputs": [
    {
     "data": {
      "text/plain": [
       "2020-01-07    0.4\n",
       "2020-01-08    0.5\n",
       "2020-01-09    0.6\n",
       "2020-01-10    0.7\n",
       "2020-01-13    0.8\n",
       "2020-01-14    0.9\n",
       "2020-01-15    1.0\n",
       "Freq: B, Name: Dummy Series, dtype: float64"
      ]
     },
     "execution_count": 38,
     "metadata": {},
     "output_type": "execute_result"
    }
   ],
   "source": [
    "s2 = s[s >= 0.4]\n",
    "s2"
   ]
  },
  {
   "cell_type": "markdown",
   "metadata": {},
   "source": [
    "This raises the question about how to define an operation such as `s1 + s2`"
   ]
  },
  {
   "cell_type": "code",
   "execution_count": 39,
   "metadata": {},
   "outputs": [
    {
     "data": {
      "text/plain": [
       "2020-01-01    NaN\n",
       "2020-01-02    NaN\n",
       "2020-01-03    NaN\n",
       "2020-01-06    NaN\n",
       "2020-01-07    0.8\n",
       "2020-01-08    1.0\n",
       "2020-01-09    NaN\n",
       "2020-01-10    NaN\n",
       "2020-01-13    NaN\n",
       "2020-01-14    NaN\n",
       "2020-01-15    NaN\n",
       "Freq: B, Name: Dummy Series, dtype: float64"
      ]
     },
     "execution_count": 39,
     "metadata": {},
     "output_type": "execute_result"
    }
   ],
   "source": [
    "s1 + s2"
   ]
  },
  {
   "cell_type": "markdown",
   "metadata": {},
   "source": [
    "well, given two unaligned series `s1` and `s2`, Pandas chose to index any combination of the two according to the _union_ of their indexes (here `s1` has indexes from `2020-01-01` to `2020-01-08` whereas `s2` has indexes from `2020-01-07` to `2020-01-15`)."
   ]
  },
  {
   "cell_type": "markdown",
   "metadata": {},
   "source": [
    "The `+` operator is applied to each element corresponding to indexes in common between the two series (here indexes `2020-01-07` and `2020-01-08`). The rest of indexes (in the union of the indexes) are either not found in `s1` or in `s2`. Accordingly, their corresponding values in the `s1 + s2` series will be marked as _missing_ and denoted by `NaN` (which stands for Not-A-Number). "
   ]
  },
  {
   "cell_type": "markdown",
   "metadata": {},
   "source": [
    "Of course this generalizes to any other operation:"
   ]
  },
  {
   "cell_type": "code",
   "execution_count": 40,
   "metadata": {},
   "outputs": [
    {
     "data": {
      "text/plain": [
       "2020-01-01     NaN\n",
       "2020-01-02     NaN\n",
       "2020-01-03     NaN\n",
       "2020-01-06     NaN\n",
       "2020-01-07    0.16\n",
       "2020-01-08    0.25\n",
       "2020-01-09     NaN\n",
       "2020-01-10     NaN\n",
       "2020-01-13     NaN\n",
       "2020-01-14     NaN\n",
       "2020-01-15     NaN\n",
       "Freq: B, Name: Dummy Series, dtype: float64"
      ]
     },
     "execution_count": 40,
     "metadata": {},
     "output_type": "execute_result"
    }
   ],
   "source": [
    "s3 = s1 * s2\n",
    "s3"
   ]
  },
  {
   "cell_type": "markdown",
   "metadata": {},
   "source": [
    "What is cool (and really helps data analysis a lot) is that most basic analytics still warks disregarding NaNs. That is, `NaN` are not counted."
   ]
  },
  {
   "cell_type": "code",
   "execution_count": 41,
   "metadata": {},
   "outputs": [
    {
     "data": {
      "text/plain": [
       "2020-01-01       NaN\n",
       "2020-01-02       NaN\n",
       "2020-01-03       NaN\n",
       "2020-01-06       NaN\n",
       "2020-01-07    0.0256\n",
       "2020-01-08    0.0625\n",
       "2020-01-09       NaN\n",
       "2020-01-10       NaN\n",
       "2020-01-13       NaN\n",
       "2020-01-14       NaN\n",
       "2020-01-15       NaN\n",
       "Freq: B, Name: Dummy Series, dtype: float64"
      ]
     },
     "execution_count": 41,
     "metadata": {},
     "output_type": "execute_result"
    }
   ],
   "source": [
    "s3 ** 2"
   ]
  },
  {
   "cell_type": "code",
   "execution_count": 42,
   "metadata": {},
   "outputs": [
    {
     "data": {
      "text/plain": [
       "0.41000000000000003"
      ]
     },
     "execution_count": 42,
     "metadata": {},
     "output_type": "execute_result"
    }
   ],
   "source": [
    "s3.sum()"
   ]
  },
  {
   "cell_type": "code",
   "execution_count": 43,
   "metadata": {},
   "outputs": [
    {
     "data": {
      "text/plain": [
       "0.20500000000000002"
      ]
     },
     "execution_count": 43,
     "metadata": {},
     "output_type": "execute_result"
    }
   ],
   "source": [
    "s3.mean()"
   ]
  },
  {
   "cell_type": "code",
   "execution_count": 44,
   "metadata": {},
   "outputs": [
    {
     "data": {
      "text/plain": [
       "0.06363961030678926"
      ]
     },
     "execution_count": 44,
     "metadata": {},
     "output_type": "execute_result"
    }
   ],
   "source": [
    "s3.std()"
   ]
  },
  {
   "cell_type": "code",
   "execution_count": 45,
   "metadata": {},
   "outputs": [
    {
     "data": {
      "text/plain": [
       "2020-01-01     NaN\n",
       "2020-01-02     NaN\n",
       "2020-01-03     NaN\n",
       "2020-01-06     NaN\n",
       "2020-01-07    0.16\n",
       "2020-01-08    0.41\n",
       "2020-01-09     NaN\n",
       "2020-01-10     NaN\n",
       "2020-01-13     NaN\n",
       "2020-01-14     NaN\n",
       "2020-01-15     NaN\n",
       "Freq: B, Name: Dummy Series, dtype: float64"
      ]
     },
     "execution_count": 45,
     "metadata": {},
     "output_type": "execute_result"
    }
   ],
   "source": [
    "s3.cumsum()"
   ]
  },
  {
   "cell_type": "markdown",
   "metadata": {},
   "source": [
    "## 1.6. _Excursus:_ Returns time-series  <a name=\"s_ret\"></a>"
   ]
  },
  {
   "cell_type": "markdown",
   "metadata": {},
   "source": [
    "A typical example of _unaligned_ time series is encountered when computing the time-series of the returns of an underlying time-series."
   ]
  },
  {
   "cell_type": "markdown",
   "metadata": {},
   "source": [
    "Let's simulate a time-series $p_t$ as a time-series of i.i.d. (independent and identically distributed) [log-normal](https://en.wikipedia.org/wiki/Log-normal_distribution) random numbers."
   ]
  },
  {
   "cell_type": "markdown",
   "metadata": {},
   "source": [
    "Let's begin recalling the relation between normal and log-normal random variables. The random variable $X$ is log-normally distributed if the logarithm $\\ln(X)$ of $X$ is normally distributed."
   ]
  },
  {
   "cell_type": "markdown",
   "metadata": {},
   "source": [
    "Therefore, if the variable $Y=\\ln(X)$ is normally distributed with mean $E[Y] = \\mu$ and variance $Var[Y] = \\sigma^2$, that is\n",
    "\n",
    "$$\n",
    "Y=\\ln(X) \\sim \\mathcal{N}(\\mu, \\sigma^2)\n",
    "$$\n",
    "\n",
    "then, $X=e^Y$ is log-normally distributed as\n",
    "\n",
    "$$\n",
    "X =e^Y \\sim \\ln \\mathcal{N}(\\mu, \\sigma^2)\n",
    "$$\n",
    "\n",
    "with mean $E[X]$ and variance $Var[X]$ which are related to the first two moments of $Y$ as follows (check [Wikipedia](https://en.wikipedia.org/wiki/Log-normal_distribution#Arithmetic_moments)):\n",
    "\n",
    "\\begin{equation}\n",
    "\\begin{aligned}\n",
    "E[X] &= \\exp{\\left( \\mu + \\frac{1}{2} \\sigma^2 \\right)} \\nonumber \\\\\n",
    "Var[X] &= \\left[ \\exp{(\\sigma^2 )} - 1 \\right] \\exp{\\left( 2\\mu + \\sigma^2 \\right)} \\nonumber \n",
    "\\end{aligned}\n",
    "\\end{equation}"
   ]
  },
  {
   "cell_type": "markdown",
   "metadata": {},
   "source": [
    "We shall use NumPy's [`random.lognormal` function](https://docs.scipy.org/doc/numpy-1.14.0/reference/generated/numpy.random.lognormal.html) which expects in input the mean $\\mu$ and standard-deviation $\\sigma$ of the underlying normal random variable $Y$ and returns a NumPy array of i.i.d. log-normal random variables in output."
   ]
  },
  {
   "cell_type": "markdown",
   "metadata": {},
   "source": [
    "**Warning** Notice that this a very _elementary_ time-series simulation. In particular, notice that this is **not** a simulation of a Geometric Brownian Motion (GBM). Intuitivelly, even we are sampling each $p_t$ from a log-normal distribution, we are sampling them as i.i.d. random variables. Whereas, each subsequent number of a GBM, depends on the previous one. Stochastic process simulation will be covered in a future lesson. "
   ]
  },
  {
   "cell_type": "code",
   "execution_count": 46,
   "metadata": {},
   "outputs": [],
   "source": [
    "length = 20 # number of prices to simulate"
   ]
  },
  {
   "cell_type": "code",
   "execution_count": 47,
   "metadata": {},
   "outputs": [],
   "source": [
    "# we set the seed to have reproducible results. This has to be in the same code-cell of the number extraction, \n",
    "# otherwise Jupyter will forget it and reset it.\n",
    "seed = np.random.seed(987654321) \n",
    "\n",
    "mu, sigma = np.log(30.), np.log(1.1) # mean and std-dev of the underlying normal random variable (\\mu and \\sigma above)\n",
    "\n",
    "p = np.random.lognormal(mu, sigma, length)"
   ]
  },
  {
   "cell_type": "markdown",
   "metadata": {},
   "source": [
    "and plot it using a business-day date range on the x-axis starting from Jan 1st to Jan 28th 2020 (we can use the `DatetimeIndex` returned by `pd.date_range()` in the Matplotlib plot function)"
   ]
  },
  {
   "cell_type": "code",
   "execution_count": 48,
   "metadata": {},
   "outputs": [
    {
     "data": {
      "image/png": "[encoded data removed]",
      "text/plain": [
       "<Figure size 504x288 with 1 Axes>"
      ]
     },
     "metadata": {
      "needs_background": "light"
     },
     "output_type": "display_data"
    }
   ],
   "source": [
    "fig, ax = plt.subplots(figsize=(7,4))\n",
    "\n",
    "plt.plot(pd.date_range('2020-01-01', periods=length, freq='B'), p) \n",
    "\n",
    "ax.set_xlabel('Date $t$', fontsize=15) \n",
    "ax.set_ylabel('$p_t$', fontsize=15) \n",
    "\n",
    "plt.xticks(rotation=45) # to rotate of 45 degrees the x-ticks \n",
    "\n",
    "fig.tight_layout()\n",
    "plt.show()"
   ]
  },
  {
   "cell_type": "markdown",
   "metadata": {},
   "source": [
    "### 1.6.1. Step-by-step computation  <a name=\"s_ret_stepbystep\"></a>"
   ]
  },
  {
   "cell_type": "markdown",
   "metadata": {},
   "source": [
    "To compute the returns, we need to calculate:\n",
    "- $p_{t}$ as the Series `p_t` of values `p[1:]` from the second to the end;\n",
    "- $p_{t-1}$ as the Series `p_tm1` of values `p[:-1]` from the beginning to the second-last one."
   ]
  },
  {
   "cell_type": "markdown",
   "metadata": {},
   "source": [
    "To be consistent with the following returns calculation, we define the two `p_t` and `p_tm1` time-series as aligned time-series indexed by business-day date range from Jan 2nd 2020 (that is, with one day of lag w.r.t. the original time series)."
   ]
  },
  {
   "cell_type": "code",
   "execution_count": 49,
   "metadata": {},
   "outputs": [
    {
     "data": {
      "text/plain": [
       "2020-01-02    28.208823\n",
       "2020-01-03    26.799693\n",
       "2020-01-06    36.056879\n",
       "2020-01-07    30.191651\n",
       "2020-01-08    27.280371\n",
       "2020-01-09    32.424250\n",
       "2020-01-10    26.400751\n",
       "2020-01-13    35.992138\n",
       "2020-01-14    32.099097\n",
       "2020-01-15    33.409345\n",
       "2020-01-16    26.912392\n",
       "2020-01-17    30.896827\n",
       "2020-01-20    28.347494\n",
       "2020-01-21    27.036349\n",
       "2020-01-22    31.067052\n",
       "2020-01-23    28.911740\n",
       "2020-01-24    25.666152\n",
       "2020-01-27    35.364221\n",
       "2020-01-28    32.330933\n",
       "Freq: B, Name: p(t), dtype: float64"
      ]
     },
     "execution_count": 49,
     "metadata": {},
     "output_type": "execute_result"
    }
   ],
   "source": [
    "p_t = pd.Series(data=p[1:],\n",
    "                  index=pd.date_range('2020-01-02', periods=length-1, freq='B'), \n",
    "                  name=\"p(t)\")\n",
    "p_t"
   ]
  },
  {
   "cell_type": "code",
   "execution_count": 50,
   "metadata": {},
   "outputs": [
    {
     "data": {
      "text/plain": [
       "19"
      ]
     },
     "execution_count": 50,
     "metadata": {},
     "output_type": "execute_result"
    }
   ],
   "source": [
    "p_t.size"
   ]
  },
  {
   "cell_type": "code",
   "execution_count": 51,
   "metadata": {
    "scrolled": true
   },
   "outputs": [
    {
     "data": {
      "text/plain": [
       "2020-01-02    37.163108\n",
       "2020-01-03    28.208823\n",
       "2020-01-06    26.799693\n",
       "2020-01-07    36.056879\n",
       "2020-01-08    30.191651\n",
       "2020-01-09    27.280371\n",
       "2020-01-10    32.424250\n",
       "2020-01-13    26.400751\n",
       "2020-01-14    35.992138\n",
       "2020-01-15    32.099097\n",
       "2020-01-16    33.409345\n",
       "2020-01-17    26.912392\n",
       "2020-01-20    30.896827\n",
       "2020-01-21    28.347494\n",
       "2020-01-22    27.036349\n",
       "2020-01-23    31.067052\n",
       "2020-01-24    28.911740\n",
       "2020-01-27    25.666152\n",
       "2020-01-28    35.364221\n",
       "Freq: B, Name: p(t-1), dtype: float64"
      ]
     },
     "execution_count": 51,
     "metadata": {},
     "output_type": "execute_result"
    }
   ],
   "source": [
    "p_tm1 = pd.Series(data=p[:-1],\n",
    "                  index=pd.date_range('2020-01-02', periods=length-1, freq='B'), \n",
    "                  name=\"p(t-1)\")\n",
    "p_tm1"
   ]
  },
  {
   "cell_type": "code",
   "execution_count": 52,
   "metadata": {},
   "outputs": [
    {
     "data": {
      "text/plain": [
       "19"
      ]
     },
     "execution_count": 52,
     "metadata": {},
     "output_type": "execute_result"
    }
   ],
   "source": [
    "p_tm1.size"
   ]
  },
  {
   "cell_type": "markdown",
   "metadata": {},
   "source": [
    "We can define the linear returns \n",
    "\n",
    "$$\n",
    "r^{\\text{lin}}_t = p_t - p_{t-1}\n",
    "$$\n",
    "\n",
    "as the `linRet_t = p_t - p_tm1` Pandas series"
   ]
  },
  {
   "cell_type": "code",
   "execution_count": 53,
   "metadata": {},
   "outputs": [
    {
     "data": {
      "text/plain": [
       "2020-01-02   -8.954285\n",
       "2020-01-03   -1.409130\n",
       "2020-01-06    9.257186\n",
       "2020-01-07   -5.865228\n",
       "2020-01-08   -2.911280\n",
       "2020-01-09    5.143879\n",
       "2020-01-10   -6.023500\n",
       "2020-01-13    9.591387\n",
       "2020-01-14   -3.893041\n",
       "2020-01-15    1.310247\n",
       "2020-01-16   -6.496952\n",
       "2020-01-17    3.984435\n",
       "2020-01-20   -2.549333\n",
       "2020-01-21   -1.311146\n",
       "2020-01-22    4.030703\n",
       "2020-01-23   -2.155312\n",
       "2020-01-24   -3.245588\n",
       "2020-01-27    9.698069\n",
       "2020-01-28   -3.033288\n",
       "Freq: B, Name: linear returns r(t) = p(t) - p(t-1), dtype: float64"
      ]
     },
     "execution_count": 53,
     "metadata": {},
     "output_type": "execute_result"
    }
   ],
   "source": [
    "linRet_t = p_t - p_tm1\n",
    "linRet_t.name = \"linear returns r(t) = p(t) - p(t-1)\"\n",
    "linRet_t"
   ]
  },
  {
   "cell_type": "code",
   "execution_count": 54,
   "metadata": {},
   "outputs": [
    {
     "data": {
      "text/plain": [
       "19"
      ]
     },
     "execution_count": 54,
     "metadata": {},
     "output_type": "execute_result"
    }
   ],
   "source": [
    "linRet_t.size"
   ]
  },
  {
   "cell_type": "markdown",
   "metadata": {},
   "source": [
    "and we can do a bar-plot of returns"
   ]
  },
  {
   "cell_type": "code",
   "execution_count": 55,
   "metadata": {},
   "outputs": [
    {
     "data": {
      "text/plain": [
       "Text(0, 0.5, '$r_t = p_t - p_{t-1}$')"
      ]
     },
     "execution_count": 55,
     "metadata": {},
     "output_type": "execute_result"
    },
    {
     "data": {
      "image/png": "[encoded data removed]",
      "text/plain": [
       "<Figure size 432x288 with 1 Axes>"
      ]
     },
     "metadata": {
      "needs_background": "light"
     },
     "output_type": "display_data"
    }
   ],
   "source": [
    "ax = linRet_t.plot.bar() \n",
    "\n",
    "ax.set_xlabel(\"Date $t$\", fontsize=15)\n",
    "ax.set_ylabel(\"$r_t = p_t - p_{t-1}$\", fontsize=15)"
   ]
  },
  {
   "cell_type": "markdown",
   "metadata": {},
   "source": [
    "We can, alternatively, compute log-returns\n",
    "\n",
    "$$\n",
    "r^{log}_t = \\log \\left( \\frac{p_t}{p_{t-1}} \\right)\n",
    "$$\n",
    "\n",
    "as the `logRet_t = log(p_t) - log(p_tm1)` Pandas series"
   ]
  },
  {
   "cell_type": "code",
   "execution_count": 56,
   "metadata": {},
   "outputs": [
    {
     "data": {
      "text/plain": [
       "2020-01-02   -0.275682\n",
       "2020-01-03   -0.051244\n",
       "2020-01-06    0.296707\n",
       "2020-01-07   -0.177532\n",
       "2020-01-08   -0.101398\n",
       "2020-01-09    0.172739\n",
       "2020-01-10   -0.205514\n",
       "2020-01-13    0.309908\n",
       "2020-01-14   -0.114473\n",
       "2020-01-15    0.040008\n",
       "2020-01-16   -0.216249\n",
       "2020-01-17    0.138067\n",
       "2020-01-20   -0.086115\n",
       "2020-01-21   -0.047356\n",
       "2020-01-22    0.138966\n",
       "2020-01-23   -0.071900\n",
       "2020-01-24   -0.119075\n",
       "2020-01-27    0.320528\n",
       "2020-01-28   -0.089676\n",
       "Freq: B, Name: log-returns r(t) = log(p(t)/p(t-1)), dtype: float64"
      ]
     },
     "execution_count": 56,
     "metadata": {},
     "output_type": "execute_result"
    }
   ],
   "source": [
    "logRet_t = np.log(p_t) - np.log(p_tm1)\n",
    "logRet_t.name = \"log-returns r(t) = log(p(t)/p(t-1))\"\n",
    "logRet_t"
   ]
  },
  {
   "cell_type": "code",
   "execution_count": 57,
   "metadata": {},
   "outputs": [
    {
     "data": {
      "text/plain": [
       "19"
      ]
     },
     "execution_count": 57,
     "metadata": {},
     "output_type": "execute_result"
    }
   ],
   "source": [
    "logRet_t.size"
   ]
  },
  {
   "cell_type": "markdown",
   "metadata": {},
   "source": [
    "and we can do a bar-plot of returns"
   ]
  },
  {
   "cell_type": "code",
   "execution_count": 58,
   "metadata": {
    "scrolled": true
   },
   "outputs": [
    {
     "data": {
      "text/plain": [
       "Text(0, 0.5, '$r_t = \\\\ln(p_t/p_{t-1})$')"
      ]
     },
     "execution_count": 58,
     "metadata": {},
     "output_type": "execute_result"
    },
    {
     "data": {
      "image/png": "[encoded data removed]",
      "text/plain": [
       "<Figure size 432x288 with 1 Axes>"
      ]
     },
     "metadata": {
      "needs_background": "light"
     },
     "output_type": "display_data"
    }
   ],
   "source": [
    "ax = logRet_t.plot.bar() \n",
    "\n",
    "ax.set_xlabel(\"Date $t$\", fontsize=15)\n",
    "ax.set_ylabel(\"$r_t = \\ln(p_t/p_{t-1})$\", fontsize=15)"
   ]
  },
  {
   "cell_type": "markdown",
   "metadata": {},
   "source": [
    "### 1.6.2. Direct computation using `.shift()`  <a name=\"s_ret_shift\"></a>"
   ]
  },
  {
   "cell_type": "markdown",
   "metadata": {},
   "source": [
    "We first (an more intuitively) define the $p_t$ time-series as a Pandas Series out of the original (NumPy array) time-series `p`, using the whole indexing form Jan 1st 2020."
   ]
  },
  {
   "cell_type": "code",
   "execution_count": 59,
   "metadata": {
    "scrolled": true
   },
   "outputs": [
    {
     "data": {
      "text/plain": [
       "2020-01-01    37.163108\n",
       "2020-01-02    28.208823\n",
       "2020-01-03    26.799693\n",
       "2020-01-06    36.056879\n",
       "2020-01-07    30.191651\n",
       "2020-01-08    27.280371\n",
       "2020-01-09    32.424250\n",
       "2020-01-10    26.400751\n",
       "2020-01-13    35.992138\n",
       "2020-01-14    32.099097\n",
       "2020-01-15    33.409345\n",
       "2020-01-16    26.912392\n",
       "2020-01-17    30.896827\n",
       "2020-01-20    28.347494\n",
       "2020-01-21    27.036349\n",
       "2020-01-22    31.067052\n",
       "2020-01-23    28.911740\n",
       "2020-01-24    25.666152\n",
       "2020-01-27    35.364221\n",
       "2020-01-28    32.330933\n",
       "Freq: B, Name: p(t), dtype: float64"
      ]
     },
     "execution_count": 59,
     "metadata": {},
     "output_type": "execute_result"
    }
   ],
   "source": [
    "p_t = pd.Series(data=p,\n",
    "                  index=pd.date_range('2020-01-01', periods=length, freq='B'), \n",
    "                  name=\"p(t)\")\n",
    "p_t"
   ]
  },
  {
   "cell_type": "markdown",
   "metadata": {},
   "source": [
    "Then we define the $p_{t-1}$ time-series as the `p_tm1` Series rolling the `p_t` Series shifted of 1 business-day using the `.shift()` method. What was indexed by date $t$ in `p_t` Series is rolled ahead of 1 bd, becoming indexed by date $t+1$ in `p_tm1`. For example, the first value 37.163108 was attributed to date 2020-01-01 in `p_t`. In `p_tm1`, 37.163108 becomes indexed by 2020-01-02."
   ]
  },
  {
   "cell_type": "code",
   "execution_count": 60,
   "metadata": {},
   "outputs": [
    {
     "data": {
      "text/plain": [
       "2020-01-02    37.163108\n",
       "2020-01-03    28.208823\n",
       "2020-01-06    26.799693\n",
       "2020-01-07    36.056879\n",
       "2020-01-08    30.191651\n",
       "2020-01-09    27.280371\n",
       "2020-01-10    32.424250\n",
       "2020-01-13    26.400751\n",
       "2020-01-14    35.992138\n",
       "2020-01-15    32.099097\n",
       "2020-01-16    33.409345\n",
       "2020-01-17    26.912392\n",
       "2020-01-20    30.896827\n",
       "2020-01-21    28.347494\n",
       "2020-01-22    27.036349\n",
       "2020-01-23    31.067052\n",
       "2020-01-24    28.911740\n",
       "2020-01-27    25.666152\n",
       "2020-01-28    35.364221\n",
       "2020-01-29    32.330933\n",
       "Freq: B, Name: p(t), dtype: float64"
      ]
     },
     "execution_count": 60,
     "metadata": {},
     "output_type": "execute_result"
    }
   ],
   "source": [
    "p_tm1 = p_t.shift(periods=1, freq='B')\n",
    "p_tm1"
   ]
  },
  {
   "cell_type": "markdown",
   "metadata": {},
   "source": [
    "Notice now that the original time-series `p_t` and the rolled Series `p_tm1` are _unaligned_ series\n",
    "\n",
    "&nbsp;  | first index | last index | length\n",
    ":--- | :---: | :---:  | :---:\n",
    "`p_t`  | `2020-01-01` | `2020-01-28`  | 20\n",
    "`p_tm1`  | `2020-01-02` | `2020-01-29`  | 20"
   ]
  },
  {
   "cell_type": "markdown",
   "metadata": {},
   "source": [
    "We can define the linear returns \n",
    "\n",
    "$$\n",
    "r^{\\text{lin}}_t = p_t - p_{t-1}\n",
    "$$\n",
    "\n",
    "as the `linRet_t = p_t - p_tm1` Pandas series."
   ]
  },
  {
   "cell_type": "markdown",
   "metadata": {},
   "source": [
    "Notice that Pandas will index `linRet_t` with the _union_ of the indexes of `p_t` and `p_tm1`, filling with `NaN` the elements corresponding to indexes not shared by both (`2020-01-01` and `2020-01-29`)"
   ]
  },
  {
   "cell_type": "code",
   "execution_count": 61,
   "metadata": {},
   "outputs": [
    {
     "data": {
      "text/plain": [
       "2020-01-01         NaN\n",
       "2020-01-02   -8.954285\n",
       "2020-01-03   -1.409130\n",
       "2020-01-06    9.257186\n",
       "2020-01-07   -5.865228\n",
       "2020-01-08   -2.911280\n",
       "2020-01-09    5.143879\n",
       "2020-01-10   -6.023500\n",
       "2020-01-13    9.591387\n",
       "2020-01-14   -3.893041\n",
       "2020-01-15    1.310247\n",
       "2020-01-16   -6.496952\n",
       "2020-01-17    3.984435\n",
       "2020-01-20   -2.549333\n",
       "2020-01-21   -1.311146\n",
       "2020-01-22    4.030703\n",
       "2020-01-23   -2.155312\n",
       "2020-01-24   -3.245588\n",
       "2020-01-27    9.698069\n",
       "2020-01-28   -3.033288\n",
       "2020-01-29         NaN\n",
       "Freq: B, Name: linear returns r(t) = p(t) - p(t-1), dtype: float64"
      ]
     },
     "execution_count": 61,
     "metadata": {},
     "output_type": "execute_result"
    }
   ],
   "source": [
    "linRet_t = p_t - p_tm1\n",
    "linRet_t.name = \"linear returns r(t) = p(t) - p(t-1)\"\n",
    "linRet_t"
   ]
  },
  {
   "cell_type": "code",
   "execution_count": 62,
   "metadata": {},
   "outputs": [
    {
     "data": {
      "text/plain": [
       "21"
      ]
     },
     "execution_count": 62,
     "metadata": {},
     "output_type": "execute_result"
    }
   ],
   "source": [
    "linRet_t.size"
   ]
  },
  {
   "cell_type": "markdown",
   "metadata": {},
   "source": [
    "You can remove `NaN` using the `.dropna()` method "
   ]
  },
  {
   "cell_type": "code",
   "execution_count": 63,
   "metadata": {},
   "outputs": [
    {
     "data": {
      "text/plain": [
       "2020-01-02   -8.954285\n",
       "2020-01-03   -1.409130\n",
       "2020-01-06    9.257186\n",
       "2020-01-07   -5.865228\n",
       "2020-01-08   -2.911280\n",
       "2020-01-09    5.143879\n",
       "2020-01-10   -6.023500\n",
       "2020-01-13    9.591387\n",
       "2020-01-14   -3.893041\n",
       "2020-01-15    1.310247\n",
       "2020-01-16   -6.496952\n",
       "2020-01-17    3.984435\n",
       "2020-01-20   -2.549333\n",
       "2020-01-21   -1.311146\n",
       "2020-01-22    4.030703\n",
       "2020-01-23   -2.155312\n",
       "2020-01-24   -3.245588\n",
       "2020-01-27    9.698069\n",
       "2020-01-28   -3.033288\n",
       "Freq: B, Name: linear returns r(t) = p(t) - p(t-1), dtype: float64"
      ]
     },
     "execution_count": 63,
     "metadata": {},
     "output_type": "execute_result"
    }
   ],
   "source": [
    "linRet_t = linRet_t.dropna()\n",
    "linRet_t"
   ]
  },
  {
   "cell_type": "code",
   "execution_count": 64,
   "metadata": {},
   "outputs": [
    {
     "data": {
      "text/plain": [
       "19"
      ]
     },
     "execution_count": 64,
     "metadata": {},
     "output_type": "execute_result"
    }
   ],
   "source": [
    "linRet_t.size"
   ]
  },
  {
   "cell_type": "markdown",
   "metadata": {},
   "source": [
    "Summarizing:\n",
    "\n",
    "&nbsp;  | first index | last index | length\n",
    ":--- | :---: | :---:  | :---:\n",
    "`p_t`  | `2020-01-01` | `2020-01-28`  | 20\n",
    "`p_tm1`  | `2020-01-02` | `2020-01-29`  | 20\n",
    "`linRet_t = p_t - p_tm1`  | `2020-01-01` | `2020-01-29`  | 21\n",
    "`linRet_t.dropna()`  | `2020-01-02` | `2020-01-28`  | 19"
   ]
  },
  {
   "cell_type": "markdown",
   "metadata": {},
   "source": [
    "Exactly the same reasoning can be reapeated to compute the log-returns\n",
    "\n",
    "$$\n",
    "r^{log}_t = \\log \\left( \\frac{p_t}{p_{t-1}} \\right)\n",
    "$$\n",
    "\n",
    "defining the Series `logRet_t = log(p_t) - log(p_tm1)`, which shall have 21 rows and 2 `NaN` (first and last row) which can be dropped using `.dropna()` method. You can work it out each step by yourself."
   ]
  },
  {
   "cell_type": "code",
   "execution_count": 65,
   "metadata": {},
   "outputs": [
    {
     "data": {
      "text/plain": [
       "Text(0, 0.5, '$r_t =  \\\\ln(p_t/p_{t-1})$')"
      ]
     },
     "execution_count": 65,
     "metadata": {},
     "output_type": "execute_result"
    },
    {
     "data": {
      "image/png": "[encoded data removed]",
      "text/plain": [
       "<Figure size 432x288 with 1 Axes>"
      ]
     },
     "metadata": {
      "needs_background": "light"
     },
     "output_type": "display_data"
    }
   ],
   "source": [
    "logRet_t = np.log(p_t) - np.log(p_tm1)\n",
    "logRet_t.name = \"log-returns r(t) = log(p(t)/p(t-1))\"\n",
    "\n",
    "logRet_t = logRet_t.dropna()\n",
    "\n",
    "ax = logRet_t.plot.bar()\n",
    "\n",
    "ax.set_xlabel(\"Date $t$\", fontsize=15)\n",
    "ax.set_ylabel(\"$r_t =  \\ln(p_t/p_{t-1})$\", fontsize=15)"
   ]
  }
 ],
 "metadata": {
  "kernelspec": {
   "display_name": "Python 3",
   "language": "python",
   "name": "python3"
  },
  "language_info": {
   "codemirror_mode": {
    "name": "ipython",
    "version": 3
   },
   "file_extension": ".py",
   "mimetype": "text/x-python",
   "name": "python",
   "nbconvert_exporter": "python",
   "pygments_lexer": "ipython3",
   "version": "3.7.4"
  }
 },
 "nbformat": 4,
 "nbformat_minor": 2
}
