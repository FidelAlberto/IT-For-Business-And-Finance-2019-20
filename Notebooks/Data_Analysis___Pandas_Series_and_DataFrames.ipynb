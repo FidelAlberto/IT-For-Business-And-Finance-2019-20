{
 "cells": [
  {
   "cell_type": "markdown",
   "metadata": {},
   "source": [
    "# Numerical Computing - Numpy Arrays"
   ]
  },
  {
   "cell_type": "markdown",
   "metadata": {},
   "source": [
    "**Author**: [Gabriele Pompa](https://www.linkedin.com/in/gabrielepompa/): gabriele.pompa@unisi.com"
   ]
  },
  {
   "cell_type": "markdown",
   "metadata": {},
   "source": [
    "# Table of contents\n",
    "\n",
    "[Executive Summary](#summary)\n",
    "1. [Introduction: from Lists to Arrays](#intro)\\\n",
    "    1.1. [`numpy.ndarray` $\\mu \\epsilon \\tau \\alpha$-informations](#meta_info)\n",
    "2. [1-dim arrays](#1_dim)\\\n",
    "    2.1. [Array Creation](#creation_1d)\\\n",
    "&nbsp; &nbsp; &nbsp; &nbsp; 2.1.1. [From Lists or Tuples](#from_lists_1d)\\\n",
    "&nbsp; &nbsp; &nbsp; &nbsp; 2.1.2. [From sequences of numbers: `np.arange()`](#arange_linspace)\\\n",
    "&nbsp; &nbsp; &nbsp; &nbsp; 2.1.3. [Using placeholder content: `np.zeros()`, `np.ones()`, `np.empty()`](#arange_linspace_1d)\\\n",
    "2.2. [Indexing, Slicing, Assigning and Iterating](#index_slice_iter_1d)\\\n",
    "&nbsp; &nbsp; &nbsp; &nbsp; 2.2.1. [Indexing](#ind_1d)\\\n",
    "&nbsp; &nbsp; &nbsp; &nbsp; 2.2.2. [Slicing](#slice_1d)\\\n",
    "&nbsp; &nbsp; &nbsp; &nbsp; 2.2.3. [Assigning new values](#assign_1d)\\\n",
    "&nbsp; &nbsp; &nbsp; &nbsp; 2.2.4. [Iterating over arrays](#iter_1d)\\\n",
    "    2.3. [Basic operations (are _element-wise_ )](#indexing_slicing_iterating)\\\n",
    "&nbsp; &nbsp; &nbsp; &nbsp; 2.3.1. [_Focus on:_ `*` operator on lists](#*elementwise)\\\n",
    "&nbsp; &nbsp; &nbsp; &nbsp; 2.3.2. [Built-in methods: `.min()`, `.max()`, `.sum()` and more](#built_in_methods_1d)\\\n",
    "&nbsp; &nbsp; &nbsp; &nbsp; 2.3.3. [Universal functions](#univ_func_1d)\n",
    "3. [N-dim arrays](#N_dim)\\\n",
    "    3.1. [Array Creation](#creation_ndim)\\\n",
    "&nbsp; &nbsp; &nbsp; &nbsp; 3.1.1. [From Lists or Tuples](#from_lists_ndim)\\\n",
    "&nbsp; &nbsp; &nbsp; &nbsp; 3.1.2. [_Focus on:_ printing arrays](#print_array_ndim)\\\n",
    "&nbsp; &nbsp; &nbsp; &nbsp; 3.1.1. [Using placeholder content: role of the `shape` parameter](#arange_linspace_ndim)\\\n",
    "    3.2. [Indexing, Slicing, Assigning and Iterating](#indexing_slicing_iterating_ndim)\\\n",
    "&nbsp; &nbsp; &nbsp; &nbsp; 3.2.1. [Indexing](#ind_nd)\\\n",
    "&nbsp; &nbsp; &nbsp; &nbsp; 3.2.2. [Slicing](#slice_nd)\\\n",
    "&nbsp; &nbsp; &nbsp; &nbsp; 3.2.3. [Assigning new values](#assign_nd)\\\n",
    "&nbsp; &nbsp; &nbsp; &nbsp; 3.2.4. [Iterating over N-dim arrays](#iter_nd)\\\n",
    "    3.3. [Basic operations (are _element-wise_ )](#basic_op_nd)\\\n",
    "&nbsp; &nbsp; &nbsp; &nbsp; 3.3.1. [_Focus on:_ Matrix Operations](#matrix_operations_nd)\\\n",
    "&nbsp; &nbsp; &nbsp; &nbsp; 3.3.2. [Built-in methods: role of the `axis` parameter](#built_in_methods_nd)\\\n",
    "&nbsp; &nbsp; &nbsp; &nbsp; 3.3.3. [Universal functions](#univ_func_nd)\\\n",
    "    3.4. [Shape Manipulation](#shape_manipulation)\\\n",
    "&nbsp; &nbsp; &nbsp; &nbsp; 3.4.1. [Changing the shape: `.reshape()`](#reshape)\\\n",
    "&nbsp; &nbsp; &nbsp; &nbsp; 3.4.2. [_Focus on:_ Matrix Transpose `.T`](#mat_T)\\\n",
    "&nbsp; &nbsp; &nbsp; &nbsp; 3.4.3. [Changing the size: `.resize()`](#resize)\\\n",
    "&nbsp; &nbsp; &nbsp; &nbsp; 3.4.4. [From N-dim to 1-dim: `.flatten()`](#flatten)\\\n",
    "    3.5. [Stacking Arrays together: `.hstack()` and `.vstack()`](#stacking)\\\n",
    "    3.6. [Indexing with Boolean Arrays](#cond_ind)\\\n",
    "&nbsp; &nbsp; &nbsp; &nbsp; 3.6.1. [Boolean Arrays](#bool_arrays)\\\n",
    "&nbsp; &nbsp; &nbsp; &nbsp; 3.6.2. [Conditional Selection](#ind_with_bool_arrays)\n",
    "4. [Lists Vs Arrays](#list_vs_arrays)\\\n",
    "    4.1. [Speed-comparison: Lists 0 - 1 Arrays](#speed_comp)\\\n",
    "    4.2. [_Vectorization_ of code: Lists 0 - 2 Arrays](#vectorization)"
   ]
  },
  {
   "cell_type": "markdown",
   "metadata": {},
   "source": [
    "### **Resources**: \n",
    "\n",
    "- [_Python for Finance (2nd ed.)_](http://shop.oreilly.com/product/0636920117728.do): Sec. 4.Numpy Arrays, 4.Basic Vectorization\n",
    "- _[Numpy Quickstart Tutorial - The Basics](https://docs.scipy.org/doc/numpy/user/quickstart.html#the-basics)_ (An Example; Array Creation; Printing Arrays; Basic Operations; Universal Functions; Indexing, Slicing and Iterating), _[Numpy Quickstart Tutorial - Shape Manipulation](https://docs.scipy.org/doc/numpy/user/quickstart.html#shape-manipulation)_ (Changing the shape of an array; Stacking together different arrays), _[Numpy Quickstart Tutorial - Indexing with Boolean Arrays](https://docs.scipy.org/doc/numpy/user/quickstart.html#indexing-with-boolean-arrays)._"
   ]
  },
  {
   "cell_type": "markdown",
   "metadata": {},
   "source": [
    "# Executive Summary <a name=\"summary\"></a>"
   ]
  },
  {
   "cell_type": "markdown",
   "metadata": {},
   "source": [
    "**TODO**"
   ]
  },
  {
   "cell_type": "code",
   "execution_count": 1,
   "metadata": {},
   "outputs": [],
   "source": [
    "import numpy as np\n",
    "import pandas as pd"
   ]
  },
  {
   "cell_type": "code",
   "execution_count": 12,
   "metadata": {},
   "outputs": [
    {
     "data": {
      "text/plain": [
       "array([0. , 0.1, 0.2, 0.3, 0.4, 0.5, 0.6, 0.7, 0.8, 0.9, 1. ])"
      ]
     },
     "execution_count": 12,
     "metadata": {},
     "output_type": "execute_result"
    }
   ],
   "source": [
    "arr = np.linspace(0.0, 1.0, 11)\n",
    "arr"
   ]
  },
  {
   "cell_type": "code",
   "execution_count": 24,
   "metadata": {},
   "outputs": [
    {
     "data": {
      "text/plain": [
       "0     0.0\n",
       "1     0.1\n",
       "2     0.2\n",
       "3     0.3\n",
       "4     0.4\n",
       "5     0.5\n",
       "6     0.6\n",
       "7     0.7\n",
       "8     0.8\n",
       "9     0.9\n",
       "10    1.0\n",
       "dtype: float64"
      ]
     },
     "execution_count": 24,
     "metadata": {},
     "output_type": "execute_result"
    }
   ],
   "source": [
    "s = pd.Series(data=arr) # default index to 0,...,len(arr)-1\n",
    "s"
   ]
  },
  {
   "cell_type": "code",
   "execution_count": 25,
   "metadata": {},
   "outputs": [
    {
     "data": {
      "text/plain": [
       "pandas.core.series.Series"
      ]
     },
     "execution_count": 25,
     "metadata": {},
     "output_type": "execute_result"
    }
   ],
   "source": [
    "type(s)"
   ]
  },
  {
   "cell_type": "code",
   "execution_count": 15,
   "metadata": {},
   "outputs": [
    {
     "data": {
      "text/plain": [
       "11"
      ]
     },
     "execution_count": 15,
     "metadata": {},
     "output_type": "execute_result"
    }
   ],
   "source": [
    "s.size"
   ]
  },
  {
   "cell_type": "code",
   "execution_count": 16,
   "metadata": {},
   "outputs": [
    {
     "data": {
      "text/plain": [
       "(11,)"
      ]
     },
     "execution_count": 16,
     "metadata": {},
     "output_type": "execute_result"
    }
   ],
   "source": [
    "s.shape"
   ]
  },
  {
   "cell_type": "code",
   "execution_count": 20,
   "metadata": {},
   "outputs": [
    {
     "data": {
      "text/plain": [
       "dtype('float64')"
      ]
     },
     "execution_count": 20,
     "metadata": {},
     "output_type": "execute_result"
    }
   ],
   "source": [
    "s.dtype"
   ]
  },
  {
   "cell_type": "code",
   "execution_count": 27,
   "metadata": {},
   "outputs": [
    {
     "data": {
      "text/plain": [
       "DatetimeIndex(['2020-01-01', '2020-01-02', '2020-01-03', '2020-01-06',\n",
       "               '2020-01-07', '2020-01-08', '2020-01-09', '2020-01-10',\n",
       "               '2020-01-13', '2020-01-14', '2020-01-15'],\n",
       "              dtype='datetime64[ns]', freq='B')"
      ]
     },
     "execution_count": 27,
     "metadata": {},
     "output_type": "execute_result"
    }
   ],
   "source": [
    "# generation of an index with business-day frequency starting from Jan 1st 2020\n",
    "dates = pd.date_range('2020-01-01', periods=arr.size, freq='B') \n",
    "dates"
   ]
  },
  {
   "cell_type": "code",
   "execution_count": 26,
   "metadata": {},
   "outputs": [
    {
     "data": {
      "text/plain": [
       "2020-01-01    0.0\n",
       "2020-01-02    0.1\n",
       "2020-01-03    0.2\n",
       "2020-01-06    0.3\n",
       "2020-01-07    0.4\n",
       "2020-01-08    0.5\n",
       "2020-01-09    0.6\n",
       "2020-01-10    0.7\n",
       "2020-01-13    0.8\n",
       "2020-01-14    0.9\n",
       "2020-01-15    1.0\n",
       "Freq: B, dtype: float64"
      ]
     },
     "execution_count": 26,
     "metadata": {},
     "output_type": "execute_result"
    }
   ],
   "source": [
    "s = pd.Series(data=arr, index=dates)\n",
    "s"
   ]
  },
  {
   "cell_type": "code",
   "execution_count": 32,
   "metadata": {},
   "outputs": [
    {
     "data": {
      "text/plain": [
       "DatetimeIndex(['2020-01-01', '2020-01-02', '2020-01-03', '2020-01-06',\n",
       "               '2020-01-07', '2020-01-08', '2020-01-09', '2020-01-10',\n",
       "               '2020-01-13', '2020-01-14', '2020-01-15'],\n",
       "              dtype='datetime64[ns]', freq='B')"
      ]
     },
     "execution_count": 32,
     "metadata": {},
     "output_type": "execute_result"
    }
   ],
   "source": [
    "# the index attribute\n",
    "s.index"
   ]
  },
  {
   "cell_type": "code",
   "execution_count": 33,
   "metadata": {},
   "outputs": [
    {
     "data": {
      "text/plain": [
       "array([0. , 0.1, 0.2, 0.3, 0.4, 0.5, 0.6, 0.7, 0.8, 0.9, 1. ])"
      ]
     },
     "execution_count": 33,
     "metadata": {},
     "output_type": "execute_result"
    }
   ],
   "source": [
    "# the original data: .values attribute\n",
    "s.values"
   ]
  },
  {
   "cell_type": "code",
   "execution_count": 28,
   "metadata": {},
   "outputs": [
    {
     "data": {
      "text/plain": [
       "0.1"
      ]
     },
     "execution_count": 28,
     "metadata": {},
     "output_type": "execute_result"
    }
   ],
   "source": [
    "# NumPy-like indexing (single value returned)\n",
    "s[1]"
   ]
  },
  {
   "cell_type": "code",
   "execution_count": 30,
   "metadata": {},
   "outputs": [
    {
     "data": {
      "text/plain": [
       "2020-01-10    0.7\n",
       "2020-01-13    0.8\n",
       "2020-01-14    0.9\n",
       "2020-01-15    1.0\n",
       "Freq: B, dtype: float64"
      ]
     },
     "execution_count": 30,
     "metadata": {},
     "output_type": "execute_result"
    }
   ],
   "source": [
    "# NumPy-like slicing (sliced pd.Series returned)\n",
    "s[7:]"
   ]
  },
  {
   "cell_type": "code",
   "execution_count": 35,
   "metadata": {},
   "outputs": [
    {
     "data": {
      "text/plain": [
       "0.5"
      ]
     },
     "execution_count": 35,
     "metadata": {},
     "output_type": "execute_result"
    }
   ],
   "source": [
    "# index label indexing\n",
    "s['2020-01-08']"
   ]
  },
  {
   "cell_type": "code",
   "execution_count": 37,
   "metadata": {},
   "outputs": [
    {
     "data": {
      "text/plain": [
       "2020-01-08    0.5\n",
       "2020-01-09    0.6\n",
       "2020-01-10    0.7\n",
       "2020-01-13    0.8\n",
       "Freq: B, dtype: float64"
      ]
     },
     "execution_count": 37,
     "metadata": {},
     "output_type": "execute_result"
    }
   ],
   "source": [
    "# index label slicing\n",
    "s['2020-01-08':'2020-01-13']"
   ]
  },
  {
   "cell_type": "code",
   "execution_count": 39,
   "metadata": {},
   "outputs": [
    {
     "data": {
      "text/plain": [
       "2020-01-13    0.8\n",
       "2020-01-14    0.9\n",
       "2020-01-15    1.0\n",
       "Freq: B, dtype: float64"
      ]
     },
     "execution_count": 39,
     "metadata": {},
     "output_type": "execute_result"
    }
   ],
   "source": [
    "# index label slicing - another example\n",
    "s['2020-01-12':]"
   ]
  },
  {
   "cell_type": "code",
   "execution_count": 40,
   "metadata": {},
   "outputs": [
    {
     "data": {
      "text/plain": [
       "False"
      ]
     },
     "execution_count": 40,
     "metadata": {},
     "output_type": "execute_result"
    }
   ],
   "source": [
    "# checking for presence\n",
    "'2019-12-31' in s"
   ]
  },
  {
   "cell_type": "code",
   "execution_count": 43,
   "metadata": {},
   "outputs": [
    {
     "data": {
      "text/plain": [
       "2020-01-01    0.0\n",
       "2020-01-02    0.2\n",
       "2020-01-03    0.4\n",
       "2020-01-06    0.6\n",
       "2020-01-07    0.8\n",
       "2020-01-08    1.0\n",
       "2020-01-09    1.2\n",
       "2020-01-10    1.4\n",
       "2020-01-13    1.6\n",
       "2020-01-14    1.8\n",
       "2020-01-15    2.0\n",
       "Freq: B, dtype: float64"
      ]
     },
     "execution_count": 43,
     "metadata": {},
     "output_type": "execute_result"
    }
   ],
   "source": [
    "# operations are vectorizes as for NumPy arrays\n",
    "s * 2"
   ]
  },
  {
   "cell_type": "code",
   "execution_count": 44,
   "metadata": {},
   "outputs": [
    {
     "data": {
      "text/plain": [
       "5.500000000000001"
      ]
     },
     "execution_count": 44,
     "metadata": {},
     "output_type": "execute_result"
    }
   ],
   "source": [
    "# there are tons of built-in methods\n",
    "s.sum()"
   ]
  },
  {
   "cell_type": "code",
   "execution_count": 45,
   "metadata": {},
   "outputs": [
    {
     "data": {
      "text/plain": [
       "2020-01-01    1.000000\n",
       "2020-01-02    1.105171\n",
       "2020-01-03    1.221403\n",
       "2020-01-06    1.349859\n",
       "2020-01-07    1.491825\n",
       "2020-01-08    1.648721\n",
       "2020-01-09    1.822119\n",
       "2020-01-10    2.013753\n",
       "2020-01-13    2.225541\n",
       "2020-01-14    2.459603\n",
       "2020-01-15    2.718282\n",
       "Freq: B, dtype: float64"
      ]
     },
     "execution_count": 45,
     "metadata": {},
     "output_type": "execute_result"
    }
   ],
   "source": [
    "# NumPy universal functions work with pandas series as well\n",
    "np.exp(s)"
   ]
  },
  {
   "cell_type": "code",
   "execution_count": 46,
   "metadata": {},
   "outputs": [
    {
     "data": {
      "text/plain": [
       "2020-01-02    0.1\n",
       "2020-01-03    0.2\n",
       "2020-01-06    0.3\n",
       "2020-01-07    0.4\n",
       "2020-01-08    0.5\n",
       "2020-01-09    0.6\n",
       "2020-01-10    0.7\n",
       "2020-01-13    0.8\n",
       "2020-01-14    0.9\n",
       "2020-01-15    1.0\n",
       "Freq: B, dtype: float64"
      ]
     },
     "execution_count": 46,
     "metadata": {},
     "output_type": "execute_result"
    }
   ],
   "source": [
    "s[1:]"
   ]
  },
  {
   "cell_type": "code",
   "execution_count": 47,
   "metadata": {},
   "outputs": [
    {
     "data": {
      "text/plain": [
       "2020-01-01    0.0\n",
       "2020-01-02    0.1\n",
       "2020-01-03    0.2\n",
       "2020-01-06    0.3\n",
       "2020-01-07    0.4\n",
       "2020-01-08    0.5\n",
       "2020-01-09    0.6\n",
       "2020-01-10    0.7\n",
       "2020-01-13    0.8\n",
       "2020-01-14    0.9\n",
       "Freq: B, dtype: float64"
      ]
     },
     "execution_count": 47,
     "metadata": {},
     "output_type": "execute_result"
    }
   ],
   "source": [
    "s[:-1]"
   ]
  },
  {
   "cell_type": "code",
   "execution_count": 49,
   "metadata": {},
   "outputs": [
    {
     "data": {
      "text/plain": [
       "2020-01-01    NaN\n",
       "2020-01-02    0.2\n",
       "2020-01-03    0.4\n",
       "2020-01-06    0.6\n",
       "2020-01-07    0.8\n",
       "2020-01-08    1.0\n",
       "2020-01-09    1.2\n",
       "2020-01-10    1.4\n",
       "2020-01-13    1.6\n",
       "2020-01-14    1.8\n",
       "2020-01-15    NaN\n",
       "Freq: B, dtype: float64"
      ]
     },
     "execution_count": 49,
     "metadata": {},
     "output_type": "execute_result"
    }
   ],
   "source": [
    "# automatic alignment on the union of indexes of objects indexed differently\n",
    "# with Not-a-Number when one Series or the other is lacking data \n",
    "s_align = s[1:] + s[:-1]\n",
    "s_align"
   ]
  },
  {
   "cell_type": "code",
   "execution_count": 52,
   "metadata": {},
   "outputs": [
    {
     "data": {
      "text/plain": [
       "2020-01-01    0.0\n",
       "2020-01-02    0.1\n",
       "2020-01-03    0.2\n",
       "2020-01-06    0.3\n",
       "2020-01-07    0.4\n",
       "2020-01-08    0.5\n",
       "2020-01-09    0.6\n",
       "2020-01-10    0.7\n",
       "2020-01-13    0.8\n",
       "2020-01-14    0.9\n",
       "2020-01-15    1.0\n",
       "Freq: B, Name: Dummy Series, dtype: float64"
      ]
     },
     "execution_count": 52,
     "metadata": {},
     "output_type": "execute_result"
    }
   ],
   "source": [
    "# series can have a name, which you can set in the 'name' parameter of pd.Series, or give to it afterwards\n",
    "s.name = \"Dummy Series\"\n",
    "s"
   ]
  },
  {
   "cell_type": "code",
   "execution_count": null,
   "metadata": {},
   "outputs": [],
   "source": []
  }
 ],
 "metadata": {
  "kernelspec": {
   "display_name": "Python 3",
   "language": "python",
   "name": "python3"
  },
  "language_info": {
   "codemirror_mode": {
    "name": "ipython",
    "version": 3
   },
   "file_extension": ".py",
   "mimetype": "text/x-python",
   "name": "python",
   "nbconvert_exporter": "python",
   "pygments_lexer": "ipython3",
   "version": "3.7.4"
  }
 },
 "nbformat": 4,
 "nbformat_minor": 2
}
