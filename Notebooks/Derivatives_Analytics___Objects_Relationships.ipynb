{
 "cells": [
  {
   "cell_type": "markdown",
   "metadata": {},
   "source": [
    "# Derivatives Analytics - Objects Relationships"
   ]
  },
  {
   "cell_type": "markdown",
   "metadata": {},
   "source": [
    "**Author**: [Gabriele Pompa](https://www.linkedin.com/in/gabrielepompa/): gabriele.pompa@unisi.com"
   ]
  },
  {
   "cell_type": "markdown",
   "metadata": {},
   "source": [
    "# Table of contents\n",
    "\n",
    "[Executive Summary](#executive-summary)\n",
    "\n",
    "**TODO**"
   ]
  },
  {
   "cell_type": "markdown",
   "metadata": {},
   "source": [
    "### **Resources**: \n",
    "\n",
    "- [_Python for Finance (2nd ed.)_](http://shop.oreilly.com/product/0636920117728.do): Chapter 6 Object-Oriented Programming.\n",
    "\n",
    "\n",
    "- [Object-Oriented Programming in Python](https://python-textbok.readthedocs.io/en/1.0/index.html): Section [Object-oriented programming](https://python-textbok.readthedocs.io/en/1.0/Object_Oriented_Programming.html)\n",
    "\n",
    "\n",
    "- [Polymorphism in Python](https://www.programiz.com/python-programming/polymorphism)"
   ]
  },
  {
   "cell_type": "markdown",
   "metadata": {},
   "source": [
    "# Executive Summary <a name=\"executive-summary\"></a>"
   ]
  },
  {
   "cell_type": "markdown",
   "metadata": {},
   "source": [
    "**Make intro**"
   ]
  },
  {
   "cell_type": "markdown",
   "metadata": {},
   "source": [
    "The following sections are organized as follows:\n",
    "\n",
    "- **TODO**"
   ]
  },
  {
   "cell_type": "markdown",
   "metadata": {},
   "source": [
    "These are the basic imports"
   ]
  },
  {
   "cell_type": "code",
   "execution_count": 1,
   "metadata": {},
   "outputs": [],
   "source": [
    "# for NumPy arrays\n",
    "import numpy as np\n",
    "\n",
    "# for Pandas Series and DataFrame\n",
    "import pandas as pd\n",
    "\n",
    "# for statistical functions\n",
    "from scipy import stats\n",
    "\n",
    "# for Matplotlib plotting\n",
    "import matplotlib.pyplot as plt\n",
    "\n",
    "# to do inline plots in the Notebook\n",
    "%matplotlib inline\n",
    "\n",
    "# for Operating System operations\n",
    "import os\n",
    "\n",
    "# for some mathematical functions\n",
    "import math\n",
    "\n",
    "# for date management\n",
    "import datetime as dt"
   ]
  },
  {
   "cell_type": "markdown",
   "metadata": {},
   "source": [
    "# 1. Inheritance and Polymorphism <a name=\"inheritanche-poly\"></a>"
   ]
  },
  {
   "cell_type": "markdown",
   "metadata": {},
   "source": [
    "make intro"
   ]
  },
  {
   "cell_type": "code",
   "execution_count": null,
   "metadata": {},
   "outputs": [],
   "source": []
  },
  {
   "cell_type": "markdown",
   "metadata": {},
   "source": [
    "## 1.1. _Focus on:_ Digital Options <a name=\"inheritanche-poly\"></a>"
   ]
  },
  {
   "cell_type": "markdown",
   "metadata": {},
   "source": [
    "A digital cash-or-nothing (CON) call/put option of maturity $T$ and strike $K$ on an asset $S$ is a contract paying to the owner a certain amount of cash $Q$ should the asset settle above/below the strike at maturity. The payoff of a digital call option contract at time $T$ is then\n",
    "\n",
    "$$\n",
    "Q  \\times \\mathcal{I}_{\\left\\{S_T > K\\right\\}}\n",
    "$$\n",
    "\n",
    "and, symmetrically, for a put option\n",
    "\n",
    "$$\n",
    "Q  \\times \\mathcal{I}_{\\left\\{S_T \\leq K\\right\\}}\n",
    "$$\n",
    "\n",
    "where $\\mathcal{I}_{x}$ is the indicator function for event $x$, worth $1$ in case $x$ materializes and $0$ otherwise."
   ]
  },
  {
   "cell_type": "markdown",
   "metadata": {},
   "source": [
    "As before, we consider non-dividend paying underlying asset $S$. At any time $t \\leq T$, the price $c_t$ of the digital CON call option under the Black-Scholes model is given by\n",
    "\n",
    "$$\n",
    "c^{CON}_t = Q e^{-r \\tau} N(d_2)\n",
    "$$\n",
    "\n",
    "where $\\tau = T-t$ is the option time-to-maturity, $r$ is the continuously compounding short-rate, $N(z)$ is the cumulative distribution function of a standard normal random variable and the $d_2$ argument has been already defined for plain-vanilla options. For theoretical background (an notation) we refer to [_Financial Modeling 1_ lecture notes](https://finmod1.wordpress.com/lecture-notes/) from Professor Pacati."
   ]
  },
  {
   "cell_type": "markdown",
   "metadata": {},
   "source": [
    "Independently from the valuation model used to price the option (we assume constant deterministic short-rate $r$ here and everywhere in this notebook), there are non-arbitrage arguments leading to upper and lower limits for the price of the CON options. At any time $t \\leq T$, the price $\\text{price}_t$ of both call and put CONs satisfies:\n",
    "\n",
    "$$\n",
    "0 \\leq \\text{price}_t \\leq Q e^{-r \\tau}\n",
    "$$\n",
    "\n",
    "This can be easily understood: since both type of CON options, at most, pay an amount of cash $Q$ in $T$, at any time $t \\leq T$ they cannot be worth more than the discounted (from $T$ to $t$) amount of cash, that is $Q e^{-r (T-t)} = Q e^{-r \\tau}$. Moreover, since the worst that can happen owning a CON option is that it expires worthless in $T$ (that is, not paying any cash), its current market value cannot be negative, then $0$ has to be the lower bound. "
   ]
  },
  {
   "cell_type": "markdown",
   "metadata": {},
   "source": [
    "Moreover, from the financial point of view, CON call and put prices are related by the following _parity_ relation\n",
    "\n",
    "$$\n",
    "c^{CON}_t + p^{CON}_t = Qe^{-r\\tau}\n",
    "$$\n",
    "\n",
    "which we can use to compute the put price $p^{CON}_t$, once we know the call's price $c^{CON}_t$ and the other contract variables."
   ]
  },
  {
   "cell_type": "markdown",
   "metadata": {},
   "source": [
    "In the spirit of the `PlainVaillaOption` class developed before, we implement a Black-Scholes pricer for digital options as a `DigitalOption` class"
   ]
  },
  {
   "cell_type": "markdown",
   "metadata": {},
   "source": [
    "For convenience, we report here `PlainVanillaOption` class"
   ]
  },
  {
   "cell_type": "code",
   "execution_count": 2,
   "metadata": {},
   "outputs": [],
   "source": [
    "class PlainVanillaOption:\n",
    "    \"\"\"\n",
    "    PlainVanillaOption class implementing payoff and pricing of plain-vanilla call and put options.\n",
    "    Put price is calculated using put-call parity\n",
    "    \n",
    "    Attributes:\n",
    "    -----------\n",
    "        type (str):               type of the options. Can be either 'call' or 'put';\n",
    "        S_t (float):              spot price of the underlying asset at the valuation date 't';\n",
    "        K (float):                strike price;\n",
    "        t (str; dt.datetime):     valuation date. Can be either a \"dd-mm-YYYY\" String or a pd.datetime() object\n",
    "        T (str; dt.datetime):     expiration date. Can be either a \"dd-mm-YYYY\" String or a pd.datetime() object\n",
    "        tau (float):              time to maturity in years, computed as tau=T-t by time_to_maturity() method\n",
    "        r (float):                continuously compounded short-rate;\n",
    "        sigma (float):            volatility of underlying asset;\n",
    "    \n",
    "    Public Methods:\n",
    "    --------   \n",
    "    \n",
    "        getters and setters for all attributes\n",
    "        \n",
    "        payoff: float\n",
    "            Computes the payoff of the option and returns it\n",
    "\n",
    "        price_upper_limit: float \n",
    "            Returns the upper limit for a vanilla option price.\n",
    "\n",
    "        price_lower_limit: float \n",
    "            Returns the lower limit for a vanilla option price.\n",
    "            \n",
    "        price: float\n",
    "            Computes the exact price of the option and returns it, using call_price() or put_price()\n",
    "\n",
    "    \"\"\"\n",
    "    \n",
    "    def __init__(self, option_type, S_t, K, t, T, r, sigma):\n",
    "\n",
    "        # option type check\n",
    "        if option_type not in ['call', 'put']:\n",
    "            raise NotImplementedError(\"Option Type: '{}' does not exist!\".format(option_type))\n",
    "        \n",
    "        self.__type  = option_type\n",
    "        self.__S     = S_t\n",
    "        self.__K     = K\n",
    "        self.__t     = dt.datetime.strptime(t, \"%d-%m-%Y\") if isinstance(t, str) else t\n",
    "        self.__T     = dt.datetime.strptime(T, \"%d-%m-%Y\") if isinstance(T, str) else T\n",
    "        self.__tau   = self.__time_to_maturity()\n",
    "        self.__r     = r\n",
    "        self.__sigma = sigma\n",
    "        \n",
    "        # informations dictionary\n",
    "        self.__docstring_dict = {\n",
    "            'call':{\n",
    "                'price_upper_limit': r\"Upper limit: $S_t$\",\n",
    "                'payoff':            r\"Payoff: $max(S-K, 0)$\",\n",
    "                'price_lower_limit': r\"Lower limit: $max(S_t - K e^{-r \\tau}, 0)$\"\n",
    "            },\n",
    "            'put': {\n",
    "                'price_upper_limit': r\"Upper limit: $K e^{-r \\tau}$\",\n",
    "                'payoff':            r\"Payoff: $max(K-S, 0)$\",\n",
    "                'price_lower_limit': r\"Lower limit: $max(K e^{-r \\tau} - S_t, 0)$\"}\n",
    "        }\n",
    "                \n",
    "    def __repr__(self):\n",
    "        return r\"PlainVanillaOption('{}', S_t={:.1f}, K={:.1f}, t={}, T={}, tau={:.2f}y, r={:.1f}%, sigma={:.1f}%)\".\\\n",
    "                format(self.get_type(), self.get_S(), self.get_K(), self.get_t().strftime(\"%d-%m-%Y\"), \n",
    "                       self.get_T().strftime(\"%d-%m-%Y\"), self.get_tau(), self.get_r()*100, self.get_sigma()*100)\n",
    "    \n",
    "    # getters\n",
    "    def get_type(self):\n",
    "        return self.__type\n",
    "    \n",
    "    def get_S(self):\n",
    "        return self.__S\n",
    "    \n",
    "    def get_K(self):\n",
    "        return self.__K\n",
    "    \n",
    "    def get_t(self):\n",
    "        return self.__t\n",
    "\n",
    "    def get_T(self):\n",
    "        return self.__T\n",
    "\n",
    "    def get_tau(self):\n",
    "        return self.__tau\n",
    "    \n",
    "    def get_r(self):\n",
    "        return self.__r\n",
    "\n",
    "    def get_sigma(self):\n",
    "        return self.__sigma\n",
    "    \n",
    "    def get_docstring(self, label):\n",
    "        return self.__docstring_dict[self.get_type()][label]    \n",
    "    \n",
    "    # setters\n",
    "    def set_type(self, option_type):\n",
    "        self.__type = option_type\n",
    "        \n",
    "        # option type check\n",
    "        if option_type not in ['call', 'put']:\n",
    "            raise NotImplementedError(\"Option Type: '{}' does not exist!\".format(option_type))\n",
    "        \n",
    "    def set_S(self, S):\n",
    "        self.__S = S\n",
    "        \n",
    "    def set_K(self, K):\n",
    "        self.__K = K\n",
    "    \n",
    "    def set_t(self, t):\n",
    "        self.__t = dt.datetime.strptime(t, \"%d-%m-%Y\") if isinstance(t, str) else t\n",
    "        # update time to maturity, given changed t, to keep internal consistency\n",
    "        self.__update_tau() \n",
    "\n",
    "    def set_T(self, T):\n",
    "        self.__T = dt.datetime.strptime(T, \"%d-%m-%Y\") if isinstance(T, str) else T\n",
    "        # update time to maturity, given changed T, to keep internal consistency\n",
    "        self.__update_tau() \n",
    "    \n",
    "    def set_tau(self, tau):\n",
    "        self.__tau = tau\n",
    "        # update expiration date, given changed tau, to keep internal consistency\n",
    "        # we could have updated valuation date as well, but this is a stylistic choice\n",
    "        self.__update_T()\n",
    "\n",
    "    def set_r(self, r):\n",
    "        self.__r = r\n",
    "\n",
    "    def set_sigma(self, sigma):\n",
    "        self.__sigma = sigma\n",
    "        \n",
    "    # update methods (private)\n",
    "    def __update_tau(self):\n",
    "        self.__tau = self.__time_to_maturity()\n",
    "\n",
    "    def __update_T(self):\n",
    "        self.__T = self.__t + dt.timedelta(days=math.ceil(self.__tau*365))\n",
    "\n",
    "    # time to maturity calculation\n",
    "    def __time_to_maturity(self):\n",
    "        return (self.__T - self.__t).days / 365.0\n",
    "    \n",
    "    # payoff calculation\n",
    "    def payoff(self):\n",
    "        # call case\n",
    "        if self.get_type() == 'call':\n",
    "            return max(0.0, self.get_S() - self.get_K())\n",
    "        # put case\n",
    "        else:\n",
    "            return max(0.0, self.get_K() - self.get_S())\n",
    "\n",
    "    # upper price limit\n",
    "    def price_upper_limit(self):\n",
    "        # call case\n",
    "        if self.get_type() == 'call':\n",
    "            return self.get_S()\n",
    "        # put case\n",
    "        else:\n",
    "            return self.get_K()*np.exp(-self.get_r() * self.get_tau())\n",
    "\n",
    "    # lower price limit\n",
    "    def price_lower_limit(self):\n",
    "        # call case\n",
    "        if self.get_type() == 'call':\n",
    "            return max(self.get_S() - self.get_K()*np.exp(-self.get_r() * self.get_tau()), 0)\n",
    "        # put case\n",
    "        else:\n",
    "            return max(self.get_K()*np.exp(-self.get_r() * self.get_tau()) - self.get_S(), 0)\n",
    "            \n",
    "    # price calculation\n",
    "    def price(self):\n",
    "        # call case\n",
    "        if self.get_type() == 'call':\n",
    "            return self.__call_price()\n",
    "        # put case\n",
    "        else:\n",
    "            return self.__put_price()\n",
    "          \n",
    "    def __call_price(self):\n",
    "        \n",
    "        # some local variables retrieved to be used repeatedly\n",
    "        S = self.get_S()\n",
    "        tau = self.get_tau()\n",
    "        \n",
    "        if S == 0: # this is to avoid log(0) issues\n",
    "            return 0.0\n",
    "        elif tau == 0.0: # this is to avoid 0/0 issues\n",
    "            return self.payoff()\n",
    "        else:\n",
    "            K     = self.get_K()\n",
    "            r     = self.get_r()\n",
    "            sigma = self.get_sigma()\n",
    "\n",
    "            d1 = (np.log(S/K) + (r + 0.5 * sigma ** 2) * tau) / (sigma * np.sqrt(tau))\n",
    "            d2 = d1 - sigma * np.sqrt(tau)\n",
    "\n",
    "            price = S * stats.norm.cdf(d1, 0.0, 1.0) - K * np.exp(-r * tau) * stats.norm.cdf(d2, 0.0, 1.0)\n",
    "\n",
    "            return price\n",
    "    \n",
    "    def __put_price(self):\n",
    "        \"\"\" Put price from Put-Call parity relation: Call + Ke^{-r*tau} = Put + S\"\"\"\n",
    "        return self.__call_price() + self.get_K() * np.exp(- self.get_r() * self.get_tau()) - self.get_S()        "
   ]
  },
  {
   "cell_type": "markdown",
   "metadata": {},
   "source": [
    "The similarity with plain-vanilla options is apparent. The only difference is:\n",
    "\n",
    "- the additional parameter `self.__Q` needed to initialize the digital option class with the cash amount $Q$;\n",
    "\n",
    "- the functional form of the payoff, price boundaries and price."
   ]
  },
  {
   "cell_type": "code",
   "execution_count": 3,
   "metadata": {},
   "outputs": [],
   "source": [
    "class DigitalOption(object):\n",
    "    \"\"\"\n",
    "    DigitalOption class implementing payoff and pricing of digital call and put options.\n",
    "    Put price is calculated using put-call parity\n",
    "    \n",
    "    Attributes:\n",
    "    -----------\n",
    "        type (str):               type of the options. Can be either 'call' or 'put';\n",
    "        Q (float):                cash amount\n",
    "        S_t (float):              spot price of the underlying asset at the valuation date 't';\n",
    "        K (float):                strike price;\n",
    "        t (str; dt.datetime):     valuation date. Can be either a \"dd-mm-YYYY\" String or a pd.datetime() object\n",
    "        T (str; dt.datetime):     expiration date. Can be either a \"dd-mm-YYYY\" String or a pd.datetime() object\n",
    "        tau (float):              time to maturity in years, computed as tau=T-t by time_to_maturity() method\n",
    "        r (float):                continuously compounded short-rate;\n",
    "        sigma (float):            volatility of underlying asset;\n",
    "    \n",
    "    Public Methods:\n",
    "    --------   \n",
    "    \n",
    "        getters and setters for all attributes\n",
    "        \n",
    "        payoff: float\n",
    "            Computes the payoff of the option and returns it\n",
    "\n",
    "        price_upper_limit: float \n",
    "            Returns the upper limit for a CON digital option price.\n",
    "\n",
    "        price_lower_limit: float \n",
    "            Returns the lower limit for a CON digital option price\n",
    "            .\n",
    "        price: float\n",
    "            Computes the exact price of the option and returns it, using call_price() or put_price()\n",
    "\n",
    "    \"\"\"\n",
    "    \n",
    "    def __init__(self, option_type, cash_amount, S_t, K, t, T, r, sigma):\n",
    "\n",
    "        # option type check\n",
    "        if option_type not in ['call', 'put']:\n",
    "            raise NotImplementedError(\"Option Type: '{}' does not exist!\".format(option_type))\n",
    "        \n",
    "        self.__type  = option_type\n",
    "        self.__Q     = cash_amount\n",
    "        self.__S     = S_t\n",
    "        self.__K     = K\n",
    "        self.__t     = dt.datetime.strptime(t, \"%d-%m-%Y\") if isinstance(t, str) else t\n",
    "        self.__T     = dt.datetime.strptime(T, \"%d-%m-%Y\") if isinstance(T, str) else T\n",
    "        self.__tau   = self.__time_to_maturity()\n",
    "        self.__r     = r\n",
    "        self.__sigma = sigma\n",
    "        \n",
    "        # informations dictionary\n",
    "        self.__docstring_dict = {\n",
    "            'call':{\n",
    "                'price_upper_limit': r\"Upper limit: $Q e^{-r \\tau}$\",\n",
    "                'payoff':            r\"Payoff: $Q$ $I(S > K)$\",\n",
    "                'price_lower_limit': r\"Lower limit: $0$\"\n",
    "            },\n",
    "            'put': {\n",
    "                'price_upper_limit': r\"Upper limit: $Q e^{-r \\tau}$\",\n",
    "                'payoff':            r\"Payoff: $Q$ $I(S \\leq K)$\",\n",
    "                'price_lower_limit': r\"Lower limit: $0$\"}\n",
    "        }        \n",
    "                \n",
    "    def __repr__(self):\n",
    "        return r\"DigitalOption('{}', cash={:.1f}, S_t={:.1f}, K={:.1f}, t={}, T={}, tau={:.2f}y, r={:.1f}%, sigma={:.1f}%)\".\\\n",
    "                format(self.get_type(), self.get_Q(), self.get_S(), self.get_K(), self.get_t().strftime(\"%d-%m-%Y\"), \n",
    "                       self.get_T().strftime(\"%d-%m-%Y\"), self.get_tau(), self.get_r()*100, self.get_sigma()*100)\n",
    "    \n",
    "    # getters\n",
    "    def get_type(self):\n",
    "        return self.__type\n",
    "    \n",
    "    def get_Q(self):\n",
    "        return self.__Q\n",
    "    \n",
    "    def get_S(self):\n",
    "        return self.__S\n",
    "    \n",
    "    def get_K(self):\n",
    "        return self.__K\n",
    "    \n",
    "    def get_t(self):\n",
    "        return self.__t\n",
    "\n",
    "    def get_T(self):\n",
    "        return self.__T\n",
    "\n",
    "    def get_tau(self):\n",
    "        return self.__tau\n",
    "    \n",
    "    def get_r(self):\n",
    "        return self.__r\n",
    "\n",
    "    def get_sigma(self):\n",
    "        return self.__sigma\n",
    "    \n",
    "    def get_docstring(self, label):\n",
    "        return self.__docstring_dict[self.get_type()][label]    \n",
    "    \n",
    "    # setters\n",
    "    def set_type(self, option_type):\n",
    "        self.__type = option_type\n",
    "        \n",
    "        # option type check\n",
    "        if option_type not in ['call', 'put']:\n",
    "            raise NotImplementedError(\"Option Type: '{}' does not exist!\".format(option_type))\n",
    "    \n",
    "    def set_Q(self, cash_amount):\n",
    "        self.__Q = cash_amount\n",
    "        \n",
    "    def set_S(self, S):\n",
    "        self.__S = S\n",
    "        \n",
    "    def set_K(self, K):\n",
    "        self.__K = K\n",
    "    \n",
    "    def set_t(self, t):\n",
    "        self.__t = dt.datetime.strptime(t, \"%d-%m-%Y\") if isinstance(t, str) else t\n",
    "        # update time to maturity, given changed t, to keep internal consistency\n",
    "        self.__update_tau() \n",
    "\n",
    "    def set_T(self, T):\n",
    "        self.__T = dt.datetime.strptime(T, \"%d-%m-%Y\") if isinstance(T, str) else T\n",
    "        # update time to maturity, given changed T, to keep internal consistency\n",
    "        self.__update_tau() \n",
    "    \n",
    "    def set_tau(self, tau):\n",
    "        self.__tau = tau\n",
    "        # update expiration date, given changed tau, to keep internal consistency\n",
    "        # we could have updated valuation date as well, but this is a stylistic choice\n",
    "        self.__update_T()\n",
    "\n",
    "    def set_r(self, r):\n",
    "        self.__r = r\n",
    "\n",
    "    def set_sigma(self, sigma):\n",
    "        self.__sigma = sigma\n",
    "        \n",
    "    # update methods (private)\n",
    "    def __update_tau(self):\n",
    "        self.__tau = self.__time_to_maturity()\n",
    "\n",
    "    def __update_T(self):\n",
    "        self.__T = self.__t + dt.timedelta(days=math.ceil(self.__tau*365))\n",
    "\n",
    "    # time to maturity method (private)\n",
    "    def __time_to_maturity(self):\n",
    "        return (self.__T - self.__t).days / 365.0\n",
    "    \n",
    "    # payoff calculation\n",
    "    def payoff(self):\n",
    "        # call case\n",
    "        if self.get_type() == 'call':\n",
    "            return self.get_Q() * int(self.get_S() > self.get_K())\n",
    "        # put case\n",
    "        else:\n",
    "            return self.get_Q() * int(self.get_S() <= self.get_K())\n",
    "        \n",
    "    # upper price limit\n",
    "    def price_upper_limit(self):\n",
    "        # call case\n",
    "        if self.get_type() == 'call':\n",
    "            return self.get_Q()*np.exp(-self.get_r() * self.get_tau())\n",
    "        # put case\n",
    "        else:\n",
    "            return self.get_Q()*np.exp(-self.get_r() * self.get_tau())\n",
    "\n",
    "    # lower price limit\n",
    "    def price_lower_limit(self):\n",
    "        # call case\n",
    "        if self.get_type() == 'call':\n",
    "            return 0.0\n",
    "        # put case\n",
    "        else:\n",
    "            return 0.0\n",
    "        \n",
    "    # price calculation\n",
    "    def price(self):\n",
    "        # call case\n",
    "        if self.get_type() == 'call':\n",
    "            return self.__call_price()\n",
    "        # put case\n",
    "        else:\n",
    "            return self.__put_price()\n",
    "          \n",
    "    def __call_price(self):\n",
    "        \n",
    "        # some local variables retrieved to be used repeatedly\n",
    "        S = self.get_S()\n",
    "        tau = self.get_tau()\n",
    "        \n",
    "        if S == 0: # this is to avoid log(0) issues\n",
    "            return 0.0\n",
    "        elif tau == 0.0: # this is to avoid 0/0 issues\n",
    "            return self.payoff()\n",
    "        else:\n",
    "            Q     = self.get_Q()\n",
    "            K     = self.get_K()\n",
    "            r     = self.get_r()\n",
    "            sigma = self.get_sigma()\n",
    "\n",
    "            d1 = (np.log(S/K) + (r + 0.5 * sigma ** 2) * tau) / (sigma * np.sqrt(tau))\n",
    "            d2 = d1 - sigma * np.sqrt(tau)\n",
    "\n",
    "            price = Q * np.exp(-r * tau) * stats.norm.cdf(d2, 0.0, 1.0)\n",
    "\n",
    "            return price\n",
    "    \n",
    "    def __put_price(self):\n",
    "        \"\"\" Put price from Put-Call parity relation: CON_Call + CON_Put = Qe^{-r*tau}\"\"\"\n",
    "        return self.get_Q() * np.exp(- self.get_r() * self.get_tau()) - self.__call_price()        "
   ]
  },
  {
   "cell_type": "markdown",
   "metadata": {},
   "source": [
    "Here is a `DigitalOption` object representing a digital CON call option"
   ]
  },
  {
   "cell_type": "code",
   "execution_count": 4,
   "metadata": {},
   "outputs": [
    {
     "data": {
      "text/plain": [
       "DigitalOption('call', cash=1.0, S_t=90.0, K=100.0, t=19-04-2020, T=31-12-2020, tau=0.70y, r=5.0%, sigma=20.0%)"
      ]
     },
     "execution_count": 4,
     "metadata": {},
     "output_type": "execute_result"
    }
   ],
   "source": [
    "CON_Call = DigitalOption(option_type='call', cash_amount = 1.0, S_t=90.0, K=100.0, t=\"19-04-2020\", T=\"31-12-2020\", r=0.05, sigma=0.2)\n",
    "CON_Call"
   ]
  },
  {
   "cell_type": "code",
   "execution_count": 5,
   "metadata": {},
   "outputs": [
    {
     "data": {
      "text/plain": [
       "__main__.DigitalOption"
      ]
     },
     "execution_count": 5,
     "metadata": {},
     "output_type": "execute_result"
    }
   ],
   "source": [
    "type(CON_Call)"
   ]
  },
  {
   "cell_type": "code",
   "execution_count": 6,
   "metadata": {},
   "outputs": [
    {
     "data": {
      "text/plain": [
       "True"
      ]
     },
     "execution_count": 6,
     "metadata": {},
     "output_type": "execute_result"
    }
   ],
   "source": [
    "isinstance(CON_Call, DigitalOption)"
   ]
  },
  {
   "cell_type": "code",
   "execution_count": 7,
   "metadata": {},
   "outputs": [
    {
     "data": {
      "text/plain": [
       "0.29674605684957245"
      ]
     },
     "execution_count": 7,
     "metadata": {},
     "output_type": "execute_result"
    }
   ],
   "source": [
    "CON_Call.price()"
   ]
  },
  {
   "cell_type": "markdown",
   "metadata": {},
   "source": [
    "and here another one representing a CON put option"
   ]
  },
  {
   "cell_type": "code",
   "execution_count": 8,
   "metadata": {},
   "outputs": [
    {
     "data": {
      "text/plain": [
       "DigitalOption('put', cash=1.0, S_t=90.0, K=100.0, t=19-04-2020, T=31-12-2020, tau=0.70y, r=5.0%, sigma=20.0%)"
      ]
     },
     "execution_count": 8,
     "metadata": {},
     "output_type": "execute_result"
    }
   ],
   "source": [
    "CON_Put = DigitalOption(option_type='put', cash_amount = 1.0, S_t=90.0, K=100.0, t=\"19-04-2020\", T=\"31-12-2020\", r=0.05, sigma=0.2)\n",
    "CON_Put"
   ]
  },
  {
   "cell_type": "code",
   "execution_count": 9,
   "metadata": {},
   "outputs": [
    {
     "data": {
      "text/plain": [
       "__main__.DigitalOption"
      ]
     },
     "execution_count": 9,
     "metadata": {},
     "output_type": "execute_result"
    }
   ],
   "source": [
    "type(CON_Put)"
   ]
  },
  {
   "cell_type": "code",
   "execution_count": 10,
   "metadata": {},
   "outputs": [
    {
     "data": {
      "text/plain": [
       "True"
      ]
     },
     "execution_count": 10,
     "metadata": {},
     "output_type": "execute_result"
    }
   ],
   "source": [
    "isinstance(CON_Put, DigitalOption)"
   ]
  },
  {
   "cell_type": "code",
   "execution_count": 11,
   "metadata": {},
   "outputs": [
    {
     "data": {
      "text/plain": [
       "0.6687932243156424"
      ]
     },
     "execution_count": 11,
     "metadata": {},
     "output_type": "execute_result"
    }
   ],
   "source": [
    "CON_Put.price()"
   ]
  },
  {
   "cell_type": "code",
   "execution_count": 12,
   "metadata": {},
   "outputs": [
    {
     "data": {
      "text/plain": [
       "1.0"
      ]
     },
     "execution_count": 12,
     "metadata": {},
     "output_type": "execute_result"
    }
   ],
   "source": [
    "CON_Put.payoff()"
   ]
  },
  {
   "cell_type": "markdown",
   "metadata": {},
   "source": [
    "## 1.2. Polymorphism <a name=\"poly\"></a>"
   ]
  },
  {
   "cell_type": "markdown",
   "metadata": {},
   "source": [
    "Polymorphism (from ancient Greek: $\\pi \\omicron \\lambda \\upsilon$ + $\\mu \\omicron \\rho \\phi \\eta'$ = $multiple$ + $shape$) is the condition of occurrence of the same thing in different forms. For a good treatment of polymorhism in Python refer to [this blog post](https://www.programiz.com/python-programming/polymorphism). \n",
    "\n",
    "The fact that both `PlainVanillaOption` and `DigitalOption` classes provide methods with the same name (like `.payoff()`, `.price()` and getters and setters for the attributes they have in common), is an example of _polymorphism._ \n",
    "\n",
    "In general, as long as two - otherwise unrelated - classes `A` and `B` define a method `.method()` with the same name - but possibly implemented in completely different ways by `A` and `B` (as is differently implemented the Black-Scholes `.price()` of a plain-vanilla from the Black-Scholes `.price()` of a CON option) - we can use the method `.method()` elsewhere (e.g. in other functions outside the classes) disregarding whether we are calling that method on objects of class `A` or `B`. We then say that classes `A` and `B` are implementing _polymorphism_ through the (polymorphic) method `.method()`."
   ]
  },
  {
   "cell_type": "markdown",
   "metadata": {},
   "source": [
    "We can leverage the polymorphism of `PlainVanillaOption` and `DigitalOption` classes to use our plotting functions `plot_multi_tau(option,...)` and `plot_single_tau(option,...)` with an object `option` of any of the two classes. In other words, we can plot, without any additional specifications, both plain-vanilla and CON options somehow _agnostically._"
   ]
  },
  {
   "cell_type": "code",
   "execution_count": 13,
   "metadata": {},
   "outputs": [],
   "source": [
    "def plot_multi_tau(option, S_list, tau_list):\n",
    "    \"\"\"\n",
    "    plot_multi_tau(option, S_list, tau_list) plot Plain-Vanilla or Cash-Or-Nothing option prices for underlying and \n",
    "    maturities in 'S_list' and 'tau_list', respectively.\n",
    "\n",
    "    Parameters:\n",
    "        option (PlainVanillaOption; DigitalOption): instance of PlainVanillaOption or DigitalOption class;\n",
    "        S_list (List):                              list of underlying values;\n",
    "        tau_list (List):                            list of times to maturity (in years);\n",
    "        \n",
    "    Returns:\n",
    "        None;\n",
    "\n",
    "    \"\"\"\n",
    "\n",
    "    # color cycle setup: basically a cycle of different shades of blue as many time to maturity there are\n",
    "    plt.rcParams[\"axes.prop_cycle\"] = plt.cycler(\"color\", plt.cm.Blues(np.linspace(0,1,len(tau_list)+1)))\n",
    "    \n",
    "    # setting legend labels\n",
    "    # plain vanilla case:\n",
    "    if isinstance(option, PlainVanillaOption):\n",
    "        title_label = \"Plain Vanilla\"\n",
    "    # digital case:\n",
    "    else:\n",
    "        title_label = \"Cash-Or-Nothing ($Q={}$)\".format(option.get_Q())\n",
    "\n",
    "    # define the figure\n",
    "    fig, ax = plt.subplots(figsize=(10,6))\n",
    "\n",
    "    # auxiliary variables\n",
    "    numS = len(S_list)\n",
    "    numTau = len(tau_list)\n",
    "\n",
    "    # plot a dot to highlight the strike position\n",
    "    ax.plot(K, 0, 'k.', ms=15, label=\"Strike $K$\")\n",
    "\n",
    "    # plot the price for different underlying values, one line for each different time to maturity tau\n",
    "    for i in np.arange(numTau)[::-1]: # loop over reversed range\n",
    "        \n",
    "        option.set_tau(tau_list[i])\n",
    "        price = np.zeros(numS)\n",
    "        \n",
    "        for j in np.arange(numS):\n",
    "            option.set_S(S_list[j]) # reset of underlying value\n",
    "            price[j] = option.price()\n",
    "        \n",
    "        ax.plot(S_list, price, '-', lw=1.5, label=r\"$\\tau={}$\".format(option.get_tau()))\n",
    "    \n",
    "    # plot the red payoff line for different underlying values\n",
    "    payoff = np.zeros(numS)\n",
    "    for i in np.arange(numS):\n",
    "        option.set_S(S_list[i]) # reset of underlying value\n",
    "        payoff[i] = option.payoff()\n",
    "    \n",
    "    ax.plot(S_list, payoff, 'r-',  lw=1.5, label=option.get_docstring('payoff'))\n",
    "    \n",
    "    # set axis labels \n",
    "    ax.set_xlabel('Underlying $S_t$', fontsize=12) \n",
    "    ax.set_ylabel('Black-Scholes Price', fontsize=12) \n",
    "\n",
    "    # set title\n",
    "    ax.set_title(r\"Price of a {} {} Option $(S_t, K={}, \\tau=T-t, r={}\\%, \\sigma={}\\%)$ Vs $S$ (at different $\\tau$)\".\n",
    "                 format(title_label, option.get_type(), option.get_K(), option.get_r()*100, option.get_sigma()*100), fontsize=12) \n",
    "\n",
    "    # add the legend ('best' loc parameters places the legend in the best position automatically)\n",
    "    ax.legend(loc='best', ncol=1)\n",
    "        \n",
    "    # add a gride to ease visualization\n",
    "    plt.grid(True)\n",
    "\n",
    "    # show the plot\n",
    "    fig.tight_layout()\n",
    "    plt.show()"
   ]
  },
  {
   "cell_type": "markdown",
   "metadata": {},
   "source": [
    "So let's plot a `CON_Call` CON call option"
   ]
  },
  {
   "cell_type": "code",
   "execution_count": 14,
   "metadata": {},
   "outputs": [
    {
     "data": {
      "text/plain": [
       "DigitalOption('call', cash=1.0, S_t=90.0, K=100.0, t=19-04-2020, T=31-12-2020, tau=0.70y, r=5.0%, sigma=20.0%)"
      ]
     },
     "execution_count": 14,
     "metadata": {},
     "output_type": "execute_result"
    }
   ],
   "source": [
    "CON_Call = DigitalOption(option_type='call', cash_amount = 1.0, S_t=90.0, K=100.0, t=\"19-04-2020\", T=\"31-12-2020\", r=0.05, sigma=0.2)\n",
    "CON_Call"
   ]
  },
  {
   "cell_type": "code",
   "execution_count": 15,
   "metadata": {},
   "outputs": [
    {
     "data": {
      "text/plain": [
       "array([ 80.        ,  80.4040404 ,  80.80808081,  81.21212121,\n",
       "        81.61616162,  82.02020202,  82.42424242,  82.82828283,\n",
       "        83.23232323,  83.63636364,  84.04040404,  84.44444444,\n",
       "        84.84848485,  85.25252525,  85.65656566,  86.06060606,\n",
       "        86.46464646,  86.86868687,  87.27272727,  87.67676768,\n",
       "        88.08080808,  88.48484848,  88.88888889,  89.29292929,\n",
       "        89.6969697 ,  90.1010101 ,  90.50505051,  90.90909091,\n",
       "        91.31313131,  91.71717172,  92.12121212,  92.52525253,\n",
       "        92.92929293,  93.33333333,  93.73737374,  94.14141414,\n",
       "        94.54545455,  94.94949495,  95.35353535,  95.75757576,\n",
       "        96.16161616,  96.56565657,  96.96969697,  97.37373737,\n",
       "        97.77777778,  98.18181818,  98.58585859,  98.98989899,\n",
       "        99.39393939,  99.7979798 , 100.        , 100.2020202 ,\n",
       "       100.60606061, 101.01010101, 101.41414141, 101.81818182,\n",
       "       102.22222222, 102.62626263, 103.03030303, 103.43434343,\n",
       "       103.83838384, 104.24242424, 104.64646465, 105.05050505,\n",
       "       105.45454545, 105.85858586, 106.26262626, 106.66666667,\n",
       "       107.07070707, 107.47474747, 107.87878788, 108.28282828,\n",
       "       108.68686869, 109.09090909, 109.49494949, 109.8989899 ,\n",
       "       110.3030303 , 110.70707071, 111.11111111, 111.51515152,\n",
       "       111.91919192, 112.32323232, 112.72727273, 113.13131313,\n",
       "       113.53535354, 113.93939394, 114.34343434, 114.74747475,\n",
       "       115.15151515, 115.55555556, 115.95959596, 116.36363636,\n",
       "       116.76767677, 117.17171717, 117.57575758, 117.97979798,\n",
       "       118.38383838, 118.78787879, 119.19191919, 119.5959596 ,\n",
       "       120.        ])"
      ]
     },
     "execution_count": 15,
     "metadata": {},
     "output_type": "execute_result"
    }
   ],
   "source": [
    "K = 100.0\n",
    "\n",
    "S_strip = np.linspace(80, 120, 100)\n",
    "S_strip = np.append(S_strip, K)\n",
    "S_strip = np.sort(S_strip)\n",
    "S_strip"
   ]
  },
  {
   "cell_type": "code",
   "execution_count": 16,
   "metadata": {},
   "outputs": [
    {
     "data": {
      "text/plain": [
       "array([0.05, 0.1 , 0.25, 0.5 , 0.75, 1.  ])"
      ]
     },
     "execution_count": 16,
     "metadata": {},
     "output_type": "execute_result"
    }
   ],
   "source": [
    "tau_strip = np.array([0.05, 0.1, 0.25, 0.5, 0.75, 1.0])\n",
    "tau_strip"
   ]
  },
  {
   "cell_type": "code",
   "execution_count": 17,
   "metadata": {
    "scrolled": true
   },
   "outputs": [
    {
     "data": {
      "image/png": "[encoded data removed]",
      "text/plain": [
       "<Figure size 720x432 with 1 Axes>"
      ]
     },
     "metadata": {
      "needs_background": "light"
     },
     "output_type": "display_data"
    }
   ],
   "source": [
    "plot_multi_tau(CON_Call, S_strip, tau_strip)"
   ]
  },
  {
   "cell_type": "markdown",
   "metadata": {},
   "source": [
    "and now a plain-vanilla put option"
   ]
  },
  {
   "cell_type": "code",
   "execution_count": 27,
   "metadata": {},
   "outputs": [
    {
     "data": {
      "text/plain": [
       "PlainVanillaOption('put', S_t=90.0, K=100.0, t=19-04-2020, T=31-12-2020, tau=0.70y, r=5.0%, sigma=20.0%)"
      ]
     },
     "execution_count": 27,
     "metadata": {},
     "output_type": "execute_result"
    }
   ],
   "source": [
    "Vanilla_Put = PlainVanillaOption(option_type='put', S_t=90.0, K=100.0, t=\"19-04-2020\", T=\"31-12-2020\", r=0.05, sigma=0.2)\n",
    "Vanilla_Put"
   ]
  },
  {
   "cell_type": "code",
   "execution_count": 28,
   "metadata": {
    "scrolled": false
   },
   "outputs": [
    {
     "data": {
      "image/png": "[encoded data removed]",
      "text/plain": [
       "<Figure size 720x432 with 1 Axes>"
      ]
     },
     "metadata": {
      "needs_background": "light"
     },
     "output_type": "display_data"
    }
   ],
   "source": [
    "plot_multi_tau(Vanilla_Put, S_strip, tau_strip)"
   ]
  },
  {
   "cell_type": "code",
   "execution_count": 21,
   "metadata": {},
   "outputs": [],
   "source": [
    "def plot_single_tau(option, S_list, tau):\n",
    "    \"\"\"\n",
    "    plot_single_tau(option, S_list, tau) plot option prices for underlying in 'S_list' and time to maturity 'tau'.\n",
    "\n",
    "    Parameters:\n",
    "        option (PlainVanillaOption): instance of PlainVanillaOption class;\n",
    "        S_list (List):               list of underlying values;\n",
    "        tau (float):                 time to maturity (in years);\n",
    "        \n",
    "    Returns:\n",
    "        None;\n",
    "\n",
    "    \"\"\"\n",
    "\n",
    "    # define the figure\n",
    "    fig, ax = plt.subplots(figsize=(10,6))\n",
    "    \n",
    "    # setting legend labels\n",
    "    # plain vanilla case:\n",
    "    if isinstance(option, PlainVanillaOption):\n",
    "        title_label = \"Plain Vanilla\"\n",
    "    # digital case:\n",
    "    else:\n",
    "        title_label = \"Cash-Or-Nothing ($Q={}$)\".format(option.get_Q())\n",
    "            \n",
    "    # auxiliary variable\n",
    "    numS = len(S_list)\n",
    "\n",
    "    # plot a dot to highlight the strike position\n",
    "    ax.plot(option.get_K(), 0, 'k.', ms=15, label=\"Strike $K$\")\n",
    "\n",
    "    # plot the upper limit, the price and the lower limit for different underlying values\n",
    "    upper_limit = np.zeros(numS)\n",
    "    price       = np.zeros(numS)\n",
    "    lower_limit = np.zeros(numS)\n",
    "    payoff      = np.zeros(numS)\n",
    "\n",
    "    for i in np.arange(numS):\n",
    "        option.set_S(S_list[i]) # reset of underlying value\n",
    "        \n",
    "        upper_limit[i] = option.price_upper_limit()\n",
    "        price[i]       = option.price()\n",
    "        lower_limit[i] = option.price_lower_limit()\n",
    "        payoff[i]      = option.payoff()\n",
    "\n",
    "    ax.plot(S_list, upper_limit, 'k-.', lw=1.5, label=option.get_docstring('price_upper_limit'))\n",
    "    ax.plot(S_list, price,       'b-',  lw=1.5, label=r\"Price\")\n",
    "    ax.plot(S_list, lower_limit, 'k--', lw=1.5, label=option.get_docstring('price_lower_limit'))\n",
    "    ax.plot(S_list, payoff,      'r-',  lw=1.5, label=option.get_docstring('payoff'))\n",
    "\n",
    "    # set axis labels \n",
    "    ax.set_xlabel('Underlying $S_t$', fontsize=12) \n",
    "    ax.set_ylabel('Black-Scholes Price', fontsize=12) \n",
    "\n",
    "    # set title\n",
    "    ax.set_title(r\"Price of a {} {} Option $(S_t, K={}, \\tau=T-t={:.1f}y, r={}\\%, \\sigma={}\\%)$ Vs $S$ (with price limits)\".\n",
    "                 format(title_label, option.get_type(), option.get_K(), option.get_tau(), option.get_r()*100, \n",
    "                        option.get_sigma()*100), fontsize=12) \n",
    "\n",
    "    # add the legend ('best' loc parameters places the legend in the best position automatically)\n",
    "    ax.legend(loc='best', ncol=1)\n",
    "\n",
    "    # add a gride to ease visualization\n",
    "    plt.grid(True)\n",
    "\n",
    "    # show the plot\n",
    "    fig.tight_layout()\n",
    "    plt.show()"
   ]
  },
  {
   "cell_type": "code",
   "execution_count": 22,
   "metadata": {},
   "outputs": [
    {
     "data": {
      "text/plain": [
       "array([ 0.        ,  0.1010101 ,  0.2020202 ,  0.3030303 ,  0.4040404 ,\n",
       "        0.50505051,  0.60606061,  0.70707071,  0.80808081,  0.90909091,\n",
       "        1.01010101,  1.11111111,  1.21212121,  1.31313131,  1.41414141,\n",
       "        1.51515152,  1.61616162,  1.71717172,  1.81818182,  1.91919192,\n",
       "        2.02020202,  2.12121212,  2.22222222,  2.32323232,  2.42424242,\n",
       "        2.52525253,  2.62626263,  2.72727273,  2.82828283,  2.92929293,\n",
       "        3.03030303,  3.13131313,  3.23232323,  3.33333333,  3.43434343,\n",
       "        3.53535354,  3.63636364,  3.73737374,  3.83838384,  3.93939394,\n",
       "        4.04040404,  4.14141414,  4.24242424,  4.34343434,  4.44444444,\n",
       "        4.54545455,  4.64646465,  4.74747475,  4.84848485,  4.94949495,\n",
       "        5.        ,  5.05050505,  5.15151515,  5.25252525,  5.35353535,\n",
       "        5.45454545,  5.55555556,  5.65656566,  5.75757576,  5.85858586,\n",
       "        5.95959596,  6.06060606,  6.16161616,  6.26262626,  6.36363636,\n",
       "        6.46464646,  6.56565657,  6.66666667,  6.76767677,  6.86868687,\n",
       "        6.96969697,  7.07070707,  7.17171717,  7.27272727,  7.37373737,\n",
       "        7.47474747,  7.57575758,  7.67676768,  7.77777778,  7.87878788,\n",
       "        7.97979798,  8.08080808,  8.18181818,  8.28282828,  8.38383838,\n",
       "        8.48484848,  8.58585859,  8.68686869,  8.78787879,  8.88888889,\n",
       "        8.98989899,  9.09090909,  9.19191919,  9.29292929,  9.39393939,\n",
       "        9.49494949,  9.5959596 ,  9.6969697 ,  9.7979798 ,  9.8989899 ,\n",
       "       10.        ])"
      ]
     },
     "execution_count": 22,
     "metadata": {},
     "output_type": "execute_result"
    }
   ],
   "source": [
    "tau = 2.0\n",
    "\n",
    "K_focus = 5\n",
    "\n",
    "S_strip_focus = np.linspace(0, 10, 100)\n",
    "S_strip_focus = np.append(S_strip_focus, K_focus)\n",
    "S_strip_focus = np.sort(S_strip_focus)\n",
    "S_strip_focus"
   ]
  },
  {
   "cell_type": "code",
   "execution_count": 29,
   "metadata": {},
   "outputs": [
    {
     "data": {
      "text/plain": [
       "DigitalOption('call', cash=1.0, S_t=3.0, K=5.0, t=19-04-2020, T=19-04-2022, tau=2.00y, r=5.0%, sigma=20.0%)"
      ]
     },
     "execution_count": 29,
     "metadata": {},
     "output_type": "execute_result"
    }
   ],
   "source": [
    "CON_Call_focus = DigitalOption(option_type='call', \n",
    "                               cash_amount=1.0, \n",
    "                               S_t=3.0, \n",
    "                               K=5.0, \n",
    "                               t=\"19-04-2020\", \n",
    "                               T=\"19-04-2022\", \n",
    "                               r=0.05, \n",
    "                               sigma=0.2)\n",
    "\n",
    "CON_Call_focus"
   ]
  },
  {
   "cell_type": "code",
   "execution_count": 30,
   "metadata": {
    "scrolled": false
   },
   "outputs": [
    {
     "data": {
      "image/png": "[encoded data removed]",
      "text/plain": [
       "<Figure size 720x432 with 1 Axes>"
      ]
     },
     "metadata": {
      "needs_background": "light"
     },
     "output_type": "display_data"
    }
   ],
   "source": [
    "plot_single_tau(CON_Call_focus, S_strip_focus, CON_Call_focus.get_tau())"
   ]
  },
  {
   "cell_type": "code",
   "execution_count": 31,
   "metadata": {},
   "outputs": [],
   "source": [
    "Vanilla_Put_focus = PlainVanillaOption(option_type='put', \n",
    "                                       S_t=3.0, \n",
    "                                       K=5.0, \n",
    "                                       t=\"19-04-2020\", \n",
    "                                       T=\"19-04-2022\", \n",
    "                                       r=0.05, \n",
    "                                       sigma=0.2)"
   ]
  },
  {
   "cell_type": "code",
   "execution_count": 32,
   "metadata": {},
   "outputs": [
    {
     "data": {
      "image/png": "[encoded data removed]",
      "text/plain": [
       "<Figure size 720x432 with 1 Axes>"
      ]
     },
     "metadata": {
      "needs_background": "light"
     },
     "output_type": "display_data"
    }
   ],
   "source": [
    "plot_single_tau(Vanilla_Put_focus, S_strip_focus, CON_Put_focus.get_tau())"
   ]
  },
  {
   "cell_type": "markdown",
   "metadata": {},
   "source": [
    "## 1.3. Inheritance <a name=\"inheritance\"></a>"
   ]
  },
  {
   "cell_type": "markdown",
   "metadata": {},
   "source": [
    "Given all the financial similarities between plain-vanilla and digital options, \n",
    "\n",
    "- don't you think that modeling `PlainVanillaOption` and `DigitalOption` as two completely unrelated classes is somehow at odds with their analogies? \n",
    "\n",
    "- And, looking at the body of the two classes, don't you think that there are a lot of repetitions?"
   ]
  },
  {
   "cell_type": "markdown",
   "metadata": {},
   "source": [
    "_Inheritance_ is a way of arranging objects in a hierarchy from the most general to the most specific. It's a logical and programming paradygm modeling an _is a_ relationship between the most specific object and the most general one. At the end of the day, since both kind of options share european exercise (they cannot be exercised before expiration date $T$):\n",
    "\n",
    "- a plain-vanilla option _is a_ european option,\n",
    "\n",
    "- a digital option _is a_ european option."
   ]
  },
  {
   "cell_type": "markdown",
   "metadata": {},
   "source": [
    "We can translate this considerations defining a general `EuropeanOption` class and making `PlainVanillaOption` and `DigitalOption` _sub-classes_ of `EuropeanOption`. In this way, we are modeling the fact that:\n",
    "\n",
    "- a `PlainVanillaOption` _is a_ `EuropeanOption`\n",
    "\n",
    "- a `DigitalOption` _is a_ `EuropeanOption`.\n"
   ]
  },
  {
   "cell_type": "markdown",
   "metadata": {},
   "source": [
    "We then refer to `EuropeanOption` class as the _parent_ (aka _mother_ or _base_ ) class and to any of `PlainVanillaOption` and `DigitalOption` as the _derived_ (aka _child_ or _sub-class_ ) class. "
   ]
  },
  {
   "cell_type": "markdown",
   "metadata": {},
   "source": [
    "The syntax is\n",
    "\n",
    "```python\n",
    "class BaseClass:\n",
    "    ...\n",
    "```\n",
    "```python\n",
    "class Child1(BaseClass):\n",
    "    ...\n",
    "```\n",
    "```python\n",
    "class Child2(BaseClass):\n",
    "    ...\n",
    "```\n",
    "and you can have as many sub-classes as you want."
   ]
  },
  {
   "cell_type": "markdown",
   "metadata": {},
   "source": [
    "The idea is to put all the functionality that the classes have in common in a base class, and then define one or more subclasses with their own custom functionality."
   ]
  },
  {
   "cell_type": "markdown",
   "metadata": {},
   "source": [
    "Given a `.method()` implemented in the base class, sub-classes are then free to re-implement the same method (that is, keepig its name). We'll see an example with `.price()`: a method that is defined in `EuropeanOption` class and that both `PlainVaillaOption` and `DigitalOption` classes re-implement according to their specific needs. Methods defined in the base class and re-implemented by the derived classes are told _overriden_ methods. Therefore sub-classes implement polymorphism through the methods they override from the base class."
   ]
  },
  {
   "cell_type": "markdown",
   "metadata": {},
   "source": [
    "**TAKE-HOME MESSAGE**: key points are that\n",
    "\n",
    "- all sub-classes derive attributes and methods defined in the base class. So that you define common attributes and methods once-for-all in the base class, and then you are able to access and use them from any of the sub-classes. \n",
    "\n",
    "- Whereas attributes and/or methods (if any) which are specific to one sub-class only, are defined within that sub-class only."
   ]
  },
  {
   "cell_type": "markdown",
   "metadata": {},
   "source": [
    "Here is our `EuropeanOption` base class implementation"
   ]
  },
  {
   "cell_type": "code",
   "execution_count": null,
   "metadata": {},
   "outputs": [],
   "source": [
    "class EuropeanOption:\n",
    "    \"\"\"\n",
    "    EuropeanOption abstract class: an interface setting the template for any option with european-style exercise.\n",
    "    This class is not meant to be instantiated.\n",
    "    \n",
    "    Attributes:\n",
    "    -----------\n",
    "        type (str):               type of the options. Can be either 'call' or 'put';\n",
    "        S_t (float):              spot price of the underlying asset at the valuation date 't';\n",
    "        K (float):                strike price;\n",
    "        t (str; dt.datetime):     valuation date. Can be either a \"dd-mm-YYYY\" String or a pd.datetime() object\n",
    "        T (str; dt.datetime):     expiration date. Can be either a \"dd-mm-YYYY\" String or a pd.datetime() object\n",
    "        tau (float):              time to maturity in years, computed as tau=T-t by time_to_maturity() method\n",
    "        r (float):                continuously compounded short-rate;\n",
    "        sigma (float):            volatility of underlying asset;\n",
    "    \n",
    "    Public Methods:\n",
    "    --------   \n",
    "    \n",
    "        getters and setters for all common attributes\n",
    "        \n",
    "        payoff: float\n",
    "            Template method for payoff. Raises NotImplementedError if called.\n",
    "\n",
    "        price_upper_limit: float \n",
    "            Template method for upper limit. Raises NotImplementedError if called.\n",
    "\n",
    "        price_lower_limit: float \n",
    "            Template method for lower limit. Raises NotImplementedError if called.\n",
    "            \n",
    "        price: float\n",
    "            Template method for price. Raises NotImplementedError if called.\n",
    "\n",
    "    \"\"\"\n",
    "    \n",
    "    def __init__(self, option_type, S_t, K, t, T, r, sigma):\n",
    "        \n",
    "        print(\"Calling the EuropeanOption constructor!\")\n",
    "\n",
    "        # option type check\n",
    "        if option_type not in ['call', 'put']:\n",
    "            raise NotImplementedError(\"Option Type: '{}' does not exist!\".format(option_type))\n",
    "        \n",
    "        self.__type  = option_type\n",
    "        self.__S     = S_t\n",
    "        self.__K     = K\n",
    "        self.__t     = dt.datetime.strptime(t, \"%d-%m-%Y\") if isinstance(t, str) else t\n",
    "        self.__T     = dt.datetime.strptime(T, \"%d-%m-%Y\") if isinstance(T, str) else T\n",
    "        self.__tau   = self.__time_to_maturity()\n",
    "        self.__r     = r\n",
    "        self.__sigma = sigma\n",
    "        \n",
    "        # empty informations dictionary\n",
    "        self.__docstring_dict = {}        \n",
    "        \n",
    "    # string representation method template\n",
    "    def __repr__(self):\n",
    "        raise NotImplementedError()\n",
    "    \n",
    "    # getters\n",
    "    def get_type(self):\n",
    "        return self.__type\n",
    "        \n",
    "    def get_S(self):\n",
    "        return self.__S\n",
    "    \n",
    "    def get_K(self):\n",
    "        return self.__K\n",
    "    \n",
    "    def get_t(self):\n",
    "        return self.__t\n",
    "\n",
    "    def get_T(self):\n",
    "        return self.__T\n",
    "\n",
    "    def get_tau(self):\n",
    "        return self.__tau\n",
    "    \n",
    "    def get_r(self):\n",
    "        return self.__r\n",
    "\n",
    "    def get_sigma(self):\n",
    "        return self.__sigma\n",
    "    \n",
    "    # doctring getter template\n",
    "    def get_docstring(self, label):\n",
    "        raise NotImplementedError()\n",
    "\n",
    "    # setters\n",
    "    def set_type(self, option_type):\n",
    "        self.__type = option_type\n",
    "        \n",
    "        # option type check\n",
    "        if option_type not in ['call', 'put']:\n",
    "            raise NotImplementedError(\"Option Type: '{}' does not exist!\".format(option_type))\n",
    "            \n",
    "    def set_S(self, S):\n",
    "        self.__S = S\n",
    "        \n",
    "    def set_K(self, K):\n",
    "        self.__K = K\n",
    "    \n",
    "    def set_t(self, t):\n",
    "        self.__t = dt.datetime.strptime(t, \"%d-%m-%Y\") if isinstance(t, str) else t\n",
    "        # update time to maturity, given changed t, to keep internal consistency\n",
    "        self.__update_tau() \n",
    "\n",
    "    def set_T(self, T):\n",
    "        self.__T = dt.datetime.strptime(T, \"%d-%m-%Y\") if isinstance(T, str) else T\n",
    "        # update time to maturity, given changed T, to keep internal consistency\n",
    "        self.__update_tau() \n",
    "    \n",
    "    def set_tau(self, tau):\n",
    "        self.__tau = tau\n",
    "        # update expiration date, given changed tau, to keep internal consistency\n",
    "        # we could have updated valuation date as well, but this is a stylistic choice\n",
    "        self.__update_T()\n",
    "\n",
    "    def set_r(self, r):\n",
    "        self.__r = r\n",
    "\n",
    "    def set_sigma(self, sigma):\n",
    "        self.__sigma = sigma\n",
    "        \n",
    "    # update methods (private)\n",
    "    def __update_tau(self):\n",
    "        self.__tau = self.__time_to_maturity()\n",
    "\n",
    "    def __update_T(self):\n",
    "        self.__T = self.__t + dt.timedelta(days=math.ceil(self.__tau*365))\n",
    "\n",
    "    # time to maturity method (private)\n",
    "    def __time_to_maturity(self):\n",
    "        return (self.__T - self.__t).days / 365.0\n",
    "    \n",
    "    # payoff template\n",
    "    def payoff(self):\n",
    "        raise NotImplementedError()     \n",
    "        \n",
    "    # upper price limit template\n",
    "    def price_upper_limit(self):\n",
    "        raise NotImplementedError()     \n",
    "\n",
    "    # lower price limit template\n",
    "    def price_lower_limit(self):\n",
    "        raise NotImplementedError()     \n",
    "        \n",
    "    # price template\n",
    "    def price(self):\n",
    "        raise NotImplementedError()     "
   ]
  },
  {
   "cell_type": "markdown",
   "metadata": {},
   "source": [
    "Notice that `EuropeanOption` defines all common attributes and methods. This avoid a lot of code repetition. Look for example at the time-to-maturity computation\n",
    "\n",
    "```python\n",
    "def __time_to_maturity(self):\n",
    "    return (self.__T - self.__t).days / 365.0\n",
    "```\n",
    "\n",
    "since all european options derived from `EuropeanOption` should feature a time-to-maturity, it definitely makes sense to implement it here once-for-all and make it _inherited_ by all the sub-classes of `EuropeanOption`."
   ]
  },
  {
   "cell_type": "markdown",
   "metadata": {},
   "source": [
    "Notice also that most of the methods are left empty (eventually raising a `NotImplementedError()` to prevent from being called). This modeling choice has been taken because our `EuropeanOption` class is not meant to be instantiated. It is meant only to serves as a _template_ for all options with european-style exercise (that we derive from her). \n",
    "\n",
    "Consider for example the `.price()` method in `EuropeanOption`\n",
    "\n",
    "```python\n",
    "    # price template\n",
    "    def price(self):\n",
    "        raise NotImplementedError()     \n",
    "```\n",
    "\n",
    "Here we are making all classes derived from `EuropeanOption` _inheriting_ this method and we are imposing that each of them should override it providing an implementation for the method.\n",
    "\n",
    "We say that `EuropeanOption` is an _abstract_ class."
   ]
  },
  {
   "cell_type": "markdown",
   "metadata": {},
   "source": [
    "Here are the derived classes: look how much code we are saving. Also, look how armhonically they integrate: we are leveraging on the financial similarities between the two kind of contracts, translating them in a considerable sharing of properties."
   ]
  },
  {
   "cell_type": "code",
   "execution_count": null,
   "metadata": {},
   "outputs": [],
   "source": [
    "class PlainVanillaOption(EuropeanOption):\n",
    "    \"\"\"\n",
    "    PlainVanillaOption class implementing payoff and pricing of plain-vanilla call and put options.\n",
    "    Put price is calculated using put-call parity\n",
    "    \n",
    "    Attributes:\n",
    "    -----------\n",
    "        type (str):               type of the options. Can be either 'call' or 'put';\n",
    "        S_t (float):              spot price of the underlying asset at the valuation date 't';\n",
    "        K (float):                strike price;\n",
    "        t (str; dt.datetime):     valuation date. Can be either a \"dd-mm-YYYY\" String or a pd.datetime() object\n",
    "        T (str; dt.datetime):     expiration date. Can be either a \"dd-mm-YYYY\" String or a pd.datetime() object\n",
    "        tau (float):              time to maturity in years, computed as tau=T-t by time_to_maturity() method\n",
    "        r (float):                continuously compounded short-rate;\n",
    "        sigma (float):            volatility of underlying asset;\n",
    "    \n",
    "    Methods:\n",
    "    --------   \n",
    "    \n",
    "        payoff: float\n",
    "            Computes the payoff of the option and returns it\n",
    "\n",
    "        price_upper_limit: float \n",
    "            Returns the upper limit for a vanilla option price.\n",
    "\n",
    "        price_lower_limit: float \n",
    "            Returns the lower limit for a vanilla option price.\n",
    "            \n",
    "        price: float\n",
    "            Computes the exact price of the option and returns it, using call_price() or put_price()\n",
    "\n",
    "    \"\"\"\n",
    "    \n",
    "    # initializer with default arguments\n",
    "    def __init__(self, option_type='call', S_t=90.0, K=100.0, t=\"19-04-2020\", T=\"31-12-2020\", r=0.05, sigma=0.2):    \n",
    "        # calling the EuropeanOption constructor\n",
    "        super(PlainVanillaOption, self).__init__(option_type, S_t, K, t, T, r, sigma)\n",
    "        \n",
    "        # additional stuff - PlainVanillaOption-specific\n",
    "\n",
    "        # informations dictionary\n",
    "        self.__docstring_dict = {\n",
    "            'call':{\n",
    "                'price_upper_limit': r\"Upper limit: $S_t$\",\n",
    "                'payoff':            r\"Payoff: $max(S-K, 0)$\",\n",
    "                'price_lower_limit': r\"Lower limit: $max(S_t - K e^{-r \\tau}, 0)$\"\n",
    "            },\n",
    "            'put': {\n",
    "                'price_upper_limit': r\"Upper limit: $K e^{-r \\tau}$\",\n",
    "                'payoff':            r\"Payoff: $max(K-S, 0)$\",\n",
    "                'price_lower_limit': r\"Lower limit: $max(K e^{-r \\tau} - S_t, 0)$\"}\n",
    "        }\n",
    "                \n",
    "    def __repr__(self):\n",
    "        return r\"PlainVanillaOption('{}', S_t={:.1f}, K={:.1f}, t={}, T={}, tau={:.2f}y, r={:.1f}%, sigma={:.1f}%)\".\\\n",
    "                format(self.get_type(), self.get_S(), self.get_K(), self.get_t().strftime(\"%d-%m-%Y\"), \n",
    "                       self.get_T().strftime(\"%d-%m-%Y\"), self.get_tau(), self.get_r()*100, self.get_sigma()*100)\n",
    "    \n",
    "    # docstring getter\n",
    "    def get_docstring(self, label):\n",
    "        return self.__docstring_dict[self.get_type()][label] \n",
    "    \n",
    "    # payoff calculation\n",
    "    def payoff(self):\n",
    "        # call case\n",
    "        if self.get_type() == 'call':\n",
    "            return max(0.0, self.get_S() - self.get_K())\n",
    "        # put case\n",
    "        else:\n",
    "            return max(0.0, self.get_K() - self.get_S())\n",
    "\n",
    "    # upper price limit\n",
    "    def price_upper_limit(self):\n",
    "        # call case\n",
    "        if self.get_type() == 'call':\n",
    "            return self.get_S()\n",
    "        # put case\n",
    "        else:\n",
    "            return self.get_K()*np.exp(-self.get_r() * self.get_tau())\n",
    "\n",
    "    # lower price limit\n",
    "    def price_lower_limit(self):\n",
    "        # call case\n",
    "        if self.get_type() == 'call':\n",
    "            return max(self.get_S() - self.get_K()*np.exp(-self.get_r() * self.get_tau()), 0)\n",
    "        # put case\n",
    "        else:\n",
    "            return max(self.get_K()*np.exp(-self.get_r() * self.get_tau()) - self.get_S(), 0)\n",
    "            \n",
    "    # price calculation\n",
    "    def price(self):\n",
    "        # call case\n",
    "        if self.get_type() == 'call':\n",
    "            return self.__call_price()\n",
    "        # put case\n",
    "        else:\n",
    "            return self.__put_price()\n",
    "          \n",
    "    def __call_price(self):\n",
    "        \n",
    "        # some local variables retrieved to be used repeatedly\n",
    "        S = self.get_S()\n",
    "        tau = self.get_tau()\n",
    "        \n",
    "        if S == 0: # this is to avoid log(0) issues\n",
    "            return 0.0\n",
    "        elif tau == 0.0: # this is to avoid 0/0 issues\n",
    "            return self.payoff()\n",
    "        else:\n",
    "            K     = self.get_K()\n",
    "            r     = self.get_r()\n",
    "            sigma = self.get_sigma()\n",
    "\n",
    "            d1 = (np.log(S/K) + (r + 0.5 * sigma ** 2) * tau) / (sigma * np.sqrt(tau))\n",
    "            d2 = d1 - sigma * np.sqrt(tau)\n",
    "\n",
    "            price = S * stats.norm.cdf(d1, 0.0, 1.0) - K * np.exp(-r * tau) * stats.norm.cdf(d2, 0.0, 1.0)\n",
    "\n",
    "            return price\n",
    "    \n",
    "    def __put_price(self):\n",
    "        \"\"\" Put price from Put-Call parity relation: Call + Ke^{-r*tau} = Put + S\"\"\"\n",
    "        return self.__call_price() + self.get_K() * np.exp(- self.get_r() * self.get_tau()) - self.get_S()        "
   ]
  },
  {
   "cell_type": "code",
   "execution_count": null,
   "metadata": {},
   "outputs": [],
   "source": [
    "class DigitalOption(EuropeanOption):\n",
    "    \"\"\"\n",
    "    DigitalOption class implementing payoff and pricing of digital call and put options.\n",
    "    Put price is calculated using put-call parity\n",
    "    \n",
    "    Attributes:\n",
    "    -----------\n",
    "        type (str):               type of the options. Can be either 'call' or 'put';\n",
    "        Q (float):                cash amount\n",
    "        S_t (float):              spot price of the underlying asset at the valuation date 't';\n",
    "        K (float):                strike price;\n",
    "        t (str; dt.datetime):     valuation date. Can be either a \"dd-mm-YYYY\" String or a pd.datetime() object\n",
    "        T (str; dt.datetime):     expiration date. Can be either a \"dd-mm-YYYY\" String or a pd.datetime() object\n",
    "        tau (float):              time to maturity in years, computed as tau=T-t by time_to_maturity() method\n",
    "        r (float):                continuously compounded short-rate;\n",
    "        sigma (float):            volatility of underlying asset;\n",
    "    \n",
    "    Public Methods:\n",
    "    --------   \n",
    "    \n",
    "        getter and setter for cash amount attribute\n",
    "        \n",
    "        payoff: float\n",
    "            Computes the payoff of the option and returns it\n",
    "\n",
    "        price_upper_limit: float \n",
    "            Returns the upper limit for a CON digital option price.\n",
    "\n",
    "        price_lower_limit: float \n",
    "            Returns the lower limit for a CON digital option price\n",
    "            .\n",
    "        price: float\n",
    "            Computes the exact price of the option and returns it, using call_price() or put_price()\n",
    "\n",
    "    \"\"\"\n",
    "    \n",
    "    # initializer with default arguments    \n",
    "    def __init__(self, option_type='call', cash_amount = 1.0, S_t=90.0, K=100.0, t=\"19-04-2020\", T=\"31-12-2020\", r=0.05, sigma=0.2):\n",
    "        # calling the EuropeanOption constructor\n",
    "        super(DigitalOption, self).__init__(option_type, S_t, K, t, T, r, sigma)        \n",
    "\n",
    "        # additional stuff - DigitalOption-specific\n",
    "        self.__Q = cash_amount\n",
    "        \n",
    "        # informations dictionary\n",
    "        self.__docstring_dict = {\n",
    "            'call':{\n",
    "                'price_upper_limit': r\"Upper limit: $Q e^{-r \\tau}$\",\n",
    "                'payoff':            r\"Payoff: $Q$ $I(S > K)$\",\n",
    "                'price_lower_limit': r\"Lower limit: $0$\"\n",
    "            },\n",
    "            'put': {\n",
    "                'price_upper_limit': r\"Upper limit: $Q e^{-r \\tau}$\",\n",
    "                'payoff':            r\"Payoff: $Q$ $I(S \\leq K)$\",\n",
    "                'price_lower_limit': r\"Lower limit: $0$\"}\n",
    "        }        \n",
    "                \n",
    "    def __repr__(self):\n",
    "        return r\"DigitalOption('{}', cash={:.1f}, S_t={:.1f}, K={:.1f}, t={}, T={}, tau={:.2f}y, r={:.1f}%, sigma={:.1f}%)\".\\\n",
    "                format(self.get_type(), self.get_Q(), self.get_S(), self.get_K(), self.get_t().strftime(\"%d-%m-%Y\"), \n",
    "                       self.get_T().strftime(\"%d-%m-%Y\"), self.get_tau(), self.get_r()*100, self.get_sigma()*100)\n",
    "    \n",
    "    # getters\n",
    "    def get_Q(self):\n",
    "        return self.__Q\n",
    "    \n",
    "    # docstring getter\n",
    "    def get_docstring(self, label):\n",
    "        return self.__docstring_dict[self.get_type()][label] \n",
    "    \n",
    "    # setters\n",
    "    def set_Q(self, cash_amount):\n",
    "        self.__Q = cash_amount\n",
    "    \n",
    "    # payoff calculation\n",
    "    def payoff(self):\n",
    "        # call case\n",
    "        if self.get_type() == 'call':\n",
    "            return self.get_Q() * int(self.get_S() > self.get_K())\n",
    "        # put case\n",
    "        else:\n",
    "            return self.get_Q() * int(self.get_S() <= self.get_K())\n",
    "        \n",
    "    # upper price limit\n",
    "    def price_upper_limit(self):\n",
    "        # call case\n",
    "        if self.get_type() == 'call':\n",
    "            return self.get_Q()*np.exp(-self.get_r() * self.get_tau())\n",
    "        # put case\n",
    "        else:\n",
    "            return self.get_Q()*np.exp(-self.get_r() * self.get_tau())\n",
    "\n",
    "    # lower price limit\n",
    "    def price_lower_limit(self):\n",
    "        # call case\n",
    "        if self.get_type() == 'call':\n",
    "            return 0.0\n",
    "        # put case\n",
    "        else:\n",
    "            return 0.0\n",
    "        \n",
    "    # price calculation\n",
    "    def price(self):\n",
    "        # call case\n",
    "        if self.get_type() == 'call':\n",
    "            return self.__call_price()\n",
    "        # put case\n",
    "        else:\n",
    "            return self.__put_price()\n",
    "          \n",
    "    def __call_price(self):\n",
    "        \n",
    "        # some local variables retrieved to be used repeatedly\n",
    "        S = self.get_S()\n",
    "        tau = self.get_tau()\n",
    "        \n",
    "        if S == 0: # this is to avoid log(0) issues\n",
    "            return 0.0\n",
    "        elif tau == 0.0: # this is to avoid 0/0 issues\n",
    "            return self.payoff()\n",
    "        else:\n",
    "            Q     = self.get_Q()\n",
    "            K     = self.get_K()\n",
    "            r     = self.get_r()\n",
    "            sigma = self.get_sigma()\n",
    "\n",
    "            d1 = (np.log(S/K) + (r + 0.5 * sigma ** 2) * tau) / (sigma * np.sqrt(tau))\n",
    "            d2 = d1 - sigma * np.sqrt(tau)\n",
    "\n",
    "            price = Q * np.exp(-r * tau) * stats.norm.cdf(d2, 0.0, 1.0)\n",
    "\n",
    "            return price\n",
    "    \n",
    "    def __put_price(self):\n",
    "        \"\"\" Put price from Put-Call parity relation: CON_Call + CON_Put = Qe^{-r*tau}\"\"\"\n",
    "        return self.get_Q() * np.exp(- self.get_r() * self.get_tau()) - self.__call_price()        "
   ]
  },
  {
   "cell_type": "code",
   "execution_count": null,
   "metadata": {},
   "outputs": [],
   "source": [
    "Vanilla_Call = PlainVanillaOption()\n",
    "Vanilla_Call"
   ]
  },
  {
   "cell_type": "code",
   "execution_count": null,
   "metadata": {},
   "outputs": [],
   "source": [
    "type(Vanilla_Call)"
   ]
  },
  {
   "cell_type": "code",
   "execution_count": null,
   "metadata": {},
   "outputs": [],
   "source": [
    "isinstance(Vanilla_Call, PlainVanillaOption)"
   ]
  },
  {
   "cell_type": "code",
   "execution_count": null,
   "metadata": {},
   "outputs": [],
   "source": [
    "Vanilla_Call.get_K()"
   ]
  },
  {
   "cell_type": "code",
   "execution_count": null,
   "metadata": {},
   "outputs": [],
   "source": [
    "Vanilla_Call.price()"
   ]
  },
  {
   "cell_type": "code",
   "execution_count": null,
   "metadata": {
    "scrolled": false
   },
   "outputs": [],
   "source": [
    "plot_multi_tau(Vanilla_Call, S_strip, tau_strip)"
   ]
  },
  {
   "cell_type": "code",
   "execution_count": null,
   "metadata": {},
   "outputs": [],
   "source": [
    "plot_single_tau(Vanilla_Call, S_strip, Vanilla_Call.get_tau())"
   ]
  },
  {
   "cell_type": "code",
   "execution_count": null,
   "metadata": {},
   "outputs": [],
   "source": [
    "Vanilla_Put = PlainVanillaOption(option_type='put', S_t=90.0, K=100.0, t=\"19-04-2020\", T=\"31-12-2020\", r=0.05, sigma=0.2)\n",
    "Vanilla_Put"
   ]
  },
  {
   "cell_type": "markdown",
   "metadata": {},
   "source": [
    "which is equivalent to"
   ]
  },
  {
   "cell_type": "code",
   "execution_count": null,
   "metadata": {},
   "outputs": [],
   "source": [
    "Vanilla_Put = PlainVanillaOption(option_type='put')\n",
    "Vanilla_Put"
   ]
  },
  {
   "cell_type": "code",
   "execution_count": null,
   "metadata": {},
   "outputs": [],
   "source": [
    "type(Vanilla_Put)"
   ]
  },
  {
   "cell_type": "code",
   "execution_count": null,
   "metadata": {},
   "outputs": [],
   "source": [
    "isinstance(Vanilla_Put, PlainVanillaOption)"
   ]
  },
  {
   "cell_type": "code",
   "execution_count": null,
   "metadata": {},
   "outputs": [],
   "source": [
    "Vanilla_Put.get_K()"
   ]
  },
  {
   "cell_type": "code",
   "execution_count": null,
   "metadata": {},
   "outputs": [],
   "source": [
    "Vanilla_Put.price()"
   ]
  },
  {
   "cell_type": "code",
   "execution_count": null,
   "metadata": {},
   "outputs": [],
   "source": [
    "Vanilla_Put.payoff()"
   ]
  },
  {
   "cell_type": "code",
   "execution_count": null,
   "metadata": {
    "scrolled": false
   },
   "outputs": [],
   "source": [
    "plot_multi_tau(Vanilla_Put, S_strip, tau_strip)"
   ]
  },
  {
   "cell_type": "code",
   "execution_count": null,
   "metadata": {},
   "outputs": [],
   "source": [
    "plot_single_tau(Vanilla_Put, S_strip, Vanilla_Put.get_tau())"
   ]
  },
  {
   "cell_type": "markdown",
   "metadata": {},
   "source": [
    "let's now instantiate a digital option"
   ]
  },
  {
   "cell_type": "code",
   "execution_count": null,
   "metadata": {},
   "outputs": [],
   "source": [
    "CON_Call = DigitalOption()\n",
    "CON_Call"
   ]
  },
  {
   "cell_type": "code",
   "execution_count": null,
   "metadata": {},
   "outputs": [],
   "source": [
    "type(CON_Call)"
   ]
  },
  {
   "cell_type": "code",
   "execution_count": null,
   "metadata": {},
   "outputs": [],
   "source": [
    "isinstance(CON_Call, DigitalOption)"
   ]
  },
  {
   "cell_type": "code",
   "execution_count": null,
   "metadata": {},
   "outputs": [],
   "source": [
    "CON_Call.get_K()"
   ]
  },
  {
   "cell_type": "code",
   "execution_count": null,
   "metadata": {},
   "outputs": [],
   "source": [
    "CON_Call.get_Q()"
   ]
  },
  {
   "cell_type": "code",
   "execution_count": null,
   "metadata": {},
   "outputs": [],
   "source": [
    "CON_Call.price()"
   ]
  },
  {
   "cell_type": "code",
   "execution_count": null,
   "metadata": {
    "scrolled": false
   },
   "outputs": [],
   "source": [
    "plot_multi_tau(CON_Call, S_strip, tau_strip)"
   ]
  },
  {
   "cell_type": "code",
   "execution_count": null,
   "metadata": {},
   "outputs": [],
   "source": [
    "plot_single_tau(CON_Call, S_strip, CON_Call.get_tau())"
   ]
  },
  {
   "cell_type": "code",
   "execution_count": null,
   "metadata": {},
   "outputs": [],
   "source": [
    "CON_Put = DigitalOption(option_type='put', cash_amount = 1.0, S_t=90.0, K=100.0, t=\"19-04-2020\", T=\"31-12-2020\", r=0.05, sigma=0.2)\n",
    "CON_Put"
   ]
  },
  {
   "cell_type": "markdown",
   "metadata": {},
   "source": [
    "equivalent to"
   ]
  },
  {
   "cell_type": "code",
   "execution_count": null,
   "metadata": {},
   "outputs": [],
   "source": [
    "CON_Put = DigitalOption(option_type='put')\n",
    "CON_Put"
   ]
  },
  {
   "cell_type": "code",
   "execution_count": null,
   "metadata": {},
   "outputs": [],
   "source": [
    "type(CON_Put)"
   ]
  },
  {
   "cell_type": "code",
   "execution_count": null,
   "metadata": {},
   "outputs": [],
   "source": [
    "isinstance(CON_Put, DigitalOption)"
   ]
  },
  {
   "cell_type": "code",
   "execution_count": null,
   "metadata": {},
   "outputs": [],
   "source": [
    "CON_Put.get_K()"
   ]
  },
  {
   "cell_type": "code",
   "execution_count": null,
   "metadata": {},
   "outputs": [],
   "source": [
    "CON_Put.get_Q()"
   ]
  },
  {
   "cell_type": "code",
   "execution_count": null,
   "metadata": {},
   "outputs": [],
   "source": [
    "CON_Put.price()"
   ]
  },
  {
   "cell_type": "code",
   "execution_count": null,
   "metadata": {},
   "outputs": [],
   "source": [
    "CON_Put.payoff()"
   ]
  },
  {
   "cell_type": "code",
   "execution_count": null,
   "metadata": {
    "scrolled": false
   },
   "outputs": [],
   "source": [
    "plot_multi_tau(CON_Put, S_strip, tau_strip)"
   ]
  },
  {
   "cell_type": "code",
   "execution_count": null,
   "metadata": {},
   "outputs": [],
   "source": [
    "plot_single_tau(CON_Put, S_strip, CON_Put.get_tau())"
   ]
  },
  {
   "cell_type": "markdown",
   "metadata": {},
   "source": [
    "## `*args` and `**kwargs`"
   ]
  },
  {
   "cell_type": "code",
   "execution_count": null,
   "metadata": {},
   "outputs": [],
   "source": [
    "def print_args(*args):\n",
    "    for arg in args:\n",
    "        print(arg)"
   ]
  },
  {
   "cell_type": "code",
   "execution_count": null,
   "metadata": {},
   "outputs": [],
   "source": [
    "print_args(\"one\", \"two\", \"three\")"
   ]
  },
  {
   "cell_type": "code",
   "execution_count": null,
   "metadata": {
    "scrolled": true
   },
   "outputs": [],
   "source": [
    "print_args(\"one\", \"two\", \"three\", \"four\")"
   ]
  },
  {
   "cell_type": "markdown",
   "metadata": {},
   "source": [
    "If a function takes `*args` positional parameters, it also means that we can call it unpacking (through the `*` operator) a standard Tuple, like `tup` here"
   ]
  },
  {
   "cell_type": "code",
   "execution_count": null,
   "metadata": {},
   "outputs": [],
   "source": [
    "tup = (\"a\", 1, \"c\")\n",
    "\n",
    "print_args(*tup)"
   ]
  },
  {
   "cell_type": "markdown",
   "metadata": {},
   "source": [
    "This make it easier to make variable-length positional parameters flow through nested functions, like here:"
   ]
  },
  {
   "cell_type": "code",
   "execution_count": null,
   "metadata": {},
   "outputs": [],
   "source": [
    "def print_args_wrapper(*args):\n",
    "    print(\"I am in print_args_wrapper function\")\n",
    "    # here args is a Tuple, that is un-packed by the * operator and passed to print_args function\n",
    "    print_args(*args)"
   ]
  },
  {
   "cell_type": "code",
   "execution_count": null,
   "metadata": {},
   "outputs": [],
   "source": [
    "print_args_wrapper(tup)"
   ]
  },
  {
   "cell_type": "code",
   "execution_count": null,
   "metadata": {},
   "outputs": [],
   "source": [
    "def print_kwargs(**kwargs):\n",
    "    for k, v in kwargs.items():\n",
    "        print(\"{}: {}\".format(k, v))"
   ]
  },
  {
   "cell_type": "code",
   "execution_count": null,
   "metadata": {},
   "outputs": [],
   "source": [
    "print_kwargs(name=\"Jane\", surname=\"Doe\")"
   ]
  },
  {
   "cell_type": "code",
   "execution_count": null,
   "metadata": {},
   "outputs": [],
   "source": [
    "print_kwargs(age=10)"
   ]
  },
  {
   "cell_type": "markdown",
   "metadata": {},
   "source": [
    "If a function takes `**args` keyword parameters, it also means that we can call it unpacking (through the `**` operator) a standard Dict, like `d` here"
   ]
  },
  {
   "cell_type": "code",
   "execution_count": null,
   "metadata": {
    "scrolled": true
   },
   "outputs": [],
   "source": [
    "d = {\"k1\": \"a\", \"k2\": 1, \"k3\": \"c\"}\n",
    "\n",
    "print_kwargs(**d)"
   ]
  },
  {
   "cell_type": "markdown",
   "metadata": {},
   "source": [
    "This make it easier to make keyword parameters flow through nested functions, like here:"
   ]
  },
  {
   "cell_type": "code",
   "execution_count": null,
   "metadata": {},
   "outputs": [],
   "source": [
    "def print_kwargs_wrapper(**kwargs):\n",
    "    print(\"I am in print_kwargs_wrapper function\")\n",
    "    # here kwargs is a Dict, that is un-packed in key-value pairs by the ** operator and passed to print_kwargs function\n",
    "    print_kwargs(**kwargs)"
   ]
  },
  {
   "cell_type": "code",
   "execution_count": null,
   "metadata": {},
   "outputs": [],
   "source": [
    "print_kwargs_wrapper(**d)"
   ]
  },
  {
   "cell_type": "markdown",
   "metadata": {},
   "source": [
    "If a function takes only `*args` and `**kwargs` as its parameters, it can be called with any set of parameters"
   ]
  },
  {
   "cell_type": "code",
   "execution_count": null,
   "metadata": {},
   "outputs": [],
   "source": [
    "def print_everything(*args, **kwargs):\n",
    "    for arg in args:\n",
    "        print(arg)\n",
    "\n",
    "    for k, v in kwargs.items():\n",
    "        print(\"{}: {}\".format(k, v))"
   ]
  },
  {
   "cell_type": "code",
   "execution_count": null,
   "metadata": {},
   "outputs": [],
   "source": [
    "print_everything(\"one\", \"two\", \"three\")"
   ]
  },
  {
   "cell_type": "code",
   "execution_count": null,
   "metadata": {},
   "outputs": [],
   "source": [
    "print_everything(name=\"Jane\", surname=\"Doe\")"
   ]
  },
  {
   "cell_type": "code",
   "execution_count": null,
   "metadata": {
    "scrolled": true
   },
   "outputs": [],
   "source": [
    "print_everything(\"one\", \"two\", \"three\", name=\"Jane\", surname=\"Doe\")"
   ]
  },
  {
   "cell_type": "markdown",
   "metadata": {},
   "source": [
    "This means also no parameters"
   ]
  },
  {
   "cell_type": "code",
   "execution_count": null,
   "metadata": {},
   "outputs": [],
   "source": [
    "print_everything()"
   ]
  },
  {
   "cell_type": "markdown",
   "metadata": {},
   "source": [
    "As previously seen for `*args` and `**kwargs` separately, the use of `*args` and `**kwargs` make it easy to flow parameters through nested functions, like here:"
   ]
  },
  {
   "cell_type": "code",
   "execution_count": null,
   "metadata": {},
   "outputs": [],
   "source": [
    "def print_everything_wrapper(*args, **kwargs):\n",
    "    print(\"I am in print_everything_wrapper function\")\n",
    "    # here args is a Tuple, that is un-packed by the * operator and passed to print_everything function\n",
    "    # here kwargs is a Dict, that is un-packed in key-value pairs by the ** operator and passed to print_everything function\n",
    "    print_everything(*args, **kwargs)"
   ]
  },
  {
   "cell_type": "code",
   "execution_count": null,
   "metadata": {},
   "outputs": [],
   "source": [
    "print_everything_wrapper(*tup, **d)"
   ]
  },
  {
   "cell_type": "markdown",
   "metadata": {},
   "source": [
    "DA RISPIEGARE \n",
    "\n",
    "This makes it allows the nesting function `print_everything_wrapper` to ignore the details of the parameters of the nested function `print_everything`. This is particularly useful when the nesting function is the constructor (the `__init__()`) of a derived class and the nested function is the constructor of the base class (the `super().__init__()`)."
   ]
  },
  {
   "cell_type": "markdown",
   "metadata": {},
   "source": [
    "`*args` and `**kwargs` can be mixed with ordinary parameters, which must come first in function's definition"
   ]
  },
  {
   "cell_type": "code",
   "execution_count": null,
   "metadata": {},
   "outputs": [],
   "source": [
    "def print_everything_combined(city, title=\"default_title\", *args, **kwargs):\n",
    "    \n",
    "    print(\"city is {}\".format(city))\n",
    "    \n",
    "    print(\"title is {}\".format(title))\n",
    "    \n",
    "    for arg in args:\n",
    "        print(arg)\n",
    "\n",
    "    for k, v in kwargs.items():\n",
    "        print(\"{}: {}\".format(k, v))"
   ]
  },
  {
   "cell_type": "code",
   "execution_count": null,
   "metadata": {},
   "outputs": [],
   "source": [
    "print_everything_combined(\"Rome\", \"one\", \"two\", \"three\", name=\"Jane\", surname=\"Doe\")"
   ]
  },
  {
   "cell_type": "code",
   "execution_count": null,
   "metadata": {},
   "outputs": [],
   "source": [
    "print_everything_combined(\"Rome\", \"different title\", \"one\", \"two\", \"three\", name=\"Jane\", surname=\"Doe\")"
   ]
  },
  {
   "cell_type": "code",
   "execution_count": null,
   "metadata": {},
   "outputs": [],
   "source": [
    "# raises: SyntaxError: positional argument follows keyword argument\n",
    "#\n",
    "# print_everything_combined(city=\"Rome\", \"one\", \"two\", \"three\", name=\"Jane\", surname=\"Doe\")"
   ]
  },
  {
   "cell_type": "markdown",
   "metadata": {},
   "source": [
    "# Polymorphism application: a `Plotter()` class"
   ]
  },
  {
   "cell_type": "markdown",
   "metadata": {},
   "source": [
    "First let's define a common MarketEnvironment class which shall contain the information on market environment and underlying level. This class will be used to instantiate the EuropeanOption class"
   ]
  },
  {
   "cell_type": "code",
   "execution_count": null,
   "metadata": {},
   "outputs": [],
   "source": [
    "class MarketEnvironment:\n",
    "    \"\"\"\n",
    "    MarketEnvironment class: setting the market environment: date, underlying level, volatility level and short-rate.\n",
    "    \n",
    "    Attributes:\n",
    "    -----------\n",
    "        t (str; dt.datetime):     valuation date. Can be either a \"dd-mm-YYYY\" String or a pd.datetime() object\n",
    "        r (float):                continuously compounded short-rate;\n",
    "        S_t (float):              spot price of the underlying asset at the valuation date 't';\n",
    "        sigma (float):            volatility of underlying asset;\n",
    "    \n",
    "    Public Methods:\n",
    "    --------   \n",
    "    \n",
    "        getters and setters for all attributes\n",
    "        \n",
    "    Usage: \n",
    "    --------   \n",
    "        - default: MarketEnvironment() is equivalent to \n",
    "                   MarketEnvironment(t=\"19-04-2020\", r=0.05, S_t=90.0, sigma=0.2)\n",
    "\n",
    "        - general: MarketEnvironment(t=\"DD-MM-YYYY\" String, r=Float, S_t=Float, sigma=Float)\n",
    "    \"\"\"\n",
    "    \n",
    "    def __init__(self, t=\"19-04-2020\", r=0.05, S_t=90.0, sigma=0.2):\n",
    "        \n",
    "        print(\"Initializing the MarketEnvironment!\")\n",
    "        \n",
    "        self.__t     = dt.datetime.strptime(t, \"%d-%m-%Y\") if isinstance(t, str) else t\n",
    "        self.__r     = r\n",
    "        self.__S     = S_t\n",
    "        self.__sigma = sigma\n",
    "        \n",
    "    def __repr__(self):\n",
    "        return r\"MarketEnvironment(t={}, r={:.1f}%, S_t={:.1f}, sigma={:.1f}%)\".\\\n",
    "               format(self.get_t().strftime(\"%d-%m-%Y\"), self.get_r()*100, self.get_S(), self.get_sigma()*100)\n",
    "\n",
    "    # getters\n",
    "    def get_t(self):\n",
    "        return self.__t\n",
    "\n",
    "    def get_r(self):\n",
    "        return self.__r\n",
    "\n",
    "    def get_S(self):\n",
    "        return self.__S\n",
    "    \n",
    "    def get_sigma(self):\n",
    "        return self.__sigma\n",
    "    \n",
    "    # setters \n",
    "    def set_t(self, t):\n",
    "        # notice that there is no need to update the time-to-maturity of the options,\n",
    "        # since in this way of modeling, the MarketEnvironment is the first thing that gets instantiated.\n",
    "        # Financial instruments follow.\n",
    "        self.__t = dt.datetime.strptime(t, \"%d-%m-%Y\") if isinstance(t, str) else t\n",
    "\n",
    "    def set_r(self, r):\n",
    "        self.__r = r\n",
    "\n",
    "    def set_S(self, S):\n",
    "        self.__S = S\n",
    "        \n",
    "    def set_sigma(self, sigma):\n",
    "        self.__sigma = sigma"
   ]
  },
  {
   "cell_type": "code",
   "execution_count": null,
   "metadata": {},
   "outputs": [],
   "source": [
    "market_env = MarketEnvironment(t=\"01-06-2020\", r=-0.002, S_t=10.0, sigma=0.4)\n",
    "market_env"
   ]
  },
  {
   "cell_type": "code",
   "execution_count": null,
   "metadata": {},
   "outputs": [],
   "source": [
    "market_env = MarketEnvironment()\n",
    "market_env"
   ]
  },
  {
   "cell_type": "code",
   "execution_count": null,
   "metadata": {},
   "outputs": [],
   "source": [
    "class EuropeanOption:\n",
    "    \"\"\"\n",
    "    EuropeanOption abstract class: an interface setting the template for any option with european-style exercise.\n",
    "    This class is not meant to be instantiated.\n",
    "    \n",
    "    Attributes:\n",
    "    -----------\n",
    "        type (str):               type of the option. Can be either 'call' or 'put';\n",
    "        S_t (float):              'S' attribute of mkt_env.\n",
    "        K (float):                strike price;\n",
    "        t (str; dt.datetime):     't' attribute of mkt_env.\n",
    "        T (str; dt.datetime):     expiration date. Can be either a \"dd-mm-YYYY\" String or a pd.datetime() object\n",
    "        tau (float):              time to maturity in years, computed as tau=T-t by time_to_maturity() method\n",
    "        r (float):                'r' attribute of mkt_env.\n",
    "        sigma (float):            'sigma' attribute of mkt_env.\n",
    "    \n",
    "    Template Methods:\n",
    "    --------   \n",
    "    \n",
    "        getters for all common attributes\n",
    "        \n",
    "        setters for common attributes, not belonging to mkt_env\n",
    "        \n",
    "        payoff: float\n",
    "            Template method for payoff. Raises NotImplementedError if called.\n",
    "\n",
    "        price_upper_limit: float \n",
    "            Template method for upper limit. Raises NotImplementedError if called.\n",
    "\n",
    "        price_lower_limit: float \n",
    "            Template method for lower limit. Raises NotImplementedError if called.\n",
    "            \n",
    "        price: float\n",
    "            Template method for price. Raises NotImplementedError if called.\n",
    "\n",
    "    \"\"\"\n",
    "\n",
    "    def __init__(self, mkt_env, option_type='call', K=100.0, T=\"31-12-2020\"):\n",
    "        \n",
    "        print(\"Initializing the EuropeanOption!\")\n",
    "\n",
    "        # option type check\n",
    "        if option_type not in ['call', 'put']:\n",
    "            raise NotImplementedError(\"Option Type: '{}' does not exist!\".format(option_type))\n",
    "        \n",
    "        self.__type  = option_type\n",
    "        self.__S     = mkt_env.get_S()\n",
    "        self.__K     = K\n",
    "        self.__t     = mkt_env.get_t()\n",
    "        self.__T     = dt.datetime.strptime(T, \"%d-%m-%Y\") if isinstance(T, str) else T\n",
    "        self.__tau   = self.__time_to_maturity()\n",
    "        self.__r     = mkt_env.get_r()\n",
    "        self.__sigma = mkt_env.get_sigma()\n",
    "               \n",
    "        # empty informations dictionary\n",
    "        self.__docstring_dict = {}        \n",
    "        \n",
    "    # string representation method template\n",
    "    def __repr__(self):\n",
    "        raise NotImplementedError()\n",
    "    \n",
    "    # getters\n",
    "    def get_type(self):\n",
    "        return self.__type\n",
    "\n",
    "    def get_S(self):\n",
    "        return self.__S\n",
    "    \n",
    "    def get_sigma(self):\n",
    "        return self.__sigma\n",
    "    \n",
    "    def get_K(self):\n",
    "        return self.__K\n",
    "    \n",
    "    def get_t(self):\n",
    "        return self.__t\n",
    "\n",
    "    def get_T(self):\n",
    "        return self.__T\n",
    "\n",
    "    def get_tau(self):\n",
    "        return self.__tau\n",
    "\n",
    "    def get_r(self):\n",
    "        return self.__r\n",
    "    \n",
    "    def get_sigma(self):\n",
    "        return self.__sigma\n",
    "    \n",
    "    # doctring getter template\n",
    "    def get_docstring(self, label):\n",
    "        raise NotImplementedError()\n",
    "\n",
    "    # setters\n",
    "    def set_type(self, option_type):\n",
    "        self.__type = option_type\n",
    "        \n",
    "        # option type check\n",
    "        if option_type not in ['call', 'put']:\n",
    "            raise NotImplementedError(\"Option Type: '{}' does not exist!\".format(option_type))\n",
    "            \n",
    "    def set_K(self, K):\n",
    "        self.__K = K\n",
    "    \n",
    "    def set_T(self, T):\n",
    "        self.__T = dt.datetime.strptime(T, \"%d-%m-%Y\") if isinstance(T, str) else T\n",
    "        # update time to maturity, given changed T, to keep internal consistency\n",
    "        self.__update_tau() \n",
    "    \n",
    "    def set_tau(self, tau):\n",
    "        self.__tau = tau\n",
    "        # update expiration date, given changed tau, to keep internal consistency\n",
    "        self.__update_T()\n",
    "        \n",
    "    def __update_T(self):\n",
    "        self.__T = self.__t + dt.timedelta(days=math.ceil(self.__tau*365))\n",
    "\n",
    "    # time to maturity method (private)\n",
    "    def __time_to_maturity(self):\n",
    "        return (self.__T - self.__t).days / 365.0\n",
    "    \n",
    "    # payoff template\n",
    "    def payoff(self):\n",
    "        raise NotImplementedError()     \n",
    "        \n",
    "    # upper price limit template\n",
    "    def price_upper_limit(self):\n",
    "        raise NotImplementedError()     \n",
    "\n",
    "    # lower price limit template\n",
    "    def price_lower_limit(self):\n",
    "        raise NotImplementedError()     \n",
    "        \n",
    "    # price template\n",
    "    def price(self):\n",
    "        raise NotImplementedError()"
   ]
  },
  {
   "cell_type": "code",
   "execution_count": null,
   "metadata": {},
   "outputs": [],
   "source": [
    "from collections.abc import Iterable"
   ]
  },
  {
   "cell_type": "code",
   "execution_count": null,
   "metadata": {},
   "outputs": [],
   "source": [
    "class PlainVanillaOption(EuropeanOption):\n",
    "    \"\"\"\n",
    "    PlainVanillaOption class implementing payoff and pricing of plain-vanilla call and put options.\n",
    "    Put price is calculated using put-call parity\n",
    "    \n",
    "    Attributes:\n",
    "    -----------\n",
    "        mkt_env (MarketEnvironment): Instance of MarketEnvironment class\n",
    "        type (str):                  From 'type' attribute of EuropeanOption base class.\n",
    "        S_t (float):                 'S' attribute of mkt_env.\n",
    "        K (float):                   From 'K' attribute of EuropeanOption base class.\n",
    "        t (str; dt.datetime):        't' attribute of mkt_env.\n",
    "        T (str; dt.datetime):        From 'T' attribute of EuropeanOption base class.\n",
    "        tau (float):                 time to maturity in years, computed as tau=T-t by time_to_maturity() method\n",
    "        r (float):                   'r' attribute of mkt_env.\n",
    "        sigma (float):               'sigma' attribute of mkt_env.\n",
    "    \n",
    "    Public Methods:\n",
    "    --------   \n",
    "    \n",
    "        payoff: float\n",
    "            Computes the payoff of the option and returns it\n",
    "\n",
    "        price_upper_limit: float \n",
    "            Returns the upper limit for a vanilla option price.\n",
    "\n",
    "        price_lower_limit: float \n",
    "            Returns the lower limit for a vanilla option price.\n",
    "            \n",
    "        price: float\n",
    "            Computes the exact price of the option and returns it, using call_price() or put_price()\n",
    "\n",
    "    Usage: \n",
    "    --------   \n",
    "        - default: PlainVanillaOption(mkt_env) is equivalent to \n",
    "                   PlainVanillaOption(mkt_env, option_type='call', K=100.0, T=\"31-12-2020\")\n",
    "\n",
    "        - general: PlainVanillaOption(mkt_env, option_type='call' or 'put' String, K=Float, T=\"DD-MM-YYYY\" String)\n",
    "\n",
    "    where: mkt_env is a MarketEnvironment instance.\n",
    "    \"\"\"\n",
    "    \n",
    "    # initializer with optional *args and **kwargs parameters\n",
    "    def __init__(self, *args, **kwargs):  \n",
    "        \n",
    "        # calling the EuropeanOption constructor\n",
    "        super(PlainVanillaOption, self).__init__(*args, **kwargs)\n",
    "        \n",
    "        # info strings\n",
    "        self.__info = r\"Plain Vanilla {} (K={:.1f}, tau={:.2f}y)\".format(self.get_type(), self.get_K(), self.get_tau())\n",
    "        self.__mkt_info = r\"[S_t={:.1f}, r={:.1f}%, sigma={:.1f}%]\".format(self.get_S(), self.get_r()*100, self.get_sigma()*100)\n",
    "        \n",
    "        # informations dictionary\n",
    "        self.__docstring_dict = {\n",
    "            'call':{\n",
    "                'price_upper_limit': r\"Upper limit: $S_t$\",\n",
    "                'payoff':            r\"Payoff: $max(S-K, 0)$\",\n",
    "                'price_lower_limit': r\"Lower limit: $max(S_t - K e^{-r \\tau}, 0)$\"\n",
    "            },\n",
    "            'put': {\n",
    "                'price_upper_limit': r\"Upper limit: $K e^{-r \\tau}$\",\n",
    "                'payoff':            r\"Payoff: $max(K-S, 0)$\",\n",
    "                'price_lower_limit': r\"Lower limit: $max(K e^{-r \\tau} - S_t, 0)$\"}\n",
    "        }\n",
    "                \n",
    "    def __repr__(self):\n",
    "        return r\"PlainVanillaOption('{}', S_t={:.1f}, K={:.1f}, t={}, T={}, tau={:.2f}y, r={:.1f}%, sigma={:.1f}%)\".\\\n",
    "                format(self.get_type(), self.get_S(), self.get_K(), self.get_t().strftime(\"%d-%m-%Y\"), \n",
    "                       self.get_T().strftime(\"%d-%m-%Y\"), self.get_tau(), self.get_r()*100, self.get_sigma()*100)\n",
    "    \n",
    "    # getters\n",
    "    def get_info(self):\n",
    "        return self.__info\n",
    "    \n",
    "    def get_mkt_info(self):\n",
    "        return self.__mkt_info\n",
    "\n",
    "    def get_docstring(self, label):\n",
    "        return self.__docstring_dict[self.get_type()][label] \n",
    "    \n",
    "    # payoff calculation - with optional *args and **kwargs parameters\n",
    "    def payoff(self, *args, **kwargs):\n",
    "        \"\"\"\n",
    "        Can be called as:\n",
    "            - payoff(): uses .get_S() \n",
    "            - payoff(100.0): S == 100.0\n",
    "            - payoff(S=100.0)\n",
    "            - payoff([100.0, ..., 120.0]): S == [100.0, ..., 120.0] \n",
    "            - payoff(S=[100.0, ..., 120.0])\n",
    "        \"\"\"\n",
    "        \n",
    "        S = args[0] if len(args) > 0 else kwargs['S'] if 'S' in kwargs else self.get_S()\n",
    "                \n",
    "        # call case\n",
    "        if self.get_type() == 'call':\n",
    "            return self.__call_payoff(S)\n",
    "        # put case\n",
    "        else:\n",
    "            return self.__put_payoff(S)\n",
    "    \n",
    "    def __call_payoff(self, S):\n",
    "        if isinstance(S, Iterable):\n",
    "            return np.array([max(0.0, s - self.get_K()) for s in S])\n",
    "        else:\n",
    "            return max(0.0, S - self.get_K())\n",
    "\n",
    "    def __put_payoff(self, S):\n",
    "        if isinstance(S, Iterable):\n",
    "            return np.array([max(0.0, self.get_K() - s) for s in S])\n",
    "        else:\n",
    "            return max(0.0, self.get_K() - S)\n",
    "        \n",
    "    # upper price limit - with optional *args and **kwargs parameters\n",
    "    def price_upper_limit(self, *args, **kwargs):\n",
    "        \"\"\"\n",
    "        Can be called as:\n",
    "            - price_upper_limit(): uses .get_S() and .get_tau()\n",
    "            - price_upper_limit(100.0): S == 100.0\n",
    "            - price_upper_limit(100.0, 0.1): S == 100.0 and tau == 0.1\n",
    "            - price_upper_limit(S=100.0, tau=0.1)\n",
    "            - price_upper_limit([100.0, ..., 120.0], 0.1): S == [100.0, ..., 120.0] and tau == 0.1\n",
    "            - price_upper_limit(S=[100.0, ..., 120.0], tau=0.1)\n",
    "        \"\"\"\n",
    "\n",
    "        S = args[0] if len(args) > 0 else kwargs['S'] if 'S' in kwargs else self.get_S()\n",
    "        tau = args[1] if len(args) > 1 else kwargs['tau'] if 'tau' in kwargs else self.get_tau()\n",
    "                        \n",
    "        # call case\n",
    "        if self.get_type() == 'call':\n",
    "            return S\n",
    "        # put case\n",
    "        else:\n",
    "            return self.__put_price_upper_limit(S, tau)\n",
    "    \n",
    "    def __put_price_upper_limit(self, S, tau):\n",
    "        if isinstance(S, Iterable):\n",
    "            return np.repeat(self.get_K()*np.exp(-self.get_r() * tau), repeats=len(S)) \n",
    "        else:\n",
    "            return self.get_K()*np.exp(-self.get_r() * tau)\n",
    "\n",
    "    # lower price limit - with optional *args and **kwargs parameters\n",
    "    def price_lower_limit(self, *args, **kwargs):\n",
    "        \"\"\"\n",
    "        Can be called as:\n",
    "            - price_lower_limit(): uses .get_S() and .get_tau()\n",
    "            - price_lower_limit(100.0): S == 100.0\n",
    "            - price_lower_limit(100.0, 0.1): S == 100.0 and tau == 0.1\n",
    "            - price_lower_limit(S=100.0, tau=0.1)\n",
    "            - price_lower_limit([100.0, ..., 120.0], 0.1): S == [100.0, ..., 120.0] and tau == 0.1\n",
    "            - price_lower_limit(S=[100.0, ..., 120.0], tau=0.1)\n",
    "        \"\"\"\n",
    "\n",
    "        S = args[0] if len(args) > 0 else kwargs['S'] if 'S' in kwargs else self.get_S()\n",
    "        tau = args[1] if len(args) > 1 else kwargs['tau'] if 'tau' in kwargs else self.get_tau()\n",
    "                                       \n",
    "        # call case\n",
    "        if self.get_type() == 'call':\n",
    "            return self.__call_price_lower_limit(S, tau)\n",
    "        # put case\n",
    "        else:\n",
    "            return self.__put_price_lower_limit(S, tau)\n",
    "\n",
    "    def __call_price_lower_limit(self, S, tau):\n",
    "        if isinstance(S, Iterable):\n",
    "            return np.array([max(s - self.get_K()*np.exp(-self.get_r() * tau), 0.0) for s in S])\n",
    "        else:\n",
    "            return max(S - self.get_K()*np.exp(-self.get_r() * tau), 0.0)\n",
    "                                       \n",
    "    def __put_price_lower_limit(self, S, tau):\n",
    "        if isinstance(S, Iterable):\n",
    "            return np.array([max(self.get_K()*np.exp(-self.get_r() * tau) - s, 0.0) for s in S])\n",
    "        else:\n",
    "            return max(self.get_K()*np.exp(-self.get_r() * tau) - S, 0.0)\n",
    "                                       \n",
    "    # price calculation - with optional *args and **kwargs parameters\n",
    "    def price(self, *args, **kwargs):\n",
    "        \"\"\"\n",
    "        Can be called as:\n",
    "            - price(): uses .get_S() and .get_tau()\n",
    "            - price(100.0): S == 100.0\n",
    "            - price(100.0, 0.1): S == 100.0 and tau == 0.1\n",
    "            - price(S=100.0, tau=0.1)\n",
    "            - price([100.0, ..., 120.0], 0.1): S == [100.0, ..., 120.0] and tau == 0.1\n",
    "            - price(S=[100.0, ..., 120.0], tau=0.1)\n",
    "        \"\"\"\n",
    "                       \n",
    "        S = args[0] if len(args) > 0 else kwargs['S'] if 'S' in kwargs else self.get_S()\n",
    "        tau = args[1] if len(args) > 1 else kwargs['tau'] if 'tau' in kwargs else self.get_tau()\n",
    "               \n",
    "        # call case\n",
    "        if self.get_type() == 'call':\n",
    "            return np.array([self.__call_price(s, tau) for s in S]) if isinstance(S, Iterable) else self.__call_price(S, tau)\n",
    "        # put case\n",
    "        else:\n",
    "            return np.array([self.__put_price(s, tau) for s in S]) if isinstance(S, Iterable) else self.__put_price(S, tau)\n",
    "          \n",
    "    def __call_price(self, S, tau):\n",
    "        \n",
    "        if S == 0: # this is to avoid log(0) issues\n",
    "            return 0.0\n",
    "        elif tau == 0.0: # this is to avoid 0/0 issues\n",
    "            return self.__call_payoff(S)\n",
    "        else:\n",
    "            K     = self.get_K()\n",
    "            r     = self.get_r()\n",
    "            sigma = self.get_sigma()\n",
    "\n",
    "            d1 = (np.log(S/K) + (r + 0.5 * sigma ** 2) * tau) / (sigma * np.sqrt(tau))\n",
    "            d2 = d1 - sigma * np.sqrt(tau)\n",
    "\n",
    "            price = S * stats.norm.cdf(d1, 0.0, 1.0) - K * np.exp(-r * tau) * stats.norm.cdf(d2, 0.0, 1.0)\n",
    "\n",
    "            return price\n",
    "    \n",
    "    def __put_price(self, S, tau):\n",
    "        \"\"\" Put price from Put-Call parity relation: Call + Ke^{-r*tau} = Put + S\"\"\"\n",
    "        return self.__call_price(S, tau) + self.get_K() * np.exp(- self.get_r() * tau) - S     "
   ]
  },
  {
   "cell_type": "code",
   "execution_count": null,
   "metadata": {},
   "outputs": [],
   "source": [
    "Vanilla_Call = PlainVanillaOption(market_env, option_type='call', K=110.0, T=\"31-12-2022\")\n",
    "Vanilla_Call"
   ]
  },
  {
   "cell_type": "code",
   "execution_count": null,
   "metadata": {},
   "outputs": [],
   "source": [
    "Vanilla_Call = PlainVanillaOption(market_env)\n",
    "Vanilla_Call"
   ]
  },
  {
   "cell_type": "code",
   "execution_count": null,
   "metadata": {
    "scrolled": true
   },
   "outputs": [],
   "source": [
    "Vanilla_Call.payoff() # using .get_S() "
   ]
  },
  {
   "cell_type": "code",
   "execution_count": null,
   "metadata": {},
   "outputs": [],
   "source": [
    "Vanilla_Call.payoff(90) # using args[0] for S"
   ]
  },
  {
   "cell_type": "code",
   "execution_count": null,
   "metadata": {},
   "outputs": [],
   "source": [
    "Vanilla_Call.payoff(S=90) # using kwargs['S'] for S"
   ]
  },
  {
   "cell_type": "code",
   "execution_count": null,
   "metadata": {},
   "outputs": [],
   "source": [
    "Vanilla_Call.payoff([90, 100.0]) # using args[0] for S (and list in input)"
   ]
  },
  {
   "cell_type": "code",
   "execution_count": null,
   "metadata": {},
   "outputs": [],
   "source": [
    "Vanilla_Call.payoff(S=[90, 100.0]) # using kwargs['S'] for S (and list in input) "
   ]
  },
  {
   "cell_type": "code",
   "execution_count": null,
   "metadata": {
    "scrolled": true
   },
   "outputs": [],
   "source": [
    "Vanilla_Call.price() # using .get_S() and .get_tau()"
   ]
  },
  {
   "cell_type": "code",
   "execution_count": null,
   "metadata": {},
   "outputs": [],
   "source": [
    "Vanilla_Call.price(90) # using args[0] for S"
   ]
  },
  {
   "cell_type": "code",
   "execution_count": null,
   "metadata": {},
   "outputs": [],
   "source": [
    "Vanilla_Call.price(90, 0.1) # using args[0] for S and args[1] for tau"
   ]
  },
  {
   "cell_type": "code",
   "execution_count": null,
   "metadata": {},
   "outputs": [],
   "source": [
    "Vanilla_Call.price(S=90, tau=0.1) # using kwargs['S'] for S and kwargs['tau'] for tau"
   ]
  },
  {
   "cell_type": "code",
   "execution_count": null,
   "metadata": {},
   "outputs": [],
   "source": [
    "Vanilla_Call.price([90, 100.0], tau=0.1) # using args[0] for S (and list in input) and args[1] for tau"
   ]
  },
  {
   "cell_type": "code",
   "execution_count": null,
   "metadata": {},
   "outputs": [],
   "source": [
    "Vanilla_Call.price(S=[90, 100.0], tau=0.1) # using kwargs['S'] for S (and list in input) and kwargs['tau'] for tau"
   ]
  },
  {
   "cell_type": "code",
   "execution_count": null,
   "metadata": {
    "scrolled": true
   },
   "outputs": [],
   "source": [
    "Vanilla_Call.price_upper_limit() # using .get_S() and .get_tau()"
   ]
  },
  {
   "cell_type": "code",
   "execution_count": null,
   "metadata": {},
   "outputs": [],
   "source": [
    "Vanilla_Call.price_upper_limit(90) # using args[0] for S"
   ]
  },
  {
   "cell_type": "code",
   "execution_count": null,
   "metadata": {},
   "outputs": [],
   "source": [
    "Vanilla_Call.price_upper_limit(90, 0.1) # using args[0] for S and args[1] for tau"
   ]
  },
  {
   "cell_type": "code",
   "execution_count": null,
   "metadata": {},
   "outputs": [],
   "source": [
    "Vanilla_Call.price_upper_limit(S=90, tau=0.1) # using kwargs['S'] for S and kwargs['tau'] for tau"
   ]
  },
  {
   "cell_type": "code",
   "execution_count": null,
   "metadata": {},
   "outputs": [],
   "source": [
    "Vanilla_Call.price_upper_limit([90, 100.0], tau=0.1) # using args[0] for S (and list in input) and args[1] for tau"
   ]
  },
  {
   "cell_type": "code",
   "execution_count": null,
   "metadata": {},
   "outputs": [],
   "source": [
    "Vanilla_Call.price_upper_limit(S=[90, 100.0], tau=0.1) # using kwargs['S'] for S (and list in input) and kwargs['tau'] for tau"
   ]
  },
  {
   "cell_type": "code",
   "execution_count": null,
   "metadata": {
    "scrolled": true
   },
   "outputs": [],
   "source": [
    "Vanilla_Call.price_lower_limit() # using .get_S() and .get_tau()"
   ]
  },
  {
   "cell_type": "code",
   "execution_count": null,
   "metadata": {},
   "outputs": [],
   "source": [
    "Vanilla_Call.price_lower_limit(90) # using args[0] for S"
   ]
  },
  {
   "cell_type": "code",
   "execution_count": null,
   "metadata": {},
   "outputs": [],
   "source": [
    "Vanilla_Call.price_lower_limit(90, 0.1) # using args[0] for S and args[1] for tau"
   ]
  },
  {
   "cell_type": "code",
   "execution_count": null,
   "metadata": {},
   "outputs": [],
   "source": [
    "Vanilla_Call.price_lower_limit(S=90, tau=0.1) # using kwargs['S'] for S and kwargs['tau'] for tau"
   ]
  },
  {
   "cell_type": "code",
   "execution_count": null,
   "metadata": {},
   "outputs": [],
   "source": [
    "Vanilla_Call.price_lower_limit([90, 100.0], tau=0.1) # using args[0] for S (and list in input) and args[1] for tau"
   ]
  },
  {
   "cell_type": "code",
   "execution_count": null,
   "metadata": {},
   "outputs": [],
   "source": [
    "Vanilla_Call.price_lower_limit(S=[90, 100.0], tau=0.1) # using kwargs['S'] for S (and list in input) and kwargs['tau'] for tau"
   ]
  },
  {
   "cell_type": "markdown",
   "metadata": {},
   "source": [
    "the same can be done in the put case"
   ]
  },
  {
   "cell_type": "code",
   "execution_count": null,
   "metadata": {},
   "outputs": [],
   "source": [
    "Vanilla_Put = PlainVanillaOption(market_env, option_type='put')\n",
    "Vanilla_Put"
   ]
  },
  {
   "cell_type": "code",
   "execution_count": null,
   "metadata": {
    "scrolled": true
   },
   "outputs": [],
   "source": [
    "Vanilla_Put.payoff() # using .get_S() "
   ]
  },
  {
   "cell_type": "markdown",
   "metadata": {},
   "source": [
    "etc"
   ]
  },
  {
   "cell_type": "code",
   "execution_count": null,
   "metadata": {},
   "outputs": [],
   "source": [
    "class DigitalOption(EuropeanOption):\n",
    "    \"\"\"\n",
    "    DigitalOption class implementing payoff and pricing of digital call and put options.\n",
    "    Put price is calculated using put-call parity\n",
    "    \n",
    "    Attributes:\n",
    "    -----------\n",
    "        mkt_env (MarketEnvironment): Instance of MarketEnvironment class\n",
    "        Q (float):                   cash amount\n",
    "        type (str):                  From 'type' attribute of EuropeanOption base class.\n",
    "        S_t (float):                 'S' attribute of mkt_env.\n",
    "        K (float):                   From 'K' attribute of EuropeanOption base class.\n",
    "        t (str; dt.datetime):        't' attribute of mkt_env.\n",
    "        T (str; dt.datetime):        From 'T' attribute of EuropeanOption base class.\n",
    "        tau (float):                 time to maturity in years, computed as tau=T-t by time_to_maturity() method\n",
    "        r (float):                   'r' attribute of mkt_env.\n",
    "        sigma (float):               'sigma' attribute of mkt_env.\n",
    "    \n",
    "    Public Methods:\n",
    "    --------   \n",
    "    \n",
    "        payoff: float\n",
    "            Computes the payoff of the option and returns it\n",
    "\n",
    "        price_upper_limit: float \n",
    "            Returns the upper limit for a vanilla option price.\n",
    "\n",
    "        price_lower_limit: float \n",
    "            Returns the lower limit for a vanilla option price.\n",
    "            \n",
    "        price: float\n",
    "            Computes the exact price of the option and returns it, using call_price() or put_price()\n",
    "\n",
    "    Usage: \n",
    "    --------   \n",
    "        - default: DigitalOption(mkt_env) is equivalent to \n",
    "                   DigitalOption(mkt_env, cash_amount=1.0, option_type='call', K=100.0, T=\"31-12-2020\")\n",
    "\n",
    "        - general: DigitalOption(mkt_env, cash_amount=Float, option_type='call' or 'put' String, K=Float, T=\"DD-MM-YYYY\" String)\n",
    "\n",
    "    where: mkt_env is a MarketEnvironment instance.\n",
    "    \"\"\"\n",
    "\n",
    "    # initializer with optional *args and **kwargs parameters and default cash_amount\n",
    "    # default keyword arguments (like cash_amount here) must go after args list argument in function def\n",
    "    def __init__(self, *args, cash_amount=1.0, **kwargs):  \n",
    "        \n",
    "        # calling the EuropeanOption constructor\n",
    "        super(DigitalOption, self).__init__(*args, **kwargs)\n",
    "        \n",
    "        # amount of cash in case of payment\n",
    "        self.__Q = cash_amount    \n",
    "        \n",
    "        # info strings\n",
    "        self.__info = r\"CON {} (K={:.1f}, tau={:.2f}y, Q={:.1f})\".format(self.get_type(), self.get_K(), self.get_tau(), self.get_Q())\n",
    "        self.__mkt_info = r\"[S_t={:.1f}, r={:.1f}%, sigma={:.1f}%]\".format(self.get_S(), self.get_r()*100, self.get_sigma()*100)\n",
    "\n",
    "        # informations dictionary\n",
    "        self.__docstring_dict = {\n",
    "            'call':{\n",
    "                'price_upper_limit': r\"Upper limit: $Q e^{-r \\tau}$\",\n",
    "                'payoff':            r\"Payoff: $Q$ $I(S > K)$\",\n",
    "                'price_lower_limit': r\"Lower limit: $0$\"\n",
    "            },\n",
    "            'put': {\n",
    "                'price_upper_limit': r\"Upper limit: $Q e^{-r \\tau}$\",\n",
    "                'payoff':            r\"Payoff: $Q$ $I(S \\leq K)$\",\n",
    "                'price_lower_limit': r\"Lower limit: $0$\"}\n",
    "        }        \n",
    "                \n",
    "    def __repr__(self):\n",
    "        return r\"DigitalOption('{}', cash={:.1f}, S_t={:.1f}, K={:.1f}, t={}, T={}, tau={:.2f}y, r={:.1f}%, sigma={:.1f}%)\".\\\n",
    "                format(self.get_type(), self.get_Q(), self.get_S(), self.get_K(), self.get_t().strftime(\"%d-%m-%Y\"), \n",
    "                       self.get_T().strftime(\"%d-%m-%Y\"), self.get_tau(), self.get_r()*100, self.get_sigma()*100)\n",
    "    \n",
    "    # getters\n",
    "    def get_info(self):\n",
    "        return self.__info\n",
    "    \n",
    "    def get_mkt_info(self):\n",
    "        return self.__mkt_info\n",
    "    \n",
    "    def get_Q(self):\n",
    "        return self.__Q\n",
    "    \n",
    "    # docstring getter\n",
    "    def get_docstring(self, label):\n",
    "        return self.__docstring_dict[self.get_type()][label] \n",
    "    \n",
    "    # setters\n",
    "    def set_Q(self, cash_amount):\n",
    "        self.__Q = cash_amount\n",
    "    \n",
    "    # payoff calculation - with optional *args and **kwargs parameters\n",
    "    def payoff(self, *args, **kwargs):\n",
    "        \"\"\"\n",
    "        Can be called as:\n",
    "            - payoff(): uses .get_S() \n",
    "            - payoff(100.0): S == 100.0\n",
    "            - payoff(S=100.0)\n",
    "            - payoff([100.0, ..., 120.0]): S == [100.0, ..., 120.0] \n",
    "            - payoff(S=[100.0, ..., 120.0])\n",
    "        \"\"\"\n",
    "        \n",
    "        S = args[0] if len(args) > 0 else kwargs['S'] if 'S' in kwargs else self.get_S()\n",
    "        \n",
    "        # call case\n",
    "        if self.get_type() == 'call':\n",
    "            return self.__call_payoff(S)\n",
    "        # put case\n",
    "        else:\n",
    "            return self.__put_payoff(S)\n",
    "\n",
    "    def __call_payoff(self, S):\n",
    "        if isinstance(S, Iterable):\n",
    "            return np.array([self.get_Q() * int(s > self.get_K()) for s in S])\n",
    "        else:\n",
    "            return self.get_Q() * int(S > self.get_K())\n",
    "\n",
    "    def __put_payoff(self, S):\n",
    "        if isinstance(S, Iterable):\n",
    "            return np.array([self.get_Q() * int(s <= self.get_K()) for s in S])\n",
    "        else:\n",
    "            return self.get_Q() * int(S <= self.get_K())\n",
    "        \n",
    "    # upper price limit - with optional *args and **kwargs parameters\n",
    "    def price_upper_limit(self, *args, **kwargs):\n",
    "        \"\"\"\n",
    "        Can be called as:\n",
    "            - price_upper_limit(): uses .get_S() and .get_tau()\n",
    "            - price_upper_limit(100.0): S == 100.0\n",
    "            - price_upper_limit(100.0, 0.1): S == 100.0 and tau == 0.1\n",
    "            - price_upper_limit(S=100.0, tau=0.1)\n",
    "            - price_upper_limit([100.0, ..., 120.0], 0.1): S == [100.0, ..., 120.0] and tau == 0.1\n",
    "            - price_upper_limit(S=[100.0, ..., 120.0], tau=0.1)\n",
    "        \"\"\"\n",
    "\n",
    "        S = args[0] if len(args) > 0 else kwargs['S'] if 'S' in kwargs else self.get_S()\n",
    "        tau = args[1] if len(args) > 1 else kwargs['tau'] if 'tau' in kwargs else self.get_tau()\n",
    "            \n",
    "        # the same for call and put\n",
    "        return self.__price_upper_limit(S, tau)\n",
    " \n",
    "    def __price_upper_limit(self, S, tau):\n",
    "        if isinstance(S, Iterable):\n",
    "            return np.repeat(self.get_Q()*np.exp(-self.get_r() * tau), repeats=len(S))\n",
    "        else:\n",
    "            return self.get_Q()*np.exp(-self.get_r() * tau)\n",
    "                                       \n",
    "    # lower price limit - with optional *args and **kwargs parameters\n",
    "    def price_lower_limit(self, *args, **kwargs):\n",
    "        \"\"\"\n",
    "        Can be called as:\n",
    "            - price_lower_limit(): uses .get_S() \n",
    "            - price_lower_limit(100.0): S == 100.0\n",
    "            - price_lower_limit(S=100.0)\n",
    "            - price_lower_limit([100.0, ..., 120.0]): S == [100.0, ..., 120.0] \n",
    "            - price_lower_limit(S=[100.0, ..., 120.0])\n",
    "        \"\"\"\n",
    "\n",
    "        S = args[0] if len(args) > 0 else kwargs['S'] if 'S' in kwargs else self.get_S()\n",
    "            \n",
    "        # call case\n",
    "        if self.get_type() == 'call':\n",
    "            return np.repeat(0.0, repeats=len(S)) if isinstance(S, Iterable) else 0.0\n",
    "        # put case\n",
    "        else:\n",
    "            return np.repeat(0.0, repeats=len(S)) if isinstance(S, Iterable) else 0.0\n",
    "        \n",
    "    # price calculation - with optional *args and **kwargs parameters\n",
    "    def price(self, *args, **kwargs):\n",
    "        \"\"\"\n",
    "        Can be called as:\n",
    "            - price(): uses .get_S() and .get_tau()\n",
    "            - price(100.0): S == 100.0\n",
    "            - price(100.0, 0.1): S == 100.0 and tau == 0.1\n",
    "            - price(S=100.0, tau=0.1)\n",
    "            - price([100.0, ..., 120.0], 0.1): S == [100.0, ..., 120.0] and tau == 0.1\n",
    "            - price(S=[100.0, ..., 120.0], tau=0.1)\n",
    "        \"\"\"\n",
    "                       \n",
    "        S = args[0] if len(args) > 0 else kwargs['S'] if 'S' in kwargs else self.get_S()\n",
    "        tau = args[1] if len(args) > 1 else kwargs['tau'] if 'tau' in kwargs else self.get_tau()\n",
    "            \n",
    "        # call case\n",
    "        if self.get_type() == 'call':\n",
    "            return np.array([self.__call_price(s, tau) for s in S]) if isinstance(S, Iterable) else self.__call_price(S, tau)\n",
    "        # put case\n",
    "        else:\n",
    "            return np.array([self.__put_price(s, tau) for s in S]) if isinstance(S, Iterable) else self.__put_price(S, tau)\n",
    "          \n",
    "    def __call_price(self, S, tau):\n",
    "                \n",
    "        if S == 0: # this is to avoid log(0) issues\n",
    "            return 0.0\n",
    "        elif tau == 0.0: # this is to avoid 0/0 issues\n",
    "            return self.__call_payoff(S)\n",
    "        else:\n",
    "            Q     = self.get_Q()\n",
    "            K     = self.get_K()\n",
    "            r     = self.get_r()\n",
    "            sigma = self.get_sigma()\n",
    "\n",
    "            d1 = (np.log(S/K) + (r + 0.5 * sigma ** 2) * tau) / (sigma * np.sqrt(tau))\n",
    "            d2 = d1 - sigma * np.sqrt(tau)\n",
    "\n",
    "            price = Q * np.exp(-r * tau) * stats.norm.cdf(d2, 0.0, 1.0)\n",
    "\n",
    "            return price\n",
    "    \n",
    "    def __put_price(self, S, tau):\n",
    "        \"\"\" Put price from Put-Call parity relation: CON_Call + CON_Put = Qe^{-r*tau}\"\"\"\n",
    "        return self.get_Q() * np.exp(- self.get_r() * tau) - self.__call_price(S, tau)        "
   ]
  },
  {
   "cell_type": "code",
   "execution_count": null,
   "metadata": {},
   "outputs": [],
   "source": [
    "CON_Call = DigitalOption(market_env)\n",
    "CON_Call"
   ]
  },
  {
   "cell_type": "code",
   "execution_count": null,
   "metadata": {},
   "outputs": [],
   "source": [
    "CON_Call = DigitalOption(market_env, cash_amount=1000.0)\n",
    "CON_Call"
   ]
  },
  {
   "cell_type": "code",
   "execution_count": null,
   "metadata": {},
   "outputs": [],
   "source": [
    "CON_Call = DigitalOption(market_env, option_type='call', K=110.0, T=\"31-12-2022\")\n",
    "CON_Call"
   ]
  },
  {
   "cell_type": "code",
   "execution_count": null,
   "metadata": {},
   "outputs": [],
   "source": [
    "CON_Call = DigitalOption(market_env, cash_amount=1000.0, option_type='call', K=110.0, T=\"31-12-2022\")\n",
    "CON_Call"
   ]
  },
  {
   "cell_type": "code",
   "execution_count": null,
   "metadata": {
    "scrolled": true
   },
   "outputs": [],
   "source": [
    "CON_Call = DigitalOption(market_env)\n",
    "CON_Call"
   ]
  },
  {
   "cell_type": "code",
   "execution_count": null,
   "metadata": {
    "scrolled": true
   },
   "outputs": [],
   "source": [
    "CON_Call.payoff() # using .get_S() "
   ]
  },
  {
   "cell_type": "code",
   "execution_count": null,
   "metadata": {},
   "outputs": [],
   "source": [
    "CON_Call.payoff(90) # using args[0] for S"
   ]
  },
  {
   "cell_type": "code",
   "execution_count": null,
   "metadata": {},
   "outputs": [],
   "source": [
    "CON_Call.payoff(S=90) # using kwargs['S'] for S"
   ]
  },
  {
   "cell_type": "code",
   "execution_count": null,
   "metadata": {},
   "outputs": [],
   "source": [
    "CON_Call.payoff([90, 100.0]) # using args[0] for S (and list in input)"
   ]
  },
  {
   "cell_type": "code",
   "execution_count": null,
   "metadata": {},
   "outputs": [],
   "source": [
    "CON_Call.payoff(S=[90, 100.0]) # using kwargs['S'] for S (and list in input) "
   ]
  },
  {
   "cell_type": "code",
   "execution_count": null,
   "metadata": {
    "scrolled": true
   },
   "outputs": [],
   "source": [
    "CON_Call.price() # using .get_S() and .get_tau()"
   ]
  },
  {
   "cell_type": "code",
   "execution_count": null,
   "metadata": {},
   "outputs": [],
   "source": [
    "CON_Call.price(90) # using args[0] for S"
   ]
  },
  {
   "cell_type": "code",
   "execution_count": null,
   "metadata": {},
   "outputs": [],
   "source": [
    "CON_Call.price(90, 0.1) # using args[0] for S and args[1] for tau"
   ]
  },
  {
   "cell_type": "code",
   "execution_count": null,
   "metadata": {},
   "outputs": [],
   "source": [
    "CON_Call.price(S=90, tau=0.1) # using kwargs['S'] for S and kwargs['tau'] for tau"
   ]
  },
  {
   "cell_type": "code",
   "execution_count": null,
   "metadata": {},
   "outputs": [],
   "source": [
    "CON_Call.price([90, 100.0], tau=0.1) # using args[0] for S (and list in input) and args[1] for tau"
   ]
  },
  {
   "cell_type": "code",
   "execution_count": null,
   "metadata": {},
   "outputs": [],
   "source": [
    "CON_Call.price(S=[90, 100.0], tau=0.1) # using kwargs['S'] for S (and list in input) and kwargs['tau'] for tau"
   ]
  },
  {
   "cell_type": "code",
   "execution_count": null,
   "metadata": {
    "scrolled": true
   },
   "outputs": [],
   "source": [
    "CON_Call.price_upper_limit() # using .get_S() and .get_tau()"
   ]
  },
  {
   "cell_type": "code",
   "execution_count": null,
   "metadata": {},
   "outputs": [],
   "source": [
    "CON_Call.price_upper_limit(90) # using args[0] for S"
   ]
  },
  {
   "cell_type": "code",
   "execution_count": null,
   "metadata": {},
   "outputs": [],
   "source": [
    "CON_Call.price_upper_limit(90, 0.1) # using args[0] for S and args[1] for tau"
   ]
  },
  {
   "cell_type": "code",
   "execution_count": null,
   "metadata": {},
   "outputs": [],
   "source": [
    "CON_Call.price_upper_limit(S=90, tau=0.1) # using kwargs['S'] for S and kwargs['tau'] for tau"
   ]
  },
  {
   "cell_type": "code",
   "execution_count": null,
   "metadata": {},
   "outputs": [],
   "source": [
    "CON_Call.price_upper_limit([90, 100.0], tau=0.1) # using args[0] for S (and list in input) and args[1] for tau"
   ]
  },
  {
   "cell_type": "code",
   "execution_count": null,
   "metadata": {},
   "outputs": [],
   "source": [
    "CON_Call.price_upper_limit(S=[90, 100.0], tau=0.1) # using kwargs['S'] for S (and list in input) and kwargs['tau'] for tau"
   ]
  },
  {
   "cell_type": "code",
   "execution_count": null,
   "metadata": {
    "scrolled": true
   },
   "outputs": [],
   "source": [
    "CON_Call.price_lower_limit() # using .get_S() and .get_tau()"
   ]
  },
  {
   "cell_type": "code",
   "execution_count": null,
   "metadata": {},
   "outputs": [],
   "source": [
    "CON_Call.price_lower_limit(90) # using args[0] for S"
   ]
  },
  {
   "cell_type": "code",
   "execution_count": null,
   "metadata": {},
   "outputs": [],
   "source": [
    "CON_Call.price_lower_limit(90, 0.1) # using args[0] for S and args[1] for tau"
   ]
  },
  {
   "cell_type": "code",
   "execution_count": null,
   "metadata": {},
   "outputs": [],
   "source": [
    "CON_Call.price_lower_limit(S=90, tau=0.1) # using kwargs['S'] for S and kwargs['tau'] for tau"
   ]
  },
  {
   "cell_type": "code",
   "execution_count": null,
   "metadata": {},
   "outputs": [],
   "source": [
    "CON_Call.price_lower_limit([90, 100.0], tau=0.1) # using args[0] for S (and list in input) and args[1] for tau"
   ]
  },
  {
   "cell_type": "code",
   "execution_count": null,
   "metadata": {},
   "outputs": [],
   "source": [
    "CON_Call.price_lower_limit(S=[90, 100.0], tau=0.1) # using kwargs['S'] for S (and list in input) and kwargs['tau'] for tau"
   ]
  },
  {
   "cell_type": "markdown",
   "metadata": {},
   "source": [
    "the same can be done in the put case"
   ]
  },
  {
   "cell_type": "code",
   "execution_count": null,
   "metadata": {
    "scrolled": true
   },
   "outputs": [],
   "source": [
    "CON_Put = DigitalOption(market_env, option_type='put')\n",
    "CON_Put"
   ]
  },
  {
   "cell_type": "code",
   "execution_count": null,
   "metadata": {
    "scrolled": true
   },
   "outputs": [],
   "source": [
    "CON_Put.payoff() # using .get_S() "
   ]
  },
  {
   "cell_type": "markdown",
   "metadata": {},
   "source": [
    "etc"
   ]
  },
  {
   "cell_type": "markdown",
   "metadata": {},
   "source": [
    "Let's now define a Plotter class"
   ]
  },
  {
   "cell_type": "code",
   "execution_count": null,
   "metadata": {},
   "outputs": [],
   "source": [
    "class Plotter():\n",
    "    \n",
    "    def __init__(self, FinancialInstrument, *args, **kwargs):\n",
    "\n",
    "        # parse informations from FinancialInstrument\n",
    "        self.fin_inst = FinancialInstrument\n",
    "        self.__title_label = self.fin_inst.get_info() + \"\\n\" + \"Market: \" + self.fin_inst.get_mkt_info()\n",
    "\n",
    "        # define x-axis \n",
    "        S_range = args[0] if len(args) > 0 else kwargs['S'] if 'S' in kwargs else self.fin_inst.get_K()\n",
    "        self.set_x_axis(S_range)\n",
    "\n",
    "        # define multi-lines (different tau)\n",
    "        multi_tau = args[1] if len(args) > 1 else kwargs['tau'] if 'tau' in kwargs else self.fin_inst.get_tau()\n",
    "        self.set_multi_tau(multi_tau)\n",
    "        \n",
    "    # getters\n",
    "    def get_x_axis(self):\n",
    "        return self.__x_axis\n",
    "\n",
    "    def get_tau(self):\n",
    "        return self.__multi_tau\n",
    "\n",
    "    def get_title(self):\n",
    "        return self.__title_label\n",
    "    \n",
    "    # setters\n",
    "    def set_x_axis(self, x):\n",
    "        \n",
    "        if isinstance(x, Iterable):\n",
    "            self.__x_axis = x\n",
    "        else:\n",
    "            x_min = max(x-20, 0.0)\n",
    "            x_max = x+20\n",
    "            \n",
    "            self.__x_axis = np.linspace(x_min, x_max, 100)\n",
    "    \n",
    "    def set_multi_tau(self, tau):\n",
    "        if isinstance(tau, Iterable) and len(tau) > 1:\n",
    "            # sort and take the reversed array\n",
    "            self.__multi_tau = np.sort(tau)[::-1]\n",
    "        elif isinstance(tau, Iterable) and len(tau) == 1:\n",
    "            self.__multi_tau = tau[0]\n",
    "        else:\n",
    "            self.__multi_tau = tau\n",
    "                    \n",
    "    def plot(self, *args, **kwargs):\n",
    "        \n",
    "        # parse optional parameters\n",
    "        if len(args) > 0:\n",
    "            self.set_x_axis(args[0])\n",
    "        elif 'S' in kwargs:\n",
    "            self.set_x_axis(kwargs['S'])\n",
    "            \n",
    "        if len(args) > 1:\n",
    "            self.set_multi_tau(args[1])\n",
    "        elif 'tau' in kwargs:\n",
    "            self.set_multi_tau(kwargs['tau'])\n",
    "            \n",
    "        # get x-axis and, possibly, multi-tau\n",
    "        x_axis = self.get_x_axis()\n",
    "        tau = self.get_tau()\n",
    "        \n",
    "        if isinstance(tau, Iterable):\n",
    "            self.__plot_multi_tau(x_axis, tau)\n",
    "        else:\n",
    "            plot_limits = args[2] if len(args) > 2 else kwargs['plot_limits'] if 'plot_limits' in kwargs else False\n",
    "            self.__plot_single_tau(x_axis, tau, plot_limits)\n",
    "            \n",
    "    def __plot_multi_tau(self, S, multi_tau):\n",
    "        \"\"\"\n",
    "        Plot FinancialInstrument values against underlying value(s), possibly at multiple times-to-maturity.\n",
    "        \"\"\"\n",
    "        \n",
    "        plt.rcParams[\"axes.prop_cycle\"] = plt.cycler(\"color\", plt.cm.Blues(np.linspace(0,1,len(multi_tau)+1)))\n",
    "\n",
    "        # define the figure\n",
    "        fig, ax = plt.subplots(figsize=(10,6))\n",
    "\n",
    "        # plot the price for different underlying values, one line for each different time to maturity tau\n",
    "        for tau in multi_tau:\n",
    "            ax.plot(S, self.fin_inst.price(S, tau), '-', lw=1.5, label=r\"$\\tau={:.2f}y$\".format(tau))\n",
    "\n",
    "        # plot the red payoff line for different underlying values\n",
    "        ax.plot(S, self.fin_inst.payoff(S), 'r-',  lw=1.5, label=self.fin_inst.get_docstring('payoff'))\n",
    "\n",
    "        # plot a dot to highlight the strike position\n",
    "        ax.plot(self.fin_inst.get_K(), 0, 'k.', ms=15, label=\"Strike $K$\")\n",
    "\n",
    "        # set axis labels \n",
    "        ax.set_xlabel('Underlying $S_t$', fontsize=12) \n",
    "        ax.set_ylabel('Black-Scholes Price', fontsize=12) \n",
    "\n",
    "        # set title\n",
    "        ax.set_title(self.get_title(), fontsize=12) \n",
    "\n",
    "        # add the legend ('best' loc parameters places the legend in the best position automatically)\n",
    "        ax.legend(loc='best', ncol=1)\n",
    "\n",
    "        # add a gride to ease visualization\n",
    "        plt.grid(True)\n",
    "\n",
    "        # show the plot\n",
    "        fig.tight_layout()\n",
    "        plt.show()\n",
    "    \n",
    "    def __plot_single_tau(self, S, tau, plot_limits):\n",
    "        \"\"\"\n",
    "        Plot FinancialInstrument values against underlying value(s) at fixed time-to-maturity. Possibly, it plots theoretical\n",
    "        upper and lower bounds of the price.\n",
    "        \"\"\"\n",
    "\n",
    "        # define the figure\n",
    "        fig, ax = plt.subplots(figsize=(10,6))\n",
    "        \n",
    "        # plot the price for different underlying values\n",
    "        ax.plot(S, self.fin_inst.price(S, tau), 'b-', lw=1.5, label=r\"Price\")\n",
    "        \n",
    "        if plot_limits==True:\n",
    "            # plot the upper limit, the price and the lower limit for different underlying values\n",
    "            ax.plot(S, self.fin_inst.price_upper_limit(S, tau), 'k-.', lw=1.5, label=self.fin_inst.get_docstring('price_upper_limit'))\n",
    "            ax.plot(S, self.fin_inst.price_lower_limit(S, tau), 'k--', lw=1.5, label=self.fin_inst.get_docstring('price_lower_limit'))\n",
    "\n",
    "        # plot the red payoff line for different underlying values\n",
    "        ax.plot(S, self.fin_inst.payoff(S), 'r-',  lw=1.5, label=self.fin_inst.get_docstring('payoff'))\n",
    "\n",
    "        # plot a dot to highlight the strike position\n",
    "        ax.plot(self.fin_inst.get_K(), 0, 'k.', ms=15, label=\"Strike $K$\")\n",
    "\n",
    "        # set axis labels \n",
    "        ax.set_xlabel('Underlying $S_t$', fontsize=12) \n",
    "        ax.set_ylabel('Black-Scholes Price', fontsize=12) \n",
    "\n",
    "        # set title\n",
    "        ax.set_title(self.get_title(), fontsize=12) \n",
    "\n",
    "        # add the legend ('best' loc parameters places the legend in the best position automatically)\n",
    "        ax.legend(loc='best', ncol=1)\n",
    "\n",
    "        # add a gride to ease visualization\n",
    "        plt.grid(True)\n",
    "\n",
    "        # show the plot\n",
    "        fig.tight_layout()\n",
    "        plt.show()"
   ]
  },
  {
   "cell_type": "code",
   "execution_count": null,
   "metadata": {},
   "outputs": [],
   "source": [
    "market_env"
   ]
  },
  {
   "cell_type": "code",
   "execution_count": null,
   "metadata": {},
   "outputs": [],
   "source": [
    "Vanilla_Call"
   ]
  },
  {
   "cell_type": "code",
   "execution_count": null,
   "metadata": {},
   "outputs": [],
   "source": [
    "option_plotter = Plotter(Vanilla_Call)"
   ]
  },
  {
   "cell_type": "code",
   "execution_count": null,
   "metadata": {},
   "outputs": [],
   "source": [
    "option_plotter.plot()"
   ]
  },
  {
   "cell_type": "code",
   "execution_count": null,
   "metadata": {},
   "outputs": [],
   "source": [
    "option_plotter.plot(plot_limits=True)"
   ]
  },
  {
   "cell_type": "code",
   "execution_count": null,
   "metadata": {
    "scrolled": false
   },
   "outputs": [],
   "source": [
    "option_plotter.plot(tau=[0.05, 0.1, 0.25, 0.5, 0.75, 1.0])"
   ]
  },
  {
   "cell_type": "code",
   "execution_count": null,
   "metadata": {},
   "outputs": [],
   "source": [
    "option_plotter = Plotter(Vanilla_Call, S=[80, 90, 100, 110, 120], tau=[0.01, 0.5, 1])"
   ]
  },
  {
   "cell_type": "code",
   "execution_count": null,
   "metadata": {
    "scrolled": false
   },
   "outputs": [],
   "source": [
    "option_plotter.plot()"
   ]
  },
  {
   "cell_type": "code",
   "execution_count": null,
   "metadata": {
    "scrolled": true
   },
   "outputs": [],
   "source": [
    "CON_Put = DigitalOption(market_env, option_type='put')\n",
    "CON_Put"
   ]
  },
  {
   "cell_type": "code",
   "execution_count": null,
   "metadata": {},
   "outputs": [],
   "source": [
    "option_plotter = Plotter(CON_Put)"
   ]
  },
  {
   "cell_type": "code",
   "execution_count": null,
   "metadata": {},
   "outputs": [],
   "source": [
    "option_plotter.plot()"
   ]
  },
  {
   "cell_type": "code",
   "execution_count": null,
   "metadata": {},
   "outputs": [],
   "source": [
    "option_plotter.plot(plot_limits=True)"
   ]
  },
  {
   "cell_type": "code",
   "execution_count": null,
   "metadata": {
    "scrolled": false
   },
   "outputs": [],
   "source": [
    "option_plotter.plot(tau=[0.05, 0.1, 0.25, 0.5, 0.75, 1.0])"
   ]
  },
  {
   "cell_type": "code",
   "execution_count": null,
   "metadata": {},
   "outputs": [],
   "source": [
    "option_plotter = Plotter(CON_Put,  tau=[0.01, 0.5, 1])"
   ]
  },
  {
   "cell_type": "code",
   "execution_count": null,
   "metadata": {
    "scrolled": false
   },
   "outputs": [],
   "source": [
    "option_plotter.plot()"
   ]
  },
  {
   "cell_type": "markdown",
   "metadata": {},
   "source": [
    "## _focus on:_ PnL"
   ]
  },
  {
   "cell_type": "code",
   "execution_count": null,
   "metadata": {},
   "outputs": [],
   "source": [
    "class EuropeanOption:\n",
    "    \"\"\"\n",
    "    EuropeanOption abstract class: an interface setting the template for any option with european-style exercise.\n",
    "    This class is not meant to be instantiated.\n",
    "    \n",
    "    Attributes:\n",
    "    -----------\n",
    "        type (str):               type of the option. Can be either 'call' or 'put';\n",
    "        S_t (float):              'S' attribute of mkt_env.\n",
    "        K (float):                strike price;\n",
    "        t (str; dt.datetime):     't' attribute of mkt_env.\n",
    "        T (str; dt.datetime):     expiration date. Can be either a \"dd-mm-YYYY\" String or a pd.datetime() object\n",
    "        tau (float):              time to maturity in years, computed as tau=T-t by time_to_maturity() method\n",
    "        r (float):                'r' attribute of mkt_env.\n",
    "        sigma (float):            'sigma' attribute of mkt_env.\n",
    "    \n",
    "    Template Methods:\n",
    "    --------   \n",
    "    \n",
    "        getters for all common attributes\n",
    "        \n",
    "        setters for common attributes, not belonging to mkt_env\n",
    "        \n",
    "        payoff: float\n",
    "            Template method for payoff. Raises NotImplementedError if called.\n",
    "\n",
    "        price_upper_limit: float \n",
    "            Template method for upper limit. Raises NotImplementedError if called.\n",
    "\n",
    "        price_lower_limit: float \n",
    "            Template method for lower limit. Raises NotImplementedError if called.\n",
    "            \n",
    "        price: float\n",
    "            Template method for price. Raises NotImplementedError if called.\n",
    "\n",
    "    \"\"\"\n",
    "\n",
    "    def __init__(self, mkt_env, option_type='call', K=100.0, T=\"31-12-2020\"):\n",
    "        \n",
    "        print(\"Initializing the EuropeanOption!\")\n",
    "\n",
    "        # option type check\n",
    "        if option_type not in ['call', 'put']:\n",
    "            raise NotImplementedError(\"Option Type: '{}' does not exist!\".format(option_type))\n",
    "        \n",
    "        self.__type  = option_type\n",
    "        self.__S     = mkt_env.get_S()\n",
    "        self.__K     = K\n",
    "        self.__t     = mkt_env.get_t()\n",
    "        self.__T     = dt.datetime.strptime(T, \"%d-%m-%Y\") if isinstance(T, str) else T\n",
    "        self.__tau   = self.__time_to_maturity()\n",
    "        self.__r     = mkt_env.get_r()\n",
    "        self.__sigma = mkt_env.get_sigma()\n",
    "        \n",
    "        # empty initial price of the option\n",
    "        self.__initial_price = None\n",
    "               \n",
    "        # empty informations dictionary\n",
    "        self.__docstring_dict = {}        \n",
    "        \n",
    "    # string representation method template\n",
    "    def __repr__(self):\n",
    "        raise NotImplementedError()\n",
    "    \n",
    "    # getters\n",
    "    def get_type(self):\n",
    "        return self.__type\n",
    "\n",
    "    def get_S(self):\n",
    "        return self.__S\n",
    "    \n",
    "    def get_sigma(self):\n",
    "        return self.__sigma\n",
    "    \n",
    "    def get_K(self):\n",
    "        return self.__K\n",
    "    \n",
    "    def get_t(self):\n",
    "        return self.__t\n",
    "\n",
    "    def get_T(self):\n",
    "        return self.__T\n",
    "\n",
    "    def get_tau(self):\n",
    "        return self.__tau\n",
    "\n",
    "    def get_r(self):\n",
    "        return self.__r\n",
    "    \n",
    "    def get_sigma(self):\n",
    "        return self.__sigma\n",
    "    \n",
    "    def get_initial_price(self):\n",
    "        return NotImplementedError()\n",
    "    \n",
    "    # doctring getter template\n",
    "    def get_docstring(self, label):\n",
    "        raise NotImplementedError()\n",
    "\n",
    "    # setters\n",
    "    def set_type(self, option_type):\n",
    "        self.__type = option_type\n",
    "        \n",
    "        # option type check\n",
    "        if option_type not in ['call', 'put']:\n",
    "            raise NotImplementedError(\"Option Type: '{}' does not exist!\".format(option_type))\n",
    "            \n",
    "    def set_K(self, K):\n",
    "        self.__K = K\n",
    "    \n",
    "    def set_T(self, T):\n",
    "        self.__T = dt.datetime.strptime(T, \"%d-%m-%Y\") if isinstance(T, str) else T\n",
    "        # update time to maturity, given changed T, to keep internal consistency\n",
    "        self.__update_tau() \n",
    "    \n",
    "    def set_tau(self, tau):\n",
    "        self.__tau = tau\n",
    "        # update expiration date, given changed tau, to keep internal consistency\n",
    "        self.__update_T()\n",
    "        \n",
    "    def __update_T(self):\n",
    "        self.__T = self.__t + dt.timedelta(days=math.ceil(self.__tau*365))\n",
    "\n",
    "    # time to maturity method (private)\n",
    "    def __time_to_maturity(self):\n",
    "        return (self.__T - self.__t).days / 365.0\n",
    "    \n",
    "    # payoff template\n",
    "    def payoff(self):\n",
    "        raise NotImplementedError()     \n",
    "        \n",
    "    # upper price limit template\n",
    "    def price_upper_limit(self):\n",
    "        raise NotImplementedError()     \n",
    "\n",
    "    # lower price limit template\n",
    "    def price_lower_limit(self):\n",
    "        raise NotImplementedError()     \n",
    "        \n",
    "    # price template\n",
    "    def price(self):\n",
    "        raise NotImplementedError()\n",
    "        \n",
    "    # profit and loss calculation calculation - with optional *args and **kwargs parameters\n",
    "    def PnL(self, *args, **kwargs):\n",
    "        \"\"\"\n",
    "        Can be called as:\n",
    "            - PnL(): uses .get_S() and .get_tau()\n",
    "            - PnL(100.0): S == 100.0\n",
    "            - PnL(100.0, 0.1): S == 100.0 and tau == 0.1\n",
    "            - PnL(S=100.0, tau=0.1)\n",
    "            - PnL([100.0, ..., 120.0], 0.1): S == [100.0, ..., 120.0] and tau == 0.1\n",
    "            - PnL(S=[100.0, ..., 120.0], tau=0.1)\n",
    "        \"\"\"\n",
    "        \n",
    "        S = args[0] if len(args) > 0 else kwargs['S'] if 'S' in kwargs else self.get_S()\n",
    "        tau = args[1] if len(args) > 1 else kwargs['tau'] if 'tau' in kwargs else self.get_tau()\n",
    "        \n",
    "        # if tau==0, this is the P&L at option's expiration, that is the PnL if the option is kept until maturity\n",
    "        if tau == 0.0:\n",
    "            # P&L = payoff - initial price\n",
    "            return self.payoff(S) - self.get_initial_price()\n",
    "        \n",
    "        # if tau > 0, this is the P&L as if the option position is closed before maturity, when the time-to-maturity is tau\n",
    "        else:\n",
    "            # P&L = current price - initial price\n",
    "            return self.price(S, tau) - self.get_initial_price()"
   ]
  },
  {
   "cell_type": "code",
   "execution_count": null,
   "metadata": {},
   "outputs": [],
   "source": [
    "class PlainVanillaOption(EuropeanOption):\n",
    "    \"\"\"\n",
    "    PlainVanillaOption class implementing payoff and pricing of plain-vanilla call and put options.\n",
    "    Put price is calculated using put-call parity\n",
    "    \n",
    "    Attributes:\n",
    "    -----------\n",
    "        mkt_env (MarketEnvironment): Instance of MarketEnvironment class\n",
    "        type (str):                  From 'type' attribute of EuropeanOption base class.\n",
    "        S_t (float):                 'S' attribute of mkt_env.\n",
    "        K (float):                   From 'K' attribute of EuropeanOption base class.\n",
    "        t (str; dt.datetime):        't' attribute of mkt_env.\n",
    "        T (str; dt.datetime):        From 'T' attribute of EuropeanOption base class.\n",
    "        tau (float):                 time to maturity in years, computed as tau=T-t by time_to_maturity() method\n",
    "        r (float):                   'r' attribute of mkt_env.\n",
    "        sigma (float):               'sigma' attribute of mkt_env.\n",
    "    \n",
    "    Public Methods:\n",
    "    --------   \n",
    "    \n",
    "        payoff: float\n",
    "            Computes the payoff of the option and returns it\n",
    "\n",
    "        price_upper_limit: float \n",
    "            Returns the upper limit for a vanilla option price.\n",
    "\n",
    "        price_lower_limit: float \n",
    "            Returns the lower limit for a vanilla option price.\n",
    "            \n",
    "        price: float\n",
    "            Computes the exact price of the option and returns it, using call_price() or put_price()\n",
    "\n",
    "    Usage: \n",
    "    --------   \n",
    "        - default: PlainVanillaOption(mkt_env) is equivalent to \n",
    "                   PlainVanillaOption(mkt_env, option_type='call', K=100.0, T=\"31-12-2020\")\n",
    "\n",
    "        - general: PlainVanillaOption(mkt_env, option_type='call' or 'put' String, K=Float, T=\"DD-MM-YYYY\" String)\n",
    "\n",
    "    where: mkt_env is a MarketEnvironment instance.\n",
    "    \"\"\"\n",
    "    \n",
    "    # initializer with optional *args and **kwargs parameters\n",
    "    def __init__(self, *args, **kwargs):  \n",
    "        \n",
    "        # calling the EuropeanOption constructor\n",
    "        super(PlainVanillaOption, self).__init__(*args, **kwargs)\n",
    "        \n",
    "        # info strings\n",
    "        self.__info = r\"Plain Vanilla {} (K={:.1f}, tau={:.2f}y)\".format(self.get_type(), self.get_K(), self.get_tau())\n",
    "        self.__mkt_info = r\"[S_t={:.1f}, r={:.1f}%, sigma={:.1f}%]\".format(self.get_S(), self.get_r()*100, self.get_sigma()*100)\n",
    "        \n",
    "        # initial price of the option\n",
    "        self.__initial_price = self.price()\n",
    "        \n",
    "        # informations dictionary\n",
    "        self.__docstring_dict = {\n",
    "            'call':{\n",
    "                'price_upper_limit': r\"Upper limit: $S_t$\",\n",
    "                'payoff':            r\"Payoff: $max(S-K, 0)$\",\n",
    "                'price_lower_limit': r\"Lower limit: $max(S_t - K e^{-r \\tau}, 0)$\"\n",
    "            },\n",
    "            'put': {\n",
    "                'price_upper_limit': r\"Upper limit: $K e^{-r \\tau}$\",\n",
    "                'payoff':            r\"Payoff: $max(K-S, 0)$\",\n",
    "                'price_lower_limit': r\"Lower limit: $max(K e^{-r \\tau} - S_t, 0)$\"}\n",
    "        }\n",
    "                \n",
    "    def __repr__(self):\n",
    "        return r\"PlainVanillaOption('{}', S_t={:.1f}, K={:.1f}, t={}, T={}, tau={:.2f}y, r={:.1f}%, sigma={:.1f}%)\".\\\n",
    "                format(self.get_type(), self.get_S(), self.get_K(), self.get_t().strftime(\"%d-%m-%Y\"), \n",
    "                       self.get_T().strftime(\"%d-%m-%Y\"), self.get_tau(), self.get_r()*100, self.get_sigma()*100)\n",
    "    \n",
    "    # getters\n",
    "    def get_info(self):\n",
    "        return self.__info\n",
    "    \n",
    "    def get_mkt_info(self):\n",
    "        return self.__mkt_info\n",
    "    \n",
    "    def get_initial_price(self):\n",
    "        return self.__initial_price\n",
    "\n",
    "    def get_docstring(self, label):\n",
    "        return self.__docstring_dict[self.get_type()][label] \n",
    "    \n",
    "    # payoff calculation - with optional *args and **kwargs parameters\n",
    "    def payoff(self, *args, **kwargs):\n",
    "        \"\"\"\n",
    "        Can be called as:\n",
    "            - payoff(): uses .get_S() \n",
    "            - payoff(100.0): S == 100.0\n",
    "            - payoff(S=100.0)\n",
    "            - payoff([100.0, ..., 120.0]): S == [100.0, ..., 120.0] \n",
    "            - payoff(S=[100.0, ..., 120.0])\n",
    "        \"\"\"\n",
    "        \n",
    "        S = args[0] if len(args) > 0 else kwargs['S'] if 'S' in kwargs else self.get_S()\n",
    "                \n",
    "        # call case\n",
    "        if self.get_type() == 'call':\n",
    "            return self.__call_payoff(S)\n",
    "        # put case\n",
    "        else:\n",
    "            return self.__put_payoff(S)\n",
    "    \n",
    "    def __call_payoff(self, S):\n",
    "        if isinstance(S, Iterable):\n",
    "            return np.array([max(0.0, s - self.get_K()) for s in S])\n",
    "        else:\n",
    "            return max(0.0, S - self.get_K())\n",
    "\n",
    "    def __put_payoff(self, S):\n",
    "        if isinstance(S, Iterable):\n",
    "            return np.array([max(0.0, self.get_K() - s) for s in S])\n",
    "        else:\n",
    "            return max(0.0, self.get_K() - S)\n",
    "        \n",
    "    # upper price limit - with optional *args and **kwargs parameters\n",
    "    def price_upper_limit(self, *args, **kwargs):\n",
    "        \"\"\"\n",
    "        Can be called as:\n",
    "            - price_upper_limit(): uses .get_S() and .get_tau()\n",
    "            - price_upper_limit(100.0): S == 100.0\n",
    "            - price_upper_limit(100.0, 0.1): S == 100.0 and tau == 0.1\n",
    "            - price_upper_limit(S=100.0, tau=0.1)\n",
    "            - price_upper_limit([100.0, ..., 120.0], 0.1): S == [100.0, ..., 120.0] and tau == 0.1\n",
    "            - price_upper_limit(S=[100.0, ..., 120.0], tau=0.1)\n",
    "        \"\"\"\n",
    "\n",
    "        S = args[0] if len(args) > 0 else kwargs['S'] if 'S' in kwargs else self.get_S()\n",
    "        tau = args[1] if len(args) > 1 else kwargs['tau'] if 'tau' in kwargs else self.get_tau()\n",
    "                        \n",
    "        # call case\n",
    "        if self.get_type() == 'call':\n",
    "            return S\n",
    "        # put case\n",
    "        else:\n",
    "            return self.__put_price_upper_limit(S, tau)\n",
    "    \n",
    "    def __put_price_upper_limit(self, S, tau):\n",
    "        if isinstance(S, Iterable):\n",
    "            return np.repeat(self.get_K()*np.exp(-self.get_r() * tau), repeats=len(S)) \n",
    "        else:\n",
    "            return self.get_K()*np.exp(-self.get_r() * tau)\n",
    "\n",
    "    # lower price limit - with optional *args and **kwargs parameters\n",
    "    def price_lower_limit(self, *args, **kwargs):\n",
    "        \"\"\"\n",
    "        Can be called as:\n",
    "            - price_lower_limit(): uses .get_S() and .get_tau()\n",
    "            - price_lower_limit(100.0): S == 100.0\n",
    "            - price_lower_limit(100.0, 0.1): S == 100.0 and tau == 0.1\n",
    "            - price_lower_limit(S=100.0, tau=0.1)\n",
    "            - price_lower_limit([100.0, ..., 120.0], 0.1): S == [100.0, ..., 120.0] and tau == 0.1\n",
    "            - price_lower_limit(S=[100.0, ..., 120.0], tau=0.1)\n",
    "        \"\"\"\n",
    "\n",
    "        S = args[0] if len(args) > 0 else kwargs['S'] if 'S' in kwargs else self.get_S()\n",
    "        tau = args[1] if len(args) > 1 else kwargs['tau'] if 'tau' in kwargs else self.get_tau()\n",
    "                                       \n",
    "        # call case\n",
    "        if self.get_type() == 'call':\n",
    "            return self.__call_price_lower_limit(S, tau)\n",
    "        # put case\n",
    "        else:\n",
    "            return self.__put_price_lower_limit(S, tau)\n",
    "\n",
    "    def __call_price_lower_limit(self, S, tau):\n",
    "        if isinstance(S, Iterable):\n",
    "            return np.array([max(s - self.get_K()*np.exp(-self.get_r() * tau), 0.0) for s in S])\n",
    "        else:\n",
    "            return max(S - self.get_K()*np.exp(-self.get_r() * tau), 0.0)\n",
    "                                       \n",
    "    def __put_price_lower_limit(self, S, tau):\n",
    "        if isinstance(S, Iterable):\n",
    "            return np.array([max(self.get_K()*np.exp(-self.get_r() * tau) - s, 0.0) for s in S])\n",
    "        else:\n",
    "            return max(self.get_K()*np.exp(-self.get_r() * tau) - S, 0.0)\n",
    "                                       \n",
    "    # price calculation - with optional *args and **kwargs parameters\n",
    "    def price(self, *args, **kwargs):\n",
    "        \"\"\"\n",
    "        Can be called as:\n",
    "            - price(): uses .get_S() and .get_tau()\n",
    "            - price(100.0): S == 100.0\n",
    "            - price(100.0, 0.1): S == 100.0 and tau == 0.1\n",
    "            - price(S=100.0, tau=0.1)\n",
    "            - price([100.0, ..., 120.0], 0.1): S == [100.0, ..., 120.0] and tau == 0.1\n",
    "            - price(S=[100.0, ..., 120.0], tau=0.1)\n",
    "        \"\"\"\n",
    "                       \n",
    "        S = args[0] if len(args) > 0 else kwargs['S'] if 'S' in kwargs else self.get_S()\n",
    "        tau = args[1] if len(args) > 1 else kwargs['tau'] if 'tau' in kwargs else self.get_tau()\n",
    "               \n",
    "        # call case\n",
    "        if self.get_type() == 'call':\n",
    "            return np.array([self.__call_price(s, tau) for s in S]) if isinstance(S, Iterable) else self.__call_price(S, tau)\n",
    "        # put case\n",
    "        else:\n",
    "            return np.array([self.__put_price(s, tau) for s in S]) if isinstance(S, Iterable) else self.__put_price(S, tau)\n",
    "          \n",
    "    def __call_price(self, S, tau):\n",
    "        \n",
    "        if S == 0: # this is to avoid log(0) issues\n",
    "            return 0.0\n",
    "        elif tau == 0.0: # this is to avoid 0/0 issues\n",
    "            return self.__call_payoff(S)\n",
    "        else:\n",
    "            K     = self.get_K()\n",
    "            r     = self.get_r()\n",
    "            sigma = self.get_sigma()\n",
    "\n",
    "            d1 = (np.log(S/K) + (r + 0.5 * sigma ** 2) * tau) / (sigma * np.sqrt(tau))\n",
    "            d2 = d1 - sigma * np.sqrt(tau)\n",
    "\n",
    "            price = S * stats.norm.cdf(d1, 0.0, 1.0) - K * np.exp(-r * tau) * stats.norm.cdf(d2, 0.0, 1.0)\n",
    "\n",
    "            return price\n",
    "    \n",
    "    def __put_price(self, S, tau):\n",
    "        \"\"\" Put price from Put-Call parity relation: Call + Ke^{-r*tau} = Put + S\"\"\"\n",
    "        return self.__call_price(S, tau) + self.get_K() * np.exp(- self.get_r() * tau) - S     "
   ]
  },
  {
   "cell_type": "code",
   "execution_count": null,
   "metadata": {},
   "outputs": [],
   "source": [
    "class DigitalOption(EuropeanOption):\n",
    "    \"\"\"\n",
    "    DigitalOption class implementing payoff and pricing of digital call and put options.\n",
    "    Put price is calculated using put-call parity\n",
    "    \n",
    "    Attributes:\n",
    "    -----------\n",
    "        mkt_env (MarketEnvironment): Instance of MarketEnvironment class\n",
    "        Q (float):                   cash amount\n",
    "        type (str):                  From 'type' attribute of EuropeanOption base class.\n",
    "        S_t (float):                 'S' attribute of mkt_env.\n",
    "        K (float):                   From 'K' attribute of EuropeanOption base class.\n",
    "        t (str; dt.datetime):        't' attribute of mkt_env.\n",
    "        T (str; dt.datetime):        From 'T' attribute of EuropeanOption base class.\n",
    "        tau (float):                 time to maturity in years, computed as tau=T-t by time_to_maturity() method\n",
    "        r (float):                   'r' attribute of mkt_env.\n",
    "        sigma (float):               'sigma' attribute of mkt_env.\n",
    "    \n",
    "    Public Methods:\n",
    "    --------   \n",
    "    \n",
    "        payoff: float\n",
    "            Computes the payoff of the option and returns it\n",
    "\n",
    "        price_upper_limit: float \n",
    "            Returns the upper limit for a vanilla option price.\n",
    "\n",
    "        price_lower_limit: float \n",
    "            Returns the lower limit for a vanilla option price.\n",
    "            \n",
    "        price: float\n",
    "            Computes the exact price of the option and returns it, using call_price() or put_price()\n",
    "\n",
    "    Usage: \n",
    "    --------   \n",
    "        - default: DigitalOption(mkt_env) is equivalent to \n",
    "                   DigitalOption(mkt_env, cash_amount=1.0, option_type='call', K=100.0, T=\"31-12-2020\")\n",
    "\n",
    "        - general: DigitalOption(mkt_env, cash_amount=Float, option_type='call' or 'put' String, K=Float, T=\"DD-MM-YYYY\" String)\n",
    "\n",
    "    where: mkt_env is a MarketEnvironment instance.\n",
    "    \"\"\"\n",
    "\n",
    "    # initializer with optional *args and **kwargs parameters and default cash_amount\n",
    "    # default keyword arguments (like cash_amount here) must go after args list argument in function def\n",
    "    def __init__(self, *args, cash_amount=1.0, **kwargs):  \n",
    "        \n",
    "        # calling the EuropeanOption constructor\n",
    "        super(DigitalOption, self).__init__(*args, **kwargs)\n",
    "        \n",
    "        # amount of cash in case of payment\n",
    "        self.__Q = cash_amount    \n",
    "        \n",
    "        # info strings\n",
    "        self.__info = r\"CON {} (K={:.1f}, tau={:.2f}y, Q={:.1f})\".format(self.get_type(), self.get_K(), self.get_tau(), self.get_Q())\n",
    "        self.__mkt_info = r\"[S_t={:.1f}, r={:.1f}%, sigma={:.1f}%]\".format(self.get_S(), self.get_r()*100, self.get_sigma()*100)\n",
    "        \n",
    "        # initial price of the option\n",
    "        self.__initial_price = self.price()\n",
    "\n",
    "        # informations dictionary\n",
    "        self.__docstring_dict = {\n",
    "            'call':{\n",
    "                'price_upper_limit': r\"Upper limit: $Q e^{-r \\tau}$\",\n",
    "                'payoff':            r\"Payoff: $Q$ $I(S > K)$\",\n",
    "                'price_lower_limit': r\"Lower limit: $0$\"\n",
    "            },\n",
    "            'put': {\n",
    "                'price_upper_limit': r\"Upper limit: $Q e^{-r \\tau}$\",\n",
    "                'payoff':            r\"Payoff: $Q$ $I(S \\leq K)$\",\n",
    "                'price_lower_limit': r\"Lower limit: $0$\"}\n",
    "        }        \n",
    "                \n",
    "    def __repr__(self):\n",
    "        return r\"DigitalOption('{}', cash={:.1f}, S_t={:.1f}, K={:.1f}, t={}, T={}, tau={:.2f}y, r={:.1f}%, sigma={:.1f}%)\".\\\n",
    "                format(self.get_type(), self.get_Q(), self.get_S(), self.get_K(), self.get_t().strftime(\"%d-%m-%Y\"), \n",
    "                       self.get_T().strftime(\"%d-%m-%Y\"), self.get_tau(), self.get_r()*100, self.get_sigma()*100)\n",
    "    \n",
    "    # getters\n",
    "    def get_info(self):\n",
    "        return self.__info\n",
    "    \n",
    "    def get_mkt_info(self):\n",
    "        return self.__mkt_info\n",
    "    \n",
    "    def get_Q(self):\n",
    "        return self.__Q\n",
    "    \n",
    "    def get_initial_price(self):\n",
    "        return self.__initial_price\n",
    "    \n",
    "    # docstring getter\n",
    "    def get_docstring(self, label):\n",
    "        return self.__docstring_dict[self.get_type()][label] \n",
    "    \n",
    "    # setters\n",
    "    def set_Q(self, cash_amount):\n",
    "        self.__Q = cash_amount\n",
    "    \n",
    "    # payoff calculation - with optional *args and **kwargs parameters\n",
    "    def payoff(self, *args, **kwargs):\n",
    "        \"\"\"\n",
    "        Can be called as:\n",
    "            - payoff(): uses .get_S() \n",
    "            - payoff(100.0): S == 100.0\n",
    "            - payoff(S=100.0)\n",
    "            - payoff([100.0, ..., 120.0]): S == [100.0, ..., 120.0] \n",
    "            - payoff(S=[100.0, ..., 120.0])\n",
    "        \"\"\"\n",
    "        \n",
    "        S = args[0] if len(args) > 0 else kwargs['S'] if 'S' in kwargs else self.get_S()\n",
    "        \n",
    "        # call case\n",
    "        if self.get_type() == 'call':\n",
    "            return self.__call_payoff(S)\n",
    "        # put case\n",
    "        else:\n",
    "            return self.__put_payoff(S)\n",
    "\n",
    "    def __call_payoff(self, S):\n",
    "        if isinstance(S, Iterable):\n",
    "            return np.array([self.get_Q() * int(s > self.get_K()) for s in S])\n",
    "        else:\n",
    "            return self.get_Q() * int(S > self.get_K())\n",
    "\n",
    "    def __put_payoff(self, S):\n",
    "        if isinstance(S, Iterable):\n",
    "            return np.array([self.get_Q() * int(s <= self.get_K()) for s in S])\n",
    "        else:\n",
    "            return self.get_Q() * int(S <= self.get_K())\n",
    "        \n",
    "    # upper price limit - with optional *args and **kwargs parameters\n",
    "    def price_upper_limit(self, *args, **kwargs):\n",
    "        \"\"\"\n",
    "        Can be called as:\n",
    "            - price_upper_limit(): uses .get_S() and .get_tau()\n",
    "            - price_upper_limit(100.0): S == 100.0\n",
    "            - price_upper_limit(100.0, 0.1): S == 100.0 and tau == 0.1\n",
    "            - price_upper_limit(S=100.0, tau=0.1)\n",
    "            - price_upper_limit([100.0, ..., 120.0], 0.1): S == [100.0, ..., 120.0] and tau == 0.1\n",
    "            - price_upper_limit(S=[100.0, ..., 120.0], tau=0.1)\n",
    "        \"\"\"\n",
    "\n",
    "        S = args[0] if len(args) > 0 else kwargs['S'] if 'S' in kwargs else self.get_S()\n",
    "        tau = args[1] if len(args) > 1 else kwargs['tau'] if 'tau' in kwargs else self.get_tau()\n",
    "            \n",
    "        # the same for call and put\n",
    "        return self.__price_upper_limit(S, tau)\n",
    " \n",
    "    def __price_upper_limit(self, S, tau):\n",
    "        if isinstance(S, Iterable):\n",
    "            return np.repeat(self.get_Q()*np.exp(-self.get_r() * tau), repeats=len(S))\n",
    "        else:\n",
    "            return self.get_Q()*np.exp(-self.get_r() * tau)\n",
    "                                       \n",
    "    # lower price limit - with optional *args and **kwargs parameters\n",
    "    def price_lower_limit(self, *args, **kwargs):\n",
    "        \"\"\"\n",
    "        Can be called as:\n",
    "            - price_lower_limit(): uses .get_S() \n",
    "            - price_lower_limit(100.0): S == 100.0\n",
    "            - price_lower_limit(S=100.0)\n",
    "            - price_lower_limit([100.0, ..., 120.0]): S == [100.0, ..., 120.0] \n",
    "            - price_lower_limit(S=[100.0, ..., 120.0])\n",
    "        \"\"\"\n",
    "\n",
    "        S = args[0] if len(args) > 0 else kwargs['S'] if 'S' in kwargs else self.get_S()\n",
    "            \n",
    "        # call case\n",
    "        if self.get_type() == 'call':\n",
    "            return np.repeat(0.0, repeats=len(S)) if isinstance(S, Iterable) else 0.0\n",
    "        # put case\n",
    "        else:\n",
    "            return np.repeat(0.0, repeats=len(S)) if isinstance(S, Iterable) else 0.0\n",
    "        \n",
    "    # price calculation - with optional *args and **kwargs parameters\n",
    "    def price(self, *args, **kwargs):\n",
    "        \"\"\"\n",
    "        Can be called as:\n",
    "            - price(): uses .get_S() and .get_tau()\n",
    "            - price(100.0): S == 100.0\n",
    "            - price(100.0, 0.1): S == 100.0 and tau == 0.1\n",
    "            - price(S=100.0, tau=0.1)\n",
    "            - price([100.0, ..., 120.0], 0.1): S == [100.0, ..., 120.0] and tau == 0.1\n",
    "            - price(S=[100.0, ..., 120.0], tau=0.1)\n",
    "        \"\"\"\n",
    "                       \n",
    "        S = args[0] if len(args) > 0 else kwargs['S'] if 'S' in kwargs else self.get_S()\n",
    "        tau = args[1] if len(args) > 1 else kwargs['tau'] if 'tau' in kwargs else self.get_tau()\n",
    "            \n",
    "        # call case\n",
    "        if self.get_type() == 'call':\n",
    "            return np.array([self.__call_price(s, tau) for s in S]) if isinstance(S, Iterable) else self.__call_price(S, tau)\n",
    "        # put case\n",
    "        else:\n",
    "            return np.array([self.__put_price(s, tau) for s in S]) if isinstance(S, Iterable) else self.__put_price(S, tau)\n",
    "          \n",
    "    def __call_price(self, S, tau):\n",
    "                \n",
    "        if S == 0: # this is to avoid log(0) issues\n",
    "            return 0.0\n",
    "        elif tau == 0.0: # this is to avoid 0/0 issues\n",
    "            return self.__call_payoff(S)\n",
    "        else:\n",
    "            Q     = self.get_Q()\n",
    "            K     = self.get_K()\n",
    "            r     = self.get_r()\n",
    "            sigma = self.get_sigma()\n",
    "\n",
    "            d1 = (np.log(S/K) + (r + 0.5 * sigma ** 2) * tau) / (sigma * np.sqrt(tau))\n",
    "            d2 = d1 - sigma * np.sqrt(tau)\n",
    "\n",
    "            price = Q * np.exp(-r * tau) * stats.norm.cdf(d2, 0.0, 1.0)\n",
    "\n",
    "            return price\n",
    "    \n",
    "    def __put_price(self, S, tau):\n",
    "        \"\"\" Put price from Put-Call parity relation: CON_Call + CON_Put = Qe^{-r*tau}\"\"\"\n",
    "        return self.get_Q() * np.exp(- self.get_r() * tau) - self.__call_price(S, tau)        "
   ]
  },
  {
   "cell_type": "code",
   "execution_count": null,
   "metadata": {},
   "outputs": [],
   "source": [
    "Vanilla_Call = PlainVanillaOption(market_env)\n",
    "Vanilla_Call"
   ]
  },
  {
   "cell_type": "code",
   "execution_count": null,
   "metadata": {},
   "outputs": [],
   "source": [
    "Vanilla_Call.price()"
   ]
  },
  {
   "cell_type": "code",
   "execution_count": null,
   "metadata": {},
   "outputs": [],
   "source": [
    "Vanilla_Call.payoff()"
   ]
  },
  {
   "cell_type": "code",
   "execution_count": null,
   "metadata": {},
   "outputs": [],
   "source": [
    "Vanilla_Call.PnL()"
   ]
  },
  {
   "cell_type": "code",
   "execution_count": null,
   "metadata": {},
   "outputs": [],
   "source": [
    "Vanilla_Call.PnL(tau=0)"
   ]
  },
  {
   "cell_type": "code",
   "execution_count": null,
   "metadata": {},
   "outputs": [],
   "source": [
    "Vanilla_Call.get_K()"
   ]
  },
  {
   "cell_type": "code",
   "execution_count": null,
   "metadata": {},
   "outputs": [],
   "source": [
    "Vanilla_Call.PnL(S=110, tau=0)"
   ]
  },
  {
   "cell_type": "markdown",
   "metadata": {},
   "source": [
    "`getattr` "
   ]
  },
  {
   "cell_type": "code",
   "execution_count": null,
   "metadata": {},
   "outputs": [],
   "source": [
    "getattr(Vanilla_Call, 'price')()"
   ]
  },
  {
   "cell_type": "code",
   "execution_count": null,
   "metadata": {},
   "outputs": [],
   "source": [
    "str(getattr(Vanilla_Call, 'PnL'))"
   ]
  },
  {
   "cell_type": "code",
   "execution_count": null,
   "metadata": {},
   "outputs": [],
   "source": [
    "getattr(Vanilla_Call, 'PnL')()"
   ]
  },
  {
   "cell_type": "code",
   "execution_count": null,
   "metadata": {},
   "outputs": [],
   "source": [
    "class Plotter():\n",
    "    \n",
    "    def __init__(self, FinancialInstrument, *args, **kwargs):\n",
    "\n",
    "        # parse informations from FinancialInstrument\n",
    "        self.fin_inst = FinancialInstrument\n",
    "        self.__title_label = self.fin_inst.get_info() + \"\\n\" + \"Market: \" + self.fin_inst.get_mkt_info()\n",
    "\n",
    "        # define x-axis \n",
    "        S_range = args[0] if len(args) > 0 else kwargs['S'] if 'S' in kwargs else self.fin_inst.get_K()\n",
    "        self.set_x_axis(S_range)\n",
    "\n",
    "        # define multi-lines (different tau)\n",
    "        multi_tau = args[1] if len(args) > 1 else kwargs['tau'] if 'tau' in kwargs else self.fin_inst.get_tau()\n",
    "        self.set_multi_tau(multi_tau)\n",
    "        \n",
    "    # getters\n",
    "    def get_x_axis(self):\n",
    "        return self.__x_axis\n",
    "\n",
    "    def get_tau(self):\n",
    "        return self.__multi_tau\n",
    "\n",
    "    def get_title(self):\n",
    "        return self.__title_label\n",
    "    \n",
    "    # setters\n",
    "    def set_x_axis(self, x):\n",
    "        \n",
    "        if isinstance(x, Iterable):\n",
    "            self.__x_axis = x\n",
    "        else:\n",
    "            x_min = max(x-20, 0.0)\n",
    "            x_max = x+20\n",
    "            \n",
    "            self.__x_axis = np.linspace(x_min, x_max, 100)\n",
    "    \n",
    "    def set_multi_tau(self, tau):\n",
    "        if isinstance(tau, Iterable) and len(tau) > 1:\n",
    "            # sort and take the reversed array\n",
    "            self.__multi_tau = np.sort(tau)[::-1]\n",
    "        elif isinstance(tau, Iterable) and len(tau) == 1:\n",
    "            self.__multi_tau = tau[0]\n",
    "        else:\n",
    "            self.__multi_tau = tau\n",
    "                    \n",
    "    def plot(self, *args, method_name='price', **kwargs):\n",
    "        \n",
    "        # parse optional parameters\n",
    "        if len(args) > 0:\n",
    "            self.set_x_axis(args[0])\n",
    "        elif 'S' in kwargs:\n",
    "            self.set_x_axis(kwargs['S'])\n",
    "            \n",
    "        if len(args) > 1:\n",
    "            self.set_multi_tau(args[1])\n",
    "        elif 'tau' in kwargs:\n",
    "            self.set_multi_tau(kwargs['tau'])\n",
    "            \n",
    "        # get x-axis and, possibly, multi-tau\n",
    "        x_axis = self.get_x_axis()\n",
    "        tau = self.get_tau()\n",
    "        \n",
    "        if isinstance(tau, Iterable):\n",
    "            self.__plot_multi_tau(x_axis, tau, method_name)\n",
    "        else:\n",
    "            plot_limits = args[2] if len(args) > 2 else kwargs['plot_limits'] if 'plot_limits' in kwargs else False\n",
    "            self.__plot_single_tau(x_axis, tau, plot_limits, method_name)\n",
    "            \n",
    "    def __plot_multi_tau(self, S, multi_tau, method_name):\n",
    "        \"\"\"\n",
    "        Plot FinancialInstrument values against underlying value(s), possibly at multiple times-to-maturity.\n",
    "        \"\"\"\n",
    "        \n",
    "        plt.rcParams[\"axes.prop_cycle\"] = plt.cycler(\"color\", plt.cm.Blues(np.linspace(0,1,len(multi_tau))))\n",
    "\n",
    "        # define the figure\n",
    "        fig, ax = plt.subplots(figsize=(10,6))\n",
    "\n",
    "        # plot the price for different underlying values, one line for each different time to maturity tau\n",
    "        for tau in multi_tau:\n",
    "\n",
    "            ax.plot(S, getattr(self.fin_inst, method_name)(S, tau), '-', lw=1.5, label=r\"$\\tau={:.2f}y$\".format(tau))\n",
    "\n",
    "        # blue dot at original underlying level for reference, one dot for each different time to maturity tau\n",
    "        for tau in multi_tau:\n",
    "            S_t = self.fin_inst.get_S()\n",
    "            ax.plot(S_t, getattr(self.fin_inst, method_name)(S_t, tau), '.', ms=10, \n",
    "                    label=r\"$\\tau={:.2f}y$ at $S={:.1f}$\".format(tau, S_t))\n",
    "            \n",
    "        # plot the red payoff line for different underlying values\n",
    "        if method_name == 'PnL':\n",
    "            ax.plot(S, self.fin_inst.PnL(S, tau=0.0), 'r-',  lw=1.5, label=self.fin_inst.get_docstring('payoff') + r\" (net of initial price)\")\n",
    "        else:\n",
    "            ax.plot(S, self.fin_inst.payoff(S), 'r-',  lw=1.5, label=self.fin_inst.get_docstring('payoff'))\n",
    "\n",
    "        # plot a dot to highlight the strike position and a reference zero line\n",
    "        ax.plot(self.fin_inst.get_K(), 0, 'k.', ms=15, label=\"Strike $K$\")\n",
    "        ax.plot(S, np.zeros_like(S), 'k--', lw=1.5)\n",
    "        \n",
    "        # set axis labels \n",
    "        ax.set_xlabel(r\"Underlying Value at different times-to-maturity $\\tau$\", fontsize=12)\n",
    "        ax.set_ylabel('Black-Scholes {}'.format(method_name), fontsize=12) \n",
    "\n",
    "        # set title\n",
    "        ax.set_title(self.get_title(), fontsize=12) \n",
    "\n",
    "        # add the legend ('best' loc parameters places the legend in the best position automatically)\n",
    "        ax.legend(loc='best', ncol=2)\n",
    "\n",
    "        # add a gride to ease visualization\n",
    "        plt.grid(True)\n",
    "\n",
    "        # show the plot\n",
    "        fig.tight_layout()\n",
    "        plt.show()\n",
    "    \n",
    "    def __plot_single_tau(self, S, tau, plot_limits, method_name):\n",
    "        \"\"\"\n",
    "        Plot FinancialInstrument values against underlying value(s) at fixed time-to-maturity. Possibly, it plots theoretical\n",
    "        upper and lower bounds of the price.\n",
    "        \"\"\"\n",
    "\n",
    "        # define the figure\n",
    "        fig, ax = plt.subplots(figsize=(10,6))\n",
    "        \n",
    "        # plot the price for different underlying values\n",
    "        if tau > 0:\n",
    "            ax.plot(S, getattr(self.fin_inst, method_name)(S, tau), 'b-', lw=1.5, label=method_name)\n",
    "        \n",
    "        # blue dot at original underlying level for reference\n",
    "        S_t = self.fin_inst.get_S()\n",
    "        ax.plot(S_t, getattr(self.fin_inst, method_name)(S_t, tau), 'b.', ms=15, \n",
    "                label=method_name + r\" at $S={:.1f}$\".format(S_t))\n",
    "        \n",
    "        if plot_limits==True:\n",
    "            # plot the upper limit, the price and the lower limit for different underlying values\n",
    "            ax.plot(S, self.fin_inst.price_upper_limit(S, tau), 'k-.', lw=1.5, label=self.fin_inst.get_docstring('price_upper_limit'))\n",
    "            ax.plot(S, self.fin_inst.price_lower_limit(S, tau), 'k--', lw=1.5, label=self.fin_inst.get_docstring('price_lower_limit'))\n",
    "\n",
    "        # plot the red payoff line for different underlying values\n",
    "        if method_name == 'PnL':\n",
    "            ax.plot(S, self.fin_inst.PnL(S, tau=0.0), 'r-',  lw=1.5, label=self.fin_inst.get_docstring('payoff') + r\" (net of initial price)\")\n",
    "        else:\n",
    "            ax.plot(S, self.fin_inst.payoff(S), 'r-',  lw=1.5, label=self.fin_inst.get_docstring('payoff'))\n",
    "\n",
    "        # plot a dot to highlight the strike position and a reference zero line\n",
    "        ax.plot(self.fin_inst.get_K(), 0, 'k.', ms=15, label=\"Strike $K$\")\n",
    "        ax.plot(S, np.zeros_like(S), 'k--', lw=1.5)\n",
    "\n",
    "        # set axis labels \n",
    "        ax.set_xlabel(r\"Underlying Value at time-to-maturity $\\tau={:.2f}y$\".format(tau), fontsize=12) \n",
    "        ax.set_ylabel('Black-Scholes {}'.format(method_name), fontsize=12) \n",
    "\n",
    "        # set title\n",
    "        ax.set_title(self.get_title(), fontsize=12) \n",
    "\n",
    "        # add the legend ('best' loc parameters places the legend in the best position automatically)\n",
    "        ax.legend(loc='best', ncol=1)\n",
    "\n",
    "        # add a gride to ease visualization\n",
    "        plt.grid(True)\n",
    "\n",
    "        # show the plot\n",
    "        fig.tight_layout()\n",
    "        plt.show()"
   ]
  },
  {
   "cell_type": "code",
   "execution_count": null,
   "metadata": {},
   "outputs": [],
   "source": [
    "market_env"
   ]
  },
  {
   "cell_type": "code",
   "execution_count": null,
   "metadata": {},
   "outputs": [],
   "source": [
    "Vanilla_Call"
   ]
  },
  {
   "cell_type": "code",
   "execution_count": null,
   "metadata": {},
   "outputs": [],
   "source": [
    "option_plotter = Plotter(Vanilla_Call)"
   ]
  },
  {
   "cell_type": "code",
   "execution_count": null,
   "metadata": {},
   "outputs": [],
   "source": [
    "option_plotter.plot()"
   ]
  },
  {
   "cell_type": "code",
   "execution_count": null,
   "metadata": {},
   "outputs": [],
   "source": [
    "option_plotter.plot(method_name='PnL')"
   ]
  },
  {
   "cell_type": "code",
   "execution_count": null,
   "metadata": {
    "scrolled": false
   },
   "outputs": [],
   "source": [
    "option_plotter.plot(tau=[0.05, 0.1, 0.25, 0.5, 0.75, 1.0])"
   ]
  },
  {
   "cell_type": "code",
   "execution_count": null,
   "metadata": {
    "scrolled": false
   },
   "outputs": [],
   "source": [
    "option_plotter.plot(tau=[0.05, 0.1, 0.25, 0.5, 0.75, 1.0], method_name='PnL')"
   ]
  },
  {
   "cell_type": "code",
   "execution_count": null,
   "metadata": {},
   "outputs": [],
   "source": [
    "option_plotter.plot(tau=0.0)"
   ]
  },
  {
   "cell_type": "code",
   "execution_count": null,
   "metadata": {
    "scrolled": false
   },
   "outputs": [],
   "source": [
    "option_plotter.plot(tau=0.0, method_name='PnL')"
   ]
  },
  {
   "cell_type": "code",
   "execution_count": null,
   "metadata": {},
   "outputs": [],
   "source": [
    "CON_Call = DigitalOption(market_env)\n",
    "CON_Call"
   ]
  },
  {
   "cell_type": "code",
   "execution_count": null,
   "metadata": {},
   "outputs": [],
   "source": [
    "option_plotter = Plotter(CON_Call)"
   ]
  },
  {
   "cell_type": "code",
   "execution_count": null,
   "metadata": {},
   "outputs": [],
   "source": [
    "option_plotter.plot()"
   ]
  },
  {
   "cell_type": "code",
   "execution_count": null,
   "metadata": {},
   "outputs": [],
   "source": [
    "option_plotter.plot(method_name='PnL')"
   ]
  },
  {
   "cell_type": "code",
   "execution_count": null,
   "metadata": {
    "scrolled": false
   },
   "outputs": [],
   "source": [
    "option_plotter.plot(tau=[0.05, 0.1, 0.25, 0.5, 0.75, 1.0])"
   ]
  },
  {
   "cell_type": "code",
   "execution_count": null,
   "metadata": {},
   "outputs": [],
   "source": [
    "option_plotter.plot(tau=[0.05, 0.1, 0.25, 0.5, 0.7, 1.0], method_name='PnL')"
   ]
  },
  {
   "cell_type": "code",
   "execution_count": null,
   "metadata": {
    "scrolled": false
   },
   "outputs": [],
   "source": [
    "option_plotter.plot(tau=0.0)"
   ]
  },
  {
   "cell_type": "code",
   "execution_count": null,
   "metadata": {
    "scrolled": false
   },
   "outputs": [],
   "source": [
    "option_plotter.plot(tau=0.0, method_name='PnL')"
   ]
  },
  {
   "cell_type": "markdown",
   "metadata": {},
   "source": [
    "# Composition application: a `Portfolio()` class"
   ]
  },
  {
   "cell_type": "code",
   "execution_count": null,
   "metadata": {},
   "outputs": [],
   "source": [
    "class Portfolio:\n",
    "    \n",
    "    def __init__(self, name=\"\"):\n",
    "        \n",
    "        # initialize an empty portfolio\n",
    "        self.__composition = []\n",
    "        \n",
    "        # initialize empty info strings\n",
    "        self.__info = \"{} Portfolio: \\n\".format(name)\n",
    "        self.__mkt_info = None\n",
    "        \n",
    "        # initialize empty list of strikes, times-to-maturity and underlying value\n",
    "        self.__K = []\n",
    "        self.__tau = []\n",
    "        self.__S = None\n",
    "        \n",
    "    def __repr__(self):\n",
    "        return self.get_info()\n",
    "    \n",
    "    # getters\n",
    "    def get_info(self):\n",
    "        return self.__info\n",
    "    \n",
    "    def get_mkt_info(self):\n",
    "        return self.__mkt_info\n",
    "    \n",
    "    def get_K(self):\n",
    "        return self.__K\n",
    "    \n",
    "    def get_S(self):\n",
    "        return self.__S\n",
    "\n",
    "    def get_tau(self):\n",
    "        return self.__tau\n",
    "    \n",
    "    def get_composition(self):\n",
    "        return self.__composition\n",
    "    \n",
    "    # setters\n",
    "    def set_S(self, S):\n",
    "        self.__S = S\n",
    "    \n",
    "    # composition method\n",
    "    def add_instrument(self, FinancialInstrument, position):\n",
    "        \n",
    "        self.__composition.append({\"instrument\": FinancialInstrument,\n",
    "                                   \"position\":   position})\n",
    "        \n",
    "        # update portfolio attributes\n",
    "        self.__update_info(FinancialInstrument, position)\n",
    "        self.__update_K(FinancialInstrument)\n",
    "        self.__update_tau(FinancialInstrument)\n",
    "        if self.get_S() is None:\n",
    "            self.set_S(FinancialInstrument.get_S())\n",
    "    \n",
    "    # private method to update the info\n",
    "    def __update_info(self, fin_inst, pos):\n",
    "        self.__info += fin_inst.get_info() + \" (position: {})\".format(pos) + \"\\n\"\n",
    "        if self.__mkt_info is None:\n",
    "            self.__mkt_info = fin_inst.get_mkt_info()\n",
    "            \n",
    "    def __update_K(self, fin_inst):\n",
    "        self.__K.append(fin_inst.get_K())\n",
    "\n",
    "    def __update_tau(self, fin_inst):\n",
    "        self.__tau.append(fin_inst.get_tau())\n",
    "        \n",
    "    def __check_tau_consistency(self, tau):\n",
    "        if len(tau) != len(self.get_composition()):\n",
    "            raise NotImplementedError(\"len(tau) == {} != {} number of instruments in portfolio\".\\\n",
    "                                      format(len(tau), len(self.get_composition())))\n",
    "        \n",
    "    # portfolio \"payoff\", that is expiration value\n",
    "    def payoff(self, S):\n",
    "                \n",
    "        if self.get_composition(): \n",
    "\n",
    "            instruments_payoff = np.array([instrument[\"instrument\"].payoff(S) for instrument in self.get_composition()])\n",
    "            \n",
    "            positions = np.array([instrument[\"position\"] for instrument in self.get_composition()])\n",
    "            \n",
    "            return positions.dot(instruments_payoff)\n",
    "            \n",
    "        else: # if portfolio is empty returns 0\n",
    "            \n",
    "            return 0.0  \n",
    "        \n",
    "    # portfolio value calculation\n",
    "    def price(self, S, tau):\n",
    "        \n",
    "        if self.get_composition(): \n",
    "            \n",
    "            if isinstance(tau, Iterable): # one tau per instrument\n",
    "                self.__check_tau_consistency(tau)\n",
    "                instruments_price = np.array([instrument[\"instrument\"].price(S, tau) for tau, instrument in zip(tau, self.get_composition())])\n",
    "            else: # same tau each instrument\n",
    "                instruments_price = np.array([instrument[\"instrument\"].price(S, tau) for instrument in self.get_composition()])\n",
    "\n",
    "            positions = np.array([instrument[\"position\"] for instrument in self.get_composition()])\n",
    "            \n",
    "            return positions.dot(instruments_price)\n",
    "            \n",
    "        else: # if portfolio is empty returns 0\n",
    "            \n",
    "            return 0.0    \n",
    "        \n",
    "    # portfolio P&L calculation\n",
    "    def PnL(self, S, tau):\n",
    "                \n",
    "        if self.get_composition(): \n",
    "            \n",
    "            if isinstance(tau, Iterable): # one tau per instrument\n",
    "                self.__check_tau_consistency(tau)\n",
    "                instruments_PnL = np.array([instrument[\"instrument\"].PnL(S, tau) for tau, instrument in zip(tau, self.get_composition())])\n",
    "            else: # same tau each instrument\n",
    "                instruments_PnL = np.array([instrument[\"instrument\"].PnL(S, tau) for instrument in self.get_composition()])\n",
    "\n",
    "            positions = np.array([instrument[\"position\"] for instrument in self.get_composition()])\n",
    "            \n",
    "            return positions.dot(instruments_PnL)\n",
    "            \n",
    "        else: # if portfolio is empty returns 0\n",
    "            \n",
    "            return 0.0        "
   ]
  },
  {
   "cell_type": "code",
   "execution_count": null,
   "metadata": {},
   "outputs": [],
   "source": [
    "Vanilla_Call = PlainVanillaOption(market_env)\n",
    "Vanilla_Call"
   ]
  },
  {
   "cell_type": "code",
   "execution_count": null,
   "metadata": {},
   "outputs": [],
   "source": [
    "Vanilla_Put = PlainVanillaOption(market_env, option_type='put')\n",
    "Vanilla_Put"
   ]
  },
  {
   "cell_type": "code",
   "execution_count": null,
   "metadata": {},
   "outputs": [],
   "source": [
    "CON_Call = DigitalOption(market_env)\n",
    "CON_Call"
   ]
  },
  {
   "cell_type": "code",
   "execution_count": null,
   "metadata": {},
   "outputs": [],
   "source": [
    "CON_Put = DigitalOption(market_env, option_type='put')\n",
    "CON_Put"
   ]
  },
  {
   "cell_type": "code",
   "execution_count": null,
   "metadata": {},
   "outputs": [],
   "source": [
    "ptf = Portfolio()"
   ]
  },
  {
   "cell_type": "code",
   "execution_count": null,
   "metadata": {},
   "outputs": [],
   "source": [
    "ptf"
   ]
  },
  {
   "cell_type": "code",
   "execution_count": null,
   "metadata": {},
   "outputs": [],
   "source": [
    "ptf.add_instrument(Vanilla_Call, 1)"
   ]
  },
  {
   "cell_type": "code",
   "execution_count": null,
   "metadata": {},
   "outputs": [],
   "source": [
    "ptf"
   ]
  },
  {
   "cell_type": "code",
   "execution_count": null,
   "metadata": {},
   "outputs": [],
   "source": [
    "S = Vanilla_Call.get_S()\n",
    "tau = Vanilla_Call.get_tau()"
   ]
  },
  {
   "cell_type": "code",
   "execution_count": null,
   "metadata": {},
   "outputs": [],
   "source": [
    "ptf.price(S, tau)"
   ]
  },
  {
   "cell_type": "code",
   "execution_count": null,
   "metadata": {},
   "outputs": [],
   "source": [
    "Vanilla_Call.price()"
   ]
  },
  {
   "cell_type": "code",
   "execution_count": null,
   "metadata": {},
   "outputs": [],
   "source": [
    "ptf.add_instrument(Vanilla_Put, -5)"
   ]
  },
  {
   "cell_type": "code",
   "execution_count": null,
   "metadata": {},
   "outputs": [],
   "source": [
    "ptf"
   ]
  },
  {
   "cell_type": "code",
   "execution_count": null,
   "metadata": {},
   "outputs": [],
   "source": [
    "ptf.payoff(S)"
   ]
  },
  {
   "cell_type": "code",
   "execution_count": null,
   "metadata": {},
   "outputs": [],
   "source": [
    "1 * Vanilla_Call.payoff() - 5 * Vanilla_Put.payoff() "
   ]
  },
  {
   "cell_type": "code",
   "execution_count": null,
   "metadata": {},
   "outputs": [],
   "source": [
    "ptf.price(S, tau)"
   ]
  },
  {
   "cell_type": "code",
   "execution_count": null,
   "metadata": {},
   "outputs": [],
   "source": [
    "1 * Vanilla_Call.price() - 5 * Vanilla_Put.price() "
   ]
  },
  {
   "cell_type": "code",
   "execution_count": null,
   "metadata": {},
   "outputs": [],
   "source": [
    "ptf.PnL(S, tau)"
   ]
  },
  {
   "cell_type": "code",
   "execution_count": null,
   "metadata": {},
   "outputs": [],
   "source": [
    "S_high = 2*Vanilla_Call.get_S()"
   ]
  },
  {
   "cell_type": "code",
   "execution_count": null,
   "metadata": {},
   "outputs": [],
   "source": [
    "ptf.PnL(S = S_high, tau=tau)"
   ]
  },
  {
   "cell_type": "code",
   "execution_count": null,
   "metadata": {},
   "outputs": [],
   "source": [
    "1 * Vanilla_Call.PnL(S = S_high) - 5 * Vanilla_Put.PnL(S = S_high) "
   ]
  },
  {
   "cell_type": "code",
   "execution_count": null,
   "metadata": {},
   "outputs": [],
   "source": [
    "ptf.PnL(S = [S_high, S_high+1], tau=tau)"
   ]
  },
  {
   "cell_type": "code",
   "execution_count": null,
   "metadata": {},
   "outputs": [],
   "source": [
    "1 * Vanilla_Call.PnL(S = [S_high, S_high+1]) - 5 * Vanilla_Put.PnL(S = [S_high, S_high+1]) "
   ]
  },
  {
   "cell_type": "markdown",
   "metadata": {},
   "source": [
    "caso Calendar Spread"
   ]
  },
  {
   "cell_type": "code",
   "execution_count": null,
   "metadata": {},
   "outputs": [],
   "source": [
    "Vanilla_Call_short_term = PlainVanillaOption(market_env, K=100, T=\"31-05-2020\")\n",
    "Vanilla_Call_short_term"
   ]
  },
  {
   "cell_type": "code",
   "execution_count": null,
   "metadata": {},
   "outputs": [],
   "source": [
    "Vanilla_Call_long_term = PlainVanillaOption(market_env, K=100, T=\"31-10-2020\")\n",
    "Vanilla_Call_long_term"
   ]
  },
  {
   "cell_type": "code",
   "execution_count": null,
   "metadata": {},
   "outputs": [],
   "source": [
    "ptf_calendar_spread = Portfolio()\n",
    "ptf_calendar_spread.add_instrument(Vanilla_Call_short_term, -1)\n",
    "ptf_calendar_spread.add_instrument(Vanilla_Call_long_term, 1)\n",
    "ptf_calendar_spread"
   ]
  },
  {
   "cell_type": "code",
   "execution_count": null,
   "metadata": {},
   "outputs": [],
   "source": [
    "tau_short = Vanilla_Call_short_term.get_tau()\n",
    "tau_short"
   ]
  },
  {
   "cell_type": "code",
   "execution_count": null,
   "metadata": {},
   "outputs": [],
   "source": [
    "tau_long = Vanilla_Call_long_term.get_tau()\n",
    "tau_long"
   ]
  },
  {
   "cell_type": "code",
   "execution_count": null,
   "metadata": {},
   "outputs": [],
   "source": [
    "ptf_calendar_spread.PnL(S=S, tau=[0.0, tau_long-tau_short])"
   ]
  },
  {
   "cell_type": "code",
   "execution_count": null,
   "metadata": {},
   "outputs": [],
   "source": [
    "s = np.linspace(80, 120, 100)\n",
    "x = ptf_calendar_spread.PnL(S=s, tau=[0.0, tau_long-tau_short])"
   ]
  },
  {
   "cell_type": "code",
   "execution_count": null,
   "metadata": {},
   "outputs": [],
   "source": [
    "plt.plot(s, x, 'r-')"
   ]
  },
  {
   "cell_type": "code",
   "execution_count": null,
   "metadata": {},
   "outputs": [],
   "source": [
    "ptf_calendar_spread.get_K()"
   ]
  },
  {
   "cell_type": "code",
   "execution_count": null,
   "metadata": {},
   "outputs": [],
   "source": [
    "ptf_calendar_spread.get_tau()"
   ]
  },
  {
   "cell_type": "code",
   "execution_count": null,
   "metadata": {},
   "outputs": [],
   "source": [
    "ptf_calendar_spread.get_S()"
   ]
  },
  {
   "cell_type": "code",
   "execution_count": null,
   "metadata": {},
   "outputs": [],
   "source": []
  },
  {
   "cell_type": "code",
   "execution_count": null,
   "metadata": {},
   "outputs": [],
   "source": [
    "class Plotter:\n",
    "    \"\"\"\n",
    "    Interface Plotter class\n",
    "    \"\"\"\n",
    "    \n",
    "    def __init__(self, FinancialObject, *args, **kwargs):\n",
    "        \n",
    "        # parse informations from FinancialObject\n",
    "        self.fin_inst = FinancialObject\n",
    "        self.__title_label = self.fin_inst.get_info() + \"\\n\" + \"Market: \" + self.fin_inst.get_mkt_info()\n",
    "        \n",
    "        # define empty x-axis object \n",
    "        self.__x_axis = None\n",
    "\n",
    "    # getters\n",
    "    def get_x_axis(self):\n",
    "        raise NotImplementedError()\n",
    "    \n",
    "    # (differently specified according to the different kind of FinancialObject to plot)\n",
    "    def get_tau(self):\n",
    "        raise NotImplementedError() \n",
    "\n",
    "    def get_title(self):\n",
    "        return self.__title_label\n",
    "            \n",
    "    # setter template for the x-axis (differently specified according to the different kind of FinancialObject to plot)\n",
    "    def set_x_axis(self, x):\n",
    "        raise NotImplementedError()\n",
    "     \n",
    "    # template plot method\n",
    "    def plot(self):\n",
    "        raise NotImplementedError()\n",
    "\n",
    "class PortfolioPlotter(Plotter):\n",
    "    \"\"\"\n",
    "    Plotter class for Portfolio\n",
    "    \"\"\"\n",
    "    \n",
    "    def __init__(self, Portfolio, *args, **kwargs):\n",
    "        super(PortfolioPlotter, self).__init__(Portfolio)\n",
    " \n",
    "        # define x-axis \n",
    "        S_range = args[0] if len(args) > 0 else kwargs['S'] if 'S' in kwargs else None\n",
    "        self.set_x_axis(S_range)\n",
    "\n",
    "        # get times-to-maturity of each instrument in portfolio\n",
    "        tau = args[1] if len(args) > 1 else kwargs['tau'] if 'tau' in kwargs else self.fin_inst.get_tau()\n",
    "        self.set_tau(tau)\n",
    "        \n",
    "    # getters\n",
    "    def get_x_axis(self):\n",
    "        return self.__x_axis\n",
    "            \n",
    "    def get_tau(self):\n",
    "        return self.__tau\n",
    "        \n",
    "    # setters\n",
    "    def set_x_axis(self, x):\n",
    "        \n",
    "        if x is None:\n",
    "        \n",
    "            strikes = self.fin_inst.get_K()\n",
    "\n",
    "            x_min = max(min(strikes) - 20, 0.0)\n",
    "            x_max = max(strikes) + 20\n",
    "\n",
    "            self.__x_axis = np.linspace(x_min, x_max, 200)\n",
    "            \n",
    "        else:\n",
    "            if isinstance(x, Iterable):\n",
    "                self.__x_axis = x\n",
    "            else:\n",
    "                raise NotImplementedError(\"x-axis must be an Iterable\")\n",
    "                \n",
    "    def set_tau(self, tau):\n",
    "        if isinstance(tau, Iterable):\n",
    "            self.__tau = tau\n",
    "        else:\n",
    "            self.__tau = [tau]\n",
    "            \n",
    "    def plot(self, *args, method_name='price', **kwargs):\n",
    "        \n",
    "        # parse optional parameters\n",
    "        if len(args) > 0:\n",
    "            self.set_x_axis(args[0])\n",
    "        elif 'S' in kwargs:\n",
    "            self.set_x_axis(kwargs['S'])\n",
    "            \n",
    "        if len(args) > 1:\n",
    "            self.set_tau(args[1])\n",
    "        elif 'tau' in kwargs:\n",
    "            self.set_tau(kwargs['tau'])\n",
    "            \n",
    "        # get x-axis and, possibly, multi-tau\n",
    "        x_axis = self.get_x_axis()\n",
    "        tau = self.get_tau()\n",
    "        \n",
    "        self.__plot(x_axis, tau, method_name)\n",
    "\n",
    "    def __plot(self, S, tau, method_name):\n",
    "        \"\"\"\n",
    "        Plot Portfolio values against underlying value(s), possibly a different time-to-maturity for each instrument \n",
    "        in portfolio.\n",
    "        \"\"\"\n",
    "        \n",
    "        number_of_instruments = len(self.fin_inst.get_composition())\n",
    "        \n",
    "        plt.rcParams[\"axes.prop_cycle\"] = plt.cycler(\"color\", plt.cm.RdYlGn(np.linspace(0,1,number_of_instruments)))\n",
    "        \n",
    "        # define the figure\n",
    "        fig, ax = plt.subplots(figsize=(10,6))\n",
    "\n",
    "        # plot the price for different underlying values\n",
    "        ax.plot(S, getattr(self.fin_inst, method_name)(S, tau), 'b-', lw=1.5, label=method_name)\n",
    "\n",
    "        # blue dot at original underlying level for reference\n",
    "        S_t = self.fin_inst.get_S()\n",
    "        ax.plot(S_t, getattr(self.fin_inst, method_name)(S_t, tau), 'b.', ms=15, label=method_name + r\" at $S={:.1f}$\".format(S_t))\n",
    "            \n",
    "#        # plot the red payoff line for different underlying values\n",
    "#        if method_name == 'PnL':\n",
    "#            ax.plot(S, self.fin_inst.PnL(S, tau=0.0), 'r-',  lw=1.5, label=r\"Portfolio payoff (net of initial price)\")\n",
    "#        else:\n",
    "#            ax.plot(S, self.fin_inst.payoff(S), 'r-',  lw=1.5, label=r\"Portfolio payoff\")\n",
    "\n",
    "        # plot dashed red payoff lines for each instrument in the portfolio\n",
    "        for tau_inst, inst in zip(tau, self.fin_inst.get_composition()):\n",
    "            position = inst[\"position\"]\n",
    "            position_label = \"+\" if position > 0 else \"\"\n",
    "\n",
    "            # plot the red payoff line for different underlying values\n",
    "            if method_name == 'PnL':\n",
    "                ax.plot(S, position * inst[\"instrument\"].PnL(S, tau_inst), '--',  lw=1.5, \n",
    "                        label=method_name + \" of \" + position_label + str(position) + \" \" + inst[\"instrument\"].get_info() + \n",
    "                              r\" closed at $\\tau={:.2f}y$\".format(tau_inst))\n",
    "            else:\n",
    "                ax.plot(S, position * inst[\"instrument\"].price(S, tau_inst), '--',  lw=1.5, \n",
    "                        label=method_name + \" of \" + position_label + str(position) + \" \" + inst[\"instrument\"].get_info() +\n",
    "                              r\" closed at $\\tau={:.2f}y$\".format(tau_inst))\n",
    "            \n",
    "        \n",
    "        # plot a dot to highlight the strike position and a reference zero line\n",
    "        strikes = self.fin_inst.get_K()\n",
    "        ax.plot(strikes, np.zeros_like(strikes), 'k.', ms=15, label=\"Strikes $K$\")\n",
    "        ax.plot(S, np.zeros_like(S), 'k--', lw=1.5)\n",
    "        \n",
    "        # set axis labels \n",
    "        ax.set_xlabel(r\"Underlying Value\", fontsize=12)\n",
    "        ax.set_ylabel('Black-Scholes {}'.format(method_name), fontsize=12) \n",
    "\n",
    "        # set title\n",
    "        ax.set_title(self.get_title(), fontsize=12) \n",
    "\n",
    "        # add the legend ('best' loc parameters places the legend in the best position automatically)\n",
    "        ax.legend(loc='best', ncol=1)\n",
    "\n",
    "        # add a gride to ease visualization\n",
    "        plt.grid(True)\n",
    "\n",
    "        # show the plot\n",
    "        fig.tight_layout()\n",
    "        plt.show()\n",
    "        \n",
    "class OptionPlotter(Plotter):\n",
    "    \"\"\"\n",
    "    Plotter class for single options\n",
    "    \"\"\"\n",
    "    \n",
    "    def __init__(self, FinancialInstrument, *args, **kwargs):\n",
    "        super(OptionPlotter, self).__init__(FinancialInstrument)\n",
    "\n",
    "        # define x-axis \n",
    "        S_range = args[0] if len(args) > 0 else kwargs['S'] if 'S' in kwargs else self.fin_inst.get_K()\n",
    "        self.set_x_axis(S_range)\n",
    "\n",
    "        # define multi-lines (different tau)\n",
    "        multi_tau = args[1] if len(args) > 1 else kwargs['tau'] if 'tau' in kwargs else self.fin_inst.get_tau()\n",
    "        self.set_multi_tau(multi_tau)\n",
    "        \n",
    "    # getters\n",
    "    def get_x_axis(self):\n",
    "        return self.__x_axis\n",
    "\n",
    "    def get_tau(self):\n",
    "        return self.__multi_tau\n",
    "    \n",
    "    # setters\n",
    "    def set_x_axis(self, x):\n",
    "        \n",
    "        if isinstance(x, Iterable):\n",
    "            self.__x_axis = x\n",
    "        else:\n",
    "            x_min = max(x-20, 0.0)\n",
    "            x_max = x+20\n",
    "            \n",
    "            self.__x_axis = np.linspace(x_min, x_max, 100)\n",
    "    \n",
    "    def set_multi_tau(self, tau):\n",
    "        if isinstance(tau, Iterable) and len(tau) > 1:\n",
    "            # sort and take the reversed array\n",
    "            self.__multi_tau = np.sort(tau)[::-1]\n",
    "        elif isinstance(tau, Iterable) and len(tau) == 1:\n",
    "            self.__multi_tau = tau[0]\n",
    "        else:\n",
    "            self.__multi_tau = tau\n",
    "                    \n",
    "    def plot(self, *args, method_name='price', **kwargs):\n",
    "        \n",
    "        # parse optional parameters\n",
    "        if len(args) > 0:\n",
    "            self.set_x_axis(args[0])\n",
    "        elif 'S' in kwargs:\n",
    "            self.set_x_axis(kwargs['S'])\n",
    "            \n",
    "        if len(args) > 1:\n",
    "            self.set_multi_tau(args[1])\n",
    "        elif 'tau' in kwargs:\n",
    "            self.set_multi_tau(kwargs['tau'])\n",
    "            \n",
    "        # get x-axis and, possibly, multi-tau\n",
    "        x_axis = self.get_x_axis()\n",
    "        tau = self.get_tau()\n",
    "        \n",
    "        if isinstance(tau, Iterable):\n",
    "            self.__plot_multi_tau(x_axis, tau, method_name)\n",
    "        else:\n",
    "            plot_limits = args[2] if len(args) > 2 else kwargs['plot_limits'] if 'plot_limits' in kwargs else False\n",
    "            self.__plot_single_tau(x_axis, tau, plot_limits, method_name)\n",
    "            \n",
    "    def __plot_multi_tau(self, S, multi_tau, method_name):\n",
    "        \"\"\"\n",
    "        Plot FinancialInstrument values against underlying value(s), possibly at multiple times-to-maturity.\n",
    "        \"\"\"\n",
    "        \n",
    "        plt.rcParams[\"axes.prop_cycle\"] = plt.cycler(\"color\", plt.cm.Blues(np.linspace(0,1,len(multi_tau))))\n",
    "\n",
    "        # define the figure\n",
    "        fig, ax = plt.subplots(figsize=(10,6))\n",
    "\n",
    "        # plot the price for different underlying values, one line for each different time to maturity tau\n",
    "        for tau in multi_tau:\n",
    "\n",
    "            ax.plot(S, getattr(self.fin_inst, method_name)(S, tau), '-', lw=1.5, label=r\"$\\tau={:.2f}y$\".format(tau))\n",
    "\n",
    "        # blue dot at original underlying level for reference, one dot for each different time to maturity tau\n",
    "        for tau in multi_tau:\n",
    "            S_t = self.fin_inst.get_S()\n",
    "            ax.plot(S_t, getattr(self.fin_inst, method_name)(S_t, tau), '.', ms=10, \n",
    "                    label=r\"$\\tau={:.2f}y$ at $S={:.1f}$\".format(tau, S_t))\n",
    "            \n",
    "        # plot the red payoff line for different underlying values\n",
    "        if method_name == 'PnL':\n",
    "            ax.plot(S, self.fin_inst.PnL(S, tau=0.0), 'r-',  lw=1.5, label=self.fin_inst.get_docstring('payoff') + r\" (net of initial price)\")\n",
    "        else:\n",
    "            ax.plot(S, self.fin_inst.payoff(S), 'r-',  lw=1.5, label=self.fin_inst.get_docstring('payoff'))\n",
    "\n",
    "        # plot a dot to highlight the strike position and a reference zero line\n",
    "        ax.plot(self.fin_inst.get_K(), 0, 'k.', ms=15, label=\"Strike $K$\")\n",
    "        ax.plot(S, np.zeros_like(S), 'k--', lw=1.5)\n",
    "        \n",
    "        # set axis labels \n",
    "        ax.set_xlabel(r\"Underlying Value at different times-to-maturity $\\tau$\", fontsize=12)\n",
    "        ax.set_ylabel('Black-Scholes {}'.format(method_name), fontsize=12) \n",
    "\n",
    "        # set title\n",
    "        ax.set_title(self.get_title(), fontsize=12) \n",
    "\n",
    "        # add the legend ('best' loc parameters places the legend in the best position automatically)\n",
    "        ax.legend(loc='best', ncol=2)\n",
    "\n",
    "        # add a gride to ease visualization\n",
    "        plt.grid(True)\n",
    "\n",
    "        # show the plot\n",
    "        fig.tight_layout()\n",
    "        plt.show()\n",
    "    \n",
    "    def __plot_single_tau(self, S, tau, plot_limits, method_name):\n",
    "        \"\"\"\n",
    "        Plot FinancialInstrument values against underlying value(s) at fixed time-to-maturity. Possibly, it plots theoretical\n",
    "        upper and lower bounds of the price.\n",
    "        \"\"\"\n",
    "\n",
    "        # define the figure\n",
    "        fig, ax = plt.subplots(figsize=(10,6))\n",
    "        \n",
    "        # plot the price for different underlying values\n",
    "        if tau > 0:\n",
    "            ax.plot(S, getattr(self.fin_inst, method_name)(S, tau), 'b-', lw=1.5, label=method_name)\n",
    "        \n",
    "        # blue dot at original underlying level for reference\n",
    "        S_t = self.fin_inst.get_S()\n",
    "        ax.plot(S_t, getattr(self.fin_inst, method_name)(S_t, tau), 'b.', ms=15, \n",
    "                label=method_name + r\" at $S={:.1f}$\".format(S_t))\n",
    "        \n",
    "        if plot_limits==True:\n",
    "            # plot the upper limit, the price and the lower limit for different underlying values\n",
    "            ax.plot(S, self.fin_inst.price_upper_limit(S, tau), 'k-.', lw=1.5, label=self.fin_inst.get_docstring('price_upper_limit'))\n",
    "            ax.plot(S, self.fin_inst.price_lower_limit(S, tau), 'k--', lw=1.5, label=self.fin_inst.get_docstring('price_lower_limit'))\n",
    "\n",
    "        # plot the red payoff line for different underlying values\n",
    "        if method_name == 'PnL':\n",
    "            ax.plot(S, self.fin_inst.PnL(S, tau=0.0), 'r-',  lw=1.5, label=self.fin_inst.get_docstring('payoff') + r\" (net of initial price)\")\n",
    "        else:\n",
    "            ax.plot(S, self.fin_inst.payoff(S), 'r-',  lw=1.5, label=self.fin_inst.get_docstring('payoff'))\n",
    "\n",
    "        # plot a dot to highlight the strike position and a reference zero line\n",
    "        ax.plot(self.fin_inst.get_K(), 0, 'k.', ms=15, label=\"Strike $K$\")\n",
    "        ax.plot(S, np.zeros_like(S), 'k--', lw=1.5)\n",
    "\n",
    "        # set axis labels \n",
    "        ax.set_xlabel(r\"Underlying Value at time-to-maturity $\\tau={:.2f}y$\".format(tau), fontsize=12) \n",
    "        ax.set_ylabel('Black-Scholes {}'.format(method_name), fontsize=12) \n",
    "\n",
    "        # set title\n",
    "        ax.set_title(self.get_title(), fontsize=12) \n",
    "\n",
    "        # add the legend ('best' loc parameters places the legend in the best position automatically)\n",
    "        ax.legend(loc='best', ncol=1)\n",
    "\n",
    "        # add a gride to ease visualization\n",
    "        plt.grid(True)\n",
    "\n",
    "        # show the plot\n",
    "        fig.tight_layout()\n",
    "        plt.show()"
   ]
  },
  {
   "cell_type": "code",
   "execution_count": null,
   "metadata": {},
   "outputs": [],
   "source": [
    "market_env"
   ]
  },
  {
   "cell_type": "code",
   "execution_count": null,
   "metadata": {},
   "outputs": [],
   "source": [
    "Vanilla_Call_short_term = PlainVanillaOption(market_env, K=91, T=\"31-05-2020\")\n",
    "Vanilla_Call_short_term"
   ]
  },
  {
   "cell_type": "code",
   "execution_count": null,
   "metadata": {},
   "outputs": [],
   "source": [
    "opt_short_plt = OptionPlotter(Vanilla_Call_short_term)"
   ]
  },
  {
   "cell_type": "code",
   "execution_count": null,
   "metadata": {
    "scrolled": false
   },
   "outputs": [],
   "source": [
    "opt_short_plt.plot()"
   ]
  },
  {
   "cell_type": "code",
   "execution_count": null,
   "metadata": {
    "scrolled": false
   },
   "outputs": [],
   "source": [
    "Vanilla_Call_long_term = PlainVanillaOption(market_env, K=91, T=\"30-06-2020\")\n",
    "Vanilla_Call_long_term"
   ]
  },
  {
   "cell_type": "code",
   "execution_count": null,
   "metadata": {},
   "outputs": [],
   "source": [
    "opt_long_plt = OptionPlotter(Vanilla_Call_long_term)"
   ]
  },
  {
   "cell_type": "code",
   "execution_count": null,
   "metadata": {
    "scrolled": false
   },
   "outputs": [],
   "source": [
    "opt_long_plt.plot()"
   ]
  },
  {
   "cell_type": "code",
   "execution_count": null,
   "metadata": {},
   "outputs": [],
   "source": [
    "ptf = Portfolio(name=\"Calendar Spread\")"
   ]
  },
  {
   "cell_type": "code",
   "execution_count": null,
   "metadata": {},
   "outputs": [],
   "source": [
    "ptf.add_instrument(Vanilla_Call_short_term, -1)\n",
    "ptf.add_instrument(Vanilla_Call_long_term, 1)\n",
    "ptf"
   ]
  },
  {
   "cell_type": "code",
   "execution_count": null,
   "metadata": {},
   "outputs": [],
   "source": [
    "ptf_plt = PortfolioPlotter(ptf)"
   ]
  },
  {
   "cell_type": "code",
   "execution_count": null,
   "metadata": {
    "scrolled": false
   },
   "outputs": [],
   "source": [
    "ptf_plt.plot()"
   ]
  },
  {
   "cell_type": "code",
   "execution_count": null,
   "metadata": {},
   "outputs": [],
   "source": [
    "ptf_plt.plot(method_name='PnL')"
   ]
  },
  {
   "cell_type": "code",
   "execution_count": null,
   "metadata": {},
   "outputs": [],
   "source": [
    "tau_short = Vanilla_Call_short_term.get_tau()\n",
    "tau_short"
   ]
  },
  {
   "cell_type": "code",
   "execution_count": null,
   "metadata": {},
   "outputs": [],
   "source": [
    "tau_long = Vanilla_Call_long_term.get_tau()\n",
    "tau_long"
   ]
  },
  {
   "cell_type": "code",
   "execution_count": null,
   "metadata": {
    "scrolled": false
   },
   "outputs": [],
   "source": [
    "ptf_plt.plot(tau=[0.0, tau_long-tau_short], method_name='PnL')"
   ]
  },
  {
   "cell_type": "code",
   "execution_count": null,
   "metadata": {},
   "outputs": [],
   "source": [
    "ptf.PnL(S=400, tau=[0.0, tau_long-tau_short])"
   ]
  },
  {
   "cell_type": "code",
   "execution_count": null,
   "metadata": {},
   "outputs": [],
   "source": []
  },
  {
   "cell_type": "code",
   "execution_count": null,
   "metadata": {},
   "outputs": [],
   "source": []
  },
  {
   "cell_type": "code",
   "execution_count": null,
   "metadata": {},
   "outputs": [],
   "source": []
  },
  {
   "cell_type": "code",
   "execution_count": null,
   "metadata": {},
   "outputs": [],
   "source": []
  },
  {
   "cell_type": "code",
   "execution_count": null,
   "metadata": {},
   "outputs": [],
   "source": []
  },
  {
   "cell_type": "code",
   "execution_count": null,
   "metadata": {},
   "outputs": [],
   "source": []
  }
 ],
 "metadata": {
  "kernelspec": {
   "display_name": "Python 3",
   "language": "python",
   "name": "python3"
  },
  "language_info": {
   "codemirror_mode": {
    "name": "ipython",
    "version": 3
   },
   "file_extension": ".py",
   "mimetype": "text/x-python",
   "name": "python",
   "nbconvert_exporter": "python",
   "pygments_lexer": "ipython3",
   "version": "3.7.4"
  }
 },
 "nbformat": 4,
 "nbformat_minor": 2
}
