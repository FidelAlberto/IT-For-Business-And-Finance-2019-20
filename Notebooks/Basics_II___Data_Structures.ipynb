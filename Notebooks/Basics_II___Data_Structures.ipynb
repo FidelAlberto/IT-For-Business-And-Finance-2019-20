{
 "cells": [
  {
   "cell_type": "markdown",
   "metadata": {},
   "source": [
    "# Basics II - Data Structures"
   ]
  },
  {
   "cell_type": "markdown",
   "metadata": {},
   "source": [
    "# Table of contents\n",
    "\n",
    "[Executive Summary](#summary)\n",
    "1. [Tuples](#tuple)\n",
    "2. [Lists](#list)\\\n",
    "    2.1 [for loop](#for)\n",
    "3. [Dicts](#dict)\n",
    "4. [Sets](#set)"
   ]
  },
  {
   "cell_type": "markdown",
   "metadata": {},
   "source": [
    "### **Resources**: \n",
    "\n",
    "- [_Python for Finance (2nd ed.)_](http://shop.oreilly.com/product/0636920117728.do): Sec. 3.Basic Data Structures (Section 3.Excursus: Functional Programming is optional)\n",
    "- [_The Python Tutorial_](https://docs.python.org/3.7/tutorial/): Sec. 3.1.3 (Lists), 4.2 (for Statements), 4.3 (The range() Function), 4.4 (break and continue Statemenents, and else Clauses on Loops), 5.1 (More on Lists), 5.3 (Tuples and Sequences), 5.4 (Sets), 5.5 (Dictionaries)"
   ]
  },
  {
   "cell_type": "markdown",
   "metadata": {},
   "source": [
    "# Executive Summary <a name=\"summary\"></a>"
   ]
  },
  {
   "cell_type": "markdown",
   "metadata": {},
   "source": [
    "Intuitively, a _data structure_ is an object containing other objects, not necessarily of the same _data type_."
   ]
  },
  {
   "cell_type": "markdown",
   "metadata": {},
   "source": [
    "Standard Python provides four basic data structures, which can be differentiated at high level by being:\n",
    "- _ordered_ or _not ordered:_ that is, whether they preserve the order in which entries are added or not;\n",
    "- _mutable_ or _immutable:_ that is, whether - once defined - they can be modified or not."
   ]
  },
  {
   "cell_type": "markdown",
   "metadata": {},
   "source": [
    "These data-strucutures are:\n",
    "\n",
    "data-structure | ordered (or not) | mutable (or not)\n",
    "--- | --- | ---\n",
    "Tuples  | ordered | immutable |\n",
    "Lists | ordered | mutable |\n",
    "Dicts | not ordered | mutable |\n",
    "Sets | not ordered | mutable |"
   ]
  },
  {
   "cell_type": "markdown",
   "metadata": {},
   "source": [
    "The function `type()` can be called over any defined data-structure and returns its type: `tuple` for Tuples, `list` for Lists, `dict` for Dicts and `set` for Sets."
   ]
  },
  {
   "cell_type": "markdown",
   "metadata": {},
   "source": [
    "The following sections are organized as follows: \n",
    "- In Sec. [1](#tuple) Tuples (`tuple`) are introduced as the Python data-structure for _ordered_ sequence-like objects that _cannot be_ modified once defined. \n",
    "- In Sec. [2](#list) Lists (`list`) are introduced as the Python data-structure for _ordered_ sequence-like objects that _can be_ modified once defined. In this context `for` loops are introduced in Sec. [2.1](#for).\n",
    "- In Sec. [3](#dict) Dicts (`dict`) are introduced as the Python data-structure for _not ordered_ collection-like objects that _can be_ modified once defined and that implement a _key-to-value_ map.\n",
    "- In Sec. [4](#set) Sets (`set`) are introduced as the Python data-structure for _not ordered_ collection-like objects that _can be_ modified once defined and that contain unique elements (that is, every elements appears only once). "
   ]
  },
  {
   "cell_type": "markdown",
   "metadata": {},
   "source": [
    "# 1. Tuples <a name=\"tuple\"></a>"
   ]
  },
  {
   "cell_type": "markdown",
   "metadata": {},
   "source": [
    "# 2. Lists <a name=\"list\"></a>"
   ]
  },
  {
   "cell_type": "markdown",
   "metadata": {},
   "source": [
    "## 2.1. For loop <a name=\"for\"></a>"
   ]
  },
  {
   "cell_type": "markdown",
   "metadata": {},
   "source": [
    "# 3. Dicts <a name=\"dict\"></a>"
   ]
  },
  {
   "cell_type": "markdown",
   "metadata": {},
   "source": [
    "# 4. Sets <a name=\"set\"></a>"
   ]
  }
 ],
 "metadata": {
  "kernelspec": {
   "display_name": "Python 3",
   "language": "python",
   "name": "python3"
  },
  "language_info": {
   "codemirror_mode": {
    "name": "ipython",
    "version": 3
   },
   "file_extension": ".py",
   "mimetype": "text/x-python",
   "name": "python",
   "nbconvert_exporter": "python",
   "pygments_lexer": "ipython3",
   "version": "3.7.4"
  }
 },
 "nbformat": 4,
 "nbformat_minor": 2
}
