{
 "cells": [
  {
   "cell_type": "markdown",
   "metadata": {},
   "source": [
    "# Basics II - Data Structures"
   ]
  },
  {
   "cell_type": "markdown",
   "metadata": {},
   "source": [
    "# Table of contents\n",
    "\n",
    "[Executive Summary](#summary)\n",
    "1. [Tuples](#tuple)\\\n",
    "    1.1. [How to modify a Tuple](#modify_tuple)\\\n",
    "    1.2. [Nested Tuples](#nested_tuple)\n",
    "2. [Lists](#list)\\\n",
    "    2.1. [Nested Lists](#nested_list)\\\n",
    "    2.1. [for loop](#for)\n",
    "3. [Dicts](#dict)\n",
    "4. [Sets](#set)"
   ]
  },
  {
   "cell_type": "markdown",
   "metadata": {},
   "source": [
    "### **Resources**: \n",
    "\n",
    "- [_Python for Finance (2nd ed.)_](http://shop.oreilly.com/product/0636920117728.do): Sec. 3.Basic Data Structures (Section 3.Excursus: Functional Programming is optional)\n",
    "- [_The Python Tutorial_](https://docs.python.org/3.7/tutorial/): Sec. 3.1.3 (Lists), 4.2 (for Statements), 4.3 (The range() Function), 4.4 (break and continue Statemenents, and else Clauses on Loops), 5.1 (More on Lists), 5.3 (Tuples and Sequences), 5.4 (Sets), 5.5 (Dictionaries)"
   ]
  },
  {
   "cell_type": "markdown",
   "metadata": {},
   "source": [
    "# Executive Summary <a name=\"summary\"></a>"
   ]
  },
  {
   "cell_type": "markdown",
   "metadata": {},
   "source": [
    "Intuitively, a _data structure_ is an object containing other objects, not necessarily of the same _data type_."
   ]
  },
  {
   "cell_type": "markdown",
   "metadata": {},
   "source": [
    "Standard Python provides four basic data structures, which can be differentiated at high level by being:\n",
    "- _ordered_ or _not ordered:_ that is, whether they preserve the order in which entries are added or not;\n",
    "- _mutable_ or _immutable:_ that is, whether - once defined - they can be modified or not."
   ]
  },
  {
   "cell_type": "markdown",
   "metadata": {},
   "source": [
    "These data-strucutures are:\n",
    "\n",
    "data-structure | ordered (or not) | mutable (or not)\n",
    "--- | --- | ---\n",
    "Tuples  | ordered | immutable |\n",
    "Lists | ordered | mutable |\n",
    "Dicts | not ordered | mutable |\n",
    "Sets | not ordered | mutable |"
   ]
  },
  {
   "cell_type": "markdown",
   "metadata": {},
   "source": [
    "The function `type()` can be called over any defined data-structure and returns its type: `tuple` for Tuples, `list` for Lists, `dict` for Dicts and `set` for Sets."
   ]
  },
  {
   "cell_type": "markdown",
   "metadata": {},
   "source": [
    "The following sections are organized as follows: \n",
    "- In Sec. [1](#tuple) Tuples (`tuple`) are introduced as the Python data-structure for _ordered_ sequence-like objects that _cannot be_ modified once defined. \n",
    "- In Sec. [2](#list) Lists (`list`) are introduced as the Python data-structure for _ordered_ sequence-like objects that _can be_ modified once defined. In this context `for` loops are introduced in Sec. [2.1](#for).\n",
    "- In Sec. [3](#dict) Dicts (`dict`) are introduced as the Python data-structure for _not ordered_ collection-like objects that _can be_ modified once defined and that implement a _key-to-value_ map.\n",
    "- In Sec. [4](#set) Sets (`set`) are introduced as the Python data-structure for _not ordered_ collection-like objects that _can be_ modified once defined and that contain unique elements (that is, every elements appears only once). "
   ]
  },
  {
   "cell_type": "markdown",
   "metadata": {},
   "source": [
    "# 1. Tuples <a name=\"tuple\"></a>"
   ]
  },
  {
   "cell_type": "markdown",
   "metadata": {},
   "source": [
    "[Tuples](https://docs.python.org/3.7/tutorial/datastructures.html#tuples-and-sequences) consists of a number of values - in general, of heterogeneous data-type - packed together in an immutable sequence and separated by commas. "
   ]
  },
  {
   "cell_type": "markdown",
   "metadata": {},
   "source": [
    "In my experience, I didn't use tuple that often, probably because their _immutability_ goes against the dynamism of trail-n-error phases of a typical quantitative analysis. In fact, for the same reason, tuple may be good assets as they guarantee the preservation of data stored in them."
   ]
  },
  {
   "cell_type": "markdown",
   "metadata": {},
   "source": [
    "Tuples can be defined with or without parenthesis `()` surrounding the `,`-separated sequence."
   ]
  },
  {
   "cell_type": "code",
   "execution_count": 1,
   "metadata": {},
   "outputs": [
    {
     "name": "stdout",
     "output_type": "stream",
     "text": [
      "(1, 0.35, 'GBP')\n"
     ]
    },
    {
     "data": {
      "text/plain": [
       "tuple"
      ]
     },
     "execution_count": 1,
     "metadata": {},
     "output_type": "execute_result"
    }
   ],
   "source": [
    "tup = (1, 0.35, \"GBP\")\n",
    "\n",
    "print(tup)\n",
    "type(tup)"
   ]
  },
  {
   "cell_type": "code",
   "execution_count": 2,
   "metadata": {},
   "outputs": [
    {
     "name": "stdout",
     "output_type": "stream",
     "text": [
      "(1, 0.35, 'GBP')\n"
     ]
    },
    {
     "data": {
      "text/plain": [
       "tuple"
      ]
     },
     "execution_count": 2,
     "metadata": {},
     "output_type": "execute_result"
    }
   ],
   "source": [
    "tup = 1, 0.35, \"GBP\"\n",
    "\n",
    "print(tup)\n",
    "type(tup)"
   ]
  },
  {
   "cell_type": "markdown",
   "metadata": {},
   "source": [
    "The number of elements is easily retrieved by the `len()` function:"
   ]
  },
  {
   "cell_type": "code",
   "execution_count": 64,
   "metadata": {},
   "outputs": [
    {
     "data": {
      "text/plain": [
       "3"
      ]
     },
     "execution_count": 64,
     "metadata": {},
     "output_type": "execute_result"
    }
   ],
   "source": [
    "len(tup)"
   ]
  },
  {
   "cell_type": "markdown",
   "metadata": {},
   "source": [
    "Tuples share a lot of properties with other sequence-like data-structure. For details take a look at [Sequence Types — list, tuple, range](https://docs.python.org/3.7/library/stdtypes.html#sequence-types-list-tuple-range) page of the Python standard library."
   ]
  },
  {
   "cell_type": "markdown",
   "metadata": {},
   "source": [
    "Tuples share indexing features with strings (see [Basics_I___Data_Types.ipynb](https://github.com/gabrielepompa88/IT-For-Business-And-Finance-2019-20/blob/master/Notebooks/Basics_I___Data_Types.ipynb)) and lists (see Sec. [2](#list)).\n",
    "In particular, elements of a tuple can be accessed by _zero-based_ indexes:"
   ]
  },
  {
   "cell_type": "code",
   "execution_count": 3,
   "metadata": {},
   "outputs": [
    {
     "name": "stdout",
     "output_type": "stream",
     "text": [
      "1\n"
     ]
    },
    {
     "data": {
      "text/plain": [
       "int"
      ]
     },
     "execution_count": 3,
     "metadata": {},
     "output_type": "execute_result"
    }
   ],
   "source": [
    "# 0 is the index of the first element of the tuple\n",
    "print(tup[0])\n",
    "type(tup[0])"
   ]
  },
  {
   "cell_type": "code",
   "execution_count": 4,
   "metadata": {},
   "outputs": [
    {
     "name": "stdout",
     "output_type": "stream",
     "text": [
      "GBP\n"
     ]
    },
    {
     "data": {
      "text/plain": [
       "str"
      ]
     },
     "execution_count": 4,
     "metadata": {},
     "output_type": "execute_result"
    }
   ],
   "source": [
    "# -1 is the index of the last element of the tuple\n",
    "print(tup[-1])\n",
    "type(tup[-1])"
   ]
  },
  {
   "cell_type": "markdown",
   "metadata": {},
   "source": [
    "and tuples can be sliced. That is, you can select only few elements of the tuple."
   ]
  },
  {
   "cell_type": "code",
   "execution_count": 5,
   "metadata": {},
   "outputs": [
    {
     "name": "stdout",
     "output_type": "stream",
     "text": [
      "(1, 0.35)\n"
     ]
    },
    {
     "data": {
      "text/plain": [
       "tuple"
      ]
     },
     "execution_count": 5,
     "metadata": {},
     "output_type": "execute_result"
    }
   ],
   "source": [
    "tup_slice = tup[0:2] # elements from position 0 (included) to 2 (excluded)\n",
    "\n",
    "print(tup_slice)\n",
    "type(tup_slice)"
   ]
  },
  {
   "cell_type": "code",
   "execution_count": 6,
   "metadata": {},
   "outputs": [
    {
     "data": {
      "text/plain": [
       "('GBP',)"
      ]
     },
     "execution_count": 6,
     "metadata": {},
     "output_type": "execute_result"
    }
   ],
   "source": [
    "tup[2:5] # elements from position 2 (included) to 5 (excluded)"
   ]
  },
  {
   "cell_type": "code",
   "execution_count": 7,
   "metadata": {},
   "outputs": [
    {
     "data": {
      "text/plain": [
       "(1, 0.35)"
      ]
     },
     "execution_count": 7,
     "metadata": {},
     "output_type": "execute_result"
    }
   ],
   "source": [
    "tup[:2]   # elements from the beginning to position 2 (excluded) --- equivalent to s[0:2]"
   ]
  },
  {
   "cell_type": "code",
   "execution_count": 8,
   "metadata": {},
   "outputs": [
    {
     "data": {
      "text/plain": [
       "(0.35, 'GBP')"
      ]
     },
     "execution_count": 8,
     "metadata": {},
     "output_type": "execute_result"
    }
   ],
   "source": [
    "tup[-2:]  # elements from the second-last (included) to the end"
   ]
  },
  {
   "cell_type": "markdown",
   "metadata": {},
   "source": [
    "Analogously to strings - but differently from lists - tuples are _immutable_ objects.  That is, if you try to change one of its elements, you get\n",
    "```python\n",
    "TypeError: 'tuple' object does not support item assignment\n",
    "```"
   ]
  },
  {
   "cell_type": "code",
   "execution_count": 9,
   "metadata": {},
   "outputs": [],
   "source": [
    "# tup[0] = 17"
   ]
  },
  {
   "cell_type": "markdown",
   "metadata": {},
   "source": [
    "In particular, you cannot simply use the `+` operator as you would do with a string to concatenate characters. That is, something like\n",
    "\n",
    "```python\n",
    "17 + tup[1:]\n",
    "```\n",
    "would cause the following error\n",
    "\n",
    "```python\n",
    "TypeError: unsupported operand type(s) for +: 'int' and 'tuple'\n",
    "```\n",
    "\n",
    "that simply tells you that you cannot _add_ `int` objects (like `17`) with `tuple` objects (like the slice `tup[1:]`)."
   ]
  },
  {
   "cell_type": "code",
   "execution_count": 10,
   "metadata": {},
   "outputs": [],
   "source": [
    "# 17 + tup[1:]"
   ]
  },
  {
   "cell_type": "markdown",
   "metadata": {},
   "source": [
    "Nevertheless, there is a workaround... read below once you know about `list` data-structures."
   ]
  },
  {
   "cell_type": "markdown",
   "metadata": {},
   "source": [
    "## 1.1. How to modify a Tuple <a name=\"modify_tuple\"></a>\n",
    "**Read this section once you have covered Sec. [2](#list) on Lists**"
   ]
  },
  {
   "cell_type": "markdown",
   "metadata": {},
   "source": [
    "Even if you cannot change directly an element of a tuple, you can: \n",
    "- use the `list()` _casting_ function to cast the tuple as a list\n",
    "- modify the list\n",
    "- re-cast it back as tuple using the casting function `tuple()`"
   ]
  },
  {
   "cell_type": "code",
   "execution_count": 11,
   "metadata": {},
   "outputs": [
    {
     "name": "stdout",
     "output_type": "stream",
     "text": [
      "[1, 0.35, 'GBP']\n"
     ]
    },
    {
     "data": {
      "text/plain": [
       "list"
      ]
     },
     "execution_count": 11,
     "metadata": {},
     "output_type": "execute_result"
    }
   ],
   "source": [
    "list_tup = list(tup) # cast tup as a list\n",
    "\n",
    "print(list_tup)\n",
    "type(list_tup)"
   ]
  },
  {
   "cell_type": "code",
   "execution_count": 12,
   "metadata": {},
   "outputs": [],
   "source": [
    "list_tup[0] = 17 # change the element"
   ]
  },
  {
   "cell_type": "code",
   "execution_count": 13,
   "metadata": {},
   "outputs": [
    {
     "name": "stdout",
     "output_type": "stream",
     "text": [
      "(17, 0.35, 'GBP')\n"
     ]
    },
    {
     "data": {
      "text/plain": [
       "tuple"
      ]
     },
     "execution_count": 13,
     "metadata": {},
     "output_type": "execute_result"
    }
   ],
   "source": [
    "tup = tuple(list_tup) # cast-back as a tuple\n",
    "\n",
    "print(tup)\n",
    "type(tup)"
   ]
  },
  {
   "cell_type": "markdown",
   "metadata": {},
   "source": [
    "## 1.2. Nested Tuples <a name=\"nested_tuple\"></a>\n",
    "**Read this section once you have covered Sec. [2](#list) on Lists**"
   ]
  },
  {
   "cell_type": "markdown",
   "metadata": {},
   "source": [
    "Notice that even if the tuple itself is not mutable, its element may consist of _mutable_ objects (such as lists) and/or _immutable_ objects (such as tuple themselves)."
   ]
  },
  {
   "cell_type": "code",
   "execution_count": 46,
   "metadata": {},
   "outputs": [
    {
     "name": "stdout",
     "output_type": "stream",
     "text": [
      "([87, 100, 99], ('ACT/365', 'ACT/360'), 100)\n"
     ]
    },
    {
     "data": {
      "text/plain": [
       "tuple"
      ]
     },
     "execution_count": 46,
     "metadata": {},
     "output_type": "execute_result"
    }
   ],
   "source": [
    "l = [87, 100, 99]          # a list\n",
    "t = (\"ACT/365\", \"ACT/360\") # a tuple\n",
    "\n",
    "nested_tup = (l, t, 100)\n",
    "\n",
    "print(nested_tup)\n",
    "type(nested_tup)"
   ]
  },
  {
   "cell_type": "markdown",
   "metadata": {},
   "source": [
    "As we have seen, elements of `tup` can be accessed through indexing:"
   ]
  },
  {
   "cell_type": "code",
   "execution_count": 15,
   "metadata": {},
   "outputs": [
    {
     "name": "stdout",
     "output_type": "stream",
     "text": [
      "[87, 100, 99]\n"
     ]
    },
    {
     "data": {
      "text/plain": [
       "list"
      ]
     },
     "execution_count": 15,
     "metadata": {},
     "output_type": "execute_result"
    }
   ],
   "source": [
    "print(nested_tup[0])\n",
    "type(nested_tup[0])"
   ]
  },
  {
   "cell_type": "code",
   "execution_count": 16,
   "metadata": {},
   "outputs": [
    {
     "name": "stdout",
     "output_type": "stream",
     "text": [
      "('ACT/365', 'ACT/360')\n"
     ]
    },
    {
     "data": {
      "text/plain": [
       "tuple"
      ]
     },
     "execution_count": 16,
     "metadata": {},
     "output_type": "execute_result"
    }
   ],
   "source": [
    "print(nested_tup[1])\n",
    "type(nested_tup[1])"
   ]
  },
  {
   "cell_type": "code",
   "execution_count": 17,
   "metadata": {},
   "outputs": [
    {
     "name": "stdout",
     "output_type": "stream",
     "text": [
      "100\n"
     ]
    },
    {
     "data": {
      "text/plain": [
       "int"
      ]
     },
     "execution_count": 17,
     "metadata": {},
     "output_type": "execute_result"
    }
   ],
   "source": [
    "print(nested_tup[2])\n",
    "type(nested_tup[2])"
   ]
  },
  {
   "cell_type": "markdown",
   "metadata": {},
   "source": [
    "You can as well access elements of list `l` and tuple `s` using a nested-indexing syntax:"
   ]
  },
  {
   "cell_type": "code",
   "execution_count": 18,
   "metadata": {},
   "outputs": [
    {
     "name": "stdout",
     "output_type": "stream",
     "text": [
      "87\n"
     ]
    },
    {
     "data": {
      "text/plain": [
       "int"
      ]
     },
     "execution_count": 18,
     "metadata": {},
     "output_type": "execute_result"
    }
   ],
   "source": [
    "# [0][0] is the index of the first element \n",
    "# of (list 'l' which is) the first element of the tuple 'nested_tup'\n",
    "print(nested_tup[0][0]) \n",
    "type(nested_tup[0][0])"
   ]
  },
  {
   "cell_type": "code",
   "execution_count": 19,
   "metadata": {},
   "outputs": [
    {
     "name": "stdout",
     "output_type": "stream",
     "text": [
      "99\n"
     ]
    },
    {
     "data": {
      "text/plain": [
       "int"
      ]
     },
     "execution_count": 19,
     "metadata": {},
     "output_type": "execute_result"
    }
   ],
   "source": [
    "# [0][2] is the index of the third element \n",
    "# of (list 'l' which is) the first element of the tuple 'nested_tup'\n",
    "print(nested_tup[0][2])\n",
    "type(nested_tup[0][2])"
   ]
  },
  {
   "cell_type": "code",
   "execution_count": 20,
   "metadata": {},
   "outputs": [
    {
     "name": "stdout",
     "output_type": "stream",
     "text": [
      "ACT/365\n"
     ]
    },
    {
     "data": {
      "text/plain": [
       "str"
      ]
     },
     "execution_count": 20,
     "metadata": {},
     "output_type": "execute_result"
    }
   ],
   "source": [
    "# [1][0] is the index of the first element \n",
    "# of (tuple 't' which is) the second element of the tuple 'nested_tup'\n",
    "print(nested_tup[1][0])\n",
    "type(nested_tup[1][0])"
   ]
  },
  {
   "cell_type": "code",
   "execution_count": 21,
   "metadata": {},
   "outputs": [
    {
     "name": "stdout",
     "output_type": "stream",
     "text": [
      "ACT/360\n"
     ]
    },
    {
     "data": {
      "text/plain": [
       "str"
      ]
     },
     "execution_count": 21,
     "metadata": {},
     "output_type": "execute_result"
    }
   ],
   "source": [
    "# [1][1] is the index of the second element \n",
    "# of (tuple 't' which is) the second element of the tuple 'nested_tup'\n",
    "print(nested_tup[1][1])\n",
    "type(nested_tup[1][1])"
   ]
  },
  {
   "cell_type": "markdown",
   "metadata": {},
   "source": [
    "Ok you have understood how it works... This is actually a general rule, that applies to both Tuples (`tuple`), Lists (`list`) and Numpy arrays (`numpy.ndarray`, we'll talk about these in a future notebook), that is it applies to all the three basic sequence-like data-structures used in Python.\n",
    "\n",
    "If a sequence-like data structure, say `seq`, has nested sequence-like elements, then\n",
    "\n",
    "```python\n",
    "seq[i][j]\n",
    "```\n",
    "\n",
    "will point to the element of index `j` of the element of index `i` of `seq`."
   ]
  },
  {
   "cell_type": "markdown",
   "metadata": {},
   "source": [
    "**Warning**: \n",
    "\n",
    "- if you try to refer to an index that does not correspond to any element of the data structure (or of its nested data-structures, if any), Python interpreter shall raise an _out of range_ `IndexError`"
   ]
  },
  {
   "cell_type": "code",
   "execution_count": 22,
   "metadata": {},
   "outputs": [],
   "source": [
    "# produces: IndexError: tuple index out of range \n",
    "# because index 3 would refer to the 4th element of nested_tup, that does not exist.\n",
    "\n",
    "# nested_tup[3]   "
   ]
  },
  {
   "cell_type": "code",
   "execution_count": 23,
   "metadata": {},
   "outputs": [],
   "source": [
    "# produces: IndexError: list index out of range\n",
    "# because index 3 would refer to the 4th element of nested_tup[0] (i.e. list 'l'), that does not exist\n",
    "\n",
    "# nested_tup[0][3]"
   ]
  },
  {
   "cell_type": "code",
   "execution_count": 24,
   "metadata": {},
   "outputs": [],
   "source": [
    "# produces: IndexError: tuple index out of range\n",
    "# because index 2 would refer to the 3rd element of nested_tup[1] (i.e. tuple 't'), that does not exist\n",
    "\n",
    "# nested_tup[1][2] "
   ]
  },
  {
   "cell_type": "markdown",
   "metadata": {},
   "source": [
    "- if you try to refer with an index to an element that is not indexable (like Integers, Floats,...), Python interpreter shall raise an _object is not subscriptable_ `TypeError`"
   ]
  },
  {
   "cell_type": "code",
   "execution_count": 25,
   "metadata": {},
   "outputs": [
    {
     "data": {
      "text/plain": [
       "100"
      ]
     },
     "execution_count": 25,
     "metadata": {},
     "output_type": "execute_result"
    }
   ],
   "source": [
    "nested_tup[2]"
   ]
  },
  {
   "cell_type": "code",
   "execution_count": 26,
   "metadata": {},
   "outputs": [],
   "source": [
    "# produces: TypeError: 'int' object is not subscriptable\n",
    "# because we are trying to refer to the first element of nested_tup[2] (i.e. integer 100), \n",
    "# that, in poor words, does not have any element inside and thus doesn't admit indexing.\n",
    "\n",
    "# nested_tup[2][0]"
   ]
  },
  {
   "cell_type": "markdown",
   "metadata": {},
   "source": [
    "Getting back to our nested tuple, you can modify only its mutable nested elements:"
   ]
  },
  {
   "cell_type": "code",
   "execution_count": 47,
   "metadata": {},
   "outputs": [
    {
     "data": {
      "text/plain": [
       "([87, 100, 99], ('ACT/365', 'ACT/360'), 100)"
      ]
     },
     "execution_count": 47,
     "metadata": {},
     "output_type": "execute_result"
    }
   ],
   "source": [
    "nested_tup"
   ]
  },
  {
   "cell_type": "code",
   "execution_count": 48,
   "metadata": {},
   "outputs": [
    {
     "data": {
      "text/plain": [
       "([87, 98, 99], ('ACT/365', 'ACT/360'), 100)"
      ]
     },
     "execution_count": 48,
     "metadata": {},
     "output_type": "execute_result"
    }
   ],
   "source": [
    "nested_tup[0][1] = 98\n",
    "nested_tup"
   ]
  },
  {
   "cell_type": "code",
   "execution_count": 49,
   "metadata": {},
   "outputs": [
    {
     "data": {
      "text/plain": [
       "([87, 98, 99, 75], ('ACT/365', 'ACT/360'), 100)"
      ]
     },
     "execution_count": 49,
     "metadata": {},
     "output_type": "execute_result"
    }
   ],
   "source": [
    "nested_tup[0].append(75)\n",
    "nested_tup"
   ]
  },
  {
   "cell_type": "markdown",
   "metadata": {},
   "source": [
    "but you cannot assign new values to them (even if they are mutable)"
   ]
  },
  {
   "cell_type": "markdown",
   "metadata": {},
   "source": [
    "**Warning**: even if a nested tuple contains a list, which is a _mutable_ data-structure, you cannot modify the elements of the list which is inside the tuple, since this would contrast with the immutability of the tuple"
   ]
  },
  {
   "cell_type": "code",
   "execution_count": 27,
   "metadata": {},
   "outputs": [
    {
     "data": {
      "text/plain": [
       "([87, 100, 99], ('ACT/365', 'ACT/360'), 100)"
      ]
     },
     "execution_count": 27,
     "metadata": {},
     "output_type": "execute_result"
    }
   ],
   "source": [
    "nested_tup"
   ]
  },
  {
   "cell_type": "code",
   "execution_count": 29,
   "metadata": {},
   "outputs": [
    {
     "data": {
      "text/plain": [
       "99"
      ]
     },
     "execution_count": 29,
     "metadata": {},
     "output_type": "execute_result"
    }
   ],
   "source": [
    "nested_tup[0][2]"
   ]
  },
  {
   "cell_type": "code",
   "execution_count": 30,
   "metadata": {},
   "outputs": [],
   "source": [
    "nested_tup[0][2] = 98"
   ]
  },
  {
   "cell_type": "code",
   "execution_count": 32,
   "metadata": {},
   "outputs": [
    {
     "data": {
      "text/plain": [
       "([87, 100, 98], ('ACT/365', 'ACT/360'), 100)"
      ]
     },
     "execution_count": 32,
     "metadata": {},
     "output_type": "execute_result"
    }
   ],
   "source": [
    "nested_tup"
   ]
  },
  {
   "cell_type": "markdown",
   "metadata": {},
   "source": [
    "**Warning**: even if a nested tuple contains a list, which is a _mutable_ data-structure, you cannot modify the elements of the list which is inside the tuple, since this would contrast with the immutability of the tuple"
   ]
  },
  {
   "cell_type": "code",
   "execution_count": 27,
   "metadata": {},
   "outputs": [
    {
     "data": {
      "text/plain": [
       "([87, 100, 99], ('ACT/365', 'ACT/360'), 100)"
      ]
     },
     "execution_count": 27,
     "metadata": {},
     "output_type": "execute_result"
    }
   ],
   "source": [
    "nested_tup"
   ]
  },
  {
   "cell_type": "code",
   "execution_count": 29,
   "metadata": {},
   "outputs": [
    {
     "data": {
      "text/plain": [
       "99"
      ]
     },
     "execution_count": 29,
     "metadata": {},
     "output_type": "execute_result"
    }
   ],
   "source": [
    "nested_tup[0][2]"
   ]
  },
  {
   "cell_type": "code",
   "execution_count": 30,
   "metadata": {},
   "outputs": [],
   "source": [
    "nested_tup[0][2] = 98"
   ]
  },
  {
   "cell_type": "code",
   "execution_count": 32,
   "metadata": {},
   "outputs": [
    {
     "data": {
      "text/plain": [
       "([87, 100, 98], ('ACT/365', 'ACT/360'), 100)"
      ]
     },
     "execution_count": 32,
     "metadata": {},
     "output_type": "execute_result"
    }
   ],
   "source": [
    "nested_tup"
   ]
  },
  {
   "cell_type": "markdown",
   "metadata": {},
   "source": [
    "but you cannot explicitly modify elements of the tuple, even if themselves are mutable (yes, I agree with you, this is a bit strange). That is, an explicit redefinition of the element `nested_tup[0]` of `nested_tup` like this:\n",
    "```python\n",
    "nested_tup[0] = [67, 89]\n",
    "```\n",
    "would produce:\n",
    "```python\n",
    "TypeError: 'tuple' object does not support item assignment\n",
    "```"
   ]
  },
  {
   "cell_type": "code",
   "execution_count": 51,
   "metadata": {},
   "outputs": [],
   "source": [
    "# nested_tup[0] = [67, 89]"
   ]
  },
  {
   "cell_type": "markdown",
   "metadata": {},
   "source": [
    "And of course you cannot modify nested elements which are immutable themselves:"
   ]
  },
  {
   "cell_type": "code",
   "execution_count": 54,
   "metadata": {},
   "outputs": [
    {
     "name": "stdout",
     "output_type": "stream",
     "text": [
      "('ACT/365', 'ACT/360')\n"
     ]
    },
    {
     "data": {
      "text/plain": [
       "tuple"
      ]
     },
     "execution_count": 54,
     "metadata": {},
     "output_type": "execute_result"
    }
   ],
   "source": [
    "print(nested_tup[1])\n",
    "type(nested_tup[1])"
   ]
  },
  {
   "cell_type": "code",
   "execution_count": 56,
   "metadata": {},
   "outputs": [],
   "source": [
    "# nested_tup[1][0] = \"ACT/360\" # TypeError: 'tuple' object does not support item assignment"
   ]
  },
  {
   "cell_type": "markdown",
   "metadata": {},
   "source": [
    "# 2. Lists <a name=\"list\"></a>"
   ]
  },
  {
   "cell_type": "markdown",
   "metadata": {},
   "source": [
    "[Lists](https://docs.python.org/3.7/tutorial/introduction.html#lists) consists of a number of values - in general, of heterogeneous data-type - packed together in a mutable sequence and separated by commas between square brackets. "
   ]
  },
  {
   "cell_type": "markdown",
   "metadata": {},
   "source": [
    "Lists are very versatile data structures, since they offer flexibility (since they are mutable) and feature several built-in methods that can speed up coding. "
   ]
  },
  {
   "cell_type": "markdown",
   "metadata": {},
   "source": [
    "Lists are defined with square brackets `[]` surrounding the `,`-separated sequence."
   ]
  },
  {
   "cell_type": "code",
   "execution_count": 73,
   "metadata": {},
   "outputs": [
    {
     "name": "stdout",
     "output_type": "stream",
     "text": [
      "[1, 0.35, 'GBP']\n"
     ]
    },
    {
     "data": {
      "text/plain": [
       "list"
      ]
     },
     "execution_count": 73,
     "metadata": {},
     "output_type": "execute_result"
    }
   ],
   "source": [
    "lis = [1, 0.35, \"GBP\"]\n",
    "\n",
    "print(lis)\n",
    "type(lis)"
   ]
  },
  {
   "cell_type": "markdown",
   "metadata": {},
   "source": [
    "The number of elements is easily retrieved by the `len()` function:"
   ]
  },
  {
   "cell_type": "code",
   "execution_count": 74,
   "metadata": {},
   "outputs": [
    {
     "data": {
      "text/plain": [
       "3"
      ]
     },
     "execution_count": 74,
     "metadata": {},
     "output_type": "execute_result"
    }
   ],
   "source": [
    "len(lis)"
   ]
  },
  {
   "cell_type": "markdown",
   "metadata": {},
   "source": [
    "Lists share a lot of properties with other sequence-like data-structures. In particular, they share _zero-based_ indexing and slicing with Strings and Tuples."
   ]
  },
  {
   "cell_type": "code",
   "execution_count": 75,
   "metadata": {},
   "outputs": [
    {
     "name": "stdout",
     "output_type": "stream",
     "text": [
      "1\n"
     ]
    },
    {
     "data": {
      "text/plain": [
       "int"
      ]
     },
     "execution_count": 75,
     "metadata": {},
     "output_type": "execute_result"
    }
   ],
   "source": [
    "# 0 is the index of the first element of the list\n",
    "print(lis[0])\n",
    "type(lis[0])"
   ]
  },
  {
   "cell_type": "code",
   "execution_count": 76,
   "metadata": {},
   "outputs": [
    {
     "name": "stdout",
     "output_type": "stream",
     "text": [
      "GBP\n"
     ]
    },
    {
     "data": {
      "text/plain": [
       "str"
      ]
     },
     "execution_count": 76,
     "metadata": {},
     "output_type": "execute_result"
    }
   ],
   "source": [
    "# -1 is the index of the last element of the list\n",
    "print(lis[-1])\n",
    "type(lis[-1])"
   ]
  },
  {
   "cell_type": "markdown",
   "metadata": {},
   "source": [
    "Here is how to slice a list (yes, always the same way):"
   ]
  },
  {
   "cell_type": "code",
   "execution_count": 77,
   "metadata": {},
   "outputs": [
    {
     "name": "stdout",
     "output_type": "stream",
     "text": [
      "[1, 0.35]\n"
     ]
    },
    {
     "data": {
      "text/plain": [
       "list"
      ]
     },
     "execution_count": 77,
     "metadata": {},
     "output_type": "execute_result"
    }
   ],
   "source": [
    "lis_slice = lis[0:2] # elements from position 0 (included) to 2 (excluded)\n",
    "\n",
    "print(lis_slice)\n",
    "type(lis_slice)"
   ]
  },
  {
   "cell_type": "code",
   "execution_count": 78,
   "metadata": {},
   "outputs": [
    {
     "data": {
      "text/plain": [
       "['GBP']"
      ]
     },
     "execution_count": 78,
     "metadata": {},
     "output_type": "execute_result"
    }
   ],
   "source": [
    "lis[2:5] # elements from position 2 (included) to 5 (excluded)"
   ]
  },
  {
   "cell_type": "code",
   "execution_count": 79,
   "metadata": {},
   "outputs": [
    {
     "data": {
      "text/plain": [
       "[1, 0.35]"
      ]
     },
     "execution_count": 79,
     "metadata": {},
     "output_type": "execute_result"
    }
   ],
   "source": [
    "lis[:2]   # elements from the beginning to position 2 (excluded) --- equivalent to s[0:2]"
   ]
  },
  {
   "cell_type": "code",
   "execution_count": 80,
   "metadata": {},
   "outputs": [
    {
     "data": {
      "text/plain": [
       "[0.35, 'GBP']"
      ]
     },
     "execution_count": 80,
     "metadata": {},
     "output_type": "execute_result"
    }
   ],
   "source": [
    "lis[-2:]  # elements from the second-last (included) to the end"
   ]
  },
  {
   "cell_type": "markdown",
   "metadata": {},
   "source": [
    "Differently from strings and tuples, lists are _mutable_ objects."
   ]
  },
  {
   "cell_type": "code",
   "execution_count": 81,
   "metadata": {},
   "outputs": [
    {
     "data": {
      "text/plain": [
       "[17, 0.35, 'GBP']"
      ]
     },
     "execution_count": 81,
     "metadata": {},
     "output_type": "execute_result"
    }
   ],
   "source": [
    "lis[0] = 17\n",
    "lis"
   ]
  },
  {
   "cell_type": "markdown",
   "metadata": {},
   "source": [
    "For details on built-in methods see [5.1. More on Lists](https://docs.python.org/3.7/tutorial/datastructures.html#more-on-lists) of the Python tutorial. In particular, two particularly useful built-in methods are worth of mention:\n",
    "- `list.append(x)`: which appends element `x` to the end of the list, extending it"
   ]
  },
  {
   "cell_type": "code",
   "execution_count": 82,
   "metadata": {},
   "outputs": [
    {
     "data": {
      "text/plain": [
       "[17, 0.35, 'GBP', 'EUR']"
      ]
     },
     "execution_count": 82,
     "metadata": {},
     "output_type": "execute_result"
    }
   ],
   "source": [
    "lis.append('EUR')\n",
    "lis"
   ]
  },
  {
   "cell_type": "markdown",
   "metadata": {},
   "source": [
    "- `list.sort()`: that sorts in ascending order a list."
   ]
  },
  {
   "cell_type": "markdown",
   "metadata": {},
   "source": [
    "Notice that the list to be sorted must have elements of homogenous data-type, otherwise the interpreter will complain, as in this case:\n",
    "\n",
    "```python\n",
    "TypeError: '<' not supported between instances of 'str' and 'float'\n",
    "```"
   ]
  },
  {
   "cell_type": "code",
   "execution_count": 96,
   "metadata": {},
   "outputs": [],
   "source": [
    "# lis.sort()"
   ]
  },
  {
   "cell_type": "markdown",
   "metadata": {},
   "source": [
    "but the sorting will work if we define a new string as the `[17, 0.35]` slice of the original one"
   ]
  },
  {
   "cell_type": "code",
   "execution_count": 97,
   "metadata": {},
   "outputs": [
    {
     "data": {
      "text/plain": [
       "[0.35, 17]"
      ]
     },
     "execution_count": 97,
     "metadata": {},
     "output_type": "execute_result"
    }
   ],
   "source": [
    "lis_slice = lis[:2]  # [17, 0.35]\n",
    "lis_slice.sort()\n",
    "lis_slice"
   ]
  },
  {
   "cell_type": "markdown",
   "metadata": {},
   "source": [
    "## 2.1. Nested Lists <a name=\"nested_list\"></a>"
   ]
  },
  {
   "cell_type": "markdown",
   "metadata": {},
   "source": [
    "Lists can nest other data structures, both _mutable_ objects (such as other lists) and/or _immutable_ objects (such as tuples)."
   ]
  },
  {
   "cell_type": "code",
   "execution_count": 100,
   "metadata": {},
   "outputs": [
    {
     "name": "stdout",
     "output_type": "stream",
     "text": [
      "[[87, 100, 99], ('ACT/365', 'ACT/360'), 100]\n"
     ]
    },
    {
     "data": {
      "text/plain": [
       "list"
      ]
     },
     "execution_count": 100,
     "metadata": {},
     "output_type": "execute_result"
    }
   ],
   "source": [
    "l = [87, 100, 99]          # a list\n",
    "t = (\"ACT/365\", \"ACT/360\") # a tuple\n",
    "\n",
    "nested_lis = [l, t, 100]\n",
    "\n",
    "print(nested_lis)\n",
    "type(nested_lis)"
   ]
  },
  {
   "cell_type": "markdown",
   "metadata": {},
   "source": [
    "As we have seen, elements of `tup` can be accessed through indexing:"
   ]
  },
  {
   "cell_type": "code",
   "execution_count": 101,
   "metadata": {},
   "outputs": [
    {
     "name": "stdout",
     "output_type": "stream",
     "text": [
      "[87, 100, 99]\n"
     ]
    },
    {
     "data": {
      "text/plain": [
       "list"
      ]
     },
     "execution_count": 101,
     "metadata": {},
     "output_type": "execute_result"
    }
   ],
   "source": [
    "print(nested_lis[0])\n",
    "type(nested_lis[0])"
   ]
  },
  {
   "cell_type": "code",
   "execution_count": 102,
   "metadata": {},
   "outputs": [
    {
     "name": "stdout",
     "output_type": "stream",
     "text": [
      "('ACT/365', 'ACT/360')\n"
     ]
    },
    {
     "data": {
      "text/plain": [
       "tuple"
      ]
     },
     "execution_count": 102,
     "metadata": {},
     "output_type": "execute_result"
    }
   ],
   "source": [
    "print(nested_lis[1])\n",
    "type(nested_lis[1])"
   ]
  },
  {
   "cell_type": "code",
   "execution_count": 103,
   "metadata": {},
   "outputs": [
    {
     "name": "stdout",
     "output_type": "stream",
     "text": [
      "100\n"
     ]
    },
    {
     "data": {
      "text/plain": [
       "int"
      ]
     },
     "execution_count": 103,
     "metadata": {},
     "output_type": "execute_result"
    }
   ],
   "source": [
    "print(nested_lis[2])\n",
    "type(nested_lis[2])"
   ]
  },
  {
   "cell_type": "markdown",
   "metadata": {},
   "source": [
    "You can as well access elements of list `l` and tuple `s` using a nested-indexing syntax:"
   ]
  },
  {
   "cell_type": "code",
   "execution_count": 104,
   "metadata": {},
   "outputs": [
    {
     "name": "stdout",
     "output_type": "stream",
     "text": [
      "87\n"
     ]
    },
    {
     "data": {
      "text/plain": [
       "int"
      ]
     },
     "execution_count": 104,
     "metadata": {},
     "output_type": "execute_result"
    }
   ],
   "source": [
    "# [0][0] is the index of the first element \n",
    "# of (list 'l' which is) the first element of the list 'nested_lis'\n",
    "print(nested_lis[0][0]) \n",
    "type(nested_lis[0][0])"
   ]
  },
  {
   "cell_type": "code",
   "execution_count": 105,
   "metadata": {},
   "outputs": [
    {
     "name": "stdout",
     "output_type": "stream",
     "text": [
      "99\n"
     ]
    },
    {
     "data": {
      "text/plain": [
       "int"
      ]
     },
     "execution_count": 105,
     "metadata": {},
     "output_type": "execute_result"
    }
   ],
   "source": [
    "# [0][2] is the index of the third element \n",
    "# of (list 'l' which is) the first element of the list 'nested_lis'\n",
    "print(nested_lis[0][2])\n",
    "type(nested_lis[0][2])"
   ]
  },
  {
   "cell_type": "code",
   "execution_count": 106,
   "metadata": {},
   "outputs": [
    {
     "name": "stdout",
     "output_type": "stream",
     "text": [
      "ACT/365\n"
     ]
    },
    {
     "data": {
      "text/plain": [
       "str"
      ]
     },
     "execution_count": 106,
     "metadata": {},
     "output_type": "execute_result"
    }
   ],
   "source": [
    "# [1][0] is the index of the first element \n",
    "# of (list 't' which is) the second element of the list 'nested_lis'\n",
    "print(nested_lis[1][0])\n",
    "type(nested_lis[1][0])"
   ]
  },
  {
   "cell_type": "code",
   "execution_count": 107,
   "metadata": {},
   "outputs": [
    {
     "name": "stdout",
     "output_type": "stream",
     "text": [
      "ACT/360\n"
     ]
    },
    {
     "data": {
      "text/plain": [
       "str"
      ]
     },
     "execution_count": 107,
     "metadata": {},
     "output_type": "execute_result"
    }
   ],
   "source": [
    "# [1][1] is the index of the second element \n",
    "# of (tuple 't' which is) the second element of the list 'nested_lis'\n",
    "print(nested_lis[1][1])\n",
    "type(nested_lis[1][1])"
   ]
  },
  {
   "cell_type": "markdown",
   "metadata": {},
   "source": [
    "Ok you have understood how it works... This is actually a general rule, that applies to all the sequence-like data structures: Tuples (`tuple`), Lists (`list`) but also Numpy arrays (`numpy.ndarray`) that will be introduced in a future notebook."
   ]
  },
  {
   "cell_type": "markdown",
   "metadata": {},
   "source": [
    "If a sequence-like data structure, say `seq`, has nested sequence-like elements, then\n",
    "\n",
    "```python\n",
    "seq[i][j]\n",
    "```\n",
    "\n",
    "is the element of index `j` of the element `seq[i]` of index `i` of `seq`. That is, `seq[i][j]` is the $(j+1)$-th element of the $(i+1)$-th element `seq[i]` of `seq`."
   ]
  },
  {
   "cell_type": "markdown",
   "metadata": {},
   "source": [
    "**Warning**: \n",
    "\n",
    "- if you try to refer to an index that does not correspond to any element of the data structure (or of its nested data-structures, if any), Python interpreter shall raise an _out of range_ `IndexError`"
   ]
  },
  {
   "cell_type": "code",
   "execution_count": 22,
   "metadata": {},
   "outputs": [],
   "source": [
    "# produces: IndexError: list index out of range \n",
    "# because index 3 would refer to the 4th element of nested_lis, that does not exist.\n",
    "\n",
    "# nested_lis[3]   "
   ]
  },
  {
   "cell_type": "code",
   "execution_count": 23,
   "metadata": {},
   "outputs": [],
   "source": [
    "# produces: IndexError: list index out of range\n",
    "# because index 3 would refer to the 4th element of nested_lis[0] (i.e. list 'l'), that does not exist\n",
    "\n",
    "# nested_lis[0][3]"
   ]
  },
  {
   "cell_type": "code",
   "execution_count": 110,
   "metadata": {},
   "outputs": [],
   "source": [
    "# produces: IndexError: tuple index out of range\n",
    "# because index 2 would refer to the 3rd element of nested_lis[1] (i.e. tuple 't'), that does not exist\n",
    "\n",
    "# nested_lis[1][2] "
   ]
  },
  {
   "cell_type": "markdown",
   "metadata": {},
   "source": [
    "- if you try to refer with an index to an element that is not indexable (like Integers, Floats,...), Python interpreter shall raise an _object is not subscriptable_ `TypeError`"
   ]
  },
  {
   "cell_type": "code",
   "execution_count": 108,
   "metadata": {},
   "outputs": [
    {
     "data": {
      "text/plain": [
       "100"
      ]
     },
     "execution_count": 108,
     "metadata": {},
     "output_type": "execute_result"
    }
   ],
   "source": [
    "nested_lis[2]"
   ]
  },
  {
   "cell_type": "code",
   "execution_count": 109,
   "metadata": {},
   "outputs": [],
   "source": [
    "# produces: TypeError: 'int' object is not subscriptable\n",
    "# because we are trying to refer to the first element of nested_lis[2] (i.e. integer 100), \n",
    "# that, in poor words, does not have any element inside and thus doesn't admit indexing.\n",
    "\n",
    "# nested_lis[2][0]"
   ]
  },
  {
   "cell_type": "markdown",
   "metadata": {},
   "source": [
    "## 2.1. for loop <a name=\"for\"></a>"
   ]
  },
  {
   "cell_type": "markdown",
   "metadata": {},
   "source": [
    "# 3. Dicts <a name=\"dict\"></a>"
   ]
  },
  {
   "cell_type": "markdown",
   "metadata": {},
   "source": [
    "# 4. Sets <a name=\"set\"></a>"
   ]
  }
 ],
 "metadata": {
  "kernelspec": {
   "display_name": "Python 3",
   "language": "python",
   "name": "python3"
  },
  "language_info": {
   "codemirror_mode": {
    "name": "ipython",
    "version": 3
   },
   "file_extension": ".py",
   "mimetype": "text/x-python",
   "name": "python",
   "nbconvert_exporter": "python",
   "pygments_lexer": "ipython3",
   "version": "3.7.4"
  }
 },
 "nbformat": 4,
 "nbformat_minor": 2
}
