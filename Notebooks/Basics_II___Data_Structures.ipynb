{
 "cells": [
  {
   "cell_type": "markdown",
   "metadata": {},
   "source": [
    "# Basics II - Data Structures"
   ]
  },
  {
   "cell_type": "markdown",
   "metadata": {},
   "source": [
    "# Table of contents\n",
    "\n",
    "[Executive Summary](#summary)\n",
    "1. [Tuples](#tuple)\\\n",
    "    1.1 [Nested Tuples](#nested_tuple)\n",
    "2. [Lists](#list)\\\n",
    "    2.1. [Nested Lists](#nested_list)\\\n",
    "    2.2. [Modify Lists](#modify_list)\\\n",
    "    2.1. [for loop](#for)\n",
    "3. [Dicts](#dict)\n",
    "4. [Sets](#set)"
   ]
  },
  {
   "cell_type": "markdown",
   "metadata": {},
   "source": [
    "### **Resources**: \n",
    "\n",
    "- [_Python for Finance (2nd ed.)_](http://shop.oreilly.com/product/0636920117728.do): Sec. 3.Basic Data Structures (Section 3.Excursus: Functional Programming is optional)\n",
    "- [_The Python Tutorial_](https://docs.python.org/3.7/tutorial/): Sec. 3.1.3 (Lists), 4.2 (for Statements), 4.3 (The range() Function), 4.4 (break and continue Statemenents, and else Clauses on Loops), 5.1 (More on Lists), 5.3 (Tuples and Sequences), 5.4 (Sets), 5.5 (Dictionaries)"
   ]
  },
  {
   "cell_type": "markdown",
   "metadata": {},
   "source": [
    "# Executive Summary <a name=\"summary\"></a>"
   ]
  },
  {
   "cell_type": "markdown",
   "metadata": {},
   "source": [
    "Intuitively, a _data structure_ is an object containing other objects, not necessarily of the same _data type_."
   ]
  },
  {
   "cell_type": "markdown",
   "metadata": {},
   "source": [
    "Standard Python provides four basic data structures, which can be differentiated at high level by being:\n",
    "- _ordered_ or _not ordered:_ that is, whether they preserve the order in which entries are added or not;\n",
    "- _mutable_ or _immutable:_ that is, whether - once defined - they can be modified or not."
   ]
  },
  {
   "cell_type": "markdown",
   "metadata": {},
   "source": [
    "These data-strucutures are:\n",
    "\n",
    "data-structure | ordered (or not) | mutable (or not)\n",
    "--- | --- | ---\n",
    "Tuples  | ordered | immutable |\n",
    "Lists | ordered | mutable |\n",
    "Dicts | not ordered | mutable |\n",
    "Sets | not ordered | mutable |"
   ]
  },
  {
   "cell_type": "markdown",
   "metadata": {},
   "source": [
    "The function `type()` can be called over any defined data-structure and returns its type: `tuple` for Tuples, `list` for Lists, `dict` for Dicts and `set` for Sets."
   ]
  },
  {
   "cell_type": "markdown",
   "metadata": {},
   "source": [
    "The following sections are organized as follows: \n",
    "- In Sec. [1](#tuple) Tuples (`tuple`) are introduced as the Python data-structure for _ordered_ sequence-like objects that _cannot be_ modified once defined. \n",
    "- In Sec. [2](#list) Lists (`list`) are introduced as the Python data-structure for _ordered_ sequence-like objects that _can be_ modified once defined. In this context `for` loops are introduced in Sec. [2.1](#for).\n",
    "- In Sec. [3](#dict) Dicts (`dict`) are introduced as the Python data-structure for _not ordered_ collection-like objects that _can be_ modified once defined and that implement a _key-to-value_ map.\n",
    "- In Sec. [4](#set) Sets (`set`) are introduced as the Python data-structure for _not ordered_ collection-like objects that _can be_ modified once defined and that contain unique elements (that is, every elements appears only once). "
   ]
  },
  {
   "cell_type": "markdown",
   "metadata": {},
   "source": [
    "# 1. Tuples <a name=\"tuple\"></a>"
   ]
  },
  {
   "cell_type": "markdown",
   "metadata": {},
   "source": [
    "[Tuples](https://docs.python.org/3.7/tutorial/datastructures.html#tuples-and-sequences) consists of a number of values - of heterogeneous data-type, in general - packed together in an immutable sequence and separated by commas. "
   ]
  },
  {
   "cell_type": "markdown",
   "metadata": {},
   "source": [
    "In my experience, I didn't use tuple that often, probably because their _immutability_ goes against the dynamism of trail-n-error phases of a typical quantitative analysis. In fact, for the same reason, tuples may be a good asset as they guarantee the safety of data stored in them."
   ]
  },
  {
   "cell_type": "markdown",
   "metadata": {},
   "source": [
    "Tuples can be defined with or without parenthesis `()` surrounding the `,`-separated sequence."
   ]
  },
  {
   "cell_type": "code",
   "execution_count": 1,
   "metadata": {},
   "outputs": [
    {
     "name": "stdout",
     "output_type": "stream",
     "text": [
      "(1, 0.35, 'GBP')\n"
     ]
    },
    {
     "data": {
      "text/plain": [
       "tuple"
      ]
     },
     "execution_count": 1,
     "metadata": {},
     "output_type": "execute_result"
    }
   ],
   "source": [
    "tup = (1, 0.35, \"GBP\")\n",
    "\n",
    "print(tup)\n",
    "type(tup)"
   ]
  },
  {
   "cell_type": "code",
   "execution_count": 2,
   "metadata": {},
   "outputs": [
    {
     "name": "stdout",
     "output_type": "stream",
     "text": [
      "(1, 0.35, 'GBP')\n"
     ]
    },
    {
     "data": {
      "text/plain": [
       "tuple"
      ]
     },
     "execution_count": 2,
     "metadata": {},
     "output_type": "execute_result"
    }
   ],
   "source": [
    "tup = 1, 0.35, \"GBP\"\n",
    "\n",
    "print(tup)\n",
    "type(tup)"
   ]
  },
  {
   "cell_type": "markdown",
   "metadata": {},
   "source": [
    "The number of elements is easily retrieved by the `len()` function:"
   ]
  },
  {
   "cell_type": "code",
   "execution_count": 3,
   "metadata": {},
   "outputs": [
    {
     "data": {
      "text/plain": [
       "3"
      ]
     },
     "execution_count": 3,
     "metadata": {},
     "output_type": "execute_result"
    }
   ],
   "source": [
    "len(tup)"
   ]
  },
  {
   "cell_type": "markdown",
   "metadata": {},
   "source": [
    "Tuples share a lot of properties with other sequence-like data-structure. For details take a look at [Sequence Types — list, tuple, range](https://docs.python.org/3.7/library/stdtypes.html#sequence-types-list-tuple-range) page of the Python standard library."
   ]
  },
  {
   "cell_type": "markdown",
   "metadata": {},
   "source": [
    "In particular, tuples share indexing features with strings (see [Basics_I___Data_Types.ipynb](https://github.com/gabrielepompa88/IT-For-Business-And-Finance-2019-20/blob/master/Notebooks/Basics_I___Data_Types.ipynb)) and lists (see Sec. [2](#list)).\n",
    "In particular, elements of a tuple can be accessed by _zero-based_ indexes:"
   ]
  },
  {
   "cell_type": "code",
   "execution_count": 4,
   "metadata": {},
   "outputs": [
    {
     "name": "stdout",
     "output_type": "stream",
     "text": [
      "1\n"
     ]
    },
    {
     "data": {
      "text/plain": [
       "int"
      ]
     },
     "execution_count": 4,
     "metadata": {},
     "output_type": "execute_result"
    }
   ],
   "source": [
    "# 0 is the index of the first element of the tuple\n",
    "print(tup[0])\n",
    "type(tup[0])"
   ]
  },
  {
   "cell_type": "code",
   "execution_count": 5,
   "metadata": {},
   "outputs": [
    {
     "name": "stdout",
     "output_type": "stream",
     "text": [
      "GBP\n"
     ]
    },
    {
     "data": {
      "text/plain": [
       "str"
      ]
     },
     "execution_count": 5,
     "metadata": {},
     "output_type": "execute_result"
    }
   ],
   "source": [
    "# -1 is the index of the last element of the tuple\n",
    "print(tup[-1])\n",
    "type(tup[-1])"
   ]
  },
  {
   "cell_type": "markdown",
   "metadata": {},
   "source": [
    "and tuples can be sliced. That is, you can select few elements only of the tuple if you want to"
   ]
  },
  {
   "cell_type": "code",
   "execution_count": 6,
   "metadata": {},
   "outputs": [
    {
     "name": "stdout",
     "output_type": "stream",
     "text": [
      "(1, 0.35)\n"
     ]
    },
    {
     "data": {
      "text/plain": [
       "tuple"
      ]
     },
     "execution_count": 6,
     "metadata": {},
     "output_type": "execute_result"
    }
   ],
   "source": [
    "tup_slice = tup[0:2] # elements from position 0 (included) to 2 (excluded)\n",
    "\n",
    "print(tup_slice)\n",
    "type(tup_slice)"
   ]
  },
  {
   "cell_type": "code",
   "execution_count": 7,
   "metadata": {},
   "outputs": [
    {
     "data": {
      "text/plain": [
       "('GBP',)"
      ]
     },
     "execution_count": 7,
     "metadata": {},
     "output_type": "execute_result"
    }
   ],
   "source": [
    "tup[2:5] # elements from position 2 (included) to 5 (excluded)"
   ]
  },
  {
   "cell_type": "code",
   "execution_count": 8,
   "metadata": {},
   "outputs": [
    {
     "data": {
      "text/plain": [
       "(1, 0.35)"
      ]
     },
     "execution_count": 8,
     "metadata": {},
     "output_type": "execute_result"
    }
   ],
   "source": [
    "tup[:2]   # elements from the beginning to position 2 (excluded) --- equivalent to tup[0:2]"
   ]
  },
  {
   "cell_type": "code",
   "execution_count": 9,
   "metadata": {},
   "outputs": [
    {
     "data": {
      "text/plain": [
       "(0.35, 'GBP')"
      ]
     },
     "execution_count": 9,
     "metadata": {},
     "output_type": "execute_result"
    }
   ],
   "source": [
    "tup[-2:]  # elements from the second-last (included) to the end"
   ]
  },
  {
   "cell_type": "markdown",
   "metadata": {},
   "source": [
    "Analogously to strings - but differently from lists - tuples are _immutable_ objects.  That is, if you try to change one of its elements, you get\n",
    "```python\n",
    "TypeError: 'tuple' object does not support item assignment\n",
    "```"
   ]
  },
  {
   "cell_type": "code",
   "execution_count": 10,
   "metadata": {},
   "outputs": [],
   "source": [
    "# tup[0] = 17"
   ]
  },
  {
   "cell_type": "markdown",
   "metadata": {},
   "source": [
    "In particular, you cannot simply use the `+` operator as you would do with a string to concatenate characters. That is, something like\n",
    "\n",
    "```python\n",
    "17 + tup[1:]\n",
    "```\n",
    "would cause the following error\n",
    "\n",
    "```python\n",
    "TypeError: unsupported operand type(s) for +: 'int' and 'tuple'\n",
    "```\n",
    "\n",
    "that simply tells you that you cannot _add_ `int` objects (like `17`) with `tuple` objects (like the slice `tup[1:]`)."
   ]
  },
  {
   "cell_type": "code",
   "execution_count": 11,
   "metadata": {},
   "outputs": [],
   "source": [
    "# 17 + tup[1:]"
   ]
  },
  {
   "cell_type": "markdown",
   "metadata": {},
   "source": [
    "**Workaround to modify a tuple**: of course there is a workaround (and it will be clear once you have covered Sec. [2](#list) on Lists). You can:\n",
    "- convert the tuple into a list using `list()` casting function, \n",
    "- change the list (which is a mutable object)\n",
    "- convert the list back into a tuple using the `tuple()` casting function."
   ]
  },
  {
   "cell_type": "code",
   "execution_count": 12,
   "metadata": {},
   "outputs": [
    {
     "name": "stdout",
     "output_type": "stream",
     "text": [
      "[1, 0.35, 'GBP']\n"
     ]
    },
    {
     "data": {
      "text/plain": [
       "list"
      ]
     },
     "execution_count": 12,
     "metadata": {},
     "output_type": "execute_result"
    }
   ],
   "source": [
    "list_tup = list(tup) # cast tup as a list\n",
    "\n",
    "print(list_tup)\n",
    "type(list_tup)"
   ]
  },
  {
   "cell_type": "code",
   "execution_count": 13,
   "metadata": {},
   "outputs": [],
   "source": [
    "list_tup[0] = 17 # change the element"
   ]
  },
  {
   "cell_type": "code",
   "execution_count": 14,
   "metadata": {},
   "outputs": [
    {
     "name": "stdout",
     "output_type": "stream",
     "text": [
      "(17, 0.35, 'GBP')\n"
     ]
    },
    {
     "data": {
      "text/plain": [
       "tuple"
      ]
     },
     "execution_count": 14,
     "metadata": {},
     "output_type": "execute_result"
    }
   ],
   "source": [
    "tup = tuple(list_tup) # cast-back as a tuple\n",
    "\n",
    "print(tup)\n",
    "type(tup)"
   ]
  },
  {
   "cell_type": "markdown",
   "metadata": {},
   "source": [
    "Nevertheless, if you need to modify a tuple, the real question is why did you pack your data into a tuple? So, the take-home message is: if you need to modify a tuple, re-think your code... you're likely to need a list instead of a tuple."
   ]
  },
  {
   "cell_type": "markdown",
   "metadata": {},
   "source": [
    "## 1.2. Nested Tuples <a name=\"nested_tuple\"></a>\n",
    "**Read this section once you have covered Sec. [2](#list) on Lists**"
   ]
  },
  {
   "cell_type": "markdown",
   "metadata": {},
   "source": [
    "Notice that even if the tuple itself is not mutable, its elements can consist of _mutable_ objects (such as lists) and/or _immutable_ objects (such as tuple themselves)."
   ]
  },
  {
   "cell_type": "code",
   "execution_count": 15,
   "metadata": {},
   "outputs": [
    {
     "name": "stdout",
     "output_type": "stream",
     "text": [
      "([87, 100, 99], ('ACT/365', 'ACT/360'), 100)\n"
     ]
    },
    {
     "data": {
      "text/plain": [
       "tuple"
      ]
     },
     "execution_count": 15,
     "metadata": {},
     "output_type": "execute_result"
    }
   ],
   "source": [
    "l = [87, 100, 99]          # a list\n",
    "t = (\"ACT/365\", \"ACT/360\") # a tuple\n",
    "\n",
    "nested_tup = (l, t, 100)\n",
    "\n",
    "print(nested_tup)\n",
    "type(nested_tup)"
   ]
  },
  {
   "cell_type": "markdown",
   "metadata": {},
   "source": [
    "As we have seen, elements of `nested_tup` can be accessed through indexing:"
   ]
  },
  {
   "cell_type": "code",
   "execution_count": 16,
   "metadata": {},
   "outputs": [
    {
     "name": "stdout",
     "output_type": "stream",
     "text": [
      "[87, 100, 99]\n"
     ]
    },
    {
     "data": {
      "text/plain": [
       "list"
      ]
     },
     "execution_count": 16,
     "metadata": {},
     "output_type": "execute_result"
    }
   ],
   "source": [
    "print(nested_tup[0])\n",
    "type(nested_tup[0])"
   ]
  },
  {
   "cell_type": "code",
   "execution_count": 17,
   "metadata": {},
   "outputs": [
    {
     "name": "stdout",
     "output_type": "stream",
     "text": [
      "('ACT/365', 'ACT/360')\n"
     ]
    },
    {
     "data": {
      "text/plain": [
       "tuple"
      ]
     },
     "execution_count": 17,
     "metadata": {},
     "output_type": "execute_result"
    }
   ],
   "source": [
    "print(nested_tup[1])\n",
    "type(nested_tup[1])"
   ]
  },
  {
   "cell_type": "code",
   "execution_count": 18,
   "metadata": {},
   "outputs": [
    {
     "name": "stdout",
     "output_type": "stream",
     "text": [
      "100\n"
     ]
    },
    {
     "data": {
      "text/plain": [
       "int"
      ]
     },
     "execution_count": 18,
     "metadata": {},
     "output_type": "execute_result"
    }
   ],
   "source": [
    "print(nested_tup[2])\n",
    "type(nested_tup[2])"
   ]
  },
  {
   "cell_type": "markdown",
   "metadata": {},
   "source": [
    "In the same way as we have seen in Section [2.1. Nested Lists](#nested_list) for nested lists, you can as well access nested elements of list `l` and tuple `s` using nested-indexing of `nested_tup`:"
   ]
  },
  {
   "cell_type": "code",
   "execution_count": 19,
   "metadata": {},
   "outputs": [
    {
     "name": "stdout",
     "output_type": "stream",
     "text": [
      "87\n"
     ]
    },
    {
     "data": {
      "text/plain": [
       "int"
      ]
     },
     "execution_count": 19,
     "metadata": {},
     "output_type": "execute_result"
    }
   ],
   "source": [
    "# [0][0] is the index of the first element \n",
    "# of (list 'l' which is) the first element of the tuple 'nested_tup'\n",
    "print(nested_tup[0][0]) \n",
    "type(nested_tup[0][0])"
   ]
  },
  {
   "cell_type": "code",
   "execution_count": 20,
   "metadata": {},
   "outputs": [
    {
     "name": "stdout",
     "output_type": "stream",
     "text": [
      "99\n"
     ]
    },
    {
     "data": {
      "text/plain": [
       "int"
      ]
     },
     "execution_count": 20,
     "metadata": {},
     "output_type": "execute_result"
    }
   ],
   "source": [
    "# [0][2] is the index of the third element \n",
    "# of (list 'l' which is) the first element of the tuple 'nested_tup'\n",
    "print(nested_tup[0][2])\n",
    "type(nested_tup[0][2])"
   ]
  },
  {
   "cell_type": "code",
   "execution_count": 21,
   "metadata": {},
   "outputs": [
    {
     "name": "stdout",
     "output_type": "stream",
     "text": [
      "ACT/365\n"
     ]
    },
    {
     "data": {
      "text/plain": [
       "str"
      ]
     },
     "execution_count": 21,
     "metadata": {},
     "output_type": "execute_result"
    }
   ],
   "source": [
    "# [1][0] is the index of the first element \n",
    "# of (tuple 't' which is) the second element of the tuple 'nested_tup'\n",
    "print(nested_tup[1][0])\n",
    "type(nested_tup[1][0])"
   ]
  },
  {
   "cell_type": "code",
   "execution_count": 22,
   "metadata": {},
   "outputs": [
    {
     "name": "stdout",
     "output_type": "stream",
     "text": [
      "ACT/360\n"
     ]
    },
    {
     "data": {
      "text/plain": [
       "str"
      ]
     },
     "execution_count": 22,
     "metadata": {},
     "output_type": "execute_result"
    }
   ],
   "source": [
    "# [1][1] is the index of the second element \n",
    "# of (tuple 't' which is) the second element of the tuple 'nested_tup'\n",
    "print(nested_tup[1][1])\n",
    "type(nested_tup[1][1])"
   ]
  },
  {
   "cell_type": "markdown",
   "metadata": {},
   "source": [
    "**Warning**: in the same way as they apply to nested-indexing of lists, indexing of tuples may raise (_repetita iuvant_ ):\n",
    "\n",
    "- _out of range_ `IndexError`: if you try to refer to an index that does not correspond to any element of the data structure (or of its nested data-structures, if any)"
   ]
  },
  {
   "cell_type": "code",
   "execution_count": 23,
   "metadata": {},
   "outputs": [],
   "source": [
    "# produces: IndexError: tuple index out of range \n",
    "# because index 3 would refer to the 4th element of nested_tup, that does not exist.\n",
    "\n",
    "# nested_tup[3]   "
   ]
  },
  {
   "cell_type": "code",
   "execution_count": 24,
   "metadata": {},
   "outputs": [],
   "source": [
    "# produces: IndexError: list index out of range\n",
    "# because index 3 would refer to the 4th element of nested_tup[0] (i.e. list 'l'), that does not exist\n",
    "\n",
    "# nested_tup[0][3]"
   ]
  },
  {
   "cell_type": "code",
   "execution_count": 25,
   "metadata": {},
   "outputs": [],
   "source": [
    "# produces: IndexError: tuple index out of range\n",
    "# because index 2 would refer to the 3rd element of nested_tup[1] (i.e. tuple 't'), that does not exist\n",
    "\n",
    "# nested_tup[1][2] "
   ]
  },
  {
   "cell_type": "markdown",
   "metadata": {},
   "source": [
    "-  _object is not subscriptable_ `TypeError`: if you try to refer with an index to an element that is not indexable (like Integers, Floats,...)"
   ]
  },
  {
   "cell_type": "code",
   "execution_count": 26,
   "metadata": {},
   "outputs": [
    {
     "data": {
      "text/plain": [
       "100"
      ]
     },
     "execution_count": 26,
     "metadata": {},
     "output_type": "execute_result"
    }
   ],
   "source": [
    "nested_tup[2]"
   ]
  },
  {
   "cell_type": "code",
   "execution_count": 27,
   "metadata": {},
   "outputs": [],
   "source": [
    "# produces: TypeError: 'int' object is not subscriptable\n",
    "# because we are trying to refer to the first element of nested_tup[2] (i.e. integer 100), \n",
    "# that, in poor words, does not have any element inside and thus doesn't admit indexing.\n",
    "\n",
    "# nested_tup[2][0]"
   ]
  },
  {
   "cell_type": "markdown",
   "metadata": {},
   "source": [
    "Keeping in mind that if you need to modify a tuple, you're likely to have chosen the wrong data structure to pack together your data (why not opting for a `list` in the first place?), still for completeness let's briefly discuss what you can modify in a nested tuple. \n",
    "\n",
    "Getting back to our nested tuple, you can modify only its mutable nested elements (if any):"
   ]
  },
  {
   "cell_type": "code",
   "execution_count": 28,
   "metadata": {},
   "outputs": [
    {
     "data": {
      "text/plain": [
       "([87, 100, 99], ('ACT/365', 'ACT/360'), 100)"
      ]
     },
     "execution_count": 28,
     "metadata": {},
     "output_type": "execute_result"
    }
   ],
   "source": [
    "nested_tup"
   ]
  },
  {
   "cell_type": "code",
   "execution_count": 29,
   "metadata": {},
   "outputs": [
    {
     "data": {
      "text/plain": [
       "([87, 98, 99], ('ACT/365', 'ACT/360'), 100)"
      ]
     },
     "execution_count": 29,
     "metadata": {},
     "output_type": "execute_result"
    }
   ],
   "source": [
    "nested_tup[0][1] = 98\n",
    "nested_tup"
   ]
  },
  {
   "cell_type": "code",
   "execution_count": 30,
   "metadata": {},
   "outputs": [
    {
     "data": {
      "text/plain": [
       "([87, 98, 99, 75], ('ACT/365', 'ACT/360'), 100)"
      ]
     },
     "execution_count": 30,
     "metadata": {},
     "output_type": "execute_result"
    }
   ],
   "source": [
    "nested_tup[0].append(75)  # integer 75 is appended at the end of list [87, 98, 99]\n",
    "nested_tup"
   ]
  },
  {
   "cell_type": "markdown",
   "metadata": {},
   "source": [
    "but you cannot explicitly re-define elements of the tuple `nested_tup` because this would constrast with the immutability of the (nested) tuple itself. "
   ]
  },
  {
   "cell_type": "markdown",
   "metadata": {},
   "source": [
    "To make an example: an explicit redefinition of the element `nested_tup[0]` of `nested_tup` like this one\n",
    "```python\n",
    "nested_tup[0] = [67, 89]\n",
    "```\n",
    "would produce\n",
    "```python\n",
    "TypeError: 'tuple' object does not support item assignment\n",
    "```\n",
    "If you find strange that you can change values of the tuple's element `nested_tup[0]` or even adding values to it, as above, but you cannot re-define it as a whole... well, I'm with you. Let's go ahead, you can live with this :)"
   ]
  },
  {
   "cell_type": "markdown",
   "metadata": {},
   "source": [
    "# 2. Lists <a name=\"list\"></a>"
   ]
  },
  {
   "cell_type": "markdown",
   "metadata": {},
   "source": [
    "[Lists](https://docs.python.org/3.7/tutorial/introduction.html#lists) consists of a number of values - in general, of heterogeneous data-type - packed together in a mutable sequence and separated by commas between square brackets. "
   ]
  },
  {
   "cell_type": "markdown",
   "metadata": {},
   "source": [
    "Lists are very versatile data structures, since they offer flexibility (since they are mutable) and feature several built-in methods that can speed up coding. "
   ]
  },
  {
   "cell_type": "markdown",
   "metadata": {},
   "source": [
    "Lists are defined with square brackets `[]` surrounding the `,`-separated sequence."
   ]
  },
  {
   "cell_type": "code",
   "execution_count": 31,
   "metadata": {},
   "outputs": [
    {
     "name": "stdout",
     "output_type": "stream",
     "text": [
      "[1, 0.35, 'GBP']\n"
     ]
    },
    {
     "data": {
      "text/plain": [
       "list"
      ]
     },
     "execution_count": 31,
     "metadata": {},
     "output_type": "execute_result"
    }
   ],
   "source": [
    "lis = [1, 0.35, \"GBP\"]\n",
    "\n",
    "print(lis)\n",
    "type(lis)"
   ]
  },
  {
   "cell_type": "markdown",
   "metadata": {},
   "source": [
    "The number of elements is easily retrieved by the `len()` function:"
   ]
  },
  {
   "cell_type": "code",
   "execution_count": 32,
   "metadata": {},
   "outputs": [
    {
     "data": {
      "text/plain": [
       "3"
      ]
     },
     "execution_count": 32,
     "metadata": {},
     "output_type": "execute_result"
    }
   ],
   "source": [
    "len(lis)"
   ]
  },
  {
   "cell_type": "markdown",
   "metadata": {},
   "source": [
    "Lists share a lot of properties with other sequence-like data-structures. In particular, they share _zero-based_ indexing and slicing with Strings and Tuples."
   ]
  },
  {
   "cell_type": "code",
   "execution_count": 33,
   "metadata": {},
   "outputs": [
    {
     "name": "stdout",
     "output_type": "stream",
     "text": [
      "1\n"
     ]
    },
    {
     "data": {
      "text/plain": [
       "int"
      ]
     },
     "execution_count": 33,
     "metadata": {},
     "output_type": "execute_result"
    }
   ],
   "source": [
    "# 0 is the index of the first element of the list\n",
    "print(lis[0])\n",
    "type(lis[0])"
   ]
  },
  {
   "cell_type": "code",
   "execution_count": 34,
   "metadata": {},
   "outputs": [
    {
     "name": "stdout",
     "output_type": "stream",
     "text": [
      "GBP\n"
     ]
    },
    {
     "data": {
      "text/plain": [
       "str"
      ]
     },
     "execution_count": 34,
     "metadata": {},
     "output_type": "execute_result"
    }
   ],
   "source": [
    "# -1 is the index of the last element of the list\n",
    "print(lis[-1])\n",
    "type(lis[-1])"
   ]
  },
  {
   "cell_type": "markdown",
   "metadata": {},
   "source": [
    "Here is how to slice a list (yes, always the same way):"
   ]
  },
  {
   "cell_type": "code",
   "execution_count": 35,
   "metadata": {},
   "outputs": [
    {
     "name": "stdout",
     "output_type": "stream",
     "text": [
      "[1, 0.35]\n"
     ]
    },
    {
     "data": {
      "text/plain": [
       "list"
      ]
     },
     "execution_count": 35,
     "metadata": {},
     "output_type": "execute_result"
    }
   ],
   "source": [
    "lis_slice = lis[0:2] # elements from position 0 (included) to 2 (excluded)\n",
    "\n",
    "print(lis_slice)\n",
    "type(lis_slice)"
   ]
  },
  {
   "cell_type": "code",
   "execution_count": 36,
   "metadata": {},
   "outputs": [
    {
     "data": {
      "text/plain": [
       "['GBP']"
      ]
     },
     "execution_count": 36,
     "metadata": {},
     "output_type": "execute_result"
    }
   ],
   "source": [
    "lis[2:5] # elements from position 2 (included) to 5 (excluded)"
   ]
  },
  {
   "cell_type": "code",
   "execution_count": 37,
   "metadata": {},
   "outputs": [
    {
     "data": {
      "text/plain": [
       "[1, 0.35]"
      ]
     },
     "execution_count": 37,
     "metadata": {},
     "output_type": "execute_result"
    }
   ],
   "source": [
    "lis[:2]   # elements from the beginning to position 2 (excluded) --- equivalent to lis[0:2]"
   ]
  },
  {
   "cell_type": "code",
   "execution_count": 38,
   "metadata": {},
   "outputs": [
    {
     "data": {
      "text/plain": [
       "[0.35, 'GBP']"
      ]
     },
     "execution_count": 38,
     "metadata": {},
     "output_type": "execute_result"
    }
   ],
   "source": [
    "lis[-2:]  # elements from the second-last (included) to the end"
   ]
  },
  {
   "cell_type": "markdown",
   "metadata": {},
   "source": [
    "Differently from strings and tuples, lists are _mutable_ objects."
   ]
  },
  {
   "cell_type": "code",
   "execution_count": 39,
   "metadata": {},
   "outputs": [
    {
     "data": {
      "text/plain": [
       "[17, 0.35, 'GBP']"
      ]
     },
     "execution_count": 39,
     "metadata": {},
     "output_type": "execute_result"
    }
   ],
   "source": [
    "lis[0] = 17\n",
    "lis"
   ]
  },
  {
   "cell_type": "markdown",
   "metadata": {},
   "source": [
    "For details on built-in methods see [5.1. More on Lists](https://docs.python.org/3.7/tutorial/datastructures.html#more-on-lists) of the Python tutorial. In particular, two particularly useful built-in methods are worth of mention:\n",
    "- `list.append(x)`: which appends element `x` to the end of the list, extending it"
   ]
  },
  {
   "cell_type": "code",
   "execution_count": 40,
   "metadata": {},
   "outputs": [
    {
     "data": {
      "text/plain": [
       "[17, 0.35, 'GBP', 'EUR']"
      ]
     },
     "execution_count": 40,
     "metadata": {},
     "output_type": "execute_result"
    }
   ],
   "source": [
    "lis.append('EUR')\n",
    "lis"
   ]
  },
  {
   "cell_type": "markdown",
   "metadata": {},
   "source": [
    "- `list.sort()`: that sorts in ascending order a list."
   ]
  },
  {
   "cell_type": "markdown",
   "metadata": {},
   "source": [
    "Notice that the list to be sorted must have elements of homogenous data-type, otherwise the interpreter will complain, as in this case:\n",
    "\n",
    "```python\n",
    "TypeError: '<' not supported between instances of 'str' and 'float'\n",
    "```"
   ]
  },
  {
   "cell_type": "code",
   "execution_count": 41,
   "metadata": {},
   "outputs": [],
   "source": [
    "# lis.sort()"
   ]
  },
  {
   "cell_type": "markdown",
   "metadata": {},
   "source": [
    "but, for our list `lis`, the sorting will work if we define a new string as the `[17, 0.35]` slice of the original one"
   ]
  },
  {
   "cell_type": "code",
   "execution_count": 42,
   "metadata": {},
   "outputs": [
    {
     "data": {
      "text/plain": [
       "[0.35, 17]"
      ]
     },
     "execution_count": 42,
     "metadata": {},
     "output_type": "execute_result"
    }
   ],
   "source": [
    "lis_slice = lis[:2]  # [17, 0.35] slice\n",
    "lis_slice.sort()\n",
    "lis_slice"
   ]
  },
  {
   "cell_type": "markdown",
   "metadata": {},
   "source": [
    "## 2.1. Nested Lists <a name=\"nested_list\"></a>"
   ]
  },
  {
   "cell_type": "markdown",
   "metadata": {},
   "source": [
    "Lists can nest other data structures, both _mutable_ objects (such as other lists) and/or _immutable_ objects (such as tuples)."
   ]
  },
  {
   "cell_type": "code",
   "execution_count": 43,
   "metadata": {},
   "outputs": [
    {
     "name": "stdout",
     "output_type": "stream",
     "text": [
      "[[87, 100, 99], ('ACT/365', 'ACT/360'), 100]\n"
     ]
    },
    {
     "data": {
      "text/plain": [
       "list"
      ]
     },
     "execution_count": 43,
     "metadata": {},
     "output_type": "execute_result"
    }
   ],
   "source": [
    "l = [87, 100, 99]          # a list\n",
    "t = (\"ACT/365\", \"ACT/360\") # a tuple\n",
    "\n",
    "nested_lis = [l, t, 100]\n",
    "\n",
    "print(nested_lis)\n",
    "type(nested_lis)"
   ]
  },
  {
   "cell_type": "markdown",
   "metadata": {},
   "source": [
    "As we have seen, elements of `nested_lis` can be accessed through indexing:"
   ]
  },
  {
   "cell_type": "code",
   "execution_count": 44,
   "metadata": {},
   "outputs": [
    {
     "name": "stdout",
     "output_type": "stream",
     "text": [
      "[87, 100, 99]\n"
     ]
    },
    {
     "data": {
      "text/plain": [
       "list"
      ]
     },
     "execution_count": 44,
     "metadata": {},
     "output_type": "execute_result"
    }
   ],
   "source": [
    "print(nested_lis[0])\n",
    "type(nested_lis[0])"
   ]
  },
  {
   "cell_type": "code",
   "execution_count": 45,
   "metadata": {},
   "outputs": [
    {
     "name": "stdout",
     "output_type": "stream",
     "text": [
      "('ACT/365', 'ACT/360')\n"
     ]
    },
    {
     "data": {
      "text/plain": [
       "tuple"
      ]
     },
     "execution_count": 45,
     "metadata": {},
     "output_type": "execute_result"
    }
   ],
   "source": [
    "print(nested_lis[1])\n",
    "type(nested_lis[1])"
   ]
  },
  {
   "cell_type": "code",
   "execution_count": 46,
   "metadata": {},
   "outputs": [
    {
     "name": "stdout",
     "output_type": "stream",
     "text": [
      "100\n"
     ]
    },
    {
     "data": {
      "text/plain": [
       "int"
      ]
     },
     "execution_count": 46,
     "metadata": {},
     "output_type": "execute_result"
    }
   ],
   "source": [
    "print(nested_lis[2])\n",
    "type(nested_lis[2])"
   ]
  },
  {
   "cell_type": "markdown",
   "metadata": {},
   "source": [
    "You can as well access elements of list `l` and tuple `s` using a nested-indexing of `nested_lis`:"
   ]
  },
  {
   "cell_type": "code",
   "execution_count": 47,
   "metadata": {},
   "outputs": [
    {
     "name": "stdout",
     "output_type": "stream",
     "text": [
      "87\n"
     ]
    },
    {
     "data": {
      "text/plain": [
       "int"
      ]
     },
     "execution_count": 47,
     "metadata": {},
     "output_type": "execute_result"
    }
   ],
   "source": [
    "# [0][0] is the index of the first element \n",
    "# of (list 'l' which is) the first element of the list 'nested_lis'\n",
    "print(nested_lis[0][0]) \n",
    "type(nested_lis[0][0])"
   ]
  },
  {
   "cell_type": "code",
   "execution_count": 48,
   "metadata": {},
   "outputs": [
    {
     "name": "stdout",
     "output_type": "stream",
     "text": [
      "99\n"
     ]
    },
    {
     "data": {
      "text/plain": [
       "int"
      ]
     },
     "execution_count": 48,
     "metadata": {},
     "output_type": "execute_result"
    }
   ],
   "source": [
    "# [0][2] is the index of the third element \n",
    "# of (list 'l' which is) the first element of the list 'nested_lis'\n",
    "print(nested_lis[0][2])\n",
    "type(nested_lis[0][2])"
   ]
  },
  {
   "cell_type": "code",
   "execution_count": 49,
   "metadata": {},
   "outputs": [
    {
     "name": "stdout",
     "output_type": "stream",
     "text": [
      "ACT/365\n"
     ]
    },
    {
     "data": {
      "text/plain": [
       "str"
      ]
     },
     "execution_count": 49,
     "metadata": {},
     "output_type": "execute_result"
    }
   ],
   "source": [
    "# [1][0] is the index of the first element \n",
    "# of (list 't' which is) the second element of the list 'nested_lis'\n",
    "print(nested_lis[1][0])\n",
    "type(nested_lis[1][0])"
   ]
  },
  {
   "cell_type": "code",
   "execution_count": 50,
   "metadata": {},
   "outputs": [
    {
     "name": "stdout",
     "output_type": "stream",
     "text": [
      "ACT/360\n"
     ]
    },
    {
     "data": {
      "text/plain": [
       "str"
      ]
     },
     "execution_count": 50,
     "metadata": {},
     "output_type": "execute_result"
    }
   ],
   "source": [
    "# [1][1] is the index of the second element \n",
    "# of (tuple 't' which is) the second element of the list 'nested_lis'\n",
    "print(nested_lis[1][1])\n",
    "type(nested_lis[1][1])"
   ]
  },
  {
   "cell_type": "markdown",
   "metadata": {},
   "source": [
    "Ok you have understood how it works... This is actually a general rule, that applies to all the sequence-like data structures: Tuples (`tuple`), Lists (`list`) but also Numpy arrays (`numpy.ndarray`) that will be introduced in a future notebook."
   ]
  },
  {
   "cell_type": "markdown",
   "metadata": {},
   "source": [
    "If a sequence-like data structure, say `seq`, has nested sequence-like elements, then\n",
    "\n",
    "```python\n",
    "seq[i][j]\n",
    "```\n",
    "\n",
    "is the element of index `j` of the element of index `i`, `seq[i]`, of `seq`. That is, `seq[i][j]` is the $(j+1)$-th element of the $(i+1)$-th element, `seq[i]`, of `seq`."
   ]
  },
  {
   "cell_type": "markdown",
   "metadata": {},
   "source": [
    "**Warning**: nested-indexing of lists may raise:\n",
    "\n",
    "- _out of range_ `IndexError`: if you try to refer to an index that does not correspond to any element of the data structure (or of its nested data-structures, if any)"
   ]
  },
  {
   "cell_type": "code",
   "execution_count": 51,
   "metadata": {},
   "outputs": [],
   "source": [
    "# produces: IndexError: list index out of range \n",
    "# because index 3 would refer to the 4th element of nested_lis, that does not exist.\n",
    "\n",
    "# nested_lis[3]   "
   ]
  },
  {
   "cell_type": "code",
   "execution_count": 52,
   "metadata": {},
   "outputs": [],
   "source": [
    "# produces: IndexError: list index out of range\n",
    "# because index 3 would refer to the 4th element of nested_lis[0] (i.e. list 'l'), that does not exist\n",
    "\n",
    "# nested_lis[0][3]"
   ]
  },
  {
   "cell_type": "code",
   "execution_count": 53,
   "metadata": {},
   "outputs": [],
   "source": [
    "# produces: IndexError: tuple index out of range\n",
    "# because index 2 would refer to the 3rd element of nested_lis[1] (i.e. tuple 't'), that does not exist\n",
    "\n",
    "# nested_lis[1][2] "
   ]
  },
  {
   "cell_type": "markdown",
   "metadata": {},
   "source": [
    "- _object is not subscriptable_ `TypeError`: if you try to refer with an index to an element that is not indexable (like Integers, Floats,...)"
   ]
  },
  {
   "cell_type": "code",
   "execution_count": 54,
   "metadata": {},
   "outputs": [
    {
     "data": {
      "text/plain": [
       "100"
      ]
     },
     "execution_count": 54,
     "metadata": {},
     "output_type": "execute_result"
    }
   ],
   "source": [
    "nested_lis[2]"
   ]
  },
  {
   "cell_type": "code",
   "execution_count": 55,
   "metadata": {},
   "outputs": [],
   "source": [
    "# produces: TypeError: 'int' object is not subscriptable\n",
    "# because we are trying to refer to the first element of nested_lis[2] (i.e. integer 100), \n",
    "# that, in poor words, does not have any element inside and thus doesn't admit indexing.\n",
    "\n",
    "# nested_lis[2][0]"
   ]
  },
  {
   "cell_type": "markdown",
   "metadata": {},
   "source": [
    "## 2.2. Modify Lists <a name=\"modify_list\"></a>"
   ]
  },
  {
   "cell_type": "markdown",
   "metadata": {},
   "source": [
    "Being a mutable object, you can modify both mutable and immutable (tuples) objects of a nested list, but of course you cannot change elements inside a nested immutable object (e.g. a tuple inside the list)."
   ]
  },
  {
   "cell_type": "markdown",
   "metadata": {},
   "source": [
    "An example: let's suppose you want to change the first day count convention from \"ACT/365\" to \"ACT/360\""
   ]
  },
  {
   "cell_type": "code",
   "execution_count": 56,
   "metadata": {},
   "outputs": [
    {
     "data": {
      "text/plain": [
       "[[87, 100, 99], ('ACT/365', 'ACT/360'), 100]"
      ]
     },
     "execution_count": 56,
     "metadata": {},
     "output_type": "execute_result"
    }
   ],
   "source": [
    "nested_lis"
   ]
  },
  {
   "cell_type": "markdown",
   "metadata": {},
   "source": [
    "you cannot explicitly modify the element \"ACT/365\" of the tuple\n",
    "```python\n",
    " (\"ACT/365\", \"ACT/360\")\n",
    "```\n",
    "because this would result in a \n",
    "```python\n",
    "TypeError: 'tuple' object does not support item assignment\n",
    "```"
   ]
  },
  {
   "cell_type": "code",
   "execution_count": 57,
   "metadata": {},
   "outputs": [],
   "source": [
    "# nested_lis[1][0] = \"ACT/360\""
   ]
  },
  {
   "cell_type": "markdown",
   "metadata": {},
   "source": [
    "but you could directly re-define the whole tuple `nested_lis[1]` as it is an element of the `nested_lis` list, which is a mutable object."
   ]
  },
  {
   "cell_type": "code",
   "execution_count": 58,
   "metadata": {},
   "outputs": [
    {
     "data": {
      "text/plain": [
       "[[87, 100, 99], ('ACT/360', 'ACT/360'), 100]"
      ]
     },
     "execution_count": 58,
     "metadata": {},
     "output_type": "execute_result"
    }
   ],
   "source": [
    "nested_lis[1] = (\"ACT/360\", \"ACT/360\")\n",
    "nested_lis"
   ]
  },
  {
   "cell_type": "markdown",
   "metadata": {},
   "source": [
    "Other - mutable - elements can be modified as you want: "
   ]
  },
  {
   "cell_type": "code",
   "execution_count": 59,
   "metadata": {},
   "outputs": [
    {
     "data": {
      "text/plain": [
       "[[87, 98, 99], ('ACT/360', 'ACT/360'), 100]"
      ]
     },
     "execution_count": 59,
     "metadata": {},
     "output_type": "execute_result"
    }
   ],
   "source": [
    "nested_lis[0][1] = 98\n",
    "nested_lis"
   ]
  },
  {
   "cell_type": "code",
   "execution_count": 60,
   "metadata": {},
   "outputs": [
    {
     "data": {
      "text/plain": [
       "([87, 98, 99, 75, 75], ('ACT/365', 'ACT/360'), 100)"
      ]
     },
     "execution_count": 60,
     "metadata": {},
     "output_type": "execute_result"
    }
   ],
   "source": [
    "nested_tup[0].append(75)  # integer 75 is appended at the end of list [87, 98, 99]\n",
    "nested_tup"
   ]
  },
  {
   "cell_type": "code",
   "execution_count": 61,
   "metadata": {},
   "outputs": [
    {
     "data": {
      "text/plain": [
       "[[87, 98, 99], ('ACT/360', 'ACT/360'), 90]"
      ]
     },
     "execution_count": 61,
     "metadata": {},
     "output_type": "execute_result"
    }
   ],
   "source": [
    "nested_lis[2] -= 10 # x -= 1 is a short-cut for x = x-1. Other are +=, *= and /=\n",
    "nested_lis"
   ]
  },
  {
   "cell_type": "markdown",
   "metadata": {},
   "source": [
    "## 2.1. for loop <a name=\"for\"></a>"
   ]
  },
  {
   "cell_type": "markdown",
   "metadata": {},
   "source": [
    "A [`for` loop](https://docs.python.org/3.7/tutorial/controlflow.html#for-statements) in Python is declared as follows:\n",
    "```python\n",
    "for variable in sequence:\n",
    "    statement(s) possibly using variable\n",
    "```\n",
    "A `sequence` can be a Python `list`, a Numpy `numpy.ndarray` or other sequence-like data structures. The Python interpreter _loops_ from one element to the next one of the `sequence` assigning each time that element to the `variable`. With this value of `variable`, the `statement(s)` are executed. The loop ends when all the elements of the sequence have been considered."
   ]
  },
  {
   "cell_type": "markdown",
   "metadata": {},
   "source": [
    "To make an example, we can print elements of a list:"
   ]
  },
  {
   "cell_type": "code",
   "execution_count": 62,
   "metadata": {},
   "outputs": [
    {
     "name": "stdout",
     "output_type": "stream",
     "text": [
      "10\n",
      "20\n",
      "30\n"
     ]
    }
   ],
   "source": [
    "x = [10, 20, 30]\n",
    "\n",
    "for xi in x:\n",
    "    print(xi)"
   ]
  },
  {
   "cell_type": "markdown",
   "metadata": {},
   "source": [
    "Notice how this `for` loop is not _counter-based,_ that is is the Python interpreter that loops into the sequence, returning us the current element of the sequence at each iteration."
   ]
  },
  {
   "cell_type": "markdown",
   "metadata": {},
   "source": [
    "#### Counter-based looping and `range()` function"
   ]
  },
  {
   "cell_type": "markdown",
   "metadata": {},
   "source": [
    "In some occasions it could be good to loop over a sequence being able to access to its elements through their indexes. \n",
    "This can be achieved using the [`range()` function](https://docs.python.org/3.7/tutorial/controlflow.html#the-range-function) which generates a sequence of numbers as an object of the (strange) type `range`."
   ]
  },
  {
   "cell_type": "code",
   "execution_count": 63,
   "metadata": {},
   "outputs": [
    {
     "name": "stdout",
     "output_type": "stream",
     "text": [
      "range(0, 10)\n"
     ]
    },
    {
     "data": {
      "text/plain": [
       "range"
      ]
     },
     "execution_count": 63,
     "metadata": {},
     "output_type": "execute_result"
    }
   ],
   "source": [
    "x  = range(10)\n",
    "\n",
    "print(x)\n",
    "type(x)"
   ]
  },
  {
   "cell_type": "markdown",
   "metadata": {},
   "source": [
    "`range()` is mostly used in `for` loops as follows:"
   ]
  },
  {
   "cell_type": "code",
   "execution_count": 64,
   "metadata": {},
   "outputs": [
    {
     "name": "stdout",
     "output_type": "stream",
     "text": [
      "0\n",
      "1\n",
      "2\n",
      "3\n",
      "4\n"
     ]
    }
   ],
   "source": [
    "# a loop over the first 5 numbers from zero\n",
    "for i in range(5):\n",
    "    print(i)"
   ]
  },
  {
   "cell_type": "code",
   "execution_count": 65,
   "metadata": {},
   "outputs": [
    {
     "name": "stdout",
     "output_type": "stream",
     "text": [
      "1\n",
      "2\n",
      "3\n",
      "4\n",
      "5\n",
      "6\n",
      "7\n",
      "8\n",
      "9\n"
     ]
    }
   ],
   "source": [
    "# a loop over numbers from 1 to 9\n",
    "for i in range(1,10):\n",
    "    print(i)"
   ]
  },
  {
   "cell_type": "markdown",
   "metadata": {},
   "source": [
    "But it can be used also to loop over a list, accessing its indexes:"
   ]
  },
  {
   "cell_type": "code",
   "execution_count": 66,
   "metadata": {},
   "outputs": [
    {
     "name": "stdout",
     "output_type": "stream",
     "text": [
      "0\n",
      "1\n",
      "2\n",
      "3\n",
      "4\n",
      "5\n",
      "6\n",
      "7\n",
      "8\n",
      "9\n"
     ]
    }
   ],
   "source": [
    "# a loop over the elements of list `lis`\n",
    "for i in range(len(x)):\n",
    "    print(x[i])"
   ]
  },
  {
   "cell_type": "markdown",
   "metadata": {},
   "source": [
    "where we have used the fact that `range(len(x))` returns numbers from `0` to `len(x)-1`, which are first and last indexes of list `x`."
   ]
  },
  {
   "cell_type": "markdown",
   "metadata": {},
   "source": [
    "**Example**: let's get back to our Fibonacci numbers (see Sec. 3.1 while loop of [Basics_I___Data_Types.ipynb](https://github.com/gabrielepompa88/IT-For-Business-And-Finance-2019-20/blob/master/Notebooks/Basics_I___Data_Types.ipynb) for a refresh) and let's suppose we want to compute the $n$-th number $F_n$ "
   ]
  },
  {
   "cell_type": "code",
   "execution_count": 67,
   "metadata": {},
   "outputs": [],
   "source": [
    "def fib_nth(n):\n",
    "    \"\"\"\n",
    "    This function computes the n-th Fibonacci number using inline assignments.\n",
    "    \n",
    "    Parameters:\n",
    "        n (int): which number to compute.\n",
    "    \n",
    "    Returns:\n",
    "        F_n2 (int): n-th Fibonacci number.\n",
    "    \"\"\"\n",
    "    \n",
    "    if n < 2:\n",
    "        return n\n",
    "    \n",
    "    # inline initialization\n",
    "    F_n2, F_n1 = 0, 1 # F_{n-2}, F_{n-1}\n",
    "\n",
    "    \n",
    "    for k in range(n-1):\n",
    "\n",
    "        # uncomment this line below if you want to print to screen the current number\n",
    "        # print(F_n2)\n",
    "\n",
    "        # inline update of the last two numbers\n",
    "        F_n2, F_n1 = F_n1, F_n1 + F_n2\n",
    "    \n",
    "    return F_n2"
   ]
  },
  {
   "cell_type": "code",
   "execution_count": 68,
   "metadata": {},
   "outputs": [
    {
     "data": {
      "text/plain": [
       "34"
      ]
     },
     "execution_count": 68,
     "metadata": {},
     "output_type": "execute_result"
    }
   ],
   "source": [
    "N = 10\n",
    "\n",
    "fib_nth(N)"
   ]
  },
  {
   "cell_type": "markdown",
   "metadata": {},
   "source": [
    "#### List comprehension"
   ]
  },
  {
   "cell_type": "markdown",
   "metadata": {},
   "source": [
    "Let's suppose we want to create a list of the squares of the first `n` numbers: 0, 1, 4, 9,.... We could do this way with a `for` loop"
   ]
  },
  {
   "cell_type": "code",
   "execution_count": 69,
   "metadata": {},
   "outputs": [],
   "source": [
    "def create_squares_list(n):\n",
    "    \n",
    "    lis = []  # an empty list\n",
    "\n",
    "    for i in range(n):\n",
    "        lis += [i**2]  # equivalent to lis.append(i**2)\n",
    "    \n",
    "    return lis"
   ]
  },
  {
   "cell_type": "code",
   "execution_count": 70,
   "metadata": {},
   "outputs": [],
   "source": [
    "n = 10"
   ]
  },
  {
   "cell_type": "code",
   "execution_count": 71,
   "metadata": {},
   "outputs": [
    {
     "data": {
      "text/plain": [
       "[0, 1, 4, 9, 16, 25, 36, 49, 64, 81]"
      ]
     },
     "execution_count": 71,
     "metadata": {},
     "output_type": "execute_result"
    }
   ],
   "source": [
    "x = create_squares_list(n)\n",
    "x"
   ]
  },
  {
   "cell_type": "markdown",
   "metadata": {},
   "source": [
    "Timing the code"
   ]
  },
  {
   "cell_type": "code",
   "execution_count": 72,
   "metadata": {},
   "outputs": [
    {
     "name": "stdout",
     "output_type": "stream",
     "text": [
      "4 µs ± 423 ns per loop (mean ± std. dev. of 7 runs, 100000 loops each)\n"
     ]
    }
   ],
   "source": [
    "%timeit create_squares_list(n)"
   ]
  },
  {
   "cell_type": "markdown",
   "metadata": {},
   "source": [
    "Alternatively we can create a list through a list comprehension feature (see sectio [5.1.3. List Comprehensions](https://docs.python.org/3.7/tutorial/datastructures.html#list-comprehensions)), which is an elegant and fast way to generate lists:"
   ]
  },
  {
   "cell_type": "code",
   "execution_count": 73,
   "metadata": {},
   "outputs": [
    {
     "data": {
      "text/plain": [
       "[0, 1, 4, 9, 16, 25, 36, 49, 64, 81]"
      ]
     },
     "execution_count": 73,
     "metadata": {},
     "output_type": "execute_result"
    }
   ],
   "source": [
    "x = [i**2 for i in range(n)]\n",
    "x"
   ]
  },
  {
   "cell_type": "markdown",
   "metadata": {},
   "source": [
    "as you can see, the result is the same. For small dimensions like `n=10`, also the time is comparable"
   ]
  },
  {
   "cell_type": "code",
   "execution_count": 74,
   "metadata": {},
   "outputs": [
    {
     "name": "stdout",
     "output_type": "stream",
     "text": [
      "3.12 µs ± 32.5 ns per loop (mean ± std. dev. of 7 runs, 100000 loops each)\n"
     ]
    }
   ],
   "source": [
    "%timeit [i**2 for i in range(n)]"
   ]
  },
  {
   "cell_type": "markdown",
   "metadata": {},
   "source": [
    "but let's see what happen for bigger dimensions:"
   ]
  },
  {
   "cell_type": "code",
   "execution_count": 75,
   "metadata": {},
   "outputs": [
    {
     "data": {
      "text/plain": [
       "1000000"
      ]
     },
     "execution_count": 75,
     "metadata": {},
     "output_type": "execute_result"
    }
   ],
   "source": [
    "n = int(1e6)\n",
    "n"
   ]
  },
  {
   "cell_type": "code",
   "execution_count": 76,
   "metadata": {},
   "outputs": [
    {
     "name": "stdout",
     "output_type": "stream",
     "text": [
      "382 ms ± 4.74 ms per loop (mean ± std. dev. of 7 runs, 1 loop each)\n"
     ]
    }
   ],
   "source": [
    "%timeit create_squares_list(n)"
   ]
  },
  {
   "cell_type": "code",
   "execution_count": 77,
   "metadata": {},
   "outputs": [
    {
     "name": "stdout",
     "output_type": "stream",
     "text": [
      "326 ms ± 2.91 ms per loop (mean ± std. dev. of 7 runs, 1 loop each)\n"
     ]
    }
   ],
   "source": [
    "%timeit [i**2 for i in range(n)]"
   ]
  },
  {
   "cell_type": "markdown",
   "metadata": {},
   "source": [
    "For such an easy definition (we are only computing squares) the improvement is marginal, but for more complex list definitions, the speed-improvement can be significant. Plus, what the entire `create_squares_list(n)` does has been replaced by the one-line of code `[i**2 for i in range(n)]`. Nice, isn't it?"
   ]
  },
  {
   "cell_type": "markdown",
   "metadata": {},
   "source": [
    "#### Enumerated looping"
   ]
  },
  {
   "cell_type": "markdown",
   "metadata": {},
   "source": [
    "There is one more way to loop over a list, which allows us to access both indexes and values of a sequence. It's the built-in function [ernumerate()](https://docs.python.org/3.7/library/functions.html?highlight=enumerate#enumerate).  "
   ]
  },
  {
   "cell_type": "code",
   "execution_count": 78,
   "metadata": {},
   "outputs": [
    {
     "name": "stdout",
     "output_type": "stream",
     "text": [
      "index i=0; value xi=10\n",
      "index i=1; value xi=20\n",
      "index i=2; value xi=30\n"
     ]
    }
   ],
   "source": [
    "x = [10, 20, 30]\n",
    "\n",
    "for i, xi in enumerate(x):\n",
    "    print(\"index i={}; value xi={}\".format(i, xi))  # xi is equivalent to do x[i]"
   ]
  },
  {
   "cell_type": "markdown",
   "metadata": {},
   "source": [
    "# 3. Dicts <a name=\"dict\"></a>"
   ]
  },
  {
   "cell_type": "markdown",
   "metadata": {},
   "source": [
    "[Dicts](https://docs.python.org/3.7/tutorial/datastructures.html#dictionaries) consists of collection of _key: value_ pairs where _keys_ are a _unique_ set of any immutable data-type."
   ]
  },
  {
   "cell_type": "markdown",
   "metadata": {},
   "source": [
    "Dictionaries are very good to implement mapping-tables or any kind of logic association between a given set of unique indexers (the keys) and data (the values). "
   ]
  },
  {
   "cell_type": "markdown",
   "metadata": {},
   "source": [
    "Dicts are defined with curly brackets `{}` surrounding the `,`-separated list of `key: value` pairs."
   ]
  },
  {
   "cell_type": "code",
   "execution_count": 107,
   "metadata": {},
   "outputs": [
    {
     "data": {
      "text/plain": [
       "{'AAA': 5, 'A+': 20, 'BBB': 50, 'D': 100}"
      ]
     },
     "execution_count": 107,
     "metadata": {},
     "output_type": "execute_result"
    }
   ],
   "source": [
    "d = {\n",
    "    \"AAA\": 5,\n",
    "    \"A+\": 20,\n",
    "    \"BBB\": 50,\n",
    "    \"D\": 100\n",
    "}\n",
    "\n",
    "d"
   ]
  },
  {
   "cell_type": "markdown",
   "metadata": {},
   "source": [
    "So, differently from lists, that are indexed by a range of numbers, dictionaries are indexed by (unique) keys."
   ]
  },
  {
   "cell_type": "markdown",
   "metadata": {},
   "source": [
    "Notice that keys must be of immutable data-type: so ok `str`, `int`, `float`... but not `list` (because they can be modified in place)"
   ]
  },
  {
   "cell_type": "code",
   "execution_count": 87,
   "metadata": {},
   "outputs": [
    {
     "data": {
      "text/plain": [
       "{10: 1, 20: 2, 30: 3}"
      ]
     },
     "execution_count": 87,
     "metadata": {},
     "output_type": "execute_result"
    }
   ],
   "source": [
    "d1 = {\n",
    "    10: 1,\n",
    "    20: 2,\n",
    "    30: 3\n",
    "}\n",
    "\n",
    "d1"
   ]
  },
  {
   "cell_type": "markdown",
   "metadata": {},
   "source": [
    "If you try to use lists as keys of a dictionary you get\n",
    "```python\n",
    "TypeError: unhashable type: 'list'\n",
    "```"
   ]
  },
  {
   "cell_type": "code",
   "execution_count": 106,
   "metadata": {},
   "outputs": [],
   "source": [
    "# d2 = {\n",
    "#     [\"AAA\"]: 5,\n",
    "#     ['A+']: 20, \n",
    "#     ['BBB']: 50, \n",
    "#     ['D']: 100\n",
    "# }"
   ]
  },
  {
   "cell_type": "markdown",
   "metadata": {},
   "source": [
    "Another difference from lists is that dicts are not ordered (don't have memory of the order in which the list of key: value pairs has been inputed) and, in general, cannot be sorted. In particular, there is not such indexing like `dictName[0]`, `dictName[1]`, or so, simply because there is no guarantee that the first pair that we put in input is actually stored in the first position (whatever _first-position_ could mean) and that could be retrieved accordingly."
   ]
  },
  {
   "cell_type": "markdown",
   "metadata": {},
   "source": [
    "Indexing in dictionaries is implemented through their keys. Once you know the key, you can retrieve the corresponding value as `dictName[key]`. Like this:"
   ]
  },
  {
   "cell_type": "code",
   "execution_count": 97,
   "metadata": {},
   "outputs": [
    {
     "data": {
      "text/plain": [
       "5"
      ]
     },
     "execution_count": 97,
     "metadata": {},
     "output_type": "execute_result"
    }
   ],
   "source": [
    "d[\"AAA\"]"
   ]
  },
  {
   "cell_type": "markdown",
   "metadata": {},
   "source": [
    "Once we have a dict, representing a map key-to-value, we typically want to look whether a key is in the dictionary:"
   ]
  },
  {
   "cell_type": "code",
   "execution_count": 92,
   "metadata": {},
   "outputs": [
    {
     "name": "stdout",
     "output_type": "stream",
     "text": [
      "key AAA found\n",
      "key AA not found\n",
      "key B+ not found\n",
      "key D found\n"
     ]
    }
   ],
   "source": [
    "key_list = [\"AAA\", \"AA\", \"B+\", \"D\"]\n",
    "\n",
    "for key in key_list:\n",
    "    if key in d:\n",
    "        print(\"key {} found\".format(key))\n",
    "    else:\n",
    "        print(\"key {} not found\".format(key))"
   ]
  },
  {
   "cell_type": "markdown",
   "metadata": {},
   "source": [
    "Notice that if you try to access a dictionary with a key it does not have, you are going to receive a `KeyError` simply stating that that key is not part of the dictionary's keys."
   ]
  },
  {
   "cell_type": "code",
   "execution_count": 109,
   "metadata": {},
   "outputs": [],
   "source": [
    "# d[\"B+\"]"
   ]
  },
  {
   "cell_type": "markdown",
   "metadata": {},
   "source": [
    "If you want to change a value corresponding to a given key, you just assign to it a new value: `dictName[key] = newValue`"
   ]
  },
  {
   "cell_type": "code",
   "execution_count": 100,
   "metadata": {},
   "outputs": [
    {
     "data": {
      "text/plain": [
       "{'AAA': 1, 'A+': 20, 'BBB': 50, 'D': 100}"
      ]
     },
     "execution_count": 100,
     "metadata": {},
     "output_type": "execute_result"
    }
   ],
   "source": [
    "d[\"AAA\"] = 1\n",
    "d"
   ]
  },
  {
   "cell_type": "markdown",
   "metadata": {},
   "source": [
    "Some useful methods:\n",
    "- `dict.keys()` returns a sequence of dict keys;\n",
    "- `dict.values()` returns a sequence of dict values;\n",
    "- `dict.items()` returns a sequence of key: value pairs packed as tuples"
   ]
  },
  {
   "cell_type": "code",
   "execution_count": 101,
   "metadata": {},
   "outputs": [
    {
     "data": {
      "text/plain": [
       "dict_keys(['AAA', 'A+', 'BBB', 'D'])"
      ]
     },
     "execution_count": 101,
     "metadata": {},
     "output_type": "execute_result"
    }
   ],
   "source": [
    "d.keys()"
   ]
  },
  {
   "cell_type": "code",
   "execution_count": 102,
   "metadata": {},
   "outputs": [
    {
     "data": {
      "text/plain": [
       "dict_values([1, 20, 50, 100])"
      ]
     },
     "execution_count": 102,
     "metadata": {},
     "output_type": "execute_result"
    }
   ],
   "source": [
    "d.values()"
   ]
  },
  {
   "cell_type": "code",
   "execution_count": 103,
   "metadata": {},
   "outputs": [
    {
     "data": {
      "text/plain": [
       "dict_items([('AAA', 1), ('A+', 20), ('BBB', 50), ('D', 100)])"
      ]
     },
     "execution_count": 103,
     "metadata": {},
     "output_type": "execute_result"
    }
   ],
   "source": [
    "d.items()"
   ]
  },
  {
   "cell_type": "markdown",
   "metadata": {},
   "source": [
    "Looping can be done in several ways. The basic one is looping over the keys of the dictionary, which can be done in this way:"
   ]
  },
  {
   "cell_type": "code",
   "execution_count": 104,
   "metadata": {},
   "outputs": [
    {
     "name": "stdout",
     "output_type": "stream",
     "text": [
      "key: AAA - value: 1\n",
      "key: A+ - value: 20\n",
      "key: BBB - value: 50\n",
      "key: D - value: 100\n"
     ]
    }
   ],
   "source": [
    "for key in d:\n",
    "    print(\"key: {} - value: {}\".format(key, d[key]))"
   ]
  },
  {
   "cell_type": "markdown",
   "metadata": {},
   "source": [
    "The interpreter finds out that `d` is a dictionary and understands that it has to look for its keys and loop over them, assigning each tyme to `key` variable."
   ]
  },
  {
   "cell_type": "markdown",
   "metadata": {},
   "source": [
    "# 4. Sets <a name=\"set\"></a>"
   ]
  },
  {
   "cell_type": "markdown",
   "metadata": {},
   "source": [
    "[Sets](https://docs.python.org/3.7/tutorial/datastructures.html#sets) consists of an unordered collection with no duplicate elements. "
   ]
  },
  {
   "cell_type": "markdown",
   "metadata": {},
   "source": [
    "Sets are typically used to store unique values and to check whether a value is in there. Plus basic sets operations like union, intersection, etc..."
   ]
  },
  {
   "cell_type": "markdown",
   "metadata": {},
   "source": [
    "Sets are defined with curly brackets `{}` surrounding a `,`-separated list "
   ]
  },
  {
   "cell_type": "code",
   "execution_count": 110,
   "metadata": {},
   "outputs": [
    {
     "data": {
      "text/plain": [
       "{1, 2, 4, 6}"
      ]
     },
     "execution_count": 110,
     "metadata": {},
     "output_type": "execute_result"
    }
   ],
   "source": [
    "my_set = {1, 2, 2, 4,  6, 6}\n",
    "my_set"
   ]
  },
  {
   "cell_type": "markdown",
   "metadata": {},
   "source": [
    "Alernatively you can use the key-word `set()`"
   ]
  },
  {
   "cell_type": "code",
   "execution_count": 112,
   "metadata": {},
   "outputs": [
    {
     "data": {
      "text/plain": [
       "{1, 2, 4, 6}"
      ]
     },
     "execution_count": 112,
     "metadata": {},
     "output_type": "execute_result"
    }
   ],
   "source": [
    "my_set = set([1, 2, 2, 4,  6, 6])\n",
    "my_set"
   ]
  },
  {
   "cell_type": "markdown",
   "metadata": {},
   "source": [
    "Notice how repeated values are automatically counted only one."
   ]
  },
  {
   "cell_type": "markdown",
   "metadata": {},
   "source": [
    "Checking whether an element is in the set can be done easily:"
   ]
  },
  {
   "cell_type": "code",
   "execution_count": 113,
   "metadata": {},
   "outputs": [
    {
     "name": "stdout",
     "output_type": "stream",
     "text": [
      "element 0 not found\n",
      "element 1 found\n",
      "element 2 found\n",
      "element 3 not found\n",
      "element 4 found\n",
      "element 5 not found\n",
      "element 6 found\n",
      "element 7 not found\n",
      "element 8 not found\n",
      "element 9 not found\n"
     ]
    }
   ],
   "source": [
    "element_list = [i for i in range(10)]\n",
    "\n",
    "for element in element_list:\n",
    "    if element in my_set:\n",
    "        print(\"element {} found\".format(element))\n",
    "    else:\n",
    "        print(\"element {} not found\".format(element))"
   ]
  },
  {
   "cell_type": "markdown",
   "metadata": {},
   "source": [
    "Let's review basic set operations:"
   ]
  },
  {
   "cell_type": "code",
   "execution_count": 124,
   "metadata": {},
   "outputs": [],
   "source": [
    "set1 = set([i for i in range(10)])    # yes, you can use list comprehension here\n",
    "set2 = {i**2 for i in range(10)}      # yes, this is another way to create a set: \"set-comprehension\""
   ]
  },
  {
   "cell_type": "code",
   "execution_count": 115,
   "metadata": {},
   "outputs": [
    {
     "data": {
      "text/plain": [
       "{0, 1, 2, 3, 4, 5, 6, 7, 8, 9}"
      ]
     },
     "execution_count": 115,
     "metadata": {},
     "output_type": "execute_result"
    }
   ],
   "source": [
    "set1"
   ]
  },
  {
   "cell_type": "code",
   "execution_count": 116,
   "metadata": {},
   "outputs": [
    {
     "data": {
      "text/plain": [
       "{0, 1, 4, 9, 16, 25, 36, 49, 64, 81}"
      ]
     },
     "execution_count": 116,
     "metadata": {},
     "output_type": "execute_result"
    }
   ],
   "source": [
    "set2"
   ]
  },
  {
   "cell_type": "markdown",
   "metadata": {},
   "source": [
    "**Union** set: elements in `set1`, `set2`, or both"
   ]
  },
  {
   "cell_type": "code",
   "execution_count": 118,
   "metadata": {},
   "outputs": [
    {
     "data": {
      "text/plain": [
       "{0, 1, 2, 3, 4, 5, 6, 7, 8, 9, 16, 25, 36, 49, 64, 81}"
      ]
     },
     "execution_count": 118,
     "metadata": {},
     "output_type": "execute_result"
    }
   ],
   "source": [
    "set1.union(set2)"
   ]
  },
  {
   "cell_type": "markdown",
   "metadata": {},
   "source": [
    "or alternatively"
   ]
  },
  {
   "cell_type": "code",
   "execution_count": 119,
   "metadata": {},
   "outputs": [
    {
     "data": {
      "text/plain": [
       "{0, 1, 2, 3, 4, 5, 6, 7, 8, 9, 16, 25, 36, 49, 64, 81}"
      ]
     },
     "execution_count": 119,
     "metadata": {},
     "output_type": "execute_result"
    }
   ],
   "source": [
    "set1 | set2"
   ]
  },
  {
   "cell_type": "markdown",
   "metadata": {},
   "source": [
    "**Intersection** set: elements in common between `set1` and `set2`"
   ]
  },
  {
   "cell_type": "code",
   "execution_count": 120,
   "metadata": {},
   "outputs": [
    {
     "data": {
      "text/plain": [
       "{0, 1, 4, 9}"
      ]
     },
     "execution_count": 120,
     "metadata": {},
     "output_type": "execute_result"
    }
   ],
   "source": [
    "set1.intersection(set2)"
   ]
  },
  {
   "cell_type": "markdown",
   "metadata": {},
   "source": [
    "or alternatively"
   ]
  },
  {
   "cell_type": "code",
   "execution_count": 121,
   "metadata": {},
   "outputs": [
    {
     "data": {
      "text/plain": [
       "{0, 1, 4, 9}"
      ]
     },
     "execution_count": 121,
     "metadata": {},
     "output_type": "execute_result"
    }
   ],
   "source": [
    "set1 & set2"
   ]
  },
  {
   "cell_type": "markdown",
   "metadata": {},
   "source": [
    "**Difference** set: elements `set1` but not in `set2`"
   ]
  },
  {
   "cell_type": "code",
   "execution_count": 122,
   "metadata": {},
   "outputs": [
    {
     "data": {
      "text/plain": [
       "{2, 3, 5, 6, 7, 8}"
      ]
     },
     "execution_count": 122,
     "metadata": {},
     "output_type": "execute_result"
    }
   ],
   "source": [
    "set1.difference(set2) # notice that is different from set2.difference(set1)"
   ]
  },
  {
   "cell_type": "markdown",
   "metadata": {},
   "source": [
    "or alternatively"
   ]
  },
  {
   "cell_type": "code",
   "execution_count": 123,
   "metadata": {},
   "outputs": [
    {
     "data": {
      "text/plain": [
       "{2, 3, 5, 6, 7, 8}"
      ]
     },
     "execution_count": 123,
     "metadata": {},
     "output_type": "execute_result"
    }
   ],
   "source": [
    "set1 - set2"
   ]
  },
  {
   "cell_type": "markdown",
   "metadata": {},
   "source": [
    "To conclude, often sets are used to get rid of duplicates in a list:"
   ]
  },
  {
   "cell_type": "code",
   "execution_count": 126,
   "metadata": {},
   "outputs": [
    {
     "data": {
      "text/plain": [
       "[1, -1, 1, -1, 1, -1, 1, -1, 1, -1]"
      ]
     },
     "execution_count": 126,
     "metadata": {},
     "output_type": "execute_result"
    }
   ],
   "source": [
    "lis = [(-1)**n for n in range(10)]\n",
    "lis"
   ]
  },
  {
   "cell_type": "code",
   "execution_count": 127,
   "metadata": {},
   "outputs": [
    {
     "data": {
      "text/plain": [
       "{-1, 1}"
      ]
     },
     "execution_count": 127,
     "metadata": {},
     "output_type": "execute_result"
    }
   ],
   "source": [
    "set(lis)"
   ]
  }
 ],
 "metadata": {
  "kernelspec": {
   "display_name": "Python 3",
   "language": "python",
   "name": "python3"
  },
  "language_info": {
   "codemirror_mode": {
    "name": "ipython",
    "version": 3
   },
   "file_extension": ".py",
   "mimetype": "text/x-python",
   "name": "python",
   "nbconvert_exporter": "python",
   "pygments_lexer": "ipython3",
   "version": "3.7.4"
  }
 },
 "nbformat": 4,
 "nbformat_minor": 2
}
