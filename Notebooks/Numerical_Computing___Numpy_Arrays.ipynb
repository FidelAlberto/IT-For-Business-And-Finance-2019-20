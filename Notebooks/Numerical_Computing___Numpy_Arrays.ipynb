{
 "cells": [
  {
   "cell_type": "markdown",
   "metadata": {},
   "source": [
    "# Numerical Computing - Numpy Arrays"
   ]
  },
  {
   "cell_type": "markdown",
   "metadata": {},
   "source": [
    "# Table of contents\n",
    "\n",
    "[Executive Summary](#summary)\n"
   ]
  },
  {
   "cell_type": "markdown",
   "metadata": {},
   "source": [
    "### **Resources**: \n",
    "\n",
    "- [_Python for Finance (2nd ed.)_](http://shop.oreilly.com/product/0636920117728.do): Sec. 4.Numpy Arrays, 4.Basic Vectorization\n",
    "- _[Numpy Quickstart Tutorial - The Basics](https://docs.scipy.org/doc/numpy/user/quickstart.html#the-basics)_ (An Example; Array Creation; Printing Arrays; Basic Operations; Universal Functions; Indexing, Slicing and Iterating), _[Numpy Quickstart Tutorial - Shape Manipulation](https://docs.scipy.org/doc/numpy/user/quickstart.html#shape-manipulation)_ (Changing the shape of an array; Stacking together different arrays)."
   ]
  },
  {
   "cell_type": "markdown",
   "metadata": {},
   "source": [
    "# Executive Summary <a name=\"summary\"></a>"
   ]
  },
  {
   "cell_type": "markdown",
   "metadata": {},
   "source": [
    "We'll keep this discussion as intuitive as possible and as informal as possible too.\n",
    "The concept of _array_ belongs to two knowledge domains (at least):\n",
    "\n",
    "- **Mathematics**: an array is a sequence of numbers of the same type (Naturals, Rationals, Reals,...). It can be:\n",
    "\n",
    "    - a 1-dimensional vector $v$. That is, the sequence of elements indexed by the one integer $i$;\n",
    "    - a 2-dimensional matrix $M$. That is, the sequence of elements indexed by the couple of integers $(i,j)$;\n",
    "    - a N>2-dimensional tensor $T$. That is, the sequence of elements indexed by n-tuple of n integers $(i_1, \\cdots, i_n)$. (*)\n",
    "    \n",
    "(*) Feel lost? Ok, no problem. Let's make an example with a 3-dimensional Tensor. So, if $N=3$, a 3-dimensional sequence of numbers can be visualized as a  _cube_ of numbers indexed by the 3 indexes $(i,j,k)$ where indexes $i$ and $j$ run along _height_ (rows axes) and _width_ (columns axes) of the cube, respectively. While index $k$ runs along the depth (say the _pages_ axes) of the cube. Therefore, each page is distinguished by the value of index $k=0,1,2,...$, whereas numbers on the same page differ by the values of $(i,j)$ indexes (yes, you can think each page as a matrix of numbers). For example, the $\\color{red}{\\text{red 1}}$ in the front page has indexes $(i,j,k) = (3,2,0)$, wherease the three $\\color{green}{\\text{green 2}}$ on the bottom right corner have share same $i=4$ and $j=4$ indexes and differ by the value of $k=0$ (front-page), $k=1$ (second page) and $k=2$ (back page). See picture. \n",
    "\n",
    "<img src=\"../images/tensor3d.png\" width=\"500\">\n",
    "\n",
    "- **Informatics**: an array is a sequence of data of the same data-type. The fact that all data stored in an array are of the same data-type is important because it allows to allocate the same amount of memory (bits) for each item in the array. Moreover, being a _sequence,_ translates into the fact that consecutive items are stored in consecutive portions of memory, which are thus easily to be indexed and therefore quicker to be accessed. \n"
   ]
  },
  {
   "cell_type": "markdown",
   "metadata": {},
   "source": [
    "We have already seen a great example of sequence-like data-structure in basic Python: the `list`. In particular Lists feature the following key facts:\n",
    "\n",
    "**a**: _Lists are sequences._ Therefore, consecutive elements of the lists can be allocated in consecutive slots of memory.\n",
    "\n",
    "**b**: _Lists can store simultaneously data of heterogeneous data-type._ Therefore, it's not known _a priori_ whether we can reserve the same amount of memory to each element of the list.\n",
    "\n",
    "**c**: _Lists are mutable (e.g. think to `.append()` method)._ Therefore, the totale amount of memory to be reserved for the allocation of the whole list is not known _a priori_ or, at most, is not fixed.\n",
    "\n",
    "Points **b** and **c**, though they make lists very flexible, they also represent bottlenecks in terms of memory usage and performance. Lists are somehow too _general_ to be excell excel in performance too. "
   ]
  },
  {
   "cell_type": "markdown",
   "metadata": {},
   "source": [
    "There is the need of a more _specialized_ data-structure, sharing with lists the sequentiality of data, but compromising on some flexibility in the name of performance. That's why we have [NumPy](https://docs.scipy.org/doc/numpy/user/quickstart.html#quickstart-tutorial) and its data-structure `numpy.ndarray` has been created."
   ]
  },
  {
   "cell_type": "markdown",
   "metadata": {},
   "source": [
    "Key-facts of Numpy's arrays:\n",
    "\n",
    "**a**: arrays extend the sequentiality of lists, introducing a built-in notion of dimensions (called _axes_ );\n",
    "\n",
    "**b**: array's length ( _size_ ) is constrained to be immutable;\n",
    "\n",
    "**c**: array's items are constrained to have the same data-type;\n",
    "\n",
    "The built-in notion of dimensions allows to easily map the mathematical concepts of vectors, matrices and N-dimensional tensors into 1-dim, 2-dim and N-dim Numpy's arrays, respectively. Moreover, the constraints on array size ( **b** ) and same data-type **c** allow several speed improvements and _vectorization_ of code. That is, those allow to have fast(er) memory access and to write functions that work on all the elements of an array \"at once\".  "
   ]
  },
  {
   "cell_type": "markdown",
   "metadata": {},
   "source": [
    "These key-facts translates into the following meta-informations that can be accessed as [attributes of any array](https://docs.scipy.org/doc/numpy/user/quickstart.html#the-basics):\n",
    "\n",
    "Attribute | Meaning | Constraints (if any)\n",
    ":---: | :---: | :---:\n",
    "`.ndim`  | The number of axes (dimensions) of an array: 1 for a vector, 2 for a matrix.... | -  |\n",
    "`.shape` | The dimensions of the array: a Tuple `(n,m)` for a matrix of `n` rows and `m` cols| -  |\n",
    "`.size` | The number of elements of the array: `n` $\\times$ `m` for a matrix of shape `(n,m)` | fixed (*)  |\n",
    "`.dtype` | The data-type of array's elements | fixed for all elements  |\n",
    "\n",
    "We'll use these attributes to explore arrays that we'll introduce.\n",
    "\n",
    "(*) the `.resize()` method allows to actually re-size an array, but creating a new array. See section [2.4.3. Changing the size: `.resize()`](#reshape).\n"
   ]
  },
  {
   "cell_type": "markdown",
   "metadata": {},
   "source": [
    "The function `type()` returns `numpy.ndarray` for NumPy's arrays. "
   ]
  },
  {
   "cell_type": "markdown",
   "metadata": {},
   "source": [
    "**TODO**\n",
    "\n",
    "The following sections are organized as follows: \n",
    "- In Sec. [1](#tuple) Tuples (`tuple`) are introduced as the Python data-structure for _ordered_ sequence-like objects that _cannot be_ modified once defined. \n",
    "- In Sec. [2](#list) Lists (`list`) are introduced as the Python data-structure for _ordered_ sequence-like objects that _can be_ modified once defined. In this context `for` loops are introduced in Sec. [2.7](#for).\n",
    "- In Sec. [3](#dict) Dicts (`dict`) are introduced as the Python data-structure for _not ordered_ collection-like objects that _can be_ modified once defined and that implement a _key-to-value_ map.\n",
    "- In Sec. [4](#set) Sets (`set`) are introduced as the Python data-structure for _not ordered_ collection-like objects that _can be_ modified once defined and that contain unique elements (that is, every elements appears only once). "
   ]
  },
  {
   "cell_type": "markdown",
   "metadata": {},
   "source": [
    "As preliminary import we import `numpy` modulus and give to it the `np` alias"
   ]
  },
  {
   "cell_type": "code",
   "execution_count": 1,
   "metadata": {},
   "outputs": [],
   "source": [
    "import numpy as np"
   ]
  },
  {
   "cell_type": "markdown",
   "metadata": {},
   "source": [
    "# 1. 1-dim arrays <a name=\"1_dim\"></a>"
   ]
  },
  {
   "cell_type": "markdown",
   "metadata": {},
   "source": [
    "## 1.1. Array Creation <a name=\"creation\"></a>"
   ]
  },
  {
   "cell_type": "markdown",
   "metadata": {},
   "source": [
    "### 1.1.1. From Lists or Tuples  <a name=\"from_lists\"></a>"
   ]
  },
  {
   "cell_type": "markdown",
   "metadata": {},
   "source": [
    "### 1.1.2. From sequences of numbers: `np.arange()`, `np.linspace()`  <a name=\"arange_linspace\"></a>"
   ]
  },
  {
   "cell_type": "markdown",
   "metadata": {},
   "source": [
    "### 1.1.3. Using placeholder content: `np.zeros()`, `np.ones()`, `np.empty()`  <a name=\"arange_linspace\"></a>"
   ]
  },
  {
   "cell_type": "markdown",
   "metadata": {},
   "source": [
    "## 1.2. Indexing, Slicing and Iterating <a name=\"indexing_slicing_iterating\"></a>"
   ]
  },
  {
   "cell_type": "markdown",
   "metadata": {},
   "source": [
    "parlare del ruolo del `:` (colon)"
   ]
  },
  {
   "cell_type": "markdown",
   "metadata": {},
   "source": [
    "## 1.3. Basic operations (are _element-wise_ ) <a name=\"indexing_slicing_iterating\"></a>"
   ]
  },
  {
   "cell_type": "markdown",
   "metadata": {},
   "source": [
    "- array + scalar\n",
    "- array + array"
   ]
  },
  {
   "cell_type": "markdown",
   "metadata": {},
   "source": [
    "### 1.3.1. _Focus on:_ `+` and `*` operators on lists <a name=\"elementwise\"></a>"
   ]
  },
  {
   "cell_type": "markdown",
   "metadata": {},
   "source": [
    "parlare anche di `+=` e `*=`"
   ]
  },
  {
   "cell_type": "markdown",
   "metadata": {},
   "source": [
    "### 1.3.2. Built-in methods: `.min()`, `.max()`, `.sum()` and more  <a name=\"built_in_methods\"></a>"
   ]
  },
  {
   "cell_type": "markdown",
   "metadata": {},
   "source": [
    "### 1.3.3. Universal functions  <a name=\"univ_func\"></a>"
   ]
  },
  {
   "cell_type": "markdown",
   "metadata": {},
   "source": [
    "# 2. N-dim arrays <a name=\"N_dim\"></a>"
   ]
  },
  {
   "cell_type": "markdown",
   "metadata": {},
   "source": [
    "## 2.1. Array Creation <a name=\"creation_ndim\"></a>"
   ]
  },
  {
   "cell_type": "markdown",
   "metadata": {},
   "source": [
    "### 2.1.1. From Lists or Tuples  <a name=\"from_lists_ndim\"></a>"
   ]
  },
  {
   "cell_type": "markdown",
   "metadata": {},
   "source": [
    "### 2.1.2. _Focus on:_ printing arrays  <a name=\"from_lists_ndim\"></a>"
   ]
  },
  {
   "cell_type": "markdown",
   "metadata": {},
   "source": [
    "### 2.1.3. Using placeholder content: `np.zeros()`, `np.ones()`, `np.empty()` with `shape` parameter <a name=\"arange_linspace\"></a>"
   ]
  },
  {
   "cell_type": "markdown",
   "metadata": {},
   "source": [
    "## 2.2. Indexing, Slicing and Iterating <a name=\"indexing_slicing_iterating\"></a>"
   ]
  },
  {
   "cell_type": "markdown",
   "metadata": {},
   "source": [
    "## 2.3. Basic operations (are _element-wise_ ) <a name=\"indexing_slicing_iterating\"></a>"
   ]
  },
  {
   "cell_type": "markdown",
   "metadata": {},
   "source": [
    "- array + scalar\n",
    "- array + array\n",
    "- broadcasting"
   ]
  },
  {
   "cell_type": "markdown",
   "metadata": {},
   "source": [
    "### 2.3.1. _Focus on:_ Matrix Operations <a name=\"matrix_operations\"></a>"
   ]
  },
  {
   "cell_type": "markdown",
   "metadata": {},
   "source": [
    "### 2.3.2. Built-in methods: `.min()`, `.max()`, `.sum()` and more with `axis` parameter  <a name=\"built_in_methods\"></a>"
   ]
  },
  {
   "cell_type": "markdown",
   "metadata": {},
   "source": [
    "### 2.3.3. Universal functions  <a name=\"univ_func\"></a>"
   ]
  },
  {
   "cell_type": "markdown",
   "metadata": {},
   "source": [
    "## 2.4. Shape Manipulation: <a name=\"shape_manipulation\"></a>"
   ]
  },
  {
   "cell_type": "markdown",
   "metadata": {},
   "source": [
    "### 2.4.1. Changing the shape: `.reshape()` <a name=\"reshape\"></a>"
   ]
  },
  {
   "cell_type": "markdown",
   "metadata": {},
   "source": [
    "### 2.4.2. _Focus on:_ Matrix Transpose `.T` <a name=\"matrix_operations\"></a>"
   ]
  },
  {
   "cell_type": "markdown",
   "metadata": {},
   "source": [
    "### 2.4.3. Changing the size: `.resize()` <a name=\"reshape\"></a>"
   ]
  },
  {
   "cell_type": "markdown",
   "metadata": {},
   "source": [
    "### 2.4.4. From N-dim to 1-dim: `.flatten()` <a name=\"flatten\"></a>"
   ]
  },
  {
   "cell_type": "markdown",
   "metadata": {},
   "source": [
    "## 2.5. Stacking Arrays together: `.hastack()` and `.vstack()` <a name=\"flatten\"></a>"
   ]
  },
  {
   "cell_type": "markdown",
   "metadata": {},
   "source": [
    "# 3. Lists Vs Arrays <a name=\"list_vs_arrays\"></a>"
   ]
  },
  {
   "cell_type": "markdown",
   "metadata": {},
   "source": [
    "## 3.1. Speed-comparison: Lists 0 - 1 Arrays <a name=\"flatten\"></a>"
   ]
  },
  {
   "cell_type": "markdown",
   "metadata": {},
   "source": [
    "## 3.2. _Vectorization_ of code: Lists 0 - 2 Arrays <a name=\"vectorization\"></a>"
   ]
  }
 ],
 "metadata": {
  "kernelspec": {
   "display_name": "Python 3",
   "language": "python",
   "name": "python3"
  },
  "language_info": {
   "codemirror_mode": {
    "name": "ipython",
    "version": 3
   },
   "file_extension": ".py",
   "mimetype": "text/x-python",
   "name": "python",
   "nbconvert_exporter": "python",
   "pygments_lexer": "ipython3",
   "version": "3.7.4"
  }
 },
 "nbformat": 4,
 "nbformat_minor": 2
}
