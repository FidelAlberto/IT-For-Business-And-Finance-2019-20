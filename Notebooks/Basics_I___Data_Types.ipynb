{
 "cells": [
  {
   "cell_type": "markdown",
   "metadata": {},
   "source": [
    "# Basics I - Data Types"
   ]
  },
  {
   "cell_type": "markdown",
   "metadata": {},
   "source": [
    "# Table of contents\n",
    "\n",
    "1 [Executive Summary](#summary)\n",
    "2 [Integers](#int)\\\n",
    "3 [Floats](#float)\\\n",
    "4 [Booleans](#bool)\\\n",
    "5 [Strings](#str)"
   ]
  },
  {
   "cell_type": "markdown",
   "metadata": {},
   "source": [
    "# 1. Executive Summary <a name=\"summary\"></a>"
   ]
  },
  {
   "cell_type": "markdown",
   "metadata": {},
   "source": [
    "Informally, the type of a variable has a one-to-one correspondance with the amount of bits that are reserved in memory to store it."
   ]
  },
  {
   "cell_type": "markdown",
   "metadata": {},
   "source": [
    "The Python interpreter infers at run-time the type of a variable: Python is a _dynamically typed_ language. This to contrast it with other - compiled - languages, like C or C++, where the type of a variable has to be declared when the variable identifier (its name) is introduced in the code. The latter are _statically typed_ languages."
   ]
  },
  {
   "cell_type": "markdown",
   "metadata": {},
   "source": [
    "The functino `type()` can be called over any defined variable to retrieve its type."
   ]
  },
  {
   "cell_type": "markdown",
   "metadata": {},
   "source": [
    "The following sections are organized as follows: \n",
    "- In Sec. [2](#int) we introduce integer numbers (or `int`), which are the Python data type to represent integers like 1, 2, 3,...\n",
    "- In Sec. [3](#float) we introduce float numbers (or `float`), which are the Python data type to represent fractions like 1/2, 0.25 or real numbers like $e$, $\\pi$,...\n",
    "- In Sec. [4](#bool) we introduce booleans (or `bool`), which are the Python data type to represent the logical values `True` or `False`.\n",
    "- In Sec. [5](#str) we introduce strings (or `str`), which are the Python data type to represent text like \"this one\"."
   ]
  },
  {
   "cell_type": "markdown",
   "metadata": {},
   "source": [
    "# 2. Integers <a name=\"int\"></a>"
   ]
  },
  {
   "cell_type": "markdown",
   "metadata": {},
   "source": [
    "Integers like 1, 2, 3,... are represented in Python as `int` data"
   ]
  },
  {
   "cell_type": "code",
   "execution_count": null,
   "metadata": {},
   "outputs": [],
   "source": [
    "n = 10\n",
    "type(n)"
   ]
  },
  {
   "cell_type": "markdown",
   "metadata": {},
   "source": [
    "The amount of bits (i.e. memory) reserved to an `int` depends on its value. For `n=10` it is 4 bits (using the `.bit_length()` method of `ìnt` variables)"
   ]
  },
  {
   "cell_type": "code",
   "execution_count": null,
   "metadata": {},
   "outputs": [],
   "source": [
    "n.bit_length()"
   ]
  },
  {
   "cell_type": "markdown",
   "metadata": {},
   "source": [
    "Indeed, it's simple to see that (check this [decimal-to-binary converter](https://www.rapidtables.com/convert/number/decimal-to-binary.html))\n",
    "\n",
    "$$\n",
    "10 = (1 \\times 2^3) + (0 \\times 2^2) + (1 \\times 2^1) + (0 \\times 2^0) = 8 + 0 + 2 + 0\n",
    "$$\n",
    "\n",
    "therefore the 4 binary numbers (i.e. 0/1 bits) `1010` are sufficient to represent the integer number 10."
   ]
  },
  {
   "cell_type": "markdown",
   "metadata": {},
   "source": [
    "Python is very efficient in its internal representation of integer numbers as it can represent integers arbitrarily big, like $10^{100}$ (named [Googol](https://en.wikipedia.org/wiki/Googol))"
   ]
  },
  {
   "cell_type": "code",
   "execution_count": 7,
   "metadata": {},
   "outputs": [
    {
     "name": "stdout",
     "output_type": "stream",
     "text": [
      "10000000000000000000000000000000000000000000000000000000000000000000000000000000000000000000000000000\n"
     ]
    }
   ],
   "source": [
    "m = 10**100\n",
    "print(m)"
   ]
  },
  {
   "cell_type": "code",
   "execution_count": 8,
   "metadata": {},
   "outputs": [
    {
     "data": {
      "text/plain": [
       "333"
      ]
     },
     "execution_count": 8,
     "metadata": {},
     "output_type": "execute_result"
    }
   ],
   "source": [
    "m.bit_length()"
   ]
  },
  {
   "cell_type": "markdown",
   "metadata": {},
   "source": [
    "# 3. Floats <a name=\"float\"></a>"
   ]
  },
  {
   "cell_type": "markdown",
   "metadata": {},
   "source": [
    "Non-integers numbers are represented in Python as `float` data."
   ]
  },
  {
   "cell_type": "code",
   "execution_count": 9,
   "metadata": {},
   "outputs": [
    {
     "name": "stdout",
     "output_type": "stream",
     "text": [
      "0.25\n"
     ]
    }
   ],
   "source": [
    "q = 1/4\n",
    "print(q)"
   ]
  },
  {
   "cell_type": "code",
   "execution_count": 10,
   "metadata": {},
   "outputs": [
    {
     "data": {
      "text/plain": [
       "float"
      ]
     },
     "execution_count": 10,
     "metadata": {},
     "output_type": "execute_result"
    }
   ],
   "source": [
    "type(q)"
   ]
  },
  {
   "cell_type": "markdown",
   "metadata": {},
   "source": [
    "As we see the fraction $\\frac{1}{4}$ is represented _exactly_ as the `float` 0.25. This is because 0.25 has an exact (and obvious) binary representation (in terms of negative powers of the base 2)\n",
    "\n",
    "$$\n",
    "\\frac{1}{4} = (0 \\times 2^{0}) + (0 \\times 2^{-1}) + (1 \\times 2^{-2}) = \\left(0 \\times 1 \\right) + \\left(0 \\times \\frac{1}{2} \\right) + \\left(1 \\times \\frac{1}{4} \\right) = 0.25\n",
    "$$\n",
    "\n",
    "where the 0/1 bits associated to smaller powers of 2: $ 2^{-3}, 2^{-4}, ...$ are all zero."
   ]
  },
  {
   "cell_type": "markdown",
   "metadata": {},
   "source": [
    "Therefore, in a [_fixed-point_](https://en.wikipedia.org/wiki/Fixed-point_arithmetic) binary representation (that is a binary representation using a fixed number of bits after the decimal point '.', as the one above), the decimal number 0.25 can be represented as the binary number `0.01` (check this [decimal-to-binary converter](https://www.rapidtables.com/convert/number/decimal-to-binary.html)), that is using only the first two leftmost bits after the '.' (which are the most significant)."
   ]
  },
  {
   "cell_type": "markdown",
   "metadata": {},
   "source": [
    "Binary representation of `float` numbers is not always _perfect_. That is, it's not alway true that a decimal number $0 < q < 1$ can be represented exactly as the series\n",
    "\n",
    "$$\n",
    "q = \\sum_{i=1}^{k} b_i \\times 2^{-i}\n",
    "$$\n",
    "\n",
    "where $b_i = 0/1$ is the $i$-th bit. In particular it can be that:\n",
    "\n",
    "- the series is infinite ($k = \\infty$);\n",
    "\n",
    "- the series requires more bits than those at disposal. That is, given a finite number of bits at disposal - say $k_{MAX}$ - it can be that $k > k_{MAX}$.\n",
    "\n",
    "In this last case, the best we can do is a _truncation_ of the series. That is, $q$ can will be approximately represented as \n",
    "\n",
    "$$\n",
    "q \\approx \\sum_{i=1}^{k_{MAX}} b_i \\times 2^{-i}\n",
    "$$\n"
   ]
  },
  {
   "cell_type": "markdown",
   "metadata": {},
   "source": [
    "In real life things are more complicated. In particular, The IEEE 754 [double-precision](https://en.wikipedia.org/wiki/Double-precision_floating-point_format) standard - currently adopted by modern 64-bits machines - reserves 64 bits to represent a decimal number, but bits are not simply associated to negative and decreasing powers of the base 2: $2^{-1}, 2^{-2}, ...$ as in the [fixed-point](https://en.wikipedia.org/wiki/Fixed-point_arithmetic) binary representation that we considered before. The IEEE 754 standard prescribes a [_floating-point_](https://en.wikipedia.org/wiki/Double-precision_floating-point_format) format, where the meaning and role of the bits in the binary representation changes depending on their position. In particular, for your knowledge (more informations in [Wikipedia](https://en.wikipedia.org/wiki/Double-precision_floating-point_format)):\n",
    "- 1 bit (the $1$st one) represents the sign;\n",
    "- 11 bits (from the $2$nd to the $12$th) represent an exponent\n",
    "- 52 bits (from the $13$th to the last one) represet the fractional part."
   ]
  },
  {
   "cell_type": "markdown",
   "metadata": {},
   "source": [
    "This representation allows to represent a greater range of decimal numbers, given the same amount of bits at disposal (64). This increase in the range of number representable comes at the cost of precision. In the IEEE 754 double-precision standards, the relative accuracy is of 15-digits."
   ]
  },
  {
   "cell_type": "markdown",
   "metadata": {},
   "source": [
    "The _finite-precision_ in the binary representation of decimal numbers leads to expected results like:"
   ]
  },
  {
   "cell_type": "code",
   "execution_count": 23,
   "metadata": {},
   "outputs": [
    {
     "data": {
      "text/plain": [
       "0.35"
      ]
     },
     "execution_count": 23,
     "metadata": {},
     "output_type": "execute_result"
    }
   ],
   "source": [
    "q = 0.25 + 0.1\n",
    "q"
   ]
  },
  {
   "cell_type": "markdown",
   "metadata": {},
   "source": [
    "but also to unexpected ones like:"
   ]
  },
  {
   "cell_type": "code",
   "execution_count": 25,
   "metadata": {},
   "outputs": [
    {
     "data": {
      "text/plain": [
       "0.44999999999999996"
      ]
     },
     "execution_count": 25,
     "metadata": {},
     "output_type": "execute_result"
    }
   ],
   "source": [
    "q = 0.35 + 0.1  #should be 0.45\n",
    "q"
   ]
  },
  {
   "cell_type": "markdown",
   "metadata": {},
   "source": [
    "Nevertheless, module [`decimal`](https://docs.python.org/2/library/decimal.html) allows us to set an arbitrary precision (we won't use it, but good for you to know):"
   ]
  },
  {
   "cell_type": "code",
   "execution_count": 56,
   "metadata": {},
   "outputs": [],
   "source": [
    "import decimal \n",
    "from decimal import Decimal"
   ]
  },
  {
   "cell_type": "code",
   "execution_count": 57,
   "metadata": {},
   "outputs": [
    {
     "data": {
      "text/plain": [
       "Context(prec=28, rounding=ROUND_HALF_EVEN, Emin=-999999, Emax=999999, capitals=1, clamp=0, flags=[], traps=[InvalidOperation, DivisionByZero, Overflow])"
      ]
     },
     "execution_count": 57,
     "metadata": {},
     "output_type": "execute_result"
    }
   ],
   "source": [
    "decimal.getcontext()"
   ]
  },
  {
   "cell_type": "markdown",
   "metadata": {},
   "source": [
    "the precision is of 28 significant (non-zero) digits by default (`prec=28`)"
   ]
  },
  {
   "cell_type": "code",
   "execution_count": 58,
   "metadata": {},
   "outputs": [
    {
     "data": {
      "text/plain": [
       "Decimal('0.05882352941176470588235294118')"
      ]
     },
     "execution_count": 58,
     "metadata": {},
     "output_type": "execute_result"
    }
   ],
   "source": [
    "q = Decimal(1) / Decimal(17)\n",
    "q"
   ]
  },
  {
   "cell_type": "markdown",
   "metadata": {},
   "source": [
    "the precision can be changed arbitrarily to set the number of significant (non-zero) digits after the '.'"
   ]
  },
  {
   "cell_type": "code",
   "execution_count": 66,
   "metadata": {},
   "outputs": [
    {
     "data": {
      "text/plain": [
       "Decimal('0.0588')"
      ]
     },
     "execution_count": 66,
     "metadata": {},
     "output_type": "execute_result"
    }
   ],
   "source": [
    "decimal.getcontext().prec = 3\n",
    "\n",
    "q = Decimal(1) / Decimal(17)\n",
    "q"
   ]
  },
  {
   "cell_type": "markdown",
   "metadata": {},
   "source": [
    "# 4. Bool <a name=\"bool\"></a>"
   ]
  },
  {
   "cell_type": "markdown",
   "metadata": {},
   "source": [
    "# 5. Strings <a name=\"str\"></a>"
   ]
  },
  {
   "cell_type": "code",
   "execution_count": null,
   "metadata": {},
   "outputs": [],
   "source": []
  }
 ],
 "metadata": {
  "kernelspec": {
   "display_name": "Python 3",
   "language": "python",
   "name": "python3"
  },
  "language_info": {
   "codemirror_mode": {
    "name": "ipython",
    "version": 3
   },
   "file_extension": ".py",
   "mimetype": "text/x-python",
   "name": "python",
   "nbconvert_exporter": "python",
   "pygments_lexer": "ipython3",
   "version": "3.7.4"
  }
 },
 "nbformat": 4,
 "nbformat_minor": 2
}
