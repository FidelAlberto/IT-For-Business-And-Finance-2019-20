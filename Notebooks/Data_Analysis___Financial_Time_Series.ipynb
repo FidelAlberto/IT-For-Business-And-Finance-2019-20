{
 "cells": [
  {
   "cell_type": "markdown",
   "metadata": {},
   "source": [
    "# Data Analysis - Financial Time Series"
   ]
  },
  {
   "cell_type": "markdown",
   "metadata": {},
   "source": [
    "**Author**: [Gabriele Pompa](https://www.linkedin.com/in/gabrielepompa/): gabriele.pompa@unisi.com"
   ]
  },
  {
   "cell_type": "markdown",
   "metadata": {},
   "source": [
    "# Table of contents\n",
    "\n",
    "[Executive Summary](#summary)\n",
    "\n",
    "**TODO**"
   ]
  },
  {
   "cell_type": "markdown",
   "metadata": {},
   "source": [
    "### **Resources**: \n",
    "\n",
    "**TODO**"
   ]
  },
  {
   "cell_type": "markdown",
   "metadata": {},
   "source": [
    "# Executive Summary <a name=\"summary\"></a>"
   ]
  },
  {
   "cell_type": "markdown",
   "metadata": {},
   "source": [
    "**TODO**"
   ]
  },
  {
   "cell_type": "markdown",
   "metadata": {},
   "source": [
    "These are the basic imports that we need to work with NumPy, Pandas and to plot data using Matplotlib functionalities"
   ]
  },
  {
   "cell_type": "code",
   "execution_count": 1,
   "metadata": {},
   "outputs": [],
   "source": [
    "# for NumPy arrays\n",
    "import numpy as np\n",
    "\n",
    "# for Pandas Series and DataFrame\n",
    "import pandas as pd\n",
    "\n",
    "# for Matplotlib plotting\n",
    "import matplotlib.pyplot as plt\n",
    "\n",
    "# to do inline plots in the Notebook\n",
    "%matplotlib inline\n",
    "\n",
    "# for Operating System operations\n",
    "import os"
   ]
  },
  {
   "cell_type": "markdown",
   "metadata": {},
   "source": [
    "# 1. Introduction <a name=\"introduction\"></a>"
   ]
  },
  {
   "cell_type": "markdown",
   "metadata": {},
   "source": [
    "When you need to process data using a programming languages, either you have your data stored in a file or database (as we have seen in the previous lesson) or you get your data from a Data Provider, such as Bloomberg, Reuters, etc."
   ]
  },
  {
   "cell_type": "markdown",
   "metadata": {},
   "source": [
    "Typically, data providers store secured their data in remote servers and expose interfaces to the public: these are called [Application Programming Interfaces](https://en.wikipedia.org/wiki/Application_programming_interface) (APIs). For what concern us, an API is a particular piece of code that allows you to get data from a data provider."
   ]
  },
  {
   "cell_type": "markdown",
   "metadata": {},
   "source": [
    "There are plenty of APIs which manage the interface between Python code and financial data, like [Reuters Eikon Data API](https://developers.refinitiv.com/eikon-apis/eikon-data-api). Being a business in itself, most of APIs to retrieve financial data are not for free."
   ]
  },
  {
   "cell_type": "markdown",
   "metadata": {},
   "source": [
    "Luckily for us, and thanks to people like [Ran Aroussi](https://aroussi.com/), we have a Python API, called [yfinance](https://github.com/ranaroussi/yfinance), which is 100% free:\n",
    "\n",
    "- yfinance Github page: [https://github.com/ranaroussi/yfinance](https://github.com/ranaroussi/yfinance);\n",
    "- Blog post form Ran Aroussi with a yfinance tutorial: [https://aroussi.com/post/python-yahoo-finance](https://aroussi.com/post/python-yahoo-finance).\n",
    "\n",
    "In a nutshell, yfinance - named after the now decommissioned _Yahoo! Finance_ API, is a reliable Python API to retrieve market data."
   ]
  },
  {
   "cell_type": "markdown",
   "metadata": {},
   "source": [
    "The yfinance API comes under the form of a Python module: `yfinance`. We shall see now how to include it in our Conda installation. "
   ]
  },
  {
   "cell_type": "markdown",
   "metadata": {},
   "source": [
    "## 1.1. Installing `yfinance` <a name=\"installing-yfinance\"></a>"
   ]
  },
  {
   "cell_type": "markdown",
   "metadata": {},
   "source": [
    "All you need to do to install yfinance library is to:\n",
    "\n",
    "- (If not done already) In your Anaconda Navigator switch to the class `ITForBusAndFin2020_env` conda environment (see [Figure 1](#anaconda_nav_and_env)). For Mac users: in case you are working under `base (root)` environment, it's ok, you can stay there.\n",
    "\n",
    "| ![](../images/anaconda_nav_and_env.PNG) <a name=\"anaconda_nav_and_env\"></a>| \n",
    "|:--:| \n",
    "| _**Figure 1**: in Anaconda Navigator, switch to the class conda environment_ |\n",
    "\n",
    "- (iIf not done already) Open your terminal window (the usual black command line window) using the _CMD.exe Prompt_ app or the _console_shortcut_ app in the Anaconda Navigator (both apps are fine and you have displayed one or the other depending on whether you have already updated the Anaconda Navigator or not yet, see [Figure 2](#open_terminal)).\n",
    "\n",
    "| ![](../images/CMD_exe.PNG) | \n",
    "|:--:| \n",
    "| ![](../images/console_shortcut.PNG) | \n",
    "| _**Figure 2**: Open a Terminal window using the  CMD.exe Prompt app or console_shorcut app in Anaconda Navigator_ <a name=\"open_terminal\"></a>|\n",
    "\n",
    "- (If not done already) In the terminal window, change directory to your local class folder typing `cd` followed by the complete path to the class folder, like `C:\\Users\\gabri\\Projects\\IT_For_Business_And_Finance_2019_20` on my local machine (see [Figure 3](#yfinance_png) below) \n",
    "\n",
    "\n",
    "- In the terminal window type the command to install `yfinance` (see [Figure 3](#yfinance_png)):\n",
    "  ```\n",
    "  pip install yfinance --upgrade --no-cache-dir\n",
    "  ```\n",
    "  \n",
    "| ![](../images/yfinance.png) <a name=\"yfinance_png\"></a>| \n",
    "|:--:| \n",
    "| _**Figure 3**: change directory to the class folder and install `yfinance` package in conda_ |\n",
    "\n",
    "\n",
    "\n",
    "- Always type `y` when asked for installation confirmation;\n",
    "\n",
    "\n",
    "- You can check that `yfinance` is now part of the packages available in your conda environment typing\n",
    "  ```\n",
    "  conda list \n",
    "  ```\n",
    "  which lists all the packages installed (see resulting screen from `conda list` command in [Figure 4](#conda_list_yfinance))\n",
    "\n",
    "| ![](../images/conda_list_yfinance.png) <a name=\"conda_list_yfinance\"></a>| \n",
    "|:--:| \n",
    "| _**Figure 4**: check that `yfinance` is installed, typing `conda list`_ |\n"
   ]
  },
  {
   "cell_type": "markdown",
   "metadata": {},
   "source": [
    "## 1.2. `yfinance` basic usage <a name=\"yfinance-basic-usage\"></a>"
   ]
  },
  {
   "cell_type": "markdown",
   "metadata": {},
   "source": [
    "To use yfinance library, we just import the corresponding `yfinance` Python module, giving it the `yf` alias."
   ]
  },
  {
   "cell_type": "code",
   "execution_count": 2,
   "metadata": {},
   "outputs": [],
   "source": [
    "import yfinance as yf"
   ]
  },
  {
   "cell_type": "markdown",
   "metadata": {},
   "source": [
    "For details on `yfinance` usage, see the [dedicated blog post](https://aroussi.com/post/python-yahoo-finance) from Ran Aroussi. Broadly speaking, `yfinance` allows you to:\n",
    "\n",
    "- get market and meta data for one (or more than one) security, using the `yf.Ticker()` module;\n",
    "- doing mass download of market data, using the `yf.download()` function."
   ]
  },
  {
   "cell_type": "markdown",
   "metadata": {},
   "source": [
    "Let's reuse the utility function to delete files"
   ]
  },
  {
   "cell_type": "code",
   "execution_count": 3,
   "metadata": {},
   "outputs": [],
   "source": [
    "def removeFile(fileName):\n",
    "    \"\"\"\n",
    "    removeFile(fileName) function remove file 'fileName', if it exists. It also prints on screen a success/failure message.\n",
    "    \n",
    "    Parameters:\n",
    "        fileName (str): name of the file ('Data' folder is assumed)\n",
    "        \n",
    "    Returns:\n",
    "        None\n",
    "    \"\"\"\n",
    "\n",
    "    if os.path.isfile(os.path.join(dataFolderPath, fileName)):\n",
    "        os.remove(os.path.join(dataFolderPath, fileName))\n",
    "\n",
    "        # double-check if file still exists\n",
    "        fileStillExists = os.path.isfile(os.path.join(dataFolderPath, fileName))\n",
    "\n",
    "        if fileStillExists:\n",
    "            print(\"Failure: file {} still exists...\".format(fileName))\n",
    "        else:\n",
    "            print(\"Success: file {} successfully removed!\".format(fileName))\n",
    "            \n",
    "    else:\n",
    "        print(\"File {} already removed.\".format(fileName))"
   ]
  },
  {
   "cell_type": "markdown",
   "metadata": {},
   "source": [
    "### 1.2.1. How to lookup for a Yahoo! Finance ticker of a security <a name=\"how-to-lookup-for-a-ticker-of-a-security\"></a>"
   ]
  },
  {
   "cell_type": "markdown",
   "metadata": {},
   "source": [
    "If you want to get market data and information for a security, you need to use the `yf.Ticker()` module, which takes in input the appropriate security symbol:\n",
    "\n",
    "```python\n",
    "yf.Ticker(SymbolString)\n",
    "```\n",
    "\n",
    "where `SymbolString` is the Python String representing the symbol ticker of the desired security (like 'AAPL', 'MSFT', etc.)."
   ]
  },
  {
   "cell_type": "markdown",
   "metadata": {},
   "source": [
    "Most symbols are well known from financial news (like 'AAPL' for Apple Inc. or 'MSFT' for Microsoft Corporation, etc.), but in case you know the public name of a company or security but don't remember the corresponding symbol, you can use the [Symbol Lookup from Yahoo Finance](https://finance.yahoo.com/lookup/). "
   ]
  },
  {
   "cell_type": "markdown",
   "metadata": {},
   "source": [
    "Suppose you want to look for the Fiat Chrysler Automobiles symbol. Start writing the public name of the company in the search bar and you get the back the information that the symbol is **'FCAU'**."
   ]
  },
  {
   "cell_type": "markdown",
   "metadata": {},
   "source": [
    "| ![](../images/yahoo_symbol_lookup.png) <a name=\"yahoo_symbol_lookup\"></a>| \n",
    "|:--:| \n",
    "| _**Figure 5**: Symbol Lookup from Yahoo Finance_ |"
   ]
  },
  {
   "cell_type": "markdown",
   "metadata": {},
   "source": [
    "Here is a list of tickers that we will use in this notebook\n",
    "\n",
    "Yahoo! Finance ticker | Name\n",
    ":---: | :---\n",
    "    'AAPL' | Apple Inc. Stock\n",
    "    'GOOG' | Alphabet Inc. Stock\n",
    "    'FB'   | Facebook, Inc. Stock\n",
    "    'MSFT' | Microsoft Corporation Stock\n",
    "    'INTC' | Intel Corporation Stock\n",
    "    'AMZN' | Amazon.com, Inc. Stock\n",
    "    'BABA' | Alibaba Group Holding Limited Stock\n",
    "    'NFLX' | Netflix, Inc. Stock\n",
    "    'DIS'  | The Walt Disney Company Stock\n",
    "    'GS'   | The Goldman Sachs Group, Inc. Stock\n",
    "    'DB'   | Deutsche Bank Aktiengesellschaft Stock\n",
    "    '^GSPC'| S&P 500 Index\n",
    "    '^VIX' | CBOE Volatility Index\n",
    "    'EURUSD=X' | EUR/USD Exchange Rate\n",
    "    'EURCHF=X' | EUR/CHF Exchange Rate\n",
    "    'EURGBP=X' | EUR/GBP Exchange Rate\n",
    "    'FCAU' | Fiat Chrysler Automobiles N.V.\n",
    "    'E' | Eni S.p.A. Stock\n",
    "    'ENIA' | Enel Americas S.A. Stock"
   ]
  },
  {
   "cell_type": "markdown",
   "metadata": {},
   "source": [
    "### 1.2.2. How to get market and meta data for a security: `yf.Ticker()` module <a name=\"get-market-and-meta-data:-yf.ticker()-module\"></a>"
   ]
  },
  {
   "cell_type": "code",
   "execution_count": null,
   "metadata": {},
   "outputs": [],
   "source": [
    "aapl = yf.Ticker(\"AAPL\")\n",
    "aapl"
   ]
  },
  {
   "cell_type": "code",
   "execution_count": null,
   "metadata": {
    "scrolled": true
   },
   "outputs": [],
   "source": [
    "aapl_info = aapl.info\n",
    "aapl_info"
   ]
  },
  {
   "cell_type": "code",
   "execution_count": null,
   "metadata": {},
   "outputs": [],
   "source": [
    "aapl_info['longBusinessSummary']"
   ]
  },
  {
   "cell_type": "code",
   "execution_count": null,
   "metadata": {},
   "outputs": [],
   "source": [
    "aapl_info['regularMarketPreviousClose']"
   ]
  },
  {
   "cell_type": "code",
   "execution_count": 17,
   "metadata": {},
   "outputs": [],
   "source": [
    "import json"
   ]
  },
  {
   "cell_type": "code",
   "execution_count": 18,
   "metadata": {},
   "outputs": [],
   "source": [
    "dataFolderPath = \"../Data\""
   ]
  },
  {
   "cell_type": "code",
   "execution_count": null,
   "metadata": {},
   "outputs": [],
   "source": [
    "filePath = os.path.join(dataFolderPath, \"aapl_stock_info.json\")\n",
    "\n",
    "with open(filePath, 'w') as file:\n",
    "    %time json.dump(aapl_info, file, indent=\"\\t\")"
   ]
  },
  {
   "cell_type": "code",
   "execution_count": null,
   "metadata": {},
   "outputs": [],
   "source": [
    "# removeFile(filePath)"
   ]
  },
  {
   "cell_type": "code",
   "execution_count": null,
   "metadata": {
    "scrolled": true
   },
   "outputs": [],
   "source": [
    "aapl.actions"
   ]
  },
  {
   "cell_type": "code",
   "execution_count": null,
   "metadata": {},
   "outputs": [],
   "source": [
    "ax = aapl.actions.plot(secondary_y=\"Dividends\")\n",
    "\n",
    "ax.set_ylabel(\"Number of Stock Splits\")\n",
    "ax.right_ax.set_ylabel(\"Dividends (USD)\")"
   ]
  },
  {
   "cell_type": "code",
   "execution_count": null,
   "metadata": {},
   "outputs": [],
   "source": [
    "aapl_history = aapl.history(period=\"max\", interval=\"1wk\")\n",
    "aapl_history"
   ]
  },
  {
   "cell_type": "code",
   "execution_count": null,
   "metadata": {},
   "outputs": [],
   "source": [
    "ax = aapl_history[\"Close\"].plot()\n",
    "\n",
    "ax.set_title(\"AAPL\")\n",
    "ax.set_ylabel(\"Close Price (USD)\")"
   ]
  },
  {
   "cell_type": "code",
   "execution_count": null,
   "metadata": {},
   "outputs": [],
   "source": [
    "aapl_history_last_two_years = aapl.history(start=\"2018-04-06\", end=\"2020-04-06\")\n",
    "aapl_history_last_two_years"
   ]
  },
  {
   "cell_type": "code",
   "execution_count": null,
   "metadata": {
    "scrolled": true
   },
   "outputs": [],
   "source": [
    "ax = aapl_history_last_two_years[\"Close\"].plot()\n",
    "\n",
    "ax.set_title(\"AAPL\")\n",
    "ax.set_ylabel(\"Close Price (USD)\")"
   ]
  },
  {
   "cell_type": "code",
   "execution_count": null,
   "metadata": {
    "scrolled": false
   },
   "outputs": [],
   "source": [
    "ax = aapl_history_last_two_years.loc[\"2020-01-01\":, \"Close\"].plot()\n",
    "\n",
    "ax.set_title(\"AAPL\")\n",
    "ax.set_ylabel(\"Close Price (USD)\")"
   ]
  },
  {
   "cell_type": "markdown",
   "metadata": {},
   "source": [
    "#### 1.2.2.1. multiple securities simultaneously: `yf.Tickers()` module <a name=\"multiple-securities-simultaneously:-yf.tickers()-module\"></a>"
   ]
  },
  {
   "cell_type": "code",
   "execution_count": null,
   "metadata": {},
   "outputs": [],
   "source": [
    "securities = yf.Tickers('FB AMZN NFLX GOOG')\n",
    "securities"
   ]
  },
  {
   "cell_type": "code",
   "execution_count": null,
   "metadata": {},
   "outputs": [],
   "source": [
    "fb = securities.tickers.FB\n",
    "amzn = securities.tickers.AMZN\n",
    "nflx = securities.tickers.NFLX\n",
    "goog = securities.tickers.GOOG"
   ]
  },
  {
   "cell_type": "code",
   "execution_count": null,
   "metadata": {},
   "outputs": [],
   "source": [
    "goog_info = goog.info\n",
    "goog_info"
   ]
  },
  {
   "cell_type": "code",
   "execution_count": null,
   "metadata": {},
   "outputs": [],
   "source": [
    "goog_info['longName']"
   ]
  },
  {
   "cell_type": "code",
   "execution_count": null,
   "metadata": {},
   "outputs": [],
   "source": [
    "info_dict = {'FB': fb.info,\n",
    "             'AMZN': amzn.info, \n",
    "             'NFLX': nflx.info,\n",
    "             'GOOG': goog_info}\n",
    "\n",
    "filePath = os.path.join(dataFolderPath, \"FANG_stocks_info.json\")\n",
    "\n",
    "with open(filePath, 'w') as file:\n",
    "    %time json.dump(info_dict, file, indent=\"\\t\")"
   ]
  },
  {
   "cell_type": "code",
   "execution_count": null,
   "metadata": {},
   "outputs": [],
   "source": [
    "# removeFile(filePath)"
   ]
  },
  {
   "cell_type": "code",
   "execution_count": null,
   "metadata": {},
   "outputs": [],
   "source": [
    "nflx_history_last_two_years = nflx.history(start=\"2018-04-06\", end=\"2020-04-06\")\n",
    "nflx_history_last_two_years"
   ]
  },
  {
   "cell_type": "code",
   "execution_count": null,
   "metadata": {
    "scrolled": true
   },
   "outputs": [],
   "source": [
    "ax = nflx_history_last_two_years[\"Close\"].plot()\n",
    "\n",
    "ax.set_title(\"NFLX\")\n",
    "ax.set_ylabel(\"Close Price (USD)\")"
   ]
  },
  {
   "cell_type": "code",
   "execution_count": null,
   "metadata": {
    "scrolled": true
   },
   "outputs": [],
   "source": [
    "ax = nflx_history_last_two_years.loc[\"2020-01-01\":, \"Close\"].plot()\n",
    "\n",
    "ax.set_title(\"NFLX\")\n",
    "ax.set_ylabel(\"Close Price (USD)\")"
   ]
  },
  {
   "cell_type": "markdown",
   "metadata": {},
   "source": [
    "### 1.2.3. mass download of market data: `yf.download()` function <a name=\"get-market-and-meta-data:-yf.download()-function\"></a>"
   ]
  },
  {
   "cell_type": "code",
   "execution_count": 4,
   "metadata": {},
   "outputs": [],
   "source": [
    "securityTickerToNameDict = {\n",
    "    'AAPL':     \"Apple Inc. Stock\",\n",
    "    'GOOG':     \"Alphabet Inc. Stock\",\n",
    "    'FB':       \"Facebook, Inc. Stock\",\n",
    "    'MSFT':     \"Microsoft Corporation Stock\",\n",
    "    'INTC':     \"Intel Corporation Stock\",\n",
    "    'AMZN':     \"Amazon.com, Inc. Stock\",\n",
    "    'BABA':     \"Alibaba Group Holding Limited Stock\",\n",
    "    'NFLX':     \"Netflix, Inc. Stock\",\n",
    "    'DIS':      \"The Walt Disney Company Stock\",\n",
    "    'GS':       \"The Goldman Sachs Group, Inc. Stock\",\n",
    "    'DB':       \"Deutsche Bank Aktiengesellschaft Stock\",\n",
    "    '^GSPC':    \"S&P 500 Index\",\n",
    "    '^VIX':     \"CBOE Volatility Index\",\n",
    "    'EURUSD=X': \"EUR/USD Exchange Rate\",\n",
    "    'EURCHF=X': \"EUR/CHF Exchange Rate\",\n",
    "    'EURGBP=X': \"EUR/GBP Exchange Rate\",\n",
    "    'FCAU':     \"Fiat Chrysler Automobiles N.V.\",\n",
    "    'E':        \"Eni S.p.A. Stock\",\n",
    "    'ENIA':     \"Enel Americas S.A. Stock\"\n",
    "}"
   ]
  },
  {
   "cell_type": "code",
   "execution_count": 5,
   "metadata": {},
   "outputs": [
    {
     "data": {
      "text/plain": [
       "['AAPL',\n",
       " 'GOOG',\n",
       " 'FB',\n",
       " 'MSFT',\n",
       " 'INTC',\n",
       " 'AMZN',\n",
       " 'BABA',\n",
       " 'NFLX',\n",
       " 'DIS',\n",
       " 'GS',\n",
       " 'DB',\n",
       " '^GSPC',\n",
       " '^VIX',\n",
       " 'EURUSD=X',\n",
       " 'EURCHF=X',\n",
       " 'EURGBP=X',\n",
       " 'FCAU',\n",
       " 'E',\n",
       " 'ENIA']"
      ]
     },
     "execution_count": 5,
     "metadata": {},
     "output_type": "execute_result"
    }
   ],
   "source": [
    "tickerList = list(securityTickerToNameDict.keys())\n",
    "tickerList"
   ]
  },
  {
   "cell_type": "code",
   "execution_count": 6,
   "metadata": {},
   "outputs": [
    {
     "data": {
      "text/plain": [
       "'AAPL GOOG FB MSFT INTC AMZN BABA NFLX DIS GS DB ^GSPC ^VIX EURUSD=X EURCHF=X EURGBP=X FCAU E ENIA'"
      ]
     },
     "execution_count": 6,
     "metadata": {},
     "output_type": "execute_result"
    }
   ],
   "source": [
    "tickerListString = ' '.join(tickerList)\n",
    "tickerListString"
   ]
  },
  {
   "cell_type": "code",
   "execution_count": 7,
   "metadata": {
    "scrolled": true
   },
   "outputs": [
    {
     "name": "stdout",
     "output_type": "stream",
     "text": [
      "[*********************100%***********************]  19 of 19 completed\n"
     ]
    }
   ],
   "source": [
    "data = yf.download(tickers=tickerListString, period=\"max\")"
   ]
  },
  {
   "cell_type": "code",
   "execution_count": 25,
   "metadata": {},
   "outputs": [
    {
     "data": {
      "text/html": [
       "<div>\n",
       "<style scoped>\n",
       "    .dataframe tbody tr th:only-of-type {\n",
       "        vertical-align: middle;\n",
       "    }\n",
       "\n",
       "    .dataframe tbody tr th {\n",
       "        vertical-align: top;\n",
       "    }\n",
       "\n",
       "    .dataframe thead tr th {\n",
       "        text-align: left;\n",
       "    }\n",
       "\n",
       "    .dataframe thead tr:last-of-type th {\n",
       "        text-align: right;\n",
       "    }\n",
       "</style>\n",
       "<table border=\"1\" class=\"dataframe\">\n",
       "  <thead>\n",
       "    <tr>\n",
       "      <th></th>\n",
       "      <th colspan=\"10\" halign=\"left\">Adj Close</th>\n",
       "      <th>...</th>\n",
       "      <th colspan=\"10\" halign=\"left\">Volume</th>\n",
       "    </tr>\n",
       "    <tr>\n",
       "      <th></th>\n",
       "      <th>AAPL</th>\n",
       "      <th>AMZN</th>\n",
       "      <th>BABA</th>\n",
       "      <th>DB</th>\n",
       "      <th>DIS</th>\n",
       "      <th>E</th>\n",
       "      <th>ENIA</th>\n",
       "      <th>EURCHF=X</th>\n",
       "      <th>EURGBP=X</th>\n",
       "      <th>EURUSD=X</th>\n",
       "      <th>...</th>\n",
       "      <th>EURUSD=X</th>\n",
       "      <th>FB</th>\n",
       "      <th>FCAU</th>\n",
       "      <th>GOOG</th>\n",
       "      <th>GS</th>\n",
       "      <th>INTC</th>\n",
       "      <th>MSFT</th>\n",
       "      <th>NFLX</th>\n",
       "      <th>^GSPC</th>\n",
       "      <th>^VIX</th>\n",
       "    </tr>\n",
       "    <tr>\n",
       "      <th>Date</th>\n",
       "      <th></th>\n",
       "      <th></th>\n",
       "      <th></th>\n",
       "      <th></th>\n",
       "      <th></th>\n",
       "      <th></th>\n",
       "      <th></th>\n",
       "      <th></th>\n",
       "      <th></th>\n",
       "      <th></th>\n",
       "      <th></th>\n",
       "      <th></th>\n",
       "      <th></th>\n",
       "      <th></th>\n",
       "      <th></th>\n",
       "      <th></th>\n",
       "      <th></th>\n",
       "      <th></th>\n",
       "      <th></th>\n",
       "      <th></th>\n",
       "      <th></th>\n",
       "    </tr>\n",
       "  </thead>\n",
       "  <tbody>\n",
       "    <tr>\n",
       "      <td>1927-12-30</td>\n",
       "      <td>NaN</td>\n",
       "      <td>NaN</td>\n",
       "      <td>NaN</td>\n",
       "      <td>NaN</td>\n",
       "      <td>NaN</td>\n",
       "      <td>NaN</td>\n",
       "      <td>NaN</td>\n",
       "      <td>NaN</td>\n",
       "      <td>NaN</td>\n",
       "      <td>NaN</td>\n",
       "      <td>...</td>\n",
       "      <td>NaN</td>\n",
       "      <td>NaN</td>\n",
       "      <td>NaN</td>\n",
       "      <td>NaN</td>\n",
       "      <td>NaN</td>\n",
       "      <td>NaN</td>\n",
       "      <td>NaN</td>\n",
       "      <td>NaN</td>\n",
       "      <td>0.000000e+00</td>\n",
       "      <td>NaN</td>\n",
       "    </tr>\n",
       "    <tr>\n",
       "      <td>1928-01-03</td>\n",
       "      <td>NaN</td>\n",
       "      <td>NaN</td>\n",
       "      <td>NaN</td>\n",
       "      <td>NaN</td>\n",
       "      <td>NaN</td>\n",
       "      <td>NaN</td>\n",
       "      <td>NaN</td>\n",
       "      <td>NaN</td>\n",
       "      <td>NaN</td>\n",
       "      <td>NaN</td>\n",
       "      <td>...</td>\n",
       "      <td>NaN</td>\n",
       "      <td>NaN</td>\n",
       "      <td>NaN</td>\n",
       "      <td>NaN</td>\n",
       "      <td>NaN</td>\n",
       "      <td>NaN</td>\n",
       "      <td>NaN</td>\n",
       "      <td>NaN</td>\n",
       "      <td>0.000000e+00</td>\n",
       "      <td>NaN</td>\n",
       "    </tr>\n",
       "    <tr>\n",
       "      <td>1928-01-04</td>\n",
       "      <td>NaN</td>\n",
       "      <td>NaN</td>\n",
       "      <td>NaN</td>\n",
       "      <td>NaN</td>\n",
       "      <td>NaN</td>\n",
       "      <td>NaN</td>\n",
       "      <td>NaN</td>\n",
       "      <td>NaN</td>\n",
       "      <td>NaN</td>\n",
       "      <td>NaN</td>\n",
       "      <td>...</td>\n",
       "      <td>NaN</td>\n",
       "      <td>NaN</td>\n",
       "      <td>NaN</td>\n",
       "      <td>NaN</td>\n",
       "      <td>NaN</td>\n",
       "      <td>NaN</td>\n",
       "      <td>NaN</td>\n",
       "      <td>NaN</td>\n",
       "      <td>0.000000e+00</td>\n",
       "      <td>NaN</td>\n",
       "    </tr>\n",
       "    <tr>\n",
       "      <td>1928-01-05</td>\n",
       "      <td>NaN</td>\n",
       "      <td>NaN</td>\n",
       "      <td>NaN</td>\n",
       "      <td>NaN</td>\n",
       "      <td>NaN</td>\n",
       "      <td>NaN</td>\n",
       "      <td>NaN</td>\n",
       "      <td>NaN</td>\n",
       "      <td>NaN</td>\n",
       "      <td>NaN</td>\n",
       "      <td>...</td>\n",
       "      <td>NaN</td>\n",
       "      <td>NaN</td>\n",
       "      <td>NaN</td>\n",
       "      <td>NaN</td>\n",
       "      <td>NaN</td>\n",
       "      <td>NaN</td>\n",
       "      <td>NaN</td>\n",
       "      <td>NaN</td>\n",
       "      <td>0.000000e+00</td>\n",
       "      <td>NaN</td>\n",
       "    </tr>\n",
       "    <tr>\n",
       "      <td>1928-01-06</td>\n",
       "      <td>NaN</td>\n",
       "      <td>NaN</td>\n",
       "      <td>NaN</td>\n",
       "      <td>NaN</td>\n",
       "      <td>NaN</td>\n",
       "      <td>NaN</td>\n",
       "      <td>NaN</td>\n",
       "      <td>NaN</td>\n",
       "      <td>NaN</td>\n",
       "      <td>NaN</td>\n",
       "      <td>...</td>\n",
       "      <td>NaN</td>\n",
       "      <td>NaN</td>\n",
       "      <td>NaN</td>\n",
       "      <td>NaN</td>\n",
       "      <td>NaN</td>\n",
       "      <td>NaN</td>\n",
       "      <td>NaN</td>\n",
       "      <td>NaN</td>\n",
       "      <td>0.000000e+00</td>\n",
       "      <td>NaN</td>\n",
       "    </tr>\n",
       "    <tr>\n",
       "      <td>...</td>\n",
       "      <td>...</td>\n",
       "      <td>...</td>\n",
       "      <td>...</td>\n",
       "      <td>...</td>\n",
       "      <td>...</td>\n",
       "      <td>...</td>\n",
       "      <td>...</td>\n",
       "      <td>...</td>\n",
       "      <td>...</td>\n",
       "      <td>...</td>\n",
       "      <td>...</td>\n",
       "      <td>...</td>\n",
       "      <td>...</td>\n",
       "      <td>...</td>\n",
       "      <td>...</td>\n",
       "      <td>...</td>\n",
       "      <td>...</td>\n",
       "      <td>...</td>\n",
       "      <td>...</td>\n",
       "      <td>...</td>\n",
       "      <td>...</td>\n",
       "    </tr>\n",
       "    <tr>\n",
       "      <td>2020-04-02</td>\n",
       "      <td>244.929993</td>\n",
       "      <td>1918.829956</td>\n",
       "      <td>188.899994</td>\n",
       "      <td>6.02</td>\n",
       "      <td>96.970001</td>\n",
       "      <td>21.570000</td>\n",
       "      <td>5.79</td>\n",
       "      <td>1.05821</td>\n",
       "      <td>0.88450</td>\n",
       "      <td>1.095362</td>\n",
       "      <td>...</td>\n",
       "      <td>0.0</td>\n",
       "      <td>20886300.0</td>\n",
       "      <td>2838900.0</td>\n",
       "      <td>1964900.0</td>\n",
       "      <td>4446900.0</td>\n",
       "      <td>27810000.0</td>\n",
       "      <td>49630700.0</td>\n",
       "      <td>4592500.0</td>\n",
       "      <td>6.454990e+09</td>\n",
       "      <td>0.0</td>\n",
       "    </tr>\n",
       "    <tr>\n",
       "      <td>2020-04-03</td>\n",
       "      <td>241.410004</td>\n",
       "      <td>1906.589966</td>\n",
       "      <td>187.110001</td>\n",
       "      <td>5.90</td>\n",
       "      <td>93.879997</td>\n",
       "      <td>20.219999</td>\n",
       "      <td>6.82</td>\n",
       "      <td>1.05675</td>\n",
       "      <td>0.87503</td>\n",
       "      <td>1.084740</td>\n",
       "      <td>...</td>\n",
       "      <td>0.0</td>\n",
       "      <td>25983300.0</td>\n",
       "      <td>1910500.0</td>\n",
       "      <td>2313400.0</td>\n",
       "      <td>2801600.0</td>\n",
       "      <td>23906100.0</td>\n",
       "      <td>41243300.0</td>\n",
       "      <td>4860800.0</td>\n",
       "      <td>6.087190e+09</td>\n",
       "      <td>0.0</td>\n",
       "    </tr>\n",
       "    <tr>\n",
       "      <td>2020-04-06</td>\n",
       "      <td>262.470001</td>\n",
       "      <td>1997.589966</td>\n",
       "      <td>196.449997</td>\n",
       "      <td>6.38</td>\n",
       "      <td>99.580002</td>\n",
       "      <td>20.969999</td>\n",
       "      <td>7.11</td>\n",
       "      <td>1.05594</td>\n",
       "      <td>0.88427</td>\n",
       "      <td>1.080696</td>\n",
       "      <td>...</td>\n",
       "      <td>0.0</td>\n",
       "      <td>28453600.0</td>\n",
       "      <td>3663900.0</td>\n",
       "      <td>2664700.0</td>\n",
       "      <td>4689400.0</td>\n",
       "      <td>32323400.0</td>\n",
       "      <td>67021300.0</td>\n",
       "      <td>8183900.0</td>\n",
       "      <td>6.391860e+09</td>\n",
       "      <td>0.0</td>\n",
       "    </tr>\n",
       "    <tr>\n",
       "      <td>2020-04-07</td>\n",
       "      <td>259.429993</td>\n",
       "      <td>NaN</td>\n",
       "      <td>198.000000</td>\n",
       "      <td>6.64</td>\n",
       "      <td>101.239998</td>\n",
       "      <td>20.209999</td>\n",
       "      <td>7.29</td>\n",
       "      <td>1.05629</td>\n",
       "      <td>0.88236</td>\n",
       "      <td>1.080380</td>\n",
       "      <td>...</td>\n",
       "      <td>0.0</td>\n",
       "      <td>31379400.0</td>\n",
       "      <td>NaN</td>\n",
       "      <td>2383000.0</td>\n",
       "      <td>4950700.0</td>\n",
       "      <td>41394700.0</td>\n",
       "      <td>NaN</td>\n",
       "      <td>7040000.0</td>\n",
       "      <td>7.040720e+09</td>\n",
       "      <td>0.0</td>\n",
       "    </tr>\n",
       "    <tr>\n",
       "      <td>2020-04-08</td>\n",
       "      <td>264.630005</td>\n",
       "      <td>2027.190918</td>\n",
       "      <td>194.845001</td>\n",
       "      <td>6.55</td>\n",
       "      <td>101.470001</td>\n",
       "      <td>20.129999</td>\n",
       "      <td>7.68</td>\n",
       "      <td>1.05497</td>\n",
       "      <td>0.87520</td>\n",
       "      <td>1.086130</td>\n",
       "      <td>...</td>\n",
       "      <td>0.0</td>\n",
       "      <td>10165142.0</td>\n",
       "      <td>1109466.0</td>\n",
       "      <td>777313.0</td>\n",
       "      <td>2209800.0</td>\n",
       "      <td>11907456.0</td>\n",
       "      <td>21314450.0</td>\n",
       "      <td>3288033.0</td>\n",
       "      <td>1.481690e+09</td>\n",
       "      <td>0.0</td>\n",
       "    </tr>\n",
       "  </tbody>\n",
       "</table>\n",
       "<p>23374 rows × 114 columns</p>\n",
       "</div>"
      ],
      "text/plain": [
       "             Adj Close                                                        \\\n",
       "                  AAPL         AMZN        BABA    DB         DIS          E   \n",
       "Date                                                                           \n",
       "1927-12-30         NaN          NaN         NaN   NaN         NaN        NaN   \n",
       "1928-01-03         NaN          NaN         NaN   NaN         NaN        NaN   \n",
       "1928-01-04         NaN          NaN         NaN   NaN         NaN        NaN   \n",
       "1928-01-05         NaN          NaN         NaN   NaN         NaN        NaN   \n",
       "1928-01-06         NaN          NaN         NaN   NaN         NaN        NaN   \n",
       "...                ...          ...         ...   ...         ...        ...   \n",
       "2020-04-02  244.929993  1918.829956  188.899994  6.02   96.970001  21.570000   \n",
       "2020-04-03  241.410004  1906.589966  187.110001  5.90   93.879997  20.219999   \n",
       "2020-04-06  262.470001  1997.589966  196.449997  6.38   99.580002  20.969999   \n",
       "2020-04-07  259.429993          NaN  198.000000  6.64  101.239998  20.209999   \n",
       "2020-04-08  264.630005  2027.190918  194.845001  6.55  101.470001  20.129999   \n",
       "\n",
       "                                              ...   Volume              \\\n",
       "            ENIA EURCHF=X EURGBP=X  EURUSD=X  ... EURUSD=X          FB   \n",
       "Date                                          ...                        \n",
       "1927-12-30   NaN      NaN      NaN       NaN  ...      NaN         NaN   \n",
       "1928-01-03   NaN      NaN      NaN       NaN  ...      NaN         NaN   \n",
       "1928-01-04   NaN      NaN      NaN       NaN  ...      NaN         NaN   \n",
       "1928-01-05   NaN      NaN      NaN       NaN  ...      NaN         NaN   \n",
       "1928-01-06   NaN      NaN      NaN       NaN  ...      NaN         NaN   \n",
       "...          ...      ...      ...       ...  ...      ...         ...   \n",
       "2020-04-02  5.79  1.05821  0.88450  1.095362  ...      0.0  20886300.0   \n",
       "2020-04-03  6.82  1.05675  0.87503  1.084740  ...      0.0  25983300.0   \n",
       "2020-04-06  7.11  1.05594  0.88427  1.080696  ...      0.0  28453600.0   \n",
       "2020-04-07  7.29  1.05629  0.88236  1.080380  ...      0.0  31379400.0   \n",
       "2020-04-08  7.68  1.05497  0.87520  1.086130  ...      0.0  10165142.0   \n",
       "\n",
       "                                                                     \\\n",
       "                 FCAU       GOOG         GS        INTC        MSFT   \n",
       "Date                                                                  \n",
       "1927-12-30        NaN        NaN        NaN         NaN         NaN   \n",
       "1928-01-03        NaN        NaN        NaN         NaN         NaN   \n",
       "1928-01-04        NaN        NaN        NaN         NaN         NaN   \n",
       "1928-01-05        NaN        NaN        NaN         NaN         NaN   \n",
       "1928-01-06        NaN        NaN        NaN         NaN         NaN   \n",
       "...               ...        ...        ...         ...         ...   \n",
       "2020-04-02  2838900.0  1964900.0  4446900.0  27810000.0  49630700.0   \n",
       "2020-04-03  1910500.0  2313400.0  2801600.0  23906100.0  41243300.0   \n",
       "2020-04-06  3663900.0  2664700.0  4689400.0  32323400.0  67021300.0   \n",
       "2020-04-07        NaN  2383000.0  4950700.0  41394700.0         NaN   \n",
       "2020-04-08  1109466.0   777313.0  2209800.0  11907456.0  21314450.0   \n",
       "\n",
       "                                          \n",
       "                 NFLX         ^GSPC ^VIX  \n",
       "Date                                      \n",
       "1927-12-30        NaN  0.000000e+00  NaN  \n",
       "1928-01-03        NaN  0.000000e+00  NaN  \n",
       "1928-01-04        NaN  0.000000e+00  NaN  \n",
       "1928-01-05        NaN  0.000000e+00  NaN  \n",
       "1928-01-06        NaN  0.000000e+00  NaN  \n",
       "...               ...           ...  ...  \n",
       "2020-04-02  4592500.0  6.454990e+09  0.0  \n",
       "2020-04-03  4860800.0  6.087190e+09  0.0  \n",
       "2020-04-06  8183900.0  6.391860e+09  0.0  \n",
       "2020-04-07  7040000.0  7.040720e+09  0.0  \n",
       "2020-04-08  3288033.0  1.481690e+09  0.0  \n",
       "\n",
       "[23374 rows x 114 columns]"
      ]
     },
     "execution_count": 25,
     "metadata": {},
     "output_type": "execute_result"
    }
   ],
   "source": [
    "data"
   ]
  },
  {
   "cell_type": "code",
   "execution_count": 26,
   "metadata": {},
   "outputs": [
    {
     "data": {
      "text/plain": [
       "264.6300048828125"
      ]
     },
     "execution_count": 26,
     "metadata": {},
     "output_type": "execute_result"
    }
   ],
   "source": [
    "data[\"Adj Close\"].loc[\"2020-04-08\", \"AAPL\"]"
   ]
  },
  {
   "cell_type": "code",
   "execution_count": 15,
   "metadata": {},
   "outputs": [
    {
     "data": {
      "text/html": [
       "<div>\n",
       "<style scoped>\n",
       "    .dataframe tbody tr th:only-of-type {\n",
       "        vertical-align: middle;\n",
       "    }\n",
       "\n",
       "    .dataframe tbody tr th {\n",
       "        vertical-align: top;\n",
       "    }\n",
       "\n",
       "    .dataframe thead th {\n",
       "        text-align: right;\n",
       "    }\n",
       "</style>\n",
       "<table border=\"1\" class=\"dataframe\">\n",
       "  <thead>\n",
       "    <tr style=\"text-align: right;\">\n",
       "      <th></th>\n",
       "      <th>AAPL</th>\n",
       "      <th>AMZN</th>\n",
       "      <th>BABA</th>\n",
       "      <th>DB</th>\n",
       "      <th>DIS</th>\n",
       "      <th>E</th>\n",
       "      <th>ENIA</th>\n",
       "      <th>EURCHF=X</th>\n",
       "      <th>EURGBP=X</th>\n",
       "      <th>EURUSD=X</th>\n",
       "      <th>FB</th>\n",
       "      <th>FCAU</th>\n",
       "      <th>GOOG</th>\n",
       "      <th>GS</th>\n",
       "      <th>INTC</th>\n",
       "      <th>MSFT</th>\n",
       "      <th>NFLX</th>\n",
       "      <th>^GSPC</th>\n",
       "      <th>^VIX</th>\n",
       "    </tr>\n",
       "    <tr>\n",
       "      <th>Date</th>\n",
       "      <th></th>\n",
       "      <th></th>\n",
       "      <th></th>\n",
       "      <th></th>\n",
       "      <th></th>\n",
       "      <th></th>\n",
       "      <th></th>\n",
       "      <th></th>\n",
       "      <th></th>\n",
       "      <th></th>\n",
       "      <th></th>\n",
       "      <th></th>\n",
       "      <th></th>\n",
       "      <th></th>\n",
       "      <th></th>\n",
       "      <th></th>\n",
       "      <th></th>\n",
       "      <th></th>\n",
       "      <th></th>\n",
       "    </tr>\n",
       "  </thead>\n",
       "  <tbody>\n",
       "    <tr>\n",
       "      <td>1927-12-30</td>\n",
       "      <td>NaN</td>\n",
       "      <td>NaN</td>\n",
       "      <td>NaN</td>\n",
       "      <td>NaN</td>\n",
       "      <td>NaN</td>\n",
       "      <td>NaN</td>\n",
       "      <td>NaN</td>\n",
       "      <td>NaN</td>\n",
       "      <td>NaN</td>\n",
       "      <td>NaN</td>\n",
       "      <td>NaN</td>\n",
       "      <td>NaN</td>\n",
       "      <td>NaN</td>\n",
       "      <td>NaN</td>\n",
       "      <td>NaN</td>\n",
       "      <td>NaN</td>\n",
       "      <td>NaN</td>\n",
       "      <td>17.660000</td>\n",
       "      <td>NaN</td>\n",
       "    </tr>\n",
       "    <tr>\n",
       "      <td>1928-01-03</td>\n",
       "      <td>NaN</td>\n",
       "      <td>NaN</td>\n",
       "      <td>NaN</td>\n",
       "      <td>NaN</td>\n",
       "      <td>NaN</td>\n",
       "      <td>NaN</td>\n",
       "      <td>NaN</td>\n",
       "      <td>NaN</td>\n",
       "      <td>NaN</td>\n",
       "      <td>NaN</td>\n",
       "      <td>NaN</td>\n",
       "      <td>NaN</td>\n",
       "      <td>NaN</td>\n",
       "      <td>NaN</td>\n",
       "      <td>NaN</td>\n",
       "      <td>NaN</td>\n",
       "      <td>NaN</td>\n",
       "      <td>17.760000</td>\n",
       "      <td>NaN</td>\n",
       "    </tr>\n",
       "    <tr>\n",
       "      <td>1928-01-04</td>\n",
       "      <td>NaN</td>\n",
       "      <td>NaN</td>\n",
       "      <td>NaN</td>\n",
       "      <td>NaN</td>\n",
       "      <td>NaN</td>\n",
       "      <td>NaN</td>\n",
       "      <td>NaN</td>\n",
       "      <td>NaN</td>\n",
       "      <td>NaN</td>\n",
       "      <td>NaN</td>\n",
       "      <td>NaN</td>\n",
       "      <td>NaN</td>\n",
       "      <td>NaN</td>\n",
       "      <td>NaN</td>\n",
       "      <td>NaN</td>\n",
       "      <td>NaN</td>\n",
       "      <td>NaN</td>\n",
       "      <td>17.719999</td>\n",
       "      <td>NaN</td>\n",
       "    </tr>\n",
       "    <tr>\n",
       "      <td>1928-01-05</td>\n",
       "      <td>NaN</td>\n",
       "      <td>NaN</td>\n",
       "      <td>NaN</td>\n",
       "      <td>NaN</td>\n",
       "      <td>NaN</td>\n",
       "      <td>NaN</td>\n",
       "      <td>NaN</td>\n",
       "      <td>NaN</td>\n",
       "      <td>NaN</td>\n",
       "      <td>NaN</td>\n",
       "      <td>NaN</td>\n",
       "      <td>NaN</td>\n",
       "      <td>NaN</td>\n",
       "      <td>NaN</td>\n",
       "      <td>NaN</td>\n",
       "      <td>NaN</td>\n",
       "      <td>NaN</td>\n",
       "      <td>17.549999</td>\n",
       "      <td>NaN</td>\n",
       "    </tr>\n",
       "    <tr>\n",
       "      <td>1928-01-06</td>\n",
       "      <td>NaN</td>\n",
       "      <td>NaN</td>\n",
       "      <td>NaN</td>\n",
       "      <td>NaN</td>\n",
       "      <td>NaN</td>\n",
       "      <td>NaN</td>\n",
       "      <td>NaN</td>\n",
       "      <td>NaN</td>\n",
       "      <td>NaN</td>\n",
       "      <td>NaN</td>\n",
       "      <td>NaN</td>\n",
       "      <td>NaN</td>\n",
       "      <td>NaN</td>\n",
       "      <td>NaN</td>\n",
       "      <td>NaN</td>\n",
       "      <td>NaN</td>\n",
       "      <td>NaN</td>\n",
       "      <td>17.660000</td>\n",
       "      <td>NaN</td>\n",
       "    </tr>\n",
       "  </tbody>\n",
       "</table>\n",
       "</div>"
      ],
      "text/plain": [
       "            AAPL  AMZN  BABA  DB  DIS   E  ENIA  EURCHF=X  EURGBP=X  EURUSD=X  \\\n",
       "Date                                                                            \n",
       "1927-12-30   NaN   NaN   NaN NaN  NaN NaN   NaN       NaN       NaN       NaN   \n",
       "1928-01-03   NaN   NaN   NaN NaN  NaN NaN   NaN       NaN       NaN       NaN   \n",
       "1928-01-04   NaN   NaN   NaN NaN  NaN NaN   NaN       NaN       NaN       NaN   \n",
       "1928-01-05   NaN   NaN   NaN NaN  NaN NaN   NaN       NaN       NaN       NaN   \n",
       "1928-01-06   NaN   NaN   NaN NaN  NaN NaN   NaN       NaN       NaN       NaN   \n",
       "\n",
       "            FB  FCAU  GOOG  GS  INTC  MSFT  NFLX      ^GSPC  ^VIX  \n",
       "Date                                                               \n",
       "1927-12-30 NaN   NaN   NaN NaN   NaN   NaN   NaN  17.660000   NaN  \n",
       "1928-01-03 NaN   NaN   NaN NaN   NaN   NaN   NaN  17.760000   NaN  \n",
       "1928-01-04 NaN   NaN   NaN NaN   NaN   NaN   NaN  17.719999   NaN  \n",
       "1928-01-05 NaN   NaN   NaN NaN   NaN   NaN   NaN  17.549999   NaN  \n",
       "1928-01-06 NaN   NaN   NaN NaN   NaN   NaN   NaN  17.660000   NaN  "
      ]
     },
     "execution_count": 15,
     "metadata": {},
     "output_type": "execute_result"
    }
   ],
   "source": [
    "dataClose = data[\"Close\"]"
   ]
  },
  {
   "cell_type": "code",
   "execution_count": 12,
   "metadata": {},
   "outputs": [
    {
     "data": {
      "text/html": [
       "<div>\n",
       "<style scoped>\n",
       "    .dataframe tbody tr th:only-of-type {\n",
       "        vertical-align: middle;\n",
       "    }\n",
       "\n",
       "    .dataframe tbody tr th {\n",
       "        vertical-align: top;\n",
       "    }\n",
       "\n",
       "    .dataframe thead th {\n",
       "        text-align: right;\n",
       "    }\n",
       "</style>\n",
       "<table border=\"1\" class=\"dataframe\">\n",
       "  <thead>\n",
       "    <tr style=\"text-align: right;\">\n",
       "      <th></th>\n",
       "      <th>AAPL</th>\n",
       "      <th>AMZN</th>\n",
       "      <th>BABA</th>\n",
       "      <th>DB</th>\n",
       "      <th>DIS</th>\n",
       "      <th>E</th>\n",
       "      <th>ENIA</th>\n",
       "      <th>EURCHF=X</th>\n",
       "      <th>EURGBP=X</th>\n",
       "      <th>EURUSD=X</th>\n",
       "      <th>FB</th>\n",
       "      <th>FCAU</th>\n",
       "      <th>GOOG</th>\n",
       "      <th>GS</th>\n",
       "      <th>INTC</th>\n",
       "      <th>MSFT</th>\n",
       "      <th>NFLX</th>\n",
       "      <th>^GSPC</th>\n",
       "      <th>^VIX</th>\n",
       "    </tr>\n",
       "    <tr>\n",
       "      <th>Date</th>\n",
       "      <th></th>\n",
       "      <th></th>\n",
       "      <th></th>\n",
       "      <th></th>\n",
       "      <th></th>\n",
       "      <th></th>\n",
       "      <th></th>\n",
       "      <th></th>\n",
       "      <th></th>\n",
       "      <th></th>\n",
       "      <th></th>\n",
       "      <th></th>\n",
       "      <th></th>\n",
       "      <th></th>\n",
       "      <th></th>\n",
       "      <th></th>\n",
       "      <th></th>\n",
       "      <th></th>\n",
       "      <th></th>\n",
       "    </tr>\n",
       "  </thead>\n",
       "  <tbody>\n",
       "    <tr>\n",
       "      <td>1927-12-30</td>\n",
       "      <td>NaN</td>\n",
       "      <td>NaN</td>\n",
       "      <td>NaN</td>\n",
       "      <td>NaN</td>\n",
       "      <td>NaN</td>\n",
       "      <td>NaN</td>\n",
       "      <td>NaN</td>\n",
       "      <td>NaN</td>\n",
       "      <td>NaN</td>\n",
       "      <td>NaN</td>\n",
       "      <td>NaN</td>\n",
       "      <td>NaN</td>\n",
       "      <td>NaN</td>\n",
       "      <td>NaN</td>\n",
       "      <td>NaN</td>\n",
       "      <td>NaN</td>\n",
       "      <td>NaN</td>\n",
       "      <td>17.660000</td>\n",
       "      <td>NaN</td>\n",
       "    </tr>\n",
       "    <tr>\n",
       "      <td>1928-01-03</td>\n",
       "      <td>NaN</td>\n",
       "      <td>NaN</td>\n",
       "      <td>NaN</td>\n",
       "      <td>NaN</td>\n",
       "      <td>NaN</td>\n",
       "      <td>NaN</td>\n",
       "      <td>NaN</td>\n",
       "      <td>NaN</td>\n",
       "      <td>NaN</td>\n",
       "      <td>NaN</td>\n",
       "      <td>NaN</td>\n",
       "      <td>NaN</td>\n",
       "      <td>NaN</td>\n",
       "      <td>NaN</td>\n",
       "      <td>NaN</td>\n",
       "      <td>NaN</td>\n",
       "      <td>NaN</td>\n",
       "      <td>17.760000</td>\n",
       "      <td>NaN</td>\n",
       "    </tr>\n",
       "    <tr>\n",
       "      <td>1928-01-04</td>\n",
       "      <td>NaN</td>\n",
       "      <td>NaN</td>\n",
       "      <td>NaN</td>\n",
       "      <td>NaN</td>\n",
       "      <td>NaN</td>\n",
       "      <td>NaN</td>\n",
       "      <td>NaN</td>\n",
       "      <td>NaN</td>\n",
       "      <td>NaN</td>\n",
       "      <td>NaN</td>\n",
       "      <td>NaN</td>\n",
       "      <td>NaN</td>\n",
       "      <td>NaN</td>\n",
       "      <td>NaN</td>\n",
       "      <td>NaN</td>\n",
       "      <td>NaN</td>\n",
       "      <td>NaN</td>\n",
       "      <td>17.719999</td>\n",
       "      <td>NaN</td>\n",
       "    </tr>\n",
       "    <tr>\n",
       "      <td>1928-01-05</td>\n",
       "      <td>NaN</td>\n",
       "      <td>NaN</td>\n",
       "      <td>NaN</td>\n",
       "      <td>NaN</td>\n",
       "      <td>NaN</td>\n",
       "      <td>NaN</td>\n",
       "      <td>NaN</td>\n",
       "      <td>NaN</td>\n",
       "      <td>NaN</td>\n",
       "      <td>NaN</td>\n",
       "      <td>NaN</td>\n",
       "      <td>NaN</td>\n",
       "      <td>NaN</td>\n",
       "      <td>NaN</td>\n",
       "      <td>NaN</td>\n",
       "      <td>NaN</td>\n",
       "      <td>NaN</td>\n",
       "      <td>17.549999</td>\n",
       "      <td>NaN</td>\n",
       "    </tr>\n",
       "    <tr>\n",
       "      <td>1928-01-06</td>\n",
       "      <td>NaN</td>\n",
       "      <td>NaN</td>\n",
       "      <td>NaN</td>\n",
       "      <td>NaN</td>\n",
       "      <td>NaN</td>\n",
       "      <td>NaN</td>\n",
       "      <td>NaN</td>\n",
       "      <td>NaN</td>\n",
       "      <td>NaN</td>\n",
       "      <td>NaN</td>\n",
       "      <td>NaN</td>\n",
       "      <td>NaN</td>\n",
       "      <td>NaN</td>\n",
       "      <td>NaN</td>\n",
       "      <td>NaN</td>\n",
       "      <td>NaN</td>\n",
       "      <td>NaN</td>\n",
       "      <td>17.660000</td>\n",
       "      <td>NaN</td>\n",
       "    </tr>\n",
       "  </tbody>\n",
       "</table>\n",
       "</div>"
      ],
      "text/plain": [
       "            AAPL  AMZN  BABA  DB  DIS   E  ENIA  EURCHF=X  EURGBP=X  EURUSD=X  \\\n",
       "Date                                                                            \n",
       "1927-12-30   NaN   NaN   NaN NaN  NaN NaN   NaN       NaN       NaN       NaN   \n",
       "1928-01-03   NaN   NaN   NaN NaN  NaN NaN   NaN       NaN       NaN       NaN   \n",
       "1928-01-04   NaN   NaN   NaN NaN  NaN NaN   NaN       NaN       NaN       NaN   \n",
       "1928-01-05   NaN   NaN   NaN NaN  NaN NaN   NaN       NaN       NaN       NaN   \n",
       "1928-01-06   NaN   NaN   NaN NaN  NaN NaN   NaN       NaN       NaN       NaN   \n",
       "\n",
       "            FB  FCAU  GOOG  GS  INTC  MSFT  NFLX      ^GSPC  ^VIX  \n",
       "Date                                                               \n",
       "1927-12-30 NaN   NaN   NaN NaN   NaN   NaN   NaN  17.660000   NaN  \n",
       "1928-01-03 NaN   NaN   NaN NaN   NaN   NaN   NaN  17.760000   NaN  \n",
       "1928-01-04 NaN   NaN   NaN NaN   NaN   NaN   NaN  17.719999   NaN  \n",
       "1928-01-05 NaN   NaN   NaN NaN   NaN   NaN   NaN  17.549999   NaN  \n",
       "1928-01-06 NaN   NaN   NaN NaN   NaN   NaN   NaN  17.660000   NaN  "
      ]
     },
     "execution_count": 12,
     "metadata": {},
     "output_type": "execute_result"
    }
   ],
   "source": [
    "dataClose.head()"
   ]
  },
  {
   "cell_type": "code",
   "execution_count": 13,
   "metadata": {
    "scrolled": true
   },
   "outputs": [
    {
     "data": {
      "text/html": [
       "<div>\n",
       "<style scoped>\n",
       "    .dataframe tbody tr th:only-of-type {\n",
       "        vertical-align: middle;\n",
       "    }\n",
       "\n",
       "    .dataframe tbody tr th {\n",
       "        vertical-align: top;\n",
       "    }\n",
       "\n",
       "    .dataframe thead th {\n",
       "        text-align: right;\n",
       "    }\n",
       "</style>\n",
       "<table border=\"1\" class=\"dataframe\">\n",
       "  <thead>\n",
       "    <tr style=\"text-align: right;\">\n",
       "      <th></th>\n",
       "      <th>AAPL</th>\n",
       "      <th>AMZN</th>\n",
       "      <th>BABA</th>\n",
       "      <th>DB</th>\n",
       "      <th>DIS</th>\n",
       "      <th>E</th>\n",
       "      <th>ENIA</th>\n",
       "      <th>EURCHF=X</th>\n",
       "      <th>EURGBP=X</th>\n",
       "      <th>EURUSD=X</th>\n",
       "      <th>FB</th>\n",
       "      <th>FCAU</th>\n",
       "      <th>GOOG</th>\n",
       "      <th>GS</th>\n",
       "      <th>INTC</th>\n",
       "      <th>MSFT</th>\n",
       "      <th>NFLX</th>\n",
       "      <th>^GSPC</th>\n",
       "      <th>^VIX</th>\n",
       "    </tr>\n",
       "    <tr>\n",
       "      <th>Date</th>\n",
       "      <th></th>\n",
       "      <th></th>\n",
       "      <th></th>\n",
       "      <th></th>\n",
       "      <th></th>\n",
       "      <th></th>\n",
       "      <th></th>\n",
       "      <th></th>\n",
       "      <th></th>\n",
       "      <th></th>\n",
       "      <th></th>\n",
       "      <th></th>\n",
       "      <th></th>\n",
       "      <th></th>\n",
       "      <th></th>\n",
       "      <th></th>\n",
       "      <th></th>\n",
       "      <th></th>\n",
       "      <th></th>\n",
       "    </tr>\n",
       "  </thead>\n",
       "  <tbody>\n",
       "    <tr>\n",
       "      <td>2020-04-02</td>\n",
       "      <td>244.929993</td>\n",
       "      <td>1918.829956</td>\n",
       "      <td>188.899994</td>\n",
       "      <td>6.02</td>\n",
       "      <td>96.970001</td>\n",
       "      <td>21.570000</td>\n",
       "      <td>5.79</td>\n",
       "      <td>1.05821</td>\n",
       "      <td>0.88450</td>\n",
       "      <td>1.095362</td>\n",
       "      <td>158.190002</td>\n",
       "      <td>6.810</td>\n",
       "      <td>1120.839966</td>\n",
       "      <td>149.929993</td>\n",
       "      <td>54.349998</td>\n",
       "      <td>155.259995</td>\n",
       "      <td>370.079987</td>\n",
       "      <td>2526.899902</td>\n",
       "      <td>50.910000</td>\n",
       "    </tr>\n",
       "    <tr>\n",
       "      <td>2020-04-03</td>\n",
       "      <td>241.410004</td>\n",
       "      <td>1906.589966</td>\n",
       "      <td>187.110001</td>\n",
       "      <td>5.90</td>\n",
       "      <td>93.879997</td>\n",
       "      <td>20.219999</td>\n",
       "      <td>6.82</td>\n",
       "      <td>1.05675</td>\n",
       "      <td>0.87503</td>\n",
       "      <td>1.084740</td>\n",
       "      <td>154.179993</td>\n",
       "      <td>6.710</td>\n",
       "      <td>1097.880005</td>\n",
       "      <td>146.929993</td>\n",
       "      <td>54.130001</td>\n",
       "      <td>153.830002</td>\n",
       "      <td>361.760010</td>\n",
       "      <td>2488.649902</td>\n",
       "      <td>46.799999</td>\n",
       "    </tr>\n",
       "    <tr>\n",
       "      <td>2020-04-06</td>\n",
       "      <td>262.470001</td>\n",
       "      <td>1997.589966</td>\n",
       "      <td>196.449997</td>\n",
       "      <td>6.38</td>\n",
       "      <td>99.580002</td>\n",
       "      <td>20.969999</td>\n",
       "      <td>7.11</td>\n",
       "      <td>1.05594</td>\n",
       "      <td>0.88427</td>\n",
       "      <td>1.080696</td>\n",
       "      <td>165.550003</td>\n",
       "      <td>7.250</td>\n",
       "      <td>1186.920044</td>\n",
       "      <td>158.229996</td>\n",
       "      <td>58.430000</td>\n",
       "      <td>165.270004</td>\n",
       "      <td>379.959991</td>\n",
       "      <td>2663.679932</td>\n",
       "      <td>45.240002</td>\n",
       "    </tr>\n",
       "    <tr>\n",
       "      <td>2020-04-07</td>\n",
       "      <td>259.429993</td>\n",
       "      <td>NaN</td>\n",
       "      <td>198.000000</td>\n",
       "      <td>6.64</td>\n",
       "      <td>101.239998</td>\n",
       "      <td>20.209999</td>\n",
       "      <td>7.29</td>\n",
       "      <td>1.05629</td>\n",
       "      <td>0.88236</td>\n",
       "      <td>1.080380</td>\n",
       "      <td>168.830002</td>\n",
       "      <td>NaN</td>\n",
       "      <td>1186.510010</td>\n",
       "      <td>166.020004</td>\n",
       "      <td>58.400002</td>\n",
       "      <td>NaN</td>\n",
       "      <td>372.279999</td>\n",
       "      <td>2659.409912</td>\n",
       "      <td>46.700001</td>\n",
       "    </tr>\n",
       "    <tr>\n",
       "      <td>2020-04-08</td>\n",
       "      <td>264.630005</td>\n",
       "      <td>2027.190918</td>\n",
       "      <td>194.845001</td>\n",
       "      <td>6.55</td>\n",
       "      <td>101.470001</td>\n",
       "      <td>20.129999</td>\n",
       "      <td>7.68</td>\n",
       "      <td>1.05497</td>\n",
       "      <td>0.87520</td>\n",
       "      <td>1.086130</td>\n",
       "      <td>171.460007</td>\n",
       "      <td>7.775</td>\n",
       "      <td>1205.102661</td>\n",
       "      <td>173.750000</td>\n",
       "      <td>58.799999</td>\n",
       "      <td>164.979095</td>\n",
       "      <td>371.399994</td>\n",
       "      <td>2720.389893</td>\n",
       "      <td>42.860001</td>\n",
       "    </tr>\n",
       "  </tbody>\n",
       "</table>\n",
       "</div>"
      ],
      "text/plain": [
       "                  AAPL         AMZN        BABA    DB         DIS          E  \\\n",
       "Date                                                                           \n",
       "2020-04-02  244.929993  1918.829956  188.899994  6.02   96.970001  21.570000   \n",
       "2020-04-03  241.410004  1906.589966  187.110001  5.90   93.879997  20.219999   \n",
       "2020-04-06  262.470001  1997.589966  196.449997  6.38   99.580002  20.969999   \n",
       "2020-04-07  259.429993          NaN  198.000000  6.64  101.239998  20.209999   \n",
       "2020-04-08  264.630005  2027.190918  194.845001  6.55  101.470001  20.129999   \n",
       "\n",
       "            ENIA  EURCHF=X  EURGBP=X  EURUSD=X          FB   FCAU  \\\n",
       "Date                                                                \n",
       "2020-04-02  5.79   1.05821   0.88450  1.095362  158.190002  6.810   \n",
       "2020-04-03  6.82   1.05675   0.87503  1.084740  154.179993  6.710   \n",
       "2020-04-06  7.11   1.05594   0.88427  1.080696  165.550003  7.250   \n",
       "2020-04-07  7.29   1.05629   0.88236  1.080380  168.830002    NaN   \n",
       "2020-04-08  7.68   1.05497   0.87520  1.086130  171.460007  7.775   \n",
       "\n",
       "                   GOOG          GS       INTC        MSFT        NFLX  \\\n",
       "Date                                                                     \n",
       "2020-04-02  1120.839966  149.929993  54.349998  155.259995  370.079987   \n",
       "2020-04-03  1097.880005  146.929993  54.130001  153.830002  361.760010   \n",
       "2020-04-06  1186.920044  158.229996  58.430000  165.270004  379.959991   \n",
       "2020-04-07  1186.510010  166.020004  58.400002         NaN  372.279999   \n",
       "2020-04-08  1205.102661  173.750000  58.799999  164.979095  371.399994   \n",
       "\n",
       "                  ^GSPC       ^VIX  \n",
       "Date                                \n",
       "2020-04-02  2526.899902  50.910000  \n",
       "2020-04-03  2488.649902  46.799999  \n",
       "2020-04-06  2663.679932  45.240002  \n",
       "2020-04-07  2659.409912  46.700001  \n",
       "2020-04-08  2720.389893  42.860001  "
      ]
     },
     "execution_count": 13,
     "metadata": {},
     "output_type": "execute_result"
    }
   ],
   "source": [
    "dataClose.tail()"
   ]
  },
  {
   "cell_type": "code",
   "execution_count": 19,
   "metadata": {},
   "outputs": [
    {
     "name": "stdout",
     "output_type": "stream",
     "text": [
      "Wall time: 620 ms\n"
     ]
    }
   ],
   "source": [
    "filePath = os.path.join(dataFolderPath, \"closing_price_dataset.csv\")\n",
    "\n",
    "%time dataClose.to_csv(path_or_buf = filePath)"
   ]
  },
  {
   "cell_type": "code",
   "execution_count": 24,
   "metadata": {},
   "outputs": [],
   "source": [
    "# %time dataClose_reloaded = pd.read_csv(filepath_or_buffer = filePath, index_col = 0, parse_dates = True)\n",
    "# dataClose_reloaded.tail()\n",
    "# dataClose.index"
   ]
  },
  {
   "cell_type": "code",
   "execution_count": null,
   "metadata": {},
   "outputs": [],
   "source": [
    "# removeFile(filePath)"
   ]
  },
  {
   "cell_type": "markdown",
   "metadata": {},
   "source": [
    "## 1.3. Data Exploration <a name=\"data-exploration\"></a>"
   ]
  },
  {
   "cell_type": "markdown",
   "metadata": {},
   "source": [
    "### 1.3.1. Summary Statistics <a name=\"summary-statistics\"></a>"
   ]
  },
  {
   "cell_type": "markdown",
   "metadata": {},
   "source": [
    "### 1.3.2. Returns <a name=\"returns\"></a>"
   ]
  },
  {
   "cell_type": "markdown",
   "metadata": {},
   "source": [
    "Fare plot stacked dei returns"
   ]
  },
  {
   "cell_type": "markdown",
   "metadata": {},
   "source": [
    "### 1.3.3. Resampling <a name=\"resampling\"></a>"
   ]
  },
  {
   "cell_type": "markdown",
   "metadata": {},
   "source": [
    "### 1.3.4. Rolling Statistics <a name=\"rolling-statistics\"></a>"
   ]
  },
  {
   "cell_type": "markdown",
   "metadata": {},
   "source": [
    "- mean e std e 1-variate stuff"
   ]
  },
  {
   "cell_type": "markdown",
   "metadata": {},
   "source": [
    "#### 1.3.4.1 Rolling Correlation Matrix <a name=\"rolling-correlation-matrix\"></a>"
   ]
  },
  {
   "cell_type": "markdown",
   "metadata": {},
   "source": [
    "### 1.3.5. _Focus on:_ Covid-19 crisis <a name=\"focus-on:-covid-19-crisis\"></a>"
   ]
  },
  {
   "cell_type": "markdown",
   "metadata": {},
   "source": [
    "## 1.3. S&P500 - VIX correlation analysis <a name=\"s&p500-vix-correlation-analysis\"></a>"
   ]
  }
 ],
 "metadata": {
  "kernelspec": {
   "display_name": "Python 3",
   "language": "python",
   "name": "python3"
  },
  "language_info": {
   "codemirror_mode": {
    "name": "ipython",
    "version": 3
   },
   "file_extension": ".py",
   "mimetype": "text/x-python",
   "name": "python",
   "nbconvert_exporter": "python",
   "pygments_lexer": "ipython3",
   "version": "3.7.4"
  }
 },
 "nbformat": 4,
 "nbformat_minor": 2
}
