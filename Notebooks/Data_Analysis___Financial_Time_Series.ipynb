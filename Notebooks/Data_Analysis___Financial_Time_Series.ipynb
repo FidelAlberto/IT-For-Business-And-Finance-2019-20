{
 "cells": [
  {
   "cell_type": "markdown",
   "metadata": {},
   "source": [
    "# Data Analysis - Financial Time Series"
   ]
  },
  {
   "cell_type": "markdown",
   "metadata": {},
   "source": [
    "**Author**: [Gabriele Pompa](https://www.linkedin.com/in/gabrielepompa/): gabriele.pompa@unisi.com"
   ]
  },
  {
   "cell_type": "markdown",
   "metadata": {},
   "source": [
    "# Table of contents\n",
    "\n",
    "[Executive Summary](#summary)\n",
    "\n",
    "**TODO**"
   ]
  },
  {
   "cell_type": "markdown",
   "metadata": {},
   "source": [
    "### **Resources**: \n",
    "\n",
    "**TODO**"
   ]
  },
  {
   "cell_type": "markdown",
   "metadata": {},
   "source": [
    "# Executive Summary <a name=\"summary\"></a>"
   ]
  },
  {
   "cell_type": "markdown",
   "metadata": {},
   "source": [
    "**TODO**"
   ]
  },
  {
   "cell_type": "markdown",
   "metadata": {},
   "source": [
    "These are the basic imports that we need to work with NumPy, Pandas and to plot data using Matplotlib functionalities"
   ]
  },
  {
   "cell_type": "code",
   "execution_count": 1,
   "metadata": {},
   "outputs": [],
   "source": [
    "# for NumPy arrays\n",
    "import numpy as np\n",
    "\n",
    "# for Pandas Series and DataFrame\n",
    "import pandas as pd\n",
    "\n",
    "# for Matplotlib plotting\n",
    "import matplotlib.pyplot as plt\n",
    "\n",
    "# to do inline plots in the Notebook\n",
    "%matplotlib inline\n",
    "\n",
    "# for Operating System operations\n",
    "import os"
   ]
  },
  {
   "cell_type": "markdown",
   "metadata": {},
   "source": [
    "# 1. Introduction <a name=\"introduction\"></a>"
   ]
  },
  {
   "cell_type": "markdown",
   "metadata": {},
   "source": [
    "When you need to process data using a programming languages, either you have your data stored in a file or database (as we have seen in the previous lesson) or you get your data from a Data Provider, such as Bloomberg, Reuters, etc."
   ]
  },
  {
   "cell_type": "markdown",
   "metadata": {},
   "source": [
    "Typically, data providers store secured their data in remote servers and expose interfaces to the public: these are called [Application Programming Interfaces](https://en.wikipedia.org/wiki/Application_programming_interface) (APIs). For what concern us, an API is a particular piece of code that allows you to get data from a data provider."
   ]
  },
  {
   "cell_type": "markdown",
   "metadata": {},
   "source": [
    "There are plenty of APIs which manage the interface between Python code and financial data, like [Reuters Eikon Data API](https://developers.refinitiv.com/eikon-apis/eikon-data-api). Being a business in itself, most of APIs to retrieve financial data are not for free."
   ]
  },
  {
   "cell_type": "markdown",
   "metadata": {},
   "source": [
    "Luckily for us, and thanks to people like [Ran Aroussi](https://aroussi.com/), we have a Python API, called [yfinance](https://github.com/ranaroussi/yfinance), which is 100% free:\n",
    "\n",
    "- yfinance Github page: [https://github.com/ranaroussi/yfinance](https://github.com/ranaroussi/yfinance);\n",
    "- Blog post form Ran Aroussi with a yfinance tutorial: [https://aroussi.com/post/python-yahoo-finance](https://aroussi.com/post/python-yahoo-finance).\n",
    "\n",
    "In a nutshell, yfinance - named after the now decommissioned _Yahoo! Finance_ API, is a reliable Python API to retrieve market data."
   ]
  },
  {
   "cell_type": "markdown",
   "metadata": {},
   "source": [
    "The yfinance API comes under the form of a Python module: `yfinance`. We shall see now how to include it in our Conda installation. "
   ]
  },
  {
   "cell_type": "markdown",
   "metadata": {},
   "source": [
    "## 1.1. Installing `yfinance` <a name=\"installing-yfinance\"></a>"
   ]
  },
  {
   "cell_type": "markdown",
   "metadata": {},
   "source": [
    "All you need to do to install yfinance library is to:\n",
    "\n",
    "- (If not done already) In your Anaconda Navigator switch to the class `ITForBusAndFin2020_env` conda environment (see [Figure 1](#anaconda_nav_and_env)). For Mac users: in case you are working under `base (root)` environment, it's ok, you can stay there.\n",
    "\n",
    "| ![](../images/anaconda_nav_and_env.PNG) <a name=\"anaconda_nav_and_env\"></a>| \n",
    "|:--:| \n",
    "| _**Figure 1**: in Anaconda Navigator, switch to the class conda environment_ |\n",
    "\n",
    "- (iIf not done already) Open your terminal window (the usual black command line window) using the _CMD.exe Prompt_ app or the _console_shortcut_ app in the Anaconda Navigator (both apps are fine and you have displayed one or the other depending on whether you have already updated the Anaconda Navigator or not yet, see [Figure 2](#open_terminal)).\n",
    "\n",
    "| ![](../images/CMD_exe.PNG) | \n",
    "|:--:| \n",
    "| ![](../images/console_shortcut.PNG) | \n",
    "| _**Figure 2**: Open a Terminal window using the  CMD.exe Prompt app or console_shorcut app in Anaconda Navigator_ <a name=\"open_terminal\"></a>|\n",
    "\n",
    "- (If not done already) In the terminal window, change directory to your local class folder typing `cd` followed by the complete path to the class folder, like `C:\\Users\\gabri\\Projects\\IT_For_Business_And_Finance_2019_20` on my local machine (see [Figure 3](#yfinance_png) below) \n",
    "\n",
    "\n",
    "- In the terminal window type the command to install `yfinance` (see [Figure 3](#yfinance_png)):\n",
    "  ```\n",
    "  pip install yfinance --upgrade --no-cache-dir\n",
    "  ```\n",
    "  \n",
    "| ![](../images/yfinance.png) <a name=\"yfinance_png\"></a>| \n",
    "|:--:| \n",
    "| _**Figure 3**: change directory to the class folder and install `yfinance` package in conda_ |\n",
    "\n",
    "\n",
    "\n",
    "- Always type `y` when asked for installation confirmation;\n",
    "\n",
    "\n",
    "- You can check that `yfinance` is now part of the packages available in your conda environment typing\n",
    "  ```\n",
    "  conda list \n",
    "  ```\n",
    "  which lists all the packages installed (see resulting screen from `conda list` command in [Figure 4](#conda_list_yfinance))\n",
    "\n",
    "| ![](../images/conda_list_yfinance.png) <a name=\"conda_list_yfinance\"></a>| \n",
    "|:--:| \n",
    "| _**Figure 4**: check that `yfinance` is installed, typing `conda list`_ |\n"
   ]
  },
  {
   "cell_type": "markdown",
   "metadata": {},
   "source": [
    "## 1.2. `yfinance` basic usage <a name=\"yfinance-basic-usage\"></a>"
   ]
  },
  {
   "cell_type": "markdown",
   "metadata": {},
   "source": [
    "To use yfinance library, we just import the corresponding `yfinance` Python module, giving it the `yf` alias."
   ]
  },
  {
   "cell_type": "code",
   "execution_count": 2,
   "metadata": {},
   "outputs": [],
   "source": [
    "import yfinance as yf"
   ]
  },
  {
   "cell_type": "markdown",
   "metadata": {},
   "source": [
    "For details on `yfinance` usage, see the [dedicated blog post](https://aroussi.com/post/python-yahoo-finance) from Ran Aroussi. Broadly speaking, `yfinance` allows you to:\n",
    "\n",
    "- get market and meta data for one (or more than one) security, using the `yf.Ticker()` module;\n",
    "- doing mass download of market data, using the `yf.download()` function."
   ]
  },
  {
   "cell_type": "markdown",
   "metadata": {},
   "source": [
    "Let's reuse the utility function to delete files"
   ]
  },
  {
   "cell_type": "code",
   "execution_count": 3,
   "metadata": {},
   "outputs": [],
   "source": [
    "def removeFile(fileName):\n",
    "    \"\"\"\n",
    "    removeFile(fileName) function remove file 'fileName', if it exists. It also prints on screen a success/failure message.\n",
    "    \n",
    "    Parameters:\n",
    "        fileName (str): name of the file ('Data' folder is assumed)\n",
    "        \n",
    "    Returns:\n",
    "        None\n",
    "    \"\"\"\n",
    "\n",
    "    if os.path.isfile(os.path.join(dataFolderPath, fileName)):\n",
    "        os.remove(os.path.join(dataFolderPath, fileName))\n",
    "\n",
    "        # double-check if file still exists\n",
    "        fileStillExists = os.path.isfile(os.path.join(dataFolderPath, fileName))\n",
    "\n",
    "        if fileStillExists:\n",
    "            print(\"Failure: file {} still exists...\".format(fileName))\n",
    "        else:\n",
    "            print(\"Success: file {} successfully removed!\".format(fileName))\n",
    "            \n",
    "    else:\n",
    "        print(\"File {} already removed.\".format(fileName))"
   ]
  },
  {
   "cell_type": "code",
   "execution_count": 4,
   "metadata": {},
   "outputs": [],
   "source": [
    "downloadData = False #True"
   ]
  },
  {
   "cell_type": "markdown",
   "metadata": {},
   "source": [
    "### 1.2.1. How to lookup for a Yahoo! Finance ticker of a security <a name=\"how-to-lookup-for-a-ticker-of-a-security\"></a>"
   ]
  },
  {
   "cell_type": "markdown",
   "metadata": {},
   "source": [
    "If you want to get market data and information for a security, you need to use the `yf.Ticker()` module, which takes in input the appropriate security symbol:\n",
    "\n",
    "```python\n",
    "yf.Ticker(SymbolString)\n",
    "```\n",
    "\n",
    "where `SymbolString` is the Python String representing the symbol ticker of the desired security (like 'AAPL', 'MSFT', etc.)."
   ]
  },
  {
   "cell_type": "markdown",
   "metadata": {},
   "source": [
    "Most symbols are well known from financial news (like 'AAPL' for Apple Inc. or 'MSFT' for Microsoft Corporation, etc.), but in case you know the public name of a company or security but don't remember the corresponding symbol, you can use the [Symbol Lookup from Yahoo Finance](https://finance.yahoo.com/lookup/). "
   ]
  },
  {
   "cell_type": "markdown",
   "metadata": {},
   "source": [
    "Suppose you want to look for the Fiat Chrysler Automobiles symbol. Start writing the public name of the company in the search bar and you get the back the information that the symbol is **'FCAU'**."
   ]
  },
  {
   "cell_type": "markdown",
   "metadata": {},
   "source": [
    "| ![](../images/yahoo_symbol_lookup.png) <a name=\"yahoo_symbol_lookup\"></a>| \n",
    "|:--:| \n",
    "| _**Figure 5**: Symbol Lookup from Yahoo Finance_ |"
   ]
  },
  {
   "cell_type": "markdown",
   "metadata": {},
   "source": [
    "Here is a list of tickers that we will use in this notebook\n",
    "\n",
    "Yahoo! Finance ticker | Name\n",
    ":---: | :---\n",
    "    'AAPL' | Apple Inc. Stock\n",
    "    'GOOG' | Alphabet Inc. Stock\n",
    "    'FB'   | Facebook, Inc. Stock\n",
    "    'MSFT' | Microsoft Corporation Stock\n",
    "    'INTC' | Intel Corporation Stock\n",
    "    'AMZN' | Amazon.com, Inc. Stock\n",
    "    'BABA' | Alibaba Group Holding Limited Stock\n",
    "    'NFLX' | Netflix, Inc. Stock\n",
    "    'DIS'  | The Walt Disney Company Stock\n",
    "    'GS'   | The Goldman Sachs Group, Inc. Stock\n",
    "    'DB'   | Deutsche Bank Aktiengesellschaft Stock\n",
    "    '^GSPC'| S&P 500 Index\n",
    "    '^VIX' | CBOE Volatility Index\n",
    "    'EURUSD=X' | EUR/USD Exchange Rate\n",
    "    'EURCHF=X' | EUR/CHF Exchange Rate\n",
    "    'EURGBP=X' | EUR/GBP Exchange Rate\n",
    "    'FCAU' | Fiat Chrysler Automobiles N.V.\n",
    "    'E' | Eni S.p.A. Stock\n",
    "    'ENIA' | Enel Americas S.A. Stock"
   ]
  },
  {
   "cell_type": "markdown",
   "metadata": {},
   "source": [
    "### 1.2.2. How to get market and meta data for a security: `yf.Ticker()` module <a name=\"get-market-and-meta-data:-yf.ticker()-module\"></a>"
   ]
  },
  {
   "cell_type": "code",
   "execution_count": 5,
   "metadata": {},
   "outputs": [
    {
     "data": {
      "text/plain": [
       "yfinance.Ticker object <AAPL>"
      ]
     },
     "execution_count": 5,
     "metadata": {},
     "output_type": "execute_result"
    }
   ],
   "source": [
    "aapl = yf.Ticker(\"AAPL\")\n",
    "aapl"
   ]
  },
  {
   "cell_type": "code",
   "execution_count": 6,
   "metadata": {},
   "outputs": [],
   "source": [
    "import json"
   ]
  },
  {
   "cell_type": "code",
   "execution_count": 7,
   "metadata": {},
   "outputs": [],
   "source": [
    "dataFolderPath = \"../Data\""
   ]
  },
  {
   "cell_type": "code",
   "execution_count": 8,
   "metadata": {},
   "outputs": [],
   "source": [
    "filePath = os.path.join(dataFolderPath, \"AAPL_Stock_Info.json\")"
   ]
  },
  {
   "cell_type": "code",
   "execution_count": 9,
   "metadata": {
    "scrolled": true
   },
   "outputs": [
    {
     "name": "stdout",
     "output_type": "stream",
     "text": [
      "Wall time: 998 µs\n"
     ]
    },
    {
     "data": {
      "text/plain": [
       "{'zip': '95014',\n",
       " 'sector': 'Technology',\n",
       " 'fullTimeEmployees': 137000,\n",
       " 'longBusinessSummary': 'Apple Inc. designs, manufactures, and markets smartphones, personal computers, tablets, wearables, and accessories worldwide. It also sells various related services. The company offers iPhone, a line of smartphones; Mac, a line of personal computers; iPad, a line of multi-purpose tablets; and wearables, home, and accessories comprising AirPods, Apple TV, Apple Watch, Beats products, HomePod, iPod touch, and other Apple-branded and third-party accessories. It also provides digital content stores and streaming services; AppleCare support services; and iCloud, a cloud service, which stores music, photos, contacts, calendars, mail, documents, and others. In addition, the company offers various service, such as Apple Arcade, a game subscription service; Apple Card, a co-branded credit card; Apple News+, a subscription news and magazine service; and Apple Pay, a cashless payment service, as well as licenses its intellectual property, and provides other related services. The company serves consumers, and small and mid-sized businesses; and the education, enterprise, and government markets. It sells and delivers third-party applications for its products through the App Store, Mac App Store, and Watch App Store. The company also sells its products through its retail and online stores, and direct sales force; and third-party cellular network carriers, wholesalers, retailers, and resellers. Apple Inc. was founded in 1977 and is headquartered in Cupertino, California.',\n",
       " 'city': 'Cupertino',\n",
       " 'phone': '408-996-1010',\n",
       " 'state': 'CA',\n",
       " 'country': 'United States',\n",
       " 'companyOfficers': [],\n",
       " 'website': 'http://www.apple.com',\n",
       " 'maxAge': 1,\n",
       " 'address1': 'One Apple Park Way',\n",
       " 'industry': 'Consumer Electronics',\n",
       " 'previousClose': 259.43,\n",
       " 'regularMarketOpen': 262.74,\n",
       " 'twoHundredDayAverage': 272.18396,\n",
       " 'trailingAnnualDividendYield': 0.0117179975,\n",
       " 'payoutRatio': 0.2394,\n",
       " 'volume24Hr': None,\n",
       " 'regularMarketDayHigh': 267.37,\n",
       " 'navPrice': None,\n",
       " 'averageDailyVolume10Day': 43257066,\n",
       " 'totalAssets': None,\n",
       " 'regularMarketPreviousClose': 259.43,\n",
       " 'fiftyDayAverage': 270.4357,\n",
       " 'trailingAnnualDividendRate': 3.04,\n",
       " 'open': 262.74,\n",
       " 'toCurrency': None,\n",
       " 'averageVolume10days': 43257066,\n",
       " 'expireDate': None,\n",
       " 'yield': None,\n",
       " 'algorithm': None,\n",
       " 'dividendRate': 3.08,\n",
       " 'exDividendDate': 1581033600,\n",
       " 'beta': 1.173542,\n",
       " 'circulatingSupply': None,\n",
       " 'startDate': None,\n",
       " 'regularMarketDayLow': 261.23,\n",
       " 'priceHint': 2,\n",
       " 'currency': 'USD',\n",
       " 'trailingPE': 21.12505,\n",
       " 'regularMarketVolume': 39582531,\n",
       " 'lastMarket': None,\n",
       " 'maxSupply': None,\n",
       " 'openInterest': None,\n",
       " 'marketCap': 1164183994368,\n",
       " 'volumeAllCurrencies': None,\n",
       " 'strikePrice': None,\n",
       " 'averageVolume': 49993640,\n",
       " 'priceToSalesTrailing12Months': 4.3491144,\n",
       " 'dayLow': 261.23,\n",
       " 'ask': 266.61,\n",
       " 'ytdReturn': None,\n",
       " 'askSize': 900,\n",
       " 'volume': 39582531,\n",
       " 'fiftyTwoWeekHigh': 327.85,\n",
       " 'forwardPE': 17.597223,\n",
       " 'fromCurrency': None,\n",
       " 'fiveYearAvgDividendYield': 1.6,\n",
       " 'fiftyTwoWeekLow': 170.27,\n",
       " 'bid': 266.71,\n",
       " 'tradeable': True,\n",
       " 'dividendYield': 0.0119,\n",
       " 'bidSize': 1400,\n",
       " 'dayHigh': 267.37,\n",
       " 'exchange': 'NMS',\n",
       " 'shortName': 'Apple Inc.',\n",
       " 'longName': 'Apple Inc.',\n",
       " 'exchangeTimezoneName': 'America/New_York',\n",
       " 'exchangeTimezoneShortName': 'EDT',\n",
       " 'isEsgPopulated': False,\n",
       " 'gmtOffSetMilliseconds': '-14400000',\n",
       " 'quoteType': 'EQUITY',\n",
       " 'symbol': 'AAPL',\n",
       " 'messageBoardId': 'finmb_24937',\n",
       " 'market': 'us_market',\n",
       " 'annualHoldingsTurnover': None,\n",
       " 'enterpriseToRevenue': 4.276,\n",
       " 'beta3Year': None,\n",
       " 'profitMargins': 0.21490999,\n",
       " 'enterpriseToEbitda': 14.653,\n",
       " '52WeekChange': 0.3082943,\n",
       " 'morningStarRiskRating': None,\n",
       " 'forwardEps': 15.12,\n",
       " 'revenueQuarterlyGrowth': None,\n",
       " 'sharesOutstanding': 4375479808,\n",
       " 'fundInceptionDate': None,\n",
       " 'annualReportExpenseRatio': None,\n",
       " 'bookValue': 20.418,\n",
       " 'sharesShort': 38427917,\n",
       " 'sharesPercentSharesOut': 0.0088,\n",
       " 'fundFamily': None,\n",
       " 'lastFiscalYearEnd': 1569628800,\n",
       " 'heldPercentInstitutions': 0.61777,\n",
       " 'netIncomeToCommon': 57527001088,\n",
       " 'trailingEps': 12.595,\n",
       " 'lastDividendValue': None,\n",
       " 'SandP52WeekChange': -0.07774019,\n",
       " 'priceToBook': 13.03115,\n",
       " 'heldPercentInsiders': 0.00066,\n",
       " 'nextFiscalYearEnd': 1632787200,\n",
       " 'mostRecentQuarter': 1577491200,\n",
       " 'shortRatio': 0.65,\n",
       " 'sharesShortPreviousMonthDate': 1581638400,\n",
       " 'floatShares': 4370491953,\n",
       " 'enterpriseValue': 1144719802368,\n",
       " 'threeYearAverageReturn': None,\n",
       " 'lastSplitDate': 1402272000,\n",
       " 'lastSplitFactor': '7:1',\n",
       " 'legalType': None,\n",
       " 'morningStarOverallRating': None,\n",
       " 'earningsQuarterlyGrowth': 0.114,\n",
       " 'dateShortInterest': 1584057600,\n",
       " 'pegRatio': 1.71,\n",
       " 'lastCapGain': None,\n",
       " 'shortPercentOfFloat': 0.0088,\n",
       " 'sharesShortPriorMonth': 40890848,\n",
       " 'category': None,\n",
       " 'fiveYearAverageReturn': None,\n",
       " 'regularMarketPrice': 262.74,\n",
       " 'logo_url': 'https://logo.clearbit.com/apple.com'}"
      ]
     },
     "execution_count": 9,
     "metadata": {},
     "output_type": "execute_result"
    }
   ],
   "source": [
    "if downloadData:\n",
    "    %time aapl_info = aapl.info\n",
    "\n",
    "else:\n",
    "    with open(filePath, 'r') as file:\n",
    "        %time aapl_info = json.load(file)\n",
    "\n",
    "aapl_info"
   ]
  },
  {
   "cell_type": "code",
   "execution_count": 10,
   "metadata": {},
   "outputs": [
    {
     "data": {
      "text/plain": [
       "'Apple Inc. designs, manufactures, and markets smartphones, personal computers, tablets, wearables, and accessories worldwide. It also sells various related services. The company offers iPhone, a line of smartphones; Mac, a line of personal computers; iPad, a line of multi-purpose tablets; and wearables, home, and accessories comprising AirPods, Apple TV, Apple Watch, Beats products, HomePod, iPod touch, and other Apple-branded and third-party accessories. It also provides digital content stores and streaming services; AppleCare support services; and iCloud, a cloud service, which stores music, photos, contacts, calendars, mail, documents, and others. In addition, the company offers various service, such as Apple Arcade, a game subscription service; Apple Card, a co-branded credit card; Apple News+, a subscription news and magazine service; and Apple Pay, a cashless payment service, as well as licenses its intellectual property, and provides other related services. The company serves consumers, and small and mid-sized businesses; and the education, enterprise, and government markets. It sells and delivers third-party applications for its products through the App Store, Mac App Store, and Watch App Store. The company also sells its products through its retail and online stores, and direct sales force; and third-party cellular network carriers, wholesalers, retailers, and resellers. Apple Inc. was founded in 1977 and is headquartered in Cupertino, California.'"
      ]
     },
     "execution_count": 10,
     "metadata": {},
     "output_type": "execute_result"
    }
   ],
   "source": [
    "aapl_info['longBusinessSummary']"
   ]
  },
  {
   "cell_type": "code",
   "execution_count": 11,
   "metadata": {},
   "outputs": [
    {
     "data": {
      "text/plain": [
       "259.43"
      ]
     },
     "execution_count": 11,
     "metadata": {},
     "output_type": "execute_result"
    }
   ],
   "source": [
    "aapl_info['regularMarketPreviousClose']"
   ]
  },
  {
   "cell_type": "code",
   "execution_count": 12,
   "metadata": {},
   "outputs": [],
   "source": [
    "if downloadData:\n",
    "    with open(filePath, 'w') as file:\n",
    "        %time json.dump(aapl_info, file, indent=\"\\t\")"
   ]
  },
  {
   "cell_type": "code",
   "execution_count": 13,
   "metadata": {},
   "outputs": [],
   "source": [
    "# removeFile(filePath)"
   ]
  },
  {
   "cell_type": "code",
   "execution_count": 14,
   "metadata": {
    "scrolled": true
   },
   "outputs": [
    {
     "data": {
      "text/html": [
       "<div>\n",
       "<style scoped>\n",
       "    .dataframe tbody tr th:only-of-type {\n",
       "        vertical-align: middle;\n",
       "    }\n",
       "\n",
       "    .dataframe tbody tr th {\n",
       "        vertical-align: top;\n",
       "    }\n",
       "\n",
       "    .dataframe thead th {\n",
       "        text-align: right;\n",
       "    }\n",
       "</style>\n",
       "<table border=\"1\" class=\"dataframe\">\n",
       "  <thead>\n",
       "    <tr style=\"text-align: right;\">\n",
       "      <th></th>\n",
       "      <th>Dividends</th>\n",
       "      <th>Stock Splits</th>\n",
       "    </tr>\n",
       "    <tr>\n",
       "      <th>Date</th>\n",
       "      <th></th>\n",
       "      <th></th>\n",
       "    </tr>\n",
       "  </thead>\n",
       "  <tbody>\n",
       "    <tr>\n",
       "      <td>1987-05-11</td>\n",
       "      <td>0.00214</td>\n",
       "      <td>0.0</td>\n",
       "    </tr>\n",
       "    <tr>\n",
       "      <td>1987-06-16</td>\n",
       "      <td>0.00000</td>\n",
       "      <td>2.0</td>\n",
       "    </tr>\n",
       "    <tr>\n",
       "      <td>1987-08-10</td>\n",
       "      <td>0.00214</td>\n",
       "      <td>0.0</td>\n",
       "    </tr>\n",
       "    <tr>\n",
       "      <td>1987-11-17</td>\n",
       "      <td>0.00286</td>\n",
       "      <td>0.0</td>\n",
       "    </tr>\n",
       "    <tr>\n",
       "      <td>1988-02-12</td>\n",
       "      <td>0.00286</td>\n",
       "      <td>0.0</td>\n",
       "    </tr>\n",
       "    <tr>\n",
       "      <td>...</td>\n",
       "      <td>...</td>\n",
       "      <td>...</td>\n",
       "    </tr>\n",
       "    <tr>\n",
       "      <td>2019-02-08</td>\n",
       "      <td>0.73000</td>\n",
       "      <td>0.0</td>\n",
       "    </tr>\n",
       "    <tr>\n",
       "      <td>2019-05-10</td>\n",
       "      <td>0.77000</td>\n",
       "      <td>0.0</td>\n",
       "    </tr>\n",
       "    <tr>\n",
       "      <td>2019-08-09</td>\n",
       "      <td>0.77000</td>\n",
       "      <td>0.0</td>\n",
       "    </tr>\n",
       "    <tr>\n",
       "      <td>2019-11-07</td>\n",
       "      <td>0.77000</td>\n",
       "      <td>0.0</td>\n",
       "    </tr>\n",
       "    <tr>\n",
       "      <td>2020-02-07</td>\n",
       "      <td>0.77000</td>\n",
       "      <td>0.0</td>\n",
       "    </tr>\n",
       "  </tbody>\n",
       "</table>\n",
       "<p>70 rows × 2 columns</p>\n",
       "</div>"
      ],
      "text/plain": [
       "            Dividends  Stock Splits\n",
       "Date                               \n",
       "1987-05-11    0.00214           0.0\n",
       "1987-06-16    0.00000           2.0\n",
       "1987-08-10    0.00214           0.0\n",
       "1987-11-17    0.00286           0.0\n",
       "1988-02-12    0.00286           0.0\n",
       "...               ...           ...\n",
       "2019-02-08    0.73000           0.0\n",
       "2019-05-10    0.77000           0.0\n",
       "2019-08-09    0.77000           0.0\n",
       "2019-11-07    0.77000           0.0\n",
       "2020-02-07    0.77000           0.0\n",
       "\n",
       "[70 rows x 2 columns]"
      ]
     },
     "execution_count": 14,
     "metadata": {},
     "output_type": "execute_result"
    }
   ],
   "source": [
    "aapl.actions"
   ]
  },
  {
   "cell_type": "code",
   "execution_count": 15,
   "metadata": {},
   "outputs": [
    {
     "data": {
      "text/plain": [
       "Text(0, 0.5, 'Dividends (USD)')"
      ]
     },
     "execution_count": 15,
     "metadata": {},
     "output_type": "execute_result"
    },
    {
     "data": {
      "image/png": "[encoded data removed]",
      "text/plain": [
       "<Figure size 432x288 with 2 Axes>"
      ]
     },
     "metadata": {
      "needs_background": "light"
     },
     "output_type": "display_data"
    }
   ],
   "source": [
    "ax = aapl.actions.plot(secondary_y=\"Dividends\")\n",
    "\n",
    "ax.set_ylabel(\"Number of Stock Splits\")\n",
    "ax.right_ax.set_ylabel(\"Dividends (USD)\")"
   ]
  },
  {
   "cell_type": "markdown",
   "metadata": {},
   "source": [
    "````python\n",
    ".history(start[, end, interval])\n",
    "```\n",
    "\n",
    "where:\n",
    "    \n",
    "- `start` parameter, is the `\"YYYY-MM-DD\"` Python String representing the first date for which we query data;\n",
    "- `end` parameter, optional, is the `\"YYYY-MM-DD\"` Python String representing the last date for which we query data. By default is the last available date, which is usually either today or the last business day;\n",
    "- `interval` parameter, optional, is the Python String representing the frequency of data retrieval. By default it is `\"1d\"`, that is daily frequency. Accepted values are:\n",
    "    \n",
    "`interval` parameter | data frequency\n",
    ":---: | :---\n",
    "`\"1m\"` | every 1 minute\n",
    "`\"2m\"` | every 2 minutes\n",
    "`\"5m\"` | every 5 minutes\n",
    "`\"15m\"` | every 15 minutes\n",
    "`\"30m\"` | every 30 minutes\n",
    "`\"60m\"` | every 60 minutes\n",
    "`\"90m\"` | every 90 minutes\n",
    "`\"1h\"` | every 1 hour\n",
    "`\"1d\"` | every 1 day\n",
    "`\"5d\"` | every 5 days\n",
    "`\"1wk\"` | every 1 week\n",
    "`\"1mo\"` | every 1 month\n",
    "`\"3mo\"` | every 3 months\n",
    "\n",
    "alternatively\n",
    "\n",
    "````python\n",
    ".history(period[, interval])\n",
    "```\n",
    "\n",
    "where `period` parameter, optional, the length of the most recent period for which we query data. By default it is \"ytd\" (acronym for year to date), that is the period of time beginning the first day of the current year up to the current date. Accepted values are\n",
    "\n",
    "`period` parameter | data period\n",
    ":---: | :---\n",
    "`\"1d\"` | last 1 day\n",
    "`\"5d\"` | last 5 days\n",
    "`\"1mo\"` | last 1 month\n",
    "`\"3mo\"` | last 3 months\n",
    "`\"6mo\"` | last 6 months\n",
    "`\"1y\"` | last 1 year\n",
    "`\"2y\"` | last 2 years\n",
    "`\"5y\"` | last 5 years\n",
    "`\"10y\"` | last 10 years\n",
    "`\"ytd\"` | year to date\n",
    "`\"max\"` | maximum available"
   ]
  },
  {
   "cell_type": "code",
   "execution_count": 16,
   "metadata": {},
   "outputs": [
    {
     "data": {
      "text/html": [
       "<div>\n",
       "<style scoped>\n",
       "    .dataframe tbody tr th:only-of-type {\n",
       "        vertical-align: middle;\n",
       "    }\n",
       "\n",
       "    .dataframe tbody tr th {\n",
       "        vertical-align: top;\n",
       "    }\n",
       "\n",
       "    .dataframe thead th {\n",
       "        text-align: right;\n",
       "    }\n",
       "</style>\n",
       "<table border=\"1\" class=\"dataframe\">\n",
       "  <thead>\n",
       "    <tr style=\"text-align: right;\">\n",
       "      <th></th>\n",
       "      <th>Open</th>\n",
       "      <th>High</th>\n",
       "      <th>Low</th>\n",
       "      <th>Close</th>\n",
       "      <th>Volume</th>\n",
       "      <th>Dividends</th>\n",
       "      <th>Stock Splits</th>\n",
       "    </tr>\n",
       "    <tr>\n",
       "      <th>Date</th>\n",
       "      <th></th>\n",
       "      <th></th>\n",
       "      <th></th>\n",
       "      <th></th>\n",
       "      <th></th>\n",
       "      <th></th>\n",
       "      <th></th>\n",
       "    </tr>\n",
       "  </thead>\n",
       "  <tbody>\n",
       "    <tr>\n",
       "      <td>1980-12-08</td>\n",
       "      <td>0.41</td>\n",
       "      <td>0.41</td>\n",
       "      <td>0.41</td>\n",
       "      <td>0.41</td>\n",
       "      <td>117258400.0</td>\n",
       "      <td>0.0</td>\n",
       "      <td>0.0</td>\n",
       "    </tr>\n",
       "    <tr>\n",
       "      <td>1980-12-15</td>\n",
       "      <td>0.39</td>\n",
       "      <td>0.40</td>\n",
       "      <td>0.36</td>\n",
       "      <td>0.40</td>\n",
       "      <td>122533600.0</td>\n",
       "      <td>0.0</td>\n",
       "      <td>0.0</td>\n",
       "    </tr>\n",
       "    <tr>\n",
       "      <td>1980-12-22</td>\n",
       "      <td>0.42</td>\n",
       "      <td>0.50</td>\n",
       "      <td>0.42</td>\n",
       "      <td>0.50</td>\n",
       "      <td>46972800.0</td>\n",
       "      <td>0.0</td>\n",
       "      <td>0.0</td>\n",
       "    </tr>\n",
       "    <tr>\n",
       "      <td>1980-12-29</td>\n",
       "      <td>0.51</td>\n",
       "      <td>0.51</td>\n",
       "      <td>0.48</td>\n",
       "      <td>0.49</td>\n",
       "      <td>54863200.0</td>\n",
       "      <td>0.0</td>\n",
       "      <td>0.0</td>\n",
       "    </tr>\n",
       "    <tr>\n",
       "      <td>1981-01-05</td>\n",
       "      <td>0.48</td>\n",
       "      <td>0.48</td>\n",
       "      <td>0.43</td>\n",
       "      <td>0.45</td>\n",
       "      <td>49476000.0</td>\n",
       "      <td>0.0</td>\n",
       "      <td>0.0</td>\n",
       "    </tr>\n",
       "    <tr>\n",
       "      <td>...</td>\n",
       "      <td>...</td>\n",
       "      <td>...</td>\n",
       "      <td>...</td>\n",
       "      <td>...</td>\n",
       "      <td>...</td>\n",
       "      <td>...</td>\n",
       "      <td>...</td>\n",
       "    </tr>\n",
       "    <tr>\n",
       "      <td>2020-03-16</td>\n",
       "      <td>241.95</td>\n",
       "      <td>259.08</td>\n",
       "      <td>228.00</td>\n",
       "      <td>229.24</td>\n",
       "      <td>405065900.0</td>\n",
       "      <td>0.0</td>\n",
       "      <td>0.0</td>\n",
       "    </tr>\n",
       "    <tr>\n",
       "      <td>2020-03-23</td>\n",
       "      <td>228.08</td>\n",
       "      <td>258.68</td>\n",
       "      <td>212.61</td>\n",
       "      <td>247.74</td>\n",
       "      <td>346047500.0</td>\n",
       "      <td>0.0</td>\n",
       "      <td>0.0</td>\n",
       "    </tr>\n",
       "    <tr>\n",
       "      <td>2020-03-30</td>\n",
       "      <td>250.74</td>\n",
       "      <td>262.49</td>\n",
       "      <td>236.90</td>\n",
       "      <td>241.41</td>\n",
       "      <td>209252700.0</td>\n",
       "      <td>0.0</td>\n",
       "      <td>0.0</td>\n",
       "    </tr>\n",
       "    <tr>\n",
       "      <td>2020-04-06</td>\n",
       "      <td>250.90</td>\n",
       "      <td>271.70</td>\n",
       "      <td>249.38</td>\n",
       "      <td>259.43</td>\n",
       "      <td>101101400.0</td>\n",
       "      <td>0.0</td>\n",
       "      <td>0.0</td>\n",
       "    </tr>\n",
       "    <tr>\n",
       "      <td>2020-04-08</td>\n",
       "      <td>262.74</td>\n",
       "      <td>267.37</td>\n",
       "      <td>261.23</td>\n",
       "      <td>266.07</td>\n",
       "      <td>39582531.0</td>\n",
       "      <td>0.0</td>\n",
       "      <td>0.0</td>\n",
       "    </tr>\n",
       "  </tbody>\n",
       "</table>\n",
       "<p>2124 rows × 7 columns</p>\n",
       "</div>"
      ],
      "text/plain": [
       "              Open    High     Low   Close       Volume  Dividends  \\\n",
       "Date                                                                 \n",
       "1980-12-08    0.41    0.41    0.41    0.41  117258400.0        0.0   \n",
       "1980-12-15    0.39    0.40    0.36    0.40  122533600.0        0.0   \n",
       "1980-12-22    0.42    0.50    0.42    0.50   46972800.0        0.0   \n",
       "1980-12-29    0.51    0.51    0.48    0.49   54863200.0        0.0   \n",
       "1981-01-05    0.48    0.48    0.43    0.45   49476000.0        0.0   \n",
       "...            ...     ...     ...     ...          ...        ...   \n",
       "2020-03-16  241.95  259.08  228.00  229.24  405065900.0        0.0   \n",
       "2020-03-23  228.08  258.68  212.61  247.74  346047500.0        0.0   \n",
       "2020-03-30  250.74  262.49  236.90  241.41  209252700.0        0.0   \n",
       "2020-04-06  250.90  271.70  249.38  259.43  101101400.0        0.0   \n",
       "2020-04-08  262.74  267.37  261.23  266.07   39582531.0        0.0   \n",
       "\n",
       "            Stock Splits  \n",
       "Date                      \n",
       "1980-12-08           0.0  \n",
       "1980-12-15           0.0  \n",
       "1980-12-22           0.0  \n",
       "1980-12-29           0.0  \n",
       "1981-01-05           0.0  \n",
       "...                  ...  \n",
       "2020-03-16           0.0  \n",
       "2020-03-23           0.0  \n",
       "2020-03-30           0.0  \n",
       "2020-04-06           0.0  \n",
       "2020-04-08           0.0  \n",
       "\n",
       "[2124 rows x 7 columns]"
      ]
     },
     "execution_count": 16,
     "metadata": {},
     "output_type": "execute_result"
    }
   ],
   "source": [
    "aapl_history = aapl.history(period=\"max\", interval=\"1wk\")\n",
    "aapl_history"
   ]
  },
  {
   "cell_type": "code",
   "execution_count": 17,
   "metadata": {},
   "outputs": [
    {
     "data": {
      "text/plain": [
       "Text(0, 0.5, 'Close Price (USD)')"
      ]
     },
     "execution_count": 17,
     "metadata": {},
     "output_type": "execute_result"
    },
    {
     "data": {
      "image/png": "[encoded data removed]",
      "text/plain": [
       "<Figure size 432x288 with 1 Axes>"
      ]
     },
     "metadata": {
      "needs_background": "light"
     },
     "output_type": "display_data"
    }
   ],
   "source": [
    "ax = aapl_history[\"Close\"].plot()\n",
    "\n",
    "ax.set_title(\"AAPL\")\n",
    "ax.set_ylabel(\"Close Price (USD)\")"
   ]
  },
  {
   "cell_type": "code",
   "execution_count": 18,
   "metadata": {},
   "outputs": [
    {
     "data": {
      "text/plain": [
       "Date\n",
       "2018-04-09    169.89\n",
       "2018-04-16    161.13\n",
       "2018-04-23    157.82\n",
       "2018-04-30    178.73\n",
       "2018-05-07    183.36\n",
       "               ...  \n",
       "2020-03-16    229.24\n",
       "2020-03-23    247.74\n",
       "2020-03-30    241.41\n",
       "2020-04-06    259.43\n",
       "2020-04-08    266.07\n",
       "Name: Close, Length: 114, dtype: float64"
      ]
     },
     "execution_count": 18,
     "metadata": {},
     "output_type": "execute_result"
    }
   ],
   "source": [
    "aapl_history_close_last_2y = aapl_history.loc[\"2018-04-08\":, \"Close\"]\n",
    "aapl_history_close_last_2y"
   ]
  },
  {
   "cell_type": "code",
   "execution_count": 19,
   "metadata": {
    "scrolled": true
   },
   "outputs": [
    {
     "data": {
      "text/plain": [
       "Text(0, 0.5, 'Close Price (USD)')"
      ]
     },
     "execution_count": 19,
     "metadata": {},
     "output_type": "execute_result"
    },
    {
     "data": {
      "image/png": "[encoded data removed]",
      "text/plain": [
       "<Figure size 432x288 with 1 Axes>"
      ]
     },
     "metadata": {
      "needs_background": "light"
     },
     "output_type": "display_data"
    }
   ],
   "source": [
    "ax = aapl_history_close_last_2y.plot()\n",
    "\n",
    "ax.set_title(\"AAPL\")\n",
    "ax.set_ylabel(\"Close Price (USD)\")"
   ]
  },
  {
   "cell_type": "code",
   "execution_count": 20,
   "metadata": {
    "scrolled": false
   },
   "outputs": [
    {
     "data": {
      "text/plain": [
       "Text(0, 0.5, 'Close Price (USD)')"
      ]
     },
     "execution_count": 20,
     "metadata": {},
     "output_type": "execute_result"
    },
    {
     "data": {
      "image/png": "[encoded data removed]",
      "text/plain": [
       "<Figure size 432x288 with 1 Axes>"
      ]
     },
     "metadata": {
      "needs_background": "light"
     },
     "output_type": "display_data"
    }
   ],
   "source": [
    "ax = aapl_history_close_last_2y[\"2020-01-01\":].plot()\n",
    "\n",
    "ax.set_title(\"AAPL\")\n",
    "ax.set_ylabel(\"Close Price (USD)\")"
   ]
  },
  {
   "cell_type": "markdown",
   "metadata": {},
   "source": [
    "#### 1.2.2.1. multiple securities simultaneously: `yf.Tickers()` module <a name=\"multiple-securities-simultaneously:-yf.tickers()-module\"></a>"
   ]
  },
  {
   "cell_type": "code",
   "execution_count": 21,
   "metadata": {},
   "outputs": [
    {
     "data": {
      "text/plain": [
       "yfinance.Tickers object <FB,AMZN,NFLX,GOOG>"
      ]
     },
     "execution_count": 21,
     "metadata": {},
     "output_type": "execute_result"
    }
   ],
   "source": [
    "securities = yf.Tickers('FB AMZN NFLX GOOG')\n",
    "securities"
   ]
  },
  {
   "cell_type": "code",
   "execution_count": 22,
   "metadata": {},
   "outputs": [],
   "source": [
    "fb   = securities.tickers.FB\n",
    "amzn = securities.tickers.AMZN\n",
    "nflx = securities.tickers.NFLX\n",
    "goog = securities.tickers.GOOG"
   ]
  },
  {
   "cell_type": "code",
   "execution_count": 23,
   "metadata": {},
   "outputs": [],
   "source": [
    "filePath = os.path.join(dataFolderPath, \"FANG_Stocks_Info.json\")"
   ]
  },
  {
   "cell_type": "code",
   "execution_count": 24,
   "metadata": {},
   "outputs": [
    {
     "name": "stdout",
     "output_type": "stream",
     "text": [
      "Wall time: 0 ns\n"
     ]
    },
    {
     "data": {
      "text/plain": [
       "{'FB': {'zip': '94025',\n",
       "  'sector': 'Communication Services',\n",
       "  'fullTimeEmployees': 44942,\n",
       "  'longBusinessSummary': \"Facebook, Inc. develops products that enable people to connect and share with friends and family through mobile devices, personal computers, virtual reality headsets, and in-home devices worldwide. The company's products include Facebook that enables people to connect, share, discover, and communicate with each other on mobile devices and personal computers; Instagram, a community for sharing photos, videos, and private messages; Messenger, a messaging application for people to connect with friends, family, groups, and businesses across platforms and devices; and WhatsApp, a messaging application that is used by people and businesses to communicate in a private way. It also provides Oculus, a hardware, software, and developer ecosystem, which allows people to come together and connect with each other through its Oculus virtual reality products. Facebook, Inc. was founded in 2004 and is headquartered in Menlo Park, California.\",\n",
       "  'city': 'Menlo Park',\n",
       "  'phone': '650-543-4800',\n",
       "  'state': 'CA',\n",
       "  'country': 'United States',\n",
       "  'companyOfficers': [],\n",
       "  'website': 'http://investor.fb.com',\n",
       "  'maxAge': 1,\n",
       "  'address1': '1601 Willow Road',\n",
       "  'industry': 'Internet Content & Information',\n",
       "  'previousClose': 168.83,\n",
       "  'regularMarketOpen': 171.25,\n",
       "  'twoHundredDayAverage': 193.0769,\n",
       "  'trailingAnnualDividendYield': None,\n",
       "  'payoutRatio': 0,\n",
       "  'volume24Hr': None,\n",
       "  'regularMarketDayHigh': 175,\n",
       "  'navPrice': None,\n",
       "  'averageDailyVolume10Day': 23498150,\n",
       "  'totalAssets': None,\n",
       "  'regularMarketPreviousClose': 168.83,\n",
       "  'fiftyDayAverage': 174.88371,\n",
       "  'trailingAnnualDividendRate': None,\n",
       "  'open': 171.25,\n",
       "  'toCurrency': None,\n",
       "  'averageVolume10days': 23498150,\n",
       "  'expireDate': None,\n",
       "  'yield': None,\n",
       "  'algorithm': None,\n",
       "  'dividendRate': None,\n",
       "  'exDividendDate': None,\n",
       "  'beta': 1.067452,\n",
       "  'circulatingSupply': None,\n",
       "  'startDate': None,\n",
       "  'regularMarketDayLow': 167.74,\n",
       "  'priceHint': 2,\n",
       "  'currency': 'USD',\n",
       "  'trailingPE': 27.1042,\n",
       "  'regularMarketVolume': 21136951,\n",
       "  'lastMarket': None,\n",
       "  'maxSupply': None,\n",
       "  'openInterest': None,\n",
       "  'marketCap': 496776413184,\n",
       "  'volumeAllCurrencies': None,\n",
       "  'strikePrice': None,\n",
       "  'averageVolume': 21837414,\n",
       "  'priceToSalesTrailing12Months': 7.026839,\n",
       "  'dayLow': 167.74,\n",
       "  'ask': 174.75,\n",
       "  'ytdReturn': None,\n",
       "  'askSize': 800,\n",
       "  'volume': 21136951,\n",
       "  'fiftyTwoWeekHigh': 224.2,\n",
       "  'forwardPE': 17.255445,\n",
       "  'fromCurrency': None,\n",
       "  'fiveYearAvgDividendYield': None,\n",
       "  'fiftyTwoWeekLow': 137.1,\n",
       "  'bid': 174.57,\n",
       "  'tradeable': True,\n",
       "  'dividendYield': None,\n",
       "  'bidSize': 800,\n",
       "  'dayHigh': 175,\n",
       "  'exchange': 'NMS',\n",
       "  'shortName': 'Facebook, Inc.',\n",
       "  'longName': 'Facebook, Inc.',\n",
       "  'exchangeTimezoneName': 'America/New_York',\n",
       "  'exchangeTimezoneShortName': 'EDT',\n",
       "  'isEsgPopulated': False,\n",
       "  'gmtOffSetMilliseconds': '-14400000',\n",
       "  'quoteType': 'EQUITY',\n",
       "  'symbol': 'FB',\n",
       "  'messageBoardId': 'finmb_20765463',\n",
       "  'market': 'us_market',\n",
       "  'annualHoldingsTurnover': None,\n",
       "  'enterpriseToRevenue': 6.188,\n",
       "  'beta3Year': None,\n",
       "  'profitMargins': 0.26147,\n",
       "  'enterpriseToEbitda': 14.716,\n",
       "  '52WeekChange': -0.06900239,\n",
       "  'morningStarRiskRating': None,\n",
       "  'forwardEps': 10.1,\n",
       "  'revenueQuarterlyGrowth': None,\n",
       "  'sharesOutstanding': 2405750016,\n",
       "  'fundInceptionDate': None,\n",
       "  'annualReportExpenseRatio': None,\n",
       "  'bookValue': 35.433,\n",
       "  'sharesShort': 30174950,\n",
       "  'sharesPercentSharesOut': 0.0106,\n",
       "  'fundFamily': None,\n",
       "  'lastFiscalYearEnd': 1577750400,\n",
       "  'heldPercentInstitutions': 0.78945,\n",
       "  'netIncomeToCommon': 18485000192,\n",
       "  'trailingEps': 6.43,\n",
       "  'lastDividendValue': None,\n",
       "  'SandP52WeekChange': -0.07774019,\n",
       "  'priceToBook': 4.918579,\n",
       "  'heldPercentInsiders': 0.0066299997,\n",
       "  'nextFiscalYearEnd': 1640908800,\n",
       "  'mostRecentQuarter': 1577750400,\n",
       "  'shortRatio': 1.35,\n",
       "  'sharesShortPreviousMonthDate': 1581638400,\n",
       "  'floatShares': 2005092507,\n",
       "  'enterpriseValue': 437460598784,\n",
       "  'threeYearAverageReturn': None,\n",
       "  'lastSplitDate': None,\n",
       "  'lastSplitFactor': None,\n",
       "  'legalType': None,\n",
       "  'morningStarOverallRating': None,\n",
       "  'earningsQuarterlyGrowth': 0.068,\n",
       "  'dateShortInterest': 1584057600,\n",
       "  'pegRatio': 1.44,\n",
       "  'lastCapGain': None,\n",
       "  'shortPercentOfFloat': 0.0126,\n",
       "  'sharesShortPriorMonth': 26984085,\n",
       "  'category': None,\n",
       "  'fiveYearAverageReturn': None,\n",
       "  'regularMarketPrice': 171.25,\n",
       "  'logo_url': 'https://logo.clearbit.com/investor.fb.com'},\n",
       " 'AMZN': {'zip': '98109-5210',\n",
       "  'sector': 'Consumer Cyclical',\n",
       "  'fullTimeEmployees': 798000,\n",
       "  'longBusinessSummary': 'Amazon.com, Inc. engages in the retail sale of consumer products and subscriptions in North America and internationally. The company operates through three segments: North America, International, and Amazon Web Services (AWS). It sells merchandise and content purchased for resale from third-party sellers through physical and online stores. The company also manufactures and sells electronic devices, including Kindle, Fire tablets, Fire TVs, Rings, and Echo and other devices; provides Kindle Direct Publishing, an online service that allows independent authors and publishers to make their books available in the Kindle Store; and develops and produces media content. In addition, it offers programs that enable sellers to sell their products on its Websites, as well as its stores; and programs that allow authors, musicians, filmmakers, skill and app developers, and others to publish and sell content. Further, the company provides compute, storage, database, and other AWS services, as well as fulfillment, advertising, publishing, and digital content subscriptions. Additionally, it offers Amazon Prime, a membership program, which provides free shipping of various items; access to streaming of movies and TV episodes; and other services. It serves consumers, sellers, developers, enterprises, and content creators. The company was founded in 1994 and is headquartered in Seattle, Washington.',\n",
       "  'city': 'Seattle',\n",
       "  'phone': '206-266-1000',\n",
       "  'state': 'WA',\n",
       "  'country': 'United States',\n",
       "  'companyOfficers': [],\n",
       "  'website': 'http://www.amazon.com',\n",
       "  'maxAge': 1,\n",
       "  'address1': '410 Terry Avenue North',\n",
       "  'industry': 'Internet Retail',\n",
       "  'previousClose': 2011.6,\n",
       "  'regularMarketOpen': 2021,\n",
       "  'twoHundredDayAverage': 1849.5223,\n",
       "  'trailingAnnualDividendYield': None,\n",
       "  'payoutRatio': 0,\n",
       "  'volume24Hr': None,\n",
       "  'regularMarketDayHigh': 2043.74,\n",
       "  'navPrice': None,\n",
       "  'averageDailyVolume10Day': 4846450,\n",
       "  'totalAssets': None,\n",
       "  'regularMarketPreviousClose': 2011.6,\n",
       "  'fiftyDayAverage': 1920.7477,\n",
       "  'trailingAnnualDividendRate': None,\n",
       "  'open': 2021,\n",
       "  'toCurrency': None,\n",
       "  'averageVolume10days': 4846450,\n",
       "  'expireDate': None,\n",
       "  'yield': None,\n",
       "  'algorithm': None,\n",
       "  'dividendRate': None,\n",
       "  'exDividendDate': None,\n",
       "  'beta': 1.250818,\n",
       "  'circulatingSupply': None,\n",
       "  'startDate': None,\n",
       "  'regularMarketDayLow': 2011.15,\n",
       "  'priceHint': 2,\n",
       "  'currency': 'USD',\n",
       "  'trailingPE': 88.78748,\n",
       "  'regularMarketVolume': 3906199,\n",
       "  'lastMarket': None,\n",
       "  'maxSupply': None,\n",
       "  'openInterest': None,\n",
       "  'marketCap': 1017025789952,\n",
       "  'volumeAllCurrencies': None,\n",
       "  'strikePrice': None,\n",
       "  'averageVolume': 5531719,\n",
       "  'priceToSalesTrailing12Months': 3.6254761,\n",
       "  'dayLow': 2011.15,\n",
       "  'ask': 2043.3,\n",
       "  'ytdReturn': None,\n",
       "  'askSize': 2200,\n",
       "  'volume': 3906199,\n",
       "  'fiftyTwoWeekHigh': 2185.95,\n",
       "  'forwardPE': 51.37038,\n",
       "  'fromCurrency': None,\n",
       "  'fiveYearAvgDividendYield': None,\n",
       "  'fiftyTwoWeekLow': 1626.03,\n",
       "  'bid': 2040.08,\n",
       "  'tradeable': True,\n",
       "  'dividendYield': None,\n",
       "  'bidSize': 800,\n",
       "  'dayHigh': 2043.74,\n",
       "  'exchange': 'NMS',\n",
       "  'shortName': 'Amazon.com, Inc.',\n",
       "  'longName': 'Amazon.com, Inc.',\n",
       "  'exchangeTimezoneName': 'America/New_York',\n",
       "  'exchangeTimezoneShortName': 'EDT',\n",
       "  'isEsgPopulated': False,\n",
       "  'gmtOffSetMilliseconds': '-14400000',\n",
       "  'quoteType': 'EQUITY',\n",
       "  'symbol': 'AMZN',\n",
       "  'messageBoardId': 'finmb_18749',\n",
       "  'market': 'us_market',\n",
       "  'annualHoldingsTurnover': None,\n",
       "  'enterpriseToRevenue': 3.625,\n",
       "  'beta3Year': None,\n",
       "  'profitMargins': 0.04131,\n",
       "  'enterpriseToEbitda': 28.098,\n",
       "  '52WeekChange': 0.081339,\n",
       "  'morningStarRiskRating': None,\n",
       "  'forwardEps': 39.77,\n",
       "  'revenueQuarterlyGrowth': None,\n",
       "  'sharesOutstanding': 498000000,\n",
       "  'fundInceptionDate': None,\n",
       "  'annualReportExpenseRatio': None,\n",
       "  'bookValue': 124.618,\n",
       "  'sharesShort': 3487382,\n",
       "  'sharesPercentSharesOut': 0.0088,\n",
       "  'fundFamily': None,\n",
       "  'lastFiscalYearEnd': 1577750400,\n",
       "  'heldPercentInstitutions': 0.57480997,\n",
       "  'netIncomeToCommon': 11587999744,\n",
       "  'trailingEps': 23.01,\n",
       "  'lastDividendValue': None,\n",
       "  'SandP52WeekChange': -0.07774019,\n",
       "  'priceToBook': 16.3941,\n",
       "  'heldPercentInsiders': 0.15155,\n",
       "  'nextFiscalYearEnd': 1640908800,\n",
       "  'mostRecentQuarter': 1577750400,\n",
       "  'shortRatio': 0.74,\n",
       "  'sharesShortPreviousMonthDate': 1581638400,\n",
       "  'floatShares': 422008848,\n",
       "  'enterpriseValue': 1016935153664,\n",
       "  'threeYearAverageReturn': None,\n",
       "  'lastSplitDate': 936230400,\n",
       "  'lastSplitFactor': '2:1',\n",
       "  'legalType': None,\n",
       "  'morningStarOverallRating': None,\n",
       "  'earningsQuarterlyGrowth': 0.08,\n",
       "  'dateShortInterest': 1584057600,\n",
       "  'pegRatio': 2.19,\n",
       "  'lastCapGain': None,\n",
       "  'shortPercentOfFloat': None,\n",
       "  'sharesShortPriorMonth': 3632299,\n",
       "  'category': None,\n",
       "  'fiveYearAverageReturn': None,\n",
       "  'regularMarketPrice': 2021,\n",
       "  'logo_url': 'https://logo.clearbit.com/amazon.com'},\n",
       " 'NFLX': {'zip': '95032',\n",
       "  'sector': 'Communication Services',\n",
       "  'fullTimeEmployees': 8600,\n",
       "  'longBusinessSummary': 'Netflix, Inc. provides subscription streaming entertainment service. It offers TV series, documentaries, and feature films across various genres and languages. The company provides members the ability to receive streaming content through a host of Internet-connected screens, including TVs, digital video players, television set-top boxes, and mobile devices. It also provides DVDs-by-mail membership services. The company has approximately 167 million paid members in 190 countries. Netflix, Inc. was founded in 1997 and is headquartered in Los Gatos, California.',\n",
       "  'city': 'Los Gatos',\n",
       "  'phone': '408-540-3700',\n",
       "  'state': 'CA',\n",
       "  'country': 'United States',\n",
       "  'companyOfficers': [],\n",
       "  'website': 'http://www.netflix.com',\n",
       "  'maxAge': 1,\n",
       "  'address1': '100 Winchester Circle',\n",
       "  'industry': 'Entertainment',\n",
       "  'previousClose': 372.28,\n",
       "  'regularMarketOpen': 374.01,\n",
       "  'twoHundredDayAverage': 323.26596,\n",
       "  'trailingAnnualDividendYield': None,\n",
       "  'payoutRatio': 0,\n",
       "  'volume24Hr': None,\n",
       "  'regularMarketDayHigh': 378.39,\n",
       "  'navPrice': None,\n",
       "  'averageDailyVolume10Day': 7048183,\n",
       "  'totalAssets': None,\n",
       "  'regularMarketPreviousClose': 372.28,\n",
       "  'fiftyDayAverage': 359.3603,\n",
       "  'trailingAnnualDividendRate': None,\n",
       "  'open': 374.01,\n",
       "  'toCurrency': None,\n",
       "  'averageVolume10days': 7048183,\n",
       "  'expireDate': None,\n",
       "  'yield': None,\n",
       "  'algorithm': None,\n",
       "  'dividendRate': None,\n",
       "  'exDividendDate': None,\n",
       "  'beta': 1.031434,\n",
       "  'circulatingSupply': None,\n",
       "  'startDate': None,\n",
       "  'regularMarketDayLow': 368.31,\n",
       "  'priceHint': 2,\n",
       "  'currency': 'USD',\n",
       "  'trailingPE': 89.85956,\n",
       "  'regularMarketVolume': 6713169,\n",
       "  'lastMarket': None,\n",
       "  'maxSupply': None,\n",
       "  'openInterest': None,\n",
       "  'marketCap': 162850062336,\n",
       "  'volumeAllCurrencies': None,\n",
       "  'strikePrice': None,\n",
       "  'averageVolume': 7928467,\n",
       "  'priceToSalesTrailing12Months': 8.079304,\n",
       "  'dayLow': 368.31,\n",
       "  'ask': 371.49,\n",
       "  'ytdReturn': None,\n",
       "  'askSize': 900,\n",
       "  'volume': 6713169,\n",
       "  'fiftyTwoWeekHigh': 393.52,\n",
       "  'forwardPE': 44.445507,\n",
       "  'fromCurrency': None,\n",
       "  'fiveYearAvgDividendYield': None,\n",
       "  'fiftyTwoWeekLow': 252.28,\n",
       "  'bid': 371.34,\n",
       "  'tradeable': True,\n",
       "  'dividendYield': None,\n",
       "  'bidSize': 1300,\n",
       "  'dayHigh': 378.39,\n",
       "  'exchange': 'NMS',\n",
       "  'shortName': 'Netflix, Inc.',\n",
       "  'longName': 'Netflix, Inc.',\n",
       "  'exchangeTimezoneName': 'America/New_York',\n",
       "  'exchangeTimezoneShortName': 'EDT',\n",
       "  'isEsgPopulated': False,\n",
       "  'gmtOffSetMilliseconds': '-14400000',\n",
       "  'quoteType': 'EQUITY',\n",
       "  'symbol': 'NFLX',\n",
       "  'messageBoardId': 'finmb_32012',\n",
       "  'market': 'us_market',\n",
       "  'annualHoldingsTurnover': None,\n",
       "  'enterpriseToRevenue': 8.668,\n",
       "  'beta3Year': None,\n",
       "  'profitMargins': 0.09262,\n",
       "  'enterpriseToEbitda': 64.521,\n",
       "  '52WeekChange': 0.04407561,\n",
       "  'morningStarRiskRating': None,\n",
       "  'forwardEps': 8.35,\n",
       "  'revenueQuarterlyGrowth': None,\n",
       "  'sharesOutstanding': 438807008,\n",
       "  'fundInceptionDate': None,\n",
       "  'annualReportExpenseRatio': None,\n",
       "  'bookValue': 17.279,\n",
       "  'sharesShort': 18497747,\n",
       "  'sharesPercentSharesOut': 0.0422,\n",
       "  'fundFamily': None,\n",
       "  'lastFiscalYearEnd': 1577750400,\n",
       "  'heldPercentInstitutions': 0.82895,\n",
       "  'netIncomeToCommon': 1866915968,\n",
       "  'trailingEps': 4.13,\n",
       "  'lastDividendValue': None,\n",
       "  'SandP52WeekChange': -0.07774019,\n",
       "  'priceToBook': 21.478096,\n",
       "  'heldPercentInsiders': 0.01625,\n",
       "  'nextFiscalYearEnd': 1640908800,\n",
       "  'mostRecentQuarter': 1577750400,\n",
       "  'shortRatio': 2.57,\n",
       "  'sharesShortPreviousMonthDate': 1581638400,\n",
       "  'floatShares': 432676520,\n",
       "  'enterpriseValue': 174712995840,\n",
       "  'threeYearAverageReturn': None,\n",
       "  'lastSplitDate': 1436918400,\n",
       "  'lastSplitFactor': '7:1',\n",
       "  'legalType': None,\n",
       "  'morningStarOverallRating': None,\n",
       "  'earningsQuarterlyGrowth': 3.383,\n",
       "  'dateShortInterest': 1584057600,\n",
       "  'pegRatio': 1.44,\n",
       "  'lastCapGain': None,\n",
       "  'shortPercentOfFloat': 0.0434,\n",
       "  'sharesShortPriorMonth': 19660890,\n",
       "  'category': None,\n",
       "  'fiveYearAverageReturn': None,\n",
       "  'regularMarketPrice': 374.01,\n",
       "  'logo_url': 'https://logo.clearbit.com/netflix.com'},\n",
       " 'GOOG': {'zip': '94043',\n",
       "  'sector': 'Communication Services',\n",
       "  'fullTimeEmployees': 118899,\n",
       "  'longBusinessSummary': 'Alphabet Inc. provides online advertising services in the United States, Europe, the Middle East, Africa, the Asia-Pacific, Canada, and Latin America. It offers performance and brand advertising services. The company operates through Google and Other Bets segments. The Google segment offers products, such as Ads, Android, Chrome, Google Cloud, Google Maps, Google Play, Hardware, Search, and YouTube, as well as technical infrastructure. It also offers digital content, cloud services, hardware devices, and other miscellaneous products and services. The Other Bets segment includes businesses, including Access, Calico, CapitalG, GV, Verily, Waymo, and X, as well as Internet and television services. Alphabet Inc. was founded in 1998 and is headquartered in Mountain View, California.',\n",
       "  'city': 'Mountain View',\n",
       "  'phone': '650-253-0000',\n",
       "  'state': 'CA',\n",
       "  'country': 'United States',\n",
       "  'companyOfficers': [],\n",
       "  'website': 'http://www.abc.xyz',\n",
       "  'maxAge': 1,\n",
       "  'address1': '1600 Amphitheatre Parkway',\n",
       "  'industry': 'Internet Content & Information',\n",
       "  'previousClose': 1186.51,\n",
       "  'regularMarketOpen': 1206.5,\n",
       "  'twoHundredDayAverage': 1313.4171,\n",
       "  'trailingAnnualDividendYield': None,\n",
       "  'payoutRatio': 0,\n",
       "  'volume24Hr': None,\n",
       "  'regularMarketDayHigh': 1219.07,\n",
       "  'navPrice': None,\n",
       "  'averageDailyVolume10Day': 2390616,\n",
       "  'totalAssets': None,\n",
       "  'regularMarketPreviousClose': 1186.51,\n",
       "  'fiftyDayAverage': 1244.7483,\n",
       "  'trailingAnnualDividendRate': None,\n",
       "  'open': 1206.5,\n",
       "  'toCurrency': None,\n",
       "  'averageVolume10days': 2390616,\n",
       "  'expireDate': None,\n",
       "  'yield': None,\n",
       "  'algorithm': None,\n",
       "  'dividendRate': None,\n",
       "  'exDividendDate': None,\n",
       "  'beta': 1.045841,\n",
       "  'circulatingSupply': None,\n",
       "  'startDate': None,\n",
       "  'regularMarketDayLow': 1188.16,\n",
       "  'priceHint': 2,\n",
       "  'currency': 'USD',\n",
       "  'trailingPE': 24.617702,\n",
       "  'regularMarketVolume': 1858449,\n",
       "  'lastMarket': None,\n",
       "  'maxSupply': None,\n",
       "  'openInterest': None,\n",
       "  'marketCap': 830413078528,\n",
       "  'volumeAllCurrencies': None,\n",
       "  'strikePrice': None,\n",
       "  'averageVolume': 2349022,\n",
       "  'priceToSalesTrailing12Months': 5.1305356,\n",
       "  'dayLow': 1188.16,\n",
       "  'ask': 1208.49,\n",
       "  'ytdReturn': None,\n",
       "  'askSize': 1100,\n",
       "  'volume': 1858449,\n",
       "  'fiftyTwoWeekHigh': 1532.106,\n",
       "  'forwardPE': 20.667349,\n",
       "  'fromCurrency': None,\n",
       "  'fiveYearAvgDividendYield': None,\n",
       "  'fiftyTwoWeekLow': 1013.536,\n",
       "  'bid': 1213.54,\n",
       "  'tradeable': True,\n",
       "  'dividendYield': None,\n",
       "  'bidSize': 800,\n",
       "  'dayHigh': 1219.07,\n",
       "  'exchange': 'NMS',\n",
       "  'shortName': 'Alphabet Inc.',\n",
       "  'longName': 'Alphabet Inc.',\n",
       "  'exchangeTimezoneName': 'America/New_York',\n",
       "  'exchangeTimezoneShortName': 'EDT',\n",
       "  'isEsgPopulated': False,\n",
       "  'gmtOffSetMilliseconds': '-14400000',\n",
       "  'quoteType': 'EQUITY',\n",
       "  'symbol': 'GOOG',\n",
       "  'messageBoardId': 'finmb_29096',\n",
       "  'market': 'us_market',\n",
       "  'annualHoldingsTurnover': None,\n",
       "  'enterpriseToRevenue': 4.397,\n",
       "  'beta3Year': None,\n",
       "  'profitMargins': 0.21218,\n",
       "  'enterpriseToEbitda': 14.787,\n",
       "  '52WeekChange': -0.012677193,\n",
       "  'morningStarRiskRating': None,\n",
       "  'forwardEps': 58.56,\n",
       "  'revenueQuarterlyGrowth': None,\n",
       "  'sharesOutstanding': 342065984,\n",
       "  'fundInceptionDate': None,\n",
       "  'annualReportExpenseRatio': None,\n",
       "  'bookValue': 292.651,\n",
       "  'sharesShort': 3750970,\n",
       "  'sharesPercentSharesOut': 0.0055,\n",
       "  'fundFamily': None,\n",
       "  'lastFiscalYearEnd': 1577750400,\n",
       "  'heldPercentInstitutions': 0.69495004,\n",
       "  'netIncomeToCommon': 34343000064,\n",
       "  'trailingEps': 49.163,\n",
       "  'lastDividendValue': None,\n",
       "  'SandP52WeekChange': -0.07774019,\n",
       "  'priceToBook': 4.1355743,\n",
       "  'heldPercentInsiders': 0.05664,\n",
       "  'nextFiscalYearEnd': 1640908800,\n",
       "  'mostRecentQuarter': 1577750400,\n",
       "  'shortRatio': 1.66,\n",
       "  'sharesShortPreviousMonthDate': 1581638400,\n",
       "  'floatShares': 617959542,\n",
       "  'enterpriseValue': 711763820544,\n",
       "  'threeYearAverageReturn': None,\n",
       "  'lastSplitDate': 1430092800,\n",
       "  'lastSplitFactor': '10000000:10000000',\n",
       "  'legalType': None,\n",
       "  'morningStarOverallRating': None,\n",
       "  'earningsQuarterlyGrowth': 0.193,\n",
       "  'dateShortInterest': 1584057600,\n",
       "  'pegRatio': 1.54,\n",
       "  'lastCapGain': None,\n",
       "  'shortPercentOfFloat': None,\n",
       "  'sharesShortPriorMonth': 3542143,\n",
       "  'category': None,\n",
       "  'fiveYearAverageReturn': None,\n",
       "  'regularMarketPrice': 1206.5,\n",
       "  'logo_url': 'https://logo.clearbit.com/abc.xyz'}}"
      ]
     },
     "execution_count": 24,
     "metadata": {},
     "output_type": "execute_result"
    }
   ],
   "source": [
    "if downloadData:\n",
    "    %time info_dict = {'FB': fb.info, 'AMZN': amzn.info, 'NFLX': nflx.info, 'GOOG': goog.info}\n",
    "    \n",
    "else:\n",
    "    with open(filePath, 'r') as file:\n",
    "        %time info_dict = json.load(file)\n",
    "\n",
    "info_dict"
   ]
  },
  {
   "cell_type": "code",
   "execution_count": 25,
   "metadata": {},
   "outputs": [
    {
     "data": {
      "text/plain": [
       "{'zip': '94043',\n",
       " 'sector': 'Communication Services',\n",
       " 'fullTimeEmployees': 118899,\n",
       " 'longBusinessSummary': 'Alphabet Inc. provides online advertising services in the United States, Europe, the Middle East, Africa, the Asia-Pacific, Canada, and Latin America. It offers performance and brand advertising services. The company operates through Google and Other Bets segments. The Google segment offers products, such as Ads, Android, Chrome, Google Cloud, Google Maps, Google Play, Hardware, Search, and YouTube, as well as technical infrastructure. It also offers digital content, cloud services, hardware devices, and other miscellaneous products and services. The Other Bets segment includes businesses, including Access, Calico, CapitalG, GV, Verily, Waymo, and X, as well as Internet and television services. Alphabet Inc. was founded in 1998 and is headquartered in Mountain View, California.',\n",
       " 'city': 'Mountain View',\n",
       " 'phone': '650-253-0000',\n",
       " 'state': 'CA',\n",
       " 'country': 'United States',\n",
       " 'companyOfficers': [],\n",
       " 'website': 'http://www.abc.xyz',\n",
       " 'maxAge': 1,\n",
       " 'address1': '1600 Amphitheatre Parkway',\n",
       " 'industry': 'Internet Content & Information',\n",
       " 'previousClose': 1186.51,\n",
       " 'regularMarketOpen': 1206.5,\n",
       " 'twoHundredDayAverage': 1313.4171,\n",
       " 'trailingAnnualDividendYield': None,\n",
       " 'payoutRatio': 0,\n",
       " 'volume24Hr': None,\n",
       " 'regularMarketDayHigh': 1219.07,\n",
       " 'navPrice': None,\n",
       " 'averageDailyVolume10Day': 2390616,\n",
       " 'totalAssets': None,\n",
       " 'regularMarketPreviousClose': 1186.51,\n",
       " 'fiftyDayAverage': 1244.7483,\n",
       " 'trailingAnnualDividendRate': None,\n",
       " 'open': 1206.5,\n",
       " 'toCurrency': None,\n",
       " 'averageVolume10days': 2390616,\n",
       " 'expireDate': None,\n",
       " 'yield': None,\n",
       " 'algorithm': None,\n",
       " 'dividendRate': None,\n",
       " 'exDividendDate': None,\n",
       " 'beta': 1.045841,\n",
       " 'circulatingSupply': None,\n",
       " 'startDate': None,\n",
       " 'regularMarketDayLow': 1188.16,\n",
       " 'priceHint': 2,\n",
       " 'currency': 'USD',\n",
       " 'trailingPE': 24.617702,\n",
       " 'regularMarketVolume': 1858449,\n",
       " 'lastMarket': None,\n",
       " 'maxSupply': None,\n",
       " 'openInterest': None,\n",
       " 'marketCap': 830413078528,\n",
       " 'volumeAllCurrencies': None,\n",
       " 'strikePrice': None,\n",
       " 'averageVolume': 2349022,\n",
       " 'priceToSalesTrailing12Months': 5.1305356,\n",
       " 'dayLow': 1188.16,\n",
       " 'ask': 1208.49,\n",
       " 'ytdReturn': None,\n",
       " 'askSize': 1100,\n",
       " 'volume': 1858449,\n",
       " 'fiftyTwoWeekHigh': 1532.106,\n",
       " 'forwardPE': 20.667349,\n",
       " 'fromCurrency': None,\n",
       " 'fiveYearAvgDividendYield': None,\n",
       " 'fiftyTwoWeekLow': 1013.536,\n",
       " 'bid': 1213.54,\n",
       " 'tradeable': True,\n",
       " 'dividendYield': None,\n",
       " 'bidSize': 800,\n",
       " 'dayHigh': 1219.07,\n",
       " 'exchange': 'NMS',\n",
       " 'shortName': 'Alphabet Inc.',\n",
       " 'longName': 'Alphabet Inc.',\n",
       " 'exchangeTimezoneName': 'America/New_York',\n",
       " 'exchangeTimezoneShortName': 'EDT',\n",
       " 'isEsgPopulated': False,\n",
       " 'gmtOffSetMilliseconds': '-14400000',\n",
       " 'quoteType': 'EQUITY',\n",
       " 'symbol': 'GOOG',\n",
       " 'messageBoardId': 'finmb_29096',\n",
       " 'market': 'us_market',\n",
       " 'annualHoldingsTurnover': None,\n",
       " 'enterpriseToRevenue': 4.397,\n",
       " 'beta3Year': None,\n",
       " 'profitMargins': 0.21218,\n",
       " 'enterpriseToEbitda': 14.787,\n",
       " '52WeekChange': -0.012677193,\n",
       " 'morningStarRiskRating': None,\n",
       " 'forwardEps': 58.56,\n",
       " 'revenueQuarterlyGrowth': None,\n",
       " 'sharesOutstanding': 342065984,\n",
       " 'fundInceptionDate': None,\n",
       " 'annualReportExpenseRatio': None,\n",
       " 'bookValue': 292.651,\n",
       " 'sharesShort': 3750970,\n",
       " 'sharesPercentSharesOut': 0.0055,\n",
       " 'fundFamily': None,\n",
       " 'lastFiscalYearEnd': 1577750400,\n",
       " 'heldPercentInstitutions': 0.69495004,\n",
       " 'netIncomeToCommon': 34343000064,\n",
       " 'trailingEps': 49.163,\n",
       " 'lastDividendValue': None,\n",
       " 'SandP52WeekChange': -0.07774019,\n",
       " 'priceToBook': 4.1355743,\n",
       " 'heldPercentInsiders': 0.05664,\n",
       " 'nextFiscalYearEnd': 1640908800,\n",
       " 'mostRecentQuarter': 1577750400,\n",
       " 'shortRatio': 1.66,\n",
       " 'sharesShortPreviousMonthDate': 1581638400,\n",
       " 'floatShares': 617959542,\n",
       " 'enterpriseValue': 711763820544,\n",
       " 'threeYearAverageReturn': None,\n",
       " 'lastSplitDate': 1430092800,\n",
       " 'lastSplitFactor': '10000000:10000000',\n",
       " 'legalType': None,\n",
       " 'morningStarOverallRating': None,\n",
       " 'earningsQuarterlyGrowth': 0.193,\n",
       " 'dateShortInterest': 1584057600,\n",
       " 'pegRatio': 1.54,\n",
       " 'lastCapGain': None,\n",
       " 'shortPercentOfFloat': None,\n",
       " 'sharesShortPriorMonth': 3542143,\n",
       " 'category': None,\n",
       " 'fiveYearAverageReturn': None,\n",
       " 'regularMarketPrice': 1206.5,\n",
       " 'logo_url': 'https://logo.clearbit.com/abc.xyz'}"
      ]
     },
     "execution_count": 25,
     "metadata": {},
     "output_type": "execute_result"
    }
   ],
   "source": [
    "goog_info = info_dict['GOOG']\n",
    "goog_info"
   ]
  },
  {
   "cell_type": "code",
   "execution_count": 26,
   "metadata": {},
   "outputs": [
    {
     "data": {
      "text/plain": [
       "'Alphabet Inc.'"
      ]
     },
     "execution_count": 26,
     "metadata": {},
     "output_type": "execute_result"
    }
   ],
   "source": [
    "goog_info['longName']"
   ]
  },
  {
   "cell_type": "code",
   "execution_count": 27,
   "metadata": {},
   "outputs": [],
   "source": [
    "if downloadData:\n",
    "    with open(filePath, 'w') as file:\n",
    "        %time json.dump(info_dict, file, indent=\"\\t\")"
   ]
  },
  {
   "cell_type": "code",
   "execution_count": 28,
   "metadata": {},
   "outputs": [],
   "source": [
    "# removeFile(filePath)"
   ]
  },
  {
   "cell_type": "code",
   "execution_count": 29,
   "metadata": {},
   "outputs": [
    {
     "data": {
      "text/html": [
       "<div>\n",
       "<style scoped>\n",
       "    .dataframe tbody tr th:only-of-type {\n",
       "        vertical-align: middle;\n",
       "    }\n",
       "\n",
       "    .dataframe tbody tr th {\n",
       "        vertical-align: top;\n",
       "    }\n",
       "\n",
       "    .dataframe thead th {\n",
       "        text-align: right;\n",
       "    }\n",
       "</style>\n",
       "<table border=\"1\" class=\"dataframe\">\n",
       "  <thead>\n",
       "    <tr style=\"text-align: right;\">\n",
       "      <th></th>\n",
       "      <th>Open</th>\n",
       "      <th>High</th>\n",
       "      <th>Low</th>\n",
       "      <th>Close</th>\n",
       "      <th>Volume</th>\n",
       "      <th>Dividends</th>\n",
       "      <th>Stock Splits</th>\n",
       "    </tr>\n",
       "    <tr>\n",
       "      <th>Date</th>\n",
       "      <th></th>\n",
       "      <th></th>\n",
       "      <th></th>\n",
       "      <th></th>\n",
       "      <th></th>\n",
       "      <th></th>\n",
       "      <th></th>\n",
       "    </tr>\n",
       "  </thead>\n",
       "  <tbody>\n",
       "    <tr>\n",
       "      <td>2018-04-09</td>\n",
       "      <td>291.77</td>\n",
       "      <td>299.55</td>\n",
       "      <td>289.12</td>\n",
       "      <td>289.93</td>\n",
       "      <td>9853600</td>\n",
       "      <td>0</td>\n",
       "      <td>0</td>\n",
       "    </tr>\n",
       "    <tr>\n",
       "      <td>2018-04-10</td>\n",
       "      <td>297.68</td>\n",
       "      <td>298.95</td>\n",
       "      <td>291.69</td>\n",
       "      <td>298.07</td>\n",
       "      <td>10660500</td>\n",
       "      <td>0</td>\n",
       "      <td>0</td>\n",
       "    </tr>\n",
       "    <tr>\n",
       "      <td>2018-04-11</td>\n",
       "      <td>302.88</td>\n",
       "      <td>311.64</td>\n",
       "      <td>301.82</td>\n",
       "      <td>303.67</td>\n",
       "      <td>14877400</td>\n",
       "      <td>0</td>\n",
       "      <td>0</td>\n",
       "    </tr>\n",
       "    <tr>\n",
       "      <td>2018-04-12</td>\n",
       "      <td>309.72</td>\n",
       "      <td>311.13</td>\n",
       "      <td>306.75</td>\n",
       "      <td>309.25</td>\n",
       "      <td>10249400</td>\n",
       "      <td>0</td>\n",
       "      <td>0</td>\n",
       "    </tr>\n",
       "    <tr>\n",
       "      <td>2018-04-13</td>\n",
       "      <td>317.29</td>\n",
       "      <td>317.49</td>\n",
       "      <td>308.23</td>\n",
       "      <td>311.65</td>\n",
       "      <td>12046600</td>\n",
       "      <td>0</td>\n",
       "      <td>0</td>\n",
       "    </tr>\n",
       "    <tr>\n",
       "      <td>...</td>\n",
       "      <td>...</td>\n",
       "      <td>...</td>\n",
       "      <td>...</td>\n",
       "      <td>...</td>\n",
       "      <td>...</td>\n",
       "      <td>...</td>\n",
       "      <td>...</td>\n",
       "    </tr>\n",
       "    <tr>\n",
       "      <td>2020-04-02</td>\n",
       "      <td>364.08</td>\n",
       "      <td>370.99</td>\n",
       "      <td>360.06</td>\n",
       "      <td>370.08</td>\n",
       "      <td>4592500</td>\n",
       "      <td>0</td>\n",
       "      <td>0</td>\n",
       "    </tr>\n",
       "    <tr>\n",
       "      <td>2020-04-03</td>\n",
       "      <td>367.47</td>\n",
       "      <td>370.90</td>\n",
       "      <td>357.51</td>\n",
       "      <td>361.76</td>\n",
       "      <td>4860800</td>\n",
       "      <td>0</td>\n",
       "      <td>0</td>\n",
       "    </tr>\n",
       "    <tr>\n",
       "      <td>2020-04-06</td>\n",
       "      <td>365.22</td>\n",
       "      <td>380.29</td>\n",
       "      <td>361.71</td>\n",
       "      <td>379.96</td>\n",
       "      <td>8183900</td>\n",
       "      <td>0</td>\n",
       "      <td>0</td>\n",
       "    </tr>\n",
       "    <tr>\n",
       "      <td>2020-04-07</td>\n",
       "      <td>380.00</td>\n",
       "      <td>381.33</td>\n",
       "      <td>369.34</td>\n",
       "      <td>372.28</td>\n",
       "      <td>7040000</td>\n",
       "      <td>0</td>\n",
       "      <td>0</td>\n",
       "    </tr>\n",
       "    <tr>\n",
       "      <td>2020-04-08</td>\n",
       "      <td>374.01</td>\n",
       "      <td>378.39</td>\n",
       "      <td>368.31</td>\n",
       "      <td>371.12</td>\n",
       "      <td>6713169</td>\n",
       "      <td>0</td>\n",
       "      <td>0</td>\n",
       "    </tr>\n",
       "  </tbody>\n",
       "</table>\n",
       "<p>505 rows × 7 columns</p>\n",
       "</div>"
      ],
      "text/plain": [
       "              Open    High     Low   Close    Volume  Dividends  Stock Splits\n",
       "Date                                                                         \n",
       "2018-04-09  291.77  299.55  289.12  289.93   9853600          0             0\n",
       "2018-04-10  297.68  298.95  291.69  298.07  10660500          0             0\n",
       "2018-04-11  302.88  311.64  301.82  303.67  14877400          0             0\n",
       "2018-04-12  309.72  311.13  306.75  309.25  10249400          0             0\n",
       "2018-04-13  317.29  317.49  308.23  311.65  12046600          0             0\n",
       "...            ...     ...     ...     ...       ...        ...           ...\n",
       "2020-04-02  364.08  370.99  360.06  370.08   4592500          0             0\n",
       "2020-04-03  367.47  370.90  357.51  361.76   4860800          0             0\n",
       "2020-04-06  365.22  380.29  361.71  379.96   8183900          0             0\n",
       "2020-04-07  380.00  381.33  369.34  372.28   7040000          0             0\n",
       "2020-04-08  374.01  378.39  368.31  371.12   6713169          0             0\n",
       "\n",
       "[505 rows x 7 columns]"
      ]
     },
     "execution_count": 29,
     "metadata": {},
     "output_type": "execute_result"
    }
   ],
   "source": [
    "nflx_history_last_two_years = nflx.history(start=\"2018-04-08\")\n",
    "nflx_history_last_two_years"
   ]
  },
  {
   "cell_type": "code",
   "execution_count": 30,
   "metadata": {
    "scrolled": true
   },
   "outputs": [
    {
     "data": {
      "text/plain": [
       "Text(0, 0.5, 'Close Price (USD)')"
      ]
     },
     "execution_count": 30,
     "metadata": {},
     "output_type": "execute_result"
    },
    {
     "data": {
      "image/png": "[encoded data removed]",
      "text/plain": [
       "<Figure size 432x288 with 1 Axes>"
      ]
     },
     "metadata": {
      "needs_background": "light"
     },
     "output_type": "display_data"
    }
   ],
   "source": [
    "ax = nflx_history_last_two_years[\"Close\"].plot()\n",
    "\n",
    "ax.set_title(\"NFLX\")\n",
    "ax.set_ylabel(\"Close Price (USD)\")"
   ]
  },
  {
   "cell_type": "code",
   "execution_count": 31,
   "metadata": {
    "scrolled": true
   },
   "outputs": [
    {
     "data": {
      "text/plain": [
       "Text(0, 0.5, 'Close Price (USD)')"
      ]
     },
     "execution_count": 31,
     "metadata": {},
     "output_type": "execute_result"
    },
    {
     "data": {
      "image/png": "[encoded data removed]",
      "text/plain": [
       "<Figure size 432x288 with 1 Axes>"
      ]
     },
     "metadata": {
      "needs_background": "light"
     },
     "output_type": "display_data"
    }
   ],
   "source": [
    "ax = nflx_history_last_two_years.loc[\"2020-01-01\":, \"Close\"].plot()\n",
    "\n",
    "ax.set_title(\"NFLX\")\n",
    "ax.set_ylabel(\"Close Price (USD)\")"
   ]
  },
  {
   "cell_type": "markdown",
   "metadata": {},
   "source": [
    "### 1.2.3. mass download of market data: `yf.download()` function <a name=\"get-market-and-meta-data:-yf.download()-function\"></a>"
   ]
  },
  {
   "cell_type": "code",
   "execution_count": 32,
   "metadata": {},
   "outputs": [],
   "source": [
    "securityTickerToNameDict = {\n",
    "    'AAPL':     \"Apple Inc. Stock\",\n",
    "    'GOOG':     \"Alphabet Inc. Stock\",\n",
    "    'FB':       \"Facebook, Inc. Stock\",\n",
    "    'MSFT':     \"Microsoft Corporation Stock\",\n",
    "    'INTC':     \"Intel Corporation Stock\",\n",
    "    'AMZN':     \"Amazon.com, Inc. Stock\",\n",
    "    'BABA':     \"Alibaba Group Holding Limited Stock\",\n",
    "    'NFLX':     \"Netflix, Inc. Stock\",\n",
    "    'DIS':      \"The Walt Disney Company Stock\",\n",
    "    'GS':       \"The Goldman Sachs Group, Inc. Stock\",\n",
    "    'DB':       \"Deutsche Bank Aktiengesellschaft Stock\",\n",
    "    '^GSPC':    \"S&P 500 Index\",\n",
    "    '^VIX':     \"CBOE Volatility Index\",\n",
    "    'EURUSD=X': \"EUR/USD Exchange Rate\",\n",
    "    'EURCHF=X': \"EUR/CHF Exchange Rate\",\n",
    "    'EURGBP=X': \"EUR/GBP Exchange Rate\",\n",
    "    'FCAU':     \"Fiat Chrysler Automobiles N.V.\",\n",
    "    'E':        \"Eni S.p.A. Stock\",\n",
    "    'ENIA':     \"Enel Americas S.A. Stock\"\n",
    "}"
   ]
  },
  {
   "cell_type": "code",
   "execution_count": 33,
   "metadata": {},
   "outputs": [
    {
     "data": {
      "text/plain": [
       "['AAPL',\n",
       " 'GOOG',\n",
       " 'FB',\n",
       " 'MSFT',\n",
       " 'INTC',\n",
       " 'AMZN',\n",
       " 'BABA',\n",
       " 'NFLX',\n",
       " 'DIS',\n",
       " 'GS',\n",
       " 'DB',\n",
       " '^GSPC',\n",
       " '^VIX',\n",
       " 'EURUSD=X',\n",
       " 'EURCHF=X',\n",
       " 'EURGBP=X',\n",
       " 'FCAU',\n",
       " 'E',\n",
       " 'ENIA']"
      ]
     },
     "execution_count": 33,
     "metadata": {},
     "output_type": "execute_result"
    }
   ],
   "source": [
    "tickerList = list(securityTickerToNameDict.keys())\n",
    "tickerList"
   ]
  },
  {
   "cell_type": "code",
   "execution_count": 34,
   "metadata": {},
   "outputs": [
    {
     "data": {
      "text/plain": [
       "'AAPL GOOG FB MSFT INTC AMZN BABA NFLX DIS GS DB ^GSPC ^VIX EURUSD=X EURCHF=X EURGBP=X FCAU E ENIA'"
      ]
     },
     "execution_count": 34,
     "metadata": {},
     "output_type": "execute_result"
    }
   ],
   "source": [
    "tickerListString = ' '.join(tickerList)\n",
    "tickerListString"
   ]
  },
  {
   "cell_type": "markdown",
   "metadata": {},
   "source": [
    "````python\n",
    "yf.download(tickers, start[, end, interval])\n",
    "```\n",
    "\n",
    "where:\n",
    "    \n",
    "- `tickers` parameter is the list of Yahoo! Finance tickers for which we query data;\n",
    "- `start` parameter, is the `\"YYYY-MM-DD\"` Python String representing the first date for which we query data;\n",
    "- `end` parameter, optional, is the `\"YYYY-MM-DD\"` Python String representing the last date for which we query data. By default is the last available date, which is usually either today or the last business day;\n",
    "- `interval` parameter, optional, is the Python String representing the frequency of data retrieval. By default it is `\"1d\"`, that is daily frequency. Accepted values are the same as in case of `.history(..., interval, ...)`.\n",
    "\n",
    "Alternatively\n",
    "\n",
    "````python\n",
    "yf.download(tickers, period[, interval])\n",
    "```\n",
    "\n",
    "where `period` parameter, optional, the length of the most recent period for which we query data. By default it is \"ytd\" (acronym for year to date), that is the period of time beginning the first day of the current year up to the current date. Accepted values are the same as in case of `.history(..., period, ...)`."
   ]
  },
  {
   "cell_type": "code",
   "execution_count": 35,
   "metadata": {
    "scrolled": true
   },
   "outputs": [],
   "source": [
    "if downloadData:\n",
    "    %time data = yf.download(tickers=tickerListString, start=\"1985-01-01\")\n",
    "    print(data[\"Adj Close\"].loc[\"2020-04-08\", \"AAPL\"])\n",
    "    data"
   ]
  },
  {
   "cell_type": "code",
   "execution_count": 36,
   "metadata": {},
   "outputs": [],
   "source": [
    "filePath = os.path.join(dataFolderPath, \"Securities_Close_Price_Dataset.csv\")"
   ]
  },
  {
   "cell_type": "code",
   "execution_count": 37,
   "metadata": {
    "scrolled": true
   },
   "outputs": [
    {
     "name": "stdout",
     "output_type": "stream",
     "text": [
      "Wall time: 44.9 ms\n"
     ]
    }
   ],
   "source": [
    "if downloadData:\n",
    "    dataClose = data[\"Close\"]\n",
    "    \n",
    "else:\n",
    "    %time dataClose = pd.read_csv(filepath_or_buffer = filePath, index_col = 0, parse_dates = True)"
   ]
  },
  {
   "cell_type": "code",
   "execution_count": 38,
   "metadata": {},
   "outputs": [],
   "source": [
    "if downloadData:\n",
    "    %time dataClose.to_csv(path_or_buf = filePath)"
   ]
  },
  {
   "cell_type": "code",
   "execution_count": 39,
   "metadata": {},
   "outputs": [],
   "source": [
    "# removeFile(filePath)"
   ]
  },
  {
   "cell_type": "code",
   "execution_count": 40,
   "metadata": {},
   "outputs": [
    {
     "data": {
      "text/html": [
       "<div>\n",
       "<style scoped>\n",
       "    .dataframe tbody tr th:only-of-type {\n",
       "        vertical-align: middle;\n",
       "    }\n",
       "\n",
       "    .dataframe tbody tr th {\n",
       "        vertical-align: top;\n",
       "    }\n",
       "\n",
       "    .dataframe thead th {\n",
       "        text-align: right;\n",
       "    }\n",
       "</style>\n",
       "<table border=\"1\" class=\"dataframe\">\n",
       "  <thead>\n",
       "    <tr style=\"text-align: right;\">\n",
       "      <th></th>\n",
       "      <th>AAPL</th>\n",
       "      <th>AMZN</th>\n",
       "      <th>BABA</th>\n",
       "      <th>DB</th>\n",
       "      <th>DIS</th>\n",
       "      <th>E</th>\n",
       "      <th>ENIA</th>\n",
       "      <th>EURCHF=X</th>\n",
       "      <th>EURGBP=X</th>\n",
       "      <th>EURUSD=X</th>\n",
       "      <th>FB</th>\n",
       "      <th>FCAU</th>\n",
       "      <th>GOOG</th>\n",
       "      <th>GS</th>\n",
       "      <th>INTC</th>\n",
       "      <th>MSFT</th>\n",
       "      <th>NFLX</th>\n",
       "      <th>^GSPC</th>\n",
       "      <th>^VIX</th>\n",
       "    </tr>\n",
       "    <tr>\n",
       "      <th>Date</th>\n",
       "      <th></th>\n",
       "      <th></th>\n",
       "      <th></th>\n",
       "      <th></th>\n",
       "      <th></th>\n",
       "      <th></th>\n",
       "      <th></th>\n",
       "      <th></th>\n",
       "      <th></th>\n",
       "      <th></th>\n",
       "      <th></th>\n",
       "      <th></th>\n",
       "      <th></th>\n",
       "      <th></th>\n",
       "      <th></th>\n",
       "      <th></th>\n",
       "      <th></th>\n",
       "      <th></th>\n",
       "      <th></th>\n",
       "    </tr>\n",
       "  </thead>\n",
       "  <tbody>\n",
       "    <tr>\n",
       "      <td>1984-12-31</td>\n",
       "      <td>0.520089</td>\n",
       "      <td>NaN</td>\n",
       "      <td>NaN</td>\n",
       "      <td>NaN</td>\n",
       "      <td>1.230556</td>\n",
       "      <td>NaN</td>\n",
       "      <td>NaN</td>\n",
       "      <td>NaN</td>\n",
       "      <td>NaN</td>\n",
       "      <td>NaN</td>\n",
       "      <td>NaN</td>\n",
       "      <td>NaN</td>\n",
       "      <td>NaN</td>\n",
       "      <td>NaN</td>\n",
       "      <td>0.583333</td>\n",
       "      <td>NaN</td>\n",
       "      <td>NaN</td>\n",
       "      <td>167.240005</td>\n",
       "      <td>NaN</td>\n",
       "    </tr>\n",
       "    <tr>\n",
       "      <td>1985-01-02</td>\n",
       "      <td>0.497768</td>\n",
       "      <td>NaN</td>\n",
       "      <td>NaN</td>\n",
       "      <td>NaN</td>\n",
       "      <td>1.235694</td>\n",
       "      <td>NaN</td>\n",
       "      <td>NaN</td>\n",
       "      <td>NaN</td>\n",
       "      <td>NaN</td>\n",
       "      <td>NaN</td>\n",
       "      <td>NaN</td>\n",
       "      <td>NaN</td>\n",
       "      <td>NaN</td>\n",
       "      <td>NaN</td>\n",
       "      <td>0.572917</td>\n",
       "      <td>NaN</td>\n",
       "      <td>NaN</td>\n",
       "      <td>165.369995</td>\n",
       "      <td>NaN</td>\n",
       "    </tr>\n",
       "    <tr>\n",
       "      <td>1985-01-03</td>\n",
       "      <td>0.506696</td>\n",
       "      <td>NaN</td>\n",
       "      <td>NaN</td>\n",
       "      <td>NaN</td>\n",
       "      <td>1.225418</td>\n",
       "      <td>NaN</td>\n",
       "      <td>NaN</td>\n",
       "      <td>NaN</td>\n",
       "      <td>NaN</td>\n",
       "      <td>NaN</td>\n",
       "      <td>NaN</td>\n",
       "      <td>NaN</td>\n",
       "      <td>NaN</td>\n",
       "      <td>NaN</td>\n",
       "      <td>0.583333</td>\n",
       "      <td>NaN</td>\n",
       "      <td>NaN</td>\n",
       "      <td>164.570007</td>\n",
       "      <td>NaN</td>\n",
       "    </tr>\n",
       "    <tr>\n",
       "      <td>1985-01-04</td>\n",
       "      <td>0.506696</td>\n",
       "      <td>NaN</td>\n",
       "      <td>NaN</td>\n",
       "      <td>NaN</td>\n",
       "      <td>1.220280</td>\n",
       "      <td>NaN</td>\n",
       "      <td>NaN</td>\n",
       "      <td>NaN</td>\n",
       "      <td>NaN</td>\n",
       "      <td>NaN</td>\n",
       "      <td>NaN</td>\n",
       "      <td>NaN</td>\n",
       "      <td>NaN</td>\n",
       "      <td>NaN</td>\n",
       "      <td>0.593750</td>\n",
       "      <td>NaN</td>\n",
       "      <td>NaN</td>\n",
       "      <td>163.679993</td>\n",
       "      <td>NaN</td>\n",
       "    </tr>\n",
       "    <tr>\n",
       "      <td>1985-01-07</td>\n",
       "      <td>0.504464</td>\n",
       "      <td>NaN</td>\n",
       "      <td>NaN</td>\n",
       "      <td>NaN</td>\n",
       "      <td>1.235694</td>\n",
       "      <td>NaN</td>\n",
       "      <td>NaN</td>\n",
       "      <td>NaN</td>\n",
       "      <td>NaN</td>\n",
       "      <td>NaN</td>\n",
       "      <td>NaN</td>\n",
       "      <td>NaN</td>\n",
       "      <td>NaN</td>\n",
       "      <td>NaN</td>\n",
       "      <td>0.609375</td>\n",
       "      <td>NaN</td>\n",
       "      <td>NaN</td>\n",
       "      <td>164.240005</td>\n",
       "      <td>NaN</td>\n",
       "    </tr>\n",
       "  </tbody>\n",
       "</table>\n",
       "</div>"
      ],
      "text/plain": [
       "                AAPL  AMZN  BABA  DB       DIS   E  ENIA  EURCHF=X  EURGBP=X  \\\n",
       "Date                                                                           \n",
       "1984-12-31  0.520089   NaN   NaN NaN  1.230556 NaN   NaN       NaN       NaN   \n",
       "1985-01-02  0.497768   NaN   NaN NaN  1.235694 NaN   NaN       NaN       NaN   \n",
       "1985-01-03  0.506696   NaN   NaN NaN  1.225418 NaN   NaN       NaN       NaN   \n",
       "1985-01-04  0.506696   NaN   NaN NaN  1.220280 NaN   NaN       NaN       NaN   \n",
       "1985-01-07  0.504464   NaN   NaN NaN  1.235694 NaN   NaN       NaN       NaN   \n",
       "\n",
       "            EURUSD=X  FB  FCAU  GOOG  GS      INTC  MSFT  NFLX       ^GSPC  \\\n",
       "Date                                                                         \n",
       "1984-12-31       NaN NaN   NaN   NaN NaN  0.583333   NaN   NaN  167.240005   \n",
       "1985-01-02       NaN NaN   NaN   NaN NaN  0.572917   NaN   NaN  165.369995   \n",
       "1985-01-03       NaN NaN   NaN   NaN NaN  0.583333   NaN   NaN  164.570007   \n",
       "1985-01-04       NaN NaN   NaN   NaN NaN  0.593750   NaN   NaN  163.679993   \n",
       "1985-01-07       NaN NaN   NaN   NaN NaN  0.609375   NaN   NaN  164.240005   \n",
       "\n",
       "            ^VIX  \n",
       "Date              \n",
       "1984-12-31   NaN  \n",
       "1985-01-02   NaN  \n",
       "1985-01-03   NaN  \n",
       "1985-01-04   NaN  \n",
       "1985-01-07   NaN  "
      ]
     },
     "execution_count": 40,
     "metadata": {},
     "output_type": "execute_result"
    }
   ],
   "source": [
    "dataClose.head()"
   ]
  },
  {
   "cell_type": "code",
   "execution_count": 41,
   "metadata": {
    "scrolled": true
   },
   "outputs": [
    {
     "data": {
      "text/html": [
       "<div>\n",
       "<style scoped>\n",
       "    .dataframe tbody tr th:only-of-type {\n",
       "        vertical-align: middle;\n",
       "    }\n",
       "\n",
       "    .dataframe tbody tr th {\n",
       "        vertical-align: top;\n",
       "    }\n",
       "\n",
       "    .dataframe thead th {\n",
       "        text-align: right;\n",
       "    }\n",
       "</style>\n",
       "<table border=\"1\" class=\"dataframe\">\n",
       "  <thead>\n",
       "    <tr style=\"text-align: right;\">\n",
       "      <th></th>\n",
       "      <th>AAPL</th>\n",
       "      <th>AMZN</th>\n",
       "      <th>BABA</th>\n",
       "      <th>DB</th>\n",
       "      <th>DIS</th>\n",
       "      <th>E</th>\n",
       "      <th>ENIA</th>\n",
       "      <th>EURCHF=X</th>\n",
       "      <th>EURGBP=X</th>\n",
       "      <th>EURUSD=X</th>\n",
       "      <th>FB</th>\n",
       "      <th>FCAU</th>\n",
       "      <th>GOOG</th>\n",
       "      <th>GS</th>\n",
       "      <th>INTC</th>\n",
       "      <th>MSFT</th>\n",
       "      <th>NFLX</th>\n",
       "      <th>^GSPC</th>\n",
       "      <th>^VIX</th>\n",
       "    </tr>\n",
       "    <tr>\n",
       "      <th>Date</th>\n",
       "      <th></th>\n",
       "      <th></th>\n",
       "      <th></th>\n",
       "      <th></th>\n",
       "      <th></th>\n",
       "      <th></th>\n",
       "      <th></th>\n",
       "      <th></th>\n",
       "      <th></th>\n",
       "      <th></th>\n",
       "      <th></th>\n",
       "      <th></th>\n",
       "      <th></th>\n",
       "      <th></th>\n",
       "      <th></th>\n",
       "      <th></th>\n",
       "      <th></th>\n",
       "      <th></th>\n",
       "      <th></th>\n",
       "    </tr>\n",
       "  </thead>\n",
       "  <tbody>\n",
       "    <tr>\n",
       "      <td>2020-04-02</td>\n",
       "      <td>244.929993</td>\n",
       "      <td>1918.829956</td>\n",
       "      <td>188.899994</td>\n",
       "      <td>6.02</td>\n",
       "      <td>96.970001</td>\n",
       "      <td>21.570000</td>\n",
       "      <td>5.79</td>\n",
       "      <td>1.05821</td>\n",
       "      <td>0.88450</td>\n",
       "      <td>1.095362</td>\n",
       "      <td>158.190002</td>\n",
       "      <td>6.81</td>\n",
       "      <td>1120.839966</td>\n",
       "      <td>149.929993</td>\n",
       "      <td>54.349998</td>\n",
       "      <td>155.259995</td>\n",
       "      <td>370.079987</td>\n",
       "      <td>2526.899902</td>\n",
       "      <td>50.910000</td>\n",
       "    </tr>\n",
       "    <tr>\n",
       "      <td>2020-04-03</td>\n",
       "      <td>241.410004</td>\n",
       "      <td>1906.589966</td>\n",
       "      <td>187.110001</td>\n",
       "      <td>5.90</td>\n",
       "      <td>93.879997</td>\n",
       "      <td>20.219999</td>\n",
       "      <td>6.82</td>\n",
       "      <td>1.05675</td>\n",
       "      <td>0.87503</td>\n",
       "      <td>1.084740</td>\n",
       "      <td>154.179993</td>\n",
       "      <td>6.71</td>\n",
       "      <td>1097.880005</td>\n",
       "      <td>146.929993</td>\n",
       "      <td>54.130001</td>\n",
       "      <td>153.830002</td>\n",
       "      <td>361.760010</td>\n",
       "      <td>2488.649902</td>\n",
       "      <td>46.799999</td>\n",
       "    </tr>\n",
       "    <tr>\n",
       "      <td>2020-04-06</td>\n",
       "      <td>262.470001</td>\n",
       "      <td>1997.589966</td>\n",
       "      <td>196.449997</td>\n",
       "      <td>6.38</td>\n",
       "      <td>99.580002</td>\n",
       "      <td>20.969999</td>\n",
       "      <td>7.11</td>\n",
       "      <td>1.05594</td>\n",
       "      <td>0.88427</td>\n",
       "      <td>1.080696</td>\n",
       "      <td>165.550003</td>\n",
       "      <td>7.25</td>\n",
       "      <td>1186.920044</td>\n",
       "      <td>158.229996</td>\n",
       "      <td>58.430000</td>\n",
       "      <td>165.270004</td>\n",
       "      <td>379.959991</td>\n",
       "      <td>2663.679932</td>\n",
       "      <td>45.240002</td>\n",
       "    </tr>\n",
       "    <tr>\n",
       "      <td>2020-04-07</td>\n",
       "      <td>259.429993</td>\n",
       "      <td>2011.599976</td>\n",
       "      <td>198.000000</td>\n",
       "      <td>6.64</td>\n",
       "      <td>101.239998</td>\n",
       "      <td>20.209999</td>\n",
       "      <td>7.29</td>\n",
       "      <td>1.05629</td>\n",
       "      <td>0.88236</td>\n",
       "      <td>1.080380</td>\n",
       "      <td>168.830002</td>\n",
       "      <td>7.62</td>\n",
       "      <td>1186.510010</td>\n",
       "      <td>166.020004</td>\n",
       "      <td>58.400002</td>\n",
       "      <td>163.490005</td>\n",
       "      <td>372.279999</td>\n",
       "      <td>2659.409912</td>\n",
       "      <td>46.700001</td>\n",
       "    </tr>\n",
       "    <tr>\n",
       "      <td>2020-04-08</td>\n",
       "      <td>266.070007</td>\n",
       "      <td>2043.000000</td>\n",
       "      <td>195.979996</td>\n",
       "      <td>6.54</td>\n",
       "      <td>101.070000</td>\n",
       "      <td>20.309999</td>\n",
       "      <td>7.92</td>\n",
       "      <td>1.05499</td>\n",
       "      <td>0.87680</td>\n",
       "      <td>1.085541</td>\n",
       "      <td>174.279999</td>\n",
       "      <td>7.86</td>\n",
       "      <td>1210.280029</td>\n",
       "      <td>176.960007</td>\n",
       "      <td>58.980000</td>\n",
       "      <td>165.130005</td>\n",
       "      <td>371.119995</td>\n",
       "      <td>2749.979980</td>\n",
       "      <td>43.000000</td>\n",
       "    </tr>\n",
       "  </tbody>\n",
       "</table>\n",
       "</div>"
      ],
      "text/plain": [
       "                  AAPL         AMZN        BABA    DB         DIS          E  \\\n",
       "Date                                                                           \n",
       "2020-04-02  244.929993  1918.829956  188.899994  6.02   96.970001  21.570000   \n",
       "2020-04-03  241.410004  1906.589966  187.110001  5.90   93.879997  20.219999   \n",
       "2020-04-06  262.470001  1997.589966  196.449997  6.38   99.580002  20.969999   \n",
       "2020-04-07  259.429993  2011.599976  198.000000  6.64  101.239998  20.209999   \n",
       "2020-04-08  266.070007  2043.000000  195.979996  6.54  101.070000  20.309999   \n",
       "\n",
       "            ENIA  EURCHF=X  EURGBP=X  EURUSD=X          FB  FCAU         GOOG  \\\n",
       "Date                                                                            \n",
       "2020-04-02  5.79   1.05821   0.88450  1.095362  158.190002  6.81  1120.839966   \n",
       "2020-04-03  6.82   1.05675   0.87503  1.084740  154.179993  6.71  1097.880005   \n",
       "2020-04-06  7.11   1.05594   0.88427  1.080696  165.550003  7.25  1186.920044   \n",
       "2020-04-07  7.29   1.05629   0.88236  1.080380  168.830002  7.62  1186.510010   \n",
       "2020-04-08  7.92   1.05499   0.87680  1.085541  174.279999  7.86  1210.280029   \n",
       "\n",
       "                    GS       INTC        MSFT        NFLX        ^GSPC  \\\n",
       "Date                                                                     \n",
       "2020-04-02  149.929993  54.349998  155.259995  370.079987  2526.899902   \n",
       "2020-04-03  146.929993  54.130001  153.830002  361.760010  2488.649902   \n",
       "2020-04-06  158.229996  58.430000  165.270004  379.959991  2663.679932   \n",
       "2020-04-07  166.020004  58.400002  163.490005  372.279999  2659.409912   \n",
       "2020-04-08  176.960007  58.980000  165.130005  371.119995  2749.979980   \n",
       "\n",
       "                 ^VIX  \n",
       "Date                   \n",
       "2020-04-02  50.910000  \n",
       "2020-04-03  46.799999  \n",
       "2020-04-06  45.240002  \n",
       "2020-04-07  46.700001  \n",
       "2020-04-08  43.000000  "
      ]
     },
     "execution_count": 41,
     "metadata": {},
     "output_type": "execute_result"
    }
   ],
   "source": [
    "dataClose.tail()"
   ]
  },
  {
   "cell_type": "markdown",
   "metadata": {},
   "source": [
    "## 1.3. Data Exploration <a name=\"data-exploration\"></a>"
   ]
  },
  {
   "cell_type": "markdown",
   "metadata": {},
   "source": [
    "### 1.3.1. Summary Statistics <a name=\"summary-statistics\"></a>"
   ]
  },
  {
   "cell_type": "markdown",
   "metadata": {},
   "source": [
    "### 1.3.2. Returns <a name=\"returns\"></a>"
   ]
  },
  {
   "cell_type": "markdown",
   "metadata": {},
   "source": [
    "Fare plot stacked dei returns"
   ]
  },
  {
   "cell_type": "markdown",
   "metadata": {},
   "source": [
    "### 1.3.3. Resampling <a name=\"resampling\"></a>"
   ]
  },
  {
   "cell_type": "markdown",
   "metadata": {},
   "source": [
    "### 1.3.4. Rolling Statistics <a name=\"rolling-statistics\"></a>"
   ]
  },
  {
   "cell_type": "markdown",
   "metadata": {},
   "source": [
    "- mean e std e 1-variate stuff"
   ]
  },
  {
   "cell_type": "markdown",
   "metadata": {},
   "source": [
    "#### 1.3.4.1 Rolling Correlation Matrix <a name=\"rolling-correlation-matrix\"></a>"
   ]
  },
  {
   "cell_type": "markdown",
   "metadata": {},
   "source": [
    "### 1.3.5. _Focus on:_ Covid-19 crisis <a name=\"focus-on:-covid-19-crisis\"></a>"
   ]
  },
  {
   "cell_type": "markdown",
   "metadata": {},
   "source": [
    "## 1.3. S&P500 - VIX correlation analysis <a name=\"s&p500-vix-correlation-analysis\"></a>"
   ]
  }
 ],
 "metadata": {
  "kernelspec": {
   "display_name": "Python 3",
   "language": "python",
   "name": "python3"
  },
  "language_info": {
   "codemirror_mode": {
    "name": "ipython",
    "version": 3
   },
   "file_extension": ".py",
   "mimetype": "text/x-python",
   "name": "python",
   "nbconvert_exporter": "python",
   "pygments_lexer": "ipython3",
   "version": "3.7.4"
  }
 },
 "nbformat": 4,
 "nbformat_minor": 2
}
