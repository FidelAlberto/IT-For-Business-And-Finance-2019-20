{
 "cells": [
  {
   "cell_type": "markdown",
   "metadata": {},
   "source": [
    "# Data Analysis - Financial Time Series"
   ]
  },
  {
   "cell_type": "markdown",
   "metadata": {},
   "source": [
    "**Author**: [Gabriele Pompa](https://www.linkedin.com/in/gabrielepompa/): gabriele.pompa@unisi.com"
   ]
  },
  {
   "cell_type": "markdown",
   "metadata": {},
   "source": [
    "# Table of contents\n",
    "\n",
    "[Executive Summary](#summary)\n",
    "\n",
    "**TODO**"
   ]
  },
  {
   "cell_type": "markdown",
   "metadata": {},
   "source": [
    "### **Resources**: \n",
    "\n",
    "**TODO**"
   ]
  },
  {
   "cell_type": "markdown",
   "metadata": {},
   "source": [
    "# Executive Summary <a name=\"summary\"></a>"
   ]
  },
  {
   "cell_type": "markdown",
   "metadata": {},
   "source": [
    "**TODO**"
   ]
  },
  {
   "cell_type": "markdown",
   "metadata": {},
   "source": [
    "These are the basic imports that we need to work with NumPy, Pandas and to plot data using Matplotlib functionalities"
   ]
  },
  {
   "cell_type": "code",
   "execution_count": 1,
   "metadata": {},
   "outputs": [],
   "source": [
    "# for NumPy arrays\n",
    "import numpy as np\n",
    "\n",
    "# for Pandas Series and DataFrame\n",
    "import pandas as pd\n",
    "\n",
    "# for Matplotlib plotting\n",
    "import matplotlib.pyplot as plt\n",
    "\n",
    "# to do inline plots in the Notebook\n",
    "%matplotlib inline\n",
    "\n",
    "# for Operating System operations\n",
    "import os"
   ]
  },
  {
   "cell_type": "markdown",
   "metadata": {},
   "source": [
    "# 1. Introduction <a name=\"introduction\"></a>"
   ]
  },
  {
   "cell_type": "markdown",
   "metadata": {},
   "source": [
    "When you need to process data using a programming languages, either you have your data stored in a file or database (as we have seen in the previous lesson) or you get your data from a Data Provider, such as Bloomberg, Reuters, etc."
   ]
  },
  {
   "cell_type": "markdown",
   "metadata": {},
   "source": [
    "Typically, data providers store secured their data in remote servers and expose interfaces to the public: these are called [Application Programming Interfaces](https://en.wikipedia.org/wiki/Application_programming_interface) (APIs). For what concern us, an API is a particular piece of code that allows you to get data from a data provider."
   ]
  },
  {
   "cell_type": "markdown",
   "metadata": {},
   "source": [
    "There are plenty of APIs which manage the interface between Python code and financial data, like [Reuters Eikon Data API](https://developers.refinitiv.com/eikon-apis/eikon-data-api). Being a business in itself, most of APIs to retrieve financial data are not for free."
   ]
  },
  {
   "cell_type": "markdown",
   "metadata": {},
   "source": [
    "Luckily for us, and thanks to people like [Ran Aroussi](https://aroussi.com/), we have a Python API, called [yfinance](https://github.com/ranaroussi/yfinance), which is 100% free:\n",
    "\n",
    "- yfinance Github page: [https://github.com/ranaroussi/yfinance](https://github.com/ranaroussi/yfinance);\n",
    "- Blog post form Ran Aroussi with a yfinance tutorial: [https://aroussi.com/post/python-yahoo-finance](https://aroussi.com/post/python-yahoo-finance).\n",
    "\n",
    "In a nutshell, yfinance - named after the now decommissioned _Yahoo! Finance_ API, is a reliable Python API to retrieve market data."
   ]
  },
  {
   "cell_type": "markdown",
   "metadata": {},
   "source": [
    "The yfinance API comes under the form of a Python module: `yfinance`. We shall see now how to include it in our Conda installation. "
   ]
  },
  {
   "cell_type": "markdown",
   "metadata": {},
   "source": [
    "## 1.1. Installing `yfinance` <a name=\"installing-yfinance\"></a>"
   ]
  },
  {
   "cell_type": "markdown",
   "metadata": {},
   "source": [
    "All you need to do to install yfinance library is to:\n",
    "\n",
    "- (If not done already) In your Anaconda Navigator switch to the class `ITForBusAndFin2020_env` conda environment (see [Figure 1](#anaconda_nav_and_env)). For Mac users: in case you are working under `base (root)` environment, it's ok, you can stay there.\n",
    "\n",
    "| ![](../images/anaconda_nav_and_env.PNG) <a name=\"anaconda_nav_and_env\"></a>| \n",
    "|:--:| \n",
    "| _**Figure 1**: in Anaconda Navigator, switch to the class conda environment_ |\n",
    "\n",
    "- (iIf not done already) Open your terminal window (the usual black command line window) using the _CMD.exe Prompt_ app or the _console_shortcut_ app in the Anaconda Navigator (both apps are fine and you have displayed one or the other depending on whether you have already updated the Anaconda Navigator or not yet, see [Figure 2](#open_terminal)).\n",
    "\n",
    "| ![](../images/CMD_exe.PNG) | \n",
    "|:--:| \n",
    "| ![](../images/console_shortcut.PNG) | \n",
    "| _**Figure 2**: Open a Terminal window using the  CMD.exe Prompt app or console_shorcut app in Anaconda Navigator_ <a name=\"open_terminal\"></a>|\n",
    "\n",
    "- (If not done already) In the terminal window, change directory to your local class folder typing `cd` followed by the complete path to the class folder, like `C:\\Users\\gabri\\Projects\\IT_For_Business_And_Finance_2019_20` on my local machine (see [Figure 3](#yfinance_png) below) \n",
    "\n",
    "\n",
    "- In the terminal window type the command to install `yfinance` (see [Figure 3](#yfinance_png)):\n",
    "  ```\n",
    "  pip install yfinance --upgrade --no-cache-dir\n",
    "  ```\n",
    "  \n",
    "| ![](../images/yfinance.png) <a name=\"yfinance_png\"></a>| \n",
    "|:--:| \n",
    "| _**Figure 3**: change directory to the class folder and install `yfinance` package in conda_ |\n",
    "\n",
    "\n",
    "\n",
    "- Always type `y` when asked for installation confirmation;\n",
    "\n",
    "\n",
    "- You can check that `yfinance` is now part of the packages available in your conda environment typing\n",
    "  ```\n",
    "  conda list \n",
    "  ```\n",
    "  which lists all the packages installed (see resulting screen from `conda list` command in [Figure 4](#conda_list_yfinance))\n",
    "\n",
    "| ![](../images/conda_list_yfinance.png) <a name=\"conda_list_yfinance\"></a>| \n",
    "|:--:| \n",
    "| _**Figure 4**: check that `yfinance` is installed, typing `conda list`_ |\n"
   ]
  },
  {
   "cell_type": "markdown",
   "metadata": {},
   "source": [
    "## 1.2. `yfinance` basic usage <a name=\"yfinance-basic-usage\"></a>"
   ]
  },
  {
   "cell_type": "markdown",
   "metadata": {},
   "source": [
    "To use yfinance library, we just import the corresponding `yfinance` Python module, giving it the `yf` alias."
   ]
  },
  {
   "cell_type": "code",
   "execution_count": 2,
   "metadata": {},
   "outputs": [],
   "source": [
    "import yfinance as yf"
   ]
  },
  {
   "cell_type": "markdown",
   "metadata": {},
   "source": [
    "For details on `yfinance` usage, see the [dedicated blog post](https://aroussi.com/post/python-yahoo-finance) from Ran Aroussi. Broadly speaking, `yfinance` allows you to:\n",
    "\n",
    "- get market and meta data for one (or more than one) security, using the `yf.Ticker()` module;\n",
    "- doing mass download of market data, using the `yf.download()` function."
   ]
  },
  {
   "cell_type": "markdown",
   "metadata": {},
   "source": [
    "Let's reuse the utility function to delete files"
   ]
  },
  {
   "cell_type": "code",
   "execution_count": 3,
   "metadata": {},
   "outputs": [],
   "source": [
    "def removeFile(fileName):\n",
    "    \"\"\"\n",
    "    removeFile(fileName) function remove file 'fileName', if it exists. It also prints on screen a success/failure message.\n",
    "    \n",
    "    Parameters:\n",
    "        fileName (str): name of the file ('Data' folder is assumed)\n",
    "        \n",
    "    Returns:\n",
    "        None\n",
    "    \"\"\"\n",
    "\n",
    "    if os.path.isfile(os.path.join(dataFolderPath, fileName)):\n",
    "        os.remove(os.path.join(dataFolderPath, fileName))\n",
    "\n",
    "        # double-check if file still exists\n",
    "        fileStillExists = os.path.isfile(os.path.join(dataFolderPath, fileName))\n",
    "\n",
    "        if fileStillExists:\n",
    "            print(\"Failure: file {} still exists...\".format(fileName))\n",
    "        else:\n",
    "            print(\"Success: file {} successfully removed!\".format(fileName))\n",
    "            \n",
    "    else:\n",
    "        print(\"File {} already removed.\".format(fileName))"
   ]
  },
  {
   "cell_type": "markdown",
   "metadata": {},
   "source": [
    "### 1.2.1. How to lookup for a Yahoo! Finance ticker of a security <a name=\"how-to-lookup-for-a-ticker-of-a-security\"></a>"
   ]
  },
  {
   "cell_type": "markdown",
   "metadata": {},
   "source": [
    "If you want to get market data and information for a security, you need to use the `yf.Ticker()` module, which takes in input the appropriate security symbol:\n",
    "\n",
    "```python\n",
    "yf.Ticker(SymbolString)\n",
    "```\n",
    "\n",
    "where `SymbolString` is the Python String representing the symbol ticker of the desired security (like 'AAPL', 'MSFT', etc.)."
   ]
  },
  {
   "cell_type": "markdown",
   "metadata": {},
   "source": [
    "Most symbols are well known from financial news (like 'AAPL' for Apple Inc. or 'MSFT' for Microsoft Corporation, etc.), but in case you know the public name of a company or security but don't remember the corresponding symbol, you can use the [Symbol Lookup from Yahoo Finance](https://finance.yahoo.com/lookup/). "
   ]
  },
  {
   "cell_type": "markdown",
   "metadata": {},
   "source": [
    "Suppose you want to look for the Fiat Chrysler Automobiles symbol. Start writing the public name of the company in the search bar and you get the back the information that the symbol is **'FCAU'**."
   ]
  },
  {
   "cell_type": "markdown",
   "metadata": {},
   "source": [
    "| ![](../images/yahoo_symbol_lookup.png) <a name=\"yahoo_symbol_lookup\"></a>| \n",
    "|:--:| \n",
    "| _**Figure 5**: Symbol Lookup from Yahoo Finance_ |"
   ]
  },
  {
   "cell_type": "markdown",
   "metadata": {},
   "source": [
    "### 1.2.2. How to get market and meta data for a security: `yf.Ticker()` module <a name=\"get-market-and-meta-data:-yf.ticker()-module\"></a>"
   ]
  },
  {
   "cell_type": "code",
   "execution_count": 4,
   "metadata": {},
   "outputs": [
    {
     "data": {
      "text/plain": [
       "yfinance.Ticker object <AAPL>"
      ]
     },
     "execution_count": 4,
     "metadata": {},
     "output_type": "execute_result"
    }
   ],
   "source": [
    "aapl = yf.Ticker(\"AAPL\")\n",
    "aapl"
   ]
  },
  {
   "cell_type": "code",
   "execution_count": 5,
   "metadata": {
    "collapsed": true
   },
   "outputs": [
    {
     "data": {
      "text/plain": [
       "{'zip': '95014',\n",
       " 'sector': 'Technology',\n",
       " 'fullTimeEmployees': 137000,\n",
       " 'longBusinessSummary': 'Apple Inc. designs, manufactures, and markets smartphones, personal computers, tablets, wearables, and accessories worldwide. It also sells various related services. The company offers iPhone, a line of smartphones; Mac, a line of personal computers; iPad, a line of multi-purpose tablets; and wearables, home, and accessories comprising AirPods, Apple TV, Apple Watch, Beats products, HomePod, iPod touch, and other Apple-branded and third-party accessories. It also provides digital content stores and streaming services; AppleCare support services; and iCloud, a cloud service, which stores music, photos, contacts, calendars, mail, documents, and others. In addition, the company offers various service, such as Apple Arcade, a game subscription service; Apple Card, a co-branded credit card; Apple News+, a subscription news and magazine service; and Apple Pay, a cashless payment service, as well as licenses its intellectual property, and provides other related services. The company serves consumers, and small and mid-sized businesses; and the education, enterprise, and government markets. It sells and delivers third-party applications for its products through the App Store, Mac App Store, and Watch App Store. The company also sells its products through its retail and online stores, and direct sales force; and third-party cellular network carriers, wholesalers, retailers, and resellers. Apple Inc. was founded in 1977 and is headquartered in Cupertino, California.',\n",
       " 'city': 'Cupertino',\n",
       " 'phone': '408-996-1010',\n",
       " 'state': 'CA',\n",
       " 'country': 'United States',\n",
       " 'companyOfficers': [],\n",
       " 'website': 'http://www.apple.com',\n",
       " 'maxAge': 1,\n",
       " 'address1': 'One Apple Park Way',\n",
       " 'industry': 'Consumer Electronics',\n",
       " 'previousClose': 259.43,\n",
       " 'regularMarketOpen': 262.74,\n",
       " 'twoHundredDayAverage': 272.18396,\n",
       " 'trailingAnnualDividendYield': 0.0117179975,\n",
       " 'payoutRatio': 0.2394,\n",
       " 'volume24Hr': None,\n",
       " 'regularMarketDayHigh': 263.88,\n",
       " 'navPrice': None,\n",
       " 'averageDailyVolume10Day': 43257066,\n",
       " 'totalAssets': None,\n",
       " 'regularMarketPreviousClose': 259.43,\n",
       " 'fiftyDayAverage': 270.4357,\n",
       " 'trailingAnnualDividendRate': 3.04,\n",
       " 'open': 262.74,\n",
       " 'toCurrency': None,\n",
       " 'averageVolume10days': 43257066,\n",
       " 'expireDate': None,\n",
       " 'yield': None,\n",
       " 'algorithm': None,\n",
       " 'dividendRate': 3.08,\n",
       " 'exDividendDate': 1581033600,\n",
       " 'beta': 1.173542,\n",
       " 'circulatingSupply': None,\n",
       " 'startDate': None,\n",
       " 'regularMarketDayLow': 261.81,\n",
       " 'priceHint': 2,\n",
       " 'currency': 'USD',\n",
       " 'trailingPE': 20.851131,\n",
       " 'regularMarketVolume': 3994915,\n",
       " 'lastMarket': None,\n",
       " 'maxSupply': None,\n",
       " 'openInterest': None,\n",
       " 'marketCap': 1149088432128,\n",
       " 'volumeAllCurrencies': None,\n",
       " 'strikePrice': None,\n",
       " 'averageVolume': 49993640,\n",
       " 'priceToSalesTrailing12Months': 4.292721,\n",
       " 'dayLow': 261.81,\n",
       " 'ask': 262.37,\n",
       " 'ytdReturn': None,\n",
       " 'askSize': 1100,\n",
       " 'volume': 3994915,\n",
       " 'fiftyTwoWeekHigh': 327.85,\n",
       " 'forwardPE': 17.369047,\n",
       " 'fromCurrency': None,\n",
       " 'fiveYearAvgDividendYield': 1.6,\n",
       " 'fiftyTwoWeekLow': 170.27,\n",
       " 'bid': 262.32,\n",
       " 'tradeable': True,\n",
       " 'dividendYield': 0.0119,\n",
       " 'bidSize': 1400,\n",
       " 'dayHigh': 263.88,\n",
       " 'exchange': 'NMS',\n",
       " 'shortName': 'Apple Inc.',\n",
       " 'longName': 'Apple Inc.',\n",
       " 'exchangeTimezoneName': 'America/New_York',\n",
       " 'exchangeTimezoneShortName': 'EDT',\n",
       " 'isEsgPopulated': False,\n",
       " 'gmtOffSetMilliseconds': '-14400000',\n",
       " 'quoteType': 'EQUITY',\n",
       " 'symbol': 'AAPL',\n",
       " 'messageBoardId': 'finmb_24937',\n",
       " 'market': 'us_market',\n",
       " 'annualHoldingsTurnover': None,\n",
       " 'enterpriseToRevenue': 4.276,\n",
       " 'beta3Year': None,\n",
       " 'profitMargins': 0.21490999,\n",
       " 'enterpriseToEbitda': 14.653,\n",
       " '52WeekChange': 0.3082943,\n",
       " 'morningStarRiskRating': None,\n",
       " 'forwardEps': 15.12,\n",
       " 'revenueQuarterlyGrowth': None,\n",
       " 'sharesOutstanding': 4375479808,\n",
       " 'fundInceptionDate': None,\n",
       " 'annualReportExpenseRatio': None,\n",
       " 'bookValue': 20.418,\n",
       " 'sharesShort': 38427917,\n",
       " 'sharesPercentSharesOut': 0.0088,\n",
       " 'fundFamily': None,\n",
       " 'lastFiscalYearEnd': 1569628800,\n",
       " 'heldPercentInstitutions': 0.61777,\n",
       " 'netIncomeToCommon': 57527001088,\n",
       " 'trailingEps': 12.595,\n",
       " 'lastDividendValue': None,\n",
       " 'SandP52WeekChange': -0.07774019,\n",
       " 'priceToBook': 12.862181,\n",
       " 'heldPercentInsiders': 0.00066,\n",
       " 'nextFiscalYearEnd': 1632787200,\n",
       " 'mostRecentQuarter': 1577491200,\n",
       " 'shortRatio': 0.65,\n",
       " 'sharesShortPreviousMonthDate': 1581638400,\n",
       " 'floatShares': 4370491953,\n",
       " 'enterpriseValue': 1144719802368,\n",
       " 'threeYearAverageReturn': None,\n",
       " 'lastSplitDate': 1402272000,\n",
       " 'lastSplitFactor': '7:1',\n",
       " 'legalType': None,\n",
       " 'morningStarOverallRating': None,\n",
       " 'earningsQuarterlyGrowth': 0.114,\n",
       " 'dateShortInterest': 1584057600,\n",
       " 'pegRatio': 1.71,\n",
       " 'lastCapGain': None,\n",
       " 'shortPercentOfFloat': 0.0088,\n",
       " 'sharesShortPriorMonth': 40890848,\n",
       " 'category': None,\n",
       " 'fiveYearAverageReturn': None,\n",
       " 'regularMarketPrice': 262.74,\n",
       " 'logo_url': 'https://logo.clearbit.com/apple.com'}"
      ]
     },
     "execution_count": 5,
     "metadata": {},
     "output_type": "execute_result"
    }
   ],
   "source": [
    "aapl_info = aapl.info\n",
    "aapl_info"
   ]
  },
  {
   "cell_type": "code",
   "execution_count": 6,
   "metadata": {},
   "outputs": [
    {
     "data": {
      "text/plain": [
       "'Apple Inc. designs, manufactures, and markets smartphones, personal computers, tablets, wearables, and accessories worldwide. It also sells various related services. The company offers iPhone, a line of smartphones; Mac, a line of personal computers; iPad, a line of multi-purpose tablets; and wearables, home, and accessories comprising AirPods, Apple TV, Apple Watch, Beats products, HomePod, iPod touch, and other Apple-branded and third-party accessories. It also provides digital content stores and streaming services; AppleCare support services; and iCloud, a cloud service, which stores music, photos, contacts, calendars, mail, documents, and others. In addition, the company offers various service, such as Apple Arcade, a game subscription service; Apple Card, a co-branded credit card; Apple News+, a subscription news and magazine service; and Apple Pay, a cashless payment service, as well as licenses its intellectual property, and provides other related services. The company serves consumers, and small and mid-sized businesses; and the education, enterprise, and government markets. It sells and delivers third-party applications for its products through the App Store, Mac App Store, and Watch App Store. The company also sells its products through its retail and online stores, and direct sales force; and third-party cellular network carriers, wholesalers, retailers, and resellers. Apple Inc. was founded in 1977 and is headquartered in Cupertino, California.'"
      ]
     },
     "execution_count": 6,
     "metadata": {},
     "output_type": "execute_result"
    }
   ],
   "source": [
    "aapl_info['longBusinessSummary']"
   ]
  },
  {
   "cell_type": "code",
   "execution_count": 7,
   "metadata": {},
   "outputs": [
    {
     "data": {
      "text/plain": [
       "259.43"
      ]
     },
     "execution_count": 7,
     "metadata": {},
     "output_type": "execute_result"
    }
   ],
   "source": [
    "aapl_info['regularMarketPreviousClose']"
   ]
  },
  {
   "cell_type": "code",
   "execution_count": 8,
   "metadata": {},
   "outputs": [
    {
     "name": "stdout",
     "output_type": "stream",
     "text": [
      "Wall time: 1.99 ms\n"
     ]
    }
   ],
   "source": [
    "import json\n",
    "\n",
    "dataFolderPath = \"../Data\"\n",
    "filePath = os.path.join(dataFolderPath, \"aapl_stock_info.json\")\n",
    "\n",
    "with open(filePath, 'w') as file:\n",
    "    %time json.dump(aapl_info, file, indent=\"\\t\")"
   ]
  },
  {
   "cell_type": "code",
   "execution_count": 9,
   "metadata": {},
   "outputs": [],
   "source": [
    "# removeFile(filePath)"
   ]
  },
  {
   "cell_type": "code",
   "execution_count": 10,
   "metadata": {},
   "outputs": [
    {
     "data": {
      "text/html": [
       "<div>\n",
       "<style scoped>\n",
       "    .dataframe tbody tr th:only-of-type {\n",
       "        vertical-align: middle;\n",
       "    }\n",
       "\n",
       "    .dataframe tbody tr th {\n",
       "        vertical-align: top;\n",
       "    }\n",
       "\n",
       "    .dataframe thead th {\n",
       "        text-align: right;\n",
       "    }\n",
       "</style>\n",
       "<table border=\"1\" class=\"dataframe\">\n",
       "  <thead>\n",
       "    <tr style=\"text-align: right;\">\n",
       "      <th></th>\n",
       "      <th>Dividends</th>\n",
       "      <th>Stock Splits</th>\n",
       "    </tr>\n",
       "    <tr>\n",
       "      <th>Date</th>\n",
       "      <th></th>\n",
       "      <th></th>\n",
       "    </tr>\n",
       "  </thead>\n",
       "  <tbody>\n",
       "    <tr>\n",
       "      <td>1987-05-11</td>\n",
       "      <td>0.00214</td>\n",
       "      <td>0.0</td>\n",
       "    </tr>\n",
       "    <tr>\n",
       "      <td>1987-06-16</td>\n",
       "      <td>0.00000</td>\n",
       "      <td>2.0</td>\n",
       "    </tr>\n",
       "    <tr>\n",
       "      <td>1987-08-10</td>\n",
       "      <td>0.00214</td>\n",
       "      <td>0.0</td>\n",
       "    </tr>\n",
       "    <tr>\n",
       "      <td>1987-11-17</td>\n",
       "      <td>0.00286</td>\n",
       "      <td>0.0</td>\n",
       "    </tr>\n",
       "    <tr>\n",
       "      <td>1988-02-12</td>\n",
       "      <td>0.00286</td>\n",
       "      <td>0.0</td>\n",
       "    </tr>\n",
       "    <tr>\n",
       "      <td>...</td>\n",
       "      <td>...</td>\n",
       "      <td>...</td>\n",
       "    </tr>\n",
       "    <tr>\n",
       "      <td>2019-02-08</td>\n",
       "      <td>0.73000</td>\n",
       "      <td>0.0</td>\n",
       "    </tr>\n",
       "    <tr>\n",
       "      <td>2019-05-10</td>\n",
       "      <td>0.77000</td>\n",
       "      <td>0.0</td>\n",
       "    </tr>\n",
       "    <tr>\n",
       "      <td>2019-08-09</td>\n",
       "      <td>0.77000</td>\n",
       "      <td>0.0</td>\n",
       "    </tr>\n",
       "    <tr>\n",
       "      <td>2019-11-07</td>\n",
       "      <td>0.77000</td>\n",
       "      <td>0.0</td>\n",
       "    </tr>\n",
       "    <tr>\n",
       "      <td>2020-02-07</td>\n",
       "      <td>0.77000</td>\n",
       "      <td>0.0</td>\n",
       "    </tr>\n",
       "  </tbody>\n",
       "</table>\n",
       "<p>70 rows × 2 columns</p>\n",
       "</div>"
      ],
      "text/plain": [
       "            Dividends  Stock Splits\n",
       "Date                               \n",
       "1987-05-11    0.00214           0.0\n",
       "1987-06-16    0.00000           2.0\n",
       "1987-08-10    0.00214           0.0\n",
       "1987-11-17    0.00286           0.0\n",
       "1988-02-12    0.00286           0.0\n",
       "...               ...           ...\n",
       "2019-02-08    0.73000           0.0\n",
       "2019-05-10    0.77000           0.0\n",
       "2019-08-09    0.77000           0.0\n",
       "2019-11-07    0.77000           0.0\n",
       "2020-02-07    0.77000           0.0\n",
       "\n",
       "[70 rows x 2 columns]"
      ]
     },
     "execution_count": 10,
     "metadata": {},
     "output_type": "execute_result"
    }
   ],
   "source": [
    "aapl.actions"
   ]
  },
  {
   "cell_type": "code",
   "execution_count": 11,
   "metadata": {},
   "outputs": [
    {
     "data": {
      "text/plain": [
       "<matplotlib.axes._subplots.AxesSubplot at 0x2854026e048>"
      ]
     },
     "execution_count": 11,
     "metadata": {},
     "output_type": "execute_result"
    },
    {
     "data": {
      "image/png": "[encoded data removed]",
      "text/plain": [
       "<Figure size 432x288 with 1 Axes>"
      ]
     },
     "metadata": {
      "needs_background": "light"
     },
     "output_type": "display_data"
    }
   ],
   "source": [
    "aapl.actions.plot()"
   ]
  },
  {
   "cell_type": "code",
   "execution_count": 12,
   "metadata": {},
   "outputs": [
    {
     "data": {
      "text/html": [
       "<div>\n",
       "<style scoped>\n",
       "    .dataframe tbody tr th:only-of-type {\n",
       "        vertical-align: middle;\n",
       "    }\n",
       "\n",
       "    .dataframe tbody tr th {\n",
       "        vertical-align: top;\n",
       "    }\n",
       "\n",
       "    .dataframe thead th {\n",
       "        text-align: right;\n",
       "    }\n",
       "</style>\n",
       "<table border=\"1\" class=\"dataframe\">\n",
       "  <thead>\n",
       "    <tr style=\"text-align: right;\">\n",
       "      <th></th>\n",
       "      <th>Open</th>\n",
       "      <th>High</th>\n",
       "      <th>Low</th>\n",
       "      <th>Close</th>\n",
       "      <th>Volume</th>\n",
       "      <th>Dividends</th>\n",
       "      <th>Stock Splits</th>\n",
       "    </tr>\n",
       "    <tr>\n",
       "      <th>Date</th>\n",
       "      <th></th>\n",
       "      <th></th>\n",
       "      <th></th>\n",
       "      <th></th>\n",
       "      <th></th>\n",
       "      <th></th>\n",
       "      <th></th>\n",
       "    </tr>\n",
       "  </thead>\n",
       "  <tbody>\n",
       "    <tr>\n",
       "      <td>1980-12-08</td>\n",
       "      <td>0.41</td>\n",
       "      <td>0.41</td>\n",
       "      <td>0.41</td>\n",
       "      <td>0.41</td>\n",
       "      <td>117258400.0</td>\n",
       "      <td>0.0</td>\n",
       "      <td>0.0</td>\n",
       "    </tr>\n",
       "    <tr>\n",
       "      <td>1980-12-15</td>\n",
       "      <td>0.39</td>\n",
       "      <td>0.40</td>\n",
       "      <td>0.36</td>\n",
       "      <td>0.40</td>\n",
       "      <td>122533600.0</td>\n",
       "      <td>0.0</td>\n",
       "      <td>0.0</td>\n",
       "    </tr>\n",
       "    <tr>\n",
       "      <td>1980-12-22</td>\n",
       "      <td>0.42</td>\n",
       "      <td>0.50</td>\n",
       "      <td>0.42</td>\n",
       "      <td>0.50</td>\n",
       "      <td>46972800.0</td>\n",
       "      <td>0.0</td>\n",
       "      <td>0.0</td>\n",
       "    </tr>\n",
       "    <tr>\n",
       "      <td>1980-12-29</td>\n",
       "      <td>0.51</td>\n",
       "      <td>0.51</td>\n",
       "      <td>0.48</td>\n",
       "      <td>0.49</td>\n",
       "      <td>54863200.0</td>\n",
       "      <td>0.0</td>\n",
       "      <td>0.0</td>\n",
       "    </tr>\n",
       "    <tr>\n",
       "      <td>1981-01-05</td>\n",
       "      <td>0.48</td>\n",
       "      <td>0.48</td>\n",
       "      <td>0.43</td>\n",
       "      <td>0.45</td>\n",
       "      <td>49476000.0</td>\n",
       "      <td>0.0</td>\n",
       "      <td>0.0</td>\n",
       "    </tr>\n",
       "    <tr>\n",
       "      <td>...</td>\n",
       "      <td>...</td>\n",
       "      <td>...</td>\n",
       "      <td>...</td>\n",
       "      <td>...</td>\n",
       "      <td>...</td>\n",
       "      <td>...</td>\n",
       "      <td>...</td>\n",
       "    </tr>\n",
       "    <tr>\n",
       "      <td>2020-03-16</td>\n",
       "      <td>241.95</td>\n",
       "      <td>259.08</td>\n",
       "      <td>228.00</td>\n",
       "      <td>229.24</td>\n",
       "      <td>405065900.0</td>\n",
       "      <td>0.0</td>\n",
       "      <td>0.0</td>\n",
       "    </tr>\n",
       "    <tr>\n",
       "      <td>2020-03-23</td>\n",
       "      <td>228.08</td>\n",
       "      <td>258.68</td>\n",
       "      <td>212.61</td>\n",
       "      <td>247.74</td>\n",
       "      <td>346047500.0</td>\n",
       "      <td>0.0</td>\n",
       "      <td>0.0</td>\n",
       "    </tr>\n",
       "    <tr>\n",
       "      <td>2020-03-30</td>\n",
       "      <td>250.74</td>\n",
       "      <td>262.49</td>\n",
       "      <td>236.90</td>\n",
       "      <td>241.41</td>\n",
       "      <td>209252700.0</td>\n",
       "      <td>0.0</td>\n",
       "      <td>0.0</td>\n",
       "    </tr>\n",
       "    <tr>\n",
       "      <td>2020-04-06</td>\n",
       "      <td>250.90</td>\n",
       "      <td>263.11</td>\n",
       "      <td>249.38</td>\n",
       "      <td>262.47</td>\n",
       "      <td>50289700.0</td>\n",
       "      <td>0.0</td>\n",
       "      <td>0.0</td>\n",
       "    </tr>\n",
       "    <tr>\n",
       "      <td>2020-04-08</td>\n",
       "      <td>262.74</td>\n",
       "      <td>263.88</td>\n",
       "      <td>261.81</td>\n",
       "      <td>262.41</td>\n",
       "      <td>4146185.0</td>\n",
       "      <td>0.0</td>\n",
       "      <td>0.0</td>\n",
       "    </tr>\n",
       "  </tbody>\n",
       "</table>\n",
       "<p>2124 rows × 7 columns</p>\n",
       "</div>"
      ],
      "text/plain": [
       "              Open    High     Low   Close       Volume  Dividends  \\\n",
       "Date                                                                 \n",
       "1980-12-08    0.41    0.41    0.41    0.41  117258400.0        0.0   \n",
       "1980-12-15    0.39    0.40    0.36    0.40  122533600.0        0.0   \n",
       "1980-12-22    0.42    0.50    0.42    0.50   46972800.0        0.0   \n",
       "1980-12-29    0.51    0.51    0.48    0.49   54863200.0        0.0   \n",
       "1981-01-05    0.48    0.48    0.43    0.45   49476000.0        0.0   \n",
       "...            ...     ...     ...     ...          ...        ...   \n",
       "2020-03-16  241.95  259.08  228.00  229.24  405065900.0        0.0   \n",
       "2020-03-23  228.08  258.68  212.61  247.74  346047500.0        0.0   \n",
       "2020-03-30  250.74  262.49  236.90  241.41  209252700.0        0.0   \n",
       "2020-04-06  250.90  263.11  249.38  262.47   50289700.0        0.0   \n",
       "2020-04-08  262.74  263.88  261.81  262.41    4146185.0        0.0   \n",
       "\n",
       "            Stock Splits  \n",
       "Date                      \n",
       "1980-12-08           0.0  \n",
       "1980-12-15           0.0  \n",
       "1980-12-22           0.0  \n",
       "1980-12-29           0.0  \n",
       "1981-01-05           0.0  \n",
       "...                  ...  \n",
       "2020-03-16           0.0  \n",
       "2020-03-23           0.0  \n",
       "2020-03-30           0.0  \n",
       "2020-04-06           0.0  \n",
       "2020-04-08           0.0  \n",
       "\n",
       "[2124 rows x 7 columns]"
      ]
     },
     "execution_count": 12,
     "metadata": {},
     "output_type": "execute_result"
    }
   ],
   "source": [
    "aapl_history = aapl.history(period=\"max\", interval=\"1wk\")\n",
    "aapl_history"
   ]
  },
  {
   "cell_type": "code",
   "execution_count": 13,
   "metadata": {},
   "outputs": [
    {
     "data": {
      "text/plain": [
       "<matplotlib.axes._subplots.AxesSubplot at 0x28540634d08>"
      ]
     },
     "execution_count": 13,
     "metadata": {},
     "output_type": "execute_result"
    },
    {
     "data": {
      "image/png": "[encoded data removed]",
      "text/plain": [
       "<Figure size 432x288 with 1 Axes>"
      ]
     },
     "metadata": {
      "needs_background": "light"
     },
     "output_type": "display_data"
    }
   ],
   "source": [
    "aapl_history[\"Close\"].plot()"
   ]
  },
  {
   "cell_type": "code",
   "execution_count": 14,
   "metadata": {},
   "outputs": [
    {
     "data": {
      "text/html": [
       "<div>\n",
       "<style scoped>\n",
       "    .dataframe tbody tr th:only-of-type {\n",
       "        vertical-align: middle;\n",
       "    }\n",
       "\n",
       "    .dataframe tbody tr th {\n",
       "        vertical-align: top;\n",
       "    }\n",
       "\n",
       "    .dataframe thead th {\n",
       "        text-align: right;\n",
       "    }\n",
       "</style>\n",
       "<table border=\"1\" class=\"dataframe\">\n",
       "  <thead>\n",
       "    <tr style=\"text-align: right;\">\n",
       "      <th></th>\n",
       "      <th>Open</th>\n",
       "      <th>High</th>\n",
       "      <th>Low</th>\n",
       "      <th>Close</th>\n",
       "      <th>Volume</th>\n",
       "      <th>Dividends</th>\n",
       "      <th>Stock Splits</th>\n",
       "    </tr>\n",
       "    <tr>\n",
       "      <th>Date</th>\n",
       "      <th></th>\n",
       "      <th></th>\n",
       "      <th></th>\n",
       "      <th></th>\n",
       "      <th></th>\n",
       "      <th></th>\n",
       "      <th></th>\n",
       "    </tr>\n",
       "  </thead>\n",
       "  <tbody>\n",
       "    <tr>\n",
       "      <td>2018-04-05</td>\n",
       "      <td>167.80</td>\n",
       "      <td>169.40</td>\n",
       "      <td>167.31</td>\n",
       "      <td>168.01</td>\n",
       "      <td>26933200</td>\n",
       "      <td>0.0</td>\n",
       "      <td>0</td>\n",
       "    </tr>\n",
       "    <tr>\n",
       "      <td>2018-04-06</td>\n",
       "      <td>166.23</td>\n",
       "      <td>167.70</td>\n",
       "      <td>163.54</td>\n",
       "      <td>163.71</td>\n",
       "      <td>35005300</td>\n",
       "      <td>0.0</td>\n",
       "      <td>0</td>\n",
       "    </tr>\n",
       "    <tr>\n",
       "      <td>2018-04-09</td>\n",
       "      <td>165.17</td>\n",
       "      <td>168.29</td>\n",
       "      <td>165.14</td>\n",
       "      <td>165.34</td>\n",
       "      <td>29017700</td>\n",
       "      <td>0.0</td>\n",
       "      <td>0</td>\n",
       "    </tr>\n",
       "    <tr>\n",
       "      <td>2018-04-10</td>\n",
       "      <td>168.20</td>\n",
       "      <td>169.18</td>\n",
       "      <td>166.77</td>\n",
       "      <td>168.45</td>\n",
       "      <td>28408600</td>\n",
       "      <td>0.0</td>\n",
       "      <td>0</td>\n",
       "    </tr>\n",
       "    <tr>\n",
       "      <td>2018-04-11</td>\n",
       "      <td>167.45</td>\n",
       "      <td>169.10</td>\n",
       "      <td>166.94</td>\n",
       "      <td>167.66</td>\n",
       "      <td>22431600</td>\n",
       "      <td>0.0</td>\n",
       "      <td>0</td>\n",
       "    </tr>\n",
       "    <tr>\n",
       "      <td>...</td>\n",
       "      <td>...</td>\n",
       "      <td>...</td>\n",
       "      <td>...</td>\n",
       "      <td>...</td>\n",
       "      <td>...</td>\n",
       "      <td>...</td>\n",
       "      <td>...</td>\n",
       "    </tr>\n",
       "    <tr>\n",
       "      <td>2020-03-30</td>\n",
       "      <td>250.74</td>\n",
       "      <td>255.52</td>\n",
       "      <td>249.40</td>\n",
       "      <td>254.81</td>\n",
       "      <td>41994100</td>\n",
       "      <td>0.0</td>\n",
       "      <td>0</td>\n",
       "    </tr>\n",
       "    <tr>\n",
       "      <td>2020-03-31</td>\n",
       "      <td>255.60</td>\n",
       "      <td>262.49</td>\n",
       "      <td>252.00</td>\n",
       "      <td>254.29</td>\n",
       "      <td>49250500</td>\n",
       "      <td>0.0</td>\n",
       "      <td>0</td>\n",
       "    </tr>\n",
       "    <tr>\n",
       "      <td>2020-04-01</td>\n",
       "      <td>246.50</td>\n",
       "      <td>248.72</td>\n",
       "      <td>239.13</td>\n",
       "      <td>240.91</td>\n",
       "      <td>44054600</td>\n",
       "      <td>0.0</td>\n",
       "      <td>0</td>\n",
       "    </tr>\n",
       "    <tr>\n",
       "      <td>2020-04-02</td>\n",
       "      <td>240.34</td>\n",
       "      <td>245.15</td>\n",
       "      <td>236.90</td>\n",
       "      <td>244.93</td>\n",
       "      <td>41483500</td>\n",
       "      <td>0.0</td>\n",
       "      <td>0</td>\n",
       "    </tr>\n",
       "    <tr>\n",
       "      <td>2020-04-03</td>\n",
       "      <td>242.80</td>\n",
       "      <td>245.70</td>\n",
       "      <td>238.97</td>\n",
       "      <td>241.41</td>\n",
       "      <td>32470000</td>\n",
       "      <td>0.0</td>\n",
       "      <td>0</td>\n",
       "    </tr>\n",
       "  </tbody>\n",
       "</table>\n",
       "<p>504 rows × 7 columns</p>\n",
       "</div>"
      ],
      "text/plain": [
       "              Open    High     Low   Close    Volume  Dividends  Stock Splits\n",
       "Date                                                                         \n",
       "2018-04-05  167.80  169.40  167.31  168.01  26933200        0.0             0\n",
       "2018-04-06  166.23  167.70  163.54  163.71  35005300        0.0             0\n",
       "2018-04-09  165.17  168.29  165.14  165.34  29017700        0.0             0\n",
       "2018-04-10  168.20  169.18  166.77  168.45  28408600        0.0             0\n",
       "2018-04-11  167.45  169.10  166.94  167.66  22431600        0.0             0\n",
       "...            ...     ...     ...     ...       ...        ...           ...\n",
       "2020-03-30  250.74  255.52  249.40  254.81  41994100        0.0             0\n",
       "2020-03-31  255.60  262.49  252.00  254.29  49250500        0.0             0\n",
       "2020-04-01  246.50  248.72  239.13  240.91  44054600        0.0             0\n",
       "2020-04-02  240.34  245.15  236.90  244.93  41483500        0.0             0\n",
       "2020-04-03  242.80  245.70  238.97  241.41  32470000        0.0             0\n",
       "\n",
       "[504 rows x 7 columns]"
      ]
     },
     "execution_count": 14,
     "metadata": {},
     "output_type": "execute_result"
    }
   ],
   "source": [
    "aapl_history_last_two_years = aapl.history(start=\"2018-04-06\", end=\"2020-04-06\")\n",
    "aapl_history_last_two_years"
   ]
  },
  {
   "cell_type": "code",
   "execution_count": 15,
   "metadata": {
    "scrolled": true
   },
   "outputs": [
    {
     "data": {
      "text/plain": [
       "<matplotlib.axes._subplots.AxesSubplot at 0x28540687b88>"
      ]
     },
     "execution_count": 15,
     "metadata": {},
     "output_type": "execute_result"
    },
    {
     "data": {
      "image/png": "[encoded data removed]",
      "text/plain": [
       "<Figure size 432x288 with 1 Axes>"
      ]
     },
     "metadata": {
      "needs_background": "light"
     },
     "output_type": "display_data"
    }
   ],
   "source": [
    "aapl_history_last_two_years[\"Close\"].plot()"
   ]
  },
  {
   "cell_type": "code",
   "execution_count": 16,
   "metadata": {
    "scrolled": true
   },
   "outputs": [
    {
     "data": {
      "text/plain": [
       "<matplotlib.axes._subplots.AxesSubplot at 0x28540727248>"
      ]
     },
     "execution_count": 16,
     "metadata": {},
     "output_type": "execute_result"
    },
    {
     "data": {
      "image/png": "[encoded data removed]",
      "text/plain": [
       "<Figure size 432x288 with 1 Axes>"
      ]
     },
     "metadata": {
      "needs_background": "light"
     },
     "output_type": "display_data"
    }
   ],
   "source": [
    "aapl_history_last_two_years.loc[\"2020-01-01\":, \"Close\"].plot()"
   ]
  },
  {
   "cell_type": "markdown",
   "metadata": {},
   "source": [
    "#### 1.2.2.1. multiple securities simultaneously: `yf.Tickers()` module <a name=\"multiple-securities-simultaneously:-yf.tickers()-module\"></a>"
   ]
  },
  {
   "cell_type": "code",
   "execution_count": 17,
   "metadata": {},
   "outputs": [
    {
     "data": {
      "text/plain": [
       "yfinance.Tickers object <AAPL,GOOG,FCAU>"
      ]
     },
     "execution_count": 17,
     "metadata": {},
     "output_type": "execute_result"
    }
   ],
   "source": [
    "securities = yf.Tickers('AAPL GOOG FCAU')\n",
    "securities"
   ]
  },
  {
   "cell_type": "code",
   "execution_count": 18,
   "metadata": {},
   "outputs": [
    {
     "data": {
      "text/plain": [
       "Tickers(AAPL=yfinance.Ticker object <AAPL>, GOOG=yfinance.Ticker object <GOOG>, FCAU=yfinance.Ticker object <FCAU>)"
      ]
     },
     "execution_count": 18,
     "metadata": {},
     "output_type": "execute_result"
    }
   ],
   "source": [
    "securities.tickers"
   ]
  },
  {
   "cell_type": "code",
   "execution_count": 19,
   "metadata": {},
   "outputs": [],
   "source": [
    "aapl = securities.tickers.AAPL\n",
    "goog = securities.tickers.GOOG\n",
    "fcau = securities.tickers.FCAU"
   ]
  },
  {
   "cell_type": "code",
   "execution_count": 20,
   "metadata": {
    "collapsed": true
   },
   "outputs": [
    {
     "data": {
      "text/plain": [
       "{'previousClose': 7.62,\n",
       " 'regularMarketOpen': 7.85,\n",
       " 'twoHundredDayAverage': 12.983162,\n",
       " 'trailingAnnualDividendYield': None,\n",
       " 'payoutRatio': None,\n",
       " 'volume24Hr': None,\n",
       " 'regularMarketDayHigh': 7.75,\n",
       " 'navPrice': None,\n",
       " 'averageDailyVolume10Day': 3001433,\n",
       " 'totalAssets': None,\n",
       " 'regularMarketPreviousClose': 7.62,\n",
       " 'fiftyDayAverage': 9.670286,\n",
       " 'trailingAnnualDividendRate': None,\n",
       " 'open': 7.85,\n",
       " 'toCurrency': None,\n",
       " 'averageVolume10days': 3001433,\n",
       " 'expireDate': None,\n",
       " 'yield': None,\n",
       " 'algorithm': None,\n",
       " 'dividendRate': None,\n",
       " 'exDividendDate': None,\n",
       " 'beta': None,\n",
       " 'circulatingSupply': None,\n",
       " 'startDate': None,\n",
       " 'regularMarketDayLow': 7.68,\n",
       " 'priceHint': 2,\n",
       " 'currency': 'USD',\n",
       " 'trailingPE': 3.3117723,\n",
       " 'regularMarketVolume': 198743,\n",
       " 'lastMarket': None,\n",
       " 'maxSupply': None,\n",
       " 'openInterest': None,\n",
       " 'marketCap': 15497088000,\n",
       " 'volumeAllCurrencies': None,\n",
       " 'strikePrice': None,\n",
       " 'averageVolume': 4411708,\n",
       " 'priceToSalesTrailing12Months': None,\n",
       " 'dayLow': 7.68,\n",
       " 'ask': 7.71,\n",
       " 'ytdReturn': None,\n",
       " 'askSize': 900,\n",
       " 'volume': 198743,\n",
       " 'fiftyTwoWeekHigh': 16.69,\n",
       " 'forwardPE': 3.213389,\n",
       " 'maxAge': 1,\n",
       " 'fromCurrency': None,\n",
       " 'fiveYearAvgDividendYield': None,\n",
       " 'fiftyTwoWeekLow': 6,\n",
       " 'bid': 7.7,\n",
       " 'tradeable': True,\n",
       " 'dividendYield': None,\n",
       " 'bidSize': 1300,\n",
       " 'dayHigh': 7.75,\n",
       " 'exchange': 'NYQ',\n",
       " 'shortName': 'Fiat Chrysler Automobiles N.V.',\n",
       " 'longName': 'Fiat Chrysler Automobiles N.V.',\n",
       " 'exchangeTimezoneName': 'America/New_York',\n",
       " 'exchangeTimezoneShortName': 'EDT',\n",
       " 'isEsgPopulated': False,\n",
       " 'gmtOffSetMilliseconds': '-14400000',\n",
       " 'quoteType': 'EQUITY',\n",
       " 'symbol': 'FCAU',\n",
       " 'messageBoardId': 'finmb_320105',\n",
       " 'market': 'us_market',\n",
       " 'regularMarketPrice': 7.85,\n",
       " 'logo_url': ''}"
      ]
     },
     "execution_count": 20,
     "metadata": {},
     "output_type": "execute_result"
    }
   ],
   "source": [
    "fcau_info = fcau.info\n",
    "fcau_info"
   ]
  },
  {
   "cell_type": "code",
   "execution_count": 21,
   "metadata": {},
   "outputs": [
    {
     "data": {
      "text/plain": [
       "'Fiat Chrysler Automobiles N.V.'"
      ]
     },
     "execution_count": 21,
     "metadata": {},
     "output_type": "execute_result"
    }
   ],
   "source": [
    "fcau_info['longName']"
   ]
  },
  {
   "cell_type": "code",
   "execution_count": 22,
   "metadata": {},
   "outputs": [],
   "source": [
    "aapl_info = aapl.info\n",
    "goog_info = goog.info"
   ]
  },
  {
   "cell_type": "code",
   "execution_count": 23,
   "metadata": {},
   "outputs": [
    {
     "name": "stdout",
     "output_type": "stream",
     "text": [
      "Wall time: 4.99 ms\n"
     ]
    }
   ],
   "source": [
    "info_dict = {'AAPL': aapl_info,\n",
    "             'GOOG': goog_info, \n",
    "             'FCAU': fcau_info}\n",
    "\n",
    "filePath = os.path.join(dataFolderPath, \"aapl_goog_fcau_stocks_info.json\")\n",
    "\n",
    "with open(filePath, 'w') as file:\n",
    "    %time json.dump(info_dict, file, indent=\"\\t\")"
   ]
  },
  {
   "cell_type": "code",
   "execution_count": 24,
   "metadata": {},
   "outputs": [],
   "source": [
    "# removeFile(filePath)"
   ]
  },
  {
   "cell_type": "code",
   "execution_count": 25,
   "metadata": {},
   "outputs": [
    {
     "data": {
      "text/html": [
       "<div>\n",
       "<style scoped>\n",
       "    .dataframe tbody tr th:only-of-type {\n",
       "        vertical-align: middle;\n",
       "    }\n",
       "\n",
       "    .dataframe tbody tr th {\n",
       "        vertical-align: top;\n",
       "    }\n",
       "\n",
       "    .dataframe thead th {\n",
       "        text-align: right;\n",
       "    }\n",
       "</style>\n",
       "<table border=\"1\" class=\"dataframe\">\n",
       "  <thead>\n",
       "    <tr style=\"text-align: right;\">\n",
       "      <th></th>\n",
       "      <th>Open</th>\n",
       "      <th>High</th>\n",
       "      <th>Low</th>\n",
       "      <th>Close</th>\n",
       "      <th>Volume</th>\n",
       "      <th>Dividends</th>\n",
       "      <th>Stock Splits</th>\n",
       "    </tr>\n",
       "    <tr>\n",
       "      <th>Date</th>\n",
       "      <th></th>\n",
       "      <th></th>\n",
       "      <th></th>\n",
       "      <th></th>\n",
       "      <th></th>\n",
       "      <th></th>\n",
       "      <th></th>\n",
       "    </tr>\n",
       "  </thead>\n",
       "  <tbody>\n",
       "    <tr>\n",
       "      <td>2018-04-05</td>\n",
       "      <td>19.71</td>\n",
       "      <td>19.89</td>\n",
       "      <td>19.53</td>\n",
       "      <td>19.69</td>\n",
       "      <td>5012800</td>\n",
       "      <td>0.0</td>\n",
       "      <td>0</td>\n",
       "    </tr>\n",
       "    <tr>\n",
       "      <td>2018-04-06</td>\n",
       "      <td>19.64</td>\n",
       "      <td>19.83</td>\n",
       "      <td>19.21</td>\n",
       "      <td>19.45</td>\n",
       "      <td>3850400</td>\n",
       "      <td>0.0</td>\n",
       "      <td>0</td>\n",
       "    </tr>\n",
       "    <tr>\n",
       "      <td>2018-04-09</td>\n",
       "      <td>19.78</td>\n",
       "      <td>20.02</td>\n",
       "      <td>19.66</td>\n",
       "      <td>19.71</td>\n",
       "      <td>3361000</td>\n",
       "      <td>0.0</td>\n",
       "      <td>0</td>\n",
       "    </tr>\n",
       "    <tr>\n",
       "      <td>2018-04-10</td>\n",
       "      <td>20.21</td>\n",
       "      <td>20.29</td>\n",
       "      <td>20.06</td>\n",
       "      <td>20.12</td>\n",
       "      <td>5746000</td>\n",
       "      <td>0.0</td>\n",
       "      <td>0</td>\n",
       "    </tr>\n",
       "    <tr>\n",
       "      <td>2018-04-11</td>\n",
       "      <td>20.03</td>\n",
       "      <td>20.27</td>\n",
       "      <td>19.90</td>\n",
       "      <td>19.93</td>\n",
       "      <td>3091000</td>\n",
       "      <td>0.0</td>\n",
       "      <td>0</td>\n",
       "    </tr>\n",
       "    <tr>\n",
       "      <td>...</td>\n",
       "      <td>...</td>\n",
       "      <td>...</td>\n",
       "      <td>...</td>\n",
       "      <td>...</td>\n",
       "      <td>...</td>\n",
       "      <td>...</td>\n",
       "      <td>...</td>\n",
       "    </tr>\n",
       "    <tr>\n",
       "      <td>2020-03-30</td>\n",
       "      <td>7.00</td>\n",
       "      <td>7.10</td>\n",
       "      <td>6.88</td>\n",
       "      <td>6.97</td>\n",
       "      <td>3731100</td>\n",
       "      <td>0.0</td>\n",
       "      <td>0</td>\n",
       "    </tr>\n",
       "    <tr>\n",
       "      <td>2020-03-31</td>\n",
       "      <td>6.99</td>\n",
       "      <td>7.26</td>\n",
       "      <td>6.98</td>\n",
       "      <td>7.19</td>\n",
       "      <td>3423700</td>\n",
       "      <td>0.0</td>\n",
       "      <td>0</td>\n",
       "    </tr>\n",
       "    <tr>\n",
       "      <td>2020-04-01</td>\n",
       "      <td>6.94</td>\n",
       "      <td>7.04</td>\n",
       "      <td>6.78</td>\n",
       "      <td>6.82</td>\n",
       "      <td>2440500</td>\n",
       "      <td>0.0</td>\n",
       "      <td>0</td>\n",
       "    </tr>\n",
       "    <tr>\n",
       "      <td>2020-04-02</td>\n",
       "      <td>6.72</td>\n",
       "      <td>6.86</td>\n",
       "      <td>6.67</td>\n",
       "      <td>6.81</td>\n",
       "      <td>2838900</td>\n",
       "      <td>0.0</td>\n",
       "      <td>0</td>\n",
       "    </tr>\n",
       "    <tr>\n",
       "      <td>2020-04-03</td>\n",
       "      <td>6.91</td>\n",
       "      <td>6.91</td>\n",
       "      <td>6.65</td>\n",
       "      <td>6.71</td>\n",
       "      <td>1910500</td>\n",
       "      <td>0.0</td>\n",
       "      <td>0</td>\n",
       "    </tr>\n",
       "  </tbody>\n",
       "</table>\n",
       "<p>504 rows × 7 columns</p>\n",
       "</div>"
      ],
      "text/plain": [
       "             Open   High    Low  Close   Volume  Dividends  Stock Splits\n",
       "Date                                                                    \n",
       "2018-04-05  19.71  19.89  19.53  19.69  5012800        0.0             0\n",
       "2018-04-06  19.64  19.83  19.21  19.45  3850400        0.0             0\n",
       "2018-04-09  19.78  20.02  19.66  19.71  3361000        0.0             0\n",
       "2018-04-10  20.21  20.29  20.06  20.12  5746000        0.0             0\n",
       "2018-04-11  20.03  20.27  19.90  19.93  3091000        0.0             0\n",
       "...           ...    ...    ...    ...      ...        ...           ...\n",
       "2020-03-30   7.00   7.10   6.88   6.97  3731100        0.0             0\n",
       "2020-03-31   6.99   7.26   6.98   7.19  3423700        0.0             0\n",
       "2020-04-01   6.94   7.04   6.78   6.82  2440500        0.0             0\n",
       "2020-04-02   6.72   6.86   6.67   6.81  2838900        0.0             0\n",
       "2020-04-03   6.91   6.91   6.65   6.71  1910500        0.0             0\n",
       "\n",
       "[504 rows x 7 columns]"
      ]
     },
     "execution_count": 25,
     "metadata": {},
     "output_type": "execute_result"
    }
   ],
   "source": [
    "fcau_history_last_two_years = fcau.history(start=\"2018-04-06\", end=\"2020-04-06\")\n",
    "fcau_history_last_two_years"
   ]
  },
  {
   "cell_type": "code",
   "execution_count": 26,
   "metadata": {
    "scrolled": true
   },
   "outputs": [
    {
     "data": {
      "text/plain": [
       "<matplotlib.axes._subplots.AxesSubplot at 0x285407bd7c8>"
      ]
     },
     "execution_count": 26,
     "metadata": {},
     "output_type": "execute_result"
    },
    {
     "data": {
      "image/png": "[encoded data removed]",
      "text/plain": [
       "<Figure size 432x288 with 1 Axes>"
      ]
     },
     "metadata": {
      "needs_background": "light"
     },
     "output_type": "display_data"
    }
   ],
   "source": [
    "fcau_history_last_two_years[\"Close\"].plot()"
   ]
  },
  {
   "cell_type": "code",
   "execution_count": 27,
   "metadata": {
    "scrolled": true
   },
   "outputs": [
    {
     "data": {
      "text/plain": [
       "<matplotlib.axes._subplots.AxesSubplot at 0x285408141c8>"
      ]
     },
     "execution_count": 27,
     "metadata": {},
     "output_type": "execute_result"
    },
    {
     "data": {
      "image/png": "[encoded data removed]",
      "text/plain": [
       "<Figure size 432x288 with 1 Axes>"
      ]
     },
     "metadata": {
      "needs_background": "light"
     },
     "output_type": "display_data"
    }
   ],
   "source": [
    "fcau_history_last_two_years.loc[\"2020-01-01\":, \"Close\"].plot()"
   ]
  },
  {
   "cell_type": "markdown",
   "metadata": {},
   "source": [
    "### 1.2.3. mass download of market data: `yf.download()` function <a name=\"get-market-and-meta-data:-yf.download()-function\"></a>"
   ]
  },
  {
   "cell_type": "code",
   "execution_count": null,
   "metadata": {},
   "outputs": [],
   "source": [
    "securityTickerDict = {\n",
    "    'AAPL':     \"Apple Inc. Stock\",\n",
    "    'GOOG':     \"Alphabet Inc. Stock\",\n",
    "    'FB':       \"Facebook, Inc. Stock\",\n",
    "    'MSFT':     \"Microsoft Corporation Stock\",\n",
    "    'INTC':     \"Intel Corporation Stock\",\n",
    "    'AMZN':     \"Amazon.com, Inc. Stock\",\n",
    "    'BABA':     \"Alibaba Group Holding Limited Stock\",\n",
    "    'NFLX':     \"Netflix, Inc. Stock\",\n",
    "    'DIS':      \"The Walt Disney Company Stock\",\n",
    "    'GS':       \"The Goldman Sachs Group, Inc. Stock\",\n",
    "    'DB':       \"Deutsche Bank Aktiengesellschaft Stock\",\n",
    "    '^GSPC':    \"S&P 500 Index\",\n",
    "    '^VIX':     \"CBOE Volatility Index\",\n",
    "    'EURUSD=X': \"EUR/USD Exchange Rate\",\n",
    "    'EURCHF=X': \"EUR/CHF Exchange Rate\",\n",
    "    'EURGBP=X': \"EUR/GBP Exchange Rate\",\n",
    "    'XAUUSD=X': \"GOLD 1 OZ Commodity\",\n",
    "    'FCAU':     \"Fiat Chrysler Automobiles N.V.\",\n",
    "    'E':        \"Eni S.p.A. Stock\",\n",
    "    'ENIA':     \"Enel Americas S.A. Stock\"\n",
    "}"
   ]
  },
  {
   "cell_type": "code",
   "execution_count": null,
   "metadata": {},
   "outputs": [],
   "source": [
    "ticker_list = ['^GSPC', '^VIX', ]"
   ]
  },
  {
   "cell_type": "markdown",
   "metadata": {},
   "source": [
    "## PANDAS + Yahoo Finance"
   ]
  },
  {
   "cell_type": "code",
   "execution_count": null,
   "metadata": {},
   "outputs": [],
   "source": [
    "# for Yahoo Finance API\n",
    "import yfinance as yf"
   ]
  },
  {
   "cell_type": "code",
   "execution_count": null,
   "metadata": {},
   "outputs": [],
   "source": [
    "data = yf.download(\"^GSPC\", period=\"max\")"
   ]
  },
  {
   "cell_type": "code",
   "execution_count": null,
   "metadata": {},
   "outputs": [],
   "source": [
    "data.info()"
   ]
  },
  {
   "cell_type": "code",
   "execution_count": null,
   "metadata": {},
   "outputs": [],
   "source": [
    "data.loc['2010-01-01':, 'High'].plot()"
   ]
  },
  {
   "cell_type": "code",
   "execution_count": null,
   "metadata": {},
   "outputs": [],
   "source": [
    "data.head()"
   ]
  },
  {
   "cell_type": "code",
   "execution_count": null,
   "metadata": {},
   "outputs": [],
   "source": [
    "data.index"
   ]
  },
  {
   "cell_type": "code",
   "execution_count": null,
   "metadata": {},
   "outputs": [],
   "source": [
    "spx = yf.Ticker(\"^GSPC\")\n",
    "spx_hist = spx.history(period=\"max\")"
   ]
  },
  {
   "cell_type": "code",
   "execution_count": null,
   "metadata": {},
   "outputs": [],
   "source": [
    "spx_hist.tail()"
   ]
  },
  {
   "cell_type": "code",
   "execution_count": null,
   "metadata": {},
   "outputs": [],
   "source": [
    "data2 = yf.download(\"SPY AAPL\", start=\"2017-01-01\", end=\"2017-04-30\", group_by = 'ticker')"
   ]
  },
  {
   "cell_type": "code",
   "execution_count": null,
   "metadata": {},
   "outputs": [],
   "source": [
    "data2.head()"
   ]
  },
  {
   "cell_type": "code",
   "execution_count": null,
   "metadata": {},
   "outputs": [],
   "source": [
    "data2['SPY']"
   ]
  },
  {
   "cell_type": "code",
   "execution_count": null,
   "metadata": {},
   "outputs": [],
   "source": []
  }
 ],
 "metadata": {
  "kernelspec": {
   "display_name": "Python 3",
   "language": "python",
   "name": "python3"
  },
  "language_info": {
   "codemirror_mode": {
    "name": "ipython",
    "version": 3
   },
   "file_extension": ".py",
   "mimetype": "text/x-python",
   "name": "python",
   "nbconvert_exporter": "python",
   "pygments_lexer": "ipython3",
   "version": "3.7.4"
  }
 },
 "nbformat": 4,
 "nbformat_minor": 2
}
