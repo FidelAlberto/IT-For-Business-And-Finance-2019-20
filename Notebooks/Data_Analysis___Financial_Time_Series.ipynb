{
 "cells": [
  {
   "cell_type": "markdown",
   "metadata": {},
   "source": [
    "# Data Analysis - Financial Time Series"
   ]
  },
  {
   "cell_type": "markdown",
   "metadata": {},
   "source": [
    "**Author**: [Gabriele Pompa](https://www.linkedin.com/in/gabrielepompa/): gabriele.pompa@unisi.com"
   ]
  },
  {
   "cell_type": "markdown",
   "metadata": {},
   "source": [
    "# Table of contents\n",
    "\n",
    "[Executive Summary](#executive-summary)\n",
    "\n",
    "1. [Introduction to yfinance library](#introduction-to-yfinance-library)\\\n",
    "    1.1. [Installing yfinance](#installing-yfinance)\\\n",
    "    1.2. [`yfinance` module basic usage](#yfinance-module-basic-usage)\\\n",
    "&nbsp; &nbsp; &nbsp; &nbsp; 1.2.1. [How to lookup for a Yahoo! Finance ticker of a security](#how-to-lookup-for-a-ticker-of-a-security)\\\n",
    "&nbsp; &nbsp; &nbsp; &nbsp; 1.2.2. [How to get market and meta data for a security: `yf.Ticker()` module](#get-market-and-meta-data:-yf.ticker()-module)\\\n",
    "&nbsp; &nbsp; &nbsp; &nbsp; &nbsp; &nbsp; &nbsp; &nbsp; 1.2.2.1. [Multiple securities simultaneously: `yf.Tickers()` module](#multiple-securities-simultaneously:-yf.tickers()-module)\\\n",
    "&nbsp; &nbsp; &nbsp; &nbsp; 1.2.3. [Mass download of market data: `yf.download()` function](#get-market-and-meta-data:-yf.download()-function)\\\n",
    "2. [Data Analysis](#data-analysis)\\\n",
    "    2.1. [_Focus on:_ buy-and-hold Portfolio of Stocks](#focus-on:-buy-and-hold-portfolio-of-stocks)\\\n",
    "    2.2. [Summary Statistics](#summary-statistics)\\\n",
    "    2.3. [Returns](#returns)\\\n",
    "&nbsp; &nbsp; &nbsp; &nbsp; 2.3.1. [Simple Returns: `.pct_change()` method](#simple-returns:-.pct_change()-method)\\\n",
    "&nbsp; &nbsp; &nbsp; &nbsp; 2.3.2. [_Focus on:_ Simple Returns of Equally Weighted Portfolio](#focus-on:-simple-returns-of-equally-weighted-portfolio)\\\n",
    "&nbsp; &nbsp; &nbsp; &nbsp; 2.3.3. [Log-Returns: `.shift()` method](#log-returns:-.shift()-method)\\\n",
    "    2.4. [Resampling: `.resample()` method](#resampling:-.resample()-method)\\\n",
    "&nbsp; &nbsp; &nbsp; &nbsp; 2.4.1. [Resampling Prices](#resampling-prices)\\\n",
    "&nbsp; &nbsp; &nbsp; &nbsp; 2.4.2. [Resampling log-Returns](#resampling-log-returns)\\\n",
    "&nbsp; &nbsp; &nbsp; &nbsp; 2.4.3. [_Focus on:_ graphical tests of S&P500 Returns Normality](#focus-on:-graphical-tests-of-s&p500-normality-of-returns)\\\n",
    "    2.5. [Rolling Statistics: `.rolling()` method](#rolling-statistics:-.rolling()-method)\\\n",
    "&nbsp; &nbsp; &nbsp; &nbsp; 2.5.1. [Rolling Correlation Matrix](#rolling-correlation-matrix)\\\n",
    "    2.6. [_Focus on:_ S&P500 - VIX correlation analysis](#focus-on:-s&p500-vix-correlation-analysis)\\\n",
    "&nbsp; &nbsp; &nbsp; &nbsp; 2.6.1. [Regression Analysis: $VIX = \\alpha + \\beta SPX$](#regression-analysis)\\\n",
    "&nbsp; &nbsp; &nbsp; &nbsp; 2.6.2. [Correlation Analysis](#correlation-analysis)"
   ]
  },
  {
   "cell_type": "markdown",
   "metadata": {},
   "source": [
    "### **Resources**: \n",
    "\n",
    "**TODO**"
   ]
  },
  {
   "cell_type": "markdown",
   "metadata": {},
   "source": [
    "# Executive Summary <a name=\"executive-summary\"></a>"
   ]
  },
  {
   "cell_type": "markdown",
   "metadata": {},
   "source": [
    "**TODO**"
   ]
  },
  {
   "cell_type": "markdown",
   "metadata": {},
   "source": [
    "These are the basic imports that we need to work with NumPy, Pandas and to plot data using Matplotlib functionalities"
   ]
  },
  {
   "cell_type": "code",
   "execution_count": null,
   "metadata": {},
   "outputs": [],
   "source": [
    "# for NumPy arrays\n",
    "import numpy as np\n",
    "\n",
    "# for Pandas Series and DataFrame\n",
    "import pandas as pd\n",
    "\n",
    "# for Matplotlib plotting\n",
    "import matplotlib.pyplot as plt\n",
    "\n",
    "# to do inline plots in the Notebook\n",
    "%matplotlib inline\n",
    "\n",
    "# for Operating System operations\n",
    "import os"
   ]
  },
  {
   "cell_type": "markdown",
   "metadata": {},
   "source": [
    "# 1. Introduction <a name=\"introduction-to-yfinance-library\"></a>"
   ]
  },
  {
   "cell_type": "markdown",
   "metadata": {},
   "source": [
    "When you need to process data using a programming language, either you have your data stored in a file or database (as we have seen in the previous lesson) or you need to get your data from a Data Provider, such as Bloomberg, Reuters, etc."
   ]
  },
  {
   "cell_type": "markdown",
   "metadata": {},
   "source": [
    "Typically, data providers store secured their data in remote servers and expose interfaces to the public: these are called [Application Programming Interfaces](https://en.wikipedia.org/wiki/Application_programming_interface) (APIs). For what concern us, an API is a particular piece of code that allows you to get data from a data provider."
   ]
  },
  {
   "cell_type": "markdown",
   "metadata": {},
   "source": [
    "There are plenty of APIs which manage the interface between Python code and financial data, like [Reuters Eikon Data API](https://developers.refinitiv.com/eikon-apis/eikon-data-api). Being a business in itself, most of APIs to retrieve financial data are not for free."
   ]
  },
  {
   "cell_type": "markdown",
   "metadata": {},
   "source": [
    "Luckily for us, and thanks to people like [Ran Aroussi](https://aroussi.com/), we have a Python API, called [yfinance](https://github.com/ranaroussi/yfinance), which is 100% free:\n",
    "\n",
    "- Github page for yfinance library: [https://github.com/ranaroussi/yfinance](https://github.com/ranaroussi/yfinance);\n",
    "- Blog post form Ran Aroussi with a yfinance tutorial: [https://aroussi.com/post/python-yahoo-finance](https://aroussi.com/post/python-yahoo-finance).\n",
    "\n",
    "In a nutshell, yfinance - named after the now decommissioned _Yahoo! Finance_ API - is a reliable Python API to retrieve market data."
   ]
  },
  {
   "cell_type": "markdown",
   "metadata": {},
   "source": [
    "The yfinance API comes under the form of a Python module: `yfinance`. We shall see now how to include it in our Conda installation. "
   ]
  },
  {
   "cell_type": "markdown",
   "metadata": {},
   "source": [
    "## 1.1. Installing yfinance <a name=\"installing-yfinance\"></a>"
   ]
  },
  {
   "cell_type": "markdown",
   "metadata": {},
   "source": [
    "All you need to do to install yfinance library is to:\n",
    "\n",
    "- (If not done already) In your Anaconda Navigator switch to the class conda environment `ITForBusAndFin2020_env`  (see [Figure 1](#anaconda_nav_and_env)). For Mac users: in case you are working under `base (root)` environment, it's ok, you can stay there.\n",
    "\n",
    "| ![](../images/anaconda_nav_and_env.PNG) <a name=\"anaconda_nav_and_env\"></a>| \n",
    "|:--:| \n",
    "| _**Figure 1**: in Anaconda Navigator, switch to the class conda environment_ |\n",
    "\n",
    "- (iIf not done already) Open your terminal window (the usual black command line window) using the _CMD.exe Prompt_ app or the _console_shortcut_ app in the Anaconda Navigator (both apps are fine and you have displayed one or the other depending on whether you have already updated the Anaconda Navigator or not yet, see [Figure 2](#open_terminal)).\n",
    "\n",
    "| ![](../images/CMD_exe.PNG) | \n",
    "|:--:| \n",
    "| ![](../images/console_shortcut.PNG) | \n",
    "| _**Figure 2**: Open a Terminal window using the  CMD.exe Prompt app or console_shorcut app in Anaconda Navigator_ <a name=\"open_terminal\"></a>|\n",
    "\n",
    "- (If not done already) In the terminal window, change directory to your local class folder typing `cd` followed by the complete path to the class folder, like `C:\\Users\\gabri\\Projects\\IT_For_Business_And_Finance_2019_20` on my local machine (see [Figure 3](#yfinance_png) below) \n",
    "\n",
    "\n",
    "- In the terminal window type the command to install `yfinance` (see [Figure 3](#yfinance_png)):\n",
    "  ```\n",
    "  pip install yfinance --upgrade --no-cache-dir\n",
    "  ```\n",
    "  \n",
    "| ![](../images/yfinance.png) <a name=\"yfinance_png\"></a>| \n",
    "|:--:| \n",
    "| _**Figure 3**: change directory to the class folder and install `yfinance` package in conda_ |\n",
    "\n",
    "\n",
    "\n",
    "- Always type `y` when asked for installation confirmation;\n",
    "\n",
    "\n",
    "- You can check that `yfinance` is now part of the packages available in your conda environment typing\n",
    "  ```\n",
    "  conda list \n",
    "  ```\n",
    "  which lists all the packages installed (see resulting screen from `conda list` command in [Figure 4](#conda_list_yfinance))\n",
    "\n",
    "| ![](../images/conda_list_yfinance.png) <a name=\"conda_list_yfinance\"></a>| \n",
    "|:--:| \n",
    "| _**Figure 4**: check that `yfinance` is installed, typing `conda list`_ |\n"
   ]
  },
  {
   "cell_type": "markdown",
   "metadata": {},
   "source": [
    "## 1.2. `yfinance` module basic usage <a name=\"yfinance-module-basic-usage\"></a>"
   ]
  },
  {
   "cell_type": "markdown",
   "metadata": {},
   "source": [
    "To use yfinance library, we just import the corresponding `yfinance` Python module, giving it the `yf` alias."
   ]
  },
  {
   "cell_type": "code",
   "execution_count": null,
   "metadata": {},
   "outputs": [],
   "source": [
    "import yfinance as yf"
   ]
  },
  {
   "cell_type": "markdown",
   "metadata": {},
   "source": [
    "For details on `yfinance` usage, see the [dedicated blog post](https://aroussi.com/post/python-yahoo-finance) from Ran Aroussi. Broadly speaking, `yfinance` allows you to:\n",
    "\n",
    "- get market and meta data for one (or more than one) security, using the `yf.Ticker()` module;\n",
    "- doing mass download of market data, using the `yf.download()` function."
   ]
  },
  {
   "cell_type": "markdown",
   "metadata": {},
   "source": [
    "Let's reuse the utility function to delete files"
   ]
  },
  {
   "cell_type": "code",
   "execution_count": null,
   "metadata": {},
   "outputs": [],
   "source": [
    "def removeFile(fileName):\n",
    "    \"\"\"\n",
    "    removeFile(fileName) function remove file 'fileName', if it exists. It also prints on screen a success/failure message.\n",
    "    \n",
    "    Parameters:\n",
    "        fileName (str): name of the file ('Data' folder is assumed)\n",
    "        \n",
    "    Returns:\n",
    "        None\n",
    "    \"\"\"\n",
    "\n",
    "    if os.path.isfile(os.path.join(dataFolderPath, fileName)):\n",
    "        os.remove(os.path.join(dataFolderPath, fileName))\n",
    "\n",
    "        # double-check if file still exists\n",
    "        fileStillExists = os.path.isfile(os.path.join(dataFolderPath, fileName))\n",
    "\n",
    "        if fileStillExists:\n",
    "            print(\"Failure: file {} still exists...\".format(fileName))\n",
    "        else:\n",
    "            print(\"Success: file {} successfully removed!\".format(fileName))\n",
    "            \n",
    "    else:\n",
    "        print(\"File {} already removed.\".format(fileName))"
   ]
  },
  {
   "cell_type": "code",
   "execution_count": null,
   "metadata": {},
   "outputs": [],
   "source": [
    "downloadData = False #True"
   ]
  },
  {
   "cell_type": "markdown",
   "metadata": {},
   "source": [
    "### 1.2.1. How to lookup for a Yahoo! Finance ticker of a security <a name=\"how-to-lookup-for-a-ticker-of-a-security\"></a>"
   ]
  },
  {
   "cell_type": "markdown",
   "metadata": {},
   "source": [
    "If you want to get market data and information for a security, you need to use the `yf.Ticker()` module, which takes in input the appropriate security symbol:\n",
    "\n",
    "```python\n",
    "yf.Ticker(SymbolString)\n",
    "```\n",
    "\n",
    "where `SymbolString` is the Python String representing the symbol ticker of the desired security (like 'AAPL', 'MSFT', etc.)."
   ]
  },
  {
   "cell_type": "markdown",
   "metadata": {},
   "source": [
    "Most symbols are well known from financial news (like 'AAPL' for Apple Inc. or 'MSFT' for Microsoft Corporation, etc.), but in case you know the public name of a company or security but don't remember the corresponding symbol, you can use the [Symbol Lookup from Yahoo Finance](https://finance.yahoo.com/lookup/). "
   ]
  },
  {
   "cell_type": "markdown",
   "metadata": {},
   "source": [
    "Suppose you want to look for the Fiat Chrysler Automobiles symbol. Start writing the public name of the company in the search bar and you get the back the information that the symbol is **'FCAU'**."
   ]
  },
  {
   "cell_type": "markdown",
   "metadata": {},
   "source": [
    "| ![](../images/yahoo_symbol_lookup.png) <a name=\"yahoo_symbol_lookup\"></a>| \n",
    "|:--:| \n",
    "| _**Figure 5**: Symbol Lookup from Yahoo Finance_ |"
   ]
  },
  {
   "cell_type": "markdown",
   "metadata": {},
   "source": [
    "Here is a list of tickers that we will use in this notebook\n",
    "\n",
    "Yahoo! Finance ticker | Name\n",
    ":---: | :---\n",
    "    'AAPL' | Apple Inc. Stock\n",
    "    'GOOG' | Alphabet Inc. Stock\n",
    "    'FB'   | Facebook, Inc. Stock\n",
    "    'MSFT' | Microsoft Corporation Stock\n",
    "    'INTC' | Intel Corporation Stock\n",
    "    'AMZN' | Amazon.com, Inc. Stock\n",
    "    'BABA' | Alibaba Group Holding Limited Stock\n",
    "    'NFLX' | Netflix, Inc. Stock\n",
    "    'DIS'  | The Walt Disney Company Stock\n",
    "    'GE'   | General Electric Company Stock\n",
    "    'GS'   | The Goldman Sachs Group, Inc. Stock\n",
    "    'DB'   | Deutsche Bank Aktiengesellschaft Stock\n",
    "    '^GSPC'| S&P 500 Index\n",
    "    '^VIX' | CBOE Volatility Index\n",
    "    'EURUSD=X' | EUR/USD Exchange Rate\n",
    "    'EURCHF=X' | EUR/CHF Exchange Rate\n",
    "    'EURGBP=X' | EUR/GBP Exchange Rate\n",
    "    'FCAU' | Fiat Chrysler Automobiles N.V.\n",
    "    'E' | Eni S.p.A. Stock\n",
    "    'ENIA' | Enel Americas S.A. Stock"
   ]
  },
  {
   "cell_type": "markdown",
   "metadata": {},
   "source": [
    "### 1.2.2. How to get market and meta data for a security: `yf.Ticker()` module <a name=\"get-market-and-meta-data:-yf.ticker()-module\"></a>"
   ]
  },
  {
   "cell_type": "code",
   "execution_count": null,
   "metadata": {},
   "outputs": [],
   "source": [
    "aapl = yf.Ticker(\"AAPL\")\n",
    "aapl"
   ]
  },
  {
   "cell_type": "code",
   "execution_count": null,
   "metadata": {},
   "outputs": [],
   "source": [
    "import json"
   ]
  },
  {
   "cell_type": "code",
   "execution_count": null,
   "metadata": {},
   "outputs": [],
   "source": [
    "dataFolderPath = \"../Data\""
   ]
  },
  {
   "cell_type": "code",
   "execution_count": null,
   "metadata": {},
   "outputs": [],
   "source": [
    "filePath = os.path.join(dataFolderPath, \"AAPL_Stock_Info.json\")"
   ]
  },
  {
   "cell_type": "code",
   "execution_count": null,
   "metadata": {
    "scrolled": true
   },
   "outputs": [],
   "source": [
    "if downloadData:\n",
    "    %time aapl_info = aapl.info\n",
    "\n",
    "else:\n",
    "    with open(filePath, 'r') as file:\n",
    "        %time aapl_info = json.load(file)\n",
    "\n",
    "aapl_info"
   ]
  },
  {
   "cell_type": "code",
   "execution_count": null,
   "metadata": {},
   "outputs": [],
   "source": [
    "aapl_info['longBusinessSummary']"
   ]
  },
  {
   "cell_type": "code",
   "execution_count": null,
   "metadata": {},
   "outputs": [],
   "source": [
    "aapl_info['regularMarketPreviousClose']"
   ]
  },
  {
   "cell_type": "code",
   "execution_count": null,
   "metadata": {},
   "outputs": [],
   "source": [
    "if downloadData:\n",
    "    with open(filePath, 'w') as file:\n",
    "        %time json.dump(aapl_info, file, indent=\"\\t\")"
   ]
  },
  {
   "cell_type": "code",
   "execution_count": null,
   "metadata": {},
   "outputs": [],
   "source": [
    "# removeFile(filePath)"
   ]
  },
  {
   "cell_type": "code",
   "execution_count": null,
   "metadata": {
    "scrolled": true
   },
   "outputs": [],
   "source": [
    "aapl.actions"
   ]
  },
  {
   "cell_type": "code",
   "execution_count": null,
   "metadata": {},
   "outputs": [],
   "source": [
    "ax = aapl.actions.plot(secondary_y=\"Dividends\", figsize=(10,6))\n",
    "\n",
    "ax.set_ylabel(\"Number of Stock Splits\")\n",
    "ax.right_ax.set_ylabel(\"Dividends (USD)\")"
   ]
  },
  {
   "cell_type": "markdown",
   "metadata": {},
   "source": [
    "````python\n",
    ".history(start[, end, interval])\n",
    "```\n",
    "\n",
    "where:\n",
    "    \n",
    "- `start` parameter, is the `\"YYYY-MM-DD\"` Python String representing the first date for which we query data;\n",
    "- `end` parameter, optional, is the `\"YYYY-MM-DD\"` Python String representing the last date for which we query data. By default is the last available date, which is usually either today or the last business day;\n",
    "- `interval` parameter, optional, is the Python String representing the frequency of data retrieval. By default it is `\"1d\"`, that is daily frequency. Accepted values are:\n",
    "    \n",
    "`interval` parameter | data frequency\n",
    ":---: | :---\n",
    "`\"1m\"` | every 1 minute\n",
    "`\"2m\"` | every 2 minutes\n",
    "`\"5m\"` | every 5 minutes\n",
    "`\"15m\"` | every 15 minutes\n",
    "`\"30m\"` | every 30 minutes\n",
    "`\"60m\"` | every 60 minutes\n",
    "`\"90m\"` | every 90 minutes\n",
    "`\"1h\"` | every 1 hour\n",
    "`\"1d\"` | every 1 day\n",
    "`\"5d\"` | every 5 days\n",
    "`\"1wk\"` | every 1 week\n",
    "`\"1mo\"` | every 1 month\n",
    "`\"3mo\"` | every 3 months\n",
    "\n",
    "alternatively\n",
    "\n",
    "````python\n",
    ".history(period[, interval])\n",
    "```\n",
    "\n",
    "where `period` parameter, optional, the length of the most recent period for which we query data. By default it is \"ytd\" (acronym for year to date), that is the period of time beginning the first day of the current year up to the current date. Accepted values are\n",
    "\n",
    "`period` parameter | data period\n",
    ":---: | :---\n",
    "`\"1d\"` | last 1 day\n",
    "`\"5d\"` | last 5 days\n",
    "`\"1mo\"` | last 1 month\n",
    "`\"3mo\"` | last 3 months\n",
    "`\"6mo\"` | last 6 months\n",
    "`\"1y\"` | last 1 year\n",
    "`\"2y\"` | last 2 years\n",
    "`\"5y\"` | last 5 years\n",
    "`\"10y\"` | last 10 years\n",
    "`\"ytd\"` | year to date\n",
    "`\"max\"` | maximum available"
   ]
  },
  {
   "cell_type": "code",
   "execution_count": null,
   "metadata": {},
   "outputs": [],
   "source": [
    "aapl_history = aapl.history(period=\"max\", interval=\"1wk\")\n",
    "aapl_history"
   ]
  },
  {
   "cell_type": "code",
   "execution_count": null,
   "metadata": {},
   "outputs": [],
   "source": [
    "ax = aapl_history[\"Close\"].plot(figsize=(10,6))\n",
    "\n",
    "ax.set_title(\"AAPL\")\n",
    "ax.set_ylabel(\"Close Price (USD)\")"
   ]
  },
  {
   "cell_type": "code",
   "execution_count": null,
   "metadata": {},
   "outputs": [],
   "source": [
    "aapl_history_close_last_2y = aapl_history.loc[\"2018-04-08\":, \"Close\"]\n",
    "aapl_history_close_last_2y"
   ]
  },
  {
   "cell_type": "code",
   "execution_count": null,
   "metadata": {
    "scrolled": true
   },
   "outputs": [],
   "source": [
    "ax = aapl_history_close_last_2y.plot(figsize=(10,6))\n",
    "\n",
    "ax.set_title(\"AAPL\")\n",
    "ax.set_ylabel(\"Close Price (USD)\")"
   ]
  },
  {
   "cell_type": "code",
   "execution_count": null,
   "metadata": {
    "scrolled": false
   },
   "outputs": [],
   "source": [
    "ax = aapl_history_close_last_2y[\"2020-01-01\":].plot(figsize=(10,6))\n",
    "\n",
    "ax.set_title(\"AAPL\")\n",
    "ax.set_ylabel(\"Close Price (USD)\")"
   ]
  },
  {
   "cell_type": "markdown",
   "metadata": {},
   "source": [
    "#### 1.2.2.1. Multiple securities simultaneously: `yf.Tickers()` module <a name=\"multiple-securities-simultaneously:-yf.tickers()-module\"></a>"
   ]
  },
  {
   "cell_type": "code",
   "execution_count": null,
   "metadata": {},
   "outputs": [],
   "source": [
    "securities = yf.Tickers('FB AMZN NFLX GOOG')\n",
    "securities"
   ]
  },
  {
   "cell_type": "code",
   "execution_count": null,
   "metadata": {},
   "outputs": [],
   "source": [
    "fb   = securities.tickers.FB\n",
    "amzn = securities.tickers.AMZN\n",
    "nflx = securities.tickers.NFLX\n",
    "goog = securities.tickers.GOOG"
   ]
  },
  {
   "cell_type": "code",
   "execution_count": null,
   "metadata": {},
   "outputs": [],
   "source": [
    "filePath = os.path.join(dataFolderPath, \"FANG_Stocks_Info.json\")"
   ]
  },
  {
   "cell_type": "code",
   "execution_count": null,
   "metadata": {},
   "outputs": [],
   "source": [
    "if downloadData:\n",
    "    %time info_dict = {'FB': fb.info, 'AMZN': amzn.info, 'NFLX': nflx.info, 'GOOG': goog.info}\n",
    "    \n",
    "else:\n",
    "    with open(filePath, 'r') as file:\n",
    "        %time info_dict = json.load(file)\n",
    "\n",
    "info_dict"
   ]
  },
  {
   "cell_type": "code",
   "execution_count": null,
   "metadata": {},
   "outputs": [],
   "source": [
    "goog_info = info_dict['GOOG']\n",
    "goog_info"
   ]
  },
  {
   "cell_type": "code",
   "execution_count": null,
   "metadata": {},
   "outputs": [],
   "source": [
    "goog_info['longName']"
   ]
  },
  {
   "cell_type": "code",
   "execution_count": null,
   "metadata": {},
   "outputs": [],
   "source": [
    "if downloadData:\n",
    "    with open(filePath, 'w') as file:\n",
    "        %time json.dump(info_dict, file, indent=\"\\t\")"
   ]
  },
  {
   "cell_type": "code",
   "execution_count": null,
   "metadata": {},
   "outputs": [],
   "source": [
    "# removeFile(filePath)"
   ]
  },
  {
   "cell_type": "code",
   "execution_count": null,
   "metadata": {},
   "outputs": [],
   "source": [
    "nflx_history_last_two_years = nflx.history(start=\"2018-04-08\")\n",
    "nflx_history_last_two_years"
   ]
  },
  {
   "cell_type": "code",
   "execution_count": null,
   "metadata": {
    "scrolled": false
   },
   "outputs": [],
   "source": [
    "ax = nflx_history_last_two_years[\"Close\"].plot(figsize=(10,6))\n",
    "\n",
    "ax.set_title(\"NFLX\")\n",
    "ax.set_ylabel(\"Close Price (USD)\")"
   ]
  },
  {
   "cell_type": "code",
   "execution_count": null,
   "metadata": {
    "scrolled": false
   },
   "outputs": [],
   "source": [
    "ax = nflx_history_last_two_years.loc[\"2020-01-01\":, \"Close\"].plot(figsize=(10,6))\n",
    "\n",
    "ax.set_title(\"NFLX\")\n",
    "ax.set_ylabel(\"Close Price (USD)\")"
   ]
  },
  {
   "cell_type": "markdown",
   "metadata": {},
   "source": [
    "### 1.2.3. mass download of market data: `yf.download()` function <a name=\"get-market-and-meta-data:-yf.download()-function\"></a>"
   ]
  },
  {
   "cell_type": "code",
   "execution_count": null,
   "metadata": {},
   "outputs": [],
   "source": [
    "securityTickerToNameDict = {\n",
    "    'AAPL':     \"Apple Inc. Stock\",\n",
    "    'GOOG':     \"Alphabet Inc. Stock\",\n",
    "    'FB':       \"Facebook, Inc. Stock\",\n",
    "    'MSFT':     \"Microsoft Corporation Stock\",\n",
    "    'INTC':     \"Intel Corporation Stock\",\n",
    "    'AMZN':     \"Amazon.com, Inc. Stock\",\n",
    "    'BABA':     \"Alibaba Group Holding Limited Stock\",\n",
    "    'NFLX':     \"Netflix, Inc. Stock\",\n",
    "    'DIS':      \"The Walt Disney Company Stock\",\n",
    "    'GE':       \"General Electric Company Stock\",\n",
    "    'GS':       \"The Goldman Sachs Group, Inc. Stock\",\n",
    "    'DB':       \"Deutsche Bank Aktiengesellschaft Stock\",\n",
    "    '^GSPC':    \"S&P 500 Index\",\n",
    "    '^VIX':     \"CBOE Volatility Index\",\n",
    "    'EURUSD=X': \"EUR/USD Exchange Rate\",\n",
    "    'EURCHF=X': \"EUR/CHF Exchange Rate\",\n",
    "    'EURGBP=X': \"EUR/GBP Exchange Rate\",\n",
    "    'FCAU':     \"Fiat Chrysler Automobiles N.V.\",\n",
    "    'E':        \"Eni S.p.A. Stock\",\n",
    "    'ENIA':     \"Enel Americas S.A. Stock\"\n",
    "}"
   ]
  },
  {
   "cell_type": "code",
   "execution_count": null,
   "metadata": {},
   "outputs": [],
   "source": [
    "tickerList = list(securityTickerToNameDict.keys())\n",
    "tickerList"
   ]
  },
  {
   "cell_type": "code",
   "execution_count": null,
   "metadata": {},
   "outputs": [],
   "source": [
    "tickerListString = ' '.join(tickerList)\n",
    "tickerListString"
   ]
  },
  {
   "cell_type": "markdown",
   "metadata": {},
   "source": [
    "````python\n",
    "yf.download(tickers, start[, end, interval])\n",
    "```\n",
    "\n",
    "where:\n",
    "    \n",
    "- `tickers` parameter is the list of Yahoo! Finance tickers for which we query data;\n",
    "- `start` parameter, is the `\"YYYY-MM-DD\"` Python String representing the first date for which we query data;\n",
    "- `end` parameter, optional, is the `\"YYYY-MM-DD\"` Python String representing the last date for which we query data. By default is the last available date, which is usually either today or the last business day;\n",
    "- `interval` parameter, optional, is the Python String representing the frequency of data retrieval. By default it is `\"1d\"`, that is daily frequency. Accepted values are the same as in case of `.history(..., interval, ...)`.\n",
    "\n",
    "Alternatively\n",
    "\n",
    "````python\n",
    "yf.download(tickers, period[, interval])\n",
    "```\n",
    "\n",
    "where `period` parameter, optional, the length of the most recent period for which we query data. By default it is \"ytd\" (acronym for year to date), that is the period of time beginning the first day of the current year up to the current date. Accepted values are the same as in case of `.history(..., period, ...)`."
   ]
  },
  {
   "cell_type": "code",
   "execution_count": null,
   "metadata": {
    "scrolled": true
   },
   "outputs": [],
   "source": [
    "if downloadData:\n",
    "    %time dataFull = yf.download(tickers=tickerListString, start=\"1985-01-01\")\n",
    "    dataFull"
   ]
  },
  {
   "cell_type": "code",
   "execution_count": null,
   "metadata": {},
   "outputs": [],
   "source": [
    "if downloadData:\n",
    "    dataFull[\"Adj Close\"].loc[\"2020-04-08\", \"AAPL\"]"
   ]
  },
  {
   "cell_type": "code",
   "execution_count": null,
   "metadata": {},
   "outputs": [],
   "source": [
    "filePath = os.path.join(dataFolderPath, \"Securities_Close_Price_Dataset.csv\")"
   ]
  },
  {
   "cell_type": "code",
   "execution_count": null,
   "metadata": {
    "scrolled": true
   },
   "outputs": [],
   "source": [
    "if downloadData:\n",
    "    closePrice = dataFull[\"Close\"]\n",
    "    \n",
    "else:\n",
    "    %time closePrice = pd.read_csv(filepath_or_buffer = filePath, index_col = 0, parse_dates = True)\n",
    "    \n",
    "closePrice"
   ]
  },
  {
   "cell_type": "code",
   "execution_count": null,
   "metadata": {},
   "outputs": [],
   "source": [
    "if downloadData:\n",
    "    %time closePrice.to_csv(path_or_buf = filePath)"
   ]
  },
  {
   "cell_type": "code",
   "execution_count": null,
   "metadata": {},
   "outputs": [],
   "source": [
    "# removeFile(filePath)"
   ]
  },
  {
   "cell_type": "markdown",
   "metadata": {},
   "source": [
    "# 2. Data Analysis <a name=\"data-analysis\"></a>"
   ]
  },
  {
   "cell_type": "code",
   "execution_count": null,
   "metadata": {},
   "outputs": [],
   "source": [
    "closePrice.head()"
   ]
  },
  {
   "cell_type": "code",
   "execution_count": null,
   "metadata": {
    "scrolled": true
   },
   "outputs": [],
   "source": [
    "closePrice.tail()"
   ]
  },
  {
   "cell_type": "code",
   "execution_count": null,
   "metadata": {
    "scrolled": true
   },
   "outputs": [],
   "source": [
    "closePrice.plot(figsize=(10,20), subplots=True)"
   ]
  },
  {
   "cell_type": "markdown",
   "metadata": {},
   "source": [
    "## 2.1. _Focus on:_ buy-and-hold Portfolio of Stocks <a name=\"focus-on:-buy-and-hold-portfolio-of-stocks\"></a>"
   ]
  },
  {
   "cell_type": "code",
   "execution_count": null,
   "metadata": {},
   "outputs": [],
   "source": [
    "stockTickers = ['AAPL', 'GOOG','FB', 'MSFT', 'INTC', 'AMZN', 'BABA', 'NFLX', 'DIS', 'GE', 'GS', 'DB', 'FCAU', 'E', 'ENIA']"
   ]
  },
  {
   "cell_type": "code",
   "execution_count": null,
   "metadata": {},
   "outputs": [],
   "source": [
    "stocksClosePrice = closePrice.loc[:, stockTickers]"
   ]
  },
  {
   "cell_type": "code",
   "execution_count": null,
   "metadata": {},
   "outputs": [],
   "source": [
    "stocksClosePrice.head()"
   ]
  },
  {
   "cell_type": "code",
   "execution_count": null,
   "metadata": {},
   "outputs": [],
   "source": [
    "stocksClosePrice.tail()"
   ]
  },
  {
   "cell_type": "code",
   "execution_count": null,
   "metadata": {},
   "outputs": [],
   "source": [
    "stocksClosePrice.shape"
   ]
  },
  {
   "cell_type": "markdown",
   "metadata": {},
   "source": [
    "Let $\\text{shares}_{i,t} $ denote the number of security $i$ shares held at time $t$ and let $ P_{i,t}$ the corresponding price per share. The value of a portfolio of $N$ securities is then\n",
    "\n",
    "\\begin{equation}\n",
    "\\begin{aligned}\n",
    "V^{p}_{t} = \\sum^{N}_{i=1} \\text{shares}_{i,t}  \\times P_{i,t}\n",
    "\\end{aligned}\n",
    "\\end{equation}\n",
    "\n",
    "For a buy-and-hold portfolio, the shares $\\text{shares}_{i,t}$ at time $t$ are determined at time $t=0$ and held fixed thereafter $\\text{shares}_{i,t} = \\text{shares}_{i,0}$, such that the value becomes\n",
    "\n",
    "\\begin{equation}\n",
    "\\begin{aligned}\n",
    "V^{p \\text{, buy-n-hold}}_{t} = \\sum^{N}_{i=1} \\text{shares}_{i,0}  \\times P_{i,t}\n",
    "\\end{aligned}\n",
    "\\end{equation}\n",
    "\n",
    "Notice that, for a buy-and-hold portfolio, the dollar amount invested in each security $i$: $ \\text{shares}_{i,0}  \\times P_{i,t}$ is not constant over time. Even if the amount of shares bought is fixed at $\\text{shares}_{i,0} $, nevertheless the dollar amount of the position in security $i$ changes in value because of the evolution of the share price $P_{i,t}$."
   ]
  },
  {
   "cell_type": "markdown",
   "metadata": {},
   "source": [
    "We consider the particular case of unitary shares $\\text{shares}_{i,0}=1$ for each security. That is, we buy one share per stock on date December 31st, 1984 and keep it untill today."
   ]
  },
  {
   "cell_type": "code",
   "execution_count": null,
   "metadata": {},
   "outputs": [],
   "source": [
    "N = stocksClosePrice.shape[1]\n",
    "N"
   ]
  },
  {
   "cell_type": "code",
   "execution_count": null,
   "metadata": {},
   "outputs": [],
   "source": [
    "shares = np.ones(N, dtype=\"int\")\n",
    "shares"
   ]
  },
  {
   "cell_type": "code",
   "execution_count": null,
   "metadata": {},
   "outputs": [],
   "source": [
    "dollarInvestedPerSecurity = shares * stocksClosePrice\n",
    "dollarInvestedPerSecurity.tail()"
   ]
  },
  {
   "cell_type": "code",
   "execution_count": null,
   "metadata": {},
   "outputs": [],
   "source": [
    "ptfValue = dollarInvestedPerSecurity.sum(axis=1)\n",
    "ptfValue.tail()"
   ]
  },
  {
   "cell_type": "code",
   "execution_count": null,
   "metadata": {},
   "outputs": [],
   "source": [
    "ax = ptfValue.plot(figsize=(10,6))\n",
    "\n",
    "ax.set_title(\"Buy-n-Hold Portfolio (1 share per stock)\")\n",
    "ax.set_ylabel(\"Value (USD)\")"
   ]
  },
  {
   "cell_type": "markdown",
   "metadata": {},
   "source": [
    "## 2.2. Summary Statistics <a name=\"summary-statistics\"></a>"
   ]
  },
  {
   "cell_type": "code",
   "execution_count": null,
   "metadata": {},
   "outputs": [],
   "source": [
    "closePrice.shape"
   ]
  },
  {
   "cell_type": "code",
   "execution_count": null,
   "metadata": {},
   "outputs": [],
   "source": [
    "closePrice.info()"
   ]
  },
  {
   "cell_type": "code",
   "execution_count": null,
   "metadata": {},
   "outputs": [],
   "source": [
    "closePrice.describe().round(1)"
   ]
  },
  {
   "cell_type": "code",
   "execution_count": null,
   "metadata": {},
   "outputs": [],
   "source": [
    "closePrice.mean()"
   ]
  },
  {
   "cell_type": "code",
   "execution_count": null,
   "metadata": {},
   "outputs": [],
   "source": [
    "closePrice.std()"
   ]
  },
  {
   "cell_type": "markdown",
   "metadata": {},
   "source": [
    "## 2.3. Returns <a name=\"returns\"></a>"
   ]
  },
  {
   "cell_type": "markdown",
   "metadata": {},
   "source": [
    "### 2.3.1. Simple Returns: `.pct_change()` method <a name=\"simple-returns:-.pct_change()-method\"></a>"
   ]
  },
  {
   "cell_type": "markdown",
   "metadata": {},
   "source": [
    "\\begin{equation}\n",
    "\\begin{aligned}\n",
    "R^{sim}_{t,1} =  \\frac{P_t - P_{t-1}}{P_{t-1}} = \\frac{P_t}{P_{t-1}} - 1\n",
    "\\end{aligned}\n",
    "\\end{equation}\n"
   ]
  },
  {
   "cell_type": "code",
   "execution_count": null,
   "metadata": {},
   "outputs": [],
   "source": [
    "simpleRets = closePrice.pct_change(periods=1)"
   ]
  },
  {
   "cell_type": "code",
   "execution_count": null,
   "metadata": {},
   "outputs": [],
   "source": [
    "simpleRets.tail().round(2)"
   ]
  },
  {
   "cell_type": "code",
   "execution_count": null,
   "metadata": {},
   "outputs": [],
   "source": [
    "simpleRets.plot(figsize=(10,20), subplots=True)"
   ]
  },
  {
   "cell_type": "code",
   "execution_count": null,
   "metadata": {},
   "outputs": [],
   "source": [
    "simpleRets.hist(figsize=(13,13), bins=50)"
   ]
  },
  {
   "cell_type": "markdown",
   "metadata": {},
   "source": [
    "### 2.3.2. _Focus on:_ Simple Returns of Equally Weighted Portfolio <a name=\"focus-on:-simple-returns-of-equally-weighted-portfolio\"></a>"
   ]
  },
  {
   "cell_type": "markdown",
   "metadata": {},
   "source": [
    "Let's define a portfolio of $N$ securities in terms of its weights, that is the fraction of the total investment in the portfolio held in each individual investment. For security $i$ at time $t$, the weight $w_{i,t}$ is defined as \n",
    "\n",
    "$$\n",
    "w_{i,t} = \\frac{\\text{Amount invested in security } i \\text{ at time }t}{\\text{Total value of the portfolio}} = \\frac{\\text{shares}_{i,t} \\times P_{i,t}}{\\sum^{N}_{j=1} \\text{shares}_{j,t} \\times P_{j,t}}\n",
    "$$\n",
    "\n",
    "notice that weights are normalized: $\\sum^{N}_{i=1} w_{i,t} = 1$. \n"
   ]
  },
  {
   "cell_type": "markdown",
   "metadata": {},
   "source": [
    "Let's denote with $R^{i \\text{, }sim}_{t,1}$ the one-period simple returns of security $i$, calculated as shown in the previous section. The one period simple returns $R^{p \\text{, }sim}_{t,1}$ of a portfolio of $N$ securities can then be expressed as\n",
    "\n",
    "$$\n",
    "R^{p \\text{, }sim}_{t,1} = \\sum^{N}_{i=1} w_{i,t} \\times R^{i \\text{, }sim}_{t,1}\n",
    "$$\n",
    "\n",
    "that is, simple portfolio returns are the weighted average of the returns of the single investements in the portfolio."
   ]
  },
  {
   "cell_type": "markdown",
   "metadata": {},
   "source": [
    "In an equally-weighted portfolio, the value of each single investment in the portfolio is constant across securities. That is, \n",
    "$$\n",
    "\\text{shares}_{i,t} \\times P_{i,t} \\equiv \\text{const}\n",
    "$$\n",
    "and thus the weights are\n",
    "$$\n",
    "w_{i,t} = \\frac{\\text{const}}{\\sum^{N}_{j=1} \\text{const}} = \\frac{1}{N}\n",
    "$$\n",
    "for each security $i$ and time $t$. Since security prices change over time, a frequent rebalancing is needed in order to keep constant the dollar amount of each position. "
   ]
  },
  {
   "cell_type": "code",
   "execution_count": null,
   "metadata": {},
   "outputs": [],
   "source": [
    "stocksSimpleRets = stocksClosePrice.pct_change(periods=1)"
   ]
  },
  {
   "cell_type": "code",
   "execution_count": null,
   "metadata": {},
   "outputs": [],
   "source": [
    "w = np.ones(N)/N\n",
    "w"
   ]
  },
  {
   "cell_type": "code",
   "execution_count": null,
   "metadata": {},
   "outputs": [],
   "source": [
    "weightedSimpleRets = w * stocksSimpleRets"
   ]
  },
  {
   "cell_type": "code",
   "execution_count": null,
   "metadata": {},
   "outputs": [],
   "source": [
    "ptfSimpleRets = weightedSimpleRets.sum(axis=1)"
   ]
  },
  {
   "cell_type": "code",
   "execution_count": null,
   "metadata": {},
   "outputs": [],
   "source": [
    "ax = ptfSimpleRets.plot(figsize=(10,6))\n",
    "\n",
    "ax.set_title(\"Equally Weighted Portfolio Simple Returns\")\n",
    "ax.set_ylabel(\"Simple Returns\")"
   ]
  },
  {
   "cell_type": "markdown",
   "metadata": {},
   "source": [
    "### 2.3.3. Log-Returns: `.shift()` method <a name=\"log-returns:-.shift()-method\"></a>"
   ]
  },
  {
   "cell_type": "markdown",
   "metadata": {},
   "source": [
    "\\begin{equation}\n",
    "\\begin{aligned}\n",
    "R^{log}_{t,1} = \\log \\left( \\frac{P_t}{P_{t-1}} \\right)\n",
    "\\end{aligned}\n",
    "\\end{equation}\n"
   ]
  },
  {
   "cell_type": "code",
   "execution_count": null,
   "metadata": {},
   "outputs": [],
   "source": [
    "logRets = np.log(closePrice/closePrice.shift(periods=1))"
   ]
  },
  {
   "cell_type": "code",
   "execution_count": null,
   "metadata": {},
   "outputs": [],
   "source": [
    "logRets.tail().round(2)"
   ]
  },
  {
   "cell_type": "code",
   "execution_count": null,
   "metadata": {},
   "outputs": [],
   "source": [
    "logRets.plot(figsize=(10,20), subplots=True)"
   ]
  },
  {
   "cell_type": "code",
   "execution_count": null,
   "metadata": {},
   "outputs": [],
   "source": [
    "logRets.hist(figsize=(13,13), bins=50)"
   ]
  },
  {
   "cell_type": "markdown",
   "metadata": {},
   "source": [
    "## 2.4. Resampling: `.resample()` method <a name=\"resampling:-.resample()-method\"></a>"
   ]
  },
  {
   "cell_type": "markdown",
   "metadata": {},
   "source": [
    "````python\n",
    ".resample(rule, label, closed).computation()\n",
    "```\n",
    "\n",
    "creates a resampled DataFrame binning the original one into row buckets according to the resampling `rule`. Row buckets are assigned to the index of the left or right edge according to the `label` parameter and buckets either include the left or right edge according to the `closed` parameter. For details see [.resample() documentation](https://pandas.pydata.org/pandas-docs/stable/reference/api/pandas.DataFrame.resample.html). Parameters are: \n",
    "    \n",
    "- `rule` parameter is the Python String representing the target resampling conversion. Values are of the form `\"NumberFrequencyString\"` (e.g. `\"1w\"` for weekly resampling) and a non exhaustive list of accepted frequency `FrequencyString` strings is \n",
    "    \n",
    "`FrequencyString` parameter | data frequency\n",
    ":---: | :---\n",
    "B   | business day frequency\n",
    "D   | calendar day frequency\n",
    "W   | weekly frequency\n",
    "M   | month end frequency\n",
    "BM  | business month end frequency\n",
    "MS  | month start frequency\n",
    "BMS | business month start frequency\n",
    "Q   | quarter end frequency\n",
    "BQ  | business quarter endfrequency\n",
    "QS  | quarter start frequency\n",
    "BQS | business quarter start frequency\n",
    "A   | year end frequency\n",
    "BA  | business year end frequency\n",
    "AS  | year start frequency\n",
    "BAS | business year start frequency\n",
    "H   | hourly frequency\n",
    "T   | minutely frequency\n",
    "S   | secondly frequency\n",
    "L   | milliseconds\n",
    "U   | microseconds\n",
    "\n",
    "- `label` parameter, either `\"left\"` or `\"right\"`, sets the bin edge label to use to label the bucket with;\n",
    "\n",
    "\n",
    "- `closed` parameter, either `\"left\"` or `\"right\"`, sets which side of bin interval is closed;\n",
    "\n",
    "\n",
    "- `.computation()` is a method which maps the values of the rows in each bucket to a single value. Most common methods are in the following table (see [\"Computations / descriptive stats\" documentation](https://pandas.pydata.org/pandas-docs/stable/reference/resampling.html#computations-descriptive-stats) for details)\n",
    "    \n",
    "`.computation()` method | returns\n",
    ":---: | :---\n",
    "`.last()`   | value of the last row in each bucket\n",
    "`.first()`   | value of the first row in each bucket\n",
    "`.min()`   | minimum value of the rows in each bucket\n",
    "`.max()`   | maximum value of the rows in each bucket\n",
    "`.sum()`   | sum of the values of the rows in each bucket\n",
    "`.mean()`   | mean of the values of the rows in each bucket"
   ]
  },
  {
   "cell_type": "markdown",
   "metadata": {},
   "source": [
    "### 2.4.1. Resampling Prices <a name=\"resampling-prices\"></a>"
   ]
  },
  {
   "cell_type": "code",
   "execution_count": null,
   "metadata": {},
   "outputs": [],
   "source": [
    "closePrice.head(15)"
   ]
  },
  {
   "cell_type": "code",
   "execution_count": null,
   "metadata": {},
   "outputs": [],
   "source": [
    "weeklyClosePrice = closePrice.resample(rule='5B', label='right', closed='right').last()"
   ]
  },
  {
   "cell_type": "code",
   "execution_count": null,
   "metadata": {
    "scrolled": false
   },
   "outputs": [],
   "source": [
    "weeklyClosePrice.head()"
   ]
  },
  {
   "cell_type": "code",
   "execution_count": null,
   "metadata": {},
   "outputs": [],
   "source": [
    "weeklyClosePrice.loc[\"1985-01-07\", \"AAPL\"]"
   ]
  },
  {
   "cell_type": "code",
   "execution_count": null,
   "metadata": {},
   "outputs": [],
   "source": [
    "closePrice.loc[:\"1985-01-07\", \"AAPL\"]"
   ]
  },
  {
   "cell_type": "code",
   "execution_count": null,
   "metadata": {},
   "outputs": [],
   "source": [
    "weeklyClosePrice.loc[\"1985-01-14\", \"AAPL\"]"
   ]
  },
  {
   "cell_type": "code",
   "execution_count": null,
   "metadata": {},
   "outputs": [],
   "source": [
    "closePrice.loc[\"1985-01-08\":\"1985-01-14\", \"AAPL\"]"
   ]
  },
  {
   "cell_type": "code",
   "execution_count": null,
   "metadata": {},
   "outputs": [],
   "source": [
    "weeklyClosePrice.loc[\"1985-01-21\", \"AAPL\"]"
   ]
  },
  {
   "cell_type": "code",
   "execution_count": null,
   "metadata": {},
   "outputs": [],
   "source": [
    "closePrice.loc[\"1985-01-15\":\"1985-01-21\", \"AAPL\"]"
   ]
  },
  {
   "cell_type": "markdown",
   "metadata": {},
   "source": [
    "### 2.4.2. Resampling log-Returns <a name=\"resampling-log-returns\"></a>"
   ]
  },
  {
   "cell_type": "markdown",
   "metadata": {},
   "source": [
    "log-returns are time-additive\n",
    "\n",
    "\\begin{equation}\n",
    "\\begin{aligned}\n",
    "R^{log}_{t,1} = \\log \\left( \\frac{P_t}{P_{t-1}} \\right)\n",
    "\\end{aligned}\n",
    "\\end{equation}\n",
    "\n",
    "\\begin{equation}\n",
    "\\begin{aligned}\n",
    "R^{log}_{t,n} = \\log \\left( \\frac{P_t}{P_{t-n}} \\right)\n",
    "\\end{aligned}\n",
    "\\end{equation}\n",
    "\n",
    "\\begin{equation}\n",
    "\\begin{aligned}\n",
    "R^{log}_{t,n} &= \\log \\left( \\frac{P_t}{P_{t-n}} \\right) \\nonumber \\\\\n",
    "              &= \\log \\left( \\frac{P_t}{P_{t-1}} \\times \\frac{P_{t-1}}{P_{t-2}} \\times \\frac{P_{t-2}}{P_{t-3}} \\times \\cdots \\times \\frac{P_{t-n+2}}{P_{t-n+1}} \\times \\frac{P_{t-n+1}}{P_{t-n}} \\right) \\nonumber \\\\\n",
    "              &= \\log \\left( \\frac{P_t}{P_{t-1}} \\right) + \\log \\left( \\frac{P_{t-1}}{P_{t-2}} \\right) + \\log \\left( \\frac{P_{t-2}}{P_{t-3}} \\right) + \\cdots + \\log \\left( \\frac{P_{t-n+2}}{P_{t-n+1}} \\right) + \\log \\left( \\frac{P_{t-n+1}}{P_{t-n}} \\right) \\nonumber \\\\\n",
    "              &= R^{log}_{t,1} + R^{log}_{t-1,1} + R^{log}_{t-2,1} + \\cdots + R^{log}_{t-n+2,1} + R^{log}_{t-n+1,1} \\nonumber \\\\\n",
    "              &= \\sum_{i=1}^{n} R^{log}_{t-i+1,1} \\nonumber \\\\\n",
    "\\end{aligned}\n",
    "\\end{equation}\n",
    "\n",
    "that is the n-period log-return at time t is the sum of the n most recent one-period log-returns up to time t."
   ]
  },
  {
   "cell_type": "code",
   "execution_count": null,
   "metadata": {},
   "outputs": [],
   "source": [
    "logRets.head(15)"
   ]
  },
  {
   "cell_type": "code",
   "execution_count": null,
   "metadata": {},
   "outputs": [],
   "source": [
    "weeklyLogRets = logRets.resample(rule='5B', label='right', closed='right').sum()"
   ]
  },
  {
   "cell_type": "code",
   "execution_count": null,
   "metadata": {},
   "outputs": [],
   "source": [
    "weeklyLogRets.head()"
   ]
  },
  {
   "cell_type": "code",
   "execution_count": null,
   "metadata": {},
   "outputs": [],
   "source": [
    "weeklyLogRets.loc[\"1985-01-07\", \"AAPL\"]"
   ]
  },
  {
   "cell_type": "code",
   "execution_count": null,
   "metadata": {
    "scrolled": true
   },
   "outputs": [],
   "source": [
    "logRets.loc[:\"1985-01-07\", \"AAPL\"]"
   ]
  },
  {
   "cell_type": "code",
   "execution_count": null,
   "metadata": {},
   "outputs": [],
   "source": [
    "logRets.loc[:\"1985-01-07\", \"AAPL\"].sum()"
   ]
  },
  {
   "cell_type": "code",
   "execution_count": null,
   "metadata": {},
   "outputs": [],
   "source": [
    "weeklyLogRets.loc[\"1985-01-14\", \"AAPL\"]"
   ]
  },
  {
   "cell_type": "code",
   "execution_count": null,
   "metadata": {},
   "outputs": [],
   "source": [
    "logRets.loc[\"1985-01-08\":\"1985-01-14\", \"AAPL\"]"
   ]
  },
  {
   "cell_type": "code",
   "execution_count": null,
   "metadata": {},
   "outputs": [],
   "source": [
    "logRets.loc[\"1985-01-08\":\"1985-01-14\", \"AAPL\"].sum()"
   ]
  },
  {
   "cell_type": "code",
   "execution_count": null,
   "metadata": {},
   "outputs": [],
   "source": [
    "weeklyLogRets.loc[\"1985-01-21\", \"AAPL\"]"
   ]
  },
  {
   "cell_type": "code",
   "execution_count": null,
   "metadata": {},
   "outputs": [],
   "source": [
    "logRets.loc[\"1985-01-15\":\"1985-01-21\", \"AAPL\"]"
   ]
  },
  {
   "cell_type": "code",
   "execution_count": null,
   "metadata": {},
   "outputs": [],
   "source": [
    "logRets.loc[\"1985-01-15\":\"1985-01-21\", \"AAPL\"].sum()"
   ]
  },
  {
   "cell_type": "markdown",
   "metadata": {},
   "source": [
    "### 2.4.3. _Focus on:_ graphical tests of S&P500 Returns Normality <a name=\"focus-on:-graphical-tests-of-s&p500-normality-of-returns\"></a>"
   ]
  },
  {
   "cell_type": "code",
   "execution_count": null,
   "metadata": {},
   "outputs": [],
   "source": [
    "spxCloseLevel = closePrice.loc[:, '^GSPC'].dropna()"
   ]
  },
  {
   "cell_type": "code",
   "execution_count": null,
   "metadata": {},
   "outputs": [],
   "source": [
    "spxLogRets = np.log(spxCloseLevel/spxCloseLevel.shift(periods=1)) "
   ]
  },
  {
   "cell_type": "code",
   "execution_count": null,
   "metadata": {},
   "outputs": [],
   "source": [
    "ax = spxLogRets.hist(bins=50, density=True, figsize=(10,6))\n",
    "\n",
    "ax.set_title(\"S&P500 daily log-returns\")\n",
    "ax.set_xlabel(\"Returns\")\n",
    "ax.set_ylabel(\"Frequency\")\n",
    "ax.set_xlim(-0.2, 0.2)"
   ]
  },
  {
   "cell_type": "code",
   "execution_count": null,
   "metadata": {},
   "outputs": [],
   "source": [
    "import math\n",
    "from scipy import stats\n",
    "\n",
    "def resampleRets(dfRets, days):\n",
    "    \"\"\"\n",
    "    Function resampleRets(dfRets, days) gets in input the 'dfRets' DataFrame\n",
    "    of S&P500 log-returns and the resampling frequency String 'days'. It then returns\n",
    "    the dfRets resampled, using a .sum() aggregation to compute compound returns\n",
    "    over a horizon of 'days'. It drops NaNs.\n",
    "    \n",
    "    Parameters:\n",
    "        dfRets (pd.DataFrame): log-returns,\n",
    "        days (String): resampling frequency.\n",
    "        \n",
    "    Returns:\n",
    "        resampledRets (pd.DataFrame): log-returns resampled,\n",
    "        \n",
    "    \"\"\"    \n",
    "    \n",
    "    resampledRets = dfRets.resample(rule=days+'B', label='right', closed='right').sum().dropna()\n",
    "    \n",
    "    return resampledRets\n",
    "\n",
    "def normalFit(dfRets):\n",
    "    \"\"\"\n",
    "    Function normalFit(dfRets) gets in input the 'dfRets' DataFrame\n",
    "    of S&P500 log-returns. It then:\n",
    "        - makes a normal fit of dfRets;\n",
    "        - compute the normal pdf, with fit mean and std, over a uniform grid of returns;\n",
    "        - computes higher sample moments: skewness and (excess) kurtosis\n",
    "    \n",
    "    Parameters:\n",
    "        dfRets (pd.DataFrame): log-returns,\n",
    "    \n",
    "    Returns:\n",
    "        fitRes (Dict): normal fit results, from normalFit() function;\n",
    "        \n",
    "    \"\"\"    \n",
    "        \n",
    "    # normal fit\n",
    "    mu_fit, sigma_fit = stats.norm.fit(dfRets.values)\n",
    "    \n",
    "    # create a uniform grid of points between minimum and maximum values of dfRets\n",
    "    num_points = dfRets.shape[0]\n",
    "    df_unif_grid = np.linspace(dfRets.min(), dfRets.max(), num_points)\n",
    "\n",
    "    # fit normal pdf\n",
    "    pdf_fit = stats.norm.pdf(df_unif_grid, loc=mu_fit, scale=sigma_fit)\n",
    "    \n",
    "    # higher sample moments\n",
    "    sample_skewness = dfRets.skew()\n",
    "    sample_kurtosis = dfRets.kurtosis()\n",
    "    \n",
    "    # wrapping output in a Dict\n",
    "    fitRes = {'mu_fit':            mu_fit, \n",
    "              'sigma_fit':         sigma_fit,\n",
    "              'sample_skew':       sample_skewness,\n",
    "              'sample_kurt':       sample_kurtosis,\n",
    "              'returns_grid':      df_unif_grid,\n",
    "              'pdf(returns_grid)': pdf_fit}\n",
    "    \n",
    "    return fitRes\n",
    "\n",
    "def makePlots(dfRets, fitRes, days):\n",
    "    \"\"\"\n",
    "    Function makePlots(dfRets, fitRes, days) gets in input the 'dfRets' DataFrame\n",
    "    of S&P500 log-returns, the normal fit results Dict 'fitRes' and the resampling \n",
    "    frequency String 'days'. It then:\n",
    "        - makes a normalized histogram of dfRets, using a number of bins = sqrt(number of data);\n",
    "        - compares the histogram with the best normal fit;\n",
    "        - makes a Q-Q plot of dfRets quantiles, against normal hypothesis.\n",
    "    \n",
    "    Parameters:\n",
    "        dfRets (pd.DataFrame): S&P500 log-returns,\n",
    "        fitRes (Dict): normal fit results, from normalFit() function;\n",
    "        days (String): resampling frequency.\n",
    "    \n",
    "    Returns:\n",
    "        None\n",
    "        \n",
    "    \"\"\"    \n",
    "    \n",
    "    fig, axs = plt.subplots(figsize=(20,6), nrows=1, ncols=2)\n",
    "    \n",
    "    # Histogram\n",
    "    bin_num = math.ceil(math.sqrt(dfRets.shape[0]))\n",
    "    axs[0].hist(x=dfRets.values, bins=bin_num, density=True, histtype='bar', ec='black',\n",
    "                label=\"Empirical (skew={:.2f}, excess kurt={:.2f})\".format(fitRes['sample_skew'], fitRes['sample_kurt']))\n",
    "    \n",
    "    axs[0].plot(fitRes['returns_grid'], fitRes['pdf(returns_grid)'], '--', lw=2, \n",
    "                label=\"Normal fit $N(z;\\mu={:.2f}, \\sigma={:.2f})$ pdf\".format(fitRes['mu_fit'], fitRes['sigma_fit']))\n",
    "    \n",
    "    axs[0].set_title(\"Histogram of S&P500 log-returns ({} days resample)\".format(days), fontsize=20)\n",
    "    axs[0].set_xlabel(\"Returns\", fontsize=20)\n",
    "    axs[0].set_ylabel(\"Frequency\", fontsize=20)\n",
    "    axs[0].set_xlim(-0.2, 0.4)\n",
    "    axs[0].set_ylim(0.0, 26)\n",
    "    axs[0].legend(loc='upper right', ncol=1, fontsize=12)\n",
    "    \n",
    "    \n",
    "    # Q-Q plot\n",
    "    stats.probplot(x=dfRets.values, dist='norm', plot=axs[1])\n",
    "    axs[1].set_title(\"Q-Q plot of S&P500 log-returns ({} days resample) against Normal distribution\".format(days))\n",
    "    axs[1].set_xlabel(\"Theoretical Quantiles\", fontsize=20)\n",
    "    axs[1].set_ylabel(\"Sample Quantiles\", fontsize=20)\n",
    "    axs[1].set_xlim(-4, 4)\n",
    "    axs[1].set_ylim(-0.4, 0.4)\n",
    "    \n",
    "    fig.tight_layout()\n",
    "    plt.show()\n",
    "\n",
    "def main(dfRets, resamplingFreqList):\n",
    "    \"\"\"\n",
    "    Function main(dfRets, resamplingFreqList), takes in input S&P500 data 'dfRets', takes in input a list of resampling \n",
    "    frequencies, 'resamplingFreqList'. It then:\n",
    "        - computes S&P500 log-returns, using getLogRets() function; \n",
    "        - resamples S&P500 log-returns, using resampleRets() function;\n",
    "        - makes a normal fit of S&P500 log-returns, using normalFit() function;\n",
    "        - makes two plots, a histogram and a Q-Q plot, using makePlots() function;\n",
    "    \n",
    "    Parameters:\n",
    "        dfRets (pd.DataFrame):            S&P500 log-returns,\n",
    "        resamplingFreqList (List of int): resampling frequency list.\n",
    "    \n",
    "    Returns:\n",
    "        None\n",
    "        \n",
    "    \"\"\"    \n",
    "    \n",
    "    # loop over desired resampling frequencies\n",
    "    for d in resamplingFreqList:\n",
    "        \n",
    "        # resampling\n",
    "        resampledDfRets = resampleRets(dfRets, str(d))\n",
    "        \n",
    "        # normal fit\n",
    "        fitResults = normalFit(resampledDfRets)\n",
    "        \n",
    "        # make histogram and Q-Q plot\n",
    "        makePlots(resampledDfRets, fitResults, d)"
   ]
  },
  {
   "cell_type": "code",
   "execution_count": null,
   "metadata": {
    "scrolled": false
   },
   "outputs": [],
   "source": [
    "main(spxLogRets, [5, 21, 63, 126, 252])"
   ]
  },
  {
   "cell_type": "markdown",
   "metadata": {},
   "source": [
    "## 2.5. Rolling Statistics: `.rolling()` method <a name=\"rolling-statistics:-.rolling()-method\"></a>"
   ]
  },
  {
   "cell_type": "code",
   "execution_count": null,
   "metadata": {},
   "outputs": [],
   "source": [
    "disney = closePrice.loc[\"2015-01-01\":, \"DIS\"].dropna()"
   ]
  },
  {
   "cell_type": "code",
   "execution_count": null,
   "metadata": {},
   "outputs": [],
   "source": [
    "disney.head()"
   ]
  },
  {
   "cell_type": "code",
   "execution_count": null,
   "metadata": {},
   "outputs": [],
   "source": [
    "ax = disney.plot(figsize=(10,6))\n",
    "\n",
    "ax.set_title(\"The Walt Disney Company\")\n",
    "ax.set_ylabel(\"Close Price (USD)\")"
   ]
  },
  {
   "cell_type": "code",
   "execution_count": null,
   "metadata": {},
   "outputs": [],
   "source": [
    "sma = disney.rolling(window=42).mean()"
   ]
  },
  {
   "cell_type": "code",
   "execution_count": null,
   "metadata": {},
   "outputs": [],
   "source": [
    "lma = disney.rolling(window=252).mean()"
   ]
  },
  {
   "cell_type": "code",
   "execution_count": null,
   "metadata": {},
   "outputs": [],
   "source": [
    "disneyRollingIndicators = pd.DataFrame(data={\"Price\": disney, \n",
    "                                             \"SMA (42d)\": sma, \n",
    "                                             \"LMA (252d)\": lma}, \n",
    "                                       index=disney.index)"
   ]
  },
  {
   "cell_type": "code",
   "execution_count": null,
   "metadata": {},
   "outputs": [],
   "source": [
    "disneyRollingIndicators.tail()"
   ]
  },
  {
   "cell_type": "code",
   "execution_count": null,
   "metadata": {},
   "outputs": [],
   "source": [
    "ax = disneyRollingIndicators.plot(figsize=(10,6))\n",
    "\n",
    "ax.set_title(\"The Walt Disney Company\")\n",
    "ax.set_ylabel(\"Close Price (USD)\")"
   ]
  },
  {
   "cell_type": "markdown",
   "metadata": {},
   "source": [
    "### 2.5.1. Rolling Correlation Matrix <a name=\"rolling-correlation-matrix\"></a>"
   ]
  },
  {
   "cell_type": "code",
   "execution_count": null,
   "metadata": {},
   "outputs": [],
   "source": [
    "FANGStocks = logRets.loc[\"2015-01-01\":, ['FB', 'AMZN', 'NFLX', 'GOOG']].dropna()"
   ]
  },
  {
   "cell_type": "code",
   "execution_count": null,
   "metadata": {},
   "outputs": [],
   "source": [
    "FANGStocks.head()"
   ]
  },
  {
   "cell_type": "code",
   "execution_count": null,
   "metadata": {},
   "outputs": [],
   "source": [
    "ax = FANGStocks.plot(figsize=(10,6))\n",
    "\n",
    "ax.set_title(\"FANG Stocks\")\n",
    "ax.set_ylabel(\"Log-Returns\")"
   ]
  },
  {
   "cell_type": "code",
   "execution_count": null,
   "metadata": {},
   "outputs": [],
   "source": [
    "FANGCorr = FANGStocks.rolling(window=252).corr()"
   ]
  },
  {
   "cell_type": "code",
   "execution_count": null,
   "metadata": {
    "scrolled": true
   },
   "outputs": [],
   "source": [
    "FANGCorr.tail(10)"
   ]
  },
  {
   "cell_type": "code",
   "execution_count": null,
   "metadata": {
    "scrolled": true
   },
   "outputs": [],
   "source": [
    "FANGCorr.index"
   ]
  },
  {
   "cell_type": "code",
   "execution_count": null,
   "metadata": {},
   "outputs": [],
   "source": [
    "FANGCorr.loc[(\"2020-04-09\", \"FB\"), \"AMZN\"]"
   ]
  },
  {
   "cell_type": "code",
   "execution_count": null,
   "metadata": {},
   "outputs": [],
   "source": [
    "FANGCorr.loc[(slice(None), \"FB\"), \"AMZN\"]"
   ]
  },
  {
   "cell_type": "code",
   "execution_count": null,
   "metadata": {},
   "outputs": [],
   "source": [
    "FANGCorr.xs(\"2020-04-09\")"
   ]
  },
  {
   "cell_type": "code",
   "execution_count": null,
   "metadata": {
    "scrolled": false
   },
   "outputs": [],
   "source": [
    "import seaborn as sns\n",
    "\n",
    "ax = sns.heatmap(FANGCorr.xs(\"2020-04-09\"), annot=True, cmap=\"Blues\")\n",
    "\n",
    "bottom, top = ax.get_ylim()\n",
    "ax.set_ylim(bottom + 0.5, top - 0.5)"
   ]
  },
  {
   "cell_type": "markdown",
   "metadata": {},
   "source": [
    "## 2.6. _Focus on:_ S&P500 - VIX inverse relationship <a name=\"focus-on:-s&p500-vix-inverse-relationship\"></a>"
   ]
  },
  {
   "cell_type": "code",
   "execution_count": null,
   "metadata": {},
   "outputs": [],
   "source": [
    "spx_vix = closePrice.loc[:, ['^GSPC', '^VIX']].dropna()"
   ]
  },
  {
   "cell_type": "code",
   "execution_count": null,
   "metadata": {},
   "outputs": [],
   "source": [
    "spx_vix = spx_vix.rename(columns = {'^GSPC': 'SPX', '^VIX': 'VIX'})"
   ]
  },
  {
   "cell_type": "code",
   "execution_count": null,
   "metadata": {},
   "outputs": [],
   "source": [
    "spx_vix.head()"
   ]
  },
  {
   "cell_type": "code",
   "execution_count": null,
   "metadata": {},
   "outputs": [],
   "source": [
    "spx_vix.tail()"
   ]
  },
  {
   "cell_type": "code",
   "execution_count": null,
   "metadata": {},
   "outputs": [],
   "source": [
    "ax = spx_vix.plot(secondary_y=\"VIX\", figsize=(10,6))\n",
    "\n",
    "ax.set_ylabel(\"SPX Level\")\n",
    "ax.right_ax.set_ylabel(\"VIX Level\")"
   ]
  },
  {
   "cell_type": "markdown",
   "metadata": {},
   "source": [
    "### 2.6.1. Regression Analysis: $VIX = \\alpha + \\beta SPX$ <a name=\"regression-analysis\"></a>"
   ]
  },
  {
   "cell_type": "code",
   "execution_count": null,
   "metadata": {},
   "outputs": [],
   "source": [
    "spx_vixLogRets = np.log(spx_vix/spx_vix.shift(periods=1)).dropna()"
   ]
  },
  {
   "cell_type": "code",
   "execution_count": null,
   "metadata": {},
   "outputs": [],
   "source": [
    "spx_vixLogRets.head()"
   ]
  },
  {
   "cell_type": "code",
   "execution_count": null,
   "metadata": {},
   "outputs": [],
   "source": [
    "spx_vixLogRets.tail()"
   ]
  },
  {
   "cell_type": "code",
   "execution_count": null,
   "metadata": {},
   "outputs": [],
   "source": [
    "beta, alpha = np.polyfit(spx_vixLogRets['SPX'], spx_vixLogRets['VIX'], deg=1)"
   ]
  },
  {
   "cell_type": "code",
   "execution_count": null,
   "metadata": {},
   "outputs": [],
   "source": [
    "beta, alpha"
   ]
  },
  {
   "cell_type": "code",
   "execution_count": null,
   "metadata": {},
   "outputs": [],
   "source": [
    "ax = spx_vixLogRets.plot(kind='scatter', x='SPX', y='VIX', figsize=(10,6))\n",
    "\n",
    "ax.plot(spx_vixLogRets['SPX'], alpha + beta*spx_vixLogRets['SPX'], c='r', lw=2, \n",
    "        label=\"OLS reg: VIX = {:0f} {:0f} * SPX\".format(alpha, beta))\n",
    "\n",
    "ax.set_xlabel(\"SPX\")\n",
    "ax.set_ylabel(\"VIX\")\n",
    "ax.legend()\n",
    "ax.set_title(\"Scatter plot of SPX and VIX Log-Returns\")"
   ]
  },
  {
   "cell_type": "markdown",
   "metadata": {},
   "source": [
    "### 2.6.2. Correlation Analysis <a name=\"correlation-analysis\"></a>"
   ]
  },
  {
   "cell_type": "code",
   "execution_count": null,
   "metadata": {},
   "outputs": [],
   "source": [
    "corrSpxVix = spx_vixLogRets.corr()"
   ]
  },
  {
   "cell_type": "code",
   "execution_count": null,
   "metadata": {},
   "outputs": [],
   "source": [
    "rollCorrSpxVix = spx_vixLogRets['SPX'].rolling(window=252).corr(spx_vixLogRets['VIX'])\n",
    "\n",
    "ax = rollCorrSpxVix.plot(figsize=(10,6), label='Rolling Correlation (252d window)')\n",
    "ax.axhline(corrSpxVix.loc['SPX','VIX'], c='r', lw=2, label='Sample Correlation')\n",
    "\n",
    "ax.set_ylabel(\"Correlation\")\n",
    "ax.legend()\n",
    "ax.set_title(\"Correlation between SPX and VIX Log-Returns\")"
   ]
  }
 ],
 "metadata": {
  "kernelspec": {
   "display_name": "Python 3",
   "language": "python",
   "name": "python3"
  },
  "language_info": {
   "codemirror_mode": {
    "name": "ipython",
    "version": 3
   },
   "file_extension": ".py",
   "mimetype": "text/x-python",
   "name": "python",
   "nbconvert_exporter": "python",
   "pygments_lexer": "ipython3",
   "version": "3.7.4"
  }
 },
 "nbformat": 4,
 "nbformat_minor": 2
}
