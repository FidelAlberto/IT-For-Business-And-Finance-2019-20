{
 "cells": [
  {
   "cell_type": "markdown",
   "metadata": {},
   "source": [
    "# Data Analysis - Introduction to Pandas"
   ]
  },
  {
   "cell_type": "markdown",
   "metadata": {},
   "source": [
    "**Author**: [Gabriele Pompa](https://www.linkedin.com/in/gabrielepompa/): gabriele.pompa@unisi.com"
   ]
  },
  {
   "cell_type": "markdown",
   "metadata": {},
   "source": [
    "# Table of contents\n",
    "\n",
    "[Executive Summary](#summary)\n",
    "\n",
    "1. [Series](#series)\\\n",
    "    1.1. [Creation: `pd.Series()` ](#s_creation)\\\n",
    "&nbsp; &nbsp; &nbsp; &nbsp; 1.1.1. [ Time indexes: `pd.date_range()` and `pd.to_datetime()`](#s_time_index)\\\n",
    "    1.2. [Basic plotting: `.plot()` and `.plot.bar()`  ](#s_plot)\\\n",
    "    1.3. [Indexing and Slicing ](#s_selection)\\\n",
    "&nbsp; &nbsp; &nbsp; &nbsp; 1.3.1. [Indexing with a list of dates using `pd.to_datetime()`](#to_datetime)   \n",
    "&nbsp; &nbsp; &nbsp; &nbsp; 1.3.2. [Conditional Selection: filtering rows with Comparison and Logical operators ](#s_conditional_selection)\\\n",
    "    1.4. [Basic Analytics ](#s_analytics)\\\n",
    "&nbsp; &nbsp; &nbsp; &nbsp; 1.4.1. [_Vectorized_ operations ](#s_basic_operations)\\\n",
    "&nbsp; &nbsp; &nbsp; &nbsp; 1.4.2. [Built-in methods ](#s_builtin_methods)\\\n",
    "&nbsp; &nbsp; &nbsp; &nbsp; 1.4.3. [Interoperability with NumPy's universal functions ](#s_ufunc)\\\n",
    "    1.5. [Data Alignment ](#s_data_alignment)\\\n",
    "    1.6. [_Excursus:_ Returns time-series  ](#s_ret)\\\n",
    "&nbsp; &nbsp; &nbsp; &nbsp; 1.6.1. [Step-by-step computation  ](#s_ret_stepbystep)\\\n",
    "&nbsp; &nbsp; &nbsp; &nbsp; 1.6.2. [Direct computation using `.shift()`  ](#s_ret_shift)\n",
    "2. [DataFrames](#DataFrame)\\\n",
    "    2.1. [Creation: `pd.DataFrame()`](#df_creation)\\\n",
    "&nbsp; &nbsp; &nbsp; &nbsp; 2.1.1. [Time indexes: `pd.date_range()` and `pd.to_datetime()`](#df_time_index)\\\n",
    "    2.2. [Basic plotting: `df.plot()` and `df.plot.bar()`](#df_plot)\\\n",
    "    2.3. [Indexing and Slicing](#df_selection)\\\n",
    "&nbsp; &nbsp; &nbsp; &nbsp; 2.3.1. [Selecting columns: `[]`](#df_selection_cols)\\\n",
    "&nbsp; &nbsp; &nbsp; &nbsp; 2.3.2. [Conditional Selection: filtering rows](#df_conditional_selection)\\\n",
    "&nbsp; &nbsp; &nbsp; &nbsp; 2.3.3. [Selecting rows with rows and columns _names_ : `.loc[]`](#df_loc)\\\n",
    "&nbsp; &nbsp; &nbsp; &nbsp; &nbsp; &nbsp; &nbsp; &nbsp; 2.3.3.1. [Single label](#df_loc_single)\\\n",
    "&nbsp; &nbsp; &nbsp; &nbsp; &nbsp; &nbsp; &nbsp; &nbsp; 2.3.3.2. [List of labels](#df_loc_list)\\\n",
    "&nbsp; &nbsp; &nbsp; &nbsp; &nbsp; &nbsp; &nbsp; &nbsp; 2.3.3.3. [Slice of labels](#df_loc_slice)\\\n",
    "&nbsp; &nbsp; &nbsp; &nbsp; &nbsp; &nbsp; &nbsp; &nbsp; 2.3.3.4. [Conditional Expression](#df_loc_conditional)\\\n",
    "&nbsp; &nbsp; &nbsp; &nbsp; &nbsp; &nbsp; &nbsp; &nbsp; 2.3.3.5. [Colon `:`](#df_loc_colon)\\\n",
    "&nbsp; &nbsp; &nbsp; &nbsp; 2.3.4. [Selecting rows with rows and columns _positional indexes_ : `.iloc[]`](#df_iloc)\\\n",
    "&nbsp; &nbsp; &nbsp; &nbsp; &nbsp; &nbsp; &nbsp; &nbsp; 2.3.4.1. [Single positional index](#df_iloc_single)\\\n",
    "&nbsp; &nbsp; &nbsp; &nbsp; &nbsp; &nbsp; &nbsp; &nbsp; 2.3.4.2. [List of positional indexes](#df_iloc_list)\\\n",
    "&nbsp; &nbsp; &nbsp; &nbsp; &nbsp; &nbsp; &nbsp; &nbsp; 2.3.4.3. [Slice of positional indexes](#df_iloc_slice)\\\n",
    "&nbsp; &nbsp; &nbsp; &nbsp; &nbsp; &nbsp; &nbsp; &nbsp; 2.3.4.4. [Conditional Expression to filter rows](#df_iloc_conditional)\\\n",
    "&nbsp; &nbsp; &nbsp; &nbsp; &nbsp; &nbsp; &nbsp; &nbsp; 2.3.4.5. [Colon `:`](#df_iloc_colon)\\\n",
    "    2.4. [Creating (and deleting) New Columns](#df_new_cols)\\\n",
    "    2.5. [Basic Analytics](#df_analytics)\\\n",
    "&nbsp; &nbsp; &nbsp; &nbsp; 2.5.1. [_Vectorized_ operations ](#df_basic_operations)\\\n",
    "&nbsp; &nbsp; &nbsp; &nbsp; 2.5.2. [Built-in methods ](#df_builtin_methods)\\\n",
    "&nbsp; &nbsp; &nbsp; &nbsp; 2.5.3. [Interoperability with NumPy's universal functions ](#df_ufunc)\\\n",
    "&nbsp; &nbsp; &nbsp; &nbsp; 2.5.4. [`.groupby()` category](#df_groupby)\\\n",
    "    2.6. [Data Alignment](#df_data_alignment)\\\n",
    "    2.7. [Combine data from multiple DataFrames](#df_data_combine)\\\n",
    "&nbsp; &nbsp; &nbsp; &nbsp; 2.7.1. [Concatenating DataFrames: `pd.concat()`](#df_data_concat)\\\n",
    "&nbsp; &nbsp; &nbsp; &nbsp; &nbsp; &nbsp; &nbsp; &nbsp; 2.7.1.1. [Vertical concatenation: `pd.concat(...[, axis=0])`](#df_data_concat_0)\\\n",
    "&nbsp; &nbsp; &nbsp; &nbsp; &nbsp; &nbsp; &nbsp; &nbsp; 2.7.1.2. [Horizontal concatenation: `pd.concat(..., axis=1)`](#df_data_concat_1)\\\n",
    "&nbsp; &nbsp; &nbsp; &nbsp; 2.7.2. [Joining DataFrames: `.join()` and `pd.merge()`](#df_data_join_and_merge)\\\n",
    "&nbsp; &nbsp; &nbsp; &nbsp; &nbsp; &nbsp; &nbsp; &nbsp; 2.7.2.1. [Index-on-index join: `df1.join(df2[,how])`](#df_data_join_ind)\\\n",
    "&nbsp; &nbsp; &nbsp; &nbsp; &nbsp; &nbsp; &nbsp; &nbsp; 2.7.2.2. [Join on Column(s): `df1.join(df2,on)` and `pd.merge(df1, df2, on)`](#df_data_join_cols)"
   ]
  },
  {
   "cell_type": "markdown",
   "metadata": {},
   "source": [
    "### **Resources**: \n",
    "\n",
    "- [_Python for Finance (2nd ed.)_](http://shop.oreilly.com/product/0636920117728.do): Sec. 5.The DataFrame Class, 5.Basic Analytics, 5.Basic Visualization, 5.The Series Class, 5.Complex Selection, 5.Concatenation, Joining, and Merging, 5.Performance Aspects.\n",
    "\n",
    "\n",
    "- _[Pandas - Intro to data structures](https://pandas.pydata.org/docs/getting_started/dsintro.html#intro-to-data-structures)_ ([Series](https://pandas.pydata.org/docs/getting_started/dsintro.html#series); [DataFrame](https://pandas.pydata.org/docs/getting_started/dsintro.html#dataframe)). From _[Pandas - Getting started tutorials](https://pandas.pydata.org/docs/getting_started/intro_tutorials/index.html):_ \n",
    "    - [What kind of data does pandas handle?](https://pandas.pydata.org/docs/getting_started/intro_tutorials/01_table_oriented.html), \n",
    "    - _[How do I select a subset of a `DataFrame`?](https://pandas.pydata.org/docs/getting_started/intro_tutorials/03_subset_data.html),_ \n",
    "    - _[How to create plots in pandas?](https://pandas.pydata.org/docs/getting_started/intro_tutorials/04_plotting.html),_ \n",
    "    - _[How to create new columns derived from existing columns](https://pandas.pydata.org/docs/getting_started/intro_tutorials/05_add_columns.html),_ \n",
    "    - _[How to calculate summary statistics?](https://pandas.pydata.org/docs/getting_started/intro_tutorials/06_calculate_statistics.html),_ \n",
    "    - _[How to combine data from multiple tables?](https://pandas.pydata.org/docs/getting_started/intro_tutorials/08_combine_dataframes.html)_"
   ]
  },
  {
   "cell_type": "markdown",
   "metadata": {},
   "source": [
    "# Executive Summary <a name=\"summary\"></a>"
   ]
  },
  {
   "cell_type": "markdown",
   "metadata": {},
   "source": [
    "Pandas is Python package providing you flexible, intuitive and powerful data-structures which allow you to work easily with spreadsheet-like relational data. Pandas defines two primary data-structures: Series and DataFrames."
   ]
  },
  {
   "cell_type": "markdown",
   "metadata": {},
   "source": [
    "**TODO**\n",
    "\n",
    "The following sections are organized as follows: \n",
    "- In Sec. [1](#intro) we provide the motivation for a more specialized data-structure to model sequences of numbers w.r.t. lists.\n",
    "- In Sec. [2](1_dim) we introduce 1-dimensional NumPy's arrays, describing their similarities with lists (indexing, slicing, ...) and their peculiarities (element-wise operations).\n",
    "- In Sec. [3](N_dim) we generalize to multi-dimensional NumPy's arrays and their smart methods and universal functions that make them a great asset for numerical analysis.\n",
    "- In Sec. [4](list_vs_arrays) we conclude comparing Lists and NumPy's arrays in terms of speed of code and efficiency."
   ]
  },
  {
   "cell_type": "code",
   "execution_count": 1,
   "metadata": {},
   "outputs": [],
   "source": [
    "# for NumPy arrays\n",
    "import numpy as np\n",
    "\n",
    "# for Pandas Series and DataFrame\n",
    "import pandas as pd\n",
    "\n",
    "# for Matplotlib plotting\n",
    "import matplotlib.pyplot as plt\n",
    "%matplotlib inline"
   ]
  },
  {
   "cell_type": "markdown",
   "metadata": {},
   "source": [
    "# 1. Pandas Series <a name=\"series\"></a>"
   ]
  },
  {
   "cell_type": "markdown",
   "metadata": {},
   "source": [
    "A [Pandas Series](https://pandas.pydata.org/docs/getting_started/dsintro.html#series) is a one-dimensional labeled array capable of holding any data type (integers, strings, floating point numbers, etc.). "
   ]
  },
  {
   "cell_type": "markdown",
   "metadata": {},
   "source": [
    "We can see it as a 1-dim NumPy array with an enhanced indexing. "
   ]
  },
  {
   "cell_type": "markdown",
   "metadata": {},
   "source": [
    "# 2. Creation: `pd.Series()` <a name=\"s_creation\"></a>"
   ]
  },
  {
   "cell_type": "markdown",
   "metadata": {},
   "source": [
    "Series can be created using the constructor:\n",
    "\n",
    "`\n",
    "pd.Series(data[, index, name])\n",
    "`\n",
    "\n",
    "where:\n",
    "- `data`: is the data content of the series. It can be a Python dict, a NumPy 1-dim array or a scalar value (like 17).\n",
    "\n",
    "- `index`: (optional) is the index of the series. It can be an array-like structure (e.g. a list) of the length of `data`. If not provided, default is `[0,1,...,len(data)-1]`.\n",
    "\n",
    "- `name`: (optional) is a `str` representing the name of the series."
   ]
  },
  {
   "cell_type": "markdown",
   "metadata": {},
   "source": [
    "Here we consider the creation of a Pandas series from a NumPy array. We refer to [Intro to data structures - Series](https://pandas.pydata.org/docs/getting_started/dsintro.html#series) for other creational paradigms and full details."
   ]
  },
  {
   "cell_type": "markdown",
   "metadata": {},
   "source": [
    "So, let's define a simple vector"
   ]
  },
  {
   "cell_type": "code",
   "execution_count": 2,
   "metadata": {},
   "outputs": [
    {
     "data": {
      "text/plain": [
       "array([0. , 0.1, 0.2, 0.3, 0.4, 0.5, 0.6, 0.7, 0.8, 0.9, 1. ])"
      ]
     },
     "execution_count": 2,
     "metadata": {},
     "output_type": "execute_result"
    }
   ],
   "source": [
    "arr = np.linspace(0.0, 1.0, 11)\n",
    "arr"
   ]
  },
  {
   "cell_type": "markdown",
   "metadata": {},
   "source": [
    "we pass the vector `arr` as the `data` parameter of `pd.Series()`"
   ]
  },
  {
   "cell_type": "code",
   "execution_count": 3,
   "metadata": {},
   "outputs": [
    {
     "data": {
      "text/plain": [
       "0     0.0\n",
       "1     0.1\n",
       "2     0.2\n",
       "3     0.3\n",
       "4     0.4\n",
       "5     0.5\n",
       "6     0.6\n",
       "7     0.7\n",
       "8     0.8\n",
       "9     0.9\n",
       "10    1.0\n",
       "dtype: float64"
      ]
     },
     "execution_count": 3,
     "metadata": {},
     "output_type": "execute_result"
    }
   ],
   "source": [
    "s = pd.Series(data=arr)\n",
    "s"
   ]
  },
  {
   "cell_type": "markdown",
   "metadata": {},
   "source": [
    "The function `pd.Series()` returns a Pandas series object. Each element `0.0, 0.1, ..., 1.0` is linked to its corresponding index. Notice that the `index` which is generated by default (since we didn't provide one explicitly) is `0, 1,..., 10 = len(arr)-1`."
   ]
  },
  {
   "cell_type": "code",
   "execution_count": 4,
   "metadata": {},
   "outputs": [
    {
     "data": {
      "text/plain": [
       "pandas.core.series.Series"
      ]
     },
     "execution_count": 4,
     "metadata": {},
     "output_type": "execute_result"
    }
   ],
   "source": [
    "type(s)"
   ]
  },
  {
   "cell_type": "markdown",
   "metadata": {},
   "source": [
    "Notice that the explicit assignment `data=arr` is optional and equivalent to `pd.Series(arr)`."
   ]
  },
  {
   "cell_type": "markdown",
   "metadata": {},
   "source": [
    "Similarly to NumPy arrays, Pandas series also have meta-informative attributes. Let's have a look at some of them."
   ]
  },
  {
   "cell_type": "markdown",
   "metadata": {},
   "source": [
    "Similarly to NumPy arrays, the number of elements is given by"
   ]
  },
  {
   "cell_type": "code",
   "execution_count": 5,
   "metadata": {},
   "outputs": [
    {
     "data": {
      "text/plain": [
       "11"
      ]
     },
     "execution_count": 5,
     "metadata": {},
     "output_type": "execute_result"
    }
   ],
   "source": [
    "s.size"
   ]
  },
  {
   "cell_type": "markdown",
   "metadata": {},
   "source": [
    "the data-type of the `data` stored"
   ]
  },
  {
   "cell_type": "code",
   "execution_count": 6,
   "metadata": {},
   "outputs": [
    {
     "data": {
      "text/plain": [
       "dtype('float64')"
      ]
     },
     "execution_count": 6,
     "metadata": {},
     "output_type": "execute_result"
    }
   ],
   "source": [
    "s.dtype"
   ]
  },
  {
   "cell_type": "markdown",
   "metadata": {},
   "source": [
    "and, differently from arrays, you can directly access the index sequence:"
   ]
  },
  {
   "cell_type": "code",
   "execution_count": 7,
   "metadata": {},
   "outputs": [
    {
     "data": {
      "text/plain": [
       "RangeIndex(start=0, stop=11, step=1)"
      ]
     },
     "execution_count": 7,
     "metadata": {},
     "output_type": "execute_result"
    }
   ],
   "source": [
    "s.index"
   ]
  },
  {
   "cell_type": "markdown",
   "metadata": {},
   "source": [
    "`RangeIndex` is the kind of `[0,1,...,len(data)-1]` index which Pandas creates by default when you don't input one explicitly."
   ]
  },
  {
   "cell_type": "markdown",
   "metadata": {},
   "source": [
    "You can give a name to the series, which is stored in the `.name` attribute of the series"
   ]
  },
  {
   "cell_type": "code",
   "execution_count": 8,
   "metadata": {
    "scrolled": true
   },
   "outputs": [
    {
     "data": {
      "text/plain": [
       "0     0.0\n",
       "1     0.1\n",
       "2     0.2\n",
       "3     0.3\n",
       "4     0.4\n",
       "5     0.5\n",
       "6     0.6\n",
       "7     0.7\n",
       "8     0.8\n",
       "9     0.9\n",
       "10    1.0\n",
       "Name: Dummy Series, dtype: float64"
      ]
     },
     "execution_count": 8,
     "metadata": {},
     "output_type": "execute_result"
    }
   ],
   "source": [
    "s.name = \"Dummy Series\"\n",
    "s"
   ]
  },
  {
   "cell_type": "markdown",
   "metadata": {},
   "source": [
    "If you want just the values (without the indexing) - that is, the original NumPy `arr` in our case - these can be accessed through the `.values` attribute"
   ]
  },
  {
   "cell_type": "code",
   "execution_count": 9,
   "metadata": {},
   "outputs": [
    {
     "data": {
      "text/plain": [
       "array([0. , 0.1, 0.2, 0.3, 0.4, 0.5, 0.6, 0.7, 0.8, 0.9, 1. ])"
      ]
     },
     "execution_count": 9,
     "metadata": {},
     "output_type": "execute_result"
    }
   ],
   "source": [
    "s.values"
   ]
  },
  {
   "cell_type": "markdown",
   "metadata": {},
   "source": [
    "## 2.1. Time indexes: `pd.date_range()` and `pd.to_datetime()`  <a name=\"s_time_index\"></a>"
   ]
  },
  {
   "cell_type": "markdown",
   "metadata": {},
   "source": [
    "Pandas series are the usual way to represent financial (and non-financial) time-series, which are sequences of values (prices, returns, spreads,...) indexed by a time index (calendar days, business days, etc.). "
   ]
  },
  {
   "cell_type": "markdown",
   "metadata": {},
   "source": [
    "Pandas has a built-in constructor for time-indexes, which is `pd.date_range()`, which can be passed as the `index` parameter to `pd.Series()`."
   ]
  },
  {
   "cell_type": "markdown",
   "metadata": {},
   "source": [
    "Here we create a range of business days (denoted by the _frequency_ `freq='B'`) starting from Jan 1st 2020. The range lasts a number of `periods` equal to the size of the number of data that we need to index (`arr.size`)"
   ]
  },
  {
   "cell_type": "code",
   "execution_count": 10,
   "metadata": {},
   "outputs": [
    {
     "data": {
      "text/plain": [
       "DatetimeIndex(['2020-01-01', '2020-01-02', '2020-01-03', '2020-01-06',\n",
       "               '2020-01-07', '2020-01-08', '2020-01-09', '2020-01-10',\n",
       "               '2020-01-13', '2020-01-14', '2020-01-15'],\n",
       "              dtype='datetime64[ns]', freq='B')"
      ]
     },
     "execution_count": 10,
     "metadata": {},
     "output_type": "execute_result"
    }
   ],
   "source": [
    "dates = pd.date_range('2020-01-01', periods=arr.size, freq='B') \n",
    "dates"
   ]
  },
  {
   "cell_type": "markdown",
   "metadata": {},
   "source": [
    "The kind of time-index that is returned is called a `DatetimeIndex`. As said, we can use the defined index in the series definition"
   ]
  },
  {
   "cell_type": "code",
   "execution_count": 11,
   "metadata": {},
   "outputs": [
    {
     "data": {
      "text/plain": [
       "2020-01-01    0.0\n",
       "2020-01-02    0.1\n",
       "2020-01-03    0.2\n",
       "2020-01-06    0.3\n",
       "2020-01-07    0.4\n",
       "2020-01-08    0.5\n",
       "2020-01-09    0.6\n",
       "2020-01-10    0.7\n",
       "2020-01-13    0.8\n",
       "2020-01-14    0.9\n",
       "2020-01-15    1.0\n",
       "Freq: B, Name: Dummy Series, dtype: float64"
      ]
     },
     "execution_count": 11,
     "metadata": {},
     "output_type": "execute_result"
    }
   ],
   "source": [
    "s = pd.Series(data=arr, index=dates, name=\"Dummy Series\")\n",
    "s"
   ]
  },
  {
   "cell_type": "markdown",
   "metadata": {},
   "source": [
    "as seen before, the index is stored as the `.index` attribute of the series"
   ]
  },
  {
   "cell_type": "code",
   "execution_count": 12,
   "metadata": {},
   "outputs": [
    {
     "data": {
      "text/plain": [
       "DatetimeIndex(['2020-01-01', '2020-01-02', '2020-01-03', '2020-01-06',\n",
       "               '2020-01-07', '2020-01-08', '2020-01-09', '2020-01-10',\n",
       "               '2020-01-13', '2020-01-14', '2020-01-15'],\n",
       "              dtype='datetime64[ns]', freq='B')"
      ]
     },
     "execution_count": 12,
     "metadata": {},
     "output_type": "execute_result"
    }
   ],
   "source": [
    "s.index"
   ]
  },
  {
   "cell_type": "markdown",
   "metadata": {},
   "source": [
    "Now another function, which is appropriate to describe here, that will be useful in the indexing of a Series indexed by dates: `pd.to_datetime()`."
   ]
  },
  {
   "cell_type": "markdown",
   "metadata": {},
   "source": [
    "Function `pd.to_datetime()` can take in input a list of strings representing dates and transform it in a `DatetimeIndex`, which can then be used to index a series and to access to specific rows (see later section). "
   ]
  },
  {
   "cell_type": "code",
   "execution_count": 13,
   "metadata": {},
   "outputs": [
    {
     "data": {
      "text/plain": [
       "DatetimeIndex(['2020-01-01', '2020-01-13', '2020-01-15'], dtype='datetime64[ns]', freq=None)"
      ]
     },
     "execution_count": 13,
     "metadata": {},
     "output_type": "execute_result"
    }
   ],
   "source": [
    "listOfDatesStr = ['2020-01-01', '2020-01-13', '2020-01-15']\n",
    "pd.to_datetime(listOfDatesStr)"
   ]
  },
  {
   "cell_type": "code",
   "execution_count": 14,
   "metadata": {},
   "outputs": [
    {
     "data": {
      "text/plain": [
       "2020-01-01    0\n",
       "2020-01-13    3\n",
       "2020-01-15    4\n",
       "Name: pd.to_datetime() example series, dtype: int64"
      ]
     },
     "execution_count": 14,
     "metadata": {},
     "output_type": "execute_result"
    }
   ],
   "source": [
    "s_other = pd.Series(data=[0, 3, 4], \n",
    "                    index=pd.to_datetime(listOfDatesStr), \n",
    "                    name=\"pd.to_datetime() example series\")\n",
    "s_other"
   ]
  },
  {
   "cell_type": "markdown",
   "metadata": {},
   "source": [
    "# 3. Basic plotting: `.plot()` and `.plot.bar()`  <a name=\"s_plot\"></a>"
   ]
  },
  {
   "cell_type": "markdown",
   "metadata": {},
   "source": [
    "Plotting Series is as easy as it could be"
   ]
  },
  {
   "cell_type": "code",
   "execution_count": 15,
   "metadata": {},
   "outputs": [
    {
     "data": {
      "text/plain": [
       "2020-01-01    0.0\n",
       "2020-01-02    0.1\n",
       "2020-01-03    0.2\n",
       "2020-01-06    0.3\n",
       "2020-01-07    0.4\n",
       "2020-01-08    0.5\n",
       "2020-01-09    0.6\n",
       "2020-01-10    0.7\n",
       "2020-01-13    0.8\n",
       "2020-01-14    0.9\n",
       "2020-01-15    1.0\n",
       "Freq: B, Name: Dummy Series, dtype: float64"
      ]
     },
     "execution_count": 15,
     "metadata": {},
     "output_type": "execute_result"
    }
   ],
   "source": [
    "s"
   ]
  },
  {
   "cell_type": "code",
   "execution_count": 16,
   "metadata": {},
   "outputs": [
    {
     "data": {
      "text/plain": [
       "<matplotlib.axes._subplots.AxesSubplot at 0x25d1be539c8>"
      ]
     },
     "execution_count": 16,
     "metadata": {},
     "output_type": "execute_result"
    },
    {
     "data": {
      "image/png": "[encoded data removed]",
      "text/plain": [
       "<Figure size 432x288 with 1 Axes>"
      ]
     },
     "metadata": {
      "needs_background": "light"
     },
     "output_type": "display_data"
    }
   ],
   "source": [
    "s.plot()"
   ]
  },
  {
   "cell_type": "markdown",
   "metadata": {},
   "source": [
    "Besides the standard `.plot()`, there are tons of different [plotting styles](https://pandas.pydata.org/pandas-docs/stable/user_guide/visualization.html) which can be called directly as a suffix of `.plot`. For example, a simple bar-plot of the series `s` can be drawn as"
   ]
  },
  {
   "cell_type": "code",
   "execution_count": 17,
   "metadata": {},
   "outputs": [
    {
     "data": {
      "text/plain": [
       "<matplotlib.axes._subplots.AxesSubplot at 0x25d1c1b8688>"
      ]
     },
     "execution_count": 17,
     "metadata": {},
     "output_type": "execute_result"
    },
    {
     "data": {
      "image/png": "[encoded data removed]",
      "text/plain": [
       "<Figure size 432x288 with 1 Axes>"
      ]
     },
     "metadata": {
      "needs_background": "light"
     },
     "output_type": "display_data"
    }
   ],
   "source": [
    "s.plot.bar()"
   ]
  },
  {
   "cell_type": "markdown",
   "metadata": {},
   "source": [
    "# 4. Indexing and Slicing <a name=\"s_selection\"></a>"
   ]
  },
  {
   "cell_type": "markdown",
   "metadata": {},
   "source": [
    "Elements of a Pandas Series `s` can be accessed using the square brackets `[]` access operator as `s[]`. You can refer to elements or slices of the series according to the following ways of indexing:\n",
    "\n",
    "&nbsp;  | Indexing | Slicing\n",
    ":---: | :---: | :---:\n",
    "like a NumPy array  | `s[i]` | `s[i:j:k]`  |\n",
    "(example) | `s[2]` | `s[1:3:2]`  |\n",
    "like a Python dict  | `s[indexLabel]` | `s[indexLabelStart:indexLabelEnd:k]`  |\n",
    "(example)  | `s['2020-01-01']` | `s['2020-01-01':'2020-01-07':2]`  |\n",
    "\n",
    "or you can also pack together numeric indexes or index-labels in lists and get specific rows in output:\n",
    "\n",
    "&nbsp;  | syntax | example\n",
    ":--- | :---: | :---:\n",
    "with list of indexes | `s[[listOfNumericIndexes]]` | `s[[0,1,3]]`  |\n",
    "with list of index labels | `s[[listOfIndexLabels]]` | `s[['a', 'c', 'd']]`  |\n",
    "with list of dates labels| `s[pd.to_datetime([listOfDatesStr])]` | `s[pd.to_datetime(['2020-01-01', '2020-01-05'])]`  |\n",
    "\n",
    "Notice that for index labels which are dates strings, you have to use `pd.to_datetime()` to make them interpretable as valid (`DatetimeIndex`) indexes"
   ]
  },
  {
   "cell_type": "code",
   "execution_count": 18,
   "metadata": {},
   "outputs": [
    {
     "data": {
      "text/plain": [
       "2020-01-01    0.0\n",
       "2020-01-02    0.1\n",
       "2020-01-03    0.2\n",
       "2020-01-06    0.3\n",
       "2020-01-07    0.4\n",
       "2020-01-08    0.5\n",
       "2020-01-09    0.6\n",
       "2020-01-10    0.7\n",
       "2020-01-13    0.8\n",
       "2020-01-14    0.9\n",
       "2020-01-15    1.0\n",
       "Freq: B, Name: Dummy Series, dtype: float64"
      ]
     },
     "execution_count": 18,
     "metadata": {},
     "output_type": "execute_result"
    }
   ],
   "source": [
    "s"
   ]
  },
  {
   "cell_type": "markdown",
   "metadata": {},
   "source": [
    "You can rever to the second element as "
   ]
  },
  {
   "cell_type": "code",
   "execution_count": 19,
   "metadata": {},
   "outputs": [
    {
     "data": {
      "text/plain": [
       "0.1"
      ]
     },
     "execution_count": 19,
     "metadata": {},
     "output_type": "execute_result"
    }
   ],
   "source": [
    "s[1]"
   ]
  },
  {
   "cell_type": "markdown",
   "metadata": {},
   "source": [
    "A single value is returned."
   ]
  },
  {
   "cell_type": "markdown",
   "metadata": {},
   "source": [
    "You can then slice the series as "
   ]
  },
  {
   "cell_type": "code",
   "execution_count": 20,
   "metadata": {},
   "outputs": [
    {
     "data": {
      "text/plain": [
       "2020-01-10    0.7\n",
       "2020-01-13    0.8\n",
       "2020-01-14    0.9\n",
       "2020-01-15    1.0\n",
       "Freq: B, Name: Dummy Series, dtype: float64"
      ]
     },
     "execution_count": 20,
     "metadata": {},
     "output_type": "execute_result"
    }
   ],
   "source": [
    "s[7:]"
   ]
  },
  {
   "cell_type": "markdown",
   "metadata": {},
   "source": [
    "and a `pd.Series` is returned. Notice that the index gets sliced too."
   ]
  },
  {
   "cell_type": "markdown",
   "metadata": {},
   "source": [
    "An example with the step parameter"
   ]
  },
  {
   "cell_type": "code",
   "execution_count": 21,
   "metadata": {},
   "outputs": [
    {
     "data": {
      "text/plain": [
       "2020-01-10    0.7\n",
       "2020-01-14    0.9\n",
       "Freq: 2B, Name: Dummy Series, dtype: float64"
      ]
     },
     "execution_count": 21,
     "metadata": {},
     "output_type": "execute_result"
    }
   ],
   "source": [
    "s[7::2] # from index 7 to the end, each two elements"
   ]
  },
  {
   "cell_type": "markdown",
   "metadata": {},
   "source": [
    "Notice here, how the `Freq` description gets changed from 'B' (business-day) to '2B' (each two bd)."
   ]
  },
  {
   "cell_type": "markdown",
   "metadata": {},
   "source": [
    "You can also use a list of numeric indexes to select some rows:"
   ]
  },
  {
   "cell_type": "code",
   "execution_count": 22,
   "metadata": {},
   "outputs": [
    {
     "data": {
      "text/plain": [
       "2020-01-01    0.0\n",
       "2020-01-02    0.1\n",
       "2020-01-06    0.3\n",
       "2020-01-08    0.5\n",
       "Name: Dummy Series, dtype: float64"
      ]
     },
     "execution_count": 22,
     "metadata": {},
     "output_type": "execute_result"
    }
   ],
   "source": [
    "s[[0,1,3,5]]"
   ]
  },
  {
   "cell_type": "markdown",
   "metadata": {},
   "source": [
    "Notices the double square brackets `[[...]]`. The innermost defines the list (e.g. `[0,1,3,5]`), whereas the outermost is the access operator `[]`."
   ]
  },
  {
   "cell_type": "markdown",
   "metadata": {},
   "source": [
    "Alternatively, you can slice `s` using the Strings that represent the labels `indexLabel` of the indexes. That is, as if the series was a dict and the index labels the  keys"
   ]
  },
  {
   "cell_type": "code",
   "execution_count": 23,
   "metadata": {},
   "outputs": [
    {
     "data": {
      "text/plain": [
       "0.5"
      ]
     },
     "execution_count": 23,
     "metadata": {},
     "output_type": "execute_result"
    }
   ],
   "source": [
    "s['2020-01-08']"
   ]
  },
  {
   "cell_type": "markdown",
   "metadata": {},
   "source": [
    "and you can slice too using the index labels"
   ]
  },
  {
   "cell_type": "code",
   "execution_count": 24,
   "metadata": {},
   "outputs": [
    {
     "data": {
      "text/plain": [
       "2020-01-08    0.5\n",
       "2020-01-09    0.6\n",
       "2020-01-10    0.7\n",
       "2020-01-13    0.8\n",
       "Freq: B, Name: Dummy Series, dtype: float64"
      ]
     },
     "execution_count": 24,
     "metadata": {},
     "output_type": "execute_result"
    }
   ],
   "source": [
    "s['2020-01-08':'2020-01-13']"
   ]
  },
  {
   "cell_type": "markdown",
   "metadata": {},
   "source": [
    "You can use the step parameter in the label-way of indexing too (notice the '2B' frequency as before)"
   ]
  },
  {
   "cell_type": "code",
   "execution_count": 25,
   "metadata": {},
   "outputs": [
    {
     "data": {
      "text/plain": [
       "2020-01-08    0.5\n",
       "2020-01-10    0.7\n",
       "Freq: 2B, Name: Dummy Series, dtype: float64"
      ]
     },
     "execution_count": 25,
     "metadata": {},
     "output_type": "execute_result"
    }
   ],
   "source": [
    "s['2020-01-08':'2020-01-13':2]"
   ]
  },
  {
   "cell_type": "markdown",
   "metadata": {},
   "source": [
    "Similarly to Python dicts, you can check whether an index is among the series indexes simply"
   ]
  },
  {
   "cell_type": "code",
   "execution_count": 26,
   "metadata": {},
   "outputs": [
    {
     "data": {
      "text/plain": [
       "False"
      ]
     },
     "execution_count": 26,
     "metadata": {},
     "output_type": "execute_result"
    }
   ],
   "source": [
    "'2020-01-12' in s"
   ]
  },
  {
   "cell_type": "markdown",
   "metadata": {},
   "source": [
    "as one would expect a `KeyError` is raised if you try to select an element of the series using a label which is not an index"
   ]
  },
  {
   "cell_type": "code",
   "execution_count": 27,
   "metadata": {},
   "outputs": [],
   "source": [
    "# KeyError raised if you ask for a label that is not contained\n",
    "# s['2020-01-12']"
   ]
  },
  {
   "cell_type": "markdown",
   "metadata": {},
   "source": [
    "whereas if you use a label which is not an index in to slice the series - but that still is time-range of the `DatetimeIndex` index - well Pandas is smart enough to return you the relevant slice of the series anyway."
   ]
  },
  {
   "cell_type": "markdown",
   "metadata": {},
   "source": [
    "That is, this"
   ]
  },
  {
   "cell_type": "code",
   "execution_count": 28,
   "metadata": {},
   "outputs": [
    {
     "data": {
      "text/plain": [
       "2020-01-13    0.8\n",
       "2020-01-14    0.9\n",
       "2020-01-15    1.0\n",
       "Freq: B, Name: Dummy Series, dtype: float64"
      ]
     },
     "execution_count": 28,
     "metadata": {},
     "output_type": "execute_result"
    }
   ],
   "source": [
    "s['2020-01-12':]"
   ]
  },
  {
   "cell_type": "markdown",
   "metadata": {},
   "source": [
    "is equivalent to this"
   ]
  },
  {
   "cell_type": "code",
   "execution_count": 29,
   "metadata": {},
   "outputs": [
    {
     "data": {
      "text/plain": [
       "2020-01-13    0.8\n",
       "2020-01-14    0.9\n",
       "2020-01-15    1.0\n",
       "Freq: B, Name: Dummy Series, dtype: float64"
      ]
     },
     "execution_count": 29,
     "metadata": {},
     "output_type": "execute_result"
    }
   ],
   "source": [
    "s['2020-01-13':]"
   ]
  },
  {
   "cell_type": "markdown",
   "metadata": {},
   "source": [
    "## 4.1.Indexing with a list of dates using `pd.to_datetime()` <a name=\"to_datetime\"></a>"
   ]
  },
  {
   "cell_type": "markdown",
   "metadata": {},
   "source": [
    "If you want to select just a few rows according to their dates labels, you can do it using `pd.to_datetime()` which makes the list of dates string interpretable as a valid indexer for the series"
   ]
  },
  {
   "cell_type": "code",
   "execution_count": 30,
   "metadata": {},
   "outputs": [
    {
     "data": {
      "text/plain": [
       "2020-01-01    0.0\n",
       "2020-01-02    0.1\n",
       "2020-01-03    0.2\n",
       "2020-01-06    0.3\n",
       "2020-01-07    0.4\n",
       "2020-01-08    0.5\n",
       "2020-01-09    0.6\n",
       "2020-01-10    0.7\n",
       "2020-01-13    0.8\n",
       "2020-01-14    0.9\n",
       "2020-01-15    1.0\n",
       "Freq: B, Name: Dummy Series, dtype: float64"
      ]
     },
     "execution_count": 30,
     "metadata": {},
     "output_type": "execute_result"
    }
   ],
   "source": [
    "s"
   ]
  },
  {
   "cell_type": "code",
   "execution_count": 31,
   "metadata": {},
   "outputs": [
    {
     "data": {
      "text/plain": [
       "DatetimeIndex(['2020-01-01', '2020-01-13', '2020-01-15'], dtype='datetime64[ns]', freq=None)"
      ]
     },
     "execution_count": 31,
     "metadata": {},
     "output_type": "execute_result"
    }
   ],
   "source": [
    "pd.to_datetime(['2020-01-01', '2020-01-13', '2020-01-15'])"
   ]
  },
  {
   "cell_type": "code",
   "execution_count": 32,
   "metadata": {},
   "outputs": [
    {
     "data": {
      "text/plain": [
       "2020-01-01    0.0\n",
       "2020-01-13    0.8\n",
       "2020-01-15    1.0\n",
       "Name: Dummy Series, dtype: float64"
      ]
     },
     "execution_count": 32,
     "metadata": {},
     "output_type": "execute_result"
    }
   ],
   "source": [
    "s[pd.to_datetime(['2020-01-01', '2020-01-13', '2020-01-15'])]"
   ]
  },
  {
   "cell_type": "markdown",
   "metadata": {},
   "source": [
    "In particular, notice that if you input raw dates strings in the series like\n",
    "\n",
    "```python\n",
    "s[['2020-01-01', '2020-01-13', '2020-01-15']]\n",
    "```\n",
    " \n",
    "this will raise a `KeyError` because Pandas tries to look for raw strings among the indexes, whereas what you actually meant were dates... "
   ]
  },
  {
   "cell_type": "code",
   "execution_count": 33,
   "metadata": {},
   "outputs": [],
   "source": [
    "# raises KeyError\n",
    "#\n",
    "# s[['2020-01-01', '2020-01-13', '2020-01-15']]"
   ]
  },
  {
   "cell_type": "markdown",
   "metadata": {},
   "source": [
    "**Take-home message**: when your series is indexed by dates (a `DatetimeIndex` index) and you want to select a few rows using a list of dates strings, like: \n",
    "```python\n",
    "['2020-01-01', '2020-01-13',...]\n",
    "```\n",
    "just remember to convert them first through `pd.to_datetime()`, like \n",
    "```python \n",
    "pd.to_datetime(['2020-01-01', '2020-01-13',...])\n",
    "```\n",
    "and then use to access rows of the series, like\n",
    "```python\n",
    "s[pd.to_datetime(['2020-01-01', '2020-01-13',...])]\n",
    "```"
   ]
  },
  {
   "cell_type": "markdown",
   "metadata": {},
   "source": [
    "_En passant,_ notice that if your Series is simply indexed by raw strings, then you really can use them in a list indexing straight away. Quick example:"
   ]
  },
  {
   "cell_type": "code",
   "execution_count": 34,
   "metadata": {},
   "outputs": [
    {
     "data": {
      "text/plain": [
       "a    1\n",
       "b    3\n",
       "c    5\n",
       "d    7\n",
       "e    9\n",
       "Name: Series indexed with raw strings, dtype: int64"
      ]
     },
     "execution_count": 34,
     "metadata": {},
     "output_type": "execute_result"
    }
   ],
   "source": [
    "s_other = pd.Series(data=[1,3,5,7,9],\n",
    "                    index=['a', 'b', 'c', 'd', 'e'],\n",
    "                    name=\"Series indexed with raw strings\")\n",
    "\n",
    "s_other"
   ]
  },
  {
   "cell_type": "code",
   "execution_count": 35,
   "metadata": {},
   "outputs": [
    {
     "data": {
      "text/plain": [
       "a    1\n",
       "c    5\n",
       "d    7\n",
       "Name: Series indexed with raw strings, dtype: int64"
      ]
     },
     "execution_count": 35,
     "metadata": {},
     "output_type": "execute_result"
    }
   ],
   "source": [
    "s_other[['a', 'c', 'd']]"
   ]
  },
  {
   "cell_type": "markdown",
   "metadata": {},
   "source": [
    "## 4.2. Conditional Selection: filtering rows with Comparison and Logical operators <a name=\"s_conditional_selection\"></a>"
   ]
  },
  {
   "cell_type": "markdown",
   "metadata": {},
   "source": [
    "Comparison (`<`, `<=`, `>`, `>=`, `==`) and logical operators (`&` for logical _and,_ `|` for logical _or,_ `!` for logical _not_ ) work on whole series at once. For example:"
   ]
  },
  {
   "cell_type": "code",
   "execution_count": 36,
   "metadata": {},
   "outputs": [
    {
     "data": {
      "text/plain": [
       "2020-01-01    0.0\n",
       "2020-01-02    0.1\n",
       "2020-01-03    0.2\n",
       "2020-01-06    0.3\n",
       "2020-01-07    0.4\n",
       "2020-01-08    0.5\n",
       "2020-01-09    0.6\n",
       "2020-01-10    0.7\n",
       "2020-01-13    0.8\n",
       "2020-01-14    0.9\n",
       "2020-01-15    1.0\n",
       "Freq: B, Name: Dummy Series, dtype: float64"
      ]
     },
     "execution_count": 36,
     "metadata": {},
     "output_type": "execute_result"
    }
   ],
   "source": [
    "s"
   ]
  },
  {
   "cell_type": "markdown",
   "metadata": {},
   "source": [
    "we can select the elements greater than a given threshold (0.5)"
   ]
  },
  {
   "cell_type": "code",
   "execution_count": 37,
   "metadata": {},
   "outputs": [
    {
     "data": {
      "text/plain": [
       "2020-01-01    False\n",
       "2020-01-02    False\n",
       "2020-01-03    False\n",
       "2020-01-06    False\n",
       "2020-01-07    False\n",
       "2020-01-08    False\n",
       "2020-01-09     True\n",
       "2020-01-10     True\n",
       "2020-01-13     True\n",
       "2020-01-14     True\n",
       "2020-01-15     True\n",
       "Freq: B, Name: Dummy Series, dtype: bool"
      ]
     },
     "execution_count": 37,
     "metadata": {},
     "output_type": "execute_result"
    }
   ],
   "source": [
    "s > 0.5"
   ]
  },
  {
   "cell_type": "markdown",
   "metadata": {},
   "source": [
    "which returns the same series with original values substituted by boolean values, which can be used for index purposes:"
   ]
  },
  {
   "cell_type": "code",
   "execution_count": 38,
   "metadata": {},
   "outputs": [
    {
     "data": {
      "text/plain": [
       "2020-01-09    0.6\n",
       "2020-01-10    0.7\n",
       "2020-01-13    0.8\n",
       "2020-01-14    0.9\n",
       "2020-01-15    1.0\n",
       "Freq: B, Name: Dummy Series, dtype: float64"
      ]
     },
     "execution_count": 38,
     "metadata": {},
     "output_type": "execute_result"
    }
   ],
   "source": [
    "s[s > 0.5]"
   ]
  },
  {
   "cell_type": "markdown",
   "metadata": {},
   "source": [
    "Of course you can have also more complex conditional selections selections: let's ask for the slice of the series which is at most 0.2 and greater than 0.5"
   ]
  },
  {
   "cell_type": "code",
   "execution_count": 39,
   "metadata": {},
   "outputs": [
    {
     "data": {
      "text/plain": [
       "2020-01-01    0.0\n",
       "2020-01-02    0.1\n",
       "2020-01-03    0.2\n",
       "2020-01-09    0.6\n",
       "2020-01-10    0.7\n",
       "2020-01-13    0.8\n",
       "2020-01-14    0.9\n",
       "2020-01-15    1.0\n",
       "Name: Dummy Series, dtype: float64"
      ]
     },
     "execution_count": 39,
     "metadata": {},
     "output_type": "execute_result"
    }
   ],
   "source": [
    "s[(s <= 0.2) | (s > 0.5)]"
   ]
  },
  {
   "cell_type": "markdown",
   "metadata": {},
   "source": [
    "# 5. Basic Analytics <a name=\"s_analytics\"></a>"
   ]
  },
  {
   "cell_type": "markdown",
   "metadata": {},
   "source": [
    "When working with raw NumPy arrays, looping through value-by-value is usually not necessary. The same is true when working with Series in pandas. Series can also be passed into most NumPy methods expecting an ndarray."
   ]
  },
  {
   "cell_type": "markdown",
   "metadata": {},
   "source": [
    "## 5.1. _Vectorized_ operations <a name=\"s_basic_operations\"></a>"
   ]
  },
  {
   "cell_type": "markdown",
   "metadata": {},
   "source": [
    "Series-Number and Series-Series operations are vectorized:"
   ]
  },
  {
   "cell_type": "code",
   "execution_count": 40,
   "metadata": {},
   "outputs": [
    {
     "data": {
      "text/plain": [
       "2020-01-01    0.0\n",
       "2020-01-02    0.2\n",
       "2020-01-03    0.4\n",
       "2020-01-06    0.6\n",
       "2020-01-07    0.8\n",
       "2020-01-08    1.0\n",
       "2020-01-09    1.2\n",
       "2020-01-10    1.4\n",
       "2020-01-13    1.6\n",
       "2020-01-14    1.8\n",
       "2020-01-15    2.0\n",
       "Freq: B, Name: Dummy Series, dtype: float64"
      ]
     },
     "execution_count": 40,
     "metadata": {},
     "output_type": "execute_result"
    }
   ],
   "source": [
    "s * 2"
   ]
  },
  {
   "cell_type": "code",
   "execution_count": 41,
   "metadata": {},
   "outputs": [
    {
     "data": {
      "text/plain": [
       "2020-01-01     0.0\n",
       "2020-01-02     1.1\n",
       "2020-01-03     2.2\n",
       "2020-01-06     3.3\n",
       "2020-01-07     4.4\n",
       "2020-01-08     5.5\n",
       "2020-01-09     6.6\n",
       "2020-01-10     7.7\n",
       "2020-01-13     8.8\n",
       "2020-01-14     9.9\n",
       "2020-01-15    11.0\n",
       "Freq: B, Name: Dummy Series, dtype: float64"
      ]
     },
     "execution_count": 41,
     "metadata": {},
     "output_type": "execute_result"
    }
   ],
   "source": [
    "s + 10*s"
   ]
  },
  {
   "cell_type": "markdown",
   "metadata": {},
   "source": [
    "## 5.2. Built-in methods <a name=\"s_builtin_methods\"></a>"
   ]
  },
  {
   "cell_type": "markdown",
   "metadata": {},
   "source": [
    "There are tons of built-in methods"
   ]
  },
  {
   "cell_type": "code",
   "execution_count": 42,
   "metadata": {},
   "outputs": [
    {
     "data": {
      "text/plain": [
       "5.500000000000001"
      ]
     },
     "execution_count": 42,
     "metadata": {},
     "output_type": "execute_result"
    }
   ],
   "source": [
    "s.sum()"
   ]
  },
  {
   "cell_type": "code",
   "execution_count": 43,
   "metadata": {},
   "outputs": [
    {
     "data": {
      "text/plain": [
       "2020-01-01    0.0\n",
       "2020-01-02    0.1\n",
       "2020-01-03    0.3\n",
       "2020-01-06    0.6\n",
       "2020-01-07    1.0\n",
       "2020-01-08    1.5\n",
       "2020-01-09    2.1\n",
       "2020-01-10    2.8\n",
       "2020-01-13    3.6\n",
       "2020-01-14    4.5\n",
       "2020-01-15    5.5\n",
       "Freq: B, Name: Dummy Series, dtype: float64"
      ]
     },
     "execution_count": 43,
     "metadata": {},
     "output_type": "execute_result"
    }
   ],
   "source": [
    "s.cumsum()"
   ]
  },
  {
   "cell_type": "markdown",
   "metadata": {},
   "source": [
    "## 5.3. Interoperability with NumPy's universal functions <a name=\"s_ufunc\"></a>"
   ]
  },
  {
   "cell_type": "markdown",
   "metadata": {},
   "source": [
    "Most of NumPy universal functions, which expect NumPy arrays in input, work with Pandas Series in input as well"
   ]
  },
  {
   "cell_type": "code",
   "execution_count": 44,
   "metadata": {},
   "outputs": [
    {
     "data": {
      "text/plain": [
       "2020-01-01    1.000000\n",
       "2020-01-02    1.105171\n",
       "2020-01-03    1.221403\n",
       "2020-01-06    1.349859\n",
       "2020-01-07    1.491825\n",
       "2020-01-08    1.648721\n",
       "2020-01-09    1.822119\n",
       "2020-01-10    2.013753\n",
       "2020-01-13    2.225541\n",
       "2020-01-14    2.459603\n",
       "2020-01-15    2.718282\n",
       "Freq: B, Name: Dummy Series, dtype: float64"
      ]
     },
     "execution_count": 44,
     "metadata": {},
     "output_type": "execute_result"
    }
   ],
   "source": [
    "np.exp(s)"
   ]
  },
  {
   "cell_type": "markdown",
   "metadata": {},
   "source": [
    "# 6. Data Alignment <a name=\"s_data_alignment\"></a>"
   ]
  },
  {
   "cell_type": "markdown",
   "metadata": {},
   "source": [
    "NumPy arrays are all indexed by the same `0,1,...,len(array)-1` indexing. As we have seen Pandas Series offer the possibility to the user to define his or her own indexing. This means that you can have two series which are _unaligned_. For example:"
   ]
  },
  {
   "cell_type": "code",
   "execution_count": 45,
   "metadata": {},
   "outputs": [
    {
     "data": {
      "text/plain": [
       "2020-01-01    0.0\n",
       "2020-01-02    0.1\n",
       "2020-01-03    0.2\n",
       "2020-01-06    0.3\n",
       "2020-01-07    0.4\n",
       "2020-01-08    0.5\n",
       "2020-01-09    0.6\n",
       "2020-01-10    0.7\n",
       "2020-01-13    0.8\n",
       "2020-01-14    0.9\n",
       "2020-01-15    1.0\n",
       "Freq: B, Name: Dummy Series, dtype: float64"
      ]
     },
     "execution_count": 45,
     "metadata": {},
     "output_type": "execute_result"
    }
   ],
   "source": [
    "s"
   ]
  },
  {
   "cell_type": "code",
   "execution_count": 46,
   "metadata": {},
   "outputs": [
    {
     "data": {
      "text/plain": [
       "2020-01-01    0.0\n",
       "2020-01-02    0.1\n",
       "2020-01-03    0.2\n",
       "2020-01-06    0.3\n",
       "2020-01-07    0.4\n",
       "2020-01-08    0.5\n",
       "Freq: B, Name: Dummy Series, dtype: float64"
      ]
     },
     "execution_count": 46,
     "metadata": {},
     "output_type": "execute_result"
    }
   ],
   "source": [
    "s1 = s[s <= 0.6]\n",
    "s1"
   ]
  },
  {
   "cell_type": "code",
   "execution_count": 47,
   "metadata": {},
   "outputs": [
    {
     "data": {
      "text/plain": [
       "2020-01-07    0.4\n",
       "2020-01-08    0.5\n",
       "2020-01-09    0.6\n",
       "2020-01-10    0.7\n",
       "2020-01-13    0.8\n",
       "2020-01-14    0.9\n",
       "2020-01-15    1.0\n",
       "Freq: B, Name: Dummy Series, dtype: float64"
      ]
     },
     "execution_count": 47,
     "metadata": {},
     "output_type": "execute_result"
    }
   ],
   "source": [
    "s2 = s[s >= 0.4]\n",
    "s2"
   ]
  },
  {
   "cell_type": "markdown",
   "metadata": {},
   "source": [
    "This raises the question about how to define an operation such as `s1 + s2`"
   ]
  },
  {
   "cell_type": "code",
   "execution_count": 48,
   "metadata": {},
   "outputs": [
    {
     "data": {
      "text/plain": [
       "2020-01-01    NaN\n",
       "2020-01-02    NaN\n",
       "2020-01-03    NaN\n",
       "2020-01-06    NaN\n",
       "2020-01-07    0.8\n",
       "2020-01-08    1.0\n",
       "2020-01-09    NaN\n",
       "2020-01-10    NaN\n",
       "2020-01-13    NaN\n",
       "2020-01-14    NaN\n",
       "2020-01-15    NaN\n",
       "Freq: B, Name: Dummy Series, dtype: float64"
      ]
     },
     "execution_count": 48,
     "metadata": {},
     "output_type": "execute_result"
    }
   ],
   "source": [
    "s1 + s2"
   ]
  },
  {
   "cell_type": "markdown",
   "metadata": {},
   "source": [
    "well, given two unaligned series `s1` and `s2`, Pandas chose to index any combination of the two according to the _union_ of their indexes (here `s1` has indexes from `2020-01-01` to `2020-01-08` whereas `s2` has indexes from `2020-01-07` to `2020-01-15`)."
   ]
  },
  {
   "cell_type": "markdown",
   "metadata": {},
   "source": [
    "The `+` operator is applied to each element corresponding to indexes in common between the two series (here indexes `2020-01-07` and `2020-01-08`). The rest of indexes (in the union of the indexes) are either not found in `s1` or in `s2`. Accordingly, their corresponding values in the `s1 + s2` series will be marked as _missing_ and denoted by `NaN` (which stands for Not-A-Number). "
   ]
  },
  {
   "cell_type": "markdown",
   "metadata": {},
   "source": [
    "Of course this generalizes to any other operation:"
   ]
  },
  {
   "cell_type": "code",
   "execution_count": 49,
   "metadata": {},
   "outputs": [
    {
     "data": {
      "text/plain": [
       "2020-01-01     NaN\n",
       "2020-01-02     NaN\n",
       "2020-01-03     NaN\n",
       "2020-01-06     NaN\n",
       "2020-01-07    0.16\n",
       "2020-01-08    0.25\n",
       "2020-01-09     NaN\n",
       "2020-01-10     NaN\n",
       "2020-01-13     NaN\n",
       "2020-01-14     NaN\n",
       "2020-01-15     NaN\n",
       "Freq: B, Name: Dummy Series, dtype: float64"
      ]
     },
     "execution_count": 49,
     "metadata": {},
     "output_type": "execute_result"
    }
   ],
   "source": [
    "s3 = s1 * s2\n",
    "s3"
   ]
  },
  {
   "cell_type": "markdown",
   "metadata": {},
   "source": [
    "What is cool (and really helps data analysis a lot) is that most basic analytics still works disregarding NaNs. That is, `NaN` are not counted."
   ]
  },
  {
   "cell_type": "code",
   "execution_count": 50,
   "metadata": {},
   "outputs": [
    {
     "data": {
      "text/plain": [
       "2020-01-01       NaN\n",
       "2020-01-02       NaN\n",
       "2020-01-03       NaN\n",
       "2020-01-06       NaN\n",
       "2020-01-07    0.0256\n",
       "2020-01-08    0.0625\n",
       "2020-01-09       NaN\n",
       "2020-01-10       NaN\n",
       "2020-01-13       NaN\n",
       "2020-01-14       NaN\n",
       "2020-01-15       NaN\n",
       "Freq: B, Name: Dummy Series, dtype: float64"
      ]
     },
     "execution_count": 50,
     "metadata": {},
     "output_type": "execute_result"
    }
   ],
   "source": [
    "s3 ** 2"
   ]
  },
  {
   "cell_type": "code",
   "execution_count": 51,
   "metadata": {},
   "outputs": [
    {
     "data": {
      "text/plain": [
       "0.41000000000000003"
      ]
     },
     "execution_count": 51,
     "metadata": {},
     "output_type": "execute_result"
    }
   ],
   "source": [
    "s3.sum()"
   ]
  },
  {
   "cell_type": "code",
   "execution_count": 52,
   "metadata": {},
   "outputs": [
    {
     "data": {
      "text/plain": [
       "0.20500000000000002"
      ]
     },
     "execution_count": 52,
     "metadata": {},
     "output_type": "execute_result"
    }
   ],
   "source": [
    "s3.mean()"
   ]
  },
  {
   "cell_type": "code",
   "execution_count": 53,
   "metadata": {},
   "outputs": [
    {
     "data": {
      "text/plain": [
       "0.06363961030678926"
      ]
     },
     "execution_count": 53,
     "metadata": {},
     "output_type": "execute_result"
    }
   ],
   "source": [
    "s3.std()"
   ]
  },
  {
   "cell_type": "code",
   "execution_count": 54,
   "metadata": {},
   "outputs": [
    {
     "data": {
      "text/plain": [
       "2020-01-01     NaN\n",
       "2020-01-02     NaN\n",
       "2020-01-03     NaN\n",
       "2020-01-06     NaN\n",
       "2020-01-07    0.16\n",
       "2020-01-08    0.41\n",
       "2020-01-09     NaN\n",
       "2020-01-10     NaN\n",
       "2020-01-13     NaN\n",
       "2020-01-14     NaN\n",
       "2020-01-15     NaN\n",
       "Freq: B, Name: Dummy Series, dtype: float64"
      ]
     },
     "execution_count": 54,
     "metadata": {},
     "output_type": "execute_result"
    }
   ],
   "source": [
    "s3.cumsum()"
   ]
  },
  {
   "cell_type": "markdown",
   "metadata": {},
   "source": [
    "# 7. _Excursus:_ Returns time-series  <a name=\"s_ret\"></a>"
   ]
  },
  {
   "cell_type": "markdown",
   "metadata": {},
   "source": [
    "A typical example of _unaligned_ time series is encountered when computing the time-series of the returns of an underlying time-series."
   ]
  },
  {
   "cell_type": "markdown",
   "metadata": {},
   "source": [
    "Let's simulate a time-series $p_t$ as a time-series of i.i.d. (independent and identically distributed) [log-normal](https://en.wikipedia.org/wiki/Log-normal_distribution) random numbers."
   ]
  },
  {
   "cell_type": "markdown",
   "metadata": {},
   "source": [
    "Let's begin recalling the relation between normal and log-normal random variables. The random variable $X$ is log-normally distributed if the logarithm $\\ln(X)$ of $X$ is normally distributed."
   ]
  },
  {
   "cell_type": "markdown",
   "metadata": {},
   "source": [
    "Therefore, if the variable $Y=\\ln(X)$ is normally distributed with mean $E[Y] = \\mu$ and variance $Var[Y] = \\sigma^2$, that is\n",
    "\n",
    "$$\n",
    "Y=\\ln(X) \\sim \\mathcal{N}(\\mu, \\sigma^2)\n",
    "$$\n",
    "\n",
    "then, $X=e^Y$ is log-normally distributed as\n",
    "\n",
    "$$\n",
    "X =e^Y \\sim \\ln \\mathcal{N}(\\mu, \\sigma^2)\n",
    "$$\n",
    "\n",
    "with mean $E[X]$ and variance $Var[X]$ which are related to the first two moments of $Y$ as follows (check [Wikipedia](https://en.wikipedia.org/wiki/Log-normal_distribution#Arithmetic_moments)):\n",
    "\n",
    "\\begin{equation}\n",
    "\\begin{aligned}\n",
    "E[X] &= \\exp{\\left( \\mu + \\frac{1}{2} \\sigma^2 \\right)} \\nonumber \\\\\n",
    "Var[X] &= \\left[ \\exp{(\\sigma^2 )} - 1 \\right] \\exp{\\left( 2\\mu + \\sigma^2 \\right)} \\nonumber \n",
    "\\end{aligned}\n",
    "\\end{equation}"
   ]
  },
  {
   "cell_type": "markdown",
   "metadata": {},
   "source": [
    "We shall use NumPy's [`random.lognormal` function](https://docs.scipy.org/doc/numpy-1.14.0/reference/generated/numpy.random.lognormal.html) which expects in input the mean $\\mu$ and standard-deviation $\\sigma$ of the underlying normal random variable $Y$ and returns a NumPy array of i.i.d. log-normal random variables in output."
   ]
  },
  {
   "cell_type": "markdown",
   "metadata": {},
   "source": [
    "**Warning** Notice that this a very _elementary_ time-series simulation. In particular, notice that this is **not** a simulation of a Geometric Brownian Motion (GBM). Intuitivelly, even we are sampling each $p_t$ from a log-normal distribution, we are sampling them as i.i.d. random variables. Whereas, each subsequent number of a GBM, depends on the previous one. Stochastic process simulation will be covered in a future lesson. "
   ]
  },
  {
   "cell_type": "code",
   "execution_count": 55,
   "metadata": {},
   "outputs": [],
   "source": [
    "length = 20 # number of prices to simulate"
   ]
  },
  {
   "cell_type": "code",
   "execution_count": 56,
   "metadata": {},
   "outputs": [],
   "source": [
    "# we set the seed to have reproducible results. This has to be in the same code-cell of the number extraction, \n",
    "# otherwise Jupyter will forget it and reset it.\n",
    "seed = np.random.seed(987654321) \n",
    "\n",
    "mu, sigma = np.log(30.), np.log(1.1) # mean and std-dev of the underlying normal random variable (\\mu and \\sigma above)\n",
    "\n",
    "p = np.random.lognormal(mu, sigma, length)"
   ]
  },
  {
   "cell_type": "markdown",
   "metadata": {},
   "source": [
    "and plot it using a business-day date range on the x-axis starting from Jan 1st to Jan 28th 2020 (we can use the `DatetimeIndex` returned by `pd.date_range()` in the Matplotlib plot function)"
   ]
  },
  {
   "cell_type": "code",
   "execution_count": 57,
   "metadata": {},
   "outputs": [
    {
     "data": {
      "image/png": "[encoded data removed]",
      "text/plain": [
       "<Figure size 504x288 with 1 Axes>"
      ]
     },
     "metadata": {
      "needs_background": "light"
     },
     "output_type": "display_data"
    }
   ],
   "source": [
    "fig, ax = plt.subplots(figsize=(7,4))\n",
    "\n",
    "plt.plot(pd.date_range('2020-01-01', periods=length, freq='B'), p) \n",
    "\n",
    "ax.set_xlabel('Date $t$', fontsize=15) \n",
    "ax.set_ylabel('$p_t$', fontsize=15) \n",
    "\n",
    "plt.xticks(rotation=45) # to rotate of 45 degrees the x-ticks \n",
    "\n",
    "fig.tight_layout()\n",
    "plt.show()"
   ]
  },
  {
   "cell_type": "markdown",
   "metadata": {},
   "source": [
    "## 7.1. Step-by-step computation  <a name=\"s_ret_stepbystep\"></a>"
   ]
  },
  {
   "cell_type": "markdown",
   "metadata": {},
   "source": [
    "To compute the returns, we need to calculate:\n",
    "- $p_{t}$ as the Series `p_t` of values `p[1:]` from the second to the end;\n",
    "- $p_{t-1}$ as the Series `p_tm1` of values `p[:-1]` from the beginning to the second-last one."
   ]
  },
  {
   "cell_type": "markdown",
   "metadata": {},
   "source": [
    "To be consistent with the following returns calculation, we define the two `p_t` and `p_tm1` time-series as aligned time-series indexed by business-day date range from Jan 2nd 2020 (that is, with one day of lag w.r.t. the original time series)."
   ]
  },
  {
   "cell_type": "code",
   "execution_count": 58,
   "metadata": {},
   "outputs": [
    {
     "data": {
      "text/plain": [
       "2020-01-02    28.208823\n",
       "2020-01-03    26.799693\n",
       "2020-01-06    36.056879\n",
       "2020-01-07    30.191651\n",
       "2020-01-08    27.280371\n",
       "2020-01-09    32.424250\n",
       "2020-01-10    26.400751\n",
       "2020-01-13    35.992138\n",
       "2020-01-14    32.099097\n",
       "2020-01-15    33.409345\n",
       "2020-01-16    26.912392\n",
       "2020-01-17    30.896827\n",
       "2020-01-20    28.347494\n",
       "2020-01-21    27.036349\n",
       "2020-01-22    31.067052\n",
       "2020-01-23    28.911740\n",
       "2020-01-24    25.666152\n",
       "2020-01-27    35.364221\n",
       "2020-01-28    32.330933\n",
       "Freq: B, Name: p(t), dtype: float64"
      ]
     },
     "execution_count": 58,
     "metadata": {},
     "output_type": "execute_result"
    }
   ],
   "source": [
    "p_t = pd.Series(data=p[1:],\n",
    "                  index=pd.date_range('2020-01-02', periods=length-1, freq='B'), \n",
    "                  name=\"p(t)\")\n",
    "p_t"
   ]
  },
  {
   "cell_type": "code",
   "execution_count": 59,
   "metadata": {},
   "outputs": [
    {
     "data": {
      "text/plain": [
       "19"
      ]
     },
     "execution_count": 59,
     "metadata": {},
     "output_type": "execute_result"
    }
   ],
   "source": [
    "p_t.size"
   ]
  },
  {
   "cell_type": "code",
   "execution_count": 60,
   "metadata": {
    "scrolled": true
   },
   "outputs": [
    {
     "data": {
      "text/plain": [
       "2020-01-02    37.163108\n",
       "2020-01-03    28.208823\n",
       "2020-01-06    26.799693\n",
       "2020-01-07    36.056879\n",
       "2020-01-08    30.191651\n",
       "2020-01-09    27.280371\n",
       "2020-01-10    32.424250\n",
       "2020-01-13    26.400751\n",
       "2020-01-14    35.992138\n",
       "2020-01-15    32.099097\n",
       "2020-01-16    33.409345\n",
       "2020-01-17    26.912392\n",
       "2020-01-20    30.896827\n",
       "2020-01-21    28.347494\n",
       "2020-01-22    27.036349\n",
       "2020-01-23    31.067052\n",
       "2020-01-24    28.911740\n",
       "2020-01-27    25.666152\n",
       "2020-01-28    35.364221\n",
       "Freq: B, Name: p(t-1), dtype: float64"
      ]
     },
     "execution_count": 60,
     "metadata": {},
     "output_type": "execute_result"
    }
   ],
   "source": [
    "p_tm1 = pd.Series(data=p[:-1],\n",
    "                  index=pd.date_range('2020-01-02', periods=length-1, freq='B'), \n",
    "                  name=\"p(t-1)\")\n",
    "p_tm1"
   ]
  },
  {
   "cell_type": "code",
   "execution_count": 61,
   "metadata": {},
   "outputs": [
    {
     "data": {
      "text/plain": [
       "19"
      ]
     },
     "execution_count": 61,
     "metadata": {},
     "output_type": "execute_result"
    }
   ],
   "source": [
    "p_tm1.size"
   ]
  },
  {
   "cell_type": "markdown",
   "metadata": {},
   "source": [
    "We can define the linear returns \n",
    "\n",
    "$$\n",
    "r^{\\text{lin}}_t = p_t - p_{t-1}\n",
    "$$\n",
    "\n",
    "as the `linRet_t = p_t - p_tm1` Pandas series"
   ]
  },
  {
   "cell_type": "code",
   "execution_count": 62,
   "metadata": {},
   "outputs": [
    {
     "data": {
      "text/plain": [
       "2020-01-02   -8.954285\n",
       "2020-01-03   -1.409130\n",
       "2020-01-06    9.257186\n",
       "2020-01-07   -5.865228\n",
       "2020-01-08   -2.911280\n",
       "2020-01-09    5.143879\n",
       "2020-01-10   -6.023500\n",
       "2020-01-13    9.591387\n",
       "2020-01-14   -3.893041\n",
       "2020-01-15    1.310247\n",
       "2020-01-16   -6.496952\n",
       "2020-01-17    3.984435\n",
       "2020-01-20   -2.549333\n",
       "2020-01-21   -1.311146\n",
       "2020-01-22    4.030703\n",
       "2020-01-23   -2.155312\n",
       "2020-01-24   -3.245588\n",
       "2020-01-27    9.698069\n",
       "2020-01-28   -3.033288\n",
       "Freq: B, Name: linear returns r(t) = p(t) - p(t-1), dtype: float64"
      ]
     },
     "execution_count": 62,
     "metadata": {},
     "output_type": "execute_result"
    }
   ],
   "source": [
    "linRet_t = p_t - p_tm1\n",
    "linRet_t.name = \"linear returns r(t) = p(t) - p(t-1)\"\n",
    "linRet_t"
   ]
  },
  {
   "cell_type": "code",
   "execution_count": 63,
   "metadata": {},
   "outputs": [
    {
     "data": {
      "text/plain": [
       "19"
      ]
     },
     "execution_count": 63,
     "metadata": {},
     "output_type": "execute_result"
    }
   ],
   "source": [
    "linRet_t.size"
   ]
  },
  {
   "cell_type": "markdown",
   "metadata": {},
   "source": [
    "and we can do a bar-plot of returns"
   ]
  },
  {
   "cell_type": "code",
   "execution_count": 64,
   "metadata": {},
   "outputs": [
    {
     "data": {
      "text/plain": [
       "Text(0, 0.5, '$r_t = p_t - p_{t-1}$')"
      ]
     },
     "execution_count": 64,
     "metadata": {},
     "output_type": "execute_result"
    },
    {
     "data": {
      "image/png": "[encoded data removed]",
      "text/plain": [
       "<Figure size 432x288 with 1 Axes>"
      ]
     },
     "metadata": {
      "needs_background": "light"
     },
     "output_type": "display_data"
    }
   ],
   "source": [
    "ax = linRet_t.plot.bar() \n",
    "\n",
    "ax.set_xlabel(\"Date $t$\", fontsize=15)\n",
    "ax.set_ylabel(\"$r_t = p_t - p_{t-1}$\", fontsize=15)"
   ]
  },
  {
   "cell_type": "markdown",
   "metadata": {},
   "source": [
    "We can, alternatively, compute log-returns\n",
    "\n",
    "$$\n",
    "r^{log}_t = \\log \\left( \\frac{p_t}{p_{t-1}} \\right)\n",
    "$$\n",
    "\n",
    "as the `logRet_t = log(p_t) - log(p_tm1)` Pandas series"
   ]
  },
  {
   "cell_type": "code",
   "execution_count": 65,
   "metadata": {},
   "outputs": [
    {
     "data": {
      "text/plain": [
       "2020-01-02   -0.275682\n",
       "2020-01-03   -0.051244\n",
       "2020-01-06    0.296707\n",
       "2020-01-07   -0.177532\n",
       "2020-01-08   -0.101398\n",
       "2020-01-09    0.172739\n",
       "2020-01-10   -0.205514\n",
       "2020-01-13    0.309908\n",
       "2020-01-14   -0.114473\n",
       "2020-01-15    0.040008\n",
       "2020-01-16   -0.216249\n",
       "2020-01-17    0.138067\n",
       "2020-01-20   -0.086115\n",
       "2020-01-21   -0.047356\n",
       "2020-01-22    0.138966\n",
       "2020-01-23   -0.071900\n",
       "2020-01-24   -0.119075\n",
       "2020-01-27    0.320528\n",
       "2020-01-28   -0.089676\n",
       "Freq: B, Name: log-returns r(t) = log(p(t)/p(t-1)), dtype: float64"
      ]
     },
     "execution_count": 65,
     "metadata": {},
     "output_type": "execute_result"
    }
   ],
   "source": [
    "logRet_t = np.log(p_t) - np.log(p_tm1)\n",
    "logRet_t.name = \"log-returns r(t) = log(p(t)/p(t-1))\"\n",
    "logRet_t"
   ]
  },
  {
   "cell_type": "code",
   "execution_count": 66,
   "metadata": {},
   "outputs": [
    {
     "data": {
      "text/plain": [
       "19"
      ]
     },
     "execution_count": 66,
     "metadata": {},
     "output_type": "execute_result"
    }
   ],
   "source": [
    "logRet_t.size"
   ]
  },
  {
   "cell_type": "markdown",
   "metadata": {},
   "source": [
    "and we can do a bar-plot of returns"
   ]
  },
  {
   "cell_type": "code",
   "execution_count": 67,
   "metadata": {
    "scrolled": true
   },
   "outputs": [
    {
     "data": {
      "text/plain": [
       "Text(0, 0.5, '$r_t = \\\\ln(p_t/p_{t-1})$')"
      ]
     },
     "execution_count": 67,
     "metadata": {},
     "output_type": "execute_result"
    },
    {
     "data": {
      "image/png": "[encoded data removed]",
      "text/plain": [
       "<Figure size 432x288 with 1 Axes>"
      ]
     },
     "metadata": {
      "needs_background": "light"
     },
     "output_type": "display_data"
    }
   ],
   "source": [
    "ax = logRet_t.plot.bar() \n",
    "\n",
    "ax.set_xlabel(\"Date $t$\", fontsize=15)\n",
    "ax.set_ylabel(\"$r_t = \\ln(p_t/p_{t-1})$\", fontsize=15)"
   ]
  },
  {
   "cell_type": "markdown",
   "metadata": {},
   "source": [
    "## 7.2. Direct computation using `.shift()`  <a name=\"s_ret_shift\"></a>"
   ]
  },
  {
   "cell_type": "markdown",
   "metadata": {},
   "source": [
    "We first (an more intuitively) define the $p_t$ time-series as a Pandas Series out of the original (NumPy array) time-series `p`, using the whole indexing form Jan 1st 2020."
   ]
  },
  {
   "cell_type": "code",
   "execution_count": 68,
   "metadata": {
    "scrolled": true
   },
   "outputs": [
    {
     "data": {
      "text/plain": [
       "2020-01-01    37.163108\n",
       "2020-01-02    28.208823\n",
       "2020-01-03    26.799693\n",
       "2020-01-06    36.056879\n",
       "2020-01-07    30.191651\n",
       "2020-01-08    27.280371\n",
       "2020-01-09    32.424250\n",
       "2020-01-10    26.400751\n",
       "2020-01-13    35.992138\n",
       "2020-01-14    32.099097\n",
       "2020-01-15    33.409345\n",
       "2020-01-16    26.912392\n",
       "2020-01-17    30.896827\n",
       "2020-01-20    28.347494\n",
       "2020-01-21    27.036349\n",
       "2020-01-22    31.067052\n",
       "2020-01-23    28.911740\n",
       "2020-01-24    25.666152\n",
       "2020-01-27    35.364221\n",
       "2020-01-28    32.330933\n",
       "Freq: B, Name: p(t), dtype: float64"
      ]
     },
     "execution_count": 68,
     "metadata": {},
     "output_type": "execute_result"
    }
   ],
   "source": [
    "p_t = pd.Series(data=p,\n",
    "                  index=pd.date_range('2020-01-01', periods=length, freq='B'), \n",
    "                  name=\"p(t)\")\n",
    "p_t"
   ]
  },
  {
   "cell_type": "markdown",
   "metadata": {},
   "source": [
    "Then we define the $p_{t-1}$ time-series as the `p_tm1` Series rolling the `p_t` Series shifted of 1 business-day using the `.shift()` method. What was indexed by date $t$ in `p_t` Series is rolled ahead of 1 bd, becoming indexed by date $t+1$ in `p_tm1`. For example, the first value 37.163108 was attributed to date 2020-01-01 in `p_t`. In `p_tm1`, 37.163108 becomes indexed by 2020-01-02."
   ]
  },
  {
   "cell_type": "code",
   "execution_count": 69,
   "metadata": {},
   "outputs": [
    {
     "data": {
      "text/plain": [
       "2020-01-02    37.163108\n",
       "2020-01-03    28.208823\n",
       "2020-01-06    26.799693\n",
       "2020-01-07    36.056879\n",
       "2020-01-08    30.191651\n",
       "2020-01-09    27.280371\n",
       "2020-01-10    32.424250\n",
       "2020-01-13    26.400751\n",
       "2020-01-14    35.992138\n",
       "2020-01-15    32.099097\n",
       "2020-01-16    33.409345\n",
       "2020-01-17    26.912392\n",
       "2020-01-20    30.896827\n",
       "2020-01-21    28.347494\n",
       "2020-01-22    27.036349\n",
       "2020-01-23    31.067052\n",
       "2020-01-24    28.911740\n",
       "2020-01-27    25.666152\n",
       "2020-01-28    35.364221\n",
       "2020-01-29    32.330933\n",
       "Freq: B, Name: p(t), dtype: float64"
      ]
     },
     "execution_count": 69,
     "metadata": {},
     "output_type": "execute_result"
    }
   ],
   "source": [
    "p_tm1 = p_t.shift(periods=1, freq='B')\n",
    "p_tm1"
   ]
  },
  {
   "cell_type": "markdown",
   "metadata": {},
   "source": [
    "Notice now that the original time-series `p_t` and the rolled Series `p_tm1` are _unaligned_ series\n",
    "\n",
    "&nbsp;  | first index | last index | length\n",
    ":--- | :---: | :---:  | :---:\n",
    "`p_t`  | `2020-01-01` | `2020-01-28`  | 20\n",
    "`p_tm1`  | `2020-01-02` | `2020-01-29`  | 20"
   ]
  },
  {
   "cell_type": "markdown",
   "metadata": {},
   "source": [
    "We can define the linear returns \n",
    "\n",
    "$$\n",
    "r^{\\text{lin}}_t = p_t - p_{t-1}\n",
    "$$\n",
    "\n",
    "as the `linRet_t = p_t - p_tm1` Pandas series."
   ]
  },
  {
   "cell_type": "markdown",
   "metadata": {},
   "source": [
    "Notice that Pandas will index `linRet_t` with the _union_ of the indexes of `p_t` and `p_tm1`, filling with `NaN` the elements corresponding to indexes not shared by both (`2020-01-01` and `2020-01-29`)"
   ]
  },
  {
   "cell_type": "code",
   "execution_count": 70,
   "metadata": {},
   "outputs": [
    {
     "data": {
      "text/plain": [
       "2020-01-01         NaN\n",
       "2020-01-02   -8.954285\n",
       "2020-01-03   -1.409130\n",
       "2020-01-06    9.257186\n",
       "2020-01-07   -5.865228\n",
       "2020-01-08   -2.911280\n",
       "2020-01-09    5.143879\n",
       "2020-01-10   -6.023500\n",
       "2020-01-13    9.591387\n",
       "2020-01-14   -3.893041\n",
       "2020-01-15    1.310247\n",
       "2020-01-16   -6.496952\n",
       "2020-01-17    3.984435\n",
       "2020-01-20   -2.549333\n",
       "2020-01-21   -1.311146\n",
       "2020-01-22    4.030703\n",
       "2020-01-23   -2.155312\n",
       "2020-01-24   -3.245588\n",
       "2020-01-27    9.698069\n",
       "2020-01-28   -3.033288\n",
       "2020-01-29         NaN\n",
       "Freq: B, Name: linear returns r(t) = p(t) - p(t-1), dtype: float64"
      ]
     },
     "execution_count": 70,
     "metadata": {},
     "output_type": "execute_result"
    }
   ],
   "source": [
    "linRet_t = p_t - p_tm1\n",
    "linRet_t.name = \"linear returns r(t) = p(t) - p(t-1)\"\n",
    "linRet_t"
   ]
  },
  {
   "cell_type": "code",
   "execution_count": 71,
   "metadata": {},
   "outputs": [
    {
     "data": {
      "text/plain": [
       "21"
      ]
     },
     "execution_count": 71,
     "metadata": {},
     "output_type": "execute_result"
    }
   ],
   "source": [
    "linRet_t.size"
   ]
  },
  {
   "cell_type": "markdown",
   "metadata": {},
   "source": [
    "You can remove `NaN` using the `.dropna()` method "
   ]
  },
  {
   "cell_type": "code",
   "execution_count": 72,
   "metadata": {},
   "outputs": [
    {
     "data": {
      "text/plain": [
       "2020-01-02   -8.954285\n",
       "2020-01-03   -1.409130\n",
       "2020-01-06    9.257186\n",
       "2020-01-07   -5.865228\n",
       "2020-01-08   -2.911280\n",
       "2020-01-09    5.143879\n",
       "2020-01-10   -6.023500\n",
       "2020-01-13    9.591387\n",
       "2020-01-14   -3.893041\n",
       "2020-01-15    1.310247\n",
       "2020-01-16   -6.496952\n",
       "2020-01-17    3.984435\n",
       "2020-01-20   -2.549333\n",
       "2020-01-21   -1.311146\n",
       "2020-01-22    4.030703\n",
       "2020-01-23   -2.155312\n",
       "2020-01-24   -3.245588\n",
       "2020-01-27    9.698069\n",
       "2020-01-28   -3.033288\n",
       "Freq: B, Name: linear returns r(t) = p(t) - p(t-1), dtype: float64"
      ]
     },
     "execution_count": 72,
     "metadata": {},
     "output_type": "execute_result"
    }
   ],
   "source": [
    "linRet_t = linRet_t.dropna()\n",
    "linRet_t"
   ]
  },
  {
   "cell_type": "code",
   "execution_count": 73,
   "metadata": {},
   "outputs": [
    {
     "data": {
      "text/plain": [
       "19"
      ]
     },
     "execution_count": 73,
     "metadata": {},
     "output_type": "execute_result"
    }
   ],
   "source": [
    "linRet_t.size"
   ]
  },
  {
   "cell_type": "markdown",
   "metadata": {},
   "source": [
    "Summarizing:\n",
    "\n",
    "&nbsp;  | first index | last index | length\n",
    ":--- | :---: | :---:  | :---:\n",
    "`p_t`  | `2020-01-01` | `2020-01-28`  | 20\n",
    "`p_tm1`  | `2020-01-02` | `2020-01-29`  | 20\n",
    "`linRet_t = p_t - p_tm1`  | `2020-01-01` | `2020-01-29`  | 21\n",
    "`linRet_t.dropna()`  | `2020-01-02` | `2020-01-28`  | 19"
   ]
  },
  {
   "cell_type": "markdown",
   "metadata": {},
   "source": [
    "Exactly the same reasoning can be reapeated to compute the log-returns\n",
    "\n",
    "$$\n",
    "r^{log}_t = \\log \\left( \\frac{p_t}{p_{t-1}} \\right)\n",
    "$$\n",
    "\n",
    "defining the Series `logRet_t = log(p_t) - log(p_tm1)`, which shall have 21 rows and 2 `NaN` (first and last row) which can be dropped using `.dropna()` method. You can work it out each step by yourself."
   ]
  },
  {
   "cell_type": "code",
   "execution_count": 74,
   "metadata": {},
   "outputs": [
    {
     "data": {
      "text/plain": [
       "Text(0, 0.5, '$r_t =  \\\\ln(p_t/p_{t-1})$')"
      ]
     },
     "execution_count": 74,
     "metadata": {},
     "output_type": "execute_result"
    },
    {
     "data": {
      "image/png": "[encoded data removed]",
      "text/plain": [
       "<Figure size 432x288 with 1 Axes>"
      ]
     },
     "metadata": {
      "needs_background": "light"
     },
     "output_type": "display_data"
    }
   ],
   "source": [
    "logRet_t = np.log(p_t) - np.log(p_tm1)\n",
    "logRet_t.name = \"log-returns r(t) = log(p(t)/p(t-1))\"\n",
    "\n",
    "logRet_t = logRet_t.dropna()\n",
    "\n",
    "ax = logRet_t.plot.bar()\n",
    "\n",
    "ax.set_xlabel(\"Date $t$\", fontsize=15)\n",
    "ax.set_ylabel(\"$r_t =  \\ln(p_t/p_{t-1})$\", fontsize=15)"
   ]
  },
  {
   "cell_type": "markdown",
   "metadata": {},
   "source": [
    "# 2. DataFrames <a name=\"DataFrame\"></a>"
   ]
  },
  {
   "cell_type": "markdown",
   "metadata": {},
   "source": [
    "A [Pandas DataFrame](https://pandas.pydata.org/docs/getting_started/dsintro.html#dataframe) is a 2-dimensional labeled data structure with columns of potentially different types (integers, strings, floating point numbers, etc.)."
   ]
  },
  {
   "cell_type": "markdown",
   "metadata": {},
   "source": [
    "You can think of it like an Excel  spreadsheet, or - knowing Pandas Series - a dict of Series objects."
   ]
  },
  {
   "cell_type": "markdown",
   "metadata": {},
   "source": [
    "## 2.1. Creation: `pd.DataFrame()` <a name=\"df_creation\"></a>"
   ]
  },
  {
   "cell_type": "markdown",
   "metadata": {},
   "source": [
    "DataFrames can be created using the constructor:\n",
    "\n",
    "`\n",
    "pd.DataFrame(data[, index, columns])\n",
    "`\n",
    "\n",
    "where:\n",
    "- `data`: is the data content of the DataFrame. It can be a NumPy N-dim array, a Python dict of:\n",
    "    - Pandas Series,\n",
    "    - 1-dim NumPy arrays, \n",
    "    - Python Lists,\n",
    "    - etc...\n",
    "    \n",
    "- `index`: (optional) is the index of the DataFrame. It can be an array-like structure (e.g. a list). If not provided, default index spans the rows of `data`. For example, if `data` is a NumPy `(n,m)` array, it is `[0,1,...,n-1]`.\n",
    "\n",
    "- `columns`: (optional) lists the columns of the DataFrame. It can be an array-like strucutre (e.g. a list). If not provided, default columns spans the columns of `data`. For example, if `data` is a NumPy `(n,m)` array, it is `[0,1,...,m-1]`."
   ]
  },
  {
   "cell_type": "markdown",
   "metadata": {},
   "source": [
    "Here we consider the creation of a Pandas DataFrame from a 2-dimensional NumPy array (that is, a matrix). We refer to [Intro to data structures - DataFrame](https://pandas.pydata.org/docs/getting_started/dsintro.html#dataframe) for other creational paradigms and full details."
   ]
  },
  {
   "cell_type": "markdown",
   "metadata": {},
   "source": [
    "So, let's define a $10 \\times 5$ matrix with columns the number from 1 to 10 raised to powers 1, 2, 3, 4, 5"
   ]
  },
  {
   "cell_type": "code",
   "execution_count": 75,
   "metadata": {
    "scrolled": false
   },
   "outputs": [
    {
     "data": {
      "text/plain": [
       "array([[     1,      1,      1,      1,      1],\n",
       "       [     2,      4,      8,     16,     32],\n",
       "       [     3,      9,     27,     81,    243],\n",
       "       [     4,     16,     64,    256,   1024],\n",
       "       [     5,     25,    125,    625,   3125],\n",
       "       [     6,     36,    216,   1296,   7776],\n",
       "       [     7,     49,    343,   2401,  16807],\n",
       "       [     8,     64,    512,   4096,  32768],\n",
       "       [     9,     81,    729,   6561,  59049],\n",
       "       [    10,    100,   1000,  10000, 100000]])"
      ]
     },
     "execution_count": 75,
     "metadata": {},
     "output_type": "execute_result"
    }
   ],
   "source": [
    "mat = np.array([[i**k for i in range(1,11)] for k in range(1,6)]).T\n",
    "mat"
   ]
  },
  {
   "cell_type": "markdown",
   "metadata": {},
   "source": [
    "we pass the matrix `mat` as the `data` parameter of `pd.DataFrame()`"
   ]
  },
  {
   "cell_type": "code",
   "execution_count": 76,
   "metadata": {
    "scrolled": false
   },
   "outputs": [
    {
     "data": {
      "text/html": [
       "<div>\n",
       "<style scoped>\n",
       "    .dataframe tbody tr th:only-of-type {\n",
       "        vertical-align: middle;\n",
       "    }\n",
       "\n",
       "    .dataframe tbody tr th {\n",
       "        vertical-align: top;\n",
       "    }\n",
       "\n",
       "    .dataframe thead th {\n",
       "        text-align: right;\n",
       "    }\n",
       "</style>\n",
       "<table border=\"1\" class=\"dataframe\">\n",
       "  <thead>\n",
       "    <tr style=\"text-align: right;\">\n",
       "      <th></th>\n",
       "      <th>0</th>\n",
       "      <th>1</th>\n",
       "      <th>2</th>\n",
       "      <th>3</th>\n",
       "      <th>4</th>\n",
       "    </tr>\n",
       "  </thead>\n",
       "  <tbody>\n",
       "    <tr>\n",
       "      <td>0</td>\n",
       "      <td>1</td>\n",
       "      <td>1</td>\n",
       "      <td>1</td>\n",
       "      <td>1</td>\n",
       "      <td>1</td>\n",
       "    </tr>\n",
       "    <tr>\n",
       "      <td>1</td>\n",
       "      <td>2</td>\n",
       "      <td>4</td>\n",
       "      <td>8</td>\n",
       "      <td>16</td>\n",
       "      <td>32</td>\n",
       "    </tr>\n",
       "    <tr>\n",
       "      <td>2</td>\n",
       "      <td>3</td>\n",
       "      <td>9</td>\n",
       "      <td>27</td>\n",
       "      <td>81</td>\n",
       "      <td>243</td>\n",
       "    </tr>\n",
       "    <tr>\n",
       "      <td>3</td>\n",
       "      <td>4</td>\n",
       "      <td>16</td>\n",
       "      <td>64</td>\n",
       "      <td>256</td>\n",
       "      <td>1024</td>\n",
       "    </tr>\n",
       "    <tr>\n",
       "      <td>4</td>\n",
       "      <td>5</td>\n",
       "      <td>25</td>\n",
       "      <td>125</td>\n",
       "      <td>625</td>\n",
       "      <td>3125</td>\n",
       "    </tr>\n",
       "    <tr>\n",
       "      <td>5</td>\n",
       "      <td>6</td>\n",
       "      <td>36</td>\n",
       "      <td>216</td>\n",
       "      <td>1296</td>\n",
       "      <td>7776</td>\n",
       "    </tr>\n",
       "    <tr>\n",
       "      <td>6</td>\n",
       "      <td>7</td>\n",
       "      <td>49</td>\n",
       "      <td>343</td>\n",
       "      <td>2401</td>\n",
       "      <td>16807</td>\n",
       "    </tr>\n",
       "    <tr>\n",
       "      <td>7</td>\n",
       "      <td>8</td>\n",
       "      <td>64</td>\n",
       "      <td>512</td>\n",
       "      <td>4096</td>\n",
       "      <td>32768</td>\n",
       "    </tr>\n",
       "    <tr>\n",
       "      <td>8</td>\n",
       "      <td>9</td>\n",
       "      <td>81</td>\n",
       "      <td>729</td>\n",
       "      <td>6561</td>\n",
       "      <td>59049</td>\n",
       "    </tr>\n",
       "    <tr>\n",
       "      <td>9</td>\n",
       "      <td>10</td>\n",
       "      <td>100</td>\n",
       "      <td>1000</td>\n",
       "      <td>10000</td>\n",
       "      <td>100000</td>\n",
       "    </tr>\n",
       "  </tbody>\n",
       "</table>\n",
       "</div>"
      ],
      "text/plain": [
       "    0    1     2      3       4\n",
       "0   1    1     1      1       1\n",
       "1   2    4     8     16      32\n",
       "2   3    9    27     81     243\n",
       "3   4   16    64    256    1024\n",
       "4   5   25   125    625    3125\n",
       "5   6   36   216   1296    7776\n",
       "6   7   49   343   2401   16807\n",
       "7   8   64   512   4096   32768\n",
       "8   9   81   729   6561   59049\n",
       "9  10  100  1000  10000  100000"
      ]
     },
     "execution_count": 76,
     "metadata": {},
     "output_type": "execute_result"
    }
   ],
   "source": [
    "df = pd.DataFrame(mat)\n",
    "df"
   ]
  },
  {
   "cell_type": "code",
   "execution_count": 77,
   "metadata": {},
   "outputs": [
    {
     "data": {
      "text/plain": [
       "(10, 5)"
      ]
     },
     "execution_count": 77,
     "metadata": {},
     "output_type": "execute_result"
    }
   ],
   "source": [
    "mat.shape"
   ]
  },
  {
   "cell_type": "markdown",
   "metadata": {},
   "source": [
    "The function `pd.DataFrame()` returns a Pandas DataFrame object. Each element in the table is linked to its corresponding index and column. \n",
    "\n",
    "Notice that:\n",
    "- the `index` which is generated by default (since we didn't provide one explicitly) is `0, 1,..., 9 = mat.shape[0]-1`;\n",
    "- the `columns` which are generated by default (since we didn't provide them explicitly) are `0, 1,..., 4 = mat.shape[1]-1`;"
   ]
  },
  {
   "cell_type": "code",
   "execution_count": 78,
   "metadata": {},
   "outputs": [
    {
     "data": {
      "text/plain": [
       "pandas.core.frame.DataFrame"
      ]
     },
     "execution_count": 78,
     "metadata": {},
     "output_type": "execute_result"
    }
   ],
   "source": [
    "type(df)"
   ]
  },
  {
   "cell_type": "markdown",
   "metadata": {},
   "source": [
    "Notice that the explicit assignment `data=mat` is optional and equivalent to `pd.DataFrame(mat)`.\n",
    "\n",
    "Similarly to NumPy arrays and Pandas Series, Pandas DataFrames have meta-informative attributes too. Let's have a look at some of them."
   ]
  },
  {
   "cell_type": "markdown",
   "metadata": {},
   "source": [
    "The number of elements is given by"
   ]
  },
  {
   "cell_type": "code",
   "execution_count": 79,
   "metadata": {},
   "outputs": [
    {
     "data": {
      "text/plain": [
       "50"
      ]
     },
     "execution_count": 79,
     "metadata": {},
     "output_type": "execute_result"
    }
   ],
   "source": [
    "df.size"
   ]
  },
  {
   "cell_type": "markdown",
   "metadata": {},
   "source": [
    "The number of rows and columns of the DataFrame is, similarly to NumPy arrays:"
   ]
  },
  {
   "cell_type": "code",
   "execution_count": 80,
   "metadata": {},
   "outputs": [
    {
     "data": {
      "text/plain": [
       "(10, 5)"
      ]
     },
     "execution_count": 80,
     "metadata": {},
     "output_type": "execute_result"
    }
   ],
   "source": [
    "df.shape"
   ]
  },
  {
   "cell_type": "markdown",
   "metadata": {},
   "source": [
    "Each column of the DataFrame may have different data-type, use `.dtypes` attribute to retrieve them (mind the plural)"
   ]
  },
  {
   "cell_type": "code",
   "execution_count": 81,
   "metadata": {},
   "outputs": [
    {
     "data": {
      "text/plain": [
       "0    int32\n",
       "1    int32\n",
       "2    int32\n",
       "3    int32\n",
       "4    int32\n",
       "dtype: object"
      ]
     },
     "execution_count": 81,
     "metadata": {},
     "output_type": "execute_result"
    }
   ],
   "source": [
    "df.dtypes"
   ]
  },
  {
   "cell_type": "markdown",
   "metadata": {},
   "source": [
    "Notice that a `pd.Series` is returned with each column's data-type reported as a `str` (`object` is the Pandas for `str` data-type) and linked to an index labelled as the corresponding column label in the DataFrame (another example later)."
   ]
  },
  {
   "cell_type": "markdown",
   "metadata": {},
   "source": [
    "Similarly, to Series, you can directly access the index sequence:"
   ]
  },
  {
   "cell_type": "code",
   "execution_count": 82,
   "metadata": {},
   "outputs": [
    {
     "data": {
      "text/plain": [
       "RangeIndex(start=0, stop=10, step=1)"
      ]
     },
     "execution_count": 82,
     "metadata": {},
     "output_type": "execute_result"
    }
   ],
   "source": [
    "df.index"
   ]
  },
  {
   "cell_type": "markdown",
   "metadata": {},
   "source": [
    "As we have seen for Series, `RangeIndex` is the kind of `[0,1,...,mat.shape[0]-1]` index which Pandas creates by default when you don't input one explicitly."
   ]
  },
  {
   "cell_type": "code",
   "execution_count": 83,
   "metadata": {},
   "outputs": [
    {
     "data": {
      "text/plain": [
       "RangeIndex(start=0, stop=5, step=1)"
      ]
     },
     "execution_count": 83,
     "metadata": {},
     "output_type": "execute_result"
    }
   ],
   "source": [
    "df.columns"
   ]
  },
  {
   "cell_type": "markdown",
   "metadata": {},
   "source": [
    "Similarly, a `[0,1,...,mat.shape[1]-1]` `RangeIndex` is created to label the columns when you don't provide them explicitly."
   ]
  },
  {
   "cell_type": "markdown",
   "metadata": {},
   "source": [
    "Of course we can give more descriptive names to the columns of our DataFrame:"
   ]
  },
  {
   "cell_type": "code",
   "execution_count": 84,
   "metadata": {},
   "outputs": [
    {
     "data": {
      "text/html": [
       "<div>\n",
       "<style scoped>\n",
       "    .dataframe tbody tr th:only-of-type {\n",
       "        vertical-align: middle;\n",
       "    }\n",
       "\n",
       "    .dataframe tbody tr th {\n",
       "        vertical-align: top;\n",
       "    }\n",
       "\n",
       "    .dataframe thead th {\n",
       "        text-align: right;\n",
       "    }\n",
       "</style>\n",
       "<table border=\"1\" class=\"dataframe\">\n",
       "  <thead>\n",
       "    <tr style=\"text-align: right;\">\n",
       "      <th></th>\n",
       "      <th>x</th>\n",
       "      <th>x^2</th>\n",
       "      <th>x^3</th>\n",
       "      <th>x^4</th>\n",
       "      <th>x^5</th>\n",
       "    </tr>\n",
       "  </thead>\n",
       "  <tbody>\n",
       "    <tr>\n",
       "      <td>0</td>\n",
       "      <td>1</td>\n",
       "      <td>1</td>\n",
       "      <td>1</td>\n",
       "      <td>1</td>\n",
       "      <td>1</td>\n",
       "    </tr>\n",
       "    <tr>\n",
       "      <td>1</td>\n",
       "      <td>2</td>\n",
       "      <td>4</td>\n",
       "      <td>8</td>\n",
       "      <td>16</td>\n",
       "      <td>32</td>\n",
       "    </tr>\n",
       "    <tr>\n",
       "      <td>2</td>\n",
       "      <td>3</td>\n",
       "      <td>9</td>\n",
       "      <td>27</td>\n",
       "      <td>81</td>\n",
       "      <td>243</td>\n",
       "    </tr>\n",
       "    <tr>\n",
       "      <td>3</td>\n",
       "      <td>4</td>\n",
       "      <td>16</td>\n",
       "      <td>64</td>\n",
       "      <td>256</td>\n",
       "      <td>1024</td>\n",
       "    </tr>\n",
       "    <tr>\n",
       "      <td>4</td>\n",
       "      <td>5</td>\n",
       "      <td>25</td>\n",
       "      <td>125</td>\n",
       "      <td>625</td>\n",
       "      <td>3125</td>\n",
       "    </tr>\n",
       "    <tr>\n",
       "      <td>5</td>\n",
       "      <td>6</td>\n",
       "      <td>36</td>\n",
       "      <td>216</td>\n",
       "      <td>1296</td>\n",
       "      <td>7776</td>\n",
       "    </tr>\n",
       "    <tr>\n",
       "      <td>6</td>\n",
       "      <td>7</td>\n",
       "      <td>49</td>\n",
       "      <td>343</td>\n",
       "      <td>2401</td>\n",
       "      <td>16807</td>\n",
       "    </tr>\n",
       "    <tr>\n",
       "      <td>7</td>\n",
       "      <td>8</td>\n",
       "      <td>64</td>\n",
       "      <td>512</td>\n",
       "      <td>4096</td>\n",
       "      <td>32768</td>\n",
       "    </tr>\n",
       "    <tr>\n",
       "      <td>8</td>\n",
       "      <td>9</td>\n",
       "      <td>81</td>\n",
       "      <td>729</td>\n",
       "      <td>6561</td>\n",
       "      <td>59049</td>\n",
       "    </tr>\n",
       "    <tr>\n",
       "      <td>9</td>\n",
       "      <td>10</td>\n",
       "      <td>100</td>\n",
       "      <td>1000</td>\n",
       "      <td>10000</td>\n",
       "      <td>100000</td>\n",
       "    </tr>\n",
       "  </tbody>\n",
       "</table>\n",
       "</div>"
      ],
      "text/plain": [
       "    x  x^2   x^3    x^4     x^5\n",
       "0   1    1     1      1       1\n",
       "1   2    4     8     16      32\n",
       "2   3    9    27     81     243\n",
       "3   4   16    64    256    1024\n",
       "4   5   25   125    625    3125\n",
       "5   6   36   216   1296    7776\n",
       "6   7   49   343   2401   16807\n",
       "7   8   64   512   4096   32768\n",
       "8   9   81   729   6561   59049\n",
       "9  10  100  1000  10000  100000"
      ]
     },
     "execution_count": 84,
     "metadata": {},
     "output_type": "execute_result"
    }
   ],
   "source": [
    "df.columns = ['x', 'x^2', 'x^3', 'x^4', 'x^5']\n",
    "df"
   ]
  },
  {
   "cell_type": "code",
   "execution_count": 85,
   "metadata": {},
   "outputs": [
    {
     "data": {
      "text/plain": [
       "Index(['x', 'x^2', 'x^3', 'x^4', 'x^5'], dtype='object')"
      ]
     },
     "execution_count": 85,
     "metadata": {},
     "output_type": "execute_result"
    }
   ],
   "source": [
    "df.columns"
   ]
  },
  {
   "cell_type": "markdown",
   "metadata": {},
   "source": [
    "Now the columns that we define are a general `Index` of strings (`dtype='object'`)."
   ]
  },
  {
   "cell_type": "markdown",
   "metadata": {},
   "source": [
    "As for Pandas Series, ff you want just the values (without the indexing) - that is, the original NumPy `mat` in our case - these can be accessed through the `.values` attribute"
   ]
  },
  {
   "cell_type": "code",
   "execution_count": 86,
   "metadata": {},
   "outputs": [
    {
     "data": {
      "text/plain": [
       "array([[     1,      1,      1,      1,      1],\n",
       "       [     2,      4,      8,     16,     32],\n",
       "       [     3,      9,     27,     81,    243],\n",
       "       [     4,     16,     64,    256,   1024],\n",
       "       [     5,     25,    125,    625,   3125],\n",
       "       [     6,     36,    216,   1296,   7776],\n",
       "       [     7,     49,    343,   2401,  16807],\n",
       "       [     8,     64,    512,   4096,  32768],\n",
       "       [     9,     81,    729,   6561,  59049],\n",
       "       [    10,    100,   1000,  10000, 100000]])"
      ]
     },
     "execution_count": 86,
     "metadata": {},
     "output_type": "execute_result"
    }
   ],
   "source": [
    "df.values"
   ]
  },
  {
   "cell_type": "markdown",
   "metadata": {},
   "source": [
    "### 2.1.1. Time indexes: `pd.date_range()` and `pd.to_datetime()`  <a name=\"df_time_index\"></a>"
   ]
  },
  {
   "cell_type": "markdown",
   "metadata": {},
   "source": [
    "In exactly the same way we were able to define time-indexes for Pandas Series, we can do it for Pandas DataFrames."
   ]
  },
  {
   "cell_type": "markdown",
   "metadata": {},
   "source": [
    "Here we create a range of business days (denoted by the _frequency_ `freq='B'`) starting from Jan 1st 2020. The range lasts a number of `periods` equal to the rows of our DataFrame (`df.shape[0]` which would of course be the same as `mat.shape[0]`)"
   ]
  },
  {
   "cell_type": "code",
   "execution_count": 87,
   "metadata": {},
   "outputs": [
    {
     "data": {
      "text/plain": [
       "DatetimeIndex(['2020-01-01', '2020-01-02', '2020-01-03', '2020-01-06',\n",
       "               '2020-01-07', '2020-01-08', '2020-01-09', '2020-01-10',\n",
       "               '2020-01-13', '2020-01-14'],\n",
       "              dtype='datetime64[ns]', freq='B')"
      ]
     },
     "execution_count": 87,
     "metadata": {},
     "output_type": "execute_result"
    }
   ],
   "source": [
    "dates = pd.date_range('2020-01-01', periods=df.shape[0], freq='B') \n",
    "dates"
   ]
  },
  {
   "cell_type": "markdown",
   "metadata": {},
   "source": [
    "The kind of time-index that is returned is a `DatetimeIndex`. We can re-index our DataFrame with this new index."
   ]
  },
  {
   "cell_type": "code",
   "execution_count": 88,
   "metadata": {},
   "outputs": [
    {
     "data": {
      "text/html": [
       "<div>\n",
       "<style scoped>\n",
       "    .dataframe tbody tr th:only-of-type {\n",
       "        vertical-align: middle;\n",
       "    }\n",
       "\n",
       "    .dataframe tbody tr th {\n",
       "        vertical-align: top;\n",
       "    }\n",
       "\n",
       "    .dataframe thead th {\n",
       "        text-align: right;\n",
       "    }\n",
       "</style>\n",
       "<table border=\"1\" class=\"dataframe\">\n",
       "  <thead>\n",
       "    <tr style=\"text-align: right;\">\n",
       "      <th></th>\n",
       "      <th>x</th>\n",
       "      <th>x^2</th>\n",
       "      <th>x^3</th>\n",
       "      <th>x^4</th>\n",
       "      <th>x^5</th>\n",
       "    </tr>\n",
       "  </thead>\n",
       "  <tbody>\n",
       "    <tr>\n",
       "      <td>2020-01-01</td>\n",
       "      <td>1</td>\n",
       "      <td>1</td>\n",
       "      <td>1</td>\n",
       "      <td>1</td>\n",
       "      <td>1</td>\n",
       "    </tr>\n",
       "    <tr>\n",
       "      <td>2020-01-02</td>\n",
       "      <td>2</td>\n",
       "      <td>4</td>\n",
       "      <td>8</td>\n",
       "      <td>16</td>\n",
       "      <td>32</td>\n",
       "    </tr>\n",
       "    <tr>\n",
       "      <td>2020-01-03</td>\n",
       "      <td>3</td>\n",
       "      <td>9</td>\n",
       "      <td>27</td>\n",
       "      <td>81</td>\n",
       "      <td>243</td>\n",
       "    </tr>\n",
       "    <tr>\n",
       "      <td>2020-01-06</td>\n",
       "      <td>4</td>\n",
       "      <td>16</td>\n",
       "      <td>64</td>\n",
       "      <td>256</td>\n",
       "      <td>1024</td>\n",
       "    </tr>\n",
       "    <tr>\n",
       "      <td>2020-01-07</td>\n",
       "      <td>5</td>\n",
       "      <td>25</td>\n",
       "      <td>125</td>\n",
       "      <td>625</td>\n",
       "      <td>3125</td>\n",
       "    </tr>\n",
       "    <tr>\n",
       "      <td>2020-01-08</td>\n",
       "      <td>6</td>\n",
       "      <td>36</td>\n",
       "      <td>216</td>\n",
       "      <td>1296</td>\n",
       "      <td>7776</td>\n",
       "    </tr>\n",
       "    <tr>\n",
       "      <td>2020-01-09</td>\n",
       "      <td>7</td>\n",
       "      <td>49</td>\n",
       "      <td>343</td>\n",
       "      <td>2401</td>\n",
       "      <td>16807</td>\n",
       "    </tr>\n",
       "    <tr>\n",
       "      <td>2020-01-10</td>\n",
       "      <td>8</td>\n",
       "      <td>64</td>\n",
       "      <td>512</td>\n",
       "      <td>4096</td>\n",
       "      <td>32768</td>\n",
       "    </tr>\n",
       "    <tr>\n",
       "      <td>2020-01-13</td>\n",
       "      <td>9</td>\n",
       "      <td>81</td>\n",
       "      <td>729</td>\n",
       "      <td>6561</td>\n",
       "      <td>59049</td>\n",
       "    </tr>\n",
       "    <tr>\n",
       "      <td>2020-01-14</td>\n",
       "      <td>10</td>\n",
       "      <td>100</td>\n",
       "      <td>1000</td>\n",
       "      <td>10000</td>\n",
       "      <td>100000</td>\n",
       "    </tr>\n",
       "  </tbody>\n",
       "</table>\n",
       "</div>"
      ],
      "text/plain": [
       "             x  x^2   x^3    x^4     x^5\n",
       "2020-01-01   1    1     1      1       1\n",
       "2020-01-02   2    4     8     16      32\n",
       "2020-01-03   3    9    27     81     243\n",
       "2020-01-06   4   16    64    256    1024\n",
       "2020-01-07   5   25   125    625    3125\n",
       "2020-01-08   6   36   216   1296    7776\n",
       "2020-01-09   7   49   343   2401   16807\n",
       "2020-01-10   8   64   512   4096   32768\n",
       "2020-01-13   9   81   729   6561   59049\n",
       "2020-01-14  10  100  1000  10000  100000"
      ]
     },
     "execution_count": 88,
     "metadata": {},
     "output_type": "execute_result"
    }
   ],
   "source": [
    "df.index = dates\n",
    "df"
   ]
  },
  {
   "cell_type": "code",
   "execution_count": 89,
   "metadata": {},
   "outputs": [
    {
     "data": {
      "text/plain": [
       "DatetimeIndex(['2020-01-01', '2020-01-02', '2020-01-03', '2020-01-06',\n",
       "               '2020-01-07', '2020-01-08', '2020-01-09', '2020-01-10',\n",
       "               '2020-01-13', '2020-01-14'],\n",
       "              dtype='datetime64[ns]', freq='B')"
      ]
     },
     "execution_count": 89,
     "metadata": {},
     "output_type": "execute_result"
    }
   ],
   "source": [
    "df.index"
   ]
  },
  {
   "cell_type": "markdown",
   "metadata": {},
   "source": [
    "Of course, we could have defined the DataFrame with our desired `data`, `index` and `columns` setup."
   ]
  },
  {
   "cell_type": "code",
   "execution_count": 90,
   "metadata": {},
   "outputs": [
    {
     "data": {
      "text/html": [
       "<div>\n",
       "<style scoped>\n",
       "    .dataframe tbody tr th:only-of-type {\n",
       "        vertical-align: middle;\n",
       "    }\n",
       "\n",
       "    .dataframe tbody tr th {\n",
       "        vertical-align: top;\n",
       "    }\n",
       "\n",
       "    .dataframe thead th {\n",
       "        text-align: right;\n",
       "    }\n",
       "</style>\n",
       "<table border=\"1\" class=\"dataframe\">\n",
       "  <thead>\n",
       "    <tr style=\"text-align: right;\">\n",
       "      <th></th>\n",
       "      <th>x</th>\n",
       "      <th>x^2</th>\n",
       "      <th>x^3</th>\n",
       "      <th>x^4</th>\n",
       "      <th>x^5</th>\n",
       "    </tr>\n",
       "  </thead>\n",
       "  <tbody>\n",
       "    <tr>\n",
       "      <td>2020-01-01</td>\n",
       "      <td>1</td>\n",
       "      <td>1</td>\n",
       "      <td>1</td>\n",
       "      <td>1</td>\n",
       "      <td>1</td>\n",
       "    </tr>\n",
       "    <tr>\n",
       "      <td>2020-01-02</td>\n",
       "      <td>2</td>\n",
       "      <td>4</td>\n",
       "      <td>8</td>\n",
       "      <td>16</td>\n",
       "      <td>32</td>\n",
       "    </tr>\n",
       "    <tr>\n",
       "      <td>2020-01-03</td>\n",
       "      <td>3</td>\n",
       "      <td>9</td>\n",
       "      <td>27</td>\n",
       "      <td>81</td>\n",
       "      <td>243</td>\n",
       "    </tr>\n",
       "    <tr>\n",
       "      <td>2020-01-06</td>\n",
       "      <td>4</td>\n",
       "      <td>16</td>\n",
       "      <td>64</td>\n",
       "      <td>256</td>\n",
       "      <td>1024</td>\n",
       "    </tr>\n",
       "    <tr>\n",
       "      <td>2020-01-07</td>\n",
       "      <td>5</td>\n",
       "      <td>25</td>\n",
       "      <td>125</td>\n",
       "      <td>625</td>\n",
       "      <td>3125</td>\n",
       "    </tr>\n",
       "    <tr>\n",
       "      <td>2020-01-08</td>\n",
       "      <td>6</td>\n",
       "      <td>36</td>\n",
       "      <td>216</td>\n",
       "      <td>1296</td>\n",
       "      <td>7776</td>\n",
       "    </tr>\n",
       "    <tr>\n",
       "      <td>2020-01-09</td>\n",
       "      <td>7</td>\n",
       "      <td>49</td>\n",
       "      <td>343</td>\n",
       "      <td>2401</td>\n",
       "      <td>16807</td>\n",
       "    </tr>\n",
       "    <tr>\n",
       "      <td>2020-01-10</td>\n",
       "      <td>8</td>\n",
       "      <td>64</td>\n",
       "      <td>512</td>\n",
       "      <td>4096</td>\n",
       "      <td>32768</td>\n",
       "    </tr>\n",
       "    <tr>\n",
       "      <td>2020-01-13</td>\n",
       "      <td>9</td>\n",
       "      <td>81</td>\n",
       "      <td>729</td>\n",
       "      <td>6561</td>\n",
       "      <td>59049</td>\n",
       "    </tr>\n",
       "    <tr>\n",
       "      <td>2020-01-14</td>\n",
       "      <td>10</td>\n",
       "      <td>100</td>\n",
       "      <td>1000</td>\n",
       "      <td>10000</td>\n",
       "      <td>100000</td>\n",
       "    </tr>\n",
       "  </tbody>\n",
       "</table>\n",
       "</div>"
      ],
      "text/plain": [
       "             x  x^2   x^3    x^4     x^5\n",
       "2020-01-01   1    1     1      1       1\n",
       "2020-01-02   2    4     8     16      32\n",
       "2020-01-03   3    9    27     81     243\n",
       "2020-01-06   4   16    64    256    1024\n",
       "2020-01-07   5   25   125    625    3125\n",
       "2020-01-08   6   36   216   1296    7776\n",
       "2020-01-09   7   49   343   2401   16807\n",
       "2020-01-10   8   64   512   4096   32768\n",
       "2020-01-13   9   81   729   6561   59049\n",
       "2020-01-14  10  100  1000  10000  100000"
      ]
     },
     "execution_count": 90,
     "metadata": {},
     "output_type": "execute_result"
    }
   ],
   "source": [
    "df = pd.DataFrame(data=mat, \n",
    "                  index=dates, \n",
    "                  columns=['x', 'x^2', 'x^3', 'x^4', 'x^5'])\n",
    "df"
   ]
  },
  {
   "cell_type": "markdown",
   "metadata": {},
   "source": [
    "Function `pd.to_datetime()` has already been introduced in dedicated [Data Analysis - Introduction to Pandas Series](https://github.com/gabrielepompa88/IT-For-Business-And-Finance-2019-20/blob/master/Notebooks/Data_Analysis___Introduction_to_Pandas_Series.ipynb) notebook as a converter from a list of dates strings to a `DatetimeIndex` object."
   ]
  },
  {
   "cell_type": "code",
   "execution_count": 91,
   "metadata": {},
   "outputs": [
    {
     "data": {
      "text/plain": [
       "DatetimeIndex(['2020-01-02', '2020-01-07', '2020-01-10'], dtype='datetime64[ns]', freq=None)"
      ]
     },
     "execution_count": 91,
     "metadata": {},
     "output_type": "execute_result"
    }
   ],
   "source": [
    "pd.to_datetime(['2020-01-02', '2020-01-07', '2020-01-10'])"
   ]
  },
  {
   "cell_type": "markdown",
   "metadata": {},
   "source": [
    "As well as for Pandas Series, this function allows to filter rows of a DataFrame according to a list of strings representing dates. We'll see it shortly."
   ]
  },
  {
   "cell_type": "markdown",
   "metadata": {},
   "source": [
    "## 2.2. Basic plotting: `df.plot()` and `df.plot.bar()`  <a name=\"df_plot\"></a>"
   ]
  },
  {
   "cell_type": "markdown",
   "metadata": {},
   "source": [
    "As with Pandas Series, plotting a DataFrame cannot be easier"
   ]
  },
  {
   "cell_type": "code",
   "execution_count": 92,
   "metadata": {},
   "outputs": [
    {
     "data": {
      "text/plain": [
       "<matplotlib.axes._subplots.AxesSubplot at 0x25d1d65c9c8>"
      ]
     },
     "execution_count": 92,
     "metadata": {},
     "output_type": "execute_result"
    },
    {
     "data": {
      "image/png": "[encoded data removed]",
      "text/plain": [
       "<Figure size 432x288 with 1 Axes>"
      ]
     },
     "metadata": {
      "needs_background": "light"
     },
     "output_type": "display_data"
    }
   ],
   "source": [
    "df.plot()"
   ]
  },
  {
   "cell_type": "markdown",
   "metadata": {},
   "source": [
    "Notice that each columns, as reported in the picture legend, is translated into a line of different color, wherheas the common index is used on the x-axis to draw syncronized values."
   ]
  },
  {
   "cell_type": "markdown",
   "metadata": {},
   "source": [
    "Ok, given that our data are power functions, which grow at different speeds, it's difficult to appreciate all them together in the same plot... if we plot them straight-away. Let's plot their logs!"
   ]
  },
  {
   "cell_type": "markdown",
   "metadata": {},
   "source": [
    "So let's define a new DataFrame `df_log` which has the same index and columns of the original `df`, but each element get's transformed throug a $\\ln()$ function. \n",
    "\n",
    "We anticipate here the flexibility of NumPy's universal functions, which most can be used with `pandas.DataFrame` parameters in input (instead of `numpy.ndarray`)."
   ]
  },
  {
   "cell_type": "markdown",
   "metadata": {},
   "source": [
    "_En passant,_ we re-label the columns of the `df_log` too. Notice the use of list comprehension together with the `+` operator to concatenate `str`."
   ]
  },
  {
   "cell_type": "code",
   "execution_count": 93,
   "metadata": {},
   "outputs": [
    {
     "data": {
      "text/html": [
       "<div>\n",
       "<style scoped>\n",
       "    .dataframe tbody tr th:only-of-type {\n",
       "        vertical-align: middle;\n",
       "    }\n",
       "\n",
       "    .dataframe tbody tr th {\n",
       "        vertical-align: top;\n",
       "    }\n",
       "\n",
       "    .dataframe thead th {\n",
       "        text-align: right;\n",
       "    }\n",
       "</style>\n",
       "<table border=\"1\" class=\"dataframe\">\n",
       "  <thead>\n",
       "    <tr style=\"text-align: right;\">\n",
       "      <th></th>\n",
       "      <th>log(x)</th>\n",
       "      <th>log(x^2)</th>\n",
       "      <th>log(x^3)</th>\n",
       "      <th>log(x^4)</th>\n",
       "      <th>log(x^5)</th>\n",
       "    </tr>\n",
       "  </thead>\n",
       "  <tbody>\n",
       "    <tr>\n",
       "      <td>2020-01-01</td>\n",
       "      <td>0.000000</td>\n",
       "      <td>0.000000</td>\n",
       "      <td>0.000000</td>\n",
       "      <td>0.000000</td>\n",
       "      <td>0.000000</td>\n",
       "    </tr>\n",
       "    <tr>\n",
       "      <td>2020-01-02</td>\n",
       "      <td>0.693147</td>\n",
       "      <td>1.386294</td>\n",
       "      <td>2.079442</td>\n",
       "      <td>2.772589</td>\n",
       "      <td>3.465736</td>\n",
       "    </tr>\n",
       "    <tr>\n",
       "      <td>2020-01-03</td>\n",
       "      <td>1.098612</td>\n",
       "      <td>2.197225</td>\n",
       "      <td>3.295837</td>\n",
       "      <td>4.394449</td>\n",
       "      <td>5.493061</td>\n",
       "    </tr>\n",
       "    <tr>\n",
       "      <td>2020-01-06</td>\n",
       "      <td>1.386294</td>\n",
       "      <td>2.772589</td>\n",
       "      <td>4.158883</td>\n",
       "      <td>5.545177</td>\n",
       "      <td>6.931472</td>\n",
       "    </tr>\n",
       "    <tr>\n",
       "      <td>2020-01-07</td>\n",
       "      <td>1.609438</td>\n",
       "      <td>3.218876</td>\n",
       "      <td>4.828314</td>\n",
       "      <td>6.437752</td>\n",
       "      <td>8.047190</td>\n",
       "    </tr>\n",
       "    <tr>\n",
       "      <td>2020-01-08</td>\n",
       "      <td>1.791759</td>\n",
       "      <td>3.583519</td>\n",
       "      <td>5.375278</td>\n",
       "      <td>7.167038</td>\n",
       "      <td>8.958797</td>\n",
       "    </tr>\n",
       "    <tr>\n",
       "      <td>2020-01-09</td>\n",
       "      <td>1.945910</td>\n",
       "      <td>3.891820</td>\n",
       "      <td>5.837730</td>\n",
       "      <td>7.783641</td>\n",
       "      <td>9.729551</td>\n",
       "    </tr>\n",
       "    <tr>\n",
       "      <td>2020-01-10</td>\n",
       "      <td>2.079442</td>\n",
       "      <td>4.158883</td>\n",
       "      <td>6.238325</td>\n",
       "      <td>8.317766</td>\n",
       "      <td>10.397208</td>\n",
       "    </tr>\n",
       "    <tr>\n",
       "      <td>2020-01-13</td>\n",
       "      <td>2.197225</td>\n",
       "      <td>4.394449</td>\n",
       "      <td>6.591674</td>\n",
       "      <td>8.788898</td>\n",
       "      <td>10.986123</td>\n",
       "    </tr>\n",
       "    <tr>\n",
       "      <td>2020-01-14</td>\n",
       "      <td>2.302585</td>\n",
       "      <td>4.605170</td>\n",
       "      <td>6.907755</td>\n",
       "      <td>9.210340</td>\n",
       "      <td>11.512925</td>\n",
       "    </tr>\n",
       "  </tbody>\n",
       "</table>\n",
       "</div>"
      ],
      "text/plain": [
       "              log(x)  log(x^2)  log(x^3)  log(x^4)   log(x^5)\n",
       "2020-01-01  0.000000  0.000000  0.000000  0.000000   0.000000\n",
       "2020-01-02  0.693147  1.386294  2.079442  2.772589   3.465736\n",
       "2020-01-03  1.098612  2.197225  3.295837  4.394449   5.493061\n",
       "2020-01-06  1.386294  2.772589  4.158883  5.545177   6.931472\n",
       "2020-01-07  1.609438  3.218876  4.828314  6.437752   8.047190\n",
       "2020-01-08  1.791759  3.583519  5.375278  7.167038   8.958797\n",
       "2020-01-09  1.945910  3.891820  5.837730  7.783641   9.729551\n",
       "2020-01-10  2.079442  4.158883  6.238325  8.317766  10.397208\n",
       "2020-01-13  2.197225  4.394449  6.591674  8.788898  10.986123\n",
       "2020-01-14  2.302585  4.605170  6.907755  9.210340  11.512925"
      ]
     },
     "execution_count": 93,
     "metadata": {},
     "output_type": "execute_result"
    }
   ],
   "source": [
    "df_log = np.log(df)\n",
    "df_log.columns = ['log(' + c + ')' for c in df.columns]\n",
    "df_log"
   ]
  },
  {
   "cell_type": "code",
   "execution_count": 94,
   "metadata": {
    "scrolled": true
   },
   "outputs": [
    {
     "data": {
      "text/plain": [
       "<matplotlib.axes._subplots.AxesSubplot at 0x25d1d72cf48>"
      ]
     },
     "execution_count": 94,
     "metadata": {},
     "output_type": "execute_result"
    },
    {
     "data": {
      "image/png": "[encoded data removed]",
      "text/plain": [
       "<Figure size 432x288 with 1 Axes>"
      ]
     },
     "metadata": {
      "needs_background": "light"
     },
     "output_type": "display_data"
    }
   ],
   "source": [
    "df_log.plot()"
   ]
  },
  {
   "cell_type": "markdown",
   "metadata": {},
   "source": [
    "Now everything looks much clearer. As we did for Pandas Series, of course we can produce bar-plots (as well as the tons of [visualization styles](https://pandas.pydata.org/pandas-docs/stable/user_guide/visualization.html) which are available in Pandas"
   ]
  },
  {
   "cell_type": "code",
   "execution_count": 95,
   "metadata": {},
   "outputs": [
    {
     "data": {
      "text/plain": [
       "<matplotlib.axes._subplots.AxesSubplot at 0x25d1d79d808>"
      ]
     },
     "execution_count": 95,
     "metadata": {},
     "output_type": "execute_result"
    },
    {
     "data": {
      "image/png": "[encoded data removed]",
      "text/plain": [
       "<Figure size 432x288 with 1 Axes>"
      ]
     },
     "metadata": {
      "needs_background": "light"
     },
     "output_type": "display_data"
    }
   ],
   "source": [
    "df_log.plot.bar()"
   ]
  },
  {
   "cell_type": "markdown",
   "metadata": {},
   "source": [
    "## 2.3. Indexing and Slicing <a name=\"df_selection\"></a>"
   ]
  },
  {
   "cell_type": "markdown",
   "metadata": {},
   "source": [
    "In this section we describe the different possibilities that you have to access elements of a DataFrame `df`. You can:\n",
    "\n",
    "- Select columns using the `[]` access operator;\n",
    "- Filter rows according to a logical condition using the `[]` access operator;\n",
    "- Select specific rows and columns using column names using `.loc[]` access operator;\n",
    "- Select specific rows and columns using numerical positional indexes in the table using `.iloc[]` access operator.\n",
    "\n",
    "We consider each case in a separate section with examples using our DataFrame of power functions."
   ]
  },
  {
   "cell_type": "code",
   "execution_count": 96,
   "metadata": {},
   "outputs": [
    {
     "data": {
      "text/html": [
       "<div>\n",
       "<style scoped>\n",
       "    .dataframe tbody tr th:only-of-type {\n",
       "        vertical-align: middle;\n",
       "    }\n",
       "\n",
       "    .dataframe tbody tr th {\n",
       "        vertical-align: top;\n",
       "    }\n",
       "\n",
       "    .dataframe thead th {\n",
       "        text-align: right;\n",
       "    }\n",
       "</style>\n",
       "<table border=\"1\" class=\"dataframe\">\n",
       "  <thead>\n",
       "    <tr style=\"text-align: right;\">\n",
       "      <th></th>\n",
       "      <th>x</th>\n",
       "      <th>x^2</th>\n",
       "      <th>x^3</th>\n",
       "      <th>x^4</th>\n",
       "      <th>x^5</th>\n",
       "    </tr>\n",
       "  </thead>\n",
       "  <tbody>\n",
       "    <tr>\n",
       "      <td>2020-01-01</td>\n",
       "      <td>1</td>\n",
       "      <td>1</td>\n",
       "      <td>1</td>\n",
       "      <td>1</td>\n",
       "      <td>1</td>\n",
       "    </tr>\n",
       "    <tr>\n",
       "      <td>2020-01-02</td>\n",
       "      <td>2</td>\n",
       "      <td>4</td>\n",
       "      <td>8</td>\n",
       "      <td>16</td>\n",
       "      <td>32</td>\n",
       "    </tr>\n",
       "    <tr>\n",
       "      <td>2020-01-03</td>\n",
       "      <td>3</td>\n",
       "      <td>9</td>\n",
       "      <td>27</td>\n",
       "      <td>81</td>\n",
       "      <td>243</td>\n",
       "    </tr>\n",
       "    <tr>\n",
       "      <td>2020-01-06</td>\n",
       "      <td>4</td>\n",
       "      <td>16</td>\n",
       "      <td>64</td>\n",
       "      <td>256</td>\n",
       "      <td>1024</td>\n",
       "    </tr>\n",
       "    <tr>\n",
       "      <td>2020-01-07</td>\n",
       "      <td>5</td>\n",
       "      <td>25</td>\n",
       "      <td>125</td>\n",
       "      <td>625</td>\n",
       "      <td>3125</td>\n",
       "    </tr>\n",
       "    <tr>\n",
       "      <td>2020-01-08</td>\n",
       "      <td>6</td>\n",
       "      <td>36</td>\n",
       "      <td>216</td>\n",
       "      <td>1296</td>\n",
       "      <td>7776</td>\n",
       "    </tr>\n",
       "    <tr>\n",
       "      <td>2020-01-09</td>\n",
       "      <td>7</td>\n",
       "      <td>49</td>\n",
       "      <td>343</td>\n",
       "      <td>2401</td>\n",
       "      <td>16807</td>\n",
       "    </tr>\n",
       "    <tr>\n",
       "      <td>2020-01-10</td>\n",
       "      <td>8</td>\n",
       "      <td>64</td>\n",
       "      <td>512</td>\n",
       "      <td>4096</td>\n",
       "      <td>32768</td>\n",
       "    </tr>\n",
       "    <tr>\n",
       "      <td>2020-01-13</td>\n",
       "      <td>9</td>\n",
       "      <td>81</td>\n",
       "      <td>729</td>\n",
       "      <td>6561</td>\n",
       "      <td>59049</td>\n",
       "    </tr>\n",
       "    <tr>\n",
       "      <td>2020-01-14</td>\n",
       "      <td>10</td>\n",
       "      <td>100</td>\n",
       "      <td>1000</td>\n",
       "      <td>10000</td>\n",
       "      <td>100000</td>\n",
       "    </tr>\n",
       "  </tbody>\n",
       "</table>\n",
       "</div>"
      ],
      "text/plain": [
       "             x  x^2   x^3    x^4     x^5\n",
       "2020-01-01   1    1     1      1       1\n",
       "2020-01-02   2    4     8     16      32\n",
       "2020-01-03   3    9    27     81     243\n",
       "2020-01-06   4   16    64    256    1024\n",
       "2020-01-07   5   25   125    625    3125\n",
       "2020-01-08   6   36   216   1296    7776\n",
       "2020-01-09   7   49   343   2401   16807\n",
       "2020-01-10   8   64   512   4096   32768\n",
       "2020-01-13   9   81   729   6561   59049\n",
       "2020-01-14  10  100  1000  10000  100000"
      ]
     },
     "execution_count": 96,
     "metadata": {},
     "output_type": "execute_result"
    }
   ],
   "source": [
    "df"
   ]
  },
  {
   "cell_type": "markdown",
   "metadata": {},
   "source": [
    "### 2.3.1. Selecting columns: `[]` <a name=\"df_selection_cols\"></a>"
   ]
  },
  {
   "cell_type": "markdown",
   "metadata": {},
   "source": [
    "In this section we describe how you can select entire columns of a DataFrame. You can use the `[]` access operator. Here is an overview: \n",
    "\n",
    "&nbsp;  | syntax | example\n",
    ":---: | :---: | :---:\n",
    "select 1 column  | `df[colName]` | `s['x^2']`  \n",
    "select  $\\geq 2$ columns  | `df[[listOfCols]]` | `df[['x^2', 'x^3', 'x^5']]`\n",
    "\n"
   ]
  },
  {
   "cell_type": "markdown",
   "metadata": {},
   "source": [
    "We can select a column using the column name inside the `[]` access operator, as if the DataFrame was a dict of the column-Series with column names its keys"
   ]
  },
  {
   "cell_type": "code",
   "execution_count": 97,
   "metadata": {},
   "outputs": [
    {
     "data": {
      "text/plain": [
       "2020-01-01      1\n",
       "2020-01-02      4\n",
       "2020-01-03      9\n",
       "2020-01-06     16\n",
       "2020-01-07     25\n",
       "2020-01-08     36\n",
       "2020-01-09     49\n",
       "2020-01-10     64\n",
       "2020-01-13     81\n",
       "2020-01-14    100\n",
       "Freq: B, Name: x^2, dtype: int32"
      ]
     },
     "execution_count": 97,
     "metadata": {},
     "output_type": "execute_result"
    }
   ],
   "source": [
    "s_x2 = df['x^2']\n",
    "s_x2"
   ]
  },
  {
   "cell_type": "markdown",
   "metadata": {},
   "source": [
    "Notice that - having selected just one column - a Pandas Series is returned"
   ]
  },
  {
   "cell_type": "code",
   "execution_count": 98,
   "metadata": {},
   "outputs": [
    {
     "data": {
      "text/plain": [
       "pandas.core.series.Series"
      ]
     },
     "execution_count": 98,
     "metadata": {},
     "output_type": "execute_result"
    }
   ],
   "source": [
    "type(s_x2)"
   ]
  },
  {
   "cell_type": "markdown",
   "metadata": {},
   "source": [
    "If you want to select more than one column, just wrap their names in a list"
   ]
  },
  {
   "cell_type": "code",
   "execution_count": 99,
   "metadata": {},
   "outputs": [
    {
     "data": {
      "text/html": [
       "<div>\n",
       "<style scoped>\n",
       "    .dataframe tbody tr th:only-of-type {\n",
       "        vertical-align: middle;\n",
       "    }\n",
       "\n",
       "    .dataframe tbody tr th {\n",
       "        vertical-align: top;\n",
       "    }\n",
       "\n",
       "    .dataframe thead th {\n",
       "        text-align: right;\n",
       "    }\n",
       "</style>\n",
       "<table border=\"1\" class=\"dataframe\">\n",
       "  <thead>\n",
       "    <tr style=\"text-align: right;\">\n",
       "      <th></th>\n",
       "      <th>x^2</th>\n",
       "      <th>x^3</th>\n",
       "      <th>x^5</th>\n",
       "    </tr>\n",
       "  </thead>\n",
       "  <tbody>\n",
       "    <tr>\n",
       "      <td>2020-01-01</td>\n",
       "      <td>1</td>\n",
       "      <td>1</td>\n",
       "      <td>1</td>\n",
       "    </tr>\n",
       "    <tr>\n",
       "      <td>2020-01-02</td>\n",
       "      <td>4</td>\n",
       "      <td>8</td>\n",
       "      <td>32</td>\n",
       "    </tr>\n",
       "    <tr>\n",
       "      <td>2020-01-03</td>\n",
       "      <td>9</td>\n",
       "      <td>27</td>\n",
       "      <td>243</td>\n",
       "    </tr>\n",
       "    <tr>\n",
       "      <td>2020-01-06</td>\n",
       "      <td>16</td>\n",
       "      <td>64</td>\n",
       "      <td>1024</td>\n",
       "    </tr>\n",
       "    <tr>\n",
       "      <td>2020-01-07</td>\n",
       "      <td>25</td>\n",
       "      <td>125</td>\n",
       "      <td>3125</td>\n",
       "    </tr>\n",
       "    <tr>\n",
       "      <td>2020-01-08</td>\n",
       "      <td>36</td>\n",
       "      <td>216</td>\n",
       "      <td>7776</td>\n",
       "    </tr>\n",
       "    <tr>\n",
       "      <td>2020-01-09</td>\n",
       "      <td>49</td>\n",
       "      <td>343</td>\n",
       "      <td>16807</td>\n",
       "    </tr>\n",
       "    <tr>\n",
       "      <td>2020-01-10</td>\n",
       "      <td>64</td>\n",
       "      <td>512</td>\n",
       "      <td>32768</td>\n",
       "    </tr>\n",
       "    <tr>\n",
       "      <td>2020-01-13</td>\n",
       "      <td>81</td>\n",
       "      <td>729</td>\n",
       "      <td>59049</td>\n",
       "    </tr>\n",
       "    <tr>\n",
       "      <td>2020-01-14</td>\n",
       "      <td>100</td>\n",
       "      <td>1000</td>\n",
       "      <td>100000</td>\n",
       "    </tr>\n",
       "  </tbody>\n",
       "</table>\n",
       "</div>"
      ],
      "text/plain": [
       "            x^2   x^3     x^5\n",
       "2020-01-01    1     1       1\n",
       "2020-01-02    4     8      32\n",
       "2020-01-03    9    27     243\n",
       "2020-01-06   16    64    1024\n",
       "2020-01-07   25   125    3125\n",
       "2020-01-08   36   216    7776\n",
       "2020-01-09   49   343   16807\n",
       "2020-01-10   64   512   32768\n",
       "2020-01-13   81   729   59049\n",
       "2020-01-14  100  1000  100000"
      ]
     },
     "execution_count": 99,
     "metadata": {},
     "output_type": "execute_result"
    }
   ],
   "source": [
    "df_x235 = df[['x^2', 'x^3', 'x^5']]\n",
    "df_x235"
   ]
  },
  {
   "cell_type": "markdown",
   "metadata": {},
   "source": [
    "and notice that a new DataFrame is returned"
   ]
  },
  {
   "cell_type": "code",
   "execution_count": 100,
   "metadata": {},
   "outputs": [
    {
     "data": {
      "text/plain": [
       "pandas.core.frame.DataFrame"
      ]
     },
     "execution_count": 100,
     "metadata": {},
     "output_type": "execute_result"
    }
   ],
   "source": [
    "type(df_x235)"
   ]
  },
  {
   "cell_type": "markdown",
   "metadata": {},
   "source": [
    "### 2.3.2. Conditional Selection: filtering rows <a name=\"df_conditional_selection\"></a>"
   ]
  },
  {
   "cell_type": "markdown",
   "metadata": {},
   "source": [
    "In this section we describe how you can filter specific rows according to a logical condition. You can input a logical condition `logicalCondition` to the `[]` access operator, like `df[logicalCondition]`. Here is an overview:\n",
    "\n",
    "examples | meaning\n",
    " :---: |  :---: \n",
    "  `df[df['x^2'] > 5]` | all rows s.t. values in 'x^2' col are > 5\n",
    "  `df[df['x^2'] <= df['x']]` | all rows s.t. values on 'x^2' col are <= than values in 'x' col\n",
    "  `df[df['rating'].isin(['AAA', 'AA', 'A'])]` | all rows s.t. values in 'rating' col are in the list ['AAA', 'AA', 'A'] \n"
   ]
  },
  {
   "cell_type": "code",
   "execution_count": 101,
   "metadata": {
    "scrolled": true
   },
   "outputs": [
    {
     "data": {
      "text/html": [
       "<div>\n",
       "<style scoped>\n",
       "    .dataframe tbody tr th:only-of-type {\n",
       "        vertical-align: middle;\n",
       "    }\n",
       "\n",
       "    .dataframe tbody tr th {\n",
       "        vertical-align: top;\n",
       "    }\n",
       "\n",
       "    .dataframe thead th {\n",
       "        text-align: right;\n",
       "    }\n",
       "</style>\n",
       "<table border=\"1\" class=\"dataframe\">\n",
       "  <thead>\n",
       "    <tr style=\"text-align: right;\">\n",
       "      <th></th>\n",
       "      <th>x</th>\n",
       "      <th>x^2</th>\n",
       "      <th>x^3</th>\n",
       "      <th>x^4</th>\n",
       "      <th>x^5</th>\n",
       "    </tr>\n",
       "  </thead>\n",
       "  <tbody>\n",
       "    <tr>\n",
       "      <td>2020-01-01</td>\n",
       "      <td>1</td>\n",
       "      <td>1</td>\n",
       "      <td>1</td>\n",
       "      <td>1</td>\n",
       "      <td>1</td>\n",
       "    </tr>\n",
       "    <tr>\n",
       "      <td>2020-01-02</td>\n",
       "      <td>2</td>\n",
       "      <td>4</td>\n",
       "      <td>8</td>\n",
       "      <td>16</td>\n",
       "      <td>32</td>\n",
       "    </tr>\n",
       "    <tr>\n",
       "      <td>2020-01-03</td>\n",
       "      <td>3</td>\n",
       "      <td>9</td>\n",
       "      <td>27</td>\n",
       "      <td>81</td>\n",
       "      <td>243</td>\n",
       "    </tr>\n",
       "    <tr>\n",
       "      <td>2020-01-06</td>\n",
       "      <td>4</td>\n",
       "      <td>16</td>\n",
       "      <td>64</td>\n",
       "      <td>256</td>\n",
       "      <td>1024</td>\n",
       "    </tr>\n",
       "    <tr>\n",
       "      <td>2020-01-07</td>\n",
       "      <td>5</td>\n",
       "      <td>25</td>\n",
       "      <td>125</td>\n",
       "      <td>625</td>\n",
       "      <td>3125</td>\n",
       "    </tr>\n",
       "    <tr>\n",
       "      <td>2020-01-08</td>\n",
       "      <td>6</td>\n",
       "      <td>36</td>\n",
       "      <td>216</td>\n",
       "      <td>1296</td>\n",
       "      <td>7776</td>\n",
       "    </tr>\n",
       "    <tr>\n",
       "      <td>2020-01-09</td>\n",
       "      <td>7</td>\n",
       "      <td>49</td>\n",
       "      <td>343</td>\n",
       "      <td>2401</td>\n",
       "      <td>16807</td>\n",
       "    </tr>\n",
       "    <tr>\n",
       "      <td>2020-01-10</td>\n",
       "      <td>8</td>\n",
       "      <td>64</td>\n",
       "      <td>512</td>\n",
       "      <td>4096</td>\n",
       "      <td>32768</td>\n",
       "    </tr>\n",
       "    <tr>\n",
       "      <td>2020-01-13</td>\n",
       "      <td>9</td>\n",
       "      <td>81</td>\n",
       "      <td>729</td>\n",
       "      <td>6561</td>\n",
       "      <td>59049</td>\n",
       "    </tr>\n",
       "    <tr>\n",
       "      <td>2020-01-14</td>\n",
       "      <td>10</td>\n",
       "      <td>100</td>\n",
       "      <td>1000</td>\n",
       "      <td>10000</td>\n",
       "      <td>100000</td>\n",
       "    </tr>\n",
       "  </tbody>\n",
       "</table>\n",
       "</div>"
      ],
      "text/plain": [
       "             x  x^2   x^3    x^4     x^5\n",
       "2020-01-01   1    1     1      1       1\n",
       "2020-01-02   2    4     8     16      32\n",
       "2020-01-03   3    9    27     81     243\n",
       "2020-01-06   4   16    64    256    1024\n",
       "2020-01-07   5   25   125    625    3125\n",
       "2020-01-08   6   36   216   1296    7776\n",
       "2020-01-09   7   49   343   2401   16807\n",
       "2020-01-10   8   64   512   4096   32768\n",
       "2020-01-13   9   81   729   6561   59049\n",
       "2020-01-14  10  100  1000  10000  100000"
      ]
     },
     "execution_count": 101,
     "metadata": {},
     "output_type": "execute_result"
    }
   ],
   "source": [
    "df"
   ]
  },
  {
   "cell_type": "markdown",
   "metadata": {},
   "source": [
    "Suppose that you want to filter the rows for which column `x^2` is greater than a given threshold, say 17. The logical condition to achieve this is"
   ]
  },
  {
   "cell_type": "code",
   "execution_count": 102,
   "metadata": {},
   "outputs": [
    {
     "data": {
      "text/plain": [
       "2020-01-01    False\n",
       "2020-01-02    False\n",
       "2020-01-03    False\n",
       "2020-01-06    False\n",
       "2020-01-07     True\n",
       "2020-01-08     True\n",
       "2020-01-09     True\n",
       "2020-01-10     True\n",
       "2020-01-13     True\n",
       "2020-01-14     True\n",
       "Freq: B, Name: x^2, dtype: bool"
      ]
     },
     "execution_count": 102,
     "metadata": {},
     "output_type": "execute_result"
    }
   ],
   "source": [
    "df['x^2'] > 17"
   ]
  },
  {
   "cell_type": "markdown",
   "metadata": {},
   "source": [
    "Notice that what is returned is a Pandas Series that is named after column `x^2` and that has `True`/`False` boolean values according to whether the condition is satisfied or not."
   ]
  },
  {
   "cell_type": "markdown",
   "metadata": {},
   "source": [
    "You can use this Series of boolean values to actually filter rows of the original DataFrame"
   ]
  },
  {
   "cell_type": "code",
   "execution_count": 103,
   "metadata": {},
   "outputs": [
    {
     "data": {
      "text/html": [
       "<div>\n",
       "<style scoped>\n",
       "    .dataframe tbody tr th:only-of-type {\n",
       "        vertical-align: middle;\n",
       "    }\n",
       "\n",
       "    .dataframe tbody tr th {\n",
       "        vertical-align: top;\n",
       "    }\n",
       "\n",
       "    .dataframe thead th {\n",
       "        text-align: right;\n",
       "    }\n",
       "</style>\n",
       "<table border=\"1\" class=\"dataframe\">\n",
       "  <thead>\n",
       "    <tr style=\"text-align: right;\">\n",
       "      <th></th>\n",
       "      <th>x</th>\n",
       "      <th>x^2</th>\n",
       "      <th>x^3</th>\n",
       "      <th>x^4</th>\n",
       "      <th>x^5</th>\n",
       "    </tr>\n",
       "  </thead>\n",
       "  <tbody>\n",
       "    <tr>\n",
       "      <td>2020-01-07</td>\n",
       "      <td>5</td>\n",
       "      <td>25</td>\n",
       "      <td>125</td>\n",
       "      <td>625</td>\n",
       "      <td>3125</td>\n",
       "    </tr>\n",
       "    <tr>\n",
       "      <td>2020-01-08</td>\n",
       "      <td>6</td>\n",
       "      <td>36</td>\n",
       "      <td>216</td>\n",
       "      <td>1296</td>\n",
       "      <td>7776</td>\n",
       "    </tr>\n",
       "    <tr>\n",
       "      <td>2020-01-09</td>\n",
       "      <td>7</td>\n",
       "      <td>49</td>\n",
       "      <td>343</td>\n",
       "      <td>2401</td>\n",
       "      <td>16807</td>\n",
       "    </tr>\n",
       "    <tr>\n",
       "      <td>2020-01-10</td>\n",
       "      <td>8</td>\n",
       "      <td>64</td>\n",
       "      <td>512</td>\n",
       "      <td>4096</td>\n",
       "      <td>32768</td>\n",
       "    </tr>\n",
       "    <tr>\n",
       "      <td>2020-01-13</td>\n",
       "      <td>9</td>\n",
       "      <td>81</td>\n",
       "      <td>729</td>\n",
       "      <td>6561</td>\n",
       "      <td>59049</td>\n",
       "    </tr>\n",
       "    <tr>\n",
       "      <td>2020-01-14</td>\n",
       "      <td>10</td>\n",
       "      <td>100</td>\n",
       "      <td>1000</td>\n",
       "      <td>10000</td>\n",
       "      <td>100000</td>\n",
       "    </tr>\n",
       "  </tbody>\n",
       "</table>\n",
       "</div>"
      ],
      "text/plain": [
       "             x  x^2   x^3    x^4     x^5\n",
       "2020-01-07   5   25   125    625    3125\n",
       "2020-01-08   6   36   216   1296    7776\n",
       "2020-01-09   7   49   343   2401   16807\n",
       "2020-01-10   8   64   512   4096   32768\n",
       "2020-01-13   9   81   729   6561   59049\n",
       "2020-01-14  10  100  1000  10000  100000"
      ]
     },
     "execution_count": 103,
     "metadata": {},
     "output_type": "execute_result"
    }
   ],
   "source": [
    "df[df['x^2'] > 17]"
   ]
  },
  {
   "cell_type": "markdown",
   "metadata": {},
   "source": [
    "Notice that the output is the original DataFrame (all columns) with only the rows for that the Series `df['x^2'] > 17` has `True` value. That is to say, only those rows for which the conditon $x^2 > 17$ is satisfied."
   ]
  },
  {
   "cell_type": "markdown",
   "metadata": {},
   "source": [
    "The logical condition might involve other rows too. For example, let's define a new DataFrame with power-like columns of decimal number $d \\in [0,2]$ range"
   ]
  },
  {
   "cell_type": "code",
   "execution_count": 104,
   "metadata": {},
   "outputs": [],
   "source": [
    "mat_decimal = np.array([[i**k for i in np.linspace(0,2,10)] for k in range(1,6)]).T"
   ]
  },
  {
   "cell_type": "code",
   "execution_count": 105,
   "metadata": {},
   "outputs": [],
   "source": [
    "x_axis = [i for i in np.linspace(0,2,10)]"
   ]
  },
  {
   "cell_type": "code",
   "execution_count": 106,
   "metadata": {
    "scrolled": true
   },
   "outputs": [
    {
     "data": {
      "text/html": [
       "<div>\n",
       "<style scoped>\n",
       "    .dataframe tbody tr th:only-of-type {\n",
       "        vertical-align: middle;\n",
       "    }\n",
       "\n",
       "    .dataframe tbody tr th {\n",
       "        vertical-align: top;\n",
       "    }\n",
       "\n",
       "    .dataframe thead th {\n",
       "        text-align: right;\n",
       "    }\n",
       "</style>\n",
       "<table border=\"1\" class=\"dataframe\">\n",
       "  <thead>\n",
       "    <tr style=\"text-align: right;\">\n",
       "      <th></th>\n",
       "      <th>x</th>\n",
       "      <th>x^2</th>\n",
       "      <th>x^3</th>\n",
       "      <th>x^4</th>\n",
       "      <th>x^5</th>\n",
       "    </tr>\n",
       "  </thead>\n",
       "  <tbody>\n",
       "    <tr>\n",
       "      <td>0.000000</td>\n",
       "      <td>0.000000</td>\n",
       "      <td>0.000000</td>\n",
       "      <td>0.000000</td>\n",
       "      <td>0.000000</td>\n",
       "      <td>0.000000</td>\n",
       "    </tr>\n",
       "    <tr>\n",
       "      <td>0.222222</td>\n",
       "      <td>0.222222</td>\n",
       "      <td>0.049383</td>\n",
       "      <td>0.010974</td>\n",
       "      <td>0.002439</td>\n",
       "      <td>0.000542</td>\n",
       "    </tr>\n",
       "    <tr>\n",
       "      <td>0.444444</td>\n",
       "      <td>0.444444</td>\n",
       "      <td>0.197531</td>\n",
       "      <td>0.087791</td>\n",
       "      <td>0.039018</td>\n",
       "      <td>0.017342</td>\n",
       "    </tr>\n",
       "    <tr>\n",
       "      <td>0.666667</td>\n",
       "      <td>0.666667</td>\n",
       "      <td>0.444444</td>\n",
       "      <td>0.296296</td>\n",
       "      <td>0.197531</td>\n",
       "      <td>0.131687</td>\n",
       "    </tr>\n",
       "    <tr>\n",
       "      <td>0.888889</td>\n",
       "      <td>0.888889</td>\n",
       "      <td>0.790123</td>\n",
       "      <td>0.702332</td>\n",
       "      <td>0.624295</td>\n",
       "      <td>0.554929</td>\n",
       "    </tr>\n",
       "    <tr>\n",
       "      <td>1.111111</td>\n",
       "      <td>1.111111</td>\n",
       "      <td>1.234568</td>\n",
       "      <td>1.371742</td>\n",
       "      <td>1.524158</td>\n",
       "      <td>1.693509</td>\n",
       "    </tr>\n",
       "    <tr>\n",
       "      <td>1.333333</td>\n",
       "      <td>1.333333</td>\n",
       "      <td>1.777778</td>\n",
       "      <td>2.370370</td>\n",
       "      <td>3.160494</td>\n",
       "      <td>4.213992</td>\n",
       "    </tr>\n",
       "    <tr>\n",
       "      <td>1.555556</td>\n",
       "      <td>1.555556</td>\n",
       "      <td>2.419753</td>\n",
       "      <td>3.764060</td>\n",
       "      <td>5.855205</td>\n",
       "      <td>9.108097</td>\n",
       "    </tr>\n",
       "    <tr>\n",
       "      <td>1.777778</td>\n",
       "      <td>1.777778</td>\n",
       "      <td>3.160494</td>\n",
       "      <td>5.618656</td>\n",
       "      <td>9.988721</td>\n",
       "      <td>17.757727</td>\n",
       "    </tr>\n",
       "    <tr>\n",
       "      <td>2.000000</td>\n",
       "      <td>2.000000</td>\n",
       "      <td>4.000000</td>\n",
       "      <td>8.000000</td>\n",
       "      <td>16.000000</td>\n",
       "      <td>32.000000</td>\n",
       "    </tr>\n",
       "  </tbody>\n",
       "</table>\n",
       "</div>"
      ],
      "text/plain": [
       "                 x       x^2       x^3        x^4        x^5\n",
       "0.000000  0.000000  0.000000  0.000000   0.000000   0.000000\n",
       "0.222222  0.222222  0.049383  0.010974   0.002439   0.000542\n",
       "0.444444  0.444444  0.197531  0.087791   0.039018   0.017342\n",
       "0.666667  0.666667  0.444444  0.296296   0.197531   0.131687\n",
       "0.888889  0.888889  0.790123  0.702332   0.624295   0.554929\n",
       "1.111111  1.111111  1.234568  1.371742   1.524158   1.693509\n",
       "1.333333  1.333333  1.777778  2.370370   3.160494   4.213992\n",
       "1.555556  1.555556  2.419753  3.764060   5.855205   9.108097\n",
       "1.777778  1.777778  3.160494  5.618656   9.988721  17.757727\n",
       "2.000000  2.000000  4.000000  8.000000  16.000000  32.000000"
      ]
     },
     "execution_count": 106,
     "metadata": {},
     "output_type": "execute_result"
    }
   ],
   "source": [
    "df_decimal = pd.DataFrame(data = mat_decimal,\n",
    "                          index = x_axis,\n",
    "                          columns = df.columns)\n",
    "\n",
    "df_decimal"
   ]
  },
  {
   "cell_type": "markdown",
   "metadata": {},
   "source": [
    "Notice that to index the DataFrame we use a standard grid of the $[0,2]$ segment on the x-axis, made of 10 linearly spaced points. Of course, it coincides with column `x`, as the latter represents the identity function $f(x)=x$."
   ]
  },
  {
   "cell_type": "markdown",
   "metadata": {},
   "source": [
    "Let's focus on the first two columns `x` and `x^2` and let's see for which values of the x-axis the $x^2 \\leq x$. A plot might helps here: "
   ]
  },
  {
   "cell_type": "code",
   "execution_count": 107,
   "metadata": {},
   "outputs": [
    {
     "data": {
      "text/plain": [
       "<matplotlib.axes._subplots.AxesSubplot at 0x25d1d8eba48>"
      ]
     },
     "execution_count": 107,
     "metadata": {},
     "output_type": "execute_result"
    },
    {
     "data": {
      "image/png": "[encoded data removed]",
      "text/plain": [
       "<Figure size 432x288 with 1 Axes>"
      ]
     },
     "metadata": {
      "needs_background": "light"
     },
     "output_type": "display_data"
    }
   ],
   "source": [
    "df_decimal[['x', 'x^2']].plot()"
   ]
  },
  {
   "cell_type": "markdown",
   "metadata": {},
   "source": [
    "Do you see it? The touching point $x = x^2$ is at $x=1$. For $x<1$, $x^2 < x$. Let's filter rows according to this condition"
   ]
  },
  {
   "cell_type": "code",
   "execution_count": 108,
   "metadata": {},
   "outputs": [
    {
     "data": {
      "text/plain": [
       "0.000000     True\n",
       "0.222222     True\n",
       "0.444444     True\n",
       "0.666667     True\n",
       "0.888889     True\n",
       "1.111111    False\n",
       "1.333333    False\n",
       "1.555556    False\n",
       "1.777778    False\n",
       "2.000000    False\n",
       "dtype: bool"
      ]
     },
     "execution_count": 108,
     "metadata": {},
     "output_type": "execute_result"
    }
   ],
   "source": [
    "df_decimal['x^2'] <= df_decimal['x']"
   ]
  },
  {
   "cell_type": "markdown",
   "metadata": {},
   "source": [
    "again, we can use this Series of booleans to filter rows of `df_decimal`"
   ]
  },
  {
   "cell_type": "code",
   "execution_count": 109,
   "metadata": {},
   "outputs": [
    {
     "data": {
      "text/html": [
       "<div>\n",
       "<style scoped>\n",
       "    .dataframe tbody tr th:only-of-type {\n",
       "        vertical-align: middle;\n",
       "    }\n",
       "\n",
       "    .dataframe tbody tr th {\n",
       "        vertical-align: top;\n",
       "    }\n",
       "\n",
       "    .dataframe thead th {\n",
       "        text-align: right;\n",
       "    }\n",
       "</style>\n",
       "<table border=\"1\" class=\"dataframe\">\n",
       "  <thead>\n",
       "    <tr style=\"text-align: right;\">\n",
       "      <th></th>\n",
       "      <th>x</th>\n",
       "      <th>x^2</th>\n",
       "      <th>x^3</th>\n",
       "      <th>x^4</th>\n",
       "      <th>x^5</th>\n",
       "    </tr>\n",
       "  </thead>\n",
       "  <tbody>\n",
       "    <tr>\n",
       "      <td>0.000000</td>\n",
       "      <td>0.000000</td>\n",
       "      <td>0.000000</td>\n",
       "      <td>0.000000</td>\n",
       "      <td>0.000000</td>\n",
       "      <td>0.000000</td>\n",
       "    </tr>\n",
       "    <tr>\n",
       "      <td>0.222222</td>\n",
       "      <td>0.222222</td>\n",
       "      <td>0.049383</td>\n",
       "      <td>0.010974</td>\n",
       "      <td>0.002439</td>\n",
       "      <td>0.000542</td>\n",
       "    </tr>\n",
       "    <tr>\n",
       "      <td>0.444444</td>\n",
       "      <td>0.444444</td>\n",
       "      <td>0.197531</td>\n",
       "      <td>0.087791</td>\n",
       "      <td>0.039018</td>\n",
       "      <td>0.017342</td>\n",
       "    </tr>\n",
       "    <tr>\n",
       "      <td>0.666667</td>\n",
       "      <td>0.666667</td>\n",
       "      <td>0.444444</td>\n",
       "      <td>0.296296</td>\n",
       "      <td>0.197531</td>\n",
       "      <td>0.131687</td>\n",
       "    </tr>\n",
       "    <tr>\n",
       "      <td>0.888889</td>\n",
       "      <td>0.888889</td>\n",
       "      <td>0.790123</td>\n",
       "      <td>0.702332</td>\n",
       "      <td>0.624295</td>\n",
       "      <td>0.554929</td>\n",
       "    </tr>\n",
       "  </tbody>\n",
       "</table>\n",
       "</div>"
      ],
      "text/plain": [
       "                 x       x^2       x^3       x^4       x^5\n",
       "0.000000  0.000000  0.000000  0.000000  0.000000  0.000000\n",
       "0.222222  0.222222  0.049383  0.010974  0.002439  0.000542\n",
       "0.444444  0.444444  0.197531  0.087791  0.039018  0.017342\n",
       "0.666667  0.666667  0.444444  0.296296  0.197531  0.131687\n",
       "0.888889  0.888889  0.790123  0.702332  0.624295  0.554929"
      ]
     },
     "execution_count": 109,
     "metadata": {},
     "output_type": "execute_result"
    }
   ],
   "source": [
    "df_decimal[df_decimal['x^2'] <= df_decimal['x']]"
   ]
  },
  {
   "cell_type": "markdown",
   "metadata": {},
   "source": [
    "which, as expected, returns only rows for which the `x_axis` index is at most 1."
   ]
  },
  {
   "cell_type": "markdown",
   "metadata": {},
   "source": [
    "Finally, you may want to filter rows according to values in a list. Suppose we have a list of Standard & Poor's _high grade_ [credit ratings](https://en.wikipedia.org/wiki/Credit_rating)"
   ]
  },
  {
   "cell_type": "code",
   "execution_count": 110,
   "metadata": {},
   "outputs": [],
   "source": [
    "highGradeRatings = ['AA+', 'AA', 'AA-']"
   ]
  },
  {
   "cell_type": "markdown",
   "metadata": {},
   "source": [
    "and a DataFrame of some reference data (country, S&P credit ratings and corresponding spreads in [bps](https://en.wikipedia.org/wiki/Basis_point))"
   ]
  },
  {
   "cell_type": "code",
   "execution_count": 111,
   "metadata": {},
   "outputs": [
    {
     "data": {
      "text/html": [
       "<div>\n",
       "<style scoped>\n",
       "    .dataframe tbody tr th:only-of-type {\n",
       "        vertical-align: middle;\n",
       "    }\n",
       "\n",
       "    .dataframe tbody tr th {\n",
       "        vertical-align: top;\n",
       "    }\n",
       "\n",
       "    .dataframe thead th {\n",
       "        text-align: right;\n",
       "    }\n",
       "</style>\n",
       "<table border=\"1\" class=\"dataframe\">\n",
       "  <thead>\n",
       "    <tr style=\"text-align: right;\">\n",
       "      <th></th>\n",
       "      <th>S&amp;P Rating</th>\n",
       "      <th>Spread</th>\n",
       "      <th>Country</th>\n",
       "    </tr>\n",
       "  </thead>\n",
       "  <tbody>\n",
       "    <tr>\n",
       "      <td>Firm_1</td>\n",
       "      <td>A</td>\n",
       "      <td>100</td>\n",
       "      <td>USA</td>\n",
       "    </tr>\n",
       "    <tr>\n",
       "      <td>Firm_2</td>\n",
       "      <td>BB</td>\n",
       "      <td>300</td>\n",
       "      <td>ITA</td>\n",
       "    </tr>\n",
       "    <tr>\n",
       "      <td>Firm_3</td>\n",
       "      <td>AA</td>\n",
       "      <td>70</td>\n",
       "      <td>UK</td>\n",
       "    </tr>\n",
       "    <tr>\n",
       "      <td>Firm_4</td>\n",
       "      <td>CCC</td>\n",
       "      <td>700</td>\n",
       "      <td>ITA</td>\n",
       "    </tr>\n",
       "  </tbody>\n",
       "</table>\n",
       "</div>"
      ],
      "text/plain": [
       "       S&P Rating  Spread Country\n",
       "Firm_1          A     100     USA\n",
       "Firm_2         BB     300     ITA\n",
       "Firm_3         AA      70      UK\n",
       "Firm_4        CCC     700     ITA"
      ]
     },
     "execution_count": 111,
     "metadata": {},
     "output_type": "execute_result"
    }
   ],
   "source": [
    "df_refData = pd.DataFrame(data={\n",
    "                             'S&P Rating': ['A', 'BB', 'AA', 'CCC'],\n",
    "                             'Spread': [100, 300, 70, 700],\n",
    "                             'Country': ['USA', 'ITA', 'UK', 'ITA']\n",
    "                            },\n",
    "                       index=['Firm_1', 'Firm_2', 'Firm_3', 'Firm_4'])\n",
    "\n",
    "df_refData"
   ]
  },
  {
   "cell_type": "markdown",
   "metadata": {},
   "source": [
    "Notice how we have used a `dict` of Python `list` as `data` parameter in `pd.DataFrame` constructor, which provides both values and column names (which allows to skip `columns` parameter)."
   ]
  },
  {
   "cell_type": "markdown",
   "metadata": {},
   "source": [
    "So now suppose we want only want the rows (the firms) having a credit rating which is among the `highGradeRatings`."
   ]
  },
  {
   "cell_type": "markdown",
   "metadata": {},
   "source": [
    "You can do this row-filtering using the `.isin()` method, which tests whether values of a column are in a list"
   ]
  },
  {
   "cell_type": "code",
   "execution_count": 112,
   "metadata": {},
   "outputs": [
    {
     "data": {
      "text/plain": [
       "Firm_1    False\n",
       "Firm_2    False\n",
       "Firm_3     True\n",
       "Firm_4    False\n",
       "Name: S&P Rating, dtype: bool"
      ]
     },
     "execution_count": 112,
     "metadata": {},
     "output_type": "execute_result"
    }
   ],
   "source": [
    "df_refData['S&P Rating'].isin(highGradeRatings)"
   ]
  },
  {
   "cell_type": "markdown",
   "metadata": {},
   "source": [
    "and returns a Pandas Series of bools. You can use this boolean Series to filter rows "
   ]
  },
  {
   "cell_type": "code",
   "execution_count": 113,
   "metadata": {},
   "outputs": [
    {
     "data": {
      "text/html": [
       "<div>\n",
       "<style scoped>\n",
       "    .dataframe tbody tr th:only-of-type {\n",
       "        vertical-align: middle;\n",
       "    }\n",
       "\n",
       "    .dataframe tbody tr th {\n",
       "        vertical-align: top;\n",
       "    }\n",
       "\n",
       "    .dataframe thead th {\n",
       "        text-align: right;\n",
       "    }\n",
       "</style>\n",
       "<table border=\"1\" class=\"dataframe\">\n",
       "  <thead>\n",
       "    <tr style=\"text-align: right;\">\n",
       "      <th></th>\n",
       "      <th>S&amp;P Rating</th>\n",
       "      <th>Spread</th>\n",
       "      <th>Country</th>\n",
       "    </tr>\n",
       "  </thead>\n",
       "  <tbody>\n",
       "    <tr>\n",
       "      <td>Firm_3</td>\n",
       "      <td>AA</td>\n",
       "      <td>70</td>\n",
       "      <td>UK</td>\n",
       "    </tr>\n",
       "  </tbody>\n",
       "</table>\n",
       "</div>"
      ],
      "text/plain": [
       "       S&P Rating  Spread Country\n",
       "Firm_3         AA      70      UK"
      ]
     },
     "execution_count": 113,
     "metadata": {},
     "output_type": "execute_result"
    }
   ],
   "source": [
    "df_refData[df_refData['S&P Rating'].isin(highGradeRatings)]"
   ]
  },
  {
   "cell_type": "markdown",
   "metadata": {},
   "source": [
    "which, as expected, returns only row for `Firm_3`, that is the only firm with a rating in the `highGradeRatings` list."
   ]
  },
  {
   "cell_type": "markdown",
   "metadata": {},
   "source": [
    "### 2.3.3. Selecting rows with rows and columns _names_ : `.loc[]` <a name=\"df_loc\"></a>"
   ]
  },
  {
   "cell_type": "markdown",
   "metadata": {},
   "source": [
    "In this section we describe how you can select specific rows and columns using their labels. You can use the `.loc[ row indexer, column indexer ]` access operator using labels to identify rows and columns. For both the `row indexer`, before the comma, and the `column indexer`, after the comma, you can have several options. We review them in the next sub-sections."
   ]
  },
  {
   "cell_type": "code",
   "execution_count": 114,
   "metadata": {},
   "outputs": [
    {
     "data": {
      "text/html": [
       "<div>\n",
       "<style scoped>\n",
       "    .dataframe tbody tr th:only-of-type {\n",
       "        vertical-align: middle;\n",
       "    }\n",
       "\n",
       "    .dataframe tbody tr th {\n",
       "        vertical-align: top;\n",
       "    }\n",
       "\n",
       "    .dataframe thead th {\n",
       "        text-align: right;\n",
       "    }\n",
       "</style>\n",
       "<table border=\"1\" class=\"dataframe\">\n",
       "  <thead>\n",
       "    <tr style=\"text-align: right;\">\n",
       "      <th></th>\n",
       "      <th>x</th>\n",
       "      <th>x^2</th>\n",
       "      <th>x^3</th>\n",
       "      <th>x^4</th>\n",
       "      <th>x^5</th>\n",
       "    </tr>\n",
       "  </thead>\n",
       "  <tbody>\n",
       "    <tr>\n",
       "      <td>2020-01-01</td>\n",
       "      <td>1</td>\n",
       "      <td>1</td>\n",
       "      <td>1</td>\n",
       "      <td>1</td>\n",
       "      <td>1</td>\n",
       "    </tr>\n",
       "    <tr>\n",
       "      <td>2020-01-02</td>\n",
       "      <td>2</td>\n",
       "      <td>4</td>\n",
       "      <td>8</td>\n",
       "      <td>16</td>\n",
       "      <td>32</td>\n",
       "    </tr>\n",
       "    <tr>\n",
       "      <td>2020-01-03</td>\n",
       "      <td>3</td>\n",
       "      <td>9</td>\n",
       "      <td>27</td>\n",
       "      <td>81</td>\n",
       "      <td>243</td>\n",
       "    </tr>\n",
       "    <tr>\n",
       "      <td>2020-01-06</td>\n",
       "      <td>4</td>\n",
       "      <td>16</td>\n",
       "      <td>64</td>\n",
       "      <td>256</td>\n",
       "      <td>1024</td>\n",
       "    </tr>\n",
       "    <tr>\n",
       "      <td>2020-01-07</td>\n",
       "      <td>5</td>\n",
       "      <td>25</td>\n",
       "      <td>125</td>\n",
       "      <td>625</td>\n",
       "      <td>3125</td>\n",
       "    </tr>\n",
       "    <tr>\n",
       "      <td>2020-01-08</td>\n",
       "      <td>6</td>\n",
       "      <td>36</td>\n",
       "      <td>216</td>\n",
       "      <td>1296</td>\n",
       "      <td>7776</td>\n",
       "    </tr>\n",
       "    <tr>\n",
       "      <td>2020-01-09</td>\n",
       "      <td>7</td>\n",
       "      <td>49</td>\n",
       "      <td>343</td>\n",
       "      <td>2401</td>\n",
       "      <td>16807</td>\n",
       "    </tr>\n",
       "    <tr>\n",
       "      <td>2020-01-10</td>\n",
       "      <td>8</td>\n",
       "      <td>64</td>\n",
       "      <td>512</td>\n",
       "      <td>4096</td>\n",
       "      <td>32768</td>\n",
       "    </tr>\n",
       "    <tr>\n",
       "      <td>2020-01-13</td>\n",
       "      <td>9</td>\n",
       "      <td>81</td>\n",
       "      <td>729</td>\n",
       "      <td>6561</td>\n",
       "      <td>59049</td>\n",
       "    </tr>\n",
       "    <tr>\n",
       "      <td>2020-01-14</td>\n",
       "      <td>10</td>\n",
       "      <td>100</td>\n",
       "      <td>1000</td>\n",
       "      <td>10000</td>\n",
       "      <td>100000</td>\n",
       "    </tr>\n",
       "  </tbody>\n",
       "</table>\n",
       "</div>"
      ],
      "text/plain": [
       "             x  x^2   x^3    x^4     x^5\n",
       "2020-01-01   1    1     1      1       1\n",
       "2020-01-02   2    4     8     16      32\n",
       "2020-01-03   3    9    27     81     243\n",
       "2020-01-06   4   16    64    256    1024\n",
       "2020-01-07   5   25   125    625    3125\n",
       "2020-01-08   6   36   216   1296    7776\n",
       "2020-01-09   7   49   343   2401   16807\n",
       "2020-01-10   8   64   512   4096   32768\n",
       "2020-01-13   9   81   729   6561   59049\n",
       "2020-01-14  10  100  1000  10000  100000"
      ]
     },
     "execution_count": 114,
     "metadata": {},
     "output_type": "execute_result"
    }
   ],
   "source": [
    "df"
   ]
  },
  {
   "cell_type": "markdown",
   "metadata": {},
   "source": [
    "Of course you can combine different kind of indexers (single, list, slice, conditonal) for row and col indexers separately."
   ]
  },
  {
   "cell_type": "markdown",
   "metadata": {},
   "source": [
    "#### 2.3.3.1. Single label <a name=\"df_loc_single\"></a>"
   ]
  },
  {
   "cell_type": "markdown",
   "metadata": {},
   "source": [
    "A single label can be used to get one row and/or column only:\n",
    "\n",
    "row indexer | col indexer | syntax/example| meaning\n",
    ":---:       | :---:       | :---:  | :---: \n",
    "label | label | `df.loc[indexLabel, colName]` | element in col `colName` at row `indexLabel`\n",
    "      |       | `df.loc['2020-01-02', 'x^2']` |\n",
    "\n"
   ]
  },
  {
   "cell_type": "markdown",
   "metadata": {},
   "source": [
    "Let's select the single element in column `x^2` and at row of index '2020-01-06'"
   ]
  },
  {
   "cell_type": "code",
   "execution_count": 115,
   "metadata": {},
   "outputs": [
    {
     "data": {
      "text/plain": [
       "16"
      ]
     },
     "execution_count": 115,
     "metadata": {},
     "output_type": "execute_result"
    }
   ],
   "source": [
    "df.loc['2020-01-06', 'x^2']"
   ]
  },
  {
   "cell_type": "markdown",
   "metadata": {},
   "source": [
    "Typically, accessing using an index and/or a column that doesn't exist, raises a `KeyError`"
   ]
  },
  {
   "cell_type": "code",
   "execution_count": 116,
   "metadata": {},
   "outputs": [],
   "source": [
    "# raises KeyError as '2020-02-01' is not an index of df\n",
    "#\n",
    "# df.loc['2020-02-01', 'x^2']"
   ]
  },
  {
   "cell_type": "code",
   "execution_count": 117,
   "metadata": {},
   "outputs": [],
   "source": [
    "# raises KeyError as 'x^7' is not a column of df\n",
    "#\n",
    "# df.loc['2020-01-06', 'x^7']"
   ]
  },
  {
   "cell_type": "markdown",
   "metadata": {},
   "source": [
    "#### 2.3.3.2. List of labels <a name=\"df_loc_list\"></a>"
   ]
  },
  {
   "cell_type": "markdown",
   "metadata": {},
   "source": [
    "A list of labels can be used to get a list of rows and/or columns, using `pd.to_datetime()` in case of (typically) indexes which are Dates Strings:\n",
    "\n",
    "row indexer | col indexer | syntax/example| meaning\n",
    ":---:       | :---:       | :---:  | :---: \n",
    "... | names list | `df.loc[..., [listOfCols]]` | elements in `[listOfCols]` cols at rows...\n",
    "      |            | `df.loc[..., ['x^2', 'x^3', 'x^5']]`  |   \n",
    "labels list  | ... | `df.loc[[listOfIndexLabels], ...]` | elements at `[listOfIndexLabels]` rows and in cols...\n",
    "             |       | `df.loc[['a', 'c', 'd'], ...]` |   \n",
    "dates list   | ... | `df.loc[pd.to_datetime([listOfDatesStrings]), ...]` | elements at `[listOfDatesStrings]` rows and in cols...\n",
    "             |       | `df.loc[pd.to_datetime(['2020-01-02', '2020-01-05']), ...]` |"
   ]
  },
  {
   "cell_type": "markdown",
   "metadata": {},
   "source": [
    "Let's define a list of columns and rows to use for the selection. Let's use `df_refData` for this example"
   ]
  },
  {
   "cell_type": "code",
   "execution_count": 118,
   "metadata": {},
   "outputs": [
    {
     "data": {
      "text/html": [
       "<div>\n",
       "<style scoped>\n",
       "    .dataframe tbody tr th:only-of-type {\n",
       "        vertical-align: middle;\n",
       "    }\n",
       "\n",
       "    .dataframe tbody tr th {\n",
       "        vertical-align: top;\n",
       "    }\n",
       "\n",
       "    .dataframe thead th {\n",
       "        text-align: right;\n",
       "    }\n",
       "</style>\n",
       "<table border=\"1\" class=\"dataframe\">\n",
       "  <thead>\n",
       "    <tr style=\"text-align: right;\">\n",
       "      <th></th>\n",
       "      <th>S&amp;P Rating</th>\n",
       "      <th>Spread</th>\n",
       "      <th>Country</th>\n",
       "    </tr>\n",
       "  </thead>\n",
       "  <tbody>\n",
       "    <tr>\n",
       "      <td>Firm_1</td>\n",
       "      <td>A</td>\n",
       "      <td>100</td>\n",
       "      <td>USA</td>\n",
       "    </tr>\n",
       "    <tr>\n",
       "      <td>Firm_2</td>\n",
       "      <td>BB</td>\n",
       "      <td>300</td>\n",
       "      <td>ITA</td>\n",
       "    </tr>\n",
       "    <tr>\n",
       "      <td>Firm_3</td>\n",
       "      <td>AA</td>\n",
       "      <td>70</td>\n",
       "      <td>UK</td>\n",
       "    </tr>\n",
       "    <tr>\n",
       "      <td>Firm_4</td>\n",
       "      <td>CCC</td>\n",
       "      <td>700</td>\n",
       "      <td>ITA</td>\n",
       "    </tr>\n",
       "  </tbody>\n",
       "</table>\n",
       "</div>"
      ],
      "text/plain": [
       "       S&P Rating  Spread Country\n",
       "Firm_1          A     100     USA\n",
       "Firm_2         BB     300     ITA\n",
       "Firm_3         AA      70      UK\n",
       "Firm_4        CCC     700     ITA"
      ]
     },
     "execution_count": 118,
     "metadata": {},
     "output_type": "execute_result"
    }
   ],
   "source": [
    "df_refData"
   ]
  },
  {
   "cell_type": "code",
   "execution_count": 119,
   "metadata": {},
   "outputs": [],
   "source": [
    "referenceData = ['S&P Rating', 'Spread']\n",
    "firms = ['Firm_1', 'Firm_4']"
   ]
  },
  {
   "cell_type": "markdown",
   "metadata": {},
   "source": [
    "and select rows and/or columns accordingly"
   ]
  },
  {
   "cell_type": "code",
   "execution_count": 120,
   "metadata": {},
   "outputs": [
    {
     "data": {
      "text/html": [
       "<div>\n",
       "<style scoped>\n",
       "    .dataframe tbody tr th:only-of-type {\n",
       "        vertical-align: middle;\n",
       "    }\n",
       "\n",
       "    .dataframe tbody tr th {\n",
       "        vertical-align: top;\n",
       "    }\n",
       "\n",
       "    .dataframe thead th {\n",
       "        text-align: right;\n",
       "    }\n",
       "</style>\n",
       "<table border=\"1\" class=\"dataframe\">\n",
       "  <thead>\n",
       "    <tr style=\"text-align: right;\">\n",
       "      <th></th>\n",
       "      <th>S&amp;P Rating</th>\n",
       "      <th>Spread</th>\n",
       "    </tr>\n",
       "  </thead>\n",
       "  <tbody>\n",
       "    <tr>\n",
       "      <td>Firm_1</td>\n",
       "      <td>A</td>\n",
       "      <td>100</td>\n",
       "    </tr>\n",
       "    <tr>\n",
       "      <td>Firm_4</td>\n",
       "      <td>CCC</td>\n",
       "      <td>700</td>\n",
       "    </tr>\n",
       "  </tbody>\n",
       "</table>\n",
       "</div>"
      ],
      "text/plain": [
       "       S&P Rating  Spread\n",
       "Firm_1          A     100\n",
       "Firm_4        CCC     700"
      ]
     },
     "execution_count": 120,
     "metadata": {},
     "output_type": "execute_result"
    }
   ],
   "source": [
    "df_refData.loc[firms, referenceData]"
   ]
  },
  {
   "cell_type": "markdown",
   "metadata": {},
   "source": [
    "Let's go back to `df`. DataFrame `df` has Dates as index (a `DatetimeIndex`)"
   ]
  },
  {
   "cell_type": "code",
   "execution_count": 121,
   "metadata": {},
   "outputs": [
    {
     "data": {
      "text/plain": [
       "DatetimeIndex(['2020-01-01', '2020-01-02', '2020-01-03', '2020-01-06',\n",
       "               '2020-01-07', '2020-01-08', '2020-01-09', '2020-01-10',\n",
       "               '2020-01-13', '2020-01-14'],\n",
       "              dtype='datetime64[ns]', freq='B')"
      ]
     },
     "execution_count": 121,
     "metadata": {},
     "output_type": "execute_result"
    }
   ],
   "source": [
    "df.index"
   ]
  },
  {
   "cell_type": "markdown",
   "metadata": {},
   "source": [
    "as already noticed for Pandas Series, when you want to filter rows according to a list of strings representing dates, you have to convert them into a valid `DatetimeIndex` object using `pd.to_datetime`"
   ]
  },
  {
   "cell_type": "markdown",
   "metadata": {},
   "source": [
    "So let's choose a few dates and cols"
   ]
  },
  {
   "cell_type": "code",
   "execution_count": 122,
   "metadata": {},
   "outputs": [],
   "source": [
    "someDates = ['2020-01-03', '2020-01-06', '2020-01-09']\n",
    "oddsPowerCols = ['x', 'x^3', 'x^5']"
   ]
  },
  {
   "cell_type": "code",
   "execution_count": 123,
   "metadata": {},
   "outputs": [
    {
     "data": {
      "text/html": [
       "<div>\n",
       "<style scoped>\n",
       "    .dataframe tbody tr th:only-of-type {\n",
       "        vertical-align: middle;\n",
       "    }\n",
       "\n",
       "    .dataframe tbody tr th {\n",
       "        vertical-align: top;\n",
       "    }\n",
       "\n",
       "    .dataframe thead th {\n",
       "        text-align: right;\n",
       "    }\n",
       "</style>\n",
       "<table border=\"1\" class=\"dataframe\">\n",
       "  <thead>\n",
       "    <tr style=\"text-align: right;\">\n",
       "      <th></th>\n",
       "      <th>x</th>\n",
       "      <th>x^3</th>\n",
       "      <th>x^5</th>\n",
       "    </tr>\n",
       "  </thead>\n",
       "  <tbody>\n",
       "    <tr>\n",
       "      <td>2020-01-03</td>\n",
       "      <td>3</td>\n",
       "      <td>27</td>\n",
       "      <td>243</td>\n",
       "    </tr>\n",
       "    <tr>\n",
       "      <td>2020-01-06</td>\n",
       "      <td>4</td>\n",
       "      <td>64</td>\n",
       "      <td>1024</td>\n",
       "    </tr>\n",
       "    <tr>\n",
       "      <td>2020-01-09</td>\n",
       "      <td>7</td>\n",
       "      <td>343</td>\n",
       "      <td>16807</td>\n",
       "    </tr>\n",
       "  </tbody>\n",
       "</table>\n",
       "</div>"
      ],
      "text/plain": [
       "            x  x^3    x^5\n",
       "2020-01-03  3   27    243\n",
       "2020-01-06  4   64   1024\n",
       "2020-01-09  7  343  16807"
      ]
     },
     "execution_count": 123,
     "metadata": {},
     "output_type": "execute_result"
    }
   ],
   "source": [
    "df.loc[pd.to_datetime(someDates), oddsPowerCols]"
   ]
  },
  {
   "cell_type": "markdown",
   "metadata": {},
   "source": [
    "as expected, the desired selection of odds powers at the requested dates is returned.  "
   ]
  },
  {
   "cell_type": "markdown",
   "metadata": {},
   "source": [
    "As already noticed for Pandas Series ( _repetita iuvant_ ) using the dates strings straight away as row indexer would raise a `KeyError` because Pandas tries to look for those raw stirngs among the indexes, whereas what you actually meant were dates..."
   ]
  },
  {
   "cell_type": "code",
   "execution_count": 124,
   "metadata": {},
   "outputs": [],
   "source": [
    "# raises KeyError\n",
    "#\n",
    "# df.loc[someDates, oddsPowerCols]"
   ]
  },
  {
   "cell_type": "markdown",
   "metadata": {},
   "source": [
    "#### 2.3.3.3. Slice of labels <a name=\"df_loc_slice\"></a>"
   ]
  },
  {
   "cell_type": "markdown",
   "metadata": {},
   "source": [
    "A slice of labels can be used to get a slice of rows and/or columns:\n",
    "\n",
    "row indexer | col indexer | syntax/example| meaning\n",
    ":---:       | :---:       | :---:  | :---: \n",
    "slice | ... | `df.loc[fromIndexLabel:toIndexLabel:eachTotRows, ...]` | elements at rows as per slice and in cols...\n",
    "      |       | `df.loc['2020-01-06':'2020-01-09', ...]` |\n",
    "...   | slice | `df.loc[..., fromColName:toColName:eachTotCols]` | elements in cols as per slice and at rows...\n",
    "      |       | `df.loc[..., 'x':'x^3']` |"
   ]
  },
  {
   "cell_type": "markdown",
   "metadata": {},
   "source": [
    "For example, we may be interested to the last few dates values of odds powers columns"
   ]
  },
  {
   "cell_type": "code",
   "execution_count": 125,
   "metadata": {},
   "outputs": [
    {
     "data": {
      "text/html": [
       "<div>\n",
       "<style scoped>\n",
       "    .dataframe tbody tr th:only-of-type {\n",
       "        vertical-align: middle;\n",
       "    }\n",
       "\n",
       "    .dataframe tbody tr th {\n",
       "        vertical-align: top;\n",
       "    }\n",
       "\n",
       "    .dataframe thead th {\n",
       "        text-align: right;\n",
       "    }\n",
       "</style>\n",
       "<table border=\"1\" class=\"dataframe\">\n",
       "  <thead>\n",
       "    <tr style=\"text-align: right;\">\n",
       "      <th></th>\n",
       "      <th>x</th>\n",
       "      <th>x^3</th>\n",
       "      <th>x^5</th>\n",
       "    </tr>\n",
       "  </thead>\n",
       "  <tbody>\n",
       "    <tr>\n",
       "      <td>2020-01-09</td>\n",
       "      <td>7</td>\n",
       "      <td>343</td>\n",
       "      <td>16807</td>\n",
       "    </tr>\n",
       "    <tr>\n",
       "      <td>2020-01-10</td>\n",
       "      <td>8</td>\n",
       "      <td>512</td>\n",
       "      <td>32768</td>\n",
       "    </tr>\n",
       "    <tr>\n",
       "      <td>2020-01-13</td>\n",
       "      <td>9</td>\n",
       "      <td>729</td>\n",
       "      <td>59049</td>\n",
       "    </tr>\n",
       "    <tr>\n",
       "      <td>2020-01-14</td>\n",
       "      <td>10</td>\n",
       "      <td>1000</td>\n",
       "      <td>100000</td>\n",
       "    </tr>\n",
       "  </tbody>\n",
       "</table>\n",
       "</div>"
      ],
      "text/plain": [
       "             x   x^3     x^5\n",
       "2020-01-09   7   343   16807\n",
       "2020-01-10   8   512   32768\n",
       "2020-01-13   9   729   59049\n",
       "2020-01-14  10  1000  100000"
      ]
     },
     "execution_count": 125,
     "metadata": {},
     "output_type": "execute_result"
    }
   ],
   "source": [
    "df.loc['2020-01-09':, oddsPowerCols]"
   ]
  },
  {
   "cell_type": "markdown",
   "metadata": {},
   "source": [
    "where the slice `'2020-01-09':` selects all the dates indexes from '2020-01-09' to the end, whereas we use a list of column names as cols indexer."
   ]
  },
  {
   "cell_type": "markdown",
   "metadata": {},
   "source": [
    "You may instead be interested in a slice of columns. This is possible too..."
   ]
  },
  {
   "cell_type": "code",
   "execution_count": 126,
   "metadata": {},
   "outputs": [
    {
     "data": {
      "text/plain": [
       "x        7\n",
       "x^2     49\n",
       "x^3    343\n",
       "Name: 2020-01-09 00:00:00, dtype: int32"
      ]
     },
     "execution_count": 126,
     "metadata": {},
     "output_type": "execute_result"
    }
   ],
   "source": [
    "df.loc['2020-01-09', 'x':'x^3']"
   ]
  },
  {
   "cell_type": "markdown",
   "metadata": {},
   "source": [
    "Notice that a Series is returned. "
   ]
  },
  {
   "cell_type": "markdown",
   "metadata": {},
   "source": [
    "Of course, you can use simultaneously slices both for row indexers and col indexers"
   ]
  },
  {
   "cell_type": "code",
   "execution_count": 127,
   "metadata": {},
   "outputs": [
    {
     "data": {
      "text/html": [
       "<div>\n",
       "<style scoped>\n",
       "    .dataframe tbody tr th:only-of-type {\n",
       "        vertical-align: middle;\n",
       "    }\n",
       "\n",
       "    .dataframe tbody tr th {\n",
       "        vertical-align: top;\n",
       "    }\n",
       "\n",
       "    .dataframe thead th {\n",
       "        text-align: right;\n",
       "    }\n",
       "</style>\n",
       "<table border=\"1\" class=\"dataframe\">\n",
       "  <thead>\n",
       "    <tr style=\"text-align: right;\">\n",
       "      <th></th>\n",
       "      <th>x</th>\n",
       "      <th>x^2</th>\n",
       "      <th>x^3</th>\n",
       "    </tr>\n",
       "  </thead>\n",
       "  <tbody>\n",
       "    <tr>\n",
       "      <td>2020-01-09</td>\n",
       "      <td>7</td>\n",
       "      <td>49</td>\n",
       "      <td>343</td>\n",
       "    </tr>\n",
       "    <tr>\n",
       "      <td>2020-01-10</td>\n",
       "      <td>8</td>\n",
       "      <td>64</td>\n",
       "      <td>512</td>\n",
       "    </tr>\n",
       "    <tr>\n",
       "      <td>2020-01-13</td>\n",
       "      <td>9</td>\n",
       "      <td>81</td>\n",
       "      <td>729</td>\n",
       "    </tr>\n",
       "    <tr>\n",
       "      <td>2020-01-14</td>\n",
       "      <td>10</td>\n",
       "      <td>100</td>\n",
       "      <td>1000</td>\n",
       "    </tr>\n",
       "  </tbody>\n",
       "</table>\n",
       "</div>"
      ],
      "text/plain": [
       "             x  x^2   x^3\n",
       "2020-01-09   7   49   343\n",
       "2020-01-10   8   64   512\n",
       "2020-01-13   9   81   729\n",
       "2020-01-14  10  100  1000"
      ]
     },
     "execution_count": 127,
     "metadata": {},
     "output_type": "execute_result"
    }
   ],
   "source": [
    "df.loc['2020-01-09':, 'x':'x^3']"
   ]
  },
  {
   "cell_type": "markdown",
   "metadata": {},
   "source": [
    "that, as expected returns a DataFrame."
   ]
  },
  {
   "cell_type": "markdown",
   "metadata": {},
   "source": [
    "#### 2.3.3.4. Conditional Expression <a name=\"df_loc_conditional\"></a>"
   ]
  },
  {
   "cell_type": "markdown",
   "metadata": {},
   "source": [
    "A logical conditional expression can be used to filter rows and/or columns (typically according to their names):\n",
    "\n",
    "row indexer | col indexer | syntax/example| meaning\n",
    ":---:       | :---:       | :---:  | :---: \n",
    "logical condition  | ... | `df.loc[logicalCondition, ...]` | \n",
    "                   |     | `df.loc[df['x^2'] > 5, ...]` | elements at rows filtered as per logical condition and in cols...\n",
    "...  | logical condition | `df.loc[..., df.columns.isin(listOfNames)]` | elements in cols in the `listOfNames` and at rows...\n",
    "                   |     | `df.loc[..., df.columns.isin(['Pippo', 'x^3', 'Pluto'])]` | "
   ]
  },
  {
   "cell_type": "markdown",
   "metadata": {},
   "source": [
    "We can use `df_decimal` to make examples"
   ]
  },
  {
   "cell_type": "code",
   "execution_count": 128,
   "metadata": {},
   "outputs": [
    {
     "data": {
      "text/html": [
       "<div>\n",
       "<style scoped>\n",
       "    .dataframe tbody tr th:only-of-type {\n",
       "        vertical-align: middle;\n",
       "    }\n",
       "\n",
       "    .dataframe tbody tr th {\n",
       "        vertical-align: top;\n",
       "    }\n",
       "\n",
       "    .dataframe thead th {\n",
       "        text-align: right;\n",
       "    }\n",
       "</style>\n",
       "<table border=\"1\" class=\"dataframe\">\n",
       "  <thead>\n",
       "    <tr style=\"text-align: right;\">\n",
       "      <th></th>\n",
       "      <th>x</th>\n",
       "      <th>x^2</th>\n",
       "      <th>x^3</th>\n",
       "      <th>x^4</th>\n",
       "      <th>x^5</th>\n",
       "    </tr>\n",
       "  </thead>\n",
       "  <tbody>\n",
       "    <tr>\n",
       "      <td>0.000000</td>\n",
       "      <td>0.000000</td>\n",
       "      <td>0.000000</td>\n",
       "      <td>0.000000</td>\n",
       "      <td>0.000000</td>\n",
       "      <td>0.000000</td>\n",
       "    </tr>\n",
       "    <tr>\n",
       "      <td>0.222222</td>\n",
       "      <td>0.222222</td>\n",
       "      <td>0.049383</td>\n",
       "      <td>0.010974</td>\n",
       "      <td>0.002439</td>\n",
       "      <td>0.000542</td>\n",
       "    </tr>\n",
       "    <tr>\n",
       "      <td>0.444444</td>\n",
       "      <td>0.444444</td>\n",
       "      <td>0.197531</td>\n",
       "      <td>0.087791</td>\n",
       "      <td>0.039018</td>\n",
       "      <td>0.017342</td>\n",
       "    </tr>\n",
       "    <tr>\n",
       "      <td>0.666667</td>\n",
       "      <td>0.666667</td>\n",
       "      <td>0.444444</td>\n",
       "      <td>0.296296</td>\n",
       "      <td>0.197531</td>\n",
       "      <td>0.131687</td>\n",
       "    </tr>\n",
       "    <tr>\n",
       "      <td>0.888889</td>\n",
       "      <td>0.888889</td>\n",
       "      <td>0.790123</td>\n",
       "      <td>0.702332</td>\n",
       "      <td>0.624295</td>\n",
       "      <td>0.554929</td>\n",
       "    </tr>\n",
       "    <tr>\n",
       "      <td>1.111111</td>\n",
       "      <td>1.111111</td>\n",
       "      <td>1.234568</td>\n",
       "      <td>1.371742</td>\n",
       "      <td>1.524158</td>\n",
       "      <td>1.693509</td>\n",
       "    </tr>\n",
       "    <tr>\n",
       "      <td>1.333333</td>\n",
       "      <td>1.333333</td>\n",
       "      <td>1.777778</td>\n",
       "      <td>2.370370</td>\n",
       "      <td>3.160494</td>\n",
       "      <td>4.213992</td>\n",
       "    </tr>\n",
       "    <tr>\n",
       "      <td>1.555556</td>\n",
       "      <td>1.555556</td>\n",
       "      <td>2.419753</td>\n",
       "      <td>3.764060</td>\n",
       "      <td>5.855205</td>\n",
       "      <td>9.108097</td>\n",
       "    </tr>\n",
       "    <tr>\n",
       "      <td>1.777778</td>\n",
       "      <td>1.777778</td>\n",
       "      <td>3.160494</td>\n",
       "      <td>5.618656</td>\n",
       "      <td>9.988721</td>\n",
       "      <td>17.757727</td>\n",
       "    </tr>\n",
       "    <tr>\n",
       "      <td>2.000000</td>\n",
       "      <td>2.000000</td>\n",
       "      <td>4.000000</td>\n",
       "      <td>8.000000</td>\n",
       "      <td>16.000000</td>\n",
       "      <td>32.000000</td>\n",
       "    </tr>\n",
       "  </tbody>\n",
       "</table>\n",
       "</div>"
      ],
      "text/plain": [
       "                 x       x^2       x^3        x^4        x^5\n",
       "0.000000  0.000000  0.000000  0.000000   0.000000   0.000000\n",
       "0.222222  0.222222  0.049383  0.010974   0.002439   0.000542\n",
       "0.444444  0.444444  0.197531  0.087791   0.039018   0.017342\n",
       "0.666667  0.666667  0.444444  0.296296   0.197531   0.131687\n",
       "0.888889  0.888889  0.790123  0.702332   0.624295   0.554929\n",
       "1.111111  1.111111  1.234568  1.371742   1.524158   1.693509\n",
       "1.333333  1.333333  1.777778  2.370370   3.160494   4.213992\n",
       "1.555556  1.555556  2.419753  3.764060   5.855205   9.108097\n",
       "1.777778  1.777778  3.160494  5.618656   9.988721  17.757727\n",
       "2.000000  2.000000  4.000000  8.000000  16.000000  32.000000"
      ]
     },
     "execution_count": 128,
     "metadata": {},
     "output_type": "execute_result"
    }
   ],
   "source": [
    "df_decimal"
   ]
  },
  {
   "cell_type": "markdown",
   "metadata": {},
   "source": [
    "So, let's go back to our $x^2 \\leq x$ logical condition"
   ]
  },
  {
   "cell_type": "code",
   "execution_count": 129,
   "metadata": {},
   "outputs": [
    {
     "data": {
      "text/plain": [
       "0.000000     True\n",
       "0.222222     True\n",
       "0.444444     True\n",
       "0.666667     True\n",
       "0.888889     True\n",
       "1.111111    False\n",
       "1.333333    False\n",
       "1.555556    False\n",
       "1.777778    False\n",
       "2.000000    False\n",
       "dtype: bool"
      ]
     },
     "execution_count": 129,
     "metadata": {},
     "output_type": "execute_result"
    }
   ],
   "source": [
    "df_decimal['x^2'] <= df_decimal['x']"
   ]
  },
  {
   "cell_type": "markdown",
   "metadata": {},
   "source": [
    "Which you can use as a row indexer. If you are interested in all the columns, then fine, we have already seen that you can just use the `[]` access operator with the logical condition only (row filtering)"
   ]
  },
  {
   "cell_type": "code",
   "execution_count": 130,
   "metadata": {},
   "outputs": [
    {
     "data": {
      "text/html": [
       "<div>\n",
       "<style scoped>\n",
       "    .dataframe tbody tr th:only-of-type {\n",
       "        vertical-align: middle;\n",
       "    }\n",
       "\n",
       "    .dataframe tbody tr th {\n",
       "        vertical-align: top;\n",
       "    }\n",
       "\n",
       "    .dataframe thead th {\n",
       "        text-align: right;\n",
       "    }\n",
       "</style>\n",
       "<table border=\"1\" class=\"dataframe\">\n",
       "  <thead>\n",
       "    <tr style=\"text-align: right;\">\n",
       "      <th></th>\n",
       "      <th>x</th>\n",
       "      <th>x^2</th>\n",
       "      <th>x^3</th>\n",
       "      <th>x^4</th>\n",
       "      <th>x^5</th>\n",
       "    </tr>\n",
       "  </thead>\n",
       "  <tbody>\n",
       "    <tr>\n",
       "      <td>0.000000</td>\n",
       "      <td>0.000000</td>\n",
       "      <td>0.000000</td>\n",
       "      <td>0.000000</td>\n",
       "      <td>0.000000</td>\n",
       "      <td>0.000000</td>\n",
       "    </tr>\n",
       "    <tr>\n",
       "      <td>0.222222</td>\n",
       "      <td>0.222222</td>\n",
       "      <td>0.049383</td>\n",
       "      <td>0.010974</td>\n",
       "      <td>0.002439</td>\n",
       "      <td>0.000542</td>\n",
       "    </tr>\n",
       "    <tr>\n",
       "      <td>0.444444</td>\n",
       "      <td>0.444444</td>\n",
       "      <td>0.197531</td>\n",
       "      <td>0.087791</td>\n",
       "      <td>0.039018</td>\n",
       "      <td>0.017342</td>\n",
       "    </tr>\n",
       "    <tr>\n",
       "      <td>0.666667</td>\n",
       "      <td>0.666667</td>\n",
       "      <td>0.444444</td>\n",
       "      <td>0.296296</td>\n",
       "      <td>0.197531</td>\n",
       "      <td>0.131687</td>\n",
       "    </tr>\n",
       "    <tr>\n",
       "      <td>0.888889</td>\n",
       "      <td>0.888889</td>\n",
       "      <td>0.790123</td>\n",
       "      <td>0.702332</td>\n",
       "      <td>0.624295</td>\n",
       "      <td>0.554929</td>\n",
       "    </tr>\n",
       "  </tbody>\n",
       "</table>\n",
       "</div>"
      ],
      "text/plain": [
       "                 x       x^2       x^3       x^4       x^5\n",
       "0.000000  0.000000  0.000000  0.000000  0.000000  0.000000\n",
       "0.222222  0.222222  0.049383  0.010974  0.002439  0.000542\n",
       "0.444444  0.444444  0.197531  0.087791  0.039018  0.017342\n",
       "0.666667  0.666667  0.444444  0.296296  0.197531  0.131687\n",
       "0.888889  0.888889  0.790123  0.702332  0.624295  0.554929"
      ]
     },
     "execution_count": 130,
     "metadata": {},
     "output_type": "execute_result"
    }
   ],
   "source": [
    "df_decimal[df_decimal['x^2'] <= df_decimal['x']]"
   ]
  },
  {
   "cell_type": "markdown",
   "metadata": {},
   "source": [
    "Nevertheless, if you are not interested in all the columns, but say `x` and `x^2`, you may wrap them in a list to get only them back"
   ]
  },
  {
   "cell_type": "code",
   "execution_count": 131,
   "metadata": {},
   "outputs": [
    {
     "data": {
      "text/html": [
       "<div>\n",
       "<style scoped>\n",
       "    .dataframe tbody tr th:only-of-type {\n",
       "        vertical-align: middle;\n",
       "    }\n",
       "\n",
       "    .dataframe tbody tr th {\n",
       "        vertical-align: top;\n",
       "    }\n",
       "\n",
       "    .dataframe thead th {\n",
       "        text-align: right;\n",
       "    }\n",
       "</style>\n",
       "<table border=\"1\" class=\"dataframe\">\n",
       "  <thead>\n",
       "    <tr style=\"text-align: right;\">\n",
       "      <th></th>\n",
       "      <th>x</th>\n",
       "      <th>x^2</th>\n",
       "    </tr>\n",
       "  </thead>\n",
       "  <tbody>\n",
       "    <tr>\n",
       "      <td>0.000000</td>\n",
       "      <td>0.000000</td>\n",
       "      <td>0.000000</td>\n",
       "    </tr>\n",
       "    <tr>\n",
       "      <td>0.222222</td>\n",
       "      <td>0.222222</td>\n",
       "      <td>0.049383</td>\n",
       "    </tr>\n",
       "    <tr>\n",
       "      <td>0.444444</td>\n",
       "      <td>0.444444</td>\n",
       "      <td>0.197531</td>\n",
       "    </tr>\n",
       "    <tr>\n",
       "      <td>0.666667</td>\n",
       "      <td>0.666667</td>\n",
       "      <td>0.444444</td>\n",
       "    </tr>\n",
       "    <tr>\n",
       "      <td>0.888889</td>\n",
       "      <td>0.888889</td>\n",
       "      <td>0.790123</td>\n",
       "    </tr>\n",
       "  </tbody>\n",
       "</table>\n",
       "</div>"
      ],
      "text/plain": [
       "                 x       x^2\n",
       "0.000000  0.000000  0.000000\n",
       "0.222222  0.222222  0.049383\n",
       "0.444444  0.444444  0.197531\n",
       "0.666667  0.666667  0.444444\n",
       "0.888889  0.888889  0.790123"
      ]
     },
     "execution_count": 131,
     "metadata": {},
     "output_type": "execute_result"
    }
   ],
   "source": [
    "df_decimal.loc[df_decimal['x^2'] <= df_decimal['x'], ['x', 'x^2']]"
   ]
  },
  {
   "cell_type": "markdown",
   "metadata": {},
   "source": [
    "and notice that we need the `.loc[]` access operator since we are using column indexers too."
   ]
  },
  {
   "cell_type": "markdown",
   "metadata": {},
   "source": [
    "Let's go back to `df`"
   ]
  },
  {
   "cell_type": "code",
   "execution_count": 132,
   "metadata": {},
   "outputs": [
    {
     "data": {
      "text/plain": [
       "Index(['x', 'x^2', 'x^3', 'x^4', 'x^5'], dtype='object')"
      ]
     },
     "execution_count": 132,
     "metadata": {},
     "output_type": "execute_result"
    }
   ],
   "source": [
    "df.columns"
   ]
  },
  {
   "cell_type": "markdown",
   "metadata": {},
   "source": [
    "Suppose that you have a list o some names"
   ]
  },
  {
   "cell_type": "code",
   "execution_count": 133,
   "metadata": {},
   "outputs": [],
   "source": [
    "listOfNames = ['x', 'x^x', 'Pluto', 'x^3', 'y']"
   ]
  },
  {
   "cell_type": "markdown",
   "metadata": {},
   "source": [
    "as we see, some of them are columns of `df`, but there are others which are otherwise unrelated names."
   ]
  },
  {
   "cell_type": "markdown",
   "metadata": {},
   "source": [
    "Well, you can use the `.isin()` method of the `df.columns` attribute, which returns the subset of `df` columns which are in `listOfNames`, and can be used as a column indexer"
   ]
  },
  {
   "cell_type": "code",
   "execution_count": 134,
   "metadata": {},
   "outputs": [
    {
     "data": {
      "text/html": [
       "<div>\n",
       "<style scoped>\n",
       "    .dataframe tbody tr th:only-of-type {\n",
       "        vertical-align: middle;\n",
       "    }\n",
       "\n",
       "    .dataframe tbody tr th {\n",
       "        vertical-align: top;\n",
       "    }\n",
       "\n",
       "    .dataframe thead th {\n",
       "        text-align: right;\n",
       "    }\n",
       "</style>\n",
       "<table border=\"1\" class=\"dataframe\">\n",
       "  <thead>\n",
       "    <tr style=\"text-align: right;\">\n",
       "      <th></th>\n",
       "      <th>x</th>\n",
       "      <th>x^3</th>\n",
       "    </tr>\n",
       "  </thead>\n",
       "  <tbody>\n",
       "    <tr>\n",
       "      <td>2020-01-09</td>\n",
       "      <td>7</td>\n",
       "      <td>343</td>\n",
       "    </tr>\n",
       "    <tr>\n",
       "      <td>2020-01-10</td>\n",
       "      <td>8</td>\n",
       "      <td>512</td>\n",
       "    </tr>\n",
       "    <tr>\n",
       "      <td>2020-01-13</td>\n",
       "      <td>9</td>\n",
       "      <td>729</td>\n",
       "    </tr>\n",
       "    <tr>\n",
       "      <td>2020-01-14</td>\n",
       "      <td>10</td>\n",
       "      <td>1000</td>\n",
       "    </tr>\n",
       "  </tbody>\n",
       "</table>\n",
       "</div>"
      ],
      "text/plain": [
       "             x   x^3\n",
       "2020-01-09   7   343\n",
       "2020-01-10   8   512\n",
       "2020-01-13   9   729\n",
       "2020-01-14  10  1000"
      ]
     },
     "execution_count": 134,
     "metadata": {},
     "output_type": "execute_result"
    }
   ],
   "source": [
    "df.loc['2020-01-09':, df.columns.isin(listOfNames)]"
   ]
  },
  {
   "cell_type": "markdown",
   "metadata": {},
   "source": [
    "which, as expected, returns all the element at rows from date '2020-01-09' (slice of labels) but only for the `x` and `x^3` columns, which are the only two in the `listOfNames`. "
   ]
  },
  {
   "cell_type": "markdown",
   "metadata": {},
   "source": [
    "Notice that, if no column of `df.columns` is in `listOfNames`, a DataFrame without any column is returned"
   ]
  },
  {
   "cell_type": "code",
   "execution_count": 135,
   "metadata": {},
   "outputs": [],
   "source": [
    "unrelatedListOfNames = [ 'Donald Duck', 'Mickey Mouse']"
   ]
  },
  {
   "cell_type": "code",
   "execution_count": 136,
   "metadata": {},
   "outputs": [
    {
     "data": {
      "text/html": [
       "<div>\n",
       "<style scoped>\n",
       "    .dataframe tbody tr th:only-of-type {\n",
       "        vertical-align: middle;\n",
       "    }\n",
       "\n",
       "    .dataframe tbody tr th {\n",
       "        vertical-align: top;\n",
       "    }\n",
       "\n",
       "    .dataframe thead th {\n",
       "        text-align: right;\n",
       "    }\n",
       "</style>\n",
       "<table border=\"1\" class=\"dataframe\">\n",
       "  <thead>\n",
       "    <tr style=\"text-align: right;\">\n",
       "      <th></th>\n",
       "    </tr>\n",
       "  </thead>\n",
       "  <tbody>\n",
       "    <tr>\n",
       "      <td>2020-01-09</td>\n",
       "    </tr>\n",
       "    <tr>\n",
       "      <td>2020-01-10</td>\n",
       "    </tr>\n",
       "    <tr>\n",
       "      <td>2020-01-13</td>\n",
       "    </tr>\n",
       "    <tr>\n",
       "      <td>2020-01-14</td>\n",
       "    </tr>\n",
       "  </tbody>\n",
       "</table>\n",
       "</div>"
      ],
      "text/plain": [
       "Empty DataFrame\n",
       "Columns: []\n",
       "Index: [2020-01-09 00:00:00, 2020-01-10 00:00:00, 2020-01-13 00:00:00, 2020-01-14 00:00:00]"
      ]
     },
     "execution_count": 136,
     "metadata": {},
     "output_type": "execute_result"
    }
   ],
   "source": [
    "df.loc['2020-01-09':, df.columns.isin(unrelatedListOfNames)]"
   ]
  },
  {
   "cell_type": "markdown",
   "metadata": {},
   "source": [
    "quite a strange object, I agree. Just remember this is caused by the fact that no column of `df` was in `unrelatedLisOfNames`."
   ]
  },
  {
   "cell_type": "markdown",
   "metadata": {},
   "source": [
    "#### 2.3.3.5. Colon `:` <a name=\"df_loc_colon\"></a>"
   ]
  },
  {
   "cell_type": "markdown",
   "metadata": {},
   "source": [
    "A colon `:` can be used to specify that you want to select all rows or columns:\n",
    "\n",
    "row indexer | col indexer | syntax/example| meaning\n",
    ":---:       | :---:       | :---:  | :---: \n",
    "`:`         | `:`         | `df.loc[:, :]` | all the elements (equivalent to just `df`)\n",
    "`:`         | ...         | `df.loc[:, ...]` | elements from all the rows and in cols...\n",
    "...         | `:`         | `df.loc[..., :]` | elements from all the cols and at rows...\n",
    "...         | omitted     | `df.loc[...]` | equivalent to `df.loc[..., :]` "
   ]
  },
  {
   "cell_type": "markdown",
   "metadata": {},
   "source": [
    "When you want the entire DataFrame you are used to just type `df`"
   ]
  },
  {
   "cell_type": "code",
   "execution_count": 137,
   "metadata": {},
   "outputs": [
    {
     "data": {
      "text/html": [
       "<div>\n",
       "<style scoped>\n",
       "    .dataframe tbody tr th:only-of-type {\n",
       "        vertical-align: middle;\n",
       "    }\n",
       "\n",
       "    .dataframe tbody tr th {\n",
       "        vertical-align: top;\n",
       "    }\n",
       "\n",
       "    .dataframe thead th {\n",
       "        text-align: right;\n",
       "    }\n",
       "</style>\n",
       "<table border=\"1\" class=\"dataframe\">\n",
       "  <thead>\n",
       "    <tr style=\"text-align: right;\">\n",
       "      <th></th>\n",
       "      <th>x</th>\n",
       "      <th>x^2</th>\n",
       "      <th>x^3</th>\n",
       "      <th>x^4</th>\n",
       "      <th>x^5</th>\n",
       "    </tr>\n",
       "  </thead>\n",
       "  <tbody>\n",
       "    <tr>\n",
       "      <td>2020-01-01</td>\n",
       "      <td>1</td>\n",
       "      <td>1</td>\n",
       "      <td>1</td>\n",
       "      <td>1</td>\n",
       "      <td>1</td>\n",
       "    </tr>\n",
       "    <tr>\n",
       "      <td>2020-01-02</td>\n",
       "      <td>2</td>\n",
       "      <td>4</td>\n",
       "      <td>8</td>\n",
       "      <td>16</td>\n",
       "      <td>32</td>\n",
       "    </tr>\n",
       "    <tr>\n",
       "      <td>2020-01-03</td>\n",
       "      <td>3</td>\n",
       "      <td>9</td>\n",
       "      <td>27</td>\n",
       "      <td>81</td>\n",
       "      <td>243</td>\n",
       "    </tr>\n",
       "    <tr>\n",
       "      <td>2020-01-06</td>\n",
       "      <td>4</td>\n",
       "      <td>16</td>\n",
       "      <td>64</td>\n",
       "      <td>256</td>\n",
       "      <td>1024</td>\n",
       "    </tr>\n",
       "    <tr>\n",
       "      <td>2020-01-07</td>\n",
       "      <td>5</td>\n",
       "      <td>25</td>\n",
       "      <td>125</td>\n",
       "      <td>625</td>\n",
       "      <td>3125</td>\n",
       "    </tr>\n",
       "    <tr>\n",
       "      <td>2020-01-08</td>\n",
       "      <td>6</td>\n",
       "      <td>36</td>\n",
       "      <td>216</td>\n",
       "      <td>1296</td>\n",
       "      <td>7776</td>\n",
       "    </tr>\n",
       "    <tr>\n",
       "      <td>2020-01-09</td>\n",
       "      <td>7</td>\n",
       "      <td>49</td>\n",
       "      <td>343</td>\n",
       "      <td>2401</td>\n",
       "      <td>16807</td>\n",
       "    </tr>\n",
       "    <tr>\n",
       "      <td>2020-01-10</td>\n",
       "      <td>8</td>\n",
       "      <td>64</td>\n",
       "      <td>512</td>\n",
       "      <td>4096</td>\n",
       "      <td>32768</td>\n",
       "    </tr>\n",
       "    <tr>\n",
       "      <td>2020-01-13</td>\n",
       "      <td>9</td>\n",
       "      <td>81</td>\n",
       "      <td>729</td>\n",
       "      <td>6561</td>\n",
       "      <td>59049</td>\n",
       "    </tr>\n",
       "    <tr>\n",
       "      <td>2020-01-14</td>\n",
       "      <td>10</td>\n",
       "      <td>100</td>\n",
       "      <td>1000</td>\n",
       "      <td>10000</td>\n",
       "      <td>100000</td>\n",
       "    </tr>\n",
       "  </tbody>\n",
       "</table>\n",
       "</div>"
      ],
      "text/plain": [
       "             x  x^2   x^3    x^4     x^5\n",
       "2020-01-01   1    1     1      1       1\n",
       "2020-01-02   2    4     8     16      32\n",
       "2020-01-03   3    9    27     81     243\n",
       "2020-01-06   4   16    64    256    1024\n",
       "2020-01-07   5   25   125    625    3125\n",
       "2020-01-08   6   36   216   1296    7776\n",
       "2020-01-09   7   49   343   2401   16807\n",
       "2020-01-10   8   64   512   4096   32768\n",
       "2020-01-13   9   81   729   6561   59049\n",
       "2020-01-14  10  100  1000  10000  100000"
      ]
     },
     "execution_count": 137,
     "metadata": {},
     "output_type": "execute_result"
    }
   ],
   "source": [
    "df"
   ]
  },
  {
   "cell_type": "markdown",
   "metadata": {},
   "source": [
    "and keep doing it. Just rememember that writing `df` is actually interpreted as a selection of all rows and columns of the DataFrame, omitting rows and cols indexers. An equivalent way to select all rows and cols, without omitting the indexers is `df.loc[:,:]`"
   ]
  },
  {
   "cell_type": "code",
   "execution_count": 138,
   "metadata": {},
   "outputs": [
    {
     "data": {
      "text/html": [
       "<div>\n",
       "<style scoped>\n",
       "    .dataframe tbody tr th:only-of-type {\n",
       "        vertical-align: middle;\n",
       "    }\n",
       "\n",
       "    .dataframe tbody tr th {\n",
       "        vertical-align: top;\n",
       "    }\n",
       "\n",
       "    .dataframe thead th {\n",
       "        text-align: right;\n",
       "    }\n",
       "</style>\n",
       "<table border=\"1\" class=\"dataframe\">\n",
       "  <thead>\n",
       "    <tr style=\"text-align: right;\">\n",
       "      <th></th>\n",
       "      <th>x</th>\n",
       "      <th>x^2</th>\n",
       "      <th>x^3</th>\n",
       "      <th>x^4</th>\n",
       "      <th>x^5</th>\n",
       "    </tr>\n",
       "  </thead>\n",
       "  <tbody>\n",
       "    <tr>\n",
       "      <td>2020-01-01</td>\n",
       "      <td>1</td>\n",
       "      <td>1</td>\n",
       "      <td>1</td>\n",
       "      <td>1</td>\n",
       "      <td>1</td>\n",
       "    </tr>\n",
       "    <tr>\n",
       "      <td>2020-01-02</td>\n",
       "      <td>2</td>\n",
       "      <td>4</td>\n",
       "      <td>8</td>\n",
       "      <td>16</td>\n",
       "      <td>32</td>\n",
       "    </tr>\n",
       "    <tr>\n",
       "      <td>2020-01-03</td>\n",
       "      <td>3</td>\n",
       "      <td>9</td>\n",
       "      <td>27</td>\n",
       "      <td>81</td>\n",
       "      <td>243</td>\n",
       "    </tr>\n",
       "    <tr>\n",
       "      <td>2020-01-06</td>\n",
       "      <td>4</td>\n",
       "      <td>16</td>\n",
       "      <td>64</td>\n",
       "      <td>256</td>\n",
       "      <td>1024</td>\n",
       "    </tr>\n",
       "    <tr>\n",
       "      <td>2020-01-07</td>\n",
       "      <td>5</td>\n",
       "      <td>25</td>\n",
       "      <td>125</td>\n",
       "      <td>625</td>\n",
       "      <td>3125</td>\n",
       "    </tr>\n",
       "    <tr>\n",
       "      <td>2020-01-08</td>\n",
       "      <td>6</td>\n",
       "      <td>36</td>\n",
       "      <td>216</td>\n",
       "      <td>1296</td>\n",
       "      <td>7776</td>\n",
       "    </tr>\n",
       "    <tr>\n",
       "      <td>2020-01-09</td>\n",
       "      <td>7</td>\n",
       "      <td>49</td>\n",
       "      <td>343</td>\n",
       "      <td>2401</td>\n",
       "      <td>16807</td>\n",
       "    </tr>\n",
       "    <tr>\n",
       "      <td>2020-01-10</td>\n",
       "      <td>8</td>\n",
       "      <td>64</td>\n",
       "      <td>512</td>\n",
       "      <td>4096</td>\n",
       "      <td>32768</td>\n",
       "    </tr>\n",
       "    <tr>\n",
       "      <td>2020-01-13</td>\n",
       "      <td>9</td>\n",
       "      <td>81</td>\n",
       "      <td>729</td>\n",
       "      <td>6561</td>\n",
       "      <td>59049</td>\n",
       "    </tr>\n",
       "    <tr>\n",
       "      <td>2020-01-14</td>\n",
       "      <td>10</td>\n",
       "      <td>100</td>\n",
       "      <td>1000</td>\n",
       "      <td>10000</td>\n",
       "      <td>100000</td>\n",
       "    </tr>\n",
       "  </tbody>\n",
       "</table>\n",
       "</div>"
      ],
      "text/plain": [
       "             x  x^2   x^3    x^4     x^5\n",
       "2020-01-01   1    1     1      1       1\n",
       "2020-01-02   2    4     8     16      32\n",
       "2020-01-03   3    9    27     81     243\n",
       "2020-01-06   4   16    64    256    1024\n",
       "2020-01-07   5   25   125    625    3125\n",
       "2020-01-08   6   36   216   1296    7776\n",
       "2020-01-09   7   49   343   2401   16807\n",
       "2020-01-10   8   64   512   4096   32768\n",
       "2020-01-13   9   81   729   6561   59049\n",
       "2020-01-14  10  100  1000  10000  100000"
      ]
     },
     "execution_count": 138,
     "metadata": {},
     "output_type": "execute_result"
    }
   ],
   "source": [
    "df.loc[:,:]"
   ]
  },
  {
   "cell_type": "markdown",
   "metadata": {},
   "source": [
    "If you want all rows but just some columns you can use the colon `:` as a row indexer"
   ]
  },
  {
   "cell_type": "code",
   "execution_count": 139,
   "metadata": {},
   "outputs": [
    {
     "data": {
      "text/html": [
       "<div>\n",
       "<style scoped>\n",
       "    .dataframe tbody tr th:only-of-type {\n",
       "        vertical-align: middle;\n",
       "    }\n",
       "\n",
       "    .dataframe tbody tr th {\n",
       "        vertical-align: top;\n",
       "    }\n",
       "\n",
       "    .dataframe thead th {\n",
       "        text-align: right;\n",
       "    }\n",
       "</style>\n",
       "<table border=\"1\" class=\"dataframe\">\n",
       "  <thead>\n",
       "    <tr style=\"text-align: right;\">\n",
       "      <th></th>\n",
       "      <th>x</th>\n",
       "      <th>x^2</th>\n",
       "    </tr>\n",
       "  </thead>\n",
       "  <tbody>\n",
       "    <tr>\n",
       "      <td>2020-01-01</td>\n",
       "      <td>1</td>\n",
       "      <td>1</td>\n",
       "    </tr>\n",
       "    <tr>\n",
       "      <td>2020-01-02</td>\n",
       "      <td>2</td>\n",
       "      <td>4</td>\n",
       "    </tr>\n",
       "    <tr>\n",
       "      <td>2020-01-03</td>\n",
       "      <td>3</td>\n",
       "      <td>9</td>\n",
       "    </tr>\n",
       "    <tr>\n",
       "      <td>2020-01-06</td>\n",
       "      <td>4</td>\n",
       "      <td>16</td>\n",
       "    </tr>\n",
       "    <tr>\n",
       "      <td>2020-01-07</td>\n",
       "      <td>5</td>\n",
       "      <td>25</td>\n",
       "    </tr>\n",
       "    <tr>\n",
       "      <td>2020-01-08</td>\n",
       "      <td>6</td>\n",
       "      <td>36</td>\n",
       "    </tr>\n",
       "    <tr>\n",
       "      <td>2020-01-09</td>\n",
       "      <td>7</td>\n",
       "      <td>49</td>\n",
       "    </tr>\n",
       "    <tr>\n",
       "      <td>2020-01-10</td>\n",
       "      <td>8</td>\n",
       "      <td>64</td>\n",
       "    </tr>\n",
       "    <tr>\n",
       "      <td>2020-01-13</td>\n",
       "      <td>9</td>\n",
       "      <td>81</td>\n",
       "    </tr>\n",
       "    <tr>\n",
       "      <td>2020-01-14</td>\n",
       "      <td>10</td>\n",
       "      <td>100</td>\n",
       "    </tr>\n",
       "  </tbody>\n",
       "</table>\n",
       "</div>"
      ],
      "text/plain": [
       "             x  x^2\n",
       "2020-01-01   1    1\n",
       "2020-01-02   2    4\n",
       "2020-01-03   3    9\n",
       "2020-01-06   4   16\n",
       "2020-01-07   5   25\n",
       "2020-01-08   6   36\n",
       "2020-01-09   7   49\n",
       "2020-01-10   8   64\n",
       "2020-01-13   9   81\n",
       "2020-01-14  10  100"
      ]
     },
     "execution_count": 139,
     "metadata": {},
     "output_type": "execute_result"
    }
   ],
   "source": [
    "df.loc[:, ['x', 'x^2']]"
   ]
  },
  {
   "cell_type": "markdown",
   "metadata": {},
   "source": [
    "In the same way, if you want all the columns, but just a few rows, you can use the colon `:` as a cols indexer"
   ]
  },
  {
   "cell_type": "code",
   "execution_count": 140,
   "metadata": {},
   "outputs": [
    {
     "data": {
      "text/html": [
       "<div>\n",
       "<style scoped>\n",
       "    .dataframe tbody tr th:only-of-type {\n",
       "        vertical-align: middle;\n",
       "    }\n",
       "\n",
       "    .dataframe tbody tr th {\n",
       "        vertical-align: top;\n",
       "    }\n",
       "\n",
       "    .dataframe thead th {\n",
       "        text-align: right;\n",
       "    }\n",
       "</style>\n",
       "<table border=\"1\" class=\"dataframe\">\n",
       "  <thead>\n",
       "    <tr style=\"text-align: right;\">\n",
       "      <th></th>\n",
       "      <th>x</th>\n",
       "      <th>x^2</th>\n",
       "      <th>x^3</th>\n",
       "      <th>x^4</th>\n",
       "      <th>x^5</th>\n",
       "    </tr>\n",
       "  </thead>\n",
       "  <tbody>\n",
       "    <tr>\n",
       "      <td>2020-01-09</td>\n",
       "      <td>7</td>\n",
       "      <td>49</td>\n",
       "      <td>343</td>\n",
       "      <td>2401</td>\n",
       "      <td>16807</td>\n",
       "    </tr>\n",
       "    <tr>\n",
       "      <td>2020-01-10</td>\n",
       "      <td>8</td>\n",
       "      <td>64</td>\n",
       "      <td>512</td>\n",
       "      <td>4096</td>\n",
       "      <td>32768</td>\n",
       "    </tr>\n",
       "    <tr>\n",
       "      <td>2020-01-13</td>\n",
       "      <td>9</td>\n",
       "      <td>81</td>\n",
       "      <td>729</td>\n",
       "      <td>6561</td>\n",
       "      <td>59049</td>\n",
       "    </tr>\n",
       "    <tr>\n",
       "      <td>2020-01-14</td>\n",
       "      <td>10</td>\n",
       "      <td>100</td>\n",
       "      <td>1000</td>\n",
       "      <td>10000</td>\n",
       "      <td>100000</td>\n",
       "    </tr>\n",
       "  </tbody>\n",
       "</table>\n",
       "</div>"
      ],
      "text/plain": [
       "             x  x^2   x^3    x^4     x^5\n",
       "2020-01-09   7   49   343   2401   16807\n",
       "2020-01-10   8   64   512   4096   32768\n",
       "2020-01-13   9   81   729   6561   59049\n",
       "2020-01-14  10  100  1000  10000  100000"
      ]
     },
     "execution_count": 140,
     "metadata": {},
     "output_type": "execute_result"
    }
   ],
   "source": [
    "df.loc['2020-01-09':, :]"
   ]
  },
  {
   "cell_type": "markdown",
   "metadata": {},
   "source": [
    "Notice that if you want all the columns, you can completely omit the column indexer. Therefore, `df.loc['2020-01-09':, :]` is equivalent to `df.loc['2020-01-09':]`"
   ]
  },
  {
   "cell_type": "code",
   "execution_count": 141,
   "metadata": {},
   "outputs": [
    {
     "data": {
      "text/html": [
       "<div>\n",
       "<style scoped>\n",
       "    .dataframe tbody tr th:only-of-type {\n",
       "        vertical-align: middle;\n",
       "    }\n",
       "\n",
       "    .dataframe tbody tr th {\n",
       "        vertical-align: top;\n",
       "    }\n",
       "\n",
       "    .dataframe thead th {\n",
       "        text-align: right;\n",
       "    }\n",
       "</style>\n",
       "<table border=\"1\" class=\"dataframe\">\n",
       "  <thead>\n",
       "    <tr style=\"text-align: right;\">\n",
       "      <th></th>\n",
       "      <th>x</th>\n",
       "      <th>x^2</th>\n",
       "      <th>x^3</th>\n",
       "      <th>x^4</th>\n",
       "      <th>x^5</th>\n",
       "    </tr>\n",
       "  </thead>\n",
       "  <tbody>\n",
       "    <tr>\n",
       "      <td>2020-01-09</td>\n",
       "      <td>7</td>\n",
       "      <td>49</td>\n",
       "      <td>343</td>\n",
       "      <td>2401</td>\n",
       "      <td>16807</td>\n",
       "    </tr>\n",
       "    <tr>\n",
       "      <td>2020-01-10</td>\n",
       "      <td>8</td>\n",
       "      <td>64</td>\n",
       "      <td>512</td>\n",
       "      <td>4096</td>\n",
       "      <td>32768</td>\n",
       "    </tr>\n",
       "    <tr>\n",
       "      <td>2020-01-13</td>\n",
       "      <td>9</td>\n",
       "      <td>81</td>\n",
       "      <td>729</td>\n",
       "      <td>6561</td>\n",
       "      <td>59049</td>\n",
       "    </tr>\n",
       "    <tr>\n",
       "      <td>2020-01-14</td>\n",
       "      <td>10</td>\n",
       "      <td>100</td>\n",
       "      <td>1000</td>\n",
       "      <td>10000</td>\n",
       "      <td>100000</td>\n",
       "    </tr>\n",
       "  </tbody>\n",
       "</table>\n",
       "</div>"
      ],
      "text/plain": [
       "             x  x^2   x^3    x^4     x^5\n",
       "2020-01-09   7   49   343   2401   16807\n",
       "2020-01-10   8   64   512   4096   32768\n",
       "2020-01-13   9   81   729   6561   59049\n",
       "2020-01-14  10  100  1000  10000  100000"
      ]
     },
     "execution_count": 141,
     "metadata": {},
     "output_type": "execute_result"
    }
   ],
   "source": [
    "df.loc['2020-01-09':]"
   ]
  },
  {
   "cell_type": "markdown",
   "metadata": {},
   "source": [
    "Finally notice, that the omission of indexers doens't work symmetrically. You cannot omit the row indexer. \n",
    "\n",
    "That is to say, if you want all the rows but just the `['x', 'x^2']` cols, you can do"
   ]
  },
  {
   "cell_type": "code",
   "execution_count": 142,
   "metadata": {},
   "outputs": [
    {
     "data": {
      "text/html": [
       "<div>\n",
       "<style scoped>\n",
       "    .dataframe tbody tr th:only-of-type {\n",
       "        vertical-align: middle;\n",
       "    }\n",
       "\n",
       "    .dataframe tbody tr th {\n",
       "        vertical-align: top;\n",
       "    }\n",
       "\n",
       "    .dataframe thead th {\n",
       "        text-align: right;\n",
       "    }\n",
       "</style>\n",
       "<table border=\"1\" class=\"dataframe\">\n",
       "  <thead>\n",
       "    <tr style=\"text-align: right;\">\n",
       "      <th></th>\n",
       "      <th>x</th>\n",
       "      <th>x^2</th>\n",
       "    </tr>\n",
       "  </thead>\n",
       "  <tbody>\n",
       "    <tr>\n",
       "      <td>2020-01-01</td>\n",
       "      <td>1</td>\n",
       "      <td>1</td>\n",
       "    </tr>\n",
       "    <tr>\n",
       "      <td>2020-01-02</td>\n",
       "      <td>2</td>\n",
       "      <td>4</td>\n",
       "    </tr>\n",
       "    <tr>\n",
       "      <td>2020-01-03</td>\n",
       "      <td>3</td>\n",
       "      <td>9</td>\n",
       "    </tr>\n",
       "    <tr>\n",
       "      <td>2020-01-06</td>\n",
       "      <td>4</td>\n",
       "      <td>16</td>\n",
       "    </tr>\n",
       "    <tr>\n",
       "      <td>2020-01-07</td>\n",
       "      <td>5</td>\n",
       "      <td>25</td>\n",
       "    </tr>\n",
       "    <tr>\n",
       "      <td>2020-01-08</td>\n",
       "      <td>6</td>\n",
       "      <td>36</td>\n",
       "    </tr>\n",
       "    <tr>\n",
       "      <td>2020-01-09</td>\n",
       "      <td>7</td>\n",
       "      <td>49</td>\n",
       "    </tr>\n",
       "    <tr>\n",
       "      <td>2020-01-10</td>\n",
       "      <td>8</td>\n",
       "      <td>64</td>\n",
       "    </tr>\n",
       "    <tr>\n",
       "      <td>2020-01-13</td>\n",
       "      <td>9</td>\n",
       "      <td>81</td>\n",
       "    </tr>\n",
       "    <tr>\n",
       "      <td>2020-01-14</td>\n",
       "      <td>10</td>\n",
       "      <td>100</td>\n",
       "    </tr>\n",
       "  </tbody>\n",
       "</table>\n",
       "</div>"
      ],
      "text/plain": [
       "             x  x^2\n",
       "2020-01-01   1    1\n",
       "2020-01-02   2    4\n",
       "2020-01-03   3    9\n",
       "2020-01-06   4   16\n",
       "2020-01-07   5   25\n",
       "2020-01-08   6   36\n",
       "2020-01-09   7   49\n",
       "2020-01-10   8   64\n",
       "2020-01-13   9   81\n",
       "2020-01-14  10  100"
      ]
     },
     "execution_count": 142,
     "metadata": {},
     "output_type": "execute_result"
    }
   ],
   "source": [
    "df.loc[:, ['x', 'x^2']]"
   ]
  },
  {
   "cell_type": "markdown",
   "metadata": {},
   "source": [
    "but you cannot do"
   ]
  },
  {
   "cell_type": "code",
   "execution_count": 143,
   "metadata": {},
   "outputs": [],
   "source": [
    "# raises KeyError\n",
    "#\n",
    "# df.loc[['x', 'x^2']]"
   ]
  },
  {
   "cell_type": "markdown",
   "metadata": {},
   "source": [
    "When using the `.loc[]` access specifier omitting an indexer, the missing indexer is interpreted as a columns indexer, that's why something like\n",
    "\n",
    "```python\n",
    "df.loc[['x', 'x^2']]\n",
    "```\n",
    "\n",
    "is interpreted as \n",
    "\n",
    "```python\n",
    "df.loc[['x', 'x^2'], :]\n",
    "```\n",
    "\n",
    "which makes Pandas looking for rows with names `x` and `x^2` and thus raising a `KeyError` not finding them."
   ]
  },
  {
   "cell_type": "markdown",
   "metadata": {},
   "source": [
    "By the way, you already know how to select all the rows and few cols: you have to use the `[]` access operator straight away"
   ]
  },
  {
   "cell_type": "code",
   "execution_count": 144,
   "metadata": {},
   "outputs": [
    {
     "data": {
      "text/html": [
       "<div>\n",
       "<style scoped>\n",
       "    .dataframe tbody tr th:only-of-type {\n",
       "        vertical-align: middle;\n",
       "    }\n",
       "\n",
       "    .dataframe tbody tr th {\n",
       "        vertical-align: top;\n",
       "    }\n",
       "\n",
       "    .dataframe thead th {\n",
       "        text-align: right;\n",
       "    }\n",
       "</style>\n",
       "<table border=\"1\" class=\"dataframe\">\n",
       "  <thead>\n",
       "    <tr style=\"text-align: right;\">\n",
       "      <th></th>\n",
       "      <th>x</th>\n",
       "      <th>x^2</th>\n",
       "    </tr>\n",
       "  </thead>\n",
       "  <tbody>\n",
       "    <tr>\n",
       "      <td>2020-01-01</td>\n",
       "      <td>1</td>\n",
       "      <td>1</td>\n",
       "    </tr>\n",
       "    <tr>\n",
       "      <td>2020-01-02</td>\n",
       "      <td>2</td>\n",
       "      <td>4</td>\n",
       "    </tr>\n",
       "    <tr>\n",
       "      <td>2020-01-03</td>\n",
       "      <td>3</td>\n",
       "      <td>9</td>\n",
       "    </tr>\n",
       "    <tr>\n",
       "      <td>2020-01-06</td>\n",
       "      <td>4</td>\n",
       "      <td>16</td>\n",
       "    </tr>\n",
       "    <tr>\n",
       "      <td>2020-01-07</td>\n",
       "      <td>5</td>\n",
       "      <td>25</td>\n",
       "    </tr>\n",
       "    <tr>\n",
       "      <td>2020-01-08</td>\n",
       "      <td>6</td>\n",
       "      <td>36</td>\n",
       "    </tr>\n",
       "    <tr>\n",
       "      <td>2020-01-09</td>\n",
       "      <td>7</td>\n",
       "      <td>49</td>\n",
       "    </tr>\n",
       "    <tr>\n",
       "      <td>2020-01-10</td>\n",
       "      <td>8</td>\n",
       "      <td>64</td>\n",
       "    </tr>\n",
       "    <tr>\n",
       "      <td>2020-01-13</td>\n",
       "      <td>9</td>\n",
       "      <td>81</td>\n",
       "    </tr>\n",
       "    <tr>\n",
       "      <td>2020-01-14</td>\n",
       "      <td>10</td>\n",
       "      <td>100</td>\n",
       "    </tr>\n",
       "  </tbody>\n",
       "</table>\n",
       "</div>"
      ],
      "text/plain": [
       "             x  x^2\n",
       "2020-01-01   1    1\n",
       "2020-01-02   2    4\n",
       "2020-01-03   3    9\n",
       "2020-01-06   4   16\n",
       "2020-01-07   5   25\n",
       "2020-01-08   6   36\n",
       "2020-01-09   7   49\n",
       "2020-01-10   8   64\n",
       "2020-01-13   9   81\n",
       "2020-01-14  10  100"
      ]
     },
     "execution_count": 144,
     "metadata": {},
     "output_type": "execute_result"
    }
   ],
   "source": [
    "df[['x', 'x^2']]"
   ]
  },
  {
   "cell_type": "markdown",
   "metadata": {},
   "source": [
    "which is equivalent to `df.loc[:, ['x', 'x^2']]`. We can conclude here that there is equivalence between \n",
    "\n",
    "```python\n",
    "df[column_indexer]\n",
    "```\n",
    "\n",
    "and\n",
    "\n",
    "```python\n",
    "df.loc[:, column_indexer]\n",
    "```\n",
    "\n",
    "as both return all the rows and the selected columns. Good to know."
   ]
  },
  {
   "cell_type": "markdown",
   "metadata": {},
   "source": [
    "### 2.3.4. Selecting rows with rows and columns _positional indexes_ : `.iloc[]` <a name=\"df_iloc\"></a>"
   ]
  },
  {
   "cell_type": "markdown",
   "metadata": {},
   "source": [
    "In this section we describe how you can select specific rows and columns using their position in the table. You can use the `.iloc[ row positional indexer, column positional indexer ]` access operator using numeric positional indexes to identify rows and columns.\n",
    "\n",
    "Access operator `.iloc[]` is somehow more limited than `.loc[]`. Still you have several options  for both the `row positional indexer`, before the comma, and the `column positional indexer`, after the comma. We review them in the next sub-sections which parallel the different cases examined for `.loc[]`.\n",
    "\n",
    "Of course you can combine different kind of indexers (single, list, slice, conditonal) for row and col indexers separately."
   ]
  },
  {
   "cell_type": "code",
   "execution_count": 145,
   "metadata": {},
   "outputs": [
    {
     "data": {
      "text/html": [
       "<div>\n",
       "<style scoped>\n",
       "    .dataframe tbody tr th:only-of-type {\n",
       "        vertical-align: middle;\n",
       "    }\n",
       "\n",
       "    .dataframe tbody tr th {\n",
       "        vertical-align: top;\n",
       "    }\n",
       "\n",
       "    .dataframe thead th {\n",
       "        text-align: right;\n",
       "    }\n",
       "</style>\n",
       "<table border=\"1\" class=\"dataframe\">\n",
       "  <thead>\n",
       "    <tr style=\"text-align: right;\">\n",
       "      <th></th>\n",
       "      <th>x</th>\n",
       "      <th>x^2</th>\n",
       "      <th>x^3</th>\n",
       "      <th>x^4</th>\n",
       "      <th>x^5</th>\n",
       "    </tr>\n",
       "  </thead>\n",
       "  <tbody>\n",
       "    <tr>\n",
       "      <td>2020-01-01</td>\n",
       "      <td>1</td>\n",
       "      <td>1</td>\n",
       "      <td>1</td>\n",
       "      <td>1</td>\n",
       "      <td>1</td>\n",
       "    </tr>\n",
       "    <tr>\n",
       "      <td>2020-01-02</td>\n",
       "      <td>2</td>\n",
       "      <td>4</td>\n",
       "      <td>8</td>\n",
       "      <td>16</td>\n",
       "      <td>32</td>\n",
       "    </tr>\n",
       "    <tr>\n",
       "      <td>2020-01-03</td>\n",
       "      <td>3</td>\n",
       "      <td>9</td>\n",
       "      <td>27</td>\n",
       "      <td>81</td>\n",
       "      <td>243</td>\n",
       "    </tr>\n",
       "    <tr>\n",
       "      <td>2020-01-06</td>\n",
       "      <td>4</td>\n",
       "      <td>16</td>\n",
       "      <td>64</td>\n",
       "      <td>256</td>\n",
       "      <td>1024</td>\n",
       "    </tr>\n",
       "    <tr>\n",
       "      <td>2020-01-07</td>\n",
       "      <td>5</td>\n",
       "      <td>25</td>\n",
       "      <td>125</td>\n",
       "      <td>625</td>\n",
       "      <td>3125</td>\n",
       "    </tr>\n",
       "    <tr>\n",
       "      <td>2020-01-08</td>\n",
       "      <td>6</td>\n",
       "      <td>36</td>\n",
       "      <td>216</td>\n",
       "      <td>1296</td>\n",
       "      <td>7776</td>\n",
       "    </tr>\n",
       "    <tr>\n",
       "      <td>2020-01-09</td>\n",
       "      <td>7</td>\n",
       "      <td>49</td>\n",
       "      <td>343</td>\n",
       "      <td>2401</td>\n",
       "      <td>16807</td>\n",
       "    </tr>\n",
       "    <tr>\n",
       "      <td>2020-01-10</td>\n",
       "      <td>8</td>\n",
       "      <td>64</td>\n",
       "      <td>512</td>\n",
       "      <td>4096</td>\n",
       "      <td>32768</td>\n",
       "    </tr>\n",
       "    <tr>\n",
       "      <td>2020-01-13</td>\n",
       "      <td>9</td>\n",
       "      <td>81</td>\n",
       "      <td>729</td>\n",
       "      <td>6561</td>\n",
       "      <td>59049</td>\n",
       "    </tr>\n",
       "    <tr>\n",
       "      <td>2020-01-14</td>\n",
       "      <td>10</td>\n",
       "      <td>100</td>\n",
       "      <td>1000</td>\n",
       "      <td>10000</td>\n",
       "      <td>100000</td>\n",
       "    </tr>\n",
       "  </tbody>\n",
       "</table>\n",
       "</div>"
      ],
      "text/plain": [
       "             x  x^2   x^3    x^4     x^5\n",
       "2020-01-01   1    1     1      1       1\n",
       "2020-01-02   2    4     8     16      32\n",
       "2020-01-03   3    9    27     81     243\n",
       "2020-01-06   4   16    64    256    1024\n",
       "2020-01-07   5   25   125    625    3125\n",
       "2020-01-08   6   36   216   1296    7776\n",
       "2020-01-09   7   49   343   2401   16807\n",
       "2020-01-10   8   64   512   4096   32768\n",
       "2020-01-13   9   81   729   6561   59049\n",
       "2020-01-14  10  100  1000  10000  100000"
      ]
     },
     "execution_count": 145,
     "metadata": {},
     "output_type": "execute_result"
    }
   ],
   "source": [
    "df"
   ]
  },
  {
   "cell_type": "markdown",
   "metadata": {},
   "source": [
    "Of course you can combine different kind of indexers (single, list, slice, conditonal) for row and col indexers separately."
   ]
  },
  {
   "cell_type": "markdown",
   "metadata": {},
   "source": [
    "Access operator `.iloc[]` is somehow more limited than `.loc[]`. Still you have several options  for both the `row positional indexer`, before the comma, and the `column positional indexer`, after the comma.\n",
    "\n",
    "In particular, both row and column indexer can be:\n",
    "\n",
    "- A positional index:\n",
    "\n",
    "row indexer | col indexer | syntax/example| meaning\n",
    ":---:       | :---:       | :---:  | :---: \n",
    " position  | position | `df.iloc[i,m]` | element in col position `m` at row position `i`\n",
    "           |          | `df.iloc[1, 3]`| \n",
    "\n",
    "\n",
    "row indexer | col indexer | syntax/example| meaning\n",
    ":---:       | :---:       | :---:  | :---: \n",
    "position | position | `df.loc[indexLabel, colName]` | element in col `colName` at row `indexLabel`\n",
    "      |       | `df.loc['2020-01-02', 'x^2']` |\n",
    "\n",
    "\n",
    "row indexer  | col indexer | syntax | example \n",
    ":---: | :---: | :---: | :---:\n",
    " position  | position | `df.iloc[i,m]` | `df.iloc[1, 3]`  \n",
    "slice  | slice | `df.iloc[i:j:k, m:n:q]` | `df.iloc[1:3:2, 2:3]` \n",
    "list of positions  | list of positions | `df.iloc[[i,l],[m,p]]` | `df.iloc[[1,2,3], [6,5,4]]`\n",
    "\n",
    "we consider each case in separated sections."
   ]
  },
  {
   "cell_type": "markdown",
   "metadata": {},
   "source": [
    "\n",
    "ValueError: Location based indexing can only have [integer, integer slice (START point is INCLUDED, END point is EXCLUDED), listlike of integers, boolean array] types"
   ]
  },
  {
   "cell_type": "markdown",
   "metadata": {},
   "source": [
    "#### 2.3.4.1. Single positional index <a name=\"df_iloc_single\"></a>"
   ]
  },
  {
   "cell_type": "markdown",
   "metadata": {},
   "source": [
    "A single positional index label can be used to get one row and/or column only:\n",
    "\n",
    "row indexer | col indexer | syntax/example| meaning\n",
    ":---:       | :---:       | :---:  | :---: \n",
    " position  | position | `df.iloc[i,m]` | element in col position `m` at row position `i`\n",
    "           |          | `df.iloc[1, 3]`| \n"
   ]
  },
  {
   "cell_type": "markdown",
   "metadata": {},
   "source": [
    "Let's select the single element in column 4th column and at 2nd row"
   ]
  },
  {
   "cell_type": "code",
   "execution_count": 146,
   "metadata": {},
   "outputs": [
    {
     "data": {
      "text/plain": [
       "16"
      ]
     },
     "execution_count": 146,
     "metadata": {},
     "output_type": "execute_result"
    }
   ],
   "source": [
    "df.iloc[1,3]"
   ]
  },
  {
   "cell_type": "markdown",
   "metadata": {},
   "source": [
    "Accessing using an indexes out of bounds, raises a `IndexError`"
   ]
  },
  {
   "cell_type": "code",
   "execution_count": 147,
   "metadata": {},
   "outputs": [],
   "source": [
    "# raises IndexError as 100 is out of index positional bounds\n",
    "#\n",
    "# df.iloc[100,3]"
   ]
  },
  {
   "cell_type": "code",
   "execution_count": 148,
   "metadata": {},
   "outputs": [],
   "source": [
    "# raises IndexError as 10 is out of columns positional bounds\n",
    "#\n",
    "# df.iloc[1,10]"
   ]
  },
  {
   "cell_type": "markdown",
   "metadata": {},
   "source": [
    "#### 2.3.4.2. List of positional indexes <a name=\"df_iloc_list\"></a>"
   ]
  },
  {
   "cell_type": "markdown",
   "metadata": {},
   "source": [
    "A list of positional indexes can be used to get a list of rows and/or columnsç\n",
    "\n",
    "row indexer | col indexer | syntax/example| meaning\n",
    ":---:       | :---:       | :---:  | :---: \n",
    "... | positions list | `df.iloc[..., [listOfColsPos]]` | elements in cols positions `[listOfColsPos]` at rows...\n",
    "      |            | `df.iloc[..., [1,2,4]]`  |   \n",
    "positions list  | ... | `df.iloc[[listOfRowsPos], ...]` | elements at rows positions `[listOfRowsPos]` in cols...\n",
    "             |       | `df.loc[[0,3,5], ...]` |   "
   ]
  },
  {
   "cell_type": "markdown",
   "metadata": {},
   "source": [
    "Selecting lists of rows and/or cols according to their positions is straightforward"
   ]
  },
  {
   "cell_type": "code",
   "execution_count": 149,
   "metadata": {},
   "outputs": [
    {
     "data": {
      "text/html": [
       "<div>\n",
       "<style scoped>\n",
       "    .dataframe tbody tr th:only-of-type {\n",
       "        vertical-align: middle;\n",
       "    }\n",
       "\n",
       "    .dataframe tbody tr th {\n",
       "        vertical-align: top;\n",
       "    }\n",
       "\n",
       "    .dataframe thead th {\n",
       "        text-align: right;\n",
       "    }\n",
       "</style>\n",
       "<table border=\"1\" class=\"dataframe\">\n",
       "  <thead>\n",
       "    <tr style=\"text-align: right;\">\n",
       "      <th></th>\n",
       "      <th>x^2</th>\n",
       "      <th>x^3</th>\n",
       "      <th>x^5</th>\n",
       "    </tr>\n",
       "  </thead>\n",
       "  <tbody>\n",
       "    <tr>\n",
       "      <td>2020-01-01</td>\n",
       "      <td>1</td>\n",
       "      <td>1</td>\n",
       "      <td>1</td>\n",
       "    </tr>\n",
       "    <tr>\n",
       "      <td>2020-01-06</td>\n",
       "      <td>16</td>\n",
       "      <td>64</td>\n",
       "      <td>1024</td>\n",
       "    </tr>\n",
       "    <tr>\n",
       "      <td>2020-01-08</td>\n",
       "      <td>36</td>\n",
       "      <td>216</td>\n",
       "      <td>7776</td>\n",
       "    </tr>\n",
       "  </tbody>\n",
       "</table>\n",
       "</div>"
      ],
      "text/plain": [
       "            x^2  x^3   x^5\n",
       "2020-01-01    1    1     1\n",
       "2020-01-06   16   64  1024\n",
       "2020-01-08   36  216  7776"
      ]
     },
     "execution_count": 149,
     "metadata": {},
     "output_type": "execute_result"
    }
   ],
   "source": [
    "df.iloc[[0,3,5], [1,2,4]]"
   ]
  },
  {
   "cell_type": "markdown",
   "metadata": {},
   "source": [
    "and works as expected. Other examples:"
   ]
  },
  {
   "cell_type": "code",
   "execution_count": 150,
   "metadata": {},
   "outputs": [
    {
     "data": {
      "text/plain": [
       "x^2    1\n",
       "x^3    1\n",
       "x^5    1\n",
       "Name: 2020-01-01 00:00:00, dtype: int32"
      ]
     },
     "execution_count": 150,
     "metadata": {},
     "output_type": "execute_result"
    }
   ],
   "source": [
    "df.iloc[0, [1,2,4]]"
   ]
  },
  {
   "cell_type": "code",
   "execution_count": 151,
   "metadata": {},
   "outputs": [
    {
     "data": {
      "text/plain": [
       "2020-01-01     1\n",
       "2020-01-06    16\n",
       "2020-01-08    36\n",
       "Name: x^2, dtype: int32"
      ]
     },
     "execution_count": 151,
     "metadata": {},
     "output_type": "execute_result"
    }
   ],
   "source": [
    "df.iloc[[0,3,5], 1]"
   ]
  },
  {
   "cell_type": "markdown",
   "metadata": {},
   "source": [
    "#### 2.3.4.3. Slice of positional indexes <a name=\"df_iloc_slice\"></a>"
   ]
  },
  {
   "cell_type": "markdown",
   "metadata": {},
   "source": [
    "A slice of positional indexes can be used to get a slice of rows and/or columns:\n",
    "\n",
    "row indexer | col indexer | syntax/example| meaning\n",
    ":---:       | :---:       | :---:  | :---: \n",
    "slice | ... | `df.iloc[i:j:k, ...]` | elements at rows as per slice `i:j:k` and in cols...\n",
    "      |       | `df.iloc[1:7:2, ...]` |\n",
    "...   | slice | `df.iloc[..., m:n:q]` | elements in cols as per slice `m:n:q` and at rows...\n",
    "      |       | `df.iloc[..., 1:3]` |"
   ]
  },
  {
   "cell_type": "markdown",
   "metadata": {},
   "source": [
    "We can slice rows and/or columns. A few examples:"
   ]
  },
  {
   "cell_type": "code",
   "execution_count": 152,
   "metadata": {},
   "outputs": [
    {
     "data": {
      "text/html": [
       "<div>\n",
       "<style scoped>\n",
       "    .dataframe tbody tr th:only-of-type {\n",
       "        vertical-align: middle;\n",
       "    }\n",
       "\n",
       "    .dataframe tbody tr th {\n",
       "        vertical-align: top;\n",
       "    }\n",
       "\n",
       "    .dataframe thead th {\n",
       "        text-align: right;\n",
       "    }\n",
       "</style>\n",
       "<table border=\"1\" class=\"dataframe\">\n",
       "  <thead>\n",
       "    <tr style=\"text-align: right;\">\n",
       "      <th></th>\n",
       "      <th>x^2</th>\n",
       "      <th>x^3</th>\n",
       "    </tr>\n",
       "  </thead>\n",
       "  <tbody>\n",
       "    <tr>\n",
       "      <td>2020-01-02</td>\n",
       "      <td>4</td>\n",
       "      <td>8</td>\n",
       "    </tr>\n",
       "    <tr>\n",
       "      <td>2020-01-06</td>\n",
       "      <td>16</td>\n",
       "      <td>64</td>\n",
       "    </tr>\n",
       "    <tr>\n",
       "      <td>2020-01-08</td>\n",
       "      <td>36</td>\n",
       "      <td>216</td>\n",
       "    </tr>\n",
       "  </tbody>\n",
       "</table>\n",
       "</div>"
      ],
      "text/plain": [
       "            x^2  x^3\n",
       "2020-01-02    4    8\n",
       "2020-01-06   16   64\n",
       "2020-01-08   36  216"
      ]
     },
     "execution_count": 152,
     "metadata": {},
     "output_type": "execute_result"
    }
   ],
   "source": [
    "df.iloc[1:7:2, 1:3]"
   ]
  },
  {
   "cell_type": "markdown",
   "metadata": {},
   "source": [
    "where the slice `1:7:2` selects all the rows from position 1 (included) to 7 (excluded), each 2 rows and the slice `1:3` selects each column from position 1 (included) to position 3 (excluded). "
   ]
  },
  {
   "cell_type": "markdown",
   "metadata": {},
   "source": [
    "You can combine with other ways of positional indexing. Other examples:"
   ]
  },
  {
   "cell_type": "code",
   "execution_count": 153,
   "metadata": {},
   "outputs": [
    {
     "data": {
      "text/plain": [
       "x^2    4\n",
       "x^3    8\n",
       "Name: 2020-01-02 00:00:00, dtype: int32"
      ]
     },
     "execution_count": 153,
     "metadata": {},
     "output_type": "execute_result"
    }
   ],
   "source": [
    "df.iloc[1, 1:3]"
   ]
  },
  {
   "cell_type": "code",
   "execution_count": 154,
   "metadata": {},
   "outputs": [
    {
     "data": {
      "text/html": [
       "<div>\n",
       "<style scoped>\n",
       "    .dataframe tbody tr th:only-of-type {\n",
       "        vertical-align: middle;\n",
       "    }\n",
       "\n",
       "    .dataframe tbody tr th {\n",
       "        vertical-align: top;\n",
       "    }\n",
       "\n",
       "    .dataframe thead th {\n",
       "        text-align: right;\n",
       "    }\n",
       "</style>\n",
       "<table border=\"1\" class=\"dataframe\">\n",
       "  <thead>\n",
       "    <tr style=\"text-align: right;\">\n",
       "      <th></th>\n",
       "      <th>x^2</th>\n",
       "      <th>x^3</th>\n",
       "    </tr>\n",
       "  </thead>\n",
       "  <tbody>\n",
       "    <tr>\n",
       "      <td>2020-01-03</td>\n",
       "      <td>9</td>\n",
       "      <td>27</td>\n",
       "    </tr>\n",
       "    <tr>\n",
       "      <td>2020-01-06</td>\n",
       "      <td>16</td>\n",
       "      <td>64</td>\n",
       "    </tr>\n",
       "    <tr>\n",
       "      <td>2020-01-07</td>\n",
       "      <td>25</td>\n",
       "      <td>125</td>\n",
       "    </tr>\n",
       "  </tbody>\n",
       "</table>\n",
       "</div>"
      ],
      "text/plain": [
       "            x^2  x^3\n",
       "2020-01-03    9   27\n",
       "2020-01-06   16   64\n",
       "2020-01-07   25  125"
      ]
     },
     "execution_count": 154,
     "metadata": {},
     "output_type": "execute_result"
    }
   ],
   "source": [
    "df.iloc[[2,3,4], 1:3]"
   ]
  },
  {
   "cell_type": "markdown",
   "metadata": {},
   "source": [
    "#### 2.3.4.4. Conditional Expression to filter rows <a name=\"df_iloc_conditional\"></a>"
   ]
  },
  {
   "cell_type": "markdown",
   "metadata": {},
   "source": [
    "A logical conditional expression can be used to filter rows but it cannot be a NumPy array of booleans, not a Pandas Series:\n",
    "\n",
    "row indexer | col indexer | syntax/example| meaning\n",
    ":---:       | :---:       | :---:  | :---: \n",
    "logical condition (array) | ... | `df.iloc[(logicalCondition).values, ...]` | \n",
    "                   |     | `df.iloc[df['x^2'].values > 5, ...]` | elements at rows filtered as per logical condition and in cols...\n"
   ]
  },
  {
   "cell_type": "markdown",
   "metadata": {},
   "source": [
    "The use of `.iloc[]` with conditional expression is somehow nastier and I rarely use it. But still.."
   ]
  },
  {
   "cell_type": "markdown",
   "metadata": {},
   "source": [
    "Let's go back to our $x^2 \\leq x$ logical condition"
   ]
  },
  {
   "cell_type": "code",
   "execution_count": 155,
   "metadata": {},
   "outputs": [
    {
     "data": {
      "text/html": [
       "<div>\n",
       "<style scoped>\n",
       "    .dataframe tbody tr th:only-of-type {\n",
       "        vertical-align: middle;\n",
       "    }\n",
       "\n",
       "    .dataframe tbody tr th {\n",
       "        vertical-align: top;\n",
       "    }\n",
       "\n",
       "    .dataframe thead th {\n",
       "        text-align: right;\n",
       "    }\n",
       "</style>\n",
       "<table border=\"1\" class=\"dataframe\">\n",
       "  <thead>\n",
       "    <tr style=\"text-align: right;\">\n",
       "      <th></th>\n",
       "      <th>x</th>\n",
       "      <th>x^2</th>\n",
       "      <th>x^3</th>\n",
       "      <th>x^4</th>\n",
       "      <th>x^5</th>\n",
       "    </tr>\n",
       "  </thead>\n",
       "  <tbody>\n",
       "    <tr>\n",
       "      <td>0.000000</td>\n",
       "      <td>0.000000</td>\n",
       "      <td>0.000000</td>\n",
       "      <td>0.000000</td>\n",
       "      <td>0.000000</td>\n",
       "      <td>0.000000</td>\n",
       "    </tr>\n",
       "    <tr>\n",
       "      <td>0.222222</td>\n",
       "      <td>0.222222</td>\n",
       "      <td>0.049383</td>\n",
       "      <td>0.010974</td>\n",
       "      <td>0.002439</td>\n",
       "      <td>0.000542</td>\n",
       "    </tr>\n",
       "    <tr>\n",
       "      <td>0.444444</td>\n",
       "      <td>0.444444</td>\n",
       "      <td>0.197531</td>\n",
       "      <td>0.087791</td>\n",
       "      <td>0.039018</td>\n",
       "      <td>0.017342</td>\n",
       "    </tr>\n",
       "    <tr>\n",
       "      <td>0.666667</td>\n",
       "      <td>0.666667</td>\n",
       "      <td>0.444444</td>\n",
       "      <td>0.296296</td>\n",
       "      <td>0.197531</td>\n",
       "      <td>0.131687</td>\n",
       "    </tr>\n",
       "    <tr>\n",
       "      <td>0.888889</td>\n",
       "      <td>0.888889</td>\n",
       "      <td>0.790123</td>\n",
       "      <td>0.702332</td>\n",
       "      <td>0.624295</td>\n",
       "      <td>0.554929</td>\n",
       "    </tr>\n",
       "    <tr>\n",
       "      <td>1.111111</td>\n",
       "      <td>1.111111</td>\n",
       "      <td>1.234568</td>\n",
       "      <td>1.371742</td>\n",
       "      <td>1.524158</td>\n",
       "      <td>1.693509</td>\n",
       "    </tr>\n",
       "    <tr>\n",
       "      <td>1.333333</td>\n",
       "      <td>1.333333</td>\n",
       "      <td>1.777778</td>\n",
       "      <td>2.370370</td>\n",
       "      <td>3.160494</td>\n",
       "      <td>4.213992</td>\n",
       "    </tr>\n",
       "    <tr>\n",
       "      <td>1.555556</td>\n",
       "      <td>1.555556</td>\n",
       "      <td>2.419753</td>\n",
       "      <td>3.764060</td>\n",
       "      <td>5.855205</td>\n",
       "      <td>9.108097</td>\n",
       "    </tr>\n",
       "    <tr>\n",
       "      <td>1.777778</td>\n",
       "      <td>1.777778</td>\n",
       "      <td>3.160494</td>\n",
       "      <td>5.618656</td>\n",
       "      <td>9.988721</td>\n",
       "      <td>17.757727</td>\n",
       "    </tr>\n",
       "    <tr>\n",
       "      <td>2.000000</td>\n",
       "      <td>2.000000</td>\n",
       "      <td>4.000000</td>\n",
       "      <td>8.000000</td>\n",
       "      <td>16.000000</td>\n",
       "      <td>32.000000</td>\n",
       "    </tr>\n",
       "  </tbody>\n",
       "</table>\n",
       "</div>"
      ],
      "text/plain": [
       "                 x       x^2       x^3        x^4        x^5\n",
       "0.000000  0.000000  0.000000  0.000000   0.000000   0.000000\n",
       "0.222222  0.222222  0.049383  0.010974   0.002439   0.000542\n",
       "0.444444  0.444444  0.197531  0.087791   0.039018   0.017342\n",
       "0.666667  0.666667  0.444444  0.296296   0.197531   0.131687\n",
       "0.888889  0.888889  0.790123  0.702332   0.624295   0.554929\n",
       "1.111111  1.111111  1.234568  1.371742   1.524158   1.693509\n",
       "1.333333  1.333333  1.777778  2.370370   3.160494   4.213992\n",
       "1.555556  1.555556  2.419753  3.764060   5.855205   9.108097\n",
       "1.777778  1.777778  3.160494  5.618656   9.988721  17.757727\n",
       "2.000000  2.000000  4.000000  8.000000  16.000000  32.000000"
      ]
     },
     "execution_count": 155,
     "metadata": {},
     "output_type": "execute_result"
    }
   ],
   "source": [
    "df_decimal"
   ]
  },
  {
   "cell_type": "code",
   "execution_count": 156,
   "metadata": {},
   "outputs": [
    {
     "data": {
      "text/plain": [
       "0.000000     True\n",
       "0.222222     True\n",
       "0.444444     True\n",
       "0.666667     True\n",
       "0.888889     True\n",
       "1.111111    False\n",
       "1.333333    False\n",
       "1.555556    False\n",
       "1.777778    False\n",
       "2.000000    False\n",
       "dtype: bool"
      ]
     },
     "execution_count": 156,
     "metadata": {},
     "output_type": "execute_result"
    }
   ],
   "source": [
    "df_decimal['x^2'] <= df_decimal['x']"
   ]
  },
  {
   "cell_type": "markdown",
   "metadata": {},
   "source": [
    "You might be tempted to input that condition as a row indexer in the `.iloc[]` - as you do with the `.loc[]` access operator - and input a positional index as a column indexer. But this raises a `ValueError`"
   ]
  },
  {
   "cell_type": "code",
   "execution_count": 157,
   "metadata": {},
   "outputs": [],
   "source": [
    "# raises ValueError\n",
    "#\n",
    "# df_decimal.iloc[df_decimal['x^2'] <= df_decimal['x'], [0,1]]"
   ]
  },
  {
   "cell_type": "markdown",
   "metadata": {},
   "source": [
    "The fact is that the logical condition in the row indexer has to be an array of booleans... how can we transform it? `.values` on the rescue"
   ]
  },
  {
   "cell_type": "code",
   "execution_count": 158,
   "metadata": {},
   "outputs": [
    {
     "data": {
      "text/plain": [
       "array([ True,  True,  True,  True,  True, False, False, False, False,\n",
       "       False])"
      ]
     },
     "execution_count": 158,
     "metadata": {},
     "output_type": "execute_result"
    }
   ],
   "source": [
    "(df_decimal['x^2'] <= df_decimal['x']).values"
   ]
  },
  {
   "cell_type": "code",
   "execution_count": 159,
   "metadata": {},
   "outputs": [
    {
     "data": {
      "text/html": [
       "<div>\n",
       "<style scoped>\n",
       "    .dataframe tbody tr th:only-of-type {\n",
       "        vertical-align: middle;\n",
       "    }\n",
       "\n",
       "    .dataframe tbody tr th {\n",
       "        vertical-align: top;\n",
       "    }\n",
       "\n",
       "    .dataframe thead th {\n",
       "        text-align: right;\n",
       "    }\n",
       "</style>\n",
       "<table border=\"1\" class=\"dataframe\">\n",
       "  <thead>\n",
       "    <tr style=\"text-align: right;\">\n",
       "      <th></th>\n",
       "      <th>x</th>\n",
       "      <th>x^2</th>\n",
       "    </tr>\n",
       "  </thead>\n",
       "  <tbody>\n",
       "    <tr>\n",
       "      <td>0.000000</td>\n",
       "      <td>0.000000</td>\n",
       "      <td>0.000000</td>\n",
       "    </tr>\n",
       "    <tr>\n",
       "      <td>0.222222</td>\n",
       "      <td>0.222222</td>\n",
       "      <td>0.049383</td>\n",
       "    </tr>\n",
       "    <tr>\n",
       "      <td>0.444444</td>\n",
       "      <td>0.444444</td>\n",
       "      <td>0.197531</td>\n",
       "    </tr>\n",
       "    <tr>\n",
       "      <td>0.666667</td>\n",
       "      <td>0.666667</td>\n",
       "      <td>0.444444</td>\n",
       "    </tr>\n",
       "    <tr>\n",
       "      <td>0.888889</td>\n",
       "      <td>0.888889</td>\n",
       "      <td>0.790123</td>\n",
       "    </tr>\n",
       "  </tbody>\n",
       "</table>\n",
       "</div>"
      ],
      "text/plain": [
       "                 x       x^2\n",
       "0.000000  0.000000  0.000000\n",
       "0.222222  0.222222  0.049383\n",
       "0.444444  0.444444  0.197531\n",
       "0.666667  0.666667  0.444444\n",
       "0.888889  0.888889  0.790123"
      ]
     },
     "execution_count": 159,
     "metadata": {},
     "output_type": "execute_result"
    }
   ],
   "source": [
    "df_decimal.iloc[(df_decimal['x^2'] <= df_decimal['x']).values, [0,1]]"
   ]
  },
  {
   "cell_type": "markdown",
   "metadata": {},
   "source": [
    "This is what we wanted! The `.values` attribute, returns the values of the boolean Series `df_decimal['x^2'] <= df_decimal['x']`, which is then a NumPy array of booleans. Which we can use a rows indexer in the `.iloc[]`."
   ]
  },
  {
   "cell_type": "markdown",
   "metadata": {},
   "source": [
    "_En passant,_ notice that instead of `.values` the whole expression, you could have alternativelly use `.values` on each Pandas Series involved in the logical expression "
   ]
  },
  {
   "cell_type": "code",
   "execution_count": 160,
   "metadata": {},
   "outputs": [
    {
     "data": {
      "text/html": [
       "<div>\n",
       "<style scoped>\n",
       "    .dataframe tbody tr th:only-of-type {\n",
       "        vertical-align: middle;\n",
       "    }\n",
       "\n",
       "    .dataframe tbody tr th {\n",
       "        vertical-align: top;\n",
       "    }\n",
       "\n",
       "    .dataframe thead th {\n",
       "        text-align: right;\n",
       "    }\n",
       "</style>\n",
       "<table border=\"1\" class=\"dataframe\">\n",
       "  <thead>\n",
       "    <tr style=\"text-align: right;\">\n",
       "      <th></th>\n",
       "      <th>x</th>\n",
       "      <th>x^2</th>\n",
       "    </tr>\n",
       "  </thead>\n",
       "  <tbody>\n",
       "    <tr>\n",
       "      <td>0.000000</td>\n",
       "      <td>0.000000</td>\n",
       "      <td>0.000000</td>\n",
       "    </tr>\n",
       "    <tr>\n",
       "      <td>0.222222</td>\n",
       "      <td>0.222222</td>\n",
       "      <td>0.049383</td>\n",
       "    </tr>\n",
       "    <tr>\n",
       "      <td>0.444444</td>\n",
       "      <td>0.444444</td>\n",
       "      <td>0.197531</td>\n",
       "    </tr>\n",
       "    <tr>\n",
       "      <td>0.666667</td>\n",
       "      <td>0.666667</td>\n",
       "      <td>0.444444</td>\n",
       "    </tr>\n",
       "    <tr>\n",
       "      <td>0.888889</td>\n",
       "      <td>0.888889</td>\n",
       "      <td>0.790123</td>\n",
       "    </tr>\n",
       "  </tbody>\n",
       "</table>\n",
       "</div>"
      ],
      "text/plain": [
       "                 x       x^2\n",
       "0.000000  0.000000  0.000000\n",
       "0.222222  0.222222  0.049383\n",
       "0.444444  0.444444  0.197531\n",
       "0.666667  0.666667  0.444444\n",
       "0.888889  0.888889  0.790123"
      ]
     },
     "execution_count": 160,
     "metadata": {},
     "output_type": "execute_result"
    }
   ],
   "source": [
    "df_decimal.iloc[df_decimal['x^2'].values <= df_decimal['x'].values, [0,1]]"
   ]
  },
  {
   "cell_type": "markdown",
   "metadata": {},
   "source": [
    "Same same."
   ]
  },
  {
   "cell_type": "markdown",
   "metadata": {},
   "source": [
    "#### 2.3.4.5. Colon `:` <a name=\"df_iloc_colon\"></a>"
   ]
  },
  {
   "cell_type": "markdown",
   "metadata": {},
   "source": [
    "A colon `:` can be used to specify that you want to select all rows or columns:\n",
    "\n",
    "row indexer | col indexer | syntax/example| meaning\n",
    ":---:       | :---:       | :---:  | :---: \n",
    "`:`         | `:`         | `df.iloc[:, :]` | all the elements (equivalent to just `df`)\n",
    "`:`         | ...         | `df.iloc[:, ...]` | elements from all the rows and in cols...\n",
    "...         | `:`         | `df.iloc[..., :]` | elements from all the cols and at rows...\n",
    "...         | omitted     | `df.iloc[...]` | equivalent to `df.iloc[..., :]` "
   ]
  },
  {
   "cell_type": "markdown",
   "metadata": {},
   "source": [
    "As you can notice this is exactly the same behavior that you have with `.loc[]`."
   ]
  },
  {
   "cell_type": "markdown",
   "metadata": {},
   "source": [
    "In particular, `df.iloc[:,:]` is equivalent to just typing `df`"
   ]
  },
  {
   "cell_type": "code",
   "execution_count": 161,
   "metadata": {},
   "outputs": [
    {
     "data": {
      "text/html": [
       "<div>\n",
       "<style scoped>\n",
       "    .dataframe tbody tr th:only-of-type {\n",
       "        vertical-align: middle;\n",
       "    }\n",
       "\n",
       "    .dataframe tbody tr th {\n",
       "        vertical-align: top;\n",
       "    }\n",
       "\n",
       "    .dataframe thead th {\n",
       "        text-align: right;\n",
       "    }\n",
       "</style>\n",
       "<table border=\"1\" class=\"dataframe\">\n",
       "  <thead>\n",
       "    <tr style=\"text-align: right;\">\n",
       "      <th></th>\n",
       "      <th>x</th>\n",
       "      <th>x^2</th>\n",
       "      <th>x^3</th>\n",
       "      <th>x^4</th>\n",
       "      <th>x^5</th>\n",
       "    </tr>\n",
       "  </thead>\n",
       "  <tbody>\n",
       "    <tr>\n",
       "      <td>2020-01-01</td>\n",
       "      <td>1</td>\n",
       "      <td>1</td>\n",
       "      <td>1</td>\n",
       "      <td>1</td>\n",
       "      <td>1</td>\n",
       "    </tr>\n",
       "    <tr>\n",
       "      <td>2020-01-02</td>\n",
       "      <td>2</td>\n",
       "      <td>4</td>\n",
       "      <td>8</td>\n",
       "      <td>16</td>\n",
       "      <td>32</td>\n",
       "    </tr>\n",
       "    <tr>\n",
       "      <td>2020-01-03</td>\n",
       "      <td>3</td>\n",
       "      <td>9</td>\n",
       "      <td>27</td>\n",
       "      <td>81</td>\n",
       "      <td>243</td>\n",
       "    </tr>\n",
       "    <tr>\n",
       "      <td>2020-01-06</td>\n",
       "      <td>4</td>\n",
       "      <td>16</td>\n",
       "      <td>64</td>\n",
       "      <td>256</td>\n",
       "      <td>1024</td>\n",
       "    </tr>\n",
       "    <tr>\n",
       "      <td>2020-01-07</td>\n",
       "      <td>5</td>\n",
       "      <td>25</td>\n",
       "      <td>125</td>\n",
       "      <td>625</td>\n",
       "      <td>3125</td>\n",
       "    </tr>\n",
       "    <tr>\n",
       "      <td>2020-01-08</td>\n",
       "      <td>6</td>\n",
       "      <td>36</td>\n",
       "      <td>216</td>\n",
       "      <td>1296</td>\n",
       "      <td>7776</td>\n",
       "    </tr>\n",
       "    <tr>\n",
       "      <td>2020-01-09</td>\n",
       "      <td>7</td>\n",
       "      <td>49</td>\n",
       "      <td>343</td>\n",
       "      <td>2401</td>\n",
       "      <td>16807</td>\n",
       "    </tr>\n",
       "    <tr>\n",
       "      <td>2020-01-10</td>\n",
       "      <td>8</td>\n",
       "      <td>64</td>\n",
       "      <td>512</td>\n",
       "      <td>4096</td>\n",
       "      <td>32768</td>\n",
       "    </tr>\n",
       "    <tr>\n",
       "      <td>2020-01-13</td>\n",
       "      <td>9</td>\n",
       "      <td>81</td>\n",
       "      <td>729</td>\n",
       "      <td>6561</td>\n",
       "      <td>59049</td>\n",
       "    </tr>\n",
       "    <tr>\n",
       "      <td>2020-01-14</td>\n",
       "      <td>10</td>\n",
       "      <td>100</td>\n",
       "      <td>1000</td>\n",
       "      <td>10000</td>\n",
       "      <td>100000</td>\n",
       "    </tr>\n",
       "  </tbody>\n",
       "</table>\n",
       "</div>"
      ],
      "text/plain": [
       "             x  x^2   x^3    x^4     x^5\n",
       "2020-01-01   1    1     1      1       1\n",
       "2020-01-02   2    4     8     16      32\n",
       "2020-01-03   3    9    27     81     243\n",
       "2020-01-06   4   16    64    256    1024\n",
       "2020-01-07   5   25   125    625    3125\n",
       "2020-01-08   6   36   216   1296    7776\n",
       "2020-01-09   7   49   343   2401   16807\n",
       "2020-01-10   8   64   512   4096   32768\n",
       "2020-01-13   9   81   729   6561   59049\n",
       "2020-01-14  10  100  1000  10000  100000"
      ]
     },
     "execution_count": 161,
     "metadata": {},
     "output_type": "execute_result"
    }
   ],
   "source": [
    "df.iloc[:,:]"
   ]
  },
  {
   "cell_type": "code",
   "execution_count": 162,
   "metadata": {},
   "outputs": [
    {
     "data": {
      "text/html": [
       "<div>\n",
       "<style scoped>\n",
       "    .dataframe tbody tr th:only-of-type {\n",
       "        vertical-align: middle;\n",
       "    }\n",
       "\n",
       "    .dataframe tbody tr th {\n",
       "        vertical-align: top;\n",
       "    }\n",
       "\n",
       "    .dataframe thead th {\n",
       "        text-align: right;\n",
       "    }\n",
       "</style>\n",
       "<table border=\"1\" class=\"dataframe\">\n",
       "  <thead>\n",
       "    <tr style=\"text-align: right;\">\n",
       "      <th></th>\n",
       "      <th>x</th>\n",
       "      <th>x^2</th>\n",
       "      <th>x^3</th>\n",
       "      <th>x^4</th>\n",
       "      <th>x^5</th>\n",
       "    </tr>\n",
       "  </thead>\n",
       "  <tbody>\n",
       "    <tr>\n",
       "      <td>2020-01-01</td>\n",
       "      <td>1</td>\n",
       "      <td>1</td>\n",
       "      <td>1</td>\n",
       "      <td>1</td>\n",
       "      <td>1</td>\n",
       "    </tr>\n",
       "    <tr>\n",
       "      <td>2020-01-02</td>\n",
       "      <td>2</td>\n",
       "      <td>4</td>\n",
       "      <td>8</td>\n",
       "      <td>16</td>\n",
       "      <td>32</td>\n",
       "    </tr>\n",
       "    <tr>\n",
       "      <td>2020-01-03</td>\n",
       "      <td>3</td>\n",
       "      <td>9</td>\n",
       "      <td>27</td>\n",
       "      <td>81</td>\n",
       "      <td>243</td>\n",
       "    </tr>\n",
       "    <tr>\n",
       "      <td>2020-01-06</td>\n",
       "      <td>4</td>\n",
       "      <td>16</td>\n",
       "      <td>64</td>\n",
       "      <td>256</td>\n",
       "      <td>1024</td>\n",
       "    </tr>\n",
       "    <tr>\n",
       "      <td>2020-01-07</td>\n",
       "      <td>5</td>\n",
       "      <td>25</td>\n",
       "      <td>125</td>\n",
       "      <td>625</td>\n",
       "      <td>3125</td>\n",
       "    </tr>\n",
       "    <tr>\n",
       "      <td>2020-01-08</td>\n",
       "      <td>6</td>\n",
       "      <td>36</td>\n",
       "      <td>216</td>\n",
       "      <td>1296</td>\n",
       "      <td>7776</td>\n",
       "    </tr>\n",
       "    <tr>\n",
       "      <td>2020-01-09</td>\n",
       "      <td>7</td>\n",
       "      <td>49</td>\n",
       "      <td>343</td>\n",
       "      <td>2401</td>\n",
       "      <td>16807</td>\n",
       "    </tr>\n",
       "    <tr>\n",
       "      <td>2020-01-10</td>\n",
       "      <td>8</td>\n",
       "      <td>64</td>\n",
       "      <td>512</td>\n",
       "      <td>4096</td>\n",
       "      <td>32768</td>\n",
       "    </tr>\n",
       "    <tr>\n",
       "      <td>2020-01-13</td>\n",
       "      <td>9</td>\n",
       "      <td>81</td>\n",
       "      <td>729</td>\n",
       "      <td>6561</td>\n",
       "      <td>59049</td>\n",
       "    </tr>\n",
       "    <tr>\n",
       "      <td>2020-01-14</td>\n",
       "      <td>10</td>\n",
       "      <td>100</td>\n",
       "      <td>1000</td>\n",
       "      <td>10000</td>\n",
       "      <td>100000</td>\n",
       "    </tr>\n",
       "  </tbody>\n",
       "</table>\n",
       "</div>"
      ],
      "text/plain": [
       "             x  x^2   x^3    x^4     x^5\n",
       "2020-01-01   1    1     1      1       1\n",
       "2020-01-02   2    4     8     16      32\n",
       "2020-01-03   3    9    27     81     243\n",
       "2020-01-06   4   16    64    256    1024\n",
       "2020-01-07   5   25   125    625    3125\n",
       "2020-01-08   6   36   216   1296    7776\n",
       "2020-01-09   7   49   343   2401   16807\n",
       "2020-01-10   8   64   512   4096   32768\n",
       "2020-01-13   9   81   729   6561   59049\n",
       "2020-01-14  10  100  1000  10000  100000"
      ]
     },
     "execution_count": 162,
     "metadata": {},
     "output_type": "execute_result"
    }
   ],
   "source": [
    "df"
   ]
  },
  {
   "cell_type": "markdown",
   "metadata": {},
   "source": [
    "If you want all rows but just some columns you can use the colon `:` as a row indexer"
   ]
  },
  {
   "cell_type": "code",
   "execution_count": 163,
   "metadata": {},
   "outputs": [
    {
     "data": {
      "text/html": [
       "<div>\n",
       "<style scoped>\n",
       "    .dataframe tbody tr th:only-of-type {\n",
       "        vertical-align: middle;\n",
       "    }\n",
       "\n",
       "    .dataframe tbody tr th {\n",
       "        vertical-align: top;\n",
       "    }\n",
       "\n",
       "    .dataframe thead th {\n",
       "        text-align: right;\n",
       "    }\n",
       "</style>\n",
       "<table border=\"1\" class=\"dataframe\">\n",
       "  <thead>\n",
       "    <tr style=\"text-align: right;\">\n",
       "      <th></th>\n",
       "      <th>x</th>\n",
       "      <th>x^2</th>\n",
       "    </tr>\n",
       "  </thead>\n",
       "  <tbody>\n",
       "    <tr>\n",
       "      <td>2020-01-01</td>\n",
       "      <td>1</td>\n",
       "      <td>1</td>\n",
       "    </tr>\n",
       "    <tr>\n",
       "      <td>2020-01-02</td>\n",
       "      <td>2</td>\n",
       "      <td>4</td>\n",
       "    </tr>\n",
       "    <tr>\n",
       "      <td>2020-01-03</td>\n",
       "      <td>3</td>\n",
       "      <td>9</td>\n",
       "    </tr>\n",
       "    <tr>\n",
       "      <td>2020-01-06</td>\n",
       "      <td>4</td>\n",
       "      <td>16</td>\n",
       "    </tr>\n",
       "    <tr>\n",
       "      <td>2020-01-07</td>\n",
       "      <td>5</td>\n",
       "      <td>25</td>\n",
       "    </tr>\n",
       "    <tr>\n",
       "      <td>2020-01-08</td>\n",
       "      <td>6</td>\n",
       "      <td>36</td>\n",
       "    </tr>\n",
       "    <tr>\n",
       "      <td>2020-01-09</td>\n",
       "      <td>7</td>\n",
       "      <td>49</td>\n",
       "    </tr>\n",
       "    <tr>\n",
       "      <td>2020-01-10</td>\n",
       "      <td>8</td>\n",
       "      <td>64</td>\n",
       "    </tr>\n",
       "    <tr>\n",
       "      <td>2020-01-13</td>\n",
       "      <td>9</td>\n",
       "      <td>81</td>\n",
       "    </tr>\n",
       "    <tr>\n",
       "      <td>2020-01-14</td>\n",
       "      <td>10</td>\n",
       "      <td>100</td>\n",
       "    </tr>\n",
       "  </tbody>\n",
       "</table>\n",
       "</div>"
      ],
      "text/plain": [
       "             x  x^2\n",
       "2020-01-01   1    1\n",
       "2020-01-02   2    4\n",
       "2020-01-03   3    9\n",
       "2020-01-06   4   16\n",
       "2020-01-07   5   25\n",
       "2020-01-08   6   36\n",
       "2020-01-09   7   49\n",
       "2020-01-10   8   64\n",
       "2020-01-13   9   81\n",
       "2020-01-14  10  100"
      ]
     },
     "execution_count": 163,
     "metadata": {},
     "output_type": "execute_result"
    }
   ],
   "source": [
    "df.iloc[:, [0,1]]"
   ]
  },
  {
   "cell_type": "markdown",
   "metadata": {},
   "source": [
    "In the same way, if you want all the columns, but just a few rows, you can use the colon `:` as a cols indexer"
   ]
  },
  {
   "cell_type": "code",
   "execution_count": 164,
   "metadata": {},
   "outputs": [
    {
     "data": {
      "text/html": [
       "<div>\n",
       "<style scoped>\n",
       "    .dataframe tbody tr th:only-of-type {\n",
       "        vertical-align: middle;\n",
       "    }\n",
       "\n",
       "    .dataframe tbody tr th {\n",
       "        vertical-align: top;\n",
       "    }\n",
       "\n",
       "    .dataframe thead th {\n",
       "        text-align: right;\n",
       "    }\n",
       "</style>\n",
       "<table border=\"1\" class=\"dataframe\">\n",
       "  <thead>\n",
       "    <tr style=\"text-align: right;\">\n",
       "      <th></th>\n",
       "      <th>x</th>\n",
       "      <th>x^2</th>\n",
       "      <th>x^3</th>\n",
       "      <th>x^4</th>\n",
       "      <th>x^5</th>\n",
       "    </tr>\n",
       "  </thead>\n",
       "  <tbody>\n",
       "    <tr>\n",
       "      <td>2020-01-09</td>\n",
       "      <td>7</td>\n",
       "      <td>49</td>\n",
       "      <td>343</td>\n",
       "      <td>2401</td>\n",
       "      <td>16807</td>\n",
       "    </tr>\n",
       "    <tr>\n",
       "      <td>2020-01-10</td>\n",
       "      <td>8</td>\n",
       "      <td>64</td>\n",
       "      <td>512</td>\n",
       "      <td>4096</td>\n",
       "      <td>32768</td>\n",
       "    </tr>\n",
       "    <tr>\n",
       "      <td>2020-01-13</td>\n",
       "      <td>9</td>\n",
       "      <td>81</td>\n",
       "      <td>729</td>\n",
       "      <td>6561</td>\n",
       "      <td>59049</td>\n",
       "    </tr>\n",
       "    <tr>\n",
       "      <td>2020-01-14</td>\n",
       "      <td>10</td>\n",
       "      <td>100</td>\n",
       "      <td>1000</td>\n",
       "      <td>10000</td>\n",
       "      <td>100000</td>\n",
       "    </tr>\n",
       "  </tbody>\n",
       "</table>\n",
       "</div>"
      ],
      "text/plain": [
       "             x  x^2   x^3    x^4     x^5\n",
       "2020-01-09   7   49   343   2401   16807\n",
       "2020-01-10   8   64   512   4096   32768\n",
       "2020-01-13   9   81   729   6561   59049\n",
       "2020-01-14  10  100  1000  10000  100000"
      ]
     },
     "execution_count": 164,
     "metadata": {},
     "output_type": "execute_result"
    }
   ],
   "source": [
    "df.iloc[6:, :]"
   ]
  },
  {
   "cell_type": "markdown",
   "metadata": {},
   "source": [
    "Notice that if you want all the columns, you can completely omit the column indexer. Therefore, `df.iloc[6:, :]` is equivalent to `df.iloc[6:]`"
   ]
  },
  {
   "cell_type": "code",
   "execution_count": 165,
   "metadata": {},
   "outputs": [
    {
     "data": {
      "text/html": [
       "<div>\n",
       "<style scoped>\n",
       "    .dataframe tbody tr th:only-of-type {\n",
       "        vertical-align: middle;\n",
       "    }\n",
       "\n",
       "    .dataframe tbody tr th {\n",
       "        vertical-align: top;\n",
       "    }\n",
       "\n",
       "    .dataframe thead th {\n",
       "        text-align: right;\n",
       "    }\n",
       "</style>\n",
       "<table border=\"1\" class=\"dataframe\">\n",
       "  <thead>\n",
       "    <tr style=\"text-align: right;\">\n",
       "      <th></th>\n",
       "      <th>x</th>\n",
       "      <th>x^2</th>\n",
       "      <th>x^3</th>\n",
       "      <th>x^4</th>\n",
       "      <th>x^5</th>\n",
       "    </tr>\n",
       "  </thead>\n",
       "  <tbody>\n",
       "    <tr>\n",
       "      <td>2020-01-09</td>\n",
       "      <td>7</td>\n",
       "      <td>49</td>\n",
       "      <td>343</td>\n",
       "      <td>2401</td>\n",
       "      <td>16807</td>\n",
       "    </tr>\n",
       "    <tr>\n",
       "      <td>2020-01-10</td>\n",
       "      <td>8</td>\n",
       "      <td>64</td>\n",
       "      <td>512</td>\n",
       "      <td>4096</td>\n",
       "      <td>32768</td>\n",
       "    </tr>\n",
       "    <tr>\n",
       "      <td>2020-01-13</td>\n",
       "      <td>9</td>\n",
       "      <td>81</td>\n",
       "      <td>729</td>\n",
       "      <td>6561</td>\n",
       "      <td>59049</td>\n",
       "    </tr>\n",
       "    <tr>\n",
       "      <td>2020-01-14</td>\n",
       "      <td>10</td>\n",
       "      <td>100</td>\n",
       "      <td>1000</td>\n",
       "      <td>10000</td>\n",
       "      <td>100000</td>\n",
       "    </tr>\n",
       "  </tbody>\n",
       "</table>\n",
       "</div>"
      ],
      "text/plain": [
       "             x  x^2   x^3    x^4     x^5\n",
       "2020-01-09   7   49   343   2401   16807\n",
       "2020-01-10   8   64   512   4096   32768\n",
       "2020-01-13   9   81   729   6561   59049\n",
       "2020-01-14  10  100  1000  10000  100000"
      ]
     },
     "execution_count": 165,
     "metadata": {},
     "output_type": "execute_result"
    }
   ],
   "source": [
    "df.iloc[6:]"
   ]
  },
  {
   "cell_type": "markdown",
   "metadata": {},
   "source": [
    "Finally, notice that - as already pointed out in the `.loc[]` case - if you omit the row indexer to ask for all the rows and few cols, you get the opposite"
   ]
  },
  {
   "cell_type": "code",
   "execution_count": 166,
   "metadata": {},
   "outputs": [
    {
     "data": {
      "text/html": [
       "<div>\n",
       "<style scoped>\n",
       "    .dataframe tbody tr th:only-of-type {\n",
       "        vertical-align: middle;\n",
       "    }\n",
       "\n",
       "    .dataframe tbody tr th {\n",
       "        vertical-align: top;\n",
       "    }\n",
       "\n",
       "    .dataframe thead th {\n",
       "        text-align: right;\n",
       "    }\n",
       "</style>\n",
       "<table border=\"1\" class=\"dataframe\">\n",
       "  <thead>\n",
       "    <tr style=\"text-align: right;\">\n",
       "      <th></th>\n",
       "      <th>x</th>\n",
       "      <th>x^2</th>\n",
       "      <th>x^3</th>\n",
       "      <th>x^4</th>\n",
       "      <th>x^5</th>\n",
       "    </tr>\n",
       "  </thead>\n",
       "  <tbody>\n",
       "    <tr>\n",
       "      <td>2020-01-01</td>\n",
       "      <td>1</td>\n",
       "      <td>1</td>\n",
       "      <td>1</td>\n",
       "      <td>1</td>\n",
       "      <td>1</td>\n",
       "    </tr>\n",
       "    <tr>\n",
       "      <td>2020-01-03</td>\n",
       "      <td>3</td>\n",
       "      <td>9</td>\n",
       "      <td>27</td>\n",
       "      <td>81</td>\n",
       "      <td>243</td>\n",
       "    </tr>\n",
       "  </tbody>\n",
       "</table>\n",
       "</div>"
      ],
      "text/plain": [
       "            x  x^2  x^3  x^4  x^5\n",
       "2020-01-01  1    1    1    1    1\n",
       "2020-01-03  3    9   27   81  243"
      ]
     },
     "execution_count": 166,
     "metadata": {},
     "output_type": "execute_result"
    }
   ],
   "source": [
    "df.iloc[[0,2]]"
   ]
  },
  {
   "cell_type": "markdown",
   "metadata": {},
   "source": [
    "that is, `[0,2]` gets interpreted as row positions. That's because if a single indexer is provided to `.iloc[]`, it gets interpreted as row indexer. "
   ]
  },
  {
   "cell_type": "markdown",
   "metadata": {},
   "source": [
    "To get the `[0,2]` columns you have to use the colon `:` as row indexer"
   ]
  },
  {
   "cell_type": "code",
   "execution_count": 167,
   "metadata": {},
   "outputs": [
    {
     "data": {
      "text/html": [
       "<div>\n",
       "<style scoped>\n",
       "    .dataframe tbody tr th:only-of-type {\n",
       "        vertical-align: middle;\n",
       "    }\n",
       "\n",
       "    .dataframe tbody tr th {\n",
       "        vertical-align: top;\n",
       "    }\n",
       "\n",
       "    .dataframe thead th {\n",
       "        text-align: right;\n",
       "    }\n",
       "</style>\n",
       "<table border=\"1\" class=\"dataframe\">\n",
       "  <thead>\n",
       "    <tr style=\"text-align: right;\">\n",
       "      <th></th>\n",
       "      <th>x</th>\n",
       "      <th>x^3</th>\n",
       "    </tr>\n",
       "  </thead>\n",
       "  <tbody>\n",
       "    <tr>\n",
       "      <td>2020-01-01</td>\n",
       "      <td>1</td>\n",
       "      <td>1</td>\n",
       "    </tr>\n",
       "    <tr>\n",
       "      <td>2020-01-02</td>\n",
       "      <td>2</td>\n",
       "      <td>8</td>\n",
       "    </tr>\n",
       "    <tr>\n",
       "      <td>2020-01-03</td>\n",
       "      <td>3</td>\n",
       "      <td>27</td>\n",
       "    </tr>\n",
       "    <tr>\n",
       "      <td>2020-01-06</td>\n",
       "      <td>4</td>\n",
       "      <td>64</td>\n",
       "    </tr>\n",
       "    <tr>\n",
       "      <td>2020-01-07</td>\n",
       "      <td>5</td>\n",
       "      <td>125</td>\n",
       "    </tr>\n",
       "    <tr>\n",
       "      <td>2020-01-08</td>\n",
       "      <td>6</td>\n",
       "      <td>216</td>\n",
       "    </tr>\n",
       "    <tr>\n",
       "      <td>2020-01-09</td>\n",
       "      <td>7</td>\n",
       "      <td>343</td>\n",
       "    </tr>\n",
       "    <tr>\n",
       "      <td>2020-01-10</td>\n",
       "      <td>8</td>\n",
       "      <td>512</td>\n",
       "    </tr>\n",
       "    <tr>\n",
       "      <td>2020-01-13</td>\n",
       "      <td>9</td>\n",
       "      <td>729</td>\n",
       "    </tr>\n",
       "    <tr>\n",
       "      <td>2020-01-14</td>\n",
       "      <td>10</td>\n",
       "      <td>1000</td>\n",
       "    </tr>\n",
       "  </tbody>\n",
       "</table>\n",
       "</div>"
      ],
      "text/plain": [
       "             x   x^3\n",
       "2020-01-01   1     1\n",
       "2020-01-02   2     8\n",
       "2020-01-03   3    27\n",
       "2020-01-06   4    64\n",
       "2020-01-07   5   125\n",
       "2020-01-08   6   216\n",
       "2020-01-09   7   343\n",
       "2020-01-10   8   512\n",
       "2020-01-13   9   729\n",
       "2020-01-14  10  1000"
      ]
     },
     "execution_count": 167,
     "metadata": {},
     "output_type": "execute_result"
    }
   ],
   "source": [
    "df.iloc[:, [0,2]]"
   ]
  },
  {
   "cell_type": "markdown",
   "metadata": {},
   "source": [
    "Live with it."
   ]
  },
  {
   "cell_type": "markdown",
   "metadata": {},
   "source": [
    "## 2.4. Creating (and deleting) New Columns <a name=\"df_new_cols\"></a>"
   ]
  },
  {
   "cell_type": "markdown",
   "metadata": {},
   "source": [
    "Creating new columns is as simple as defining them"
   ]
  },
  {
   "cell_type": "code",
   "execution_count": 168,
   "metadata": {},
   "outputs": [
    {
     "data": {
      "text/html": [
       "<div>\n",
       "<style scoped>\n",
       "    .dataframe tbody tr th:only-of-type {\n",
       "        vertical-align: middle;\n",
       "    }\n",
       "\n",
       "    .dataframe tbody tr th {\n",
       "        vertical-align: top;\n",
       "    }\n",
       "\n",
       "    .dataframe thead th {\n",
       "        text-align: right;\n",
       "    }\n",
       "</style>\n",
       "<table border=\"1\" class=\"dataframe\">\n",
       "  <thead>\n",
       "    <tr style=\"text-align: right;\">\n",
       "      <th></th>\n",
       "      <th>S&amp;P Rating</th>\n",
       "      <th>Spread</th>\n",
       "      <th>Country</th>\n",
       "    </tr>\n",
       "  </thead>\n",
       "  <tbody>\n",
       "    <tr>\n",
       "      <td>Firm_1</td>\n",
       "      <td>A</td>\n",
       "      <td>100</td>\n",
       "      <td>USA</td>\n",
       "    </tr>\n",
       "    <tr>\n",
       "      <td>Firm_2</td>\n",
       "      <td>BB</td>\n",
       "      <td>300</td>\n",
       "      <td>ITA</td>\n",
       "    </tr>\n",
       "    <tr>\n",
       "      <td>Firm_3</td>\n",
       "      <td>AA</td>\n",
       "      <td>70</td>\n",
       "      <td>UK</td>\n",
       "    </tr>\n",
       "    <tr>\n",
       "      <td>Firm_4</td>\n",
       "      <td>CCC</td>\n",
       "      <td>700</td>\n",
       "      <td>ITA</td>\n",
       "    </tr>\n",
       "  </tbody>\n",
       "</table>\n",
       "</div>"
      ],
      "text/plain": [
       "       S&P Rating  Spread Country\n",
       "Firm_1          A     100     USA\n",
       "Firm_2         BB     300     ITA\n",
       "Firm_3         AA      70      UK\n",
       "Firm_4        CCC     700     ITA"
      ]
     },
     "execution_count": 168,
     "metadata": {},
     "output_type": "execute_result"
    }
   ],
   "source": [
    "df_refData"
   ]
  },
  {
   "cell_type": "markdown",
   "metadata": {},
   "source": [
    "Suppose we want to share price (in USD) for each firm as an additional column `Share Price`"
   ]
  },
  {
   "cell_type": "code",
   "execution_count": 169,
   "metadata": {},
   "outputs": [
    {
     "data": {
      "text/html": [
       "<div>\n",
       "<style scoped>\n",
       "    .dataframe tbody tr th:only-of-type {\n",
       "        vertical-align: middle;\n",
       "    }\n",
       "\n",
       "    .dataframe tbody tr th {\n",
       "        vertical-align: top;\n",
       "    }\n",
       "\n",
       "    .dataframe thead th {\n",
       "        text-align: right;\n",
       "    }\n",
       "</style>\n",
       "<table border=\"1\" class=\"dataframe\">\n",
       "  <thead>\n",
       "    <tr style=\"text-align: right;\">\n",
       "      <th></th>\n",
       "      <th>S&amp;P Rating</th>\n",
       "      <th>Spread</th>\n",
       "      <th>Country</th>\n",
       "      <th>Share Price</th>\n",
       "    </tr>\n",
       "  </thead>\n",
       "  <tbody>\n",
       "    <tr>\n",
       "      <td>Firm_1</td>\n",
       "      <td>A</td>\n",
       "      <td>100</td>\n",
       "      <td>USA</td>\n",
       "      <td>21.50</td>\n",
       "    </tr>\n",
       "    <tr>\n",
       "      <td>Firm_2</td>\n",
       "      <td>BB</td>\n",
       "      <td>300</td>\n",
       "      <td>ITA</td>\n",
       "      <td>15.00</td>\n",
       "    </tr>\n",
       "    <tr>\n",
       "      <td>Firm_3</td>\n",
       "      <td>AA</td>\n",
       "      <td>70</td>\n",
       "      <td>UK</td>\n",
       "      <td>32.25</td>\n",
       "    </tr>\n",
       "    <tr>\n",
       "      <td>Firm_4</td>\n",
       "      <td>CCC</td>\n",
       "      <td>700</td>\n",
       "      <td>ITA</td>\n",
       "      <td>2.50</td>\n",
       "    </tr>\n",
       "  </tbody>\n",
       "</table>\n",
       "</div>"
      ],
      "text/plain": [
       "       S&P Rating  Spread Country  Share Price\n",
       "Firm_1          A     100     USA        21.50\n",
       "Firm_2         BB     300     ITA        15.00\n",
       "Firm_3         AA      70      UK        32.25\n",
       "Firm_4        CCC     700     ITA         2.50"
      ]
     },
     "execution_count": 169,
     "metadata": {},
     "output_type": "execute_result"
    }
   ],
   "source": [
    "df_refData['Share Price'] = [21.5, 15.0, 32.25, 2.5]\n",
    "df_refData"
   ]
  },
  {
   "cell_type": "markdown",
   "metadata": {},
   "source": [
    "Easy, isn't it? New values, wrapped in the list, are assigned according to their input order, to the corresponding index of `df_refData`."
   ]
  },
  {
   "cell_type": "markdown",
   "metadata": {},
   "source": [
    "Let's define the number of outstanding shares too, as new column `Number of Shares` (in billions)"
   ]
  },
  {
   "cell_type": "code",
   "execution_count": 170,
   "metadata": {},
   "outputs": [
    {
     "data": {
      "text/html": [
       "<div>\n",
       "<style scoped>\n",
       "    .dataframe tbody tr th:only-of-type {\n",
       "        vertical-align: middle;\n",
       "    }\n",
       "\n",
       "    .dataframe tbody tr th {\n",
       "        vertical-align: top;\n",
       "    }\n",
       "\n",
       "    .dataframe thead th {\n",
       "        text-align: right;\n",
       "    }\n",
       "</style>\n",
       "<table border=\"1\" class=\"dataframe\">\n",
       "  <thead>\n",
       "    <tr style=\"text-align: right;\">\n",
       "      <th></th>\n",
       "      <th>S&amp;P Rating</th>\n",
       "      <th>Spread</th>\n",
       "      <th>Country</th>\n",
       "      <th>Share Price</th>\n",
       "      <th>Number of Shares</th>\n",
       "    </tr>\n",
       "  </thead>\n",
       "  <tbody>\n",
       "    <tr>\n",
       "      <td>Firm_1</td>\n",
       "      <td>A</td>\n",
       "      <td>100</td>\n",
       "      <td>USA</td>\n",
       "      <td>21.50</td>\n",
       "      <td>20</td>\n",
       "    </tr>\n",
       "    <tr>\n",
       "      <td>Firm_2</td>\n",
       "      <td>BB</td>\n",
       "      <td>300</td>\n",
       "      <td>ITA</td>\n",
       "      <td>15.00</td>\n",
       "      <td>3</td>\n",
       "    </tr>\n",
       "    <tr>\n",
       "      <td>Firm_3</td>\n",
       "      <td>AA</td>\n",
       "      <td>70</td>\n",
       "      <td>UK</td>\n",
       "      <td>32.25</td>\n",
       "      <td>5</td>\n",
       "    </tr>\n",
       "    <tr>\n",
       "      <td>Firm_4</td>\n",
       "      <td>CCC</td>\n",
       "      <td>700</td>\n",
       "      <td>ITA</td>\n",
       "      <td>2.50</td>\n",
       "      <td>2</td>\n",
       "    </tr>\n",
       "  </tbody>\n",
       "</table>\n",
       "</div>"
      ],
      "text/plain": [
       "       S&P Rating  Spread Country  Share Price  Number of Shares\n",
       "Firm_1          A     100     USA        21.50                20\n",
       "Firm_2         BB     300     ITA        15.00                 3\n",
       "Firm_3         AA      70      UK        32.25                 5\n",
       "Firm_4        CCC     700     ITA         2.50                 2"
      ]
     },
     "execution_count": 170,
     "metadata": {},
     "output_type": "execute_result"
    }
   ],
   "source": [
    "df_refData['Number of Shares'] = [20, 3, 5, 2]\n",
    "df_refData"
   ]
  },
  {
   "cell_type": "markdown",
   "metadata": {},
   "source": [
    "We are now ready to compute the market capitalization `Market Cap` for each firm, as \n",
    "\n",
    "`Market Cap` $=$ `Share Price` $\\times$ `Number of Shares`, \n",
    "\n",
    "which serves here as an example of a column defined from two other existing columns "
   ]
  },
  {
   "cell_type": "code",
   "execution_count": 171,
   "metadata": {},
   "outputs": [
    {
     "data": {
      "text/html": [
       "<div>\n",
       "<style scoped>\n",
       "    .dataframe tbody tr th:only-of-type {\n",
       "        vertical-align: middle;\n",
       "    }\n",
       "\n",
       "    .dataframe tbody tr th {\n",
       "        vertical-align: top;\n",
       "    }\n",
       "\n",
       "    .dataframe thead th {\n",
       "        text-align: right;\n",
       "    }\n",
       "</style>\n",
       "<table border=\"1\" class=\"dataframe\">\n",
       "  <thead>\n",
       "    <tr style=\"text-align: right;\">\n",
       "      <th></th>\n",
       "      <th>S&amp;P Rating</th>\n",
       "      <th>Spread</th>\n",
       "      <th>Country</th>\n",
       "      <th>Share Price</th>\n",
       "      <th>Number of Shares</th>\n",
       "      <th>Market Cap</th>\n",
       "    </tr>\n",
       "  </thead>\n",
       "  <tbody>\n",
       "    <tr>\n",
       "      <td>Firm_1</td>\n",
       "      <td>A</td>\n",
       "      <td>100</td>\n",
       "      <td>USA</td>\n",
       "      <td>21.50</td>\n",
       "      <td>20</td>\n",
       "      <td>430.00</td>\n",
       "    </tr>\n",
       "    <tr>\n",
       "      <td>Firm_2</td>\n",
       "      <td>BB</td>\n",
       "      <td>300</td>\n",
       "      <td>ITA</td>\n",
       "      <td>15.00</td>\n",
       "      <td>3</td>\n",
       "      <td>45.00</td>\n",
       "    </tr>\n",
       "    <tr>\n",
       "      <td>Firm_3</td>\n",
       "      <td>AA</td>\n",
       "      <td>70</td>\n",
       "      <td>UK</td>\n",
       "      <td>32.25</td>\n",
       "      <td>5</td>\n",
       "      <td>161.25</td>\n",
       "    </tr>\n",
       "    <tr>\n",
       "      <td>Firm_4</td>\n",
       "      <td>CCC</td>\n",
       "      <td>700</td>\n",
       "      <td>ITA</td>\n",
       "      <td>2.50</td>\n",
       "      <td>2</td>\n",
       "      <td>5.00</td>\n",
       "    </tr>\n",
       "  </tbody>\n",
       "</table>\n",
       "</div>"
      ],
      "text/plain": [
       "       S&P Rating  Spread Country  Share Price  Number of Shares  Market Cap\n",
       "Firm_1          A     100     USA        21.50                20      430.00\n",
       "Firm_2         BB     300     ITA        15.00                 3       45.00\n",
       "Firm_3         AA      70      UK        32.25                 5      161.25\n",
       "Firm_4        CCC     700     ITA         2.50                 2        5.00"
      ]
     },
     "execution_count": 171,
     "metadata": {},
     "output_type": "execute_result"
    }
   ],
   "source": [
    "df_refData['Market Cap'] = df_refData['Share Price'] * df_refData['Number of Shares']\n",
    "df_refData"
   ]
  },
  {
   "cell_type": "markdown",
   "metadata": {},
   "source": [
    "as you can see, each product of the share price and the number of shares is computed _elementwise_. This is a recurring feature, wwe have already observed several times (e.g. NumPy arrays methods, Pandas Series methods, etc.)."
   ]
  },
  {
   "cell_type": "markdown",
   "metadata": {},
   "source": [
    "What if we decide we no longer want to keep only the `Market Cap`? You can delete columns as you would to with `key: value` pairs of a Python dictionary"
   ]
  },
  {
   "cell_type": "code",
   "execution_count": 172,
   "metadata": {},
   "outputs": [
    {
     "data": {
      "text/html": [
       "<div>\n",
       "<style scoped>\n",
       "    .dataframe tbody tr th:only-of-type {\n",
       "        vertical-align: middle;\n",
       "    }\n",
       "\n",
       "    .dataframe tbody tr th {\n",
       "        vertical-align: top;\n",
       "    }\n",
       "\n",
       "    .dataframe thead th {\n",
       "        text-align: right;\n",
       "    }\n",
       "</style>\n",
       "<table border=\"1\" class=\"dataframe\">\n",
       "  <thead>\n",
       "    <tr style=\"text-align: right;\">\n",
       "      <th></th>\n",
       "      <th>S&amp;P Rating</th>\n",
       "      <th>Spread</th>\n",
       "      <th>Country</th>\n",
       "      <th>Number of Shares</th>\n",
       "      <th>Market Cap</th>\n",
       "    </tr>\n",
       "  </thead>\n",
       "  <tbody>\n",
       "    <tr>\n",
       "      <td>Firm_1</td>\n",
       "      <td>A</td>\n",
       "      <td>100</td>\n",
       "      <td>USA</td>\n",
       "      <td>20</td>\n",
       "      <td>430.00</td>\n",
       "    </tr>\n",
       "    <tr>\n",
       "      <td>Firm_2</td>\n",
       "      <td>BB</td>\n",
       "      <td>300</td>\n",
       "      <td>ITA</td>\n",
       "      <td>3</td>\n",
       "      <td>45.00</td>\n",
       "    </tr>\n",
       "    <tr>\n",
       "      <td>Firm_3</td>\n",
       "      <td>AA</td>\n",
       "      <td>70</td>\n",
       "      <td>UK</td>\n",
       "      <td>5</td>\n",
       "      <td>161.25</td>\n",
       "    </tr>\n",
       "    <tr>\n",
       "      <td>Firm_4</td>\n",
       "      <td>CCC</td>\n",
       "      <td>700</td>\n",
       "      <td>ITA</td>\n",
       "      <td>2</td>\n",
       "      <td>5.00</td>\n",
       "    </tr>\n",
       "  </tbody>\n",
       "</table>\n",
       "</div>"
      ],
      "text/plain": [
       "       S&P Rating  Spread Country  Number of Shares  Market Cap\n",
       "Firm_1          A     100     USA                20      430.00\n",
       "Firm_2         BB     300     ITA                 3       45.00\n",
       "Firm_3         AA      70      UK                 5      161.25\n",
       "Firm_4        CCC     700     ITA                 2        5.00"
      ]
     },
     "execution_count": 172,
     "metadata": {},
     "output_type": "execute_result"
    }
   ],
   "source": [
    "del df_refData['Share Price']\n",
    "df_refData"
   ]
  },
  {
   "cell_type": "code",
   "execution_count": 173,
   "metadata": {},
   "outputs": [
    {
     "data": {
      "text/html": [
       "<div>\n",
       "<style scoped>\n",
       "    .dataframe tbody tr th:only-of-type {\n",
       "        vertical-align: middle;\n",
       "    }\n",
       "\n",
       "    .dataframe tbody tr th {\n",
       "        vertical-align: top;\n",
       "    }\n",
       "\n",
       "    .dataframe thead th {\n",
       "        text-align: right;\n",
       "    }\n",
       "</style>\n",
       "<table border=\"1\" class=\"dataframe\">\n",
       "  <thead>\n",
       "    <tr style=\"text-align: right;\">\n",
       "      <th></th>\n",
       "      <th>S&amp;P Rating</th>\n",
       "      <th>Spread</th>\n",
       "      <th>Country</th>\n",
       "      <th>Market Cap</th>\n",
       "    </tr>\n",
       "  </thead>\n",
       "  <tbody>\n",
       "    <tr>\n",
       "      <td>Firm_1</td>\n",
       "      <td>A</td>\n",
       "      <td>100</td>\n",
       "      <td>USA</td>\n",
       "      <td>430.00</td>\n",
       "    </tr>\n",
       "    <tr>\n",
       "      <td>Firm_2</td>\n",
       "      <td>BB</td>\n",
       "      <td>300</td>\n",
       "      <td>ITA</td>\n",
       "      <td>45.00</td>\n",
       "    </tr>\n",
       "    <tr>\n",
       "      <td>Firm_3</td>\n",
       "      <td>AA</td>\n",
       "      <td>70</td>\n",
       "      <td>UK</td>\n",
       "      <td>161.25</td>\n",
       "    </tr>\n",
       "    <tr>\n",
       "      <td>Firm_4</td>\n",
       "      <td>CCC</td>\n",
       "      <td>700</td>\n",
       "      <td>ITA</td>\n",
       "      <td>5.00</td>\n",
       "    </tr>\n",
       "  </tbody>\n",
       "</table>\n",
       "</div>"
      ],
      "text/plain": [
       "       S&P Rating  Spread Country  Market Cap\n",
       "Firm_1          A     100     USA      430.00\n",
       "Firm_2         BB     300     ITA       45.00\n",
       "Firm_3         AA      70      UK      161.25\n",
       "Firm_4        CCC     700     ITA        5.00"
      ]
     },
     "execution_count": 173,
     "metadata": {},
     "output_type": "execute_result"
    }
   ],
   "source": [
    "del df_refData['Number of Shares']\n",
    "df_refData"
   ]
  },
  {
   "cell_type": "markdown",
   "metadata": {},
   "source": [
    "Notice that you can define new columns also according to logical conditions applied to other columns"
   ]
  },
  {
   "cell_type": "code",
   "execution_count": 174,
   "metadata": {},
   "outputs": [
    {
     "data": {
      "text/html": [
       "<div>\n",
       "<style scoped>\n",
       "    .dataframe tbody tr th:only-of-type {\n",
       "        vertical-align: middle;\n",
       "    }\n",
       "\n",
       "    .dataframe tbody tr th {\n",
       "        vertical-align: top;\n",
       "    }\n",
       "\n",
       "    .dataframe thead th {\n",
       "        text-align: right;\n",
       "    }\n",
       "</style>\n",
       "<table border=\"1\" class=\"dataframe\">\n",
       "  <thead>\n",
       "    <tr style=\"text-align: right;\">\n",
       "      <th></th>\n",
       "      <th>S&amp;P Rating</th>\n",
       "      <th>Spread</th>\n",
       "      <th>Country</th>\n",
       "      <th>Market Cap</th>\n",
       "      <th>isBlueChip</th>\n",
       "    </tr>\n",
       "  </thead>\n",
       "  <tbody>\n",
       "    <tr>\n",
       "      <td>Firm_1</td>\n",
       "      <td>A</td>\n",
       "      <td>100</td>\n",
       "      <td>USA</td>\n",
       "      <td>430.00</td>\n",
       "      <td>True</td>\n",
       "    </tr>\n",
       "    <tr>\n",
       "      <td>Firm_2</td>\n",
       "      <td>BB</td>\n",
       "      <td>300</td>\n",
       "      <td>ITA</td>\n",
       "      <td>45.00</td>\n",
       "      <td>False</td>\n",
       "    </tr>\n",
       "    <tr>\n",
       "      <td>Firm_3</td>\n",
       "      <td>AA</td>\n",
       "      <td>70</td>\n",
       "      <td>UK</td>\n",
       "      <td>161.25</td>\n",
       "      <td>True</td>\n",
       "    </tr>\n",
       "    <tr>\n",
       "      <td>Firm_4</td>\n",
       "      <td>CCC</td>\n",
       "      <td>700</td>\n",
       "      <td>ITA</td>\n",
       "      <td>5.00</td>\n",
       "      <td>False</td>\n",
       "    </tr>\n",
       "  </tbody>\n",
       "</table>\n",
       "</div>"
      ],
      "text/plain": [
       "       S&P Rating  Spread Country  Market Cap  isBlueChip\n",
       "Firm_1          A     100     USA      430.00        True\n",
       "Firm_2         BB     300     ITA       45.00       False\n",
       "Firm_3         AA      70      UK      161.25        True\n",
       "Firm_4        CCC     700     ITA        5.00       False"
      ]
     },
     "execution_count": 174,
     "metadata": {},
     "output_type": "execute_result"
    }
   ],
   "source": [
    "df_refData['isBlueChip'] = df_refData['Market Cap'] > 100.0\n",
    "df_refData"
   ]
  },
  {
   "cell_type": "markdown",
   "metadata": {},
   "source": [
    "again, the logical condition that defines the new column `isBlueChip` works elementwise."
   ]
  },
  {
   "cell_type": "markdown",
   "metadata": {},
   "source": [
    "Finally, notice that the each column might have in principle, its own data-type"
   ]
  },
  {
   "cell_type": "code",
   "execution_count": 175,
   "metadata": {},
   "outputs": [
    {
     "data": {
      "text/plain": [
       "S&P Rating     object\n",
       "Spread          int64\n",
       "Country        object\n",
       "Market Cap    float64\n",
       "isBlueChip       bool\n",
       "dtype: object"
      ]
     },
     "execution_count": 175,
     "metadata": {},
     "output_type": "execute_result"
    }
   ],
   "source": [
    "df_refData.dtypes"
   ]
  },
  {
   "cell_type": "markdown",
   "metadata": {},
   "source": [
    "where `int64` and `float64` are for integers and floating values, respectively, `object` is for strings and `bool` is for boolean values."
   ]
  },
  {
   "cell_type": "markdown",
   "metadata": {},
   "source": [
    "## 2.5. Basic Analytics <a name=\"df_analytics\"></a>"
   ]
  },
  {
   "cell_type": "markdown",
   "metadata": {},
   "source": [
    "As direct generalization of Pandas Series, Pandas DataFrames too feature vectorized operations, a lot of built-in methods and can be safely passed to most of NumPy universal functions (that would expect NumPy arrays in input). "
   ]
  },
  {
   "cell_type": "code",
   "execution_count": 176,
   "metadata": {},
   "outputs": [
    {
     "data": {
      "text/html": [
       "<div>\n",
       "<style scoped>\n",
       "    .dataframe tbody tr th:only-of-type {\n",
       "        vertical-align: middle;\n",
       "    }\n",
       "\n",
       "    .dataframe tbody tr th {\n",
       "        vertical-align: top;\n",
       "    }\n",
       "\n",
       "    .dataframe thead th {\n",
       "        text-align: right;\n",
       "    }\n",
       "</style>\n",
       "<table border=\"1\" class=\"dataframe\">\n",
       "  <thead>\n",
       "    <tr style=\"text-align: right;\">\n",
       "      <th></th>\n",
       "      <th>x</th>\n",
       "      <th>x^2</th>\n",
       "      <th>x^3</th>\n",
       "      <th>x^4</th>\n",
       "      <th>x^5</th>\n",
       "    </tr>\n",
       "  </thead>\n",
       "  <tbody>\n",
       "    <tr>\n",
       "      <td>0.000000</td>\n",
       "      <td>0.000000</td>\n",
       "      <td>0.000000</td>\n",
       "      <td>0.000000</td>\n",
       "      <td>0.000000</td>\n",
       "      <td>0.000000</td>\n",
       "    </tr>\n",
       "    <tr>\n",
       "      <td>0.222222</td>\n",
       "      <td>0.222222</td>\n",
       "      <td>0.049383</td>\n",
       "      <td>0.010974</td>\n",
       "      <td>0.002439</td>\n",
       "      <td>0.000542</td>\n",
       "    </tr>\n",
       "    <tr>\n",
       "      <td>0.444444</td>\n",
       "      <td>0.444444</td>\n",
       "      <td>0.197531</td>\n",
       "      <td>0.087791</td>\n",
       "      <td>0.039018</td>\n",
       "      <td>0.017342</td>\n",
       "    </tr>\n",
       "    <tr>\n",
       "      <td>0.666667</td>\n",
       "      <td>0.666667</td>\n",
       "      <td>0.444444</td>\n",
       "      <td>0.296296</td>\n",
       "      <td>0.197531</td>\n",
       "      <td>0.131687</td>\n",
       "    </tr>\n",
       "    <tr>\n",
       "      <td>0.888889</td>\n",
       "      <td>0.888889</td>\n",
       "      <td>0.790123</td>\n",
       "      <td>0.702332</td>\n",
       "      <td>0.624295</td>\n",
       "      <td>0.554929</td>\n",
       "    </tr>\n",
       "    <tr>\n",
       "      <td>1.111111</td>\n",
       "      <td>1.111111</td>\n",
       "      <td>1.234568</td>\n",
       "      <td>1.371742</td>\n",
       "      <td>1.524158</td>\n",
       "      <td>1.693509</td>\n",
       "    </tr>\n",
       "    <tr>\n",
       "      <td>1.333333</td>\n",
       "      <td>1.333333</td>\n",
       "      <td>1.777778</td>\n",
       "      <td>2.370370</td>\n",
       "      <td>3.160494</td>\n",
       "      <td>4.213992</td>\n",
       "    </tr>\n",
       "    <tr>\n",
       "      <td>1.555556</td>\n",
       "      <td>1.555556</td>\n",
       "      <td>2.419753</td>\n",
       "      <td>3.764060</td>\n",
       "      <td>5.855205</td>\n",
       "      <td>9.108097</td>\n",
       "    </tr>\n",
       "    <tr>\n",
       "      <td>1.777778</td>\n",
       "      <td>1.777778</td>\n",
       "      <td>3.160494</td>\n",
       "      <td>5.618656</td>\n",
       "      <td>9.988721</td>\n",
       "      <td>17.757727</td>\n",
       "    </tr>\n",
       "    <tr>\n",
       "      <td>2.000000</td>\n",
       "      <td>2.000000</td>\n",
       "      <td>4.000000</td>\n",
       "      <td>8.000000</td>\n",
       "      <td>16.000000</td>\n",
       "      <td>32.000000</td>\n",
       "    </tr>\n",
       "  </tbody>\n",
       "</table>\n",
       "</div>"
      ],
      "text/plain": [
       "                 x       x^2       x^3        x^4        x^5\n",
       "0.000000  0.000000  0.000000  0.000000   0.000000   0.000000\n",
       "0.222222  0.222222  0.049383  0.010974   0.002439   0.000542\n",
       "0.444444  0.444444  0.197531  0.087791   0.039018   0.017342\n",
       "0.666667  0.666667  0.444444  0.296296   0.197531   0.131687\n",
       "0.888889  0.888889  0.790123  0.702332   0.624295   0.554929\n",
       "1.111111  1.111111  1.234568  1.371742   1.524158   1.693509\n",
       "1.333333  1.333333  1.777778  2.370370   3.160494   4.213992\n",
       "1.555556  1.555556  2.419753  3.764060   5.855205   9.108097\n",
       "1.777778  1.777778  3.160494  5.618656   9.988721  17.757727\n",
       "2.000000  2.000000  4.000000  8.000000  16.000000  32.000000"
      ]
     },
     "execution_count": 176,
     "metadata": {},
     "output_type": "execute_result"
    }
   ],
   "source": [
    "df_decimal"
   ]
  },
  {
   "cell_type": "markdown",
   "metadata": {},
   "source": [
    "### 2.5.1. _Vectorized_ operations <a name=\"df_basic_operations\"></a>"
   ]
  },
  {
   "cell_type": "markdown",
   "metadata": {},
   "source": [
    "DataFrame-Number and DataFrame-DataFrame operations are vectorized:"
   ]
  },
  {
   "cell_type": "code",
   "execution_count": 177,
   "metadata": {},
   "outputs": [
    {
     "data": {
      "text/html": [
       "<div>\n",
       "<style scoped>\n",
       "    .dataframe tbody tr th:only-of-type {\n",
       "        vertical-align: middle;\n",
       "    }\n",
       "\n",
       "    .dataframe tbody tr th {\n",
       "        vertical-align: top;\n",
       "    }\n",
       "\n",
       "    .dataframe thead th {\n",
       "        text-align: right;\n",
       "    }\n",
       "</style>\n",
       "<table border=\"1\" class=\"dataframe\">\n",
       "  <thead>\n",
       "    <tr style=\"text-align: right;\">\n",
       "      <th></th>\n",
       "      <th>x</th>\n",
       "      <th>x^2</th>\n",
       "      <th>x^3</th>\n",
       "      <th>x^4</th>\n",
       "      <th>x^5</th>\n",
       "    </tr>\n",
       "  </thead>\n",
       "  <tbody>\n",
       "    <tr>\n",
       "      <td>0.000000</td>\n",
       "      <td>0.000000</td>\n",
       "      <td>0.000000</td>\n",
       "      <td>0.000000</td>\n",
       "      <td>0.000000</td>\n",
       "      <td>0.000000</td>\n",
       "    </tr>\n",
       "    <tr>\n",
       "      <td>0.222222</td>\n",
       "      <td>0.444444</td>\n",
       "      <td>0.098765</td>\n",
       "      <td>0.021948</td>\n",
       "      <td>0.004877</td>\n",
       "      <td>0.001084</td>\n",
       "    </tr>\n",
       "    <tr>\n",
       "      <td>0.444444</td>\n",
       "      <td>0.888889</td>\n",
       "      <td>0.395062</td>\n",
       "      <td>0.175583</td>\n",
       "      <td>0.078037</td>\n",
       "      <td>0.034683</td>\n",
       "    </tr>\n",
       "    <tr>\n",
       "      <td>0.666667</td>\n",
       "      <td>1.333333</td>\n",
       "      <td>0.888889</td>\n",
       "      <td>0.592593</td>\n",
       "      <td>0.395062</td>\n",
       "      <td>0.263374</td>\n",
       "    </tr>\n",
       "    <tr>\n",
       "      <td>0.888889</td>\n",
       "      <td>1.777778</td>\n",
       "      <td>1.580247</td>\n",
       "      <td>1.404664</td>\n",
       "      <td>1.248590</td>\n",
       "      <td>1.109858</td>\n",
       "    </tr>\n",
       "    <tr>\n",
       "      <td>1.111111</td>\n",
       "      <td>2.222222</td>\n",
       "      <td>2.469136</td>\n",
       "      <td>2.743484</td>\n",
       "      <td>3.048316</td>\n",
       "      <td>3.387018</td>\n",
       "    </tr>\n",
       "    <tr>\n",
       "      <td>1.333333</td>\n",
       "      <td>2.666667</td>\n",
       "      <td>3.555556</td>\n",
       "      <td>4.740741</td>\n",
       "      <td>6.320988</td>\n",
       "      <td>8.427984</td>\n",
       "    </tr>\n",
       "    <tr>\n",
       "      <td>1.555556</td>\n",
       "      <td>3.111111</td>\n",
       "      <td>4.839506</td>\n",
       "      <td>7.528121</td>\n",
       "      <td>11.710410</td>\n",
       "      <td>18.216193</td>\n",
       "    </tr>\n",
       "    <tr>\n",
       "      <td>1.777778</td>\n",
       "      <td>3.555556</td>\n",
       "      <td>6.320988</td>\n",
       "      <td>11.237311</td>\n",
       "      <td>19.977442</td>\n",
       "      <td>35.515453</td>\n",
       "    </tr>\n",
       "    <tr>\n",
       "      <td>2.000000</td>\n",
       "      <td>4.000000</td>\n",
       "      <td>8.000000</td>\n",
       "      <td>16.000000</td>\n",
       "      <td>32.000000</td>\n",
       "      <td>64.000000</td>\n",
       "    </tr>\n",
       "  </tbody>\n",
       "</table>\n",
       "</div>"
      ],
      "text/plain": [
       "                 x       x^2        x^3        x^4        x^5\n",
       "0.000000  0.000000  0.000000   0.000000   0.000000   0.000000\n",
       "0.222222  0.444444  0.098765   0.021948   0.004877   0.001084\n",
       "0.444444  0.888889  0.395062   0.175583   0.078037   0.034683\n",
       "0.666667  1.333333  0.888889   0.592593   0.395062   0.263374\n",
       "0.888889  1.777778  1.580247   1.404664   1.248590   1.109858\n",
       "1.111111  2.222222  2.469136   2.743484   3.048316   3.387018\n",
       "1.333333  2.666667  3.555556   4.740741   6.320988   8.427984\n",
       "1.555556  3.111111  4.839506   7.528121  11.710410  18.216193\n",
       "1.777778  3.555556  6.320988  11.237311  19.977442  35.515453\n",
       "2.000000  4.000000  8.000000  16.000000  32.000000  64.000000"
      ]
     },
     "execution_count": 177,
     "metadata": {},
     "output_type": "execute_result"
    }
   ],
   "source": [
    "df_decimal * 2"
   ]
  },
  {
   "cell_type": "code",
   "execution_count": 178,
   "metadata": {},
   "outputs": [
    {
     "data": {
      "text/html": [
       "<div>\n",
       "<style scoped>\n",
       "    .dataframe tbody tr th:only-of-type {\n",
       "        vertical-align: middle;\n",
       "    }\n",
       "\n",
       "    .dataframe tbody tr th {\n",
       "        vertical-align: top;\n",
       "    }\n",
       "\n",
       "    .dataframe thead th {\n",
       "        text-align: right;\n",
       "    }\n",
       "</style>\n",
       "<table border=\"1\" class=\"dataframe\">\n",
       "  <thead>\n",
       "    <tr style=\"text-align: right;\">\n",
       "      <th></th>\n",
       "      <th>x</th>\n",
       "      <th>x^2</th>\n",
       "      <th>x^3</th>\n",
       "      <th>x^4</th>\n",
       "      <th>x^5</th>\n",
       "    </tr>\n",
       "  </thead>\n",
       "  <tbody>\n",
       "    <tr>\n",
       "      <td>0.000000</td>\n",
       "      <td>0.000000</td>\n",
       "      <td>0.000000</td>\n",
       "      <td>0.000000</td>\n",
       "      <td>0.000000</td>\n",
       "      <td>0.000000</td>\n",
       "    </tr>\n",
       "    <tr>\n",
       "      <td>0.222222</td>\n",
       "      <td>2.444444</td>\n",
       "      <td>0.543210</td>\n",
       "      <td>0.120713</td>\n",
       "      <td>0.026825</td>\n",
       "      <td>0.005961</td>\n",
       "    </tr>\n",
       "    <tr>\n",
       "      <td>0.444444</td>\n",
       "      <td>4.888889</td>\n",
       "      <td>2.172840</td>\n",
       "      <td>0.965706</td>\n",
       "      <td>0.429203</td>\n",
       "      <td>0.190757</td>\n",
       "    </tr>\n",
       "    <tr>\n",
       "      <td>0.666667</td>\n",
       "      <td>7.333333</td>\n",
       "      <td>4.888889</td>\n",
       "      <td>3.259259</td>\n",
       "      <td>2.172840</td>\n",
       "      <td>1.448560</td>\n",
       "    </tr>\n",
       "    <tr>\n",
       "      <td>0.888889</td>\n",
       "      <td>9.777778</td>\n",
       "      <td>8.691358</td>\n",
       "      <td>7.725652</td>\n",
       "      <td>6.867246</td>\n",
       "      <td>6.104219</td>\n",
       "    </tr>\n",
       "    <tr>\n",
       "      <td>1.111111</td>\n",
       "      <td>12.222222</td>\n",
       "      <td>13.580247</td>\n",
       "      <td>15.089163</td>\n",
       "      <td>16.765737</td>\n",
       "      <td>18.628597</td>\n",
       "    </tr>\n",
       "    <tr>\n",
       "      <td>1.333333</td>\n",
       "      <td>14.666667</td>\n",
       "      <td>19.555556</td>\n",
       "      <td>26.074074</td>\n",
       "      <td>34.765432</td>\n",
       "      <td>46.353909</td>\n",
       "    </tr>\n",
       "    <tr>\n",
       "      <td>1.555556</td>\n",
       "      <td>17.111111</td>\n",
       "      <td>26.617284</td>\n",
       "      <td>41.404664</td>\n",
       "      <td>64.407255</td>\n",
       "      <td>100.189063</td>\n",
       "    </tr>\n",
       "    <tr>\n",
       "      <td>1.777778</td>\n",
       "      <td>19.555556</td>\n",
       "      <td>34.765432</td>\n",
       "      <td>61.805213</td>\n",
       "      <td>109.875934</td>\n",
       "      <td>195.334993</td>\n",
       "    </tr>\n",
       "    <tr>\n",
       "      <td>2.000000</td>\n",
       "      <td>22.000000</td>\n",
       "      <td>44.000000</td>\n",
       "      <td>88.000000</td>\n",
       "      <td>176.000000</td>\n",
       "      <td>352.000000</td>\n",
       "    </tr>\n",
       "  </tbody>\n",
       "</table>\n",
       "</div>"
      ],
      "text/plain": [
       "                  x        x^2        x^3         x^4         x^5\n",
       "0.000000   0.000000   0.000000   0.000000    0.000000    0.000000\n",
       "0.222222   2.444444   0.543210   0.120713    0.026825    0.005961\n",
       "0.444444   4.888889   2.172840   0.965706    0.429203    0.190757\n",
       "0.666667   7.333333   4.888889   3.259259    2.172840    1.448560\n",
       "0.888889   9.777778   8.691358   7.725652    6.867246    6.104219\n",
       "1.111111  12.222222  13.580247  15.089163   16.765737   18.628597\n",
       "1.333333  14.666667  19.555556  26.074074   34.765432   46.353909\n",
       "1.555556  17.111111  26.617284  41.404664   64.407255  100.189063\n",
       "1.777778  19.555556  34.765432  61.805213  109.875934  195.334993\n",
       "2.000000  22.000000  44.000000  88.000000  176.000000  352.000000"
      ]
     },
     "execution_count": 178,
     "metadata": {},
     "output_type": "execute_result"
    }
   ],
   "source": [
    "df_decimal + 10*df_decimal"
   ]
  },
  {
   "cell_type": "markdown",
   "metadata": {},
   "source": [
    "### 2.5.2. Built-in methods <a name=\"df_builtin_methods\"></a>"
   ]
  },
  {
   "cell_type": "markdown",
   "metadata": {},
   "source": [
    "There are tons of built-in methods. By default, built-in methods work column-wise:"
   ]
  },
  {
   "cell_type": "code",
   "execution_count": 179,
   "metadata": {},
   "outputs": [
    {
     "data": {
      "text/plain": [
       "x      10.000000\n",
       "x^2    14.074074\n",
       "x^3    22.222222\n",
       "x^4    37.391861\n",
       "x^5    65.477824\n",
       "dtype: float64"
      ]
     },
     "execution_count": 179,
     "metadata": {},
     "output_type": "execute_result"
    }
   ],
   "source": [
    "df_decimal.sum()"
   ]
  },
  {
   "cell_type": "markdown",
   "metadata": {},
   "source": [
    "which is equivalent to"
   ]
  },
  {
   "cell_type": "code",
   "execution_count": 180,
   "metadata": {},
   "outputs": [
    {
     "data": {
      "text/plain": [
       "x      10.000000\n",
       "x^2    14.074074\n",
       "x^3    22.222222\n",
       "x^4    37.391861\n",
       "x^5    65.477824\n",
       "dtype: float64"
      ]
     },
     "execution_count": 180,
     "metadata": {},
     "output_type": "execute_result"
    }
   ],
   "source": [
    "df_decimal.sum(axis=0)"
   ]
  },
  {
   "cell_type": "markdown",
   "metadata": {},
   "source": [
    "This returns a Series of the sums of each column of `df_decimal`."
   ]
  },
  {
   "cell_type": "markdown",
   "metadata": {},
   "source": [
    "You can change the `axis` parameter to have the corresponding row-wise result"
   ]
  },
  {
   "cell_type": "code",
   "execution_count": 181,
   "metadata": {},
   "outputs": [
    {
     "data": {
      "text/plain": [
       "0.000000     0.000000\n",
       "0.222222     0.285559\n",
       "0.444444     0.786127\n",
       "0.666667     1.736626\n",
       "0.888889     3.560568\n",
       "1.111111     6.935088\n",
       "1.333333    12.855967\n",
       "1.555556    22.702671\n",
       "1.777778    38.303375\n",
       "2.000000    62.000000\n",
       "dtype: float64"
      ]
     },
     "execution_count": 181,
     "metadata": {},
     "output_type": "execute_result"
    }
   ],
   "source": [
    "df_decimal.sum(axis=1)"
   ]
  },
  {
   "cell_type": "markdown",
   "metadata": {},
   "source": [
    "which returns a Series of the sums of each row of `df_decimal`."
   ]
  },
  {
   "cell_type": "markdown",
   "metadata": {},
   "source": [
    "### 2.5.3. Interoperability with NumPy's universal functions <a name=\"df_ufunc\"></a>"
   ]
  },
  {
   "cell_type": "markdown",
   "metadata": {},
   "source": [
    "Most of NumPy universal functions, which expect NumPy arrays in input, work with Pandas DataFrames in input as well"
   ]
  },
  {
   "cell_type": "code",
   "execution_count": 182,
   "metadata": {},
   "outputs": [
    {
     "data": {
      "text/html": [
       "<div>\n",
       "<style scoped>\n",
       "    .dataframe tbody tr th:only-of-type {\n",
       "        vertical-align: middle;\n",
       "    }\n",
       "\n",
       "    .dataframe tbody tr th {\n",
       "        vertical-align: top;\n",
       "    }\n",
       "\n",
       "    .dataframe thead th {\n",
       "        text-align: right;\n",
       "    }\n",
       "</style>\n",
       "<table border=\"1\" class=\"dataframe\">\n",
       "  <thead>\n",
       "    <tr style=\"text-align: right;\">\n",
       "      <th></th>\n",
       "      <th>x</th>\n",
       "      <th>x^2</th>\n",
       "      <th>x^3</th>\n",
       "      <th>x^4</th>\n",
       "      <th>x^5</th>\n",
       "    </tr>\n",
       "  </thead>\n",
       "  <tbody>\n",
       "    <tr>\n",
       "      <td>0.000000</td>\n",
       "      <td>1.000000</td>\n",
       "      <td>1.000000</td>\n",
       "      <td>1.000000</td>\n",
       "      <td>1.000000e+00</td>\n",
       "      <td>1.000000e+00</td>\n",
       "    </tr>\n",
       "    <tr>\n",
       "      <td>0.222222</td>\n",
       "      <td>1.248849</td>\n",
       "      <td>1.050622</td>\n",
       "      <td>1.011034</td>\n",
       "      <td>1.002442e+00</td>\n",
       "      <td>1.000542e+00</td>\n",
       "    </tr>\n",
       "    <tr>\n",
       "      <td>0.444444</td>\n",
       "      <td>1.559623</td>\n",
       "      <td>1.218391</td>\n",
       "      <td>1.091760</td>\n",
       "      <td>1.039790e+00</td>\n",
       "      <td>1.017493e+00</td>\n",
       "    </tr>\n",
       "    <tr>\n",
       "      <td>0.666667</td>\n",
       "      <td>1.947734</td>\n",
       "      <td>1.559623</td>\n",
       "      <td>1.344869</td>\n",
       "      <td>1.218391e+00</td>\n",
       "      <td>1.140751e+00</td>\n",
       "    </tr>\n",
       "    <tr>\n",
       "      <td>0.888889</td>\n",
       "      <td>2.432425</td>\n",
       "      <td>2.203668</td>\n",
       "      <td>2.018454</td>\n",
       "      <td>1.866929e+00</td>\n",
       "      <td>1.741817e+00</td>\n",
       "    </tr>\n",
       "    <tr>\n",
       "      <td>1.111111</td>\n",
       "      <td>3.037732</td>\n",
       "      <td>3.436893</td>\n",
       "      <td>3.942212</td>\n",
       "      <td>4.591276e+00</td>\n",
       "      <td>5.438530e+00</td>\n",
       "    </tr>\n",
       "    <tr>\n",
       "      <td>1.333333</td>\n",
       "      <td>3.793668</td>\n",
       "      <td>5.916694</td>\n",
       "      <td>10.701355</td>\n",
       "      <td>2.358224e+01</td>\n",
       "      <td>6.762595e+01</td>\n",
       "    </tr>\n",
       "    <tr>\n",
       "      <td>1.555556</td>\n",
       "      <td>4.737718</td>\n",
       "      <td>11.243083</td>\n",
       "      <td>43.123166</td>\n",
       "      <td>3.490464e+02</td>\n",
       "      <td>9.028095e+03</td>\n",
       "    </tr>\n",
       "    <tr>\n",
       "      <td>1.777778</td>\n",
       "      <td>5.916694</td>\n",
       "      <td>23.582239</td>\n",
       "      <td>275.518752</td>\n",
       "      <td>2.177943e+04</td>\n",
       "      <td>5.153268e+07</td>\n",
       "    </tr>\n",
       "    <tr>\n",
       "      <td>2.000000</td>\n",
       "      <td>7.389056</td>\n",
       "      <td>54.598150</td>\n",
       "      <td>2980.957987</td>\n",
       "      <td>8.886111e+06</td>\n",
       "      <td>7.896296e+13</td>\n",
       "    </tr>\n",
       "  </tbody>\n",
       "</table>\n",
       "</div>"
      ],
      "text/plain": [
       "                 x        x^2          x^3           x^4           x^5\n",
       "0.000000  1.000000   1.000000     1.000000  1.000000e+00  1.000000e+00\n",
       "0.222222  1.248849   1.050622     1.011034  1.002442e+00  1.000542e+00\n",
       "0.444444  1.559623   1.218391     1.091760  1.039790e+00  1.017493e+00\n",
       "0.666667  1.947734   1.559623     1.344869  1.218391e+00  1.140751e+00\n",
       "0.888889  2.432425   2.203668     2.018454  1.866929e+00  1.741817e+00\n",
       "1.111111  3.037732   3.436893     3.942212  4.591276e+00  5.438530e+00\n",
       "1.333333  3.793668   5.916694    10.701355  2.358224e+01  6.762595e+01\n",
       "1.555556  4.737718  11.243083    43.123166  3.490464e+02  9.028095e+03\n",
       "1.777778  5.916694  23.582239   275.518752  2.177943e+04  5.153268e+07\n",
       "2.000000  7.389056  54.598150  2980.957987  8.886111e+06  7.896296e+13"
      ]
     },
     "execution_count": 182,
     "metadata": {},
     "output_type": "execute_result"
    }
   ],
   "source": [
    "np.exp(df_decimal)"
   ]
  },
  {
   "cell_type": "markdown",
   "metadata": {},
   "source": [
    "### 2.5.4. `.groupby()` category <a name=\"df_groupby\"></a>"
   ]
  },
  {
   "cell_type": "markdown",
   "metadata": {},
   "source": [
    "Analytics can be performed on a per-group base, using the `.groupby()` method. "
   ]
  },
  {
   "cell_type": "code",
   "execution_count": 183,
   "metadata": {},
   "outputs": [
    {
     "data": {
      "text/html": [
       "<div>\n",
       "<style scoped>\n",
       "    .dataframe tbody tr th:only-of-type {\n",
       "        vertical-align: middle;\n",
       "    }\n",
       "\n",
       "    .dataframe tbody tr th {\n",
       "        vertical-align: top;\n",
       "    }\n",
       "\n",
       "    .dataframe thead th {\n",
       "        text-align: right;\n",
       "    }\n",
       "</style>\n",
       "<table border=\"1\" class=\"dataframe\">\n",
       "  <thead>\n",
       "    <tr style=\"text-align: right;\">\n",
       "      <th></th>\n",
       "      <th>x</th>\n",
       "      <th>x^2</th>\n",
       "      <th>x^3</th>\n",
       "      <th>x^4</th>\n",
       "      <th>x^5</th>\n",
       "    </tr>\n",
       "  </thead>\n",
       "  <tbody>\n",
       "    <tr>\n",
       "      <td>0.000000</td>\n",
       "      <td>0.000000</td>\n",
       "      <td>0.000000</td>\n",
       "      <td>0.000000</td>\n",
       "      <td>0.000000</td>\n",
       "      <td>0.000000</td>\n",
       "    </tr>\n",
       "    <tr>\n",
       "      <td>0.222222</td>\n",
       "      <td>0.222222</td>\n",
       "      <td>0.049383</td>\n",
       "      <td>0.010974</td>\n",
       "      <td>0.002439</td>\n",
       "      <td>0.000542</td>\n",
       "    </tr>\n",
       "    <tr>\n",
       "      <td>0.444444</td>\n",
       "      <td>0.444444</td>\n",
       "      <td>0.197531</td>\n",
       "      <td>0.087791</td>\n",
       "      <td>0.039018</td>\n",
       "      <td>0.017342</td>\n",
       "    </tr>\n",
       "    <tr>\n",
       "      <td>0.666667</td>\n",
       "      <td>0.666667</td>\n",
       "      <td>0.444444</td>\n",
       "      <td>0.296296</td>\n",
       "      <td>0.197531</td>\n",
       "      <td>0.131687</td>\n",
       "    </tr>\n",
       "    <tr>\n",
       "      <td>0.888889</td>\n",
       "      <td>0.888889</td>\n",
       "      <td>0.790123</td>\n",
       "      <td>0.702332</td>\n",
       "      <td>0.624295</td>\n",
       "      <td>0.554929</td>\n",
       "    </tr>\n",
       "    <tr>\n",
       "      <td>1.111111</td>\n",
       "      <td>1.111111</td>\n",
       "      <td>1.234568</td>\n",
       "      <td>1.371742</td>\n",
       "      <td>1.524158</td>\n",
       "      <td>1.693509</td>\n",
       "    </tr>\n",
       "    <tr>\n",
       "      <td>1.333333</td>\n",
       "      <td>1.333333</td>\n",
       "      <td>1.777778</td>\n",
       "      <td>2.370370</td>\n",
       "      <td>3.160494</td>\n",
       "      <td>4.213992</td>\n",
       "    </tr>\n",
       "    <tr>\n",
       "      <td>1.555556</td>\n",
       "      <td>1.555556</td>\n",
       "      <td>2.419753</td>\n",
       "      <td>3.764060</td>\n",
       "      <td>5.855205</td>\n",
       "      <td>9.108097</td>\n",
       "    </tr>\n",
       "    <tr>\n",
       "      <td>1.777778</td>\n",
       "      <td>1.777778</td>\n",
       "      <td>3.160494</td>\n",
       "      <td>5.618656</td>\n",
       "      <td>9.988721</td>\n",
       "      <td>17.757727</td>\n",
       "    </tr>\n",
       "    <tr>\n",
       "      <td>2.000000</td>\n",
       "      <td>2.000000</td>\n",
       "      <td>4.000000</td>\n",
       "      <td>8.000000</td>\n",
       "      <td>16.000000</td>\n",
       "      <td>32.000000</td>\n",
       "    </tr>\n",
       "  </tbody>\n",
       "</table>\n",
       "</div>"
      ],
      "text/plain": [
       "                 x       x^2       x^3        x^4        x^5\n",
       "0.000000  0.000000  0.000000  0.000000   0.000000   0.000000\n",
       "0.222222  0.222222  0.049383  0.010974   0.002439   0.000542\n",
       "0.444444  0.444444  0.197531  0.087791   0.039018   0.017342\n",
       "0.666667  0.666667  0.444444  0.296296   0.197531   0.131687\n",
       "0.888889  0.888889  0.790123  0.702332   0.624295   0.554929\n",
       "1.111111  1.111111  1.234568  1.371742   1.524158   1.693509\n",
       "1.333333  1.333333  1.777778  2.370370   3.160494   4.213992\n",
       "1.555556  1.555556  2.419753  3.764060   5.855205   9.108097\n",
       "1.777778  1.777778  3.160494  5.618656   9.988721  17.757727\n",
       "2.000000  2.000000  4.000000  8.000000  16.000000  32.000000"
      ]
     },
     "execution_count": 183,
     "metadata": {},
     "output_type": "execute_result"
    }
   ],
   "source": [
    "df_decimal"
   ]
  },
  {
   "cell_type": "markdown",
   "metadata": {},
   "source": [
    "Let's divide our DataFrame in two groups according to whether $x <= 1$ or $x > 1$. This can be easily achieved defining a column `x range` of strings `x > 1` or `x <= 1` according to whether columns `'x'` have values greater or smaller-or-equal than 1."
   ]
  },
  {
   "cell_type": "code",
   "execution_count": 184,
   "metadata": {},
   "outputs": [
    {
     "data": {
      "text/html": [
       "<div>\n",
       "<style scoped>\n",
       "    .dataframe tbody tr th:only-of-type {\n",
       "        vertical-align: middle;\n",
       "    }\n",
       "\n",
       "    .dataframe tbody tr th {\n",
       "        vertical-align: top;\n",
       "    }\n",
       "\n",
       "    .dataframe thead th {\n",
       "        text-align: right;\n",
       "    }\n",
       "</style>\n",
       "<table border=\"1\" class=\"dataframe\">\n",
       "  <thead>\n",
       "    <tr style=\"text-align: right;\">\n",
       "      <th></th>\n",
       "      <th>x</th>\n",
       "      <th>x^2</th>\n",
       "      <th>x^3</th>\n",
       "      <th>x^4</th>\n",
       "      <th>x^5</th>\n",
       "      <th>x range</th>\n",
       "    </tr>\n",
       "  </thead>\n",
       "  <tbody>\n",
       "    <tr>\n",
       "      <td>0.000000</td>\n",
       "      <td>0.000000</td>\n",
       "      <td>0.000000</td>\n",
       "      <td>0.000000</td>\n",
       "      <td>0.000000</td>\n",
       "      <td>0.000000</td>\n",
       "      <td>x &lt;= 1</td>\n",
       "    </tr>\n",
       "    <tr>\n",
       "      <td>0.222222</td>\n",
       "      <td>0.222222</td>\n",
       "      <td>0.049383</td>\n",
       "      <td>0.010974</td>\n",
       "      <td>0.002439</td>\n",
       "      <td>0.000542</td>\n",
       "      <td>x &lt;= 1</td>\n",
       "    </tr>\n",
       "    <tr>\n",
       "      <td>0.444444</td>\n",
       "      <td>0.444444</td>\n",
       "      <td>0.197531</td>\n",
       "      <td>0.087791</td>\n",
       "      <td>0.039018</td>\n",
       "      <td>0.017342</td>\n",
       "      <td>x &lt;= 1</td>\n",
       "    </tr>\n",
       "    <tr>\n",
       "      <td>0.666667</td>\n",
       "      <td>0.666667</td>\n",
       "      <td>0.444444</td>\n",
       "      <td>0.296296</td>\n",
       "      <td>0.197531</td>\n",
       "      <td>0.131687</td>\n",
       "      <td>x &lt;= 1</td>\n",
       "    </tr>\n",
       "    <tr>\n",
       "      <td>0.888889</td>\n",
       "      <td>0.888889</td>\n",
       "      <td>0.790123</td>\n",
       "      <td>0.702332</td>\n",
       "      <td>0.624295</td>\n",
       "      <td>0.554929</td>\n",
       "      <td>x &lt;= 1</td>\n",
       "    </tr>\n",
       "    <tr>\n",
       "      <td>1.111111</td>\n",
       "      <td>1.111111</td>\n",
       "      <td>1.234568</td>\n",
       "      <td>1.371742</td>\n",
       "      <td>1.524158</td>\n",
       "      <td>1.693509</td>\n",
       "      <td>x &gt; 1</td>\n",
       "    </tr>\n",
       "    <tr>\n",
       "      <td>1.333333</td>\n",
       "      <td>1.333333</td>\n",
       "      <td>1.777778</td>\n",
       "      <td>2.370370</td>\n",
       "      <td>3.160494</td>\n",
       "      <td>4.213992</td>\n",
       "      <td>x &gt; 1</td>\n",
       "    </tr>\n",
       "    <tr>\n",
       "      <td>1.555556</td>\n",
       "      <td>1.555556</td>\n",
       "      <td>2.419753</td>\n",
       "      <td>3.764060</td>\n",
       "      <td>5.855205</td>\n",
       "      <td>9.108097</td>\n",
       "      <td>x &gt; 1</td>\n",
       "    </tr>\n",
       "    <tr>\n",
       "      <td>1.777778</td>\n",
       "      <td>1.777778</td>\n",
       "      <td>3.160494</td>\n",
       "      <td>5.618656</td>\n",
       "      <td>9.988721</td>\n",
       "      <td>17.757727</td>\n",
       "      <td>x &gt; 1</td>\n",
       "    </tr>\n",
       "    <tr>\n",
       "      <td>2.000000</td>\n",
       "      <td>2.000000</td>\n",
       "      <td>4.000000</td>\n",
       "      <td>8.000000</td>\n",
       "      <td>16.000000</td>\n",
       "      <td>32.000000</td>\n",
       "      <td>x &gt; 1</td>\n",
       "    </tr>\n",
       "  </tbody>\n",
       "</table>\n",
       "</div>"
      ],
      "text/plain": [
       "                 x       x^2       x^3        x^4        x^5 x range\n",
       "0.000000  0.000000  0.000000  0.000000   0.000000   0.000000  x <= 1\n",
       "0.222222  0.222222  0.049383  0.010974   0.002439   0.000542  x <= 1\n",
       "0.444444  0.444444  0.197531  0.087791   0.039018   0.017342  x <= 1\n",
       "0.666667  0.666667  0.444444  0.296296   0.197531   0.131687  x <= 1\n",
       "0.888889  0.888889  0.790123  0.702332   0.624295   0.554929  x <= 1\n",
       "1.111111  1.111111  1.234568  1.371742   1.524158   1.693509   x > 1\n",
       "1.333333  1.333333  1.777778  2.370370   3.160494   4.213992   x > 1\n",
       "1.555556  1.555556  2.419753  3.764060   5.855205   9.108097   x > 1\n",
       "1.777778  1.777778  3.160494  5.618656   9.988721  17.757727   x > 1\n",
       "2.000000  2.000000  4.000000  8.000000  16.000000  32.000000   x > 1"
      ]
     },
     "execution_count": 184,
     "metadata": {},
     "output_type": "execute_result"
    }
   ],
   "source": [
    "df_decimal['x range'] = ['x > 1' if x > 1 else 'x <= 1' for x in df_decimal['x']]\n",
    "df_decimal"
   ]
  },
  {
   "cell_type": "markdown",
   "metadata": {},
   "source": [
    "Before going forward, just notice how we used list comprehension to define the new `x range` column of strings. What does \n",
    "\n",
    "```python\n",
    "['x > 1' if x > 1 else 'x <= 1' for x in df_decimal['x']]\n",
    "```\n",
    "do? (try to answer yourself before reading below)"
   ]
  },
  {
   "cell_type": "markdown",
   "metadata": {},
   "source": [
    "Easy: it is a list, as is surrounded by square brackets `[]`. Ok, a list of what? Well, the expression\n",
    "\n",
    "```python\n",
    "for x in df_decimal['x']\n",
    "```\n",
    "defines a loop over the values in column `x` of `df_decimal`, which at each loop iteration gives the dummy name `x` to value considered at that iteration. Ok, so? Well, each value `x` is then checked whether it is `x > 1` or not. Good... so how is the list filled then? Well, the list is filled with string `'x > 1'` at iterations in which the dummy variable satisfies condition `x > 1` and with string `'x <= 1'` otherwise. Bravo! :)"
   ]
  },
  {
   "cell_type": "markdown",
   "metadata": {},
   "source": [
    "Now that we have this grouping column `x range`, we can compute `.sum()`, `.mean()`, `.std()` and whatever you want on the two seperate groups just prepending the grouping condition `.groupby('x range')` to the method that you want to use "
   ]
  },
  {
   "cell_type": "code",
   "execution_count": 185,
   "metadata": {},
   "outputs": [
    {
     "data": {
      "text/html": [
       "<div>\n",
       "<style scoped>\n",
       "    .dataframe tbody tr th:only-of-type {\n",
       "        vertical-align: middle;\n",
       "    }\n",
       "\n",
       "    .dataframe tbody tr th {\n",
       "        vertical-align: top;\n",
       "    }\n",
       "\n",
       "    .dataframe thead th {\n",
       "        text-align: right;\n",
       "    }\n",
       "</style>\n",
       "<table border=\"1\" class=\"dataframe\">\n",
       "  <thead>\n",
       "    <tr style=\"text-align: right;\">\n",
       "      <th></th>\n",
       "      <th>x</th>\n",
       "      <th>x^2</th>\n",
       "      <th>x^3</th>\n",
       "      <th>x^4</th>\n",
       "      <th>x^5</th>\n",
       "    </tr>\n",
       "    <tr>\n",
       "      <th>x range</th>\n",
       "      <th></th>\n",
       "      <th></th>\n",
       "      <th></th>\n",
       "      <th></th>\n",
       "      <th></th>\n",
       "    </tr>\n",
       "  </thead>\n",
       "  <tbody>\n",
       "    <tr>\n",
       "      <td>x &lt;= 1</td>\n",
       "      <td>2.222222</td>\n",
       "      <td>1.481481</td>\n",
       "      <td>1.097394</td>\n",
       "      <td>0.863283</td>\n",
       "      <td>0.704500</td>\n",
       "    </tr>\n",
       "    <tr>\n",
       "      <td>x &gt; 1</td>\n",
       "      <td>7.777778</td>\n",
       "      <td>12.592593</td>\n",
       "      <td>21.124829</td>\n",
       "      <td>36.528578</td>\n",
       "      <td>64.773324</td>\n",
       "    </tr>\n",
       "  </tbody>\n",
       "</table>\n",
       "</div>"
      ],
      "text/plain": [
       "                x        x^2        x^3        x^4        x^5\n",
       "x range                                                      \n",
       "x <= 1   2.222222   1.481481   1.097394   0.863283   0.704500\n",
       "x > 1    7.777778  12.592593  21.124829  36.528578  64.773324"
      ]
     },
     "execution_count": 185,
     "metadata": {},
     "output_type": "execute_result"
    }
   ],
   "source": [
    "df_decimal.groupby(\"x range\").sum()"
   ]
  },
  {
   "cell_type": "markdown",
   "metadata": {},
   "source": [
    "and this returns the `.sum()` over columns, separately for each group of rows, according to the grouping defined by `x range`."
   ]
  },
  {
   "cell_type": "markdown",
   "metadata": {},
   "source": [
    "Say we were interested in the group `.mean()` of `'x^5'` column only. Well easy, just use the `[]` access operator after the grouping statement "
   ]
  },
  {
   "cell_type": "code",
   "execution_count": 186,
   "metadata": {},
   "outputs": [
    {
     "data": {
      "text/plain": [
       "x range\n",
       "x <= 1     0.704500\n",
       "x > 1     64.773324\n",
       "Name: x^5, dtype: float64"
      ]
     },
     "execution_count": 186,
     "metadata": {},
     "output_type": "execute_result"
    }
   ],
   "source": [
    "df_decimal.groupby('x range')['x^5'].sum()"
   ]
  },
  {
   "cell_type": "markdown",
   "metadata": {},
   "source": [
    "You can count the number of rows in each group: `.size()`"
   ]
  },
  {
   "cell_type": "code",
   "execution_count": 187,
   "metadata": {},
   "outputs": [
    {
     "data": {
      "text/plain": [
       "x range\n",
       "x <= 1    5\n",
       "x > 1     5\n",
       "dtype: int64"
      ]
     },
     "execution_count": 187,
     "metadata": {},
     "output_type": "execute_result"
    }
   ],
   "source": [
    "df_decimal.groupby('x range').size()"
   ]
  },
  {
   "cell_type": "markdown",
   "metadata": {},
   "source": [
    "You can group by more than group simultaneously... Let's define another group, called `x over x^2` which marks the rows according to whether $x > x^2$, $x = x^2$ or $x < x^2$"
   ]
  },
  {
   "cell_type": "code",
   "execution_count": 188,
   "metadata": {},
   "outputs": [
    {
     "data": {
      "text/html": [
       "<div>\n",
       "<style scoped>\n",
       "    .dataframe tbody tr th:only-of-type {\n",
       "        vertical-align: middle;\n",
       "    }\n",
       "\n",
       "    .dataframe tbody tr th {\n",
       "        vertical-align: top;\n",
       "    }\n",
       "\n",
       "    .dataframe thead th {\n",
       "        text-align: right;\n",
       "    }\n",
       "</style>\n",
       "<table border=\"1\" class=\"dataframe\">\n",
       "  <thead>\n",
       "    <tr style=\"text-align: right;\">\n",
       "      <th></th>\n",
       "      <th>x</th>\n",
       "      <th>x^2</th>\n",
       "      <th>x^3</th>\n",
       "      <th>x^4</th>\n",
       "      <th>x^5</th>\n",
       "      <th>x range</th>\n",
       "      <th>x over x^2</th>\n",
       "    </tr>\n",
       "  </thead>\n",
       "  <tbody>\n",
       "    <tr>\n",
       "      <td>0.000000</td>\n",
       "      <td>0.000000</td>\n",
       "      <td>0.000000</td>\n",
       "      <td>0.000000</td>\n",
       "      <td>0.000000</td>\n",
       "      <td>0.000000</td>\n",
       "      <td>x &lt;= 1</td>\n",
       "      <td>x = x^2</td>\n",
       "    </tr>\n",
       "    <tr>\n",
       "      <td>0.222222</td>\n",
       "      <td>0.222222</td>\n",
       "      <td>0.049383</td>\n",
       "      <td>0.010974</td>\n",
       "      <td>0.002439</td>\n",
       "      <td>0.000542</td>\n",
       "      <td>x &lt;= 1</td>\n",
       "      <td>x &gt; x^2</td>\n",
       "    </tr>\n",
       "    <tr>\n",
       "      <td>0.444444</td>\n",
       "      <td>0.444444</td>\n",
       "      <td>0.197531</td>\n",
       "      <td>0.087791</td>\n",
       "      <td>0.039018</td>\n",
       "      <td>0.017342</td>\n",
       "      <td>x &lt;= 1</td>\n",
       "      <td>x &gt; x^2</td>\n",
       "    </tr>\n",
       "    <tr>\n",
       "      <td>0.666667</td>\n",
       "      <td>0.666667</td>\n",
       "      <td>0.444444</td>\n",
       "      <td>0.296296</td>\n",
       "      <td>0.197531</td>\n",
       "      <td>0.131687</td>\n",
       "      <td>x &lt;= 1</td>\n",
       "      <td>x &gt; x^2</td>\n",
       "    </tr>\n",
       "    <tr>\n",
       "      <td>0.888889</td>\n",
       "      <td>0.888889</td>\n",
       "      <td>0.790123</td>\n",
       "      <td>0.702332</td>\n",
       "      <td>0.624295</td>\n",
       "      <td>0.554929</td>\n",
       "      <td>x &lt;= 1</td>\n",
       "      <td>x &gt; x^2</td>\n",
       "    </tr>\n",
       "    <tr>\n",
       "      <td>1.111111</td>\n",
       "      <td>1.111111</td>\n",
       "      <td>1.234568</td>\n",
       "      <td>1.371742</td>\n",
       "      <td>1.524158</td>\n",
       "      <td>1.693509</td>\n",
       "      <td>x &gt; 1</td>\n",
       "      <td>x &lt; x^2</td>\n",
       "    </tr>\n",
       "    <tr>\n",
       "      <td>1.333333</td>\n",
       "      <td>1.333333</td>\n",
       "      <td>1.777778</td>\n",
       "      <td>2.370370</td>\n",
       "      <td>3.160494</td>\n",
       "      <td>4.213992</td>\n",
       "      <td>x &gt; 1</td>\n",
       "      <td>x &lt; x^2</td>\n",
       "    </tr>\n",
       "    <tr>\n",
       "      <td>1.555556</td>\n",
       "      <td>1.555556</td>\n",
       "      <td>2.419753</td>\n",
       "      <td>3.764060</td>\n",
       "      <td>5.855205</td>\n",
       "      <td>9.108097</td>\n",
       "      <td>x &gt; 1</td>\n",
       "      <td>x &lt; x^2</td>\n",
       "    </tr>\n",
       "    <tr>\n",
       "      <td>1.777778</td>\n",
       "      <td>1.777778</td>\n",
       "      <td>3.160494</td>\n",
       "      <td>5.618656</td>\n",
       "      <td>9.988721</td>\n",
       "      <td>17.757727</td>\n",
       "      <td>x &gt; 1</td>\n",
       "      <td>x &lt; x^2</td>\n",
       "    </tr>\n",
       "    <tr>\n",
       "      <td>2.000000</td>\n",
       "      <td>2.000000</td>\n",
       "      <td>4.000000</td>\n",
       "      <td>8.000000</td>\n",
       "      <td>16.000000</td>\n",
       "      <td>32.000000</td>\n",
       "      <td>x &gt; 1</td>\n",
       "      <td>x &lt; x^2</td>\n",
       "    </tr>\n",
       "  </tbody>\n",
       "</table>\n",
       "</div>"
      ],
      "text/plain": [
       "                 x       x^2       x^3        x^4        x^5 x range  \\\n",
       "0.000000  0.000000  0.000000  0.000000   0.000000   0.000000  x <= 1   \n",
       "0.222222  0.222222  0.049383  0.010974   0.002439   0.000542  x <= 1   \n",
       "0.444444  0.444444  0.197531  0.087791   0.039018   0.017342  x <= 1   \n",
       "0.666667  0.666667  0.444444  0.296296   0.197531   0.131687  x <= 1   \n",
       "0.888889  0.888889  0.790123  0.702332   0.624295   0.554929  x <= 1   \n",
       "1.111111  1.111111  1.234568  1.371742   1.524158   1.693509   x > 1   \n",
       "1.333333  1.333333  1.777778  2.370370   3.160494   4.213992   x > 1   \n",
       "1.555556  1.555556  2.419753  3.764060   5.855205   9.108097   x > 1   \n",
       "1.777778  1.777778  3.160494  5.618656   9.988721  17.757727   x > 1   \n",
       "2.000000  2.000000  4.000000  8.000000  16.000000  32.000000   x > 1   \n",
       "\n",
       "         x over x^2  \n",
       "0.000000    x = x^2  \n",
       "0.222222    x > x^2  \n",
       "0.444444    x > x^2  \n",
       "0.666667    x > x^2  \n",
       "0.888889    x > x^2  \n",
       "1.111111    x < x^2  \n",
       "1.333333    x < x^2  \n",
       "1.555556    x < x^2  \n",
       "1.777778    x < x^2  \n",
       "2.000000    x < x^2  "
      ]
     },
     "execution_count": 188,
     "metadata": {},
     "output_type": "execute_result"
    }
   ],
   "source": [
    "df_decimal['x over x^2'] = ['x > x^2' if x > x2 else 'x = x^2' if x == x2 else 'x < x^2' \n",
    "                            for (x,x2) in zip(df_decimal['x'], df_decimal['x^2'])]\n",
    "df_decimal"
   ]
  },
  {
   "cell_type": "markdown",
   "metadata": {},
   "source": [
    "How the hell did you define the `x over x^2` column? Well, it's a bit harder, but not that much... "
   ]
  },
  {
   "cell_type": "markdown",
   "metadata": {},
   "source": [
    "The first thing you need to understand is a the built-in [function `zip()`](https://docs.python.org/3.3/library/functions.html#zip).\n",
    "\n",
    "It works as follows: you have to use `zip()` in a loop when you want to iterate over elements of several sequences at the same time. An example: say we want to prints the pairs of elements coming from two lists of the same length"
   ]
  },
  {
   "cell_type": "code",
   "execution_count": 189,
   "metadata": {},
   "outputs": [
    {
     "name": "stdout",
     "output_type": "stream",
     "text": [
      "1 6\n",
      "2 7\n",
      "3 8\n",
      "4 9\n",
      "5 10\n"
     ]
    }
   ],
   "source": [
    "a = [1,2,3,4,5]\n",
    "b = [6,7,8,9,10]\n",
    "\n",
    "for (ai, bi) in zip(a,b):\n",
    "    print(ai, bi)"
   ]
  },
  {
   "cell_type": "markdown",
   "metadata": {},
   "source": [
    "So, as you can see, `zip()` in a loop iterate over the pairs of elements (a Tuple, whose elements we called `(ai, bi)`), one from each list. It's not limited to just two lists of course"
   ]
  },
  {
   "cell_type": "code",
   "execution_count": 190,
   "metadata": {},
   "outputs": [
    {
     "name": "stdout",
     "output_type": "stream",
     "text": [
      "1 6 11\n",
      "2 7 12\n",
      "3 8 13\n",
      "4 9 14\n",
      "5 10 15\n"
     ]
    }
   ],
   "source": [
    "a = [1,2,3,4,5]\n",
    "b = [6,7,8,9,10]\n",
    "c = [11, 12, 13, 14, 15]\n",
    "\n",
    "for (ai, bi, ci) in zip(a,b,c):\n",
    "    print(ai, bi, ci)"
   ]
  },
  {
   "cell_type": "markdown",
   "metadata": {},
   "source": [
    "So now what \n",
    "\n",
    "```python\n",
    "for (x,x2) in zip(df_decimal['x'], df_decimal['x^2'])\n",
    "```\n",
    "\n",
    "is, it's a bit more clear: it defines a loop over the values in the pair of columns `x` and `x^2` a of `df_decimal` and, at each loop iteration, it gives the dummy names `x` and `x2` to the elements of the Tuple returned by `zip()`. "
   ]
  },
  {
   "cell_type": "markdown",
   "metadata": {},
   "source": [
    "Now, the rest of the expression\n",
    "\n",
    "```python\n",
    "'x > x^2' if x > x2 else 'x = x^2' if x == x2 else 'x < x^2' \n",
    "```\n",
    "\n",
    "is simply the specification of the values that we want to have in column `x over x^2`: depending on the values of the dummy variables `x` and `x2`, the column is filled with `'x > x^2'`, `'x = x^2'` or `'x < x^2'`. A pseudo-code for this is:\n",
    "\n",
    "```python\n",
    "if x > x2:\n",
    "    # fill with value: 'x > x^2'\n",
    "    else:\n",
    "        if x == x2:\n",
    "            # fill with value 'x = x^2'\n",
    "        else:\n",
    "            # fill with value 'x < x^2'\n",
    "```\n",
    "\n",
    "Ok, eonough."
   ]
  },
  {
   "cell_type": "markdown",
   "metadata": {},
   "source": [
    "So we now have two columns, `x range` and `x over x^2`, that represent possible groupings for our DataFrame"
   ]
  },
  {
   "cell_type": "code",
   "execution_count": 191,
   "metadata": {},
   "outputs": [
    {
     "data": {
      "text/html": [
       "<div>\n",
       "<style scoped>\n",
       "    .dataframe tbody tr th:only-of-type {\n",
       "        vertical-align: middle;\n",
       "    }\n",
       "\n",
       "    .dataframe tbody tr th {\n",
       "        vertical-align: top;\n",
       "    }\n",
       "\n",
       "    .dataframe thead th {\n",
       "        text-align: right;\n",
       "    }\n",
       "</style>\n",
       "<table border=\"1\" class=\"dataframe\">\n",
       "  <thead>\n",
       "    <tr style=\"text-align: right;\">\n",
       "      <th></th>\n",
       "      <th>x</th>\n",
       "      <th>x^2</th>\n",
       "      <th>x^3</th>\n",
       "      <th>x^4</th>\n",
       "      <th>x^5</th>\n",
       "      <th>x range</th>\n",
       "      <th>x over x^2</th>\n",
       "    </tr>\n",
       "  </thead>\n",
       "  <tbody>\n",
       "    <tr>\n",
       "      <td>0.000000</td>\n",
       "      <td>0.000000</td>\n",
       "      <td>0.000000</td>\n",
       "      <td>0.000000</td>\n",
       "      <td>0.000000</td>\n",
       "      <td>0.000000</td>\n",
       "      <td>x &lt;= 1</td>\n",
       "      <td>x = x^2</td>\n",
       "    </tr>\n",
       "    <tr>\n",
       "      <td>0.222222</td>\n",
       "      <td>0.222222</td>\n",
       "      <td>0.049383</td>\n",
       "      <td>0.010974</td>\n",
       "      <td>0.002439</td>\n",
       "      <td>0.000542</td>\n",
       "      <td>x &lt;= 1</td>\n",
       "      <td>x &gt; x^2</td>\n",
       "    </tr>\n",
       "    <tr>\n",
       "      <td>0.444444</td>\n",
       "      <td>0.444444</td>\n",
       "      <td>0.197531</td>\n",
       "      <td>0.087791</td>\n",
       "      <td>0.039018</td>\n",
       "      <td>0.017342</td>\n",
       "      <td>x &lt;= 1</td>\n",
       "      <td>x &gt; x^2</td>\n",
       "    </tr>\n",
       "    <tr>\n",
       "      <td>0.666667</td>\n",
       "      <td>0.666667</td>\n",
       "      <td>0.444444</td>\n",
       "      <td>0.296296</td>\n",
       "      <td>0.197531</td>\n",
       "      <td>0.131687</td>\n",
       "      <td>x &lt;= 1</td>\n",
       "      <td>x &gt; x^2</td>\n",
       "    </tr>\n",
       "    <tr>\n",
       "      <td>0.888889</td>\n",
       "      <td>0.888889</td>\n",
       "      <td>0.790123</td>\n",
       "      <td>0.702332</td>\n",
       "      <td>0.624295</td>\n",
       "      <td>0.554929</td>\n",
       "      <td>x &lt;= 1</td>\n",
       "      <td>x &gt; x^2</td>\n",
       "    </tr>\n",
       "    <tr>\n",
       "      <td>1.111111</td>\n",
       "      <td>1.111111</td>\n",
       "      <td>1.234568</td>\n",
       "      <td>1.371742</td>\n",
       "      <td>1.524158</td>\n",
       "      <td>1.693509</td>\n",
       "      <td>x &gt; 1</td>\n",
       "      <td>x &lt; x^2</td>\n",
       "    </tr>\n",
       "    <tr>\n",
       "      <td>1.333333</td>\n",
       "      <td>1.333333</td>\n",
       "      <td>1.777778</td>\n",
       "      <td>2.370370</td>\n",
       "      <td>3.160494</td>\n",
       "      <td>4.213992</td>\n",
       "      <td>x &gt; 1</td>\n",
       "      <td>x &lt; x^2</td>\n",
       "    </tr>\n",
       "    <tr>\n",
       "      <td>1.555556</td>\n",
       "      <td>1.555556</td>\n",
       "      <td>2.419753</td>\n",
       "      <td>3.764060</td>\n",
       "      <td>5.855205</td>\n",
       "      <td>9.108097</td>\n",
       "      <td>x &gt; 1</td>\n",
       "      <td>x &lt; x^2</td>\n",
       "    </tr>\n",
       "    <tr>\n",
       "      <td>1.777778</td>\n",
       "      <td>1.777778</td>\n",
       "      <td>3.160494</td>\n",
       "      <td>5.618656</td>\n",
       "      <td>9.988721</td>\n",
       "      <td>17.757727</td>\n",
       "      <td>x &gt; 1</td>\n",
       "      <td>x &lt; x^2</td>\n",
       "    </tr>\n",
       "    <tr>\n",
       "      <td>2.000000</td>\n",
       "      <td>2.000000</td>\n",
       "      <td>4.000000</td>\n",
       "      <td>8.000000</td>\n",
       "      <td>16.000000</td>\n",
       "      <td>32.000000</td>\n",
       "      <td>x &gt; 1</td>\n",
       "      <td>x &lt; x^2</td>\n",
       "    </tr>\n",
       "  </tbody>\n",
       "</table>\n",
       "</div>"
      ],
      "text/plain": [
       "                 x       x^2       x^3        x^4        x^5 x range  \\\n",
       "0.000000  0.000000  0.000000  0.000000   0.000000   0.000000  x <= 1   \n",
       "0.222222  0.222222  0.049383  0.010974   0.002439   0.000542  x <= 1   \n",
       "0.444444  0.444444  0.197531  0.087791   0.039018   0.017342  x <= 1   \n",
       "0.666667  0.666667  0.444444  0.296296   0.197531   0.131687  x <= 1   \n",
       "0.888889  0.888889  0.790123  0.702332   0.624295   0.554929  x <= 1   \n",
       "1.111111  1.111111  1.234568  1.371742   1.524158   1.693509   x > 1   \n",
       "1.333333  1.333333  1.777778  2.370370   3.160494   4.213992   x > 1   \n",
       "1.555556  1.555556  2.419753  3.764060   5.855205   9.108097   x > 1   \n",
       "1.777778  1.777778  3.160494  5.618656   9.988721  17.757727   x > 1   \n",
       "2.000000  2.000000  4.000000  8.000000  16.000000  32.000000   x > 1   \n",
       "\n",
       "         x over x^2  \n",
       "0.000000    x = x^2  \n",
       "0.222222    x > x^2  \n",
       "0.444444    x > x^2  \n",
       "0.666667    x > x^2  \n",
       "0.888889    x > x^2  \n",
       "1.111111    x < x^2  \n",
       "1.333333    x < x^2  \n",
       "1.555556    x < x^2  \n",
       "1.777778    x < x^2  \n",
       "2.000000    x < x^2  "
      ]
     },
     "execution_count": 191,
     "metadata": {},
     "output_type": "execute_result"
    }
   ],
   "source": [
    "df_decimal"
   ]
  },
  {
   "cell_type": "markdown",
   "metadata": {},
   "source": [
    "an analytics, like `.sum()` over compound groups can be done in the same way as before, just wrap the grouping columns as a list in the `.groupby()` method"
   ]
  },
  {
   "cell_type": "code",
   "execution_count": 192,
   "metadata": {},
   "outputs": [
    {
     "data": {
      "text/html": [
       "<div>\n",
       "<style scoped>\n",
       "    .dataframe tbody tr th:only-of-type {\n",
       "        vertical-align: middle;\n",
       "    }\n",
       "\n",
       "    .dataframe tbody tr th {\n",
       "        vertical-align: top;\n",
       "    }\n",
       "\n",
       "    .dataframe thead th {\n",
       "        text-align: right;\n",
       "    }\n",
       "</style>\n",
       "<table border=\"1\" class=\"dataframe\">\n",
       "  <thead>\n",
       "    <tr style=\"text-align: right;\">\n",
       "      <th></th>\n",
       "      <th></th>\n",
       "      <th>x</th>\n",
       "      <th>x^2</th>\n",
       "      <th>x^3</th>\n",
       "      <th>x^4</th>\n",
       "      <th>x^5</th>\n",
       "    </tr>\n",
       "    <tr>\n",
       "      <th>x range</th>\n",
       "      <th>x over x^2</th>\n",
       "      <th></th>\n",
       "      <th></th>\n",
       "      <th></th>\n",
       "      <th></th>\n",
       "      <th></th>\n",
       "    </tr>\n",
       "  </thead>\n",
       "  <tbody>\n",
       "    <tr>\n",
       "      <td rowspan=\"2\" valign=\"top\">x &lt;= 1</td>\n",
       "      <td>x = x^2</td>\n",
       "      <td>0.000000</td>\n",
       "      <td>0.000000</td>\n",
       "      <td>0.000000</td>\n",
       "      <td>0.000000</td>\n",
       "      <td>0.000000</td>\n",
       "    </tr>\n",
       "    <tr>\n",
       "      <td>x &gt; x^2</td>\n",
       "      <td>2.222222</td>\n",
       "      <td>1.481481</td>\n",
       "      <td>1.097394</td>\n",
       "      <td>0.863283</td>\n",
       "      <td>0.704500</td>\n",
       "    </tr>\n",
       "    <tr>\n",
       "      <td>x &gt; 1</td>\n",
       "      <td>x &lt; x^2</td>\n",
       "      <td>7.777778</td>\n",
       "      <td>12.592593</td>\n",
       "      <td>21.124829</td>\n",
       "      <td>36.528578</td>\n",
       "      <td>64.773324</td>\n",
       "    </tr>\n",
       "  </tbody>\n",
       "</table>\n",
       "</div>"
      ],
      "text/plain": [
       "                           x        x^2        x^3        x^4        x^5\n",
       "x range x over x^2                                                      \n",
       "x <= 1  x = x^2     0.000000   0.000000   0.000000   0.000000   0.000000\n",
       "        x > x^2     2.222222   1.481481   1.097394   0.863283   0.704500\n",
       "x > 1   x < x^2     7.777778  12.592593  21.124829  36.528578  64.773324"
      ]
     },
     "execution_count": 192,
     "metadata": {},
     "output_type": "execute_result"
    }
   ],
   "source": [
    "df_decimal.groupby(['x range', 'x over x^2']).sum()"
   ]
  },
  {
   "cell_type": "markdown",
   "metadata": {},
   "source": [
    "that shows column-wise sums divided by the double criterion $x > 1$/$x \\leq 1$ and $x > x^2$, $x = x^2$ or $x < x^2$."
   ]
  },
  {
   "cell_type": "markdown",
   "metadata": {},
   "source": [
    "And, as before you can count the rows in each group"
   ]
  },
  {
   "cell_type": "code",
   "execution_count": 193,
   "metadata": {},
   "outputs": [
    {
     "data": {
      "text/plain": [
       "x range  x over x^2\n",
       "x <= 1   x = x^2       1\n",
       "         x > x^2       4\n",
       "x > 1    x < x^2       5\n",
       "dtype: int64"
      ]
     },
     "execution_count": 193,
     "metadata": {},
     "output_type": "execute_result"
    }
   ],
   "source": [
    "df_decimal.groupby(['x range', 'x over x^2']).size()"
   ]
  },
  {
   "cell_type": "markdown",
   "metadata": {},
   "source": [
    "and can filter just few columns if you want, as before"
   ]
  },
  {
   "cell_type": "code",
   "execution_count": 194,
   "metadata": {},
   "outputs": [
    {
     "data": {
      "text/plain": [
       "x range  x over x^2\n",
       "x <= 1   x = x^2        0.000000\n",
       "         x > x^2        0.704500\n",
       "x > 1    x < x^2       64.773324\n",
       "Name: x^5, dtype: float64"
      ]
     },
     "execution_count": 194,
     "metadata": {},
     "output_type": "execute_result"
    }
   ],
   "source": [
    "df_decimal.groupby(['x range', 'x over x^2'])['x^5'].sum()"
   ]
  },
  {
   "cell_type": "markdown",
   "metadata": {},
   "source": [
    "## 2.6. Data Alignment <a name=\"df_data_alignment\"></a>"
   ]
  },
  {
   "cell_type": "markdown",
   "metadata": {},
   "source": [
    "Talking about Pandas Series, we have observed that two different Series, when combined, gets aligned accoridng to their indexes. As direct extension, Pandas DataFrames consider also columns to align data when combining to DataFrames.  "
   ]
  },
  {
   "cell_type": "code",
   "execution_count": 195,
   "metadata": {
    "scrolled": true
   },
   "outputs": [
    {
     "data": {
      "text/html": [
       "<div>\n",
       "<style scoped>\n",
       "    .dataframe tbody tr th:only-of-type {\n",
       "        vertical-align: middle;\n",
       "    }\n",
       "\n",
       "    .dataframe tbody tr th {\n",
       "        vertical-align: top;\n",
       "    }\n",
       "\n",
       "    .dataframe thead th {\n",
       "        text-align: right;\n",
       "    }\n",
       "</style>\n",
       "<table border=\"1\" class=\"dataframe\">\n",
       "  <thead>\n",
       "    <tr style=\"text-align: right;\">\n",
       "      <th></th>\n",
       "      <th>x</th>\n",
       "      <th>x^2</th>\n",
       "      <th>x^3</th>\n",
       "      <th>x^4</th>\n",
       "      <th>x^5</th>\n",
       "    </tr>\n",
       "  </thead>\n",
       "  <tbody>\n",
       "    <tr>\n",
       "      <td>2020-01-01</td>\n",
       "      <td>1</td>\n",
       "      <td>1</td>\n",
       "      <td>1</td>\n",
       "      <td>1</td>\n",
       "      <td>1</td>\n",
       "    </tr>\n",
       "    <tr>\n",
       "      <td>2020-01-02</td>\n",
       "      <td>2</td>\n",
       "      <td>4</td>\n",
       "      <td>8</td>\n",
       "      <td>16</td>\n",
       "      <td>32</td>\n",
       "    </tr>\n",
       "    <tr>\n",
       "      <td>2020-01-03</td>\n",
       "      <td>3</td>\n",
       "      <td>9</td>\n",
       "      <td>27</td>\n",
       "      <td>81</td>\n",
       "      <td>243</td>\n",
       "    </tr>\n",
       "    <tr>\n",
       "      <td>2020-01-06</td>\n",
       "      <td>4</td>\n",
       "      <td>16</td>\n",
       "      <td>64</td>\n",
       "      <td>256</td>\n",
       "      <td>1024</td>\n",
       "    </tr>\n",
       "    <tr>\n",
       "      <td>2020-01-07</td>\n",
       "      <td>5</td>\n",
       "      <td>25</td>\n",
       "      <td>125</td>\n",
       "      <td>625</td>\n",
       "      <td>3125</td>\n",
       "    </tr>\n",
       "    <tr>\n",
       "      <td>2020-01-08</td>\n",
       "      <td>6</td>\n",
       "      <td>36</td>\n",
       "      <td>216</td>\n",
       "      <td>1296</td>\n",
       "      <td>7776</td>\n",
       "    </tr>\n",
       "    <tr>\n",
       "      <td>2020-01-09</td>\n",
       "      <td>7</td>\n",
       "      <td>49</td>\n",
       "      <td>343</td>\n",
       "      <td>2401</td>\n",
       "      <td>16807</td>\n",
       "    </tr>\n",
       "    <tr>\n",
       "      <td>2020-01-10</td>\n",
       "      <td>8</td>\n",
       "      <td>64</td>\n",
       "      <td>512</td>\n",
       "      <td>4096</td>\n",
       "      <td>32768</td>\n",
       "    </tr>\n",
       "    <tr>\n",
       "      <td>2020-01-13</td>\n",
       "      <td>9</td>\n",
       "      <td>81</td>\n",
       "      <td>729</td>\n",
       "      <td>6561</td>\n",
       "      <td>59049</td>\n",
       "    </tr>\n",
       "    <tr>\n",
       "      <td>2020-01-14</td>\n",
       "      <td>10</td>\n",
       "      <td>100</td>\n",
       "      <td>1000</td>\n",
       "      <td>10000</td>\n",
       "      <td>100000</td>\n",
       "    </tr>\n",
       "  </tbody>\n",
       "</table>\n",
       "</div>"
      ],
      "text/plain": [
       "             x  x^2   x^3    x^4     x^5\n",
       "2020-01-01   1    1     1      1       1\n",
       "2020-01-02   2    4     8     16      32\n",
       "2020-01-03   3    9    27     81     243\n",
       "2020-01-06   4   16    64    256    1024\n",
       "2020-01-07   5   25   125    625    3125\n",
       "2020-01-08   6   36   216   1296    7776\n",
       "2020-01-09   7   49   343   2401   16807\n",
       "2020-01-10   8   64   512   4096   32768\n",
       "2020-01-13   9   81   729   6561   59049\n",
       "2020-01-14  10  100  1000  10000  100000"
      ]
     },
     "execution_count": 195,
     "metadata": {},
     "output_type": "execute_result"
    }
   ],
   "source": [
    "df"
   ]
  },
  {
   "cell_type": "code",
   "execution_count": 196,
   "metadata": {},
   "outputs": [
    {
     "data": {
      "text/html": [
       "<div>\n",
       "<style scoped>\n",
       "    .dataframe tbody tr th:only-of-type {\n",
       "        vertical-align: middle;\n",
       "    }\n",
       "\n",
       "    .dataframe tbody tr th {\n",
       "        vertical-align: top;\n",
       "    }\n",
       "\n",
       "    .dataframe thead th {\n",
       "        text-align: right;\n",
       "    }\n",
       "</style>\n",
       "<table border=\"1\" class=\"dataframe\">\n",
       "  <thead>\n",
       "    <tr style=\"text-align: right;\">\n",
       "      <th></th>\n",
       "      <th>x</th>\n",
       "      <th>x^2</th>\n",
       "      <th>x^3</th>\n",
       "    </tr>\n",
       "  </thead>\n",
       "  <tbody>\n",
       "    <tr>\n",
       "      <td>2020-01-01</td>\n",
       "      <td>1</td>\n",
       "      <td>1</td>\n",
       "      <td>1</td>\n",
       "    </tr>\n",
       "    <tr>\n",
       "      <td>2020-01-02</td>\n",
       "      <td>2</td>\n",
       "      <td>4</td>\n",
       "      <td>8</td>\n",
       "    </tr>\n",
       "    <tr>\n",
       "      <td>2020-01-03</td>\n",
       "      <td>3</td>\n",
       "      <td>9</td>\n",
       "      <td>27</td>\n",
       "    </tr>\n",
       "    <tr>\n",
       "      <td>2020-01-06</td>\n",
       "      <td>4</td>\n",
       "      <td>16</td>\n",
       "      <td>64</td>\n",
       "    </tr>\n",
       "    <tr>\n",
       "      <td>2020-01-07</td>\n",
       "      <td>5</td>\n",
       "      <td>25</td>\n",
       "      <td>125</td>\n",
       "    </tr>\n",
       "    <tr>\n",
       "      <td>2020-01-08</td>\n",
       "      <td>6</td>\n",
       "      <td>36</td>\n",
       "      <td>216</td>\n",
       "    </tr>\n",
       "  </tbody>\n",
       "</table>\n",
       "</div>"
      ],
      "text/plain": [
       "            x  x^2  x^3\n",
       "2020-01-01  1    1    1\n",
       "2020-01-02  2    4    8\n",
       "2020-01-03  3    9   27\n",
       "2020-01-06  4   16   64\n",
       "2020-01-07  5   25  125\n",
       "2020-01-08  6   36  216"
      ]
     },
     "execution_count": 196,
     "metadata": {},
     "output_type": "execute_result"
    }
   ],
   "source": [
    "df1 = df.loc[:'2020-01-08', ['x', 'x^2', 'x^3']]\n",
    "df1"
   ]
  },
  {
   "cell_type": "code",
   "execution_count": 197,
   "metadata": {},
   "outputs": [
    {
     "data": {
      "text/html": [
       "<div>\n",
       "<style scoped>\n",
       "    .dataframe tbody tr th:only-of-type {\n",
       "        vertical-align: middle;\n",
       "    }\n",
       "\n",
       "    .dataframe tbody tr th {\n",
       "        vertical-align: top;\n",
       "    }\n",
       "\n",
       "    .dataframe thead th {\n",
       "        text-align: right;\n",
       "    }\n",
       "</style>\n",
       "<table border=\"1\" class=\"dataframe\">\n",
       "  <thead>\n",
       "    <tr style=\"text-align: right;\">\n",
       "      <th></th>\n",
       "      <th>x^3</th>\n",
       "      <th>x^4</th>\n",
       "      <th>x^5</th>\n",
       "    </tr>\n",
       "  </thead>\n",
       "  <tbody>\n",
       "    <tr>\n",
       "      <td>2020-01-06</td>\n",
       "      <td>64</td>\n",
       "      <td>256</td>\n",
       "      <td>1024</td>\n",
       "    </tr>\n",
       "    <tr>\n",
       "      <td>2020-01-07</td>\n",
       "      <td>125</td>\n",
       "      <td>625</td>\n",
       "      <td>3125</td>\n",
       "    </tr>\n",
       "    <tr>\n",
       "      <td>2020-01-08</td>\n",
       "      <td>216</td>\n",
       "      <td>1296</td>\n",
       "      <td>7776</td>\n",
       "    </tr>\n",
       "    <tr>\n",
       "      <td>2020-01-09</td>\n",
       "      <td>343</td>\n",
       "      <td>2401</td>\n",
       "      <td>16807</td>\n",
       "    </tr>\n",
       "    <tr>\n",
       "      <td>2020-01-10</td>\n",
       "      <td>512</td>\n",
       "      <td>4096</td>\n",
       "      <td>32768</td>\n",
       "    </tr>\n",
       "    <tr>\n",
       "      <td>2020-01-13</td>\n",
       "      <td>729</td>\n",
       "      <td>6561</td>\n",
       "      <td>59049</td>\n",
       "    </tr>\n",
       "    <tr>\n",
       "      <td>2020-01-14</td>\n",
       "      <td>1000</td>\n",
       "      <td>10000</td>\n",
       "      <td>100000</td>\n",
       "    </tr>\n",
       "  </tbody>\n",
       "</table>\n",
       "</div>"
      ],
      "text/plain": [
       "             x^3    x^4     x^5\n",
       "2020-01-06    64    256    1024\n",
       "2020-01-07   125    625    3125\n",
       "2020-01-08   216   1296    7776\n",
       "2020-01-09   343   2401   16807\n",
       "2020-01-10   512   4096   32768\n",
       "2020-01-13   729   6561   59049\n",
       "2020-01-14  1000  10000  100000"
      ]
     },
     "execution_count": 197,
     "metadata": {},
     "output_type": "execute_result"
    }
   ],
   "source": [
    "df2 = df.loc['2020-01-04':, ['x^3', 'x^4', 'x^5']]\n",
    "df2"
   ]
  },
  {
   "cell_type": "markdown",
   "metadata": {},
   "source": [
    "As we see, `df1` and `df2` share:\n",
    "- indexes from `2020-01-06` to `2020-01-08`\n",
    "- column `x^3`\n",
    "\n",
    "how, then, an operation as simple as `df1 + df2` is defined?"
   ]
  },
  {
   "cell_type": "code",
   "execution_count": 198,
   "metadata": {
    "scrolled": false
   },
   "outputs": [
    {
     "data": {
      "text/html": [
       "<div>\n",
       "<style scoped>\n",
       "    .dataframe tbody tr th:only-of-type {\n",
       "        vertical-align: middle;\n",
       "    }\n",
       "\n",
       "    .dataframe tbody tr th {\n",
       "        vertical-align: top;\n",
       "    }\n",
       "\n",
       "    .dataframe thead th {\n",
       "        text-align: right;\n",
       "    }\n",
       "</style>\n",
       "<table border=\"1\" class=\"dataframe\">\n",
       "  <thead>\n",
       "    <tr style=\"text-align: right;\">\n",
       "      <th></th>\n",
       "      <th>x</th>\n",
       "      <th>x^2</th>\n",
       "      <th>x^3</th>\n",
       "      <th>x^4</th>\n",
       "      <th>x^5</th>\n",
       "    </tr>\n",
       "  </thead>\n",
       "  <tbody>\n",
       "    <tr>\n",
       "      <td>2020-01-01</td>\n",
       "      <td>NaN</td>\n",
       "      <td>NaN</td>\n",
       "      <td>NaN</td>\n",
       "      <td>NaN</td>\n",
       "      <td>NaN</td>\n",
       "    </tr>\n",
       "    <tr>\n",
       "      <td>2020-01-02</td>\n",
       "      <td>NaN</td>\n",
       "      <td>NaN</td>\n",
       "      <td>NaN</td>\n",
       "      <td>NaN</td>\n",
       "      <td>NaN</td>\n",
       "    </tr>\n",
       "    <tr>\n",
       "      <td>2020-01-03</td>\n",
       "      <td>NaN</td>\n",
       "      <td>NaN</td>\n",
       "      <td>NaN</td>\n",
       "      <td>NaN</td>\n",
       "      <td>NaN</td>\n",
       "    </tr>\n",
       "    <tr>\n",
       "      <td>2020-01-06</td>\n",
       "      <td>NaN</td>\n",
       "      <td>NaN</td>\n",
       "      <td>128.0</td>\n",
       "      <td>NaN</td>\n",
       "      <td>NaN</td>\n",
       "    </tr>\n",
       "    <tr>\n",
       "      <td>2020-01-07</td>\n",
       "      <td>NaN</td>\n",
       "      <td>NaN</td>\n",
       "      <td>250.0</td>\n",
       "      <td>NaN</td>\n",
       "      <td>NaN</td>\n",
       "    </tr>\n",
       "    <tr>\n",
       "      <td>2020-01-08</td>\n",
       "      <td>NaN</td>\n",
       "      <td>NaN</td>\n",
       "      <td>432.0</td>\n",
       "      <td>NaN</td>\n",
       "      <td>NaN</td>\n",
       "    </tr>\n",
       "    <tr>\n",
       "      <td>2020-01-09</td>\n",
       "      <td>NaN</td>\n",
       "      <td>NaN</td>\n",
       "      <td>NaN</td>\n",
       "      <td>NaN</td>\n",
       "      <td>NaN</td>\n",
       "    </tr>\n",
       "    <tr>\n",
       "      <td>2020-01-10</td>\n",
       "      <td>NaN</td>\n",
       "      <td>NaN</td>\n",
       "      <td>NaN</td>\n",
       "      <td>NaN</td>\n",
       "      <td>NaN</td>\n",
       "    </tr>\n",
       "    <tr>\n",
       "      <td>2020-01-13</td>\n",
       "      <td>NaN</td>\n",
       "      <td>NaN</td>\n",
       "      <td>NaN</td>\n",
       "      <td>NaN</td>\n",
       "      <td>NaN</td>\n",
       "    </tr>\n",
       "    <tr>\n",
       "      <td>2020-01-14</td>\n",
       "      <td>NaN</td>\n",
       "      <td>NaN</td>\n",
       "      <td>NaN</td>\n",
       "      <td>NaN</td>\n",
       "      <td>NaN</td>\n",
       "    </tr>\n",
       "  </tbody>\n",
       "</table>\n",
       "</div>"
      ],
      "text/plain": [
       "             x  x^2    x^3  x^4  x^5\n",
       "2020-01-01 NaN  NaN    NaN  NaN  NaN\n",
       "2020-01-02 NaN  NaN    NaN  NaN  NaN\n",
       "2020-01-03 NaN  NaN    NaN  NaN  NaN\n",
       "2020-01-06 NaN  NaN  128.0  NaN  NaN\n",
       "2020-01-07 NaN  NaN  250.0  NaN  NaN\n",
       "2020-01-08 NaN  NaN  432.0  NaN  NaN\n",
       "2020-01-09 NaN  NaN    NaN  NaN  NaN\n",
       "2020-01-10 NaN  NaN    NaN  NaN  NaN\n",
       "2020-01-13 NaN  NaN    NaN  NaN  NaN\n",
       "2020-01-14 NaN  NaN    NaN  NaN  NaN"
      ]
     },
     "execution_count": 198,
     "metadata": {},
     "output_type": "execute_result"
    }
   ],
   "source": [
    "df_1plus2 = df1 + df2\n",
    "df_1plus2"
   ]
  },
  {
   "cell_type": "markdown",
   "metadata": {},
   "source": [
    "As noticed for indexes only in Pandas Series, combined DataFrame will have the _union_ of both indexes and columns, with operations performed elementwise and only where the `[row, column]` is shared by both DataFrames (here `[2020-01-06, 'x^3]`, `[2020-01-07, 'x^3]` and `[2020-01-08, 'x^3]`) and putting a `NaN` elsewhere."
   ]
  },
  {
   "cell_type": "markdown",
   "metadata": {},
   "source": [
    "Of course this generalizes to any other operation:"
   ]
  },
  {
   "cell_type": "code",
   "execution_count": 199,
   "metadata": {},
   "outputs": [
    {
     "data": {
      "text/html": [
       "<div>\n",
       "<style scoped>\n",
       "    .dataframe tbody tr th:only-of-type {\n",
       "        vertical-align: middle;\n",
       "    }\n",
       "\n",
       "    .dataframe tbody tr th {\n",
       "        vertical-align: top;\n",
       "    }\n",
       "\n",
       "    .dataframe thead th {\n",
       "        text-align: right;\n",
       "    }\n",
       "</style>\n",
       "<table border=\"1\" class=\"dataframe\">\n",
       "  <thead>\n",
       "    <tr style=\"text-align: right;\">\n",
       "      <th></th>\n",
       "      <th>x</th>\n",
       "      <th>x^2</th>\n",
       "      <th>x^3</th>\n",
       "      <th>x^4</th>\n",
       "      <th>x^5</th>\n",
       "    </tr>\n",
       "  </thead>\n",
       "  <tbody>\n",
       "    <tr>\n",
       "      <td>2020-01-01</td>\n",
       "      <td>NaN</td>\n",
       "      <td>NaN</td>\n",
       "      <td>NaN</td>\n",
       "      <td>NaN</td>\n",
       "      <td>NaN</td>\n",
       "    </tr>\n",
       "    <tr>\n",
       "      <td>2020-01-02</td>\n",
       "      <td>NaN</td>\n",
       "      <td>NaN</td>\n",
       "      <td>NaN</td>\n",
       "      <td>NaN</td>\n",
       "      <td>NaN</td>\n",
       "    </tr>\n",
       "    <tr>\n",
       "      <td>2020-01-03</td>\n",
       "      <td>NaN</td>\n",
       "      <td>NaN</td>\n",
       "      <td>NaN</td>\n",
       "      <td>NaN</td>\n",
       "      <td>NaN</td>\n",
       "    </tr>\n",
       "    <tr>\n",
       "      <td>2020-01-06</td>\n",
       "      <td>NaN</td>\n",
       "      <td>NaN</td>\n",
       "      <td>4096.0</td>\n",
       "      <td>NaN</td>\n",
       "      <td>NaN</td>\n",
       "    </tr>\n",
       "    <tr>\n",
       "      <td>2020-01-07</td>\n",
       "      <td>NaN</td>\n",
       "      <td>NaN</td>\n",
       "      <td>15625.0</td>\n",
       "      <td>NaN</td>\n",
       "      <td>NaN</td>\n",
       "    </tr>\n",
       "    <tr>\n",
       "      <td>2020-01-08</td>\n",
       "      <td>NaN</td>\n",
       "      <td>NaN</td>\n",
       "      <td>46656.0</td>\n",
       "      <td>NaN</td>\n",
       "      <td>NaN</td>\n",
       "    </tr>\n",
       "    <tr>\n",
       "      <td>2020-01-09</td>\n",
       "      <td>NaN</td>\n",
       "      <td>NaN</td>\n",
       "      <td>NaN</td>\n",
       "      <td>NaN</td>\n",
       "      <td>NaN</td>\n",
       "    </tr>\n",
       "    <tr>\n",
       "      <td>2020-01-10</td>\n",
       "      <td>NaN</td>\n",
       "      <td>NaN</td>\n",
       "      <td>NaN</td>\n",
       "      <td>NaN</td>\n",
       "      <td>NaN</td>\n",
       "    </tr>\n",
       "    <tr>\n",
       "      <td>2020-01-13</td>\n",
       "      <td>NaN</td>\n",
       "      <td>NaN</td>\n",
       "      <td>NaN</td>\n",
       "      <td>NaN</td>\n",
       "      <td>NaN</td>\n",
       "    </tr>\n",
       "    <tr>\n",
       "      <td>2020-01-14</td>\n",
       "      <td>NaN</td>\n",
       "      <td>NaN</td>\n",
       "      <td>NaN</td>\n",
       "      <td>NaN</td>\n",
       "      <td>NaN</td>\n",
       "    </tr>\n",
       "  </tbody>\n",
       "</table>\n",
       "</div>"
      ],
      "text/plain": [
       "             x  x^2      x^3  x^4  x^5\n",
       "2020-01-01 NaN  NaN      NaN  NaN  NaN\n",
       "2020-01-02 NaN  NaN      NaN  NaN  NaN\n",
       "2020-01-03 NaN  NaN      NaN  NaN  NaN\n",
       "2020-01-06 NaN  NaN   4096.0  NaN  NaN\n",
       "2020-01-07 NaN  NaN  15625.0  NaN  NaN\n",
       "2020-01-08 NaN  NaN  46656.0  NaN  NaN\n",
       "2020-01-09 NaN  NaN      NaN  NaN  NaN\n",
       "2020-01-10 NaN  NaN      NaN  NaN  NaN\n",
       "2020-01-13 NaN  NaN      NaN  NaN  NaN\n",
       "2020-01-14 NaN  NaN      NaN  NaN  NaN"
      ]
     },
     "execution_count": 199,
     "metadata": {},
     "output_type": "execute_result"
    }
   ],
   "source": [
    "df_1times2 = df1 * df2\n",
    "df_1times2"
   ]
  },
  {
   "cell_type": "markdown",
   "metadata": {},
   "source": [
    "As is the case for Pandas Series, most basic analytics still works disregarding NaNs. That is, `NaN` are not counted."
   ]
  },
  {
   "cell_type": "code",
   "execution_count": 200,
   "metadata": {},
   "outputs": [
    {
     "data": {
      "text/html": [
       "<div>\n",
       "<style scoped>\n",
       "    .dataframe tbody tr th:only-of-type {\n",
       "        vertical-align: middle;\n",
       "    }\n",
       "\n",
       "    .dataframe tbody tr th {\n",
       "        vertical-align: top;\n",
       "    }\n",
       "\n",
       "    .dataframe thead th {\n",
       "        text-align: right;\n",
       "    }\n",
       "</style>\n",
       "<table border=\"1\" class=\"dataframe\">\n",
       "  <thead>\n",
       "    <tr style=\"text-align: right;\">\n",
       "      <th></th>\n",
       "      <th>x</th>\n",
       "      <th>x^2</th>\n",
       "      <th>x^3</th>\n",
       "      <th>x^4</th>\n",
       "      <th>x^5</th>\n",
       "    </tr>\n",
       "  </thead>\n",
       "  <tbody>\n",
       "    <tr>\n",
       "      <td>2020-01-01</td>\n",
       "      <td>NaN</td>\n",
       "      <td>NaN</td>\n",
       "      <td>NaN</td>\n",
       "      <td>NaN</td>\n",
       "      <td>NaN</td>\n",
       "    </tr>\n",
       "    <tr>\n",
       "      <td>2020-01-02</td>\n",
       "      <td>NaN</td>\n",
       "      <td>NaN</td>\n",
       "      <td>NaN</td>\n",
       "      <td>NaN</td>\n",
       "      <td>NaN</td>\n",
       "    </tr>\n",
       "    <tr>\n",
       "      <td>2020-01-03</td>\n",
       "      <td>NaN</td>\n",
       "      <td>NaN</td>\n",
       "      <td>NaN</td>\n",
       "      <td>NaN</td>\n",
       "      <td>NaN</td>\n",
       "    </tr>\n",
       "    <tr>\n",
       "      <td>2020-01-06</td>\n",
       "      <td>NaN</td>\n",
       "      <td>NaN</td>\n",
       "      <td>16384.0</td>\n",
       "      <td>NaN</td>\n",
       "      <td>NaN</td>\n",
       "    </tr>\n",
       "    <tr>\n",
       "      <td>2020-01-07</td>\n",
       "      <td>NaN</td>\n",
       "      <td>NaN</td>\n",
       "      <td>62500.0</td>\n",
       "      <td>NaN</td>\n",
       "      <td>NaN</td>\n",
       "    </tr>\n",
       "    <tr>\n",
       "      <td>2020-01-08</td>\n",
       "      <td>NaN</td>\n",
       "      <td>NaN</td>\n",
       "      <td>186624.0</td>\n",
       "      <td>NaN</td>\n",
       "      <td>NaN</td>\n",
       "    </tr>\n",
       "    <tr>\n",
       "      <td>2020-01-09</td>\n",
       "      <td>NaN</td>\n",
       "      <td>NaN</td>\n",
       "      <td>NaN</td>\n",
       "      <td>NaN</td>\n",
       "      <td>NaN</td>\n",
       "    </tr>\n",
       "    <tr>\n",
       "      <td>2020-01-10</td>\n",
       "      <td>NaN</td>\n",
       "      <td>NaN</td>\n",
       "      <td>NaN</td>\n",
       "      <td>NaN</td>\n",
       "      <td>NaN</td>\n",
       "    </tr>\n",
       "    <tr>\n",
       "      <td>2020-01-13</td>\n",
       "      <td>NaN</td>\n",
       "      <td>NaN</td>\n",
       "      <td>NaN</td>\n",
       "      <td>NaN</td>\n",
       "      <td>NaN</td>\n",
       "    </tr>\n",
       "    <tr>\n",
       "      <td>2020-01-14</td>\n",
       "      <td>NaN</td>\n",
       "      <td>NaN</td>\n",
       "      <td>NaN</td>\n",
       "      <td>NaN</td>\n",
       "      <td>NaN</td>\n",
       "    </tr>\n",
       "  </tbody>\n",
       "</table>\n",
       "</div>"
      ],
      "text/plain": [
       "             x  x^2       x^3  x^4  x^5\n",
       "2020-01-01 NaN  NaN       NaN  NaN  NaN\n",
       "2020-01-02 NaN  NaN       NaN  NaN  NaN\n",
       "2020-01-03 NaN  NaN       NaN  NaN  NaN\n",
       "2020-01-06 NaN  NaN   16384.0  NaN  NaN\n",
       "2020-01-07 NaN  NaN   62500.0  NaN  NaN\n",
       "2020-01-08 NaN  NaN  186624.0  NaN  NaN\n",
       "2020-01-09 NaN  NaN       NaN  NaN  NaN\n",
       "2020-01-10 NaN  NaN       NaN  NaN  NaN\n",
       "2020-01-13 NaN  NaN       NaN  NaN  NaN\n",
       "2020-01-14 NaN  NaN       NaN  NaN  NaN"
      ]
     },
     "execution_count": 200,
     "metadata": {},
     "output_type": "execute_result"
    }
   ],
   "source": [
    "df_1plus2 ** 2"
   ]
  },
  {
   "cell_type": "code",
   "execution_count": 201,
   "metadata": {},
   "outputs": [
    {
     "data": {
      "text/plain": [
       "x        0.0\n",
       "x^2      0.0\n",
       "x^3    810.0\n",
       "x^4      0.0\n",
       "x^5      0.0\n",
       "dtype: float64"
      ]
     },
     "execution_count": 201,
     "metadata": {},
     "output_type": "execute_result"
    }
   ],
   "source": [
    "df_1plus2.sum(axis=0) #columns-wise sum"
   ]
  },
  {
   "cell_type": "code",
   "execution_count": 202,
   "metadata": {},
   "outputs": [
    {
     "data": {
      "text/plain": [
       "2020-01-01      0.0\n",
       "2020-01-02      0.0\n",
       "2020-01-03      0.0\n",
       "2020-01-06    128.0\n",
       "2020-01-07    250.0\n",
       "2020-01-08    432.0\n",
       "2020-01-09      0.0\n",
       "2020-01-10      0.0\n",
       "2020-01-13      0.0\n",
       "2020-01-14      0.0\n",
       "Freq: B, dtype: float64"
      ]
     },
     "execution_count": 202,
     "metadata": {},
     "output_type": "execute_result"
    }
   ],
   "source": [
    "df_1plus2.sum(axis=1) #row-wise sum"
   ]
  },
  {
   "cell_type": "code",
   "execution_count": 203,
   "metadata": {},
   "outputs": [
    {
     "data": {
      "text/plain": [
       "x        NaN\n",
       "x^2      NaN\n",
       "x^3    270.0\n",
       "x^4      NaN\n",
       "x^5      NaN\n",
       "dtype: float64"
      ]
     },
     "execution_count": 203,
     "metadata": {},
     "output_type": "execute_result"
    }
   ],
   "source": [
    "df_1plus2.mean(axis=0) # column-wise mean"
   ]
  },
  {
   "cell_type": "code",
   "execution_count": 204,
   "metadata": {},
   "outputs": [
    {
     "data": {
      "text/plain": [
       "2020-01-01      NaN\n",
       "2020-01-02      NaN\n",
       "2020-01-03      NaN\n",
       "2020-01-06    128.0\n",
       "2020-01-07    250.0\n",
       "2020-01-08    432.0\n",
       "2020-01-09      NaN\n",
       "2020-01-10      NaN\n",
       "2020-01-13      NaN\n",
       "2020-01-14      NaN\n",
       "Freq: B, dtype: float64"
      ]
     },
     "execution_count": 204,
     "metadata": {},
     "output_type": "execute_result"
    }
   ],
   "source": [
    "df_1plus2.mean(axis=1) # row-wise mean"
   ]
  },
  {
   "cell_type": "code",
   "execution_count": 205,
   "metadata": {},
   "outputs": [
    {
     "data": {
      "text/plain": [
       "x             NaN\n",
       "x^2           NaN\n",
       "x^3    152.983659\n",
       "x^4           NaN\n",
       "x^5           NaN\n",
       "dtype: float64"
      ]
     },
     "execution_count": 205,
     "metadata": {},
     "output_type": "execute_result"
    }
   ],
   "source": [
    "df_1plus2.std(axis=0) # column-wise standard deviation"
   ]
  },
  {
   "cell_type": "code",
   "execution_count": 206,
   "metadata": {},
   "outputs": [
    {
     "data": {
      "text/plain": [
       "2020-01-01   NaN\n",
       "2020-01-02   NaN\n",
       "2020-01-03   NaN\n",
       "2020-01-06   NaN\n",
       "2020-01-07   NaN\n",
       "2020-01-08   NaN\n",
       "2020-01-09   NaN\n",
       "2020-01-10   NaN\n",
       "2020-01-13   NaN\n",
       "2020-01-14   NaN\n",
       "Freq: B, dtype: float64"
      ]
     },
     "execution_count": 206,
     "metadata": {},
     "output_type": "execute_result"
    }
   ],
   "source": [
    "df_1plus2.std(axis=1) # row-wise standard deviation"
   ]
  },
  {
   "cell_type": "markdown",
   "metadata": {},
   "source": [
    "## 2.7. Combine data from multiple DataFrames <a name=\"df_data_combine\"></a>"
   ]
  },
  {
   "cell_type": "markdown",
   "metadata": {},
   "source": [
    "In this section we explore two ways to combine two DataFrames: concatenating or joining them. Let's work with our `df` DataFrame"
   ]
  },
  {
   "cell_type": "code",
   "execution_count": 207,
   "metadata": {},
   "outputs": [
    {
     "data": {
      "text/html": [
       "<div>\n",
       "<style scoped>\n",
       "    .dataframe tbody tr th:only-of-type {\n",
       "        vertical-align: middle;\n",
       "    }\n",
       "\n",
       "    .dataframe tbody tr th {\n",
       "        vertical-align: top;\n",
       "    }\n",
       "\n",
       "    .dataframe thead th {\n",
       "        text-align: right;\n",
       "    }\n",
       "</style>\n",
       "<table border=\"1\" class=\"dataframe\">\n",
       "  <thead>\n",
       "    <tr style=\"text-align: right;\">\n",
       "      <th></th>\n",
       "      <th>x</th>\n",
       "      <th>x^2</th>\n",
       "      <th>x^3</th>\n",
       "      <th>x^4</th>\n",
       "      <th>x^5</th>\n",
       "    </tr>\n",
       "  </thead>\n",
       "  <tbody>\n",
       "    <tr>\n",
       "      <td>2020-01-01</td>\n",
       "      <td>1</td>\n",
       "      <td>1</td>\n",
       "      <td>1</td>\n",
       "      <td>1</td>\n",
       "      <td>1</td>\n",
       "    </tr>\n",
       "    <tr>\n",
       "      <td>2020-01-02</td>\n",
       "      <td>2</td>\n",
       "      <td>4</td>\n",
       "      <td>8</td>\n",
       "      <td>16</td>\n",
       "      <td>32</td>\n",
       "    </tr>\n",
       "    <tr>\n",
       "      <td>2020-01-03</td>\n",
       "      <td>3</td>\n",
       "      <td>9</td>\n",
       "      <td>27</td>\n",
       "      <td>81</td>\n",
       "      <td>243</td>\n",
       "    </tr>\n",
       "    <tr>\n",
       "      <td>2020-01-06</td>\n",
       "      <td>4</td>\n",
       "      <td>16</td>\n",
       "      <td>64</td>\n",
       "      <td>256</td>\n",
       "      <td>1024</td>\n",
       "    </tr>\n",
       "    <tr>\n",
       "      <td>2020-01-07</td>\n",
       "      <td>5</td>\n",
       "      <td>25</td>\n",
       "      <td>125</td>\n",
       "      <td>625</td>\n",
       "      <td>3125</td>\n",
       "    </tr>\n",
       "    <tr>\n",
       "      <td>2020-01-08</td>\n",
       "      <td>6</td>\n",
       "      <td>36</td>\n",
       "      <td>216</td>\n",
       "      <td>1296</td>\n",
       "      <td>7776</td>\n",
       "    </tr>\n",
       "    <tr>\n",
       "      <td>2020-01-09</td>\n",
       "      <td>7</td>\n",
       "      <td>49</td>\n",
       "      <td>343</td>\n",
       "      <td>2401</td>\n",
       "      <td>16807</td>\n",
       "    </tr>\n",
       "    <tr>\n",
       "      <td>2020-01-10</td>\n",
       "      <td>8</td>\n",
       "      <td>64</td>\n",
       "      <td>512</td>\n",
       "      <td>4096</td>\n",
       "      <td>32768</td>\n",
       "    </tr>\n",
       "    <tr>\n",
       "      <td>2020-01-13</td>\n",
       "      <td>9</td>\n",
       "      <td>81</td>\n",
       "      <td>729</td>\n",
       "      <td>6561</td>\n",
       "      <td>59049</td>\n",
       "    </tr>\n",
       "    <tr>\n",
       "      <td>2020-01-14</td>\n",
       "      <td>10</td>\n",
       "      <td>100</td>\n",
       "      <td>1000</td>\n",
       "      <td>10000</td>\n",
       "      <td>100000</td>\n",
       "    </tr>\n",
       "  </tbody>\n",
       "</table>\n",
       "</div>"
      ],
      "text/plain": [
       "             x  x^2   x^3    x^4     x^5\n",
       "2020-01-01   1    1     1      1       1\n",
       "2020-01-02   2    4     8     16      32\n",
       "2020-01-03   3    9    27     81     243\n",
       "2020-01-06   4   16    64    256    1024\n",
       "2020-01-07   5   25   125    625    3125\n",
       "2020-01-08   6   36   216   1296    7776\n",
       "2020-01-09   7   49   343   2401   16807\n",
       "2020-01-10   8   64   512   4096   32768\n",
       "2020-01-13   9   81   729   6561   59049\n",
       "2020-01-14  10  100  1000  10000  100000"
      ]
     },
     "execution_count": 207,
     "metadata": {},
     "output_type": "execute_result"
    }
   ],
   "source": [
    "df"
   ]
  },
  {
   "cell_type": "markdown",
   "metadata": {},
   "source": [
    "which features 10 rows and 5 columns"
   ]
  },
  {
   "cell_type": "code",
   "execution_count": 208,
   "metadata": {},
   "outputs": [
    {
     "data": {
      "text/plain": [
       "(10, 5)"
      ]
     },
     "execution_count": 208,
     "metadata": {},
     "output_type": "execute_result"
    }
   ],
   "source": [
    "df.shape"
   ]
  },
  {
   "cell_type": "markdown",
   "metadata": {},
   "source": [
    "### 2.7.1. Concatenating DataFrames: `pd.concat()` <a name=\"df_data_concat\"></a>"
   ]
  },
  {
   "cell_type": "markdown",
   "metadata": {},
   "source": [
    "Function \n",
    "\n",
    "```python\n",
    "pd.concat([df1, df2,...], axis=0, sort=True)\n",
    "```\n",
    "\n",
    "concatenates the list of (two or more) DataFrames according to the `axis`:\n",
    "\n",
    "- 0, default, for rows-wise concatenation (that is, vertically), or\n",
    "- 1, for column-wise concatenation (that is, horizontally)\n",
    "\n",
    "and sorts (if `sort=True`, default) or leaves untouched (if `sort=False`) the non-concatenating axis, that is\n",
    "\n",
    "- columns in case of vertical concatenation, or\n",
    "- rows, in case of horizontal concatenation."
   ]
  },
  {
   "cell_type": "markdown",
   "metadata": {},
   "source": [
    "#### 2.7.1.1. Vertical concatenation: `pd.concat(...[, axis=0])` <a name=\"df_data_concat_0\"></a>"
   ]
  },
  {
   "cell_type": "markdown",
   "metadata": {},
   "source": [
    "We start considering _vertical_ concatenation. We define two DataFrames, considering two - non overlapping - slices of rows of the `df` DataFrame"
   ]
  },
  {
   "cell_type": "code",
   "execution_count": 209,
   "metadata": {},
   "outputs": [
    {
     "data": {
      "text/html": [
       "<div>\n",
       "<style scoped>\n",
       "    .dataframe tbody tr th:only-of-type {\n",
       "        vertical-align: middle;\n",
       "    }\n",
       "\n",
       "    .dataframe tbody tr th {\n",
       "        vertical-align: top;\n",
       "    }\n",
       "\n",
       "    .dataframe thead th {\n",
       "        text-align: right;\n",
       "    }\n",
       "</style>\n",
       "<table border=\"1\" class=\"dataframe\">\n",
       "  <thead>\n",
       "    <tr style=\"text-align: right;\">\n",
       "      <th></th>\n",
       "      <th>x</th>\n",
       "      <th>x^2</th>\n",
       "      <th>x^3</th>\n",
       "      <th>x^4</th>\n",
       "      <th>x^5</th>\n",
       "    </tr>\n",
       "  </thead>\n",
       "  <tbody>\n",
       "    <tr>\n",
       "      <td>2020-01-01</td>\n",
       "      <td>1</td>\n",
       "      <td>1</td>\n",
       "      <td>1</td>\n",
       "      <td>1</td>\n",
       "      <td>1</td>\n",
       "    </tr>\n",
       "    <tr>\n",
       "      <td>2020-01-02</td>\n",
       "      <td>2</td>\n",
       "      <td>4</td>\n",
       "      <td>8</td>\n",
       "      <td>16</td>\n",
       "      <td>32</td>\n",
       "    </tr>\n",
       "    <tr>\n",
       "      <td>2020-01-03</td>\n",
       "      <td>3</td>\n",
       "      <td>9</td>\n",
       "      <td>27</td>\n",
       "      <td>81</td>\n",
       "      <td>243</td>\n",
       "    </tr>\n",
       "    <tr>\n",
       "      <td>2020-01-06</td>\n",
       "      <td>4</td>\n",
       "      <td>16</td>\n",
       "      <td>64</td>\n",
       "      <td>256</td>\n",
       "      <td>1024</td>\n",
       "    </tr>\n",
       "    <tr>\n",
       "      <td>2020-01-07</td>\n",
       "      <td>5</td>\n",
       "      <td>25</td>\n",
       "      <td>125</td>\n",
       "      <td>625</td>\n",
       "      <td>3125</td>\n",
       "    </tr>\n",
       "    <tr>\n",
       "      <td>2020-01-08</td>\n",
       "      <td>6</td>\n",
       "      <td>36</td>\n",
       "      <td>216</td>\n",
       "      <td>1296</td>\n",
       "      <td>7776</td>\n",
       "    </tr>\n",
       "  </tbody>\n",
       "</table>\n",
       "</div>"
      ],
      "text/plain": [
       "            x  x^2  x^3   x^4   x^5\n",
       "2020-01-01  1    1    1     1     1\n",
       "2020-01-02  2    4    8    16    32\n",
       "2020-01-03  3    9   27    81   243\n",
       "2020-01-06  4   16   64   256  1024\n",
       "2020-01-07  5   25  125   625  3125\n",
       "2020-01-08  6   36  216  1296  7776"
      ]
     },
     "execution_count": 209,
     "metadata": {},
     "output_type": "execute_result"
    }
   ],
   "source": [
    "df_up = df.loc[:'2020-01-08']\n",
    "df_up"
   ]
  },
  {
   "cell_type": "code",
   "execution_count": 210,
   "metadata": {},
   "outputs": [
    {
     "data": {
      "text/plain": [
       "(6, 5)"
      ]
     },
     "execution_count": 210,
     "metadata": {},
     "output_type": "execute_result"
    }
   ],
   "source": [
    "df_up.shape"
   ]
  },
  {
   "cell_type": "code",
   "execution_count": 211,
   "metadata": {
    "scrolled": true
   },
   "outputs": [
    {
     "data": {
      "text/html": [
       "<div>\n",
       "<style scoped>\n",
       "    .dataframe tbody tr th:only-of-type {\n",
       "        vertical-align: middle;\n",
       "    }\n",
       "\n",
       "    .dataframe tbody tr th {\n",
       "        vertical-align: top;\n",
       "    }\n",
       "\n",
       "    .dataframe thead th {\n",
       "        text-align: right;\n",
       "    }\n",
       "</style>\n",
       "<table border=\"1\" class=\"dataframe\">\n",
       "  <thead>\n",
       "    <tr style=\"text-align: right;\">\n",
       "      <th></th>\n",
       "      <th>x</th>\n",
       "      <th>x^2</th>\n",
       "      <th>x^3</th>\n",
       "      <th>x^4</th>\n",
       "      <th>x^5</th>\n",
       "    </tr>\n",
       "  </thead>\n",
       "  <tbody>\n",
       "    <tr>\n",
       "      <td>2020-01-09</td>\n",
       "      <td>7</td>\n",
       "      <td>49</td>\n",
       "      <td>343</td>\n",
       "      <td>2401</td>\n",
       "      <td>16807</td>\n",
       "    </tr>\n",
       "    <tr>\n",
       "      <td>2020-01-10</td>\n",
       "      <td>8</td>\n",
       "      <td>64</td>\n",
       "      <td>512</td>\n",
       "      <td>4096</td>\n",
       "      <td>32768</td>\n",
       "    </tr>\n",
       "    <tr>\n",
       "      <td>2020-01-13</td>\n",
       "      <td>9</td>\n",
       "      <td>81</td>\n",
       "      <td>729</td>\n",
       "      <td>6561</td>\n",
       "      <td>59049</td>\n",
       "    </tr>\n",
       "    <tr>\n",
       "      <td>2020-01-14</td>\n",
       "      <td>10</td>\n",
       "      <td>100</td>\n",
       "      <td>1000</td>\n",
       "      <td>10000</td>\n",
       "      <td>100000</td>\n",
       "    </tr>\n",
       "  </tbody>\n",
       "</table>\n",
       "</div>"
      ],
      "text/plain": [
       "             x  x^2   x^3    x^4     x^5\n",
       "2020-01-09   7   49   343   2401   16807\n",
       "2020-01-10   8   64   512   4096   32768\n",
       "2020-01-13   9   81   729   6561   59049\n",
       "2020-01-14  10  100  1000  10000  100000"
      ]
     },
     "execution_count": 211,
     "metadata": {},
     "output_type": "execute_result"
    }
   ],
   "source": [
    "df_down = df.loc['2020-01-09':]\n",
    "df_down"
   ]
  },
  {
   "cell_type": "code",
   "execution_count": 212,
   "metadata": {},
   "outputs": [
    {
     "data": {
      "text/plain": [
       "(4, 5)"
      ]
     },
     "execution_count": 212,
     "metadata": {},
     "output_type": "execute_result"
    }
   ],
   "source": [
    "df_down.shape"
   ]
  },
  {
   "cell_type": "markdown",
   "metadata": {},
   "source": [
    "Notice that `df_up` and `df_down` share the same columns and do not have overlapping indexes. Let's concatenate them one over the other"
   ]
  },
  {
   "cell_type": "code",
   "execution_count": 213,
   "metadata": {
    "scrolled": true
   },
   "outputs": [
    {
     "data": {
      "text/html": [
       "<div>\n",
       "<style scoped>\n",
       "    .dataframe tbody tr th:only-of-type {\n",
       "        vertical-align: middle;\n",
       "    }\n",
       "\n",
       "    .dataframe tbody tr th {\n",
       "        vertical-align: top;\n",
       "    }\n",
       "\n",
       "    .dataframe thead th {\n",
       "        text-align: right;\n",
       "    }\n",
       "</style>\n",
       "<table border=\"1\" class=\"dataframe\">\n",
       "  <thead>\n",
       "    <tr style=\"text-align: right;\">\n",
       "      <th></th>\n",
       "      <th>x</th>\n",
       "      <th>x^2</th>\n",
       "      <th>x^3</th>\n",
       "      <th>x^4</th>\n",
       "      <th>x^5</th>\n",
       "    </tr>\n",
       "  </thead>\n",
       "  <tbody>\n",
       "    <tr>\n",
       "      <td>2020-01-01</td>\n",
       "      <td>1</td>\n",
       "      <td>1</td>\n",
       "      <td>1</td>\n",
       "      <td>1</td>\n",
       "      <td>1</td>\n",
       "    </tr>\n",
       "    <tr>\n",
       "      <td>2020-01-02</td>\n",
       "      <td>2</td>\n",
       "      <td>4</td>\n",
       "      <td>8</td>\n",
       "      <td>16</td>\n",
       "      <td>32</td>\n",
       "    </tr>\n",
       "    <tr>\n",
       "      <td>2020-01-03</td>\n",
       "      <td>3</td>\n",
       "      <td>9</td>\n",
       "      <td>27</td>\n",
       "      <td>81</td>\n",
       "      <td>243</td>\n",
       "    </tr>\n",
       "    <tr>\n",
       "      <td>2020-01-06</td>\n",
       "      <td>4</td>\n",
       "      <td>16</td>\n",
       "      <td>64</td>\n",
       "      <td>256</td>\n",
       "      <td>1024</td>\n",
       "    </tr>\n",
       "    <tr>\n",
       "      <td>2020-01-07</td>\n",
       "      <td>5</td>\n",
       "      <td>25</td>\n",
       "      <td>125</td>\n",
       "      <td>625</td>\n",
       "      <td>3125</td>\n",
       "    </tr>\n",
       "    <tr>\n",
       "      <td>2020-01-08</td>\n",
       "      <td>6</td>\n",
       "      <td>36</td>\n",
       "      <td>216</td>\n",
       "      <td>1296</td>\n",
       "      <td>7776</td>\n",
       "    </tr>\n",
       "    <tr>\n",
       "      <td>2020-01-09</td>\n",
       "      <td>7</td>\n",
       "      <td>49</td>\n",
       "      <td>343</td>\n",
       "      <td>2401</td>\n",
       "      <td>16807</td>\n",
       "    </tr>\n",
       "    <tr>\n",
       "      <td>2020-01-10</td>\n",
       "      <td>8</td>\n",
       "      <td>64</td>\n",
       "      <td>512</td>\n",
       "      <td>4096</td>\n",
       "      <td>32768</td>\n",
       "    </tr>\n",
       "    <tr>\n",
       "      <td>2020-01-13</td>\n",
       "      <td>9</td>\n",
       "      <td>81</td>\n",
       "      <td>729</td>\n",
       "      <td>6561</td>\n",
       "      <td>59049</td>\n",
       "    </tr>\n",
       "    <tr>\n",
       "      <td>2020-01-14</td>\n",
       "      <td>10</td>\n",
       "      <td>100</td>\n",
       "      <td>1000</td>\n",
       "      <td>10000</td>\n",
       "      <td>100000</td>\n",
       "    </tr>\n",
       "  </tbody>\n",
       "</table>\n",
       "</div>"
      ],
      "text/plain": [
       "             x  x^2   x^3    x^4     x^5\n",
       "2020-01-01   1    1     1      1       1\n",
       "2020-01-02   2    4     8     16      32\n",
       "2020-01-03   3    9    27     81     243\n",
       "2020-01-06   4   16    64    256    1024\n",
       "2020-01-07   5   25   125    625    3125\n",
       "2020-01-08   6   36   216   1296    7776\n",
       "2020-01-09   7   49   343   2401   16807\n",
       "2020-01-10   8   64   512   4096   32768\n",
       "2020-01-13   9   81   729   6561   59049\n",
       "2020-01-14  10  100  1000  10000  100000"
      ]
     },
     "execution_count": 213,
     "metadata": {},
     "output_type": "execute_result"
    }
   ],
   "source": [
    "df_up_down = pd.concat([df_up, df_down])\n",
    "df_up_down"
   ]
  },
  {
   "cell_type": "code",
   "execution_count": 214,
   "metadata": {},
   "outputs": [
    {
     "data": {
      "text/plain": [
       "(10, 5)"
      ]
     },
     "execution_count": 214,
     "metadata": {},
     "output_type": "execute_result"
    }
   ],
   "source": [
    "df_up_down.shape"
   ]
  },
  {
   "cell_type": "markdown",
   "metadata": {},
   "source": [
    "As expected, `df_up_down` is simply given by the vertical stacking of `df_up` and `df_down`, with columns of the same name matched."
   ]
  },
  {
   "cell_type": "markdown",
   "metadata": {},
   "source": [
    "Let's now keep the same columns, but introducing an overlap in the rows "
   ]
  },
  {
   "cell_type": "code",
   "execution_count": 215,
   "metadata": {},
   "outputs": [
    {
     "data": {
      "text/html": [
       "<div>\n",
       "<style scoped>\n",
       "    .dataframe tbody tr th:only-of-type {\n",
       "        vertical-align: middle;\n",
       "    }\n",
       "\n",
       "    .dataframe tbody tr th {\n",
       "        vertical-align: top;\n",
       "    }\n",
       "\n",
       "    .dataframe thead th {\n",
       "        text-align: right;\n",
       "    }\n",
       "</style>\n",
       "<table border=\"1\" class=\"dataframe\">\n",
       "  <thead>\n",
       "    <tr style=\"text-align: right;\">\n",
       "      <th></th>\n",
       "      <th>x</th>\n",
       "      <th>x^2</th>\n",
       "      <th>x^3</th>\n",
       "      <th>x^4</th>\n",
       "      <th>x^5</th>\n",
       "    </tr>\n",
       "  </thead>\n",
       "  <tbody>\n",
       "    <tr>\n",
       "      <td>2020-01-01</td>\n",
       "      <td>1</td>\n",
       "      <td>1</td>\n",
       "      <td>1</td>\n",
       "      <td>1</td>\n",
       "      <td>1</td>\n",
       "    </tr>\n",
       "    <tr>\n",
       "      <td>2020-01-02</td>\n",
       "      <td>2</td>\n",
       "      <td>4</td>\n",
       "      <td>8</td>\n",
       "      <td>16</td>\n",
       "      <td>32</td>\n",
       "    </tr>\n",
       "    <tr>\n",
       "      <td>2020-01-03</td>\n",
       "      <td>3</td>\n",
       "      <td>9</td>\n",
       "      <td>27</td>\n",
       "      <td>81</td>\n",
       "      <td>243</td>\n",
       "    </tr>\n",
       "    <tr>\n",
       "      <td>2020-01-06</td>\n",
       "      <td>4</td>\n",
       "      <td>16</td>\n",
       "      <td>64</td>\n",
       "      <td>256</td>\n",
       "      <td>1024</td>\n",
       "    </tr>\n",
       "    <tr>\n",
       "      <td>2020-01-07</td>\n",
       "      <td>5</td>\n",
       "      <td>25</td>\n",
       "      <td>125</td>\n",
       "      <td>625</td>\n",
       "      <td>3125</td>\n",
       "    </tr>\n",
       "    <tr>\n",
       "      <td>2020-01-08</td>\n",
       "      <td>6</td>\n",
       "      <td>36</td>\n",
       "      <td>216</td>\n",
       "      <td>1296</td>\n",
       "      <td>7776</td>\n",
       "    </tr>\n",
       "  </tbody>\n",
       "</table>\n",
       "</div>"
      ],
      "text/plain": [
       "            x  x^2  x^3   x^4   x^5\n",
       "2020-01-01  1    1    1     1     1\n",
       "2020-01-02  2    4    8    16    32\n",
       "2020-01-03  3    9   27    81   243\n",
       "2020-01-06  4   16   64   256  1024\n",
       "2020-01-07  5   25  125   625  3125\n",
       "2020-01-08  6   36  216  1296  7776"
      ]
     },
     "execution_count": 215,
     "metadata": {},
     "output_type": "execute_result"
    }
   ],
   "source": [
    "df_up_overlap = df.loc[:'2020-01-08']\n",
    "df_up_overlap"
   ]
  },
  {
   "cell_type": "code",
   "execution_count": 216,
   "metadata": {},
   "outputs": [
    {
     "data": {
      "text/plain": [
       "(6, 5)"
      ]
     },
     "execution_count": 216,
     "metadata": {},
     "output_type": "execute_result"
    }
   ],
   "source": [
    "df_up_overlap.shape"
   ]
  },
  {
   "cell_type": "code",
   "execution_count": 217,
   "metadata": {
    "scrolled": true
   },
   "outputs": [
    {
     "data": {
      "text/html": [
       "<div>\n",
       "<style scoped>\n",
       "    .dataframe tbody tr th:only-of-type {\n",
       "        vertical-align: middle;\n",
       "    }\n",
       "\n",
       "    .dataframe tbody tr th {\n",
       "        vertical-align: top;\n",
       "    }\n",
       "\n",
       "    .dataframe thead th {\n",
       "        text-align: right;\n",
       "    }\n",
       "</style>\n",
       "<table border=\"1\" class=\"dataframe\">\n",
       "  <thead>\n",
       "    <tr style=\"text-align: right;\">\n",
       "      <th></th>\n",
       "      <th>x</th>\n",
       "      <th>x^2</th>\n",
       "      <th>x^3</th>\n",
       "      <th>x^4</th>\n",
       "      <th>x^5</th>\n",
       "    </tr>\n",
       "  </thead>\n",
       "  <tbody>\n",
       "    <tr>\n",
       "      <td>2020-01-06</td>\n",
       "      <td>4</td>\n",
       "      <td>16</td>\n",
       "      <td>64</td>\n",
       "      <td>256</td>\n",
       "      <td>1024</td>\n",
       "    </tr>\n",
       "    <tr>\n",
       "      <td>2020-01-07</td>\n",
       "      <td>5</td>\n",
       "      <td>25</td>\n",
       "      <td>125</td>\n",
       "      <td>625</td>\n",
       "      <td>3125</td>\n",
       "    </tr>\n",
       "    <tr>\n",
       "      <td>2020-01-08</td>\n",
       "      <td>6</td>\n",
       "      <td>36</td>\n",
       "      <td>216</td>\n",
       "      <td>1296</td>\n",
       "      <td>7776</td>\n",
       "    </tr>\n",
       "    <tr>\n",
       "      <td>2020-01-09</td>\n",
       "      <td>7</td>\n",
       "      <td>49</td>\n",
       "      <td>343</td>\n",
       "      <td>2401</td>\n",
       "      <td>16807</td>\n",
       "    </tr>\n",
       "    <tr>\n",
       "      <td>2020-01-10</td>\n",
       "      <td>8</td>\n",
       "      <td>64</td>\n",
       "      <td>512</td>\n",
       "      <td>4096</td>\n",
       "      <td>32768</td>\n",
       "    </tr>\n",
       "    <tr>\n",
       "      <td>2020-01-13</td>\n",
       "      <td>9</td>\n",
       "      <td>81</td>\n",
       "      <td>729</td>\n",
       "      <td>6561</td>\n",
       "      <td>59049</td>\n",
       "    </tr>\n",
       "    <tr>\n",
       "      <td>2020-01-14</td>\n",
       "      <td>10</td>\n",
       "      <td>100</td>\n",
       "      <td>1000</td>\n",
       "      <td>10000</td>\n",
       "      <td>100000</td>\n",
       "    </tr>\n",
       "  </tbody>\n",
       "</table>\n",
       "</div>"
      ],
      "text/plain": [
       "             x  x^2   x^3    x^4     x^5\n",
       "2020-01-06   4   16    64    256    1024\n",
       "2020-01-07   5   25   125    625    3125\n",
       "2020-01-08   6   36   216   1296    7776\n",
       "2020-01-09   7   49   343   2401   16807\n",
       "2020-01-10   8   64   512   4096   32768\n",
       "2020-01-13   9   81   729   6561   59049\n",
       "2020-01-14  10  100  1000  10000  100000"
      ]
     },
     "execution_count": 217,
     "metadata": {},
     "output_type": "execute_result"
    }
   ],
   "source": [
    "df_down_overlap = df.loc['2020-01-04':]\n",
    "df_down_overlap"
   ]
  },
  {
   "cell_type": "code",
   "execution_count": 218,
   "metadata": {},
   "outputs": [
    {
     "data": {
      "text/plain": [
       "(7, 5)"
      ]
     },
     "execution_count": 218,
     "metadata": {},
     "output_type": "execute_result"
    }
   ],
   "source": [
    "df_down_overlap.shape"
   ]
  },
  {
   "cell_type": "code",
   "execution_count": 219,
   "metadata": {},
   "outputs": [
    {
     "data": {
      "text/html": [
       "<div>\n",
       "<style scoped>\n",
       "    .dataframe tbody tr th:only-of-type {\n",
       "        vertical-align: middle;\n",
       "    }\n",
       "\n",
       "    .dataframe tbody tr th {\n",
       "        vertical-align: top;\n",
       "    }\n",
       "\n",
       "    .dataframe thead th {\n",
       "        text-align: right;\n",
       "    }\n",
       "</style>\n",
       "<table border=\"1\" class=\"dataframe\">\n",
       "  <thead>\n",
       "    <tr style=\"text-align: right;\">\n",
       "      <th></th>\n",
       "      <th>x</th>\n",
       "      <th>x^2</th>\n",
       "      <th>x^3</th>\n",
       "      <th>x^4</th>\n",
       "      <th>x^5</th>\n",
       "    </tr>\n",
       "  </thead>\n",
       "  <tbody>\n",
       "    <tr>\n",
       "      <td>2020-01-01</td>\n",
       "      <td>1</td>\n",
       "      <td>1</td>\n",
       "      <td>1</td>\n",
       "      <td>1</td>\n",
       "      <td>1</td>\n",
       "    </tr>\n",
       "    <tr>\n",
       "      <td>2020-01-02</td>\n",
       "      <td>2</td>\n",
       "      <td>4</td>\n",
       "      <td>8</td>\n",
       "      <td>16</td>\n",
       "      <td>32</td>\n",
       "    </tr>\n",
       "    <tr>\n",
       "      <td>2020-01-03</td>\n",
       "      <td>3</td>\n",
       "      <td>9</td>\n",
       "      <td>27</td>\n",
       "      <td>81</td>\n",
       "      <td>243</td>\n",
       "    </tr>\n",
       "    <tr>\n",
       "      <td>2020-01-06</td>\n",
       "      <td>4</td>\n",
       "      <td>16</td>\n",
       "      <td>64</td>\n",
       "      <td>256</td>\n",
       "      <td>1024</td>\n",
       "    </tr>\n",
       "    <tr>\n",
       "      <td>2020-01-07</td>\n",
       "      <td>5</td>\n",
       "      <td>25</td>\n",
       "      <td>125</td>\n",
       "      <td>625</td>\n",
       "      <td>3125</td>\n",
       "    </tr>\n",
       "    <tr>\n",
       "      <td>2020-01-08</td>\n",
       "      <td>6</td>\n",
       "      <td>36</td>\n",
       "      <td>216</td>\n",
       "      <td>1296</td>\n",
       "      <td>7776</td>\n",
       "    </tr>\n",
       "    <tr>\n",
       "      <td>2020-01-06</td>\n",
       "      <td>4</td>\n",
       "      <td>16</td>\n",
       "      <td>64</td>\n",
       "      <td>256</td>\n",
       "      <td>1024</td>\n",
       "    </tr>\n",
       "    <tr>\n",
       "      <td>2020-01-07</td>\n",
       "      <td>5</td>\n",
       "      <td>25</td>\n",
       "      <td>125</td>\n",
       "      <td>625</td>\n",
       "      <td>3125</td>\n",
       "    </tr>\n",
       "    <tr>\n",
       "      <td>2020-01-08</td>\n",
       "      <td>6</td>\n",
       "      <td>36</td>\n",
       "      <td>216</td>\n",
       "      <td>1296</td>\n",
       "      <td>7776</td>\n",
       "    </tr>\n",
       "    <tr>\n",
       "      <td>2020-01-09</td>\n",
       "      <td>7</td>\n",
       "      <td>49</td>\n",
       "      <td>343</td>\n",
       "      <td>2401</td>\n",
       "      <td>16807</td>\n",
       "    </tr>\n",
       "    <tr>\n",
       "      <td>2020-01-10</td>\n",
       "      <td>8</td>\n",
       "      <td>64</td>\n",
       "      <td>512</td>\n",
       "      <td>4096</td>\n",
       "      <td>32768</td>\n",
       "    </tr>\n",
       "    <tr>\n",
       "      <td>2020-01-13</td>\n",
       "      <td>9</td>\n",
       "      <td>81</td>\n",
       "      <td>729</td>\n",
       "      <td>6561</td>\n",
       "      <td>59049</td>\n",
       "    </tr>\n",
       "    <tr>\n",
       "      <td>2020-01-14</td>\n",
       "      <td>10</td>\n",
       "      <td>100</td>\n",
       "      <td>1000</td>\n",
       "      <td>10000</td>\n",
       "      <td>100000</td>\n",
       "    </tr>\n",
       "  </tbody>\n",
       "</table>\n",
       "</div>"
      ],
      "text/plain": [
       "             x  x^2   x^3    x^4     x^5\n",
       "2020-01-01   1    1     1      1       1\n",
       "2020-01-02   2    4     8     16      32\n",
       "2020-01-03   3    9    27     81     243\n",
       "2020-01-06   4   16    64    256    1024\n",
       "2020-01-07   5   25   125    625    3125\n",
       "2020-01-08   6   36   216   1296    7776\n",
       "2020-01-06   4   16    64    256    1024\n",
       "2020-01-07   5   25   125    625    3125\n",
       "2020-01-08   6   36   216   1296    7776\n",
       "2020-01-09   7   49   343   2401   16807\n",
       "2020-01-10   8   64   512   4096   32768\n",
       "2020-01-13   9   81   729   6561   59049\n",
       "2020-01-14  10  100  1000  10000  100000"
      ]
     },
     "execution_count": 219,
     "metadata": {},
     "output_type": "execute_result"
    }
   ],
   "source": [
    "df_up_down_overlap = pd.concat([df_up_overlap, df_down_overlap])\n",
    "df_up_down_overlap"
   ]
  },
  {
   "cell_type": "code",
   "execution_count": 220,
   "metadata": {},
   "outputs": [
    {
     "data": {
      "text/plain": [
       "(13, 5)"
      ]
     },
     "execution_count": 220,
     "metadata": {},
     "output_type": "execute_result"
    }
   ],
   "source": [
    "df_up_down_overlap.shape"
   ]
  },
  {
   "cell_type": "markdown",
   "metadata": {},
   "source": [
    "Notice that indexes are simply stacked one over the other, such that the resulting `df_up_down_overlap` DataFrame has repeated indexes: '2020-01-06', '2020-01-07' and '2020-01-08'."
   ]
  },
  {
   "cell_type": "markdown",
   "metadata": {},
   "source": [
    "#### 2.7.1.2. Horizontal concatenation: `pd.concat(..., axis=1)` <a name=\"df_data_concat_1\"></a>"
   ]
  },
  {
   "cell_type": "markdown",
   "metadata": {},
   "source": [
    "We now consider _horizontal_ concatenation. We consider `df_refData` DataFrame and another DataFrame `df_otherRefData` with additional reference data for some firms"
   ]
  },
  {
   "cell_type": "code",
   "execution_count": 221,
   "metadata": {},
   "outputs": [
    {
     "data": {
      "text/html": [
       "<div>\n",
       "<style scoped>\n",
       "    .dataframe tbody tr th:only-of-type {\n",
       "        vertical-align: middle;\n",
       "    }\n",
       "\n",
       "    .dataframe tbody tr th {\n",
       "        vertical-align: top;\n",
       "    }\n",
       "\n",
       "    .dataframe thead th {\n",
       "        text-align: right;\n",
       "    }\n",
       "</style>\n",
       "<table border=\"1\" class=\"dataframe\">\n",
       "  <thead>\n",
       "    <tr style=\"text-align: right;\">\n",
       "      <th></th>\n",
       "      <th>S&amp;P Rating</th>\n",
       "      <th>Spread</th>\n",
       "      <th>Country</th>\n",
       "      <th>Market Cap</th>\n",
       "      <th>isBlueChip</th>\n",
       "    </tr>\n",
       "  </thead>\n",
       "  <tbody>\n",
       "    <tr>\n",
       "      <td>Firm_1</td>\n",
       "      <td>A</td>\n",
       "      <td>100</td>\n",
       "      <td>USA</td>\n",
       "      <td>430.00</td>\n",
       "      <td>True</td>\n",
       "    </tr>\n",
       "    <tr>\n",
       "      <td>Firm_2</td>\n",
       "      <td>BB</td>\n",
       "      <td>300</td>\n",
       "      <td>ITA</td>\n",
       "      <td>45.00</td>\n",
       "      <td>False</td>\n",
       "    </tr>\n",
       "    <tr>\n",
       "      <td>Firm_3</td>\n",
       "      <td>AA</td>\n",
       "      <td>70</td>\n",
       "      <td>UK</td>\n",
       "      <td>161.25</td>\n",
       "      <td>True</td>\n",
       "    </tr>\n",
       "    <tr>\n",
       "      <td>Firm_4</td>\n",
       "      <td>CCC</td>\n",
       "      <td>700</td>\n",
       "      <td>ITA</td>\n",
       "      <td>5.00</td>\n",
       "      <td>False</td>\n",
       "    </tr>\n",
       "  </tbody>\n",
       "</table>\n",
       "</div>"
      ],
      "text/plain": [
       "       S&P Rating  Spread Country  Market Cap  isBlueChip\n",
       "Firm_1          A     100     USA      430.00        True\n",
       "Firm_2         BB     300     ITA       45.00       False\n",
       "Firm_3         AA      70      UK      161.25        True\n",
       "Firm_4        CCC     700     ITA        5.00       False"
      ]
     },
     "execution_count": 221,
     "metadata": {},
     "output_type": "execute_result"
    }
   ],
   "source": [
    "df_refData"
   ]
  },
  {
   "cell_type": "code",
   "execution_count": 222,
   "metadata": {},
   "outputs": [
    {
     "data": {
      "text/html": [
       "<div>\n",
       "<style scoped>\n",
       "    .dataframe tbody tr th:only-of-type {\n",
       "        vertical-align: middle;\n",
       "    }\n",
       "\n",
       "    .dataframe tbody tr th {\n",
       "        vertical-align: top;\n",
       "    }\n",
       "\n",
       "    .dataframe thead th {\n",
       "        text-align: right;\n",
       "    }\n",
       "</style>\n",
       "<table border=\"1\" class=\"dataframe\">\n",
       "  <thead>\n",
       "    <tr style=\"text-align: right;\">\n",
       "      <th></th>\n",
       "      <th>Moody's Rating</th>\n",
       "      <th>Fitch Rating</th>\n",
       "    </tr>\n",
       "  </thead>\n",
       "  <tbody>\n",
       "    <tr>\n",
       "      <td>Firm_1</td>\n",
       "      <td>A2</td>\n",
       "      <td>A</td>\n",
       "    </tr>\n",
       "    <tr>\n",
       "      <td>Firm_2</td>\n",
       "      <td>Ba2</td>\n",
       "      <td>BB</td>\n",
       "    </tr>\n",
       "    <tr>\n",
       "      <td>Firm_3</td>\n",
       "      <td>Aa2</td>\n",
       "      <td>AA</td>\n",
       "    </tr>\n",
       "    <tr>\n",
       "      <td>Firm_4</td>\n",
       "      <td>Caa2</td>\n",
       "      <td>CCC</td>\n",
       "    </tr>\n",
       "  </tbody>\n",
       "</table>\n",
       "</div>"
      ],
      "text/plain": [
       "       Moody's Rating Fitch Rating\n",
       "Firm_1             A2            A\n",
       "Firm_2            Ba2           BB\n",
       "Firm_3            Aa2           AA\n",
       "Firm_4           Caa2          CCC"
      ]
     },
     "execution_count": 222,
     "metadata": {},
     "output_type": "execute_result"
    }
   ],
   "source": [
    "df_otherRefData = pd.DataFrame(\n",
    "                    data={\n",
    "                        \"Moody's Rating\": ['A2', 'Ba2', 'Aa2', 'Caa2'], # notice use of \"\" to allow apostrophe ' in string\n",
    "                        'Fitch Rating': ['A', 'BB', 'AA', 'CCC']\n",
    "                    },\n",
    "                    index=['Firm_1', 'Firm_2', 'Firm_3', 'Firm_4'])\n",
    "\n",
    "df_otherRefData"
   ]
  },
  {
   "cell_type": "code",
   "execution_count": 223,
   "metadata": {},
   "outputs": [
    {
     "data": {
      "text/plain": [
       "(4, 2)"
      ]
     },
     "execution_count": 223,
     "metadata": {},
     "output_type": "execute_result"
    }
   ],
   "source": [
    "df_otherRefData.shape"
   ]
  },
  {
   "cell_type": "markdown",
   "metadata": {},
   "source": [
    "Notice that `df_otherRefData` and `df_refData` share the same rows and do not have overlapping columns. Let's concatenate them one next to the other"
   ]
  },
  {
   "cell_type": "code",
   "execution_count": 224,
   "metadata": {
    "scrolled": true
   },
   "outputs": [
    {
     "data": {
      "text/html": [
       "<div>\n",
       "<style scoped>\n",
       "    .dataframe tbody tr th:only-of-type {\n",
       "        vertical-align: middle;\n",
       "    }\n",
       "\n",
       "    .dataframe tbody tr th {\n",
       "        vertical-align: top;\n",
       "    }\n",
       "\n",
       "    .dataframe thead th {\n",
       "        text-align: right;\n",
       "    }\n",
       "</style>\n",
       "<table border=\"1\" class=\"dataframe\">\n",
       "  <thead>\n",
       "    <tr style=\"text-align: right;\">\n",
       "      <th></th>\n",
       "      <th>S&amp;P Rating</th>\n",
       "      <th>Spread</th>\n",
       "      <th>Country</th>\n",
       "      <th>Market Cap</th>\n",
       "      <th>isBlueChip</th>\n",
       "      <th>Moody's Rating</th>\n",
       "      <th>Fitch Rating</th>\n",
       "    </tr>\n",
       "  </thead>\n",
       "  <tbody>\n",
       "    <tr>\n",
       "      <td>Firm_1</td>\n",
       "      <td>A</td>\n",
       "      <td>100</td>\n",
       "      <td>USA</td>\n",
       "      <td>430.00</td>\n",
       "      <td>True</td>\n",
       "      <td>A2</td>\n",
       "      <td>A</td>\n",
       "    </tr>\n",
       "    <tr>\n",
       "      <td>Firm_2</td>\n",
       "      <td>BB</td>\n",
       "      <td>300</td>\n",
       "      <td>ITA</td>\n",
       "      <td>45.00</td>\n",
       "      <td>False</td>\n",
       "      <td>Ba2</td>\n",
       "      <td>BB</td>\n",
       "    </tr>\n",
       "    <tr>\n",
       "      <td>Firm_3</td>\n",
       "      <td>AA</td>\n",
       "      <td>70</td>\n",
       "      <td>UK</td>\n",
       "      <td>161.25</td>\n",
       "      <td>True</td>\n",
       "      <td>Aa2</td>\n",
       "      <td>AA</td>\n",
       "    </tr>\n",
       "    <tr>\n",
       "      <td>Firm_4</td>\n",
       "      <td>CCC</td>\n",
       "      <td>700</td>\n",
       "      <td>ITA</td>\n",
       "      <td>5.00</td>\n",
       "      <td>False</td>\n",
       "      <td>Caa2</td>\n",
       "      <td>CCC</td>\n",
       "    </tr>\n",
       "  </tbody>\n",
       "</table>\n",
       "</div>"
      ],
      "text/plain": [
       "       S&P Rating  Spread Country  Market Cap  isBlueChip Moody's Rating  \\\n",
       "Firm_1          A     100     USA      430.00        True             A2   \n",
       "Firm_2         BB     300     ITA       45.00       False            Ba2   \n",
       "Firm_3         AA      70      UK      161.25        True            Aa2   \n",
       "Firm_4        CCC     700     ITA        5.00       False           Caa2   \n",
       "\n",
       "       Fitch Rating  \n",
       "Firm_1            A  \n",
       "Firm_2           BB  \n",
       "Firm_3           AA  \n",
       "Firm_4          CCC  "
      ]
     },
     "execution_count": 224,
     "metadata": {},
     "output_type": "execute_result"
    }
   ],
   "source": [
    "df_completeRefData = pd.concat([df_refData, df_otherRefData], axis=1)\n",
    "df_completeRefData"
   ]
  },
  {
   "cell_type": "code",
   "execution_count": 225,
   "metadata": {},
   "outputs": [
    {
     "data": {
      "text/plain": [
       "(4, 7)"
      ]
     },
     "execution_count": 225,
     "metadata": {},
     "output_type": "execute_result"
    }
   ],
   "source": [
    "df_completeRefData.shape"
   ]
  },
  {
   "cell_type": "markdown",
   "metadata": {},
   "source": [
    "As expected, `df_completeRefData` is simply given by the horizontal stacking of `df_refData` and `df_otherRefData`, with common indexes matched."
   ]
  },
  {
   "cell_type": "markdown",
   "metadata": {},
   "source": [
    "Let's now keep the same indexes, but introducing an overlap in the columns, such that `Spread` column is shared by both `df_refData` and `df_otherRefData_overlap`"
   ]
  },
  {
   "cell_type": "code",
   "execution_count": 226,
   "metadata": {},
   "outputs": [
    {
     "data": {
      "text/html": [
       "<div>\n",
       "<style scoped>\n",
       "    .dataframe tbody tr th:only-of-type {\n",
       "        vertical-align: middle;\n",
       "    }\n",
       "\n",
       "    .dataframe tbody tr th {\n",
       "        vertical-align: top;\n",
       "    }\n",
       "\n",
       "    .dataframe thead th {\n",
       "        text-align: right;\n",
       "    }\n",
       "</style>\n",
       "<table border=\"1\" class=\"dataframe\">\n",
       "  <thead>\n",
       "    <tr style=\"text-align: right;\">\n",
       "      <th></th>\n",
       "      <th>Moody's Rating</th>\n",
       "      <th>Fitch Rating</th>\n",
       "      <th>Spread</th>\n",
       "    </tr>\n",
       "  </thead>\n",
       "  <tbody>\n",
       "    <tr>\n",
       "      <td>Firm_1</td>\n",
       "      <td>A2</td>\n",
       "      <td>A</td>\n",
       "      <td>100</td>\n",
       "    </tr>\n",
       "    <tr>\n",
       "      <td>Firm_2</td>\n",
       "      <td>Ba2</td>\n",
       "      <td>BB</td>\n",
       "      <td>300</td>\n",
       "    </tr>\n",
       "    <tr>\n",
       "      <td>Firm_3</td>\n",
       "      <td>Aa2</td>\n",
       "      <td>AA</td>\n",
       "      <td>70</td>\n",
       "    </tr>\n",
       "    <tr>\n",
       "      <td>Firm_4</td>\n",
       "      <td>Caa2</td>\n",
       "      <td>CCC</td>\n",
       "      <td>700</td>\n",
       "    </tr>\n",
       "  </tbody>\n",
       "</table>\n",
       "</div>"
      ],
      "text/plain": [
       "       Moody's Rating Fitch Rating  Spread\n",
       "Firm_1             A2            A     100\n",
       "Firm_2            Ba2           BB     300\n",
       "Firm_3            Aa2           AA      70\n",
       "Firm_4           Caa2          CCC     700"
      ]
     },
     "execution_count": 226,
     "metadata": {},
     "output_type": "execute_result"
    }
   ],
   "source": [
    "df_otherRefData_overlap = pd.DataFrame(\n",
    "                             data={\n",
    "                                   \"Moody's Rating\": ['A2', 'Ba2', 'Aa2', 'Caa2'],\n",
    "                                   'Fitch Rating': ['A', 'BB', 'AA', 'CCC'],\n",
    "                                   'Spread': [100, 300, 70, 700]\n",
    "                                  },\n",
    "                             index=['Firm_1', 'Firm_2', 'Firm_3', 'Firm_4'])\n",
    "\n",
    "df_otherRefData_overlap"
   ]
  },
  {
   "cell_type": "code",
   "execution_count": 227,
   "metadata": {},
   "outputs": [
    {
     "data": {
      "text/plain": [
       "(4, 3)"
      ]
     },
     "execution_count": 227,
     "metadata": {},
     "output_type": "execute_result"
    }
   ],
   "source": [
    "df_otherRefData_overlap.shape"
   ]
  },
  {
   "cell_type": "code",
   "execution_count": 228,
   "metadata": {},
   "outputs": [
    {
     "data": {
      "text/html": [
       "<div>\n",
       "<style scoped>\n",
       "    .dataframe tbody tr th:only-of-type {\n",
       "        vertical-align: middle;\n",
       "    }\n",
       "\n",
       "    .dataframe tbody tr th {\n",
       "        vertical-align: top;\n",
       "    }\n",
       "\n",
       "    .dataframe thead th {\n",
       "        text-align: right;\n",
       "    }\n",
       "</style>\n",
       "<table border=\"1\" class=\"dataframe\">\n",
       "  <thead>\n",
       "    <tr style=\"text-align: right;\">\n",
       "      <th></th>\n",
       "      <th>S&amp;P Rating</th>\n",
       "      <th>Spread</th>\n",
       "      <th>Country</th>\n",
       "      <th>Market Cap</th>\n",
       "      <th>isBlueChip</th>\n",
       "      <th>Moody's Rating</th>\n",
       "      <th>Fitch Rating</th>\n",
       "      <th>Spread</th>\n",
       "    </tr>\n",
       "  </thead>\n",
       "  <tbody>\n",
       "    <tr>\n",
       "      <td>Firm_1</td>\n",
       "      <td>A</td>\n",
       "      <td>100</td>\n",
       "      <td>USA</td>\n",
       "      <td>430.00</td>\n",
       "      <td>True</td>\n",
       "      <td>A2</td>\n",
       "      <td>A</td>\n",
       "      <td>100</td>\n",
       "    </tr>\n",
       "    <tr>\n",
       "      <td>Firm_2</td>\n",
       "      <td>BB</td>\n",
       "      <td>300</td>\n",
       "      <td>ITA</td>\n",
       "      <td>45.00</td>\n",
       "      <td>False</td>\n",
       "      <td>Ba2</td>\n",
       "      <td>BB</td>\n",
       "      <td>300</td>\n",
       "    </tr>\n",
       "    <tr>\n",
       "      <td>Firm_3</td>\n",
       "      <td>AA</td>\n",
       "      <td>70</td>\n",
       "      <td>UK</td>\n",
       "      <td>161.25</td>\n",
       "      <td>True</td>\n",
       "      <td>Aa2</td>\n",
       "      <td>AA</td>\n",
       "      <td>70</td>\n",
       "    </tr>\n",
       "    <tr>\n",
       "      <td>Firm_4</td>\n",
       "      <td>CCC</td>\n",
       "      <td>700</td>\n",
       "      <td>ITA</td>\n",
       "      <td>5.00</td>\n",
       "      <td>False</td>\n",
       "      <td>Caa2</td>\n",
       "      <td>CCC</td>\n",
       "      <td>700</td>\n",
       "    </tr>\n",
       "  </tbody>\n",
       "</table>\n",
       "</div>"
      ],
      "text/plain": [
       "       S&P Rating  Spread Country  Market Cap  isBlueChip Moody's Rating  \\\n",
       "Firm_1          A     100     USA      430.00        True             A2   \n",
       "Firm_2         BB     300     ITA       45.00       False            Ba2   \n",
       "Firm_3         AA      70      UK      161.25        True            Aa2   \n",
       "Firm_4        CCC     700     ITA        5.00       False           Caa2   \n",
       "\n",
       "       Fitch Rating  Spread  \n",
       "Firm_1            A     100  \n",
       "Firm_2           BB     300  \n",
       "Firm_3           AA      70  \n",
       "Firm_4          CCC     700  "
      ]
     },
     "execution_count": 228,
     "metadata": {},
     "output_type": "execute_result"
    }
   ],
   "source": [
    "df_completeRefData_overlap = pd.concat([df_refData, df_otherRefData_overlap], axis=1)\n",
    "df_completeRefData_overlap"
   ]
  },
  {
   "cell_type": "code",
   "execution_count": 229,
   "metadata": {},
   "outputs": [
    {
     "data": {
      "text/plain": [
       "(4, 3)"
      ]
     },
     "execution_count": 229,
     "metadata": {},
     "output_type": "execute_result"
    }
   ],
   "source": [
    "df_otherRefData_overlap.shape"
   ]
  },
  {
   "cell_type": "markdown",
   "metadata": {},
   "source": [
    "Notice that columns are simply stacked one next to the other, such that the resulting `df_otherRefData_overlap` DataFrame has repeated column: `'Spread'`."
   ]
  },
  {
   "cell_type": "markdown",
   "metadata": {},
   "source": [
    "We have only scratched the surface of the concatenation possibilities offered by Pandas, a good further reading can be found in the [user guide: Concatenating objects](https://pandas.pydata.org/pandas-docs/stable/user_guide/merging.html#concatenating-objects)."
   ]
  },
  {
   "cell_type": "markdown",
   "metadata": {},
   "source": [
    "**Take-home message**: we typically use concatenation when we have two DataFrames that are clearly complementary. For example, \n",
    "\n",
    "- you might need to _vertically_ concatenate datasets of the same kind of data that you have downloaded sequentially and that thus have consecutive and non-overallaping Dates indexes, like `df_up` and `df_down` in our example. In this case it may be useful to vertically stack the two, to have a longer historical time series of data.\n",
    "\n",
    "\n",
    "- you might need to _horizontally_ concatenate two reference data datasets, both containing reference data for the same set of entities, but one containing some reference data, like `'S&P Rating'`, and the other one, complementary reference data, like `\"Moody's Rating\"` and `'Fitch Rating'`. And thus the two sets of columns are non-overlapping. In this case it may be useful to horizontally stack the two, to have a more complete dataset for each instrument.\n",
    "\n",
    "If you have overlaps in indexes and/or columns, you probably should be looking for a `.join()` of the two DataFrames..."
   ]
  },
  {
   "cell_type": "markdown",
   "metadata": {},
   "source": [
    "### 2.7.2. Joining DataFrames: `.join()` and `pd.merge()` <a name=\"df_data_join_and_merge\"></a>"
   ]
  },
  {
   "cell_type": "markdown",
   "metadata": {},
   "source": [
    "Pandas has a lot of built-in functionalities to do in-memory join operations between datasets, in most aspects similiar to relational databases like SQL. [Function `pd.merge()`](https://pandas.pydata.org/docs/reference/api/pandas.merge.html#pandas.merge) is the the most general entry point for all standard database join operations between DataFrames (or Series). The related [`.join()` method](https://pandas.pydata.org/docs/reference/api/pandas.DataFrame.join.html#pandas.DataFrame.join) (which uses `pd.merge()` internally) of a DataFrame object is, instead, more specifically oriented toward index-on-index and column(s)-on-index join."
   ]
  },
  {
   "cell_type": "markdown",
   "metadata": {},
   "source": [
    "In this section we analyze a couple of common join situations you may encounter in your daily activities and how to tackle them."
   ]
  },
  {
   "cell_type": "markdown",
   "metadata": {},
   "source": [
    "#### 2.7.2.1. Index-on-index join: `df1.join(df2[,how])` <a name=\"df_data_join_ind\"></a>"
   ]
  },
  {
   "cell_type": "markdown",
   "metadata": {},
   "source": [
    "`.join()` is a convenient method for combining the columns of two potentially differently-indexed DataFrames into a single result DataFrame. A good further reading can be found in the the [user guide: Joining on index](https://pandas.pydata.org/docs/user_guide/merging.html#joining-on-index). "
   ]
  },
  {
   "cell_type": "markdown",
   "metadata": {},
   "source": [
    "If you have two DataFrames, say `df1` and `df2`, you can combine them into a single DataFrame using [method `join()`](https://pandas.pydata.org/docs/reference/api/pandas.DataFrame.join.html#pandas.DataFrame.join) applied to `df1` and providing `df2` in input. Basic syntax is \n",
    "\n",
    "```python\n",
    "df1.join(df2, how='left')\n",
    "```\n",
    "\n",
    "which joins `df1` with `df2` on the base of their indexes. Parameter `how` can take the following values:\n",
    "\n",
    "- `'left'`, default, which uses `df1` indexes to do a _left-join_ on `df2` indexes, or \n",
    "- `'right'`, which uses `df2` indexes to do a left-join on `df1` indexes (equivalent to `df2.join(df1, how='left')`), or \n",
    "- `'inner'`, which uses indexes in common (the intersection of) between `df1` and `df2` to do an _inner-join_ of `df1` and `df2` indexes, or \n",
    "- `'outer'`, which uses both indexes of (the union of) `df1` and `df2` to do an _outer-join_ of `df1` and `df2` indexes.\n",
    "\n",
    "there is another relevant parameter, `on`, which can be omitted in an index-on-index situation and that we will introduce in the next section when talking about index-on-column join."
   ]
  },
  {
   "cell_type": "markdown",
   "metadata": {},
   "source": [
    "We consider our DataFrame `df_refData` which stores some reference data information for `Firm_1`, `Firm_2`, `Firm_3` and `Firm_4`, which are used as indexes. "
   ]
  },
  {
   "cell_type": "code",
   "execution_count": 230,
   "metadata": {},
   "outputs": [
    {
     "data": {
      "text/html": [
       "<div>\n",
       "<style scoped>\n",
       "    .dataframe tbody tr th:only-of-type {\n",
       "        vertical-align: middle;\n",
       "    }\n",
       "\n",
       "    .dataframe tbody tr th {\n",
       "        vertical-align: top;\n",
       "    }\n",
       "\n",
       "    .dataframe thead th {\n",
       "        text-align: right;\n",
       "    }\n",
       "</style>\n",
       "<table border=\"1\" class=\"dataframe\">\n",
       "  <thead>\n",
       "    <tr style=\"text-align: right;\">\n",
       "      <th></th>\n",
       "      <th>S&amp;P Rating</th>\n",
       "      <th>Spread</th>\n",
       "      <th>Country</th>\n",
       "      <th>Market Cap</th>\n",
       "      <th>isBlueChip</th>\n",
       "    </tr>\n",
       "  </thead>\n",
       "  <tbody>\n",
       "    <tr>\n",
       "      <td>Firm_1</td>\n",
       "      <td>A</td>\n",
       "      <td>100</td>\n",
       "      <td>USA</td>\n",
       "      <td>430.00</td>\n",
       "      <td>True</td>\n",
       "    </tr>\n",
       "    <tr>\n",
       "      <td>Firm_2</td>\n",
       "      <td>BB</td>\n",
       "      <td>300</td>\n",
       "      <td>ITA</td>\n",
       "      <td>45.00</td>\n",
       "      <td>False</td>\n",
       "    </tr>\n",
       "    <tr>\n",
       "      <td>Firm_3</td>\n",
       "      <td>AA</td>\n",
       "      <td>70</td>\n",
       "      <td>UK</td>\n",
       "      <td>161.25</td>\n",
       "      <td>True</td>\n",
       "    </tr>\n",
       "    <tr>\n",
       "      <td>Firm_4</td>\n",
       "      <td>CCC</td>\n",
       "      <td>700</td>\n",
       "      <td>ITA</td>\n",
       "      <td>5.00</td>\n",
       "      <td>False</td>\n",
       "    </tr>\n",
       "  </tbody>\n",
       "</table>\n",
       "</div>"
      ],
      "text/plain": [
       "       S&P Rating  Spread Country  Market Cap  isBlueChip\n",
       "Firm_1          A     100     USA      430.00        True\n",
       "Firm_2         BB     300     ITA       45.00       False\n",
       "Firm_3         AA      70      UK      161.25        True\n",
       "Firm_4        CCC     700     ITA        5.00       False"
      ]
     },
     "execution_count": 230,
     "metadata": {},
     "output_type": "execute_result"
    }
   ],
   "source": [
    "df_refData"
   ]
  },
  {
   "cell_type": "markdown",
   "metadata": {},
   "source": [
    "We then define another DataFrame, `df_otherRefData`, can be used to complement `df_refData` informations on Moody's and Fitch ratings."
   ]
  },
  {
   "cell_type": "code",
   "execution_count": 231,
   "metadata": {},
   "outputs": [
    {
     "data": {
      "text/html": [
       "<div>\n",
       "<style scoped>\n",
       "    .dataframe tbody tr th:only-of-type {\n",
       "        vertical-align: middle;\n",
       "    }\n",
       "\n",
       "    .dataframe tbody tr th {\n",
       "        vertical-align: top;\n",
       "    }\n",
       "\n",
       "    .dataframe thead th {\n",
       "        text-align: right;\n",
       "    }\n",
       "</style>\n",
       "<table border=\"1\" class=\"dataframe\">\n",
       "  <thead>\n",
       "    <tr style=\"text-align: right;\">\n",
       "      <th></th>\n",
       "      <th>Moody's Rating</th>\n",
       "      <th>Fitch Rating</th>\n",
       "    </tr>\n",
       "  </thead>\n",
       "  <tbody>\n",
       "    <tr>\n",
       "      <td>Firm_3</td>\n",
       "      <td>Aa2</td>\n",
       "      <td>AA</td>\n",
       "    </tr>\n",
       "    <tr>\n",
       "      <td>Firm_4</td>\n",
       "      <td>Caa2</td>\n",
       "      <td>CCC</td>\n",
       "    </tr>\n",
       "    <tr>\n",
       "      <td>Firm_1</td>\n",
       "      <td>A2</td>\n",
       "      <td>A</td>\n",
       "    </tr>\n",
       "    <tr>\n",
       "      <td>Firm_5</td>\n",
       "      <td>Aaa</td>\n",
       "      <td>AAA</td>\n",
       "    </tr>\n",
       "    <tr>\n",
       "      <td>Firm_6</td>\n",
       "      <td>Aa3</td>\n",
       "      <td>AA-</td>\n",
       "    </tr>\n",
       "  </tbody>\n",
       "</table>\n",
       "</div>"
      ],
      "text/plain": [
       "       Moody's Rating Fitch Rating\n",
       "Firm_3            Aa2           AA\n",
       "Firm_4           Caa2          CCC\n",
       "Firm_1             A2            A\n",
       "Firm_5            Aaa          AAA\n",
       "Firm_6            Aa3          AA-"
      ]
     },
     "execution_count": 231,
     "metadata": {},
     "output_type": "execute_result"
    }
   ],
   "source": [
    "df_otherRefData = pd.DataFrame(\n",
    "                    data={\n",
    "                        \"Moody's Rating\": ['Aa2', 'Caa2', 'A2', 'Aaa', 'Aa3'], # \"\" allows use of apostrophe ' in string\n",
    "                        'Fitch Rating': ['AA', 'CCC', 'A', 'AAA', 'AA-']\n",
    "                    },\n",
    "                    index=['Firm_3', 'Firm_4', 'Firm_1', 'Firm_5', 'Firm_6'])\n",
    "\n",
    "df_otherRefData"
   ]
  },
  {
   "cell_type": "markdown",
   "metadata": {},
   "source": [
    "Notice that `df_otherRefData` has informations on: \n",
    "- `Firm_1`, `Firm_3`, `Firm_4`, indexes shared with `df_refData`;\n",
    "- new firms `Firm_5` and `Firm_6`;\n",
    "- but doesn't have data for `Firm_2`."
   ]
  },
  {
   "cell_type": "markdown",
   "metadata": {},
   "source": [
    "We now consider a [left-join](https://en.wikipedia.org/wiki/Join_(SQL)#Left_outer_join) of `df_refData` indexes on `df_otherRefData`. In other words, we want to keep all the rows of `df_refData` and complete them with those included in `df_otherRefData`, when available, on the bases of their shared indexes."
   ]
  },
  {
   "cell_type": "code",
   "execution_count": 232,
   "metadata": {},
   "outputs": [
    {
     "data": {
      "text/html": [
       "<div>\n",
       "<style scoped>\n",
       "    .dataframe tbody tr th:only-of-type {\n",
       "        vertical-align: middle;\n",
       "    }\n",
       "\n",
       "    .dataframe tbody tr th {\n",
       "        vertical-align: top;\n",
       "    }\n",
       "\n",
       "    .dataframe thead th {\n",
       "        text-align: right;\n",
       "    }\n",
       "</style>\n",
       "<table border=\"1\" class=\"dataframe\">\n",
       "  <thead>\n",
       "    <tr style=\"text-align: right;\">\n",
       "      <th></th>\n",
       "      <th>S&amp;P Rating</th>\n",
       "      <th>Spread</th>\n",
       "      <th>Country</th>\n",
       "      <th>Market Cap</th>\n",
       "      <th>isBlueChip</th>\n",
       "      <th>Moody's Rating</th>\n",
       "      <th>Fitch Rating</th>\n",
       "    </tr>\n",
       "  </thead>\n",
       "  <tbody>\n",
       "    <tr>\n",
       "      <td>Firm_1</td>\n",
       "      <td>A</td>\n",
       "      <td>100</td>\n",
       "      <td>USA</td>\n",
       "      <td>430.00</td>\n",
       "      <td>True</td>\n",
       "      <td>A2</td>\n",
       "      <td>A</td>\n",
       "    </tr>\n",
       "    <tr>\n",
       "      <td>Firm_2</td>\n",
       "      <td>BB</td>\n",
       "      <td>300</td>\n",
       "      <td>ITA</td>\n",
       "      <td>45.00</td>\n",
       "      <td>False</td>\n",
       "      <td>NaN</td>\n",
       "      <td>NaN</td>\n",
       "    </tr>\n",
       "    <tr>\n",
       "      <td>Firm_3</td>\n",
       "      <td>AA</td>\n",
       "      <td>70</td>\n",
       "      <td>UK</td>\n",
       "      <td>161.25</td>\n",
       "      <td>True</td>\n",
       "      <td>Aa2</td>\n",
       "      <td>AA</td>\n",
       "    </tr>\n",
       "    <tr>\n",
       "      <td>Firm_4</td>\n",
       "      <td>CCC</td>\n",
       "      <td>700</td>\n",
       "      <td>ITA</td>\n",
       "      <td>5.00</td>\n",
       "      <td>False</td>\n",
       "      <td>Caa2</td>\n",
       "      <td>CCC</td>\n",
       "    </tr>\n",
       "  </tbody>\n",
       "</table>\n",
       "</div>"
      ],
      "text/plain": [
       "       S&P Rating  Spread Country  Market Cap  isBlueChip Moody's Rating  \\\n",
       "Firm_1          A     100     USA      430.00        True             A2   \n",
       "Firm_2         BB     300     ITA       45.00       False            NaN   \n",
       "Firm_3         AA      70      UK      161.25        True            Aa2   \n",
       "Firm_4        CCC     700     ITA        5.00       False           Caa2   \n",
       "\n",
       "       Fitch Rating  \n",
       "Firm_1            A  \n",
       "Firm_2          NaN  \n",
       "Firm_3           AA  \n",
       "Firm_4          CCC  "
      ]
     },
     "execution_count": 232,
     "metadata": {},
     "output_type": "execute_result"
    }
   ],
   "source": [
    "df_refData.join(df_otherRefData, how='left')"
   ]
  },
  {
   "cell_type": "markdown",
   "metadata": {},
   "source": [
    "Notice that the DataFrame returned has all - and only - the indexes (and rows) of `df_refData`, with data completed with `'Moody's' Rating` and `'Fitch Rating'` additional columns, coming from `df_otherRefData`. Data for `Firm_2`, which are missing in `df_otherRefData`, are marked as `NaN` in the output DataFrame."
   ]
  },
  {
   "cell_type": "markdown",
   "metadata": {},
   "source": [
    "Notice also that `how` parameter is `how='left'` by default and then can be omitted in the case of a left-join operation as this one"
   ]
  },
  {
   "cell_type": "code",
   "execution_count": 233,
   "metadata": {},
   "outputs": [
    {
     "data": {
      "text/html": [
       "<div>\n",
       "<style scoped>\n",
       "    .dataframe tbody tr th:only-of-type {\n",
       "        vertical-align: middle;\n",
       "    }\n",
       "\n",
       "    .dataframe tbody tr th {\n",
       "        vertical-align: top;\n",
       "    }\n",
       "\n",
       "    .dataframe thead th {\n",
       "        text-align: right;\n",
       "    }\n",
       "</style>\n",
       "<table border=\"1\" class=\"dataframe\">\n",
       "  <thead>\n",
       "    <tr style=\"text-align: right;\">\n",
       "      <th></th>\n",
       "      <th>S&amp;P Rating</th>\n",
       "      <th>Spread</th>\n",
       "      <th>Country</th>\n",
       "      <th>Market Cap</th>\n",
       "      <th>isBlueChip</th>\n",
       "      <th>Moody's Rating</th>\n",
       "      <th>Fitch Rating</th>\n",
       "    </tr>\n",
       "  </thead>\n",
       "  <tbody>\n",
       "    <tr>\n",
       "      <td>Firm_1</td>\n",
       "      <td>A</td>\n",
       "      <td>100</td>\n",
       "      <td>USA</td>\n",
       "      <td>430.00</td>\n",
       "      <td>True</td>\n",
       "      <td>A2</td>\n",
       "      <td>A</td>\n",
       "    </tr>\n",
       "    <tr>\n",
       "      <td>Firm_2</td>\n",
       "      <td>BB</td>\n",
       "      <td>300</td>\n",
       "      <td>ITA</td>\n",
       "      <td>45.00</td>\n",
       "      <td>False</td>\n",
       "      <td>NaN</td>\n",
       "      <td>NaN</td>\n",
       "    </tr>\n",
       "    <tr>\n",
       "      <td>Firm_3</td>\n",
       "      <td>AA</td>\n",
       "      <td>70</td>\n",
       "      <td>UK</td>\n",
       "      <td>161.25</td>\n",
       "      <td>True</td>\n",
       "      <td>Aa2</td>\n",
       "      <td>AA</td>\n",
       "    </tr>\n",
       "    <tr>\n",
       "      <td>Firm_4</td>\n",
       "      <td>CCC</td>\n",
       "      <td>700</td>\n",
       "      <td>ITA</td>\n",
       "      <td>5.00</td>\n",
       "      <td>False</td>\n",
       "      <td>Caa2</td>\n",
       "      <td>CCC</td>\n",
       "    </tr>\n",
       "  </tbody>\n",
       "</table>\n",
       "</div>"
      ],
      "text/plain": [
       "       S&P Rating  Spread Country  Market Cap  isBlueChip Moody's Rating  \\\n",
       "Firm_1          A     100     USA      430.00        True             A2   \n",
       "Firm_2         BB     300     ITA       45.00       False            NaN   \n",
       "Firm_3         AA      70      UK      161.25        True            Aa2   \n",
       "Firm_4        CCC     700     ITA        5.00       False           Caa2   \n",
       "\n",
       "       Fitch Rating  \n",
       "Firm_1            A  \n",
       "Firm_2          NaN  \n",
       "Firm_3           AA  \n",
       "Firm_4          CCC  "
      ]
     },
     "execution_count": 233,
     "metadata": {},
     "output_type": "execute_result"
    }
   ],
   "source": [
    "df_refData.join(df_otherRefData)"
   ]
  },
  {
   "cell_type": "markdown",
   "metadata": {},
   "source": [
    "A [right-join](https://en.wikipedia.org/wiki/Join_(SQL)#Right_outer_join) is the symmetric case of the left-join, where rows from `df_otherRefData` are kept, with data completed with those from `df_refData`. This can be achieved either using `how='right'`"
   ]
  },
  {
   "cell_type": "code",
   "execution_count": 234,
   "metadata": {},
   "outputs": [
    {
     "data": {
      "text/html": [
       "<div>\n",
       "<style scoped>\n",
       "    .dataframe tbody tr th:only-of-type {\n",
       "        vertical-align: middle;\n",
       "    }\n",
       "\n",
       "    .dataframe tbody tr th {\n",
       "        vertical-align: top;\n",
       "    }\n",
       "\n",
       "    .dataframe thead th {\n",
       "        text-align: right;\n",
       "    }\n",
       "</style>\n",
       "<table border=\"1\" class=\"dataframe\">\n",
       "  <thead>\n",
       "    <tr style=\"text-align: right;\">\n",
       "      <th></th>\n",
       "      <th>S&amp;P Rating</th>\n",
       "      <th>Spread</th>\n",
       "      <th>Country</th>\n",
       "      <th>Market Cap</th>\n",
       "      <th>isBlueChip</th>\n",
       "      <th>Moody's Rating</th>\n",
       "      <th>Fitch Rating</th>\n",
       "    </tr>\n",
       "  </thead>\n",
       "  <tbody>\n",
       "    <tr>\n",
       "      <td>Firm_3</td>\n",
       "      <td>AA</td>\n",
       "      <td>70.0</td>\n",
       "      <td>UK</td>\n",
       "      <td>161.25</td>\n",
       "      <td>True</td>\n",
       "      <td>Aa2</td>\n",
       "      <td>AA</td>\n",
       "    </tr>\n",
       "    <tr>\n",
       "      <td>Firm_4</td>\n",
       "      <td>CCC</td>\n",
       "      <td>700.0</td>\n",
       "      <td>ITA</td>\n",
       "      <td>5.00</td>\n",
       "      <td>False</td>\n",
       "      <td>Caa2</td>\n",
       "      <td>CCC</td>\n",
       "    </tr>\n",
       "    <tr>\n",
       "      <td>Firm_1</td>\n",
       "      <td>A</td>\n",
       "      <td>100.0</td>\n",
       "      <td>USA</td>\n",
       "      <td>430.00</td>\n",
       "      <td>True</td>\n",
       "      <td>A2</td>\n",
       "      <td>A</td>\n",
       "    </tr>\n",
       "    <tr>\n",
       "      <td>Firm_5</td>\n",
       "      <td>NaN</td>\n",
       "      <td>NaN</td>\n",
       "      <td>NaN</td>\n",
       "      <td>NaN</td>\n",
       "      <td>NaN</td>\n",
       "      <td>Aaa</td>\n",
       "      <td>AAA</td>\n",
       "    </tr>\n",
       "    <tr>\n",
       "      <td>Firm_6</td>\n",
       "      <td>NaN</td>\n",
       "      <td>NaN</td>\n",
       "      <td>NaN</td>\n",
       "      <td>NaN</td>\n",
       "      <td>NaN</td>\n",
       "      <td>Aa3</td>\n",
       "      <td>AA-</td>\n",
       "    </tr>\n",
       "  </tbody>\n",
       "</table>\n",
       "</div>"
      ],
      "text/plain": [
       "       S&P Rating  Spread Country  Market Cap isBlueChip Moody's Rating  \\\n",
       "Firm_3         AA    70.0      UK      161.25       True            Aa2   \n",
       "Firm_4        CCC   700.0     ITA        5.00      False           Caa2   \n",
       "Firm_1          A   100.0     USA      430.00       True             A2   \n",
       "Firm_5        NaN     NaN     NaN         NaN        NaN            Aaa   \n",
       "Firm_6        NaN     NaN     NaN         NaN        NaN            Aa3   \n",
       "\n",
       "       Fitch Rating  \n",
       "Firm_3           AA  \n",
       "Firm_4          CCC  \n",
       "Firm_1            A  \n",
       "Firm_5          AAA  \n",
       "Firm_6          AA-  "
      ]
     },
     "execution_count": 234,
     "metadata": {},
     "output_type": "execute_result"
    }
   ],
   "source": [
    "df_refData.join(df_otherRefData, how='right')"
   ]
  },
  {
   "cell_type": "markdown",
   "metadata": {},
   "source": [
    "or, as expected, inverting the role of the two DataFrames and doing a left-join"
   ]
  },
  {
   "cell_type": "code",
   "execution_count": 235,
   "metadata": {},
   "outputs": [
    {
     "data": {
      "text/html": [
       "<div>\n",
       "<style scoped>\n",
       "    .dataframe tbody tr th:only-of-type {\n",
       "        vertical-align: middle;\n",
       "    }\n",
       "\n",
       "    .dataframe tbody tr th {\n",
       "        vertical-align: top;\n",
       "    }\n",
       "\n",
       "    .dataframe thead th {\n",
       "        text-align: right;\n",
       "    }\n",
       "</style>\n",
       "<table border=\"1\" class=\"dataframe\">\n",
       "  <thead>\n",
       "    <tr style=\"text-align: right;\">\n",
       "      <th></th>\n",
       "      <th>Moody's Rating</th>\n",
       "      <th>Fitch Rating</th>\n",
       "      <th>S&amp;P Rating</th>\n",
       "      <th>Spread</th>\n",
       "      <th>Country</th>\n",
       "      <th>Market Cap</th>\n",
       "      <th>isBlueChip</th>\n",
       "    </tr>\n",
       "  </thead>\n",
       "  <tbody>\n",
       "    <tr>\n",
       "      <td>Firm_3</td>\n",
       "      <td>Aa2</td>\n",
       "      <td>AA</td>\n",
       "      <td>AA</td>\n",
       "      <td>70.0</td>\n",
       "      <td>UK</td>\n",
       "      <td>161.25</td>\n",
       "      <td>True</td>\n",
       "    </tr>\n",
       "    <tr>\n",
       "      <td>Firm_4</td>\n",
       "      <td>Caa2</td>\n",
       "      <td>CCC</td>\n",
       "      <td>CCC</td>\n",
       "      <td>700.0</td>\n",
       "      <td>ITA</td>\n",
       "      <td>5.00</td>\n",
       "      <td>False</td>\n",
       "    </tr>\n",
       "    <tr>\n",
       "      <td>Firm_1</td>\n",
       "      <td>A2</td>\n",
       "      <td>A</td>\n",
       "      <td>A</td>\n",
       "      <td>100.0</td>\n",
       "      <td>USA</td>\n",
       "      <td>430.00</td>\n",
       "      <td>True</td>\n",
       "    </tr>\n",
       "    <tr>\n",
       "      <td>Firm_5</td>\n",
       "      <td>Aaa</td>\n",
       "      <td>AAA</td>\n",
       "      <td>NaN</td>\n",
       "      <td>NaN</td>\n",
       "      <td>NaN</td>\n",
       "      <td>NaN</td>\n",
       "      <td>NaN</td>\n",
       "    </tr>\n",
       "    <tr>\n",
       "      <td>Firm_6</td>\n",
       "      <td>Aa3</td>\n",
       "      <td>AA-</td>\n",
       "      <td>NaN</td>\n",
       "      <td>NaN</td>\n",
       "      <td>NaN</td>\n",
       "      <td>NaN</td>\n",
       "      <td>NaN</td>\n",
       "    </tr>\n",
       "  </tbody>\n",
       "</table>\n",
       "</div>"
      ],
      "text/plain": [
       "       Moody's Rating Fitch Rating S&P Rating  Spread Country  Market Cap  \\\n",
       "Firm_3            Aa2           AA         AA    70.0      UK      161.25   \n",
       "Firm_4           Caa2          CCC        CCC   700.0     ITA        5.00   \n",
       "Firm_1             A2            A          A   100.0     USA      430.00   \n",
       "Firm_5            Aaa          AAA        NaN     NaN     NaN         NaN   \n",
       "Firm_6            Aa3          AA-        NaN     NaN     NaN         NaN   \n",
       "\n",
       "       isBlueChip  \n",
       "Firm_3       True  \n",
       "Firm_4      False  \n",
       "Firm_1       True  \n",
       "Firm_5        NaN  \n",
       "Firm_6        NaN  "
      ]
     },
     "execution_count": 235,
     "metadata": {},
     "output_type": "execute_result"
    }
   ],
   "source": [
    "df_otherRefData.join(df_refData, how='left')"
   ]
  },
  {
   "cell_type": "markdown",
   "metadata": {},
   "source": [
    "As you can see, the output includes all the rows from `df_otherRefData`, with data completed with those from `df_refData`. Moreover, data for `Firm_5` and `Firm_6`, which are missing in `df_refData`, are marked as `NaN` in the output DataFrame."
   ]
  },
  {
   "cell_type": "markdown",
   "metadata": {},
   "source": [
    "We now consider an [inner-join](https://en.wikipedia.org/wiki/Join_(SQL)#Inner_join) between `df_refData` and `df_otherRefData` indexes. In other words, we want to keep only the rows in common (on the bases of their shared indexes) between `df_refData` and `df_otherRefData`, completing columns from `df_refData` with those from `df_otherRefData`."
   ]
  },
  {
   "cell_type": "code",
   "execution_count": 236,
   "metadata": {},
   "outputs": [
    {
     "data": {
      "text/html": [
       "<div>\n",
       "<style scoped>\n",
       "    .dataframe tbody tr th:only-of-type {\n",
       "        vertical-align: middle;\n",
       "    }\n",
       "\n",
       "    .dataframe tbody tr th {\n",
       "        vertical-align: top;\n",
       "    }\n",
       "\n",
       "    .dataframe thead th {\n",
       "        text-align: right;\n",
       "    }\n",
       "</style>\n",
       "<table border=\"1\" class=\"dataframe\">\n",
       "  <thead>\n",
       "    <tr style=\"text-align: right;\">\n",
       "      <th></th>\n",
       "      <th>S&amp;P Rating</th>\n",
       "      <th>Spread</th>\n",
       "      <th>Country</th>\n",
       "      <th>Market Cap</th>\n",
       "      <th>isBlueChip</th>\n",
       "      <th>Moody's Rating</th>\n",
       "      <th>Fitch Rating</th>\n",
       "    </tr>\n",
       "  </thead>\n",
       "  <tbody>\n",
       "    <tr>\n",
       "      <td>Firm_1</td>\n",
       "      <td>A</td>\n",
       "      <td>100</td>\n",
       "      <td>USA</td>\n",
       "      <td>430.00</td>\n",
       "      <td>True</td>\n",
       "      <td>A2</td>\n",
       "      <td>A</td>\n",
       "    </tr>\n",
       "    <tr>\n",
       "      <td>Firm_3</td>\n",
       "      <td>AA</td>\n",
       "      <td>70</td>\n",
       "      <td>UK</td>\n",
       "      <td>161.25</td>\n",
       "      <td>True</td>\n",
       "      <td>Aa2</td>\n",
       "      <td>AA</td>\n",
       "    </tr>\n",
       "    <tr>\n",
       "      <td>Firm_4</td>\n",
       "      <td>CCC</td>\n",
       "      <td>700</td>\n",
       "      <td>ITA</td>\n",
       "      <td>5.00</td>\n",
       "      <td>False</td>\n",
       "      <td>Caa2</td>\n",
       "      <td>CCC</td>\n",
       "    </tr>\n",
       "  </tbody>\n",
       "</table>\n",
       "</div>"
      ],
      "text/plain": [
       "       S&P Rating  Spread Country  Market Cap  isBlueChip Moody's Rating  \\\n",
       "Firm_1          A     100     USA      430.00        True             A2   \n",
       "Firm_3         AA      70      UK      161.25        True            Aa2   \n",
       "Firm_4        CCC     700     ITA        5.00       False           Caa2   \n",
       "\n",
       "       Fitch Rating  \n",
       "Firm_1            A  \n",
       "Firm_3           AA  \n",
       "Firm_4          CCC  "
      ]
     },
     "execution_count": 236,
     "metadata": {},
     "output_type": "execute_result"
    }
   ],
   "source": [
    "df_refData.join(df_otherRefData, how='inner')"
   ]
  },
  {
   "cell_type": "markdown",
   "metadata": {},
   "source": [
    "Notice that the DataFrame returned has only the indexes which `df_refData` and `df_otherRefData` have in common. Data from the two DataFrames are integrated adding `'Moody's' Rating` and `'Fitch Rating'` columns, coming from `df_otherRefData`, to those from `df_refData`. Row for `Firm_2`, which is part of `df_refData` but is missing in `df_otherRefData`, is excluded from the output. In the same way, data for `Firm_5` and `Firm_6`, which are part of `df_refData` but missing in `df_otherRefData`, are excluded from the output."
   ]
  },
  {
   "cell_type": "markdown",
   "metadata": {},
   "source": [
    "We now consider a [outer-join](https://en.wikipedia.org/wiki/Join_(SQL)#Left_outer_join) of `df_refData` indexes on `df_otherRefData`. In other words, we want to keep all the rows of `df_refData` and complete data with those included in `df_otherRefData`, when available, on the base of their shared indexes."
   ]
  },
  {
   "cell_type": "code",
   "execution_count": 237,
   "metadata": {},
   "outputs": [
    {
     "data": {
      "text/html": [
       "<div>\n",
       "<style scoped>\n",
       "    .dataframe tbody tr th:only-of-type {\n",
       "        vertical-align: middle;\n",
       "    }\n",
       "\n",
       "    .dataframe tbody tr th {\n",
       "        vertical-align: top;\n",
       "    }\n",
       "\n",
       "    .dataframe thead th {\n",
       "        text-align: right;\n",
       "    }\n",
       "</style>\n",
       "<table border=\"1\" class=\"dataframe\">\n",
       "  <thead>\n",
       "    <tr style=\"text-align: right;\">\n",
       "      <th></th>\n",
       "      <th>S&amp;P Rating</th>\n",
       "      <th>Spread</th>\n",
       "      <th>Country</th>\n",
       "      <th>Market Cap</th>\n",
       "      <th>isBlueChip</th>\n",
       "      <th>Moody's Rating</th>\n",
       "      <th>Fitch Rating</th>\n",
       "    </tr>\n",
       "  </thead>\n",
       "  <tbody>\n",
       "    <tr>\n",
       "      <td>Firm_1</td>\n",
       "      <td>A</td>\n",
       "      <td>100.0</td>\n",
       "      <td>USA</td>\n",
       "      <td>430.00</td>\n",
       "      <td>True</td>\n",
       "      <td>A2</td>\n",
       "      <td>A</td>\n",
       "    </tr>\n",
       "    <tr>\n",
       "      <td>Firm_2</td>\n",
       "      <td>BB</td>\n",
       "      <td>300.0</td>\n",
       "      <td>ITA</td>\n",
       "      <td>45.00</td>\n",
       "      <td>False</td>\n",
       "      <td>NaN</td>\n",
       "      <td>NaN</td>\n",
       "    </tr>\n",
       "    <tr>\n",
       "      <td>Firm_3</td>\n",
       "      <td>AA</td>\n",
       "      <td>70.0</td>\n",
       "      <td>UK</td>\n",
       "      <td>161.25</td>\n",
       "      <td>True</td>\n",
       "      <td>Aa2</td>\n",
       "      <td>AA</td>\n",
       "    </tr>\n",
       "    <tr>\n",
       "      <td>Firm_4</td>\n",
       "      <td>CCC</td>\n",
       "      <td>700.0</td>\n",
       "      <td>ITA</td>\n",
       "      <td>5.00</td>\n",
       "      <td>False</td>\n",
       "      <td>Caa2</td>\n",
       "      <td>CCC</td>\n",
       "    </tr>\n",
       "    <tr>\n",
       "      <td>Firm_5</td>\n",
       "      <td>NaN</td>\n",
       "      <td>NaN</td>\n",
       "      <td>NaN</td>\n",
       "      <td>NaN</td>\n",
       "      <td>NaN</td>\n",
       "      <td>Aaa</td>\n",
       "      <td>AAA</td>\n",
       "    </tr>\n",
       "    <tr>\n",
       "      <td>Firm_6</td>\n",
       "      <td>NaN</td>\n",
       "      <td>NaN</td>\n",
       "      <td>NaN</td>\n",
       "      <td>NaN</td>\n",
       "      <td>NaN</td>\n",
       "      <td>Aa3</td>\n",
       "      <td>AA-</td>\n",
       "    </tr>\n",
       "  </tbody>\n",
       "</table>\n",
       "</div>"
      ],
      "text/plain": [
       "       S&P Rating  Spread Country  Market Cap isBlueChip Moody's Rating  \\\n",
       "Firm_1          A   100.0     USA      430.00       True             A2   \n",
       "Firm_2         BB   300.0     ITA       45.00      False            NaN   \n",
       "Firm_3         AA    70.0      UK      161.25       True            Aa2   \n",
       "Firm_4        CCC   700.0     ITA        5.00      False           Caa2   \n",
       "Firm_5        NaN     NaN     NaN         NaN        NaN            Aaa   \n",
       "Firm_6        NaN     NaN     NaN         NaN        NaN            Aa3   \n",
       "\n",
       "       Fitch Rating  \n",
       "Firm_1            A  \n",
       "Firm_2          NaN  \n",
       "Firm_3           AA  \n",
       "Firm_4          CCC  \n",
       "Firm_5          AAA  \n",
       "Firm_6          AA-  "
      ]
     },
     "execution_count": 237,
     "metadata": {},
     "output_type": "execute_result"
    }
   ],
   "source": [
    "df_refData.join(df_otherRefData, how='outer')"
   ]
  },
  {
   "cell_type": "markdown",
   "metadata": {},
   "source": [
    "The output DataFrames has all the rows from the two DataFrames (you see both `Firm_2` and `Firm_5` and `Firm_6`) and data, missing in one of the other original DataFrame, are marked with `NaN`."
   ]
  },
  {
   "cell_type": "markdown",
   "metadata": {},
   "source": [
    "#### 2.7.2.2. Join on Column(s): `df1.join(df2,on)` and `pd.merge(df1, df2, on)` <a name=\"df_data_join_cols\"></a>"
   ]
  },
  {
   "cell_type": "markdown",
   "metadata": {},
   "source": [
    "There are situations in which you want to join two DataFrames on the base of a key-column of one DataFrame and the index or another key-column of the other DataFrame.  A good further reading can be found in the the [user guide: Joining on index](https://pandas.pydata.org/docs/user_guide/merging.html#joining-key-columns-on-an-index). "
   ]
  },
  {
   "cell_type": "markdown",
   "metadata": {},
   "source": [
    "In this case you have to use the `on` parameter of `.join()` method \n",
    "\n",
    "```python\n",
    "df1.join(df2, how='left', on=None)\n",
    "```\n",
    "\n",
    "You have to give to parameter `on`, which is left unspecified by default (`None` is the Python key-word to say that something is un-specified), the name of a column which is shared by `df1` and `df2` and on the base of which you want to perform the join. The `how` parameter keeps the same meaning and the idea is that you can do a left/righ/inner/outer-join on the base of the column shared and specified by `on`, instead of the indexes."
   ]
  },
  {
   "cell_type": "markdown",
   "metadata": {},
   "source": [
    "Let's complete `df_refData` with a `'Ticker'` column, which might represent the Bloomberg (or Reuters, or other data source) identifier for each firm."
   ]
  },
  {
   "cell_type": "code",
   "execution_count": 238,
   "metadata": {},
   "outputs": [
    {
     "data": {
      "text/html": [
       "<div>\n",
       "<style scoped>\n",
       "    .dataframe tbody tr th:only-of-type {\n",
       "        vertical-align: middle;\n",
       "    }\n",
       "\n",
       "    .dataframe tbody tr th {\n",
       "        vertical-align: top;\n",
       "    }\n",
       "\n",
       "    .dataframe thead th {\n",
       "        text-align: right;\n",
       "    }\n",
       "</style>\n",
       "<table border=\"1\" class=\"dataframe\">\n",
       "  <thead>\n",
       "    <tr style=\"text-align: right;\">\n",
       "      <th></th>\n",
       "      <th>S&amp;P Rating</th>\n",
       "      <th>Spread</th>\n",
       "      <th>Country</th>\n",
       "      <th>Market Cap</th>\n",
       "      <th>isBlueChip</th>\n",
       "    </tr>\n",
       "  </thead>\n",
       "  <tbody>\n",
       "    <tr>\n",
       "      <td>Firm_1</td>\n",
       "      <td>A</td>\n",
       "      <td>100</td>\n",
       "      <td>USA</td>\n",
       "      <td>430.00</td>\n",
       "      <td>True</td>\n",
       "    </tr>\n",
       "    <tr>\n",
       "      <td>Firm_2</td>\n",
       "      <td>BB</td>\n",
       "      <td>300</td>\n",
       "      <td>ITA</td>\n",
       "      <td>45.00</td>\n",
       "      <td>False</td>\n",
       "    </tr>\n",
       "    <tr>\n",
       "      <td>Firm_3</td>\n",
       "      <td>AA</td>\n",
       "      <td>70</td>\n",
       "      <td>UK</td>\n",
       "      <td>161.25</td>\n",
       "      <td>True</td>\n",
       "    </tr>\n",
       "    <tr>\n",
       "      <td>Firm_4</td>\n",
       "      <td>CCC</td>\n",
       "      <td>700</td>\n",
       "      <td>ITA</td>\n",
       "      <td>5.00</td>\n",
       "      <td>False</td>\n",
       "    </tr>\n",
       "  </tbody>\n",
       "</table>\n",
       "</div>"
      ],
      "text/plain": [
       "       S&P Rating  Spread Country  Market Cap  isBlueChip\n",
       "Firm_1          A     100     USA      430.00        True\n",
       "Firm_2         BB     300     ITA       45.00       False\n",
       "Firm_3         AA      70      UK      161.25        True\n",
       "Firm_4        CCC     700     ITA        5.00       False"
      ]
     },
     "execution_count": 238,
     "metadata": {},
     "output_type": "execute_result"
    }
   ],
   "source": [
    "df_refData"
   ]
  },
  {
   "cell_type": "code",
   "execution_count": 239,
   "metadata": {},
   "outputs": [
    {
     "data": {
      "text/html": [
       "<div>\n",
       "<style scoped>\n",
       "    .dataframe tbody tr th:only-of-type {\n",
       "        vertical-align: middle;\n",
       "    }\n",
       "\n",
       "    .dataframe tbody tr th {\n",
       "        vertical-align: top;\n",
       "    }\n",
       "\n",
       "    .dataframe thead th {\n",
       "        text-align: right;\n",
       "    }\n",
       "</style>\n",
       "<table border=\"1\" class=\"dataframe\">\n",
       "  <thead>\n",
       "    <tr style=\"text-align: right;\">\n",
       "      <th></th>\n",
       "      <th>S&amp;P Rating</th>\n",
       "      <th>Spread</th>\n",
       "      <th>Country</th>\n",
       "      <th>Market Cap</th>\n",
       "      <th>isBlueChip</th>\n",
       "      <th>Ticker</th>\n",
       "    </tr>\n",
       "  </thead>\n",
       "  <tbody>\n",
       "    <tr>\n",
       "      <td>Firm_1</td>\n",
       "      <td>A</td>\n",
       "      <td>100</td>\n",
       "      <td>USA</td>\n",
       "      <td>430.00</td>\n",
       "      <td>True</td>\n",
       "      <td>CDE</td>\n",
       "    </tr>\n",
       "    <tr>\n",
       "      <td>Firm_2</td>\n",
       "      <td>BB</td>\n",
       "      <td>300</td>\n",
       "      <td>ITA</td>\n",
       "      <td>45.00</td>\n",
       "      <td>False</td>\n",
       "      <td>BCD</td>\n",
       "    </tr>\n",
       "    <tr>\n",
       "      <td>Firm_3</td>\n",
       "      <td>AA</td>\n",
       "      <td>70</td>\n",
       "      <td>UK</td>\n",
       "      <td>161.25</td>\n",
       "      <td>True</td>\n",
       "      <td>DEF</td>\n",
       "    </tr>\n",
       "    <tr>\n",
       "      <td>Firm_4</td>\n",
       "      <td>CCC</td>\n",
       "      <td>700</td>\n",
       "      <td>ITA</td>\n",
       "      <td>5.00</td>\n",
       "      <td>False</td>\n",
       "      <td>ABC</td>\n",
       "    </tr>\n",
       "  </tbody>\n",
       "</table>\n",
       "</div>"
      ],
      "text/plain": [
       "       S&P Rating  Spread Country  Market Cap  isBlueChip Ticker\n",
       "Firm_1          A     100     USA      430.00        True    CDE\n",
       "Firm_2         BB     300     ITA       45.00       False    BCD\n",
       "Firm_3         AA      70      UK      161.25        True    DEF\n",
       "Firm_4        CCC     700     ITA        5.00       False    ABC"
      ]
     },
     "execution_count": 239,
     "metadata": {},
     "output_type": "execute_result"
    }
   ],
   "source": [
    "df_refData['Ticker'] = ['CDE', 'BCD', 'DEF', 'ABC']\n",
    "df_refData"
   ]
  },
  {
   "cell_type": "markdown",
   "metadata": {},
   "source": [
    "We now have another table `df_dividendInfo` which store some dividend informations. These informations are organized according to a list of ticker. Think of it as a big database where dividend informations for all the companies (not only those in your portfolio `df_refData`) are stored."
   ]
  },
  {
   "cell_type": "code",
   "execution_count": 240,
   "metadata": {},
   "outputs": [
    {
     "data": {
      "text/html": [
       "<div>\n",
       "<style scoped>\n",
       "    .dataframe tbody tr th:only-of-type {\n",
       "        vertical-align: middle;\n",
       "    }\n",
       "\n",
       "    .dataframe tbody tr th {\n",
       "        vertical-align: top;\n",
       "    }\n",
       "\n",
       "    .dataframe thead th {\n",
       "        text-align: right;\n",
       "    }\n",
       "</style>\n",
       "<table border=\"1\" class=\"dataframe\">\n",
       "  <thead>\n",
       "    <tr style=\"text-align: right;\">\n",
       "      <th></th>\n",
       "      <th>Dividend Yield (%)</th>\n",
       "      <th>Dividend Frequency</th>\n",
       "    </tr>\n",
       "  </thead>\n",
       "  <tbody>\n",
       "    <tr>\n",
       "      <td>ABC</td>\n",
       "      <td>0.72</td>\n",
       "      <td>Quarterly</td>\n",
       "    </tr>\n",
       "    <tr>\n",
       "      <td>BCD</td>\n",
       "      <td>0.45</td>\n",
       "      <td>Monthly</td>\n",
       "    </tr>\n",
       "    <tr>\n",
       "      <td>CDE</td>\n",
       "      <td>1.15</td>\n",
       "      <td>Biannually</td>\n",
       "    </tr>\n",
       "    <tr>\n",
       "      <td>DEF</td>\n",
       "      <td>0.96</td>\n",
       "      <td>Quarterly</td>\n",
       "    </tr>\n",
       "    <tr>\n",
       "      <td>EFG</td>\n",
       "      <td>2.01</td>\n",
       "      <td>Biannually</td>\n",
       "    </tr>\n",
       "    <tr>\n",
       "      <td>FGH</td>\n",
       "      <td>1.50</td>\n",
       "      <td>Annually</td>\n",
       "    </tr>\n",
       "    <tr>\n",
       "      <td>GHI</td>\n",
       "      <td>0.30</td>\n",
       "      <td>Monthly</td>\n",
       "    </tr>\n",
       "    <tr>\n",
       "      <td>HIJ</td>\n",
       "      <td>0.89</td>\n",
       "      <td>Quarterly</td>\n",
       "    </tr>\n",
       "  </tbody>\n",
       "</table>\n",
       "</div>"
      ],
      "text/plain": [
       "     Dividend Yield (%) Dividend Frequency\n",
       "ABC                0.72          Quarterly\n",
       "BCD                0.45            Monthly\n",
       "CDE                1.15         Biannually\n",
       "DEF                0.96          Quarterly\n",
       "EFG                2.01         Biannually\n",
       "FGH                1.50           Annually\n",
       "GHI                0.30            Monthly\n",
       "HIJ                0.89          Quarterly"
      ]
     },
     "execution_count": 240,
     "metadata": {},
     "output_type": "execute_result"
    }
   ],
   "source": [
    "df_dividendInfo = pd.DataFrame(\n",
    "                    data={\n",
    "                        'Dividend Yield (%)': [0.72, 0.45, 1.15, 0.96, 2.01, 1.5, 0.3, 0.89],\n",
    "                        'Dividend Frequency': ['Quarterly', \n",
    "                                               'Monthly', \n",
    "                                               'Biannually',\n",
    "                                               'Quarterly',\n",
    "                                               'Biannually',\n",
    "                                               'Annually',\n",
    "                                               'Monthly',\n",
    "                                               'Quarterly']\n",
    "                    },\n",
    "                    index=['ABC', 'BCD', 'CDE', 'DEF', 'EFG', 'FGH', 'GHI', 'HIJ'])\n",
    "\n",
    "df_dividendInfo"
   ]
  },
  {
   "cell_type": "markdown",
   "metadata": {},
   "source": [
    "We want to complete our `df_refData` dataset with dividend informations. To do this, we can left-join `df_refData` `on` the `'Ticker'` key column, with the indexes of `df_dividendInfo`"
   ]
  },
  {
   "cell_type": "markdown",
   "metadata": {},
   "source": [
    "Typically, in a case like this, where you have a dataset `df_refData` with reference data for the firms in your portfolio and a data-source `df_dividendInfo` with data for a whole set of firms, the only meaningful join is the left-join of `df_refData` and `df_dividendInfo`."
   ]
  },
  {
   "cell_type": "code",
   "execution_count": 241,
   "metadata": {},
   "outputs": [
    {
     "data": {
      "text/html": [
       "<div>\n",
       "<style scoped>\n",
       "    .dataframe tbody tr th:only-of-type {\n",
       "        vertical-align: middle;\n",
       "    }\n",
       "\n",
       "    .dataframe tbody tr th {\n",
       "        vertical-align: top;\n",
       "    }\n",
       "\n",
       "    .dataframe thead th {\n",
       "        text-align: right;\n",
       "    }\n",
       "</style>\n",
       "<table border=\"1\" class=\"dataframe\">\n",
       "  <thead>\n",
       "    <tr style=\"text-align: right;\">\n",
       "      <th></th>\n",
       "      <th>S&amp;P Rating</th>\n",
       "      <th>Spread</th>\n",
       "      <th>Country</th>\n",
       "      <th>Market Cap</th>\n",
       "      <th>isBlueChip</th>\n",
       "      <th>Ticker</th>\n",
       "      <th>Dividend Yield (%)</th>\n",
       "      <th>Dividend Frequency</th>\n",
       "    </tr>\n",
       "  </thead>\n",
       "  <tbody>\n",
       "    <tr>\n",
       "      <td>Firm_1</td>\n",
       "      <td>A</td>\n",
       "      <td>100</td>\n",
       "      <td>USA</td>\n",
       "      <td>430.00</td>\n",
       "      <td>True</td>\n",
       "      <td>CDE</td>\n",
       "      <td>1.15</td>\n",
       "      <td>Biannually</td>\n",
       "    </tr>\n",
       "    <tr>\n",
       "      <td>Firm_2</td>\n",
       "      <td>BB</td>\n",
       "      <td>300</td>\n",
       "      <td>ITA</td>\n",
       "      <td>45.00</td>\n",
       "      <td>False</td>\n",
       "      <td>BCD</td>\n",
       "      <td>0.45</td>\n",
       "      <td>Monthly</td>\n",
       "    </tr>\n",
       "    <tr>\n",
       "      <td>Firm_3</td>\n",
       "      <td>AA</td>\n",
       "      <td>70</td>\n",
       "      <td>UK</td>\n",
       "      <td>161.25</td>\n",
       "      <td>True</td>\n",
       "      <td>DEF</td>\n",
       "      <td>0.96</td>\n",
       "      <td>Quarterly</td>\n",
       "    </tr>\n",
       "    <tr>\n",
       "      <td>Firm_4</td>\n",
       "      <td>CCC</td>\n",
       "      <td>700</td>\n",
       "      <td>ITA</td>\n",
       "      <td>5.00</td>\n",
       "      <td>False</td>\n",
       "      <td>ABC</td>\n",
       "      <td>0.72</td>\n",
       "      <td>Quarterly</td>\n",
       "    </tr>\n",
       "  </tbody>\n",
       "</table>\n",
       "</div>"
      ],
      "text/plain": [
       "       S&P Rating  Spread Country  Market Cap  isBlueChip Ticker  \\\n",
       "Firm_1          A     100     USA      430.00        True    CDE   \n",
       "Firm_2         BB     300     ITA       45.00       False    BCD   \n",
       "Firm_3         AA      70      UK      161.25        True    DEF   \n",
       "Firm_4        CCC     700     ITA        5.00       False    ABC   \n",
       "\n",
       "        Dividend Yield (%) Dividend Frequency  \n",
       "Firm_1                1.15         Biannually  \n",
       "Firm_2                0.45            Monthly  \n",
       "Firm_3                0.96          Quarterly  \n",
       "Firm_4                0.72          Quarterly  "
      ]
     },
     "execution_count": 241,
     "metadata": {},
     "output_type": "execute_result"
    }
   ],
   "source": [
    "df_refData.join(df_dividendInfo, on='Ticker') # by default: how='left'"
   ]
  },
  {
   "cell_type": "markdown",
   "metadata": {},
   "source": [
    "As you can see, the output DataFrames has all - and only - the indexes (and rows) of `df_refData`, with dividend data integrated from `df_dividendInfo`. "
   ]
  },
  {
   "cell_type": "markdown",
   "metadata": {},
   "source": [
    "A variation on this theme is a colum-on-column join. Is the situation in which the tickers are listed as a column `'Ticker'` in both DataFrames. Notice how we define `df_dividendInfo_TickerCol`, adding the ticker list as `'Ticker'` column (and leaving the index unspecified, thus using the default one)."
   ]
  },
  {
   "cell_type": "code",
   "execution_count": 242,
   "metadata": {},
   "outputs": [
    {
     "data": {
      "text/html": [
       "<div>\n",
       "<style scoped>\n",
       "    .dataframe tbody tr th:only-of-type {\n",
       "        vertical-align: middle;\n",
       "    }\n",
       "\n",
       "    .dataframe tbody tr th {\n",
       "        vertical-align: top;\n",
       "    }\n",
       "\n",
       "    .dataframe thead th {\n",
       "        text-align: right;\n",
       "    }\n",
       "</style>\n",
       "<table border=\"1\" class=\"dataframe\">\n",
       "  <thead>\n",
       "    <tr style=\"text-align: right;\">\n",
       "      <th></th>\n",
       "      <th>Dividend Yield (%)</th>\n",
       "      <th>Dividend Frequency</th>\n",
       "      <th>Ticker</th>\n",
       "    </tr>\n",
       "  </thead>\n",
       "  <tbody>\n",
       "    <tr>\n",
       "      <td>0</td>\n",
       "      <td>0.72</td>\n",
       "      <td>Quarterly</td>\n",
       "      <td>ABC</td>\n",
       "    </tr>\n",
       "    <tr>\n",
       "      <td>1</td>\n",
       "      <td>0.45</td>\n",
       "      <td>Monthly</td>\n",
       "      <td>BCD</td>\n",
       "    </tr>\n",
       "    <tr>\n",
       "      <td>2</td>\n",
       "      <td>1.15</td>\n",
       "      <td>Biannually</td>\n",
       "      <td>CDE</td>\n",
       "    </tr>\n",
       "    <tr>\n",
       "      <td>3</td>\n",
       "      <td>0.96</td>\n",
       "      <td>Quarterly</td>\n",
       "      <td>DEF</td>\n",
       "    </tr>\n",
       "    <tr>\n",
       "      <td>4</td>\n",
       "      <td>2.01</td>\n",
       "      <td>Biannually</td>\n",
       "      <td>EFG</td>\n",
       "    </tr>\n",
       "    <tr>\n",
       "      <td>5</td>\n",
       "      <td>1.50</td>\n",
       "      <td>Annually</td>\n",
       "      <td>FGH</td>\n",
       "    </tr>\n",
       "    <tr>\n",
       "      <td>6</td>\n",
       "      <td>0.30</td>\n",
       "      <td>Monthly</td>\n",
       "      <td>GHI</td>\n",
       "    </tr>\n",
       "    <tr>\n",
       "      <td>7</td>\n",
       "      <td>0.89</td>\n",
       "      <td>Quarterly</td>\n",
       "      <td>HIJ</td>\n",
       "    </tr>\n",
       "  </tbody>\n",
       "</table>\n",
       "</div>"
      ],
      "text/plain": [
       "   Dividend Yield (%) Dividend Frequency Ticker\n",
       "0                0.72          Quarterly    ABC\n",
       "1                0.45            Monthly    BCD\n",
       "2                1.15         Biannually    CDE\n",
       "3                0.96          Quarterly    DEF\n",
       "4                2.01         Biannually    EFG\n",
       "5                1.50           Annually    FGH\n",
       "6                0.30            Monthly    GHI\n",
       "7                0.89          Quarterly    HIJ"
      ]
     },
     "execution_count": 242,
     "metadata": {},
     "output_type": "execute_result"
    }
   ],
   "source": [
    "df_dividendInfo_TickerCol = pd.DataFrame(\n",
    "                    data={\n",
    "                        'Dividend Yield (%)': [0.72, 0.45, 1.15, 0.96, 2.01, 1.5, 0.3, 0.89],\n",
    "                        'Dividend Frequency': ['Quarterly', \n",
    "                                               'Monthly', \n",
    "                                               'Biannually',\n",
    "                                               'Quarterly',\n",
    "                                               'Biannually',\n",
    "                                               'Annually',\n",
    "                                               'Monthly',\n",
    "                                               'Quarterly'],\n",
    "                        'Ticker': ['ABC', 'BCD', 'CDE', 'DEF', 'EFG', 'FGH', 'GHI', 'HIJ']\n",
    "                        })\n",
    "\n",
    "df_dividendInfo_TickerCol"
   ]
  },
  {
   "cell_type": "markdown",
   "metadata": {},
   "source": [
    "To (left- but also right-,inner- or outer-) join the two tables you can use `pd.merge()`, that we now introduce in its basic usage."
   ]
  },
  {
   "cell_type": "markdown",
   "metadata": {},
   "source": [
    "If you have two DataFrames, say `df1` and `df2`, you can combine them into a single DataFrame using function `pd.merge()` providing `df1` and `df2` in input. Basic syntax is \n",
    "\n",
    "```python\n",
    "pd.merge(df1, df2, how='inner', on=None)\n",
    "```\n",
    "\n",
    "which joins `df1` with `df2` on the base\n",
    "\n",
    "- of their indexes, if `on=None` (default), or\n",
    "- of a key column `col` if `on=col`. Column `col` needs to be found in both DataFrames.\n",
    "\n",
    "The `how` parameter keeps the same meaning as in `.join()` method with the only difference that the default behavior is the inner join `how='inner'`."
   ]
  },
  {
   "cell_type": "markdown",
   "metadata": {},
   "source": [
    "Let's then left-join `df_refData` on `df_dividendInfo_TickerCol` on the `'Ticker'` column"
   ]
  },
  {
   "cell_type": "code",
   "execution_count": 243,
   "metadata": {
    "scrolled": true
   },
   "outputs": [
    {
     "data": {
      "text/html": [
       "<div>\n",
       "<style scoped>\n",
       "    .dataframe tbody tr th:only-of-type {\n",
       "        vertical-align: middle;\n",
       "    }\n",
       "\n",
       "    .dataframe tbody tr th {\n",
       "        vertical-align: top;\n",
       "    }\n",
       "\n",
       "    .dataframe thead th {\n",
       "        text-align: right;\n",
       "    }\n",
       "</style>\n",
       "<table border=\"1\" class=\"dataframe\">\n",
       "  <thead>\n",
       "    <tr style=\"text-align: right;\">\n",
       "      <th></th>\n",
       "      <th>S&amp;P Rating</th>\n",
       "      <th>Spread</th>\n",
       "      <th>Country</th>\n",
       "      <th>Market Cap</th>\n",
       "      <th>isBlueChip</th>\n",
       "      <th>Ticker</th>\n",
       "      <th>Dividend Yield (%)</th>\n",
       "      <th>Dividend Frequency</th>\n",
       "    </tr>\n",
       "  </thead>\n",
       "  <tbody>\n",
       "    <tr>\n",
       "      <td>0</td>\n",
       "      <td>A</td>\n",
       "      <td>100</td>\n",
       "      <td>USA</td>\n",
       "      <td>430.00</td>\n",
       "      <td>True</td>\n",
       "      <td>CDE</td>\n",
       "      <td>1.15</td>\n",
       "      <td>Biannually</td>\n",
       "    </tr>\n",
       "    <tr>\n",
       "      <td>1</td>\n",
       "      <td>BB</td>\n",
       "      <td>300</td>\n",
       "      <td>ITA</td>\n",
       "      <td>45.00</td>\n",
       "      <td>False</td>\n",
       "      <td>BCD</td>\n",
       "      <td>0.45</td>\n",
       "      <td>Monthly</td>\n",
       "    </tr>\n",
       "    <tr>\n",
       "      <td>2</td>\n",
       "      <td>AA</td>\n",
       "      <td>70</td>\n",
       "      <td>UK</td>\n",
       "      <td>161.25</td>\n",
       "      <td>True</td>\n",
       "      <td>DEF</td>\n",
       "      <td>0.96</td>\n",
       "      <td>Quarterly</td>\n",
       "    </tr>\n",
       "    <tr>\n",
       "      <td>3</td>\n",
       "      <td>CCC</td>\n",
       "      <td>700</td>\n",
       "      <td>ITA</td>\n",
       "      <td>5.00</td>\n",
       "      <td>False</td>\n",
       "      <td>ABC</td>\n",
       "      <td>0.72</td>\n",
       "      <td>Quarterly</td>\n",
       "    </tr>\n",
       "  </tbody>\n",
       "</table>\n",
       "</div>"
      ],
      "text/plain": [
       "  S&P Rating  Spread Country  Market Cap  isBlueChip Ticker  \\\n",
       "0          A     100     USA      430.00        True    CDE   \n",
       "1         BB     300     ITA       45.00       False    BCD   \n",
       "2         AA      70      UK      161.25        True    DEF   \n",
       "3        CCC     700     ITA        5.00       False    ABC   \n",
       "\n",
       "   Dividend Yield (%) Dividend Frequency  \n",
       "0                1.15         Biannually  \n",
       "1                0.45            Monthly  \n",
       "2                0.96          Quarterly  \n",
       "3                0.72          Quarterly  "
      ]
     },
     "execution_count": 243,
     "metadata": {},
     "output_type": "execute_result"
    }
   ],
   "source": [
    "df_merged = pd.merge(df_refData, df_dividendInfo_TickerCol, how='left', on='Ticker')\n",
    "df_merged"
   ]
  },
  {
   "cell_type": "markdown",
   "metadata": {},
   "source": [
    "The behavior is that of a left-join, as we have already seen, on the `'Ticker'` column, shared by both DataFrames."
   ]
  },
  {
   "cell_type": "markdown",
   "metadata": {},
   "source": [
    "Notice that the index (belonging to `df_refData`) is reset to the default one. This is a choice made from Pandas to homogeneize the behavior to more advanced merge operations, where you may end up with more rows if there are multiple matches. This is why Pandas does not keep the index for you."
   ]
  },
  {
   "cell_type": "markdown",
   "metadata": {},
   "source": [
    "If you want to rename the index of `df_merged` in output, to the `df_refData` one, you can use `.rename()` method, which takes in input for its `index` parameter a dictionary of `current index: new index` pairs of labels"
   ]
  },
  {
   "cell_type": "code",
   "execution_count": 244,
   "metadata": {},
   "outputs": [
    {
     "data": {
      "text/html": [
       "<div>\n",
       "<style scoped>\n",
       "    .dataframe tbody tr th:only-of-type {\n",
       "        vertical-align: middle;\n",
       "    }\n",
       "\n",
       "    .dataframe tbody tr th {\n",
       "        vertical-align: top;\n",
       "    }\n",
       "\n",
       "    .dataframe thead th {\n",
       "        text-align: right;\n",
       "    }\n",
       "</style>\n",
       "<table border=\"1\" class=\"dataframe\">\n",
       "  <thead>\n",
       "    <tr style=\"text-align: right;\">\n",
       "      <th></th>\n",
       "      <th>S&amp;P Rating</th>\n",
       "      <th>Spread</th>\n",
       "      <th>Country</th>\n",
       "      <th>Market Cap</th>\n",
       "      <th>isBlueChip</th>\n",
       "      <th>Ticker</th>\n",
       "      <th>Dividend Yield (%)</th>\n",
       "      <th>Dividend Frequency</th>\n",
       "    </tr>\n",
       "  </thead>\n",
       "  <tbody>\n",
       "    <tr>\n",
       "      <td>Firm_1</td>\n",
       "      <td>A</td>\n",
       "      <td>100</td>\n",
       "      <td>USA</td>\n",
       "      <td>430.00</td>\n",
       "      <td>True</td>\n",
       "      <td>CDE</td>\n",
       "      <td>1.15</td>\n",
       "      <td>Biannually</td>\n",
       "    </tr>\n",
       "    <tr>\n",
       "      <td>Firm_2</td>\n",
       "      <td>BB</td>\n",
       "      <td>300</td>\n",
       "      <td>ITA</td>\n",
       "      <td>45.00</td>\n",
       "      <td>False</td>\n",
       "      <td>BCD</td>\n",
       "      <td>0.45</td>\n",
       "      <td>Monthly</td>\n",
       "    </tr>\n",
       "    <tr>\n",
       "      <td>Firm_3</td>\n",
       "      <td>AA</td>\n",
       "      <td>70</td>\n",
       "      <td>UK</td>\n",
       "      <td>161.25</td>\n",
       "      <td>True</td>\n",
       "      <td>DEF</td>\n",
       "      <td>0.96</td>\n",
       "      <td>Quarterly</td>\n",
       "    </tr>\n",
       "    <tr>\n",
       "      <td>Firm_4</td>\n",
       "      <td>CCC</td>\n",
       "      <td>700</td>\n",
       "      <td>ITA</td>\n",
       "      <td>5.00</td>\n",
       "      <td>False</td>\n",
       "      <td>ABC</td>\n",
       "      <td>0.72</td>\n",
       "      <td>Quarterly</td>\n",
       "    </tr>\n",
       "  </tbody>\n",
       "</table>\n",
       "</div>"
      ],
      "text/plain": [
       "       S&P Rating  Spread Country  Market Cap  isBlueChip Ticker  \\\n",
       "Firm_1          A     100     USA      430.00        True    CDE   \n",
       "Firm_2         BB     300     ITA       45.00       False    BCD   \n",
       "Firm_3         AA      70      UK      161.25        True    DEF   \n",
       "Firm_4        CCC     700     ITA        5.00       False    ABC   \n",
       "\n",
       "        Dividend Yield (%) Dividend Frequency  \n",
       "Firm_1                1.15         Biannually  \n",
       "Firm_2                0.45            Monthly  \n",
       "Firm_3                0.96          Quarterly  \n",
       "Firm_4                0.72          Quarterly  "
      ]
     },
     "execution_count": 244,
     "metadata": {},
     "output_type": "execute_result"
    }
   ],
   "source": [
    "df_merged.rename(index = {current_index: new_index for current_index, new_index in zip(df_merged.index, df_refData.index)})"
   ]
  },
  {
   "cell_type": "markdown",
   "metadata": {},
   "source": [
    "Notice how we use `zip()` to loop over the two set of indexes of `df_merged` and `'df_refData`, taking `current_index` and `new_index` from `df_merged.index` and `df_refData.index`, respectively."
   ]
  },
  {
   "cell_type": "markdown",
   "metadata": {},
   "source": [
    "As a last variation of the column-on-colum join is when the two columns, which are semantically equivalent (that is, they store the same kind of information), are named differently."
   ]
  },
  {
   "cell_type": "markdown",
   "metadata": {},
   "source": [
    "To make an example, let's rename `'Ticker'` column in `df_refData` as `'Id'`. We can use `.rename()` again, using its `columns` parameter giving in input a dictionary to rename `'Ticker'` column only"
   ]
  },
  {
   "cell_type": "code",
   "execution_count": 245,
   "metadata": {},
   "outputs": [
    {
     "data": {
      "text/html": [
       "<div>\n",
       "<style scoped>\n",
       "    .dataframe tbody tr th:only-of-type {\n",
       "        vertical-align: middle;\n",
       "    }\n",
       "\n",
       "    .dataframe tbody tr th {\n",
       "        vertical-align: top;\n",
       "    }\n",
       "\n",
       "    .dataframe thead th {\n",
       "        text-align: right;\n",
       "    }\n",
       "</style>\n",
       "<table border=\"1\" class=\"dataframe\">\n",
       "  <thead>\n",
       "    <tr style=\"text-align: right;\">\n",
       "      <th></th>\n",
       "      <th>S&amp;P Rating</th>\n",
       "      <th>Spread</th>\n",
       "      <th>Country</th>\n",
       "      <th>Market Cap</th>\n",
       "      <th>isBlueChip</th>\n",
       "      <th>Id</th>\n",
       "    </tr>\n",
       "  </thead>\n",
       "  <tbody>\n",
       "    <tr>\n",
       "      <td>Firm_1</td>\n",
       "      <td>A</td>\n",
       "      <td>100</td>\n",
       "      <td>USA</td>\n",
       "      <td>430.00</td>\n",
       "      <td>True</td>\n",
       "      <td>CDE</td>\n",
       "    </tr>\n",
       "    <tr>\n",
       "      <td>Firm_2</td>\n",
       "      <td>BB</td>\n",
       "      <td>300</td>\n",
       "      <td>ITA</td>\n",
       "      <td>45.00</td>\n",
       "      <td>False</td>\n",
       "      <td>BCD</td>\n",
       "    </tr>\n",
       "    <tr>\n",
       "      <td>Firm_3</td>\n",
       "      <td>AA</td>\n",
       "      <td>70</td>\n",
       "      <td>UK</td>\n",
       "      <td>161.25</td>\n",
       "      <td>True</td>\n",
       "      <td>DEF</td>\n",
       "    </tr>\n",
       "    <tr>\n",
       "      <td>Firm_4</td>\n",
       "      <td>CCC</td>\n",
       "      <td>700</td>\n",
       "      <td>ITA</td>\n",
       "      <td>5.00</td>\n",
       "      <td>False</td>\n",
       "      <td>ABC</td>\n",
       "    </tr>\n",
       "  </tbody>\n",
       "</table>\n",
       "</div>"
      ],
      "text/plain": [
       "       S&P Rating  Spread Country  Market Cap  isBlueChip   Id\n",
       "Firm_1          A     100     USA      430.00        True  CDE\n",
       "Firm_2         BB     300     ITA       45.00       False  BCD\n",
       "Firm_3         AA      70      UK      161.25        True  DEF\n",
       "Firm_4        CCC     700     ITA        5.00       False  ABC"
      ]
     },
     "execution_count": 245,
     "metadata": {},
     "output_type": "execute_result"
    }
   ],
   "source": [
    "df_refData = df_refData.rename(columns = {'Ticker': 'Id'})\n",
    "df_refData"
   ]
  },
  {
   "cell_type": "code",
   "execution_count": 246,
   "metadata": {},
   "outputs": [
    {
     "data": {
      "text/html": [
       "<div>\n",
       "<style scoped>\n",
       "    .dataframe tbody tr th:only-of-type {\n",
       "        vertical-align: middle;\n",
       "    }\n",
       "\n",
       "    .dataframe tbody tr th {\n",
       "        vertical-align: top;\n",
       "    }\n",
       "\n",
       "    .dataframe thead th {\n",
       "        text-align: right;\n",
       "    }\n",
       "</style>\n",
       "<table border=\"1\" class=\"dataframe\">\n",
       "  <thead>\n",
       "    <tr style=\"text-align: right;\">\n",
       "      <th></th>\n",
       "      <th>Dividend Yield (%)</th>\n",
       "      <th>Dividend Frequency</th>\n",
       "      <th>Ticker</th>\n",
       "    </tr>\n",
       "  </thead>\n",
       "  <tbody>\n",
       "    <tr>\n",
       "      <td>0</td>\n",
       "      <td>0.72</td>\n",
       "      <td>Quarterly</td>\n",
       "      <td>ABC</td>\n",
       "    </tr>\n",
       "    <tr>\n",
       "      <td>1</td>\n",
       "      <td>0.45</td>\n",
       "      <td>Monthly</td>\n",
       "      <td>BCD</td>\n",
       "    </tr>\n",
       "    <tr>\n",
       "      <td>2</td>\n",
       "      <td>1.15</td>\n",
       "      <td>Biannually</td>\n",
       "      <td>CDE</td>\n",
       "    </tr>\n",
       "    <tr>\n",
       "      <td>3</td>\n",
       "      <td>0.96</td>\n",
       "      <td>Quarterly</td>\n",
       "      <td>DEF</td>\n",
       "    </tr>\n",
       "    <tr>\n",
       "      <td>4</td>\n",
       "      <td>2.01</td>\n",
       "      <td>Biannually</td>\n",
       "      <td>EFG</td>\n",
       "    </tr>\n",
       "    <tr>\n",
       "      <td>5</td>\n",
       "      <td>1.50</td>\n",
       "      <td>Annually</td>\n",
       "      <td>FGH</td>\n",
       "    </tr>\n",
       "    <tr>\n",
       "      <td>6</td>\n",
       "      <td>0.30</td>\n",
       "      <td>Monthly</td>\n",
       "      <td>GHI</td>\n",
       "    </tr>\n",
       "    <tr>\n",
       "      <td>7</td>\n",
       "      <td>0.89</td>\n",
       "      <td>Quarterly</td>\n",
       "      <td>HIJ</td>\n",
       "    </tr>\n",
       "  </tbody>\n",
       "</table>\n",
       "</div>"
      ],
      "text/plain": [
       "   Dividend Yield (%) Dividend Frequency Ticker\n",
       "0                0.72          Quarterly    ABC\n",
       "1                0.45            Monthly    BCD\n",
       "2                1.15         Biannually    CDE\n",
       "3                0.96          Quarterly    DEF\n",
       "4                2.01         Biannually    EFG\n",
       "5                1.50           Annually    FGH\n",
       "6                0.30            Monthly    GHI\n",
       "7                0.89          Quarterly    HIJ"
      ]
     },
     "execution_count": 246,
     "metadata": {},
     "output_type": "execute_result"
    }
   ],
   "source": [
    "df_dividendInfo_TickerCol"
   ]
  },
  {
   "cell_type": "markdown",
   "metadata": {},
   "source": [
    "The left join of `df_refData` on `df_dividendInfo_TickerCol`, using `df_refData`'s `'Id'` column and `df_dividendInfo_TickerCol`'s `''Ticker'` column can be done using the `left_on` and `right_on` parameters of `pd.merge()`"
   ]
  },
  {
   "cell_type": "markdown",
   "metadata": {},
   "source": [
    "```python\n",
    "pd.merge(df1, df2, how='inner', on=None, left_on=None, right_on=None)\n",
    "```\n",
    "\n",
    "which, if `on=None` and `left_on='Col_in_df1'`, `right_on='Col_in_df2'` joins `df1` with `df2` on the base of `'Col_in_df1'` of `df1` and `'Col_in_df2'` of `df2`."
   ]
  },
  {
   "cell_type": "code",
   "execution_count": 247,
   "metadata": {},
   "outputs": [
    {
     "data": {
      "text/html": [
       "<div>\n",
       "<style scoped>\n",
       "    .dataframe tbody tr th:only-of-type {\n",
       "        vertical-align: middle;\n",
       "    }\n",
       "\n",
       "    .dataframe tbody tr th {\n",
       "        vertical-align: top;\n",
       "    }\n",
       "\n",
       "    .dataframe thead th {\n",
       "        text-align: right;\n",
       "    }\n",
       "</style>\n",
       "<table border=\"1\" class=\"dataframe\">\n",
       "  <thead>\n",
       "    <tr style=\"text-align: right;\">\n",
       "      <th></th>\n",
       "      <th>S&amp;P Rating</th>\n",
       "      <th>Spread</th>\n",
       "      <th>Country</th>\n",
       "      <th>Market Cap</th>\n",
       "      <th>isBlueChip</th>\n",
       "      <th>Id</th>\n",
       "      <th>Dividend Yield (%)</th>\n",
       "      <th>Dividend Frequency</th>\n",
       "      <th>Ticker</th>\n",
       "    </tr>\n",
       "  </thead>\n",
       "  <tbody>\n",
       "    <tr>\n",
       "      <td>0</td>\n",
       "      <td>A</td>\n",
       "      <td>100</td>\n",
       "      <td>USA</td>\n",
       "      <td>430.00</td>\n",
       "      <td>True</td>\n",
       "      <td>CDE</td>\n",
       "      <td>1.15</td>\n",
       "      <td>Biannually</td>\n",
       "      <td>CDE</td>\n",
       "    </tr>\n",
       "    <tr>\n",
       "      <td>1</td>\n",
       "      <td>BB</td>\n",
       "      <td>300</td>\n",
       "      <td>ITA</td>\n",
       "      <td>45.00</td>\n",
       "      <td>False</td>\n",
       "      <td>BCD</td>\n",
       "      <td>0.45</td>\n",
       "      <td>Monthly</td>\n",
       "      <td>BCD</td>\n",
       "    </tr>\n",
       "    <tr>\n",
       "      <td>2</td>\n",
       "      <td>AA</td>\n",
       "      <td>70</td>\n",
       "      <td>UK</td>\n",
       "      <td>161.25</td>\n",
       "      <td>True</td>\n",
       "      <td>DEF</td>\n",
       "      <td>0.96</td>\n",
       "      <td>Quarterly</td>\n",
       "      <td>DEF</td>\n",
       "    </tr>\n",
       "    <tr>\n",
       "      <td>3</td>\n",
       "      <td>CCC</td>\n",
       "      <td>700</td>\n",
       "      <td>ITA</td>\n",
       "      <td>5.00</td>\n",
       "      <td>False</td>\n",
       "      <td>ABC</td>\n",
       "      <td>0.72</td>\n",
       "      <td>Quarterly</td>\n",
       "      <td>ABC</td>\n",
       "    </tr>\n",
       "  </tbody>\n",
       "</table>\n",
       "</div>"
      ],
      "text/plain": [
       "  S&P Rating  Spread Country  Market Cap  isBlueChip   Id  Dividend Yield (%)  \\\n",
       "0          A     100     USA      430.00        True  CDE                1.15   \n",
       "1         BB     300     ITA       45.00       False  BCD                0.45   \n",
       "2         AA      70      UK      161.25        True  DEF                0.96   \n",
       "3        CCC     700     ITA        5.00       False  ABC                0.72   \n",
       "\n",
       "  Dividend Frequency Ticker  \n",
       "0         Biannually    CDE  \n",
       "1            Monthly    BCD  \n",
       "2          Quarterly    DEF  \n",
       "3          Quarterly    ABC  "
      ]
     },
     "execution_count": 247,
     "metadata": {},
     "output_type": "execute_result"
    }
   ],
   "source": [
    "pd.merge(df_refData, df_dividendInfo_TickerCol, how='left', left_on='Id', right_on='Ticker')"
   ]
  },
  {
   "cell_type": "markdown",
   "metadata": {},
   "source": [
    "Which is a basic left-join as we have seen many, which you can reindex if you want. The only difference is the co-presence of `'Id'` and `'Ticker'` columns, with same matching values, of course."
   ]
  }
 ],
 "metadata": {
  "kernelspec": {
   "display_name": "Python 3",
   "language": "python",
   "name": "python3"
  },
  "language_info": {
   "codemirror_mode": {
    "name": "ipython",
    "version": 3
   },
   "file_extension": ".py",
   "mimetype": "text/x-python",
   "name": "python",
   "nbconvert_exporter": "python",
   "pygments_lexer": "ipython3",
   "version": "3.7.4"
  }
 },
 "nbformat": 4,
 "nbformat_minor": 2
}
