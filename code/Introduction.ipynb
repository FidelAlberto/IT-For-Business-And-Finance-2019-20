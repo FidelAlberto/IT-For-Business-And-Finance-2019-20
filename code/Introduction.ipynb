{
 "cells": [
  {
   "cell_type": "markdown",
   "metadata": {},
   "source": [
    "# Introduction"
   ]
  },
  {
   "cell_type": "markdown",
   "metadata": {},
   "source": [
    "Welcome to the _IT for Business and Finance_ class 2019/20. This class is going to teach you financial applications using the Python programming language."
   ]
  },
  {
   "cell_type": "markdown",
   "metadata": {},
   "source": [
    "**Credit**: Several contents and examples in the _IT for Business and Finance_ class 2019/20 are taken from the book [_Python for Finance -- Mastering Data-Driven Finance_](http://shop.oreilly.com/product/0636920117728.do) (2nd edition) by Yves Hilpisch (O'Reilly). "
   ]
  },
  {
   "cell_type": "markdown",
   "metadata": {},
   "source": [
    "# Table of contents\n",
    "\n",
    "1. [What is Python?](#what_is_python)\n",
    "2. [Why Python is relevant in Finance?](#why_python_is_relevant_in_finance)\n",
    "3. [Why Python is relevant for you?](#why_python_is_relevant_for_you)"
   ]
  },
  {
   "cell_type": "markdown",
   "metadata": {},
   "source": [
    "# 1. What is Python? <a name=\"what_is_python\"></a>"
   ]
  },
  {
   "cell_type": "markdown",
   "metadata": {},
   "source": [
    "Executive Summary from the [Python.org](https://www.python.org/doc/essays/blurb/) website:\n",
    "\n",
    "    Python is an interpreted, object-oriented, high-level programming language with dynamic semantics. Its high-level built in data structures, combined with dynamic typing and dynamic binding, make it very attractive for Rapid Application Development, as well as for use as a scripting or glue language to connect existing components together. Python's simple, easy to learn syntax emphasizes readability and therefore reduces the cost of program maintenance. Python supports modules and packages, which encourages program modularity and code reuse. The Python interpreter and the extensive standard library are available in source or binary form without charge for all major platforms, and can be freely distributed."
   ]
  },
  {
   "cell_type": "markdown",
   "metadata": {},
   "source": [
    "so many weird words, right? Let's try to clarify a bit:\n",
    "\n",
    "- [_Interpreted_](https://en.wikipedia.org/wiki/Interpreted_language): an interpreted language is a type of programming language for which most of its implementations execute instructions directly and freely, without previously compiling a program into machine-language instructions.\n",
    "\n",
    "\n",
    "- [_Object-oriented_](https://en.wikipedia.org/wiki/Object-oriented_programming): object-oriented programming (OOP) is a programming paradigm based on the concept of \"objects\", which can contain data, in the form of fields (often known as attributes or properties), and code, in the form of procedures (often known as methods).\n",
    "\n",
    "\n",
    "- [ _High-level_ programming language](https://en.wikipedia.org/wiki/High-level_programming_language): a high-level programming language is a programming language with strong abstraction from the details of the computer. In contrast to low-level programming languages, it may use natural language elements, be easier to use, or may automate (or even hide entirely) significant areas of computing systems (e.g. memory management), making the process of developing a program simpler and more understandable than when using a lower-level language. The amount of abstraction provided defines how \"high-level\" a programming language is.\n",
    "\n",
    "\n",
    "- [_Dynamic semantics_](https://en.wikipedia.org/wiki/Programming_language#Dynamic_semantics): the _semantics_ of a (programming) language refers to the meaning of the languages, as opposed to their form. For compiled languages, _static semantics_ essentially include those semantic rules (that is, restrictions on the structure of valid texts) that can be checked at compile time. For example checking that every identifier is declared before it is used or checking that identifiers are used in the appropriate context (e.g. not adding an integer to a function name). _Dynamic semantics,_ or _execution semantics,_ defines how and when the various constructs of a language should produce a program behavior. For example, it may define the strategy by which expressions are evaluated to values or the manner in which control structures conditionally execute statements.\n",
    "\n",
    "\n",
    "- [_Dynamic type (checking)_](https://en.wikipedia.org/wiki/Type_system#Dynamic_type_checking_and_runtime_type_information):  a _type system_ is a logical system comprising a set of rules that assigns a property called a 'type' to the various constructs of a computer program, such as variables, expressions, functions or modules. _Type checking_ is the process of verifying and enforcing the constraints of types. It may occur at compile-time (_static type check_ of program's text) or at run-time (_dynamic-type check_ of the type safety of the program). \n",
    "\n",
    "\n",
    "- [_Dynamic binding_](https://en.wikipedia.org/wiki/Late_binding): _dynamic binding_ (also known as _late binding_) is a mechanism by which a computer program waits until runtime to bind the name of a method being called to an actual subroutine (that is, to its machine address)."
   ]
  },
  {
   "cell_type": "markdown",
   "metadata": {},
   "source": [
    "- [_Python Modules_ and _Packages_](https://stackoverflow.com/a/7948504/2533366): a _module_ is a Python file (that is, a file ending with `.py`) containing Python statements and definitions. In the example below we import the $\\pi$ constant from the `math` module:"
   ]
  },
  {
   "cell_type": "code",
   "execution_count": 5,
   "metadata": {},
   "outputs": [],
   "source": [
    "import math"
   ]
  },
  {
   "cell_type": "markdown",
   "metadata": {},
   "source": [
    "now we can access the $\\pi$ constant using the `.` access specifier:"
   ]
  },
  {
   "cell_type": "code",
   "execution_count": 6,
   "metadata": {},
   "outputs": [
    {
     "data": {
      "text/plain": [
       "3.141592653589793"
      ]
     },
     "execution_count": 6,
     "metadata": {},
     "output_type": "execute_result"
    }
   ],
   "source": [
    "math.pi"
   ]
  },
  {
   "cell_type": "markdown",
   "metadata": {},
   "source": [
    "note that in Jupyther Notebooks, as this is, there is no need to explicitly type `print` an expression to have it printed on screen. This because a Jupyther Notebooks is a _Read-Eval-Print loop_ [(REPL)](https://en.wikipedia.org/wiki/Read%E2%80%93eval%E2%80%93print_loop) programming environment. That is, it takes single user inputs (i.e., single expressions), evaluates (executes) them, and returns the result to the user. Of course you can do it:"
   ]
  },
  {
   "cell_type": "code",
   "execution_count": 7,
   "metadata": {},
   "outputs": [
    {
     "name": "stdout",
     "output_type": "stream",
     "text": [
      "3.141592653589793\n"
     ]
    }
   ],
   "source": [
    "print(math.pi)"
   ]
  },
  {
   "cell_type": "markdown",
   "metadata": {},
   "source": [
    "# 2. Why Python is relevant in Finance? <a name=\"why_python_is_relevant_in_finance\"></a>"
   ]
  },
  {
   "cell_type": "markdown",
   "metadata": {},
   "source": [
    "# 3. Why Python is relevant for you? <a name=\"why_python_is_relevant_for_you\"></a>"
   ]
  }
 ],
 "metadata": {
  "kernelspec": {
   "display_name": "Python 3",
   "language": "python",
   "name": "python3"
  },
  "language_info": {
   "codemirror_mode": {
    "name": "ipython",
    "version": 3
   },
   "file_extension": ".py",
   "mimetype": "text/x-python",
   "name": "python",
   "nbconvert_exporter": "python",
   "pygments_lexer": "ipython3",
   "version": "3.7.4"
  }
 },
 "nbformat": 4,
 "nbformat_minor": 2
}
