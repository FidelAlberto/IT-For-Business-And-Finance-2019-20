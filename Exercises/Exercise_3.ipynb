{
 "cells": [
  {
   "cell_type": "markdown",
   "metadata": {},
   "source": [
    "# Exercise 3"
   ]
  },
  {
   "cell_type": "markdown",
   "metadata": {},
   "source": [
    "**Rules**: the following rules apply to each exercise proposed here.\n",
    "\n",
    "1) Each exercise must be completed in a differente script file (that is, a file with a .py extension), named `Ex_Sheet_1_Num_1.py`, `Ex_Sheet_1_Num_2.py`, ... and so forth.\n",
    "\n",
    "2) Each exercise must follow the template in [Scripts/template_example.py](Scripts/template_example.py). In particular it must shows:\n",
    " - a `main()` function;\n",
    " - one (or more than one, if needed) function that actually solves the exercise\n",
    " \n",
    "3) Save each exercise in a folder `Exercises` under your `Personal_Notes` folder."
   ]
  },
  {
   "cell_type": "markdown",
   "metadata": {},
   "source": [
    "---"
   ]
  },
  {
   "cell_type": "markdown",
   "metadata": {},
   "source": [
    "- **Exercise 1**: Write a Python program to add, subtract, multiple and divide two Pandas Series. Sample Series: `pd.Series([2, 4, 6, 8, 10])` and `pd.Series([1, 3, 5, 7, 9])`."
   ]
  },
  {
   "cell_type": "markdown",
   "metadata": {},
   "source": [
    "- **Exercise 2**: Write a Python program to create a subset of a given series based on value and _greater-or-equal_ condition. Test with the series of the number from 1 to 10 'squared' (that is, $1, 4, 9,...$), with value 10."
   ]
  },
  {
   "cell_type": "markdown",
   "metadata": {},
   "source": [
    "- **Exercise 3**: Write a Python program to change the indexing of a given series. Test with `pd.Series([2, 4, 6, 8, 10])` and the new index the current index squared."
   ]
  },
  {
   "cell_type": "markdown",
   "metadata": {},
   "source": [
    "- **Exercise 4**: Write a Python program to compute the mean, standard deviation, skewness and kurtosis of the data of a given Series. Test with a series of 10 normal random numbers distributed according to $\\mathcal{N}(\\mu= 10, \\sigma= 1)$. Look in the [Pandas Reference Guide](https://pandas.pydata.org/pandas-docs/stable/reference/series.html) for appropriate built-in methods."
   ]
  },
  {
   "cell_type": "markdown",
   "metadata": {},
   "source": [
    "- **Exercise 5**: Write a Python program to compute the mean and standard deviation of the data of a given Series. Test with a series of 10 log-normal random numbers distributed according to $\\ln \\mathcal{N}(\\mu= \\ln(30), \\sigma= \\ln(1.1))$. As for the exercise before, look for built-in methods to use."
   ]
  },
  {
   "cell_type": "markdown",
   "metadata": {},
   "source": [
    "# MORE EXERCISES"
   ]
  },
  {
   "cell_type": "markdown",
   "metadata": {},
   "source": [
    "You can find more exercises on Pandas Series at [https://www.w3resource.com/python-exercises/pandas/index-data-series.php](https://www.w3resource.com/python-exercises/pandas/index-data-series.php)"
   ]
  }
 ],
 "metadata": {
  "kernelspec": {
   "display_name": "Python 3",
   "language": "python",
   "name": "python3"
  },
  "language_info": {
   "codemirror_mode": {
    "name": "ipython",
    "version": 3
   },
   "file_extension": ".py",
   "mimetype": "text/x-python",
   "name": "python",
   "nbconvert_exporter": "python",
   "pygments_lexer": "ipython3",
   "version": "3.7.4"
  }
 },
 "nbformat": 4,
 "nbformat_minor": 2
}
