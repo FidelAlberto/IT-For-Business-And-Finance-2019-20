{
 "cells": [
  {
   "cell_type": "markdown",
   "metadata": {},
   "source": [
    "# Exercise 1"
   ]
  },
  {
   "cell_type": "markdown",
   "metadata": {},
   "source": [
    "**Rules**: the following rules apply to each exercise proposed here.\n",
    "\n",
    "1) Each exercise must be completed in a differente script file (that is, a file with a .py extension), named `Ex_Sheet_1_Num_1`, `Ex_Sheet_1_Num_2`, ... and so forth.\n",
    "\n",
    "2) Each exercise must follow the template in [Scripts/template_example.py](Scripts/template_example.py). In particular it must shows:\n",
    " - a `main()` function;\n",
    " - one (or more than one, if needed) function that actually solves the exercise\n",
    " \n",
    "3) Save each exercise in a folder `Exercises` under your `Personal_Notes` folder."
   ]
  },
  {
   "cell_type": "markdown",
   "metadata": {},
   "source": [
    "---"
   ]
  },
  {
   "cell_type": "markdown",
   "metadata": {},
   "source": [
    "**Example**: _Write a Python program which accepts in input the radius of a circle, computes the area and print the result._\n",
    "\n",
    "*Solution*: below is the body of the solution script (I write it here in the code cell, but you should write it as a proper script"
   ]
  },
  {
   "cell_type": "code",
   "execution_count": 9,
   "metadata": {},
   "outputs": [
    {
     "name": "stdout",
     "output_type": "stream",
     "text": [
      "Radius = 1.0 - Area = 3.141592653589793\n"
     ]
    }
   ],
   "source": [
    "\"\"\"\n",
    "Author: Gabriele Pompa\n",
    "Identification Number: ABCXYZ [substitute with your Unisi Identification Number]\n",
    "\n",
    "Date: 15-Mar-2020\n",
    "File name: circleArea.py\n",
    "\n",
    "Description: This script calculates the area of a circle, given its radius and prints the result.\n",
    "\"\"\"\n",
    "\n",
    "# List here (one for each line) all import necessary for your code to run.\n",
    "# here we need 'math' modulus to access pi constat (pi = 3.14...)\n",
    "from math import pi\n",
    "\n",
    "def circleArea(r):\n",
    "    \"\"\"\n",
    "    Function circleArea(r) calculates and returns the area of a circle of radius `r` in input.\n",
    "    \n",
    "    Parameters:\n",
    "        r (float): radius of the circle.\n",
    "    \n",
    "    Returns:\n",
    "        A (float): area of the circle.\n",
    "    \"\"\"\n",
    "    \n",
    "    A = pi * (r**2)\n",
    "    \n",
    "    return A\n",
    "\n",
    "\n",
    "def main():\n",
    "    \"\"\"\n",
    "    Function main() defines a variable radius and computes the area of a circle with that radius.\n",
    "    \n",
    "    Parameters:\n",
    "        None\n",
    "    \n",
    "    Returns:\n",
    "        None\n",
    "        \n",
    "    \"\"\"\n",
    "    \n",
    "    # radius of the circle\n",
    "    radius = 1.0\n",
    "    \n",
    "    # area of the circle\n",
    "    area = circleArea(radius)\n",
    "    \n",
    "    # Print section\n",
    "    print(\"Radius = {} - Area = {}\".format(radius, area))\n",
    "    \n",
    "\n",
    "if __name__ == \"__main__\":\n",
    "    main()"
   ]
  },
  {
   "cell_type": "markdown",
   "metadata": {},
   "source": [
    "---"
   ]
  },
  {
   "cell_type": "markdown",
   "metadata": {},
   "source": [
    "- **Exercise 1**: Write a Python program which accepts in input the perimeter of a circle (that is the length of the circumference), computes the radius and prints the result."
   ]
  },
  {
   "cell_type": "markdown",
   "metadata": {},
   "source": [
    "- **Exercise 2**: Write a Python program to find whether a given number (test with two numbers: 10 and 17) is even or odd, print out an appropriate message (e.g.: \"10 is even\"). [_Hint:_ use the `%` (modulus) operator which gives the remainder from the division of the first argument by the second]"
   ]
  },
  {
   "cell_type": "code",
   "execution_count": 10,
   "metadata": {},
   "outputs": [
    {
     "data": {
      "text/plain": [
       "0"
      ]
     },
     "execution_count": 10,
     "metadata": {},
     "output_type": "execute_result"
    }
   ],
   "source": [
    "6 % 2"
   ]
  },
  {
   "cell_type": "markdown",
   "metadata": {},
   "source": [
    "- **Exercise 3**: Write a Python program which accepts the base and height of a triangle, computes the area and prints the result."
   ]
  },
  {
   "cell_type": "markdown",
   "metadata": {},
   "source": [
    "- **Exercise 4**: Write a Python program to multiplies all the elements in a list of floats. To do that define a function `listMul(l)` that takes in input a list `l` and returns the products. Check your result with the list 'l = [10, 20, 30]'"
   ]
  },
  {
   "cell_type": "markdown",
   "metadata": {},
   "source": [
    "- **Exercise 5**: Write a Python program that verifies that the sum of the first $n$ numbers starting from 1 (1,2,...,n) is $\\frac{n(n+1)}{2}$. To do that define a function `testRes(n)` that:\n",
    "  - takes in input $n$, defines a list of the first $n$ number from 1 (_Hint:_ use list comprehension to create the string), \n",
    "  -calls function `listMul(l)` that you created for exercise 4, \n",
    "  - makes the comparison\n",
    "  - return a boolean as result of the comparison\n",
    "print a message of success \"Results tested!\" if the boolean returned by `testRes(n)` is `True`."
   ]
  },
  {
   "cell_type": "markdown",
   "metadata": {},
   "source": [
    "# MORE EXERCISES"
   ]
  },
  {
   "cell_type": "markdown",
   "metadata": {},
   "source": [
    "You can find an extensive exercise bank with solutions at [https://www.w3resource.com/python-exercises/](https://www.w3resource.com/python-exercises/). You might not be ready to solve all the exercises in there, but my suggesion is try your best, then read the solution. Reading a solution is often illuminating. "
   ]
  }
 ],
 "metadata": {
  "kernelspec": {
   "display_name": "Python 3",
   "language": "python",
   "name": "python3"
  },
  "language_info": {
   "codemirror_mode": {
    "name": "ipython",
    "version": 3
   },
   "file_extension": ".py",
   "mimetype": "text/x-python",
   "name": "python",
   "nbconvert_exporter": "python",
   "pygments_lexer": "ipython3",
   "version": "3.7.4"
  }
 },
 "nbformat": 4,
 "nbformat_minor": 2
}
