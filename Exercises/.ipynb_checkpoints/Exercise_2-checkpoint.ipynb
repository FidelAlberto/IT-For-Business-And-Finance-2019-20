{
 "cells": [
  {
   "cell_type": "markdown",
   "metadata": {},
   "source": [
    "# Exercise 2"
   ]
  },
  {
   "cell_type": "markdown",
   "metadata": {},
   "source": [
    "**Rules**: the following rules apply to each exercise proposed here.\n",
    "\n",
    "1) Each exercise must be completed in a differente script file (that is, a file with a .py extension), named `Ex_Sheet_1_Num_1.py`, `Ex_Sheet_1_Num_2.py`, ... and so forth.\n",
    "\n",
    "2) Each exercise must follow the template in [Scripts/template_example.py](Scripts/template_example.py). In particular it must shows:\n",
    " - a `main()` function;\n",
    " - one (or more than one, if needed) function that actually solves the exercise\n",
    " \n",
    "3) Save each exercise in a folder `Exercises` under your `Personal_Notes` folder."
   ]
  },
  {
   "cell_type": "markdown",
   "metadata": {},
   "source": [
    "---"
   ]
  },
  {
   "cell_type": "markdown",
   "metadata": {},
   "source": [
    "- **Exercise 1**: re-do Exercise 4 from [Sheet 1](https://github.com/gabrielepompa88/IT-For-Business-And-Finance-2019-20/blob/master/Exercises/Exercise_2.ipynb) using NumPy arrays instead of Lists. In particular, you will define a function `arrayMul(arr)` that takes in input an array `arr` and returns the products. Check your result with the array `a = np.array([10, 20, 30])`."
   ]
  },
  {
   "cell_type": "markdown",
   "metadata": {},
   "source": [
    " - **Exercise 2**: write a Python program to create an array of 5 integers (say 17, 5, -10, 8, -2) and print each index together with the corresponding array value using a `for` loop over the array. [ _Hint:_ `enumerate()` on rescue...] "
   ]
  },
  {
   "cell_type": "markdown",
   "metadata": {},
   "source": [
    "- **Exercise 3**: write a NumPy program to create 3 arrays: the first made of 10 zeros, the second made of 10 ones and the last one made of 10 fives. Use placeholder functions to define the arrays."
   ]
  },
  {
   "cell_type": "markdown",
   "metadata": {},
   "source": [
    "- **Exercise 4**: write a NumPy program to create an array of the integers from 30 to 70"
   ]
  },
  {
   "cell_type": "markdown",
   "metadata": {},
   "source": [
    "- **Exercise 5**: `np.eye((n,m))` is placeholder function which defines a matrix $n \\times m$ filled with ones on the diagonal and zeros otherwise. First, write a NumPy program to create a $3 \\times 3$ identity matrix and call it `I`. Then, summing `I` with another appropriate matrix, create a $3 \\times 3$ matrix filled with $2$ on the diagonal and $1$ otherwise."
   ]
  },
  {
   "cell_type": "markdown",
   "metadata": {},
   "source": [
    "- **Exercise 6**: write a NumPy program to create a vector with values from 0 to 20 and change the sign of the numbers in the range from 9 to 15."
   ]
  },
  {
   "cell_type": "markdown",
   "metadata": {},
   "source": [
    "- **Exercise 7**: write a NumPy program to create a $4 \\times 4$ matrix with zeros on the main diagonal and ones otherwise."
   ]
  },
  {
   "cell_type": "markdown",
   "metadata": {},
   "source": [
    "# MORE EXERCISES"
   ]
  },
  {
   "cell_type": "markdown",
   "metadata": {},
   "source": [
    "You can find more exercises on NumPy arrays at [https://www.w3resource.com/python-exercises/numpy/basic/index.php](https://www.w3resource.com/python-exercises/numpy/basic/index.php)"
   ]
  }
 ],
 "metadata": {
  "kernelspec": {
   "display_name": "Python 3",
   "language": "python",
   "name": "python3"
  },
  "language_info": {
   "codemirror_mode": {
    "name": "ipython",
    "version": 3
   },
   "file_extension": ".py",
   "mimetype": "text/x-python",
   "name": "python",
   "nbconvert_exporter": "python",
   "pygments_lexer": "ipython3",
   "version": "3.7.4"
  }
 },
 "nbformat": 4,
 "nbformat_minor": 2
}
