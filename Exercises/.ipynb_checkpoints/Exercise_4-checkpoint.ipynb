{
 "cells": [
  {
   "cell_type": "markdown",
   "metadata": {},
   "source": [
    "# Exercise 4"
   ]
  },
  {
   "cell_type": "markdown",
   "metadata": {},
   "source": [
    "**Rules**: the following rules apply to each exercise proposed here.\n",
    "\n",
    "1) Each exercise must be completed in a differente script file (that is, a file with a .py extension), named `Ex_Sheet_1_Num_1.py`, `Ex_Sheet_1_Num_2.py`, ... and so forth.\n",
    "\n",
    "2) Each exercise must follow the template in [Scripts/template_example.py](Scripts/template_example.py). In particular it must shows:\n",
    " - a `main()` function;\n",
    " - one (or more than one, if needed) function that actually solves the exercise\n",
    " \n",
    "3) Save each exercise in a folder `Exercises` under your `Personal_Notes` folder."
   ]
  },
  {
   "cell_type": "markdown",
   "metadata": {},
   "source": [
    "---"
   ]
  },
  {
   "cell_type": "markdown",
   "metadata": {},
   "source": [
    "- **Exercise 1**: Write a Python program that, given the $4 \\times 4$ Pandas DataFrame `df_magic` below, adds: \n",
    "\n",
    "    - each row,\n",
    "    - each column,\n",
    "    - the elements on the main diagonal (from top left to bottom right)\n",
    "    - the elements on the other diagonal (from top right to bottom left).\n",
    "\n",
    "Use Pandas built-in methods or NumPy universal functions whenever you can [ _Hint:_ NumPy's universal functions [`np.diag()`](https://docs.scipy.org/doc/numpy/reference/generated/numpy.diag.html) and [`np.fliplr()`](https://docs.scipy.org/doc/numpy/reference/generated/numpy.fliplr.html) can save you from a headache here...]"
   ]
  },
  {
   "cell_type": "code",
   "execution_count": 1,
   "metadata": {},
   "outputs": [
    {
     "data": {
      "text/html": [
       "<div>\n",
       "<style scoped>\n",
       "    .dataframe tbody tr th:only-of-type {\n",
       "        vertical-align: middle;\n",
       "    }\n",
       "\n",
       "    .dataframe tbody tr th {\n",
       "        vertical-align: top;\n",
       "    }\n",
       "\n",
       "    .dataframe thead th {\n",
       "        text-align: right;\n",
       "    }\n",
       "</style>\n",
       "<table border=\"1\" class=\"dataframe\">\n",
       "  <thead>\n",
       "    <tr style=\"text-align: right;\">\n",
       "      <th></th>\n",
       "      <th>Col_1</th>\n",
       "      <th>Col_2</th>\n",
       "      <th>Col_3</th>\n",
       "      <th>Col_4</th>\n",
       "    </tr>\n",
       "  </thead>\n",
       "  <tbody>\n",
       "    <tr>\n",
       "      <td>Row_1</td>\n",
       "      <td>7</td>\n",
       "      <td>12</td>\n",
       "      <td>1</td>\n",
       "      <td>14</td>\n",
       "    </tr>\n",
       "    <tr>\n",
       "      <td>Row_2</td>\n",
       "      <td>2</td>\n",
       "      <td>13</td>\n",
       "      <td>8</td>\n",
       "      <td>11</td>\n",
       "    </tr>\n",
       "    <tr>\n",
       "      <td>Row_3</td>\n",
       "      <td>16</td>\n",
       "      <td>3</td>\n",
       "      <td>10</td>\n",
       "      <td>5</td>\n",
       "    </tr>\n",
       "    <tr>\n",
       "      <td>Row_4</td>\n",
       "      <td>9</td>\n",
       "      <td>6</td>\n",
       "      <td>15</td>\n",
       "      <td>4</td>\n",
       "    </tr>\n",
       "  </tbody>\n",
       "</table>\n",
       "</div>"
      ],
      "text/plain": [
       "       Col_1  Col_2  Col_3  Col_4\n",
       "Row_1      7     12      1     14\n",
       "Row_2      2     13      8     11\n",
       "Row_3     16      3     10      5\n",
       "Row_4      9      6     15      4"
      ]
     },
     "execution_count": 1,
     "metadata": {},
     "output_type": "execute_result"
    }
   ],
   "source": [
    "import numpy as np\n",
    "import pandas as pd\n",
    "\n",
    "magic_matrix = np.array([[7, 12, 1, 14], [2, 13, 8, 11], [16, 3, 10 , 5], [9, 6, 15, 4]])\n",
    "\n",
    "df_magic = pd.DataFrame(data=magic_matrix, \n",
    "                       index=['Row_' + str(i) for i in range(1,5)],\n",
    "                       columns=['Col_' + str(i) for i in range(1,5)])\n",
    "\n",
    "df_magic"
   ]
  },
  {
   "cell_type": "markdown",
   "metadata": {},
   "source": [
    "- **Exercise 2**: Write a Python program to filter rows of a given DataFrame based on value and _smaller-or-equal_ condition applied to the first column. Then, for the same rows filtered, select second and last columns. Test with the `df_decimal` DataFrame defined in notebook [**Data_Analysis___Introduction_to_Pandas.ipynb**](https://github.com/gabrielepompa88/IT-For-Business-And-Finance-2019-20/blob/master/Notebooks/Data_Analysis___Introduction_to_Pandas.ipynb) and value 1.5."
   ]
  },
  {
   "cell_type": "markdown",
   "metadata": {},
   "source": [
    "- **Exercise 3**: Write a Python program to change the indexing of a given DataFrame. Test with `df` DataFrame defined in notebook [**Data_Analysis___Introduction_to_Pandas.ipynb**](https://github.com/gabrielepompa88/IT-For-Business-And-Finance-2019-20/blob/master/Notebooks/Data_Analysis___Introduction_to_Pandas.ipynb) and change to indexes starting June 1st 1988 (my birthday, btw :D ) and calendar day frequency ( _Hint:_ check [`pd.date_range()`](https://pandas.pydata.org/pandas-docs/stable/reference/api/pandas.date_range.html) definition or class textbook for appropriate `freq` label). "
   ]
  },
  {
   "cell_type": "markdown",
   "metadata": {},
   "source": [
    "- **Exercise 4**: Define a DataFrame of two columns and $10^5$ numbers per column. The first column, labelled `'X'`, is made of log-normal i.i.d. random numbers generated according to the following first two moments of the underlying normal distribution: mean $\\mu = 0.1$ and $\\sigma = 1.1$ of the underlying normal distribution. The second column, labelled `'Y = ln(X)'`, is computed as the (elementwise) natural logarithm of column `'X'`. Compute mean and standard deviation of column `'Y = ln(X)'` using Pandas built-in methods and verify that they approximately match $\\mu = 0.1$ and $\\sigma = 1.1$, respectively. Finally, produce two histograms, one for each column. [_Hint:_ we have seen how generate i.i.d. log-normal random numbers using NumPy function [`np.random.lognormal()`](https://docs.scipy.org/doc/numpy-1.14.0/reference/generated/numpy.random.lognormal.html) in the notebook [**Data_Analysis___Introduction_to_Pandas.ipynb**](https://github.com/gabrielepompa88/IT-For-Business-And-Finance-2019-20/blob/master/Notebooks/Data_Analysis___Introduction_to_Pandas.ipynb). Check built-in Pandas [method `.hist()`](https://pandas.pydata.org/pandas-docs/stable/reference/api/pandas.DataFrame.hist.html) to produce histograms]."
   ]
  },
  {
   "cell_type": "markdown",
   "metadata": {},
   "source": [
    "# MORE EXERCISES"
   ]
  },
  {
   "cell_type": "markdown",
   "metadata": {},
   "source": [
    "You can find more exercises on Pandas DataFrames at [https://www.w3resource.com/python-exercises/pandas/index-dataframe.php)"
   ]
  }
 ],
 "metadata": {
  "kernelspec": {
   "display_name": "Python 3",
   "language": "python",
   "name": "python3"
  },
  "language_info": {
   "codemirror_mode": {
    "name": "ipython",
    "version": 3
   },
   "file_extension": ".py",
   "mimetype": "text/x-python",
   "name": "python",
   "nbconvert_exporter": "python",
   "pygments_lexer": "ipython3",
   "version": "3.7.4"
  }
 },
 "nbformat": 4,
 "nbformat_minor": 2
}
